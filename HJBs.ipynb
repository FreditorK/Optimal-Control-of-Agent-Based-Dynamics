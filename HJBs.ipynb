{
 "cells": [
  {
   "cell_type": "markdown",
   "id": "touched-format",
   "metadata": {},
   "source": [
    "# Solving-Hamilton-Jacobi-Bellman Equations\n",
    "#### Frederik Kelbel, Imperial College London"
   ]
  },
  {
   "cell_type": "markdown",
   "id": "behavioral-manufacturer",
   "metadata": {},
   "source": [
    "## Dependencies"
   ]
  },
  {
   "cell_type": "code",
   "execution_count": 1,
   "id": "traditional-description",
   "metadata": {},
   "outputs": [],
   "source": [
    "import torch\n",
    "import plotly.graph_objects as go\n",
    "import numpy as np\n",
    "from operators import div, Δ, D, mdotb, bdotm, mdotm, bdotb\n",
    "from DGM import DGMSolver, DGMPIASolver\n",
    "from pdes import HBJ\n",
    "from scipy.integrate import quad\n",
    "from plotly.subplots import make_subplots\n",
    "from configs import CONFIG_HBJS as MODEL_CONFIG\n",
    "from itertools import product"
   ]
  },
  {
   "cell_type": "markdown",
   "id": "endangered-stanford",
   "metadata": {},
   "source": [
    "## Plotting"
   ]
  },
  {
   "cell_type": "code",
   "execution_count": 2,
   "id": "employed-cooler",
   "metadata": {},
   "outputs": [],
   "source": [
    "def plot_losses(losses, avg_over=10):\n",
    "    avgs_1 = np.convolve(losses[:, 0], np.ones(avg_over), 'valid') / avg_over\n",
    "    avgs_2 = np.convolve(losses[:, 1], np.ones(avg_over), 'valid') / avg_over\n",
    "    fig = make_subplots(rows=1, cols=1)\n",
    "    fig.add_trace(go.Scatter(x=np.arange(len(avgs_1)), y=avgs_1, mode='lines', name=\"Value Loss\"), row=1, col=1)\n",
    "    fig.add_trace(go.Scatter(x=np.arange(len(avgs_2)), y=avgs_2, mode='lines', name=\"Control Loss\"), row=1, col=1)\n",
    "    fig.update_layout(\n",
    "        title=\"Loss\",\n",
    "        xaxis_title=\"Iterations\",\n",
    "        yaxis_title=\"Loss\",\n",
    "        font=dict(\n",
    "            family=\"Courier New, monospace\",\n",
    "            size=14\n",
    "        )\n",
    "    )\n",
    "    fig.show()\n",
    "    \n",
    "def plot_value(solver, sol):\n",
    "    fig = make_subplots(rows=1, cols=2, \n",
    "                   specs=[[{'type': 'surface'}, {'type': 'surface'}]])\n",
    "    xs = np.linspace(0, 1, 100)\n",
    "    ts = np.linspace(0.01, 1, 100)\n",
    "    us_pred = np.array([[solver(x, t).item() for x in xs] for t in ts])\n",
    "    us = np.array([[sol(x, t) for x in xs] for t in ts])\n",
    "    fig.add_trace(go.Surface(z=us, showscale=False), row=1, col=1)\n",
    "    fig.add_trace(go.Surface(z=us_pred), row=1, col=2)\n",
    "    fig.update_layout(title='Solution | Approximation',\n",
    "                  scene = dict(\n",
    "                    xaxis_title=\"t\",\n",
    "                    yaxis_title=\"x\",\n",
    "                    zaxis_title=\"J(x, t\"),\n",
    "                  scene2 = dict(\n",
    "                    xaxis_title=\"t\",\n",
    "                    yaxis_title=\"x\",\n",
    "                    zaxis_title=\"J(x, t)\"),\n",
    "                  margin=dict(l=50, r=50, b=50, t=50))\n",
    "    fig.show()"
   ]
  },
  {
   "cell_type": "markdown",
   "id": "friendly-morrison",
   "metadata": {},
   "source": [
    "## Problem Formulation"
   ]
  },
  {
   "cell_type": "markdown",
   "id": "massive-details",
   "metadata": {},
   "source": [
    "Objective: Find the control process $u = (u_t)_{t \\geq 0}$ in admissable set $\\mathcal{A}$ for an Itô Process $X^u = (X_t^u)_{t \\geq 0}$ satisfying:\n"
   ]
  },
  {
   "cell_type": "markdown",
   "id": "analyzed-findings",
   "metadata": {},
   "source": [
    "$$\n",
    "d X_t^u = \\mu(t, X_t^u, u_t) dt + \\sigma(t, X_t^u, u_t) d W_t, \\quad X_0^u = 0.\n",
    "$$"
   ]
  },
  {
   "cell_type": "markdown",
   "id": "atmospheric-circus",
   "metadata": {},
   "source": [
    "We will consider the HBJ-Equations in their primal form."
   ]
  },
  {
   "cell_type": "markdown",
   "id": "controlling-chaos",
   "metadata": {},
   "source": [
    "The agents performance is assessed via:\n",
    "$$\n",
    "J^u(t, x) = \\mathbb{E}\\Big[ \\int_t^T F(s, X_s^u, u_s) ds + G(X_T^u) \\;\\Big|\\; X_t^u = x \\Big]\n",
    "$$"
   ]
  },
  {
   "cell_type": "markdown",
   "id": "fifteen-partner",
   "metadata": {},
   "source": [
    "Denote $J(t, x) = \\sup_{u \\in \\mathcal{A}} J^u(t, x)$, then this value function satisfies the following HJB-equations:"
   ]
  },
  {
   "cell_type": "markdown",
   "id": "magnetic-philadelphia",
   "metadata": {},
   "source": [
    "$$\n",
    "\\begin{cases}\n",
    "\\partial_t J(t, x) + \\sup_{u \\in \\mathcal{A}} \\{\\mathscr{L}^u_t J(t, x) + F(t, x, u)\\} = 0 \\\\\n",
    "J(T, x) = G(x)\n",
    "\\end{cases}\n",
    "$$"
   ]
  },
  {
   "cell_type": "markdown",
   "id": "supreme-superintendent",
   "metadata": {},
   "source": [
    "### The Merton Problem (Wealth Allocation Problem)"
   ]
  },
  {
   "cell_type": "markdown",
   "id": "recovered-vaccine",
   "metadata": {},
   "source": [
    "The goal is to find the optimal wealth allocation strategy over time such that the wealth itself is maximized."
   ]
  },
  {
   "cell_type": "markdown",
   "id": "weighted-anthropology",
   "metadata": {},
   "source": [
    "Consider a market with a risky and risk-free asset. Suppose the value of the risk-free asset at time $t$ is given by $\\frac{d B_t}{B_t} = r dt$ or $B_t = B_0 e^{rt}, t\\geq 0$. Additionally, we have that the risky asset evolves accordingly to $\\frac{d S_t}{S_t} = \\mu dt + \\sigma dW_t$, where $\\{W_t\\}_{t\\geq 0}$ is a standard one-dimensional Brownian motion."
   ]
  },
  {
   "cell_type": "markdown",
   "id": "governing-segment",
   "metadata": {},
   "source": [
    "The wealth can then be described by\n",
    "$$\n",
    "X_t= x + \\int_0^t v_s \\frac{dS_s}{S_s} + \\int_0^t(X_s-v_s)\\frac{dB_s}{B_s},\n",
    "$$\n",
    "where $v_t = u_t X_t$ describes the amount of the wealth to be have invested into the risky asset at time $t$. $u_t$ is the fraction of wealth invested in the risky asset."
   ]
  },
  {
   "cell_type": "markdown",
   "id": "demanding-makeup",
   "metadata": {},
   "source": [
    "Let $(\\Omega, \\mathcal{F}, \\{\\mathcal{F}_t\\}_{t\\in [0, T]}, \\mathbb{P})$ be a filtered probability space. The evolution of an investor's wealth is described via\n",
    "$$\n",
    "\\begin{cases}\n",
    "dX_s = ((\\mu -r)u_s + r)X_s ds + \\sigma u_s X_s dW_s, \\; s \\in [0, T] \\\\\n",
    "X_0 = x > 0\n",
    "\\end{cases},\n",
    "$$"
   ]
  },
  {
   "cell_type": "markdown",
   "id": "viral-examination",
   "metadata": {},
   "source": [
    "with $\\mu>r$ and $\\sigma>0$ referring to drift and volatility, respectively. Let $r>0$ denote the discount rate, i.e. the depreciation constant. The intend is to maximise the objective\n",
    "$$\n",
    "J^u(t, X_t) = \\mathbb{E}[ x^\\gamma ], \\; \\gamma \\in(0, 1).\n",
    "$$"
   ]
  },
  {
   "cell_type": "markdown",
   "id": "rural-candy",
   "metadata": {},
   "source": [
    "The respective HBJ-equation becomes:"
   ]
  },
  {
   "cell_type": "markdown",
   "id": "frequent-floor",
   "metadata": {},
   "source": [
    "$$\n",
    "\\begin{cases}\n",
    "\\partial_t J(t, x) + \\sup_{u} \\Big\\{ ((\\mu-r)u + r)x \\partial_x J(t, x) + \\frac{1}{2} \\sigma^2 u^2 x^2\\partial_{xx} J(t, x) \\Big\\} = 0 \\text{ on $[0, T] \\times (0, \\infty)$}\n",
    "\\\\\n",
    "J(T, x) = x^\\gamma \\text{ $\\forall x > 0$}\n",
    "\\end{cases}\n",
    "$$"
   ]
  },
  {
   "cell_type": "markdown",
   "id": "spread-region",
   "metadata": {},
   "source": [
    "#### Analytical Solution (Oksendal):"
   ]
  },
  {
   "cell_type": "markdown",
   "id": "precise-penny",
   "metadata": {},
   "source": [
    "Assume $J(t, x) = w(t) v(x)$, with $J(T, x) = w(T) v(x) = x^\\gamma$. We guess $J(t, x) = w(t) x^\\gamma$, where $w(T)=1$. The problem becomes \n",
    "$$\n",
    "\\begin{cases}\n",
    "w'(t) + \\gamma  \\sup_{u} \\Big\\{ (\\mu-r) u + r + \\frac{1}{2} \\sigma^2 u^2 (\\gamma-1) \\Big\\}w(t) = 0\n",
    "\\\\\n",
    "w(T) = x^\\gamma\n",
    "\\end{cases}.\n",
    "$$"
   ]
  },
  {
   "cell_type": "markdown",
   "id": "noticed-opening",
   "metadata": {},
   "source": [
    "Then, $u$ is maximised for $u^* = \\frac{\\mu-r}{\\sigma^2 (1-\\gamma)}$ and the equation becomes\n",
    "$$\n",
    "\\begin{cases}\n",
    "w'(t) + \\frac{\\gamma (\\mu-r)^2}{\\sigma^2(2-2\\gamma)}w(t) = 0\n",
    "\\\\\n",
    "w(T) = x^\\gamma\n",
    "\\end{cases}.\n",
    "$$\n",
    "Thus, we have  $w'(t) = \\frac{\\gamma (\\mu-r)^2}{\\sigma^2(2\\gamma - 2)}w(t)$. It follows that $w(t) = \\exp\\big(\\frac{\\gamma (\\mu-r)^2}{\\sigma^2(2\\gamma - 2)}t\\big)$. The final solution is:\n",
    "$$\n",
    "J(t, x) = w(t)v(x) = \\exp\\big(\\frac{\\gamma (\\mu-r)^2}{\\sigma^2(2\\gamma - 2)}t\\big) x^\\gamma.\n",
    "$$"
   ]
  },
  {
   "cell_type": "markdown",
   "id": "bridal-needle",
   "metadata": {},
   "source": [
    "We need to verify this using the HBJ-verification theorem."
   ]
  },
  {
   "cell_type": "code",
   "execution_count": null,
   "id": "distinct-roberts",
   "metadata": {},
   "outputs": [],
   "source": [
    "class RISKY_ASSET(HBJ):\n",
    "    def __init__(self):\n",
    "        super().__init__()\n",
    "        self.μ = 0.04\n",
    "        self.σ = 0.4\n",
    "        self.r = 0.03\n",
    "        self.γ = 0.5\n",
    "        \n",
    "        def terminal_func(var):\n",
    "            var[-1] = 0*var[-1] + 1\n",
    "            return var\n",
    "        \n",
    "        self.var_dim_J = 2 # (x, t)\n",
    "        self.control_vars = [1] # (t)\n",
    "        self.cost_function = lambda u, var: 0\n",
    "        self.differential_operator = lambda J, u, var: ((self.μ-self.r)*u+self.r)*var[0]*div(J, var[0]) + 0.5*self.σ**2*u**2*var[0]**2*Δ(J, var[0])\n",
    "        self.domain_func = [(lambda var: var, 128)]\n",
    "        self.boundary_cond_J = [lambda J, var: J - var[0]**self.γ]\n",
    "        self.boundary_func_J = [(lambda var: terminal_func(var), 128)]\n",
    "        self.boundary_cond_u = [lambda u, var: torch.clamp(u, min=1) - torch.clamp(u, max=-1) - 2]\n",
    "        self.boundary_func_u = [(lambda var: var, 64)]"
   ]
  },
  {
   "cell_type": "code",
   "execution_count": null,
   "id": "given-process",
   "metadata": {},
   "outputs": [],
   "source": [
    "eq = RISKY_ASSET()\n",
    "model = MODEL_CONFIG\n",
    "solver = DGMPIASolver(model, eq)\n",
    "loss = np.array(list(solver.train(800)))\n",
    "plot_losses(loss)"
   ]
  },
  {
   "cell_type": "code",
   "execution_count": null,
   "id": "norman-supplement",
   "metadata": {},
   "outputs": [],
   "source": [
    "u_sol = lambda t : (eq.μ-eq.r)/(eq.σ**2*(1-eq.γ))\n",
    "J_sol = lambda x, t: x**eq.γ * np.exp((eq.γ*(eq.μ-eq.r)**2)/(eq.σ**2*(2*eq.γ-2))*t)"
   ]
  },
  {
   "cell_type": "code",
   "execution_count": null,
   "id": "varied-universal",
   "metadata": {},
   "outputs": [],
   "source": [
    "fig = make_subplots(rows=1, cols=1)\n",
    "eval_points = np.linspace(0, 1, 100)\n",
    "fig.add_trace(go.Scatter(x=eval_points, y=[solver.u(p)[0] for p in eval_points], mode='lines', name=\"Optimal Control\"), row=1, col=1)\n",
    "fig.add_trace(go.Scatter(x=eval_points, y=[u_sol(p) for p in eval_points], mode='lines', name=\"Optimal Control Solution\"), row=1, col=1)\n",
    "fig.update_layout(\n",
    "    title=\"Solutions\",\n",
    "    xaxis_title=\"Time\",\n",
    "    yaxis_title=\"Control Signal\",\n",
    "    yaxis_range=[0, 1],\n",
    "    font=dict(\n",
    "        family=\"Courier New, monospace\",\n",
    "        size=14\n",
    "    )\n",
    ")\n",
    "fig.show()"
   ]
  },
  {
   "cell_type": "code",
   "execution_count": null,
   "id": "cardiovascular-label",
   "metadata": {},
   "outputs": [],
   "source": [
    "plot_value(solver.J, J_sol)"
   ]
  },
  {
   "cell_type": "markdown",
   "id": "ecological-zoning",
   "metadata": {},
   "source": [
    "### Linear-quadratic control problem 1-dimensional (Riccati Equation) "
   ]
  },
  {
   "cell_type": "markdown",
   "id": "judicial-wrong",
   "metadata": {},
   "source": [
    "Let $(\\Omega, \\mathcal{F}, \\{\\mathcal{F}_t\\}_{t\\in [0, T]}, \\mathbb{P})$. We consider\n",
    "$$\n",
    "\\begin{cases}\n",
    "dX_s = [H_sX_s + M_s u_s] ds + \\sigma_s dW_s, \\; s \\in [0, T] \\\\\n",
    "X_0 = x > 0\n",
    "\\end{cases},\n",
    "$$"
   ]
  },
  {
   "cell_type": "markdown",
   "id": "loose-short",
   "metadata": {},
   "source": [
    "We aim to maximise\n",
    "$$\n",
    "J^u(t, x) := \\mathbb{E}^{t, x} \\Big[ \\int_t^T X_s^T C_s X_s + u_s^T D_s u_s ds + X_T^T R X_T\\Big],\n",
    "$$\n",
    "with $C(t) = C \\leq 0, R \\leq 0$, and $D=D(t) < -\\delta < 0$ given and deterministic ($\\delta > 0$ some constant)."
   ]
  },
  {
   "cell_type": "markdown",
   "id": "distributed-queens",
   "metadata": {},
   "source": [
    "We write down the problem in its primal form as\n",
    "$$\n",
    "\\begin{cases}\n",
    "\\partial_t J(t, x) + \\sup_{u} \\Big\\{ \\frac{1}{2} \\sigma^2 \\partial_{xx} J(t, x) + [H x + M u] \\partial_x J(t, x) + C x^2 + D u^2 \\Big\\} = 0 \\text{ on $[0, T] \\times (0, \\infty)$}\n",
    "\\\\\n",
    "J(T, x) = Rx^2 \\text{ $\\forall x \\in \\mathbb{R}$}\n",
    "\\end{cases}\n",
    "$$"
   ]
  },
  {
   "cell_type": "markdown",
   "id": "stone-motel",
   "metadata": {},
   "source": [
    "#### Analytical Solution (Oksendal):"
   ]
  },
  {
   "cell_type": "markdown",
   "id": "emotional-banner",
   "metadata": {},
   "source": [
    "As $J(T, x) = Rx^2$, we assume the form $J(T, x) = S(t) x^2 + b(t)$ for some differentibale $S$ and $b$. The problem can be reformulated as\n",
    "$$\n",
    "\\begin{cases}\n",
    "S'(t)x^2 + b'(t) + \\sigma^2 S(t) + 2HS(t)x^2 + C x^2 + \\sup_{u} \\Big\\{ 2MS(t) u x + D u^2 \\Big\\} = 0 \\text{ on $[0, T] \\times (0, \\infty)$}\n",
    "\\\\\n",
    "S(T) = R, b(t)=0 \\text{ $\\forall x \\in \\mathbb{R}$}\n",
    "\\end{cases}\n",
    "$$"
   ]
  },
  {
   "cell_type": "markdown",
   "id": "uniform-cooling",
   "metadata": {},
   "source": [
    "We see that for fixed $t$ and $x$, we have $u^*=u^*(t, x)=-D^{-1} MS(t) x$. As a consequence, we can transform the problem to be gives as\n",
    "$$\n",
    "\\begin{cases}\n",
    "[S'(t) + 2HS(t) + C - D^{-1} M^2S^2(t)]x^2 + b'(t) + \\sigma^2 S(t) = 0 \\text{ on $[0, T] \\times (0, \\infty)$}\n",
    "\\\\\n",
    "S(T) = R, b(t)=0 \\text{ $\\forall x \\in \\mathbb{R}$}\n",
    "\\end{cases}\n",
    "$$"
   ]
  },
  {
   "cell_type": "markdown",
   "id": "ranking-exposure",
   "metadata": {},
   "source": [
    "The problem is satisfied if\n",
    "$$\n",
    "S'(t)= D^{-1} M^2S^2(t) - C - 2HS(t), \\; S(T)=R \\; \\text{(Riccati Equation)}\n",
    "$$\n",
    "$$\n",
    "b'(t)= -\\sigma^2 S(t), \\; b(T)=0\n",
    "$$"
   ]
  },
  {
   "cell_type": "markdown",
   "id": "pretty-macintosh",
   "metadata": {},
   "source": [
    "It follows that $b(t)=  \\sigma^2 \\int_t^T S(r) dr$, while the Riccati Equation has a unique solution."
   ]
  },
  {
   "cell_type": "code",
   "execution_count": null,
   "id": "familiar-wrong",
   "metadata": {},
   "outputs": [],
   "source": [
    "class LQR(HBJ):\n",
    "    def __init__(self):\n",
    "        super().__init__()\n",
    "        self.H = 1.0\n",
    "        self.M = 1.2\n",
    "        self.C = -1.0\n",
    "        self.R = -1.5\n",
    "        self.D = -0.05\n",
    "        self.σ = 0.0\n",
    "        \n",
    "        self.var_dim_J = 2 # (x, t)\n",
    "        self.control_vars = [0, 1]\n",
    "        self.cost_function = lambda u, var: self.C*var[0]**2 + self.D*u**2\n",
    "        self.differential_operator = lambda J, u, var: (self.H*var[0] + self.M*u)*div(J, var[0]) + (1/2)*self.σ**2*Δ(J, var[0])\n",
    "        self.domain_func = [(lambda var: [var[0]*2-1, var[1]], 128)]\n",
    "        self.boundary_cond_J = [lambda J, var: J - self.R*var[0]**2]\n",
    "        self.boundary_func_J = [(lambda var: [var[0]*2-1, var[1]*0 + 1], 64)]"
   ]
  },
  {
   "cell_type": "code",
   "execution_count": null,
   "id": "arranged-example",
   "metadata": {},
   "outputs": [],
   "source": [
    "LQR_MODEL_CONFIG = {\n",
    "    \"hidden_dim\": 128,\n",
    "    \"learning_rate\": 5e-3,\n",
    "    \"loss_weights\": (1, 1),\n",
    "    \"lr_decay\": 0.99,\n",
    "    \"sampling_method\": \"uniform\",\n",
    "    \"network_type\": \"GRU\",\n",
    "    \"optimiser\": \"Adam\"\n",
    "}\n",
    "eq = LQR()\n",
    "model = LQR_MODEL_CONFIG\n",
    "solver = DGMPIASolver(model, eq)\n",
    "loss = np.array(list(solver.train(800)))\n",
    "plot_losses(loss)"
   ]
  },
  {
   "cell_type": "markdown",
   "id": "coordinate-communist",
   "metadata": {},
   "source": [
    "#### Control function approximation:"
   ]
  },
  {
   "cell_type": "code",
   "execution_count": null,
   "id": "blond-administration",
   "metadata": {},
   "outputs": [],
   "source": [
    "fig = make_subplots(rows=1, cols=1, specs=[[{'type': 'surface'}]])\n",
    "xs = np.linspace(-3, 3, 100)\n",
    "ts = np.linspace(0, 1, 100)\n",
    "us_pred = np.array([[solver.u(x, t).item() for x in xs] for t in ts])\n",
    "fig.add_trace(go.Surface(z=us_pred), row=1, col=1)\n",
    "fig.update_layout(title='Approximation',\n",
    "                  scene = dict(\n",
    "                      xaxis_title=\"t\",\n",
    "                      yaxis_title=\"x\",\n",
    "                      zaxis_title=\"u(x, t\"),\n",
    "                  margin=dict(l=50, r=50, b=50, t=50))\n",
    "fig.show()"
   ]
  },
  {
   "cell_type": "markdown",
   "id": "defined-restaurant",
   "metadata": {},
   "source": [
    "#### Value function approximation:"
   ]
  },
  {
   "cell_type": "code",
   "execution_count": null,
   "id": "judicial-berlin",
   "metadata": {},
   "outputs": [],
   "source": [
    "fig = make_subplots(rows=1, cols=1, specs=[[{'type': 'surface'}]])\n",
    "xs = np.linspace(-3, 3, 100)\n",
    "ts = np.linspace(0, 1, 100)\n",
    "us_pred = np.array([[solver.J(x, t).item() for x in xs] for t in ts])\n",
    "fig.add_trace(go.Surface(z=us_pred), row=1, col=1)\n",
    "fig.update_layout(title='Solution | Approximation',\n",
    "                  scene = dict(\n",
    "                    xaxis_title=\"t\",\n",
    "                    yaxis_title=\"x\",\n",
    "                    zaxis_title=\"J(x, t\"),\n",
    "                  scene2 = dict(\n",
    "                    xaxis_title=\"t\",\n",
    "                    yaxis_title=\"x\",\n",
    "                    zaxis_title=\"J(x, t)\"),\n",
    "                  margin=dict(l=50, r=50, b=50, t=50))\n",
    "fig.show()"
   ]
  },
  {
   "cell_type": "markdown",
   "id": "golden-static",
   "metadata": {},
   "source": [
    "#### Simulating the Process:"
   ]
  },
  {
   "cell_type": "markdown",
   "id": "dressed-train",
   "metadata": {},
   "source": [
    "Let $(\\Omega, \\mathcal{F}, \\{\\mathcal{F}_t\\}_{t\\in [0, T]}, \\mathbb{P})$. We consider\n",
    "$$\n",
    "\\begin{cases}\n",
    "dX_s = [H_s X_s + M_s u_s] ds + \\sigma_s dW_s, \\; s \\in [0, T] \\\\\n",
    "X_0 = x > 0\n",
    "\\end{cases},\n",
    "$$"
   ]
  },
  {
   "cell_type": "code",
   "execution_count": null,
   "id": "plain-license",
   "metadata": {},
   "outputs": [],
   "source": [
    "n = 50\n",
    "c_xs = np.zeros(n)\n",
    "c_xs[0] = 0.75\n",
    "uc_xs = np.zeros(n)\n",
    "uc_xs[0] = 0.75\n",
    "dt = 1/n\n",
    "ts = [t for t in np.linspace(0, 1, n)]\n",
    "c_cum_cost = np.zeros(n)\n",
    "uc_cum_cost = np.zeros(n)\n",
    "for i in range(n-1):\n",
    "    dW = np.sqrt(dt)*np.random.randn()\n",
    "    c = solver.u(c_xs[i], i*dt).item()\n",
    "    uc = np.random.rand()-0.5\n",
    "    c_xs[i+1] = c_xs[i] + (eq.H*c_xs[i] + eq.M*c)*dt + eq.σ*dW\n",
    "    uc_xs[i+1] = uc_xs[i] + (eq.H*uc_xs[i] + eq.M*uc)*dt + eq.σ*dW\n",
    "    c_cum_cost[i+1] = c_cum_cost[i] + eq.C*c_xs[i]**2 + eq.D*c**2\n",
    "    uc_cum_cost[i+1] = uc_cum_cost[i] + eq.C*uc_xs[i]**2 + eq.D*uc**2\n",
    "\n",
    "c_cum_cost[-1] = c_cum_cost[-2] + eq.R*c_xs[-1]**2\n",
    "uc_cum_cost[-1] = uc_cum_cost[-2] + eq.R*uc_xs[-1]**2\n",
    "    \n",
    "fig = make_subplots(rows=1, cols=2)\n",
    "fig.add_trace(go.Scatter(x=ts, y=c_xs, mode='lines', name=\"Controlled\", line=dict(color=\"#00e476\")), row=1, col=1)\n",
    "fig.add_trace(go.Scatter(x=ts, y=uc_xs, mode='lines', name=\"Uncontrolled\", line=dict(color=\"#FFe476\")), row=1, col=1)\n",
    "fig.add_trace(go.Scatter(x=ts, y=c_cum_cost, mode='lines', showlegend=False, line=dict(color=\"#00e476\")), row=1, col=2)\n",
    "fig.add_trace(go.Scatter(x=ts, y=uc_cum_cost, mode='lines', showlegend=False, line=dict(color=\"#FFe476\")), row=1, col=2)\n",
    "fig.update_layout(\n",
    "    title=\"Minimise amount of X | Minimise the costs (hold both close to zero)\",\n",
    "    xaxis_title=\"t\",\n",
    "    yaxis_title=\"X\",\n",
    "    font=dict(\n",
    "        family=\"Courier New, monospace\",\n",
    "        size=14\n",
    "    )\n",
    ")\n",
    "fig.show()"
   ]
  },
  {
   "cell_type": "markdown",
   "id": "tough-italy",
   "metadata": {},
   "source": [
    "Example: Assume that the UK is subject to another disease outbreak. Each patient admission costs certain resources. We intend to reduce the amount of people in hospitals as quickly as possible to bound admission costs."
   ]
  },
  {
   "cell_type": "markdown",
   "id": "moderate-liver",
   "metadata": {},
   "source": [
    "### Linear-quadratic control problem N-dimensional (Riccati Equation) "
   ]
  },
  {
   "cell_type": "markdown",
   "id": "cooked-pencil",
   "metadata": {},
   "source": [
    "We consider the same problem with $H_t \\in \\mathbb{R}^{n \\times n}$,\n",
    "$M_t \\in \\mathbb{R}^{n \\times k}$, $\\sigma_t \\in \\mathbb{R}^{n \\times m}$ (for now a scalar), $C_t \\in \\mathbb{R}^{n \\times n}$, $D_t \\in \\mathbb{R}^{k \\times n}$, and $R \\in \\mathbb{R}^{n \\times n}$. We also have, $u(t, X_t) \\in\\mathbb{R}^k$."
   ]
  },
  {
   "cell_type": "markdown",
   "id": "brown-pillow",
   "metadata": {},
   "source": [
    "Let $(\\Omega, \\mathcal{F}, \\{\\mathcal{F}_t\\}_{t\\in [0, T]}, \\mathbb{P})$. We consider\n",
    "$$\n",
    "\\begin{cases}\n",
    "dX_s = [H_sX_s + M_s u_s] ds + \\sigma_s dW_s, \\; s \\in [0, T] \\\\\n",
    "X_0 = x > 0\n",
    "\\end{cases},\n",
    "$$"
   ]
  },
  {
   "cell_type": "markdown",
   "id": "embedded-angel",
   "metadata": {},
   "source": [
    "We aim to maximise\n",
    "$$\n",
    "J^u(t, x) := \\mathbb{E}^{t, x} \\Big[ \\int_t^T X_s^T C_s X_s + u_s^T D_s u_s ds + X_T^T R X_T\\Big],\n",
    "$$\n",
    "with $C(t) = C \\leq 0, R \\leq 0$, and $D=D(t) < -\\delta < 0$ given and deterministic ($\\delta > 0$ some constant)."
   ]
  },
  {
   "cell_type": "markdown",
   "id": "coordinate-implement",
   "metadata": {},
   "source": [
    "We write down the problem in its primal form as\n",
    "$$\n",
    "\\begin{cases}\n",
    "\\partial_t J(t, x) + \\sup_{u} \\Big\\{ \\frac{1}{2} \\sigma^2 \\sum_{1 \\leq i, j \\leq n} \\Delta_{x_i x_j} J(t, x) + [H x + M u]^T \\cdot \\nabla_x J(t, x) + x^T C x + u^T D u \\Big\\} = 0 \\text{ on $[0, T] \\times (0, \\infty)$}\n",
    "\\\\\n",
    "J(T, x) = x^T R x \\text{ $\\forall x \\in \\mathbb{R}$}\n",
    "\\end{cases}\n",
    "$$"
   ]
  },
  {
   "cell_type": "markdown",
   "id": "latest-fashion",
   "metadata": {},
   "source": [
    "For now, we will consider the problem without the terminal condition."
   ]
  },
  {
   "cell_type": "code",
   "execution_count": 61,
   "id": "blocked-moment",
   "metadata": {},
   "outputs": [],
   "source": [
    "class LQR_N(HBJ):\n",
    "    def __init__(self):\n",
    "        super().__init__()\n",
    "        self.H = torch.tensor([[1.0, 0],\n",
    "                              [0.0, 1.0]])\n",
    "        self.M = torch.tensor([[1.2, 0],\n",
    "                              [0.0, 1.2]])\n",
    "        self.C = torch.tensor([[-1.2, 0],\n",
    "                              [0.0, -1.0]])\n",
    "        #self.R = torch.tensor([[-1.5, 0],\n",
    "                              #[0.0, -1.5]])\n",
    "        self.D = torch.tensor([[-0.05, 0],\n",
    "                              [0.0, -0.05]])\n",
    "        self.σ = 0.3\n",
    "        \n",
    "        self.var_dim_J = 3 # (x, y, t)\n",
    "        self.sol_dim = 2\n",
    "        self.control_vars = [0, 1, 2]\n",
    "        self.cost_function = lambda u, var: (var[:2] |bdotb| (self.C |mdotb| var[:2])) + ((u |bdotm| self.D) |bdotb| u)\n",
    "        self.differential_operator = lambda J, u, var: (((self.H |mdotb| var[:2]) + (self.M |mdotb| u)) |bdotb| D(J, var[:2])) + (1/2)*self.σ**2*sum([div(div(J, var[i]), var[j]) for i, j in product(range(2), range(2))])\n",
    "        self.domain_func = [(lambda var: [(var[0]-0.5)*4, (var[1]-0.5)*4, var[2]], 128)]"
   ]
  },
  {
   "cell_type": "code",
   "execution_count": 62,
   "id": "subject-syntax",
   "metadata": {},
   "outputs": [
    {
     "name": "stderr",
     "output_type": "stream",
     "text": [
      "100%|██████████| 500/500 [01:12<00:00,  6.92 it/s]\n"
     ]
    },
    {
     "data": {
      "application/vnd.plotly.v1+json": {
       "config": {
        "plotlyServerURL": "https://plot.ly"
       },
       "data": [
        {
         "mode": "lines",
         "name": "Value Loss",
         "type": "scatter",
         "x": [
          0,
          1,
          2,
          3,
          4,
          5,
          6,
          7,
          8,
          9,
          10,
          11,
          12,
          13,
          14,
          15,
          16,
          17,
          18,
          19,
          20,
          21,
          22,
          23,
          24,
          25,
          26,
          27,
          28,
          29,
          30,
          31,
          32,
          33,
          34,
          35,
          36,
          37,
          38,
          39,
          40,
          41,
          42,
          43,
          44,
          45,
          46,
          47,
          48,
          49,
          50,
          51,
          52,
          53,
          54,
          55,
          56,
          57,
          58,
          59,
          60,
          61,
          62,
          63,
          64,
          65,
          66,
          67,
          68,
          69,
          70,
          71,
          72,
          73,
          74,
          75,
          76,
          77,
          78,
          79,
          80,
          81,
          82,
          83,
          84,
          85,
          86,
          87,
          88,
          89,
          90,
          91,
          92,
          93,
          94,
          95,
          96,
          97,
          98,
          99,
          100,
          101,
          102,
          103,
          104,
          105,
          106,
          107,
          108,
          109,
          110,
          111,
          112,
          113,
          114,
          115,
          116,
          117,
          118,
          119,
          120,
          121,
          122,
          123,
          124,
          125,
          126,
          127,
          128,
          129,
          130,
          131,
          132,
          133,
          134,
          135,
          136,
          137,
          138,
          139,
          140,
          141,
          142,
          143,
          144,
          145,
          146,
          147,
          148,
          149,
          150,
          151,
          152,
          153,
          154,
          155,
          156,
          157,
          158,
          159,
          160,
          161,
          162,
          163,
          164,
          165,
          166,
          167,
          168,
          169,
          170,
          171,
          172,
          173,
          174,
          175,
          176,
          177,
          178,
          179,
          180,
          181,
          182,
          183,
          184,
          185,
          186,
          187,
          188,
          189,
          190,
          191,
          192,
          193,
          194,
          195,
          196,
          197,
          198,
          199,
          200,
          201,
          202,
          203,
          204,
          205,
          206,
          207,
          208,
          209,
          210,
          211,
          212,
          213,
          214,
          215,
          216,
          217,
          218,
          219,
          220,
          221,
          222,
          223,
          224,
          225,
          226,
          227,
          228,
          229,
          230,
          231,
          232,
          233,
          234,
          235,
          236,
          237,
          238,
          239,
          240,
          241,
          242,
          243,
          244,
          245,
          246,
          247,
          248,
          249,
          250,
          251,
          252,
          253,
          254,
          255,
          256,
          257,
          258,
          259,
          260,
          261,
          262,
          263,
          264,
          265,
          266,
          267,
          268,
          269,
          270,
          271,
          272,
          273,
          274,
          275,
          276,
          277,
          278,
          279,
          280,
          281,
          282,
          283,
          284,
          285,
          286,
          287,
          288,
          289,
          290,
          291,
          292,
          293,
          294,
          295,
          296,
          297,
          298,
          299,
          300,
          301,
          302,
          303,
          304,
          305,
          306,
          307,
          308,
          309,
          310,
          311,
          312,
          313,
          314,
          315,
          316,
          317,
          318,
          319,
          320,
          321,
          322,
          323,
          324,
          325,
          326,
          327,
          328,
          329,
          330,
          331,
          332,
          333,
          334,
          335,
          336,
          337,
          338,
          339,
          340,
          341,
          342,
          343,
          344,
          345,
          346,
          347,
          348,
          349,
          350,
          351,
          352,
          353,
          354,
          355,
          356,
          357,
          358,
          359,
          360,
          361,
          362,
          363,
          364,
          365,
          366,
          367,
          368,
          369,
          370,
          371,
          372,
          373,
          374,
          375,
          376,
          377,
          378,
          379,
          380,
          381,
          382,
          383,
          384,
          385,
          386,
          387,
          388,
          389,
          390,
          391,
          392,
          393,
          394,
          395,
          396,
          397,
          398,
          399,
          400,
          401,
          402,
          403,
          404,
          405,
          406,
          407,
          408,
          409,
          410,
          411,
          412,
          413,
          414,
          415,
          416,
          417,
          418,
          419,
          420,
          421,
          422,
          423,
          424,
          425,
          426,
          427,
          428,
          429,
          430,
          431,
          432,
          433,
          434,
          435,
          436,
          437,
          438,
          439,
          440,
          441,
          442,
          443,
          444,
          445,
          446,
          447,
          448,
          449,
          450,
          451,
          452,
          453,
          454,
          455,
          456,
          457,
          458,
          459,
          460,
          461,
          462,
          463,
          464,
          465,
          466,
          467,
          468,
          469,
          470,
          471,
          472,
          473,
          474,
          475,
          476,
          477,
          478,
          479,
          480,
          481,
          482,
          483,
          484,
          485,
          486,
          487,
          488,
          489,
          490
         ],
         "xaxis": "x",
         "y": [
          4.3938825011253355,
          3.5643823027610777,
          2.851675641536713,
          2.591780388355255,
          2.521896040439606,
          2.1636612892150877,
          1.9049822092056274,
          1.8671639561653137,
          1.759876263141632,
          1.6262768030166626,
          1.426092153787613,
          1.2918107092380524,
          1.1216616332530975,
          1.0137015521526336,
          0.9095802277326583,
          0.803407809138298,
          0.7158780425786972,
          0.6564633756875992,
          0.5926179170608521,
          0.5152486234903335,
          0.46658400148153306,
          0.3908338904380798,
          0.35779195427894595,
          0.30681336522102354,
          0.29338051080703736,
          0.2799337536096573,
          0.27414061278104784,
          0.2571830600500107,
          0.23854594230651854,
          0.22505876272916794,
          0.21479232907295226,
          0.20839399546384813,
          0.20561196506023408,
          0.1977257177233696,
          0.17235028371214867,
          0.1470690704882145,
          0.13516405671834947,
          0.1321633666753769,
          0.12535085901618004,
          0.11680119335651398,
          0.11160376593470574,
          0.10682201310992241,
          0.09981812611222267,
          0.0968117170035839,
          0.09187358468770981,
          0.08543389551341533,
          0.08233860097825527,
          0.07668399512767791,
          0.07319592572748661,
          0.07048368640244007,
          0.06719732880592347,
          0.06277363747358322,
          0.057036192715168,
          0.05232415534555912,
          0.04950043484568596,
          0.04820150062441826,
          0.043356869369745255,
          0.04483657367527485,
          0.04310945533216,
          0.042100421525537966,
          0.03900197986513376,
          0.0377008905634284,
          0.03686284217983484,
          0.035763269476592544,
          0.035189176350831984,
          0.03544537778943777,
          0.034032754600048065,
          0.03030785508453846,
          0.029162835516035556,
          0.028313951194286348,
          0.02775937095284462,
          0.02658934872597456,
          0.024347249791026114,
          0.023462747037410737,
          0.02371209841221571,
          0.023218304477632047,
          0.021943804528564214,
          0.020456139277666808,
          0.020661672856658698,
          0.019833100028336048,
          0.019301898963749408,
          0.01923900991678238,
          0.018192397244274617,
          0.01770273456349969,
          0.017098904866725207,
          0.016395559906959532,
          0.016340803261846303,
          0.015121390298008918,
          0.013794291578233243,
          0.014300361555069686,
          0.013566829264163971,
          0.012565770093351603,
          0.012344861775636673,
          0.01208992525935173,
          0.011657106224447489,
          0.010977351479232312,
          0.010763047635555268,
          0.010918155871331691,
          0.010250348504632712,
          0.00968156661838293,
          0.009419989213347435,
          0.009284900967031717,
          0.008880262356251478,
          0.00839856336824596,
          0.008055261243134737,
          0.008152278745546937,
          0.007462162571027875,
          0.007310938974842429,
          0.007204542914405465,
          0.006926251389086246,
          0.0068656923715025185,
          0.007296692999079824,
          0.0074068105313926935,
          0.0076648669317364694,
          0.0076597115024924275,
          0.007551527395844459,
          0.0074337661731988195,
          0.007322558388113976,
          0.007336802780628204,
          0.0071685371920466425,
          0.0070083335041999815,
          0.006734120566397906,
          0.0065793602261692286,
          0.006124720349907875,
          0.00582857858389616,
          0.005877467803657055,
          0.0058811410330235955,
          0.0058398428838700054,
          0.006010538572445512,
          0.00628279410302639,
          0.006338344141840935,
          0.0059028913266956804,
          0.005764164868742228,
          0.005936605203896761,
          0.006087181577458978,
          0.005918769724667072,
          0.006015878589823842,
          0.005899523617699742,
          0.005642756354063749,
          0.005499738268554211,
          0.005270179081708193,
          0.00521639846265316,
          0.00508168488740921,
          0.004935612482950091,
          0.004821920162066817,
          0.004723506327718496,
          0.004644832480698824,
          0.004618841176852584,
          0.004494619742035866,
          0.004114191955886781,
          0.003920573461800814,
          0.0038253664504736664,
          0.003824383718892932,
          0.003742693294771016,
          0.003716955007985234,
          0.0036151821725070475,
          0.0035248439759016036,
          0.0034819912165403367,
          0.0035783916246145964,
          0.0038378134602680804,
          0.004148248257115484,
          0.0041333908215165135,
          0.00410817104857415,
          0.004221409140154719,
          0.0043901783181354405,
          0.004424194246530533,
          0.004427730105817318,
          0.004346192511729896,
          0.004446970135904849,
          0.004344991338439286,
          0.004249809333123267,
          0.004196838033385575,
          0.004221032583154738,
          0.00403015201445669,
          0.003888018219731748,
          0.004029777320101857,
          0.004004069929942488,
          0.004100394551642239,
          0.0039044126169756055,
          0.0038485237630084155,
          0.003782516997307539,
          0.003805748466402292,
          0.0037005610764026644,
          0.0038703744765371086,
          0.0037764809327200054,
          0.0036009214352816345,
          0.0037334895227104426,
          0.0036971673369407656,
          0.0037228211760520933,
          0.003774567833170295,
          0.004021477629430592,
          0.004009602591395378,
          0.003962375759147108,
          0.0039231297327205535,
          0.0038428675383329392,
          0.0039606866193935275,
          0.0038725601276382803,
          0.0038142782170325516,
          0.0038213139865547418,
          0.0036711137043312194,
          0.003397334786131978,
          0.0033734602853655814,
          0.0034948217449709772,
          0.0033517328323796392,
          0.003958151559345424,
          0.0040549274766817685,
          0.004424842237494886,
          0.004430501884780824,
          0.004630175489000976,
          0.004762916546314955,
          0.004830277361907065,
          0.0049760168418288234,
          0.005048307054676115,
          0.005199001566506922,
          0.0045874750474467875,
          0.004272891604341566,
          0.003919596620835364,
          0.0037624943535774944,
          0.003471880219876766,
          0.0035322092473506926,
          0.0034357720986008646,
          0.003333509620279074,
          0.003283451613970101,
          0.0031354569597169756,
          0.00343697106000036,
          0.0035500013967975975,
          0.0034544418100267648,
          0.0036521390080451964,
          0.0037127412389963864,
          0.003628868842497468,
          0.003658050112426281,
          0.0037242540158331392,
          0.0037068239180371165,
          0.0036723456578329206,
          0.003554849629290402,
          0.003800507471896708,
          0.00406407741829753,
          0.004092596843838692,
          0.004028389952145517,
          0.004276272072456777,
          0.004360658559016883,
          0.004382754326798022,
          0.0043363843346014615,
          0.004432101524434984,
          0.004344488843344152,
          0.004085479583591223,
          0.0037678647320717575,
          0.003605807782150805,
          0.0036075191339477895,
          0.003159517515450716,
          0.003050357475876808,
          0.0027522371616214513,
          0.0026562720304355025,
          0.002459596609696746,
          0.0022005570470355453,
          0.0020692329038865865,
          0.0019775793538428844,
          0.001933457760605961,
          0.0018031662562862038,
          0.0018078600172884763,
          0.001657514739781618,
          0.001645432144869119,
          0.0016767891007475554,
          0.0018386617884971201,
          0.0019116043928079306,
          0.001992812694516033,
          0.0020301498821936547,
          0.002110987377818674,
          0.002138780627865344,
          0.002116462937556207,
          0.002157780376728624,
          0.002224298776127398,
          0.0021268819109536707,
          0.0020265525789000096,
          0.0022777152713388204,
          0.0021622249856591224,
          0.002257381356321275,
          0.002268265839666128,
          0.002473397774156183,
          0.0026299502118490637,
          0.0032639256096445024,
          0.0033037206972949206,
          0.003493332304060459,
          0.0036381711717694996,
          0.003799089044332504,
          0.003835502476431429,
          0.004072886100038886,
          0.0039456338970921935,
          0.003842673858162016,
          0.0036881182459183037,
          0.003100306785199791,
          0.0031318439985625448,
          0.002888418396469206,
          0.0029690065304748712,
          0.0026143598021008073,
          0.0028072195942513644,
          0.0024571567890234293,
          0.0027477822965011,
          0.0026713692815974353,
          0.002922805561684072,
          0.0028992420993745327,
          0.0031764403684064746,
          0.0034207981545478104,
          0.0031492553767748176,
          0.003167335863690823,
          0.002934059058316052,
          0.0029523845412768425,
          0.0026110621984116733,
          0.002554560697171837,
          0.0022443535970523955,
          0.002168133039958775,
          0.0017121428274549544,
          0.001555263076443225,
          0.0015092967078089714,
          0.001419052854180336,
          0.0013165268464945257,
          0.0012879349058493971,
          0.001267518021631986,
          0.0011935329530388117,
          0.0012185522471554577,
          0.001242782303597778,
          0.0012648204574361444,
          0.0013149824226275086,
          0.0012708256428595633,
          0.0013371909211855383,
          0.0013921549369115382,
          0.0014306409342680127,
          0.0015575121098663658,
          0.001579390646656975,
          0.0017059838341083378,
          0.0016448603069875388,
          0.0016357742657419293,
          0.0015928241715300827,
          0.001643487869296223,
          0.0017104005557484925,
          0.0017535326303914189,
          0.0016641807917039842,
          0.0016176288307178765,
          0.0016345779818948357,
          0.0015009668248239904,
          0.0014984662586357445,
          0.0015248044335749,
          0.001455161551712081,
          0.0015030572598334403,
          0.001361913833534345,
          0.001355954847531393,
          0.001409837673418224,
          0.001364320982247591,
          0.0013790726428851486,
          0.0013690989813767373,
          0.0014186281594447791,
          0.0013594496762380005,
          0.0013847362366504966,
          0.0013052548398263752,
          0.0013098635245114565,
          0.0012341284251306205,
          0.001180905511137098,
          0.0011374414316378534,
          0.0011073839850723743,
          0.0010716794815380127,
          0.0009961061819922178,
          0.000983290612930432,
          0.000992248236434534,
          0.0009743921051267535,
          0.0009925604390446097,
          0.0009871079702861608,
          0.0011125302349682896,
          0.0010762329096905888,
          0.0010830271989107133,
          0.0010860308597330005,
          0.001109744905261323,
          0.0011037306045182048,
          0.001156055217143148,
          0.0011553564923815428,
          0.0011173555627465247,
          0.0011951745953410863,
          0.001143299276009202,
          0.0012091202719602735,
          0.0012499872187618165,
          0.0012329885736107825,
          0.0013351964298635721,
          0.0013059175485977902,
          0.0012931637495057658,
          0.0013592741364846007,
          0.0013433219894068316,
          0.0013021771359490232,
          0.0012732024100841955,
          0.0012734993506455794,
          0.0012855406414018944,
          0.0014421348663745449,
          0.0013987505080876872,
          0.0017064091749489307,
          0.0016947772819548845,
          0.0018777220626361667,
          0.002008328656665981,
          0.0022998758824542163,
          0.0023199230898171665,
          0.002510269801132381,
          0.0024348887614905833,
          0.0024983630049973727,
          0.0024048800463788212,
          0.002209947805386037,
          0.0022243489627726378,
          0.0021260204375721514,
          0.0020281498786062003,
          0.0018285612110048532,
          0.001773481082636863,
          0.0016995768644846975,
          0.0017949066939763724,
          0.0016325475531630217,
          0.0016958267893642186,
          0.0016933277365751565,
          0.0015943112259265036,
          0.0014903019240591676,
          0.0014264218392781914,
          0.0013998179580084979,
          0.0013749865698628127,
          0.0012589692487381399,
          0.001223134237807244,
          0.0011997156660072505,
          0.0012255186680704354,
          0.0011883082683198155,
          0.0012151782575529069,
          0.001213045377517119,
          0.0012855969020165504,
          0.0011868313828017562,
          0.0011818530212622136,
          0.0011296905810013413,
          0.001064880465855822,
          0.0010893442027736454,
          0.000986102450406179,
          0.0009510622243396938,
          0.0008943699125666171,
          0.0008341899898368865,
          0.000767534872284159,
          0.0007447694311849773,
          0.0007472801487892866,
          0.0007405541313346475,
          0.0007278085045982152,
          0.0006738925352692604,
          0.0006893546611536294,
          0.0006933381024282426,
          0.0007099955691955984,
          0.0007352986605837942,
          0.0007350974716246128,
          0.0009149870136752724,
          0.0011905004736036061,
          0.0011851914168801159,
          0.0012571498053148388,
          0.0012849231890868396,
          0.0013140200404450296,
          0.0013865598186384887,
          0.0014092598983552306,
          0.0013993429543916135,
          0.0014928368444088846,
          0.0013369366235565395,
          0.0011237240221817046,
          0.0011093394947238266,
          0.0010855239583179356,
          0.0010716723278164863,
          0.0010555777931585907,
          0.0009886527666822075,
          0.0009638007846660912,
          0.0010423550382256507,
          0.000959463621256873,
          0.0010273793886881322,
          0.0009841379651334137,
          0.0010844572621863335,
          0.0010405119566712529,
          0.0011416439374443144,
          0.0011599137505982071,
          0.0011992598243523388,
          0.0012358784966636448,
          0.0011836366669740529,
          0.001199605141300708,
          0.0011236144171562045,
          0.0011066298407968133,
          0.0010674345016013832,
          0.0011000767874065787,
          0.0010213409201242029,
          0.0010153828305192291,
          0.0009802549320738763,
          0.0009457896405365318,
          0.0008934701327234507,
          0.0009528638562187553,
          0.0010443505540024488,
          0.0010762802150566131,
          0.0012615236279089003,
          0.001243206695653498,
          0.0014336932043079286,
          0.0014308275131043047
         ],
         "yaxis": "y"
        },
        {
         "mode": "lines",
         "name": "Control Loss",
         "type": "scatter",
         "x": [
          0,
          1,
          2,
          3,
          4,
          5,
          6,
          7,
          8,
          9,
          10,
          11,
          12,
          13,
          14,
          15,
          16,
          17,
          18,
          19,
          20,
          21,
          22,
          23,
          24,
          25,
          26,
          27,
          28,
          29,
          30,
          31,
          32,
          33,
          34,
          35,
          36,
          37,
          38,
          39,
          40,
          41,
          42,
          43,
          44,
          45,
          46,
          47,
          48,
          49,
          50,
          51,
          52,
          53,
          54,
          55,
          56,
          57,
          58,
          59,
          60,
          61,
          62,
          63,
          64,
          65,
          66,
          67,
          68,
          69,
          70,
          71,
          72,
          73,
          74,
          75,
          76,
          77,
          78,
          79,
          80,
          81,
          82,
          83,
          84,
          85,
          86,
          87,
          88,
          89,
          90,
          91,
          92,
          93,
          94,
          95,
          96,
          97,
          98,
          99,
          100,
          101,
          102,
          103,
          104,
          105,
          106,
          107,
          108,
          109,
          110,
          111,
          112,
          113,
          114,
          115,
          116,
          117,
          118,
          119,
          120,
          121,
          122,
          123,
          124,
          125,
          126,
          127,
          128,
          129,
          130,
          131,
          132,
          133,
          134,
          135,
          136,
          137,
          138,
          139,
          140,
          141,
          142,
          143,
          144,
          145,
          146,
          147,
          148,
          149,
          150,
          151,
          152,
          153,
          154,
          155,
          156,
          157,
          158,
          159,
          160,
          161,
          162,
          163,
          164,
          165,
          166,
          167,
          168,
          169,
          170,
          171,
          172,
          173,
          174,
          175,
          176,
          177,
          178,
          179,
          180,
          181,
          182,
          183,
          184,
          185,
          186,
          187,
          188,
          189,
          190,
          191,
          192,
          193,
          194,
          195,
          196,
          197,
          198,
          199,
          200,
          201,
          202,
          203,
          204,
          205,
          206,
          207,
          208,
          209,
          210,
          211,
          212,
          213,
          214,
          215,
          216,
          217,
          218,
          219,
          220,
          221,
          222,
          223,
          224,
          225,
          226,
          227,
          228,
          229,
          230,
          231,
          232,
          233,
          234,
          235,
          236,
          237,
          238,
          239,
          240,
          241,
          242,
          243,
          244,
          245,
          246,
          247,
          248,
          249,
          250,
          251,
          252,
          253,
          254,
          255,
          256,
          257,
          258,
          259,
          260,
          261,
          262,
          263,
          264,
          265,
          266,
          267,
          268,
          269,
          270,
          271,
          272,
          273,
          274,
          275,
          276,
          277,
          278,
          279,
          280,
          281,
          282,
          283,
          284,
          285,
          286,
          287,
          288,
          289,
          290,
          291,
          292,
          293,
          294,
          295,
          296,
          297,
          298,
          299,
          300,
          301,
          302,
          303,
          304,
          305,
          306,
          307,
          308,
          309,
          310,
          311,
          312,
          313,
          314,
          315,
          316,
          317,
          318,
          319,
          320,
          321,
          322,
          323,
          324,
          325,
          326,
          327,
          328,
          329,
          330,
          331,
          332,
          333,
          334,
          335,
          336,
          337,
          338,
          339,
          340,
          341,
          342,
          343,
          344,
          345,
          346,
          347,
          348,
          349,
          350,
          351,
          352,
          353,
          354,
          355,
          356,
          357,
          358,
          359,
          360,
          361,
          362,
          363,
          364,
          365,
          366,
          367,
          368,
          369,
          370,
          371,
          372,
          373,
          374,
          375,
          376,
          377,
          378,
          379,
          380,
          381,
          382,
          383,
          384,
          385,
          386,
          387,
          388,
          389,
          390,
          391,
          392,
          393,
          394,
          395,
          396,
          397,
          398,
          399,
          400,
          401,
          402,
          403,
          404,
          405,
          406,
          407,
          408,
          409,
          410,
          411,
          412,
          413,
          414,
          415,
          416,
          417,
          418,
          419,
          420,
          421,
          422,
          423,
          424,
          425,
          426,
          427,
          428,
          429,
          430,
          431,
          432,
          433,
          434,
          435,
          436,
          437,
          438,
          439,
          440,
          441,
          442,
          443,
          444,
          445,
          446,
          447,
          448,
          449,
          450,
          451,
          452,
          453,
          454,
          455,
          456,
          457,
          458,
          459,
          460,
          461,
          462,
          463,
          464,
          465,
          466,
          467,
          468,
          469,
          470,
          471,
          472,
          473,
          474,
          475,
          476,
          477,
          478,
          479,
          480,
          481,
          482,
          483,
          484,
          485,
          486,
          487,
          488,
          489,
          490
         ],
         "xaxis": "x",
         "y": [
          1.3627161264419556,
          1.1958690762519837,
          0.99998859167099,
          0.9191443711519242,
          0.9299828886985779,
          0.9379208236932755,
          0.8701549917459488,
          0.7269114702939987,
          0.5812533527612687,
          0.49840623438358306,
          0.4639201074838638,
          0.4857590585947037,
          0.5124651223421097,
          0.5197423815727233,
          0.5054544508457184,
          0.5040283173322677,
          0.5153467446565628,
          0.530549281835556,
          0.537344753742218,
          0.5200317591428757,
          0.4843562185764313,
          0.4148154318332672,
          0.39328643679618835,
          0.38393978476524354,
          0.41059094965457915,
          0.41744897067546843,
          0.4075558617711067,
          0.39169411063194276,
          0.37189995050430297,
          0.38093568086624147,
          0.39149440824985504,
          0.4032620042562485,
          0.4074188441038132,
          0.4055913031101227,
          0.3898963987827301,
          0.3788166791200638,
          0.391696135699749,
          0.4152837246656418,
          0.4329954028129578,
          0.42954357266426085,
          0.4165153354406357,
          0.3963059425354004,
          0.37311437726020813,
          0.35999043881893156,
          0.35778685510158537,
          0.3659894108772278,
          0.37500895857810973,
          0.37027975022792814,
          0.3569848150014877,
          0.3507013976573944,
          0.35020441114902495,
          0.3570291608572006,
          0.3714489102363586,
          0.380936461687088,
          0.3751864105463028,
          0.36393214464187623,
          0.34853007197380065,
          0.34142077565193174,
          0.3446476191282272,
          0.34862537384033204,
          0.3496512621641159,
          0.34568060338497164,
          0.33309068977832795,
          0.3252644926309586,
          0.3296184241771698,
          0.3362526684999466,
          0.338612025976181,
          0.33886611759662627,
          0.3294914156198502,
          0.32193482518196104,
          0.3146521896123886,
          0.31476283073425293,
          0.3191979587078094,
          0.31581194400787355,
          0.3091073215007782,
          0.30400721430778505,
          0.3035742104053497,
          0.3076292186975479,
          0.31257721185684206,
          0.3084697872400284,
          0.302162928879261,
          0.29776292890310285,
          0.298126657307148,
          0.3035933837294579,
          0.30791202038526533,
          0.30441322177648544,
          0.29876243621110915,
          0.28813490122556684,
          0.2843565419316292,
          0.28720117062330247,
          0.2926382839679718,
          0.29122101366519926,
          0.28616730570793153,
          0.2803070217370987,
          0.2769908428192139,
          0.27757487893104554,
          0.27637620866298673,
          0.2750185951590538,
          0.27591653615236283,
          0.27458371967077255,
          0.2734518364071846,
          0.2738040998578072,
          0.27200291603803634,
          0.26946711391210554,
          0.2663334205746651,
          0.2664336785674095,
          0.26811448484659195,
          0.26899648606777193,
          0.26667787730693815,
          0.26294569075107577,
          0.26078351140022277,
          0.26089621186256406,
          0.2609955668449402,
          0.2590823322534561,
          0.2570121228694916,
          0.25363554060459137,
          0.25274543166160585,
          0.2528666824102402,
          0.2518225148320198,
          0.25076305866241455,
          0.24640023410320283,
          0.24130116701126098,
          0.23863551020622253,
          0.24113174080848693,
          0.24187807589769364,
          0.24148726016283034,
          0.23805689662694932,
          0.23317602574825286,
          0.23132840245962144,
          0.23047816902399063,
          0.23101318031549453,
          0.23025380223989486,
          0.2296164110302925,
          0.22761704176664352,
          0.2266412928700447,
          0.2249647542834282,
          0.22238149046897887,
          0.22440151423215865,
          0.2248256355524063,
          0.2241796463727951,
          0.22282232195138932,
          0.22058842331171036,
          0.22064075320959092,
          0.22000207751989365,
          0.21590878069400787,
          0.21224671304225923,
          0.21139130145311355,
          0.21122574359178542,
          0.2094838112592697,
          0.20784744173288344,
          0.2071492075920105,
          0.20680311918258668,
          0.20493548065423967,
          0.20229189544916154,
          0.2031801462173462,
          0.2041644349694252,
          0.20379984080791474,
          0.201222226023674,
          0.2001671388745308,
          0.19801122993230819,
          0.19463362842798232,
          0.1952065572142601,
          0.194837349653244,
          0.1926371529698372,
          0.1894610792398453,
          0.188332761824131,
          0.1896468684077263,
          0.1910260409116745,
          0.18823352009057998,
          0.18638961315155028,
          0.18713602423667908,
          0.18688200414180756,
          0.18606488555669784,
          0.18627059012651442,
          0.1857777714729309,
          0.18531603515148162,
          0.1827851265668869,
          0.1793086126446724,
          0.17782608419656754,
          0.17808250784873964,
          0.17863197922706603,
          0.17695620954036712,
          0.17546596229076386,
          0.1752555713057518,
          0.17270479053258897,
          0.1699370712041855,
          0.1682899385690689,
          0.16788728088140487,
          0.16882674098014833,
          0.17031994760036467,
          0.1685238540172577,
          0.1652894213795662,
          0.16216723918914794,
          0.1593974620103836,
          0.16124702841043473,
          0.16074267625808716,
          0.15859291404485704,
          0.1575324833393097,
          0.1574164316058159,
          0.15457044541835785,
          0.1498723544180393,
          0.14909350499510765,
          0.15230853632092475,
          0.15468106642365456,
          0.1490216039121151,
          0.14548290222883226,
          0.14683182090520858,
          0.1498850852251053,
          0.14849239438772202,
          0.1448133409023285,
          0.14524437710642815,
          0.14689470902085305,
          0.14515568539500237,
          0.14300959035754204,
          0.14557790383696556,
          0.1479549840092659,
          0.14588923901319503,
          0.141115802526474,
          0.14100199192762375,
          0.14166256189346313,
          0.14058250263333322,
          0.1380995877087116,
          0.13624308928847312,
          0.13423623368144036,
          0.13263070359826087,
          0.1306863971054554,
          0.13045130148530007,
          0.1312687061727047,
          0.12963055595755577,
          0.12963461577892305,
          0.13198387995362282,
          0.13184612318873407,
          0.12946087047457694,
          0.1273539498448372,
          0.1267930045723915,
          0.13187052309513092,
          0.13280271142721176,
          0.1260705605149269,
          0.1216615803539753,
          0.1229405790567398,
          0.12446584850549698,
          0.12320725545287133,
          0.12082412317395211,
          0.12168091610074043,
          0.1245307169854641,
          0.12168560847640038,
          0.11775830537080764,
          0.11898253113031387,
          0.12248501703143119,
          0.12247216627001763,
          0.11743938326835632,
          0.1141816221177578,
          0.11481792032718659,
          0.11442502439022065,
          0.11294032856822014,
          0.1102798894047737,
          0.10934737026691436,
          0.10954029932618141,
          0.10879926681518555,
          0.10705994740128517,
          0.10682405605912208,
          0.10771339237689972,
          0.11047470942139626,
          0.10971770659089089,
          0.1056598424911499,
          0.10553307831287384,
          0.10807769894599914,
          0.10761008411645889,
          0.10398778319358826,
          0.10238780453801155,
          0.10390677601099015,
          0.10459062308073044,
          0.10045037418603897,
          0.09950949102640153,
          0.10332135558128357,
          0.10404649004340172,
          0.09887808039784432,
          0.09475426822900772,
          0.0956527277827263,
          0.09981250017881393,
          0.09841699749231339,
          0.09362452626228332,
          0.09210541620850562,
          0.09542392790317536,
          0.0949019357562065,
          0.08948860913515091,
          0.09007756412029266,
          0.09631956070661545,
          0.09853762984275818,
          0.09157715067267418,
          0.087815573066473,
          0.09244504868984223,
          0.09722646549344063,
          0.0914885275065899,
          0.08494031876325607,
          0.08804907575249672,
          0.09284542649984359,
          0.08987080901861191,
          0.0830805778503418,
          0.08536445870995521,
          0.09095404744148254,
          0.08743211627006531,
          0.08146848678588867,
          0.08446494936943054,
          0.08930146917700768,
          0.08649181872606278,
          0.0808340810239315,
          0.0806776687502861,
          0.08454683870077133,
          0.08317626044154167,
          0.07931494042277336,
          0.08134840950369834,
          0.08237151727080345,
          0.07923565059900284,
          0.07800401598215104,
          0.08020892888307571,
          0.08093890324234962,
          0.07940630763769149,
          0.07852834835648537,
          0.07903531417250634,
          0.07803568765521049,
          0.07607508897781372,
          0.07703471928834915,
          0.07837612181901932,
          0.07758530303835869,
          0.07539263740181923,
          0.07470870912075042,
          0.07473314553499222,
          0.07554871439933777,
          0.07548305988311768,
          0.07573889121413231,
          0.07492455281317234,
          0.07145136184990405,
          0.071336455270648,
          0.0725100789219141,
          0.07292186729609966,
          0.07117554061114788,
          0.07081701345741749,
          0.0710984792560339,
          0.07084857262670993,
          0.06878807358443736,
          0.06845207661390304,
          0.07139392346143722,
          0.06890804767608642,
          0.06548819616436959,
          0.06548039764165878,
          0.06723911389708519,
          0.06621337085962295,
          0.06331684477627278,
          0.06252524591982364,
          0.06422825716435909,
          0.0632852416485548,
          0.06162992529571056,
          0.06363032720983028,
          0.06456098146736622,
          0.06203962415456772,
          0.06102641709148884,
          0.061913608387112615,
          0.06227857619524002,
          0.06002080515027046,
          0.05936898738145828,
          0.06248101890087128,
          0.06192881427705288,
          0.05813929140567779,
          0.05868367478251457,
          0.06312058232724667,
          0.06233375556766987,
          0.059075788035988806,
          0.059777867421507834,
          0.06203684844076633,
          0.061169577017426494,
          0.056549974158406256,
          0.05764895007014274,
          0.0613229651004076,
          0.05949796363711357,
          0.05322588086128235,
          0.05249522291123867,
          0.05588575266301632,
          0.05567469783127308,
          0.051449451595544815,
          0.051456117630004884,
          0.05495189949870109,
          0.05282135829329491,
          0.049246951937675476,
          0.05053158812224865,
          0.05413788296282292,
          0.05266058221459389,
          0.05005666166543961,
          0.05196976587176323,
          0.055506663396954536,
          0.050062665232690054,
          0.045949366391869265,
          0.051802464277716356,
          0.05426407203194685,
          0.04877613101270981,
          0.04630967851844616,
          0.05153331820038147,
          0.0532379804935772,
          0.04710709814098664,
          0.04537821475532837,
          0.052130303159356114,
          0.052738473005592826,
          0.04510734099894762,
          0.04523456785827875,
          0.05085091963410378,
          0.05065219737589359,
          0.043696184642612934,
          0.04353360291570425,
          0.04757193829864263,
          0.046686689369380474,
          0.04260091539472342,
          0.045135450549423695,
          0.048329065553843975,
          0.046156078763306144,
          0.04396537635475397,
          0.04548201505094766,
          0.049235372245311736,
          0.045739392191171645,
          0.04393657110631466,
          0.045955919101834296,
          0.0481858130544424,
          0.04491919092833996,
          0.042010954953730105,
          0.04338181596249342,
          0.043604517541825774,
          0.041387952864170074,
          0.04058392867445946,
          0.042882020398974416,
          0.041608783230185506,
          0.040754739195108414,
          0.04127912074327469,
          0.042796704545617105,
          0.043759132735431194,
          0.04263763967901468,
          0.0429423002526164,
          0.04306900817900896,
          0.04241128694266081,
          0.043578320555388926,
          0.04393031466752291,
          0.04055223446339369,
          0.03884239848703146,
          0.04018439557403326,
          0.04180332440882921,
          0.0392522593960166,
          0.03639090284705162,
          0.040829876251518724,
          0.04215089660137892,
          0.039049303717911245,
          0.0390187056735158,
          0.04252182822674513,
          0.04173877276480198,
          0.03935920633375645,
          0.03843788281083107,
          0.040831358730793,
          0.04051059782505036,
          0.03544357977807522,
          0.034337186440825465,
          0.036540137603878975,
          0.03646967001259327,
          0.032911738567054274,
          0.033312619850039485,
          0.03568677343428135,
          0.035148919001221655,
          0.0332576984539628,
          0.035828440263867375,
          0.037968759983778,
          0.0361304746940732,
          0.035029337741434574,
          0.03704402949661016,
          0.036563170794397595,
          0.03445517299696803,
          0.03367772093042731,
          0.03457511207088828,
          0.03339848509058356,
          0.0315098094753921,
          0.03199954992160201,
          0.03401561239734292,
          0.03236965024843812,
          0.029561371821910144,
          0.03389044888317585,
          0.03774396162480116,
          0.03601655550301075,
          0.033623176999390124,
          0.03696061968803406,
          0.03670202884823084,
          0.03438890352845192,
          0.035076841711997986,
          0.03729218579828739,
          0.035397150367498395,
          0.030391729809343813,
          0.02970001716166735
         ],
         "yaxis": "y"
        }
       ],
       "layout": {
        "font": {
         "family": "Courier New, monospace",
         "size": 14
        },
        "template": {
         "data": {
          "bar": [
           {
            "error_x": {
             "color": "#2a3f5f"
            },
            "error_y": {
             "color": "#2a3f5f"
            },
            "marker": {
             "line": {
              "color": "#E5ECF6",
              "width": 0.5
             }
            },
            "type": "bar"
           }
          ],
          "barpolar": [
           {
            "marker": {
             "line": {
              "color": "#E5ECF6",
              "width": 0.5
             }
            },
            "type": "barpolar"
           }
          ],
          "carpet": [
           {
            "aaxis": {
             "endlinecolor": "#2a3f5f",
             "gridcolor": "white",
             "linecolor": "white",
             "minorgridcolor": "white",
             "startlinecolor": "#2a3f5f"
            },
            "baxis": {
             "endlinecolor": "#2a3f5f",
             "gridcolor": "white",
             "linecolor": "white",
             "minorgridcolor": "white",
             "startlinecolor": "#2a3f5f"
            },
            "type": "carpet"
           }
          ],
          "choropleth": [
           {
            "colorbar": {
             "outlinewidth": 0,
             "ticks": ""
            },
            "type": "choropleth"
           }
          ],
          "contour": [
           {
            "colorbar": {
             "outlinewidth": 0,
             "ticks": ""
            },
            "colorscale": [
             [
              0,
              "#0d0887"
             ],
             [
              0.1111111111111111,
              "#46039f"
             ],
             [
              0.2222222222222222,
              "#7201a8"
             ],
             [
              0.3333333333333333,
              "#9c179e"
             ],
             [
              0.4444444444444444,
              "#bd3786"
             ],
             [
              0.5555555555555556,
              "#d8576b"
             ],
             [
              0.6666666666666666,
              "#ed7953"
             ],
             [
              0.7777777777777778,
              "#fb9f3a"
             ],
             [
              0.8888888888888888,
              "#fdca26"
             ],
             [
              1,
              "#f0f921"
             ]
            ],
            "type": "contour"
           }
          ],
          "contourcarpet": [
           {
            "colorbar": {
             "outlinewidth": 0,
             "ticks": ""
            },
            "type": "contourcarpet"
           }
          ],
          "heatmap": [
           {
            "colorbar": {
             "outlinewidth": 0,
             "ticks": ""
            },
            "colorscale": [
             [
              0,
              "#0d0887"
             ],
             [
              0.1111111111111111,
              "#46039f"
             ],
             [
              0.2222222222222222,
              "#7201a8"
             ],
             [
              0.3333333333333333,
              "#9c179e"
             ],
             [
              0.4444444444444444,
              "#bd3786"
             ],
             [
              0.5555555555555556,
              "#d8576b"
             ],
             [
              0.6666666666666666,
              "#ed7953"
             ],
             [
              0.7777777777777778,
              "#fb9f3a"
             ],
             [
              0.8888888888888888,
              "#fdca26"
             ],
             [
              1,
              "#f0f921"
             ]
            ],
            "type": "heatmap"
           }
          ],
          "heatmapgl": [
           {
            "colorbar": {
             "outlinewidth": 0,
             "ticks": ""
            },
            "colorscale": [
             [
              0,
              "#0d0887"
             ],
             [
              0.1111111111111111,
              "#46039f"
             ],
             [
              0.2222222222222222,
              "#7201a8"
             ],
             [
              0.3333333333333333,
              "#9c179e"
             ],
             [
              0.4444444444444444,
              "#bd3786"
             ],
             [
              0.5555555555555556,
              "#d8576b"
             ],
             [
              0.6666666666666666,
              "#ed7953"
             ],
             [
              0.7777777777777778,
              "#fb9f3a"
             ],
             [
              0.8888888888888888,
              "#fdca26"
             ],
             [
              1,
              "#f0f921"
             ]
            ],
            "type": "heatmapgl"
           }
          ],
          "histogram": [
           {
            "marker": {
             "colorbar": {
              "outlinewidth": 0,
              "ticks": ""
             }
            },
            "type": "histogram"
           }
          ],
          "histogram2d": [
           {
            "colorbar": {
             "outlinewidth": 0,
             "ticks": ""
            },
            "colorscale": [
             [
              0,
              "#0d0887"
             ],
             [
              0.1111111111111111,
              "#46039f"
             ],
             [
              0.2222222222222222,
              "#7201a8"
             ],
             [
              0.3333333333333333,
              "#9c179e"
             ],
             [
              0.4444444444444444,
              "#bd3786"
             ],
             [
              0.5555555555555556,
              "#d8576b"
             ],
             [
              0.6666666666666666,
              "#ed7953"
             ],
             [
              0.7777777777777778,
              "#fb9f3a"
             ],
             [
              0.8888888888888888,
              "#fdca26"
             ],
             [
              1,
              "#f0f921"
             ]
            ],
            "type": "histogram2d"
           }
          ],
          "histogram2dcontour": [
           {
            "colorbar": {
             "outlinewidth": 0,
             "ticks": ""
            },
            "colorscale": [
             [
              0,
              "#0d0887"
             ],
             [
              0.1111111111111111,
              "#46039f"
             ],
             [
              0.2222222222222222,
              "#7201a8"
             ],
             [
              0.3333333333333333,
              "#9c179e"
             ],
             [
              0.4444444444444444,
              "#bd3786"
             ],
             [
              0.5555555555555556,
              "#d8576b"
             ],
             [
              0.6666666666666666,
              "#ed7953"
             ],
             [
              0.7777777777777778,
              "#fb9f3a"
             ],
             [
              0.8888888888888888,
              "#fdca26"
             ],
             [
              1,
              "#f0f921"
             ]
            ],
            "type": "histogram2dcontour"
           }
          ],
          "mesh3d": [
           {
            "colorbar": {
             "outlinewidth": 0,
             "ticks": ""
            },
            "type": "mesh3d"
           }
          ],
          "parcoords": [
           {
            "line": {
             "colorbar": {
              "outlinewidth": 0,
              "ticks": ""
             }
            },
            "type": "parcoords"
           }
          ],
          "pie": [
           {
            "automargin": true,
            "type": "pie"
           }
          ],
          "scatter": [
           {
            "marker": {
             "colorbar": {
              "outlinewidth": 0,
              "ticks": ""
             }
            },
            "type": "scatter"
           }
          ],
          "scatter3d": [
           {
            "line": {
             "colorbar": {
              "outlinewidth": 0,
              "ticks": ""
             }
            },
            "marker": {
             "colorbar": {
              "outlinewidth": 0,
              "ticks": ""
             }
            },
            "type": "scatter3d"
           }
          ],
          "scattercarpet": [
           {
            "marker": {
             "colorbar": {
              "outlinewidth": 0,
              "ticks": ""
             }
            },
            "type": "scattercarpet"
           }
          ],
          "scattergeo": [
           {
            "marker": {
             "colorbar": {
              "outlinewidth": 0,
              "ticks": ""
             }
            },
            "type": "scattergeo"
           }
          ],
          "scattergl": [
           {
            "marker": {
             "colorbar": {
              "outlinewidth": 0,
              "ticks": ""
             }
            },
            "type": "scattergl"
           }
          ],
          "scattermapbox": [
           {
            "marker": {
             "colorbar": {
              "outlinewidth": 0,
              "ticks": ""
             }
            },
            "type": "scattermapbox"
           }
          ],
          "scatterpolar": [
           {
            "marker": {
             "colorbar": {
              "outlinewidth": 0,
              "ticks": ""
             }
            },
            "type": "scatterpolar"
           }
          ],
          "scatterpolargl": [
           {
            "marker": {
             "colorbar": {
              "outlinewidth": 0,
              "ticks": ""
             }
            },
            "type": "scatterpolargl"
           }
          ],
          "scatterternary": [
           {
            "marker": {
             "colorbar": {
              "outlinewidth": 0,
              "ticks": ""
             }
            },
            "type": "scatterternary"
           }
          ],
          "surface": [
           {
            "colorbar": {
             "outlinewidth": 0,
             "ticks": ""
            },
            "colorscale": [
             [
              0,
              "#0d0887"
             ],
             [
              0.1111111111111111,
              "#46039f"
             ],
             [
              0.2222222222222222,
              "#7201a8"
             ],
             [
              0.3333333333333333,
              "#9c179e"
             ],
             [
              0.4444444444444444,
              "#bd3786"
             ],
             [
              0.5555555555555556,
              "#d8576b"
             ],
             [
              0.6666666666666666,
              "#ed7953"
             ],
             [
              0.7777777777777778,
              "#fb9f3a"
             ],
             [
              0.8888888888888888,
              "#fdca26"
             ],
             [
              1,
              "#f0f921"
             ]
            ],
            "type": "surface"
           }
          ],
          "table": [
           {
            "cells": {
             "fill": {
              "color": "#EBF0F8"
             },
             "line": {
              "color": "white"
             }
            },
            "header": {
             "fill": {
              "color": "#C8D4E3"
             },
             "line": {
              "color": "white"
             }
            },
            "type": "table"
           }
          ]
         },
         "layout": {
          "annotationdefaults": {
           "arrowcolor": "#2a3f5f",
           "arrowhead": 0,
           "arrowwidth": 1
          },
          "autotypenumbers": "strict",
          "coloraxis": {
           "colorbar": {
            "outlinewidth": 0,
            "ticks": ""
           }
          },
          "colorscale": {
           "diverging": [
            [
             0,
             "#8e0152"
            ],
            [
             0.1,
             "#c51b7d"
            ],
            [
             0.2,
             "#de77ae"
            ],
            [
             0.3,
             "#f1b6da"
            ],
            [
             0.4,
             "#fde0ef"
            ],
            [
             0.5,
             "#f7f7f7"
            ],
            [
             0.6,
             "#e6f5d0"
            ],
            [
             0.7,
             "#b8e186"
            ],
            [
             0.8,
             "#7fbc41"
            ],
            [
             0.9,
             "#4d9221"
            ],
            [
             1,
             "#276419"
            ]
           ],
           "sequential": [
            [
             0,
             "#0d0887"
            ],
            [
             0.1111111111111111,
             "#46039f"
            ],
            [
             0.2222222222222222,
             "#7201a8"
            ],
            [
             0.3333333333333333,
             "#9c179e"
            ],
            [
             0.4444444444444444,
             "#bd3786"
            ],
            [
             0.5555555555555556,
             "#d8576b"
            ],
            [
             0.6666666666666666,
             "#ed7953"
            ],
            [
             0.7777777777777778,
             "#fb9f3a"
            ],
            [
             0.8888888888888888,
             "#fdca26"
            ],
            [
             1,
             "#f0f921"
            ]
           ],
           "sequentialminus": [
            [
             0,
             "#0d0887"
            ],
            [
             0.1111111111111111,
             "#46039f"
            ],
            [
             0.2222222222222222,
             "#7201a8"
            ],
            [
             0.3333333333333333,
             "#9c179e"
            ],
            [
             0.4444444444444444,
             "#bd3786"
            ],
            [
             0.5555555555555556,
             "#d8576b"
            ],
            [
             0.6666666666666666,
             "#ed7953"
            ],
            [
             0.7777777777777778,
             "#fb9f3a"
            ],
            [
             0.8888888888888888,
             "#fdca26"
            ],
            [
             1,
             "#f0f921"
            ]
           ]
          },
          "colorway": [
           "#636efa",
           "#EF553B",
           "#00cc96",
           "#ab63fa",
           "#FFA15A",
           "#19d3f3",
           "#FF6692",
           "#B6E880",
           "#FF97FF",
           "#FECB52"
          ],
          "font": {
           "color": "#2a3f5f"
          },
          "geo": {
           "bgcolor": "white",
           "lakecolor": "white",
           "landcolor": "#E5ECF6",
           "showlakes": true,
           "showland": true,
           "subunitcolor": "white"
          },
          "hoverlabel": {
           "align": "left"
          },
          "hovermode": "closest",
          "mapbox": {
           "style": "light"
          },
          "paper_bgcolor": "white",
          "plot_bgcolor": "#E5ECF6",
          "polar": {
           "angularaxis": {
            "gridcolor": "white",
            "linecolor": "white",
            "ticks": ""
           },
           "bgcolor": "#E5ECF6",
           "radialaxis": {
            "gridcolor": "white",
            "linecolor": "white",
            "ticks": ""
           }
          },
          "scene": {
           "xaxis": {
            "backgroundcolor": "#E5ECF6",
            "gridcolor": "white",
            "gridwidth": 2,
            "linecolor": "white",
            "showbackground": true,
            "ticks": "",
            "zerolinecolor": "white"
           },
           "yaxis": {
            "backgroundcolor": "#E5ECF6",
            "gridcolor": "white",
            "gridwidth": 2,
            "linecolor": "white",
            "showbackground": true,
            "ticks": "",
            "zerolinecolor": "white"
           },
           "zaxis": {
            "backgroundcolor": "#E5ECF6",
            "gridcolor": "white",
            "gridwidth": 2,
            "linecolor": "white",
            "showbackground": true,
            "ticks": "",
            "zerolinecolor": "white"
           }
          },
          "shapedefaults": {
           "line": {
            "color": "#2a3f5f"
           }
          },
          "ternary": {
           "aaxis": {
            "gridcolor": "white",
            "linecolor": "white",
            "ticks": ""
           },
           "baxis": {
            "gridcolor": "white",
            "linecolor": "white",
            "ticks": ""
           },
           "bgcolor": "#E5ECF6",
           "caxis": {
            "gridcolor": "white",
            "linecolor": "white",
            "ticks": ""
           }
          },
          "title": {
           "x": 0.05
          },
          "xaxis": {
           "automargin": true,
           "gridcolor": "white",
           "linecolor": "white",
           "ticks": "",
           "title": {
            "standoff": 15
           },
           "zerolinecolor": "white",
           "zerolinewidth": 2
          },
          "yaxis": {
           "automargin": true,
           "gridcolor": "white",
           "linecolor": "white",
           "ticks": "",
           "title": {
            "standoff": 15
           },
           "zerolinecolor": "white",
           "zerolinewidth": 2
          }
         }
        },
        "title": {
         "text": "Loss"
        },
        "xaxis": {
         "anchor": "y",
         "domain": [
          0,
          1
         ],
         "title": {
          "text": "Iterations"
         }
        },
        "yaxis": {
         "anchor": "x",
         "domain": [
          0,
          1
         ],
         "title": {
          "text": "Loss"
         }
        }
       }
      },
      "text/html": [
       "<div>                            <div id=\"b2bc7a2b-42aa-4615-ba36-d417f4694965\" class=\"plotly-graph-div\" style=\"height:525px; width:100%;\"></div>            <script type=\"text/javascript\">                require([\"plotly\"], function(Plotly) {                    window.PLOTLYENV=window.PLOTLYENV || {};                                    if (document.getElementById(\"b2bc7a2b-42aa-4615-ba36-d417f4694965\")) {                    Plotly.newPlot(                        \"b2bc7a2b-42aa-4615-ba36-d417f4694965\",                        [{\"mode\": \"lines\", \"name\": \"Value Loss\", \"type\": \"scatter\", \"x\": [0, 1, 2, 3, 4, 5, 6, 7, 8, 9, 10, 11, 12, 13, 14, 15, 16, 17, 18, 19, 20, 21, 22, 23, 24, 25, 26, 27, 28, 29, 30, 31, 32, 33, 34, 35, 36, 37, 38, 39, 40, 41, 42, 43, 44, 45, 46, 47, 48, 49, 50, 51, 52, 53, 54, 55, 56, 57, 58, 59, 60, 61, 62, 63, 64, 65, 66, 67, 68, 69, 70, 71, 72, 73, 74, 75, 76, 77, 78, 79, 80, 81, 82, 83, 84, 85, 86, 87, 88, 89, 90, 91, 92, 93, 94, 95, 96, 97, 98, 99, 100, 101, 102, 103, 104, 105, 106, 107, 108, 109, 110, 111, 112, 113, 114, 115, 116, 117, 118, 119, 120, 121, 122, 123, 124, 125, 126, 127, 128, 129, 130, 131, 132, 133, 134, 135, 136, 137, 138, 139, 140, 141, 142, 143, 144, 145, 146, 147, 148, 149, 150, 151, 152, 153, 154, 155, 156, 157, 158, 159, 160, 161, 162, 163, 164, 165, 166, 167, 168, 169, 170, 171, 172, 173, 174, 175, 176, 177, 178, 179, 180, 181, 182, 183, 184, 185, 186, 187, 188, 189, 190, 191, 192, 193, 194, 195, 196, 197, 198, 199, 200, 201, 202, 203, 204, 205, 206, 207, 208, 209, 210, 211, 212, 213, 214, 215, 216, 217, 218, 219, 220, 221, 222, 223, 224, 225, 226, 227, 228, 229, 230, 231, 232, 233, 234, 235, 236, 237, 238, 239, 240, 241, 242, 243, 244, 245, 246, 247, 248, 249, 250, 251, 252, 253, 254, 255, 256, 257, 258, 259, 260, 261, 262, 263, 264, 265, 266, 267, 268, 269, 270, 271, 272, 273, 274, 275, 276, 277, 278, 279, 280, 281, 282, 283, 284, 285, 286, 287, 288, 289, 290, 291, 292, 293, 294, 295, 296, 297, 298, 299, 300, 301, 302, 303, 304, 305, 306, 307, 308, 309, 310, 311, 312, 313, 314, 315, 316, 317, 318, 319, 320, 321, 322, 323, 324, 325, 326, 327, 328, 329, 330, 331, 332, 333, 334, 335, 336, 337, 338, 339, 340, 341, 342, 343, 344, 345, 346, 347, 348, 349, 350, 351, 352, 353, 354, 355, 356, 357, 358, 359, 360, 361, 362, 363, 364, 365, 366, 367, 368, 369, 370, 371, 372, 373, 374, 375, 376, 377, 378, 379, 380, 381, 382, 383, 384, 385, 386, 387, 388, 389, 390, 391, 392, 393, 394, 395, 396, 397, 398, 399, 400, 401, 402, 403, 404, 405, 406, 407, 408, 409, 410, 411, 412, 413, 414, 415, 416, 417, 418, 419, 420, 421, 422, 423, 424, 425, 426, 427, 428, 429, 430, 431, 432, 433, 434, 435, 436, 437, 438, 439, 440, 441, 442, 443, 444, 445, 446, 447, 448, 449, 450, 451, 452, 453, 454, 455, 456, 457, 458, 459, 460, 461, 462, 463, 464, 465, 466, 467, 468, 469, 470, 471, 472, 473, 474, 475, 476, 477, 478, 479, 480, 481, 482, 483, 484, 485, 486, 487, 488, 489, 490], \"xaxis\": \"x\", \"y\": [4.3938825011253355, 3.5643823027610777, 2.851675641536713, 2.591780388355255, 2.521896040439606, 2.1636612892150877, 1.9049822092056274, 1.8671639561653137, 1.759876263141632, 1.6262768030166626, 1.426092153787613, 1.2918107092380524, 1.1216616332530975, 1.0137015521526336, 0.9095802277326583, 0.803407809138298, 0.7158780425786972, 0.6564633756875992, 0.5926179170608521, 0.5152486234903335, 0.46658400148153306, 0.3908338904380798, 0.35779195427894595, 0.30681336522102354, 0.29338051080703736, 0.2799337536096573, 0.27414061278104784, 0.2571830600500107, 0.23854594230651854, 0.22505876272916794, 0.21479232907295226, 0.20839399546384813, 0.20561196506023408, 0.1977257177233696, 0.17235028371214867, 0.1470690704882145, 0.13516405671834947, 0.1321633666753769, 0.12535085901618004, 0.11680119335651398, 0.11160376593470574, 0.10682201310992241, 0.09981812611222267, 0.0968117170035839, 0.09187358468770981, 0.08543389551341533, 0.08233860097825527, 0.07668399512767791, 0.07319592572748661, 0.07048368640244007, 0.06719732880592347, 0.06277363747358322, 0.057036192715168, 0.05232415534555912, 0.04950043484568596, 0.04820150062441826, 0.043356869369745255, 0.04483657367527485, 0.04310945533216, 0.042100421525537966, 0.03900197986513376, 0.0377008905634284, 0.03686284217983484, 0.035763269476592544, 0.035189176350831984, 0.03544537778943777, 0.034032754600048065, 0.03030785508453846, 0.029162835516035556, 0.028313951194286348, 0.02775937095284462, 0.02658934872597456, 0.024347249791026114, 0.023462747037410737, 0.02371209841221571, 0.023218304477632047, 0.021943804528564214, 0.020456139277666808, 0.020661672856658698, 0.019833100028336048, 0.019301898963749408, 0.01923900991678238, 0.018192397244274617, 0.01770273456349969, 0.017098904866725207, 0.016395559906959532, 0.016340803261846303, 0.015121390298008918, 0.013794291578233243, 0.014300361555069686, 0.013566829264163971, 0.012565770093351603, 0.012344861775636673, 0.01208992525935173, 0.011657106224447489, 0.010977351479232312, 0.010763047635555268, 0.010918155871331691, 0.010250348504632712, 0.00968156661838293, 0.009419989213347435, 0.009284900967031717, 0.008880262356251478, 0.00839856336824596, 0.008055261243134737, 0.008152278745546937, 0.007462162571027875, 0.007310938974842429, 0.007204542914405465, 0.006926251389086246, 0.0068656923715025185, 0.007296692999079824, 0.0074068105313926935, 0.0076648669317364694, 0.0076597115024924275, 0.007551527395844459, 0.0074337661731988195, 0.007322558388113976, 0.007336802780628204, 0.0071685371920466425, 0.0070083335041999815, 0.006734120566397906, 0.0065793602261692286, 0.006124720349907875, 0.00582857858389616, 0.005877467803657055, 0.0058811410330235955, 0.0058398428838700054, 0.006010538572445512, 0.00628279410302639, 0.006338344141840935, 0.0059028913266956804, 0.005764164868742228, 0.005936605203896761, 0.006087181577458978, 0.005918769724667072, 0.006015878589823842, 0.005899523617699742, 0.005642756354063749, 0.005499738268554211, 0.005270179081708193, 0.00521639846265316, 0.00508168488740921, 0.004935612482950091, 0.004821920162066817, 0.004723506327718496, 0.004644832480698824, 0.004618841176852584, 0.004494619742035866, 0.004114191955886781, 0.003920573461800814, 0.0038253664504736664, 0.003824383718892932, 0.003742693294771016, 0.003716955007985234, 0.0036151821725070475, 0.0035248439759016036, 0.0034819912165403367, 0.0035783916246145964, 0.0038378134602680804, 0.004148248257115484, 0.0041333908215165135, 0.00410817104857415, 0.004221409140154719, 0.0043901783181354405, 0.004424194246530533, 0.004427730105817318, 0.004346192511729896, 0.004446970135904849, 0.004344991338439286, 0.004249809333123267, 0.004196838033385575, 0.004221032583154738, 0.00403015201445669, 0.003888018219731748, 0.004029777320101857, 0.004004069929942488, 0.004100394551642239, 0.0039044126169756055, 0.0038485237630084155, 0.003782516997307539, 0.003805748466402292, 0.0037005610764026644, 0.0038703744765371086, 0.0037764809327200054, 0.0036009214352816345, 0.0037334895227104426, 0.0036971673369407656, 0.0037228211760520933, 0.003774567833170295, 0.004021477629430592, 0.004009602591395378, 0.003962375759147108, 0.0039231297327205535, 0.0038428675383329392, 0.0039606866193935275, 0.0038725601276382803, 0.0038142782170325516, 0.0038213139865547418, 0.0036711137043312194, 0.003397334786131978, 0.0033734602853655814, 0.0034948217449709772, 0.0033517328323796392, 0.003958151559345424, 0.0040549274766817685, 0.004424842237494886, 0.004430501884780824, 0.004630175489000976, 0.004762916546314955, 0.004830277361907065, 0.0049760168418288234, 0.005048307054676115, 0.005199001566506922, 0.0045874750474467875, 0.004272891604341566, 0.003919596620835364, 0.0037624943535774944, 0.003471880219876766, 0.0035322092473506926, 0.0034357720986008646, 0.003333509620279074, 0.003283451613970101, 0.0031354569597169756, 0.00343697106000036, 0.0035500013967975975, 0.0034544418100267648, 0.0036521390080451964, 0.0037127412389963864, 0.003628868842497468, 0.003658050112426281, 0.0037242540158331392, 0.0037068239180371165, 0.0036723456578329206, 0.003554849629290402, 0.003800507471896708, 0.00406407741829753, 0.004092596843838692, 0.004028389952145517, 0.004276272072456777, 0.004360658559016883, 0.004382754326798022, 0.0043363843346014615, 0.004432101524434984, 0.004344488843344152, 0.004085479583591223, 0.0037678647320717575, 0.003605807782150805, 0.0036075191339477895, 0.003159517515450716, 0.003050357475876808, 0.0027522371616214513, 0.0026562720304355025, 0.002459596609696746, 0.0022005570470355453, 0.0020692329038865865, 0.0019775793538428844, 0.001933457760605961, 0.0018031662562862038, 0.0018078600172884763, 0.001657514739781618, 0.001645432144869119, 0.0016767891007475554, 0.0018386617884971201, 0.0019116043928079306, 0.001992812694516033, 0.0020301498821936547, 0.002110987377818674, 0.002138780627865344, 0.002116462937556207, 0.002157780376728624, 0.002224298776127398, 0.0021268819109536707, 0.0020265525789000096, 0.0022777152713388204, 0.0021622249856591224, 0.002257381356321275, 0.002268265839666128, 0.002473397774156183, 0.0026299502118490637, 0.0032639256096445024, 0.0033037206972949206, 0.003493332304060459, 0.0036381711717694996, 0.003799089044332504, 0.003835502476431429, 0.004072886100038886, 0.0039456338970921935, 0.003842673858162016, 0.0036881182459183037, 0.003100306785199791, 0.0031318439985625448, 0.002888418396469206, 0.0029690065304748712, 0.0026143598021008073, 0.0028072195942513644, 0.0024571567890234293, 0.0027477822965011, 0.0026713692815974353, 0.002922805561684072, 0.0028992420993745327, 0.0031764403684064746, 0.0034207981545478104, 0.0031492553767748176, 0.003167335863690823, 0.002934059058316052, 0.0029523845412768425, 0.0026110621984116733, 0.002554560697171837, 0.0022443535970523955, 0.002168133039958775, 0.0017121428274549544, 0.001555263076443225, 0.0015092967078089714, 0.001419052854180336, 0.0013165268464945257, 0.0012879349058493971, 0.001267518021631986, 0.0011935329530388117, 0.0012185522471554577, 0.001242782303597778, 0.0012648204574361444, 0.0013149824226275086, 0.0012708256428595633, 0.0013371909211855383, 0.0013921549369115382, 0.0014306409342680127, 0.0015575121098663658, 0.001579390646656975, 0.0017059838341083378, 0.0016448603069875388, 0.0016357742657419293, 0.0015928241715300827, 0.001643487869296223, 0.0017104005557484925, 0.0017535326303914189, 0.0016641807917039842, 0.0016176288307178765, 0.0016345779818948357, 0.0015009668248239904, 0.0014984662586357445, 0.0015248044335749, 0.001455161551712081, 0.0015030572598334403, 0.001361913833534345, 0.001355954847531393, 0.001409837673418224, 0.001364320982247591, 0.0013790726428851486, 0.0013690989813767373, 0.0014186281594447791, 0.0013594496762380005, 0.0013847362366504966, 0.0013052548398263752, 0.0013098635245114565, 0.0012341284251306205, 0.001180905511137098, 0.0011374414316378534, 0.0011073839850723743, 0.0010716794815380127, 0.0009961061819922178, 0.000983290612930432, 0.000992248236434534, 0.0009743921051267535, 0.0009925604390446097, 0.0009871079702861608, 0.0011125302349682896, 0.0010762329096905888, 0.0010830271989107133, 0.0010860308597330005, 0.001109744905261323, 0.0011037306045182048, 0.001156055217143148, 0.0011553564923815428, 0.0011173555627465247, 0.0011951745953410863, 0.001143299276009202, 0.0012091202719602735, 0.0012499872187618165, 0.0012329885736107825, 0.0013351964298635721, 0.0013059175485977902, 0.0012931637495057658, 0.0013592741364846007, 0.0013433219894068316, 0.0013021771359490232, 0.0012732024100841955, 0.0012734993506455794, 0.0012855406414018944, 0.0014421348663745449, 0.0013987505080876872, 0.0017064091749489307, 0.0016947772819548845, 0.0018777220626361667, 0.002008328656665981, 0.0022998758824542163, 0.0023199230898171665, 0.002510269801132381, 0.0024348887614905833, 0.0024983630049973727, 0.0024048800463788212, 0.002209947805386037, 0.0022243489627726378, 0.0021260204375721514, 0.0020281498786062003, 0.0018285612110048532, 0.001773481082636863, 0.0016995768644846975, 0.0017949066939763724, 0.0016325475531630217, 0.0016958267893642186, 0.0016933277365751565, 0.0015943112259265036, 0.0014903019240591676, 0.0014264218392781914, 0.0013998179580084979, 0.0013749865698628127, 0.0012589692487381399, 0.001223134237807244, 0.0011997156660072505, 0.0012255186680704354, 0.0011883082683198155, 0.0012151782575529069, 0.001213045377517119, 0.0012855969020165504, 0.0011868313828017562, 0.0011818530212622136, 0.0011296905810013413, 0.001064880465855822, 0.0010893442027736454, 0.000986102450406179, 0.0009510622243396938, 0.0008943699125666171, 0.0008341899898368865, 0.000767534872284159, 0.0007447694311849773, 0.0007472801487892866, 0.0007405541313346475, 0.0007278085045982152, 0.0006738925352692604, 0.0006893546611536294, 0.0006933381024282426, 0.0007099955691955984, 0.0007352986605837942, 0.0007350974716246128, 0.0009149870136752724, 0.0011905004736036061, 0.0011851914168801159, 0.0012571498053148388, 0.0012849231890868396, 0.0013140200404450296, 0.0013865598186384887, 0.0014092598983552306, 0.0013993429543916135, 0.0014928368444088846, 0.0013369366235565395, 0.0011237240221817046, 0.0011093394947238266, 0.0010855239583179356, 0.0010716723278164863, 0.0010555777931585907, 0.0009886527666822075, 0.0009638007846660912, 0.0010423550382256507, 0.000959463621256873, 0.0010273793886881322, 0.0009841379651334137, 0.0010844572621863335, 0.0010405119566712529, 0.0011416439374443144, 0.0011599137505982071, 0.0011992598243523388, 0.0012358784966636448, 0.0011836366669740529, 0.001199605141300708, 0.0011236144171562045, 0.0011066298407968133, 0.0010674345016013832, 0.0011000767874065787, 0.0010213409201242029, 0.0010153828305192291, 0.0009802549320738763, 0.0009457896405365318, 0.0008934701327234507, 0.0009528638562187553, 0.0010443505540024488, 0.0010762802150566131, 0.0012615236279089003, 0.001243206695653498, 0.0014336932043079286, 0.0014308275131043047], \"yaxis\": \"y\"}, {\"mode\": \"lines\", \"name\": \"Control Loss\", \"type\": \"scatter\", \"x\": [0, 1, 2, 3, 4, 5, 6, 7, 8, 9, 10, 11, 12, 13, 14, 15, 16, 17, 18, 19, 20, 21, 22, 23, 24, 25, 26, 27, 28, 29, 30, 31, 32, 33, 34, 35, 36, 37, 38, 39, 40, 41, 42, 43, 44, 45, 46, 47, 48, 49, 50, 51, 52, 53, 54, 55, 56, 57, 58, 59, 60, 61, 62, 63, 64, 65, 66, 67, 68, 69, 70, 71, 72, 73, 74, 75, 76, 77, 78, 79, 80, 81, 82, 83, 84, 85, 86, 87, 88, 89, 90, 91, 92, 93, 94, 95, 96, 97, 98, 99, 100, 101, 102, 103, 104, 105, 106, 107, 108, 109, 110, 111, 112, 113, 114, 115, 116, 117, 118, 119, 120, 121, 122, 123, 124, 125, 126, 127, 128, 129, 130, 131, 132, 133, 134, 135, 136, 137, 138, 139, 140, 141, 142, 143, 144, 145, 146, 147, 148, 149, 150, 151, 152, 153, 154, 155, 156, 157, 158, 159, 160, 161, 162, 163, 164, 165, 166, 167, 168, 169, 170, 171, 172, 173, 174, 175, 176, 177, 178, 179, 180, 181, 182, 183, 184, 185, 186, 187, 188, 189, 190, 191, 192, 193, 194, 195, 196, 197, 198, 199, 200, 201, 202, 203, 204, 205, 206, 207, 208, 209, 210, 211, 212, 213, 214, 215, 216, 217, 218, 219, 220, 221, 222, 223, 224, 225, 226, 227, 228, 229, 230, 231, 232, 233, 234, 235, 236, 237, 238, 239, 240, 241, 242, 243, 244, 245, 246, 247, 248, 249, 250, 251, 252, 253, 254, 255, 256, 257, 258, 259, 260, 261, 262, 263, 264, 265, 266, 267, 268, 269, 270, 271, 272, 273, 274, 275, 276, 277, 278, 279, 280, 281, 282, 283, 284, 285, 286, 287, 288, 289, 290, 291, 292, 293, 294, 295, 296, 297, 298, 299, 300, 301, 302, 303, 304, 305, 306, 307, 308, 309, 310, 311, 312, 313, 314, 315, 316, 317, 318, 319, 320, 321, 322, 323, 324, 325, 326, 327, 328, 329, 330, 331, 332, 333, 334, 335, 336, 337, 338, 339, 340, 341, 342, 343, 344, 345, 346, 347, 348, 349, 350, 351, 352, 353, 354, 355, 356, 357, 358, 359, 360, 361, 362, 363, 364, 365, 366, 367, 368, 369, 370, 371, 372, 373, 374, 375, 376, 377, 378, 379, 380, 381, 382, 383, 384, 385, 386, 387, 388, 389, 390, 391, 392, 393, 394, 395, 396, 397, 398, 399, 400, 401, 402, 403, 404, 405, 406, 407, 408, 409, 410, 411, 412, 413, 414, 415, 416, 417, 418, 419, 420, 421, 422, 423, 424, 425, 426, 427, 428, 429, 430, 431, 432, 433, 434, 435, 436, 437, 438, 439, 440, 441, 442, 443, 444, 445, 446, 447, 448, 449, 450, 451, 452, 453, 454, 455, 456, 457, 458, 459, 460, 461, 462, 463, 464, 465, 466, 467, 468, 469, 470, 471, 472, 473, 474, 475, 476, 477, 478, 479, 480, 481, 482, 483, 484, 485, 486, 487, 488, 489, 490], \"xaxis\": \"x\", \"y\": [1.3627161264419556, 1.1958690762519837, 0.99998859167099, 0.9191443711519242, 0.9299828886985779, 0.9379208236932755, 0.8701549917459488, 0.7269114702939987, 0.5812533527612687, 0.49840623438358306, 0.4639201074838638, 0.4857590585947037, 0.5124651223421097, 0.5197423815727233, 0.5054544508457184, 0.5040283173322677, 0.5153467446565628, 0.530549281835556, 0.537344753742218, 0.5200317591428757, 0.4843562185764313, 0.4148154318332672, 0.39328643679618835, 0.38393978476524354, 0.41059094965457915, 0.41744897067546843, 0.4075558617711067, 0.39169411063194276, 0.37189995050430297, 0.38093568086624147, 0.39149440824985504, 0.4032620042562485, 0.4074188441038132, 0.4055913031101227, 0.3898963987827301, 0.3788166791200638, 0.391696135699749, 0.4152837246656418, 0.4329954028129578, 0.42954357266426085, 0.4165153354406357, 0.3963059425354004, 0.37311437726020813, 0.35999043881893156, 0.35778685510158537, 0.3659894108772278, 0.37500895857810973, 0.37027975022792814, 0.3569848150014877, 0.3507013976573944, 0.35020441114902495, 0.3570291608572006, 0.3714489102363586, 0.380936461687088, 0.3751864105463028, 0.36393214464187623, 0.34853007197380065, 0.34142077565193174, 0.3446476191282272, 0.34862537384033204, 0.3496512621641159, 0.34568060338497164, 0.33309068977832795, 0.3252644926309586, 0.3296184241771698, 0.3362526684999466, 0.338612025976181, 0.33886611759662627, 0.3294914156198502, 0.32193482518196104, 0.3146521896123886, 0.31476283073425293, 0.3191979587078094, 0.31581194400787355, 0.3091073215007782, 0.30400721430778505, 0.3035742104053497, 0.3076292186975479, 0.31257721185684206, 0.3084697872400284, 0.302162928879261, 0.29776292890310285, 0.298126657307148, 0.3035933837294579, 0.30791202038526533, 0.30441322177648544, 0.29876243621110915, 0.28813490122556684, 0.2843565419316292, 0.28720117062330247, 0.2926382839679718, 0.29122101366519926, 0.28616730570793153, 0.2803070217370987, 0.2769908428192139, 0.27757487893104554, 0.27637620866298673, 0.2750185951590538, 0.27591653615236283, 0.27458371967077255, 0.2734518364071846, 0.2738040998578072, 0.27200291603803634, 0.26946711391210554, 0.2663334205746651, 0.2664336785674095, 0.26811448484659195, 0.26899648606777193, 0.26667787730693815, 0.26294569075107577, 0.26078351140022277, 0.26089621186256406, 0.2609955668449402, 0.2590823322534561, 0.2570121228694916, 0.25363554060459137, 0.25274543166160585, 0.2528666824102402, 0.2518225148320198, 0.25076305866241455, 0.24640023410320283, 0.24130116701126098, 0.23863551020622253, 0.24113174080848693, 0.24187807589769364, 0.24148726016283034, 0.23805689662694932, 0.23317602574825286, 0.23132840245962144, 0.23047816902399063, 0.23101318031549453, 0.23025380223989486, 0.2296164110302925, 0.22761704176664352, 0.2266412928700447, 0.2249647542834282, 0.22238149046897887, 0.22440151423215865, 0.2248256355524063, 0.2241796463727951, 0.22282232195138932, 0.22058842331171036, 0.22064075320959092, 0.22000207751989365, 0.21590878069400787, 0.21224671304225923, 0.21139130145311355, 0.21122574359178542, 0.2094838112592697, 0.20784744173288344, 0.2071492075920105, 0.20680311918258668, 0.20493548065423967, 0.20229189544916154, 0.2031801462173462, 0.2041644349694252, 0.20379984080791474, 0.201222226023674, 0.2001671388745308, 0.19801122993230819, 0.19463362842798232, 0.1952065572142601, 0.194837349653244, 0.1926371529698372, 0.1894610792398453, 0.188332761824131, 0.1896468684077263, 0.1910260409116745, 0.18823352009057998, 0.18638961315155028, 0.18713602423667908, 0.18688200414180756, 0.18606488555669784, 0.18627059012651442, 0.1857777714729309, 0.18531603515148162, 0.1827851265668869, 0.1793086126446724, 0.17782608419656754, 0.17808250784873964, 0.17863197922706603, 0.17695620954036712, 0.17546596229076386, 0.1752555713057518, 0.17270479053258897, 0.1699370712041855, 0.1682899385690689, 0.16788728088140487, 0.16882674098014833, 0.17031994760036467, 0.1685238540172577, 0.1652894213795662, 0.16216723918914794, 0.1593974620103836, 0.16124702841043473, 0.16074267625808716, 0.15859291404485704, 0.1575324833393097, 0.1574164316058159, 0.15457044541835785, 0.1498723544180393, 0.14909350499510765, 0.15230853632092475, 0.15468106642365456, 0.1490216039121151, 0.14548290222883226, 0.14683182090520858, 0.1498850852251053, 0.14849239438772202, 0.1448133409023285, 0.14524437710642815, 0.14689470902085305, 0.14515568539500237, 0.14300959035754204, 0.14557790383696556, 0.1479549840092659, 0.14588923901319503, 0.141115802526474, 0.14100199192762375, 0.14166256189346313, 0.14058250263333322, 0.1380995877087116, 0.13624308928847312, 0.13423623368144036, 0.13263070359826087, 0.1306863971054554, 0.13045130148530007, 0.1312687061727047, 0.12963055595755577, 0.12963461577892305, 0.13198387995362282, 0.13184612318873407, 0.12946087047457694, 0.1273539498448372, 0.1267930045723915, 0.13187052309513092, 0.13280271142721176, 0.1260705605149269, 0.1216615803539753, 0.1229405790567398, 0.12446584850549698, 0.12320725545287133, 0.12082412317395211, 0.12168091610074043, 0.1245307169854641, 0.12168560847640038, 0.11775830537080764, 0.11898253113031387, 0.12248501703143119, 0.12247216627001763, 0.11743938326835632, 0.1141816221177578, 0.11481792032718659, 0.11442502439022065, 0.11294032856822014, 0.1102798894047737, 0.10934737026691436, 0.10954029932618141, 0.10879926681518555, 0.10705994740128517, 0.10682405605912208, 0.10771339237689972, 0.11047470942139626, 0.10971770659089089, 0.1056598424911499, 0.10553307831287384, 0.10807769894599914, 0.10761008411645889, 0.10398778319358826, 0.10238780453801155, 0.10390677601099015, 0.10459062308073044, 0.10045037418603897, 0.09950949102640153, 0.10332135558128357, 0.10404649004340172, 0.09887808039784432, 0.09475426822900772, 0.0956527277827263, 0.09981250017881393, 0.09841699749231339, 0.09362452626228332, 0.09210541620850562, 0.09542392790317536, 0.0949019357562065, 0.08948860913515091, 0.09007756412029266, 0.09631956070661545, 0.09853762984275818, 0.09157715067267418, 0.087815573066473, 0.09244504868984223, 0.09722646549344063, 0.0914885275065899, 0.08494031876325607, 0.08804907575249672, 0.09284542649984359, 0.08987080901861191, 0.0830805778503418, 0.08536445870995521, 0.09095404744148254, 0.08743211627006531, 0.08146848678588867, 0.08446494936943054, 0.08930146917700768, 0.08649181872606278, 0.0808340810239315, 0.0806776687502861, 0.08454683870077133, 0.08317626044154167, 0.07931494042277336, 0.08134840950369834, 0.08237151727080345, 0.07923565059900284, 0.07800401598215104, 0.08020892888307571, 0.08093890324234962, 0.07940630763769149, 0.07852834835648537, 0.07903531417250634, 0.07803568765521049, 0.07607508897781372, 0.07703471928834915, 0.07837612181901932, 0.07758530303835869, 0.07539263740181923, 0.07470870912075042, 0.07473314553499222, 0.07554871439933777, 0.07548305988311768, 0.07573889121413231, 0.07492455281317234, 0.07145136184990405, 0.071336455270648, 0.0725100789219141, 0.07292186729609966, 0.07117554061114788, 0.07081701345741749, 0.0710984792560339, 0.07084857262670993, 0.06878807358443736, 0.06845207661390304, 0.07139392346143722, 0.06890804767608642, 0.06548819616436959, 0.06548039764165878, 0.06723911389708519, 0.06621337085962295, 0.06331684477627278, 0.06252524591982364, 0.06422825716435909, 0.0632852416485548, 0.06162992529571056, 0.06363032720983028, 0.06456098146736622, 0.06203962415456772, 0.06102641709148884, 0.061913608387112615, 0.06227857619524002, 0.06002080515027046, 0.05936898738145828, 0.06248101890087128, 0.06192881427705288, 0.05813929140567779, 0.05868367478251457, 0.06312058232724667, 0.06233375556766987, 0.059075788035988806, 0.059777867421507834, 0.06203684844076633, 0.061169577017426494, 0.056549974158406256, 0.05764895007014274, 0.0613229651004076, 0.05949796363711357, 0.05322588086128235, 0.05249522291123867, 0.05588575266301632, 0.05567469783127308, 0.051449451595544815, 0.051456117630004884, 0.05495189949870109, 0.05282135829329491, 0.049246951937675476, 0.05053158812224865, 0.05413788296282292, 0.05266058221459389, 0.05005666166543961, 0.05196976587176323, 0.055506663396954536, 0.050062665232690054, 0.045949366391869265, 0.051802464277716356, 0.05426407203194685, 0.04877613101270981, 0.04630967851844616, 0.05153331820038147, 0.0532379804935772, 0.04710709814098664, 0.04537821475532837, 0.052130303159356114, 0.052738473005592826, 0.04510734099894762, 0.04523456785827875, 0.05085091963410378, 0.05065219737589359, 0.043696184642612934, 0.04353360291570425, 0.04757193829864263, 0.046686689369380474, 0.04260091539472342, 0.045135450549423695, 0.048329065553843975, 0.046156078763306144, 0.04396537635475397, 0.04548201505094766, 0.049235372245311736, 0.045739392191171645, 0.04393657110631466, 0.045955919101834296, 0.0481858130544424, 0.04491919092833996, 0.042010954953730105, 0.04338181596249342, 0.043604517541825774, 0.041387952864170074, 0.04058392867445946, 0.042882020398974416, 0.041608783230185506, 0.040754739195108414, 0.04127912074327469, 0.042796704545617105, 0.043759132735431194, 0.04263763967901468, 0.0429423002526164, 0.04306900817900896, 0.04241128694266081, 0.043578320555388926, 0.04393031466752291, 0.04055223446339369, 0.03884239848703146, 0.04018439557403326, 0.04180332440882921, 0.0392522593960166, 0.03639090284705162, 0.040829876251518724, 0.04215089660137892, 0.039049303717911245, 0.0390187056735158, 0.04252182822674513, 0.04173877276480198, 0.03935920633375645, 0.03843788281083107, 0.040831358730793, 0.04051059782505036, 0.03544357977807522, 0.034337186440825465, 0.036540137603878975, 0.03646967001259327, 0.032911738567054274, 0.033312619850039485, 0.03568677343428135, 0.035148919001221655, 0.0332576984539628, 0.035828440263867375, 0.037968759983778, 0.0361304746940732, 0.035029337741434574, 0.03704402949661016, 0.036563170794397595, 0.03445517299696803, 0.03367772093042731, 0.03457511207088828, 0.03339848509058356, 0.0315098094753921, 0.03199954992160201, 0.03401561239734292, 0.03236965024843812, 0.029561371821910144, 0.03389044888317585, 0.03774396162480116, 0.03601655550301075, 0.033623176999390124, 0.03696061968803406, 0.03670202884823084, 0.03438890352845192, 0.035076841711997986, 0.03729218579828739, 0.035397150367498395, 0.030391729809343813, 0.02970001716166735], \"yaxis\": \"y\"}],                        {\"font\": {\"family\": \"Courier New, monospace\", \"size\": 14}, \"template\": {\"data\": {\"bar\": [{\"error_x\": {\"color\": \"#2a3f5f\"}, \"error_y\": {\"color\": \"#2a3f5f\"}, \"marker\": {\"line\": {\"color\": \"#E5ECF6\", \"width\": 0.5}}, \"type\": \"bar\"}], \"barpolar\": [{\"marker\": {\"line\": {\"color\": \"#E5ECF6\", \"width\": 0.5}}, \"type\": \"barpolar\"}], \"carpet\": [{\"aaxis\": {\"endlinecolor\": \"#2a3f5f\", \"gridcolor\": \"white\", \"linecolor\": \"white\", \"minorgridcolor\": \"white\", \"startlinecolor\": \"#2a3f5f\"}, \"baxis\": {\"endlinecolor\": \"#2a3f5f\", \"gridcolor\": \"white\", \"linecolor\": \"white\", \"minorgridcolor\": \"white\", \"startlinecolor\": \"#2a3f5f\"}, \"type\": \"carpet\"}], \"choropleth\": [{\"colorbar\": {\"outlinewidth\": 0, \"ticks\": \"\"}, \"type\": \"choropleth\"}], \"contour\": [{\"colorbar\": {\"outlinewidth\": 0, \"ticks\": \"\"}, \"colorscale\": [[0.0, \"#0d0887\"], [0.1111111111111111, \"#46039f\"], [0.2222222222222222, \"#7201a8\"], [0.3333333333333333, \"#9c179e\"], [0.4444444444444444, \"#bd3786\"], [0.5555555555555556, \"#d8576b\"], [0.6666666666666666, \"#ed7953\"], [0.7777777777777778, \"#fb9f3a\"], [0.8888888888888888, \"#fdca26\"], [1.0, \"#f0f921\"]], \"type\": \"contour\"}], \"contourcarpet\": [{\"colorbar\": {\"outlinewidth\": 0, \"ticks\": \"\"}, \"type\": \"contourcarpet\"}], \"heatmap\": [{\"colorbar\": {\"outlinewidth\": 0, \"ticks\": \"\"}, \"colorscale\": [[0.0, \"#0d0887\"], [0.1111111111111111, \"#46039f\"], [0.2222222222222222, \"#7201a8\"], [0.3333333333333333, \"#9c179e\"], [0.4444444444444444, \"#bd3786\"], [0.5555555555555556, \"#d8576b\"], [0.6666666666666666, \"#ed7953\"], [0.7777777777777778, \"#fb9f3a\"], [0.8888888888888888, \"#fdca26\"], [1.0, \"#f0f921\"]], \"type\": \"heatmap\"}], \"heatmapgl\": [{\"colorbar\": {\"outlinewidth\": 0, \"ticks\": \"\"}, \"colorscale\": [[0.0, \"#0d0887\"], [0.1111111111111111, \"#46039f\"], [0.2222222222222222, \"#7201a8\"], [0.3333333333333333, \"#9c179e\"], [0.4444444444444444, \"#bd3786\"], [0.5555555555555556, \"#d8576b\"], [0.6666666666666666, \"#ed7953\"], [0.7777777777777778, \"#fb9f3a\"], [0.8888888888888888, \"#fdca26\"], [1.0, \"#f0f921\"]], \"type\": \"heatmapgl\"}], \"histogram\": [{\"marker\": {\"colorbar\": {\"outlinewidth\": 0, \"ticks\": \"\"}}, \"type\": \"histogram\"}], \"histogram2d\": [{\"colorbar\": {\"outlinewidth\": 0, \"ticks\": \"\"}, \"colorscale\": [[0.0, \"#0d0887\"], [0.1111111111111111, \"#46039f\"], [0.2222222222222222, \"#7201a8\"], [0.3333333333333333, \"#9c179e\"], [0.4444444444444444, \"#bd3786\"], [0.5555555555555556, \"#d8576b\"], [0.6666666666666666, \"#ed7953\"], [0.7777777777777778, \"#fb9f3a\"], [0.8888888888888888, \"#fdca26\"], [1.0, \"#f0f921\"]], \"type\": \"histogram2d\"}], \"histogram2dcontour\": [{\"colorbar\": {\"outlinewidth\": 0, \"ticks\": \"\"}, \"colorscale\": [[0.0, \"#0d0887\"], [0.1111111111111111, \"#46039f\"], [0.2222222222222222, \"#7201a8\"], [0.3333333333333333, \"#9c179e\"], [0.4444444444444444, \"#bd3786\"], [0.5555555555555556, \"#d8576b\"], [0.6666666666666666, \"#ed7953\"], [0.7777777777777778, \"#fb9f3a\"], [0.8888888888888888, \"#fdca26\"], [1.0, \"#f0f921\"]], \"type\": \"histogram2dcontour\"}], \"mesh3d\": [{\"colorbar\": {\"outlinewidth\": 0, \"ticks\": \"\"}, \"type\": \"mesh3d\"}], \"parcoords\": [{\"line\": {\"colorbar\": {\"outlinewidth\": 0, \"ticks\": \"\"}}, \"type\": \"parcoords\"}], \"pie\": [{\"automargin\": true, \"type\": \"pie\"}], \"scatter\": [{\"marker\": {\"colorbar\": {\"outlinewidth\": 0, \"ticks\": \"\"}}, \"type\": \"scatter\"}], \"scatter3d\": [{\"line\": {\"colorbar\": {\"outlinewidth\": 0, \"ticks\": \"\"}}, \"marker\": {\"colorbar\": {\"outlinewidth\": 0, \"ticks\": \"\"}}, \"type\": \"scatter3d\"}], \"scattercarpet\": [{\"marker\": {\"colorbar\": {\"outlinewidth\": 0, \"ticks\": \"\"}}, \"type\": \"scattercarpet\"}], \"scattergeo\": [{\"marker\": {\"colorbar\": {\"outlinewidth\": 0, \"ticks\": \"\"}}, \"type\": \"scattergeo\"}], \"scattergl\": [{\"marker\": {\"colorbar\": {\"outlinewidth\": 0, \"ticks\": \"\"}}, \"type\": \"scattergl\"}], \"scattermapbox\": [{\"marker\": {\"colorbar\": {\"outlinewidth\": 0, \"ticks\": \"\"}}, \"type\": \"scattermapbox\"}], \"scatterpolar\": [{\"marker\": {\"colorbar\": {\"outlinewidth\": 0, \"ticks\": \"\"}}, \"type\": \"scatterpolar\"}], \"scatterpolargl\": [{\"marker\": {\"colorbar\": {\"outlinewidth\": 0, \"ticks\": \"\"}}, \"type\": \"scatterpolargl\"}], \"scatterternary\": [{\"marker\": {\"colorbar\": {\"outlinewidth\": 0, \"ticks\": \"\"}}, \"type\": \"scatterternary\"}], \"surface\": [{\"colorbar\": {\"outlinewidth\": 0, \"ticks\": \"\"}, \"colorscale\": [[0.0, \"#0d0887\"], [0.1111111111111111, \"#46039f\"], [0.2222222222222222, \"#7201a8\"], [0.3333333333333333, \"#9c179e\"], [0.4444444444444444, \"#bd3786\"], [0.5555555555555556, \"#d8576b\"], [0.6666666666666666, \"#ed7953\"], [0.7777777777777778, \"#fb9f3a\"], [0.8888888888888888, \"#fdca26\"], [1.0, \"#f0f921\"]], \"type\": \"surface\"}], \"table\": [{\"cells\": {\"fill\": {\"color\": \"#EBF0F8\"}, \"line\": {\"color\": \"white\"}}, \"header\": {\"fill\": {\"color\": \"#C8D4E3\"}, \"line\": {\"color\": \"white\"}}, \"type\": \"table\"}]}, \"layout\": {\"annotationdefaults\": {\"arrowcolor\": \"#2a3f5f\", \"arrowhead\": 0, \"arrowwidth\": 1}, \"autotypenumbers\": \"strict\", \"coloraxis\": {\"colorbar\": {\"outlinewidth\": 0, \"ticks\": \"\"}}, \"colorscale\": {\"diverging\": [[0, \"#8e0152\"], [0.1, \"#c51b7d\"], [0.2, \"#de77ae\"], [0.3, \"#f1b6da\"], [0.4, \"#fde0ef\"], [0.5, \"#f7f7f7\"], [0.6, \"#e6f5d0\"], [0.7, \"#b8e186\"], [0.8, \"#7fbc41\"], [0.9, \"#4d9221\"], [1, \"#276419\"]], \"sequential\": [[0.0, \"#0d0887\"], [0.1111111111111111, \"#46039f\"], [0.2222222222222222, \"#7201a8\"], [0.3333333333333333, \"#9c179e\"], [0.4444444444444444, \"#bd3786\"], [0.5555555555555556, \"#d8576b\"], [0.6666666666666666, \"#ed7953\"], [0.7777777777777778, \"#fb9f3a\"], [0.8888888888888888, \"#fdca26\"], [1.0, \"#f0f921\"]], \"sequentialminus\": [[0.0, \"#0d0887\"], [0.1111111111111111, \"#46039f\"], [0.2222222222222222, \"#7201a8\"], [0.3333333333333333, \"#9c179e\"], [0.4444444444444444, \"#bd3786\"], [0.5555555555555556, \"#d8576b\"], [0.6666666666666666, \"#ed7953\"], [0.7777777777777778, \"#fb9f3a\"], [0.8888888888888888, \"#fdca26\"], [1.0, \"#f0f921\"]]}, \"colorway\": [\"#636efa\", \"#EF553B\", \"#00cc96\", \"#ab63fa\", \"#FFA15A\", \"#19d3f3\", \"#FF6692\", \"#B6E880\", \"#FF97FF\", \"#FECB52\"], \"font\": {\"color\": \"#2a3f5f\"}, \"geo\": {\"bgcolor\": \"white\", \"lakecolor\": \"white\", \"landcolor\": \"#E5ECF6\", \"showlakes\": true, \"showland\": true, \"subunitcolor\": \"white\"}, \"hoverlabel\": {\"align\": \"left\"}, \"hovermode\": \"closest\", \"mapbox\": {\"style\": \"light\"}, \"paper_bgcolor\": \"white\", \"plot_bgcolor\": \"#E5ECF6\", \"polar\": {\"angularaxis\": {\"gridcolor\": \"white\", \"linecolor\": \"white\", \"ticks\": \"\"}, \"bgcolor\": \"#E5ECF6\", \"radialaxis\": {\"gridcolor\": \"white\", \"linecolor\": \"white\", \"ticks\": \"\"}}, \"scene\": {\"xaxis\": {\"backgroundcolor\": \"#E5ECF6\", \"gridcolor\": \"white\", \"gridwidth\": 2, \"linecolor\": \"white\", \"showbackground\": true, \"ticks\": \"\", \"zerolinecolor\": \"white\"}, \"yaxis\": {\"backgroundcolor\": \"#E5ECF6\", \"gridcolor\": \"white\", \"gridwidth\": 2, \"linecolor\": \"white\", \"showbackground\": true, \"ticks\": \"\", \"zerolinecolor\": \"white\"}, \"zaxis\": {\"backgroundcolor\": \"#E5ECF6\", \"gridcolor\": \"white\", \"gridwidth\": 2, \"linecolor\": \"white\", \"showbackground\": true, \"ticks\": \"\", \"zerolinecolor\": \"white\"}}, \"shapedefaults\": {\"line\": {\"color\": \"#2a3f5f\"}}, \"ternary\": {\"aaxis\": {\"gridcolor\": \"white\", \"linecolor\": \"white\", \"ticks\": \"\"}, \"baxis\": {\"gridcolor\": \"white\", \"linecolor\": \"white\", \"ticks\": \"\"}, \"bgcolor\": \"#E5ECF6\", \"caxis\": {\"gridcolor\": \"white\", \"linecolor\": \"white\", \"ticks\": \"\"}}, \"title\": {\"x\": 0.05}, \"xaxis\": {\"automargin\": true, \"gridcolor\": \"white\", \"linecolor\": \"white\", \"ticks\": \"\", \"title\": {\"standoff\": 15}, \"zerolinecolor\": \"white\", \"zerolinewidth\": 2}, \"yaxis\": {\"automargin\": true, \"gridcolor\": \"white\", \"linecolor\": \"white\", \"ticks\": \"\", \"title\": {\"standoff\": 15}, \"zerolinecolor\": \"white\", \"zerolinewidth\": 2}}}, \"title\": {\"text\": \"Loss\"}, \"xaxis\": {\"anchor\": \"y\", \"domain\": [0.0, 1.0], \"title\": {\"text\": \"Iterations\"}}, \"yaxis\": {\"anchor\": \"x\", \"domain\": [0.0, 1.0], \"title\": {\"text\": \"Loss\"}}},                        {\"responsive\": true}                    ).then(function(){\n",
       "                            \n",
       "var gd = document.getElementById('b2bc7a2b-42aa-4615-ba36-d417f4694965');\n",
       "var x = new MutationObserver(function (mutations, observer) {{\n",
       "        var display = window.getComputedStyle(gd).display;\n",
       "        if (!display || display === 'none') {{\n",
       "            console.log([gd, 'removed!']);\n",
       "            Plotly.purge(gd);\n",
       "            observer.disconnect();\n",
       "        }}\n",
       "}});\n",
       "\n",
       "// Listen for the removal of the full notebook cells\n",
       "var notebookContainer = gd.closest('#notebook-container');\n",
       "if (notebookContainer) {{\n",
       "    x.observe(notebookContainer, {childList: true});\n",
       "}}\n",
       "\n",
       "// Listen for the clearing of the current output cell\n",
       "var outputEl = gd.closest('.output');\n",
       "if (outputEl) {{\n",
       "    x.observe(outputEl, {childList: true});\n",
       "}}\n",
       "\n",
       "                        })                };                });            </script>        </div>"
      ]
     },
     "metadata": {},
     "output_type": "display_data"
    }
   ],
   "source": [
    "LQR_N_MODEL_CONFIG = {\n",
    "    \"hidden_dim\": 128,\n",
    "    \"learning_rate\": 5e-3,\n",
    "    \"loss_weights\": (1, 0),\n",
    "    \"lr_decay\": 0.99,\n",
    "    \"sampling_method\": \"uniform\",\n",
    "    \"network_type\": \"GRU\",\n",
    "    \"optimiser\": \"Adam\"\n",
    "}\n",
    "eq = LQR_N()\n",
    "model = LQR_N_MODEL_CONFIG\n",
    "solver = DGMPIASolver(model, eq)\n",
    "loss = np.array(list(solver.train(500)))\n",
    "plot_losses(loss)"
   ]
  },
  {
   "cell_type": "markdown",
   "id": "changed-hampshire",
   "metadata": {},
   "source": [
    "#### Simulating the Process:"
   ]
  },
  {
   "cell_type": "markdown",
   "id": "cutting-leather",
   "metadata": {},
   "source": [
    "Let $(\\Omega, \\mathcal{F}, \\{\\mathcal{F}_t\\}_{t\\in [0, T]}, \\mathbb{P})$. We consider\n",
    "$$\n",
    "\\begin{cases}\n",
    "dX_s = [H_sX_s + M_s u_s] ds + \\sigma_s dW_s, \\; s \\in [0, T] \\\\\n",
    "X_0 = x > 0\n",
    "\\end{cases},\n",
    "$$"
   ]
  },
  {
   "cell_type": "code",
   "execution_count": 63,
   "id": "bearing-glossary",
   "metadata": {},
   "outputs": [
    {
     "data": {
      "application/vnd.plotly.v1+json": {
       "config": {
        "plotlyServerURL": "https://plot.ly"
       },
       "data": [
        {
         "line": {
          "color": "#00e476"
         },
         "mode": "lines",
         "name": "Controlled",
         "type": "scatter",
         "x": [
          0,
          0.02040816326530612,
          0.04081632653061224,
          0.061224489795918366,
          0.08163265306122448,
          0.1020408163265306,
          0.12244897959183673,
          0.14285714285714285,
          0.16326530612244897,
          0.18367346938775508,
          0.2040816326530612,
          0.22448979591836732,
          0.24489795918367346,
          0.26530612244897955,
          0.2857142857142857,
          0.3061224489795918,
          0.32653061224489793,
          0.3469387755102041,
          0.36734693877551017,
          0.3877551020408163,
          0.4081632653061224,
          0.42857142857142855,
          0.44897959183673464,
          0.4693877551020408,
          0.4897959183673469,
          0.5102040816326531,
          0.5306122448979591,
          0.5510204081632653,
          0.5714285714285714,
          0.5918367346938775,
          0.6122448979591836,
          0.6326530612244897,
          0.6530612244897959,
          0.673469387755102,
          0.6938775510204082,
          0.7142857142857142,
          0.7346938775510203,
          0.7551020408163265,
          0.7755102040816326,
          0.7959183673469387,
          0.8163265306122448,
          0.836734693877551,
          0.8571428571428571,
          0.8775510204081632,
          0.8979591836734693,
          0.9183673469387754,
          0.9387755102040816,
          0.9591836734693877,
          0.9795918367346939,
          1
         ],
         "xaxis": "x",
         "y": [
          -0.5,
          -0.5096799817664249,
          -0.4496545821367324,
          -0.3787788760441093,
          -0.36122869859137385,
          -0.3188793051151364,
          -0.28716750415884434,
          -0.3497610991021133,
          -0.31438369743039907,
          -0.27271475211311,
          -0.2836420344562197,
          -0.34556943844276844,
          -0.3106248688601052,
          -0.339847595438587,
          -0.31031383924979206,
          -0.242416389481842,
          -0.1672370310055481,
          -0.09100896561322452,
          -0.13828308305206677,
          -0.10732180829052992,
          -0.09702266922818578,
          -0.11557181887524359,
          -0.1254720611914814,
          -0.09930455734705108,
          -0.010515872759481501,
          -0.06277283810043738,
          0.013950128660018664,
          0.003231276892334522,
          -0.028566406955149524,
          0.0033345376037387207,
          0.02282265478362918,
          0.08304242440721835,
          0.06828474753327363,
          0.037224963451231594,
          0.05399717452817404,
          0.006577312325674559,
          0.09430735474336706,
          0.10119200366576446,
          0.07495102969787042,
          0.1039820163391216,
          0.10783410921801483,
          0.09686617602060918,
          0.0957453227468797,
          0.018788111778157673,
          0.03398790301906278,
          0.029839163455670593,
          0.06698477046858305,
          0.02204666407178802,
          0.04368373923630039,
          0.017348633817184527
         ],
         "yaxis": "y"
        },
        {
         "line": {
          "color": "#00e476"
         },
         "mode": "lines",
         "showlegend": false,
         "type": "scatter",
         "x": [
          0,
          0.02040816326530612,
          0.04081632653061224,
          0.061224489795918366,
          0.08163265306122448,
          0.1020408163265306,
          0.12244897959183673,
          0.14285714285714285,
          0.16326530612244897,
          0.18367346938775508,
          0.2040816326530612,
          0.22448979591836732,
          0.24489795918367346,
          0.26530612244897955,
          0.2857142857142857,
          0.3061224489795918,
          0.32653061224489793,
          0.3469387755102041,
          0.36734693877551017,
          0.3877551020408163,
          0.4081632653061224,
          0.42857142857142855,
          0.44897959183673464,
          0.4693877551020408,
          0.4897959183673469,
          0.5102040816326531,
          0.5306122448979591,
          0.5510204081632653,
          0.5714285714285714,
          0.5918367346938775,
          0.6122448979591836,
          0.6326530612244897,
          0.6530612244897959,
          0.673469387755102,
          0.6938775510204082,
          0.7142857142857142,
          0.7346938775510203,
          0.7551020408163265,
          0.7755102040816326,
          0.7959183673469387,
          0.8163265306122448,
          0.836734693877551,
          0.8571428571428571,
          0.8775510204081632,
          0.8979591836734693,
          0.9183673469387754,
          0.9387755102040816,
          0.9591836734693877,
          0.9795918367346939,
          1
         ],
         "xaxis": "x",
         "y": [
          -0.5,
          -0.39715086606111405,
          -0.4159820105748774,
          -0.36603958634103945,
          -0.38637807410968944,
          -0.3321946284878744,
          -0.21279163707627474,
          -0.26946857730286433,
          -0.2441134260405182,
          -0.2413377268351279,
          -0.18430621367620317,
          -0.18819877875700794,
          -0.10654803881283736,
          -0.06479131710280456,
          -0.04093139544032265,
          -0.04164495518189472,
          -0.008249758984126755,
          0.028132160140322965,
          0.04215449440999387,
          0.0476200467553124,
          0.06395757707135702,
          0.08607145921600767,
          0.021205381692674913,
          0.03446334562203307,
          0.0231436696869707,
          0.04699169107376697,
          0.07231257497251525,
          0.034253853933773816,
          0.005474122272440589,
          -0.029462296216510524,
          -0.03500413656960908,
          0.04278386052088129,
          0.06018050762044072,
          0.15522596967703156,
          0.19123890095119134,
          0.20887780426553698,
          0.13843693636115226,
          0.12599359254022965,
          0.11566690465711867,
          0.12472515430769462,
          0.06674000570034201,
          0.042777048585056,
          0.0334962043110875,
          0.012021795279217543,
          0.010499670832951148,
          0.025853550092177782,
          0.02423344722461917,
          0.022732891184492284,
          0.0041493238900649765,
          -0.00492053178525791
         ],
         "yaxis": "y"
        },
        {
         "line": {
          "color": "#FFe476"
         },
         "mode": "lines",
         "name": "Uncontrolled",
         "type": "scatter",
         "x": [
          0,
          0.02040816326530612,
          0.04081632653061224,
          0.061224489795918366,
          0.08163265306122448,
          0.1020408163265306,
          0.12244897959183673,
          0.14285714285714285,
          0.16326530612244897,
          0.18367346938775508,
          0.2040816326530612,
          0.22448979591836732,
          0.24489795918367346,
          0.26530612244897955,
          0.2857142857142857,
          0.3061224489795918,
          0.32653061224489793,
          0.3469387755102041,
          0.36734693877551017,
          0.3877551020408163,
          0.4081632653061224,
          0.42857142857142855,
          0.44897959183673464,
          0.4693877551020408,
          0.4897959183673469,
          0.5102040816326531,
          0.5306122448979591,
          0.5510204081632653,
          0.5714285714285714,
          0.5918367346938775,
          0.6122448979591836,
          0.6326530612244897,
          0.6530612244897959,
          0.673469387755102,
          0.6938775510204082,
          0.7142857142857142,
          0.7346938775510203,
          0.7551020408163265,
          0.7755102040816326,
          0.7959183673469387,
          0.8163265306122448,
          0.836734693877551,
          0.8571428571428571,
          0.8775510204081632,
          0.8979591836734693,
          0.9183673469387754,
          0.9387755102040816,
          0.9591836734693877,
          0.9795918367346939,
          1
         ],
         "xaxis": "x",
         "y": [
          -0.5,
          -0.5354566223980263,
          -0.5444487594536128,
          -0.5100871269210161,
          -0.5458166703539767,
          -0.5307196323854488,
          -0.5062201869963776,
          -0.5836769415968047,
          -0.57956623832558,
          -0.5591351543279838,
          -0.6001291470066478,
          -0.6860357596000682,
          -0.7099076618788609,
          -0.7668624325030649,
          -0.7914135426738853,
          -0.7665044282486791,
          -0.738261773652417,
          -0.6960924825042387,
          -0.7745695520886148,
          -0.7782993152601254,
          -0.7664127406813357,
          -0.8234668473142387,
          -0.8702048469647289,
          -0.8723244916219735,
          -0.8089310148433716,
          -0.8827342489469626,
          -0.8509553094033597,
          -0.8839472887098082,
          -0.9470929503090247,
          -0.9552659153504443,
          -0.9465250661306281,
          -0.8914545087691701,
          -0.8963241207449435,
          -0.9298891247661836,
          -0.9102209609599172,
          -0.9892341084594836,
          -0.9031490883806406,
          -0.9319629776023489,
          -0.9544044522346491,
          -0.9579522439996834,
          -0.9885980892174251,
          -1.0076147549128838,
          -1.0011239495180508,
          -1.1151951173269627,
          -1.1249369182626396,
          -1.1629857453791366,
          -1.1655810951898504,
          -1.2069615598257721,
          -1.202292492640149,
          -1.271345283631289
         ],
         "yaxis": "y"
        },
        {
         "line": {
          "color": "#FFe476"
         },
         "mode": "lines",
         "showlegend": false,
         "type": "scatter",
         "x": [
          0,
          0.02040816326530612,
          0.04081632653061224,
          0.061224489795918366,
          0.08163265306122448,
          0.1020408163265306,
          0.12244897959183673,
          0.14285714285714285,
          0.16326530612244897,
          0.18367346938775508,
          0.2040816326530612,
          0.22448979591836732,
          0.24489795918367346,
          0.26530612244897955,
          0.2857142857142857,
          0.3061224489795918,
          0.32653061224489793,
          0.3469387755102041,
          0.36734693877551017,
          0.3877551020408163,
          0.4081632653061224,
          0.42857142857142855,
          0.44897959183673464,
          0.4693877551020408,
          0.4897959183673469,
          0.5102040816326531,
          0.5306122448979591,
          0.5510204081632653,
          0.5714285714285714,
          0.5918367346938775,
          0.6122448979591836,
          0.6326530612244897,
          0.6530612244897959,
          0.673469387755102,
          0.6938775510204082,
          0.7142857142857142,
          0.7346938775510203,
          0.7551020408163265,
          0.7755102040816326,
          0.7959183673469387,
          0.8163265306122448,
          0.836734693877551,
          0.8571428571428571,
          0.8775510204081632,
          0.8979591836734693,
          0.9183673469387754,
          0.9387755102040816,
          0.9591836734693877,
          0.9795918367346939,
          1
         ],
         "xaxis": "x",
         "y": [
          -0.5,
          -0.4543012343300632,
          -0.48847369419462333,
          -0.4873475471256259,
          -0.5266956786290466,
          -0.508626680202954,
          -0.40120165395739454,
          -0.45502574942177065,
          -0.4322229856940315,
          -0.46329383858363704,
          -0.4241258235383856,
          -0.4366648155571764,
          -0.35081304668754615,
          -0.3184454818900442,
          -0.32548512879750596,
          -0.32423052716499867,
          -0.3203702773066615,
          -0.30842070343467953,
          -0.31368665285501807,
          -0.328829185424104,
          -0.30184982210653805,
          -0.2864304273243002,
          -0.35903392773687365,
          -0.341560689045144,
          -0.345843780660905,
          -0.3456167633592999,
          -0.31595390103200294,
          -0.34446811470858896,
          -0.38537189408351047,
          -0.4510592174079636,
          -0.46589379555755583,
          -0.40218211927677344,
          -0.40480670315404554,
          -0.3223083075952553,
          -0.3067305839034035,
          -0.2774661732546904,
          -0.366215799738433,
          -0.3967281907116621,
          -0.4006520980605418,
          -0.4072834257846578,
          -0.482335287787237,
          -0.5287156297632336,
          -0.5246091120229944,
          -0.57674524916408,
          -0.608518031220361,
          -0.6019116260135349,
          -0.6061774910335099,
          -0.6082075434917782,
          -0.6224797085003559,
          -0.6605200916484456
         ],
         "yaxis": "y"
        },
        {
         "line": {
          "color": "#00e476"
         },
         "mode": "lines",
         "showlegend": false,
         "type": "scatter",
         "x": [
          0,
          0.02040816326530612,
          0.04081632653061224,
          0.061224489795918366,
          0.08163265306122448,
          0.1020408163265306,
          0.12244897959183673,
          0.14285714285714285,
          0.16326530612244897,
          0.18367346938775508,
          0.2040816326530612,
          0.22448979591836732,
          0.24489795918367346,
          0.26530612244897955,
          0.2857142857142857,
          0.3061224489795918,
          0.32653061224489793,
          0.3469387755102041,
          0.36734693877551017,
          0.3877551020408163,
          0.4081632653061224,
          0.42857142857142855,
          0.44897959183673464,
          0.4693877551020408,
          0.4897959183673469,
          0.5102040816326531,
          0.5306122448979591,
          0.5510204081632653,
          0.5714285714285714,
          0.5918367346938775,
          0.6122448979591836,
          0.6326530612244897,
          0.6530612244897959,
          0.673469387755102,
          0.6938775510204082,
          0.7142857142857142,
          0.7346938775510203,
          0.7551020408163265,
          0.7755102040816326,
          0.7959183673469387,
          0.8163265306122448,
          0.836734693877551,
          0.8571428571428571,
          0.8775510204081632,
          0.8979591836734693,
          0.9183673469387754,
          0.9387755102040816,
          0.9591836734693877,
          0.9795918367346939,
          1
         ],
         "xaxis": "x2",
         "y": [
          0,
          -0.8779696226119995,
          -1.620336805277268,
          -2.2734981569156156,
          -2.7453053598774826,
          -3.216832655740779,
          -3.56841125154054,
          -3.7796735158372052,
          -4.110102799080019,
          -4.3747373778232035,
          -4.591037793887229,
          -4.781220524989405,
          -5.047104963860826,
          -5.2337293547430015,
          -5.4461900416790545,
          -5.620261583184127,
          -5.72564133915767,
          -5.774450611983651,
          -5.790239881301701,
          -5.827743928493701,
          -5.8522869498420595,
          -5.8761073647691875,
          -5.913013442470507,
          -5.942215637593209,
          -5.962257532081385,
          -5.963176295982824,
          -5.974109316320074,
          -5.981371331029404,
          -5.982993871734857,
          -5.984488726412035,
          -5.985769695510301,
          -5.988771086632704,
          -6.002841258773538,
          -6.015104677661041,
          -6.04986526982461,
          -6.103766893744291,
          -6.166000874194271,
          -6.205067687607327,
          -6.242016899051232,
          -6.268405449596803,
          -6.305931488915875,
          -6.330882377104302,
          -6.34895251462535,
          -6.365864937419392,
          -6.366679499408888,
          -6.368689337753147,
          -6.371085371331197,
          -6.37920139036017,
          -6.380832101120591,
          -6.380832101120591
         ],
         "yaxis": "y2"
        },
        {
         "line": {
          "color": "#FFe476"
         },
         "mode": "lines",
         "showlegend": false,
         "type": "scatter",
         "x": [
          0,
          0.02040816326530612,
          0.04081632653061224,
          0.061224489795918366,
          0.08163265306122448,
          0.1020408163265306,
          0.12244897959183673,
          0.14285714285714285,
          0.16326530612244897,
          0.18367346938775508,
          0.2040816326530612,
          0.22448979591836732,
          0.24489795918367346,
          0.26530612244897955,
          0.2857142857142857,
          0.3061224489795918,
          0.32653061224489793,
          0.3469387755102041,
          0.36734693877551017,
          0.3877551020408163,
          0.4081632653061224,
          0.42857142857142855,
          0.44897959183673464,
          0.4693877551020408,
          0.4897959183673469,
          0.5102040816326531,
          0.5306122448979591,
          0.5510204081632653,
          0.5714285714285714,
          0.5918367346938775,
          0.6122448979591836,
          0.6326530612244897,
          0.6530612244897959,
          0.673469387755102,
          0.6938775510204082,
          0.7142857142857142,
          0.7346938775510203,
          0.7551020408163265,
          0.7755102040816326,
          0.7959183673469387,
          0.8163265306122448,
          0.836734693877551,
          0.8571428571428571,
          0.8775510204081632,
          0.8979591836734693,
          0.9183673469387754,
          0.9387755102040816,
          0.9591836734693877,
          0.9795918367346939,
          1
         ],
         "xaxis": "x2",
         "y": [
          0,
          -0.6043625733590001,
          -1.2284795402649622,
          -1.8413573507385324,
          -2.4323336535279725,
          -3.0728197033299507,
          -3.7442154593876973,
          -4.268401223410644,
          -4.924751400422359,
          -5.536247302930825,
          -6.128019490675463,
          -6.74932595023114,
          -7.594044177476282,
          -8.324929303221191,
          -9.205133710464974,
          -10.073926999079791,
          -10.954437511911793,
          -11.750571458036841,
          -12.459494540755664,
          -13.315107020105609,
          -14.216306277087867,
          -15.038822892765532,
          -15.953020508642902,
          -16.998346251335338,
          -18.038880852709994,
          -18.973195115742158,
          -20.07972407225808,
          -21.065288741150702,
          -22.141912968935785,
          -23.448962433015318,
          -24.75244703045636,
          -26.05708647072494,
          -27.23222972949639,
          -28.375903268752655,
          -29.59498971002388,
          -30.708173685678904,
          -32.04256975195981,
          -33.21984305909335,
          -34.45441831891175,
          -35.745374664508724,
          -37.06456369213743,
          -38.492394913392225,
          -40.07872669504577,
          -41.638812987471326,
          -43.49913098503092,
          -45.402912167825576,
          -47.41951328639537,
          -49.474730867061126,
          -51.61527950994924,
          -51.61527950994924
         ],
         "yaxis": "y2"
        }
       ],
       "layout": {
        "font": {
         "family": "Courier New, monospace",
         "size": 14
        },
        "template": {
         "data": {
          "bar": [
           {
            "error_x": {
             "color": "#2a3f5f"
            },
            "error_y": {
             "color": "#2a3f5f"
            },
            "marker": {
             "line": {
              "color": "#E5ECF6",
              "width": 0.5
             }
            },
            "type": "bar"
           }
          ],
          "barpolar": [
           {
            "marker": {
             "line": {
              "color": "#E5ECF6",
              "width": 0.5
             }
            },
            "type": "barpolar"
           }
          ],
          "carpet": [
           {
            "aaxis": {
             "endlinecolor": "#2a3f5f",
             "gridcolor": "white",
             "linecolor": "white",
             "minorgridcolor": "white",
             "startlinecolor": "#2a3f5f"
            },
            "baxis": {
             "endlinecolor": "#2a3f5f",
             "gridcolor": "white",
             "linecolor": "white",
             "minorgridcolor": "white",
             "startlinecolor": "#2a3f5f"
            },
            "type": "carpet"
           }
          ],
          "choropleth": [
           {
            "colorbar": {
             "outlinewidth": 0,
             "ticks": ""
            },
            "type": "choropleth"
           }
          ],
          "contour": [
           {
            "colorbar": {
             "outlinewidth": 0,
             "ticks": ""
            },
            "colorscale": [
             [
              0,
              "#0d0887"
             ],
             [
              0.1111111111111111,
              "#46039f"
             ],
             [
              0.2222222222222222,
              "#7201a8"
             ],
             [
              0.3333333333333333,
              "#9c179e"
             ],
             [
              0.4444444444444444,
              "#bd3786"
             ],
             [
              0.5555555555555556,
              "#d8576b"
             ],
             [
              0.6666666666666666,
              "#ed7953"
             ],
             [
              0.7777777777777778,
              "#fb9f3a"
             ],
             [
              0.8888888888888888,
              "#fdca26"
             ],
             [
              1,
              "#f0f921"
             ]
            ],
            "type": "contour"
           }
          ],
          "contourcarpet": [
           {
            "colorbar": {
             "outlinewidth": 0,
             "ticks": ""
            },
            "type": "contourcarpet"
           }
          ],
          "heatmap": [
           {
            "colorbar": {
             "outlinewidth": 0,
             "ticks": ""
            },
            "colorscale": [
             [
              0,
              "#0d0887"
             ],
             [
              0.1111111111111111,
              "#46039f"
             ],
             [
              0.2222222222222222,
              "#7201a8"
             ],
             [
              0.3333333333333333,
              "#9c179e"
             ],
             [
              0.4444444444444444,
              "#bd3786"
             ],
             [
              0.5555555555555556,
              "#d8576b"
             ],
             [
              0.6666666666666666,
              "#ed7953"
             ],
             [
              0.7777777777777778,
              "#fb9f3a"
             ],
             [
              0.8888888888888888,
              "#fdca26"
             ],
             [
              1,
              "#f0f921"
             ]
            ],
            "type": "heatmap"
           }
          ],
          "heatmapgl": [
           {
            "colorbar": {
             "outlinewidth": 0,
             "ticks": ""
            },
            "colorscale": [
             [
              0,
              "#0d0887"
             ],
             [
              0.1111111111111111,
              "#46039f"
             ],
             [
              0.2222222222222222,
              "#7201a8"
             ],
             [
              0.3333333333333333,
              "#9c179e"
             ],
             [
              0.4444444444444444,
              "#bd3786"
             ],
             [
              0.5555555555555556,
              "#d8576b"
             ],
             [
              0.6666666666666666,
              "#ed7953"
             ],
             [
              0.7777777777777778,
              "#fb9f3a"
             ],
             [
              0.8888888888888888,
              "#fdca26"
             ],
             [
              1,
              "#f0f921"
             ]
            ],
            "type": "heatmapgl"
           }
          ],
          "histogram": [
           {
            "marker": {
             "colorbar": {
              "outlinewidth": 0,
              "ticks": ""
             }
            },
            "type": "histogram"
           }
          ],
          "histogram2d": [
           {
            "colorbar": {
             "outlinewidth": 0,
             "ticks": ""
            },
            "colorscale": [
             [
              0,
              "#0d0887"
             ],
             [
              0.1111111111111111,
              "#46039f"
             ],
             [
              0.2222222222222222,
              "#7201a8"
             ],
             [
              0.3333333333333333,
              "#9c179e"
             ],
             [
              0.4444444444444444,
              "#bd3786"
             ],
             [
              0.5555555555555556,
              "#d8576b"
             ],
             [
              0.6666666666666666,
              "#ed7953"
             ],
             [
              0.7777777777777778,
              "#fb9f3a"
             ],
             [
              0.8888888888888888,
              "#fdca26"
             ],
             [
              1,
              "#f0f921"
             ]
            ],
            "type": "histogram2d"
           }
          ],
          "histogram2dcontour": [
           {
            "colorbar": {
             "outlinewidth": 0,
             "ticks": ""
            },
            "colorscale": [
             [
              0,
              "#0d0887"
             ],
             [
              0.1111111111111111,
              "#46039f"
             ],
             [
              0.2222222222222222,
              "#7201a8"
             ],
             [
              0.3333333333333333,
              "#9c179e"
             ],
             [
              0.4444444444444444,
              "#bd3786"
             ],
             [
              0.5555555555555556,
              "#d8576b"
             ],
             [
              0.6666666666666666,
              "#ed7953"
             ],
             [
              0.7777777777777778,
              "#fb9f3a"
             ],
             [
              0.8888888888888888,
              "#fdca26"
             ],
             [
              1,
              "#f0f921"
             ]
            ],
            "type": "histogram2dcontour"
           }
          ],
          "mesh3d": [
           {
            "colorbar": {
             "outlinewidth": 0,
             "ticks": ""
            },
            "type": "mesh3d"
           }
          ],
          "parcoords": [
           {
            "line": {
             "colorbar": {
              "outlinewidth": 0,
              "ticks": ""
             }
            },
            "type": "parcoords"
           }
          ],
          "pie": [
           {
            "automargin": true,
            "type": "pie"
           }
          ],
          "scatter": [
           {
            "marker": {
             "colorbar": {
              "outlinewidth": 0,
              "ticks": ""
             }
            },
            "type": "scatter"
           }
          ],
          "scatter3d": [
           {
            "line": {
             "colorbar": {
              "outlinewidth": 0,
              "ticks": ""
             }
            },
            "marker": {
             "colorbar": {
              "outlinewidth": 0,
              "ticks": ""
             }
            },
            "type": "scatter3d"
           }
          ],
          "scattercarpet": [
           {
            "marker": {
             "colorbar": {
              "outlinewidth": 0,
              "ticks": ""
             }
            },
            "type": "scattercarpet"
           }
          ],
          "scattergeo": [
           {
            "marker": {
             "colorbar": {
              "outlinewidth": 0,
              "ticks": ""
             }
            },
            "type": "scattergeo"
           }
          ],
          "scattergl": [
           {
            "marker": {
             "colorbar": {
              "outlinewidth": 0,
              "ticks": ""
             }
            },
            "type": "scattergl"
           }
          ],
          "scattermapbox": [
           {
            "marker": {
             "colorbar": {
              "outlinewidth": 0,
              "ticks": ""
             }
            },
            "type": "scattermapbox"
           }
          ],
          "scatterpolar": [
           {
            "marker": {
             "colorbar": {
              "outlinewidth": 0,
              "ticks": ""
             }
            },
            "type": "scatterpolar"
           }
          ],
          "scatterpolargl": [
           {
            "marker": {
             "colorbar": {
              "outlinewidth": 0,
              "ticks": ""
             }
            },
            "type": "scatterpolargl"
           }
          ],
          "scatterternary": [
           {
            "marker": {
             "colorbar": {
              "outlinewidth": 0,
              "ticks": ""
             }
            },
            "type": "scatterternary"
           }
          ],
          "surface": [
           {
            "colorbar": {
             "outlinewidth": 0,
             "ticks": ""
            },
            "colorscale": [
             [
              0,
              "#0d0887"
             ],
             [
              0.1111111111111111,
              "#46039f"
             ],
             [
              0.2222222222222222,
              "#7201a8"
             ],
             [
              0.3333333333333333,
              "#9c179e"
             ],
             [
              0.4444444444444444,
              "#bd3786"
             ],
             [
              0.5555555555555556,
              "#d8576b"
             ],
             [
              0.6666666666666666,
              "#ed7953"
             ],
             [
              0.7777777777777778,
              "#fb9f3a"
             ],
             [
              0.8888888888888888,
              "#fdca26"
             ],
             [
              1,
              "#f0f921"
             ]
            ],
            "type": "surface"
           }
          ],
          "table": [
           {
            "cells": {
             "fill": {
              "color": "#EBF0F8"
             },
             "line": {
              "color": "white"
             }
            },
            "header": {
             "fill": {
              "color": "#C8D4E3"
             },
             "line": {
              "color": "white"
             }
            },
            "type": "table"
           }
          ]
         },
         "layout": {
          "annotationdefaults": {
           "arrowcolor": "#2a3f5f",
           "arrowhead": 0,
           "arrowwidth": 1
          },
          "autotypenumbers": "strict",
          "coloraxis": {
           "colorbar": {
            "outlinewidth": 0,
            "ticks": ""
           }
          },
          "colorscale": {
           "diverging": [
            [
             0,
             "#8e0152"
            ],
            [
             0.1,
             "#c51b7d"
            ],
            [
             0.2,
             "#de77ae"
            ],
            [
             0.3,
             "#f1b6da"
            ],
            [
             0.4,
             "#fde0ef"
            ],
            [
             0.5,
             "#f7f7f7"
            ],
            [
             0.6,
             "#e6f5d0"
            ],
            [
             0.7,
             "#b8e186"
            ],
            [
             0.8,
             "#7fbc41"
            ],
            [
             0.9,
             "#4d9221"
            ],
            [
             1,
             "#276419"
            ]
           ],
           "sequential": [
            [
             0,
             "#0d0887"
            ],
            [
             0.1111111111111111,
             "#46039f"
            ],
            [
             0.2222222222222222,
             "#7201a8"
            ],
            [
             0.3333333333333333,
             "#9c179e"
            ],
            [
             0.4444444444444444,
             "#bd3786"
            ],
            [
             0.5555555555555556,
             "#d8576b"
            ],
            [
             0.6666666666666666,
             "#ed7953"
            ],
            [
             0.7777777777777778,
             "#fb9f3a"
            ],
            [
             0.8888888888888888,
             "#fdca26"
            ],
            [
             1,
             "#f0f921"
            ]
           ],
           "sequentialminus": [
            [
             0,
             "#0d0887"
            ],
            [
             0.1111111111111111,
             "#46039f"
            ],
            [
             0.2222222222222222,
             "#7201a8"
            ],
            [
             0.3333333333333333,
             "#9c179e"
            ],
            [
             0.4444444444444444,
             "#bd3786"
            ],
            [
             0.5555555555555556,
             "#d8576b"
            ],
            [
             0.6666666666666666,
             "#ed7953"
            ],
            [
             0.7777777777777778,
             "#fb9f3a"
            ],
            [
             0.8888888888888888,
             "#fdca26"
            ],
            [
             1,
             "#f0f921"
            ]
           ]
          },
          "colorway": [
           "#636efa",
           "#EF553B",
           "#00cc96",
           "#ab63fa",
           "#FFA15A",
           "#19d3f3",
           "#FF6692",
           "#B6E880",
           "#FF97FF",
           "#FECB52"
          ],
          "font": {
           "color": "#2a3f5f"
          },
          "geo": {
           "bgcolor": "white",
           "lakecolor": "white",
           "landcolor": "#E5ECF6",
           "showlakes": true,
           "showland": true,
           "subunitcolor": "white"
          },
          "hoverlabel": {
           "align": "left"
          },
          "hovermode": "closest",
          "mapbox": {
           "style": "light"
          },
          "paper_bgcolor": "white",
          "plot_bgcolor": "#E5ECF6",
          "polar": {
           "angularaxis": {
            "gridcolor": "white",
            "linecolor": "white",
            "ticks": ""
           },
           "bgcolor": "#E5ECF6",
           "radialaxis": {
            "gridcolor": "white",
            "linecolor": "white",
            "ticks": ""
           }
          },
          "scene": {
           "xaxis": {
            "backgroundcolor": "#E5ECF6",
            "gridcolor": "white",
            "gridwidth": 2,
            "linecolor": "white",
            "showbackground": true,
            "ticks": "",
            "zerolinecolor": "white"
           },
           "yaxis": {
            "backgroundcolor": "#E5ECF6",
            "gridcolor": "white",
            "gridwidth": 2,
            "linecolor": "white",
            "showbackground": true,
            "ticks": "",
            "zerolinecolor": "white"
           },
           "zaxis": {
            "backgroundcolor": "#E5ECF6",
            "gridcolor": "white",
            "gridwidth": 2,
            "linecolor": "white",
            "showbackground": true,
            "ticks": "",
            "zerolinecolor": "white"
           }
          },
          "shapedefaults": {
           "line": {
            "color": "#2a3f5f"
           }
          },
          "ternary": {
           "aaxis": {
            "gridcolor": "white",
            "linecolor": "white",
            "ticks": ""
           },
           "baxis": {
            "gridcolor": "white",
            "linecolor": "white",
            "ticks": ""
           },
           "bgcolor": "#E5ECF6",
           "caxis": {
            "gridcolor": "white",
            "linecolor": "white",
            "ticks": ""
           }
          },
          "title": {
           "x": 0.05
          },
          "xaxis": {
           "automargin": true,
           "gridcolor": "white",
           "linecolor": "white",
           "ticks": "",
           "title": {
            "standoff": 15
           },
           "zerolinecolor": "white",
           "zerolinewidth": 2
          },
          "yaxis": {
           "automargin": true,
           "gridcolor": "white",
           "linecolor": "white",
           "ticks": "",
           "title": {
            "standoff": 15
           },
           "zerolinecolor": "white",
           "zerolinewidth": 2
          }
         }
        },
        "title": {
         "text": "Minimise amount of X | Minimise the costs (hold both close to zero)"
        },
        "xaxis": {
         "anchor": "y",
         "domain": [
          0,
          0.45
         ],
         "title": {
          "text": "t"
         }
        },
        "xaxis2": {
         "anchor": "y2",
         "domain": [
          0.55,
          1
         ]
        },
        "yaxis": {
         "anchor": "x",
         "domain": [
          0,
          1
         ],
         "title": {
          "text": "X"
         }
        },
        "yaxis2": {
         "anchor": "x2",
         "domain": [
          0,
          1
         ]
        }
       }
      },
      "text/html": [
       "<div>                            <div id=\"c834cd9a-7521-476d-87fb-5af765cebcd4\" class=\"plotly-graph-div\" style=\"height:525px; width:100%;\"></div>            <script type=\"text/javascript\">                require([\"plotly\"], function(Plotly) {                    window.PLOTLYENV=window.PLOTLYENV || {};                                    if (document.getElementById(\"c834cd9a-7521-476d-87fb-5af765cebcd4\")) {                    Plotly.newPlot(                        \"c834cd9a-7521-476d-87fb-5af765cebcd4\",                        [{\"line\": {\"color\": \"#00e476\"}, \"mode\": \"lines\", \"name\": \"Controlled\", \"type\": \"scatter\", \"x\": [0.0, 0.02040816326530612, 0.04081632653061224, 0.061224489795918366, 0.08163265306122448, 0.1020408163265306, 0.12244897959183673, 0.14285714285714285, 0.16326530612244897, 0.18367346938775508, 0.2040816326530612, 0.22448979591836732, 0.24489795918367346, 0.26530612244897955, 0.2857142857142857, 0.3061224489795918, 0.32653061224489793, 0.3469387755102041, 0.36734693877551017, 0.3877551020408163, 0.4081632653061224, 0.42857142857142855, 0.44897959183673464, 0.4693877551020408, 0.4897959183673469, 0.5102040816326531, 0.5306122448979591, 0.5510204081632653, 0.5714285714285714, 0.5918367346938775, 0.6122448979591836, 0.6326530612244897, 0.6530612244897959, 0.673469387755102, 0.6938775510204082, 0.7142857142857142, 0.7346938775510203, 0.7551020408163265, 0.7755102040816326, 0.7959183673469387, 0.8163265306122448, 0.836734693877551, 0.8571428571428571, 0.8775510204081632, 0.8979591836734693, 0.9183673469387754, 0.9387755102040816, 0.9591836734693877, 0.9795918367346939, 1.0], \"xaxis\": \"x\", \"y\": [-0.5, -0.5096799817664249, -0.4496545821367324, -0.3787788760441093, -0.36122869859137385, -0.3188793051151364, -0.28716750415884434, -0.3497610991021133, -0.31438369743039907, -0.27271475211311, -0.2836420344562197, -0.34556943844276844, -0.3106248688601052, -0.339847595438587, -0.31031383924979206, -0.242416389481842, -0.1672370310055481, -0.09100896561322452, -0.13828308305206677, -0.10732180829052992, -0.09702266922818578, -0.11557181887524359, -0.1254720611914814, -0.09930455734705108, -0.010515872759481501, -0.06277283810043738, 0.013950128660018664, 0.003231276892334522, -0.028566406955149524, 0.0033345376037387207, 0.02282265478362918, 0.08304242440721835, 0.06828474753327363, 0.037224963451231594, 0.05399717452817404, 0.006577312325674559, 0.09430735474336706, 0.10119200366576446, 0.07495102969787042, 0.1039820163391216, 0.10783410921801483, 0.09686617602060918, 0.0957453227468797, 0.018788111778157673, 0.03398790301906278, 0.029839163455670593, 0.06698477046858305, 0.02204666407178802, 0.04368373923630039, 0.017348633817184527], \"yaxis\": \"y\"}, {\"line\": {\"color\": \"#00e476\"}, \"mode\": \"lines\", \"showlegend\": false, \"type\": \"scatter\", \"x\": [0.0, 0.02040816326530612, 0.04081632653061224, 0.061224489795918366, 0.08163265306122448, 0.1020408163265306, 0.12244897959183673, 0.14285714285714285, 0.16326530612244897, 0.18367346938775508, 0.2040816326530612, 0.22448979591836732, 0.24489795918367346, 0.26530612244897955, 0.2857142857142857, 0.3061224489795918, 0.32653061224489793, 0.3469387755102041, 0.36734693877551017, 0.3877551020408163, 0.4081632653061224, 0.42857142857142855, 0.44897959183673464, 0.4693877551020408, 0.4897959183673469, 0.5102040816326531, 0.5306122448979591, 0.5510204081632653, 0.5714285714285714, 0.5918367346938775, 0.6122448979591836, 0.6326530612244897, 0.6530612244897959, 0.673469387755102, 0.6938775510204082, 0.7142857142857142, 0.7346938775510203, 0.7551020408163265, 0.7755102040816326, 0.7959183673469387, 0.8163265306122448, 0.836734693877551, 0.8571428571428571, 0.8775510204081632, 0.8979591836734693, 0.9183673469387754, 0.9387755102040816, 0.9591836734693877, 0.9795918367346939, 1.0], \"xaxis\": \"x\", \"y\": [-0.5, -0.39715086606111405, -0.4159820105748774, -0.36603958634103945, -0.38637807410968944, -0.3321946284878744, -0.21279163707627474, -0.26946857730286433, -0.2441134260405182, -0.2413377268351279, -0.18430621367620317, -0.18819877875700794, -0.10654803881283736, -0.06479131710280456, -0.04093139544032265, -0.04164495518189472, -0.008249758984126755, 0.028132160140322965, 0.04215449440999387, 0.0476200467553124, 0.06395757707135702, 0.08607145921600767, 0.021205381692674913, 0.03446334562203307, 0.0231436696869707, 0.04699169107376697, 0.07231257497251525, 0.034253853933773816, 0.005474122272440589, -0.029462296216510524, -0.03500413656960908, 0.04278386052088129, 0.06018050762044072, 0.15522596967703156, 0.19123890095119134, 0.20887780426553698, 0.13843693636115226, 0.12599359254022965, 0.11566690465711867, 0.12472515430769462, 0.06674000570034201, 0.042777048585056, 0.0334962043110875, 0.012021795279217543, 0.010499670832951148, 0.025853550092177782, 0.02423344722461917, 0.022732891184492284, 0.0041493238900649765, -0.00492053178525791], \"yaxis\": \"y\"}, {\"line\": {\"color\": \"#FFe476\"}, \"mode\": \"lines\", \"name\": \"Uncontrolled\", \"type\": \"scatter\", \"x\": [0.0, 0.02040816326530612, 0.04081632653061224, 0.061224489795918366, 0.08163265306122448, 0.1020408163265306, 0.12244897959183673, 0.14285714285714285, 0.16326530612244897, 0.18367346938775508, 0.2040816326530612, 0.22448979591836732, 0.24489795918367346, 0.26530612244897955, 0.2857142857142857, 0.3061224489795918, 0.32653061224489793, 0.3469387755102041, 0.36734693877551017, 0.3877551020408163, 0.4081632653061224, 0.42857142857142855, 0.44897959183673464, 0.4693877551020408, 0.4897959183673469, 0.5102040816326531, 0.5306122448979591, 0.5510204081632653, 0.5714285714285714, 0.5918367346938775, 0.6122448979591836, 0.6326530612244897, 0.6530612244897959, 0.673469387755102, 0.6938775510204082, 0.7142857142857142, 0.7346938775510203, 0.7551020408163265, 0.7755102040816326, 0.7959183673469387, 0.8163265306122448, 0.836734693877551, 0.8571428571428571, 0.8775510204081632, 0.8979591836734693, 0.9183673469387754, 0.9387755102040816, 0.9591836734693877, 0.9795918367346939, 1.0], \"xaxis\": \"x\", \"y\": [-0.5, -0.5354566223980263, -0.5444487594536128, -0.5100871269210161, -0.5458166703539767, -0.5307196323854488, -0.5062201869963776, -0.5836769415968047, -0.57956623832558, -0.5591351543279838, -0.6001291470066478, -0.6860357596000682, -0.7099076618788609, -0.7668624325030649, -0.7914135426738853, -0.7665044282486791, -0.738261773652417, -0.6960924825042387, -0.7745695520886148, -0.7782993152601254, -0.7664127406813357, -0.8234668473142387, -0.8702048469647289, -0.8723244916219735, -0.8089310148433716, -0.8827342489469626, -0.8509553094033597, -0.8839472887098082, -0.9470929503090247, -0.9552659153504443, -0.9465250661306281, -0.8914545087691701, -0.8963241207449435, -0.9298891247661836, -0.9102209609599172, -0.9892341084594836, -0.9031490883806406, -0.9319629776023489, -0.9544044522346491, -0.9579522439996834, -0.9885980892174251, -1.0076147549128838, -1.0011239495180508, -1.1151951173269627, -1.1249369182626396, -1.1629857453791366, -1.1655810951898504, -1.2069615598257721, -1.202292492640149, -1.271345283631289], \"yaxis\": \"y\"}, {\"line\": {\"color\": \"#FFe476\"}, \"mode\": \"lines\", \"showlegend\": false, \"type\": \"scatter\", \"x\": [0.0, 0.02040816326530612, 0.04081632653061224, 0.061224489795918366, 0.08163265306122448, 0.1020408163265306, 0.12244897959183673, 0.14285714285714285, 0.16326530612244897, 0.18367346938775508, 0.2040816326530612, 0.22448979591836732, 0.24489795918367346, 0.26530612244897955, 0.2857142857142857, 0.3061224489795918, 0.32653061224489793, 0.3469387755102041, 0.36734693877551017, 0.3877551020408163, 0.4081632653061224, 0.42857142857142855, 0.44897959183673464, 0.4693877551020408, 0.4897959183673469, 0.5102040816326531, 0.5306122448979591, 0.5510204081632653, 0.5714285714285714, 0.5918367346938775, 0.6122448979591836, 0.6326530612244897, 0.6530612244897959, 0.673469387755102, 0.6938775510204082, 0.7142857142857142, 0.7346938775510203, 0.7551020408163265, 0.7755102040816326, 0.7959183673469387, 0.8163265306122448, 0.836734693877551, 0.8571428571428571, 0.8775510204081632, 0.8979591836734693, 0.9183673469387754, 0.9387755102040816, 0.9591836734693877, 0.9795918367346939, 1.0], \"xaxis\": \"x\", \"y\": [-0.5, -0.4543012343300632, -0.48847369419462333, -0.4873475471256259, -0.5266956786290466, -0.508626680202954, -0.40120165395739454, -0.45502574942177065, -0.4322229856940315, -0.46329383858363704, -0.4241258235383856, -0.4366648155571764, -0.35081304668754615, -0.3184454818900442, -0.32548512879750596, -0.32423052716499867, -0.3203702773066615, -0.30842070343467953, -0.31368665285501807, -0.328829185424104, -0.30184982210653805, -0.2864304273243002, -0.35903392773687365, -0.341560689045144, -0.345843780660905, -0.3456167633592999, -0.31595390103200294, -0.34446811470858896, -0.38537189408351047, -0.4510592174079636, -0.46589379555755583, -0.40218211927677344, -0.40480670315404554, -0.3223083075952553, -0.3067305839034035, -0.2774661732546904, -0.366215799738433, -0.3967281907116621, -0.4006520980605418, -0.4072834257846578, -0.482335287787237, -0.5287156297632336, -0.5246091120229944, -0.57674524916408, -0.608518031220361, -0.6019116260135349, -0.6061774910335099, -0.6082075434917782, -0.6224797085003559, -0.6605200916484456], \"yaxis\": \"y\"}, {\"line\": {\"color\": \"#00e476\"}, \"mode\": \"lines\", \"showlegend\": false, \"type\": \"scatter\", \"x\": [0.0, 0.02040816326530612, 0.04081632653061224, 0.061224489795918366, 0.08163265306122448, 0.1020408163265306, 0.12244897959183673, 0.14285714285714285, 0.16326530612244897, 0.18367346938775508, 0.2040816326530612, 0.22448979591836732, 0.24489795918367346, 0.26530612244897955, 0.2857142857142857, 0.3061224489795918, 0.32653061224489793, 0.3469387755102041, 0.36734693877551017, 0.3877551020408163, 0.4081632653061224, 0.42857142857142855, 0.44897959183673464, 0.4693877551020408, 0.4897959183673469, 0.5102040816326531, 0.5306122448979591, 0.5510204081632653, 0.5714285714285714, 0.5918367346938775, 0.6122448979591836, 0.6326530612244897, 0.6530612244897959, 0.673469387755102, 0.6938775510204082, 0.7142857142857142, 0.7346938775510203, 0.7551020408163265, 0.7755102040816326, 0.7959183673469387, 0.8163265306122448, 0.836734693877551, 0.8571428571428571, 0.8775510204081632, 0.8979591836734693, 0.9183673469387754, 0.9387755102040816, 0.9591836734693877, 0.9795918367346939, 1.0], \"xaxis\": \"x2\", \"y\": [0.0, -0.8779696226119995, -1.620336805277268, -2.2734981569156156, -2.7453053598774826, -3.216832655740779, -3.56841125154054, -3.7796735158372052, -4.110102799080019, -4.3747373778232035, -4.591037793887229, -4.781220524989405, -5.047104963860826, -5.2337293547430015, -5.4461900416790545, -5.620261583184127, -5.72564133915767, -5.774450611983651, -5.790239881301701, -5.827743928493701, -5.8522869498420595, -5.8761073647691875, -5.913013442470507, -5.942215637593209, -5.962257532081385, -5.963176295982824, -5.974109316320074, -5.981371331029404, -5.982993871734857, -5.984488726412035, -5.985769695510301, -5.988771086632704, -6.002841258773538, -6.015104677661041, -6.04986526982461, -6.103766893744291, -6.166000874194271, -6.205067687607327, -6.242016899051232, -6.268405449596803, -6.305931488915875, -6.330882377104302, -6.34895251462535, -6.365864937419392, -6.366679499408888, -6.368689337753147, -6.371085371331197, -6.37920139036017, -6.380832101120591, -6.380832101120591], \"yaxis\": \"y2\"}, {\"line\": {\"color\": \"#FFe476\"}, \"mode\": \"lines\", \"showlegend\": false, \"type\": \"scatter\", \"x\": [0.0, 0.02040816326530612, 0.04081632653061224, 0.061224489795918366, 0.08163265306122448, 0.1020408163265306, 0.12244897959183673, 0.14285714285714285, 0.16326530612244897, 0.18367346938775508, 0.2040816326530612, 0.22448979591836732, 0.24489795918367346, 0.26530612244897955, 0.2857142857142857, 0.3061224489795918, 0.32653061224489793, 0.3469387755102041, 0.36734693877551017, 0.3877551020408163, 0.4081632653061224, 0.42857142857142855, 0.44897959183673464, 0.4693877551020408, 0.4897959183673469, 0.5102040816326531, 0.5306122448979591, 0.5510204081632653, 0.5714285714285714, 0.5918367346938775, 0.6122448979591836, 0.6326530612244897, 0.6530612244897959, 0.673469387755102, 0.6938775510204082, 0.7142857142857142, 0.7346938775510203, 0.7551020408163265, 0.7755102040816326, 0.7959183673469387, 0.8163265306122448, 0.836734693877551, 0.8571428571428571, 0.8775510204081632, 0.8979591836734693, 0.9183673469387754, 0.9387755102040816, 0.9591836734693877, 0.9795918367346939, 1.0], \"xaxis\": \"x2\", \"y\": [0.0, -0.6043625733590001, -1.2284795402649622, -1.8413573507385324, -2.4323336535279725, -3.0728197033299507, -3.7442154593876973, -4.268401223410644, -4.924751400422359, -5.536247302930825, -6.128019490675463, -6.74932595023114, -7.594044177476282, -8.324929303221191, -9.205133710464974, -10.073926999079791, -10.954437511911793, -11.750571458036841, -12.459494540755664, -13.315107020105609, -14.216306277087867, -15.038822892765532, -15.953020508642902, -16.998346251335338, -18.038880852709994, -18.973195115742158, -20.07972407225808, -21.065288741150702, -22.141912968935785, -23.448962433015318, -24.75244703045636, -26.05708647072494, -27.23222972949639, -28.375903268752655, -29.59498971002388, -30.708173685678904, -32.04256975195981, -33.21984305909335, -34.45441831891175, -35.745374664508724, -37.06456369213743, -38.492394913392225, -40.07872669504577, -41.638812987471326, -43.49913098503092, -45.402912167825576, -47.41951328639537, -49.474730867061126, -51.61527950994924, -51.61527950994924], \"yaxis\": \"y2\"}],                        {\"font\": {\"family\": \"Courier New, monospace\", \"size\": 14}, \"template\": {\"data\": {\"bar\": [{\"error_x\": {\"color\": \"#2a3f5f\"}, \"error_y\": {\"color\": \"#2a3f5f\"}, \"marker\": {\"line\": {\"color\": \"#E5ECF6\", \"width\": 0.5}}, \"type\": \"bar\"}], \"barpolar\": [{\"marker\": {\"line\": {\"color\": \"#E5ECF6\", \"width\": 0.5}}, \"type\": \"barpolar\"}], \"carpet\": [{\"aaxis\": {\"endlinecolor\": \"#2a3f5f\", \"gridcolor\": \"white\", \"linecolor\": \"white\", \"minorgridcolor\": \"white\", \"startlinecolor\": \"#2a3f5f\"}, \"baxis\": {\"endlinecolor\": \"#2a3f5f\", \"gridcolor\": \"white\", \"linecolor\": \"white\", \"minorgridcolor\": \"white\", \"startlinecolor\": \"#2a3f5f\"}, \"type\": \"carpet\"}], \"choropleth\": [{\"colorbar\": {\"outlinewidth\": 0, \"ticks\": \"\"}, \"type\": \"choropleth\"}], \"contour\": [{\"colorbar\": {\"outlinewidth\": 0, \"ticks\": \"\"}, \"colorscale\": [[0.0, \"#0d0887\"], [0.1111111111111111, \"#46039f\"], [0.2222222222222222, \"#7201a8\"], [0.3333333333333333, \"#9c179e\"], [0.4444444444444444, \"#bd3786\"], [0.5555555555555556, \"#d8576b\"], [0.6666666666666666, \"#ed7953\"], [0.7777777777777778, \"#fb9f3a\"], [0.8888888888888888, \"#fdca26\"], [1.0, \"#f0f921\"]], \"type\": \"contour\"}], \"contourcarpet\": [{\"colorbar\": {\"outlinewidth\": 0, \"ticks\": \"\"}, \"type\": \"contourcarpet\"}], \"heatmap\": [{\"colorbar\": {\"outlinewidth\": 0, \"ticks\": \"\"}, \"colorscale\": [[0.0, \"#0d0887\"], [0.1111111111111111, \"#46039f\"], [0.2222222222222222, \"#7201a8\"], [0.3333333333333333, \"#9c179e\"], [0.4444444444444444, \"#bd3786\"], [0.5555555555555556, \"#d8576b\"], [0.6666666666666666, \"#ed7953\"], [0.7777777777777778, \"#fb9f3a\"], [0.8888888888888888, \"#fdca26\"], [1.0, \"#f0f921\"]], \"type\": \"heatmap\"}], \"heatmapgl\": [{\"colorbar\": {\"outlinewidth\": 0, \"ticks\": \"\"}, \"colorscale\": [[0.0, \"#0d0887\"], [0.1111111111111111, \"#46039f\"], [0.2222222222222222, \"#7201a8\"], [0.3333333333333333, \"#9c179e\"], [0.4444444444444444, \"#bd3786\"], [0.5555555555555556, \"#d8576b\"], [0.6666666666666666, \"#ed7953\"], [0.7777777777777778, \"#fb9f3a\"], [0.8888888888888888, \"#fdca26\"], [1.0, \"#f0f921\"]], \"type\": \"heatmapgl\"}], \"histogram\": [{\"marker\": {\"colorbar\": {\"outlinewidth\": 0, \"ticks\": \"\"}}, \"type\": \"histogram\"}], \"histogram2d\": [{\"colorbar\": {\"outlinewidth\": 0, \"ticks\": \"\"}, \"colorscale\": [[0.0, \"#0d0887\"], [0.1111111111111111, \"#46039f\"], [0.2222222222222222, \"#7201a8\"], [0.3333333333333333, \"#9c179e\"], [0.4444444444444444, \"#bd3786\"], [0.5555555555555556, \"#d8576b\"], [0.6666666666666666, \"#ed7953\"], [0.7777777777777778, \"#fb9f3a\"], [0.8888888888888888, \"#fdca26\"], [1.0, \"#f0f921\"]], \"type\": \"histogram2d\"}], \"histogram2dcontour\": [{\"colorbar\": {\"outlinewidth\": 0, \"ticks\": \"\"}, \"colorscale\": [[0.0, \"#0d0887\"], [0.1111111111111111, \"#46039f\"], [0.2222222222222222, \"#7201a8\"], [0.3333333333333333, \"#9c179e\"], [0.4444444444444444, \"#bd3786\"], [0.5555555555555556, \"#d8576b\"], [0.6666666666666666, \"#ed7953\"], [0.7777777777777778, \"#fb9f3a\"], [0.8888888888888888, \"#fdca26\"], [1.0, \"#f0f921\"]], \"type\": \"histogram2dcontour\"}], \"mesh3d\": [{\"colorbar\": {\"outlinewidth\": 0, \"ticks\": \"\"}, \"type\": \"mesh3d\"}], \"parcoords\": [{\"line\": {\"colorbar\": {\"outlinewidth\": 0, \"ticks\": \"\"}}, \"type\": \"parcoords\"}], \"pie\": [{\"automargin\": true, \"type\": \"pie\"}], \"scatter\": [{\"marker\": {\"colorbar\": {\"outlinewidth\": 0, \"ticks\": \"\"}}, \"type\": \"scatter\"}], \"scatter3d\": [{\"line\": {\"colorbar\": {\"outlinewidth\": 0, \"ticks\": \"\"}}, \"marker\": {\"colorbar\": {\"outlinewidth\": 0, \"ticks\": \"\"}}, \"type\": \"scatter3d\"}], \"scattercarpet\": [{\"marker\": {\"colorbar\": {\"outlinewidth\": 0, \"ticks\": \"\"}}, \"type\": \"scattercarpet\"}], \"scattergeo\": [{\"marker\": {\"colorbar\": {\"outlinewidth\": 0, \"ticks\": \"\"}}, \"type\": \"scattergeo\"}], \"scattergl\": [{\"marker\": {\"colorbar\": {\"outlinewidth\": 0, \"ticks\": \"\"}}, \"type\": \"scattergl\"}], \"scattermapbox\": [{\"marker\": {\"colorbar\": {\"outlinewidth\": 0, \"ticks\": \"\"}}, \"type\": \"scattermapbox\"}], \"scatterpolar\": [{\"marker\": {\"colorbar\": {\"outlinewidth\": 0, \"ticks\": \"\"}}, \"type\": \"scatterpolar\"}], \"scatterpolargl\": [{\"marker\": {\"colorbar\": {\"outlinewidth\": 0, \"ticks\": \"\"}}, \"type\": \"scatterpolargl\"}], \"scatterternary\": [{\"marker\": {\"colorbar\": {\"outlinewidth\": 0, \"ticks\": \"\"}}, \"type\": \"scatterternary\"}], \"surface\": [{\"colorbar\": {\"outlinewidth\": 0, \"ticks\": \"\"}, \"colorscale\": [[0.0, \"#0d0887\"], [0.1111111111111111, \"#46039f\"], [0.2222222222222222, \"#7201a8\"], [0.3333333333333333, \"#9c179e\"], [0.4444444444444444, \"#bd3786\"], [0.5555555555555556, \"#d8576b\"], [0.6666666666666666, \"#ed7953\"], [0.7777777777777778, \"#fb9f3a\"], [0.8888888888888888, \"#fdca26\"], [1.0, \"#f0f921\"]], \"type\": \"surface\"}], \"table\": [{\"cells\": {\"fill\": {\"color\": \"#EBF0F8\"}, \"line\": {\"color\": \"white\"}}, \"header\": {\"fill\": {\"color\": \"#C8D4E3\"}, \"line\": {\"color\": \"white\"}}, \"type\": \"table\"}]}, \"layout\": {\"annotationdefaults\": {\"arrowcolor\": \"#2a3f5f\", \"arrowhead\": 0, \"arrowwidth\": 1}, \"autotypenumbers\": \"strict\", \"coloraxis\": {\"colorbar\": {\"outlinewidth\": 0, \"ticks\": \"\"}}, \"colorscale\": {\"diverging\": [[0, \"#8e0152\"], [0.1, \"#c51b7d\"], [0.2, \"#de77ae\"], [0.3, \"#f1b6da\"], [0.4, \"#fde0ef\"], [0.5, \"#f7f7f7\"], [0.6, \"#e6f5d0\"], [0.7, \"#b8e186\"], [0.8, \"#7fbc41\"], [0.9, \"#4d9221\"], [1, \"#276419\"]], \"sequential\": [[0.0, \"#0d0887\"], [0.1111111111111111, \"#46039f\"], [0.2222222222222222, \"#7201a8\"], [0.3333333333333333, \"#9c179e\"], [0.4444444444444444, \"#bd3786\"], [0.5555555555555556, \"#d8576b\"], [0.6666666666666666, \"#ed7953\"], [0.7777777777777778, \"#fb9f3a\"], [0.8888888888888888, \"#fdca26\"], [1.0, \"#f0f921\"]], \"sequentialminus\": [[0.0, \"#0d0887\"], [0.1111111111111111, \"#46039f\"], [0.2222222222222222, \"#7201a8\"], [0.3333333333333333, \"#9c179e\"], [0.4444444444444444, \"#bd3786\"], [0.5555555555555556, \"#d8576b\"], [0.6666666666666666, \"#ed7953\"], [0.7777777777777778, \"#fb9f3a\"], [0.8888888888888888, \"#fdca26\"], [1.0, \"#f0f921\"]]}, \"colorway\": [\"#636efa\", \"#EF553B\", \"#00cc96\", \"#ab63fa\", \"#FFA15A\", \"#19d3f3\", \"#FF6692\", \"#B6E880\", \"#FF97FF\", \"#FECB52\"], \"font\": {\"color\": \"#2a3f5f\"}, \"geo\": {\"bgcolor\": \"white\", \"lakecolor\": \"white\", \"landcolor\": \"#E5ECF6\", \"showlakes\": true, \"showland\": true, \"subunitcolor\": \"white\"}, \"hoverlabel\": {\"align\": \"left\"}, \"hovermode\": \"closest\", \"mapbox\": {\"style\": \"light\"}, \"paper_bgcolor\": \"white\", \"plot_bgcolor\": \"#E5ECF6\", \"polar\": {\"angularaxis\": {\"gridcolor\": \"white\", \"linecolor\": \"white\", \"ticks\": \"\"}, \"bgcolor\": \"#E5ECF6\", \"radialaxis\": {\"gridcolor\": \"white\", \"linecolor\": \"white\", \"ticks\": \"\"}}, \"scene\": {\"xaxis\": {\"backgroundcolor\": \"#E5ECF6\", \"gridcolor\": \"white\", \"gridwidth\": 2, \"linecolor\": \"white\", \"showbackground\": true, \"ticks\": \"\", \"zerolinecolor\": \"white\"}, \"yaxis\": {\"backgroundcolor\": \"#E5ECF6\", \"gridcolor\": \"white\", \"gridwidth\": 2, \"linecolor\": \"white\", \"showbackground\": true, \"ticks\": \"\", \"zerolinecolor\": \"white\"}, \"zaxis\": {\"backgroundcolor\": \"#E5ECF6\", \"gridcolor\": \"white\", \"gridwidth\": 2, \"linecolor\": \"white\", \"showbackground\": true, \"ticks\": \"\", \"zerolinecolor\": \"white\"}}, \"shapedefaults\": {\"line\": {\"color\": \"#2a3f5f\"}}, \"ternary\": {\"aaxis\": {\"gridcolor\": \"white\", \"linecolor\": \"white\", \"ticks\": \"\"}, \"baxis\": {\"gridcolor\": \"white\", \"linecolor\": \"white\", \"ticks\": \"\"}, \"bgcolor\": \"#E5ECF6\", \"caxis\": {\"gridcolor\": \"white\", \"linecolor\": \"white\", \"ticks\": \"\"}}, \"title\": {\"x\": 0.05}, \"xaxis\": {\"automargin\": true, \"gridcolor\": \"white\", \"linecolor\": \"white\", \"ticks\": \"\", \"title\": {\"standoff\": 15}, \"zerolinecolor\": \"white\", \"zerolinewidth\": 2}, \"yaxis\": {\"automargin\": true, \"gridcolor\": \"white\", \"linecolor\": \"white\", \"ticks\": \"\", \"title\": {\"standoff\": 15}, \"zerolinecolor\": \"white\", \"zerolinewidth\": 2}}}, \"title\": {\"text\": \"Minimise amount of X | Minimise the costs (hold both close to zero)\"}, \"xaxis\": {\"anchor\": \"y\", \"domain\": [0.0, 0.45], \"title\": {\"text\": \"t\"}}, \"xaxis2\": {\"anchor\": \"y2\", \"domain\": [0.55, 1.0]}, \"yaxis\": {\"anchor\": \"x\", \"domain\": [0.0, 1.0], \"title\": {\"text\": \"X\"}}, \"yaxis2\": {\"anchor\": \"x2\", \"domain\": [0.0, 1.0]}},                        {\"responsive\": true}                    ).then(function(){\n",
       "                            \n",
       "var gd = document.getElementById('c834cd9a-7521-476d-87fb-5af765cebcd4');\n",
       "var x = new MutationObserver(function (mutations, observer) {{\n",
       "        var display = window.getComputedStyle(gd).display;\n",
       "        if (!display || display === 'none') {{\n",
       "            console.log([gd, 'removed!']);\n",
       "            Plotly.purge(gd);\n",
       "            observer.disconnect();\n",
       "        }}\n",
       "}});\n",
       "\n",
       "// Listen for the removal of the full notebook cells\n",
       "var notebookContainer = gd.closest('#notebook-container');\n",
       "if (notebookContainer) {{\n",
       "    x.observe(notebookContainer, {childList: true});\n",
       "}}\n",
       "\n",
       "// Listen for the clearing of the current output cell\n",
       "var outputEl = gd.closest('.output');\n",
       "if (outputEl) {{\n",
       "    x.observe(outputEl, {childList: true});\n",
       "}}\n",
       "\n",
       "                        })                };                });            </script>        </div>"
      ]
     },
     "metadata": {},
     "output_type": "display_data"
    }
   ],
   "source": [
    "n = 50\n",
    "c_xs = np.zeros((2, n))\n",
    "c_xs[:, 0] = -0.5\n",
    "uc_xs = np.zeros((2, n))\n",
    "uc_xs[:, 0] = -0.5\n",
    "dt = 1/n\n",
    "ts = [t for t in np.linspace(0, 1, n)]\n",
    "c_cum_cost = np.zeros(n)\n",
    "uc_cum_cost = np.zeros(n)\n",
    "for i in range(n-1):\n",
    "    dW = np.sqrt(dt)*np.random.randn(2, 1)\n",
    "    c = -np.expand_dims(solver.u(c_xs[0, i], c_xs[1, i], i*dt), axis=1)\n",
    "    uc = (np.random.rand(2, 1)-0.5)*2\n",
    "    c_xs[:, None, i+1] = c_xs[:, None, i] + (eq.H.numpy() @ c_xs[:, None, i] + eq.M.numpy() @ c)*dt + eq.σ*dW\n",
    "    uc_xs[:, None, i+1] = uc_xs[:, None, i] + (eq.H.numpy() @ uc_xs[:, None, i] + eq.M.numpy() @ uc)*dt + eq.σ*dW\n",
    "    c_cum_cost[i+1] = c_cum_cost[i] + c_xs[:, None, i].T @ eq.C.numpy() @ c_xs[:, None, i] + c.T @ eq.D.numpy() @ c\n",
    "    uc_cum_cost[i+1] = uc_cum_cost[i] + uc_xs[:, None, i].T @ eq.C.numpy() @ uc_xs[:, None, i] + uc.T @ eq.D.numpy() @ uc\n",
    "\n",
    "c_cum_cost[-1] = c_cum_cost[-2] #+ c_xs[:, None, -1].T @ eq.R.numpy() @ c_xs[:, None, -1]\n",
    "uc_cum_cost[-1] = uc_cum_cost[-2] #+ uc_xs[:, None, -1].T @ eq.R.numpy() @ uc_xs[:, None, -1]\n",
    "fig = make_subplots(rows=1, cols=2)\n",
    "fig.add_trace(go.Scatter(x=ts, y=c_xs[0], mode='lines', name=\"Controlled\", line=dict(color=\"#00e476\")), row=1, col=1)\n",
    "fig.add_trace(go.Scatter(x=ts, y=c_xs[1], mode='lines', showlegend=False, line=dict(color=\"#00e476\")), row=1, col=1)\n",
    "fig.add_trace(go.Scatter(x=ts, y=uc_xs[0], mode='lines', name=\"Uncontrolled\", line=dict(color=\"#FFe476\")), row=1, col=1)\n",
    "fig.add_trace(go.Scatter(x=ts, y=uc_xs[1], mode='lines', showlegend=False, line=dict(color=\"#FFe476\")), row=1, col=1)\n",
    "fig.add_trace(go.Scatter(x=ts, y=c_cum_cost, mode='lines', showlegend=False, line=dict(color=\"#00e476\")), row=1, col=2)\n",
    "fig.add_trace(go.Scatter(x=ts, y=uc_cum_cost, mode='lines', showlegend=False, line=dict(color=\"#FFe476\")), row=1, col=2)\n",
    "fig.update_layout(\n",
    "    title=\"Minimise amount of X | Minimise the costs (hold both close to zero)\",\n",
    "    xaxis_title=\"t\",\n",
    "    yaxis_title=\"X\",\n",
    "    font=dict(\n",
    "        family=\"Courier New, monospace\",\n",
    "        size=14\n",
    "    )\n",
    ")\n",
    "fig.show()"
   ]
  },
  {
   "cell_type": "code",
   "execution_count": null,
   "id": "heavy-charm",
   "metadata": {},
   "outputs": [],
   "source": []
  },
  {
   "cell_type": "code",
   "execution_count": null,
   "id": "following-bicycle",
   "metadata": {},
   "outputs": [],
   "source": []
  }
 ],
 "metadata": {
  "kernelspec": {
   "display_name": "Python 3",
   "language": "python",
   "name": "python3"
  },
  "language_info": {
   "codemirror_mode": {
    "name": "ipython",
    "version": 3
   },
   "file_extension": ".py",
   "mimetype": "text/x-python",
   "name": "python",
   "nbconvert_exporter": "python",
   "pygments_lexer": "ipython3",
   "version": "3.8.5"
  }
 },
 "nbformat": 4,
 "nbformat_minor": 5
}
