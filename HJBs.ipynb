{
 "cells": [
  {
   "cell_type": "markdown",
   "id": "insured-childhood",
   "metadata": {},
   "source": [
    "# Solving Hamilton-Jacobi-Bellman Equations (Deep Galerkin)\n",
    "#### Frederik Kelbel, Imperial College London"
   ]
  },
  {
   "cell_type": "markdown",
   "id": "physical-festival",
   "metadata": {},
   "source": [
    "## Dependencies"
   ]
  },
  {
   "cell_type": "code",
   "execution_count": 1,
   "id": "growing-victor",
   "metadata": {},
   "outputs": [],
   "source": [
    "import torch\n",
    "import plotly.graph_objects as go\n",
    "import numpy as np\n",
    "from operators import div, Δ, D, mdotb, bdotm, mdotm, bdotb, cat\n",
    "from DGM import DGMPIASolver, DeepPDESolver\n",
    "from pdes import HBJ, PDE\n",
    "from scipy.integrate import quad\n",
    "from plotly.subplots import make_subplots\n",
    "from configs import CONFIG_HBJS as MODEL_CONFIG\n",
    "from itertools import product\n",
    "import torch.nn.functional as F"
   ]
  },
  {
   "cell_type": "markdown",
   "id": "described-moral",
   "metadata": {},
   "source": [
    "## Plotting"
   ]
  },
  {
   "cell_type": "code",
   "execution_count": 2,
   "id": "mineral-tutorial",
   "metadata": {},
   "outputs": [],
   "source": [
    "def plot_losses(losses, avg_over=10):\n",
    "    avgs_1 = np.convolve(losses[:, 0], np.ones(avg_over), 'valid') / avg_over\n",
    "    avgs_2 = np.convolve(losses[:, 1], np.ones(avg_over), 'valid') / avg_over\n",
    "    fig = make_subplots(rows=1, cols=1)\n",
    "    fig.add_trace(go.Scatter(x=np.arange(len(avgs_1)), y=avgs_1, mode='lines', name=\"Value Loss\"), row=1, col=1)\n",
    "    fig.add_trace(go.Scatter(x=np.arange(len(avgs_2)), y=avgs_2, mode='lines', name=\"Control Loss\"), row=1, col=1)\n",
    "    fig.update_layout(\n",
    "        title=\"Loss\",\n",
    "        xaxis_title=\"Iterations\",\n",
    "        yaxis_title=\"Loss\",\n",
    "        font=dict(\n",
    "            family=\"Courier New, monospace\",\n",
    "            size=14\n",
    "        )\n",
    "    )\n",
    "    fig.show()\n",
    "    \n",
    "def plot_value(solver, sol):\n",
    "    fig = make_subplots(rows=1, cols=2, \n",
    "                   specs=[[{'type': 'surface'}, {'type': 'surface'}]])\n",
    "    xs = np.linspace(0, 1, 100)\n",
    "    ts = np.linspace(0.01, 1, 100)\n",
    "    us_pred = np.array([[solver(x, t).item() for x in xs] for t in ts])\n",
    "    us = np.array([[sol(x, t) for x in xs] for t in ts])\n",
    "    fig.add_trace(go.Surface(z=us, showscale=False), row=1, col=1)\n",
    "    fig.add_trace(go.Surface(z=us_pred), row=1, col=2)\n",
    "    fig.update_layout(title='Solution | Approximation',\n",
    "                  scene = dict(\n",
    "                    xaxis_title=\"t\",\n",
    "                    yaxis_title=\"x\",\n",
    "                    zaxis_title=\"J(x, t\"),\n",
    "                  scene2 = dict(\n",
    "                    xaxis_title=\"t\",\n",
    "                    yaxis_title=\"x\",\n",
    "                    zaxis_title=\"J(x, t)\"),\n",
    "                  margin=dict(l=50, r=50, b=50, t=50))\n",
    "    fig.show()\n",
    "    \n",
    "def plot_loss(losses, avg_over=10):\n",
    "    avgs = np.convolve(losses, np.ones(avg_over), 'valid') / avg_over\n",
    "    fig = make_subplots(rows=1, cols=1)\n",
    "    fig.add_trace(go.Scatter(x=np.arange(len(avgs)), y=avgs, mode='lines', name=\"Error at x=0.1\"), row=1, col=1)\n",
    "    fig.update_layout(\n",
    "        title=\"Loss\",\n",
    "        xaxis_title=\"Iterations\",\n",
    "        yaxis_title=\"Loss\",\n",
    "        font=dict(\n",
    "            family=\"Courier New, monospace\",\n",
    "            size=14\n",
    "        )\n",
    "    )\n",
    "    fig.show()"
   ]
  },
  {
   "cell_type": "markdown",
   "id": "removable-phrase",
   "metadata": {},
   "source": [
    "## Problem Formulation"
   ]
  },
  {
   "cell_type": "markdown",
   "id": "demographic-watson",
   "metadata": {},
   "source": [
    "Objective: Find the control process $u = (u_t)_{t \\geq 0}$ in admissable set $\\mathcal{A}$ for an Itô Process $X^u = (X_t^u)_{t \\geq 0}$ satisfying:\n"
   ]
  },
  {
   "cell_type": "markdown",
   "id": "changed-period",
   "metadata": {},
   "source": [
    "$$\n",
    "d X_t^u = \\mu(t, X_t^u, u_t) dt + \\sigma(t, X_t^u, u_t) d W_t, \\quad X_0^u = 0.\n",
    "$$"
   ]
  },
  {
   "cell_type": "markdown",
   "id": "italic-space",
   "metadata": {},
   "source": [
    "We will consider the HBJ-Equations in their primal form."
   ]
  },
  {
   "cell_type": "markdown",
   "id": "stone-point",
   "metadata": {},
   "source": [
    "The agents performance is assessed via:\n",
    "$$\n",
    "J^u(t, x) = \\mathbb{E}\\Big[ \\int_t^T F(s, X_s^u, u_s) ds + G(X_T^u) \\;\\Big|\\; X_t^u = x \\Big]\n",
    "$$"
   ]
  },
  {
   "cell_type": "markdown",
   "id": "studied-reasoning",
   "metadata": {},
   "source": [
    "Denote $J(t, x) = \\sup_{u \\in \\mathcal{A}} J^u(t, x)$, then this value function satisfies the following HJB-equations:"
   ]
  },
  {
   "cell_type": "markdown",
   "id": "upper-logan",
   "metadata": {},
   "source": [
    "$$\n",
    "\\begin{cases}\n",
    "\\partial_t J(t, x) + \\sup_{u \\in \\mathcal{A}} \\{\\mathscr{L}^u_t J(t, x) + F(t, x, u)\\} = 0 \\\\\n",
    "J(T, x) = G(x)\n",
    "\\end{cases}\n",
    "$$"
   ]
  },
  {
   "cell_type": "markdown",
   "id": "blocked-memphis",
   "metadata": {},
   "source": [
    "### The Merton Problem (Wealth Allocation Problem)"
   ]
  },
  {
   "cell_type": "markdown",
   "id": "younger-procurement",
   "metadata": {},
   "source": [
    "The goal is to find the optimal wealth allocation strategy over time such that the wealth itself is maximized."
   ]
  },
  {
   "cell_type": "markdown",
   "id": "buried-arnold",
   "metadata": {},
   "source": [
    "Consider a market with a risky and risk-free asset. Suppose the value of the risk-free asset at time $t$ is given by $\\frac{d B_t}{B_t} = r dt$ or $B_t = B_0 e^{rt}, t\\geq 0$. Additionally, we have that the risky asset evolves accordingly to $\\frac{d S_t}{S_t} = \\mu dt + \\sigma dW_t$, where $\\{W_t\\}_{t\\geq 0}$ is a standard one-dimensional Brownian motion."
   ]
  },
  {
   "cell_type": "markdown",
   "id": "gentle-species",
   "metadata": {},
   "source": [
    "The wealth can then be described by\n",
    "$$\n",
    "X_t= x + \\int_0^t v_s \\frac{dS_s}{S_s} + \\int_0^t(X_s-v_s)\\frac{dB_s}{B_s},\n",
    "$$\n",
    "where $v_t = u_t X_t$ describes the amount of the wealth to be have invested into the risky asset at time $t$. $u_t$ is the fraction of wealth invested in the risky asset."
   ]
  },
  {
   "cell_type": "markdown",
   "id": "paperback-optimization",
   "metadata": {},
   "source": [
    "Let $(\\Omega, \\mathcal{F}, \\{\\mathcal{F}_t\\}_{t\\in [0, T]}, \\mathbb{P})$ be a filtered probability space. The evolution of an investor's wealth is described via\n",
    "$$\n",
    "\\begin{cases}\n",
    "dX_s = ((\\mu -r)u_s + r)X_s ds + \\sigma u_s X_s dW_s, \\; s \\in [0, T] \\\\\n",
    "X_0 = x > 0\n",
    "\\end{cases},\n",
    "$$"
   ]
  },
  {
   "cell_type": "markdown",
   "id": "impressed-assessment",
   "metadata": {},
   "source": [
    "with $\\mu>r$ and $\\sigma>0$ referring to drift and volatility, respectively. Let $r>0$ denote the discount rate, i.e. the depreciation constant. The intent is to maximise the objective\n",
    "$$\n",
    "J^u(t, X_t) = \\mathbb{E}[ X_T^\\gamma ], \\; \\gamma \\in(0, 1).\n",
    "$$"
   ]
  },
  {
   "cell_type": "markdown",
   "id": "stuck-senior",
   "metadata": {},
   "source": [
    "The respective HBJ-equation becomes:"
   ]
  },
  {
   "cell_type": "markdown",
   "id": "rural-traffic",
   "metadata": {},
   "source": [
    "$$\n",
    "\\begin{cases}\n",
    "\\partial_t J(t, x) + \\sup_{u} \\Big\\{ ((\\mu-r)u + r)x \\partial_x J(t, x) + \\frac{1}{2} \\sigma^2 u^2 x^2\\partial_{xx} J(t, x) \\Big\\} = 0 \\text{ on $[0, T] \\times (0, \\infty)$}\n",
    "\\\\\n",
    "J(T, x) = x^\\gamma \\text{ $\\forall x > 0$}\n",
    "\\end{cases}\n",
    "$$"
   ]
  },
  {
   "cell_type": "markdown",
   "id": "elect-stations",
   "metadata": {},
   "source": [
    "#### Analytical Solution (Oksendal):"
   ]
  },
  {
   "cell_type": "markdown",
   "id": "reserved-explorer",
   "metadata": {},
   "source": [
    "Assume $J(t, x) = w(t) v(x)$, with $J(T, x) = w(T) v(x) = x^\\gamma$. We guess $J(t, x) = w(t) x^\\gamma$, where $w(T)=1$. The problem becomes \n",
    "$$\n",
    "\\begin{cases}\n",
    "w'(t) + \\gamma  \\sup_{u} \\Big\\{ (\\mu-r) u + r + \\frac{1}{2} \\sigma^2 u^2 (\\gamma-1) \\Big\\}w(t) = 0\n",
    "\\\\\n",
    "w(T) = x^\\gamma\n",
    "\\end{cases}.\n",
    "$$"
   ]
  },
  {
   "cell_type": "markdown",
   "id": "through-samba",
   "metadata": {},
   "source": [
    "Then, $u$ is maximised for $u^* = \\frac{\\mu-r}{\\sigma^2 (1-\\gamma)}$ and the equation becomes\n",
    "$$\n",
    "\\begin{cases}\n",
    "w'(t) + \\frac{\\gamma (\\mu-r)^2}{\\sigma^2(2-2\\gamma)}w(t) = 0\n",
    "\\\\\n",
    "w(T) = x^\\gamma\n",
    "\\end{cases}.\n",
    "$$\n",
    "Thus, we have  $w'(t) = \\frac{\\gamma (\\mu-r)^2}{\\sigma^2(2\\gamma - 2)}w(t)$. It follows that $w(t) = \\exp\\big(\\frac{\\gamma (\\mu-r)^2}{\\sigma^2(2\\gamma - 2)}t\\big)$. The final solution is:\n",
    "$$\n",
    "J(t, x) = w(t)v(x) = \\exp\\big(\\frac{\\gamma (\\mu-r)^2}{\\sigma^2(2\\gamma - 2)}t\\big) x^\\gamma.\n",
    "$$"
   ]
  },
  {
   "cell_type": "markdown",
   "id": "distinct-adobe",
   "metadata": {},
   "source": [
    "We need to verify this using the HBJ-verification theorem."
   ]
  },
  {
   "cell_type": "code",
   "execution_count": null,
   "id": "final-tanzania",
   "metadata": {},
   "outputs": [],
   "source": [
    "class RISKY_ASSET(HBJ):\n",
    "    def __init__(self):\n",
    "        super().__init__()\n",
    "        self.μ = 0.04\n",
    "        self.σ = 0.4\n",
    "        self.r = 0.03\n",
    "        self.γ = 0.8\n",
    "        \n",
    "        self.var_dim_J = 2 # (x, t)\n",
    "        self.control_vars = [1] # (t)\n",
    "        self.cost_function = lambda u, var: 0\n",
    "        self.differential_operator = lambda J, u, var: ((self.μ-self.r)*u+self.r)*var[0]*div(J, var[0]) + 0.5*self.σ**2*u**2*var[0]**2*Δ(J, var[0])\n",
    "        self.domain_func = [(lambda var: var, 128)]\n",
    "        self.boundary_cond_J = [lambda J, var: J - var[0]**self.γ]\n",
    "        self.boundary_func_J = [(lambda var: [var[0], 0*var[1] + 1], 128)]\n",
    "        self.boundary_cond_u = [lambda u, var: torch.clamp(u, min=1) - torch.clamp(u, max=-1) - 2]\n",
    "        self.boundary_func_u = [(lambda var: var, 64)]"
   ]
  },
  {
   "cell_type": "code",
   "execution_count": null,
   "id": "affected-emphasis",
   "metadata": {},
   "outputs": [],
   "source": [
    "eq = RISKY_ASSET()\n",
    "model = MODEL_CONFIG\n",
    "solver = DGMPIASolver(model, eq)\n",
    "loss = np.array(list(solver.train(800)))\n",
    "plot_losses(loss)"
   ]
  },
  {
   "cell_type": "code",
   "execution_count": null,
   "id": "diverse-frontier",
   "metadata": {},
   "outputs": [],
   "source": [
    "u_sol = lambda t : (eq.μ-eq.r)/(eq.σ**2*(1-eq.γ))\n",
    "J_sol = lambda x, t: x**eq.γ * np.exp((eq.γ*(eq.μ-eq.r)**2)/(eq.σ**2*(2*eq.γ-2))*t)"
   ]
  },
  {
   "cell_type": "code",
   "execution_count": null,
   "id": "foreign-uncle",
   "metadata": {},
   "outputs": [],
   "source": [
    "fig = make_subplots(rows=1, cols=1)\n",
    "eval_points = np.linspace(0, 1, 100)\n",
    "fig.add_trace(go.Scatter(x=eval_points, y=[solver.u(p)[0] for p in eval_points], mode='lines', name=\"Optimal Control\"), row=1, col=1)\n",
    "fig.add_trace(go.Scatter(x=eval_points, y=[u_sol(p) for p in eval_points], mode='lines', name=\"Optimal Control Solution\"), row=1, col=1)\n",
    "fig.update_layout(\n",
    "    title=\"Solutions\",\n",
    "    xaxis_title=\"Time\",\n",
    "    yaxis_title=\"Control Signal\",\n",
    "    yaxis_range=[0, 1],\n",
    "    font=dict(\n",
    "        family=\"Courier New, monospace\",\n",
    "        size=14\n",
    "    )\n",
    ")\n",
    "fig.show()"
   ]
  },
  {
   "cell_type": "code",
   "execution_count": null,
   "id": "inner-butterfly",
   "metadata": {},
   "outputs": [],
   "source": [
    "plot_value(solver.J, J_sol)"
   ]
  },
  {
   "cell_type": "markdown",
   "id": "boxed-serve",
   "metadata": {},
   "source": [
    "### Optimal Liquidation Problem"
   ]
  },
  {
   "cell_type": "markdown",
   "id": "happy-ability",
   "metadata": {},
   "source": [
    "Let us consider an asset $S_t$, that evolves accordingly with Brownian motion, i.e. $dS_s = -B u_s ds + \\sigma dW_s$. Assume that we hold a certain amount of this asset and intend to liquidate it over the time period $s \\in [0, T]$. Let $Q$ be our inventory of the asset with $dQ_s = - u_s ds$ (with $Q(0)=N$), where $u_s$ represents the liquidation rate. Suppose the temporary price impact is linear (the cost of selling), then our cash $X_s$ is modelled by \n",
    "$$\n",
    "X_t = x + \\int_0^t S_s u_s ds -\\int_0^t D u_s^2 + C q^2ds \n",
    "$$"
   ]
  },
  {
   "cell_type": "markdown",
   "id": "worse-prison",
   "metadata": {},
   "source": [
    "We aim to maximise\n",
    "$$\n",
    "J^u(t, S, q) := \\mathbb{E}^{t, S} \\Big[ \\int_t^T S_s u_s -Du_s^2 - Cq^2 ds + S_T q_T- R q_T^2\\Big],\n",
    "$$\n",
    "subject to the process\n",
    "$$\\begin{eqnarray}\n",
    "dS_s &=& -Bu_s ds + \\sigma dW_s \\\\ \n",
    "dQ_s &=& - u_s ds\n",
    "\\end{eqnarray}$$"
   ]
  },
  {
   "cell_type": "markdown",
   "id": "cloudy-watershed",
   "metadata": {},
   "source": [
    "Thus, the HBJ-Equation is given as:\n",
    "$$\n",
    "\\begin{cases}\n",
    "\\partial_t J(t, S, q) + \\sup_{u} \\Big\\{ u_s(S-Du_s) - Cq^2 + ( \\frac{1}{2} \\sigma^2 \\partial_{SS} - B u_s \\partial_S - u_s \\partial_q)J(t, S, q)  \\Big\\} = 0 \\text{ on $[0, T] \\times (0, \\infty)\\times [0, N]$}\n",
    "\\\\\n",
    "J(T, S, q) = Sq - R q^2 \\text{ $\\forall x \\in \\mathbb{R}$}\n",
    "\\end{cases},\n",
    "$$\n",
    "where $R$ is the terminal cost."
   ]
  },
  {
   "cell_type": "code",
   "execution_count": null,
   "id": "reported-premiere",
   "metadata": {},
   "outputs": [],
   "source": [
    "class LIQUIDATION(HBJ):\n",
    "    def __init__(self):\n",
    "        super().__init__()\n",
    "        self.σ = 0.3\n",
    "        self.D = 0.05\n",
    "        self.C = 0.1\n",
    "        self.R = self.D + self.C\n",
    "        self.B = 0.0001\n",
    "        \n",
    "        \n",
    "        self.var_dim_J = 4 # (S, q, X, t)\n",
    "        self.control_vars = [0, 1, 2, 3] # (S ,q, X, t)\n",
    "        self.cost_function = lambda u, var: 0\n",
    "        self.differential_operator = lambda J, u, var: 0.5*self.σ**2*Δ(J, var[0]) -self.B*u*div(J, var[0]) - u*div(J, var[1]) + (var[0]*u - self.C*var[1]**2 - self.D*u**2)*div(J, var[2])\n",
    "        self.domain_func = [(lambda var: [(var[0]-0.5)*4, (var[1]-0.4)*4, (var[2]-0.5)*4, var[3]], 64)]\n",
    "        self.boundary_cond_J = [lambda J, var: J - (var[2] + var[0]*var[1]-self.R*var[1]**2)]\n",
    "        self.boundary_func_J = [(lambda var: [(var[0]-0.5)*4, (var[1]-0.4)*4, (var[2]-0.5)*4, var[3]*0 + 1], 64)]"
   ]
  },
  {
   "cell_type": "code",
   "execution_count": null,
   "id": "falling-senior",
   "metadata": {},
   "outputs": [],
   "source": [
    "LIQUIDATION_MODEL_CONFIG = {\n",
    "    \"hidden_dim\": 32,\n",
    "    \"learning_rate\": 5e-3,\n",
    "    \"loss_weights\": (1, 1),\n",
    "    \"lr_decay\": 0.99,\n",
    "    \"sampling_method\": \"uniform\",\n",
    "    \"network_type\": \"FF\",\n",
    "    \"optimiser\": \"Adam\",\n",
    "    \"delay_control\": 2,\n",
    "    \"alpha_noise\": 0.3\n",
    "}\n",
    "eq = LIQUIDATION()\n",
    "model = LIQUIDATION_MODEL_CONFIG\n",
    "solver = DGMPIASolver(model, eq)\n",
    "loss = np.array(list(solver.train(500)))\n",
    "plot_losses(loss)"
   ]
  },
  {
   "cell_type": "code",
   "execution_count": null,
   "id": "defensive-blond",
   "metadata": {},
   "outputs": [],
   "source": [
    "n = 50\n",
    "c_xs = np.zeros(n)\n",
    "c_Ss = np.zeros(n)\n",
    "c_Q = np.zeros(n)\n",
    "c_xs[0] = 0.3\n",
    "c_Ss[0] = 0.5\n",
    "c_Q[0] = 1.0\n",
    "uc_xs = np.zeros(n)\n",
    "uc_Ss = np.zeros(n)\n",
    "uc_xs[0] = c_xs[0]\n",
    "uc_Ss[0] = c_Ss[0]\n",
    "dt = 1/n\n",
    "ts = [t for t in np.linspace(0, 1, n)]\n",
    "c_value = np.zeros(n)\n",
    "for i in range(n-1):\n",
    "    dW = np.sqrt(dt)*np.random.randn()\n",
    "    c = solver.u(c_Ss[i], c_Q[i], c_xs[i], i*dt).item()\n",
    "    c_value[i] = solver.J(c_Ss[i], c_Q[i], c_xs[i], i*dt).item()\n",
    "    c_Q[i+1] = c_Q[i] - c*dt\n",
    "    c_Ss[i+1] = c_Ss[i] -eq.B*c*dt + eq.σ*dW\n",
    "    uc_Ss[i+1] = uc_Ss[i] + eq.σ*dW\n",
    "    c_xs[i+1] = c_xs[i] + c_Ss[i]*c*dt - eq.D*c**2*dt - eq.C*c_Q[i]**2*dt\n",
    "    uc_xs[i+1] = uc_xs[i] - eq.C*c_Q[0]**2*dt\n",
    "\n",
    "c_value[-1] = solver.J(c_Ss[-1], c_Q[-1], c_xs[-1], n*dt).item()\n",
    "c_xs[-1] += c_Ss[-1]*c_Q[-1] - eq.R*c_Q[-1]**2\n",
    "uc_xs[-1] += uc_Ss[-1]*c_Q[0] - eq.R*c_Q[0]**2\n",
    "    \n",
    "fig = make_subplots(rows=1, cols=1)\n",
    "fig.add_trace(go.Scatter(x=ts, y=c_xs, mode='lines', name=\"Controlled\", line=dict(color=\"#00e476\")), row=1, col=1)\n",
    "fig.add_trace(go.Scatter(x=ts, y=uc_xs, mode='lines', name=\"Uncontrolled\", line=dict(color=\"#FFe476\")), row=1, col=1)\n",
    "fig.add_trace(go.Scatter(x=ts, y=c_Ss, mode='lines', name=\"Value Function\", line=dict(color=\"#eeee76\")), row=1, col=1)\n",
    "fig.update_layout(\n",
    "    title=\"Maximise amount of X\",\n",
    "    xaxis_title=\"t\",\n",
    "    yaxis_title=\"X\",\n",
    "    font=dict(\n",
    "        family=\"Courier New, monospace\",\n",
    "        size=14\n",
    "    )\n",
    ")\n",
    "fig.show()"
   ]
  },
  {
   "cell_type": "markdown",
   "id": "democratic-teens",
   "metadata": {},
   "source": [
    "### Linear-quadratic control problem 1-dimensional (Riccati Equation) "
   ]
  },
  {
   "cell_type": "markdown",
   "id": "under-literature",
   "metadata": {},
   "source": [
    "Let $(\\Omega, \\mathcal{F}, \\{\\mathcal{F}_t\\}_{t\\in [0, T]}, \\mathbb{P})$. We consider\n",
    "$$\n",
    "\\begin{cases}\n",
    "dX_s = [H_sX_s + M_s u_s] ds + \\sigma_s dW_s, \\; s \\in [0, T] \\\\\n",
    "X_0 = x > 0\n",
    "\\end{cases},\n",
    "$$"
   ]
  },
  {
   "cell_type": "markdown",
   "id": "reasonable-occasion",
   "metadata": {},
   "source": [
    "We aim to maximise\n",
    "$$\n",
    "J^u(t, x) := \\mathbb{E}^{t, x} \\Big[ \\int_t^T X_s^T C_s X_s + u_s^T D_s u_s ds + X_T^T R X_T\\Big],\n",
    "$$\n",
    "with $C(t) = C \\leq 0, R \\leq 0$, and $D=D(t) < -\\delta < 0$ given and deterministic ($\\delta > 0$ some constant)."
   ]
  },
  {
   "cell_type": "markdown",
   "id": "worth-protest",
   "metadata": {},
   "source": [
    "We write down the problem in its primal form as\n",
    "$$\n",
    "\\begin{cases}\n",
    "\\partial_t J(t, x) + \\sup_{u} \\Big\\{ \\frac{1}{2} \\sigma^2 \\partial_{xx} J(t, x) + [H x + M u] \\partial_x J(t, x) + C x^2 + D u^2 \\Big\\} = 0 \\text{ on $[0, T] \\times (-\\infty, \\infty)$}\n",
    "\\\\\n",
    "J(T, x) = Rx^2 \\text{ $\\forall x \\in \\mathbb{R}$}\n",
    "\\end{cases}\n",
    "$$"
   ]
  },
  {
   "cell_type": "markdown",
   "id": "flying-papua",
   "metadata": {},
   "source": [
    "#### Analytical Solution (Oksendal):"
   ]
  },
  {
   "cell_type": "markdown",
   "id": "contrary-investment",
   "metadata": {},
   "source": [
    "As $J(T, x) = Rx^2$, we assume the form $J(T, x) = S(t) x^2 + b(t)$ for some differentibale $S$ and $b$. The problem can be reformulated as\n",
    "$$\n",
    "\\begin{cases}\n",
    "S'(t)x^2 + b'(t) + \\sigma^2 S(t) + 2HS(t)x^2 + C x^2 + \\sup_{u} \\Big\\{ 2MS(t) u x + D u^2 \\Big\\} = 0 \\text{ on $[0, T] \\times (0, \\infty)$}\n",
    "\\\\\n",
    "S(T) = R, b(t)=0 \\text{ $\\forall x \\in \\mathbb{R}$}\n",
    "\\end{cases}\n",
    "$$"
   ]
  },
  {
   "cell_type": "markdown",
   "id": "prerequisite-consolidation",
   "metadata": {},
   "source": [
    "We see that for fixed $t$ and $x$, we have $u^*=u^*(t, x)=-D^{-1} MS(t) x$. As a consequence, we can transform the problem to be gives as\n",
    "$$\n",
    "\\begin{cases}\n",
    "[S'(t) + 2HS(t) + C - D^{-1} M^2S^2(t)]x^2 + b'(t) + \\sigma^2 S(t) = 0 \\text{ on $[0, T] \\times (0, \\infty)$}\n",
    "\\\\\n",
    "S(T) = R, b(t)=0 \\text{ $\\forall x \\in \\mathbb{R}$}\n",
    "\\end{cases}\n",
    "$$"
   ]
  },
  {
   "cell_type": "markdown",
   "id": "hindu-hampton",
   "metadata": {},
   "source": [
    "The problem is satisfied if\n",
    "$$\n",
    "S'(t)= D^{-1} M^2S^2(t) - C - 2HS(t), \\; S(T)=R \\; \\text{(Riccati Equation)}\n",
    "$$\n",
    "$$\n",
    "b'(t)= -\\sigma^2 S(t), \\; b(T)=0\n",
    "$$"
   ]
  },
  {
   "cell_type": "markdown",
   "id": "structured-candidate",
   "metadata": {},
   "source": [
    "It follows that $b(t)=  \\sigma^2 \\int_t^T S(r) dr$, while the Riccati Equation has a unique solution."
   ]
  },
  {
   "cell_type": "code",
   "execution_count": null,
   "id": "comprehensive-eating",
   "metadata": {},
   "outputs": [],
   "source": [
    "class LQR(HBJ):\n",
    "    def __init__(self):\n",
    "        super().__init__()\n",
    "        self.H = 0.1\n",
    "        self.M = 2.0\n",
    "        self.C = -2.0\n",
    "        self.R = -0.001\n",
    "        self.D = -0.2\n",
    "        self.σ = 0.3\n",
    "        \n",
    "        self.var_dim_J = 2 # (x, t)\n",
    "        self.control_vars = [0, 1]\n",
    "        self.cost_function = lambda u, var: self.C*var[0]**2 + self.D*u**2\n",
    "        self.differential_operator = lambda J, u, var: (self.H*var[0] + self.M*u)*div(J, var[0]) + (1/2)*self.σ**2*Δ(J, var[0])\n",
    "        self.domain_func = [(lambda var: [var[0]*2-1, var[1]], 128)]\n",
    "        self.boundary_cond_J = [lambda J, var: J - self.R*var[0]**2]\n",
    "        self.boundary_func_J = [(lambda var: [var[0]*2-1, var[1]*0 + 1], 64)]\n",
    "        self.boundary_cond_u = [lambda u, var: torch.clamp(div(u, var[0]), min=0)]\n",
    "        self.boundary_func_u = [(lambda var: [var[0]*2-1, var[1]], 64)]"
   ]
  },
  {
   "cell_type": "code",
   "execution_count": null,
   "id": "needed-parameter",
   "metadata": {},
   "outputs": [],
   "source": [
    "LQR_MODEL_CONFIG = {\n",
    "    \"hidden_dim\": 64,\n",
    "    \"learning_rate\": 5e-3,\n",
    "    \"loss_weights\": (1, 1),\n",
    "    \"lr_decay\": 0.99,\n",
    "    \"sampling_method\": \"uniform\",\n",
    "    \"network_type\": \"GRU\",\n",
    "    \"optimiser\": \"Adam\",\n",
    "    \"delay_control\": 2,\n",
    "    \"alpha_noise\": 0.1\n",
    "}\n",
    "eq = LQR()\n",
    "model = LQR_MODEL_CONFIG\n",
    "solver = DGMPIASolver(model, eq)\n",
    "loss = np.array(list(solver.train(400)))\n",
    "plot_losses(loss)"
   ]
  },
  {
   "cell_type": "markdown",
   "id": "serious-mentor",
   "metadata": {},
   "source": [
    "#### Control function approximation:"
   ]
  },
  {
   "cell_type": "code",
   "execution_count": null,
   "id": "enabling-printer",
   "metadata": {},
   "outputs": [],
   "source": [
    "fig = make_subplots(rows=1, cols=1, specs=[[{'type': 'surface'}]])\n",
    "xs = np.linspace(-1, 1, 100)\n",
    "ts = np.linspace(0, 1, 100)\n",
    "us_pred = np.array([[solver.u(x, t).item() for x in xs] for t in ts])\n",
    "fig.add_trace(go.Surface(x=xs, y=ts, z=us_pred), row=1, col=1)\n",
    "fig.update_layout(title='Approximation',\n",
    "                  scene = dict(\n",
    "                      xaxis_title=\"x\",\n",
    "                      yaxis_title=\"t\",\n",
    "                      zaxis_title=\"u(x, t)\"),\n",
    "                  margin=dict(l=50, r=50, b=50, t=50))\n",
    "fig.show()"
   ]
  },
  {
   "cell_type": "markdown",
   "id": "destroyed-dealer",
   "metadata": {},
   "source": [
    "#### Value function approximation:"
   ]
  },
  {
   "cell_type": "code",
   "execution_count": null,
   "id": "apart-search",
   "metadata": {},
   "outputs": [],
   "source": [
    "fig = make_subplots(rows=1, cols=1, specs=[[{'type': 'surface'}]])\n",
    "xs = np.linspace(-1, 1, 100)\n",
    "ts = np.linspace(0, 1, 100)\n",
    "us_pred = np.array([[solver.J(x, t).item() for x in xs] for t in ts])\n",
    "fig.add_trace(go.Surface(x=xs, y=ts, z=us_pred), row=1, col=1)\n",
    "fig.update_layout(title='Solution | Approximation',\n",
    "                  scene = dict(\n",
    "                    xaxis_title=\"x\",\n",
    "                    yaxis_title=\"t\",\n",
    "                    zaxis_title=\"J(x, t\"),\n",
    "                  scene2 = dict(\n",
    "                    xaxis_title=\"x\",\n",
    "                    yaxis_title=\"t\",\n",
    "                    zaxis_title=\"J(x, t)\"),\n",
    "                  margin=dict(l=50, r=50, b=50, t=50))\n",
    "fig.show()"
   ]
  },
  {
   "cell_type": "markdown",
   "id": "polar-slide",
   "metadata": {},
   "source": [
    "#### Simulating the Process:"
   ]
  },
  {
   "cell_type": "markdown",
   "id": "direct-facial",
   "metadata": {},
   "source": [
    "Let $(\\Omega, \\mathcal{F}, \\{\\mathcal{F}_t\\}_{t\\in [0, T]}, \\mathbb{P})$. We consider\n",
    "$$\n",
    "\\begin{cases}\n",
    "dX_s = [H_s X_s + M_s u_s] ds + \\sigma_s dW_s, \\; s \\in [0, T] \\\\\n",
    "X_0 = x > 0\n",
    "\\end{cases},\n",
    "$$"
   ]
  },
  {
   "cell_type": "code",
   "execution_count": null,
   "id": "strange-metabolism",
   "metadata": {},
   "outputs": [],
   "source": [
    "n = 50\n",
    "c_xs = np.zeros(n)\n",
    "c_xs[0] = 0.75\n",
    "uc_xs = np.zeros(n)\n",
    "uc_xs[0] = c_xs[0]\n",
    "dt = 1/n\n",
    "ts = [t for t in np.linspace(0, 1, n)]\n",
    "c_cum_cost = np.zeros(n)\n",
    "uc_cum_cost = np.zeros(n)\n",
    "for i in range(n-1):\n",
    "    dW = np.sqrt(dt)*np.random.randn()\n",
    "    c = solver.u(c_xs[i], i*dt).item() #-(1/eq.D)*eq.M*((0.316228*np.exp(12.6491*i*dt) - 99125.6)/(313463 + np.exp(12.6491*i*dt))) *c_xs[i] \n",
    "    uc = 0\n",
    "    c_xs[i+1] = c_xs[i] + (eq.H*c_xs[i] + eq.M*c)*dt + eq.σ*dW\n",
    "    uc_xs[i+1] = uc_xs[i] + (eq.H*uc_xs[i] + eq.M*uc)*dt + eq.σ*dW\n",
    "    c_cum_cost[i+1] = c_cum_cost[i] + eq.C*c_xs[i]**2 + eq.D*c**2\n",
    "    uc_cum_cost[i+1] = uc_cum_cost[i] + eq.C*uc_xs[i]**2 + eq.D*uc**2\n",
    "\n",
    "c_cum_cost[-1] += eq.R*c_xs[-1]**2\n",
    "uc_cum_cost[-1] += eq.R*uc_xs[-1]**2\n",
    "    \n",
    "fig = make_subplots(rows=1, cols=2)\n",
    "fig.add_trace(go.Scatter(x=ts, y=c_xs, mode='lines', name=\"Controlled\", line=dict(color=\"#00e476\")), row=1, col=1)\n",
    "fig.add_trace(go.Scatter(x=ts, y=uc_xs, mode='lines', name=\"Uncontrolled\", line=dict(color=\"#FFe476\")), row=1, col=1)\n",
    "fig.add_trace(go.Scatter(x=ts, y=c_cum_cost, mode='lines', showlegend=False, line=dict(color=\"#00e476\")), row=1, col=2)\n",
    "fig.add_trace(go.Scatter(x=ts, y=uc_cum_cost, mode='lines', showlegend=False, line=dict(color=\"#FFe476\")), row=1, col=2)\n",
    "fig.update_layout(\n",
    "    title=\"Minimise amount of X | Minimise the costs (hold both close to zero)\",\n",
    "    xaxis_title=\"t\",\n",
    "    yaxis_title=\"X\",\n",
    "    font=dict(\n",
    "        family=\"Courier New, monospace\",\n",
    "        size=14\n",
    "    )\n",
    ")\n",
    "fig.show()"
   ]
  },
  {
   "cell_type": "markdown",
   "id": "shaped-hebrew",
   "metadata": {},
   "source": [
    "Example: Assume that the UK is subject to another disease outbreak. Each patient admission costs certain resources. We intend to reduce the amount of people in hospitals as quickly as possible to bound admission costs."
   ]
  },
  {
   "cell_type": "markdown",
   "id": "understood-metabolism",
   "metadata": {},
   "source": [
    "## !!! Problems: For high terminal cost, the value function approximation becomes inaccurate. For 0 terminal cost the control solution becomes a divergingly high control signal\n",
    "\n",
    "## !!! Any value of H positive leads to a control solution that diverge, taking the negative of that control signal seems optimal\n",
    "\n",
    "## !!! This is because the control function exploits erroneous approximations of the value function\n",
    "\n",
    "==> Counteract by introducing regularizing noise to control function and delaying the control update"
   ]
  },
  {
   "cell_type": "markdown",
   "id": "eastern-projection",
   "metadata": {},
   "source": [
    "### Linear-quadratic control problem N-dimensional (Riccati Equation) "
   ]
  },
  {
   "cell_type": "markdown",
   "id": "atomic-audience",
   "metadata": {},
   "source": [
    "We consider the same problem with $H_t \\in \\mathbb{R}^{n \\times n}$,\n",
    "$M_t \\in \\mathbb{R}^{n \\times k}$, $\\sigma_t \\in \\mathbb{R}^{n \\times m}$ (for now a scalar), $C_t \\in \\mathbb{R}^{n \\times n}$, $D_t \\in \\mathbb{R}^{k \\times n}$, and $R \\in \\mathbb{R}^{n \\times n}$. We also have, $u(t, X_t) \\in\\mathbb{R}^k$."
   ]
  },
  {
   "cell_type": "markdown",
   "id": "photographic-qualification",
   "metadata": {},
   "source": [
    "Let $(\\Omega, \\mathcal{F}, \\{\\mathcal{F}_t\\}_{t\\in [0, T]}, \\mathbb{P})$. We consider\n",
    "$$\n",
    "\\begin{cases}\n",
    "dX_s = [H_sX_s + M_s u_s] ds + \\sigma_s dW_s, \\; s \\in [0, T] \\\\\n",
    "X_0 = x > 0\n",
    "\\end{cases},\n",
    "$$"
   ]
  },
  {
   "cell_type": "markdown",
   "id": "asian-split",
   "metadata": {},
   "source": [
    "We aim to maximise\n",
    "$$\n",
    "J^u(t, x) := \\mathbb{E}^{t, x} \\Big[ \\int_t^T X_s^T C_s X_s + u_s^T D_s u_s ds + X_T^T R X_T\\Big],\n",
    "$$\n",
    "with $C(t) = C \\leq 0, R \\leq 0$, and $D=D(t) < -\\delta < 0$ given and deterministic ($\\delta > 0$ some constant)."
   ]
  },
  {
   "cell_type": "markdown",
   "id": "scenic-organization",
   "metadata": {},
   "source": [
    "We write down the problem in its primal form as\n",
    "$$\n",
    "\\begin{cases}\n",
    "\\partial_t J(t, x) + \\sup_{u} \\Big\\{ \\frac{1}{2} \\sigma^2 \\sum_{1 \\leq i, j \\leq n} \\Delta_{x_i x_j} J(t, x) + [H x + M u]^T \\cdot \\nabla_x J(t, x) + x^T C x + u^T D u \\Big\\} = 0 \\text{ on $[0, T] \\times (0, \\infty)$}\n",
    "\\\\\n",
    "J(T, x) = x^T R x \\text{ $\\forall x \\in \\mathbb{R}$}\n",
    "\\end{cases}\n",
    "$$"
   ]
  },
  {
   "cell_type": "markdown",
   "id": "municipal-tucson",
   "metadata": {},
   "source": [
    "For now, we will consider the problem without the terminal condition."
   ]
  },
  {
   "cell_type": "code",
   "execution_count": null,
   "id": "confidential-aluminum",
   "metadata": {},
   "outputs": [],
   "source": [
    "class LQR_N(HBJ):\n",
    "    def __init__(self):\n",
    "        super().__init__()\n",
    "        self.H = torch.tensor([[0.1, 0],\n",
    "                              [0.0, 0.1]])\n",
    "        self.M = torch.tensor([[2.0, 0],\n",
    "                              [0.0, 2.0]])\n",
    "        self.C = torch.tensor([[-2.0, 0],\n",
    "                              [0.0, -2.0]])\n",
    "        self.R = torch.tensor([[-0.001, 0],\n",
    "                              [0.0, -0.001]])\n",
    "        self.D = torch.tensor([[-0.2, 0],\n",
    "                              [0.0, -0.2]])\n",
    "        self.σ = 0.1\n",
    "        \n",
    "        self.var_dim_J = 3 # (x, y, t)\n",
    "        self.sol_dim = 2\n",
    "        self.control_vars = [0, 1, 2]\n",
    "        self.cost_function = lambda u, var: (var[:2] |bdotb| (self.C |mdotb| var[:2])) + ((u |bdotm| self.D) |bdotb| u)\n",
    "        self.differential_operator = lambda J, u, var: (((self.H |mdotb| var[:2]) + (self.M |mdotb| u)) |bdotb| D(J, var[:2])) + (1/2)*self.σ**2*sum([div(div(J, var[i]), var[j]) for i, j in product(range(2), range(2))])\n",
    "        self.domain_func = [(lambda var: [var[0]*2-1, var[1]*2-1, var[2]], 128)]\n",
    "        self.boundary_cond_J = [lambda J, var: J - ((var[:2] |bdotm| self.R) |bdotb| var[:2])]\n",
    "        self.boundary_func_J = [(lambda var: [var[0]*2-1, var[1]*2-1, var[2]*0 + 1], 64)]\n",
    "        self.boundary_cond_u = [lambda u, var: torch.clamp(div(u, var[0]), min=0),\n",
    "                               lambda u, var: torch.clamp(div(u, var[1]), min=0)]\n",
    "        self.boundary_func_u = [(lambda var: [var[0]*2-1, var[1]*2-1, var[2]], 32),\n",
    "                               (lambda var: [var[0]*2-1, var[1]*2-1, var[2]], 32)]"
   ]
  },
  {
   "cell_type": "code",
   "execution_count": null,
   "id": "liberal-privilege",
   "metadata": {},
   "outputs": [],
   "source": [
    "LQR_N_MODEL_CONFIG = {\n",
    "    \"hidden_dim\": 64,\n",
    "    \"learning_rate\": 5e-3,\n",
    "    \"loss_weights\": (1, 1),\n",
    "    \"lr_decay\": 0.99,\n",
    "    \"sampling_method\": \"uniform\",\n",
    "    \"network_type\": \"GRU\",\n",
    "    \"optimiser\": \"Adam\",\n",
    "    \"delay_control\": 2,\n",
    "    \"alpha_noise\": 0.1\n",
    "}\n",
    "eq = LQR_N()\n",
    "model = LQR_N_MODEL_CONFIG\n",
    "solver = DGMPIASolver(model, eq)\n",
    "loss = np.array(list(solver.train(500)))\n",
    "plot_losses(loss)"
   ]
  },
  {
   "cell_type": "markdown",
   "id": "opening-jurisdiction",
   "metadata": {},
   "source": [
    "#### Simulating the Process:"
   ]
  },
  {
   "cell_type": "markdown",
   "id": "urban-spirit",
   "metadata": {},
   "source": [
    "Let $(\\Omega, \\mathcal{F}, \\{\\mathcal{F}_t\\}_{t\\in [0, T]}, \\mathbb{P})$. We consider\n",
    "$$\n",
    "\\begin{cases}\n",
    "dX_s = [H_sX_s + M_s u_s] ds + \\sigma_s dW_s, \\; s \\in [0, T] \\\\\n",
    "X_0 = x > 0\n",
    "\\end{cases},\n",
    "$$"
   ]
  },
  {
   "cell_type": "code",
   "execution_count": null,
   "id": "global-denial",
   "metadata": {},
   "outputs": [],
   "source": [
    "n = 50\n",
    "c_xs = np.zeros((2, n))\n",
    "c_xs[:, 0] = 0.5\n",
    "uc_xs = np.zeros((2, n))\n",
    "uc_xs[:, 0] = c_xs[:, 0]\n",
    "dt = 1/n\n",
    "ts = [t for t in np.linspace(0, 1, n)]\n",
    "c_cum_cost = np.zeros(n)\n",
    "uc_cum_cost = np.zeros(n)\n",
    "for i in range(n-1):\n",
    "    dW = np.sqrt(dt)*np.random.randn(2, 1)\n",
    "    c = np.expand_dims(solver.u(c_xs[0, i], c_xs[1, i], i*dt), axis=1)\n",
    "    uc = np.zeros((2, 1))\n",
    "    c_xs[:, None, i+1] = c_xs[:, None, i] + (eq.H.numpy() @ c_xs[:, None, i] + eq.M.numpy() @ c)*dt + eq.σ*dW\n",
    "    uc_xs[:, None, i+1] = uc_xs[:, None, i] + (eq.H.numpy() @ uc_xs[:, None, i] + eq.M.numpy() @ uc)*dt + eq.σ*dW\n",
    "    c_cum_cost[i+1] = c_cum_cost[i] + c_xs[:, None, i].T @ eq.C.numpy() @ c_xs[:, None, i] + c.T @ eq.D.numpy() @ c\n",
    "    uc_cum_cost[i+1] = uc_cum_cost[i] + uc_xs[:, None, i].T @ eq.C.numpy() @ uc_xs[:, None, i] + uc.T @ eq.D.numpy() @ uc\n",
    "\n",
    "c_cum_cost[-1] += c_xs[:, None, -1].T @ eq.R.numpy() @ c_xs[:, None, -1]\n",
    "uc_cum_cost[-1] += uc_xs[:, None, -1].T @ eq.R.numpy() @ uc_xs[:, None, -1]\n",
    "fig = make_subplots(rows=1, cols=2)\n",
    "fig.add_trace(go.Scatter(x=ts, y=c_xs[0], mode='lines', name=\"Controlled\", line=dict(color=\"#00e476\")), row=1, col=1)\n",
    "fig.add_trace(go.Scatter(x=ts, y=c_xs[1], mode='lines', showlegend=False, line=dict(color=\"#00e476\")), row=1, col=1)\n",
    "fig.add_trace(go.Scatter(x=ts, y=uc_xs[0], mode='lines', name=\"Uncontrolled\", line=dict(color=\"#FFe476\")), row=1, col=1)\n",
    "fig.add_trace(go.Scatter(x=ts, y=uc_xs[1], mode='lines', showlegend=False, line=dict(color=\"#FFe476\")), row=1, col=1)\n",
    "fig.add_trace(go.Scatter(x=ts, y=c_cum_cost, mode='lines', showlegend=False, line=dict(color=\"#00e476\")), row=1, col=2)\n",
    "fig.add_trace(go.Scatter(x=ts, y=uc_cum_cost, mode='lines', showlegend=False, line=dict(color=\"#FFe476\")), row=1, col=2)\n",
    "fig.update_layout(\n",
    "    title=\"Minimise amount of X | Minimise the costs (hold both close to zero)\",\n",
    "    xaxis_title=\"t\",\n",
    "    yaxis_title=\"X\",\n",
    "    font=dict(\n",
    "        family=\"Courier New, monospace\",\n",
    "        size=14\n",
    "    )\n",
    ")\n",
    "fig.show()"
   ]
  },
  {
   "cell_type": "markdown",
   "id": "critical-subdivision",
   "metadata": {},
   "source": [
    "### Black-Scholes-Barenblatt"
   ]
  },
  {
   "cell_type": "markdown",
   "id": "local-federal",
   "metadata": {},
   "source": [
    "$$\n",
    "\\begin{cases}\n",
    "\\partial_t J(t, x) + \\frac{1}{2} \\text{trace}(\\sigma^2 \\text{diag}(x^2 )\\Delta J(t, x)) + r(\\nabla^T J X - J) = 0 \\text{ on $[0, T] \\times (0, \\infty)$}\n",
    "\\\\\n",
    "J(T, x) = x^2 \\text{ $\\forall x \\in \\mathbb{R}$}\n",
    "\\end{cases}\n",
    "$$"
   ]
  },
  {
   "cell_type": "code",
   "execution_count": null,
   "id": "several-democrat",
   "metadata": {},
   "outputs": [],
   "source": [
    "CONFIG_BSB = {\n",
    "    \"hidden_dim\": 64,\n",
    "    \"learning_rate\": 5e-3,\n",
    "    \"loss_weights\": (1, 1),\n",
    "    \"lr_decay\": 0.99,\n",
    "    \"sampling_method\": \"uniform\",\n",
    "    \"network_type\": \"GRU\",\n",
    "    \"optimiser\": \"Adam\",\n",
    "    \"method\": \"Galerkin\"\n",
    "}\n",
    "class BSB(PDE):\n",
    "    def __init__(self):\n",
    "        super().__init__()\n",
    "        r = 0.05\n",
    "        sigma = 0.3\n",
    "        self.var_dim = 2 # var = (x, t)\n",
    "        self.equation = lambda u, var: div(u, var[-1]) + (1/2)*sum([X**2*Δ(u, var[:-1]) for X in var[:-1]]) + r*((D(u, var[:-1])|bdotb| var[:-1])- u)\n",
    "        self.domain_func = [(lambda var: [(x-0.5)*4 for x in var[:-1]]+ [var[-1]], 128)]\n",
    "        self.boundary_cond = [lambda u, var: u - (var[:-1] |bdotb| var[:-1])]\n",
    "        self.boundary_func = [(lambda var: [(x-0.5)*4 for x in var[:-1]]+ [var[-1]*0+1], 64)]"
   ]
  },
  {
   "cell_type": "code",
   "execution_count": null,
   "id": "subjective-diesel",
   "metadata": {},
   "outputs": [],
   "source": [
    "eq = BSB()\n",
    "model = CONFIG_BSB\n",
    "solver = DeepPDESolver(model, eq)\n",
    "losses = list(solver.train(800))"
   ]
  },
  {
   "cell_type": "code",
   "execution_count": null,
   "id": "digital-queensland",
   "metadata": {},
   "outputs": [],
   "source": [
    "avgs = np.convolve(losses, np.ones(10), 'valid') / 10\n",
    "fig = make_subplots(rows=1, cols=1)\n",
    "fig.add_trace(go.Scatter(x=np.arange(len(avgs)), y=avgs, mode='lines', name=\"Error at x=0.1\"), row=1, col=1)\n",
    "fig.update_layout(\n",
    "    title=\"Loss\",\n",
    "    xaxis_title=\"Iterations\",\n",
    "    yaxis_title=\"Loss\",\n",
    "    font=dict(\n",
    "        family=\"Courier New, monospace\",\n",
    "        size=14\n",
    "    )\n",
    ")\n",
    "fig.show()"
   ]
  },
  {
   "cell_type": "code",
   "execution_count": null,
   "id": "curious-breed",
   "metadata": {},
   "outputs": [],
   "source": [
    "from FBSDEs import FBSDESolver\n",
    "from pdes import FBSDE\n",
    "class BSB(FBSDE):\n",
    "    def __init__(self):\n",
    "        super().__init__()\n",
    "        r = 0.05\n",
    "        self.h = lambda X, Y, Z, t: r*(Y-torch.einsum(\"bi, bi -> b\", Z, X).unsqueeze(1))\n",
    "        \n",
    "        self.b = lambda X, t: 0.0*X\n",
    "        self.sigma = lambda X, t: 0.3*torch.diag_embed(X)\n",
    "        \n",
    "        self.terminal_condition = lambda X: torch.einsum(\"bi, bi-> b\", X, X).unsqueeze(1)\n",
    "        \n",
    "        self.var_dim = 2\n",
    "        self.terminal_time = 1     \n",
    "        self.init_sampling_func = lambda X: (X-0.5)*2\n",
    "        self.control_noise = 0.0"
   ]
  },
  {
   "cell_type": "code",
   "execution_count": null,
   "id": "logical-listing",
   "metadata": {},
   "outputs": [],
   "source": [
    "BSB_MODEL_CONFIG = {\n",
    "    \"batch_size\": 128,\n",
    "    \"num_discretisation_steps\": 30,\n",
    "    \"hidden_dim\": 64,\n",
    "    \"learning_rate\": 5e-3,\n",
    "    \"lr_decay\": 0.99,\n",
    "    \"network_type\": \"MINI\",\n",
    "    \"optimiser\": \"Adam\"\n",
    "}\n",
    "eq_sim = BSB()\n",
    "solver_sim = FBSDESolver(BSB_MODEL_CONFIG, eq_sim)"
   ]
  },
  {
   "cell_type": "code",
   "execution_count": null,
   "id": "collected-radical",
   "metadata": {},
   "outputs": [],
   "source": [
    "num_samples = 2\n",
    "def J_sol(X, t):\n",
    "    r = 0.05\n",
    "    sigma = 0.3\n",
    "    return np.exp((r + sigma**2)*(1 - t))*np.sum(X**2, axis=-1, keepdims=True)\n",
    "Xs, _, ts = solver_sim.simulate_processes(num_samples)\n",
    "Y_sol = J_sol(Xs, ts)"
   ]
  },
  {
   "cell_type": "code",
   "execution_count": null,
   "id": "differential-position",
   "metadata": {},
   "outputs": [],
   "source": [
    "Y_preds = np.array([[solver.u(*x_b) for x_b in x] for x in Xs])"
   ]
  },
  {
   "cell_type": "code",
   "execution_count": null,
   "id": "aging-reynolds",
   "metadata": {},
   "outputs": [],
   "source": [
    "fig = make_subplots(rows=1, cols=1)\n",
    "fig.add_trace(go.Scatter(x=ts[:, 0].flatten(), y=Y_preds[:, 0].flatten(), mode='lines', name=\"Prediction\", line=dict(color=\"#FFe476\")), row=1, col=1)\n",
    "fig.add_trace(go.Scatter(x=ts[:, 0].flatten(), y=Y_sol[:, 0].flatten(), mode='lines', name=\"Ground truth\", line=dict(color=\"#00e476\")), row=1, col=1)\n",
    "for i in range(1, num_samples):\n",
    "    fig.add_trace(go.Scatter(x=ts[:, i].flatten(), y=Y_preds[:, i].flatten(), mode='lines', showlegend=False, line=dict(color=\"#FFe476\")), row=1, col=1)\n",
    "    fig.add_trace(go.Scatter(x=ts[:, i].flatten(), y=Y_sol[:, i].flatten(), mode='lines', showlegend=False, line=dict(color=\"#00e476\")), row=1, col=1)\n",
    "fig.update_layout(\n",
    "    title=\"Loss\",\n",
    "    xaxis_title=\"t\",\n",
    "    yaxis_title=\"J\",\n",
    "    font=dict(\n",
    "        family=\"Courier New, monospace\",\n",
    "        size=14\n",
    "    )\n",
    ")\n",
    "fig.show()"
   ]
  },
  {
   "cell_type": "markdown",
   "id": "traditional-texas",
   "metadata": {},
   "source": [
    "### Allen-Cahn"
   ]
  },
  {
   "cell_type": "code",
   "execution_count": 126,
   "id": "adjacent-detroit",
   "metadata": {},
   "outputs": [],
   "source": [
    "CONFIG_AC = {\n",
    "    \"hidden_dim\": 64,\n",
    "    \"learning_rate\": 5e-3,\n",
    "    \"loss_weights\": (1, 2),\n",
    "    \"lr_decay\": 0.99,\n",
    "    \"sampling_method\": \"gaussian\",\n",
    "    \"sampling_method_boundary\": \"gaussian\",\n",
    "    \"network_type\": \"FF\",\n",
    "    \"optimiser\": \"Adam\",\n",
    "    \"method\": \"Galerkin\"\n",
    "}\n",
    "class AC(PDE):\n",
    "    def __init__(self):\n",
    "        super().__init__()\n",
    "        self.var_dim = 20 + 1# var = (x, t)\n",
    "        self.equation = lambda u, var: div(u, var[-1]) + (1/2)*Δ(u, var[:-1]) + u - u**3\n",
    "        self.domain_func = [(lambda var: [np.sqrt(0.3*var[-1])*v for v in var[:-1]] + [0.3*var[-1]], 128)]\n",
    "        self.boundary_cond = [lambda u, var: u - 1/(2+0.4*torch.sum(cat(var[:-1])**2, dim=-1, keepdims=True))]#,\n",
    "                             #lambda u, var: torch.sum(D(u, var[:-1])*self.normal, dim=-1)]\n",
    "        self.boundary_func = [(lambda var:  [np.sqrt(0.3)*v for v in var[:-1]] + [0*var[-1]+0.3], 128)]#,\n",
    "                             #(lambda var: self.sample_boundary(var[:-1]) + [var[-1]*0.3], 64)]\n",
    "        #self.normal = torch.zeros((self.boundary_func[1][1], self.var_dim-1))\n",
    "        \n",
    "    def sample_boundary(self, var):\n",
    "        is_boundary = torch.randint(0, self.var_dim-1, size=(var[-1].shape[0], 1)) # idxs for var_dim\n",
    "        mask = F.one_hot(is_boundary, num_classes=self.var_dim-1).squeeze(1)\n",
    "        not_mask = -(mask-1)\n",
    "        sign = torch.sign(torch.rand(size=(var[-1].shape[0], self.var_dim-1))-0.5) # integers -1, 1\n",
    "        re = [(v-0.5)*self.d*not_mask[:, None, i] + mask[:, None, i]*sign[:, None, i] for i, v in enumerate(var)]\n",
    "        self.normal = mask\n",
    "        return re\n",
    "              "
   ]
  },
  {
   "cell_type": "code",
   "execution_count": 127,
   "id": "facial-conference",
   "metadata": {},
   "outputs": [
    {
     "name": "stderr",
     "output_type": "stream",
     "text": [
      "100%|██████████| 500/500 [00:24<00:00, 20.49 it/s]\n"
     ]
    },
    {
     "data": {
      "application/vnd.plotly.v1+json": {
       "config": {
        "plotlyServerURL": "https://plot.ly"
       },
       "data": [
        {
         "mode": "lines",
         "name": "Error at x=0.1",
         "type": "scatter",
         "x": [
          0,
          1,
          2,
          3,
          4,
          5,
          6,
          7,
          8,
          9,
          10,
          11,
          12,
          13,
          14,
          15,
          16,
          17,
          18,
          19,
          20,
          21,
          22,
          23,
          24,
          25,
          26,
          27,
          28,
          29,
          30,
          31,
          32,
          33,
          34,
          35,
          36,
          37,
          38,
          39,
          40,
          41,
          42,
          43,
          44,
          45,
          46,
          47,
          48,
          49,
          50,
          51,
          52,
          53,
          54,
          55,
          56,
          57,
          58,
          59,
          60,
          61,
          62,
          63,
          64,
          65,
          66,
          67,
          68,
          69,
          70,
          71,
          72,
          73,
          74,
          75,
          76,
          77,
          78,
          79,
          80,
          81,
          82,
          83,
          84,
          85,
          86,
          87,
          88,
          89,
          90,
          91,
          92,
          93,
          94,
          95,
          96,
          97,
          98,
          99,
          100,
          101,
          102,
          103,
          104,
          105,
          106,
          107,
          108,
          109,
          110,
          111,
          112,
          113,
          114,
          115,
          116,
          117,
          118,
          119,
          120,
          121,
          122,
          123,
          124,
          125,
          126,
          127,
          128,
          129,
          130,
          131,
          132,
          133,
          134,
          135,
          136,
          137,
          138,
          139,
          140,
          141,
          142,
          143,
          144,
          145,
          146,
          147,
          148,
          149,
          150,
          151,
          152,
          153,
          154,
          155,
          156,
          157,
          158,
          159,
          160,
          161,
          162,
          163,
          164,
          165,
          166,
          167,
          168,
          169,
          170,
          171,
          172,
          173,
          174,
          175,
          176,
          177,
          178,
          179,
          180,
          181,
          182,
          183,
          184,
          185,
          186,
          187,
          188,
          189,
          190,
          191,
          192,
          193,
          194,
          195,
          196,
          197,
          198,
          199,
          200,
          201,
          202,
          203,
          204,
          205,
          206,
          207,
          208,
          209,
          210,
          211,
          212,
          213,
          214,
          215,
          216,
          217,
          218,
          219,
          220,
          221,
          222,
          223,
          224,
          225,
          226,
          227,
          228,
          229,
          230,
          231,
          232,
          233,
          234,
          235,
          236,
          237,
          238,
          239,
          240,
          241,
          242,
          243,
          244,
          245,
          246,
          247,
          248,
          249,
          250,
          251,
          252,
          253,
          254,
          255,
          256,
          257,
          258,
          259,
          260,
          261,
          262,
          263,
          264,
          265,
          266,
          267,
          268,
          269,
          270,
          271,
          272,
          273,
          274,
          275,
          276,
          277,
          278,
          279,
          280,
          281,
          282,
          283,
          284,
          285,
          286,
          287,
          288,
          289,
          290,
          291,
          292,
          293,
          294,
          295,
          296,
          297,
          298,
          299,
          300,
          301,
          302,
          303,
          304,
          305,
          306,
          307,
          308,
          309,
          310,
          311,
          312,
          313,
          314,
          315,
          316,
          317,
          318,
          319,
          320,
          321,
          322,
          323,
          324,
          325,
          326,
          327,
          328,
          329,
          330,
          331,
          332,
          333,
          334,
          335,
          336,
          337,
          338,
          339,
          340,
          341,
          342,
          343,
          344,
          345,
          346,
          347,
          348,
          349,
          350,
          351,
          352,
          353,
          354,
          355,
          356,
          357,
          358,
          359,
          360,
          361,
          362,
          363,
          364,
          365,
          366,
          367,
          368,
          369,
          370,
          371,
          372,
          373,
          374,
          375,
          376,
          377,
          378,
          379,
          380,
          381,
          382,
          383,
          384,
          385,
          386,
          387,
          388,
          389,
          390,
          391,
          392,
          393,
          394,
          395,
          396,
          397,
          398,
          399,
          400,
          401,
          402,
          403,
          404,
          405,
          406,
          407,
          408,
          409,
          410,
          411,
          412,
          413,
          414,
          415,
          416,
          417,
          418,
          419,
          420,
          421,
          422,
          423,
          424,
          425,
          426,
          427,
          428,
          429,
          430,
          431,
          432,
          433,
          434,
          435,
          436,
          437,
          438,
          439,
          440,
          441,
          442,
          443,
          444,
          445,
          446,
          447,
          448,
          449,
          450,
          451,
          452,
          453,
          454,
          455,
          456,
          457,
          458,
          459,
          460,
          461,
          462,
          463,
          464,
          465,
          466,
          467,
          468,
          469,
          470,
          471,
          472,
          473,
          474,
          475,
          476,
          477,
          478,
          479,
          480,
          481,
          482,
          483,
          484,
          485,
          486,
          487,
          488,
          489,
          490
         ],
         "xaxis": "x",
         "y": [
          0.05652114590629935,
          0.03939188597723842,
          0.030748289544135332,
          0.025921828392893077,
          0.022036535758525135,
          0.01770245488733053,
          0.013833101838827133,
          0.010814604349434376,
          0.009095628513023257,
          0.008249687403440476,
          0.00802176701836288,
          0.007771168416365981,
          0.007112231571227312,
          0.006192910345271229,
          0.005582731170579791,
          0.005228443583473563,
          0.004930963926017285,
          0.004887042660266161,
          0.004748356621712446,
          0.0044809006154537204,
          0.004134580749087036,
          0.003628069791011512,
          0.00328636122867465,
          0.0031040554167702794,
          0.002963270666077733,
          0.0028910004533827306,
          0.0028627441730350255,
          0.002747109695337713,
          0.0026471813442185523,
          0.0025828942889347672,
          0.0025233021937310697,
          0.002407448086887598,
          0.002322137507144362,
          0.0022608240717090665,
          0.0021969729103147985,
          0.0021538054570555687,
          0.0020551249384880067,
          0.002030605426989496,
          0.0019650279544293882,
          0.0019014693680219352,
          0.0018487791996449233,
          0.0018665993819013238,
          0.0018245369428768754,
          0.0018313576001673937,
          0.0018098740023560823,
          0.0017799369292333723,
          0.0017440676339901984,
          0.0016979246051050723,
          0.0016420307918451726,
          0.0016134134028106927,
          0.0016079778550192713,
          0.0015866440255194903,
          0.001618913689162582,
          0.0015895189717411995,
          0.0015847080270759762,
          0.001548430137336254,
          0.0015648739063180983,
          0.0015492533799260854,
          0.0015667169005610048,
          0.0015885102795436979,
          0.0015618037083186208,
          0.001548458158504218,
          0.0015013391966931522,
          0.001483884733170271,
          0.0014809087733738124,
          0.0015067062806338072,
          0.0015229546930640935,
          0.0015454063075594604,
          0.0015184176620095969,
          0.0015276614925824107,
          0.0015253462828695775,
          0.0015014686970971525,
          0.0015269914525561034,
          0.001512437139172107,
          0.0015039343270473182,
          0.0015047419583424926,
          0.0014641095651313663,
          0.001439485140144825,
          0.0014334977138787508,
          0.00141612000297755,
          0.001427482208237052,
          0.0014361816924065352,
          0.0014321919763460756,
          0.001438954344484955,
          0.0014433171600103378,
          0.0014080654480494558,
          0.001383046235423535,
          0.0014069375698454677,
          0.001388029975350946,
          0.0013690226362086833,
          0.0013515030266717076,
          0.001334849465638399,
          0.0013282397645525633,
          0.0013161967741325497,
          0.0013383352663367987,
          0.0013379039824940263,
          0.001331868243869394,
          0.0012856250046752392,
          0.0012847622158005834,
          0.001273555844090879,
          0.0012515357113443315,
          0.001263570843730122,
          0.0012592905201017856,
          0.0012745572603307664,
          0.0012392997508868576,
          0.001246931927744299,
          0.0012569630751386284,
          0.001261977304238826,
          0.0012717972742393613,
          0.0012806599726900459,
          0.0012969766976311803,
          0.0012812976841814817,
          0.0012888259603641926,
          0.0012544716941192747,
          0.0012240980984643101,
          0.001200064190197736,
          0.0012031336780637502,
          0.0011828782153315842,
          0.0011641744058579206,
          0.0011662586592137813,
          0.0011617711279541254,
          0.0011443027411587535,
          0.0011048061132896692,
          0.0010900221939664334,
          0.0010959500155877321,
          0.0011130822298582644,
          0.0010884983174037188,
          0.0010951592063065617,
          0.0010748234111815692,
          0.0010371829790528863,
          0.00102315450203605,
          0.001019978558178991,
          0.0010370390897151082,
          0.001036801835289225,
          0.0010427751985844225,
          0.0010249521059449763,
          0.0010444628132972866,
          0.0010310524667147547,
          0.0010681717190891503,
          0.0010587976954411714,
          0.0010639759653713553,
          0.001055742148309946,
          0.001055897120386362,
          0.0010433394636493176,
          0.0010199081385508179,
          0.0009951008367352187,
          0.0009881238220259547,
          0.0009860947320703417,
          0.0009361762145999819,
          0.0009484818554483354,
          0.0009354974783491344,
          0.0009349479048978537,
          0.0009192319994326681,
          0.000929244642611593,
          0.0009264025546144694,
          0.0009263556450605393,
          0.0009347069310024381,
          0.0009207791415974497,
          0.0009149270365014673,
          0.0009276045660953969,
          0.0009191394201479852,
          0.0009151477599516511,
          0.0009104213211685419,
          0.0008982106577605009,
          0.0008841253002174199,
          0.000876475078985095,
          0.0008507579565048218,
          0.000850895413896069,
          0.0008662528940476477,
          0.000827319361269474,
          0.0008290568250231445,
          0.0008285292889922858,
          0.0007995397783815861,
          0.0007877737283706665,
          0.0007839977042749524,
          0.0007930693391244859,
          0.0007908863015472889,
          0.0007705330091994256,
          0.000744468264747411,
          0.00075223179301247,
          0.0007404463773127645,
          0.0007316264731343835,
          0.0007292870956007391,
          0.0007116211811080575,
          0.0006910870899446309,
          0.0006803491734899581,
          0.0006599959451705217,
          0.0006653189193457365,
          0.0006740500859450549,
          0.000667738140327856,
          0.0006448161206208169,
          0.0006529715959914028,
          0.0006431152578443289,
          0.0006441551318857819,
          0.0006634764198679477,
          0.0006578869826626033,
          0.000660782348131761,
          0.0006684887455776333,
          0.0006580467044841499,
          0.0006422570964787156,
          0.0006579759006854147,
          0.0006493519467767328,
          0.0006539410154800862,
          0.0006742500932887197,
          0.000664243393111974,
          0.0006553642218932509,
          0.0006573355116415769,
          0.0006428631080780178,
          0.0006435033574234694,
          0.0006607874063774943,
          0.0006518791662529111,
          0.0006389685848262161,
          0.0006386575056239963,
          0.0006213458138518036,
          0.0006093520845752209,
          0.0006102608109358698,
          0.0005898681527469307,
          0.0005954216641839594,
          0.000592624704586342,
          0.000571565970312804,
          0.0005538837343920022,
          0.0005527621484361589,
          0.000551545899361372,
          0.0005414280982222408,
          0.0005284106940962374,
          0.0005189046496525407,
          0.0005214956298004835,
          0.0005007864267099649,
          0.0004881331347860396,
          0.0004763579316204414,
          0.0004847414238611236,
          0.000472607568372041,
          0.00046762846759520473,
          0.0004776295565534383,
          0.0004969398956745863,
          0.0004924350447254256,
          0.0005009898886783049,
          0.0004955307027557865,
          0.0004947286186506971,
          0.000508624140638858,
          0.0005119874665979296,
          0.0005163751629879698,
          0.0005076444504084066,
          0.0004888495604973286,
          0.0004740838339785114,
          0.00046706972643733024,
          0.00045717327739112077,
          0.0004680509271565825,
          0.00045325338141992687,
          0.0004449289117474109,
          0.00043148785189259795,
          0.0004203668737318367,
          0.00042336165206506847,
          0.00044680098944809287,
          0.0004439149983227253,
          0.0004572292149532586,
          0.00045166435884311793,
          0.00043930556566920134,
          0.0004449717147508636,
          0.0004412525158841163,
          0.0004361534520285204,
          0.0004417918040417135,
          0.00043248991714790465,
          0.00040365807653870435,
          0.0003959025721997023,
          0.0003875722584780306,
          0.0003918181755580008,
          0.00039041354320943353,
          0.0003807801695074886,
          0.00037534334405791013,
          0.0003796018718276173,
          0.0003786493616644293,
          0.0003738589235581458,
          0.0003866737970383838,
          0.00039017980452626944,
          0.0003801710961852223,
          0.00037426062626764176,
          0.0003785407170653343,
          0.00037674502236768604,
          0.00038087646244093775,
          0.0003773945238208398,
          0.0003603681761887856,
          0.0003843351747491397,
          0.0003749570561922155,
          0.0003719606451340951,
          0.00036762380186701195,
          0.0003645451695774682,
          0.00035511278110789135,
          0.00035856595350196584,
          0.0003435003905906342,
          0.0003449113151873462,
          0.0003578344563720748,
          0.00033868200553115456,
          0.0003379369387403131,
          0.0003437621722696349,
          0.0003635698405560106,
          0.0003633451473433524,
          0.0003766940499190241,
          0.00038226998585741965,
          0.0003935648681363091,
          0.0003791275812545791,
          0.0003707398835103959,
          0.0003659739100839943,
          0.0003584693709854037,
          0.0003602504264563322,
          0.00033545131445862354,
          0.0003264012397266924,
          0.00030967708444222807,
          0.00029970744508318604,
          0.00029192196088843045,
          0.00028949458501301704,
          0.00028970232524443417,
          0.000294559559551999,
          0.00029234630928840486,
          0.0002919386111898348,
          0.00029982780106365683,
          0.0003083964256802574,
          0.00030244807567214593,
          0.00030871334456605837,
          0.0003096821703366004,
          0.00031033131963340563,
          0.00030458137043751774,
          0.00029435137985274197,
          0.00029369369440246373,
          0.0002904246182879433,
          0.00028296683449298144,
          0.00026793076540343463,
          0.0002738674069405533,
          0.0002653986579389311,
          0.00025998473429353906,
          0.00026171613862970846,
          0.0002663089573616162,
          0.0002718885196372867,
          0.00026516480866121126,
          0.00025697319797473027,
          0.00025996465847129003,
          0.00026453643367858605,
          0.0002626826186315157,
          0.0002539136912673712,
          0.0002533132035750896,
          0.0002555343817221001,
          0.00027253678999841215,
          0.0002646757086040452,
          0.000269328938156832,
          0.00026704662741394714,
          0.0002751483509200625,
          0.0002764921126072295,
          0.0002687703556148335,
          0.00027839716494781896,
          0.0002882212269469164,
          0.000288205077231396,
          0.00027111050294479353,
          0.00027171745314262806,
          0.00027244207449257375,
          0.00028134072781540456,
          0.00027547337231226265,
          0.00026924750418402257,
          0.00027833797939820216,
          0.0002724871927057393,
          0.00026274496485712007,
          0.0002570473981904797,
          0.0002533699924242683,
          0.000255126747651957,
          0.0002497412613593042,
          0.00023906977148726582,
          0.00022694891958963126,
          0.00022948109835851938,
          0.00022553055605385454,
          0.0002304629422724247,
          0.0002327458671061322,
          0.00024181352637242526,
          0.00023673585965298117,
          0.00023665917105972767,
          0.00023961036931723355,
          0.0002415555267361924,
          0.00024509805080015213,
          0.00024544203479308634,
          0.00024389184545725584,
          0.0002408557862509042,
          0.00024345899291802197,
          0.00023308850650209932,
          0.00024404713476542384,
          0.00024386334407608957,
          0.0002423886428005062,
          0.00024041099241003394,
          0.0002559341985033825,
          0.0002539829118177295,
          0.0002523082192055881,
          0.0002523737435694784,
          0.000251583315548487,
          0.0002485010409145616,
          0.00023895417543826625,
          0.00023374130978481844,
          0.00023235919943545013,
          0.0002278951957123354,
          0.00022560818470083178,
          0.00023063069093041123,
          0.0002329217386431992,
          0.00023352322168648242,
          0.00022638593945885078,
          0.00023323864734265954,
          0.00022768995258957148,
          0.00022193292097654193,
          0.00022856964787933975,
          0.00023639499413548038,
          0.0002313242250238545,
          0.000228981337568257,
          0.00022090809652581812,
          0.00021902524458710103,
          0.0002125956685631536,
          0.00020755537989316508,
          0.00021006018650950863,
          0.00021205081866355614,
          0.00020407799311215059,
          0.00019719451665878296,
          0.00018880602583521978,
          0.00018510266818339005,
          0.00018665948300622404,
          0.0001825087208999321,
          0.00018970862147398292,
          0.00019074587908107787,
          0.00019775744149228558,
          0.00021139297023182736,
          0.000211635249434039,
          0.00020397957559907808,
          0.0002058961719740182,
          0.00021282320085447282,
          0.00021357608638936654,
          0.00021195674053160475,
          0.00020689297671196982,
          0.00020536845113383606,
          0.00020493202609941363,
          0.00020094161154702306,
          0.0002028693284955807,
          0.00021065863402327522,
          0.00020484815468080342,
          0.00020473203621804715,
          0.00020875894697383046,
          0.0002143437450286001,
          0.0002224424242740497,
          0.00022521086066262797,
          0.00022120536013972014,
          0.00021451227803481743,
          0.00021192557614995166,
          0.00020981293782824651,
          0.0002165525234886445,
          0.00020341554773040116,
          0.00019206199285690673,
          0.00019076559037785047,
          0.00018157099475502037,
          0.00017882355678011663,
          0.00017945930085261352,
          0.00017220000372617506,
          0.00016765131513238885,
          0.0001671835569140967,
          0.00016460568076581694,
          0.0001688999116595369,
          0.00017078629753086716,
          0.00016988317511277274,
          0.00016655846120556818,
          0.0001666634590947069,
          0.0001716555270832032,
          0.0001790641719708219,
          0.00017942192644113675,
          0.00018567946390248835,
          0.00018307586869923398,
          0.0001813735012547113,
          0.0001942806600709446,
          0.00019006624206667765,
          0.0001970543758943677,
          0.00019917634926969185,
          0.00019158120267093182,
          0.00019315974350320175,
          0.00019164426194038243,
          0.00018422520952299237,
          0.00018036379478871822,
          0.0001862544595496729,
          0.00017977973620872945,
          0.0001777477067662403,
          0.00017929649184225127,
          0.0001735243175062351,
          0.0001831175381084904,
          0.000182648807822261,
          0.0001838418625993654,
          0.000188269313366618,
          0.00019468944665277377,
          0.00019347163324709982,
          0.00018816231604432688,
          0.00020488570589805022,
          0.0002081073253066279,
          0.0002184701937949285
         ],
         "yaxis": "y"
        }
       ],
       "layout": {
        "font": {
         "family": "Courier New, monospace",
         "size": 14
        },
        "template": {
         "data": {
          "bar": [
           {
            "error_x": {
             "color": "#2a3f5f"
            },
            "error_y": {
             "color": "#2a3f5f"
            },
            "marker": {
             "line": {
              "color": "#E5ECF6",
              "width": 0.5
             }
            },
            "type": "bar"
           }
          ],
          "barpolar": [
           {
            "marker": {
             "line": {
              "color": "#E5ECF6",
              "width": 0.5
             }
            },
            "type": "barpolar"
           }
          ],
          "carpet": [
           {
            "aaxis": {
             "endlinecolor": "#2a3f5f",
             "gridcolor": "white",
             "linecolor": "white",
             "minorgridcolor": "white",
             "startlinecolor": "#2a3f5f"
            },
            "baxis": {
             "endlinecolor": "#2a3f5f",
             "gridcolor": "white",
             "linecolor": "white",
             "minorgridcolor": "white",
             "startlinecolor": "#2a3f5f"
            },
            "type": "carpet"
           }
          ],
          "choropleth": [
           {
            "colorbar": {
             "outlinewidth": 0,
             "ticks": ""
            },
            "type": "choropleth"
           }
          ],
          "contour": [
           {
            "colorbar": {
             "outlinewidth": 0,
             "ticks": ""
            },
            "colorscale": [
             [
              0,
              "#0d0887"
             ],
             [
              0.1111111111111111,
              "#46039f"
             ],
             [
              0.2222222222222222,
              "#7201a8"
             ],
             [
              0.3333333333333333,
              "#9c179e"
             ],
             [
              0.4444444444444444,
              "#bd3786"
             ],
             [
              0.5555555555555556,
              "#d8576b"
             ],
             [
              0.6666666666666666,
              "#ed7953"
             ],
             [
              0.7777777777777778,
              "#fb9f3a"
             ],
             [
              0.8888888888888888,
              "#fdca26"
             ],
             [
              1,
              "#f0f921"
             ]
            ],
            "type": "contour"
           }
          ],
          "contourcarpet": [
           {
            "colorbar": {
             "outlinewidth": 0,
             "ticks": ""
            },
            "type": "contourcarpet"
           }
          ],
          "heatmap": [
           {
            "colorbar": {
             "outlinewidth": 0,
             "ticks": ""
            },
            "colorscale": [
             [
              0,
              "#0d0887"
             ],
             [
              0.1111111111111111,
              "#46039f"
             ],
             [
              0.2222222222222222,
              "#7201a8"
             ],
             [
              0.3333333333333333,
              "#9c179e"
             ],
             [
              0.4444444444444444,
              "#bd3786"
             ],
             [
              0.5555555555555556,
              "#d8576b"
             ],
             [
              0.6666666666666666,
              "#ed7953"
             ],
             [
              0.7777777777777778,
              "#fb9f3a"
             ],
             [
              0.8888888888888888,
              "#fdca26"
             ],
             [
              1,
              "#f0f921"
             ]
            ],
            "type": "heatmap"
           }
          ],
          "heatmapgl": [
           {
            "colorbar": {
             "outlinewidth": 0,
             "ticks": ""
            },
            "colorscale": [
             [
              0,
              "#0d0887"
             ],
             [
              0.1111111111111111,
              "#46039f"
             ],
             [
              0.2222222222222222,
              "#7201a8"
             ],
             [
              0.3333333333333333,
              "#9c179e"
             ],
             [
              0.4444444444444444,
              "#bd3786"
             ],
             [
              0.5555555555555556,
              "#d8576b"
             ],
             [
              0.6666666666666666,
              "#ed7953"
             ],
             [
              0.7777777777777778,
              "#fb9f3a"
             ],
             [
              0.8888888888888888,
              "#fdca26"
             ],
             [
              1,
              "#f0f921"
             ]
            ],
            "type": "heatmapgl"
           }
          ],
          "histogram": [
           {
            "marker": {
             "colorbar": {
              "outlinewidth": 0,
              "ticks": ""
             }
            },
            "type": "histogram"
           }
          ],
          "histogram2d": [
           {
            "colorbar": {
             "outlinewidth": 0,
             "ticks": ""
            },
            "colorscale": [
             [
              0,
              "#0d0887"
             ],
             [
              0.1111111111111111,
              "#46039f"
             ],
             [
              0.2222222222222222,
              "#7201a8"
             ],
             [
              0.3333333333333333,
              "#9c179e"
             ],
             [
              0.4444444444444444,
              "#bd3786"
             ],
             [
              0.5555555555555556,
              "#d8576b"
             ],
             [
              0.6666666666666666,
              "#ed7953"
             ],
             [
              0.7777777777777778,
              "#fb9f3a"
             ],
             [
              0.8888888888888888,
              "#fdca26"
             ],
             [
              1,
              "#f0f921"
             ]
            ],
            "type": "histogram2d"
           }
          ],
          "histogram2dcontour": [
           {
            "colorbar": {
             "outlinewidth": 0,
             "ticks": ""
            },
            "colorscale": [
             [
              0,
              "#0d0887"
             ],
             [
              0.1111111111111111,
              "#46039f"
             ],
             [
              0.2222222222222222,
              "#7201a8"
             ],
             [
              0.3333333333333333,
              "#9c179e"
             ],
             [
              0.4444444444444444,
              "#bd3786"
             ],
             [
              0.5555555555555556,
              "#d8576b"
             ],
             [
              0.6666666666666666,
              "#ed7953"
             ],
             [
              0.7777777777777778,
              "#fb9f3a"
             ],
             [
              0.8888888888888888,
              "#fdca26"
             ],
             [
              1,
              "#f0f921"
             ]
            ],
            "type": "histogram2dcontour"
           }
          ],
          "mesh3d": [
           {
            "colorbar": {
             "outlinewidth": 0,
             "ticks": ""
            },
            "type": "mesh3d"
           }
          ],
          "parcoords": [
           {
            "line": {
             "colorbar": {
              "outlinewidth": 0,
              "ticks": ""
             }
            },
            "type": "parcoords"
           }
          ],
          "pie": [
           {
            "automargin": true,
            "type": "pie"
           }
          ],
          "scatter": [
           {
            "marker": {
             "colorbar": {
              "outlinewidth": 0,
              "ticks": ""
             }
            },
            "type": "scatter"
           }
          ],
          "scatter3d": [
           {
            "line": {
             "colorbar": {
              "outlinewidth": 0,
              "ticks": ""
             }
            },
            "marker": {
             "colorbar": {
              "outlinewidth": 0,
              "ticks": ""
             }
            },
            "type": "scatter3d"
           }
          ],
          "scattercarpet": [
           {
            "marker": {
             "colorbar": {
              "outlinewidth": 0,
              "ticks": ""
             }
            },
            "type": "scattercarpet"
           }
          ],
          "scattergeo": [
           {
            "marker": {
             "colorbar": {
              "outlinewidth": 0,
              "ticks": ""
             }
            },
            "type": "scattergeo"
           }
          ],
          "scattergl": [
           {
            "marker": {
             "colorbar": {
              "outlinewidth": 0,
              "ticks": ""
             }
            },
            "type": "scattergl"
           }
          ],
          "scattermapbox": [
           {
            "marker": {
             "colorbar": {
              "outlinewidth": 0,
              "ticks": ""
             }
            },
            "type": "scattermapbox"
           }
          ],
          "scatterpolar": [
           {
            "marker": {
             "colorbar": {
              "outlinewidth": 0,
              "ticks": ""
             }
            },
            "type": "scatterpolar"
           }
          ],
          "scatterpolargl": [
           {
            "marker": {
             "colorbar": {
              "outlinewidth": 0,
              "ticks": ""
             }
            },
            "type": "scatterpolargl"
           }
          ],
          "scatterternary": [
           {
            "marker": {
             "colorbar": {
              "outlinewidth": 0,
              "ticks": ""
             }
            },
            "type": "scatterternary"
           }
          ],
          "surface": [
           {
            "colorbar": {
             "outlinewidth": 0,
             "ticks": ""
            },
            "colorscale": [
             [
              0,
              "#0d0887"
             ],
             [
              0.1111111111111111,
              "#46039f"
             ],
             [
              0.2222222222222222,
              "#7201a8"
             ],
             [
              0.3333333333333333,
              "#9c179e"
             ],
             [
              0.4444444444444444,
              "#bd3786"
             ],
             [
              0.5555555555555556,
              "#d8576b"
             ],
             [
              0.6666666666666666,
              "#ed7953"
             ],
             [
              0.7777777777777778,
              "#fb9f3a"
             ],
             [
              0.8888888888888888,
              "#fdca26"
             ],
             [
              1,
              "#f0f921"
             ]
            ],
            "type": "surface"
           }
          ],
          "table": [
           {
            "cells": {
             "fill": {
              "color": "#EBF0F8"
             },
             "line": {
              "color": "white"
             }
            },
            "header": {
             "fill": {
              "color": "#C8D4E3"
             },
             "line": {
              "color": "white"
             }
            },
            "type": "table"
           }
          ]
         },
         "layout": {
          "annotationdefaults": {
           "arrowcolor": "#2a3f5f",
           "arrowhead": 0,
           "arrowwidth": 1
          },
          "autotypenumbers": "strict",
          "coloraxis": {
           "colorbar": {
            "outlinewidth": 0,
            "ticks": ""
           }
          },
          "colorscale": {
           "diverging": [
            [
             0,
             "#8e0152"
            ],
            [
             0.1,
             "#c51b7d"
            ],
            [
             0.2,
             "#de77ae"
            ],
            [
             0.3,
             "#f1b6da"
            ],
            [
             0.4,
             "#fde0ef"
            ],
            [
             0.5,
             "#f7f7f7"
            ],
            [
             0.6,
             "#e6f5d0"
            ],
            [
             0.7,
             "#b8e186"
            ],
            [
             0.8,
             "#7fbc41"
            ],
            [
             0.9,
             "#4d9221"
            ],
            [
             1,
             "#276419"
            ]
           ],
           "sequential": [
            [
             0,
             "#0d0887"
            ],
            [
             0.1111111111111111,
             "#46039f"
            ],
            [
             0.2222222222222222,
             "#7201a8"
            ],
            [
             0.3333333333333333,
             "#9c179e"
            ],
            [
             0.4444444444444444,
             "#bd3786"
            ],
            [
             0.5555555555555556,
             "#d8576b"
            ],
            [
             0.6666666666666666,
             "#ed7953"
            ],
            [
             0.7777777777777778,
             "#fb9f3a"
            ],
            [
             0.8888888888888888,
             "#fdca26"
            ],
            [
             1,
             "#f0f921"
            ]
           ],
           "sequentialminus": [
            [
             0,
             "#0d0887"
            ],
            [
             0.1111111111111111,
             "#46039f"
            ],
            [
             0.2222222222222222,
             "#7201a8"
            ],
            [
             0.3333333333333333,
             "#9c179e"
            ],
            [
             0.4444444444444444,
             "#bd3786"
            ],
            [
             0.5555555555555556,
             "#d8576b"
            ],
            [
             0.6666666666666666,
             "#ed7953"
            ],
            [
             0.7777777777777778,
             "#fb9f3a"
            ],
            [
             0.8888888888888888,
             "#fdca26"
            ],
            [
             1,
             "#f0f921"
            ]
           ]
          },
          "colorway": [
           "#636efa",
           "#EF553B",
           "#00cc96",
           "#ab63fa",
           "#FFA15A",
           "#19d3f3",
           "#FF6692",
           "#B6E880",
           "#FF97FF",
           "#FECB52"
          ],
          "font": {
           "color": "#2a3f5f"
          },
          "geo": {
           "bgcolor": "white",
           "lakecolor": "white",
           "landcolor": "#E5ECF6",
           "showlakes": true,
           "showland": true,
           "subunitcolor": "white"
          },
          "hoverlabel": {
           "align": "left"
          },
          "hovermode": "closest",
          "mapbox": {
           "style": "light"
          },
          "paper_bgcolor": "white",
          "plot_bgcolor": "#E5ECF6",
          "polar": {
           "angularaxis": {
            "gridcolor": "white",
            "linecolor": "white",
            "ticks": ""
           },
           "bgcolor": "#E5ECF6",
           "radialaxis": {
            "gridcolor": "white",
            "linecolor": "white",
            "ticks": ""
           }
          },
          "scene": {
           "xaxis": {
            "backgroundcolor": "#E5ECF6",
            "gridcolor": "white",
            "gridwidth": 2,
            "linecolor": "white",
            "showbackground": true,
            "ticks": "",
            "zerolinecolor": "white"
           },
           "yaxis": {
            "backgroundcolor": "#E5ECF6",
            "gridcolor": "white",
            "gridwidth": 2,
            "linecolor": "white",
            "showbackground": true,
            "ticks": "",
            "zerolinecolor": "white"
           },
           "zaxis": {
            "backgroundcolor": "#E5ECF6",
            "gridcolor": "white",
            "gridwidth": 2,
            "linecolor": "white",
            "showbackground": true,
            "ticks": "",
            "zerolinecolor": "white"
           }
          },
          "shapedefaults": {
           "line": {
            "color": "#2a3f5f"
           }
          },
          "ternary": {
           "aaxis": {
            "gridcolor": "white",
            "linecolor": "white",
            "ticks": ""
           },
           "baxis": {
            "gridcolor": "white",
            "linecolor": "white",
            "ticks": ""
           },
           "bgcolor": "#E5ECF6",
           "caxis": {
            "gridcolor": "white",
            "linecolor": "white",
            "ticks": ""
           }
          },
          "title": {
           "x": 0.05
          },
          "xaxis": {
           "automargin": true,
           "gridcolor": "white",
           "linecolor": "white",
           "ticks": "",
           "title": {
            "standoff": 15
           },
           "zerolinecolor": "white",
           "zerolinewidth": 2
          },
          "yaxis": {
           "automargin": true,
           "gridcolor": "white",
           "linecolor": "white",
           "ticks": "",
           "title": {
            "standoff": 15
           },
           "zerolinecolor": "white",
           "zerolinewidth": 2
          }
         }
        },
        "title": {
         "text": "Loss"
        },
        "xaxis": {
         "anchor": "y",
         "domain": [
          0,
          1
         ],
         "title": {
          "text": "Iterations"
         }
        },
        "yaxis": {
         "anchor": "x",
         "domain": [
          0,
          1
         ],
         "title": {
          "text": "Loss"
         }
        }
       }
      },
      "text/html": [
       "<div>                            <div id=\"e306bf0d-b72e-42aa-a592-4be1541835e9\" class=\"plotly-graph-div\" style=\"height:525px; width:100%;\"></div>            <script type=\"text/javascript\">                require([\"plotly\"], function(Plotly) {                    window.PLOTLYENV=window.PLOTLYENV || {};                                    if (document.getElementById(\"e306bf0d-b72e-42aa-a592-4be1541835e9\")) {                    Plotly.newPlot(                        \"e306bf0d-b72e-42aa-a592-4be1541835e9\",                        [{\"mode\": \"lines\", \"name\": \"Error at x=0.1\", \"type\": \"scatter\", \"x\": [0, 1, 2, 3, 4, 5, 6, 7, 8, 9, 10, 11, 12, 13, 14, 15, 16, 17, 18, 19, 20, 21, 22, 23, 24, 25, 26, 27, 28, 29, 30, 31, 32, 33, 34, 35, 36, 37, 38, 39, 40, 41, 42, 43, 44, 45, 46, 47, 48, 49, 50, 51, 52, 53, 54, 55, 56, 57, 58, 59, 60, 61, 62, 63, 64, 65, 66, 67, 68, 69, 70, 71, 72, 73, 74, 75, 76, 77, 78, 79, 80, 81, 82, 83, 84, 85, 86, 87, 88, 89, 90, 91, 92, 93, 94, 95, 96, 97, 98, 99, 100, 101, 102, 103, 104, 105, 106, 107, 108, 109, 110, 111, 112, 113, 114, 115, 116, 117, 118, 119, 120, 121, 122, 123, 124, 125, 126, 127, 128, 129, 130, 131, 132, 133, 134, 135, 136, 137, 138, 139, 140, 141, 142, 143, 144, 145, 146, 147, 148, 149, 150, 151, 152, 153, 154, 155, 156, 157, 158, 159, 160, 161, 162, 163, 164, 165, 166, 167, 168, 169, 170, 171, 172, 173, 174, 175, 176, 177, 178, 179, 180, 181, 182, 183, 184, 185, 186, 187, 188, 189, 190, 191, 192, 193, 194, 195, 196, 197, 198, 199, 200, 201, 202, 203, 204, 205, 206, 207, 208, 209, 210, 211, 212, 213, 214, 215, 216, 217, 218, 219, 220, 221, 222, 223, 224, 225, 226, 227, 228, 229, 230, 231, 232, 233, 234, 235, 236, 237, 238, 239, 240, 241, 242, 243, 244, 245, 246, 247, 248, 249, 250, 251, 252, 253, 254, 255, 256, 257, 258, 259, 260, 261, 262, 263, 264, 265, 266, 267, 268, 269, 270, 271, 272, 273, 274, 275, 276, 277, 278, 279, 280, 281, 282, 283, 284, 285, 286, 287, 288, 289, 290, 291, 292, 293, 294, 295, 296, 297, 298, 299, 300, 301, 302, 303, 304, 305, 306, 307, 308, 309, 310, 311, 312, 313, 314, 315, 316, 317, 318, 319, 320, 321, 322, 323, 324, 325, 326, 327, 328, 329, 330, 331, 332, 333, 334, 335, 336, 337, 338, 339, 340, 341, 342, 343, 344, 345, 346, 347, 348, 349, 350, 351, 352, 353, 354, 355, 356, 357, 358, 359, 360, 361, 362, 363, 364, 365, 366, 367, 368, 369, 370, 371, 372, 373, 374, 375, 376, 377, 378, 379, 380, 381, 382, 383, 384, 385, 386, 387, 388, 389, 390, 391, 392, 393, 394, 395, 396, 397, 398, 399, 400, 401, 402, 403, 404, 405, 406, 407, 408, 409, 410, 411, 412, 413, 414, 415, 416, 417, 418, 419, 420, 421, 422, 423, 424, 425, 426, 427, 428, 429, 430, 431, 432, 433, 434, 435, 436, 437, 438, 439, 440, 441, 442, 443, 444, 445, 446, 447, 448, 449, 450, 451, 452, 453, 454, 455, 456, 457, 458, 459, 460, 461, 462, 463, 464, 465, 466, 467, 468, 469, 470, 471, 472, 473, 474, 475, 476, 477, 478, 479, 480, 481, 482, 483, 484, 485, 486, 487, 488, 489, 490], \"xaxis\": \"x\", \"y\": [0.05652114590629935, 0.03939188597723842, 0.030748289544135332, 0.025921828392893077, 0.022036535758525135, 0.01770245488733053, 0.013833101838827133, 0.010814604349434376, 0.009095628513023257, 0.008249687403440476, 0.00802176701836288, 0.007771168416365981, 0.007112231571227312, 0.006192910345271229, 0.005582731170579791, 0.005228443583473563, 0.004930963926017285, 0.004887042660266161, 0.004748356621712446, 0.0044809006154537204, 0.004134580749087036, 0.003628069791011512, 0.00328636122867465, 0.0031040554167702794, 0.002963270666077733, 0.0028910004533827306, 0.0028627441730350255, 0.002747109695337713, 0.0026471813442185523, 0.0025828942889347672, 0.0025233021937310697, 0.002407448086887598, 0.002322137507144362, 0.0022608240717090665, 0.0021969729103147985, 0.0021538054570555687, 0.0020551249384880067, 0.002030605426989496, 0.0019650279544293882, 0.0019014693680219352, 0.0018487791996449233, 0.0018665993819013238, 0.0018245369428768754, 0.0018313576001673937, 0.0018098740023560823, 0.0017799369292333723, 0.0017440676339901984, 0.0016979246051050723, 0.0016420307918451726, 0.0016134134028106927, 0.0016079778550192713, 0.0015866440255194903, 0.001618913689162582, 0.0015895189717411995, 0.0015847080270759762, 0.001548430137336254, 0.0015648739063180983, 0.0015492533799260854, 0.0015667169005610048, 0.0015885102795436979, 0.0015618037083186208, 0.001548458158504218, 0.0015013391966931522, 0.001483884733170271, 0.0014809087733738124, 0.0015067062806338072, 0.0015229546930640935, 0.0015454063075594604, 0.0015184176620095969, 0.0015276614925824107, 0.0015253462828695775, 0.0015014686970971525, 0.0015269914525561034, 0.001512437139172107, 0.0015039343270473182, 0.0015047419583424926, 0.0014641095651313663, 0.001439485140144825, 0.0014334977138787508, 0.00141612000297755, 0.001427482208237052, 0.0014361816924065352, 0.0014321919763460756, 0.001438954344484955, 0.0014433171600103378, 0.0014080654480494558, 0.001383046235423535, 0.0014069375698454677, 0.001388029975350946, 0.0013690226362086833, 0.0013515030266717076, 0.001334849465638399, 0.0013282397645525633, 0.0013161967741325497, 0.0013383352663367987, 0.0013379039824940263, 0.001331868243869394, 0.0012856250046752392, 0.0012847622158005834, 0.001273555844090879, 0.0012515357113443315, 0.001263570843730122, 0.0012592905201017856, 0.0012745572603307664, 0.0012392997508868576, 0.001246931927744299, 0.0012569630751386284, 0.001261977304238826, 0.0012717972742393613, 0.0012806599726900459, 0.0012969766976311803, 0.0012812976841814817, 0.0012888259603641926, 0.0012544716941192747, 0.0012240980984643101, 0.001200064190197736, 0.0012031336780637502, 0.0011828782153315842, 0.0011641744058579206, 0.0011662586592137813, 0.0011617711279541254, 0.0011443027411587535, 0.0011048061132896692, 0.0010900221939664334, 0.0010959500155877321, 0.0011130822298582644, 0.0010884983174037188, 0.0010951592063065617, 0.0010748234111815692, 0.0010371829790528863, 0.00102315450203605, 0.001019978558178991, 0.0010370390897151082, 0.001036801835289225, 0.0010427751985844225, 0.0010249521059449763, 0.0010444628132972866, 0.0010310524667147547, 0.0010681717190891503, 0.0010587976954411714, 0.0010639759653713553, 0.001055742148309946, 0.001055897120386362, 0.0010433394636493176, 0.0010199081385508179, 0.0009951008367352187, 0.0009881238220259547, 0.0009860947320703417, 0.0009361762145999819, 0.0009484818554483354, 0.0009354974783491344, 0.0009349479048978537, 0.0009192319994326681, 0.000929244642611593, 0.0009264025546144694, 0.0009263556450605393, 0.0009347069310024381, 0.0009207791415974497, 0.0009149270365014673, 0.0009276045660953969, 0.0009191394201479852, 0.0009151477599516511, 0.0009104213211685419, 0.0008982106577605009, 0.0008841253002174199, 0.000876475078985095, 0.0008507579565048218, 0.000850895413896069, 0.0008662528940476477, 0.000827319361269474, 0.0008290568250231445, 0.0008285292889922858, 0.0007995397783815861, 0.0007877737283706665, 0.0007839977042749524, 0.0007930693391244859, 0.0007908863015472889, 0.0007705330091994256, 0.000744468264747411, 0.00075223179301247, 0.0007404463773127645, 0.0007316264731343835, 0.0007292870956007391, 0.0007116211811080575, 0.0006910870899446309, 0.0006803491734899581, 0.0006599959451705217, 0.0006653189193457365, 0.0006740500859450549, 0.000667738140327856, 0.0006448161206208169, 0.0006529715959914028, 0.0006431152578443289, 0.0006441551318857819, 0.0006634764198679477, 0.0006578869826626033, 0.000660782348131761, 0.0006684887455776333, 0.0006580467044841499, 0.0006422570964787156, 0.0006579759006854147, 0.0006493519467767328, 0.0006539410154800862, 0.0006742500932887197, 0.000664243393111974, 0.0006553642218932509, 0.0006573355116415769, 0.0006428631080780178, 0.0006435033574234694, 0.0006607874063774943, 0.0006518791662529111, 0.0006389685848262161, 0.0006386575056239963, 0.0006213458138518036, 0.0006093520845752209, 0.0006102608109358698, 0.0005898681527469307, 0.0005954216641839594, 0.000592624704586342, 0.000571565970312804, 0.0005538837343920022, 0.0005527621484361589, 0.000551545899361372, 0.0005414280982222408, 0.0005284106940962374, 0.0005189046496525407, 0.0005214956298004835, 0.0005007864267099649, 0.0004881331347860396, 0.0004763579316204414, 0.0004847414238611236, 0.000472607568372041, 0.00046762846759520473, 0.0004776295565534383, 0.0004969398956745863, 0.0004924350447254256, 0.0005009898886783049, 0.0004955307027557865, 0.0004947286186506971, 0.000508624140638858, 0.0005119874665979296, 0.0005163751629879698, 0.0005076444504084066, 0.0004888495604973286, 0.0004740838339785114, 0.00046706972643733024, 0.00045717327739112077, 0.0004680509271565825, 0.00045325338141992687, 0.0004449289117474109, 0.00043148785189259795, 0.0004203668737318367, 0.00042336165206506847, 0.00044680098944809287, 0.0004439149983227253, 0.0004572292149532586, 0.00045166435884311793, 0.00043930556566920134, 0.0004449717147508636, 0.0004412525158841163, 0.0004361534520285204, 0.0004417918040417135, 0.00043248991714790465, 0.00040365807653870435, 0.0003959025721997023, 0.0003875722584780306, 0.0003918181755580008, 0.00039041354320943353, 0.0003807801695074886, 0.00037534334405791013, 0.0003796018718276173, 0.0003786493616644293, 0.0003738589235581458, 0.0003866737970383838, 0.00039017980452626944, 0.0003801710961852223, 0.00037426062626764176, 0.0003785407170653343, 0.00037674502236768604, 0.00038087646244093775, 0.0003773945238208398, 0.0003603681761887856, 0.0003843351747491397, 0.0003749570561922155, 0.0003719606451340951, 0.00036762380186701195, 0.0003645451695774682, 0.00035511278110789135, 0.00035856595350196584, 0.0003435003905906342, 0.0003449113151873462, 0.0003578344563720748, 0.00033868200553115456, 0.0003379369387403131, 0.0003437621722696349, 0.0003635698405560106, 0.0003633451473433524, 0.0003766940499190241, 0.00038226998585741965, 0.0003935648681363091, 0.0003791275812545791, 0.0003707398835103959, 0.0003659739100839943, 0.0003584693709854037, 0.0003602504264563322, 0.00033545131445862354, 0.0003264012397266924, 0.00030967708444222807, 0.00029970744508318604, 0.00029192196088843045, 0.00028949458501301704, 0.00028970232524443417, 0.000294559559551999, 0.00029234630928840486, 0.0002919386111898348, 0.00029982780106365683, 0.0003083964256802574, 0.00030244807567214593, 0.00030871334456605837, 0.0003096821703366004, 0.00031033131963340563, 0.00030458137043751774, 0.00029435137985274197, 0.00029369369440246373, 0.0002904246182879433, 0.00028296683449298144, 0.00026793076540343463, 0.0002738674069405533, 0.0002653986579389311, 0.00025998473429353906, 0.00026171613862970846, 0.0002663089573616162, 0.0002718885196372867, 0.00026516480866121126, 0.00025697319797473027, 0.00025996465847129003, 0.00026453643367858605, 0.0002626826186315157, 0.0002539136912673712, 0.0002533132035750896, 0.0002555343817221001, 0.00027253678999841215, 0.0002646757086040452, 0.000269328938156832, 0.00026704662741394714, 0.0002751483509200625, 0.0002764921126072295, 0.0002687703556148335, 0.00027839716494781896, 0.0002882212269469164, 0.000288205077231396, 0.00027111050294479353, 0.00027171745314262806, 0.00027244207449257375, 0.00028134072781540456, 0.00027547337231226265, 0.00026924750418402257, 0.00027833797939820216, 0.0002724871927057393, 0.00026274496485712007, 0.0002570473981904797, 0.0002533699924242683, 0.000255126747651957, 0.0002497412613593042, 0.00023906977148726582, 0.00022694891958963126, 0.00022948109835851938, 0.00022553055605385454, 0.0002304629422724247, 0.0002327458671061322, 0.00024181352637242526, 0.00023673585965298117, 0.00023665917105972767, 0.00023961036931723355, 0.0002415555267361924, 0.00024509805080015213, 0.00024544203479308634, 0.00024389184545725584, 0.0002408557862509042, 0.00024345899291802197, 0.00023308850650209932, 0.00024404713476542384, 0.00024386334407608957, 0.0002423886428005062, 0.00024041099241003394, 0.0002559341985033825, 0.0002539829118177295, 0.0002523082192055881, 0.0002523737435694784, 0.000251583315548487, 0.0002485010409145616, 0.00023895417543826625, 0.00023374130978481844, 0.00023235919943545013, 0.0002278951957123354, 0.00022560818470083178, 0.00023063069093041123, 0.0002329217386431992, 0.00023352322168648242, 0.00022638593945885078, 0.00023323864734265954, 0.00022768995258957148, 0.00022193292097654193, 0.00022856964787933975, 0.00023639499413548038, 0.0002313242250238545, 0.000228981337568257, 0.00022090809652581812, 0.00021902524458710103, 0.0002125956685631536, 0.00020755537989316508, 0.00021006018650950863, 0.00021205081866355614, 0.00020407799311215059, 0.00019719451665878296, 0.00018880602583521978, 0.00018510266818339005, 0.00018665948300622404, 0.0001825087208999321, 0.00018970862147398292, 0.00019074587908107787, 0.00019775744149228558, 0.00021139297023182736, 0.000211635249434039, 0.00020397957559907808, 0.0002058961719740182, 0.00021282320085447282, 0.00021357608638936654, 0.00021195674053160475, 0.00020689297671196982, 0.00020536845113383606, 0.00020493202609941363, 0.00020094161154702306, 0.0002028693284955807, 0.00021065863402327522, 0.00020484815468080342, 0.00020473203621804715, 0.00020875894697383046, 0.0002143437450286001, 0.0002224424242740497, 0.00022521086066262797, 0.00022120536013972014, 0.00021451227803481743, 0.00021192557614995166, 0.00020981293782824651, 0.0002165525234886445, 0.00020341554773040116, 0.00019206199285690673, 0.00019076559037785047, 0.00018157099475502037, 0.00017882355678011663, 0.00017945930085261352, 0.00017220000372617506, 0.00016765131513238885, 0.0001671835569140967, 0.00016460568076581694, 0.0001688999116595369, 0.00017078629753086716, 0.00016988317511277274, 0.00016655846120556818, 0.0001666634590947069, 0.0001716555270832032, 0.0001790641719708219, 0.00017942192644113675, 0.00018567946390248835, 0.00018307586869923398, 0.0001813735012547113, 0.0001942806600709446, 0.00019006624206667765, 0.0001970543758943677, 0.00019917634926969185, 0.00019158120267093182, 0.00019315974350320175, 0.00019164426194038243, 0.00018422520952299237, 0.00018036379478871822, 0.0001862544595496729, 0.00017977973620872945, 0.0001777477067662403, 0.00017929649184225127, 0.0001735243175062351, 0.0001831175381084904, 0.000182648807822261, 0.0001838418625993654, 0.000188269313366618, 0.00019468944665277377, 0.00019347163324709982, 0.00018816231604432688, 0.00020488570589805022, 0.0002081073253066279, 0.0002184701937949285], \"yaxis\": \"y\"}],                        {\"font\": {\"family\": \"Courier New, monospace\", \"size\": 14}, \"template\": {\"data\": {\"bar\": [{\"error_x\": {\"color\": \"#2a3f5f\"}, \"error_y\": {\"color\": \"#2a3f5f\"}, \"marker\": {\"line\": {\"color\": \"#E5ECF6\", \"width\": 0.5}}, \"type\": \"bar\"}], \"barpolar\": [{\"marker\": {\"line\": {\"color\": \"#E5ECF6\", \"width\": 0.5}}, \"type\": \"barpolar\"}], \"carpet\": [{\"aaxis\": {\"endlinecolor\": \"#2a3f5f\", \"gridcolor\": \"white\", \"linecolor\": \"white\", \"minorgridcolor\": \"white\", \"startlinecolor\": \"#2a3f5f\"}, \"baxis\": {\"endlinecolor\": \"#2a3f5f\", \"gridcolor\": \"white\", \"linecolor\": \"white\", \"minorgridcolor\": \"white\", \"startlinecolor\": \"#2a3f5f\"}, \"type\": \"carpet\"}], \"choropleth\": [{\"colorbar\": {\"outlinewidth\": 0, \"ticks\": \"\"}, \"type\": \"choropleth\"}], \"contour\": [{\"colorbar\": {\"outlinewidth\": 0, \"ticks\": \"\"}, \"colorscale\": [[0.0, \"#0d0887\"], [0.1111111111111111, \"#46039f\"], [0.2222222222222222, \"#7201a8\"], [0.3333333333333333, \"#9c179e\"], [0.4444444444444444, \"#bd3786\"], [0.5555555555555556, \"#d8576b\"], [0.6666666666666666, \"#ed7953\"], [0.7777777777777778, \"#fb9f3a\"], [0.8888888888888888, \"#fdca26\"], [1.0, \"#f0f921\"]], \"type\": \"contour\"}], \"contourcarpet\": [{\"colorbar\": {\"outlinewidth\": 0, \"ticks\": \"\"}, \"type\": \"contourcarpet\"}], \"heatmap\": [{\"colorbar\": {\"outlinewidth\": 0, \"ticks\": \"\"}, \"colorscale\": [[0.0, \"#0d0887\"], [0.1111111111111111, \"#46039f\"], [0.2222222222222222, \"#7201a8\"], [0.3333333333333333, \"#9c179e\"], [0.4444444444444444, \"#bd3786\"], [0.5555555555555556, \"#d8576b\"], [0.6666666666666666, \"#ed7953\"], [0.7777777777777778, \"#fb9f3a\"], [0.8888888888888888, \"#fdca26\"], [1.0, \"#f0f921\"]], \"type\": \"heatmap\"}], \"heatmapgl\": [{\"colorbar\": {\"outlinewidth\": 0, \"ticks\": \"\"}, \"colorscale\": [[0.0, \"#0d0887\"], [0.1111111111111111, \"#46039f\"], [0.2222222222222222, \"#7201a8\"], [0.3333333333333333, \"#9c179e\"], [0.4444444444444444, \"#bd3786\"], [0.5555555555555556, \"#d8576b\"], [0.6666666666666666, \"#ed7953\"], [0.7777777777777778, \"#fb9f3a\"], [0.8888888888888888, \"#fdca26\"], [1.0, \"#f0f921\"]], \"type\": \"heatmapgl\"}], \"histogram\": [{\"marker\": {\"colorbar\": {\"outlinewidth\": 0, \"ticks\": \"\"}}, \"type\": \"histogram\"}], \"histogram2d\": [{\"colorbar\": {\"outlinewidth\": 0, \"ticks\": \"\"}, \"colorscale\": [[0.0, \"#0d0887\"], [0.1111111111111111, \"#46039f\"], [0.2222222222222222, \"#7201a8\"], [0.3333333333333333, \"#9c179e\"], [0.4444444444444444, \"#bd3786\"], [0.5555555555555556, \"#d8576b\"], [0.6666666666666666, \"#ed7953\"], [0.7777777777777778, \"#fb9f3a\"], [0.8888888888888888, \"#fdca26\"], [1.0, \"#f0f921\"]], \"type\": \"histogram2d\"}], \"histogram2dcontour\": [{\"colorbar\": {\"outlinewidth\": 0, \"ticks\": \"\"}, \"colorscale\": [[0.0, \"#0d0887\"], [0.1111111111111111, \"#46039f\"], [0.2222222222222222, \"#7201a8\"], [0.3333333333333333, \"#9c179e\"], [0.4444444444444444, \"#bd3786\"], [0.5555555555555556, \"#d8576b\"], [0.6666666666666666, \"#ed7953\"], [0.7777777777777778, \"#fb9f3a\"], [0.8888888888888888, \"#fdca26\"], [1.0, \"#f0f921\"]], \"type\": \"histogram2dcontour\"}], \"mesh3d\": [{\"colorbar\": {\"outlinewidth\": 0, \"ticks\": \"\"}, \"type\": \"mesh3d\"}], \"parcoords\": [{\"line\": {\"colorbar\": {\"outlinewidth\": 0, \"ticks\": \"\"}}, \"type\": \"parcoords\"}], \"pie\": [{\"automargin\": true, \"type\": \"pie\"}], \"scatter\": [{\"marker\": {\"colorbar\": {\"outlinewidth\": 0, \"ticks\": \"\"}}, \"type\": \"scatter\"}], \"scatter3d\": [{\"line\": {\"colorbar\": {\"outlinewidth\": 0, \"ticks\": \"\"}}, \"marker\": {\"colorbar\": {\"outlinewidth\": 0, \"ticks\": \"\"}}, \"type\": \"scatter3d\"}], \"scattercarpet\": [{\"marker\": {\"colorbar\": {\"outlinewidth\": 0, \"ticks\": \"\"}}, \"type\": \"scattercarpet\"}], \"scattergeo\": [{\"marker\": {\"colorbar\": {\"outlinewidth\": 0, \"ticks\": \"\"}}, \"type\": \"scattergeo\"}], \"scattergl\": [{\"marker\": {\"colorbar\": {\"outlinewidth\": 0, \"ticks\": \"\"}}, \"type\": \"scattergl\"}], \"scattermapbox\": [{\"marker\": {\"colorbar\": {\"outlinewidth\": 0, \"ticks\": \"\"}}, \"type\": \"scattermapbox\"}], \"scatterpolar\": [{\"marker\": {\"colorbar\": {\"outlinewidth\": 0, \"ticks\": \"\"}}, \"type\": \"scatterpolar\"}], \"scatterpolargl\": [{\"marker\": {\"colorbar\": {\"outlinewidth\": 0, \"ticks\": \"\"}}, \"type\": \"scatterpolargl\"}], \"scatterternary\": [{\"marker\": {\"colorbar\": {\"outlinewidth\": 0, \"ticks\": \"\"}}, \"type\": \"scatterternary\"}], \"surface\": [{\"colorbar\": {\"outlinewidth\": 0, \"ticks\": \"\"}, \"colorscale\": [[0.0, \"#0d0887\"], [0.1111111111111111, \"#46039f\"], [0.2222222222222222, \"#7201a8\"], [0.3333333333333333, \"#9c179e\"], [0.4444444444444444, \"#bd3786\"], [0.5555555555555556, \"#d8576b\"], [0.6666666666666666, \"#ed7953\"], [0.7777777777777778, \"#fb9f3a\"], [0.8888888888888888, \"#fdca26\"], [1.0, \"#f0f921\"]], \"type\": \"surface\"}], \"table\": [{\"cells\": {\"fill\": {\"color\": \"#EBF0F8\"}, \"line\": {\"color\": \"white\"}}, \"header\": {\"fill\": {\"color\": \"#C8D4E3\"}, \"line\": {\"color\": \"white\"}}, \"type\": \"table\"}]}, \"layout\": {\"annotationdefaults\": {\"arrowcolor\": \"#2a3f5f\", \"arrowhead\": 0, \"arrowwidth\": 1}, \"autotypenumbers\": \"strict\", \"coloraxis\": {\"colorbar\": {\"outlinewidth\": 0, \"ticks\": \"\"}}, \"colorscale\": {\"diverging\": [[0, \"#8e0152\"], [0.1, \"#c51b7d\"], [0.2, \"#de77ae\"], [0.3, \"#f1b6da\"], [0.4, \"#fde0ef\"], [0.5, \"#f7f7f7\"], [0.6, \"#e6f5d0\"], [0.7, \"#b8e186\"], [0.8, \"#7fbc41\"], [0.9, \"#4d9221\"], [1, \"#276419\"]], \"sequential\": [[0.0, \"#0d0887\"], [0.1111111111111111, \"#46039f\"], [0.2222222222222222, \"#7201a8\"], [0.3333333333333333, \"#9c179e\"], [0.4444444444444444, \"#bd3786\"], [0.5555555555555556, \"#d8576b\"], [0.6666666666666666, \"#ed7953\"], [0.7777777777777778, \"#fb9f3a\"], [0.8888888888888888, \"#fdca26\"], [1.0, \"#f0f921\"]], \"sequentialminus\": [[0.0, \"#0d0887\"], [0.1111111111111111, \"#46039f\"], [0.2222222222222222, \"#7201a8\"], [0.3333333333333333, \"#9c179e\"], [0.4444444444444444, \"#bd3786\"], [0.5555555555555556, \"#d8576b\"], [0.6666666666666666, \"#ed7953\"], [0.7777777777777778, \"#fb9f3a\"], [0.8888888888888888, \"#fdca26\"], [1.0, \"#f0f921\"]]}, \"colorway\": [\"#636efa\", \"#EF553B\", \"#00cc96\", \"#ab63fa\", \"#FFA15A\", \"#19d3f3\", \"#FF6692\", \"#B6E880\", \"#FF97FF\", \"#FECB52\"], \"font\": {\"color\": \"#2a3f5f\"}, \"geo\": {\"bgcolor\": \"white\", \"lakecolor\": \"white\", \"landcolor\": \"#E5ECF6\", \"showlakes\": true, \"showland\": true, \"subunitcolor\": \"white\"}, \"hoverlabel\": {\"align\": \"left\"}, \"hovermode\": \"closest\", \"mapbox\": {\"style\": \"light\"}, \"paper_bgcolor\": \"white\", \"plot_bgcolor\": \"#E5ECF6\", \"polar\": {\"angularaxis\": {\"gridcolor\": \"white\", \"linecolor\": \"white\", \"ticks\": \"\"}, \"bgcolor\": \"#E5ECF6\", \"radialaxis\": {\"gridcolor\": \"white\", \"linecolor\": \"white\", \"ticks\": \"\"}}, \"scene\": {\"xaxis\": {\"backgroundcolor\": \"#E5ECF6\", \"gridcolor\": \"white\", \"gridwidth\": 2, \"linecolor\": \"white\", \"showbackground\": true, \"ticks\": \"\", \"zerolinecolor\": \"white\"}, \"yaxis\": {\"backgroundcolor\": \"#E5ECF6\", \"gridcolor\": \"white\", \"gridwidth\": 2, \"linecolor\": \"white\", \"showbackground\": true, \"ticks\": \"\", \"zerolinecolor\": \"white\"}, \"zaxis\": {\"backgroundcolor\": \"#E5ECF6\", \"gridcolor\": \"white\", \"gridwidth\": 2, \"linecolor\": \"white\", \"showbackground\": true, \"ticks\": \"\", \"zerolinecolor\": \"white\"}}, \"shapedefaults\": {\"line\": {\"color\": \"#2a3f5f\"}}, \"ternary\": {\"aaxis\": {\"gridcolor\": \"white\", \"linecolor\": \"white\", \"ticks\": \"\"}, \"baxis\": {\"gridcolor\": \"white\", \"linecolor\": \"white\", \"ticks\": \"\"}, \"bgcolor\": \"#E5ECF6\", \"caxis\": {\"gridcolor\": \"white\", \"linecolor\": \"white\", \"ticks\": \"\"}}, \"title\": {\"x\": 0.05}, \"xaxis\": {\"automargin\": true, \"gridcolor\": \"white\", \"linecolor\": \"white\", \"ticks\": \"\", \"title\": {\"standoff\": 15}, \"zerolinecolor\": \"white\", \"zerolinewidth\": 2}, \"yaxis\": {\"automargin\": true, \"gridcolor\": \"white\", \"linecolor\": \"white\", \"ticks\": \"\", \"title\": {\"standoff\": 15}, \"zerolinecolor\": \"white\", \"zerolinewidth\": 2}}}, \"title\": {\"text\": \"Loss\"}, \"xaxis\": {\"anchor\": \"y\", \"domain\": [0.0, 1.0], \"title\": {\"text\": \"Iterations\"}}, \"yaxis\": {\"anchor\": \"x\", \"domain\": [0.0, 1.0], \"title\": {\"text\": \"Loss\"}}},                        {\"responsive\": true}                    ).then(function(){\n",
       "                            \n",
       "var gd = document.getElementById('e306bf0d-b72e-42aa-a592-4be1541835e9');\n",
       "var x = new MutationObserver(function (mutations, observer) {{\n",
       "        var display = window.getComputedStyle(gd).display;\n",
       "        if (!display || display === 'none') {{\n",
       "            console.log([gd, 'removed!']);\n",
       "            Plotly.purge(gd);\n",
       "            observer.disconnect();\n",
       "        }}\n",
       "}});\n",
       "\n",
       "// Listen for the removal of the full notebook cells\n",
       "var notebookContainer = gd.closest('#notebook-container');\n",
       "if (notebookContainer) {{\n",
       "    x.observe(notebookContainer, {childList: true});\n",
       "}}\n",
       "\n",
       "// Listen for the clearing of the current output cell\n",
       "var outputEl = gd.closest('.output');\n",
       "if (outputEl) {{\n",
       "    x.observe(outputEl, {childList: true});\n",
       "}}\n",
       "\n",
       "                        })                };                });            </script>        </div>"
      ]
     },
     "metadata": {},
     "output_type": "display_data"
    }
   ],
   "source": [
    "eq = AC()\n",
    "model = CONFIG_AC\n",
    "solver = DeepPDESolver(model, eq)\n",
    "losses = list(solver.train(500))\n",
    "plot_loss(losses)"
   ]
  },
  {
   "cell_type": "code",
   "execution_count": 128,
   "id": "durable-saskatchewan",
   "metadata": {},
   "outputs": [],
   "source": [
    "from FBSDEs import FBSDESolver\n",
    "from pdes import FBSDE\n",
    "AC_MODEL_CONFIG = {\n",
    "    \"batch_size\": 128,\n",
    "    \"num_discretisation_steps\": 15,\n",
    "    \"hidden_dim\": 128,\n",
    "    \"learning_rate\": 5e-3,\n",
    "    \"lr_decay\": 0.99,\n",
    "    \"network_type\": \"MINI\",\n",
    "    \"optimiser\": \"Adam\"\n",
    "}\n",
    "model = AC_MODEL_CONFIG\n",
    "class AC(FBSDE):\n",
    "    def __init__(self):\n",
    "        super().__init__()\n",
    "        self.h = lambda X, Y, Z, t: Y - Y**3\n",
    "        \n",
    "        self.b = lambda X, t: 0.0*X\n",
    "        self.sigma = lambda X, t: torch.diag_embed(X*0+1)\n",
    "        \n",
    "        self.terminal_condition = lambda X: 1/(2+0.4*torch.sum(X**2, dim=-1, keepdims=True))\n",
    "        \n",
    "        self.var_dim = 20\n",
    "        self.terminal_time = 0.3   \n",
    "        self.init_sampling_func = lambda X: X*0\n",
    "        self.control_noise = 0.5"
   ]
  },
  {
   "cell_type": "code",
   "execution_count": 129,
   "id": "challenging-latvia",
   "metadata": {},
   "outputs": [],
   "source": [
    "eq_2 = AC()\n",
    "solver_2 = FBSDESolver(model, eq_2)\n",
    "num_samples=5\n",
    "Xs, _, ts = solver_2.simulate_processes(num_samples)\n",
    "final_test_values = 1/(2+0.4*np.sum(Xs[-1]**2, axis=-1, keepdims=True))"
   ]
  },
  {
   "cell_type": "code",
   "execution_count": 130,
   "id": "leading-vulnerability",
   "metadata": {},
   "outputs": [
    {
     "data": {
      "application/vnd.plotly.v1+json": {
       "config": {
        "plotlyServerURL": "https://plot.ly"
       },
       "data": [
        {
         "mode": "lines",
         "showlegend": false,
         "type": "scatter",
         "x": [
          0,
          0.02142857142857143,
          0.04285714285714286,
          0.06428571428571428,
          0.08571428571428572,
          0.10714285714285715,
          0.12857142857142856,
          0.15,
          0.17142857142857143,
          0.19285714285714287,
          0.2142857142857143,
          0.2357142857142857,
          0.2571428571428571,
          0.2785714285714286,
          0.3
         ],
         "xaxis": "x",
         "y": [
          0.31006792187690735,
          0.30909499526023865,
          0.30681532621383667,
          0.30250129103660583,
          0.30715590715408325,
          0.2930874824523926,
          0.2804889380931854,
          0.28503090143203735,
          0.2590489983558655,
          0.2597576379776001,
          0.2620863914489746,
          0.260051429271698,
          0.2521182894706726,
          0.2484441101551056,
          0.2658458948135376
         ],
         "yaxis": "y"
        },
        {
         "marker": {
          "color": "LightSkyBlue",
          "line": {
           "color": "MediumPurple",
           "width": 2
          },
          "size": 10
         },
         "mode": "markers",
         "showlegend": false,
         "type": "scatter",
         "x": [
          0.3,
          0.3,
          0.3,
          0.3,
          0.3
         ],
         "xaxis": "x",
         "y": [
          0.2670311450218358,
          0.2840662037531899,
          0.25148529364269256,
          0.1994310666083049,
          0.2889119949559795
         ],
         "yaxis": "y"
        },
        {
         "mode": "lines",
         "showlegend": false,
         "type": "scatter",
         "x": [
          0,
          0.02142857142857143,
          0.04285714285714286,
          0.06428571428571428,
          0.08571428571428572,
          0.10714285714285715,
          0.12857142857142856,
          0.15,
          0.17142857142857143,
          0.19285714285714287,
          0.2142857142857143,
          0.2357142857142857,
          0.2571428571428571,
          0.2785714285714286,
          0.3
         ],
         "xaxis": "x",
         "y": [
          0.31006792187690735,
          0.30280277132987976,
          0.29620012640953064,
          0.2766141891479492,
          0.27680739760398865,
          0.27633482217788696,
          0.28144004940986633,
          0.28795716166496277,
          0.30495119094848633,
          0.3017924129962921,
          0.2957592308521271,
          0.2887963652610779,
          0.29414424300193787,
          0.2883504331111908,
          0.27952587604522705
         ],
         "yaxis": "y"
        },
        {
         "marker": {
          "color": "LightSkyBlue",
          "line": {
           "color": "MediumPurple",
           "width": 2
          },
          "size": 10
         },
         "mode": "markers",
         "showlegend": false,
         "type": "scatter",
         "x": [
          0.3,
          0.3,
          0.3,
          0.3,
          0.3
         ],
         "xaxis": "x",
         "y": [
          0.2670311450218358,
          0.2840662037531899,
          0.25148529364269256,
          0.1994310666083049,
          0.2889119949559795
         ],
         "yaxis": "y"
        },
        {
         "mode": "lines",
         "showlegend": false,
         "type": "scatter",
         "x": [
          0,
          0.02142857142857143,
          0.04285714285714286,
          0.06428571428571428,
          0.08571428571428572,
          0.10714285714285715,
          0.12857142857142856,
          0.15,
          0.17142857142857143,
          0.19285714285714287,
          0.2142857142857143,
          0.2357142857142857,
          0.2571428571428571,
          0.2785714285714286,
          0.3
         ],
         "xaxis": "x",
         "y": [
          0.31006792187690735,
          0.3050169050693512,
          0.3026716411113739,
          0.30623170733451843,
          0.29755789041519165,
          0.2904694974422455,
          0.28941377997398376,
          0.2852030098438263,
          0.2638797461986542,
          0.27101531624794006,
          0.29198211431503296,
          0.29177460074424744,
          0.2825663685798645,
          0.2779408395290375,
          0.25180956721305847
         ],
         "yaxis": "y"
        },
        {
         "marker": {
          "color": "LightSkyBlue",
          "line": {
           "color": "MediumPurple",
           "width": 2
          },
          "size": 10
         },
         "mode": "markers",
         "showlegend": false,
         "type": "scatter",
         "x": [
          0.3,
          0.3,
          0.3,
          0.3,
          0.3
         ],
         "xaxis": "x",
         "y": [
          0.2670311450218358,
          0.2840662037531899,
          0.25148529364269256,
          0.1994310666083049,
          0.2889119949559795
         ],
         "yaxis": "y"
        },
        {
         "mode": "lines",
         "showlegend": false,
         "type": "scatter",
         "x": [
          0,
          0.02142857142857143,
          0.04285714285714286,
          0.06428571428571428,
          0.08571428571428572,
          0.10714285714285715,
          0.12857142857142856,
          0.15,
          0.17142857142857143,
          0.19285714285714287,
          0.2142857142857143,
          0.2357142857142857,
          0.2571428571428571,
          0.2785714285714286,
          0.3
         ],
         "xaxis": "x",
         "y": [
          0.31006792187690735,
          0.3067217171192169,
          0.30347901582717896,
          0.29689013957977295,
          0.2793391942977905,
          0.2711132764816284,
          0.26001274585723877,
          0.25234365463256836,
          0.24322760105133057,
          0.2454911470413208,
          0.22461043298244476,
          0.22166091203689575,
          0.20997370779514313,
          0.2120569348335266,
          0.20390184223651886
         ],
         "yaxis": "y"
        },
        {
         "marker": {
          "color": "LightSkyBlue",
          "line": {
           "color": "MediumPurple",
           "width": 2
          },
          "size": 10
         },
         "mode": "markers",
         "showlegend": false,
         "type": "scatter",
         "x": [
          0.3,
          0.3,
          0.3,
          0.3,
          0.3
         ],
         "xaxis": "x",
         "y": [
          0.2670311450218358,
          0.2840662037531899,
          0.25148529364269256,
          0.1994310666083049,
          0.2889119949559795
         ],
         "yaxis": "y"
        },
        {
         "mode": "lines",
         "showlegend": false,
         "type": "scatter",
         "x": [
          0,
          0.02142857142857143,
          0.04285714285714286,
          0.06428571428571428,
          0.08571428571428572,
          0.10714285714285715,
          0.12857142857142856,
          0.15,
          0.17142857142857143,
          0.19285714285714287,
          0.2142857142857143,
          0.2357142857142857,
          0.2571428571428571,
          0.2785714285714286,
          0.3
         ],
         "xaxis": "x",
         "y": [
          0.31006792187690735,
          0.30689457058906555,
          0.2987239956855774,
          0.3015362322330475,
          0.2949182689189911,
          0.2989020049571991,
          0.2966286838054657,
          0.2961956262588501,
          0.2949894666671753,
          0.29017874598503113,
          0.28892841935157776,
          0.28912436962127686,
          0.2912691831588745,
          0.2814955711364746,
          0.2773176431655884
         ],
         "yaxis": "y"
        },
        {
         "marker": {
          "color": "LightSkyBlue",
          "line": {
           "color": "MediumPurple",
           "width": 2
          },
          "size": 10
         },
         "mode": "markers",
         "showlegend": false,
         "type": "scatter",
         "x": [
          0.3,
          0.3,
          0.3,
          0.3,
          0.3
         ],
         "xaxis": "x",
         "y": [
          0.2670311450218358,
          0.2840662037531899,
          0.25148529364269256,
          0.1994310666083049,
          0.2889119949559795
         ],
         "yaxis": "y"
        },
        {
         "marker": {
          "color": "LightSkyBlue",
          "line": {
           "color": "MediumPurple",
           "width": 2
          },
          "size": 10
         },
         "mode": "markers",
         "showlegend": false,
         "type": "scatter",
         "x": [
          0
         ],
         "xaxis": "x",
         "y": [
          0.3083
         ],
         "yaxis": "y"
        }
       ],
       "layout": {
        "font": {
         "family": "Courier New, monospace",
         "size": 14
        },
        "template": {
         "data": {
          "bar": [
           {
            "error_x": {
             "color": "#2a3f5f"
            },
            "error_y": {
             "color": "#2a3f5f"
            },
            "marker": {
             "line": {
              "color": "#E5ECF6",
              "width": 0.5
             }
            },
            "type": "bar"
           }
          ],
          "barpolar": [
           {
            "marker": {
             "line": {
              "color": "#E5ECF6",
              "width": 0.5
             }
            },
            "type": "barpolar"
           }
          ],
          "carpet": [
           {
            "aaxis": {
             "endlinecolor": "#2a3f5f",
             "gridcolor": "white",
             "linecolor": "white",
             "minorgridcolor": "white",
             "startlinecolor": "#2a3f5f"
            },
            "baxis": {
             "endlinecolor": "#2a3f5f",
             "gridcolor": "white",
             "linecolor": "white",
             "minorgridcolor": "white",
             "startlinecolor": "#2a3f5f"
            },
            "type": "carpet"
           }
          ],
          "choropleth": [
           {
            "colorbar": {
             "outlinewidth": 0,
             "ticks": ""
            },
            "type": "choropleth"
           }
          ],
          "contour": [
           {
            "colorbar": {
             "outlinewidth": 0,
             "ticks": ""
            },
            "colorscale": [
             [
              0,
              "#0d0887"
             ],
             [
              0.1111111111111111,
              "#46039f"
             ],
             [
              0.2222222222222222,
              "#7201a8"
             ],
             [
              0.3333333333333333,
              "#9c179e"
             ],
             [
              0.4444444444444444,
              "#bd3786"
             ],
             [
              0.5555555555555556,
              "#d8576b"
             ],
             [
              0.6666666666666666,
              "#ed7953"
             ],
             [
              0.7777777777777778,
              "#fb9f3a"
             ],
             [
              0.8888888888888888,
              "#fdca26"
             ],
             [
              1,
              "#f0f921"
             ]
            ],
            "type": "contour"
           }
          ],
          "contourcarpet": [
           {
            "colorbar": {
             "outlinewidth": 0,
             "ticks": ""
            },
            "type": "contourcarpet"
           }
          ],
          "heatmap": [
           {
            "colorbar": {
             "outlinewidth": 0,
             "ticks": ""
            },
            "colorscale": [
             [
              0,
              "#0d0887"
             ],
             [
              0.1111111111111111,
              "#46039f"
             ],
             [
              0.2222222222222222,
              "#7201a8"
             ],
             [
              0.3333333333333333,
              "#9c179e"
             ],
             [
              0.4444444444444444,
              "#bd3786"
             ],
             [
              0.5555555555555556,
              "#d8576b"
             ],
             [
              0.6666666666666666,
              "#ed7953"
             ],
             [
              0.7777777777777778,
              "#fb9f3a"
             ],
             [
              0.8888888888888888,
              "#fdca26"
             ],
             [
              1,
              "#f0f921"
             ]
            ],
            "type": "heatmap"
           }
          ],
          "heatmapgl": [
           {
            "colorbar": {
             "outlinewidth": 0,
             "ticks": ""
            },
            "colorscale": [
             [
              0,
              "#0d0887"
             ],
             [
              0.1111111111111111,
              "#46039f"
             ],
             [
              0.2222222222222222,
              "#7201a8"
             ],
             [
              0.3333333333333333,
              "#9c179e"
             ],
             [
              0.4444444444444444,
              "#bd3786"
             ],
             [
              0.5555555555555556,
              "#d8576b"
             ],
             [
              0.6666666666666666,
              "#ed7953"
             ],
             [
              0.7777777777777778,
              "#fb9f3a"
             ],
             [
              0.8888888888888888,
              "#fdca26"
             ],
             [
              1,
              "#f0f921"
             ]
            ],
            "type": "heatmapgl"
           }
          ],
          "histogram": [
           {
            "marker": {
             "colorbar": {
              "outlinewidth": 0,
              "ticks": ""
             }
            },
            "type": "histogram"
           }
          ],
          "histogram2d": [
           {
            "colorbar": {
             "outlinewidth": 0,
             "ticks": ""
            },
            "colorscale": [
             [
              0,
              "#0d0887"
             ],
             [
              0.1111111111111111,
              "#46039f"
             ],
             [
              0.2222222222222222,
              "#7201a8"
             ],
             [
              0.3333333333333333,
              "#9c179e"
             ],
             [
              0.4444444444444444,
              "#bd3786"
             ],
             [
              0.5555555555555556,
              "#d8576b"
             ],
             [
              0.6666666666666666,
              "#ed7953"
             ],
             [
              0.7777777777777778,
              "#fb9f3a"
             ],
             [
              0.8888888888888888,
              "#fdca26"
             ],
             [
              1,
              "#f0f921"
             ]
            ],
            "type": "histogram2d"
           }
          ],
          "histogram2dcontour": [
           {
            "colorbar": {
             "outlinewidth": 0,
             "ticks": ""
            },
            "colorscale": [
             [
              0,
              "#0d0887"
             ],
             [
              0.1111111111111111,
              "#46039f"
             ],
             [
              0.2222222222222222,
              "#7201a8"
             ],
             [
              0.3333333333333333,
              "#9c179e"
             ],
             [
              0.4444444444444444,
              "#bd3786"
             ],
             [
              0.5555555555555556,
              "#d8576b"
             ],
             [
              0.6666666666666666,
              "#ed7953"
             ],
             [
              0.7777777777777778,
              "#fb9f3a"
             ],
             [
              0.8888888888888888,
              "#fdca26"
             ],
             [
              1,
              "#f0f921"
             ]
            ],
            "type": "histogram2dcontour"
           }
          ],
          "mesh3d": [
           {
            "colorbar": {
             "outlinewidth": 0,
             "ticks": ""
            },
            "type": "mesh3d"
           }
          ],
          "parcoords": [
           {
            "line": {
             "colorbar": {
              "outlinewidth": 0,
              "ticks": ""
             }
            },
            "type": "parcoords"
           }
          ],
          "pie": [
           {
            "automargin": true,
            "type": "pie"
           }
          ],
          "scatter": [
           {
            "marker": {
             "colorbar": {
              "outlinewidth": 0,
              "ticks": ""
             }
            },
            "type": "scatter"
           }
          ],
          "scatter3d": [
           {
            "line": {
             "colorbar": {
              "outlinewidth": 0,
              "ticks": ""
             }
            },
            "marker": {
             "colorbar": {
              "outlinewidth": 0,
              "ticks": ""
             }
            },
            "type": "scatter3d"
           }
          ],
          "scattercarpet": [
           {
            "marker": {
             "colorbar": {
              "outlinewidth": 0,
              "ticks": ""
             }
            },
            "type": "scattercarpet"
           }
          ],
          "scattergeo": [
           {
            "marker": {
             "colorbar": {
              "outlinewidth": 0,
              "ticks": ""
             }
            },
            "type": "scattergeo"
           }
          ],
          "scattergl": [
           {
            "marker": {
             "colorbar": {
              "outlinewidth": 0,
              "ticks": ""
             }
            },
            "type": "scattergl"
           }
          ],
          "scattermapbox": [
           {
            "marker": {
             "colorbar": {
              "outlinewidth": 0,
              "ticks": ""
             }
            },
            "type": "scattermapbox"
           }
          ],
          "scatterpolar": [
           {
            "marker": {
             "colorbar": {
              "outlinewidth": 0,
              "ticks": ""
             }
            },
            "type": "scatterpolar"
           }
          ],
          "scatterpolargl": [
           {
            "marker": {
             "colorbar": {
              "outlinewidth": 0,
              "ticks": ""
             }
            },
            "type": "scatterpolargl"
           }
          ],
          "scatterternary": [
           {
            "marker": {
             "colorbar": {
              "outlinewidth": 0,
              "ticks": ""
             }
            },
            "type": "scatterternary"
           }
          ],
          "surface": [
           {
            "colorbar": {
             "outlinewidth": 0,
             "ticks": ""
            },
            "colorscale": [
             [
              0,
              "#0d0887"
             ],
             [
              0.1111111111111111,
              "#46039f"
             ],
             [
              0.2222222222222222,
              "#7201a8"
             ],
             [
              0.3333333333333333,
              "#9c179e"
             ],
             [
              0.4444444444444444,
              "#bd3786"
             ],
             [
              0.5555555555555556,
              "#d8576b"
             ],
             [
              0.6666666666666666,
              "#ed7953"
             ],
             [
              0.7777777777777778,
              "#fb9f3a"
             ],
             [
              0.8888888888888888,
              "#fdca26"
             ],
             [
              1,
              "#f0f921"
             ]
            ],
            "type": "surface"
           }
          ],
          "table": [
           {
            "cells": {
             "fill": {
              "color": "#EBF0F8"
             },
             "line": {
              "color": "white"
             }
            },
            "header": {
             "fill": {
              "color": "#C8D4E3"
             },
             "line": {
              "color": "white"
             }
            },
            "type": "table"
           }
          ]
         },
         "layout": {
          "annotationdefaults": {
           "arrowcolor": "#2a3f5f",
           "arrowhead": 0,
           "arrowwidth": 1
          },
          "autotypenumbers": "strict",
          "coloraxis": {
           "colorbar": {
            "outlinewidth": 0,
            "ticks": ""
           }
          },
          "colorscale": {
           "diverging": [
            [
             0,
             "#8e0152"
            ],
            [
             0.1,
             "#c51b7d"
            ],
            [
             0.2,
             "#de77ae"
            ],
            [
             0.3,
             "#f1b6da"
            ],
            [
             0.4,
             "#fde0ef"
            ],
            [
             0.5,
             "#f7f7f7"
            ],
            [
             0.6,
             "#e6f5d0"
            ],
            [
             0.7,
             "#b8e186"
            ],
            [
             0.8,
             "#7fbc41"
            ],
            [
             0.9,
             "#4d9221"
            ],
            [
             1,
             "#276419"
            ]
           ],
           "sequential": [
            [
             0,
             "#0d0887"
            ],
            [
             0.1111111111111111,
             "#46039f"
            ],
            [
             0.2222222222222222,
             "#7201a8"
            ],
            [
             0.3333333333333333,
             "#9c179e"
            ],
            [
             0.4444444444444444,
             "#bd3786"
            ],
            [
             0.5555555555555556,
             "#d8576b"
            ],
            [
             0.6666666666666666,
             "#ed7953"
            ],
            [
             0.7777777777777778,
             "#fb9f3a"
            ],
            [
             0.8888888888888888,
             "#fdca26"
            ],
            [
             1,
             "#f0f921"
            ]
           ],
           "sequentialminus": [
            [
             0,
             "#0d0887"
            ],
            [
             0.1111111111111111,
             "#46039f"
            ],
            [
             0.2222222222222222,
             "#7201a8"
            ],
            [
             0.3333333333333333,
             "#9c179e"
            ],
            [
             0.4444444444444444,
             "#bd3786"
            ],
            [
             0.5555555555555556,
             "#d8576b"
            ],
            [
             0.6666666666666666,
             "#ed7953"
            ],
            [
             0.7777777777777778,
             "#fb9f3a"
            ],
            [
             0.8888888888888888,
             "#fdca26"
            ],
            [
             1,
             "#f0f921"
            ]
           ]
          },
          "colorway": [
           "#636efa",
           "#EF553B",
           "#00cc96",
           "#ab63fa",
           "#FFA15A",
           "#19d3f3",
           "#FF6692",
           "#B6E880",
           "#FF97FF",
           "#FECB52"
          ],
          "font": {
           "color": "#2a3f5f"
          },
          "geo": {
           "bgcolor": "white",
           "lakecolor": "white",
           "landcolor": "#E5ECF6",
           "showlakes": true,
           "showland": true,
           "subunitcolor": "white"
          },
          "hoverlabel": {
           "align": "left"
          },
          "hovermode": "closest",
          "mapbox": {
           "style": "light"
          },
          "paper_bgcolor": "white",
          "plot_bgcolor": "#E5ECF6",
          "polar": {
           "angularaxis": {
            "gridcolor": "white",
            "linecolor": "white",
            "ticks": ""
           },
           "bgcolor": "#E5ECF6",
           "radialaxis": {
            "gridcolor": "white",
            "linecolor": "white",
            "ticks": ""
           }
          },
          "scene": {
           "xaxis": {
            "backgroundcolor": "#E5ECF6",
            "gridcolor": "white",
            "gridwidth": 2,
            "linecolor": "white",
            "showbackground": true,
            "ticks": "",
            "zerolinecolor": "white"
           },
           "yaxis": {
            "backgroundcolor": "#E5ECF6",
            "gridcolor": "white",
            "gridwidth": 2,
            "linecolor": "white",
            "showbackground": true,
            "ticks": "",
            "zerolinecolor": "white"
           },
           "zaxis": {
            "backgroundcolor": "#E5ECF6",
            "gridcolor": "white",
            "gridwidth": 2,
            "linecolor": "white",
            "showbackground": true,
            "ticks": "",
            "zerolinecolor": "white"
           }
          },
          "shapedefaults": {
           "line": {
            "color": "#2a3f5f"
           }
          },
          "ternary": {
           "aaxis": {
            "gridcolor": "white",
            "linecolor": "white",
            "ticks": ""
           },
           "baxis": {
            "gridcolor": "white",
            "linecolor": "white",
            "ticks": ""
           },
           "bgcolor": "#E5ECF6",
           "caxis": {
            "gridcolor": "white",
            "linecolor": "white",
            "ticks": ""
           }
          },
          "title": {
           "x": 0.05
          },
          "xaxis": {
           "automargin": true,
           "gridcolor": "white",
           "linecolor": "white",
           "ticks": "",
           "title": {
            "standoff": 15
           },
           "zerolinecolor": "white",
           "zerolinewidth": 2
          },
          "yaxis": {
           "automargin": true,
           "gridcolor": "white",
           "linecolor": "white",
           "ticks": "",
           "title": {
            "standoff": 15
           },
           "zerolinecolor": "white",
           "zerolinewidth": 2
          }
         }
        },
        "title": {
         "text": "Allen-Cahn"
        },
        "xaxis": {
         "anchor": "y",
         "domain": [
          0,
          1
         ],
         "title": {
          "text": "Iterations"
         }
        },
        "yaxis": {
         "anchor": "x",
         "domain": [
          0,
          1
         ],
         "title": {
          "text": "Loss"
         }
        }
       }
      },
      "text/html": [
       "<div>                            <div id=\"f43473d0-d543-4973-80cb-e13590c4a226\" class=\"plotly-graph-div\" style=\"height:525px; width:100%;\"></div>            <script type=\"text/javascript\">                require([\"plotly\"], function(Plotly) {                    window.PLOTLYENV=window.PLOTLYENV || {};                                    if (document.getElementById(\"f43473d0-d543-4973-80cb-e13590c4a226\")) {                    Plotly.newPlot(                        \"f43473d0-d543-4973-80cb-e13590c4a226\",                        [{\"mode\": \"lines\", \"showlegend\": false, \"type\": \"scatter\", \"x\": [0.0, 0.02142857142857143, 0.04285714285714286, 0.06428571428571428, 0.08571428571428572, 0.10714285714285715, 0.12857142857142856, 0.15, 0.17142857142857143, 0.19285714285714287, 0.2142857142857143, 0.2357142857142857, 0.2571428571428571, 0.2785714285714286, 0.3], \"xaxis\": \"x\", \"y\": [0.31006792187690735, 0.30909499526023865, 0.30681532621383667, 0.30250129103660583, 0.30715590715408325, 0.2930874824523926, 0.2804889380931854, 0.28503090143203735, 0.2590489983558655, 0.2597576379776001, 0.2620863914489746, 0.260051429271698, 0.2521182894706726, 0.2484441101551056, 0.2658458948135376], \"yaxis\": \"y\"}, {\"marker\": {\"color\": \"LightSkyBlue\", \"line\": {\"color\": \"MediumPurple\", \"width\": 2}, \"size\": 10}, \"mode\": \"markers\", \"showlegend\": false, \"type\": \"scatter\", \"x\": [0.3, 0.3, 0.3, 0.3, 0.3], \"xaxis\": \"x\", \"y\": [0.2670311450218358, 0.2840662037531899, 0.25148529364269256, 0.1994310666083049, 0.2889119949559795], \"yaxis\": \"y\"}, {\"mode\": \"lines\", \"showlegend\": false, \"type\": \"scatter\", \"x\": [0.0, 0.02142857142857143, 0.04285714285714286, 0.06428571428571428, 0.08571428571428572, 0.10714285714285715, 0.12857142857142856, 0.15, 0.17142857142857143, 0.19285714285714287, 0.2142857142857143, 0.2357142857142857, 0.2571428571428571, 0.2785714285714286, 0.3], \"xaxis\": \"x\", \"y\": [0.31006792187690735, 0.30280277132987976, 0.29620012640953064, 0.2766141891479492, 0.27680739760398865, 0.27633482217788696, 0.28144004940986633, 0.28795716166496277, 0.30495119094848633, 0.3017924129962921, 0.2957592308521271, 0.2887963652610779, 0.29414424300193787, 0.2883504331111908, 0.27952587604522705], \"yaxis\": \"y\"}, {\"marker\": {\"color\": \"LightSkyBlue\", \"line\": {\"color\": \"MediumPurple\", \"width\": 2}, \"size\": 10}, \"mode\": \"markers\", \"showlegend\": false, \"type\": \"scatter\", \"x\": [0.3, 0.3, 0.3, 0.3, 0.3], \"xaxis\": \"x\", \"y\": [0.2670311450218358, 0.2840662037531899, 0.25148529364269256, 0.1994310666083049, 0.2889119949559795], \"yaxis\": \"y\"}, {\"mode\": \"lines\", \"showlegend\": false, \"type\": \"scatter\", \"x\": [0.0, 0.02142857142857143, 0.04285714285714286, 0.06428571428571428, 0.08571428571428572, 0.10714285714285715, 0.12857142857142856, 0.15, 0.17142857142857143, 0.19285714285714287, 0.2142857142857143, 0.2357142857142857, 0.2571428571428571, 0.2785714285714286, 0.3], \"xaxis\": \"x\", \"y\": [0.31006792187690735, 0.3050169050693512, 0.3026716411113739, 0.30623170733451843, 0.29755789041519165, 0.2904694974422455, 0.28941377997398376, 0.2852030098438263, 0.2638797461986542, 0.27101531624794006, 0.29198211431503296, 0.29177460074424744, 0.2825663685798645, 0.2779408395290375, 0.25180956721305847], \"yaxis\": \"y\"}, {\"marker\": {\"color\": \"LightSkyBlue\", \"line\": {\"color\": \"MediumPurple\", \"width\": 2}, \"size\": 10}, \"mode\": \"markers\", \"showlegend\": false, \"type\": \"scatter\", \"x\": [0.3, 0.3, 0.3, 0.3, 0.3], \"xaxis\": \"x\", \"y\": [0.2670311450218358, 0.2840662037531899, 0.25148529364269256, 0.1994310666083049, 0.2889119949559795], \"yaxis\": \"y\"}, {\"mode\": \"lines\", \"showlegend\": false, \"type\": \"scatter\", \"x\": [0.0, 0.02142857142857143, 0.04285714285714286, 0.06428571428571428, 0.08571428571428572, 0.10714285714285715, 0.12857142857142856, 0.15, 0.17142857142857143, 0.19285714285714287, 0.2142857142857143, 0.2357142857142857, 0.2571428571428571, 0.2785714285714286, 0.3], \"xaxis\": \"x\", \"y\": [0.31006792187690735, 0.3067217171192169, 0.30347901582717896, 0.29689013957977295, 0.2793391942977905, 0.2711132764816284, 0.26001274585723877, 0.25234365463256836, 0.24322760105133057, 0.2454911470413208, 0.22461043298244476, 0.22166091203689575, 0.20997370779514313, 0.2120569348335266, 0.20390184223651886], \"yaxis\": \"y\"}, {\"marker\": {\"color\": \"LightSkyBlue\", \"line\": {\"color\": \"MediumPurple\", \"width\": 2}, \"size\": 10}, \"mode\": \"markers\", \"showlegend\": false, \"type\": \"scatter\", \"x\": [0.3, 0.3, 0.3, 0.3, 0.3], \"xaxis\": \"x\", \"y\": [0.2670311450218358, 0.2840662037531899, 0.25148529364269256, 0.1994310666083049, 0.2889119949559795], \"yaxis\": \"y\"}, {\"mode\": \"lines\", \"showlegend\": false, \"type\": \"scatter\", \"x\": [0.0, 0.02142857142857143, 0.04285714285714286, 0.06428571428571428, 0.08571428571428572, 0.10714285714285715, 0.12857142857142856, 0.15, 0.17142857142857143, 0.19285714285714287, 0.2142857142857143, 0.2357142857142857, 0.2571428571428571, 0.2785714285714286, 0.3], \"xaxis\": \"x\", \"y\": [0.31006792187690735, 0.30689457058906555, 0.2987239956855774, 0.3015362322330475, 0.2949182689189911, 0.2989020049571991, 0.2966286838054657, 0.2961956262588501, 0.2949894666671753, 0.29017874598503113, 0.28892841935157776, 0.28912436962127686, 0.2912691831588745, 0.2814955711364746, 0.2773176431655884], \"yaxis\": \"y\"}, {\"marker\": {\"color\": \"LightSkyBlue\", \"line\": {\"color\": \"MediumPurple\", \"width\": 2}, \"size\": 10}, \"mode\": \"markers\", \"showlegend\": false, \"type\": \"scatter\", \"x\": [0.3, 0.3, 0.3, 0.3, 0.3], \"xaxis\": \"x\", \"y\": [0.2670311450218358, 0.2840662037531899, 0.25148529364269256, 0.1994310666083049, 0.2889119949559795], \"yaxis\": \"y\"}, {\"marker\": {\"color\": \"LightSkyBlue\", \"line\": {\"color\": \"MediumPurple\", \"width\": 2}, \"size\": 10}, \"mode\": \"markers\", \"showlegend\": false, \"type\": \"scatter\", \"x\": [0.0], \"xaxis\": \"x\", \"y\": [0.3083], \"yaxis\": \"y\"}],                        {\"font\": {\"family\": \"Courier New, monospace\", \"size\": 14}, \"template\": {\"data\": {\"bar\": [{\"error_x\": {\"color\": \"#2a3f5f\"}, \"error_y\": {\"color\": \"#2a3f5f\"}, \"marker\": {\"line\": {\"color\": \"#E5ECF6\", \"width\": 0.5}}, \"type\": \"bar\"}], \"barpolar\": [{\"marker\": {\"line\": {\"color\": \"#E5ECF6\", \"width\": 0.5}}, \"type\": \"barpolar\"}], \"carpet\": [{\"aaxis\": {\"endlinecolor\": \"#2a3f5f\", \"gridcolor\": \"white\", \"linecolor\": \"white\", \"minorgridcolor\": \"white\", \"startlinecolor\": \"#2a3f5f\"}, \"baxis\": {\"endlinecolor\": \"#2a3f5f\", \"gridcolor\": \"white\", \"linecolor\": \"white\", \"minorgridcolor\": \"white\", \"startlinecolor\": \"#2a3f5f\"}, \"type\": \"carpet\"}], \"choropleth\": [{\"colorbar\": {\"outlinewidth\": 0, \"ticks\": \"\"}, \"type\": \"choropleth\"}], \"contour\": [{\"colorbar\": {\"outlinewidth\": 0, \"ticks\": \"\"}, \"colorscale\": [[0.0, \"#0d0887\"], [0.1111111111111111, \"#46039f\"], [0.2222222222222222, \"#7201a8\"], [0.3333333333333333, \"#9c179e\"], [0.4444444444444444, \"#bd3786\"], [0.5555555555555556, \"#d8576b\"], [0.6666666666666666, \"#ed7953\"], [0.7777777777777778, \"#fb9f3a\"], [0.8888888888888888, \"#fdca26\"], [1.0, \"#f0f921\"]], \"type\": \"contour\"}], \"contourcarpet\": [{\"colorbar\": {\"outlinewidth\": 0, \"ticks\": \"\"}, \"type\": \"contourcarpet\"}], \"heatmap\": [{\"colorbar\": {\"outlinewidth\": 0, \"ticks\": \"\"}, \"colorscale\": [[0.0, \"#0d0887\"], [0.1111111111111111, \"#46039f\"], [0.2222222222222222, \"#7201a8\"], [0.3333333333333333, \"#9c179e\"], [0.4444444444444444, \"#bd3786\"], [0.5555555555555556, \"#d8576b\"], [0.6666666666666666, \"#ed7953\"], [0.7777777777777778, \"#fb9f3a\"], [0.8888888888888888, \"#fdca26\"], [1.0, \"#f0f921\"]], \"type\": \"heatmap\"}], \"heatmapgl\": [{\"colorbar\": {\"outlinewidth\": 0, \"ticks\": \"\"}, \"colorscale\": [[0.0, \"#0d0887\"], [0.1111111111111111, \"#46039f\"], [0.2222222222222222, \"#7201a8\"], [0.3333333333333333, \"#9c179e\"], [0.4444444444444444, \"#bd3786\"], [0.5555555555555556, \"#d8576b\"], [0.6666666666666666, \"#ed7953\"], [0.7777777777777778, \"#fb9f3a\"], [0.8888888888888888, \"#fdca26\"], [1.0, \"#f0f921\"]], \"type\": \"heatmapgl\"}], \"histogram\": [{\"marker\": {\"colorbar\": {\"outlinewidth\": 0, \"ticks\": \"\"}}, \"type\": \"histogram\"}], \"histogram2d\": [{\"colorbar\": {\"outlinewidth\": 0, \"ticks\": \"\"}, \"colorscale\": [[0.0, \"#0d0887\"], [0.1111111111111111, \"#46039f\"], [0.2222222222222222, \"#7201a8\"], [0.3333333333333333, \"#9c179e\"], [0.4444444444444444, \"#bd3786\"], [0.5555555555555556, \"#d8576b\"], [0.6666666666666666, \"#ed7953\"], [0.7777777777777778, \"#fb9f3a\"], [0.8888888888888888, \"#fdca26\"], [1.0, \"#f0f921\"]], \"type\": \"histogram2d\"}], \"histogram2dcontour\": [{\"colorbar\": {\"outlinewidth\": 0, \"ticks\": \"\"}, \"colorscale\": [[0.0, \"#0d0887\"], [0.1111111111111111, \"#46039f\"], [0.2222222222222222, \"#7201a8\"], [0.3333333333333333, \"#9c179e\"], [0.4444444444444444, \"#bd3786\"], [0.5555555555555556, \"#d8576b\"], [0.6666666666666666, \"#ed7953\"], [0.7777777777777778, \"#fb9f3a\"], [0.8888888888888888, \"#fdca26\"], [1.0, \"#f0f921\"]], \"type\": \"histogram2dcontour\"}], \"mesh3d\": [{\"colorbar\": {\"outlinewidth\": 0, \"ticks\": \"\"}, \"type\": \"mesh3d\"}], \"parcoords\": [{\"line\": {\"colorbar\": {\"outlinewidth\": 0, \"ticks\": \"\"}}, \"type\": \"parcoords\"}], \"pie\": [{\"automargin\": true, \"type\": \"pie\"}], \"scatter\": [{\"marker\": {\"colorbar\": {\"outlinewidth\": 0, \"ticks\": \"\"}}, \"type\": \"scatter\"}], \"scatter3d\": [{\"line\": {\"colorbar\": {\"outlinewidth\": 0, \"ticks\": \"\"}}, \"marker\": {\"colorbar\": {\"outlinewidth\": 0, \"ticks\": \"\"}}, \"type\": \"scatter3d\"}], \"scattercarpet\": [{\"marker\": {\"colorbar\": {\"outlinewidth\": 0, \"ticks\": \"\"}}, \"type\": \"scattercarpet\"}], \"scattergeo\": [{\"marker\": {\"colorbar\": {\"outlinewidth\": 0, \"ticks\": \"\"}}, \"type\": \"scattergeo\"}], \"scattergl\": [{\"marker\": {\"colorbar\": {\"outlinewidth\": 0, \"ticks\": \"\"}}, \"type\": \"scattergl\"}], \"scattermapbox\": [{\"marker\": {\"colorbar\": {\"outlinewidth\": 0, \"ticks\": \"\"}}, \"type\": \"scattermapbox\"}], \"scatterpolar\": [{\"marker\": {\"colorbar\": {\"outlinewidth\": 0, \"ticks\": \"\"}}, \"type\": \"scatterpolar\"}], \"scatterpolargl\": [{\"marker\": {\"colorbar\": {\"outlinewidth\": 0, \"ticks\": \"\"}}, \"type\": \"scatterpolargl\"}], \"scatterternary\": [{\"marker\": {\"colorbar\": {\"outlinewidth\": 0, \"ticks\": \"\"}}, \"type\": \"scatterternary\"}], \"surface\": [{\"colorbar\": {\"outlinewidth\": 0, \"ticks\": \"\"}, \"colorscale\": [[0.0, \"#0d0887\"], [0.1111111111111111, \"#46039f\"], [0.2222222222222222, \"#7201a8\"], [0.3333333333333333, \"#9c179e\"], [0.4444444444444444, \"#bd3786\"], [0.5555555555555556, \"#d8576b\"], [0.6666666666666666, \"#ed7953\"], [0.7777777777777778, \"#fb9f3a\"], [0.8888888888888888, \"#fdca26\"], [1.0, \"#f0f921\"]], \"type\": \"surface\"}], \"table\": [{\"cells\": {\"fill\": {\"color\": \"#EBF0F8\"}, \"line\": {\"color\": \"white\"}}, \"header\": {\"fill\": {\"color\": \"#C8D4E3\"}, \"line\": {\"color\": \"white\"}}, \"type\": \"table\"}]}, \"layout\": {\"annotationdefaults\": {\"arrowcolor\": \"#2a3f5f\", \"arrowhead\": 0, \"arrowwidth\": 1}, \"autotypenumbers\": \"strict\", \"coloraxis\": {\"colorbar\": {\"outlinewidth\": 0, \"ticks\": \"\"}}, \"colorscale\": {\"diverging\": [[0, \"#8e0152\"], [0.1, \"#c51b7d\"], [0.2, \"#de77ae\"], [0.3, \"#f1b6da\"], [0.4, \"#fde0ef\"], [0.5, \"#f7f7f7\"], [0.6, \"#e6f5d0\"], [0.7, \"#b8e186\"], [0.8, \"#7fbc41\"], [0.9, \"#4d9221\"], [1, \"#276419\"]], \"sequential\": [[0.0, \"#0d0887\"], [0.1111111111111111, \"#46039f\"], [0.2222222222222222, \"#7201a8\"], [0.3333333333333333, \"#9c179e\"], [0.4444444444444444, \"#bd3786\"], [0.5555555555555556, \"#d8576b\"], [0.6666666666666666, \"#ed7953\"], [0.7777777777777778, \"#fb9f3a\"], [0.8888888888888888, \"#fdca26\"], [1.0, \"#f0f921\"]], \"sequentialminus\": [[0.0, \"#0d0887\"], [0.1111111111111111, \"#46039f\"], [0.2222222222222222, \"#7201a8\"], [0.3333333333333333, \"#9c179e\"], [0.4444444444444444, \"#bd3786\"], [0.5555555555555556, \"#d8576b\"], [0.6666666666666666, \"#ed7953\"], [0.7777777777777778, \"#fb9f3a\"], [0.8888888888888888, \"#fdca26\"], [1.0, \"#f0f921\"]]}, \"colorway\": [\"#636efa\", \"#EF553B\", \"#00cc96\", \"#ab63fa\", \"#FFA15A\", \"#19d3f3\", \"#FF6692\", \"#B6E880\", \"#FF97FF\", \"#FECB52\"], \"font\": {\"color\": \"#2a3f5f\"}, \"geo\": {\"bgcolor\": \"white\", \"lakecolor\": \"white\", \"landcolor\": \"#E5ECF6\", \"showlakes\": true, \"showland\": true, \"subunitcolor\": \"white\"}, \"hoverlabel\": {\"align\": \"left\"}, \"hovermode\": \"closest\", \"mapbox\": {\"style\": \"light\"}, \"paper_bgcolor\": \"white\", \"plot_bgcolor\": \"#E5ECF6\", \"polar\": {\"angularaxis\": {\"gridcolor\": \"white\", \"linecolor\": \"white\", \"ticks\": \"\"}, \"bgcolor\": \"#E5ECF6\", \"radialaxis\": {\"gridcolor\": \"white\", \"linecolor\": \"white\", \"ticks\": \"\"}}, \"scene\": {\"xaxis\": {\"backgroundcolor\": \"#E5ECF6\", \"gridcolor\": \"white\", \"gridwidth\": 2, \"linecolor\": \"white\", \"showbackground\": true, \"ticks\": \"\", \"zerolinecolor\": \"white\"}, \"yaxis\": {\"backgroundcolor\": \"#E5ECF6\", \"gridcolor\": \"white\", \"gridwidth\": 2, \"linecolor\": \"white\", \"showbackground\": true, \"ticks\": \"\", \"zerolinecolor\": \"white\"}, \"zaxis\": {\"backgroundcolor\": \"#E5ECF6\", \"gridcolor\": \"white\", \"gridwidth\": 2, \"linecolor\": \"white\", \"showbackground\": true, \"ticks\": \"\", \"zerolinecolor\": \"white\"}}, \"shapedefaults\": {\"line\": {\"color\": \"#2a3f5f\"}}, \"ternary\": {\"aaxis\": {\"gridcolor\": \"white\", \"linecolor\": \"white\", \"ticks\": \"\"}, \"baxis\": {\"gridcolor\": \"white\", \"linecolor\": \"white\", \"ticks\": \"\"}, \"bgcolor\": \"#E5ECF6\", \"caxis\": {\"gridcolor\": \"white\", \"linecolor\": \"white\", \"ticks\": \"\"}}, \"title\": {\"x\": 0.05}, \"xaxis\": {\"automargin\": true, \"gridcolor\": \"white\", \"linecolor\": \"white\", \"ticks\": \"\", \"title\": {\"standoff\": 15}, \"zerolinecolor\": \"white\", \"zerolinewidth\": 2}, \"yaxis\": {\"automargin\": true, \"gridcolor\": \"white\", \"linecolor\": \"white\", \"ticks\": \"\", \"title\": {\"standoff\": 15}, \"zerolinecolor\": \"white\", \"zerolinewidth\": 2}}}, \"title\": {\"text\": \"Allen-Cahn\"}, \"xaxis\": {\"anchor\": \"y\", \"domain\": [0.0, 1.0], \"title\": {\"text\": \"Iterations\"}}, \"yaxis\": {\"anchor\": \"x\", \"domain\": [0.0, 1.0], \"title\": {\"text\": \"Loss\"}}},                        {\"responsive\": true}                    ).then(function(){\n",
       "                            \n",
       "var gd = document.getElementById('f43473d0-d543-4973-80cb-e13590c4a226');\n",
       "var x = new MutationObserver(function (mutations, observer) {{\n",
       "        var display = window.getComputedStyle(gd).display;\n",
       "        if (!display || display === 'none') {{\n",
       "            console.log([gd, 'removed!']);\n",
       "            Plotly.purge(gd);\n",
       "            observer.disconnect();\n",
       "        }}\n",
       "}});\n",
       "\n",
       "// Listen for the removal of the full notebook cells\n",
       "var notebookContainer = gd.closest('#notebook-container');\n",
       "if (notebookContainer) {{\n",
       "    x.observe(notebookContainer, {childList: true});\n",
       "}}\n",
       "\n",
       "// Listen for the clearing of the current output cell\n",
       "var outputEl = gd.closest('.output');\n",
       "if (outputEl) {{\n",
       "    x.observe(outputEl, {childList: true});\n",
       "}}\n",
       "\n",
       "                        })                };                });            </script>        </div>"
      ]
     },
     "metadata": {},
     "output_type": "display_data"
    }
   ],
   "source": [
    "ts = np.linspace(0, 0.3, 15)\n",
    "fig = make_subplots(rows=1, cols=1)\n",
    "for j in range(0, num_samples):\n",
    "    xs = np.array([solver.u(*(Xs[i, j]), ts[i]).item() for i in range(15)])\n",
    "    fig.add_trace(go.Scatter(x=ts, y=xs, mode='lines', showlegend=False), row=1, col=1)\n",
    "    fig.add_trace(go.Scatter(x=[0.3]*num_samples, y=final_test_values.flatten(), mode='markers', showlegend=False, marker=dict(\n",
    "            color='LightSkyBlue',\n",
    "            size=10,\n",
    "            line=dict(\n",
    "                color='MediumPurple',\n",
    "                width=2\n",
    "            )\n",
    "        )), row=1, col=1)\n",
    "fig.add_trace(go.Scatter(x=[0.0], y=[0.3083], mode='markers', showlegend=False, marker=dict(\n",
    "            color='LightSkyBlue',\n",
    "            size=10,\n",
    "            line=dict(\n",
    "                color='MediumPurple',\n",
    "                width=2\n",
    "            )\n",
    "        )), row=1, col=1)\n",
    "fig.update_layout(\n",
    "    title=\"Allen-Cahn\",\n",
    "    xaxis_title=\"Iterations\",\n",
    "    yaxis_title=\"Loss\",\n",
    "    font=dict(\n",
    "        family=\"Courier New, monospace\",\n",
    "        size=14\n",
    "    )\n",
    ")\n",
    "fig.show()"
   ]
  },
  {
   "cell_type": "code",
   "execution_count": null,
   "id": "downtown-belfast",
   "metadata": {},
   "outputs": [],
   "source": []
  }
 ],
 "metadata": {
  "kernelspec": {
   "display_name": "Python 3",
   "language": "python",
   "name": "python3"
  },
  "language_info": {
   "codemirror_mode": {
    "name": "ipython",
    "version": 3
   },
   "file_extension": ".py",
   "mimetype": "text/x-python",
   "name": "python",
   "nbconvert_exporter": "python",
   "pygments_lexer": "ipython3",
   "version": "3.8.5"
  }
 },
 "nbformat": 4,
 "nbformat_minor": 5
}
