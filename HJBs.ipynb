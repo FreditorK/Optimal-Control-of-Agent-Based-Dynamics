{
 "cells": [
  {
   "cell_type": "markdown",
   "id": "handed-mathematics",
   "metadata": {},
   "source": [
    "# Solving Hamilton-Jacobi-Bellman Equations (Deep Galerkin)\n",
    "#### Frederik Kelbel, Imperial College London"
   ]
  },
  {
   "cell_type": "markdown",
   "id": "scheduled-glenn",
   "metadata": {},
   "source": [
    "## Dependencies"
   ]
  },
  {
   "cell_type": "code",
   "execution_count": 1,
   "id": "caring-nylon",
   "metadata": {},
   "outputs": [],
   "source": [
    "import torch\n",
    "import plotly.graph_objects as go\n",
    "import numpy as np\n",
    "from operators import div, Δ, D, mdotb, bdotm, mdotm, bdotb\n",
    "from DGM import DGMPIASolver, DeepPDESolver\n",
    "from pdes import HBJ, PDE\n",
    "from scipy.integrate import quad\n",
    "from plotly.subplots import make_subplots\n",
    "from configs import CONFIG_HBJS as MODEL_CONFIG\n",
    "from itertools import product"
   ]
  },
  {
   "cell_type": "markdown",
   "id": "dense-programmer",
   "metadata": {},
   "source": [
    "## Plotting"
   ]
  },
  {
   "cell_type": "code",
   "execution_count": 2,
   "id": "coordinate-exception",
   "metadata": {},
   "outputs": [],
   "source": [
    "def plot_losses(losses, avg_over=10):\n",
    "    avgs_1 = np.convolve(losses[:, 0], np.ones(avg_over), 'valid') / avg_over\n",
    "    avgs_2 = np.convolve(losses[:, 1], np.ones(avg_over), 'valid') / avg_over\n",
    "    fig = make_subplots(rows=1, cols=1)\n",
    "    fig.add_trace(go.Scatter(x=np.arange(len(avgs_1)), y=avgs_1, mode='lines', name=\"Value Loss\"), row=1, col=1)\n",
    "    fig.add_trace(go.Scatter(x=np.arange(len(avgs_2)), y=avgs_2, mode='lines', name=\"Control Loss\"), row=1, col=1)\n",
    "    fig.update_layout(\n",
    "        title=\"Loss\",\n",
    "        xaxis_title=\"Iterations\",\n",
    "        yaxis_title=\"Loss\",\n",
    "        font=dict(\n",
    "            family=\"Courier New, monospace\",\n",
    "            size=14\n",
    "        )\n",
    "    )\n",
    "    fig.show()\n",
    "    \n",
    "def plot_value(solver, sol):\n",
    "    fig = make_subplots(rows=1, cols=2, \n",
    "                   specs=[[{'type': 'surface'}, {'type': 'surface'}]])\n",
    "    xs = np.linspace(0, 1, 100)\n",
    "    ts = np.linspace(0.01, 1, 100)\n",
    "    us_pred = np.array([[solver(x, t).item() for x in xs] for t in ts])\n",
    "    us = np.array([[sol(x, t) for x in xs] for t in ts])\n",
    "    fig.add_trace(go.Surface(z=us, showscale=False), row=1, col=1)\n",
    "    fig.add_trace(go.Surface(z=us_pred), row=1, col=2)\n",
    "    fig.update_layout(title='Solution | Approximation',\n",
    "                  scene = dict(\n",
    "                    xaxis_title=\"t\",\n",
    "                    yaxis_title=\"x\",\n",
    "                    zaxis_title=\"J(x, t\"),\n",
    "                  scene2 = dict(\n",
    "                    xaxis_title=\"t\",\n",
    "                    yaxis_title=\"x\",\n",
    "                    zaxis_title=\"J(x, t)\"),\n",
    "                  margin=dict(l=50, r=50, b=50, t=50))\n",
    "    fig.show()"
   ]
  },
  {
   "cell_type": "markdown",
   "id": "mediterranean-samuel",
   "metadata": {},
   "source": [
    "## Problem Formulation"
   ]
  },
  {
   "cell_type": "markdown",
   "id": "intelligent-hepatitis",
   "metadata": {},
   "source": [
    "Objective: Find the control process $u = (u_t)_{t \\geq 0}$ in admissable set $\\mathcal{A}$ for an Itô Process $X^u = (X_t^u)_{t \\geq 0}$ satisfying:\n"
   ]
  },
  {
   "cell_type": "markdown",
   "id": "competitive-standing",
   "metadata": {},
   "source": [
    "$$\n",
    "d X_t^u = \\mu(t, X_t^u, u_t) dt + \\sigma(t, X_t^u, u_t) d W_t, \\quad X_0^u = 0.\n",
    "$$"
   ]
  },
  {
   "cell_type": "markdown",
   "id": "close-southeast",
   "metadata": {},
   "source": [
    "We will consider the HBJ-Equations in their primal form."
   ]
  },
  {
   "cell_type": "markdown",
   "id": "superb-undergraduate",
   "metadata": {},
   "source": [
    "The agents performance is assessed via:\n",
    "$$\n",
    "J^u(t, x) = \\mathbb{E}\\Big[ \\int_t^T F(s, X_s^u, u_s) ds + G(X_T^u) \\;\\Big|\\; X_t^u = x \\Big]\n",
    "$$"
   ]
  },
  {
   "cell_type": "markdown",
   "id": "civil-airport",
   "metadata": {},
   "source": [
    "Denote $J(t, x) = \\sup_{u \\in \\mathcal{A}} J^u(t, x)$, then this value function satisfies the following HJB-equations:"
   ]
  },
  {
   "cell_type": "markdown",
   "id": "serial-drain",
   "metadata": {},
   "source": [
    "$$\n",
    "\\begin{cases}\n",
    "\\partial_t J(t, x) + \\sup_{u \\in \\mathcal{A}} \\{\\mathscr{L}^u_t J(t, x) + F(t, x, u)\\} = 0 \\\\\n",
    "J(T, x) = G(x)\n",
    "\\end{cases}\n",
    "$$"
   ]
  },
  {
   "cell_type": "markdown",
   "id": "entertaining-muscle",
   "metadata": {},
   "source": [
    "### The Merton Problem (Wealth Allocation Problem)"
   ]
  },
  {
   "cell_type": "markdown",
   "id": "sapphire-involvement",
   "metadata": {},
   "source": [
    "The goal is to find the optimal wealth allocation strategy over time such that the wealth itself is maximized."
   ]
  },
  {
   "cell_type": "markdown",
   "id": "caring-iceland",
   "metadata": {},
   "source": [
    "Consider a market with a risky and risk-free asset. Suppose the value of the risk-free asset at time $t$ is given by $\\frac{d B_t}{B_t} = r dt$ or $B_t = B_0 e^{rt}, t\\geq 0$. Additionally, we have that the risky asset evolves accordingly to $\\frac{d S_t}{S_t} = \\mu dt + \\sigma dW_t$, where $\\{W_t\\}_{t\\geq 0}$ is a standard one-dimensional Brownian motion."
   ]
  },
  {
   "cell_type": "markdown",
   "id": "expressed-shipping",
   "metadata": {},
   "source": [
    "The wealth can then be described by\n",
    "$$\n",
    "X_t= x + \\int_0^t v_s \\frac{dS_s}{S_s} + \\int_0^t(X_s-v_s)\\frac{dB_s}{B_s},\n",
    "$$\n",
    "where $v_t = u_t X_t$ describes the amount of the wealth to be have invested into the risky asset at time $t$. $u_t$ is the fraction of wealth invested in the risky asset."
   ]
  },
  {
   "cell_type": "markdown",
   "id": "requested-heath",
   "metadata": {},
   "source": [
    "Let $(\\Omega, \\mathcal{F}, \\{\\mathcal{F}_t\\}_{t\\in [0, T]}, \\mathbb{P})$ be a filtered probability space. The evolution of an investor's wealth is described via\n",
    "$$\n",
    "\\begin{cases}\n",
    "dX_s = ((\\mu -r)u_s + r)X_s ds + \\sigma u_s X_s dW_s, \\; s \\in [0, T] \\\\\n",
    "X_0 = x > 0\n",
    "\\end{cases},\n",
    "$$"
   ]
  },
  {
   "cell_type": "markdown",
   "id": "beautiful-barbados",
   "metadata": {},
   "source": [
    "with $\\mu>r$ and $\\sigma>0$ referring to drift and volatility, respectively. Let $r>0$ denote the discount rate, i.e. the depreciation constant. The intent is to maximise the objective\n",
    "$$\n",
    "J^u(t, X_t) = \\mathbb{E}[ X_T^\\gamma ], \\; \\gamma \\in(0, 1).\n",
    "$$"
   ]
  },
  {
   "cell_type": "markdown",
   "id": "thick-closing",
   "metadata": {},
   "source": [
    "The respective HBJ-equation becomes:"
   ]
  },
  {
   "cell_type": "markdown",
   "id": "severe-theology",
   "metadata": {},
   "source": [
    "$$\n",
    "\\begin{cases}\n",
    "\\partial_t J(t, x) + \\sup_{u} \\Big\\{ ((\\mu-r)u + r)x \\partial_x J(t, x) + \\frac{1}{2} \\sigma^2 u^2 x^2\\partial_{xx} J(t, x) \\Big\\} = 0 \\text{ on $[0, T] \\times (0, \\infty)$}\n",
    "\\\\\n",
    "J(T, x) = x^\\gamma \\text{ $\\forall x > 0$}\n",
    "\\end{cases}\n",
    "$$"
   ]
  },
  {
   "cell_type": "markdown",
   "id": "exotic-truck",
   "metadata": {},
   "source": [
    "#### Analytical Solution (Oksendal):"
   ]
  },
  {
   "cell_type": "markdown",
   "id": "interesting-receipt",
   "metadata": {},
   "source": [
    "Assume $J(t, x) = w(t) v(x)$, with $J(T, x) = w(T) v(x) = x^\\gamma$. We guess $J(t, x) = w(t) x^\\gamma$, where $w(T)=1$. The problem becomes \n",
    "$$\n",
    "\\begin{cases}\n",
    "w'(t) + \\gamma  \\sup_{u} \\Big\\{ (\\mu-r) u + r + \\frac{1}{2} \\sigma^2 u^2 (\\gamma-1) \\Big\\}w(t) = 0\n",
    "\\\\\n",
    "w(T) = x^\\gamma\n",
    "\\end{cases}.\n",
    "$$"
   ]
  },
  {
   "cell_type": "markdown",
   "id": "devoted-architect",
   "metadata": {},
   "source": [
    "Then, $u$ is maximised for $u^* = \\frac{\\mu-r}{\\sigma^2 (1-\\gamma)}$ and the equation becomes\n",
    "$$\n",
    "\\begin{cases}\n",
    "w'(t) + \\frac{\\gamma (\\mu-r)^2}{\\sigma^2(2-2\\gamma)}w(t) = 0\n",
    "\\\\\n",
    "w(T) = x^\\gamma\n",
    "\\end{cases}.\n",
    "$$\n",
    "Thus, we have  $w'(t) = \\frac{\\gamma (\\mu-r)^2}{\\sigma^2(2\\gamma - 2)}w(t)$. It follows that $w(t) = \\exp\\big(\\frac{\\gamma (\\mu-r)^2}{\\sigma^2(2\\gamma - 2)}t\\big)$. The final solution is:\n",
    "$$\n",
    "J(t, x) = w(t)v(x) = \\exp\\big(\\frac{\\gamma (\\mu-r)^2}{\\sigma^2(2\\gamma - 2)}t\\big) x^\\gamma.\n",
    "$$"
   ]
  },
  {
   "cell_type": "markdown",
   "id": "comprehensive-junction",
   "metadata": {},
   "source": [
    "We need to verify this using the HBJ-verification theorem."
   ]
  },
  {
   "cell_type": "code",
   "execution_count": null,
   "id": "revolutionary-manor",
   "metadata": {},
   "outputs": [],
   "source": [
    "class RISKY_ASSET(HBJ):\n",
    "    def __init__(self):\n",
    "        super().__init__()\n",
    "        self.μ = 0.04\n",
    "        self.σ = 0.4\n",
    "        self.r = 0.03\n",
    "        self.γ = 0.8\n",
    "        \n",
    "        self.var_dim_J = 2 # (x, t)\n",
    "        self.control_vars = [1] # (t)\n",
    "        self.cost_function = lambda u, var: 0\n",
    "        self.differential_operator = lambda J, u, var: ((self.μ-self.r)*u+self.r)*var[0]*div(J, var[0]) + 0.5*self.σ**2*u**2*var[0]**2*Δ(J, var[0])\n",
    "        self.domain_func = [(lambda var: var, 128)]\n",
    "        self.boundary_cond_J = [lambda J, var: J - var[0]**self.γ]\n",
    "        self.boundary_func_J = [(lambda var: [var[0], 0*var[1] + 1], 128)]\n",
    "        self.boundary_cond_u = [lambda u, var: torch.clamp(u, min=1) - torch.clamp(u, max=-1) - 2]\n",
    "        self.boundary_func_u = [(lambda var: var, 64)]"
   ]
  },
  {
   "cell_type": "code",
   "execution_count": null,
   "id": "popular-research",
   "metadata": {},
   "outputs": [],
   "source": [
    "eq = RISKY_ASSET()\n",
    "model = MODEL_CONFIG\n",
    "solver = DGMPIASolver(model, eq)\n",
    "loss = np.array(list(solver.train(800)))\n",
    "plot_losses(loss)"
   ]
  },
  {
   "cell_type": "code",
   "execution_count": null,
   "id": "unsigned-corruption",
   "metadata": {},
   "outputs": [],
   "source": [
    "u_sol = lambda t : (eq.μ-eq.r)/(eq.σ**2*(1-eq.γ))\n",
    "J_sol = lambda x, t: x**eq.γ * np.exp((eq.γ*(eq.μ-eq.r)**2)/(eq.σ**2*(2*eq.γ-2))*t)"
   ]
  },
  {
   "cell_type": "code",
   "execution_count": null,
   "id": "gothic-technique",
   "metadata": {},
   "outputs": [],
   "source": [
    "fig = make_subplots(rows=1, cols=1)\n",
    "eval_points = np.linspace(0, 1, 100)\n",
    "fig.add_trace(go.Scatter(x=eval_points, y=[solver.u(p)[0] for p in eval_points], mode='lines', name=\"Optimal Control\"), row=1, col=1)\n",
    "fig.add_trace(go.Scatter(x=eval_points, y=[u_sol(p) for p in eval_points], mode='lines', name=\"Optimal Control Solution\"), row=1, col=1)\n",
    "fig.update_layout(\n",
    "    title=\"Solutions\",\n",
    "    xaxis_title=\"Time\",\n",
    "    yaxis_title=\"Control Signal\",\n",
    "    yaxis_range=[0, 1],\n",
    "    font=dict(\n",
    "        family=\"Courier New, monospace\",\n",
    "        size=14\n",
    "    )\n",
    ")\n",
    "fig.show()"
   ]
  },
  {
   "cell_type": "code",
   "execution_count": null,
   "id": "handy-nudist",
   "metadata": {},
   "outputs": [],
   "source": [
    "plot_value(solver.J, J_sol)"
   ]
  },
  {
   "cell_type": "markdown",
   "id": "identified-spray",
   "metadata": {},
   "source": [
    "### Optimal Liquidation Problem"
   ]
  },
  {
   "cell_type": "markdown",
   "id": "aboriginal-nowhere",
   "metadata": {},
   "source": [
    "Let us consider an asset $S_t$, that evolves accordingly with Brownian motion, i.e. $dS_s = -B u_s ds + \\sigma dW_s$. Assume that we hold a certain amount of this asset and intend to liquidate it over the time period $s \\in [0, T]$. Let $Q$ be our inventory of the asset with $dQ_s = - u_s ds$ (with $Q(0)=N$), where $u_s$ represents the liquidation rate. Suppose the temporary price impact is linear (the cost of selling), then our cash $X_s$ is modelled by \n",
    "$$\n",
    "X_t = x + \\int_0^t S_s u_s ds -\\int_0^t D u_s^2 + C q^2ds \n",
    "$$"
   ]
  },
  {
   "cell_type": "markdown",
   "id": "expired-mobility",
   "metadata": {},
   "source": [
    "We aim to maximise\n",
    "$$\n",
    "J^u(t, S, q) := \\mathbb{E}^{t, S} \\Big[ \\int_t^T S_s u_s -Du_s^2 - Cq^2 ds + S_T q_T- R q_T^2\\Big],\n",
    "$$\n",
    "subject to the process\n",
    "$$\\begin{eqnarray}\n",
    "dS_s &=& -Bu_s ds + \\sigma dW_s \\\\ \n",
    "dQ_s &=& - u_s ds\n",
    "\\end{eqnarray}$$"
   ]
  },
  {
   "cell_type": "markdown",
   "id": "square-discrimination",
   "metadata": {},
   "source": [
    "Thus, the HBJ-Equation is given as:\n",
    "$$\n",
    "\\begin{cases}\n",
    "\\partial_t J(t, S, q) + \\sup_{u} \\Big\\{ u_s(S-Du_s) - Cq^2 + ( \\frac{1}{2} \\sigma^2 \\partial_{SS} - B u_s \\partial_S - u_s \\partial_q)J(t, S, q)  \\Big\\} = 0 \\text{ on $[0, T] \\times (0, \\infty)\\times [0, N]$}\n",
    "\\\\\n",
    "J(T, S, q) = Sq - R q^2 \\text{ $\\forall x \\in \\mathbb{R}$}\n",
    "\\end{cases},\n",
    "$$\n",
    "where $R$ is the terminal cost."
   ]
  },
  {
   "cell_type": "code",
   "execution_count": 109,
   "id": "satellite-michael",
   "metadata": {},
   "outputs": [],
   "source": [
    "class LIQUIDATION(HBJ):\n",
    "    def __init__(self):\n",
    "        super().__init__()\n",
    "        self.σ = 0.3\n",
    "        self.D = 0.05\n",
    "        self.C = 0.1\n",
    "        self.R = self.D + self.C\n",
    "        self.B = 0.0001\n",
    "        \n",
    "        \n",
    "        self.var_dim_J = 4 # (S, q, X, t)\n",
    "        self.control_vars = [0, 1, 2, 3] # (S ,q, X, t)\n",
    "        self.cost_function = lambda u, var: 0\n",
    "        self.differential_operator = lambda J, u, var: 0.5*self.σ**2*Δ(J, var[0]) -self.B*u*div(J, var[0]) - u*div(J, var[1]) + (var[0]*u - self.C*var[1]**2 - self.D*u**2)*div(J, var[2])\n",
    "        self.domain_func = [(lambda var: [(var[0]-0.5)*4, (var[1]-0.4)*4, (var[2]-0.5)*4, var[3]], 64)]\n",
    "        self.boundary_cond_J = [lambda J, var: J - (var[2] + var[0]*var[1]-self.R*var[1]**2)]\n",
    "        self.boundary_func_J = [(lambda var: [(var[0]-0.5)*4, (var[1]-0.4)*4, (var[2]-0.5)*4, var[3]*0 + 1], 64)]"
   ]
  },
  {
   "cell_type": "code",
   "execution_count": 110,
   "id": "efficient-parking",
   "metadata": {},
   "outputs": [
    {
     "name": "stderr",
     "output_type": "stream",
     "text": [
      "100%|██████████| 500/500 [00:04<00:00, 108.10 it/s]\n"
     ]
    },
    {
     "data": {
      "application/vnd.plotly.v1+json": {
       "config": {
        "plotlyServerURL": "https://plot.ly"
       },
       "data": [
        {
         "mode": "lines",
         "name": "Value Loss",
         "type": "scatter",
         "x": [
          0,
          1,
          2,
          3,
          4,
          5,
          6,
          7,
          8,
          9,
          10,
          11,
          12,
          13,
          14,
          15,
          16,
          17,
          18,
          19,
          20,
          21,
          22,
          23,
          24,
          25,
          26,
          27,
          28,
          29,
          30,
          31,
          32,
          33,
          34,
          35,
          36,
          37,
          38,
          39,
          40,
          41,
          42,
          43,
          44,
          45,
          46,
          47,
          48,
          49,
          50,
          51,
          52,
          53,
          54,
          55,
          56,
          57,
          58,
          59,
          60,
          61,
          62,
          63,
          64,
          65,
          66,
          67,
          68,
          69,
          70,
          71,
          72,
          73,
          74,
          75,
          76,
          77,
          78,
          79,
          80,
          81,
          82,
          83,
          84,
          85,
          86,
          87,
          88,
          89,
          90,
          91,
          92,
          93,
          94,
          95,
          96,
          97,
          98,
          99,
          100,
          101,
          102,
          103,
          104,
          105,
          106,
          107,
          108,
          109,
          110,
          111,
          112,
          113,
          114,
          115,
          116,
          117,
          118,
          119,
          120,
          121,
          122,
          123,
          124,
          125,
          126,
          127,
          128,
          129,
          130,
          131,
          132,
          133,
          134,
          135,
          136,
          137,
          138,
          139,
          140,
          141,
          142,
          143,
          144,
          145,
          146,
          147,
          148,
          149,
          150,
          151,
          152,
          153,
          154,
          155,
          156,
          157,
          158,
          159,
          160,
          161,
          162,
          163,
          164,
          165,
          166,
          167,
          168,
          169,
          170,
          171,
          172,
          173,
          174,
          175,
          176,
          177,
          178,
          179,
          180,
          181,
          182,
          183,
          184,
          185,
          186,
          187,
          188,
          189,
          190,
          191,
          192,
          193,
          194,
          195,
          196,
          197,
          198,
          199,
          200,
          201,
          202,
          203,
          204,
          205,
          206,
          207,
          208,
          209,
          210,
          211,
          212,
          213,
          214,
          215,
          216,
          217,
          218,
          219,
          220,
          221,
          222,
          223,
          224,
          225,
          226,
          227,
          228,
          229,
          230,
          231,
          232,
          233,
          234,
          235,
          236,
          237,
          238,
          239,
          240,
          241,
          242,
          243,
          244,
          245,
          246,
          247,
          248,
          249,
          250,
          251,
          252,
          253,
          254,
          255,
          256,
          257,
          258,
          259,
          260,
          261,
          262,
          263,
          264,
          265,
          266,
          267,
          268,
          269,
          270,
          271,
          272,
          273,
          274,
          275,
          276,
          277,
          278,
          279,
          280,
          281,
          282,
          283,
          284,
          285,
          286,
          287,
          288,
          289,
          290,
          291,
          292,
          293,
          294,
          295,
          296,
          297,
          298,
          299,
          300,
          301,
          302,
          303,
          304,
          305,
          306,
          307,
          308,
          309,
          310,
          311,
          312,
          313,
          314,
          315,
          316,
          317,
          318,
          319,
          320,
          321,
          322,
          323,
          324,
          325,
          326,
          327,
          328,
          329,
          330,
          331,
          332,
          333,
          334,
          335,
          336,
          337,
          338,
          339,
          340,
          341,
          342,
          343,
          344,
          345,
          346,
          347,
          348,
          349,
          350,
          351,
          352,
          353,
          354,
          355,
          356,
          357,
          358,
          359,
          360,
          361,
          362,
          363,
          364,
          365,
          366,
          367,
          368,
          369,
          370,
          371,
          372,
          373,
          374,
          375,
          376,
          377,
          378,
          379,
          380,
          381,
          382,
          383,
          384,
          385,
          386,
          387,
          388,
          389,
          390,
          391,
          392,
          393,
          394,
          395,
          396,
          397,
          398,
          399,
          400,
          401,
          402,
          403,
          404,
          405,
          406,
          407,
          408,
          409,
          410,
          411,
          412,
          413,
          414,
          415,
          416,
          417,
          418,
          419,
          420,
          421,
          422,
          423,
          424,
          425,
          426,
          427,
          428,
          429,
          430,
          431,
          432,
          433,
          434,
          435,
          436,
          437,
          438,
          439,
          440,
          441,
          442,
          443,
          444,
          445,
          446,
          447,
          448,
          449,
          450,
          451,
          452,
          453,
          454,
          455,
          456,
          457,
          458,
          459,
          460,
          461,
          462,
          463,
          464,
          465,
          466,
          467,
          468,
          469,
          470,
          471,
          472,
          473,
          474,
          475,
          476,
          477,
          478,
          479,
          480,
          481,
          482,
          483,
          484,
          485,
          486,
          487,
          488,
          489,
          490
         ],
         "xaxis": "x",
         "y": [
          3.785470151901245,
          3.483617663383484,
          3.2979471683502197,
          3.048018193244934,
          2.8666443109512327,
          2.673086714744568,
          2.5260091185569764,
          2.420126736164093,
          2.234660530090332,
          2.0922788977622986,
          1.9679130792617798,
          1.8788190603256225,
          1.7758696913719176,
          1.7370240449905396,
          1.7349810004234314,
          1.730142104625702,
          1.7627334117889404,
          1.7120443105697631,
          1.728195595741272,
          1.8005442500114441,
          1.7890541672706604,
          1.7573675513267517,
          1.694880485534668,
          1.6934871792793273,
          1.6765613436698914,
          1.5728833317756652,
          1.4848974585533141,
          1.4177207112312318,
          1.3169443786144257,
          1.1871293604373931,
          1.0779479920864106,
          1.0036341845989227,
          0.9522869288921356,
          0.8690498292446136,
          0.8044902086257935,
          0.7504676580429077,
          0.7100814044475555,
          0.6529020428657532,
          0.6150864273309707,
          0.5737664610147476,
          0.5429740995168686,
          0.5081737041473389,
          0.4721979320049286,
          0.4379890710115433,
          0.4045304387807846,
          0.3772196561098099,
          0.3528510630130768,
          0.3457870095968246,
          0.32772191762924197,
          0.32154250144958496,
          0.3070050984621048,
          0.3120119571685791,
          0.3260292440652847,
          0.31780773401260376,
          0.3138038098812103,
          0.31574203372001647,
          0.3097906231880188,
          0.2934402674436569,
          0.2879393607378006,
          0.27423871457576754,
          0.273416668176651,
          0.24986523687839507,
          0.2253115028142929,
          0.22307644188404083,
          0.21459611654281616,
          0.20298261046409607,
          0.198137865960598,
          0.19006344825029373,
          0.17714651376008989,
          0.17457108497619628,
          0.1634504348039627,
          0.1649015352129936,
          0.1589854434132576,
          0.15286737829446792,
          0.1537647768855095,
          0.15317434072494507,
          0.1487662225961685,
          0.14423589855432511,
          0.14169266298413277,
          0.13746071979403496,
          0.13527904078364372,
          0.13050635606050492,
          0.1250968188047409,
          0.1185677856206894,
          0.11269009634852409,
          0.11175990179181099,
          0.10958080738782883,
          0.10651121884584427,
          0.10541049763560295,
          0.10226135775446892,
          0.09957024455070496,
          0.09827678874135018,
          0.09668695107102394,
          0.09423099830746651,
          0.08920089155435562,
          0.08478463888168335,
          0.08139730244874954,
          0.08139832392334938,
          0.08313238322734832,
          0.08197703436017037,
          0.08049259334802628,
          0.08004357144236565,
          0.07970892116427422,
          0.07800566330552101,
          0.07897995486855507,
          0.07948976829648018,
          0.07902691513299942,
          0.07826303467154502,
          0.0736578419804573,
          0.07377344369888306,
          0.07212399616837502,
          0.07147122472524643,
          0.06945271678268909,
          0.06929767616093159,
          0.06971330232918263,
          0.0703805472701788,
          0.06990264914929867,
          0.06836231760680675,
          0.06746491976082325,
          0.0664529450237751,
          0.06606019772589207,
          0.0642736490815878,
          0.06511179208755494,
          0.06620020717382431,
          0.06573928073048592,
          0.062211018055677414,
          0.06099308170378208,
          0.06065068878233433,
          0.06003495119512081,
          0.059498227387666705,
          0.05993702672421932,
          0.06118093840777874,
          0.060442381724715236,
          0.05711515061557293,
          0.05529050566256046,
          0.056003811210393904,
          0.054954858496785164,
          0.052484413236379625,
          0.053799205273389814,
          0.055541280657052994,
          0.05561468377709389,
          0.05593709498643875,
          0.055844879150390624,
          0.05606079213321209,
          0.05718654058873653,
          0.05706946738064289,
          0.057543094456195834,
          0.059666657075285914,
          0.05898289941251278,
          0.05646473355591297,
          0.05455516614019871,
          0.054585209116339684,
          0.05563413091003895,
          0.05651201382279396,
          0.06128992512822151,
          0.05994527377188206,
          0.060155653208494184,
          0.05998825654387474,
          0.06090345680713653,
          0.06258406192064285,
          0.06415418311953544,
          0.06331685706973075,
          0.06333800554275512,
          0.06673482656478882,
          0.06335598975419998,
          0.06292408034205436,
          0.06324892900884152,
          0.06303921453654766,
          0.06319413967430591,
          0.06369532532989979,
          0.06341461017727852,
          0.06260403767228126,
          0.062456343322992325,
          0.059570097178220746,
          0.056931622326374054,
          0.05677503943443298,
          0.05532309003174305,
          0.05419512875378132,
          0.052542667090892795,
          0.05003468282520771,
          0.048432501032948494,
          0.048695706948637965,
          0.04595420770347118,
          0.044971386343240737,
          0.044912096858024594,
          0.04497823379933834,
          0.04435405321419239,
          0.04538583047688007,
          0.044163526594638826,
          0.042692582681775094,
          0.042192119359970096,
          0.041135233268141745,
          0.040568226389586924,
          0.03863501828163862,
          0.03751767296344042,
          0.03669004198163748,
          0.03728299792855978,
          0.03452572394162416,
          0.03368502911180258,
          0.0336258502677083,
          0.032897381298244,
          0.03135532550513744,
          0.03136320132762194,
          0.03242546077817678,
          0.030878755636513232,
          0.031007005460560323,
          0.029315796680748463,
          0.028987453319132328,
          0.028981314972043037,
          0.029449967294931413,
          0.029049353301525117,
          0.02858630120754242,
          0.028098914213478564,
          0.02667809519916773,
          0.02855913694947958,
          0.028103560395538806,
          0.027722317911684512,
          0.02807071153074503,
          0.027581215277314185,
          0.02717360630631447,
          0.0274156853556633,
          0.02898897361010313,
          0.028176809847354888,
          0.027810539677739145,
          0.026550764963030816,
          0.02698653992265463,
          0.026907957345247268,
          0.026140465587377548,
          0.026005181297659875,
          0.02489459216594696,
          0.02561807371675968,
          0.02469580452889204,
          0.026056976802647114,
          0.02591570597141981,
          0.02470290344208479,
          0.024893121048808097,
          0.025609344616532324,
          0.027179136499762536,
          0.027302057668566703,
          0.028356577083468438,
          0.027376750111579896,
          0.027516452968120574,
          0.027421079576015472,
          0.02788991555571556,
          0.028930586576461793,
          0.029077845439314843,
          0.030376789532601832,
          0.030325602926313876,
          0.03024255819618702,
          0.02956184484064579,
          0.029842892289161684,
          0.03054157141596079,
          0.029208081029355525,
          0.028880208544433118,
          0.028817790560424328,
          0.0279264809563756,
          0.026395106874406337,
          0.024501817487180232,
          0.025834761932492255,
          0.025806804187595844,
          0.025264370441436767,
          0.024991515651345254,
          0.0258677588775754,
          0.025460483320057393,
          0.02549202386289835,
          0.025259249098598956,
          0.025197687558829784,
          0.025356111489236353,
          0.023854977637529372,
          0.02347631324082613,
          0.023782205209136008,
          0.02225685305893421,
          0.021303185261785984,
          0.02171227689832449,
          0.021678133122622966,
          0.02188163362443447,
          0.021110691502690314,
          0.0216644586995244,
          0.020989625714719296,
          0.02044807430356741,
          0.020433188416063786,
          0.01971542965620756,
          0.01963963583111763,
          0.018729465641081335,
          0.018349713273346425,
          0.017775267735123633,
          0.018020066805183886,
          0.01806925907731056,
          0.01928513776510954,
          0.01921549402177334,
          0.020124182850122452,
          0.02209421284496784,
          0.023661849088966846,
          0.025003787875175477,
          0.03126750402152538,
          0.0316680958494544,
          0.03223479706794023,
          0.04280934389680624,
          0.04168794434517622,
          0.04253684617578983,
          0.04608212746679783,
          0.050113681331276895,
          0.04898584634065628,
          0.049232900328934195,
          0.04888354782015085,
          0.049836882203817365,
          0.04869056455790997,
          0.038043635338544844,
          0.04003072753548622,
          0.04155338667333126,
          0.03700430039316416,
          0.032909758388996124,
          0.03356133475899696,
          0.032037085108459,
          0.02595919705927372,
          0.025015423819422723,
          0.025507101975381374,
          0.024575753323733806,
          0.022873826138675214,
          0.02128702625632286,
          0.021006635017693044,
          0.02195614539086819,
          0.02174316383898258,
          0.02319955304265022,
          0.024657010473310946,
          0.024686151184141636,
          0.02415140587836504,
          0.025402418710291384,
          0.02637490052729845,
          0.026725806668400763,
          0.026076594740152358,
          0.023803208768367768,
          0.023162520676851272,
          0.022293064370751382,
          0.02044418528676033,
          0.019539576955139637,
          0.019460680428892374,
          0.019015639368444682,
          0.018387196678668262,
          0.017332732770591976,
          0.01780351744964719,
          0.018108951020985843,
          0.018047038558870555,
          0.01730672949925065,
          0.018109962809830904,
          0.018038390018045903,
          0.018028970528393983,
          0.017374532576650382,
          0.016391610819846393,
          0.016618022043257952,
          0.016688973363488912,
          0.01648129289969802,
          0.016212171781808137,
          0.01618577102199197,
          0.015360637474805117,
          0.015410334616899491,
          0.015894147753715514,
          0.015153080970048905,
          0.015333112701773644,
          0.0156963586807251,
          0.015552225522696972,
          0.015167691372334957,
          0.014993312768638134,
          0.015170924179255963,
          0.015059628058224916,
          0.015262349415570498,
          0.014396985154598951,
          0.015130215231329203,
          0.014832711312919855,
          0.013936426769942046,
          0.013973677810281516,
          0.013767429161816835,
          0.013922704104334115,
          0.013624740485101938,
          0.01360816229134798,
          0.013185512088239194,
          0.013691985048353672,
          0.01400867272168398,
          0.013907847739756108,
          0.015049557015299798,
          0.015655503794550895,
          0.015874062199145555,
          0.01635321481153369,
          0.017011112254112958,
          0.017580014187842607,
          0.017990950774401427,
          0.01812390750274062,
          0.017722395341843368,
          0.018062628246843813,
          0.017254334408789873,
          0.016872497368603946,
          0.01698223240673542,
          0.016789380460977554,
          0.016173167526721953,
          0.01571418885141611,
          0.015701164677739143,
          0.01618264466524124,
          0.015623006410896778,
          0.015309637412428856,
          0.015302462317049504,
          0.014683561772108078,
          0.01509655248373747,
          0.014508564863353968,
          0.014336893800646067,
          0.01420428827404976,
          0.013989425078034402,
          0.01309222001582384,
          0.013227185420691966,
          0.013487068656831979,
          0.013409542199224234,
          0.013120600674301385,
          0.012578873615711927,
          0.01304084826260805,
          0.013094368390738964,
          0.012790563423186541,
          0.012567875254899264,
          0.012440992332994939,
          0.012044833973050117,
          0.011876039672642946,
          0.01188730839639902,
          0.012025575246661901,
          0.011834011878818274,
          0.011182310339063407,
          0.011385326739400625,
          0.011608915403485298,
          0.012181567959487438,
          0.01251766262575984,
          0.012945644836872817,
          0.013195529859513045,
          0.01295760292559862,
          0.013253139425069093,
          0.013495397288352251,
          0.013753050193190574,
          0.013420285284519195,
          0.013618588261306287,
          0.013285942189395428,
          0.013386951573193074,
          0.013483795057982206,
          0.01319730281829834,
          0.013411135319620371,
          0.013579689059406519,
          0.013335332833230495,
          0.013038179371505976,
          0.013495187368243932,
          0.01330380206927657,
          0.013069540448486804,
          0.012852429039776325,
          0.012731141317635775,
          0.013284170348197222,
          0.013071844447404146,
          0.01225138446316123,
          0.012001739628612996,
          0.012659657187759877,
          0.012252756301313639,
          0.012021481618285179,
          0.012202305719256401,
          0.012374342046678066,
          0.01242346353828907,
          0.01192999016493559,
          0.012053501978516578,
          0.012632845807820559,
          0.013081673067063093,
          0.012691504135727883,
          0.012572515103965998,
          0.01303234389051795,
          0.012501827906817198,
          0.011919804196804763,
          0.01178541174158454,
          0.01169628370553255,
          0.011433699913322926,
          0.010906383767724038,
          0.010503518767654896,
          0.010190538596361876,
          0.010073997918516398,
          0.009651972260326148,
          0.010276750475168229,
          0.010626711510121822,
          0.010780820157378912,
          0.010748736653476953,
          0.011199950706213713,
          0.011555354669690132,
          0.01195554044097662,
          0.011925123631954193,
          0.012063115648925305,
          0.012045606877654791,
          0.011638929788023233,
          0.011395258922129869,
          0.011180019099265337,
          0.011218157783150672,
          0.010673978179693223,
          0.010698581673204898
         ],
         "yaxis": "y"
        },
        {
         "mode": "lines",
         "name": "Control Loss",
         "type": "scatter",
         "x": [
          0,
          1,
          2,
          3,
          4,
          5,
          6,
          7,
          8,
          9,
          10,
          11,
          12,
          13,
          14,
          15,
          16,
          17,
          18,
          19,
          20,
          21,
          22,
          23,
          24,
          25,
          26,
          27,
          28,
          29,
          30,
          31,
          32,
          33,
          34,
          35,
          36,
          37,
          38,
          39,
          40,
          41,
          42,
          43,
          44,
          45,
          46,
          47,
          48,
          49,
          50,
          51,
          52,
          53,
          54,
          55,
          56,
          57,
          58,
          59,
          60,
          61,
          62,
          63,
          64,
          65,
          66,
          67,
          68,
          69,
          70,
          71,
          72,
          73,
          74,
          75,
          76,
          77,
          78,
          79,
          80,
          81,
          82,
          83,
          84,
          85,
          86,
          87,
          88,
          89,
          90,
          91,
          92,
          93,
          94,
          95,
          96,
          97,
          98,
          99,
          100,
          101,
          102,
          103,
          104,
          105,
          106,
          107,
          108,
          109,
          110,
          111,
          112,
          113,
          114,
          115,
          116,
          117,
          118,
          119,
          120,
          121,
          122,
          123,
          124,
          125,
          126,
          127,
          128,
          129,
          130,
          131,
          132,
          133,
          134,
          135,
          136,
          137,
          138,
          139,
          140,
          141,
          142,
          143,
          144,
          145,
          146,
          147,
          148,
          149,
          150,
          151,
          152,
          153,
          154,
          155,
          156,
          157,
          158,
          159,
          160,
          161,
          162,
          163,
          164,
          165,
          166,
          167,
          168,
          169,
          170,
          171,
          172,
          173,
          174,
          175,
          176,
          177,
          178,
          179,
          180,
          181,
          182,
          183,
          184,
          185,
          186,
          187,
          188,
          189,
          190,
          191,
          192,
          193,
          194,
          195,
          196,
          197,
          198,
          199,
          200,
          201,
          202,
          203,
          204,
          205,
          206,
          207,
          208,
          209,
          210,
          211,
          212,
          213,
          214,
          215,
          216,
          217,
          218,
          219,
          220,
          221,
          222,
          223,
          224,
          225,
          226,
          227,
          228,
          229,
          230,
          231,
          232,
          233,
          234,
          235,
          236,
          237,
          238,
          239,
          240,
          241,
          242,
          243,
          244,
          245,
          246,
          247,
          248,
          249,
          250,
          251,
          252,
          253,
          254,
          255,
          256,
          257,
          258,
          259,
          260,
          261,
          262,
          263,
          264,
          265,
          266,
          267,
          268,
          269,
          270,
          271,
          272,
          273,
          274,
          275,
          276,
          277,
          278,
          279,
          280,
          281,
          282,
          283,
          284,
          285,
          286,
          287,
          288,
          289,
          290,
          291,
          292,
          293,
          294,
          295,
          296,
          297,
          298,
          299,
          300,
          301,
          302,
          303,
          304,
          305,
          306,
          307,
          308,
          309,
          310,
          311,
          312,
          313,
          314,
          315,
          316,
          317,
          318,
          319,
          320,
          321,
          322,
          323,
          324,
          325,
          326,
          327,
          328,
          329,
          330,
          331,
          332,
          333,
          334,
          335,
          336,
          337,
          338,
          339,
          340,
          341,
          342,
          343,
          344,
          345,
          346,
          347,
          348,
          349,
          350,
          351,
          352,
          353,
          354,
          355,
          356,
          357,
          358,
          359,
          360,
          361,
          362,
          363,
          364,
          365,
          366,
          367,
          368,
          369,
          370,
          371,
          372,
          373,
          374,
          375,
          376,
          377,
          378,
          379,
          380,
          381,
          382,
          383,
          384,
          385,
          386,
          387,
          388,
          389,
          390,
          391,
          392,
          393,
          394,
          395,
          396,
          397,
          398,
          399,
          400,
          401,
          402,
          403,
          404,
          405,
          406,
          407,
          408,
          409,
          410,
          411,
          412,
          413,
          414,
          415,
          416,
          417,
          418,
          419,
          420,
          421,
          422,
          423,
          424,
          425,
          426,
          427,
          428,
          429,
          430,
          431,
          432,
          433,
          434,
          435,
          436,
          437,
          438,
          439,
          440,
          441,
          442,
          443,
          444,
          445,
          446,
          447,
          448,
          449,
          450,
          451,
          452,
          453,
          454,
          455,
          456,
          457,
          458,
          459,
          460,
          461,
          462,
          463,
          464,
          465,
          466,
          467,
          468,
          469,
          470,
          471,
          472,
          473,
          474,
          475,
          476,
          477,
          478,
          479,
          480,
          481,
          482,
          483,
          484,
          485,
          486,
          487,
          488,
          489,
          490
         ],
         "xaxis": "x",
         "y": [
          0.2653524652123451,
          0.2563653513789177,
          0.2524424806237221,
          0.23753994554281235,
          0.22790608257055284,
          0.21723612397909164,
          0.20618338733911515,
          0.19850939363241196,
          0.1843021973967552,
          0.1677713856101036,
          0.15678478814661503,
          0.13547371216118337,
          0.10669351629912853,
          0.09544243216514588,
          0.07321465723216533,
          0.041227446869015694,
          0.003417472913861275,
          -0.02292369194328785,
          -0.05861330218613148,
          -0.08852448351681233,
          -0.11641386970877647,
          -0.13695131614804268,
          -0.1602069318294525,
          -0.18213895447552203,
          -0.20047279447317123,
          -0.2097310446202755,
          -0.19269568994641303,
          -0.2002338722348213,
          -0.17084003686904908,
          -0.14101378843188286,
          -0.10297734811902046,
          -0.06429628357291221,
          -0.01726655438542366,
          0.0172507144510746,
          0.05366779491305351,
          0.07775787115097046,
          0.08909521885216236,
          0.09748533852398396,
          0.09301311988383532,
          0.06405699197202921,
          0.03535762373358011,
          0.006314952112734318,
          -0.013527803658507764,
          -0.03451378250028938,
          -0.045273839659057555,
          -0.0417932674055919,
          -0.03637242277618498,
          -0.035725184134207666,
          -0.0283987378468737,
          -0.020159970759414135,
          -0.015138467191718519,
          -0.019939932762645184,
          -0.04277256336063147,
          -0.04358693826943636,
          -0.045985810831189154,
          -0.054513351246714595,
          -0.06533844787627459,
          -0.054473874159157276,
          -0.07450891714543104,
          -0.07495832573622466,
          -0.07859136071056128,
          -0.0678212096914649,
          -0.05694696959108114,
          -0.056711369566619395,
          -0.0495921092107892,
          -0.0427057670429349,
          -0.03598865233361721,
          -0.03434796296060085,
          -0.020056569762527943,
          -0.018234402872622013,
          -0.00998260248452425,
          -0.009728116728365422,
          0.003325292281806469,
          0.004952611401677132,
          0.006245317682623863,
          0.008050727471709252,
          0.010170306637883186,
          0.008869784697890282,
          0.008490264229476453,
          0.010324052534997463,
          0.004701381735503674,
          0.006907579861581326,
          0.00876662489026785,
          0.013905245438218116,
          0.011082011088728905,
          0.013650973513722419,
          0.011102396249771117,
          0.009658866375684739,
          0.01372726671397686,
          0.02087100432254374,
          0.027065600315108896,
          0.03183071743696928,
          0.029683106672018768,
          0.02491838363930583,
          0.01610730206593871,
          -0.0019667730666697025,
          -0.00832129679620266,
          -0.010735774412751198,
          -0.016185401752591134,
          -0.016529724281281234,
          -0.014273059275001287,
          -0.014852578239515423,
          -0.0122284350451082,
          -0.012080896412953734,
          -0.010636077029630542,
          -0.007103141909465194,
          -0.012276735389605165,
          -0.018286624783650042,
          -0.016273149801418186,
          -0.019854942243546246,
          -0.02047547223046422,
          -0.023703802656382323,
          -0.025226631294935943,
          -0.02401235420256853,
          -0.023483829852193595,
          -0.022400732059031724,
          -0.021137167979031802,
          -0.015745984949171545,
          -0.0191260845400393,
          -0.02219064990058541,
          -0.022549147438257932,
          -0.023793292697519064,
          -0.03234887784346938,
          -0.03462560102343559,
          -0.03918011980131268,
          -0.04030299829319119,
          -0.03782742163166404,
          -0.03973724767565727,
          -0.03935093879699707,
          -0.03490328304469585,
          -0.039366837963461875,
          -0.041748321056365965,
          -0.03623718302696943,
          -0.03620752114802599,
          -0.03772816825658083,
          -0.04305868577212095,
          -0.04993377849459648,
          -0.05115505922585726,
          -0.05276697482913732,
          -0.05587960872799158,
          -0.052716162987053394,
          -0.04575050743296742,
          -0.04808811647817492,
          -0.04974220125004649,
          -0.05072238249704242,
          -0.051371401827782395,
          -0.04607339007779956,
          -0.04686086168512702,
          -0.043184918072074654,
          -0.03966435557231307,
          -0.03819989049807191,
          -0.042805889062583445,
          -0.04585210103541613,
          -0.04213478853926063,
          -0.04121522372588515,
          -0.035514515731483697,
          -0.03480487922206521,
          -0.03360046437010169,
          -0.03460788829252124,
          -0.038094197120517495,
          -0.040889364574104546,
          -0.03758125640451908,
          -0.030525858420878647,
          -0.024203962460160256,
          -0.02097945623099804,
          -0.02157381847500801,
          -0.02563423365354538,
          -0.029306800477206706,
          -0.03401922453194857,
          -0.03434921484440565,
          -0.023244660533964633,
          -0.01435518404468894,
          -0.008102182112634183,
          -0.009812434576451779,
          -0.001842593587934971,
          0.0011173776816576718,
          0.0017456195782870054,
          0.003680096892639995,
          0.006429686350747943,
          0.010073504177853465,
          0.0042200144845992325,
          -0.006552047235891223,
          -0.012604774115607143,
          -0.013307601539418101,
          -0.016740989265963437,
          -0.010908760037273169,
          -0.0012690463103353978,
          0.0031760218553245068,
          0.006687436904758215,
          0.007788943126797676,
          0.006178600806742906,
          0.008325509633868933,
          0.009017312433570623,
          0.009413562994450331,
          0.013009815197438001,
          0.006569826789200306,
          0.0025838416069746016,
          -0.0012678299099206924,
          -0.007038680836558342,
          -0.005688515584915876,
          -0.0035406663082540035,
          0.0001131461001932621,
          0.0012543325312435627,
          0.0010914496146142484,
          -0.0023509797640144823,
          -0.0024561908096075056,
          -0.005626919120550156,
          -0.003373093530535698,
          0.003200305998325348,
          -0.0012107642367482185,
          -0.0039399823173880575,
          -0.011138289794325828,
          -0.01449412778019905,
          -0.01568845324218273,
          -0.01692222645506263,
          -0.018340964708477257,
          -0.017710327077656983,
          -0.020871558506041766,
          -0.021837856527417897,
          -0.020162747707217932,
          -0.025459674093872307,
          -0.027556654904037713,
          -0.029544367734342814,
          -0.03506929604336619,
          -0.03921799175441265,
          -0.03879575692117214,
          -0.03879326060414314,
          -0.037672944739460944,
          -0.0378958024084568,
          -0.03771732933819294,
          -0.03312570489943027,
          -0.030719051882624627,
          -0.030709267407655717,
          -0.027908099722117184,
          -0.028542624693363904,
          -0.032720854971557856,
          -0.03650180967524648,
          -0.04124763058498502,
          -0.040679287165403366,
          -0.04041752405464649,
          -0.04406103380024433,
          -0.04209933802485466,
          -0.049418306350708006,
          -0.05255262376740575,
          -0.053401846531778575,
          -0.05203180098906159,
          -0.04475686650257558,
          -0.043146244692616166,
          -0.04994771385099739,
          -0.057112421630881725,
          -0.05756598690059036,
          -0.05968381182756275,
          -0.052889244793914256,
          -0.054695636569522324,
          -0.05345148982014507,
          -0.05167140678968281,
          -0.058692723512649536,
          -0.0555979885160923,
          -0.05054446831345558,
          -0.04731236658990383,
          -0.046067648380994794,
          -0.049866493046283725,
          -0.051767708361148836,
          -0.049863361194729804,
          -0.04992484822869301,
          -0.05023847296833992,
          -0.05096313804388046,
          -0.058857040107250215,
          -0.06478960067033768,
          -0.06898246593773365,
          -0.07267689257860184,
          -0.07213589400053025,
          -0.07282216660678387,
          -0.07410229854285717,
          -0.07389996871352196,
          -0.07787905037403106,
          -0.07312587946653366,
          -0.06457829549908638,
          -0.06452328711748123,
          -0.0650610312819481,
          -0.06704509258270264,
          -0.06569494754076004,
          -0.06814580857753753,
          -0.06812902875244617,
          -0.0725801333785057,
          -0.07579992562532425,
          -0.08471062108874321,
          -0.09045508056879044,
          -0.08502915762364864,
          -0.07718776259571314,
          -0.06971267890185118,
          -0.07616916131228209,
          -0.07610245626419783,
          -0.08250657152384519,
          -0.08273397218436003,
          -0.07895013149827719,
          -0.06799562554806471,
          -0.06465213354676962,
          -0.0746367210522294,
          -0.08702430613338948,
          -0.09973090589046478,
          -0.09744175150990486,
          -0.08974726619198918,
          -0.07742501134052873,
          -0.06658833175897598,
          -0.06583664938807487,
          -0.07310013175010681,
          -0.07828050777316094,
          -0.07664868459105492,
          -0.0710103265941143,
          -0.058724792674183846,
          -0.049939585663378236,
          -0.05646920995786786,
          -0.06542687574401498,
          -0.07986122462898493,
          -0.08597328681498766,
          -0.08708712179213762,
          -0.08260994125157595,
          -0.0761796148493886,
          -0.07223444487899541,
          -0.07575740981847048,
          -0.0830384660512209,
          -0.09041763357818126,
          -0.09100983329117299,
          -0.086497837677598,
          -0.08102793879806995,
          -0.07489951811730862,
          -0.07143957521766424,
          -0.07146195638924838,
          -0.0726794047281146,
          -0.07454745750874281,
          -0.07719782870262862,
          -0.07034780662506819,
          -0.07200724314898252,
          -0.07005167584866286,
          -0.07015703450888396,
          -0.07024523746222258,
          -0.07386874221265316,
          -0.07634365633130073,
          -0.07789324298501014,
          -0.07981685027480126,
          -0.07573741599917412,
          -0.07627508863806724,
          -0.0713425975292921,
          -0.07006435506045819,
          -0.07291632406413555,
          -0.0768506783992052,
          -0.07762974463403224,
          -0.07686346806585789,
          -0.07536705248057843,
          -0.07304521091282368,
          -0.07344902269542217,
          -0.07535915859043599,
          -0.07874605134129524,
          -0.08242091163992882,
          -0.07933634221553802,
          -0.07813204675912858,
          -0.0783738687634468,
          -0.07767902463674545,
          -0.07702763937413692,
          -0.07539008446037769,
          -0.07629053257405757,
          -0.07566959150135517,
          -0.07438867948949338,
          -0.07288169674575329,
          -0.07482928223907948,
          -0.07469681240618228,
          -0.07555052004754544,
          -0.07483704462647438,
          -0.07598962970077991,
          -0.0748615987598896,
          -0.0744313158094883,
          -0.07183785811066627,
          -0.07331108450889587,
          -0.07379947975277901,
          -0.07285680323839187,
          -0.07456422448158265,
          -0.07464085295796394,
          -0.0750111423432827,
          -0.0763147421181202,
          -0.0787380862981081,
          -0.08131812550127507,
          -0.0828515138477087,
          -0.08225885219871998,
          -0.08282532505691051,
          -0.0839888621121645,
          -0.08076722472906113,
          -0.07822840809822082,
          -0.07953096367418766,
          -0.08284596838057041,
          -0.08347791247069836,
          -0.08081338740885258,
          -0.08050317727029324,
          -0.07695167697966099,
          -0.07210003100335598,
          -0.06722219623625278,
          -0.06969999074935913,
          -0.07201728001236915,
          -0.07234843745827675,
          -0.07233373969793319,
          -0.07262164354324341,
          -0.07404721453785897,
          -0.06990064159035683,
          -0.07006387300789356,
          -0.07193761989474297,
          -0.07686521634459495,
          -0.07728589475154876,
          -0.0790363647043705,
          -0.07841609343886376,
          -0.07431633472442627,
          -0.07094870507717133,
          -0.06890185847878456,
          -0.07367701381444931,
          -0.07673686631023884,
          -0.07757517769932747,
          -0.07808240205049514,
          -0.07993860468268395,
          -0.07800306305289269,
          -0.07817944511771202,
          -0.07829131707549095,
          -0.07889044582843781,
          -0.07814237251877784,
          -0.07704903855919838,
          -0.07642792463302613,
          -0.0782661996781826,
          -0.07571420595049858,
          -0.07793552204966545,
          -0.07726672440767288,
          -0.07676753029227257,
          -0.07912408411502839,
          -0.08333202451467514,
          -0.08284748271107674,
          -0.0803699616342783,
          -0.08138520531356334,
          -0.07894472479820251,
          -0.07902522906661033,
          -0.07557623758912087,
          -0.07504574581980705,
          -0.07647243738174439,
          -0.07437935024499893,
          -0.07030060663819312,
          -0.07169076725840569,
          -0.07688792906701565,
          -0.07854840569198132,
          -0.07802480310201645,
          -0.07969886809587479,
          -0.07971190139651299,
          -0.07789731994271279,
          -0.07589390426874161,
          -0.0769715279340744,
          -0.07722637280821801,
          -0.07753600478172303,
          -0.07768773585557938,
          -0.07404759153723717,
          -0.07698673829436302,
          -0.07373919486999511,
          -0.07290081977844239,
          -0.07736889868974686,
          -0.08223331049084663,
          -0.08321873098611832,
          -0.08414011746644974,
          -0.08290939703583718,
          -0.08319497630000114,
          -0.08267171978950501,
          -0.08344588279724122,
          -0.08623670265078545,
          -0.08798448517918586,
          -0.08695694580674171,
          -0.082274329662323,
          -0.07973094582557679,
          -0.07743969149887561,
          -0.07662727385759353,
          -0.07463443279266357,
          -0.07571184262633324,
          -0.07498627603054046,
          -0.07687919437885285,
          -0.08010906651616097,
          -0.0788282185792923,
          -0.07945646569132805,
          -0.0799429252743721,
          -0.08086226619780064,
          -0.08296297490596771,
          -0.08127122446894645,
          -0.08395422771573066,
          -0.0844031147658825,
          -0.08158043473958969,
          -0.07748994752764701,
          -0.07736975327134132,
          -0.07786309644579888,
          -0.07768398150801659,
          -0.0804498977959156
         ],
         "yaxis": "y"
        }
       ],
       "layout": {
        "font": {
         "family": "Courier New, monospace",
         "size": 14
        },
        "template": {
         "data": {
          "bar": [
           {
            "error_x": {
             "color": "#2a3f5f"
            },
            "error_y": {
             "color": "#2a3f5f"
            },
            "marker": {
             "line": {
              "color": "#E5ECF6",
              "width": 0.5
             }
            },
            "type": "bar"
           }
          ],
          "barpolar": [
           {
            "marker": {
             "line": {
              "color": "#E5ECF6",
              "width": 0.5
             }
            },
            "type": "barpolar"
           }
          ],
          "carpet": [
           {
            "aaxis": {
             "endlinecolor": "#2a3f5f",
             "gridcolor": "white",
             "linecolor": "white",
             "minorgridcolor": "white",
             "startlinecolor": "#2a3f5f"
            },
            "baxis": {
             "endlinecolor": "#2a3f5f",
             "gridcolor": "white",
             "linecolor": "white",
             "minorgridcolor": "white",
             "startlinecolor": "#2a3f5f"
            },
            "type": "carpet"
           }
          ],
          "choropleth": [
           {
            "colorbar": {
             "outlinewidth": 0,
             "ticks": ""
            },
            "type": "choropleth"
           }
          ],
          "contour": [
           {
            "colorbar": {
             "outlinewidth": 0,
             "ticks": ""
            },
            "colorscale": [
             [
              0,
              "#0d0887"
             ],
             [
              0.1111111111111111,
              "#46039f"
             ],
             [
              0.2222222222222222,
              "#7201a8"
             ],
             [
              0.3333333333333333,
              "#9c179e"
             ],
             [
              0.4444444444444444,
              "#bd3786"
             ],
             [
              0.5555555555555556,
              "#d8576b"
             ],
             [
              0.6666666666666666,
              "#ed7953"
             ],
             [
              0.7777777777777778,
              "#fb9f3a"
             ],
             [
              0.8888888888888888,
              "#fdca26"
             ],
             [
              1,
              "#f0f921"
             ]
            ],
            "type": "contour"
           }
          ],
          "contourcarpet": [
           {
            "colorbar": {
             "outlinewidth": 0,
             "ticks": ""
            },
            "type": "contourcarpet"
           }
          ],
          "heatmap": [
           {
            "colorbar": {
             "outlinewidth": 0,
             "ticks": ""
            },
            "colorscale": [
             [
              0,
              "#0d0887"
             ],
             [
              0.1111111111111111,
              "#46039f"
             ],
             [
              0.2222222222222222,
              "#7201a8"
             ],
             [
              0.3333333333333333,
              "#9c179e"
             ],
             [
              0.4444444444444444,
              "#bd3786"
             ],
             [
              0.5555555555555556,
              "#d8576b"
             ],
             [
              0.6666666666666666,
              "#ed7953"
             ],
             [
              0.7777777777777778,
              "#fb9f3a"
             ],
             [
              0.8888888888888888,
              "#fdca26"
             ],
             [
              1,
              "#f0f921"
             ]
            ],
            "type": "heatmap"
           }
          ],
          "heatmapgl": [
           {
            "colorbar": {
             "outlinewidth": 0,
             "ticks": ""
            },
            "colorscale": [
             [
              0,
              "#0d0887"
             ],
             [
              0.1111111111111111,
              "#46039f"
             ],
             [
              0.2222222222222222,
              "#7201a8"
             ],
             [
              0.3333333333333333,
              "#9c179e"
             ],
             [
              0.4444444444444444,
              "#bd3786"
             ],
             [
              0.5555555555555556,
              "#d8576b"
             ],
             [
              0.6666666666666666,
              "#ed7953"
             ],
             [
              0.7777777777777778,
              "#fb9f3a"
             ],
             [
              0.8888888888888888,
              "#fdca26"
             ],
             [
              1,
              "#f0f921"
             ]
            ],
            "type": "heatmapgl"
           }
          ],
          "histogram": [
           {
            "marker": {
             "colorbar": {
              "outlinewidth": 0,
              "ticks": ""
             }
            },
            "type": "histogram"
           }
          ],
          "histogram2d": [
           {
            "colorbar": {
             "outlinewidth": 0,
             "ticks": ""
            },
            "colorscale": [
             [
              0,
              "#0d0887"
             ],
             [
              0.1111111111111111,
              "#46039f"
             ],
             [
              0.2222222222222222,
              "#7201a8"
             ],
             [
              0.3333333333333333,
              "#9c179e"
             ],
             [
              0.4444444444444444,
              "#bd3786"
             ],
             [
              0.5555555555555556,
              "#d8576b"
             ],
             [
              0.6666666666666666,
              "#ed7953"
             ],
             [
              0.7777777777777778,
              "#fb9f3a"
             ],
             [
              0.8888888888888888,
              "#fdca26"
             ],
             [
              1,
              "#f0f921"
             ]
            ],
            "type": "histogram2d"
           }
          ],
          "histogram2dcontour": [
           {
            "colorbar": {
             "outlinewidth": 0,
             "ticks": ""
            },
            "colorscale": [
             [
              0,
              "#0d0887"
             ],
             [
              0.1111111111111111,
              "#46039f"
             ],
             [
              0.2222222222222222,
              "#7201a8"
             ],
             [
              0.3333333333333333,
              "#9c179e"
             ],
             [
              0.4444444444444444,
              "#bd3786"
             ],
             [
              0.5555555555555556,
              "#d8576b"
             ],
             [
              0.6666666666666666,
              "#ed7953"
             ],
             [
              0.7777777777777778,
              "#fb9f3a"
             ],
             [
              0.8888888888888888,
              "#fdca26"
             ],
             [
              1,
              "#f0f921"
             ]
            ],
            "type": "histogram2dcontour"
           }
          ],
          "mesh3d": [
           {
            "colorbar": {
             "outlinewidth": 0,
             "ticks": ""
            },
            "type": "mesh3d"
           }
          ],
          "parcoords": [
           {
            "line": {
             "colorbar": {
              "outlinewidth": 0,
              "ticks": ""
             }
            },
            "type": "parcoords"
           }
          ],
          "pie": [
           {
            "automargin": true,
            "type": "pie"
           }
          ],
          "scatter": [
           {
            "marker": {
             "colorbar": {
              "outlinewidth": 0,
              "ticks": ""
             }
            },
            "type": "scatter"
           }
          ],
          "scatter3d": [
           {
            "line": {
             "colorbar": {
              "outlinewidth": 0,
              "ticks": ""
             }
            },
            "marker": {
             "colorbar": {
              "outlinewidth": 0,
              "ticks": ""
             }
            },
            "type": "scatter3d"
           }
          ],
          "scattercarpet": [
           {
            "marker": {
             "colorbar": {
              "outlinewidth": 0,
              "ticks": ""
             }
            },
            "type": "scattercarpet"
           }
          ],
          "scattergeo": [
           {
            "marker": {
             "colorbar": {
              "outlinewidth": 0,
              "ticks": ""
             }
            },
            "type": "scattergeo"
           }
          ],
          "scattergl": [
           {
            "marker": {
             "colorbar": {
              "outlinewidth": 0,
              "ticks": ""
             }
            },
            "type": "scattergl"
           }
          ],
          "scattermapbox": [
           {
            "marker": {
             "colorbar": {
              "outlinewidth": 0,
              "ticks": ""
             }
            },
            "type": "scattermapbox"
           }
          ],
          "scatterpolar": [
           {
            "marker": {
             "colorbar": {
              "outlinewidth": 0,
              "ticks": ""
             }
            },
            "type": "scatterpolar"
           }
          ],
          "scatterpolargl": [
           {
            "marker": {
             "colorbar": {
              "outlinewidth": 0,
              "ticks": ""
             }
            },
            "type": "scatterpolargl"
           }
          ],
          "scatterternary": [
           {
            "marker": {
             "colorbar": {
              "outlinewidth": 0,
              "ticks": ""
             }
            },
            "type": "scatterternary"
           }
          ],
          "surface": [
           {
            "colorbar": {
             "outlinewidth": 0,
             "ticks": ""
            },
            "colorscale": [
             [
              0,
              "#0d0887"
             ],
             [
              0.1111111111111111,
              "#46039f"
             ],
             [
              0.2222222222222222,
              "#7201a8"
             ],
             [
              0.3333333333333333,
              "#9c179e"
             ],
             [
              0.4444444444444444,
              "#bd3786"
             ],
             [
              0.5555555555555556,
              "#d8576b"
             ],
             [
              0.6666666666666666,
              "#ed7953"
             ],
             [
              0.7777777777777778,
              "#fb9f3a"
             ],
             [
              0.8888888888888888,
              "#fdca26"
             ],
             [
              1,
              "#f0f921"
             ]
            ],
            "type": "surface"
           }
          ],
          "table": [
           {
            "cells": {
             "fill": {
              "color": "#EBF0F8"
             },
             "line": {
              "color": "white"
             }
            },
            "header": {
             "fill": {
              "color": "#C8D4E3"
             },
             "line": {
              "color": "white"
             }
            },
            "type": "table"
           }
          ]
         },
         "layout": {
          "annotationdefaults": {
           "arrowcolor": "#2a3f5f",
           "arrowhead": 0,
           "arrowwidth": 1
          },
          "autotypenumbers": "strict",
          "coloraxis": {
           "colorbar": {
            "outlinewidth": 0,
            "ticks": ""
           }
          },
          "colorscale": {
           "diverging": [
            [
             0,
             "#8e0152"
            ],
            [
             0.1,
             "#c51b7d"
            ],
            [
             0.2,
             "#de77ae"
            ],
            [
             0.3,
             "#f1b6da"
            ],
            [
             0.4,
             "#fde0ef"
            ],
            [
             0.5,
             "#f7f7f7"
            ],
            [
             0.6,
             "#e6f5d0"
            ],
            [
             0.7,
             "#b8e186"
            ],
            [
             0.8,
             "#7fbc41"
            ],
            [
             0.9,
             "#4d9221"
            ],
            [
             1,
             "#276419"
            ]
           ],
           "sequential": [
            [
             0,
             "#0d0887"
            ],
            [
             0.1111111111111111,
             "#46039f"
            ],
            [
             0.2222222222222222,
             "#7201a8"
            ],
            [
             0.3333333333333333,
             "#9c179e"
            ],
            [
             0.4444444444444444,
             "#bd3786"
            ],
            [
             0.5555555555555556,
             "#d8576b"
            ],
            [
             0.6666666666666666,
             "#ed7953"
            ],
            [
             0.7777777777777778,
             "#fb9f3a"
            ],
            [
             0.8888888888888888,
             "#fdca26"
            ],
            [
             1,
             "#f0f921"
            ]
           ],
           "sequentialminus": [
            [
             0,
             "#0d0887"
            ],
            [
             0.1111111111111111,
             "#46039f"
            ],
            [
             0.2222222222222222,
             "#7201a8"
            ],
            [
             0.3333333333333333,
             "#9c179e"
            ],
            [
             0.4444444444444444,
             "#bd3786"
            ],
            [
             0.5555555555555556,
             "#d8576b"
            ],
            [
             0.6666666666666666,
             "#ed7953"
            ],
            [
             0.7777777777777778,
             "#fb9f3a"
            ],
            [
             0.8888888888888888,
             "#fdca26"
            ],
            [
             1,
             "#f0f921"
            ]
           ]
          },
          "colorway": [
           "#636efa",
           "#EF553B",
           "#00cc96",
           "#ab63fa",
           "#FFA15A",
           "#19d3f3",
           "#FF6692",
           "#B6E880",
           "#FF97FF",
           "#FECB52"
          ],
          "font": {
           "color": "#2a3f5f"
          },
          "geo": {
           "bgcolor": "white",
           "lakecolor": "white",
           "landcolor": "#E5ECF6",
           "showlakes": true,
           "showland": true,
           "subunitcolor": "white"
          },
          "hoverlabel": {
           "align": "left"
          },
          "hovermode": "closest",
          "mapbox": {
           "style": "light"
          },
          "paper_bgcolor": "white",
          "plot_bgcolor": "#E5ECF6",
          "polar": {
           "angularaxis": {
            "gridcolor": "white",
            "linecolor": "white",
            "ticks": ""
           },
           "bgcolor": "#E5ECF6",
           "radialaxis": {
            "gridcolor": "white",
            "linecolor": "white",
            "ticks": ""
           }
          },
          "scene": {
           "xaxis": {
            "backgroundcolor": "#E5ECF6",
            "gridcolor": "white",
            "gridwidth": 2,
            "linecolor": "white",
            "showbackground": true,
            "ticks": "",
            "zerolinecolor": "white"
           },
           "yaxis": {
            "backgroundcolor": "#E5ECF6",
            "gridcolor": "white",
            "gridwidth": 2,
            "linecolor": "white",
            "showbackground": true,
            "ticks": "",
            "zerolinecolor": "white"
           },
           "zaxis": {
            "backgroundcolor": "#E5ECF6",
            "gridcolor": "white",
            "gridwidth": 2,
            "linecolor": "white",
            "showbackground": true,
            "ticks": "",
            "zerolinecolor": "white"
           }
          },
          "shapedefaults": {
           "line": {
            "color": "#2a3f5f"
           }
          },
          "ternary": {
           "aaxis": {
            "gridcolor": "white",
            "linecolor": "white",
            "ticks": ""
           },
           "baxis": {
            "gridcolor": "white",
            "linecolor": "white",
            "ticks": ""
           },
           "bgcolor": "#E5ECF6",
           "caxis": {
            "gridcolor": "white",
            "linecolor": "white",
            "ticks": ""
           }
          },
          "title": {
           "x": 0.05
          },
          "xaxis": {
           "automargin": true,
           "gridcolor": "white",
           "linecolor": "white",
           "ticks": "",
           "title": {
            "standoff": 15
           },
           "zerolinecolor": "white",
           "zerolinewidth": 2
          },
          "yaxis": {
           "automargin": true,
           "gridcolor": "white",
           "linecolor": "white",
           "ticks": "",
           "title": {
            "standoff": 15
           },
           "zerolinecolor": "white",
           "zerolinewidth": 2
          }
         }
        },
        "title": {
         "text": "Loss"
        },
        "xaxis": {
         "anchor": "y",
         "domain": [
          0,
          1
         ],
         "title": {
          "text": "Iterations"
         }
        },
        "yaxis": {
         "anchor": "x",
         "domain": [
          0,
          1
         ],
         "title": {
          "text": "Loss"
         }
        }
       }
      },
      "text/html": [
       "<div>                            <div id=\"2f5dc06a-2188-4c4b-ba3a-5aa6c42b6d8d\" class=\"plotly-graph-div\" style=\"height:525px; width:100%;\"></div>            <script type=\"text/javascript\">                require([\"plotly\"], function(Plotly) {                    window.PLOTLYENV=window.PLOTLYENV || {};                                    if (document.getElementById(\"2f5dc06a-2188-4c4b-ba3a-5aa6c42b6d8d\")) {                    Plotly.newPlot(                        \"2f5dc06a-2188-4c4b-ba3a-5aa6c42b6d8d\",                        [{\"mode\": \"lines\", \"name\": \"Value Loss\", \"type\": \"scatter\", \"x\": [0, 1, 2, 3, 4, 5, 6, 7, 8, 9, 10, 11, 12, 13, 14, 15, 16, 17, 18, 19, 20, 21, 22, 23, 24, 25, 26, 27, 28, 29, 30, 31, 32, 33, 34, 35, 36, 37, 38, 39, 40, 41, 42, 43, 44, 45, 46, 47, 48, 49, 50, 51, 52, 53, 54, 55, 56, 57, 58, 59, 60, 61, 62, 63, 64, 65, 66, 67, 68, 69, 70, 71, 72, 73, 74, 75, 76, 77, 78, 79, 80, 81, 82, 83, 84, 85, 86, 87, 88, 89, 90, 91, 92, 93, 94, 95, 96, 97, 98, 99, 100, 101, 102, 103, 104, 105, 106, 107, 108, 109, 110, 111, 112, 113, 114, 115, 116, 117, 118, 119, 120, 121, 122, 123, 124, 125, 126, 127, 128, 129, 130, 131, 132, 133, 134, 135, 136, 137, 138, 139, 140, 141, 142, 143, 144, 145, 146, 147, 148, 149, 150, 151, 152, 153, 154, 155, 156, 157, 158, 159, 160, 161, 162, 163, 164, 165, 166, 167, 168, 169, 170, 171, 172, 173, 174, 175, 176, 177, 178, 179, 180, 181, 182, 183, 184, 185, 186, 187, 188, 189, 190, 191, 192, 193, 194, 195, 196, 197, 198, 199, 200, 201, 202, 203, 204, 205, 206, 207, 208, 209, 210, 211, 212, 213, 214, 215, 216, 217, 218, 219, 220, 221, 222, 223, 224, 225, 226, 227, 228, 229, 230, 231, 232, 233, 234, 235, 236, 237, 238, 239, 240, 241, 242, 243, 244, 245, 246, 247, 248, 249, 250, 251, 252, 253, 254, 255, 256, 257, 258, 259, 260, 261, 262, 263, 264, 265, 266, 267, 268, 269, 270, 271, 272, 273, 274, 275, 276, 277, 278, 279, 280, 281, 282, 283, 284, 285, 286, 287, 288, 289, 290, 291, 292, 293, 294, 295, 296, 297, 298, 299, 300, 301, 302, 303, 304, 305, 306, 307, 308, 309, 310, 311, 312, 313, 314, 315, 316, 317, 318, 319, 320, 321, 322, 323, 324, 325, 326, 327, 328, 329, 330, 331, 332, 333, 334, 335, 336, 337, 338, 339, 340, 341, 342, 343, 344, 345, 346, 347, 348, 349, 350, 351, 352, 353, 354, 355, 356, 357, 358, 359, 360, 361, 362, 363, 364, 365, 366, 367, 368, 369, 370, 371, 372, 373, 374, 375, 376, 377, 378, 379, 380, 381, 382, 383, 384, 385, 386, 387, 388, 389, 390, 391, 392, 393, 394, 395, 396, 397, 398, 399, 400, 401, 402, 403, 404, 405, 406, 407, 408, 409, 410, 411, 412, 413, 414, 415, 416, 417, 418, 419, 420, 421, 422, 423, 424, 425, 426, 427, 428, 429, 430, 431, 432, 433, 434, 435, 436, 437, 438, 439, 440, 441, 442, 443, 444, 445, 446, 447, 448, 449, 450, 451, 452, 453, 454, 455, 456, 457, 458, 459, 460, 461, 462, 463, 464, 465, 466, 467, 468, 469, 470, 471, 472, 473, 474, 475, 476, 477, 478, 479, 480, 481, 482, 483, 484, 485, 486, 487, 488, 489, 490], \"xaxis\": \"x\", \"y\": [3.785470151901245, 3.483617663383484, 3.2979471683502197, 3.048018193244934, 2.8666443109512327, 2.673086714744568, 2.5260091185569764, 2.420126736164093, 2.234660530090332, 2.0922788977622986, 1.9679130792617798, 1.8788190603256225, 1.7758696913719176, 1.7370240449905396, 1.7349810004234314, 1.730142104625702, 1.7627334117889404, 1.7120443105697631, 1.728195595741272, 1.8005442500114441, 1.7890541672706604, 1.7573675513267517, 1.694880485534668, 1.6934871792793273, 1.6765613436698914, 1.5728833317756652, 1.4848974585533141, 1.4177207112312318, 1.3169443786144257, 1.1871293604373931, 1.0779479920864106, 1.0036341845989227, 0.9522869288921356, 0.8690498292446136, 0.8044902086257935, 0.7504676580429077, 0.7100814044475555, 0.6529020428657532, 0.6150864273309707, 0.5737664610147476, 0.5429740995168686, 0.5081737041473389, 0.4721979320049286, 0.4379890710115433, 0.4045304387807846, 0.3772196561098099, 0.3528510630130768, 0.3457870095968246, 0.32772191762924197, 0.32154250144958496, 0.3070050984621048, 0.3120119571685791, 0.3260292440652847, 0.31780773401260376, 0.3138038098812103, 0.31574203372001647, 0.3097906231880188, 0.2934402674436569, 0.2879393607378006, 0.27423871457576754, 0.273416668176651, 0.24986523687839507, 0.2253115028142929, 0.22307644188404083, 0.21459611654281616, 0.20298261046409607, 0.198137865960598, 0.19006344825029373, 0.17714651376008989, 0.17457108497619628, 0.1634504348039627, 0.1649015352129936, 0.1589854434132576, 0.15286737829446792, 0.1537647768855095, 0.15317434072494507, 0.1487662225961685, 0.14423589855432511, 0.14169266298413277, 0.13746071979403496, 0.13527904078364372, 0.13050635606050492, 0.1250968188047409, 0.1185677856206894, 0.11269009634852409, 0.11175990179181099, 0.10958080738782883, 0.10651121884584427, 0.10541049763560295, 0.10226135775446892, 0.09957024455070496, 0.09827678874135018, 0.09668695107102394, 0.09423099830746651, 0.08920089155435562, 0.08478463888168335, 0.08139730244874954, 0.08139832392334938, 0.08313238322734832, 0.08197703436017037, 0.08049259334802628, 0.08004357144236565, 0.07970892116427422, 0.07800566330552101, 0.07897995486855507, 0.07948976829648018, 0.07902691513299942, 0.07826303467154502, 0.0736578419804573, 0.07377344369888306, 0.07212399616837502, 0.07147122472524643, 0.06945271678268909, 0.06929767616093159, 0.06971330232918263, 0.0703805472701788, 0.06990264914929867, 0.06836231760680675, 0.06746491976082325, 0.0664529450237751, 0.06606019772589207, 0.0642736490815878, 0.06511179208755494, 0.06620020717382431, 0.06573928073048592, 0.062211018055677414, 0.06099308170378208, 0.06065068878233433, 0.06003495119512081, 0.059498227387666705, 0.05993702672421932, 0.06118093840777874, 0.060442381724715236, 0.05711515061557293, 0.05529050566256046, 0.056003811210393904, 0.054954858496785164, 0.052484413236379625, 0.053799205273389814, 0.055541280657052994, 0.05561468377709389, 0.05593709498643875, 0.055844879150390624, 0.05606079213321209, 0.05718654058873653, 0.05706946738064289, 0.057543094456195834, 0.059666657075285914, 0.05898289941251278, 0.05646473355591297, 0.05455516614019871, 0.054585209116339684, 0.05563413091003895, 0.05651201382279396, 0.06128992512822151, 0.05994527377188206, 0.060155653208494184, 0.05998825654387474, 0.06090345680713653, 0.06258406192064285, 0.06415418311953544, 0.06331685706973075, 0.06333800554275512, 0.06673482656478882, 0.06335598975419998, 0.06292408034205436, 0.06324892900884152, 0.06303921453654766, 0.06319413967430591, 0.06369532532989979, 0.06341461017727852, 0.06260403767228126, 0.062456343322992325, 0.059570097178220746, 0.056931622326374054, 0.05677503943443298, 0.05532309003174305, 0.05419512875378132, 0.052542667090892795, 0.05003468282520771, 0.048432501032948494, 0.048695706948637965, 0.04595420770347118, 0.044971386343240737, 0.044912096858024594, 0.04497823379933834, 0.04435405321419239, 0.04538583047688007, 0.044163526594638826, 0.042692582681775094, 0.042192119359970096, 0.041135233268141745, 0.040568226389586924, 0.03863501828163862, 0.03751767296344042, 0.03669004198163748, 0.03728299792855978, 0.03452572394162416, 0.03368502911180258, 0.0336258502677083, 0.032897381298244, 0.03135532550513744, 0.03136320132762194, 0.03242546077817678, 0.030878755636513232, 0.031007005460560323, 0.029315796680748463, 0.028987453319132328, 0.028981314972043037, 0.029449967294931413, 0.029049353301525117, 0.02858630120754242, 0.028098914213478564, 0.02667809519916773, 0.02855913694947958, 0.028103560395538806, 0.027722317911684512, 0.02807071153074503, 0.027581215277314185, 0.02717360630631447, 0.0274156853556633, 0.02898897361010313, 0.028176809847354888, 0.027810539677739145, 0.026550764963030816, 0.02698653992265463, 0.026907957345247268, 0.026140465587377548, 0.026005181297659875, 0.02489459216594696, 0.02561807371675968, 0.02469580452889204, 0.026056976802647114, 0.02591570597141981, 0.02470290344208479, 0.024893121048808097, 0.025609344616532324, 0.027179136499762536, 0.027302057668566703, 0.028356577083468438, 0.027376750111579896, 0.027516452968120574, 0.027421079576015472, 0.02788991555571556, 0.028930586576461793, 0.029077845439314843, 0.030376789532601832, 0.030325602926313876, 0.03024255819618702, 0.02956184484064579, 0.029842892289161684, 0.03054157141596079, 0.029208081029355525, 0.028880208544433118, 0.028817790560424328, 0.0279264809563756, 0.026395106874406337, 0.024501817487180232, 0.025834761932492255, 0.025806804187595844, 0.025264370441436767, 0.024991515651345254, 0.0258677588775754, 0.025460483320057393, 0.02549202386289835, 0.025259249098598956, 0.025197687558829784, 0.025356111489236353, 0.023854977637529372, 0.02347631324082613, 0.023782205209136008, 0.02225685305893421, 0.021303185261785984, 0.02171227689832449, 0.021678133122622966, 0.02188163362443447, 0.021110691502690314, 0.0216644586995244, 0.020989625714719296, 0.02044807430356741, 0.020433188416063786, 0.01971542965620756, 0.01963963583111763, 0.018729465641081335, 0.018349713273346425, 0.017775267735123633, 0.018020066805183886, 0.01806925907731056, 0.01928513776510954, 0.01921549402177334, 0.020124182850122452, 0.02209421284496784, 0.023661849088966846, 0.025003787875175477, 0.03126750402152538, 0.0316680958494544, 0.03223479706794023, 0.04280934389680624, 0.04168794434517622, 0.04253684617578983, 0.04608212746679783, 0.050113681331276895, 0.04898584634065628, 0.049232900328934195, 0.04888354782015085, 0.049836882203817365, 0.04869056455790997, 0.038043635338544844, 0.04003072753548622, 0.04155338667333126, 0.03700430039316416, 0.032909758388996124, 0.03356133475899696, 0.032037085108459, 0.02595919705927372, 0.025015423819422723, 0.025507101975381374, 0.024575753323733806, 0.022873826138675214, 0.02128702625632286, 0.021006635017693044, 0.02195614539086819, 0.02174316383898258, 0.02319955304265022, 0.024657010473310946, 0.024686151184141636, 0.02415140587836504, 0.025402418710291384, 0.02637490052729845, 0.026725806668400763, 0.026076594740152358, 0.023803208768367768, 0.023162520676851272, 0.022293064370751382, 0.02044418528676033, 0.019539576955139637, 0.019460680428892374, 0.019015639368444682, 0.018387196678668262, 0.017332732770591976, 0.01780351744964719, 0.018108951020985843, 0.018047038558870555, 0.01730672949925065, 0.018109962809830904, 0.018038390018045903, 0.018028970528393983, 0.017374532576650382, 0.016391610819846393, 0.016618022043257952, 0.016688973363488912, 0.01648129289969802, 0.016212171781808137, 0.01618577102199197, 0.015360637474805117, 0.015410334616899491, 0.015894147753715514, 0.015153080970048905, 0.015333112701773644, 0.0156963586807251, 0.015552225522696972, 0.015167691372334957, 0.014993312768638134, 0.015170924179255963, 0.015059628058224916, 0.015262349415570498, 0.014396985154598951, 0.015130215231329203, 0.014832711312919855, 0.013936426769942046, 0.013973677810281516, 0.013767429161816835, 0.013922704104334115, 0.013624740485101938, 0.01360816229134798, 0.013185512088239194, 0.013691985048353672, 0.01400867272168398, 0.013907847739756108, 0.015049557015299798, 0.015655503794550895, 0.015874062199145555, 0.01635321481153369, 0.017011112254112958, 0.017580014187842607, 0.017990950774401427, 0.01812390750274062, 0.017722395341843368, 0.018062628246843813, 0.017254334408789873, 0.016872497368603946, 0.01698223240673542, 0.016789380460977554, 0.016173167526721953, 0.01571418885141611, 0.015701164677739143, 0.01618264466524124, 0.015623006410896778, 0.015309637412428856, 0.015302462317049504, 0.014683561772108078, 0.01509655248373747, 0.014508564863353968, 0.014336893800646067, 0.01420428827404976, 0.013989425078034402, 0.01309222001582384, 0.013227185420691966, 0.013487068656831979, 0.013409542199224234, 0.013120600674301385, 0.012578873615711927, 0.01304084826260805, 0.013094368390738964, 0.012790563423186541, 0.012567875254899264, 0.012440992332994939, 0.012044833973050117, 0.011876039672642946, 0.01188730839639902, 0.012025575246661901, 0.011834011878818274, 0.011182310339063407, 0.011385326739400625, 0.011608915403485298, 0.012181567959487438, 0.01251766262575984, 0.012945644836872817, 0.013195529859513045, 0.01295760292559862, 0.013253139425069093, 0.013495397288352251, 0.013753050193190574, 0.013420285284519195, 0.013618588261306287, 0.013285942189395428, 0.013386951573193074, 0.013483795057982206, 0.01319730281829834, 0.013411135319620371, 0.013579689059406519, 0.013335332833230495, 0.013038179371505976, 0.013495187368243932, 0.01330380206927657, 0.013069540448486804, 0.012852429039776325, 0.012731141317635775, 0.013284170348197222, 0.013071844447404146, 0.01225138446316123, 0.012001739628612996, 0.012659657187759877, 0.012252756301313639, 0.012021481618285179, 0.012202305719256401, 0.012374342046678066, 0.01242346353828907, 0.01192999016493559, 0.012053501978516578, 0.012632845807820559, 0.013081673067063093, 0.012691504135727883, 0.012572515103965998, 0.01303234389051795, 0.012501827906817198, 0.011919804196804763, 0.01178541174158454, 0.01169628370553255, 0.011433699913322926, 0.010906383767724038, 0.010503518767654896, 0.010190538596361876, 0.010073997918516398, 0.009651972260326148, 0.010276750475168229, 0.010626711510121822, 0.010780820157378912, 0.010748736653476953, 0.011199950706213713, 0.011555354669690132, 0.01195554044097662, 0.011925123631954193, 0.012063115648925305, 0.012045606877654791, 0.011638929788023233, 0.011395258922129869, 0.011180019099265337, 0.011218157783150672, 0.010673978179693223, 0.010698581673204898], \"yaxis\": \"y\"}, {\"mode\": \"lines\", \"name\": \"Control Loss\", \"type\": \"scatter\", \"x\": [0, 1, 2, 3, 4, 5, 6, 7, 8, 9, 10, 11, 12, 13, 14, 15, 16, 17, 18, 19, 20, 21, 22, 23, 24, 25, 26, 27, 28, 29, 30, 31, 32, 33, 34, 35, 36, 37, 38, 39, 40, 41, 42, 43, 44, 45, 46, 47, 48, 49, 50, 51, 52, 53, 54, 55, 56, 57, 58, 59, 60, 61, 62, 63, 64, 65, 66, 67, 68, 69, 70, 71, 72, 73, 74, 75, 76, 77, 78, 79, 80, 81, 82, 83, 84, 85, 86, 87, 88, 89, 90, 91, 92, 93, 94, 95, 96, 97, 98, 99, 100, 101, 102, 103, 104, 105, 106, 107, 108, 109, 110, 111, 112, 113, 114, 115, 116, 117, 118, 119, 120, 121, 122, 123, 124, 125, 126, 127, 128, 129, 130, 131, 132, 133, 134, 135, 136, 137, 138, 139, 140, 141, 142, 143, 144, 145, 146, 147, 148, 149, 150, 151, 152, 153, 154, 155, 156, 157, 158, 159, 160, 161, 162, 163, 164, 165, 166, 167, 168, 169, 170, 171, 172, 173, 174, 175, 176, 177, 178, 179, 180, 181, 182, 183, 184, 185, 186, 187, 188, 189, 190, 191, 192, 193, 194, 195, 196, 197, 198, 199, 200, 201, 202, 203, 204, 205, 206, 207, 208, 209, 210, 211, 212, 213, 214, 215, 216, 217, 218, 219, 220, 221, 222, 223, 224, 225, 226, 227, 228, 229, 230, 231, 232, 233, 234, 235, 236, 237, 238, 239, 240, 241, 242, 243, 244, 245, 246, 247, 248, 249, 250, 251, 252, 253, 254, 255, 256, 257, 258, 259, 260, 261, 262, 263, 264, 265, 266, 267, 268, 269, 270, 271, 272, 273, 274, 275, 276, 277, 278, 279, 280, 281, 282, 283, 284, 285, 286, 287, 288, 289, 290, 291, 292, 293, 294, 295, 296, 297, 298, 299, 300, 301, 302, 303, 304, 305, 306, 307, 308, 309, 310, 311, 312, 313, 314, 315, 316, 317, 318, 319, 320, 321, 322, 323, 324, 325, 326, 327, 328, 329, 330, 331, 332, 333, 334, 335, 336, 337, 338, 339, 340, 341, 342, 343, 344, 345, 346, 347, 348, 349, 350, 351, 352, 353, 354, 355, 356, 357, 358, 359, 360, 361, 362, 363, 364, 365, 366, 367, 368, 369, 370, 371, 372, 373, 374, 375, 376, 377, 378, 379, 380, 381, 382, 383, 384, 385, 386, 387, 388, 389, 390, 391, 392, 393, 394, 395, 396, 397, 398, 399, 400, 401, 402, 403, 404, 405, 406, 407, 408, 409, 410, 411, 412, 413, 414, 415, 416, 417, 418, 419, 420, 421, 422, 423, 424, 425, 426, 427, 428, 429, 430, 431, 432, 433, 434, 435, 436, 437, 438, 439, 440, 441, 442, 443, 444, 445, 446, 447, 448, 449, 450, 451, 452, 453, 454, 455, 456, 457, 458, 459, 460, 461, 462, 463, 464, 465, 466, 467, 468, 469, 470, 471, 472, 473, 474, 475, 476, 477, 478, 479, 480, 481, 482, 483, 484, 485, 486, 487, 488, 489, 490], \"xaxis\": \"x\", \"y\": [0.2653524652123451, 0.2563653513789177, 0.2524424806237221, 0.23753994554281235, 0.22790608257055284, 0.21723612397909164, 0.20618338733911515, 0.19850939363241196, 0.1843021973967552, 0.1677713856101036, 0.15678478814661503, 0.13547371216118337, 0.10669351629912853, 0.09544243216514588, 0.07321465723216533, 0.041227446869015694, 0.003417472913861275, -0.02292369194328785, -0.05861330218613148, -0.08852448351681233, -0.11641386970877647, -0.13695131614804268, -0.1602069318294525, -0.18213895447552203, -0.20047279447317123, -0.2097310446202755, -0.19269568994641303, -0.2002338722348213, -0.17084003686904908, -0.14101378843188286, -0.10297734811902046, -0.06429628357291221, -0.01726655438542366, 0.0172507144510746, 0.05366779491305351, 0.07775787115097046, 0.08909521885216236, 0.09748533852398396, 0.09301311988383532, 0.06405699197202921, 0.03535762373358011, 0.006314952112734318, -0.013527803658507764, -0.03451378250028938, -0.045273839659057555, -0.0417932674055919, -0.03637242277618498, -0.035725184134207666, -0.0283987378468737, -0.020159970759414135, -0.015138467191718519, -0.019939932762645184, -0.04277256336063147, -0.04358693826943636, -0.045985810831189154, -0.054513351246714595, -0.06533844787627459, -0.054473874159157276, -0.07450891714543104, -0.07495832573622466, -0.07859136071056128, -0.0678212096914649, -0.05694696959108114, -0.056711369566619395, -0.0495921092107892, -0.0427057670429349, -0.03598865233361721, -0.03434796296060085, -0.020056569762527943, -0.018234402872622013, -0.00998260248452425, -0.009728116728365422, 0.003325292281806469, 0.004952611401677132, 0.006245317682623863, 0.008050727471709252, 0.010170306637883186, 0.008869784697890282, 0.008490264229476453, 0.010324052534997463, 0.004701381735503674, 0.006907579861581326, 0.00876662489026785, 0.013905245438218116, 0.011082011088728905, 0.013650973513722419, 0.011102396249771117, 0.009658866375684739, 0.01372726671397686, 0.02087100432254374, 0.027065600315108896, 0.03183071743696928, 0.029683106672018768, 0.02491838363930583, 0.01610730206593871, -0.0019667730666697025, -0.00832129679620266, -0.010735774412751198, -0.016185401752591134, -0.016529724281281234, -0.014273059275001287, -0.014852578239515423, -0.0122284350451082, -0.012080896412953734, -0.010636077029630542, -0.007103141909465194, -0.012276735389605165, -0.018286624783650042, -0.016273149801418186, -0.019854942243546246, -0.02047547223046422, -0.023703802656382323, -0.025226631294935943, -0.02401235420256853, -0.023483829852193595, -0.022400732059031724, -0.021137167979031802, -0.015745984949171545, -0.0191260845400393, -0.02219064990058541, -0.022549147438257932, -0.023793292697519064, -0.03234887784346938, -0.03462560102343559, -0.03918011980131268, -0.04030299829319119, -0.03782742163166404, -0.03973724767565727, -0.03935093879699707, -0.03490328304469585, -0.039366837963461875, -0.041748321056365965, -0.03623718302696943, -0.03620752114802599, -0.03772816825658083, -0.04305868577212095, -0.04993377849459648, -0.05115505922585726, -0.05276697482913732, -0.05587960872799158, -0.052716162987053394, -0.04575050743296742, -0.04808811647817492, -0.04974220125004649, -0.05072238249704242, -0.051371401827782395, -0.04607339007779956, -0.04686086168512702, -0.043184918072074654, -0.03966435557231307, -0.03819989049807191, -0.042805889062583445, -0.04585210103541613, -0.04213478853926063, -0.04121522372588515, -0.035514515731483697, -0.03480487922206521, -0.03360046437010169, -0.03460788829252124, -0.038094197120517495, -0.040889364574104546, -0.03758125640451908, -0.030525858420878647, -0.024203962460160256, -0.02097945623099804, -0.02157381847500801, -0.02563423365354538, -0.029306800477206706, -0.03401922453194857, -0.03434921484440565, -0.023244660533964633, -0.01435518404468894, -0.008102182112634183, -0.009812434576451779, -0.001842593587934971, 0.0011173776816576718, 0.0017456195782870054, 0.003680096892639995, 0.006429686350747943, 0.010073504177853465, 0.0042200144845992325, -0.006552047235891223, -0.012604774115607143, -0.013307601539418101, -0.016740989265963437, -0.010908760037273169, -0.0012690463103353978, 0.0031760218553245068, 0.006687436904758215, 0.007788943126797676, 0.006178600806742906, 0.008325509633868933, 0.009017312433570623, 0.009413562994450331, 0.013009815197438001, 0.006569826789200306, 0.0025838416069746016, -0.0012678299099206924, -0.007038680836558342, -0.005688515584915876, -0.0035406663082540035, 0.0001131461001932621, 0.0012543325312435627, 0.0010914496146142484, -0.0023509797640144823, -0.0024561908096075056, -0.005626919120550156, -0.003373093530535698, 0.003200305998325348, -0.0012107642367482185, -0.0039399823173880575, -0.011138289794325828, -0.01449412778019905, -0.01568845324218273, -0.01692222645506263, -0.018340964708477257, -0.017710327077656983, -0.020871558506041766, -0.021837856527417897, -0.020162747707217932, -0.025459674093872307, -0.027556654904037713, -0.029544367734342814, -0.03506929604336619, -0.03921799175441265, -0.03879575692117214, -0.03879326060414314, -0.037672944739460944, -0.0378958024084568, -0.03771732933819294, -0.03312570489943027, -0.030719051882624627, -0.030709267407655717, -0.027908099722117184, -0.028542624693363904, -0.032720854971557856, -0.03650180967524648, -0.04124763058498502, -0.040679287165403366, -0.04041752405464649, -0.04406103380024433, -0.04209933802485466, -0.049418306350708006, -0.05255262376740575, -0.053401846531778575, -0.05203180098906159, -0.04475686650257558, -0.043146244692616166, -0.04994771385099739, -0.057112421630881725, -0.05756598690059036, -0.05968381182756275, -0.052889244793914256, -0.054695636569522324, -0.05345148982014507, -0.05167140678968281, -0.058692723512649536, -0.0555979885160923, -0.05054446831345558, -0.04731236658990383, -0.046067648380994794, -0.049866493046283725, -0.051767708361148836, -0.049863361194729804, -0.04992484822869301, -0.05023847296833992, -0.05096313804388046, -0.058857040107250215, -0.06478960067033768, -0.06898246593773365, -0.07267689257860184, -0.07213589400053025, -0.07282216660678387, -0.07410229854285717, -0.07389996871352196, -0.07787905037403106, -0.07312587946653366, -0.06457829549908638, -0.06452328711748123, -0.0650610312819481, -0.06704509258270264, -0.06569494754076004, -0.06814580857753753, -0.06812902875244617, -0.0725801333785057, -0.07579992562532425, -0.08471062108874321, -0.09045508056879044, -0.08502915762364864, -0.07718776259571314, -0.06971267890185118, -0.07616916131228209, -0.07610245626419783, -0.08250657152384519, -0.08273397218436003, -0.07895013149827719, -0.06799562554806471, -0.06465213354676962, -0.0746367210522294, -0.08702430613338948, -0.09973090589046478, -0.09744175150990486, -0.08974726619198918, -0.07742501134052873, -0.06658833175897598, -0.06583664938807487, -0.07310013175010681, -0.07828050777316094, -0.07664868459105492, -0.0710103265941143, -0.058724792674183846, -0.049939585663378236, -0.05646920995786786, -0.06542687574401498, -0.07986122462898493, -0.08597328681498766, -0.08708712179213762, -0.08260994125157595, -0.0761796148493886, -0.07223444487899541, -0.07575740981847048, -0.0830384660512209, -0.09041763357818126, -0.09100983329117299, -0.086497837677598, -0.08102793879806995, -0.07489951811730862, -0.07143957521766424, -0.07146195638924838, -0.0726794047281146, -0.07454745750874281, -0.07719782870262862, -0.07034780662506819, -0.07200724314898252, -0.07005167584866286, -0.07015703450888396, -0.07024523746222258, -0.07386874221265316, -0.07634365633130073, -0.07789324298501014, -0.07981685027480126, -0.07573741599917412, -0.07627508863806724, -0.0713425975292921, -0.07006435506045819, -0.07291632406413555, -0.0768506783992052, -0.07762974463403224, -0.07686346806585789, -0.07536705248057843, -0.07304521091282368, -0.07344902269542217, -0.07535915859043599, -0.07874605134129524, -0.08242091163992882, -0.07933634221553802, -0.07813204675912858, -0.0783738687634468, -0.07767902463674545, -0.07702763937413692, -0.07539008446037769, -0.07629053257405757, -0.07566959150135517, -0.07438867948949338, -0.07288169674575329, -0.07482928223907948, -0.07469681240618228, -0.07555052004754544, -0.07483704462647438, -0.07598962970077991, -0.0748615987598896, -0.0744313158094883, -0.07183785811066627, -0.07331108450889587, -0.07379947975277901, -0.07285680323839187, -0.07456422448158265, -0.07464085295796394, -0.0750111423432827, -0.0763147421181202, -0.0787380862981081, -0.08131812550127507, -0.0828515138477087, -0.08225885219871998, -0.08282532505691051, -0.0839888621121645, -0.08076722472906113, -0.07822840809822082, -0.07953096367418766, -0.08284596838057041, -0.08347791247069836, -0.08081338740885258, -0.08050317727029324, -0.07695167697966099, -0.07210003100335598, -0.06722219623625278, -0.06969999074935913, -0.07201728001236915, -0.07234843745827675, -0.07233373969793319, -0.07262164354324341, -0.07404721453785897, -0.06990064159035683, -0.07006387300789356, -0.07193761989474297, -0.07686521634459495, -0.07728589475154876, -0.0790363647043705, -0.07841609343886376, -0.07431633472442627, -0.07094870507717133, -0.06890185847878456, -0.07367701381444931, -0.07673686631023884, -0.07757517769932747, -0.07808240205049514, -0.07993860468268395, -0.07800306305289269, -0.07817944511771202, -0.07829131707549095, -0.07889044582843781, -0.07814237251877784, -0.07704903855919838, -0.07642792463302613, -0.0782661996781826, -0.07571420595049858, -0.07793552204966545, -0.07726672440767288, -0.07676753029227257, -0.07912408411502839, -0.08333202451467514, -0.08284748271107674, -0.0803699616342783, -0.08138520531356334, -0.07894472479820251, -0.07902522906661033, -0.07557623758912087, -0.07504574581980705, -0.07647243738174439, -0.07437935024499893, -0.07030060663819312, -0.07169076725840569, -0.07688792906701565, -0.07854840569198132, -0.07802480310201645, -0.07969886809587479, -0.07971190139651299, -0.07789731994271279, -0.07589390426874161, -0.0769715279340744, -0.07722637280821801, -0.07753600478172303, -0.07768773585557938, -0.07404759153723717, -0.07698673829436302, -0.07373919486999511, -0.07290081977844239, -0.07736889868974686, -0.08223331049084663, -0.08321873098611832, -0.08414011746644974, -0.08290939703583718, -0.08319497630000114, -0.08267171978950501, -0.08344588279724122, -0.08623670265078545, -0.08798448517918586, -0.08695694580674171, -0.082274329662323, -0.07973094582557679, -0.07743969149887561, -0.07662727385759353, -0.07463443279266357, -0.07571184262633324, -0.07498627603054046, -0.07687919437885285, -0.08010906651616097, -0.0788282185792923, -0.07945646569132805, -0.0799429252743721, -0.08086226619780064, -0.08296297490596771, -0.08127122446894645, -0.08395422771573066, -0.0844031147658825, -0.08158043473958969, -0.07748994752764701, -0.07736975327134132, -0.07786309644579888, -0.07768398150801659, -0.0804498977959156], \"yaxis\": \"y\"}],                        {\"font\": {\"family\": \"Courier New, monospace\", \"size\": 14}, \"template\": {\"data\": {\"bar\": [{\"error_x\": {\"color\": \"#2a3f5f\"}, \"error_y\": {\"color\": \"#2a3f5f\"}, \"marker\": {\"line\": {\"color\": \"#E5ECF6\", \"width\": 0.5}}, \"type\": \"bar\"}], \"barpolar\": [{\"marker\": {\"line\": {\"color\": \"#E5ECF6\", \"width\": 0.5}}, \"type\": \"barpolar\"}], \"carpet\": [{\"aaxis\": {\"endlinecolor\": \"#2a3f5f\", \"gridcolor\": \"white\", \"linecolor\": \"white\", \"minorgridcolor\": \"white\", \"startlinecolor\": \"#2a3f5f\"}, \"baxis\": {\"endlinecolor\": \"#2a3f5f\", \"gridcolor\": \"white\", \"linecolor\": \"white\", \"minorgridcolor\": \"white\", \"startlinecolor\": \"#2a3f5f\"}, \"type\": \"carpet\"}], \"choropleth\": [{\"colorbar\": {\"outlinewidth\": 0, \"ticks\": \"\"}, \"type\": \"choropleth\"}], \"contour\": [{\"colorbar\": {\"outlinewidth\": 0, \"ticks\": \"\"}, \"colorscale\": [[0.0, \"#0d0887\"], [0.1111111111111111, \"#46039f\"], [0.2222222222222222, \"#7201a8\"], [0.3333333333333333, \"#9c179e\"], [0.4444444444444444, \"#bd3786\"], [0.5555555555555556, \"#d8576b\"], [0.6666666666666666, \"#ed7953\"], [0.7777777777777778, \"#fb9f3a\"], [0.8888888888888888, \"#fdca26\"], [1.0, \"#f0f921\"]], \"type\": \"contour\"}], \"contourcarpet\": [{\"colorbar\": {\"outlinewidth\": 0, \"ticks\": \"\"}, \"type\": \"contourcarpet\"}], \"heatmap\": [{\"colorbar\": {\"outlinewidth\": 0, \"ticks\": \"\"}, \"colorscale\": [[0.0, \"#0d0887\"], [0.1111111111111111, \"#46039f\"], [0.2222222222222222, \"#7201a8\"], [0.3333333333333333, \"#9c179e\"], [0.4444444444444444, \"#bd3786\"], [0.5555555555555556, \"#d8576b\"], [0.6666666666666666, \"#ed7953\"], [0.7777777777777778, \"#fb9f3a\"], [0.8888888888888888, \"#fdca26\"], [1.0, \"#f0f921\"]], \"type\": \"heatmap\"}], \"heatmapgl\": [{\"colorbar\": {\"outlinewidth\": 0, \"ticks\": \"\"}, \"colorscale\": [[0.0, \"#0d0887\"], [0.1111111111111111, \"#46039f\"], [0.2222222222222222, \"#7201a8\"], [0.3333333333333333, \"#9c179e\"], [0.4444444444444444, \"#bd3786\"], [0.5555555555555556, \"#d8576b\"], [0.6666666666666666, \"#ed7953\"], [0.7777777777777778, \"#fb9f3a\"], [0.8888888888888888, \"#fdca26\"], [1.0, \"#f0f921\"]], \"type\": \"heatmapgl\"}], \"histogram\": [{\"marker\": {\"colorbar\": {\"outlinewidth\": 0, \"ticks\": \"\"}}, \"type\": \"histogram\"}], \"histogram2d\": [{\"colorbar\": {\"outlinewidth\": 0, \"ticks\": \"\"}, \"colorscale\": [[0.0, \"#0d0887\"], [0.1111111111111111, \"#46039f\"], [0.2222222222222222, \"#7201a8\"], [0.3333333333333333, \"#9c179e\"], [0.4444444444444444, \"#bd3786\"], [0.5555555555555556, \"#d8576b\"], [0.6666666666666666, \"#ed7953\"], [0.7777777777777778, \"#fb9f3a\"], [0.8888888888888888, \"#fdca26\"], [1.0, \"#f0f921\"]], \"type\": \"histogram2d\"}], \"histogram2dcontour\": [{\"colorbar\": {\"outlinewidth\": 0, \"ticks\": \"\"}, \"colorscale\": [[0.0, \"#0d0887\"], [0.1111111111111111, \"#46039f\"], [0.2222222222222222, \"#7201a8\"], [0.3333333333333333, \"#9c179e\"], [0.4444444444444444, \"#bd3786\"], [0.5555555555555556, \"#d8576b\"], [0.6666666666666666, \"#ed7953\"], [0.7777777777777778, \"#fb9f3a\"], [0.8888888888888888, \"#fdca26\"], [1.0, \"#f0f921\"]], \"type\": \"histogram2dcontour\"}], \"mesh3d\": [{\"colorbar\": {\"outlinewidth\": 0, \"ticks\": \"\"}, \"type\": \"mesh3d\"}], \"parcoords\": [{\"line\": {\"colorbar\": {\"outlinewidth\": 0, \"ticks\": \"\"}}, \"type\": \"parcoords\"}], \"pie\": [{\"automargin\": true, \"type\": \"pie\"}], \"scatter\": [{\"marker\": {\"colorbar\": {\"outlinewidth\": 0, \"ticks\": \"\"}}, \"type\": \"scatter\"}], \"scatter3d\": [{\"line\": {\"colorbar\": {\"outlinewidth\": 0, \"ticks\": \"\"}}, \"marker\": {\"colorbar\": {\"outlinewidth\": 0, \"ticks\": \"\"}}, \"type\": \"scatter3d\"}], \"scattercarpet\": [{\"marker\": {\"colorbar\": {\"outlinewidth\": 0, \"ticks\": \"\"}}, \"type\": \"scattercarpet\"}], \"scattergeo\": [{\"marker\": {\"colorbar\": {\"outlinewidth\": 0, \"ticks\": \"\"}}, \"type\": \"scattergeo\"}], \"scattergl\": [{\"marker\": {\"colorbar\": {\"outlinewidth\": 0, \"ticks\": \"\"}}, \"type\": \"scattergl\"}], \"scattermapbox\": [{\"marker\": {\"colorbar\": {\"outlinewidth\": 0, \"ticks\": \"\"}}, \"type\": \"scattermapbox\"}], \"scatterpolar\": [{\"marker\": {\"colorbar\": {\"outlinewidth\": 0, \"ticks\": \"\"}}, \"type\": \"scatterpolar\"}], \"scatterpolargl\": [{\"marker\": {\"colorbar\": {\"outlinewidth\": 0, \"ticks\": \"\"}}, \"type\": \"scatterpolargl\"}], \"scatterternary\": [{\"marker\": {\"colorbar\": {\"outlinewidth\": 0, \"ticks\": \"\"}}, \"type\": \"scatterternary\"}], \"surface\": [{\"colorbar\": {\"outlinewidth\": 0, \"ticks\": \"\"}, \"colorscale\": [[0.0, \"#0d0887\"], [0.1111111111111111, \"#46039f\"], [0.2222222222222222, \"#7201a8\"], [0.3333333333333333, \"#9c179e\"], [0.4444444444444444, \"#bd3786\"], [0.5555555555555556, \"#d8576b\"], [0.6666666666666666, \"#ed7953\"], [0.7777777777777778, \"#fb9f3a\"], [0.8888888888888888, \"#fdca26\"], [1.0, \"#f0f921\"]], \"type\": \"surface\"}], \"table\": [{\"cells\": {\"fill\": {\"color\": \"#EBF0F8\"}, \"line\": {\"color\": \"white\"}}, \"header\": {\"fill\": {\"color\": \"#C8D4E3\"}, \"line\": {\"color\": \"white\"}}, \"type\": \"table\"}]}, \"layout\": {\"annotationdefaults\": {\"arrowcolor\": \"#2a3f5f\", \"arrowhead\": 0, \"arrowwidth\": 1}, \"autotypenumbers\": \"strict\", \"coloraxis\": {\"colorbar\": {\"outlinewidth\": 0, \"ticks\": \"\"}}, \"colorscale\": {\"diverging\": [[0, \"#8e0152\"], [0.1, \"#c51b7d\"], [0.2, \"#de77ae\"], [0.3, \"#f1b6da\"], [0.4, \"#fde0ef\"], [0.5, \"#f7f7f7\"], [0.6, \"#e6f5d0\"], [0.7, \"#b8e186\"], [0.8, \"#7fbc41\"], [0.9, \"#4d9221\"], [1, \"#276419\"]], \"sequential\": [[0.0, \"#0d0887\"], [0.1111111111111111, \"#46039f\"], [0.2222222222222222, \"#7201a8\"], [0.3333333333333333, \"#9c179e\"], [0.4444444444444444, \"#bd3786\"], [0.5555555555555556, \"#d8576b\"], [0.6666666666666666, \"#ed7953\"], [0.7777777777777778, \"#fb9f3a\"], [0.8888888888888888, \"#fdca26\"], [1.0, \"#f0f921\"]], \"sequentialminus\": [[0.0, \"#0d0887\"], [0.1111111111111111, \"#46039f\"], [0.2222222222222222, \"#7201a8\"], [0.3333333333333333, \"#9c179e\"], [0.4444444444444444, \"#bd3786\"], [0.5555555555555556, \"#d8576b\"], [0.6666666666666666, \"#ed7953\"], [0.7777777777777778, \"#fb9f3a\"], [0.8888888888888888, \"#fdca26\"], [1.0, \"#f0f921\"]]}, \"colorway\": [\"#636efa\", \"#EF553B\", \"#00cc96\", \"#ab63fa\", \"#FFA15A\", \"#19d3f3\", \"#FF6692\", \"#B6E880\", \"#FF97FF\", \"#FECB52\"], \"font\": {\"color\": \"#2a3f5f\"}, \"geo\": {\"bgcolor\": \"white\", \"lakecolor\": \"white\", \"landcolor\": \"#E5ECF6\", \"showlakes\": true, \"showland\": true, \"subunitcolor\": \"white\"}, \"hoverlabel\": {\"align\": \"left\"}, \"hovermode\": \"closest\", \"mapbox\": {\"style\": \"light\"}, \"paper_bgcolor\": \"white\", \"plot_bgcolor\": \"#E5ECF6\", \"polar\": {\"angularaxis\": {\"gridcolor\": \"white\", \"linecolor\": \"white\", \"ticks\": \"\"}, \"bgcolor\": \"#E5ECF6\", \"radialaxis\": {\"gridcolor\": \"white\", \"linecolor\": \"white\", \"ticks\": \"\"}}, \"scene\": {\"xaxis\": {\"backgroundcolor\": \"#E5ECF6\", \"gridcolor\": \"white\", \"gridwidth\": 2, \"linecolor\": \"white\", \"showbackground\": true, \"ticks\": \"\", \"zerolinecolor\": \"white\"}, \"yaxis\": {\"backgroundcolor\": \"#E5ECF6\", \"gridcolor\": \"white\", \"gridwidth\": 2, \"linecolor\": \"white\", \"showbackground\": true, \"ticks\": \"\", \"zerolinecolor\": \"white\"}, \"zaxis\": {\"backgroundcolor\": \"#E5ECF6\", \"gridcolor\": \"white\", \"gridwidth\": 2, \"linecolor\": \"white\", \"showbackground\": true, \"ticks\": \"\", \"zerolinecolor\": \"white\"}}, \"shapedefaults\": {\"line\": {\"color\": \"#2a3f5f\"}}, \"ternary\": {\"aaxis\": {\"gridcolor\": \"white\", \"linecolor\": \"white\", \"ticks\": \"\"}, \"baxis\": {\"gridcolor\": \"white\", \"linecolor\": \"white\", \"ticks\": \"\"}, \"bgcolor\": \"#E5ECF6\", \"caxis\": {\"gridcolor\": \"white\", \"linecolor\": \"white\", \"ticks\": \"\"}}, \"title\": {\"x\": 0.05}, \"xaxis\": {\"automargin\": true, \"gridcolor\": \"white\", \"linecolor\": \"white\", \"ticks\": \"\", \"title\": {\"standoff\": 15}, \"zerolinecolor\": \"white\", \"zerolinewidth\": 2}, \"yaxis\": {\"automargin\": true, \"gridcolor\": \"white\", \"linecolor\": \"white\", \"ticks\": \"\", \"title\": {\"standoff\": 15}, \"zerolinecolor\": \"white\", \"zerolinewidth\": 2}}}, \"title\": {\"text\": \"Loss\"}, \"xaxis\": {\"anchor\": \"y\", \"domain\": [0.0, 1.0], \"title\": {\"text\": \"Iterations\"}}, \"yaxis\": {\"anchor\": \"x\", \"domain\": [0.0, 1.0], \"title\": {\"text\": \"Loss\"}}},                        {\"responsive\": true}                    ).then(function(){\n",
       "                            \n",
       "var gd = document.getElementById('2f5dc06a-2188-4c4b-ba3a-5aa6c42b6d8d');\n",
       "var x = new MutationObserver(function (mutations, observer) {{\n",
       "        var display = window.getComputedStyle(gd).display;\n",
       "        if (!display || display === 'none') {{\n",
       "            console.log([gd, 'removed!']);\n",
       "            Plotly.purge(gd);\n",
       "            observer.disconnect();\n",
       "        }}\n",
       "}});\n",
       "\n",
       "// Listen for the removal of the full notebook cells\n",
       "var notebookContainer = gd.closest('#notebook-container');\n",
       "if (notebookContainer) {{\n",
       "    x.observe(notebookContainer, {childList: true});\n",
       "}}\n",
       "\n",
       "// Listen for the clearing of the current output cell\n",
       "var outputEl = gd.closest('.output');\n",
       "if (outputEl) {{\n",
       "    x.observe(outputEl, {childList: true});\n",
       "}}\n",
       "\n",
       "                        })                };                });            </script>        </div>"
      ]
     },
     "metadata": {},
     "output_type": "display_data"
    }
   ],
   "source": [
    "LIQUIDATION_MODEL_CONFIG = {\n",
    "    \"hidden_dim\": 32,\n",
    "    \"learning_rate\": 5e-3,\n",
    "    \"loss_weights\": (1, 1),\n",
    "    \"lr_decay\": 0.99,\n",
    "    \"sampling_method\": \"uniform\",\n",
    "    \"network_type\": \"FF\",\n",
    "    \"optimiser\": \"Adam\",\n",
    "    \"delay_control\": 2,\n",
    "    \"alpha_noise\": 0.3\n",
    "}\n",
    "eq = LIQUIDATION()\n",
    "model = LIQUIDATION_MODEL_CONFIG\n",
    "solver = DGMPIASolver(model, eq)\n",
    "loss = np.array(list(solver.train(500)))\n",
    "plot_losses(loss)"
   ]
  },
  {
   "cell_type": "code",
   "execution_count": 119,
   "id": "secondary-flesh",
   "metadata": {},
   "outputs": [
    {
     "data": {
      "application/vnd.plotly.v1+json": {
       "config": {
        "plotlyServerURL": "https://plot.ly"
       },
       "data": [
        {
         "line": {
          "color": "#00e476"
         },
         "mode": "lines",
         "name": "Controlled",
         "type": "scatter",
         "x": [
          0,
          0.02040816326530612,
          0.04081632653061224,
          0.061224489795918366,
          0.08163265306122448,
          0.1020408163265306,
          0.12244897959183673,
          0.14285714285714285,
          0.16326530612244897,
          0.18367346938775508,
          0.2040816326530612,
          0.22448979591836732,
          0.24489795918367346,
          0.26530612244897955,
          0.2857142857142857,
          0.3061224489795918,
          0.32653061224489793,
          0.3469387755102041,
          0.36734693877551017,
          0.3877551020408163,
          0.4081632653061224,
          0.42857142857142855,
          0.44897959183673464,
          0.4693877551020408,
          0.4897959183673469,
          0.5102040816326531,
          0.5306122448979591,
          0.5510204081632653,
          0.5714285714285714,
          0.5918367346938775,
          0.6122448979591836,
          0.6326530612244897,
          0.6530612244897959,
          0.673469387755102,
          0.6938775510204082,
          0.7142857142857142,
          0.7346938775510203,
          0.7551020408163265,
          0.7755102040816326,
          0.7959183673469387,
          0.8163265306122448,
          0.836734693877551,
          0.8571428571428571,
          0.8775510204081632,
          0.8979591836734693,
          0.9183673469387754,
          0.9387755102040816,
          0.9591836734693877,
          0.9795918367346939,
          1
         ],
         "xaxis": "x",
         "y": [
          0.3,
          0.31239518597323823,
          0.3247195029671773,
          0.336336600154028,
          0.34500715912751917,
          0.3519956848090151,
          0.36008734617181976,
          0.3674577363033334,
          0.37502746085023864,
          0.38074959156680777,
          0.385849470377416,
          0.3911848832011408,
          0.3946724952183913,
          0.39849601732921286,
          0.4044467956222111,
          0.41019558642017906,
          0.41554947740589676,
          0.4208593624579608,
          0.424930876696812,
          0.42977798067245904,
          0.43404028689780316,
          0.4381374801262746,
          0.4430235267883264,
          0.4477343959172331,
          0.45268812130768077,
          0.458141757277961,
          0.4629652451970798,
          0.4675730495788492,
          0.47256743187168654,
          0.4770002043055726,
          0.4811981767456152,
          0.48559703266266324,
          0.4892086293416707,
          0.49267375869357916,
          0.49649845761152694,
          0.5005208919712983,
          0.5041333479940487,
          0.5077960464650949,
          0.5121983962611466,
          0.5164736423068723,
          0.5202170441541337,
          0.5241036728280397,
          0.5272253318692215,
          0.5303637297785179,
          0.5335697208261581,
          0.5368314635115193,
          0.5406106853859718,
          0.5443299875581896,
          0.5484739838210576,
          0.6180711488036292
         ],
         "yaxis": "y"
        },
        {
         "line": {
          "color": "#FFe476"
         },
         "mode": "lines",
         "name": "Uncontrolled",
         "type": "scatter",
         "x": [
          0,
          0.02040816326530612,
          0.04081632653061224,
          0.061224489795918366,
          0.08163265306122448,
          0.1020408163265306,
          0.12244897959183673,
          0.14285714285714285,
          0.16326530612244897,
          0.18367346938775508,
          0.2040816326530612,
          0.22448979591836732,
          0.24489795918367346,
          0.26530612244897955,
          0.2857142857142857,
          0.3061224489795918,
          0.32653061224489793,
          0.3469387755102041,
          0.36734693877551017,
          0.3877551020408163,
          0.4081632653061224,
          0.42857142857142855,
          0.44897959183673464,
          0.4693877551020408,
          0.4897959183673469,
          0.5102040816326531,
          0.5306122448979591,
          0.5510204081632653,
          0.5714285714285714,
          0.5918367346938775,
          0.6122448979591836,
          0.6326530612244897,
          0.6530612244897959,
          0.673469387755102,
          0.6938775510204082,
          0.7142857142857142,
          0.7346938775510203,
          0.7551020408163265,
          0.7755102040816326,
          0.7959183673469387,
          0.8163265306122448,
          0.836734693877551,
          0.8571428571428571,
          0.8775510204081632,
          0.8979591836734693,
          0.9183673469387754,
          0.9387755102040816,
          0.9591836734693877,
          0.9795918367346939,
          1
         ],
         "xaxis": "x",
         "y": [
          0.3,
          0.298,
          0.296,
          0.294,
          0.292,
          0.29,
          0.288,
          0.286,
          0.284,
          0.282,
          0.27999999999999997,
          0.27799999999999997,
          0.27599999999999997,
          0.27399999999999997,
          0.27199999999999996,
          0.26999999999999996,
          0.26799999999999996,
          0.26599999999999996,
          0.26399999999999996,
          0.26199999999999996,
          0.25999999999999995,
          0.25799999999999995,
          0.25599999999999995,
          0.25399999999999995,
          0.25199999999999995,
          0.24999999999999994,
          0.24799999999999994,
          0.24599999999999994,
          0.24399999999999994,
          0.24199999999999994,
          0.23999999999999994,
          0.23799999999999993,
          0.23599999999999993,
          0.23399999999999993,
          0.23199999999999993,
          0.22999999999999993,
          0.22799999999999992,
          0.22599999999999992,
          0.22399999999999992,
          0.22199999999999992,
          0.21999999999999992,
          0.21799999999999992,
          0.21599999999999991,
          0.2139999999999999,
          0.2119999999999999,
          0.2099999999999999,
          0.2079999999999999,
          0.2059999999999999,
          0.2039999999999999,
          0.6737917783304983
         ],
         "yaxis": "y"
        },
        {
         "line": {
          "color": "#eeee76"
         },
         "mode": "lines",
         "name": "Value Function",
         "type": "scatter",
         "x": [
          0,
          0.02040816326530612,
          0.04081632653061224,
          0.061224489795918366,
          0.08163265306122448,
          0.1020408163265306,
          0.12244897959183673,
          0.14285714285714285,
          0.16326530612244897,
          0.18367346938775508,
          0.2040816326530612,
          0.22448979591836732,
          0.24489795918367346,
          0.26530612244897955,
          0.2857142857142857,
          0.3061224489795918,
          0.32653061224489793,
          0.3469387755102041,
          0.36734693877551017,
          0.3877551020408163,
          0.4081632653061224,
          0.42857142857142855,
          0.44897959183673464,
          0.4693877551020408,
          0.4897959183673469,
          0.5102040816326531,
          0.5306122448979591,
          0.5510204081632653,
          0.5714285714285714,
          0.5918367346938775,
          0.6122448979591836,
          0.6326530612244897,
          0.6530612244897959,
          0.673469387755102,
          0.6938775510204082,
          0.7142857142857142,
          0.7346938775510203,
          0.7551020408163265,
          0.7755102040816326,
          0.7959183673469387,
          0.8163265306122448,
          0.836734693877551,
          0.8571428571428571,
          0.8775510204081632,
          0.8979591836734693,
          0.9183673469387754,
          0.9387755102040816,
          0.9591836734693877,
          0.9795918367346939,
          1
         ],
         "xaxis": "x",
         "y": [
          0.5,
          0.5038661659028512,
          0.4884232152362147,
          0.40102007508981613,
          0.3500875861952666,
          0.3895595143867623,
          0.36861314428184466,
          0.3794108682147672,
          0.3158407950957912,
          0.29493519589768036,
          0.30619837523947335,
          0.23529622339483958,
          0.24973944903522693,
          0.34200109172554116,
          0.337736101168897,
          0.32442988351196195,
          0.3269831678352143,
          0.27162297054080753,
          0.3139129569995915,
          0.28843179510928446,
          0.2839035005880342,
          0.3323912124905968,
          0.32853275444000446,
          0.34968737849910536,
          0.38889727719474876,
          0.3565525758759529,
          0.3501165580674278,
          0.3856215598384315,
          0.354162920603954,
          0.3452151000613197,
          0.3696341579569816,
          0.3157594483200417,
          0.3115251513658103,
          0.3505797577149641,
          0.3784887890966387,
          0.35047548717456706,
          0.36561447880420855,
          0.45587298990229896,
          0.45680602261013276,
          0.4097668555610566,
          0.4412742925484642,
          0.3612362646778589,
          0.37538922224843774,
          0.39746905994526455,
          0.4199076839572367,
          0.519527035448189,
          0.5313566406893827,
          0.6464609558147512,
          0.601799951668889,
          0.6217026446409758
         ],
         "yaxis": "y"
        }
       ],
       "layout": {
        "font": {
         "family": "Courier New, monospace",
         "size": 14
        },
        "template": {
         "data": {
          "bar": [
           {
            "error_x": {
             "color": "#2a3f5f"
            },
            "error_y": {
             "color": "#2a3f5f"
            },
            "marker": {
             "line": {
              "color": "#E5ECF6",
              "width": 0.5
             }
            },
            "type": "bar"
           }
          ],
          "barpolar": [
           {
            "marker": {
             "line": {
              "color": "#E5ECF6",
              "width": 0.5
             }
            },
            "type": "barpolar"
           }
          ],
          "carpet": [
           {
            "aaxis": {
             "endlinecolor": "#2a3f5f",
             "gridcolor": "white",
             "linecolor": "white",
             "minorgridcolor": "white",
             "startlinecolor": "#2a3f5f"
            },
            "baxis": {
             "endlinecolor": "#2a3f5f",
             "gridcolor": "white",
             "linecolor": "white",
             "minorgridcolor": "white",
             "startlinecolor": "#2a3f5f"
            },
            "type": "carpet"
           }
          ],
          "choropleth": [
           {
            "colorbar": {
             "outlinewidth": 0,
             "ticks": ""
            },
            "type": "choropleth"
           }
          ],
          "contour": [
           {
            "colorbar": {
             "outlinewidth": 0,
             "ticks": ""
            },
            "colorscale": [
             [
              0,
              "#0d0887"
             ],
             [
              0.1111111111111111,
              "#46039f"
             ],
             [
              0.2222222222222222,
              "#7201a8"
             ],
             [
              0.3333333333333333,
              "#9c179e"
             ],
             [
              0.4444444444444444,
              "#bd3786"
             ],
             [
              0.5555555555555556,
              "#d8576b"
             ],
             [
              0.6666666666666666,
              "#ed7953"
             ],
             [
              0.7777777777777778,
              "#fb9f3a"
             ],
             [
              0.8888888888888888,
              "#fdca26"
             ],
             [
              1,
              "#f0f921"
             ]
            ],
            "type": "contour"
           }
          ],
          "contourcarpet": [
           {
            "colorbar": {
             "outlinewidth": 0,
             "ticks": ""
            },
            "type": "contourcarpet"
           }
          ],
          "heatmap": [
           {
            "colorbar": {
             "outlinewidth": 0,
             "ticks": ""
            },
            "colorscale": [
             [
              0,
              "#0d0887"
             ],
             [
              0.1111111111111111,
              "#46039f"
             ],
             [
              0.2222222222222222,
              "#7201a8"
             ],
             [
              0.3333333333333333,
              "#9c179e"
             ],
             [
              0.4444444444444444,
              "#bd3786"
             ],
             [
              0.5555555555555556,
              "#d8576b"
             ],
             [
              0.6666666666666666,
              "#ed7953"
             ],
             [
              0.7777777777777778,
              "#fb9f3a"
             ],
             [
              0.8888888888888888,
              "#fdca26"
             ],
             [
              1,
              "#f0f921"
             ]
            ],
            "type": "heatmap"
           }
          ],
          "heatmapgl": [
           {
            "colorbar": {
             "outlinewidth": 0,
             "ticks": ""
            },
            "colorscale": [
             [
              0,
              "#0d0887"
             ],
             [
              0.1111111111111111,
              "#46039f"
             ],
             [
              0.2222222222222222,
              "#7201a8"
             ],
             [
              0.3333333333333333,
              "#9c179e"
             ],
             [
              0.4444444444444444,
              "#bd3786"
             ],
             [
              0.5555555555555556,
              "#d8576b"
             ],
             [
              0.6666666666666666,
              "#ed7953"
             ],
             [
              0.7777777777777778,
              "#fb9f3a"
             ],
             [
              0.8888888888888888,
              "#fdca26"
             ],
             [
              1,
              "#f0f921"
             ]
            ],
            "type": "heatmapgl"
           }
          ],
          "histogram": [
           {
            "marker": {
             "colorbar": {
              "outlinewidth": 0,
              "ticks": ""
             }
            },
            "type": "histogram"
           }
          ],
          "histogram2d": [
           {
            "colorbar": {
             "outlinewidth": 0,
             "ticks": ""
            },
            "colorscale": [
             [
              0,
              "#0d0887"
             ],
             [
              0.1111111111111111,
              "#46039f"
             ],
             [
              0.2222222222222222,
              "#7201a8"
             ],
             [
              0.3333333333333333,
              "#9c179e"
             ],
             [
              0.4444444444444444,
              "#bd3786"
             ],
             [
              0.5555555555555556,
              "#d8576b"
             ],
             [
              0.6666666666666666,
              "#ed7953"
             ],
             [
              0.7777777777777778,
              "#fb9f3a"
             ],
             [
              0.8888888888888888,
              "#fdca26"
             ],
             [
              1,
              "#f0f921"
             ]
            ],
            "type": "histogram2d"
           }
          ],
          "histogram2dcontour": [
           {
            "colorbar": {
             "outlinewidth": 0,
             "ticks": ""
            },
            "colorscale": [
             [
              0,
              "#0d0887"
             ],
             [
              0.1111111111111111,
              "#46039f"
             ],
             [
              0.2222222222222222,
              "#7201a8"
             ],
             [
              0.3333333333333333,
              "#9c179e"
             ],
             [
              0.4444444444444444,
              "#bd3786"
             ],
             [
              0.5555555555555556,
              "#d8576b"
             ],
             [
              0.6666666666666666,
              "#ed7953"
             ],
             [
              0.7777777777777778,
              "#fb9f3a"
             ],
             [
              0.8888888888888888,
              "#fdca26"
             ],
             [
              1,
              "#f0f921"
             ]
            ],
            "type": "histogram2dcontour"
           }
          ],
          "mesh3d": [
           {
            "colorbar": {
             "outlinewidth": 0,
             "ticks": ""
            },
            "type": "mesh3d"
           }
          ],
          "parcoords": [
           {
            "line": {
             "colorbar": {
              "outlinewidth": 0,
              "ticks": ""
             }
            },
            "type": "parcoords"
           }
          ],
          "pie": [
           {
            "automargin": true,
            "type": "pie"
           }
          ],
          "scatter": [
           {
            "marker": {
             "colorbar": {
              "outlinewidth": 0,
              "ticks": ""
             }
            },
            "type": "scatter"
           }
          ],
          "scatter3d": [
           {
            "line": {
             "colorbar": {
              "outlinewidth": 0,
              "ticks": ""
             }
            },
            "marker": {
             "colorbar": {
              "outlinewidth": 0,
              "ticks": ""
             }
            },
            "type": "scatter3d"
           }
          ],
          "scattercarpet": [
           {
            "marker": {
             "colorbar": {
              "outlinewidth": 0,
              "ticks": ""
             }
            },
            "type": "scattercarpet"
           }
          ],
          "scattergeo": [
           {
            "marker": {
             "colorbar": {
              "outlinewidth": 0,
              "ticks": ""
             }
            },
            "type": "scattergeo"
           }
          ],
          "scattergl": [
           {
            "marker": {
             "colorbar": {
              "outlinewidth": 0,
              "ticks": ""
             }
            },
            "type": "scattergl"
           }
          ],
          "scattermapbox": [
           {
            "marker": {
             "colorbar": {
              "outlinewidth": 0,
              "ticks": ""
             }
            },
            "type": "scattermapbox"
           }
          ],
          "scatterpolar": [
           {
            "marker": {
             "colorbar": {
              "outlinewidth": 0,
              "ticks": ""
             }
            },
            "type": "scatterpolar"
           }
          ],
          "scatterpolargl": [
           {
            "marker": {
             "colorbar": {
              "outlinewidth": 0,
              "ticks": ""
             }
            },
            "type": "scatterpolargl"
           }
          ],
          "scatterternary": [
           {
            "marker": {
             "colorbar": {
              "outlinewidth": 0,
              "ticks": ""
             }
            },
            "type": "scatterternary"
           }
          ],
          "surface": [
           {
            "colorbar": {
             "outlinewidth": 0,
             "ticks": ""
            },
            "colorscale": [
             [
              0,
              "#0d0887"
             ],
             [
              0.1111111111111111,
              "#46039f"
             ],
             [
              0.2222222222222222,
              "#7201a8"
             ],
             [
              0.3333333333333333,
              "#9c179e"
             ],
             [
              0.4444444444444444,
              "#bd3786"
             ],
             [
              0.5555555555555556,
              "#d8576b"
             ],
             [
              0.6666666666666666,
              "#ed7953"
             ],
             [
              0.7777777777777778,
              "#fb9f3a"
             ],
             [
              0.8888888888888888,
              "#fdca26"
             ],
             [
              1,
              "#f0f921"
             ]
            ],
            "type": "surface"
           }
          ],
          "table": [
           {
            "cells": {
             "fill": {
              "color": "#EBF0F8"
             },
             "line": {
              "color": "white"
             }
            },
            "header": {
             "fill": {
              "color": "#C8D4E3"
             },
             "line": {
              "color": "white"
             }
            },
            "type": "table"
           }
          ]
         },
         "layout": {
          "annotationdefaults": {
           "arrowcolor": "#2a3f5f",
           "arrowhead": 0,
           "arrowwidth": 1
          },
          "autotypenumbers": "strict",
          "coloraxis": {
           "colorbar": {
            "outlinewidth": 0,
            "ticks": ""
           }
          },
          "colorscale": {
           "diverging": [
            [
             0,
             "#8e0152"
            ],
            [
             0.1,
             "#c51b7d"
            ],
            [
             0.2,
             "#de77ae"
            ],
            [
             0.3,
             "#f1b6da"
            ],
            [
             0.4,
             "#fde0ef"
            ],
            [
             0.5,
             "#f7f7f7"
            ],
            [
             0.6,
             "#e6f5d0"
            ],
            [
             0.7,
             "#b8e186"
            ],
            [
             0.8,
             "#7fbc41"
            ],
            [
             0.9,
             "#4d9221"
            ],
            [
             1,
             "#276419"
            ]
           ],
           "sequential": [
            [
             0,
             "#0d0887"
            ],
            [
             0.1111111111111111,
             "#46039f"
            ],
            [
             0.2222222222222222,
             "#7201a8"
            ],
            [
             0.3333333333333333,
             "#9c179e"
            ],
            [
             0.4444444444444444,
             "#bd3786"
            ],
            [
             0.5555555555555556,
             "#d8576b"
            ],
            [
             0.6666666666666666,
             "#ed7953"
            ],
            [
             0.7777777777777778,
             "#fb9f3a"
            ],
            [
             0.8888888888888888,
             "#fdca26"
            ],
            [
             1,
             "#f0f921"
            ]
           ],
           "sequentialminus": [
            [
             0,
             "#0d0887"
            ],
            [
             0.1111111111111111,
             "#46039f"
            ],
            [
             0.2222222222222222,
             "#7201a8"
            ],
            [
             0.3333333333333333,
             "#9c179e"
            ],
            [
             0.4444444444444444,
             "#bd3786"
            ],
            [
             0.5555555555555556,
             "#d8576b"
            ],
            [
             0.6666666666666666,
             "#ed7953"
            ],
            [
             0.7777777777777778,
             "#fb9f3a"
            ],
            [
             0.8888888888888888,
             "#fdca26"
            ],
            [
             1,
             "#f0f921"
            ]
           ]
          },
          "colorway": [
           "#636efa",
           "#EF553B",
           "#00cc96",
           "#ab63fa",
           "#FFA15A",
           "#19d3f3",
           "#FF6692",
           "#B6E880",
           "#FF97FF",
           "#FECB52"
          ],
          "font": {
           "color": "#2a3f5f"
          },
          "geo": {
           "bgcolor": "white",
           "lakecolor": "white",
           "landcolor": "#E5ECF6",
           "showlakes": true,
           "showland": true,
           "subunitcolor": "white"
          },
          "hoverlabel": {
           "align": "left"
          },
          "hovermode": "closest",
          "mapbox": {
           "style": "light"
          },
          "paper_bgcolor": "white",
          "plot_bgcolor": "#E5ECF6",
          "polar": {
           "angularaxis": {
            "gridcolor": "white",
            "linecolor": "white",
            "ticks": ""
           },
           "bgcolor": "#E5ECF6",
           "radialaxis": {
            "gridcolor": "white",
            "linecolor": "white",
            "ticks": ""
           }
          },
          "scene": {
           "xaxis": {
            "backgroundcolor": "#E5ECF6",
            "gridcolor": "white",
            "gridwidth": 2,
            "linecolor": "white",
            "showbackground": true,
            "ticks": "",
            "zerolinecolor": "white"
           },
           "yaxis": {
            "backgroundcolor": "#E5ECF6",
            "gridcolor": "white",
            "gridwidth": 2,
            "linecolor": "white",
            "showbackground": true,
            "ticks": "",
            "zerolinecolor": "white"
           },
           "zaxis": {
            "backgroundcolor": "#E5ECF6",
            "gridcolor": "white",
            "gridwidth": 2,
            "linecolor": "white",
            "showbackground": true,
            "ticks": "",
            "zerolinecolor": "white"
           }
          },
          "shapedefaults": {
           "line": {
            "color": "#2a3f5f"
           }
          },
          "ternary": {
           "aaxis": {
            "gridcolor": "white",
            "linecolor": "white",
            "ticks": ""
           },
           "baxis": {
            "gridcolor": "white",
            "linecolor": "white",
            "ticks": ""
           },
           "bgcolor": "#E5ECF6",
           "caxis": {
            "gridcolor": "white",
            "linecolor": "white",
            "ticks": ""
           }
          },
          "title": {
           "x": 0.05
          },
          "xaxis": {
           "automargin": true,
           "gridcolor": "white",
           "linecolor": "white",
           "ticks": "",
           "title": {
            "standoff": 15
           },
           "zerolinecolor": "white",
           "zerolinewidth": 2
          },
          "yaxis": {
           "automargin": true,
           "gridcolor": "white",
           "linecolor": "white",
           "ticks": "",
           "title": {
            "standoff": 15
           },
           "zerolinecolor": "white",
           "zerolinewidth": 2
          }
         }
        },
        "title": {
         "text": "Maximise amount of X"
        },
        "xaxis": {
         "anchor": "y",
         "domain": [
          0,
          1
         ],
         "title": {
          "text": "t"
         }
        },
        "yaxis": {
         "anchor": "x",
         "domain": [
          0,
          1
         ],
         "title": {
          "text": "X"
         }
        }
       }
      },
      "text/html": [
       "<div>                            <div id=\"3cc531c0-aa8e-437c-907c-738349acce99\" class=\"plotly-graph-div\" style=\"height:525px; width:100%;\"></div>            <script type=\"text/javascript\">                require([\"plotly\"], function(Plotly) {                    window.PLOTLYENV=window.PLOTLYENV || {};                                    if (document.getElementById(\"3cc531c0-aa8e-437c-907c-738349acce99\")) {                    Plotly.newPlot(                        \"3cc531c0-aa8e-437c-907c-738349acce99\",                        [{\"line\": {\"color\": \"#00e476\"}, \"mode\": \"lines\", \"name\": \"Controlled\", \"type\": \"scatter\", \"x\": [0.0, 0.02040816326530612, 0.04081632653061224, 0.061224489795918366, 0.08163265306122448, 0.1020408163265306, 0.12244897959183673, 0.14285714285714285, 0.16326530612244897, 0.18367346938775508, 0.2040816326530612, 0.22448979591836732, 0.24489795918367346, 0.26530612244897955, 0.2857142857142857, 0.3061224489795918, 0.32653061224489793, 0.3469387755102041, 0.36734693877551017, 0.3877551020408163, 0.4081632653061224, 0.42857142857142855, 0.44897959183673464, 0.4693877551020408, 0.4897959183673469, 0.5102040816326531, 0.5306122448979591, 0.5510204081632653, 0.5714285714285714, 0.5918367346938775, 0.6122448979591836, 0.6326530612244897, 0.6530612244897959, 0.673469387755102, 0.6938775510204082, 0.7142857142857142, 0.7346938775510203, 0.7551020408163265, 0.7755102040816326, 0.7959183673469387, 0.8163265306122448, 0.836734693877551, 0.8571428571428571, 0.8775510204081632, 0.8979591836734693, 0.9183673469387754, 0.9387755102040816, 0.9591836734693877, 0.9795918367346939, 1.0], \"xaxis\": \"x\", \"y\": [0.3, 0.31239518597323823, 0.3247195029671773, 0.336336600154028, 0.34500715912751917, 0.3519956848090151, 0.36008734617181976, 0.3674577363033334, 0.37502746085023864, 0.38074959156680777, 0.385849470377416, 0.3911848832011408, 0.3946724952183913, 0.39849601732921286, 0.4044467956222111, 0.41019558642017906, 0.41554947740589676, 0.4208593624579608, 0.424930876696812, 0.42977798067245904, 0.43404028689780316, 0.4381374801262746, 0.4430235267883264, 0.4477343959172331, 0.45268812130768077, 0.458141757277961, 0.4629652451970798, 0.4675730495788492, 0.47256743187168654, 0.4770002043055726, 0.4811981767456152, 0.48559703266266324, 0.4892086293416707, 0.49267375869357916, 0.49649845761152694, 0.5005208919712983, 0.5041333479940487, 0.5077960464650949, 0.5121983962611466, 0.5164736423068723, 0.5202170441541337, 0.5241036728280397, 0.5272253318692215, 0.5303637297785179, 0.5335697208261581, 0.5368314635115193, 0.5406106853859718, 0.5443299875581896, 0.5484739838210576, 0.6180711488036292], \"yaxis\": \"y\"}, {\"line\": {\"color\": \"#FFe476\"}, \"mode\": \"lines\", \"name\": \"Uncontrolled\", \"type\": \"scatter\", \"x\": [0.0, 0.02040816326530612, 0.04081632653061224, 0.061224489795918366, 0.08163265306122448, 0.1020408163265306, 0.12244897959183673, 0.14285714285714285, 0.16326530612244897, 0.18367346938775508, 0.2040816326530612, 0.22448979591836732, 0.24489795918367346, 0.26530612244897955, 0.2857142857142857, 0.3061224489795918, 0.32653061224489793, 0.3469387755102041, 0.36734693877551017, 0.3877551020408163, 0.4081632653061224, 0.42857142857142855, 0.44897959183673464, 0.4693877551020408, 0.4897959183673469, 0.5102040816326531, 0.5306122448979591, 0.5510204081632653, 0.5714285714285714, 0.5918367346938775, 0.6122448979591836, 0.6326530612244897, 0.6530612244897959, 0.673469387755102, 0.6938775510204082, 0.7142857142857142, 0.7346938775510203, 0.7551020408163265, 0.7755102040816326, 0.7959183673469387, 0.8163265306122448, 0.836734693877551, 0.8571428571428571, 0.8775510204081632, 0.8979591836734693, 0.9183673469387754, 0.9387755102040816, 0.9591836734693877, 0.9795918367346939, 1.0], \"xaxis\": \"x\", \"y\": [0.3, 0.298, 0.296, 0.294, 0.292, 0.29, 0.288, 0.286, 0.284, 0.282, 0.27999999999999997, 0.27799999999999997, 0.27599999999999997, 0.27399999999999997, 0.27199999999999996, 0.26999999999999996, 0.26799999999999996, 0.26599999999999996, 0.26399999999999996, 0.26199999999999996, 0.25999999999999995, 0.25799999999999995, 0.25599999999999995, 0.25399999999999995, 0.25199999999999995, 0.24999999999999994, 0.24799999999999994, 0.24599999999999994, 0.24399999999999994, 0.24199999999999994, 0.23999999999999994, 0.23799999999999993, 0.23599999999999993, 0.23399999999999993, 0.23199999999999993, 0.22999999999999993, 0.22799999999999992, 0.22599999999999992, 0.22399999999999992, 0.22199999999999992, 0.21999999999999992, 0.21799999999999992, 0.21599999999999991, 0.2139999999999999, 0.2119999999999999, 0.2099999999999999, 0.2079999999999999, 0.2059999999999999, 0.2039999999999999, 0.6737917783304983], \"yaxis\": \"y\"}, {\"line\": {\"color\": \"#eeee76\"}, \"mode\": \"lines\", \"name\": \"Value Function\", \"type\": \"scatter\", \"x\": [0.0, 0.02040816326530612, 0.04081632653061224, 0.061224489795918366, 0.08163265306122448, 0.1020408163265306, 0.12244897959183673, 0.14285714285714285, 0.16326530612244897, 0.18367346938775508, 0.2040816326530612, 0.22448979591836732, 0.24489795918367346, 0.26530612244897955, 0.2857142857142857, 0.3061224489795918, 0.32653061224489793, 0.3469387755102041, 0.36734693877551017, 0.3877551020408163, 0.4081632653061224, 0.42857142857142855, 0.44897959183673464, 0.4693877551020408, 0.4897959183673469, 0.5102040816326531, 0.5306122448979591, 0.5510204081632653, 0.5714285714285714, 0.5918367346938775, 0.6122448979591836, 0.6326530612244897, 0.6530612244897959, 0.673469387755102, 0.6938775510204082, 0.7142857142857142, 0.7346938775510203, 0.7551020408163265, 0.7755102040816326, 0.7959183673469387, 0.8163265306122448, 0.836734693877551, 0.8571428571428571, 0.8775510204081632, 0.8979591836734693, 0.9183673469387754, 0.9387755102040816, 0.9591836734693877, 0.9795918367346939, 1.0], \"xaxis\": \"x\", \"y\": [0.5, 0.5038661659028512, 0.4884232152362147, 0.40102007508981613, 0.3500875861952666, 0.3895595143867623, 0.36861314428184466, 0.3794108682147672, 0.3158407950957912, 0.29493519589768036, 0.30619837523947335, 0.23529622339483958, 0.24973944903522693, 0.34200109172554116, 0.337736101168897, 0.32442988351196195, 0.3269831678352143, 0.27162297054080753, 0.3139129569995915, 0.28843179510928446, 0.2839035005880342, 0.3323912124905968, 0.32853275444000446, 0.34968737849910536, 0.38889727719474876, 0.3565525758759529, 0.3501165580674278, 0.3856215598384315, 0.354162920603954, 0.3452151000613197, 0.3696341579569816, 0.3157594483200417, 0.3115251513658103, 0.3505797577149641, 0.3784887890966387, 0.35047548717456706, 0.36561447880420855, 0.45587298990229896, 0.45680602261013276, 0.4097668555610566, 0.4412742925484642, 0.3612362646778589, 0.37538922224843774, 0.39746905994526455, 0.4199076839572367, 0.519527035448189, 0.5313566406893827, 0.6464609558147512, 0.601799951668889, 0.6217026446409758], \"yaxis\": \"y\"}],                        {\"font\": {\"family\": \"Courier New, monospace\", \"size\": 14}, \"template\": {\"data\": {\"bar\": [{\"error_x\": {\"color\": \"#2a3f5f\"}, \"error_y\": {\"color\": \"#2a3f5f\"}, \"marker\": {\"line\": {\"color\": \"#E5ECF6\", \"width\": 0.5}}, \"type\": \"bar\"}], \"barpolar\": [{\"marker\": {\"line\": {\"color\": \"#E5ECF6\", \"width\": 0.5}}, \"type\": \"barpolar\"}], \"carpet\": [{\"aaxis\": {\"endlinecolor\": \"#2a3f5f\", \"gridcolor\": \"white\", \"linecolor\": \"white\", \"minorgridcolor\": \"white\", \"startlinecolor\": \"#2a3f5f\"}, \"baxis\": {\"endlinecolor\": \"#2a3f5f\", \"gridcolor\": \"white\", \"linecolor\": \"white\", \"minorgridcolor\": \"white\", \"startlinecolor\": \"#2a3f5f\"}, \"type\": \"carpet\"}], \"choropleth\": [{\"colorbar\": {\"outlinewidth\": 0, \"ticks\": \"\"}, \"type\": \"choropleth\"}], \"contour\": [{\"colorbar\": {\"outlinewidth\": 0, \"ticks\": \"\"}, \"colorscale\": [[0.0, \"#0d0887\"], [0.1111111111111111, \"#46039f\"], [0.2222222222222222, \"#7201a8\"], [0.3333333333333333, \"#9c179e\"], [0.4444444444444444, \"#bd3786\"], [0.5555555555555556, \"#d8576b\"], [0.6666666666666666, \"#ed7953\"], [0.7777777777777778, \"#fb9f3a\"], [0.8888888888888888, \"#fdca26\"], [1.0, \"#f0f921\"]], \"type\": \"contour\"}], \"contourcarpet\": [{\"colorbar\": {\"outlinewidth\": 0, \"ticks\": \"\"}, \"type\": \"contourcarpet\"}], \"heatmap\": [{\"colorbar\": {\"outlinewidth\": 0, \"ticks\": \"\"}, \"colorscale\": [[0.0, \"#0d0887\"], [0.1111111111111111, \"#46039f\"], [0.2222222222222222, \"#7201a8\"], [0.3333333333333333, \"#9c179e\"], [0.4444444444444444, \"#bd3786\"], [0.5555555555555556, \"#d8576b\"], [0.6666666666666666, \"#ed7953\"], [0.7777777777777778, \"#fb9f3a\"], [0.8888888888888888, \"#fdca26\"], [1.0, \"#f0f921\"]], \"type\": \"heatmap\"}], \"heatmapgl\": [{\"colorbar\": {\"outlinewidth\": 0, \"ticks\": \"\"}, \"colorscale\": [[0.0, \"#0d0887\"], [0.1111111111111111, \"#46039f\"], [0.2222222222222222, \"#7201a8\"], [0.3333333333333333, \"#9c179e\"], [0.4444444444444444, \"#bd3786\"], [0.5555555555555556, \"#d8576b\"], [0.6666666666666666, \"#ed7953\"], [0.7777777777777778, \"#fb9f3a\"], [0.8888888888888888, \"#fdca26\"], [1.0, \"#f0f921\"]], \"type\": \"heatmapgl\"}], \"histogram\": [{\"marker\": {\"colorbar\": {\"outlinewidth\": 0, \"ticks\": \"\"}}, \"type\": \"histogram\"}], \"histogram2d\": [{\"colorbar\": {\"outlinewidth\": 0, \"ticks\": \"\"}, \"colorscale\": [[0.0, \"#0d0887\"], [0.1111111111111111, \"#46039f\"], [0.2222222222222222, \"#7201a8\"], [0.3333333333333333, \"#9c179e\"], [0.4444444444444444, \"#bd3786\"], [0.5555555555555556, \"#d8576b\"], [0.6666666666666666, \"#ed7953\"], [0.7777777777777778, \"#fb9f3a\"], [0.8888888888888888, \"#fdca26\"], [1.0, \"#f0f921\"]], \"type\": \"histogram2d\"}], \"histogram2dcontour\": [{\"colorbar\": {\"outlinewidth\": 0, \"ticks\": \"\"}, \"colorscale\": [[0.0, \"#0d0887\"], [0.1111111111111111, \"#46039f\"], [0.2222222222222222, \"#7201a8\"], [0.3333333333333333, \"#9c179e\"], [0.4444444444444444, \"#bd3786\"], [0.5555555555555556, \"#d8576b\"], [0.6666666666666666, \"#ed7953\"], [0.7777777777777778, \"#fb9f3a\"], [0.8888888888888888, \"#fdca26\"], [1.0, \"#f0f921\"]], \"type\": \"histogram2dcontour\"}], \"mesh3d\": [{\"colorbar\": {\"outlinewidth\": 0, \"ticks\": \"\"}, \"type\": \"mesh3d\"}], \"parcoords\": [{\"line\": {\"colorbar\": {\"outlinewidth\": 0, \"ticks\": \"\"}}, \"type\": \"parcoords\"}], \"pie\": [{\"automargin\": true, \"type\": \"pie\"}], \"scatter\": [{\"marker\": {\"colorbar\": {\"outlinewidth\": 0, \"ticks\": \"\"}}, \"type\": \"scatter\"}], \"scatter3d\": [{\"line\": {\"colorbar\": {\"outlinewidth\": 0, \"ticks\": \"\"}}, \"marker\": {\"colorbar\": {\"outlinewidth\": 0, \"ticks\": \"\"}}, \"type\": \"scatter3d\"}], \"scattercarpet\": [{\"marker\": {\"colorbar\": {\"outlinewidth\": 0, \"ticks\": \"\"}}, \"type\": \"scattercarpet\"}], \"scattergeo\": [{\"marker\": {\"colorbar\": {\"outlinewidth\": 0, \"ticks\": \"\"}}, \"type\": \"scattergeo\"}], \"scattergl\": [{\"marker\": {\"colorbar\": {\"outlinewidth\": 0, \"ticks\": \"\"}}, \"type\": \"scattergl\"}], \"scattermapbox\": [{\"marker\": {\"colorbar\": {\"outlinewidth\": 0, \"ticks\": \"\"}}, \"type\": \"scattermapbox\"}], \"scatterpolar\": [{\"marker\": {\"colorbar\": {\"outlinewidth\": 0, \"ticks\": \"\"}}, \"type\": \"scatterpolar\"}], \"scatterpolargl\": [{\"marker\": {\"colorbar\": {\"outlinewidth\": 0, \"ticks\": \"\"}}, \"type\": \"scatterpolargl\"}], \"scatterternary\": [{\"marker\": {\"colorbar\": {\"outlinewidth\": 0, \"ticks\": \"\"}}, \"type\": \"scatterternary\"}], \"surface\": [{\"colorbar\": {\"outlinewidth\": 0, \"ticks\": \"\"}, \"colorscale\": [[0.0, \"#0d0887\"], [0.1111111111111111, \"#46039f\"], [0.2222222222222222, \"#7201a8\"], [0.3333333333333333, \"#9c179e\"], [0.4444444444444444, \"#bd3786\"], [0.5555555555555556, \"#d8576b\"], [0.6666666666666666, \"#ed7953\"], [0.7777777777777778, \"#fb9f3a\"], [0.8888888888888888, \"#fdca26\"], [1.0, \"#f0f921\"]], \"type\": \"surface\"}], \"table\": [{\"cells\": {\"fill\": {\"color\": \"#EBF0F8\"}, \"line\": {\"color\": \"white\"}}, \"header\": {\"fill\": {\"color\": \"#C8D4E3\"}, \"line\": {\"color\": \"white\"}}, \"type\": \"table\"}]}, \"layout\": {\"annotationdefaults\": {\"arrowcolor\": \"#2a3f5f\", \"arrowhead\": 0, \"arrowwidth\": 1}, \"autotypenumbers\": \"strict\", \"coloraxis\": {\"colorbar\": {\"outlinewidth\": 0, \"ticks\": \"\"}}, \"colorscale\": {\"diverging\": [[0, \"#8e0152\"], [0.1, \"#c51b7d\"], [0.2, \"#de77ae\"], [0.3, \"#f1b6da\"], [0.4, \"#fde0ef\"], [0.5, \"#f7f7f7\"], [0.6, \"#e6f5d0\"], [0.7, \"#b8e186\"], [0.8, \"#7fbc41\"], [0.9, \"#4d9221\"], [1, \"#276419\"]], \"sequential\": [[0.0, \"#0d0887\"], [0.1111111111111111, \"#46039f\"], [0.2222222222222222, \"#7201a8\"], [0.3333333333333333, \"#9c179e\"], [0.4444444444444444, \"#bd3786\"], [0.5555555555555556, \"#d8576b\"], [0.6666666666666666, \"#ed7953\"], [0.7777777777777778, \"#fb9f3a\"], [0.8888888888888888, \"#fdca26\"], [1.0, \"#f0f921\"]], \"sequentialminus\": [[0.0, \"#0d0887\"], [0.1111111111111111, \"#46039f\"], [0.2222222222222222, \"#7201a8\"], [0.3333333333333333, \"#9c179e\"], [0.4444444444444444, \"#bd3786\"], [0.5555555555555556, \"#d8576b\"], [0.6666666666666666, \"#ed7953\"], [0.7777777777777778, \"#fb9f3a\"], [0.8888888888888888, \"#fdca26\"], [1.0, \"#f0f921\"]]}, \"colorway\": [\"#636efa\", \"#EF553B\", \"#00cc96\", \"#ab63fa\", \"#FFA15A\", \"#19d3f3\", \"#FF6692\", \"#B6E880\", \"#FF97FF\", \"#FECB52\"], \"font\": {\"color\": \"#2a3f5f\"}, \"geo\": {\"bgcolor\": \"white\", \"lakecolor\": \"white\", \"landcolor\": \"#E5ECF6\", \"showlakes\": true, \"showland\": true, \"subunitcolor\": \"white\"}, \"hoverlabel\": {\"align\": \"left\"}, \"hovermode\": \"closest\", \"mapbox\": {\"style\": \"light\"}, \"paper_bgcolor\": \"white\", \"plot_bgcolor\": \"#E5ECF6\", \"polar\": {\"angularaxis\": {\"gridcolor\": \"white\", \"linecolor\": \"white\", \"ticks\": \"\"}, \"bgcolor\": \"#E5ECF6\", \"radialaxis\": {\"gridcolor\": \"white\", \"linecolor\": \"white\", \"ticks\": \"\"}}, \"scene\": {\"xaxis\": {\"backgroundcolor\": \"#E5ECF6\", \"gridcolor\": \"white\", \"gridwidth\": 2, \"linecolor\": \"white\", \"showbackground\": true, \"ticks\": \"\", \"zerolinecolor\": \"white\"}, \"yaxis\": {\"backgroundcolor\": \"#E5ECF6\", \"gridcolor\": \"white\", \"gridwidth\": 2, \"linecolor\": \"white\", \"showbackground\": true, \"ticks\": \"\", \"zerolinecolor\": \"white\"}, \"zaxis\": {\"backgroundcolor\": \"#E5ECF6\", \"gridcolor\": \"white\", \"gridwidth\": 2, \"linecolor\": \"white\", \"showbackground\": true, \"ticks\": \"\", \"zerolinecolor\": \"white\"}}, \"shapedefaults\": {\"line\": {\"color\": \"#2a3f5f\"}}, \"ternary\": {\"aaxis\": {\"gridcolor\": \"white\", \"linecolor\": \"white\", \"ticks\": \"\"}, \"baxis\": {\"gridcolor\": \"white\", \"linecolor\": \"white\", \"ticks\": \"\"}, \"bgcolor\": \"#E5ECF6\", \"caxis\": {\"gridcolor\": \"white\", \"linecolor\": \"white\", \"ticks\": \"\"}}, \"title\": {\"x\": 0.05}, \"xaxis\": {\"automargin\": true, \"gridcolor\": \"white\", \"linecolor\": \"white\", \"ticks\": \"\", \"title\": {\"standoff\": 15}, \"zerolinecolor\": \"white\", \"zerolinewidth\": 2}, \"yaxis\": {\"automargin\": true, \"gridcolor\": \"white\", \"linecolor\": \"white\", \"ticks\": \"\", \"title\": {\"standoff\": 15}, \"zerolinecolor\": \"white\", \"zerolinewidth\": 2}}}, \"title\": {\"text\": \"Maximise amount of X\"}, \"xaxis\": {\"anchor\": \"y\", \"domain\": [0.0, 1.0], \"title\": {\"text\": \"t\"}}, \"yaxis\": {\"anchor\": \"x\", \"domain\": [0.0, 1.0], \"title\": {\"text\": \"X\"}}},                        {\"responsive\": true}                    ).then(function(){\n",
       "                            \n",
       "var gd = document.getElementById('3cc531c0-aa8e-437c-907c-738349acce99');\n",
       "var x = new MutationObserver(function (mutations, observer) {{\n",
       "        var display = window.getComputedStyle(gd).display;\n",
       "        if (!display || display === 'none') {{\n",
       "            console.log([gd, 'removed!']);\n",
       "            Plotly.purge(gd);\n",
       "            observer.disconnect();\n",
       "        }}\n",
       "}});\n",
       "\n",
       "// Listen for the removal of the full notebook cells\n",
       "var notebookContainer = gd.closest('#notebook-container');\n",
       "if (notebookContainer) {{\n",
       "    x.observe(notebookContainer, {childList: true});\n",
       "}}\n",
       "\n",
       "// Listen for the clearing of the current output cell\n",
       "var outputEl = gd.closest('.output');\n",
       "if (outputEl) {{\n",
       "    x.observe(outputEl, {childList: true});\n",
       "}}\n",
       "\n",
       "                        })                };                });            </script>        </div>"
      ]
     },
     "metadata": {},
     "output_type": "display_data"
    }
   ],
   "source": [
    "n = 50\n",
    "c_xs = np.zeros(n)\n",
    "c_Ss = np.zeros(n)\n",
    "c_Q = np.zeros(n)\n",
    "c_xs[0] = 0.3\n",
    "c_Ss[0] = 0.5\n",
    "c_Q[0] = 1.0\n",
    "uc_xs = np.zeros(n)\n",
    "uc_Ss = np.zeros(n)\n",
    "uc_xs[0] = c_xs[0]\n",
    "uc_Ss[0] = c_Ss[0]\n",
    "dt = 1/n\n",
    "ts = [t for t in np.linspace(0, 1, n)]\n",
    "c_value = np.zeros(n)\n",
    "for i in range(n-1):\n",
    "    dW = np.sqrt(dt)*np.random.randn()\n",
    "    c = solver.u(c_Ss[i], c_Q[i], c_xs[i], i*dt).item()\n",
    "    c_value[i] = solver.J(c_Ss[i], c_Q[i], c_xs[i], i*dt).item()\n",
    "    c_Q[i+1] = c_Q[i] - c*dt\n",
    "    c_Ss[i+1] = c_Ss[i] -eq.B*c*dt + eq.σ*dW\n",
    "    uc_Ss[i+1] = uc_Ss[i] + eq.σ*dW\n",
    "    c_xs[i+1] = c_xs[i] + c_Ss[i]*c*dt - eq.D*c**2*dt - eq.C*c_Q[i]**2*dt\n",
    "    uc_xs[i+1] = uc_xs[i] - eq.C*c_Q[0]**2*dt\n",
    "\n",
    "c_value[-1] = solver.J(c_Ss[-1], c_Q[-1], c_xs[-1], n*dt).item()\n",
    "c_xs[-1] += c_Ss[-1]*c_Q[-1] - eq.R*c_Q[-1]**2\n",
    "uc_xs[-1] += uc_Ss[-1]*c_Q[0] - eq.R*c_Q[0]**2\n",
    "    \n",
    "fig = make_subplots(rows=1, cols=1)\n",
    "fig.add_trace(go.Scatter(x=ts, y=c_xs, mode='lines', name=\"Controlled\", line=dict(color=\"#00e476\")), row=1, col=1)\n",
    "fig.add_trace(go.Scatter(x=ts, y=uc_xs, mode='lines', name=\"Uncontrolled\", line=dict(color=\"#FFe476\")), row=1, col=1)\n",
    "fig.add_trace(go.Scatter(x=ts, y=c_Ss, mode='lines', name=\"Value Function\", line=dict(color=\"#eeee76\")), row=1, col=1)\n",
    "fig.update_layout(\n",
    "    title=\"Maximise amount of X\",\n",
    "    xaxis_title=\"t\",\n",
    "    yaxis_title=\"X\",\n",
    "    font=dict(\n",
    "        family=\"Courier New, monospace\",\n",
    "        size=14\n",
    "    )\n",
    ")\n",
    "fig.show()"
   ]
  },
  {
   "cell_type": "markdown",
   "id": "positive-source",
   "metadata": {},
   "source": [
    "### Linear-quadratic control problem 1-dimensional (Riccati Equation) "
   ]
  },
  {
   "cell_type": "markdown",
   "id": "joined-penny",
   "metadata": {},
   "source": [
    "Let $(\\Omega, \\mathcal{F}, \\{\\mathcal{F}_t\\}_{t\\in [0, T]}, \\mathbb{P})$. We consider\n",
    "$$\n",
    "\\begin{cases}\n",
    "dX_s = [H_sX_s + M_s u_s] ds + \\sigma_s dW_s, \\; s \\in [0, T] \\\\\n",
    "X_0 = x > 0\n",
    "\\end{cases},\n",
    "$$"
   ]
  },
  {
   "cell_type": "markdown",
   "id": "sophisticated-circuit",
   "metadata": {},
   "source": [
    "We aim to maximise\n",
    "$$\n",
    "J^u(t, x) := \\mathbb{E}^{t, x} \\Big[ \\int_t^T X_s^T C_s X_s + u_s^T D_s u_s ds + X_T^T R X_T\\Big],\n",
    "$$\n",
    "with $C(t) = C \\leq 0, R \\leq 0$, and $D=D(t) < -\\delta < 0$ given and deterministic ($\\delta > 0$ some constant)."
   ]
  },
  {
   "cell_type": "markdown",
   "id": "later-parcel",
   "metadata": {},
   "source": [
    "We write down the problem in its primal form as\n",
    "$$\n",
    "\\begin{cases}\n",
    "\\partial_t J(t, x) + \\sup_{u} \\Big\\{ \\frac{1}{2} \\sigma^2 \\partial_{xx} J(t, x) + [H x + M u] \\partial_x J(t, x) + C x^2 + D u^2 \\Big\\} = 0 \\text{ on $[0, T] \\times (-\\infty, \\infty)$}\n",
    "\\\\\n",
    "J(T, x) = Rx^2 \\text{ $\\forall x \\in \\mathbb{R}$}\n",
    "\\end{cases}\n",
    "$$"
   ]
  },
  {
   "cell_type": "markdown",
   "id": "characteristic-kingston",
   "metadata": {},
   "source": [
    "#### Analytical Solution (Oksendal):"
   ]
  },
  {
   "cell_type": "markdown",
   "id": "handed-status",
   "metadata": {},
   "source": [
    "As $J(T, x) = Rx^2$, we assume the form $J(T, x) = S(t) x^2 + b(t)$ for some differentibale $S$ and $b$. The problem can be reformulated as\n",
    "$$\n",
    "\\begin{cases}\n",
    "S'(t)x^2 + b'(t) + \\sigma^2 S(t) + 2HS(t)x^2 + C x^2 + \\sup_{u} \\Big\\{ 2MS(t) u x + D u^2 \\Big\\} = 0 \\text{ on $[0, T] \\times (0, \\infty)$}\n",
    "\\\\\n",
    "S(T) = R, b(t)=0 \\text{ $\\forall x \\in \\mathbb{R}$}\n",
    "\\end{cases}\n",
    "$$"
   ]
  },
  {
   "cell_type": "markdown",
   "id": "perceived-browser",
   "metadata": {},
   "source": [
    "We see that for fixed $t$ and $x$, we have $u^*=u^*(t, x)=-D^{-1} MS(t) x$. As a consequence, we can transform the problem to be gives as\n",
    "$$\n",
    "\\begin{cases}\n",
    "[S'(t) + 2HS(t) + C - D^{-1} M^2S^2(t)]x^2 + b'(t) + \\sigma^2 S(t) = 0 \\text{ on $[0, T] \\times (0, \\infty)$}\n",
    "\\\\\n",
    "S(T) = R, b(t)=0 \\text{ $\\forall x \\in \\mathbb{R}$}\n",
    "\\end{cases}\n",
    "$$"
   ]
  },
  {
   "cell_type": "markdown",
   "id": "cosmetic-vanilla",
   "metadata": {},
   "source": [
    "The problem is satisfied if\n",
    "$$\n",
    "S'(t)= D^{-1} M^2S^2(t) - C - 2HS(t), \\; S(T)=R \\; \\text{(Riccati Equation)}\n",
    "$$\n",
    "$$\n",
    "b'(t)= -\\sigma^2 S(t), \\; b(T)=0\n",
    "$$"
   ]
  },
  {
   "cell_type": "markdown",
   "id": "reduced-vermont",
   "metadata": {},
   "source": [
    "It follows that $b(t)=  \\sigma^2 \\int_t^T S(r) dr$, while the Riccati Equation has a unique solution."
   ]
  },
  {
   "cell_type": "code",
   "execution_count": null,
   "id": "attempted-reflection",
   "metadata": {},
   "outputs": [],
   "source": [
    "class LQR(HBJ):\n",
    "    def __init__(self):\n",
    "        super().__init__()\n",
    "        self.H = 0.1\n",
    "        self.M = 2.0\n",
    "        self.C = -2.0\n",
    "        self.R = -0.001\n",
    "        self.D = -0.2\n",
    "        self.σ = 0.3\n",
    "        \n",
    "        self.var_dim_J = 2 # (x, t)\n",
    "        self.control_vars = [0, 1]\n",
    "        self.cost_function = lambda u, var: self.C*var[0]**2 + self.D*u**2\n",
    "        self.differential_operator = lambda J, u, var: (self.H*var[0] + self.M*u)*div(J, var[0]) + (1/2)*self.σ**2*Δ(J, var[0])\n",
    "        self.domain_func = [(lambda var: [var[0]*2-1, var[1]], 128)]\n",
    "        self.boundary_cond_J = [lambda J, var: J - self.R*var[0]**2]\n",
    "        self.boundary_func_J = [(lambda var: [var[0]*2-1, var[1]*0 + 1], 64)]\n",
    "        self.boundary_cond_u = [lambda u, var: torch.clamp(div(u, var[0]), min=0)]\n",
    "        self.boundary_func_u = [(lambda var: [var[0]*2-1, var[1]], 64)]"
   ]
  },
  {
   "cell_type": "code",
   "execution_count": null,
   "id": "social-looking",
   "metadata": {},
   "outputs": [],
   "source": [
    "LQR_MODEL_CONFIG = {\n",
    "    \"hidden_dim\": 64,\n",
    "    \"learning_rate\": 5e-3,\n",
    "    \"loss_weights\": (1, 1),\n",
    "    \"lr_decay\": 0.99,\n",
    "    \"sampling_method\": \"uniform\",\n",
    "    \"network_type\": \"GRU\",\n",
    "    \"optimiser\": \"Adam\",\n",
    "    \"delay_control\": 2,\n",
    "    \"alpha_noise\": 0.1\n",
    "}\n",
    "eq = LQR()\n",
    "model = LQR_MODEL_CONFIG\n",
    "solver = DGMPIASolver(model, eq)\n",
    "loss = np.array(list(solver.train(400)))\n",
    "plot_losses(loss)"
   ]
  },
  {
   "cell_type": "markdown",
   "id": "integrated-journey",
   "metadata": {},
   "source": [
    "#### Control function approximation:"
   ]
  },
  {
   "cell_type": "code",
   "execution_count": null,
   "id": "eastern-navigation",
   "metadata": {},
   "outputs": [],
   "source": [
    "fig = make_subplots(rows=1, cols=1, specs=[[{'type': 'surface'}]])\n",
    "xs = np.linspace(-1, 1, 100)\n",
    "ts = np.linspace(0, 1, 100)\n",
    "us_pred = np.array([[solver.u(x, t).item() for x in xs] for t in ts])\n",
    "fig.add_trace(go.Surface(x=xs, y=ts, z=us_pred), row=1, col=1)\n",
    "fig.update_layout(title='Approximation',\n",
    "                  scene = dict(\n",
    "                      xaxis_title=\"x\",\n",
    "                      yaxis_title=\"t\",\n",
    "                      zaxis_title=\"u(x, t)\"),\n",
    "                  margin=dict(l=50, r=50, b=50, t=50))\n",
    "fig.show()"
   ]
  },
  {
   "cell_type": "markdown",
   "id": "recorded-trading",
   "metadata": {},
   "source": [
    "#### Value function approximation:"
   ]
  },
  {
   "cell_type": "code",
   "execution_count": null,
   "id": "virgin-newman",
   "metadata": {},
   "outputs": [],
   "source": [
    "fig = make_subplots(rows=1, cols=1, specs=[[{'type': 'surface'}]])\n",
    "xs = np.linspace(-1, 1, 100)\n",
    "ts = np.linspace(0, 1, 100)\n",
    "us_pred = np.array([[solver.J(x, t).item() for x in xs] for t in ts])\n",
    "fig.add_trace(go.Surface(x=xs, y=ts, z=us_pred), row=1, col=1)\n",
    "fig.update_layout(title='Solution | Approximation',\n",
    "                  scene = dict(\n",
    "                    xaxis_title=\"x\",\n",
    "                    yaxis_title=\"t\",\n",
    "                    zaxis_title=\"J(x, t\"),\n",
    "                  scene2 = dict(\n",
    "                    xaxis_title=\"x\",\n",
    "                    yaxis_title=\"t\",\n",
    "                    zaxis_title=\"J(x, t)\"),\n",
    "                  margin=dict(l=50, r=50, b=50, t=50))\n",
    "fig.show()"
   ]
  },
  {
   "cell_type": "markdown",
   "id": "functional-annual",
   "metadata": {},
   "source": [
    "#### Simulating the Process:"
   ]
  },
  {
   "cell_type": "markdown",
   "id": "external-cheese",
   "metadata": {},
   "source": [
    "Let $(\\Omega, \\mathcal{F}, \\{\\mathcal{F}_t\\}_{t\\in [0, T]}, \\mathbb{P})$. We consider\n",
    "$$\n",
    "\\begin{cases}\n",
    "dX_s = [H_s X_s + M_s u_s] ds + \\sigma_s dW_s, \\; s \\in [0, T] \\\\\n",
    "X_0 = x > 0\n",
    "\\end{cases},\n",
    "$$"
   ]
  },
  {
   "cell_type": "code",
   "execution_count": null,
   "id": "recorded-crossing",
   "metadata": {},
   "outputs": [],
   "source": [
    "n = 50\n",
    "c_xs = np.zeros(n)\n",
    "c_xs[0] = 0.75\n",
    "uc_xs = np.zeros(n)\n",
    "uc_xs[0] = c_xs[0]\n",
    "dt = 1/n\n",
    "ts = [t for t in np.linspace(0, 1, n)]\n",
    "c_cum_cost = np.zeros(n)\n",
    "uc_cum_cost = np.zeros(n)\n",
    "for i in range(n-1):\n",
    "    dW = np.sqrt(dt)*np.random.randn()\n",
    "    c = solver.u(c_xs[i], i*dt).item() #-(1/eq.D)*eq.M*((0.316228*np.exp(12.6491*i*dt) - 99125.6)/(313463 + np.exp(12.6491*i*dt))) *c_xs[i] \n",
    "    uc = 0\n",
    "    c_xs[i+1] = c_xs[i] + (eq.H*c_xs[i] + eq.M*c)*dt + eq.σ*dW\n",
    "    uc_xs[i+1] = uc_xs[i] + (eq.H*uc_xs[i] + eq.M*uc)*dt + eq.σ*dW\n",
    "    c_cum_cost[i+1] = c_cum_cost[i] + eq.C*c_xs[i]**2 + eq.D*c**2\n",
    "    uc_cum_cost[i+1] = uc_cum_cost[i] + eq.C*uc_xs[i]**2 + eq.D*uc**2\n",
    "\n",
    "c_cum_cost[-1] += eq.R*c_xs[-1]**2\n",
    "uc_cum_cost[-1] += eq.R*uc_xs[-1]**2\n",
    "    \n",
    "fig = make_subplots(rows=1, cols=2)\n",
    "fig.add_trace(go.Scatter(x=ts, y=c_xs, mode='lines', name=\"Controlled\", line=dict(color=\"#00e476\")), row=1, col=1)\n",
    "fig.add_trace(go.Scatter(x=ts, y=uc_xs, mode='lines', name=\"Uncontrolled\", line=dict(color=\"#FFe476\")), row=1, col=1)\n",
    "fig.add_trace(go.Scatter(x=ts, y=c_cum_cost, mode='lines', showlegend=False, line=dict(color=\"#00e476\")), row=1, col=2)\n",
    "fig.add_trace(go.Scatter(x=ts, y=uc_cum_cost, mode='lines', showlegend=False, line=dict(color=\"#FFe476\")), row=1, col=2)\n",
    "fig.update_layout(\n",
    "    title=\"Minimise amount of X | Minimise the costs (hold both close to zero)\",\n",
    "    xaxis_title=\"t\",\n",
    "    yaxis_title=\"X\",\n",
    "    font=dict(\n",
    "        family=\"Courier New, monospace\",\n",
    "        size=14\n",
    "    )\n",
    ")\n",
    "fig.show()"
   ]
  },
  {
   "cell_type": "markdown",
   "id": "hairy-region",
   "metadata": {},
   "source": [
    "Example: Assume that the UK is subject to another disease outbreak. Each patient admission costs certain resources. We intend to reduce the amount of people in hospitals as quickly as possible to bound admission costs."
   ]
  },
  {
   "cell_type": "markdown",
   "id": "statewide-milwaukee",
   "metadata": {},
   "source": [
    "## !!! Problems: For high terminal cost, the value function approximation becomes inaccurate. For 0 terminal cost the control solution becomes a divergingly high control signal\n",
    "\n",
    "## !!! Any value of H positive leads to a control solution that diverge, taking the negative of that control signal seems optimal\n",
    "\n",
    "## !!! This is because the control function exploits erroneous approximations of the value function\n",
    "\n",
    "==> Counteract by introducing regularizing noise to control function and delaying the control update"
   ]
  },
  {
   "cell_type": "markdown",
   "id": "asian-ownership",
   "metadata": {},
   "source": [
    "### Linear-quadratic control problem N-dimensional (Riccati Equation) "
   ]
  },
  {
   "cell_type": "markdown",
   "id": "quick-legislature",
   "metadata": {},
   "source": [
    "We consider the same problem with $H_t \\in \\mathbb{R}^{n \\times n}$,\n",
    "$M_t \\in \\mathbb{R}^{n \\times k}$, $\\sigma_t \\in \\mathbb{R}^{n \\times m}$ (for now a scalar), $C_t \\in \\mathbb{R}^{n \\times n}$, $D_t \\in \\mathbb{R}^{k \\times n}$, and $R \\in \\mathbb{R}^{n \\times n}$. We also have, $u(t, X_t) \\in\\mathbb{R}^k$."
   ]
  },
  {
   "cell_type": "markdown",
   "id": "unlike-dominant",
   "metadata": {},
   "source": [
    "Let $(\\Omega, \\mathcal{F}, \\{\\mathcal{F}_t\\}_{t\\in [0, T]}, \\mathbb{P})$. We consider\n",
    "$$\n",
    "\\begin{cases}\n",
    "dX_s = [H_sX_s + M_s u_s] ds + \\sigma_s dW_s, \\; s \\in [0, T] \\\\\n",
    "X_0 = x > 0\n",
    "\\end{cases},\n",
    "$$"
   ]
  },
  {
   "cell_type": "markdown",
   "id": "valid-convertible",
   "metadata": {},
   "source": [
    "We aim to maximise\n",
    "$$\n",
    "J^u(t, x) := \\mathbb{E}^{t, x} \\Big[ \\int_t^T X_s^T C_s X_s + u_s^T D_s u_s ds + X_T^T R X_T\\Big],\n",
    "$$\n",
    "with $C(t) = C \\leq 0, R \\leq 0$, and $D=D(t) < -\\delta < 0$ given and deterministic ($\\delta > 0$ some constant)."
   ]
  },
  {
   "cell_type": "markdown",
   "id": "dramatic-rwanda",
   "metadata": {},
   "source": [
    "We write down the problem in its primal form as\n",
    "$$\n",
    "\\begin{cases}\n",
    "\\partial_t J(t, x) + \\sup_{u} \\Big\\{ \\frac{1}{2} \\sigma^2 \\sum_{1 \\leq i, j \\leq n} \\Delta_{x_i x_j} J(t, x) + [H x + M u]^T \\cdot \\nabla_x J(t, x) + x^T C x + u^T D u \\Big\\} = 0 \\text{ on $[0, T] \\times (0, \\infty)$}\n",
    "\\\\\n",
    "J(T, x) = x^T R x \\text{ $\\forall x \\in \\mathbb{R}$}\n",
    "\\end{cases}\n",
    "$$"
   ]
  },
  {
   "cell_type": "markdown",
   "id": "private-meditation",
   "metadata": {},
   "source": [
    "For now, we will consider the problem without the terminal condition."
   ]
  },
  {
   "cell_type": "code",
   "execution_count": null,
   "id": "reported-lighter",
   "metadata": {},
   "outputs": [],
   "source": [
    "class LQR_N(HBJ):\n",
    "    def __init__(self):\n",
    "        super().__init__()\n",
    "        self.H = torch.tensor([[0.1, 0],\n",
    "                              [0.0, 0.1]])\n",
    "        self.M = torch.tensor([[2.0, 0],\n",
    "                              [0.0, 2.0]])\n",
    "        self.C = torch.tensor([[-2.0, 0],\n",
    "                              [0.0, -2.0]])\n",
    "        self.R = torch.tensor([[-0.001, 0],\n",
    "                              [0.0, -0.001]])\n",
    "        self.D = torch.tensor([[-0.2, 0],\n",
    "                              [0.0, -0.2]])\n",
    "        self.σ = 0.1\n",
    "        \n",
    "        self.var_dim_J = 3 # (x, y, t)\n",
    "        self.sol_dim = 2\n",
    "        self.control_vars = [0, 1, 2]\n",
    "        self.cost_function = lambda u, var: (var[:2] |bdotb| (self.C |mdotb| var[:2])) + ((u |bdotm| self.D) |bdotb| u)\n",
    "        self.differential_operator = lambda J, u, var: (((self.H |mdotb| var[:2]) + (self.M |mdotb| u)) |bdotb| D(J, var[:2])) + (1/2)*self.σ**2*sum([div(div(J, var[i]), var[j]) for i, j in product(range(2), range(2))])\n",
    "        self.domain_func = [(lambda var: [var[0]*2-1, var[1]*2-1, var[2]], 128)]\n",
    "        self.boundary_cond_J = [lambda J, var: J - ((var[:2] |bdotm| self.R) |bdotb| var[:2])]\n",
    "        self.boundary_func_J = [(lambda var: [var[0]*2-1, var[1]*2-1, var[2]*0 + 1], 64)]\n",
    "        self.boundary_cond_u = [lambda u, var: torch.clamp(div(u, var[0]), min=0),\n",
    "                               lambda u, var: torch.clamp(div(u, var[1]), min=0)]\n",
    "        self.boundary_func_u = [(lambda var: [var[0]*2-1, var[1]*2-1, var[2]], 32),\n",
    "                               (lambda var: [var[0]*2-1, var[1]*2-1, var[2]], 32)]"
   ]
  },
  {
   "cell_type": "code",
   "execution_count": null,
   "id": "logical-contents",
   "metadata": {},
   "outputs": [],
   "source": [
    "LQR_N_MODEL_CONFIG = {\n",
    "    \"hidden_dim\": 64,\n",
    "    \"learning_rate\": 5e-3,\n",
    "    \"loss_weights\": (1, 1),\n",
    "    \"lr_decay\": 0.99,\n",
    "    \"sampling_method\": \"uniform\",\n",
    "    \"network_type\": \"GRU\",\n",
    "    \"optimiser\": \"Adam\",\n",
    "    \"delay_control\": 2,\n",
    "    \"alpha_noise\": 0.1\n",
    "}\n",
    "eq = LQR_N()\n",
    "model = LQR_N_MODEL_CONFIG\n",
    "solver = DGMPIASolver(model, eq)\n",
    "loss = np.array(list(solver.train(500)))\n",
    "plot_losses(loss)"
   ]
  },
  {
   "cell_type": "markdown",
   "id": "objective-purchase",
   "metadata": {},
   "source": [
    "#### Simulating the Process:"
   ]
  },
  {
   "cell_type": "markdown",
   "id": "designed-guyana",
   "metadata": {},
   "source": [
    "Let $(\\Omega, \\mathcal{F}, \\{\\mathcal{F}_t\\}_{t\\in [0, T]}, \\mathbb{P})$. We consider\n",
    "$$\n",
    "\\begin{cases}\n",
    "dX_s = [H_sX_s + M_s u_s] ds + \\sigma_s dW_s, \\; s \\in [0, T] \\\\\n",
    "X_0 = x > 0\n",
    "\\end{cases},\n",
    "$$"
   ]
  },
  {
   "cell_type": "code",
   "execution_count": null,
   "id": "instant-detroit",
   "metadata": {},
   "outputs": [],
   "source": [
    "n = 50\n",
    "c_xs = np.zeros((2, n))\n",
    "c_xs[:, 0] = 0.5\n",
    "uc_xs = np.zeros((2, n))\n",
    "uc_xs[:, 0] = c_xs[:, 0]\n",
    "dt = 1/n\n",
    "ts = [t for t in np.linspace(0, 1, n)]\n",
    "c_cum_cost = np.zeros(n)\n",
    "uc_cum_cost = np.zeros(n)\n",
    "for i in range(n-1):\n",
    "    dW = np.sqrt(dt)*np.random.randn(2, 1)\n",
    "    c = np.expand_dims(solver.u(c_xs[0, i], c_xs[1, i], i*dt), axis=1)\n",
    "    uc = np.zeros((2, 1))\n",
    "    c_xs[:, None, i+1] = c_xs[:, None, i] + (eq.H.numpy() @ c_xs[:, None, i] + eq.M.numpy() @ c)*dt + eq.σ*dW\n",
    "    uc_xs[:, None, i+1] = uc_xs[:, None, i] + (eq.H.numpy() @ uc_xs[:, None, i] + eq.M.numpy() @ uc)*dt + eq.σ*dW\n",
    "    c_cum_cost[i+1] = c_cum_cost[i] + c_xs[:, None, i].T @ eq.C.numpy() @ c_xs[:, None, i] + c.T @ eq.D.numpy() @ c\n",
    "    uc_cum_cost[i+1] = uc_cum_cost[i] + uc_xs[:, None, i].T @ eq.C.numpy() @ uc_xs[:, None, i] + uc.T @ eq.D.numpy() @ uc\n",
    "\n",
    "c_cum_cost[-1] += c_xs[:, None, -1].T @ eq.R.numpy() @ c_xs[:, None, -1]\n",
    "uc_cum_cost[-1] += uc_xs[:, None, -1].T @ eq.R.numpy() @ uc_xs[:, None, -1]\n",
    "fig = make_subplots(rows=1, cols=2)\n",
    "fig.add_trace(go.Scatter(x=ts, y=c_xs[0], mode='lines', name=\"Controlled\", line=dict(color=\"#00e476\")), row=1, col=1)\n",
    "fig.add_trace(go.Scatter(x=ts, y=c_xs[1], mode='lines', showlegend=False, line=dict(color=\"#00e476\")), row=1, col=1)\n",
    "fig.add_trace(go.Scatter(x=ts, y=uc_xs[0], mode='lines', name=\"Uncontrolled\", line=dict(color=\"#FFe476\")), row=1, col=1)\n",
    "fig.add_trace(go.Scatter(x=ts, y=uc_xs[1], mode='lines', showlegend=False, line=dict(color=\"#FFe476\")), row=1, col=1)\n",
    "fig.add_trace(go.Scatter(x=ts, y=c_cum_cost, mode='lines', showlegend=False, line=dict(color=\"#00e476\")), row=1, col=2)\n",
    "fig.add_trace(go.Scatter(x=ts, y=uc_cum_cost, mode='lines', showlegend=False, line=dict(color=\"#FFe476\")), row=1, col=2)\n",
    "fig.update_layout(\n",
    "    title=\"Minimise amount of X | Minimise the costs (hold both close to zero)\",\n",
    "    xaxis_title=\"t\",\n",
    "    yaxis_title=\"X\",\n",
    "    font=dict(\n",
    "        family=\"Courier New, monospace\",\n",
    "        size=14\n",
    "    )\n",
    ")\n",
    "fig.show()"
   ]
  },
  {
   "cell_type": "markdown",
   "id": "wrong-label",
   "metadata": {},
   "source": [
    "### Black-Scholes-Barenblatt"
   ]
  },
  {
   "cell_type": "markdown",
   "id": "english-riverside",
   "metadata": {},
   "source": [
    "$$\n",
    "\\begin{cases}\n",
    "\\partial_t J(t, x) + \\frac{1}{2} \\text{trace}(\\sigma^2 \\text{diag}(x^2 )\\Delta J(t, x)) + r(\\nabla^T J X - J) = 0 \\text{ on $[0, T] \\times (0, \\infty)$}\n",
    "\\\\\n",
    "J(T, x) = x^2 \\text{ $\\forall x \\in \\mathbb{R}$}\n",
    "\\end{cases}\n",
    "$$"
   ]
  },
  {
   "cell_type": "code",
   "execution_count": 58,
   "id": "greater-theater",
   "metadata": {},
   "outputs": [],
   "source": [
    "CONFIG_BSB = {\n",
    "    \"hidden_dim\": 128,\n",
    "    \"learning_rate\": 5e-3,\n",
    "    \"loss_weights\": (1, 1),\n",
    "    \"lr_decay\": 0.99,\n",
    "    \"sampling_method\": \"uniform\",\n",
    "    \"network_type\": \"FF\",\n",
    "    \"optimiser\": \"Adam\",\n",
    "    \"method\": \"Galerkin\"\n",
    "}\n",
    "class BSB(PDE):\n",
    "    def __init__(self):\n",
    "        super().__init__()\n",
    "        r = 0.05\n",
    "        sigma = 0.3\n",
    "        self.var_dim = 2 # var = (x, t)\n",
    "        self.equation = lambda u, var: div(u, var[-1]) + (1/2)*sum([X**2*Δ(u, var[:-1]) for X in var[:-1]]) + r*((D(u, var[:-1])|bdotb| var[:-1])- u)\n",
    "        self.domain_func = [(lambda var: [(x-0.5)*4 for x in var[:-1]]+ [var[-1]], 128)]\n",
    "        self.boundary_cond = [lambda u, var: u - (var[:-1] |bdotb| var[:-1])]\n",
    "        self.boundary_func = [(lambda var: [(x-0.5)*4 for x in var[:-1]]+ [var[-1]*0+1], 64)]"
   ]
  },
  {
   "cell_type": "code",
   "execution_count": 59,
   "id": "important-albania",
   "metadata": {},
   "outputs": [
    {
     "name": "stderr",
     "output_type": "stream",
     "text": [
      "100%|██████████| 800/800 [00:05<00:00, 146.27 it/s]\n"
     ]
    }
   ],
   "source": [
    "eq = BSB()\n",
    "model = CONFIG_BSB\n",
    "solver = DeepPDESolver(model, eq)\n",
    "losses = list(solver.train(800))"
   ]
  },
  {
   "cell_type": "code",
   "execution_count": 60,
   "id": "digital-camcorder",
   "metadata": {},
   "outputs": [
    {
     "data": {
      "application/vnd.plotly.v1+json": {
       "config": {
        "plotlyServerURL": "https://plot.ly"
       },
       "data": [
        {
         "mode": "lines",
         "name": "Error at x=0.1",
         "type": "scatter",
         "x": [
          0,
          1,
          2,
          3,
          4,
          5,
          6,
          7,
          8,
          9,
          10,
          11,
          12,
          13,
          14,
          15,
          16,
          17,
          18,
          19,
          20,
          21,
          22,
          23,
          24,
          25,
          26,
          27,
          28,
          29,
          30,
          31,
          32,
          33,
          34,
          35,
          36,
          37,
          38,
          39,
          40,
          41,
          42,
          43,
          44,
          45,
          46,
          47,
          48,
          49,
          50,
          51,
          52,
          53,
          54,
          55,
          56,
          57,
          58,
          59,
          60,
          61,
          62,
          63,
          64,
          65,
          66,
          67,
          68,
          69,
          70,
          71,
          72,
          73,
          74,
          75,
          76,
          77,
          78,
          79,
          80,
          81,
          82,
          83,
          84,
          85,
          86,
          87,
          88,
          89,
          90,
          91,
          92,
          93,
          94,
          95,
          96,
          97,
          98,
          99,
          100,
          101,
          102,
          103,
          104,
          105,
          106,
          107,
          108,
          109,
          110,
          111,
          112,
          113,
          114,
          115,
          116,
          117,
          118,
          119,
          120,
          121,
          122,
          123,
          124,
          125,
          126,
          127,
          128,
          129,
          130,
          131,
          132,
          133,
          134,
          135,
          136,
          137,
          138,
          139,
          140,
          141,
          142,
          143,
          144,
          145,
          146,
          147,
          148,
          149,
          150,
          151,
          152,
          153,
          154,
          155,
          156,
          157,
          158,
          159,
          160,
          161,
          162,
          163,
          164,
          165,
          166,
          167,
          168,
          169,
          170,
          171,
          172,
          173,
          174,
          175,
          176,
          177,
          178,
          179,
          180,
          181,
          182,
          183,
          184,
          185,
          186,
          187,
          188,
          189,
          190,
          191,
          192,
          193,
          194,
          195,
          196,
          197,
          198,
          199,
          200,
          201,
          202,
          203,
          204,
          205,
          206,
          207,
          208,
          209,
          210,
          211,
          212,
          213,
          214,
          215,
          216,
          217,
          218,
          219,
          220,
          221,
          222,
          223,
          224,
          225,
          226,
          227,
          228,
          229,
          230,
          231,
          232,
          233,
          234,
          235,
          236,
          237,
          238,
          239,
          240,
          241,
          242,
          243,
          244,
          245,
          246,
          247,
          248,
          249,
          250,
          251,
          252,
          253,
          254,
          255,
          256,
          257,
          258,
          259,
          260,
          261,
          262,
          263,
          264,
          265,
          266,
          267,
          268,
          269,
          270,
          271,
          272,
          273,
          274,
          275,
          276,
          277,
          278,
          279,
          280,
          281,
          282,
          283,
          284,
          285,
          286,
          287,
          288,
          289,
          290,
          291,
          292,
          293,
          294,
          295,
          296,
          297,
          298,
          299,
          300,
          301,
          302,
          303,
          304,
          305,
          306,
          307,
          308,
          309,
          310,
          311,
          312,
          313,
          314,
          315,
          316,
          317,
          318,
          319,
          320,
          321,
          322,
          323,
          324,
          325,
          326,
          327,
          328,
          329,
          330,
          331,
          332,
          333,
          334,
          335,
          336,
          337,
          338,
          339,
          340,
          341,
          342,
          343,
          344,
          345,
          346,
          347,
          348,
          349,
          350,
          351,
          352,
          353,
          354,
          355,
          356,
          357,
          358,
          359,
          360,
          361,
          362,
          363,
          364,
          365,
          366,
          367,
          368,
          369,
          370,
          371,
          372,
          373,
          374,
          375,
          376,
          377,
          378,
          379,
          380,
          381,
          382,
          383,
          384,
          385,
          386,
          387,
          388,
          389,
          390,
          391,
          392,
          393,
          394,
          395,
          396,
          397,
          398,
          399,
          400,
          401,
          402,
          403,
          404,
          405,
          406,
          407,
          408,
          409,
          410,
          411,
          412,
          413,
          414,
          415,
          416,
          417,
          418,
          419,
          420,
          421,
          422,
          423,
          424,
          425,
          426,
          427,
          428,
          429,
          430,
          431,
          432,
          433,
          434,
          435,
          436,
          437,
          438,
          439,
          440,
          441,
          442,
          443,
          444,
          445,
          446,
          447,
          448,
          449,
          450,
          451,
          452,
          453,
          454,
          455,
          456,
          457,
          458,
          459,
          460,
          461,
          462,
          463,
          464,
          465,
          466,
          467,
          468,
          469,
          470,
          471,
          472,
          473,
          474,
          475,
          476,
          477,
          478,
          479,
          480,
          481,
          482,
          483,
          484,
          485,
          486,
          487,
          488,
          489,
          490,
          491,
          492,
          493,
          494,
          495,
          496,
          497,
          498,
          499,
          500,
          501,
          502,
          503,
          504,
          505,
          506,
          507,
          508,
          509,
          510,
          511,
          512,
          513,
          514,
          515,
          516,
          517,
          518,
          519,
          520,
          521,
          522,
          523,
          524,
          525,
          526,
          527,
          528,
          529,
          530,
          531,
          532,
          533,
          534,
          535,
          536,
          537,
          538,
          539,
          540,
          541,
          542,
          543,
          544,
          545,
          546,
          547,
          548,
          549,
          550,
          551,
          552,
          553,
          554,
          555,
          556,
          557,
          558,
          559,
          560,
          561,
          562,
          563,
          564,
          565,
          566,
          567,
          568,
          569,
          570,
          571,
          572,
          573,
          574,
          575,
          576,
          577,
          578,
          579,
          580,
          581,
          582,
          583,
          584,
          585,
          586,
          587,
          588,
          589,
          590,
          591,
          592,
          593,
          594,
          595,
          596,
          597,
          598,
          599,
          600,
          601,
          602,
          603,
          604,
          605,
          606,
          607,
          608,
          609,
          610,
          611,
          612,
          613,
          614,
          615,
          616,
          617,
          618,
          619,
          620,
          621,
          622,
          623,
          624,
          625,
          626,
          627,
          628,
          629,
          630,
          631,
          632,
          633,
          634,
          635,
          636,
          637,
          638,
          639,
          640,
          641,
          642,
          643,
          644,
          645,
          646,
          647,
          648,
          649,
          650,
          651,
          652,
          653,
          654,
          655,
          656,
          657,
          658,
          659,
          660,
          661,
          662,
          663,
          664,
          665,
          666,
          667,
          668,
          669,
          670,
          671,
          672,
          673,
          674,
          675,
          676,
          677,
          678,
          679,
          680,
          681,
          682,
          683,
          684,
          685,
          686,
          687,
          688,
          689,
          690,
          691,
          692,
          693,
          694,
          695,
          696,
          697,
          698,
          699,
          700,
          701,
          702,
          703,
          704,
          705,
          706,
          707,
          708,
          709,
          710,
          711,
          712,
          713,
          714,
          715,
          716,
          717,
          718,
          719,
          720,
          721,
          722,
          723,
          724,
          725,
          726,
          727,
          728,
          729,
          730,
          731,
          732,
          733,
          734,
          735,
          736,
          737,
          738,
          739,
          740,
          741,
          742,
          743,
          744,
          745,
          746,
          747,
          748,
          749,
          750,
          751,
          752,
          753,
          754,
          755,
          756,
          757,
          758,
          759,
          760,
          761,
          762,
          763,
          764,
          765,
          766,
          767,
          768,
          769,
          770,
          771,
          772,
          773,
          774,
          775,
          776,
          777,
          778,
          779,
          780,
          781,
          782,
          783,
          784,
          785,
          786,
          787,
          788,
          789,
          790
         ],
         "xaxis": "x",
         "y": [
          2.495636248588562,
          1.9331820607185364,
          1.6145204305648804,
          1.4837334275245666,
          1.402028626203537,
          1.2858588993549347,
          1.1388091266155242,
          1.0367830455303193,
          0.9694036066532135,
          0.8915774703025818,
          0.8204608380794525,
          0.7595060914754868,
          0.6751500040292739,
          0.6094990074634552,
          0.5727611035108566,
          0.5263401567935944,
          0.4687443196773529,
          0.4190119057893753,
          0.38346656411886215,
          0.3471221312880516,
          0.3040413796901703,
          0.2752360925078392,
          0.24376643300056458,
          0.2170308291912079,
          0.19157175570726395,
          0.167591442912817,
          0.15011191815137864,
          0.14128063917160033,
          0.12983184456825256,
          0.11989614963531495,
          0.11195577830076217,
          0.10211470127105712,
          0.09483089223504067,
          0.08823102936148644,
          0.08242694064974784,
          0.07970314025878907,
          0.07621875144541264,
          0.07078670375049115,
          0.0656956396996975,
          0.06232088282704353,
          0.0600918285548687,
          0.05836508497595787,
          0.05483519472181797,
          0.05184783935546875,
          0.04968837201595307,
          0.04659043103456497,
          0.04466546736657619,
          0.044301998987793925,
          0.04310100600123405,
          0.04209719859063625,
          0.040829280763864516,
          0.03942552804946899,
          0.03820006661117077,
          0.03879639282822609,
          0.03905226215720177,
          0.03905398547649384,
          0.03775648847222328,
          0.035569346696138385,
          0.035109014436602595,
          0.035058122128248215,
          0.034828700497746466,
          0.03529421091079712,
          0.03417953737080097,
          0.03292436935007572,
          0.032144945114851,
          0.031983951292932036,
          0.03193606901913881,
          0.03083934485912323,
          0.030654709413647653,
          0.02927853837609291,
          0.027837354876101016,
          0.02675940189510584,
          0.02736331894993782,
          0.02716780621558428,
          0.026462573930621146,
          0.02615575436502695,
          0.025939461775124073,
          0.02614565473049879,
          0.025995541363954544,
          0.025337047316133975,
          0.025972897931933404,
          0.025634204410016535,
          0.024921207316219808,
          0.024492213502526283,
          0.024350890703499318,
          0.02390395011752844,
          0.02354166526347399,
          0.023300929553806783,
          0.022435152158141135,
          0.02229676991701126,
          0.021952394023537637,
          0.021901031024754047,
          0.021530111879110338,
          0.020832889154553412,
          0.020495357923209667,
          0.020130594633519648,
          0.019682647474110127,
          0.019331753626465796,
          0.019296024180948734,
          0.01870994195342064,
          0.018101289123296737,
          0.0170566001906991,
          0.016996626928448676,
          0.016724766045808793,
          0.01654108949005604,
          0.01632862389087677,
          0.016161843948066235,
          0.015813177078962327,
          0.015655064024031162,
          0.015339145064353943,
          0.01458088755607605,
          0.014424642268568277,
          0.01418246105313301,
          0.01452006921172142,
          0.014108363632112741,
          0.014090186264365912,
          0.014047317299991846,
          0.01391363749280572,
          0.013372390531003475,
          0.013348689116537572,
          0.014338169246912003,
          0.014328395295888186,
          0.013868491910398007,
          0.013145449943840504,
          0.013233758788555861,
          0.012658844888210296,
          0.012063631135970355,
          0.012382176611572504,
          0.012816563621163369,
          0.01268172450363636,
          0.011624321714043618,
          0.011323750670999288,
          0.011157573107630015,
          0.010984597727656364,
          0.010265065310522913,
          0.00995208933018148,
          0.010124982567504048,
          0.009449314931407571,
          0.008824194641783833,
          0.008673642249777912,
          0.008476368384435773,
          0.008352418383583426,
          0.008069585869088769,
          0.007840091409161688,
          0.007912355288863183,
          0.00784827684983611,
          0.007715961895883083,
          0.007721774838864803,
          0.0075559310615062715,
          0.00778092835098505,
          0.0076838753186166285,
          0.007527924980968237,
          0.007632837304845453,
          0.007514388952404261,
          0.007439984939992428,
          0.007309814495965838,
          0.007220326596871019,
          0.006862047547474504,
          0.006947552505880594,
          0.006413288926705718,
          0.0064057784620672464,
          0.006403924291953444,
          0.006586952041834593,
          0.006496984651312232,
          0.0066170379985123874,
          0.006666390132158995,
          0.006506199249997735,
          0.006368980696424842,
          0.006498631183058023,
          0.006578169809654355,
          0.006487987143918872,
          0.006360784079879523,
          0.006080665579065681,
          0.006257299473509193,
          0.006074570911005139,
          0.0059569917619228365,
          0.0059187730308622125,
          0.0062510207761079075,
          0.0060300783719867464,
          0.005985251488164067,
          0.005939789582043886,
          0.005836082296445966,
          0.005722383921965957,
          0.005638224119320512,
          0.005372395715676248,
          0.005567123577930033,
          0.005458784778602422,
          0.005309513327665627,
          0.005224876594729722,
          0.005231151427142322,
          0.005103477020747959,
          0.0054216567194089295,
          0.005397864920087159,
          0.0053192923543974755,
          0.005490334844216705,
          0.005263516772538423,
          0.005220612231642008,
          0.004971497505903244,
          0.004973326995968819,
          0.004942191205918789,
          0.005056016193702817,
          0.004782670876011252,
          0.004879428865388035,
          0.004941358277574181,
          0.0050380831118673084,
          0.005029224418103695,
          0.005000688042491675,
          0.0053027544636279345,
          0.005280747776851058,
          0.005213841376826167,
          0.005170048214495182,
          0.005326171638444066,
          0.005195256927981973,
          0.005025311745703221,
          0.0048871508333832026,
          0.004817036306485533,
          0.004849361395463348,
          0.004516396927647293,
          0.0045212337514385584,
          0.00450504228938371,
          0.004377892496995628,
          0.004207213153131306,
          0.004089207039214671,
          0.004026816436089575,
          0.003923094761557877,
          0.0038607837166637184,
          0.003818660043179989,
          0.0037372107384726406,
          0.0036757376743480562,
          0.0035997297381982207,
          0.0035617716377601026,
          0.003429951029829681,
          0.003479497623629868,
          0.0034897400764748454,
          0.0033838916569948196,
          0.0033043092349544167,
          0.0031310142483562233,
          0.0032109660562127827,
          0.0030910839792340993,
          0.0030881504295393824,
          0.0031325880205258726,
          0.003178325784392655,
          0.003102637408301234,
          0.0029898818815127016,
          0.0030574062140658496,
          0.003130262275226414,
          0.0031941307242959738,
          0.003198786615394056,
          0.003258624137379229,
          0.003174703801050782,
          0.0030621685087680816,
          0.0031078371684998274,
          0.003259601420722902,
          0.0032919054850935937,
          0.0032284305663779376,
          0.0032704736106097696,
          0.0032728657126426695,
          0.003155968454666436,
          0.0031587307807058097,
          0.003213439881801605,
          0.0032741900533437727,
          0.0032088476698845627,
          0.003072104835882783,
          0.003124394710175693,
          0.0030699931783601643,
          0.0029896547552198172,
          0.003028207179158926,
          0.0031241858843713997,
          0.0029957193648442624,
          0.0029299644753336906,
          0.0028681064955890178,
          0.002828653738833964,
          0.0027668949915096164,
          0.002743964805267751,
          0.0027343979571014644,
          0.002699991990812123,
          0.0026407438097521664,
          0.002545983740128577,
          0.0025490774540230634,
          0.0026028430089354514,
          0.00269042425788939,
          0.00263163922354579,
          0.0027143209241330623,
          0.0027392485877498983,
          0.0027414880925789474,
          0.0027584793511778115,
          0.0027432859176769854,
          0.002713344036601484,
          0.0027860784670338035,
          0.0027701215585693717,
          0.00269655326846987,
          0.0027467102045193315,
          0.002628345531411469,
          0.0026003864360973237,
          0.0025814147433266045,
          0.002584300632588565,
          0.0025414110161364077,
          0.002571336133405566,
          0.002568794647231698,
          0.0026633048197254538,
          0.0026396358152851462,
          0.0026322510093450546,
          0.00289256707765162,
          0.002955763484351337,
          0.0029816187219694258,
          0.002957311668433249,
          0.0029912416590377688,
          0.003037075395695865,
          0.002968052122741938,
          0.0028386125806719063,
          0.0028956647496670485,
          0.0029157957527786494,
          0.0027383384760469196,
          0.0027169971959665417,
          0.0027520967414602637,
          0.0027218192582949994,
          0.002757450030185282,
          0.0027131679002195598,
          0.002752733649685979,
          0.0026986713986843825,
          0.0026679938891902566,
          0.0026086128549650312,
          0.0026091740699484946,
          0.002496755472384393,
          0.00248597280588001,
          0.002493919455446303,
          0.0024288002867251636,
          0.0023699946934357284,
          0.002436430822126567,
          0.0024847818305715917,
          0.0023969504982233047,
          0.002377780107781291,
          0.002347107930108905,
          0.0023433662950992583,
          0.0022762396838515997,
          0.002237744349986315,
          0.002238283772021532,
          0.0022433446953073143,
          0.0021287416573613884,
          0.0020910736406221987,
          0.0021523173665627835,
          0.0021879494888707995,
          0.0021576437866315246,
          0.002102540491614491,
          0.002079643972683698,
          0.002072549459990114,
          0.002022257831413299,
          0.0020532785332761706,
          0.0021089565358124672,
          0.002157373644877225,
          0.0021067726542241872,
          0.0020685949944891035,
          0.002146453771274537,
          0.002210596180520952,
          0.0022715481463819742,
          0.002273660805076361,
          0.0023145428858697414,
          0.0023282116279006006,
          0.00232001100666821,
          0.00225069863954559,
          0.002313493250403553,
          0.0023336267215199767,
          0.0022336914553306997,
          0.0022830775356851517,
          0.002239258645568043,
          0.002240095578599721,
          0.002193904865998775,
          0.0021421492681838574,
          0.0020840742741711437,
          0.0020678075961768627,
          0.0020471955882385372,
          0.0020185809349641203,
          0.0020057472866028547,
          0.0018973450642079115,
          0.0019479148555546998,
          0.0020037504844367506,
          0.0020399255910888313,
          0.002012763579841703,
          0.0022034402354620397,
          0.0022084288648329675,
          0.002254111983347684,
          0.0022689184756018222,
          0.002279631735291332,
          0.0022877795505337416,
          0.0022255295421928166,
          0.0024484482826665046,
          0.0024264953215606512,
          0.0025937548838555814,
          0.0024737034924328326,
          0.002439044776838273,
          0.0023768849088810383,
          0.0023757956107147036,
          0.002376247278880328,
          0.002396736026275903,
          0.002442940720357001,
          0.0021861011860892176,
          0.002203197416383773,
          0.0021614684141241015,
          0.0021811753860674797,
          0.002248162031173706,
          0.0022393336519598963,
          0.002300250041298568,
          0.0023480374366045,
          0.002281765756197274,
          0.002227270323783159,
          0.0022650710539892315,
          0.002339183329604566,
          0.0022614037385210394,
          0.0022602700861170887,
          0.0022624313132837415,
          0.0022148829186335204,
          0.002127393858972937,
          0.0020580972428433596,
          0.0022375677828676997,
          0.002248878264799714,
          0.0022433147300034762,
          0.0021715688053518534,
          0.0021759060909971595,
          0.0020435932092368603,
          0.0021471460117027164,
          0.0021497903857380153,
          0.002201858500484377,
          0.002288846473675221,
          0.0021985694649629293,
          0.0022827858803793786,
          0.002282470348291099,
          0.0023258069297298787,
          0.0023280835011973977,
          0.002336587314493954,
          0.002304078941233456,
          0.002298109116964042,
          0.002357967314310372,
          0.002364577748812735,
          0.0023065056186169384,
          0.0022357727866619825,
          0.002190993772819638,
          0.0021078662830404937,
          0.002091320848558098,
          0.0021169738029129803,
          0.001974706107284874,
          0.001997294113971293,
          0.001857732713688165,
          0.001753603236284107,
          0.0018308343715034425,
          0.0018285320256836712,
          0.0018297321745194494,
          0.0018796090502291919,
          0.0018752799136564136,
          0.0018665897194296121,
          0.001911597407888621,
          0.001889727870002389,
          0.0019151667016558348,
          0.0019183250376954674,
          0.0018314332934096455,
          0.0018029770464636386,
          0.0018435346777550877,
          0.0018031401792541145,
          0.0017994342371821404,
          0.0017454968765377998,
          0.0017534987651742994,
          0.0017650133231654763,
          0.001802851539105177,
          0.001826447108760476,
          0.0019551447127014398,
          0.0019885480985976757,
          0.0019142842502333224,
          0.002099320967681706,
          0.0021157369716092943,
          0.002150750102009624,
          0.0021451471839100122,
          0.0022536173579283058,
          0.0022101948969066145,
          0.0022168395458720624,
          0.00214991852408275,
          0.0021398677257820965,
          0.002185479714535177,
          0.002181231835857034,
          0.0022452092496678235,
          0.0022768312017433347,
          0.0023803891614079475,
          0.0023617482744157313,
          0.0023997762356884776,
          0.00242639867356047,
          0.0024358115275390445,
          0.002420121489558369,
          0.002393668016884476,
          0.0022451093303970993,
          0.0021646770066581665,
          0.002130214241333306,
          0.002044233004562557,
          0.0020423387410119175,
          0.00197947786655277,
          0.0019127815729007124,
          0.0019080232828855514,
          0.0018846565275453032,
          0.0019134652218781411,
          0.0019637302146293225,
          0.0019773823325522242,
          0.0019804156152531506,
          0.0019276574836112558,
          0.0018381605506874621,
          0.0018368960707448422,
          0.0018768893671222032,
          0.0017863051616586745,
          0.0018412729841656983,
          0.001804327394347638,
          0.0017705954029224812,
          0.0017222039052285254,
          0.0017567979288287462,
          0.0017366347368806601,
          0.001740805699955672,
          0.0017209265730343758,
          0.0016831060172989964,
          0.001726015203166753,
          0.0016973768477328121,
          0.0017074510804377496,
          0.0016493504052050411,
          0.001619847898837179,
          0.0015798941371031106,
          0.0015733512467704714,
          0.0015705730533227325,
          0.0015610635047778488,
          0.0015824369038455188,
          0.0015937990741804243,
          0.0015709250583313406,
          0.0015298523008823394,
          0.0015604870859533548,
          0.0016068354947492481,
          0.0015727824647910893,
          0.0015816134284250439,
          0.001564406754914671,
          0.0015730289043858648,
          0.0015563084511086346,
          0.001550069311633706,
          0.0015354239265434444,
          0.0015772162820212542,
          0.001535645266994834,
          0.0014986922731623053,
          0.0015051140100695193,
          0.0015208752825856208,
          0.0015312734758481383,
          0.0015428857877850533,
          0.0015448384685441852,
          0.001496846997179091,
          0.0014979006489738822,
          0.0014774456969462336,
          0.0014655126607976854,
          0.0015036517521366476,
          0.0015465471311472355,
          0.0015906841610558331,
          0.0016588710132054985,
          0.001686668035108596,
          0.0016694121179170907,
          0.0017531355726532639,
          0.0017746606026776135,
          0.001731590076815337,
          0.001727482210844755,
          0.0017232701648026705,
          0.00172322285361588,
          0.0017155702109448612,
          0.0016531578148715198,
          0.0016850379528477789,
          0.001719205966219306,
          0.0016284318757243455,
          0.0016730385250411928,
          0.0017125751124694943,
          0.001737711450550705,
          0.0016961785964667796,
          0.001657208614051342,
          0.0016332973493263126,
          0.001627725292928517,
          0.0015823268564417957,
          0.0015342705650255085,
          0.0016200288315303623,
          0.0015377487638033927,
          0.0015130099607631564,
          0.0016082590795122088,
          0.0016280955518595875,
          0.0016446175635792316,
          0.0016443279455415905,
          0.0016366061405278741,
          0.001622928713914007,
          0.0016586078912951053,
          0.0015932802576571702,
          0.001656637410633266,
          0.0017139833187684416,
          0.0016087686643004417,
          0.001610357267782092,
          0.0016472207265906037,
          0.0016554934438318015,
          0.0016153394361026585,
          0.001629988953936845,
          0.001607385149691254,
          0.0016057483968324958,
          0.0015168551239185036,
          0.0014599196263588965,
          0.0014273442677222193,
          0.001403103896882385,
          0.0013458514935337008,
          0.0013117785449139774,
          0.0013336215284653007,
          0.0013302244595251977,
          0.001320662593934685,
          0.0013062167214229702,
          0.0014306261437013745,
          0.001453860232140869,
          0.0014572213869541884,
          0.0014737824792973697,
          0.001468794932588935,
          0.001484078133944422,
          0.001503931381739676,
          0.0015608865534886718,
          0.0015538568724878133,
          0.0015511840232647956,
          0.001465896295849234,
          0.0014827693579718471,
          0.0015032616793178022,
          0.001530941540841013,
          0.001535186474211514,
          0.0015020617516711353,
          0.001457286556251347,
          0.0013839809806086123,
          0.0013917803298681974,
          0.0014261317672207951,
          0.0014282335760071874,
          0.0014090106007643044,
          0.0014166959095746278,
          0.0014407553826458752,
          0.0014492704416625203,
          0.0014577629044651985,
          0.001477037346921861,
          0.0014200284727849065,
          0.0014302480849437416,
          0.0014287298428826035,
          0.0014004108612425624,
          0.0014040016569197178,
          0.001389863563235849,
          0.0013335810624994337,
          0.0013009263086132706,
          0.0013018521829508245,
          0.0012837770977057517,
          0.0014014476560987531,
          0.001389744400512427,
          0.0013642557547427713,
          0.0013919682591222227,
          0.001348941831383854,
          0.0013772356673143805,
          0.0013951320899650455,
          0.001411250268574804,
          0.0014259986928664148,
          0.001448245847132057,
          0.001371808210387826,
          0.0013511761790141463,
          0.0013526540715247393,
          0.0014068355085328221,
          0.0014364521019160747,
          0.0014020722592249513,
          0.0013926359941251576,
          0.0013987518381327392,
          0.001447877672035247,
          0.0014683036133646965,
          0.0014607869205065071,
          0.0014816283481195569,
          0.0014862381620332598,
          0.0014055166859179736,
          0.0013848483562469483,
          0.0014287552912719548,
          0.0014129331684671342,
          0.0013822499662637711,
          0.0013618102297186852,
          0.0013402747572399676,
          0.0013557211845181883,
          0.0013482590671628713,
          0.0013428154634311795,
          0.0013628851971589028,
          0.0013454142841510474,
          0.0012961603235453368,
          0.0012804504251107574,
          0.0013026083586737513,
          0.001272226241417229,
          0.0013029248802922666,
          0.0013165805139578879,
          0.0013291210401803256,
          0.0013215067330747843,
          0.0012938984087668358,
          0.0012978786835446954,
          0.0013192370301112533,
          0.0013450402999296784,
          0.0013412203406915069,
          0.00135515519650653,
          0.0012929208111017942,
          0.0012356640538200736,
          0.0012572210165672005,
          0.001269827864598483,
          0.0012674370314925908,
          0.0012813098612241447,
          0.0012873867759481072,
          0.0012992630363442004,
          0.0012968406314030289,
          0.0012968345545232296,
          0.0013208727003075182,
          0.0013399176648817956,
          0.0012966847280040383,
          0.0012928977026604115,
          0.0013176530366763473,
          0.0013355609960854053,
          0.0013534599100239574,
          0.0013256269739940763,
          0.0013886473840102553,
          0.0013768528238870203,
          0.0013718229252845048,
          0.0013904288178309798,
          0.0014568702317774296,
          0.001455376751255244,
          0.001451007171999663,
          0.001431363623123616,
          0.0014129837159998714,
          0.0014016940142028034,
          0.0013827637303620577,
          0.001398220704868436,
          0.0013738119218032808,
          0.0013500770495738835,
          0.001304456073557958,
          0.0013272322190459817,
          0.0013171287078876047,
          0.0013523964502383024,
          0.0013249219802673907,
          0.0012948894931469114,
          0.0012186587147880346,
          0.0011854432348627597,
          0.0012262976611964404,
          0.0012395986821502447,
          0.0012511787819676102,
          0.0012129995855502784,
          0.0012588592129759491,
          0.0012253499939106406,
          0.0012185781495645642,
          0.0012677335296757519,
          0.001289449748583138,
          0.0013025991385802627,
          0.0012820617179386319,
          0.0012912802747450769,
          0.0012534377281554043,
          0.0012318662367761136,
          0.0012201976031064987,
          0.001233257830608636,
          0.0012165674357675015,
          0.001203352794982493,
          0.0012272792402654887,
          0.0012141608400270342,
          0.0012499320553615689,
          0.0012241074698977172,
          0.0012308341567404569,
          0.0012640688684768975,
          0.0012552606873214244,
          0.0012458055396564304,
          0.001280216092709452,
          0.0013294089352712036,
          0.0013451712438836694,
          0.001318478595931083,
          0.0013091462780721486,
          0.0013754102867096663,
          0.0013808063929900527,
          0.0013696365407668055,
          0.001411537651438266,
          0.0014660706045106053,
          0.001463234913535416,
          0.0014342640759423375,
          0.0014729982009157538,
          0.001495274726767093,
          0.0014915367122739554,
          0.0014285225770436227,
          0.0014110029209405185,
          0.0014486378524452448,
          0.0013812224846333266,
          0.0012971788295544685,
          0.0013225649832747876,
          0.0013388345600105823,
          0.0012920756242237985,
          0.0012993353069759906,
          0.0012641987530514597,
          0.0013473785016685723,
          0.0013871768838725983,
          0.0013269488117657602,
          0.0013715383829548955,
          0.0014348483644425869,
          0.0014081137953326107,
          0.0013501545297913253,
          0.0013694498455151915,
          0.0014072014251723885,
          0.001413442473858595
         ],
         "yaxis": "y"
        }
       ],
       "layout": {
        "font": {
         "family": "Courier New, monospace",
         "size": 14
        },
        "template": {
         "data": {
          "bar": [
           {
            "error_x": {
             "color": "#2a3f5f"
            },
            "error_y": {
             "color": "#2a3f5f"
            },
            "marker": {
             "line": {
              "color": "#E5ECF6",
              "width": 0.5
             }
            },
            "type": "bar"
           }
          ],
          "barpolar": [
           {
            "marker": {
             "line": {
              "color": "#E5ECF6",
              "width": 0.5
             }
            },
            "type": "barpolar"
           }
          ],
          "carpet": [
           {
            "aaxis": {
             "endlinecolor": "#2a3f5f",
             "gridcolor": "white",
             "linecolor": "white",
             "minorgridcolor": "white",
             "startlinecolor": "#2a3f5f"
            },
            "baxis": {
             "endlinecolor": "#2a3f5f",
             "gridcolor": "white",
             "linecolor": "white",
             "minorgridcolor": "white",
             "startlinecolor": "#2a3f5f"
            },
            "type": "carpet"
           }
          ],
          "choropleth": [
           {
            "colorbar": {
             "outlinewidth": 0,
             "ticks": ""
            },
            "type": "choropleth"
           }
          ],
          "contour": [
           {
            "colorbar": {
             "outlinewidth": 0,
             "ticks": ""
            },
            "colorscale": [
             [
              0,
              "#0d0887"
             ],
             [
              0.1111111111111111,
              "#46039f"
             ],
             [
              0.2222222222222222,
              "#7201a8"
             ],
             [
              0.3333333333333333,
              "#9c179e"
             ],
             [
              0.4444444444444444,
              "#bd3786"
             ],
             [
              0.5555555555555556,
              "#d8576b"
             ],
             [
              0.6666666666666666,
              "#ed7953"
             ],
             [
              0.7777777777777778,
              "#fb9f3a"
             ],
             [
              0.8888888888888888,
              "#fdca26"
             ],
             [
              1,
              "#f0f921"
             ]
            ],
            "type": "contour"
           }
          ],
          "contourcarpet": [
           {
            "colorbar": {
             "outlinewidth": 0,
             "ticks": ""
            },
            "type": "contourcarpet"
           }
          ],
          "heatmap": [
           {
            "colorbar": {
             "outlinewidth": 0,
             "ticks": ""
            },
            "colorscale": [
             [
              0,
              "#0d0887"
             ],
             [
              0.1111111111111111,
              "#46039f"
             ],
             [
              0.2222222222222222,
              "#7201a8"
             ],
             [
              0.3333333333333333,
              "#9c179e"
             ],
             [
              0.4444444444444444,
              "#bd3786"
             ],
             [
              0.5555555555555556,
              "#d8576b"
             ],
             [
              0.6666666666666666,
              "#ed7953"
             ],
             [
              0.7777777777777778,
              "#fb9f3a"
             ],
             [
              0.8888888888888888,
              "#fdca26"
             ],
             [
              1,
              "#f0f921"
             ]
            ],
            "type": "heatmap"
           }
          ],
          "heatmapgl": [
           {
            "colorbar": {
             "outlinewidth": 0,
             "ticks": ""
            },
            "colorscale": [
             [
              0,
              "#0d0887"
             ],
             [
              0.1111111111111111,
              "#46039f"
             ],
             [
              0.2222222222222222,
              "#7201a8"
             ],
             [
              0.3333333333333333,
              "#9c179e"
             ],
             [
              0.4444444444444444,
              "#bd3786"
             ],
             [
              0.5555555555555556,
              "#d8576b"
             ],
             [
              0.6666666666666666,
              "#ed7953"
             ],
             [
              0.7777777777777778,
              "#fb9f3a"
             ],
             [
              0.8888888888888888,
              "#fdca26"
             ],
             [
              1,
              "#f0f921"
             ]
            ],
            "type": "heatmapgl"
           }
          ],
          "histogram": [
           {
            "marker": {
             "colorbar": {
              "outlinewidth": 0,
              "ticks": ""
             }
            },
            "type": "histogram"
           }
          ],
          "histogram2d": [
           {
            "colorbar": {
             "outlinewidth": 0,
             "ticks": ""
            },
            "colorscale": [
             [
              0,
              "#0d0887"
             ],
             [
              0.1111111111111111,
              "#46039f"
             ],
             [
              0.2222222222222222,
              "#7201a8"
             ],
             [
              0.3333333333333333,
              "#9c179e"
             ],
             [
              0.4444444444444444,
              "#bd3786"
             ],
             [
              0.5555555555555556,
              "#d8576b"
             ],
             [
              0.6666666666666666,
              "#ed7953"
             ],
             [
              0.7777777777777778,
              "#fb9f3a"
             ],
             [
              0.8888888888888888,
              "#fdca26"
             ],
             [
              1,
              "#f0f921"
             ]
            ],
            "type": "histogram2d"
           }
          ],
          "histogram2dcontour": [
           {
            "colorbar": {
             "outlinewidth": 0,
             "ticks": ""
            },
            "colorscale": [
             [
              0,
              "#0d0887"
             ],
             [
              0.1111111111111111,
              "#46039f"
             ],
             [
              0.2222222222222222,
              "#7201a8"
             ],
             [
              0.3333333333333333,
              "#9c179e"
             ],
             [
              0.4444444444444444,
              "#bd3786"
             ],
             [
              0.5555555555555556,
              "#d8576b"
             ],
             [
              0.6666666666666666,
              "#ed7953"
             ],
             [
              0.7777777777777778,
              "#fb9f3a"
             ],
             [
              0.8888888888888888,
              "#fdca26"
             ],
             [
              1,
              "#f0f921"
             ]
            ],
            "type": "histogram2dcontour"
           }
          ],
          "mesh3d": [
           {
            "colorbar": {
             "outlinewidth": 0,
             "ticks": ""
            },
            "type": "mesh3d"
           }
          ],
          "parcoords": [
           {
            "line": {
             "colorbar": {
              "outlinewidth": 0,
              "ticks": ""
             }
            },
            "type": "parcoords"
           }
          ],
          "pie": [
           {
            "automargin": true,
            "type": "pie"
           }
          ],
          "scatter": [
           {
            "marker": {
             "colorbar": {
              "outlinewidth": 0,
              "ticks": ""
             }
            },
            "type": "scatter"
           }
          ],
          "scatter3d": [
           {
            "line": {
             "colorbar": {
              "outlinewidth": 0,
              "ticks": ""
             }
            },
            "marker": {
             "colorbar": {
              "outlinewidth": 0,
              "ticks": ""
             }
            },
            "type": "scatter3d"
           }
          ],
          "scattercarpet": [
           {
            "marker": {
             "colorbar": {
              "outlinewidth": 0,
              "ticks": ""
             }
            },
            "type": "scattercarpet"
           }
          ],
          "scattergeo": [
           {
            "marker": {
             "colorbar": {
              "outlinewidth": 0,
              "ticks": ""
             }
            },
            "type": "scattergeo"
           }
          ],
          "scattergl": [
           {
            "marker": {
             "colorbar": {
              "outlinewidth": 0,
              "ticks": ""
             }
            },
            "type": "scattergl"
           }
          ],
          "scattermapbox": [
           {
            "marker": {
             "colorbar": {
              "outlinewidth": 0,
              "ticks": ""
             }
            },
            "type": "scattermapbox"
           }
          ],
          "scatterpolar": [
           {
            "marker": {
             "colorbar": {
              "outlinewidth": 0,
              "ticks": ""
             }
            },
            "type": "scatterpolar"
           }
          ],
          "scatterpolargl": [
           {
            "marker": {
             "colorbar": {
              "outlinewidth": 0,
              "ticks": ""
             }
            },
            "type": "scatterpolargl"
           }
          ],
          "scatterternary": [
           {
            "marker": {
             "colorbar": {
              "outlinewidth": 0,
              "ticks": ""
             }
            },
            "type": "scatterternary"
           }
          ],
          "surface": [
           {
            "colorbar": {
             "outlinewidth": 0,
             "ticks": ""
            },
            "colorscale": [
             [
              0,
              "#0d0887"
             ],
             [
              0.1111111111111111,
              "#46039f"
             ],
             [
              0.2222222222222222,
              "#7201a8"
             ],
             [
              0.3333333333333333,
              "#9c179e"
             ],
             [
              0.4444444444444444,
              "#bd3786"
             ],
             [
              0.5555555555555556,
              "#d8576b"
             ],
             [
              0.6666666666666666,
              "#ed7953"
             ],
             [
              0.7777777777777778,
              "#fb9f3a"
             ],
             [
              0.8888888888888888,
              "#fdca26"
             ],
             [
              1,
              "#f0f921"
             ]
            ],
            "type": "surface"
           }
          ],
          "table": [
           {
            "cells": {
             "fill": {
              "color": "#EBF0F8"
             },
             "line": {
              "color": "white"
             }
            },
            "header": {
             "fill": {
              "color": "#C8D4E3"
             },
             "line": {
              "color": "white"
             }
            },
            "type": "table"
           }
          ]
         },
         "layout": {
          "annotationdefaults": {
           "arrowcolor": "#2a3f5f",
           "arrowhead": 0,
           "arrowwidth": 1
          },
          "autotypenumbers": "strict",
          "coloraxis": {
           "colorbar": {
            "outlinewidth": 0,
            "ticks": ""
           }
          },
          "colorscale": {
           "diverging": [
            [
             0,
             "#8e0152"
            ],
            [
             0.1,
             "#c51b7d"
            ],
            [
             0.2,
             "#de77ae"
            ],
            [
             0.3,
             "#f1b6da"
            ],
            [
             0.4,
             "#fde0ef"
            ],
            [
             0.5,
             "#f7f7f7"
            ],
            [
             0.6,
             "#e6f5d0"
            ],
            [
             0.7,
             "#b8e186"
            ],
            [
             0.8,
             "#7fbc41"
            ],
            [
             0.9,
             "#4d9221"
            ],
            [
             1,
             "#276419"
            ]
           ],
           "sequential": [
            [
             0,
             "#0d0887"
            ],
            [
             0.1111111111111111,
             "#46039f"
            ],
            [
             0.2222222222222222,
             "#7201a8"
            ],
            [
             0.3333333333333333,
             "#9c179e"
            ],
            [
             0.4444444444444444,
             "#bd3786"
            ],
            [
             0.5555555555555556,
             "#d8576b"
            ],
            [
             0.6666666666666666,
             "#ed7953"
            ],
            [
             0.7777777777777778,
             "#fb9f3a"
            ],
            [
             0.8888888888888888,
             "#fdca26"
            ],
            [
             1,
             "#f0f921"
            ]
           ],
           "sequentialminus": [
            [
             0,
             "#0d0887"
            ],
            [
             0.1111111111111111,
             "#46039f"
            ],
            [
             0.2222222222222222,
             "#7201a8"
            ],
            [
             0.3333333333333333,
             "#9c179e"
            ],
            [
             0.4444444444444444,
             "#bd3786"
            ],
            [
             0.5555555555555556,
             "#d8576b"
            ],
            [
             0.6666666666666666,
             "#ed7953"
            ],
            [
             0.7777777777777778,
             "#fb9f3a"
            ],
            [
             0.8888888888888888,
             "#fdca26"
            ],
            [
             1,
             "#f0f921"
            ]
           ]
          },
          "colorway": [
           "#636efa",
           "#EF553B",
           "#00cc96",
           "#ab63fa",
           "#FFA15A",
           "#19d3f3",
           "#FF6692",
           "#B6E880",
           "#FF97FF",
           "#FECB52"
          ],
          "font": {
           "color": "#2a3f5f"
          },
          "geo": {
           "bgcolor": "white",
           "lakecolor": "white",
           "landcolor": "#E5ECF6",
           "showlakes": true,
           "showland": true,
           "subunitcolor": "white"
          },
          "hoverlabel": {
           "align": "left"
          },
          "hovermode": "closest",
          "mapbox": {
           "style": "light"
          },
          "paper_bgcolor": "white",
          "plot_bgcolor": "#E5ECF6",
          "polar": {
           "angularaxis": {
            "gridcolor": "white",
            "linecolor": "white",
            "ticks": ""
           },
           "bgcolor": "#E5ECF6",
           "radialaxis": {
            "gridcolor": "white",
            "linecolor": "white",
            "ticks": ""
           }
          },
          "scene": {
           "xaxis": {
            "backgroundcolor": "#E5ECF6",
            "gridcolor": "white",
            "gridwidth": 2,
            "linecolor": "white",
            "showbackground": true,
            "ticks": "",
            "zerolinecolor": "white"
           },
           "yaxis": {
            "backgroundcolor": "#E5ECF6",
            "gridcolor": "white",
            "gridwidth": 2,
            "linecolor": "white",
            "showbackground": true,
            "ticks": "",
            "zerolinecolor": "white"
           },
           "zaxis": {
            "backgroundcolor": "#E5ECF6",
            "gridcolor": "white",
            "gridwidth": 2,
            "linecolor": "white",
            "showbackground": true,
            "ticks": "",
            "zerolinecolor": "white"
           }
          },
          "shapedefaults": {
           "line": {
            "color": "#2a3f5f"
           }
          },
          "ternary": {
           "aaxis": {
            "gridcolor": "white",
            "linecolor": "white",
            "ticks": ""
           },
           "baxis": {
            "gridcolor": "white",
            "linecolor": "white",
            "ticks": ""
           },
           "bgcolor": "#E5ECF6",
           "caxis": {
            "gridcolor": "white",
            "linecolor": "white",
            "ticks": ""
           }
          },
          "title": {
           "x": 0.05
          },
          "xaxis": {
           "automargin": true,
           "gridcolor": "white",
           "linecolor": "white",
           "ticks": "",
           "title": {
            "standoff": 15
           },
           "zerolinecolor": "white",
           "zerolinewidth": 2
          },
          "yaxis": {
           "automargin": true,
           "gridcolor": "white",
           "linecolor": "white",
           "ticks": "",
           "title": {
            "standoff": 15
           },
           "zerolinecolor": "white",
           "zerolinewidth": 2
          }
         }
        },
        "title": {
         "text": "Loss"
        },
        "xaxis": {
         "anchor": "y",
         "domain": [
          0,
          1
         ],
         "title": {
          "text": "Iterations"
         }
        },
        "yaxis": {
         "anchor": "x",
         "domain": [
          0,
          1
         ],
         "title": {
          "text": "Loss"
         }
        }
       }
      },
      "text/html": [
       "<div>                            <div id=\"6dd45202-048c-4be4-833d-ce6eb62e8d93\" class=\"plotly-graph-div\" style=\"height:525px; width:100%;\"></div>            <script type=\"text/javascript\">                require([\"plotly\"], function(Plotly) {                    window.PLOTLYENV=window.PLOTLYENV || {};                                    if (document.getElementById(\"6dd45202-048c-4be4-833d-ce6eb62e8d93\")) {                    Plotly.newPlot(                        \"6dd45202-048c-4be4-833d-ce6eb62e8d93\",                        [{\"mode\": \"lines\", \"name\": \"Error at x=0.1\", \"type\": \"scatter\", \"x\": [0, 1, 2, 3, 4, 5, 6, 7, 8, 9, 10, 11, 12, 13, 14, 15, 16, 17, 18, 19, 20, 21, 22, 23, 24, 25, 26, 27, 28, 29, 30, 31, 32, 33, 34, 35, 36, 37, 38, 39, 40, 41, 42, 43, 44, 45, 46, 47, 48, 49, 50, 51, 52, 53, 54, 55, 56, 57, 58, 59, 60, 61, 62, 63, 64, 65, 66, 67, 68, 69, 70, 71, 72, 73, 74, 75, 76, 77, 78, 79, 80, 81, 82, 83, 84, 85, 86, 87, 88, 89, 90, 91, 92, 93, 94, 95, 96, 97, 98, 99, 100, 101, 102, 103, 104, 105, 106, 107, 108, 109, 110, 111, 112, 113, 114, 115, 116, 117, 118, 119, 120, 121, 122, 123, 124, 125, 126, 127, 128, 129, 130, 131, 132, 133, 134, 135, 136, 137, 138, 139, 140, 141, 142, 143, 144, 145, 146, 147, 148, 149, 150, 151, 152, 153, 154, 155, 156, 157, 158, 159, 160, 161, 162, 163, 164, 165, 166, 167, 168, 169, 170, 171, 172, 173, 174, 175, 176, 177, 178, 179, 180, 181, 182, 183, 184, 185, 186, 187, 188, 189, 190, 191, 192, 193, 194, 195, 196, 197, 198, 199, 200, 201, 202, 203, 204, 205, 206, 207, 208, 209, 210, 211, 212, 213, 214, 215, 216, 217, 218, 219, 220, 221, 222, 223, 224, 225, 226, 227, 228, 229, 230, 231, 232, 233, 234, 235, 236, 237, 238, 239, 240, 241, 242, 243, 244, 245, 246, 247, 248, 249, 250, 251, 252, 253, 254, 255, 256, 257, 258, 259, 260, 261, 262, 263, 264, 265, 266, 267, 268, 269, 270, 271, 272, 273, 274, 275, 276, 277, 278, 279, 280, 281, 282, 283, 284, 285, 286, 287, 288, 289, 290, 291, 292, 293, 294, 295, 296, 297, 298, 299, 300, 301, 302, 303, 304, 305, 306, 307, 308, 309, 310, 311, 312, 313, 314, 315, 316, 317, 318, 319, 320, 321, 322, 323, 324, 325, 326, 327, 328, 329, 330, 331, 332, 333, 334, 335, 336, 337, 338, 339, 340, 341, 342, 343, 344, 345, 346, 347, 348, 349, 350, 351, 352, 353, 354, 355, 356, 357, 358, 359, 360, 361, 362, 363, 364, 365, 366, 367, 368, 369, 370, 371, 372, 373, 374, 375, 376, 377, 378, 379, 380, 381, 382, 383, 384, 385, 386, 387, 388, 389, 390, 391, 392, 393, 394, 395, 396, 397, 398, 399, 400, 401, 402, 403, 404, 405, 406, 407, 408, 409, 410, 411, 412, 413, 414, 415, 416, 417, 418, 419, 420, 421, 422, 423, 424, 425, 426, 427, 428, 429, 430, 431, 432, 433, 434, 435, 436, 437, 438, 439, 440, 441, 442, 443, 444, 445, 446, 447, 448, 449, 450, 451, 452, 453, 454, 455, 456, 457, 458, 459, 460, 461, 462, 463, 464, 465, 466, 467, 468, 469, 470, 471, 472, 473, 474, 475, 476, 477, 478, 479, 480, 481, 482, 483, 484, 485, 486, 487, 488, 489, 490, 491, 492, 493, 494, 495, 496, 497, 498, 499, 500, 501, 502, 503, 504, 505, 506, 507, 508, 509, 510, 511, 512, 513, 514, 515, 516, 517, 518, 519, 520, 521, 522, 523, 524, 525, 526, 527, 528, 529, 530, 531, 532, 533, 534, 535, 536, 537, 538, 539, 540, 541, 542, 543, 544, 545, 546, 547, 548, 549, 550, 551, 552, 553, 554, 555, 556, 557, 558, 559, 560, 561, 562, 563, 564, 565, 566, 567, 568, 569, 570, 571, 572, 573, 574, 575, 576, 577, 578, 579, 580, 581, 582, 583, 584, 585, 586, 587, 588, 589, 590, 591, 592, 593, 594, 595, 596, 597, 598, 599, 600, 601, 602, 603, 604, 605, 606, 607, 608, 609, 610, 611, 612, 613, 614, 615, 616, 617, 618, 619, 620, 621, 622, 623, 624, 625, 626, 627, 628, 629, 630, 631, 632, 633, 634, 635, 636, 637, 638, 639, 640, 641, 642, 643, 644, 645, 646, 647, 648, 649, 650, 651, 652, 653, 654, 655, 656, 657, 658, 659, 660, 661, 662, 663, 664, 665, 666, 667, 668, 669, 670, 671, 672, 673, 674, 675, 676, 677, 678, 679, 680, 681, 682, 683, 684, 685, 686, 687, 688, 689, 690, 691, 692, 693, 694, 695, 696, 697, 698, 699, 700, 701, 702, 703, 704, 705, 706, 707, 708, 709, 710, 711, 712, 713, 714, 715, 716, 717, 718, 719, 720, 721, 722, 723, 724, 725, 726, 727, 728, 729, 730, 731, 732, 733, 734, 735, 736, 737, 738, 739, 740, 741, 742, 743, 744, 745, 746, 747, 748, 749, 750, 751, 752, 753, 754, 755, 756, 757, 758, 759, 760, 761, 762, 763, 764, 765, 766, 767, 768, 769, 770, 771, 772, 773, 774, 775, 776, 777, 778, 779, 780, 781, 782, 783, 784, 785, 786, 787, 788, 789, 790], \"xaxis\": \"x\", \"y\": [2.495636248588562, 1.9331820607185364, 1.6145204305648804, 1.4837334275245666, 1.402028626203537, 1.2858588993549347, 1.1388091266155242, 1.0367830455303193, 0.9694036066532135, 0.8915774703025818, 0.8204608380794525, 0.7595060914754868, 0.6751500040292739, 0.6094990074634552, 0.5727611035108566, 0.5263401567935944, 0.4687443196773529, 0.4190119057893753, 0.38346656411886215, 0.3471221312880516, 0.3040413796901703, 0.2752360925078392, 0.24376643300056458, 0.2170308291912079, 0.19157175570726395, 0.167591442912817, 0.15011191815137864, 0.14128063917160033, 0.12983184456825256, 0.11989614963531495, 0.11195577830076217, 0.10211470127105712, 0.09483089223504067, 0.08823102936148644, 0.08242694064974784, 0.07970314025878907, 0.07621875144541264, 0.07078670375049115, 0.0656956396996975, 0.06232088282704353, 0.0600918285548687, 0.05836508497595787, 0.05483519472181797, 0.05184783935546875, 0.04968837201595307, 0.04659043103456497, 0.04466546736657619, 0.044301998987793925, 0.04310100600123405, 0.04209719859063625, 0.040829280763864516, 0.03942552804946899, 0.03820006661117077, 0.03879639282822609, 0.03905226215720177, 0.03905398547649384, 0.03775648847222328, 0.035569346696138385, 0.035109014436602595, 0.035058122128248215, 0.034828700497746466, 0.03529421091079712, 0.03417953737080097, 0.03292436935007572, 0.032144945114851, 0.031983951292932036, 0.03193606901913881, 0.03083934485912323, 0.030654709413647653, 0.02927853837609291, 0.027837354876101016, 0.02675940189510584, 0.02736331894993782, 0.02716780621558428, 0.026462573930621146, 0.02615575436502695, 0.025939461775124073, 0.02614565473049879, 0.025995541363954544, 0.025337047316133975, 0.025972897931933404, 0.025634204410016535, 0.024921207316219808, 0.024492213502526283, 0.024350890703499318, 0.02390395011752844, 0.02354166526347399, 0.023300929553806783, 0.022435152158141135, 0.02229676991701126, 0.021952394023537637, 0.021901031024754047, 0.021530111879110338, 0.020832889154553412, 0.020495357923209667, 0.020130594633519648, 0.019682647474110127, 0.019331753626465796, 0.019296024180948734, 0.01870994195342064, 0.018101289123296737, 0.0170566001906991, 0.016996626928448676, 0.016724766045808793, 0.01654108949005604, 0.01632862389087677, 0.016161843948066235, 0.015813177078962327, 0.015655064024031162, 0.015339145064353943, 0.01458088755607605, 0.014424642268568277, 0.01418246105313301, 0.01452006921172142, 0.014108363632112741, 0.014090186264365912, 0.014047317299991846, 0.01391363749280572, 0.013372390531003475, 0.013348689116537572, 0.014338169246912003, 0.014328395295888186, 0.013868491910398007, 0.013145449943840504, 0.013233758788555861, 0.012658844888210296, 0.012063631135970355, 0.012382176611572504, 0.012816563621163369, 0.01268172450363636, 0.011624321714043618, 0.011323750670999288, 0.011157573107630015, 0.010984597727656364, 0.010265065310522913, 0.00995208933018148, 0.010124982567504048, 0.009449314931407571, 0.008824194641783833, 0.008673642249777912, 0.008476368384435773, 0.008352418383583426, 0.008069585869088769, 0.007840091409161688, 0.007912355288863183, 0.00784827684983611, 0.007715961895883083, 0.007721774838864803, 0.0075559310615062715, 0.00778092835098505, 0.0076838753186166285, 0.007527924980968237, 0.007632837304845453, 0.007514388952404261, 0.007439984939992428, 0.007309814495965838, 0.007220326596871019, 0.006862047547474504, 0.006947552505880594, 0.006413288926705718, 0.0064057784620672464, 0.006403924291953444, 0.006586952041834593, 0.006496984651312232, 0.0066170379985123874, 0.006666390132158995, 0.006506199249997735, 0.006368980696424842, 0.006498631183058023, 0.006578169809654355, 0.006487987143918872, 0.006360784079879523, 0.006080665579065681, 0.006257299473509193, 0.006074570911005139, 0.0059569917619228365, 0.0059187730308622125, 0.0062510207761079075, 0.0060300783719867464, 0.005985251488164067, 0.005939789582043886, 0.005836082296445966, 0.005722383921965957, 0.005638224119320512, 0.005372395715676248, 0.005567123577930033, 0.005458784778602422, 0.005309513327665627, 0.005224876594729722, 0.005231151427142322, 0.005103477020747959, 0.0054216567194089295, 0.005397864920087159, 0.0053192923543974755, 0.005490334844216705, 0.005263516772538423, 0.005220612231642008, 0.004971497505903244, 0.004973326995968819, 0.004942191205918789, 0.005056016193702817, 0.004782670876011252, 0.004879428865388035, 0.004941358277574181, 0.0050380831118673084, 0.005029224418103695, 0.005000688042491675, 0.0053027544636279345, 0.005280747776851058, 0.005213841376826167, 0.005170048214495182, 0.005326171638444066, 0.005195256927981973, 0.005025311745703221, 0.0048871508333832026, 0.004817036306485533, 0.004849361395463348, 0.004516396927647293, 0.0045212337514385584, 0.00450504228938371, 0.004377892496995628, 0.004207213153131306, 0.004089207039214671, 0.004026816436089575, 0.003923094761557877, 0.0038607837166637184, 0.003818660043179989, 0.0037372107384726406, 0.0036757376743480562, 0.0035997297381982207, 0.0035617716377601026, 0.003429951029829681, 0.003479497623629868, 0.0034897400764748454, 0.0033838916569948196, 0.0033043092349544167, 0.0031310142483562233, 0.0032109660562127827, 0.0030910839792340993, 0.0030881504295393824, 0.0031325880205258726, 0.003178325784392655, 0.003102637408301234, 0.0029898818815127016, 0.0030574062140658496, 0.003130262275226414, 0.0031941307242959738, 0.003198786615394056, 0.003258624137379229, 0.003174703801050782, 0.0030621685087680816, 0.0031078371684998274, 0.003259601420722902, 0.0032919054850935937, 0.0032284305663779376, 0.0032704736106097696, 0.0032728657126426695, 0.003155968454666436, 0.0031587307807058097, 0.003213439881801605, 0.0032741900533437727, 0.0032088476698845627, 0.003072104835882783, 0.003124394710175693, 0.0030699931783601643, 0.0029896547552198172, 0.003028207179158926, 0.0031241858843713997, 0.0029957193648442624, 0.0029299644753336906, 0.0028681064955890178, 0.002828653738833964, 0.0027668949915096164, 0.002743964805267751, 0.0027343979571014644, 0.002699991990812123, 0.0026407438097521664, 0.002545983740128577, 0.0025490774540230634, 0.0026028430089354514, 0.00269042425788939, 0.00263163922354579, 0.0027143209241330623, 0.0027392485877498983, 0.0027414880925789474, 0.0027584793511778115, 0.0027432859176769854, 0.002713344036601484, 0.0027860784670338035, 0.0027701215585693717, 0.00269655326846987, 0.0027467102045193315, 0.002628345531411469, 0.0026003864360973237, 0.0025814147433266045, 0.002584300632588565, 0.0025414110161364077, 0.002571336133405566, 0.002568794647231698, 0.0026633048197254538, 0.0026396358152851462, 0.0026322510093450546, 0.00289256707765162, 0.002955763484351337, 0.0029816187219694258, 0.002957311668433249, 0.0029912416590377688, 0.003037075395695865, 0.002968052122741938, 0.0028386125806719063, 0.0028956647496670485, 0.0029157957527786494, 0.0027383384760469196, 0.0027169971959665417, 0.0027520967414602637, 0.0027218192582949994, 0.002757450030185282, 0.0027131679002195598, 0.002752733649685979, 0.0026986713986843825, 0.0026679938891902566, 0.0026086128549650312, 0.0026091740699484946, 0.002496755472384393, 0.00248597280588001, 0.002493919455446303, 0.0024288002867251636, 0.0023699946934357284, 0.002436430822126567, 0.0024847818305715917, 0.0023969504982233047, 0.002377780107781291, 0.002347107930108905, 0.0023433662950992583, 0.0022762396838515997, 0.002237744349986315, 0.002238283772021532, 0.0022433446953073143, 0.0021287416573613884, 0.0020910736406221987, 0.0021523173665627835, 0.0021879494888707995, 0.0021576437866315246, 0.002102540491614491, 0.002079643972683698, 0.002072549459990114, 0.002022257831413299, 0.0020532785332761706, 0.0021089565358124672, 0.002157373644877225, 0.0021067726542241872, 0.0020685949944891035, 0.002146453771274537, 0.002210596180520952, 0.0022715481463819742, 0.002273660805076361, 0.0023145428858697414, 0.0023282116279006006, 0.00232001100666821, 0.00225069863954559, 0.002313493250403553, 0.0023336267215199767, 0.0022336914553306997, 0.0022830775356851517, 0.002239258645568043, 0.002240095578599721, 0.002193904865998775, 0.0021421492681838574, 0.0020840742741711437, 0.0020678075961768627, 0.0020471955882385372, 0.0020185809349641203, 0.0020057472866028547, 0.0018973450642079115, 0.0019479148555546998, 0.0020037504844367506, 0.0020399255910888313, 0.002012763579841703, 0.0022034402354620397, 0.0022084288648329675, 0.002254111983347684, 0.0022689184756018222, 0.002279631735291332, 0.0022877795505337416, 0.0022255295421928166, 0.0024484482826665046, 0.0024264953215606512, 0.0025937548838555814, 0.0024737034924328326, 0.002439044776838273, 0.0023768849088810383, 0.0023757956107147036, 0.002376247278880328, 0.002396736026275903, 0.002442940720357001, 0.0021861011860892176, 0.002203197416383773, 0.0021614684141241015, 0.0021811753860674797, 0.002248162031173706, 0.0022393336519598963, 0.002300250041298568, 0.0023480374366045, 0.002281765756197274, 0.002227270323783159, 0.0022650710539892315, 0.002339183329604566, 0.0022614037385210394, 0.0022602700861170887, 0.0022624313132837415, 0.0022148829186335204, 0.002127393858972937, 0.0020580972428433596, 0.0022375677828676997, 0.002248878264799714, 0.0022433147300034762, 0.0021715688053518534, 0.0021759060909971595, 0.0020435932092368603, 0.0021471460117027164, 0.0021497903857380153, 0.002201858500484377, 0.002288846473675221, 0.0021985694649629293, 0.0022827858803793786, 0.002282470348291099, 0.0023258069297298787, 0.0023280835011973977, 0.002336587314493954, 0.002304078941233456, 0.002298109116964042, 0.002357967314310372, 0.002364577748812735, 0.0023065056186169384, 0.0022357727866619825, 0.002190993772819638, 0.0021078662830404937, 0.002091320848558098, 0.0021169738029129803, 0.001974706107284874, 0.001997294113971293, 0.001857732713688165, 0.001753603236284107, 0.0018308343715034425, 0.0018285320256836712, 0.0018297321745194494, 0.0018796090502291919, 0.0018752799136564136, 0.0018665897194296121, 0.001911597407888621, 0.001889727870002389, 0.0019151667016558348, 0.0019183250376954674, 0.0018314332934096455, 0.0018029770464636386, 0.0018435346777550877, 0.0018031401792541145, 0.0017994342371821404, 0.0017454968765377998, 0.0017534987651742994, 0.0017650133231654763, 0.001802851539105177, 0.001826447108760476, 0.0019551447127014398, 0.0019885480985976757, 0.0019142842502333224, 0.002099320967681706, 0.0021157369716092943, 0.002150750102009624, 0.0021451471839100122, 0.0022536173579283058, 0.0022101948969066145, 0.0022168395458720624, 0.00214991852408275, 0.0021398677257820965, 0.002185479714535177, 0.002181231835857034, 0.0022452092496678235, 0.0022768312017433347, 0.0023803891614079475, 0.0023617482744157313, 0.0023997762356884776, 0.00242639867356047, 0.0024358115275390445, 0.002420121489558369, 0.002393668016884476, 0.0022451093303970993, 0.0021646770066581665, 0.002130214241333306, 0.002044233004562557, 0.0020423387410119175, 0.00197947786655277, 0.0019127815729007124, 0.0019080232828855514, 0.0018846565275453032, 0.0019134652218781411, 0.0019637302146293225, 0.0019773823325522242, 0.0019804156152531506, 0.0019276574836112558, 0.0018381605506874621, 0.0018368960707448422, 0.0018768893671222032, 0.0017863051616586745, 0.0018412729841656983, 0.001804327394347638, 0.0017705954029224812, 0.0017222039052285254, 0.0017567979288287462, 0.0017366347368806601, 0.001740805699955672, 0.0017209265730343758, 0.0016831060172989964, 0.001726015203166753, 0.0016973768477328121, 0.0017074510804377496, 0.0016493504052050411, 0.001619847898837179, 0.0015798941371031106, 0.0015733512467704714, 0.0015705730533227325, 0.0015610635047778488, 0.0015824369038455188, 0.0015937990741804243, 0.0015709250583313406, 0.0015298523008823394, 0.0015604870859533548, 0.0016068354947492481, 0.0015727824647910893, 0.0015816134284250439, 0.001564406754914671, 0.0015730289043858648, 0.0015563084511086346, 0.001550069311633706, 0.0015354239265434444, 0.0015772162820212542, 0.001535645266994834, 0.0014986922731623053, 0.0015051140100695193, 0.0015208752825856208, 0.0015312734758481383, 0.0015428857877850533, 0.0015448384685441852, 0.001496846997179091, 0.0014979006489738822, 0.0014774456969462336, 0.0014655126607976854, 0.0015036517521366476, 0.0015465471311472355, 0.0015906841610558331, 0.0016588710132054985, 0.001686668035108596, 0.0016694121179170907, 0.0017531355726532639, 0.0017746606026776135, 0.001731590076815337, 0.001727482210844755, 0.0017232701648026705, 0.00172322285361588, 0.0017155702109448612, 0.0016531578148715198, 0.0016850379528477789, 0.001719205966219306, 0.0016284318757243455, 0.0016730385250411928, 0.0017125751124694943, 0.001737711450550705, 0.0016961785964667796, 0.001657208614051342, 0.0016332973493263126, 0.001627725292928517, 0.0015823268564417957, 0.0015342705650255085, 0.0016200288315303623, 0.0015377487638033927, 0.0015130099607631564, 0.0016082590795122088, 0.0016280955518595875, 0.0016446175635792316, 0.0016443279455415905, 0.0016366061405278741, 0.001622928713914007, 0.0016586078912951053, 0.0015932802576571702, 0.001656637410633266, 0.0017139833187684416, 0.0016087686643004417, 0.001610357267782092, 0.0016472207265906037, 0.0016554934438318015, 0.0016153394361026585, 0.001629988953936845, 0.001607385149691254, 0.0016057483968324958, 0.0015168551239185036, 0.0014599196263588965, 0.0014273442677222193, 0.001403103896882385, 0.0013458514935337008, 0.0013117785449139774, 0.0013336215284653007, 0.0013302244595251977, 0.001320662593934685, 0.0013062167214229702, 0.0014306261437013745, 0.001453860232140869, 0.0014572213869541884, 0.0014737824792973697, 0.001468794932588935, 0.001484078133944422, 0.001503931381739676, 0.0015608865534886718, 0.0015538568724878133, 0.0015511840232647956, 0.001465896295849234, 0.0014827693579718471, 0.0015032616793178022, 0.001530941540841013, 0.001535186474211514, 0.0015020617516711353, 0.001457286556251347, 0.0013839809806086123, 0.0013917803298681974, 0.0014261317672207951, 0.0014282335760071874, 0.0014090106007643044, 0.0014166959095746278, 0.0014407553826458752, 0.0014492704416625203, 0.0014577629044651985, 0.001477037346921861, 0.0014200284727849065, 0.0014302480849437416, 0.0014287298428826035, 0.0014004108612425624, 0.0014040016569197178, 0.001389863563235849, 0.0013335810624994337, 0.0013009263086132706, 0.0013018521829508245, 0.0012837770977057517, 0.0014014476560987531, 0.001389744400512427, 0.0013642557547427713, 0.0013919682591222227, 0.001348941831383854, 0.0013772356673143805, 0.0013951320899650455, 0.001411250268574804, 0.0014259986928664148, 0.001448245847132057, 0.001371808210387826, 0.0013511761790141463, 0.0013526540715247393, 0.0014068355085328221, 0.0014364521019160747, 0.0014020722592249513, 0.0013926359941251576, 0.0013987518381327392, 0.001447877672035247, 0.0014683036133646965, 0.0014607869205065071, 0.0014816283481195569, 0.0014862381620332598, 0.0014055166859179736, 0.0013848483562469483, 0.0014287552912719548, 0.0014129331684671342, 0.0013822499662637711, 0.0013618102297186852, 0.0013402747572399676, 0.0013557211845181883, 0.0013482590671628713, 0.0013428154634311795, 0.0013628851971589028, 0.0013454142841510474, 0.0012961603235453368, 0.0012804504251107574, 0.0013026083586737513, 0.001272226241417229, 0.0013029248802922666, 0.0013165805139578879, 0.0013291210401803256, 0.0013215067330747843, 0.0012938984087668358, 0.0012978786835446954, 0.0013192370301112533, 0.0013450402999296784, 0.0013412203406915069, 0.00135515519650653, 0.0012929208111017942, 0.0012356640538200736, 0.0012572210165672005, 0.001269827864598483, 0.0012674370314925908, 0.0012813098612241447, 0.0012873867759481072, 0.0012992630363442004, 0.0012968406314030289, 0.0012968345545232296, 0.0013208727003075182, 0.0013399176648817956, 0.0012966847280040383, 0.0012928977026604115, 0.0013176530366763473, 0.0013355609960854053, 0.0013534599100239574, 0.0013256269739940763, 0.0013886473840102553, 0.0013768528238870203, 0.0013718229252845048, 0.0013904288178309798, 0.0014568702317774296, 0.001455376751255244, 0.001451007171999663, 0.001431363623123616, 0.0014129837159998714, 0.0014016940142028034, 0.0013827637303620577, 0.001398220704868436, 0.0013738119218032808, 0.0013500770495738835, 0.001304456073557958, 0.0013272322190459817, 0.0013171287078876047, 0.0013523964502383024, 0.0013249219802673907, 0.0012948894931469114, 0.0012186587147880346, 0.0011854432348627597, 0.0012262976611964404, 0.0012395986821502447, 0.0012511787819676102, 0.0012129995855502784, 0.0012588592129759491, 0.0012253499939106406, 0.0012185781495645642, 0.0012677335296757519, 0.001289449748583138, 0.0013025991385802627, 0.0012820617179386319, 0.0012912802747450769, 0.0012534377281554043, 0.0012318662367761136, 0.0012201976031064987, 0.001233257830608636, 0.0012165674357675015, 0.001203352794982493, 0.0012272792402654887, 0.0012141608400270342, 0.0012499320553615689, 0.0012241074698977172, 0.0012308341567404569, 0.0012640688684768975, 0.0012552606873214244, 0.0012458055396564304, 0.001280216092709452, 0.0013294089352712036, 0.0013451712438836694, 0.001318478595931083, 0.0013091462780721486, 0.0013754102867096663, 0.0013808063929900527, 0.0013696365407668055, 0.001411537651438266, 0.0014660706045106053, 0.001463234913535416, 0.0014342640759423375, 0.0014729982009157538, 0.001495274726767093, 0.0014915367122739554, 0.0014285225770436227, 0.0014110029209405185, 0.0014486378524452448, 0.0013812224846333266, 0.0012971788295544685, 0.0013225649832747876, 0.0013388345600105823, 0.0012920756242237985, 0.0012993353069759906, 0.0012641987530514597, 0.0013473785016685723, 0.0013871768838725983, 0.0013269488117657602, 0.0013715383829548955, 0.0014348483644425869, 0.0014081137953326107, 0.0013501545297913253, 0.0013694498455151915, 0.0014072014251723885, 0.001413442473858595], \"yaxis\": \"y\"}],                        {\"font\": {\"family\": \"Courier New, monospace\", \"size\": 14}, \"template\": {\"data\": {\"bar\": [{\"error_x\": {\"color\": \"#2a3f5f\"}, \"error_y\": {\"color\": \"#2a3f5f\"}, \"marker\": {\"line\": {\"color\": \"#E5ECF6\", \"width\": 0.5}}, \"type\": \"bar\"}], \"barpolar\": [{\"marker\": {\"line\": {\"color\": \"#E5ECF6\", \"width\": 0.5}}, \"type\": \"barpolar\"}], \"carpet\": [{\"aaxis\": {\"endlinecolor\": \"#2a3f5f\", \"gridcolor\": \"white\", \"linecolor\": \"white\", \"minorgridcolor\": \"white\", \"startlinecolor\": \"#2a3f5f\"}, \"baxis\": {\"endlinecolor\": \"#2a3f5f\", \"gridcolor\": \"white\", \"linecolor\": \"white\", \"minorgridcolor\": \"white\", \"startlinecolor\": \"#2a3f5f\"}, \"type\": \"carpet\"}], \"choropleth\": [{\"colorbar\": {\"outlinewidth\": 0, \"ticks\": \"\"}, \"type\": \"choropleth\"}], \"contour\": [{\"colorbar\": {\"outlinewidth\": 0, \"ticks\": \"\"}, \"colorscale\": [[0.0, \"#0d0887\"], [0.1111111111111111, \"#46039f\"], [0.2222222222222222, \"#7201a8\"], [0.3333333333333333, \"#9c179e\"], [0.4444444444444444, \"#bd3786\"], [0.5555555555555556, \"#d8576b\"], [0.6666666666666666, \"#ed7953\"], [0.7777777777777778, \"#fb9f3a\"], [0.8888888888888888, \"#fdca26\"], [1.0, \"#f0f921\"]], \"type\": \"contour\"}], \"contourcarpet\": [{\"colorbar\": {\"outlinewidth\": 0, \"ticks\": \"\"}, \"type\": \"contourcarpet\"}], \"heatmap\": [{\"colorbar\": {\"outlinewidth\": 0, \"ticks\": \"\"}, \"colorscale\": [[0.0, \"#0d0887\"], [0.1111111111111111, \"#46039f\"], [0.2222222222222222, \"#7201a8\"], [0.3333333333333333, \"#9c179e\"], [0.4444444444444444, \"#bd3786\"], [0.5555555555555556, \"#d8576b\"], [0.6666666666666666, \"#ed7953\"], [0.7777777777777778, \"#fb9f3a\"], [0.8888888888888888, \"#fdca26\"], [1.0, \"#f0f921\"]], \"type\": \"heatmap\"}], \"heatmapgl\": [{\"colorbar\": {\"outlinewidth\": 0, \"ticks\": \"\"}, \"colorscale\": [[0.0, \"#0d0887\"], [0.1111111111111111, \"#46039f\"], [0.2222222222222222, \"#7201a8\"], [0.3333333333333333, \"#9c179e\"], [0.4444444444444444, \"#bd3786\"], [0.5555555555555556, \"#d8576b\"], [0.6666666666666666, \"#ed7953\"], [0.7777777777777778, \"#fb9f3a\"], [0.8888888888888888, \"#fdca26\"], [1.0, \"#f0f921\"]], \"type\": \"heatmapgl\"}], \"histogram\": [{\"marker\": {\"colorbar\": {\"outlinewidth\": 0, \"ticks\": \"\"}}, \"type\": \"histogram\"}], \"histogram2d\": [{\"colorbar\": {\"outlinewidth\": 0, \"ticks\": \"\"}, \"colorscale\": [[0.0, \"#0d0887\"], [0.1111111111111111, \"#46039f\"], [0.2222222222222222, \"#7201a8\"], [0.3333333333333333, \"#9c179e\"], [0.4444444444444444, \"#bd3786\"], [0.5555555555555556, \"#d8576b\"], [0.6666666666666666, \"#ed7953\"], [0.7777777777777778, \"#fb9f3a\"], [0.8888888888888888, \"#fdca26\"], [1.0, \"#f0f921\"]], \"type\": \"histogram2d\"}], \"histogram2dcontour\": [{\"colorbar\": {\"outlinewidth\": 0, \"ticks\": \"\"}, \"colorscale\": [[0.0, \"#0d0887\"], [0.1111111111111111, \"#46039f\"], [0.2222222222222222, \"#7201a8\"], [0.3333333333333333, \"#9c179e\"], [0.4444444444444444, \"#bd3786\"], [0.5555555555555556, \"#d8576b\"], [0.6666666666666666, \"#ed7953\"], [0.7777777777777778, \"#fb9f3a\"], [0.8888888888888888, \"#fdca26\"], [1.0, \"#f0f921\"]], \"type\": \"histogram2dcontour\"}], \"mesh3d\": [{\"colorbar\": {\"outlinewidth\": 0, \"ticks\": \"\"}, \"type\": \"mesh3d\"}], \"parcoords\": [{\"line\": {\"colorbar\": {\"outlinewidth\": 0, \"ticks\": \"\"}}, \"type\": \"parcoords\"}], \"pie\": [{\"automargin\": true, \"type\": \"pie\"}], \"scatter\": [{\"marker\": {\"colorbar\": {\"outlinewidth\": 0, \"ticks\": \"\"}}, \"type\": \"scatter\"}], \"scatter3d\": [{\"line\": {\"colorbar\": {\"outlinewidth\": 0, \"ticks\": \"\"}}, \"marker\": {\"colorbar\": {\"outlinewidth\": 0, \"ticks\": \"\"}}, \"type\": \"scatter3d\"}], \"scattercarpet\": [{\"marker\": {\"colorbar\": {\"outlinewidth\": 0, \"ticks\": \"\"}}, \"type\": \"scattercarpet\"}], \"scattergeo\": [{\"marker\": {\"colorbar\": {\"outlinewidth\": 0, \"ticks\": \"\"}}, \"type\": \"scattergeo\"}], \"scattergl\": [{\"marker\": {\"colorbar\": {\"outlinewidth\": 0, \"ticks\": \"\"}}, \"type\": \"scattergl\"}], \"scattermapbox\": [{\"marker\": {\"colorbar\": {\"outlinewidth\": 0, \"ticks\": \"\"}}, \"type\": \"scattermapbox\"}], \"scatterpolar\": [{\"marker\": {\"colorbar\": {\"outlinewidth\": 0, \"ticks\": \"\"}}, \"type\": \"scatterpolar\"}], \"scatterpolargl\": [{\"marker\": {\"colorbar\": {\"outlinewidth\": 0, \"ticks\": \"\"}}, \"type\": \"scatterpolargl\"}], \"scatterternary\": [{\"marker\": {\"colorbar\": {\"outlinewidth\": 0, \"ticks\": \"\"}}, \"type\": \"scatterternary\"}], \"surface\": [{\"colorbar\": {\"outlinewidth\": 0, \"ticks\": \"\"}, \"colorscale\": [[0.0, \"#0d0887\"], [0.1111111111111111, \"#46039f\"], [0.2222222222222222, \"#7201a8\"], [0.3333333333333333, \"#9c179e\"], [0.4444444444444444, \"#bd3786\"], [0.5555555555555556, \"#d8576b\"], [0.6666666666666666, \"#ed7953\"], [0.7777777777777778, \"#fb9f3a\"], [0.8888888888888888, \"#fdca26\"], [1.0, \"#f0f921\"]], \"type\": \"surface\"}], \"table\": [{\"cells\": {\"fill\": {\"color\": \"#EBF0F8\"}, \"line\": {\"color\": \"white\"}}, \"header\": {\"fill\": {\"color\": \"#C8D4E3\"}, \"line\": {\"color\": \"white\"}}, \"type\": \"table\"}]}, \"layout\": {\"annotationdefaults\": {\"arrowcolor\": \"#2a3f5f\", \"arrowhead\": 0, \"arrowwidth\": 1}, \"autotypenumbers\": \"strict\", \"coloraxis\": {\"colorbar\": {\"outlinewidth\": 0, \"ticks\": \"\"}}, \"colorscale\": {\"diverging\": [[0, \"#8e0152\"], [0.1, \"#c51b7d\"], [0.2, \"#de77ae\"], [0.3, \"#f1b6da\"], [0.4, \"#fde0ef\"], [0.5, \"#f7f7f7\"], [0.6, \"#e6f5d0\"], [0.7, \"#b8e186\"], [0.8, \"#7fbc41\"], [0.9, \"#4d9221\"], [1, \"#276419\"]], \"sequential\": [[0.0, \"#0d0887\"], [0.1111111111111111, \"#46039f\"], [0.2222222222222222, \"#7201a8\"], [0.3333333333333333, \"#9c179e\"], [0.4444444444444444, \"#bd3786\"], [0.5555555555555556, \"#d8576b\"], [0.6666666666666666, \"#ed7953\"], [0.7777777777777778, \"#fb9f3a\"], [0.8888888888888888, \"#fdca26\"], [1.0, \"#f0f921\"]], \"sequentialminus\": [[0.0, \"#0d0887\"], [0.1111111111111111, \"#46039f\"], [0.2222222222222222, \"#7201a8\"], [0.3333333333333333, \"#9c179e\"], [0.4444444444444444, \"#bd3786\"], [0.5555555555555556, \"#d8576b\"], [0.6666666666666666, \"#ed7953\"], [0.7777777777777778, \"#fb9f3a\"], [0.8888888888888888, \"#fdca26\"], [1.0, \"#f0f921\"]]}, \"colorway\": [\"#636efa\", \"#EF553B\", \"#00cc96\", \"#ab63fa\", \"#FFA15A\", \"#19d3f3\", \"#FF6692\", \"#B6E880\", \"#FF97FF\", \"#FECB52\"], \"font\": {\"color\": \"#2a3f5f\"}, \"geo\": {\"bgcolor\": \"white\", \"lakecolor\": \"white\", \"landcolor\": \"#E5ECF6\", \"showlakes\": true, \"showland\": true, \"subunitcolor\": \"white\"}, \"hoverlabel\": {\"align\": \"left\"}, \"hovermode\": \"closest\", \"mapbox\": {\"style\": \"light\"}, \"paper_bgcolor\": \"white\", \"plot_bgcolor\": \"#E5ECF6\", \"polar\": {\"angularaxis\": {\"gridcolor\": \"white\", \"linecolor\": \"white\", \"ticks\": \"\"}, \"bgcolor\": \"#E5ECF6\", \"radialaxis\": {\"gridcolor\": \"white\", \"linecolor\": \"white\", \"ticks\": \"\"}}, \"scene\": {\"xaxis\": {\"backgroundcolor\": \"#E5ECF6\", \"gridcolor\": \"white\", \"gridwidth\": 2, \"linecolor\": \"white\", \"showbackground\": true, \"ticks\": \"\", \"zerolinecolor\": \"white\"}, \"yaxis\": {\"backgroundcolor\": \"#E5ECF6\", \"gridcolor\": \"white\", \"gridwidth\": 2, \"linecolor\": \"white\", \"showbackground\": true, \"ticks\": \"\", \"zerolinecolor\": \"white\"}, \"zaxis\": {\"backgroundcolor\": \"#E5ECF6\", \"gridcolor\": \"white\", \"gridwidth\": 2, \"linecolor\": \"white\", \"showbackground\": true, \"ticks\": \"\", \"zerolinecolor\": \"white\"}}, \"shapedefaults\": {\"line\": {\"color\": \"#2a3f5f\"}}, \"ternary\": {\"aaxis\": {\"gridcolor\": \"white\", \"linecolor\": \"white\", \"ticks\": \"\"}, \"baxis\": {\"gridcolor\": \"white\", \"linecolor\": \"white\", \"ticks\": \"\"}, \"bgcolor\": \"#E5ECF6\", \"caxis\": {\"gridcolor\": \"white\", \"linecolor\": \"white\", \"ticks\": \"\"}}, \"title\": {\"x\": 0.05}, \"xaxis\": {\"automargin\": true, \"gridcolor\": \"white\", \"linecolor\": \"white\", \"ticks\": \"\", \"title\": {\"standoff\": 15}, \"zerolinecolor\": \"white\", \"zerolinewidth\": 2}, \"yaxis\": {\"automargin\": true, \"gridcolor\": \"white\", \"linecolor\": \"white\", \"ticks\": \"\", \"title\": {\"standoff\": 15}, \"zerolinecolor\": \"white\", \"zerolinewidth\": 2}}}, \"title\": {\"text\": \"Loss\"}, \"xaxis\": {\"anchor\": \"y\", \"domain\": [0.0, 1.0], \"title\": {\"text\": \"Iterations\"}}, \"yaxis\": {\"anchor\": \"x\", \"domain\": [0.0, 1.0], \"title\": {\"text\": \"Loss\"}}},                        {\"responsive\": true}                    ).then(function(){\n",
       "                            \n",
       "var gd = document.getElementById('6dd45202-048c-4be4-833d-ce6eb62e8d93');\n",
       "var x = new MutationObserver(function (mutations, observer) {{\n",
       "        var display = window.getComputedStyle(gd).display;\n",
       "        if (!display || display === 'none') {{\n",
       "            console.log([gd, 'removed!']);\n",
       "            Plotly.purge(gd);\n",
       "            observer.disconnect();\n",
       "        }}\n",
       "}});\n",
       "\n",
       "// Listen for the removal of the full notebook cells\n",
       "var notebookContainer = gd.closest('#notebook-container');\n",
       "if (notebookContainer) {{\n",
       "    x.observe(notebookContainer, {childList: true});\n",
       "}}\n",
       "\n",
       "// Listen for the clearing of the current output cell\n",
       "var outputEl = gd.closest('.output');\n",
       "if (outputEl) {{\n",
       "    x.observe(outputEl, {childList: true});\n",
       "}}\n",
       "\n",
       "                        })                };                });            </script>        </div>"
      ]
     },
     "metadata": {},
     "output_type": "display_data"
    }
   ],
   "source": [
    "avgs = np.convolve(losses, np.ones(10), 'valid') / 10\n",
    "fig = make_subplots(rows=1, cols=1)\n",
    "fig.add_trace(go.Scatter(x=np.arange(len(avgs)), y=avgs, mode='lines', name=\"Error at x=0.1\"), row=1, col=1)\n",
    "fig.update_layout(\n",
    "    title=\"Loss\",\n",
    "    xaxis_title=\"Iterations\",\n",
    "    yaxis_title=\"Loss\",\n",
    "    font=dict(\n",
    "        family=\"Courier New, monospace\",\n",
    "        size=14\n",
    "    )\n",
    ")\n",
    "fig.show()"
   ]
  },
  {
   "cell_type": "code",
   "execution_count": 61,
   "id": "grand-vegetable",
   "metadata": {},
   "outputs": [],
   "source": [
    "from FBSDEs import FBSDESolver\n",
    "from pdes import FBSDE\n",
    "class BSB(FBSDE):\n",
    "    def __init__(self):\n",
    "        super().__init__()\n",
    "        r = 0.05\n",
    "        self.h = lambda X, Y, Z, t: r*(Y-torch.einsum(\"bi, bi -> b\", Z, X).unsqueeze(1))\n",
    "        \n",
    "        self.b = lambda X, t: 0.0*X\n",
    "        self.sigma = lambda X, t: 0.3*torch.diag_embed(X)\n",
    "        \n",
    "        self.terminal_condition = lambda X: torch.einsum(\"bi, bi-> b\", X, X).unsqueeze(1)\n",
    "        \n",
    "        self.var_dim = 2\n",
    "        self.terminal_time = 1     \n",
    "        self.init_sampling_func = lambda X: (X-0.5)*2\n",
    "        self.control_noise = 0.0"
   ]
  },
  {
   "cell_type": "code",
   "execution_count": 62,
   "id": "productive-disposition",
   "metadata": {},
   "outputs": [],
   "source": [
    "BSB_MODEL_CONFIG = {\n",
    "    \"batch_size\": 128,\n",
    "    \"num_discretisation_steps\": 30,\n",
    "    \"hidden_dim\": 64,\n",
    "    \"learning_rate\": 5e-3,\n",
    "    \"lr_decay\": 0.99,\n",
    "    \"network_type\": \"MINI\",\n",
    "    \"optimiser\": \"Adam\"\n",
    "}\n",
    "eq_sim = BSB()\n",
    "solver_sim = FBSDESolver(BSB_MODEL_CONFIG, eq_sim)"
   ]
  },
  {
   "cell_type": "code",
   "execution_count": 63,
   "id": "destroyed-trance",
   "metadata": {},
   "outputs": [],
   "source": [
    "num_samples = 2\n",
    "def J_sol(X, t):\n",
    "    r = 0.05\n",
    "    sigma = 0.3\n",
    "    return np.exp((r + sigma**2)*(1 - t))*np.sum(X**2, axis=-1, keepdims=True)\n",
    "Xs, _, ts = solver_sim.simulate_processes(num_samples)\n",
    "Y_sol = J_sol(Xs, ts)"
   ]
  },
  {
   "cell_type": "code",
   "execution_count": 64,
   "id": "split-saver",
   "metadata": {},
   "outputs": [],
   "source": [
    "Y_preds = np.array([[solver.u(*x_b) for x_b in x] for x in Xs])"
   ]
  },
  {
   "cell_type": "code",
   "execution_count": 65,
   "id": "excellent-grade",
   "metadata": {},
   "outputs": [
    {
     "data": {
      "application/vnd.plotly.v1+json": {
       "config": {
        "plotlyServerURL": "https://plot.ly"
       },
       "data": [
        {
         "line": {
          "color": "#FFe476"
         },
         "mode": "lines",
         "name": "Prediction",
         "type": "scatter",
         "x": [
          0,
          0.03333333507180214,
          0.06666667014360428,
          0.10000000894069672,
          0.13333334028720856,
          0.1666666716337204,
          0.20000001788139343,
          0.23333334922790527,
          0.2666666805744171,
          0.30000001192092896,
          0.3333333432674408,
          0.36666667461395264,
          0.40000003576278687,
          0.4333333671092987,
          0.46666669845581055,
          0.5,
          0.5333333611488342,
          0.5666667222976685,
          0.6000000238418579,
          0.6333333849906921,
          0.6666666865348816,
          0.7000000476837158,
          0.7333333492279053,
          0.7666667103767395,
          0.8000000715255737,
          0.8333333730697632,
          0.8666667342185974,
          0.9000000357627869,
          0.9333333969116211,
          0.9666666984558105
         ],
         "xaxis": "x",
         "y": [
          0.8249242305755615,
          0.7695366144180298,
          0.666537880897522,
          0.7615972757339478,
          0.6405913829803467,
          0.6719702482223511,
          0.6058007478713989,
          0.5128147602081299,
          0.49927687644958496,
          0.4858332574367523,
          0.6010861396789551,
          0.6197940111160278,
          0.6226807236671448,
          0.5849626064300537,
          0.5598016381263733,
          0.5660715103149414,
          0.5204688310623169,
          0.5026920437812805,
          0.5395047664642334,
          0.5058585405349731,
          0.43104657530784607,
          0.40930062532424927,
          0.33763182163238525,
          0.34029877185821533,
          0.37729549407958984,
          0.4020376205444336,
          0.44160401821136475,
          0.493182897567749,
          0.4884006977081299,
          0.4671010375022888
         ],
         "yaxis": "y"
        },
        {
         "line": {
          "color": "#00e476"
         },
         "mode": "lines",
         "name": "Ground truth",
         "type": "scatter",
         "x": [
          0,
          0.03333333507180214,
          0.06666667014360428,
          0.10000000894069672,
          0.13333334028720856,
          0.1666666716337204,
          0.20000001788139343,
          0.23333334922790527,
          0.2666666805744171,
          0.30000001192092896,
          0.3333333432674408,
          0.36666667461395264,
          0.40000003576278687,
          0.4333333671092987,
          0.46666669845581055,
          0.5,
          0.5333333611488342,
          0.5666667222976685,
          0.6000000238418579,
          0.6333333849906921,
          0.6666666865348816,
          0.7000000476837158,
          0.7333333492279053,
          0.7666667103767395,
          0.8000000715255737,
          0.8333333730697632,
          0.8666667342185974,
          0.9000000357627869,
          0.9333333969116211,
          0.9666666984558105
         ],
         "xaxis": "x",
         "y": [
          0.7111811529362062,
          0.6557117587850791,
          0.5903021994232555,
          0.6497331423065146,
          0.52742952804614,
          0.516652506279304,
          0.4467586615384542,
          0.4129285999696786,
          0.3933107690961109,
          0.3853361150521976,
          0.49035267977484015,
          0.4918181442374651,
          0.4967634235713983,
          0.4565076521720833,
          0.4078822656228384,
          0.401519119555231,
          0.35149634682214353,
          0.33879922973358245,
          0.3493396445610972,
          0.3243554778135918,
          0.28352420344726326,
          0.256678586998898,
          0.22876457925647728,
          0.22815470606346527,
          0.24497781778889366,
          0.2526941753741865,
          0.2830269736724594,
          0.31793256840413864,
          0.32956427517963444,
          0.3368203982196188
         ],
         "yaxis": "y"
        },
        {
         "line": {
          "color": "#FFe476"
         },
         "mode": "lines",
         "showlegend": false,
         "type": "scatter",
         "x": [
          0,
          0.03333333507180214,
          0.06666667014360428,
          0.10000000894069672,
          0.13333334028720856,
          0.1666666716337204,
          0.20000001788139343,
          0.23333334922790527,
          0.2666666805744171,
          0.30000001192092896,
          0.3333333432674408,
          0.36666667461395264,
          0.40000003576278687,
          0.4333333671092987,
          0.46666669845581055,
          0.5,
          0.5333333611488342,
          0.5666667222976685,
          0.6000000238418579,
          0.6333333849906921,
          0.6666666865348816,
          0.7000000476837158,
          0.7333333492279053,
          0.7666667103767395,
          0.8000000715255737,
          0.8333333730697632,
          0.8666667342185974,
          0.9000000357627869,
          0.9333333969116211,
          0.9666666984558105
         ],
         "xaxis": "x",
         "y": [
          0.8249242305755615,
          0.7839652299880981,
          0.7970100045204163,
          0.9815429449081421,
          0.9323258399963379,
          1.0588476657867432,
          1.0105804204940796,
          1.0549805164337158,
          1.0486661195755005,
          1.296036958694458,
          1.6246055364608765,
          1.6779391765594482,
          1.9268486499786377,
          1.7491495609283447,
          1.7232195138931274,
          1.7980432510375977,
          1.7678054571151733,
          2.084634304046631,
          2.2943387031555176,
          2.4431850910186768,
          2.513857364654541,
          2.7052173614501953,
          2.719123125076294,
          2.294867753982544,
          2.4856274127960205,
          2.2973244190216064,
          2.1632306575775146,
          2.140028715133667,
          2.1455681324005127,
          2.462242841720581
         ],
         "yaxis": "y"
        },
        {
         "line": {
          "color": "#00e476"
         },
         "mode": "lines",
         "showlegend": false,
         "type": "scatter",
         "x": [
          0,
          0.03333333507180214,
          0.06666667014360428,
          0.10000000894069672,
          0.13333334028720856,
          0.1666666716337204,
          0.20000001788139343,
          0.23333334922790527,
          0.2666666805744171,
          0.30000001192092896,
          0.3333333432674408,
          0.36666667461395264,
          0.40000003576278687,
          0.4333333671092987,
          0.46666669845581055,
          0.5,
          0.5333333611488342,
          0.5666667222976685,
          0.6000000238418579,
          0.6333333849906921,
          0.6666666865348816,
          0.7000000476837158,
          0.7333333492279053,
          0.7666667103767395,
          0.8000000715255737,
          0.8333333730697632,
          0.8666667342185974,
          0.9000000357627869,
          0.9333333969116211,
          0.9666666984558105
         ],
         "xaxis": "x",
         "y": [
          0.7111811529362062,
          0.6857114699821065,
          0.6728002787115818,
          0.8030758977080905,
          0.7521522578445125,
          0.8156551306409575,
          0.7613494162296316,
          0.77673923473877,
          0.7648001595424158,
          0.9241609451891241,
          1.1818438855781246,
          1.2391692531347374,
          1.4051106590278457,
          1.2501237075040716,
          1.192655017717104,
          1.2463359893444113,
          1.2377422178459332,
          1.4532098511271516,
          1.627255693506343,
          1.74621050286057,
          1.8066653553296341,
          1.9630011422375921,
          1.9494531951198963,
          1.5697495425592853,
          1.7196135312421343,
          1.5615225121018337,
          1.4207472609618395,
          1.3713905515143343,
          1.3556733522948952,
          1.5974038514801026
         ],
         "yaxis": "y"
        }
       ],
       "layout": {
        "font": {
         "family": "Courier New, monospace",
         "size": 14
        },
        "template": {
         "data": {
          "bar": [
           {
            "error_x": {
             "color": "#2a3f5f"
            },
            "error_y": {
             "color": "#2a3f5f"
            },
            "marker": {
             "line": {
              "color": "#E5ECF6",
              "width": 0.5
             }
            },
            "type": "bar"
           }
          ],
          "barpolar": [
           {
            "marker": {
             "line": {
              "color": "#E5ECF6",
              "width": 0.5
             }
            },
            "type": "barpolar"
           }
          ],
          "carpet": [
           {
            "aaxis": {
             "endlinecolor": "#2a3f5f",
             "gridcolor": "white",
             "linecolor": "white",
             "minorgridcolor": "white",
             "startlinecolor": "#2a3f5f"
            },
            "baxis": {
             "endlinecolor": "#2a3f5f",
             "gridcolor": "white",
             "linecolor": "white",
             "minorgridcolor": "white",
             "startlinecolor": "#2a3f5f"
            },
            "type": "carpet"
           }
          ],
          "choropleth": [
           {
            "colorbar": {
             "outlinewidth": 0,
             "ticks": ""
            },
            "type": "choropleth"
           }
          ],
          "contour": [
           {
            "colorbar": {
             "outlinewidth": 0,
             "ticks": ""
            },
            "colorscale": [
             [
              0,
              "#0d0887"
             ],
             [
              0.1111111111111111,
              "#46039f"
             ],
             [
              0.2222222222222222,
              "#7201a8"
             ],
             [
              0.3333333333333333,
              "#9c179e"
             ],
             [
              0.4444444444444444,
              "#bd3786"
             ],
             [
              0.5555555555555556,
              "#d8576b"
             ],
             [
              0.6666666666666666,
              "#ed7953"
             ],
             [
              0.7777777777777778,
              "#fb9f3a"
             ],
             [
              0.8888888888888888,
              "#fdca26"
             ],
             [
              1,
              "#f0f921"
             ]
            ],
            "type": "contour"
           }
          ],
          "contourcarpet": [
           {
            "colorbar": {
             "outlinewidth": 0,
             "ticks": ""
            },
            "type": "contourcarpet"
           }
          ],
          "heatmap": [
           {
            "colorbar": {
             "outlinewidth": 0,
             "ticks": ""
            },
            "colorscale": [
             [
              0,
              "#0d0887"
             ],
             [
              0.1111111111111111,
              "#46039f"
             ],
             [
              0.2222222222222222,
              "#7201a8"
             ],
             [
              0.3333333333333333,
              "#9c179e"
             ],
             [
              0.4444444444444444,
              "#bd3786"
             ],
             [
              0.5555555555555556,
              "#d8576b"
             ],
             [
              0.6666666666666666,
              "#ed7953"
             ],
             [
              0.7777777777777778,
              "#fb9f3a"
             ],
             [
              0.8888888888888888,
              "#fdca26"
             ],
             [
              1,
              "#f0f921"
             ]
            ],
            "type": "heatmap"
           }
          ],
          "heatmapgl": [
           {
            "colorbar": {
             "outlinewidth": 0,
             "ticks": ""
            },
            "colorscale": [
             [
              0,
              "#0d0887"
             ],
             [
              0.1111111111111111,
              "#46039f"
             ],
             [
              0.2222222222222222,
              "#7201a8"
             ],
             [
              0.3333333333333333,
              "#9c179e"
             ],
             [
              0.4444444444444444,
              "#bd3786"
             ],
             [
              0.5555555555555556,
              "#d8576b"
             ],
             [
              0.6666666666666666,
              "#ed7953"
             ],
             [
              0.7777777777777778,
              "#fb9f3a"
             ],
             [
              0.8888888888888888,
              "#fdca26"
             ],
             [
              1,
              "#f0f921"
             ]
            ],
            "type": "heatmapgl"
           }
          ],
          "histogram": [
           {
            "marker": {
             "colorbar": {
              "outlinewidth": 0,
              "ticks": ""
             }
            },
            "type": "histogram"
           }
          ],
          "histogram2d": [
           {
            "colorbar": {
             "outlinewidth": 0,
             "ticks": ""
            },
            "colorscale": [
             [
              0,
              "#0d0887"
             ],
             [
              0.1111111111111111,
              "#46039f"
             ],
             [
              0.2222222222222222,
              "#7201a8"
             ],
             [
              0.3333333333333333,
              "#9c179e"
             ],
             [
              0.4444444444444444,
              "#bd3786"
             ],
             [
              0.5555555555555556,
              "#d8576b"
             ],
             [
              0.6666666666666666,
              "#ed7953"
             ],
             [
              0.7777777777777778,
              "#fb9f3a"
             ],
             [
              0.8888888888888888,
              "#fdca26"
             ],
             [
              1,
              "#f0f921"
             ]
            ],
            "type": "histogram2d"
           }
          ],
          "histogram2dcontour": [
           {
            "colorbar": {
             "outlinewidth": 0,
             "ticks": ""
            },
            "colorscale": [
             [
              0,
              "#0d0887"
             ],
             [
              0.1111111111111111,
              "#46039f"
             ],
             [
              0.2222222222222222,
              "#7201a8"
             ],
             [
              0.3333333333333333,
              "#9c179e"
             ],
             [
              0.4444444444444444,
              "#bd3786"
             ],
             [
              0.5555555555555556,
              "#d8576b"
             ],
             [
              0.6666666666666666,
              "#ed7953"
             ],
             [
              0.7777777777777778,
              "#fb9f3a"
             ],
             [
              0.8888888888888888,
              "#fdca26"
             ],
             [
              1,
              "#f0f921"
             ]
            ],
            "type": "histogram2dcontour"
           }
          ],
          "mesh3d": [
           {
            "colorbar": {
             "outlinewidth": 0,
             "ticks": ""
            },
            "type": "mesh3d"
           }
          ],
          "parcoords": [
           {
            "line": {
             "colorbar": {
              "outlinewidth": 0,
              "ticks": ""
             }
            },
            "type": "parcoords"
           }
          ],
          "pie": [
           {
            "automargin": true,
            "type": "pie"
           }
          ],
          "scatter": [
           {
            "marker": {
             "colorbar": {
              "outlinewidth": 0,
              "ticks": ""
             }
            },
            "type": "scatter"
           }
          ],
          "scatter3d": [
           {
            "line": {
             "colorbar": {
              "outlinewidth": 0,
              "ticks": ""
             }
            },
            "marker": {
             "colorbar": {
              "outlinewidth": 0,
              "ticks": ""
             }
            },
            "type": "scatter3d"
           }
          ],
          "scattercarpet": [
           {
            "marker": {
             "colorbar": {
              "outlinewidth": 0,
              "ticks": ""
             }
            },
            "type": "scattercarpet"
           }
          ],
          "scattergeo": [
           {
            "marker": {
             "colorbar": {
              "outlinewidth": 0,
              "ticks": ""
             }
            },
            "type": "scattergeo"
           }
          ],
          "scattergl": [
           {
            "marker": {
             "colorbar": {
              "outlinewidth": 0,
              "ticks": ""
             }
            },
            "type": "scattergl"
           }
          ],
          "scattermapbox": [
           {
            "marker": {
             "colorbar": {
              "outlinewidth": 0,
              "ticks": ""
             }
            },
            "type": "scattermapbox"
           }
          ],
          "scatterpolar": [
           {
            "marker": {
             "colorbar": {
              "outlinewidth": 0,
              "ticks": ""
             }
            },
            "type": "scatterpolar"
           }
          ],
          "scatterpolargl": [
           {
            "marker": {
             "colorbar": {
              "outlinewidth": 0,
              "ticks": ""
             }
            },
            "type": "scatterpolargl"
           }
          ],
          "scatterternary": [
           {
            "marker": {
             "colorbar": {
              "outlinewidth": 0,
              "ticks": ""
             }
            },
            "type": "scatterternary"
           }
          ],
          "surface": [
           {
            "colorbar": {
             "outlinewidth": 0,
             "ticks": ""
            },
            "colorscale": [
             [
              0,
              "#0d0887"
             ],
             [
              0.1111111111111111,
              "#46039f"
             ],
             [
              0.2222222222222222,
              "#7201a8"
             ],
             [
              0.3333333333333333,
              "#9c179e"
             ],
             [
              0.4444444444444444,
              "#bd3786"
             ],
             [
              0.5555555555555556,
              "#d8576b"
             ],
             [
              0.6666666666666666,
              "#ed7953"
             ],
             [
              0.7777777777777778,
              "#fb9f3a"
             ],
             [
              0.8888888888888888,
              "#fdca26"
             ],
             [
              1,
              "#f0f921"
             ]
            ],
            "type": "surface"
           }
          ],
          "table": [
           {
            "cells": {
             "fill": {
              "color": "#EBF0F8"
             },
             "line": {
              "color": "white"
             }
            },
            "header": {
             "fill": {
              "color": "#C8D4E3"
             },
             "line": {
              "color": "white"
             }
            },
            "type": "table"
           }
          ]
         },
         "layout": {
          "annotationdefaults": {
           "arrowcolor": "#2a3f5f",
           "arrowhead": 0,
           "arrowwidth": 1
          },
          "autotypenumbers": "strict",
          "coloraxis": {
           "colorbar": {
            "outlinewidth": 0,
            "ticks": ""
           }
          },
          "colorscale": {
           "diverging": [
            [
             0,
             "#8e0152"
            ],
            [
             0.1,
             "#c51b7d"
            ],
            [
             0.2,
             "#de77ae"
            ],
            [
             0.3,
             "#f1b6da"
            ],
            [
             0.4,
             "#fde0ef"
            ],
            [
             0.5,
             "#f7f7f7"
            ],
            [
             0.6,
             "#e6f5d0"
            ],
            [
             0.7,
             "#b8e186"
            ],
            [
             0.8,
             "#7fbc41"
            ],
            [
             0.9,
             "#4d9221"
            ],
            [
             1,
             "#276419"
            ]
           ],
           "sequential": [
            [
             0,
             "#0d0887"
            ],
            [
             0.1111111111111111,
             "#46039f"
            ],
            [
             0.2222222222222222,
             "#7201a8"
            ],
            [
             0.3333333333333333,
             "#9c179e"
            ],
            [
             0.4444444444444444,
             "#bd3786"
            ],
            [
             0.5555555555555556,
             "#d8576b"
            ],
            [
             0.6666666666666666,
             "#ed7953"
            ],
            [
             0.7777777777777778,
             "#fb9f3a"
            ],
            [
             0.8888888888888888,
             "#fdca26"
            ],
            [
             1,
             "#f0f921"
            ]
           ],
           "sequentialminus": [
            [
             0,
             "#0d0887"
            ],
            [
             0.1111111111111111,
             "#46039f"
            ],
            [
             0.2222222222222222,
             "#7201a8"
            ],
            [
             0.3333333333333333,
             "#9c179e"
            ],
            [
             0.4444444444444444,
             "#bd3786"
            ],
            [
             0.5555555555555556,
             "#d8576b"
            ],
            [
             0.6666666666666666,
             "#ed7953"
            ],
            [
             0.7777777777777778,
             "#fb9f3a"
            ],
            [
             0.8888888888888888,
             "#fdca26"
            ],
            [
             1,
             "#f0f921"
            ]
           ]
          },
          "colorway": [
           "#636efa",
           "#EF553B",
           "#00cc96",
           "#ab63fa",
           "#FFA15A",
           "#19d3f3",
           "#FF6692",
           "#B6E880",
           "#FF97FF",
           "#FECB52"
          ],
          "font": {
           "color": "#2a3f5f"
          },
          "geo": {
           "bgcolor": "white",
           "lakecolor": "white",
           "landcolor": "#E5ECF6",
           "showlakes": true,
           "showland": true,
           "subunitcolor": "white"
          },
          "hoverlabel": {
           "align": "left"
          },
          "hovermode": "closest",
          "mapbox": {
           "style": "light"
          },
          "paper_bgcolor": "white",
          "plot_bgcolor": "#E5ECF6",
          "polar": {
           "angularaxis": {
            "gridcolor": "white",
            "linecolor": "white",
            "ticks": ""
           },
           "bgcolor": "#E5ECF6",
           "radialaxis": {
            "gridcolor": "white",
            "linecolor": "white",
            "ticks": ""
           }
          },
          "scene": {
           "xaxis": {
            "backgroundcolor": "#E5ECF6",
            "gridcolor": "white",
            "gridwidth": 2,
            "linecolor": "white",
            "showbackground": true,
            "ticks": "",
            "zerolinecolor": "white"
           },
           "yaxis": {
            "backgroundcolor": "#E5ECF6",
            "gridcolor": "white",
            "gridwidth": 2,
            "linecolor": "white",
            "showbackground": true,
            "ticks": "",
            "zerolinecolor": "white"
           },
           "zaxis": {
            "backgroundcolor": "#E5ECF6",
            "gridcolor": "white",
            "gridwidth": 2,
            "linecolor": "white",
            "showbackground": true,
            "ticks": "",
            "zerolinecolor": "white"
           }
          },
          "shapedefaults": {
           "line": {
            "color": "#2a3f5f"
           }
          },
          "ternary": {
           "aaxis": {
            "gridcolor": "white",
            "linecolor": "white",
            "ticks": ""
           },
           "baxis": {
            "gridcolor": "white",
            "linecolor": "white",
            "ticks": ""
           },
           "bgcolor": "#E5ECF6",
           "caxis": {
            "gridcolor": "white",
            "linecolor": "white",
            "ticks": ""
           }
          },
          "title": {
           "x": 0.05
          },
          "xaxis": {
           "automargin": true,
           "gridcolor": "white",
           "linecolor": "white",
           "ticks": "",
           "title": {
            "standoff": 15
           },
           "zerolinecolor": "white",
           "zerolinewidth": 2
          },
          "yaxis": {
           "automargin": true,
           "gridcolor": "white",
           "linecolor": "white",
           "ticks": "",
           "title": {
            "standoff": 15
           },
           "zerolinecolor": "white",
           "zerolinewidth": 2
          }
         }
        },
        "title": {
         "text": "Loss"
        },
        "xaxis": {
         "anchor": "y",
         "domain": [
          0,
          1
         ],
         "title": {
          "text": "t"
         }
        },
        "yaxis": {
         "anchor": "x",
         "domain": [
          0,
          1
         ],
         "title": {
          "text": "J"
         }
        }
       }
      },
      "text/html": [
       "<div>                            <div id=\"44eead45-bb2a-4e66-9e3a-e98822af8666\" class=\"plotly-graph-div\" style=\"height:525px; width:100%;\"></div>            <script type=\"text/javascript\">                require([\"plotly\"], function(Plotly) {                    window.PLOTLYENV=window.PLOTLYENV || {};                                    if (document.getElementById(\"44eead45-bb2a-4e66-9e3a-e98822af8666\")) {                    Plotly.newPlot(                        \"44eead45-bb2a-4e66-9e3a-e98822af8666\",                        [{\"line\": {\"color\": \"#FFe476\"}, \"mode\": \"lines\", \"name\": \"Prediction\", \"type\": \"scatter\", \"x\": [0.0, 0.03333333507180214, 0.06666667014360428, 0.10000000894069672, 0.13333334028720856, 0.1666666716337204, 0.20000001788139343, 0.23333334922790527, 0.2666666805744171, 0.30000001192092896, 0.3333333432674408, 0.36666667461395264, 0.40000003576278687, 0.4333333671092987, 0.46666669845581055, 0.5, 0.5333333611488342, 0.5666667222976685, 0.6000000238418579, 0.6333333849906921, 0.6666666865348816, 0.7000000476837158, 0.7333333492279053, 0.7666667103767395, 0.8000000715255737, 0.8333333730697632, 0.8666667342185974, 0.9000000357627869, 0.9333333969116211, 0.9666666984558105], \"xaxis\": \"x\", \"y\": [0.8249242305755615, 0.7695366144180298, 0.666537880897522, 0.7615972757339478, 0.6405913829803467, 0.6719702482223511, 0.6058007478713989, 0.5128147602081299, 0.49927687644958496, 0.4858332574367523, 0.6010861396789551, 0.6197940111160278, 0.6226807236671448, 0.5849626064300537, 0.5598016381263733, 0.5660715103149414, 0.5204688310623169, 0.5026920437812805, 0.5395047664642334, 0.5058585405349731, 0.43104657530784607, 0.40930062532424927, 0.33763182163238525, 0.34029877185821533, 0.37729549407958984, 0.4020376205444336, 0.44160401821136475, 0.493182897567749, 0.4884006977081299, 0.4671010375022888], \"yaxis\": \"y\"}, {\"line\": {\"color\": \"#00e476\"}, \"mode\": \"lines\", \"name\": \"Ground truth\", \"type\": \"scatter\", \"x\": [0.0, 0.03333333507180214, 0.06666667014360428, 0.10000000894069672, 0.13333334028720856, 0.1666666716337204, 0.20000001788139343, 0.23333334922790527, 0.2666666805744171, 0.30000001192092896, 0.3333333432674408, 0.36666667461395264, 0.40000003576278687, 0.4333333671092987, 0.46666669845581055, 0.5, 0.5333333611488342, 0.5666667222976685, 0.6000000238418579, 0.6333333849906921, 0.6666666865348816, 0.7000000476837158, 0.7333333492279053, 0.7666667103767395, 0.8000000715255737, 0.8333333730697632, 0.8666667342185974, 0.9000000357627869, 0.9333333969116211, 0.9666666984558105], \"xaxis\": \"x\", \"y\": [0.7111811529362062, 0.6557117587850791, 0.5903021994232555, 0.6497331423065146, 0.52742952804614, 0.516652506279304, 0.4467586615384542, 0.4129285999696786, 0.3933107690961109, 0.3853361150521976, 0.49035267977484015, 0.4918181442374651, 0.4967634235713983, 0.4565076521720833, 0.4078822656228384, 0.401519119555231, 0.35149634682214353, 0.33879922973358245, 0.3493396445610972, 0.3243554778135918, 0.28352420344726326, 0.256678586998898, 0.22876457925647728, 0.22815470606346527, 0.24497781778889366, 0.2526941753741865, 0.2830269736724594, 0.31793256840413864, 0.32956427517963444, 0.3368203982196188], \"yaxis\": \"y\"}, {\"line\": {\"color\": \"#FFe476\"}, \"mode\": \"lines\", \"showlegend\": false, \"type\": \"scatter\", \"x\": [0.0, 0.03333333507180214, 0.06666667014360428, 0.10000000894069672, 0.13333334028720856, 0.1666666716337204, 0.20000001788139343, 0.23333334922790527, 0.2666666805744171, 0.30000001192092896, 0.3333333432674408, 0.36666667461395264, 0.40000003576278687, 0.4333333671092987, 0.46666669845581055, 0.5, 0.5333333611488342, 0.5666667222976685, 0.6000000238418579, 0.6333333849906921, 0.6666666865348816, 0.7000000476837158, 0.7333333492279053, 0.7666667103767395, 0.8000000715255737, 0.8333333730697632, 0.8666667342185974, 0.9000000357627869, 0.9333333969116211, 0.9666666984558105], \"xaxis\": \"x\", \"y\": [0.8249242305755615, 0.7839652299880981, 0.7970100045204163, 0.9815429449081421, 0.9323258399963379, 1.0588476657867432, 1.0105804204940796, 1.0549805164337158, 1.0486661195755005, 1.296036958694458, 1.6246055364608765, 1.6779391765594482, 1.9268486499786377, 1.7491495609283447, 1.7232195138931274, 1.7980432510375977, 1.7678054571151733, 2.084634304046631, 2.2943387031555176, 2.4431850910186768, 2.513857364654541, 2.7052173614501953, 2.719123125076294, 2.294867753982544, 2.4856274127960205, 2.2973244190216064, 2.1632306575775146, 2.140028715133667, 2.1455681324005127, 2.462242841720581], \"yaxis\": \"y\"}, {\"line\": {\"color\": \"#00e476\"}, \"mode\": \"lines\", \"showlegend\": false, \"type\": \"scatter\", \"x\": [0.0, 0.03333333507180214, 0.06666667014360428, 0.10000000894069672, 0.13333334028720856, 0.1666666716337204, 0.20000001788139343, 0.23333334922790527, 0.2666666805744171, 0.30000001192092896, 0.3333333432674408, 0.36666667461395264, 0.40000003576278687, 0.4333333671092987, 0.46666669845581055, 0.5, 0.5333333611488342, 0.5666667222976685, 0.6000000238418579, 0.6333333849906921, 0.6666666865348816, 0.7000000476837158, 0.7333333492279053, 0.7666667103767395, 0.8000000715255737, 0.8333333730697632, 0.8666667342185974, 0.9000000357627869, 0.9333333969116211, 0.9666666984558105], \"xaxis\": \"x\", \"y\": [0.7111811529362062, 0.6857114699821065, 0.6728002787115818, 0.8030758977080905, 0.7521522578445125, 0.8156551306409575, 0.7613494162296316, 0.77673923473877, 0.7648001595424158, 0.9241609451891241, 1.1818438855781246, 1.2391692531347374, 1.4051106590278457, 1.2501237075040716, 1.192655017717104, 1.2463359893444113, 1.2377422178459332, 1.4532098511271516, 1.627255693506343, 1.74621050286057, 1.8066653553296341, 1.9630011422375921, 1.9494531951198963, 1.5697495425592853, 1.7196135312421343, 1.5615225121018337, 1.4207472609618395, 1.3713905515143343, 1.3556733522948952, 1.5974038514801026], \"yaxis\": \"y\"}],                        {\"font\": {\"family\": \"Courier New, monospace\", \"size\": 14}, \"template\": {\"data\": {\"bar\": [{\"error_x\": {\"color\": \"#2a3f5f\"}, \"error_y\": {\"color\": \"#2a3f5f\"}, \"marker\": {\"line\": {\"color\": \"#E5ECF6\", \"width\": 0.5}}, \"type\": \"bar\"}], \"barpolar\": [{\"marker\": {\"line\": {\"color\": \"#E5ECF6\", \"width\": 0.5}}, \"type\": \"barpolar\"}], \"carpet\": [{\"aaxis\": {\"endlinecolor\": \"#2a3f5f\", \"gridcolor\": \"white\", \"linecolor\": \"white\", \"minorgridcolor\": \"white\", \"startlinecolor\": \"#2a3f5f\"}, \"baxis\": {\"endlinecolor\": \"#2a3f5f\", \"gridcolor\": \"white\", \"linecolor\": \"white\", \"minorgridcolor\": \"white\", \"startlinecolor\": \"#2a3f5f\"}, \"type\": \"carpet\"}], \"choropleth\": [{\"colorbar\": {\"outlinewidth\": 0, \"ticks\": \"\"}, \"type\": \"choropleth\"}], \"contour\": [{\"colorbar\": {\"outlinewidth\": 0, \"ticks\": \"\"}, \"colorscale\": [[0.0, \"#0d0887\"], [0.1111111111111111, \"#46039f\"], [0.2222222222222222, \"#7201a8\"], [0.3333333333333333, \"#9c179e\"], [0.4444444444444444, \"#bd3786\"], [0.5555555555555556, \"#d8576b\"], [0.6666666666666666, \"#ed7953\"], [0.7777777777777778, \"#fb9f3a\"], [0.8888888888888888, \"#fdca26\"], [1.0, \"#f0f921\"]], \"type\": \"contour\"}], \"contourcarpet\": [{\"colorbar\": {\"outlinewidth\": 0, \"ticks\": \"\"}, \"type\": \"contourcarpet\"}], \"heatmap\": [{\"colorbar\": {\"outlinewidth\": 0, \"ticks\": \"\"}, \"colorscale\": [[0.0, \"#0d0887\"], [0.1111111111111111, \"#46039f\"], [0.2222222222222222, \"#7201a8\"], [0.3333333333333333, \"#9c179e\"], [0.4444444444444444, \"#bd3786\"], [0.5555555555555556, \"#d8576b\"], [0.6666666666666666, \"#ed7953\"], [0.7777777777777778, \"#fb9f3a\"], [0.8888888888888888, \"#fdca26\"], [1.0, \"#f0f921\"]], \"type\": \"heatmap\"}], \"heatmapgl\": [{\"colorbar\": {\"outlinewidth\": 0, \"ticks\": \"\"}, \"colorscale\": [[0.0, \"#0d0887\"], [0.1111111111111111, \"#46039f\"], [0.2222222222222222, \"#7201a8\"], [0.3333333333333333, \"#9c179e\"], [0.4444444444444444, \"#bd3786\"], [0.5555555555555556, \"#d8576b\"], [0.6666666666666666, \"#ed7953\"], [0.7777777777777778, \"#fb9f3a\"], [0.8888888888888888, \"#fdca26\"], [1.0, \"#f0f921\"]], \"type\": \"heatmapgl\"}], \"histogram\": [{\"marker\": {\"colorbar\": {\"outlinewidth\": 0, \"ticks\": \"\"}}, \"type\": \"histogram\"}], \"histogram2d\": [{\"colorbar\": {\"outlinewidth\": 0, \"ticks\": \"\"}, \"colorscale\": [[0.0, \"#0d0887\"], [0.1111111111111111, \"#46039f\"], [0.2222222222222222, \"#7201a8\"], [0.3333333333333333, \"#9c179e\"], [0.4444444444444444, \"#bd3786\"], [0.5555555555555556, \"#d8576b\"], [0.6666666666666666, \"#ed7953\"], [0.7777777777777778, \"#fb9f3a\"], [0.8888888888888888, \"#fdca26\"], [1.0, \"#f0f921\"]], \"type\": \"histogram2d\"}], \"histogram2dcontour\": [{\"colorbar\": {\"outlinewidth\": 0, \"ticks\": \"\"}, \"colorscale\": [[0.0, \"#0d0887\"], [0.1111111111111111, \"#46039f\"], [0.2222222222222222, \"#7201a8\"], [0.3333333333333333, \"#9c179e\"], [0.4444444444444444, \"#bd3786\"], [0.5555555555555556, \"#d8576b\"], [0.6666666666666666, \"#ed7953\"], [0.7777777777777778, \"#fb9f3a\"], [0.8888888888888888, \"#fdca26\"], [1.0, \"#f0f921\"]], \"type\": \"histogram2dcontour\"}], \"mesh3d\": [{\"colorbar\": {\"outlinewidth\": 0, \"ticks\": \"\"}, \"type\": \"mesh3d\"}], \"parcoords\": [{\"line\": {\"colorbar\": {\"outlinewidth\": 0, \"ticks\": \"\"}}, \"type\": \"parcoords\"}], \"pie\": [{\"automargin\": true, \"type\": \"pie\"}], \"scatter\": [{\"marker\": {\"colorbar\": {\"outlinewidth\": 0, \"ticks\": \"\"}}, \"type\": \"scatter\"}], \"scatter3d\": [{\"line\": {\"colorbar\": {\"outlinewidth\": 0, \"ticks\": \"\"}}, \"marker\": {\"colorbar\": {\"outlinewidth\": 0, \"ticks\": \"\"}}, \"type\": \"scatter3d\"}], \"scattercarpet\": [{\"marker\": {\"colorbar\": {\"outlinewidth\": 0, \"ticks\": \"\"}}, \"type\": \"scattercarpet\"}], \"scattergeo\": [{\"marker\": {\"colorbar\": {\"outlinewidth\": 0, \"ticks\": \"\"}}, \"type\": \"scattergeo\"}], \"scattergl\": [{\"marker\": {\"colorbar\": {\"outlinewidth\": 0, \"ticks\": \"\"}}, \"type\": \"scattergl\"}], \"scattermapbox\": [{\"marker\": {\"colorbar\": {\"outlinewidth\": 0, \"ticks\": \"\"}}, \"type\": \"scattermapbox\"}], \"scatterpolar\": [{\"marker\": {\"colorbar\": {\"outlinewidth\": 0, \"ticks\": \"\"}}, \"type\": \"scatterpolar\"}], \"scatterpolargl\": [{\"marker\": {\"colorbar\": {\"outlinewidth\": 0, \"ticks\": \"\"}}, \"type\": \"scatterpolargl\"}], \"scatterternary\": [{\"marker\": {\"colorbar\": {\"outlinewidth\": 0, \"ticks\": \"\"}}, \"type\": \"scatterternary\"}], \"surface\": [{\"colorbar\": {\"outlinewidth\": 0, \"ticks\": \"\"}, \"colorscale\": [[0.0, \"#0d0887\"], [0.1111111111111111, \"#46039f\"], [0.2222222222222222, \"#7201a8\"], [0.3333333333333333, \"#9c179e\"], [0.4444444444444444, \"#bd3786\"], [0.5555555555555556, \"#d8576b\"], [0.6666666666666666, \"#ed7953\"], [0.7777777777777778, \"#fb9f3a\"], [0.8888888888888888, \"#fdca26\"], [1.0, \"#f0f921\"]], \"type\": \"surface\"}], \"table\": [{\"cells\": {\"fill\": {\"color\": \"#EBF0F8\"}, \"line\": {\"color\": \"white\"}}, \"header\": {\"fill\": {\"color\": \"#C8D4E3\"}, \"line\": {\"color\": \"white\"}}, \"type\": \"table\"}]}, \"layout\": {\"annotationdefaults\": {\"arrowcolor\": \"#2a3f5f\", \"arrowhead\": 0, \"arrowwidth\": 1}, \"autotypenumbers\": \"strict\", \"coloraxis\": {\"colorbar\": {\"outlinewidth\": 0, \"ticks\": \"\"}}, \"colorscale\": {\"diverging\": [[0, \"#8e0152\"], [0.1, \"#c51b7d\"], [0.2, \"#de77ae\"], [0.3, \"#f1b6da\"], [0.4, \"#fde0ef\"], [0.5, \"#f7f7f7\"], [0.6, \"#e6f5d0\"], [0.7, \"#b8e186\"], [0.8, \"#7fbc41\"], [0.9, \"#4d9221\"], [1, \"#276419\"]], \"sequential\": [[0.0, \"#0d0887\"], [0.1111111111111111, \"#46039f\"], [0.2222222222222222, \"#7201a8\"], [0.3333333333333333, \"#9c179e\"], [0.4444444444444444, \"#bd3786\"], [0.5555555555555556, \"#d8576b\"], [0.6666666666666666, \"#ed7953\"], [0.7777777777777778, \"#fb9f3a\"], [0.8888888888888888, \"#fdca26\"], [1.0, \"#f0f921\"]], \"sequentialminus\": [[0.0, \"#0d0887\"], [0.1111111111111111, \"#46039f\"], [0.2222222222222222, \"#7201a8\"], [0.3333333333333333, \"#9c179e\"], [0.4444444444444444, \"#bd3786\"], [0.5555555555555556, \"#d8576b\"], [0.6666666666666666, \"#ed7953\"], [0.7777777777777778, \"#fb9f3a\"], [0.8888888888888888, \"#fdca26\"], [1.0, \"#f0f921\"]]}, \"colorway\": [\"#636efa\", \"#EF553B\", \"#00cc96\", \"#ab63fa\", \"#FFA15A\", \"#19d3f3\", \"#FF6692\", \"#B6E880\", \"#FF97FF\", \"#FECB52\"], \"font\": {\"color\": \"#2a3f5f\"}, \"geo\": {\"bgcolor\": \"white\", \"lakecolor\": \"white\", \"landcolor\": \"#E5ECF6\", \"showlakes\": true, \"showland\": true, \"subunitcolor\": \"white\"}, \"hoverlabel\": {\"align\": \"left\"}, \"hovermode\": \"closest\", \"mapbox\": {\"style\": \"light\"}, \"paper_bgcolor\": \"white\", \"plot_bgcolor\": \"#E5ECF6\", \"polar\": {\"angularaxis\": {\"gridcolor\": \"white\", \"linecolor\": \"white\", \"ticks\": \"\"}, \"bgcolor\": \"#E5ECF6\", \"radialaxis\": {\"gridcolor\": \"white\", \"linecolor\": \"white\", \"ticks\": \"\"}}, \"scene\": {\"xaxis\": {\"backgroundcolor\": \"#E5ECF6\", \"gridcolor\": \"white\", \"gridwidth\": 2, \"linecolor\": \"white\", \"showbackground\": true, \"ticks\": \"\", \"zerolinecolor\": \"white\"}, \"yaxis\": {\"backgroundcolor\": \"#E5ECF6\", \"gridcolor\": \"white\", \"gridwidth\": 2, \"linecolor\": \"white\", \"showbackground\": true, \"ticks\": \"\", \"zerolinecolor\": \"white\"}, \"zaxis\": {\"backgroundcolor\": \"#E5ECF6\", \"gridcolor\": \"white\", \"gridwidth\": 2, \"linecolor\": \"white\", \"showbackground\": true, \"ticks\": \"\", \"zerolinecolor\": \"white\"}}, \"shapedefaults\": {\"line\": {\"color\": \"#2a3f5f\"}}, \"ternary\": {\"aaxis\": {\"gridcolor\": \"white\", \"linecolor\": \"white\", \"ticks\": \"\"}, \"baxis\": {\"gridcolor\": \"white\", \"linecolor\": \"white\", \"ticks\": \"\"}, \"bgcolor\": \"#E5ECF6\", \"caxis\": {\"gridcolor\": \"white\", \"linecolor\": \"white\", \"ticks\": \"\"}}, \"title\": {\"x\": 0.05}, \"xaxis\": {\"automargin\": true, \"gridcolor\": \"white\", \"linecolor\": \"white\", \"ticks\": \"\", \"title\": {\"standoff\": 15}, \"zerolinecolor\": \"white\", \"zerolinewidth\": 2}, \"yaxis\": {\"automargin\": true, \"gridcolor\": \"white\", \"linecolor\": \"white\", \"ticks\": \"\", \"title\": {\"standoff\": 15}, \"zerolinecolor\": \"white\", \"zerolinewidth\": 2}}}, \"title\": {\"text\": \"Loss\"}, \"xaxis\": {\"anchor\": \"y\", \"domain\": [0.0, 1.0], \"title\": {\"text\": \"t\"}}, \"yaxis\": {\"anchor\": \"x\", \"domain\": [0.0, 1.0], \"title\": {\"text\": \"J\"}}},                        {\"responsive\": true}                    ).then(function(){\n",
       "                            \n",
       "var gd = document.getElementById('44eead45-bb2a-4e66-9e3a-e98822af8666');\n",
       "var x = new MutationObserver(function (mutations, observer) {{\n",
       "        var display = window.getComputedStyle(gd).display;\n",
       "        if (!display || display === 'none') {{\n",
       "            console.log([gd, 'removed!']);\n",
       "            Plotly.purge(gd);\n",
       "            observer.disconnect();\n",
       "        }}\n",
       "}});\n",
       "\n",
       "// Listen for the removal of the full notebook cells\n",
       "var notebookContainer = gd.closest('#notebook-container');\n",
       "if (notebookContainer) {{\n",
       "    x.observe(notebookContainer, {childList: true});\n",
       "}}\n",
       "\n",
       "// Listen for the clearing of the current output cell\n",
       "var outputEl = gd.closest('.output');\n",
       "if (outputEl) {{\n",
       "    x.observe(outputEl, {childList: true});\n",
       "}}\n",
       "\n",
       "                        })                };                });            </script>        </div>"
      ]
     },
     "metadata": {},
     "output_type": "display_data"
    }
   ],
   "source": [
    "fig = make_subplots(rows=1, cols=1)\n",
    "fig.add_trace(go.Scatter(x=ts[:, 0].flatten(), y=Y_preds[:, 0].flatten(), mode='lines', name=\"Prediction\", line=dict(color=\"#FFe476\")), row=1, col=1)\n",
    "fig.add_trace(go.Scatter(x=ts[:, 0].flatten(), y=Y_sol[:, 0].flatten(), mode='lines', name=\"Ground truth\", line=dict(color=\"#00e476\")), row=1, col=1)\n",
    "for i in range(1, num_samples):\n",
    "    fig.add_trace(go.Scatter(x=ts[:, i].flatten(), y=Y_preds[:, i].flatten(), mode='lines', showlegend=False, line=dict(color=\"#FFe476\")), row=1, col=1)\n",
    "    fig.add_trace(go.Scatter(x=ts[:, i].flatten(), y=Y_sol[:, i].flatten(), mode='lines', showlegend=False, line=dict(color=\"#00e476\")), row=1, col=1)\n",
    "fig.update_layout(\n",
    "    title=\"Loss\",\n",
    "    xaxis_title=\"t\",\n",
    "    yaxis_title=\"J\",\n",
    "    font=dict(\n",
    "        family=\"Courier New, monospace\",\n",
    "        size=14\n",
    "    )\n",
    ")\n",
    "fig.show()"
   ]
  },
  {
   "cell_type": "code",
   "execution_count": null,
   "id": "external-utility",
   "metadata": {},
   "outputs": [],
   "source": []
  }
 ],
 "metadata": {
  "kernelspec": {
   "display_name": "Python 3",
   "language": "python",
   "name": "python3"
  },
  "language_info": {
   "codemirror_mode": {
    "name": "ipython",
    "version": 3
   },
   "file_extension": ".py",
   "mimetype": "text/x-python",
   "name": "python",
   "nbconvert_exporter": "python",
   "pygments_lexer": "ipython3",
   "version": "3.8.5"
  }
 },
 "nbformat": 4,
 "nbformat_minor": 5
}
