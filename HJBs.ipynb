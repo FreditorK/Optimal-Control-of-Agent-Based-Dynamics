{
 "cells": [
  {
   "cell_type": "markdown",
   "id": "still-boost",
   "metadata": {},
   "source": [
    "# Solving Hamilton-Jacobi-Bellman Equations (Deep Galerkin)\n",
    "#### Frederik Kelbel, Imperial College London"
   ]
  },
  {
   "cell_type": "markdown",
   "id": "endangered-discount",
   "metadata": {},
   "source": [
    "## Dependencies"
   ]
  },
  {
   "cell_type": "code",
   "execution_count": 1,
   "id": "grateful-winning",
   "metadata": {},
   "outputs": [],
   "source": [
    "import torch\n",
    "import plotly.graph_objects as go\n",
    "import numpy as np\n",
    "from operators import div, Δ, D, mdotb, bdotm, mdotm, bdotb\n",
    "from DGM import DGMPIASolver, DeepPDESolver\n",
    "from pdes import HBJ, PDE\n",
    "from scipy.integrate import quad\n",
    "from plotly.subplots import make_subplots\n",
    "from configs import CONFIG_HBJS as MODEL_CONFIG\n",
    "from itertools import product"
   ]
  },
  {
   "cell_type": "markdown",
   "id": "effective-cedar",
   "metadata": {},
   "source": [
    "## Plotting"
   ]
  },
  {
   "cell_type": "code",
   "execution_count": 2,
   "id": "constitutional-stopping",
   "metadata": {},
   "outputs": [],
   "source": [
    "def plot_losses(losses, avg_over=10):\n",
    "    avgs_1 = np.convolve(losses[:, 0], np.ones(avg_over), 'valid') / avg_over\n",
    "    avgs_2 = np.convolve(losses[:, 1], np.ones(avg_over), 'valid') / avg_over\n",
    "    fig = make_subplots(rows=1, cols=1)\n",
    "    fig.add_trace(go.Scatter(x=np.arange(len(avgs_1)), y=avgs_1, mode='lines', name=\"Value Loss\"), row=1, col=1)\n",
    "    fig.add_trace(go.Scatter(x=np.arange(len(avgs_2)), y=avgs_2, mode='lines', name=\"Control Loss\"), row=1, col=1)\n",
    "    fig.update_layout(\n",
    "        title=\"Loss\",\n",
    "        xaxis_title=\"Iterations\",\n",
    "        yaxis_title=\"Loss\",\n",
    "        font=dict(\n",
    "            family=\"Courier New, monospace\",\n",
    "            size=14\n",
    "        )\n",
    "    )\n",
    "    fig.show()\n",
    "    \n",
    "def plot_value(solver, sol):\n",
    "    fig = make_subplots(rows=1, cols=2, \n",
    "                   specs=[[{'type': 'surface'}, {'type': 'surface'}]])\n",
    "    xs = np.linspace(0, 1, 100)\n",
    "    ts = np.linspace(0.01, 1, 100)\n",
    "    us_pred = np.array([[solver(x, t).item() for x in xs] for t in ts])\n",
    "    us = np.array([[sol(x, t) for x in xs] for t in ts])\n",
    "    fig.add_trace(go.Surface(z=us, showscale=False), row=1, col=1)\n",
    "    fig.add_trace(go.Surface(z=us_pred), row=1, col=2)\n",
    "    fig.update_layout(title='Solution | Approximation',\n",
    "                  scene = dict(\n",
    "                    xaxis_title=\"t\",\n",
    "                    yaxis_title=\"x\",\n",
    "                    zaxis_title=\"J(x, t\"),\n",
    "                  scene2 = dict(\n",
    "                    xaxis_title=\"t\",\n",
    "                    yaxis_title=\"x\",\n",
    "                    zaxis_title=\"J(x, t)\"),\n",
    "                  margin=dict(l=50, r=50, b=50, t=50))\n",
    "    fig.show()"
   ]
  },
  {
   "cell_type": "markdown",
   "id": "drawn-orbit",
   "metadata": {},
   "source": [
    "## Problem Formulation"
   ]
  },
  {
   "cell_type": "markdown",
   "id": "incorrect-walnut",
   "metadata": {},
   "source": [
    "Objective: Find the control process $u = (u_t)_{t \\geq 0}$ in admissable set $\\mathcal{A}$ for an Itô Process $X^u = (X_t^u)_{t \\geq 0}$ satisfying:\n"
   ]
  },
  {
   "cell_type": "markdown",
   "id": "confidential-utilization",
   "metadata": {},
   "source": [
    "$$\n",
    "d X_t^u = \\mu(t, X_t^u, u_t) dt + \\sigma(t, X_t^u, u_t) d W_t, \\quad X_0^u = 0.\n",
    "$$"
   ]
  },
  {
   "cell_type": "markdown",
   "id": "complex-bridal",
   "metadata": {},
   "source": [
    "We will consider the HBJ-Equations in their primal form."
   ]
  },
  {
   "cell_type": "markdown",
   "id": "impaired-minute",
   "metadata": {},
   "source": [
    "The agents performance is assessed via:\n",
    "$$\n",
    "J^u(t, x) = \\mathbb{E}\\Big[ \\int_t^T F(s, X_s^u, u_s) ds + G(X_T^u) \\;\\Big|\\; X_t^u = x \\Big]\n",
    "$$"
   ]
  },
  {
   "cell_type": "markdown",
   "id": "stupid-trustee",
   "metadata": {},
   "source": [
    "Denote $J(t, x) = \\sup_{u \\in \\mathcal{A}} J^u(t, x)$, then this value function satisfies the following HJB-equations:"
   ]
  },
  {
   "cell_type": "markdown",
   "id": "intense-elevation",
   "metadata": {},
   "source": [
    "$$\n",
    "\\begin{cases}\n",
    "\\partial_t J(t, x) + \\sup_{u \\in \\mathcal{A}} \\{\\mathscr{L}^u_t J(t, x) + F(t, x, u)\\} = 0 \\\\\n",
    "J(T, x) = G(x)\n",
    "\\end{cases}\n",
    "$$"
   ]
  },
  {
   "cell_type": "markdown",
   "id": "clear-summary",
   "metadata": {},
   "source": [
    "### The Merton Problem (Wealth Allocation Problem)"
   ]
  },
  {
   "cell_type": "markdown",
   "id": "centered-airline",
   "metadata": {},
   "source": [
    "The goal is to find the optimal wealth allocation strategy over time such that the wealth itself is maximized."
   ]
  },
  {
   "cell_type": "markdown",
   "id": "ranging-ground",
   "metadata": {},
   "source": [
    "Consider a market with a risky and risk-free asset. Suppose the value of the risk-free asset at time $t$ is given by $\\frac{d B_t}{B_t} = r dt$ or $B_t = B_0 e^{rt}, t\\geq 0$. Additionally, we have that the risky asset evolves accordingly to $\\frac{d S_t}{S_t} = \\mu dt + \\sigma dW_t$, where $\\{W_t\\}_{t\\geq 0}$ is a standard one-dimensional Brownian motion."
   ]
  },
  {
   "cell_type": "markdown",
   "id": "primary-european",
   "metadata": {},
   "source": [
    "The wealth can then be described by\n",
    "$$\n",
    "X_t= x + \\int_0^t v_s \\frac{dS_s}{S_s} + \\int_0^t(X_s-v_s)\\frac{dB_s}{B_s},\n",
    "$$\n",
    "where $v_t = u_t X_t$ describes the amount of the wealth to be have invested into the risky asset at time $t$. $u_t$ is the fraction of wealth invested in the risky asset."
   ]
  },
  {
   "cell_type": "markdown",
   "id": "induced-pleasure",
   "metadata": {},
   "source": [
    "Let $(\\Omega, \\mathcal{F}, \\{\\mathcal{F}_t\\}_{t\\in [0, T]}, \\mathbb{P})$ be a filtered probability space. The evolution of an investor's wealth is described via\n",
    "$$\n",
    "\\begin{cases}\n",
    "dX_s = ((\\mu -r)u_s + r)X_s ds + \\sigma u_s X_s dW_s, \\; s \\in [0, T] \\\\\n",
    "X_0 = x > 0\n",
    "\\end{cases},\n",
    "$$"
   ]
  },
  {
   "cell_type": "markdown",
   "id": "approximate-semester",
   "metadata": {},
   "source": [
    "with $\\mu>r$ and $\\sigma>0$ referring to drift and volatility, respectively. Let $r>0$ denote the discount rate, i.e. the depreciation constant. The intent is to maximise the objective\n",
    "$$\n",
    "J^u(t, X_t) = \\mathbb{E}[ X_T^\\gamma ], \\; \\gamma \\in(0, 1).\n",
    "$$"
   ]
  },
  {
   "cell_type": "markdown",
   "id": "forward-alaska",
   "metadata": {},
   "source": [
    "The respective HBJ-equation becomes:"
   ]
  },
  {
   "cell_type": "markdown",
   "id": "floral-arena",
   "metadata": {},
   "source": [
    "$$\n",
    "\\begin{cases}\n",
    "\\partial_t J(t, x) + \\sup_{u} \\Big\\{ ((\\mu-r)u + r)x \\partial_x J(t, x) + \\frac{1}{2} \\sigma^2 u^2 x^2\\partial_{xx} J(t, x) \\Big\\} = 0 \\text{ on $[0, T] \\times (0, \\infty)$}\n",
    "\\\\\n",
    "J(T, x) = x^\\gamma \\text{ $\\forall x > 0$}\n",
    "\\end{cases}\n",
    "$$"
   ]
  },
  {
   "cell_type": "markdown",
   "id": "unexpected-meaning",
   "metadata": {},
   "source": [
    "#### Analytical Solution (Oksendal):"
   ]
  },
  {
   "cell_type": "markdown",
   "id": "german-sixth",
   "metadata": {},
   "source": [
    "Assume $J(t, x) = w(t) v(x)$, with $J(T, x) = w(T) v(x) = x^\\gamma$. We guess $J(t, x) = w(t) x^\\gamma$, where $w(T)=1$. The problem becomes \n",
    "$$\n",
    "\\begin{cases}\n",
    "w'(t) + \\gamma  \\sup_{u} \\Big\\{ (\\mu-r) u + r + \\frac{1}{2} \\sigma^2 u^2 (\\gamma-1) \\Big\\}w(t) = 0\n",
    "\\\\\n",
    "w(T) = x^\\gamma\n",
    "\\end{cases}.\n",
    "$$"
   ]
  },
  {
   "cell_type": "markdown",
   "id": "dutch-collection",
   "metadata": {},
   "source": [
    "Then, $u$ is maximised for $u^* = \\frac{\\mu-r}{\\sigma^2 (1-\\gamma)}$ and the equation becomes\n",
    "$$\n",
    "\\begin{cases}\n",
    "w'(t) + \\frac{\\gamma (\\mu-r)^2}{\\sigma^2(2-2\\gamma)}w(t) = 0\n",
    "\\\\\n",
    "w(T) = x^\\gamma\n",
    "\\end{cases}.\n",
    "$$\n",
    "Thus, we have  $w'(t) = \\frac{\\gamma (\\mu-r)^2}{\\sigma^2(2\\gamma - 2)}w(t)$. It follows that $w(t) = \\exp\\big(\\frac{\\gamma (\\mu-r)^2}{\\sigma^2(2\\gamma - 2)}t\\big)$. The final solution is:\n",
    "$$\n",
    "J(t, x) = w(t)v(x) = \\exp\\big(\\frac{\\gamma (\\mu-r)^2}{\\sigma^2(2\\gamma - 2)}t\\big) x^\\gamma.\n",
    "$$"
   ]
  },
  {
   "cell_type": "markdown",
   "id": "backed-rehabilitation",
   "metadata": {},
   "source": [
    "We need to verify this using the HBJ-verification theorem."
   ]
  },
  {
   "cell_type": "code",
   "execution_count": null,
   "id": "educational-utilization",
   "metadata": {},
   "outputs": [],
   "source": [
    "class RISKY_ASSET(HBJ):\n",
    "    def __init__(self):\n",
    "        super().__init__()\n",
    "        self.μ = 0.04\n",
    "        self.σ = 0.4\n",
    "        self.r = 0.03\n",
    "        self.γ = 0.8\n",
    "        \n",
    "        self.var_dim_J = 2 # (x, t)\n",
    "        self.control_vars = [1] # (t)\n",
    "        self.cost_function = lambda u, var: 0\n",
    "        self.differential_operator = lambda J, u, var: ((self.μ-self.r)*u+self.r)*var[0]*div(J, var[0]) + 0.5*self.σ**2*u**2*var[0]**2*Δ(J, var[0])\n",
    "        self.domain_func = [(lambda var: var, 128)]\n",
    "        self.boundary_cond_J = [lambda J, var: J - var[0]**self.γ]\n",
    "        self.boundary_func_J = [(lambda var: [var[0], 0*var[1] + 1], 128)]\n",
    "        self.boundary_cond_u = [lambda u, var: torch.clamp(u, min=1) - torch.clamp(u, max=-1) - 2]\n",
    "        self.boundary_func_u = [(lambda var: var, 64)]"
   ]
  },
  {
   "cell_type": "code",
   "execution_count": null,
   "id": "specialized-program",
   "metadata": {},
   "outputs": [],
   "source": [
    "eq = RISKY_ASSET()\n",
    "model = MODEL_CONFIG\n",
    "solver = DGMPIASolver(model, eq)\n",
    "loss = np.array(list(solver.train(800)))\n",
    "plot_losses(loss)"
   ]
  },
  {
   "cell_type": "code",
   "execution_count": null,
   "id": "traditional-validity",
   "metadata": {},
   "outputs": [],
   "source": [
    "u_sol = lambda t : (eq.μ-eq.r)/(eq.σ**2*(1-eq.γ))\n",
    "J_sol = lambda x, t: x**eq.γ * np.exp((eq.γ*(eq.μ-eq.r)**2)/(eq.σ**2*(2*eq.γ-2))*t)"
   ]
  },
  {
   "cell_type": "code",
   "execution_count": null,
   "id": "medieval-roller",
   "metadata": {},
   "outputs": [],
   "source": [
    "fig = make_subplots(rows=1, cols=1)\n",
    "eval_points = np.linspace(0, 1, 100)\n",
    "fig.add_trace(go.Scatter(x=eval_points, y=[solver.u(p)[0] for p in eval_points], mode='lines', name=\"Optimal Control\"), row=1, col=1)\n",
    "fig.add_trace(go.Scatter(x=eval_points, y=[u_sol(p) for p in eval_points], mode='lines', name=\"Optimal Control Solution\"), row=1, col=1)\n",
    "fig.update_layout(\n",
    "    title=\"Solutions\",\n",
    "    xaxis_title=\"Time\",\n",
    "    yaxis_title=\"Control Signal\",\n",
    "    yaxis_range=[0, 1],\n",
    "    font=dict(\n",
    "        family=\"Courier New, monospace\",\n",
    "        size=14\n",
    "    )\n",
    ")\n",
    "fig.show()"
   ]
  },
  {
   "cell_type": "code",
   "execution_count": null,
   "id": "legal-competition",
   "metadata": {},
   "outputs": [],
   "source": [
    "plot_value(solver.J, J_sol)"
   ]
  },
  {
   "cell_type": "markdown",
   "id": "billion-listening",
   "metadata": {},
   "source": [
    "### Optimal Liquidation Problem"
   ]
  },
  {
   "cell_type": "markdown",
   "id": "young-riverside",
   "metadata": {},
   "source": [
    "Let us consider an asset $S_t$, that evolves accordingly with Brownian motion, i.e. $dS_s = -B u_s ds + \\sigma dW_s$. Assume that we hold a certain amount of this asset and intend to liquidate it over the time period $s \\in [0, T]$. Let $Q$ be our inventory of the asset with $dQ_s = - u_s ds$ (with $Q(0)=N$), where $u_s$ represents the liquidation rate. Suppose the temporary price impact is linear (the cost of selling), then our cash $X_s$ is modelled by \n",
    "$$\n",
    "X_t = x + \\int_0^t S_s u_s ds -\\int_0^t D u_s^2 + C q^2ds \n",
    "$$"
   ]
  },
  {
   "cell_type": "markdown",
   "id": "radio-course",
   "metadata": {},
   "source": [
    "We aim to maximise\n",
    "$$\n",
    "J^u(t, S, q) := \\mathbb{E}^{t, S} \\Big[ \\int_t^T S_s u_s -Du_s^2 - Cq^2 ds + S_T q_T- R q_T^2\\Big],\n",
    "$$\n",
    "subject to the process\n",
    "$$\\begin{eqnarray}\n",
    "dS_s &=& -Bu_s ds + \\sigma dW_s \\\\ \n",
    "dQ_s &=& - u_s ds\n",
    "\\end{eqnarray}$$"
   ]
  },
  {
   "cell_type": "markdown",
   "id": "short-moldova",
   "metadata": {},
   "source": [
    "Thus, the HBJ-Equation is given as:\n",
    "$$\n",
    "\\begin{cases}\n",
    "\\partial_t J(t, S, q) + \\sup_{u} \\Big\\{ u_s(S-Du_s) - Cq^2 + ( \\frac{1}{2} \\sigma^2 \\partial_{SS} - B u_s \\partial_S - u_s \\partial_q)J(t, S, q)  \\Big\\} = 0 \\text{ on $[0, T] \\times (0, \\infty)\\times [0, N]$}\n",
    "\\\\\n",
    "J(T, S, q) = Sq - R q^2 \\text{ $\\forall x \\in \\mathbb{R}$}\n",
    "\\end{cases},\n",
    "$$\n",
    "where $R$ is the terminal cost."
   ]
  },
  {
   "cell_type": "code",
   "execution_count": null,
   "id": "advisory-ghost",
   "metadata": {},
   "outputs": [],
   "source": [
    "class LIQUIDATION(HBJ):\n",
    "    def __init__(self):\n",
    "        super().__init__()\n",
    "        self.σ = 0.5\n",
    "        self.D = 0.05\n",
    "        self.C = 0.1\n",
    "        self.R = self.D + self.C\n",
    "        self.B = 0.0001\n",
    "        \n",
    "        \n",
    "        self.var_dim_J = 3 # (S, q, t)\n",
    "        self.control_vars = [0, 1, 2] # (S ,q, t)\n",
    "        self.cost_function = lambda u, var: var[0]*u - self.C*var[1]**2 - self.D*u**2\n",
    "        self.differential_operator = lambda J, u, var: 0.5*self.σ**2*Δ(J, var[0]) -self.B*u*div(J, var[0]) - u*div(J, var[1])\n",
    "        self.domain_func = [(lambda var: [(var[0]-0.5)*4, (var[1]-0.4)*4, var[2]], 128)]\n",
    "        self.boundary_cond_J = [lambda J, var: J - (var[0]*var[1]-self.R*var[1]**2)]\n",
    "        self.boundary_func_J = [(lambda var: [(var[0]-0.5)*4, (var[1]-0.4)*4, var[2]*0 + 1], 64)]"
   ]
  },
  {
   "cell_type": "code",
   "execution_count": null,
   "id": "attached-lighter",
   "metadata": {},
   "outputs": [],
   "source": [
    "LIQUIDATION_MODEL_CONFIG = {\n",
    "    \"hidden_dim\": 32,\n",
    "    \"learning_rate\": 5e-3,\n",
    "    \"loss_weights\": (1, 1),\n",
    "    \"lr_decay\": 0.99,\n",
    "    \"sampling_method\": \"uniform\",\n",
    "    \"network_type\": \"GRU\",\n",
    "    \"optimiser\": \"Adam\",\n",
    "    \"delay_control\": 1,\n",
    "    \"alpha_noise\": 0.3\n",
    "}\n",
    "eq = LIQUIDATION()\n",
    "model = LIQUIDATION_MODEL_CONFIG\n",
    "solver = DGMPIASolver(model, eq)\n",
    "loss = np.array(list(solver.train(500)))\n",
    "plot_losses(loss)"
   ]
  },
  {
   "cell_type": "code",
   "execution_count": null,
   "id": "southeast-advance",
   "metadata": {},
   "outputs": [],
   "source": [
    "n = 50\n",
    "c_xs = np.zeros(n)\n",
    "c_Ss = np.zeros(n)\n",
    "c_Q = np.zeros(n)\n",
    "c_xs[0] = 0.8\n",
    "c_Ss[0] = 0.5\n",
    "c_Q[0] = 0.8\n",
    "uc_xs = np.zeros(n)\n",
    "uc_Ss = np.zeros(n)\n",
    "uc_xs[0] = c_xs[0]\n",
    "uc_Ss[0] = c_Ss[0]\n",
    "dt = 1/n\n",
    "ts = [t for t in np.linspace(0, 1, n)]\n",
    "c_value = np.zeros(n)\n",
    "for i in range(n-1):\n",
    "    dW = np.sqrt(dt)*np.random.randn()\n",
    "    c = solver.u(c_Ss[i], c_Q[i], i*dt).item()\n",
    "    c_value[i] = solver.J(c_Ss[i], c_Q[i], i*dt).item()\n",
    "    c_Q[i+1] = c_Q[i] - c*dt\n",
    "    c_Ss[i+1] = c_Ss[i] -eq.B*c*dt + eq.σ*dW\n",
    "    uc_Ss[i+1] = uc_Ss[i] + eq.σ*dW\n",
    "    c_xs[i+1] = c_xs[i] + c_Ss[i]*c*dt - eq.D*c**2*dt - eq.C*c_Q[i]**2*dt\n",
    "    uc_xs[i+1] = uc_xs[i] - eq.C*c_Q[0]**2*dt\n",
    "\n",
    "c_value[-1] = solver.J(c_Ss[-1], c_Q[-1], n*dt).item()\n",
    "c_xs[-1] += c_Ss[-1]*c_Q[-1] - eq.R*c_Q[-1]**2*dt\n",
    "uc_xs[-1] += uc_Ss[-1]*c_Q[0] - eq.R*c_Q[0]**2*dt\n",
    "    \n",
    "fig = make_subplots(rows=1, cols=1)\n",
    "fig.add_trace(go.Scatter(x=ts, y=c_xs, mode='lines', name=\"Controlled\", line=dict(color=\"#00e476\")), row=1, col=1)\n",
    "fig.add_trace(go.Scatter(x=ts, y=uc_xs, mode='lines', name=\"Uncontrolled\", line=dict(color=\"#FFe476\")), row=1, col=1)\n",
    "#fig.add_trace(go.Scatter(x=ts, y=c_value, mode='lines', name=\"Value Function\", line=dict(color=\"#eeee76\")), row=1, col=1)\n",
    "fig.update_layout(\n",
    "    title=\"Maximise amount of X\",\n",
    "    xaxis_title=\"t\",\n",
    "    yaxis_title=\"X\",\n",
    "    font=dict(\n",
    "        family=\"Courier New, monospace\",\n",
    "        size=14\n",
    "    )\n",
    ")\n",
    "fig.show()"
   ]
  },
  {
   "cell_type": "markdown",
   "id": "corresponding-spotlight",
   "metadata": {},
   "source": [
    "### Linear-quadratic control problem 1-dimensional (Riccati Equation) "
   ]
  },
  {
   "cell_type": "markdown",
   "id": "rental-ebony",
   "metadata": {},
   "source": [
    "Let $(\\Omega, \\mathcal{F}, \\{\\mathcal{F}_t\\}_{t\\in [0, T]}, \\mathbb{P})$. We consider\n",
    "$$\n",
    "\\begin{cases}\n",
    "dX_s = [H_sX_s + M_s u_s] ds + \\sigma_s dW_s, \\; s \\in [0, T] \\\\\n",
    "X_0 = x > 0\n",
    "\\end{cases},\n",
    "$$"
   ]
  },
  {
   "cell_type": "markdown",
   "id": "running-envelope",
   "metadata": {},
   "source": [
    "We aim to maximise\n",
    "$$\n",
    "J^u(t, x) := \\mathbb{E}^{t, x} \\Big[ \\int_t^T X_s^T C_s X_s + u_s^T D_s u_s ds + X_T^T R X_T\\Big],\n",
    "$$\n",
    "with $C(t) = C \\leq 0, R \\leq 0$, and $D=D(t) < -\\delta < 0$ given and deterministic ($\\delta > 0$ some constant)."
   ]
  },
  {
   "cell_type": "markdown",
   "id": "falling-melbourne",
   "metadata": {},
   "source": [
    "We write down the problem in its primal form as\n",
    "$$\n",
    "\\begin{cases}\n",
    "\\partial_t J(t, x) + \\sup_{u} \\Big\\{ \\frac{1}{2} \\sigma^2 \\partial_{xx} J(t, x) + [H x + M u] \\partial_x J(t, x) + C x^2 + D u^2 \\Big\\} = 0 \\text{ on $[0, T] \\times (-\\infty, \\infty)$}\n",
    "\\\\\n",
    "J(T, x) = Rx^2 \\text{ $\\forall x \\in \\mathbb{R}$}\n",
    "\\end{cases}\n",
    "$$"
   ]
  },
  {
   "cell_type": "markdown",
   "id": "through-saturn",
   "metadata": {},
   "source": [
    "#### Analytical Solution (Oksendal):"
   ]
  },
  {
   "cell_type": "markdown",
   "id": "genetic-prophet",
   "metadata": {},
   "source": [
    "As $J(T, x) = Rx^2$, we assume the form $J(T, x) = S(t) x^2 + b(t)$ for some differentibale $S$ and $b$. The problem can be reformulated as\n",
    "$$\n",
    "\\begin{cases}\n",
    "S'(t)x^2 + b'(t) + \\sigma^2 S(t) + 2HS(t)x^2 + C x^2 + \\sup_{u} \\Big\\{ 2MS(t) u x + D u^2 \\Big\\} = 0 \\text{ on $[0, T] \\times (0, \\infty)$}\n",
    "\\\\\n",
    "S(T) = R, b(t)=0 \\text{ $\\forall x \\in \\mathbb{R}$}\n",
    "\\end{cases}\n",
    "$$"
   ]
  },
  {
   "cell_type": "markdown",
   "id": "secret-habitat",
   "metadata": {},
   "source": [
    "We see that for fixed $t$ and $x$, we have $u^*=u^*(t, x)=-D^{-1} MS(t) x$. As a consequence, we can transform the problem to be gives as\n",
    "$$\n",
    "\\begin{cases}\n",
    "[S'(t) + 2HS(t) + C - D^{-1} M^2S^2(t)]x^2 + b'(t) + \\sigma^2 S(t) = 0 \\text{ on $[0, T] \\times (0, \\infty)$}\n",
    "\\\\\n",
    "S(T) = R, b(t)=0 \\text{ $\\forall x \\in \\mathbb{R}$}\n",
    "\\end{cases}\n",
    "$$"
   ]
  },
  {
   "cell_type": "markdown",
   "id": "invalid-broadcasting",
   "metadata": {},
   "source": [
    "The problem is satisfied if\n",
    "$$\n",
    "S'(t)= D^{-1} M^2S^2(t) - C - 2HS(t), \\; S(T)=R \\; \\text{(Riccati Equation)}\n",
    "$$\n",
    "$$\n",
    "b'(t)= -\\sigma^2 S(t), \\; b(T)=0\n",
    "$$"
   ]
  },
  {
   "cell_type": "markdown",
   "id": "fuzzy-signature",
   "metadata": {},
   "source": [
    "It follows that $b(t)=  \\sigma^2 \\int_t^T S(r) dr$, while the Riccati Equation has a unique solution."
   ]
  },
  {
   "cell_type": "code",
   "execution_count": null,
   "id": "bizarre-vegetarian",
   "metadata": {},
   "outputs": [],
   "source": [
    "class LQR(HBJ):\n",
    "    def __init__(self):\n",
    "        super().__init__()\n",
    "        self.H = 0.1\n",
    "        self.M = 2.0\n",
    "        self.C = -2.0\n",
    "        self.R = -0.001\n",
    "        self.D = -0.2\n",
    "        self.σ = 0.3\n",
    "        \n",
    "        self.var_dim_J = 2 # (x, t)\n",
    "        self.control_vars = [0, 1]\n",
    "        self.cost_function = lambda u, var: self.C*var[0]**2 + self.D*u**2\n",
    "        self.differential_operator = lambda J, u, var: (self.H*var[0] + self.M*u)*div(J, var[0]) + (1/2)*self.σ**2*Δ(J, var[0])\n",
    "        self.domain_func = [(lambda var: [var[0]*2-1, var[1]], 128)]\n",
    "        self.boundary_cond_J = [lambda J, var: J - self.R*var[0]**2]\n",
    "        self.boundary_func_J = [(lambda var: [var[0]*2-1, var[1]*0 + 1], 64)]\n",
    "        self.boundary_cond_u = [lambda u, var: torch.clamp(div(u, var[0]), min=0)]\n",
    "        self.boundary_func_u = [(lambda var: [var[0]*2-1, var[1]], 64)]"
   ]
  },
  {
   "cell_type": "code",
   "execution_count": null,
   "id": "identical-strip",
   "metadata": {},
   "outputs": [],
   "source": [
    "LQR_MODEL_CONFIG = {\n",
    "    \"hidden_dim\": 64,\n",
    "    \"learning_rate\": 5e-3,\n",
    "    \"loss_weights\": (1, 1),\n",
    "    \"lr_decay\": 0.99,\n",
    "    \"sampling_method\": \"uniform\",\n",
    "    \"network_type\": \"GRU\",\n",
    "    \"optimiser\": \"Adam\",\n",
    "    \"delay_control\": 2,\n",
    "    \"alpha_noise\": 0.1\n",
    "}\n",
    "eq = LQR()\n",
    "model = LQR_MODEL_CONFIG\n",
    "solver = DGMPIASolver(model, eq)\n",
    "loss = np.array(list(solver.train(400)))\n",
    "plot_losses(loss)"
   ]
  },
  {
   "cell_type": "markdown",
   "id": "framed-exposure",
   "metadata": {},
   "source": [
    "#### Control function approximation:"
   ]
  },
  {
   "cell_type": "code",
   "execution_count": null,
   "id": "electoral-georgia",
   "metadata": {},
   "outputs": [],
   "source": [
    "fig = make_subplots(rows=1, cols=1, specs=[[{'type': 'surface'}]])\n",
    "xs = np.linspace(-1, 1, 100)\n",
    "ts = np.linspace(0, 1, 100)\n",
    "us_pred = np.array([[solver.u(x, t).item() for x in xs] for t in ts])\n",
    "fig.add_trace(go.Surface(x=xs, y=ts, z=us_pred), row=1, col=1)\n",
    "fig.update_layout(title='Approximation',\n",
    "                  scene = dict(\n",
    "                      xaxis_title=\"x\",\n",
    "                      yaxis_title=\"t\",\n",
    "                      zaxis_title=\"u(x, t)\"),\n",
    "                  margin=dict(l=50, r=50, b=50, t=50))\n",
    "fig.show()"
   ]
  },
  {
   "cell_type": "markdown",
   "id": "protecting-convenience",
   "metadata": {},
   "source": [
    "#### Value function approximation:"
   ]
  },
  {
   "cell_type": "code",
   "execution_count": null,
   "id": "yellow-spectrum",
   "metadata": {},
   "outputs": [],
   "source": [
    "fig = make_subplots(rows=1, cols=1, specs=[[{'type': 'surface'}]])\n",
    "xs = np.linspace(-1, 1, 100)\n",
    "ts = np.linspace(0, 1, 100)\n",
    "us_pred = np.array([[solver.J(x, t).item() for x in xs] for t in ts])\n",
    "fig.add_trace(go.Surface(x=xs, y=ts, z=us_pred), row=1, col=1)\n",
    "fig.update_layout(title='Solution | Approximation',\n",
    "                  scene = dict(\n",
    "                    xaxis_title=\"x\",\n",
    "                    yaxis_title=\"t\",\n",
    "                    zaxis_title=\"J(x, t\"),\n",
    "                  scene2 = dict(\n",
    "                    xaxis_title=\"x\",\n",
    "                    yaxis_title=\"t\",\n",
    "                    zaxis_title=\"J(x, t)\"),\n",
    "                  margin=dict(l=50, r=50, b=50, t=50))\n",
    "fig.show()"
   ]
  },
  {
   "cell_type": "markdown",
   "id": "mental-credits",
   "metadata": {},
   "source": [
    "#### Simulating the Process:"
   ]
  },
  {
   "cell_type": "markdown",
   "id": "accredited-ireland",
   "metadata": {},
   "source": [
    "Let $(\\Omega, \\mathcal{F}, \\{\\mathcal{F}_t\\}_{t\\in [0, T]}, \\mathbb{P})$. We consider\n",
    "$$\n",
    "\\begin{cases}\n",
    "dX_s = [H_s X_s + M_s u_s] ds + \\sigma_s dW_s, \\; s \\in [0, T] \\\\\n",
    "X_0 = x > 0\n",
    "\\end{cases},\n",
    "$$"
   ]
  },
  {
   "cell_type": "code",
   "execution_count": null,
   "id": "unable-filling",
   "metadata": {},
   "outputs": [],
   "source": [
    "n = 50\n",
    "c_xs = np.zeros(n)\n",
    "c_xs[0] = 0.75\n",
    "uc_xs = np.zeros(n)\n",
    "uc_xs[0] = c_xs[0]\n",
    "dt = 1/n\n",
    "ts = [t for t in np.linspace(0, 1, n)]\n",
    "c_cum_cost = np.zeros(n)\n",
    "uc_cum_cost = np.zeros(n)\n",
    "for i in range(n-1):\n",
    "    dW = np.sqrt(dt)*np.random.randn()\n",
    "    c = solver.u(c_xs[i], i*dt).item() #-(1/eq.D)*eq.M*((0.316228*np.exp(12.6491*i*dt) - 99125.6)/(313463 + np.exp(12.6491*i*dt))) *c_xs[i] \n",
    "    uc = 0\n",
    "    c_xs[i+1] = c_xs[i] + (eq.H*c_xs[i] + eq.M*c)*dt + eq.σ*dW\n",
    "    uc_xs[i+1] = uc_xs[i] + (eq.H*uc_xs[i] + eq.M*uc)*dt + eq.σ*dW\n",
    "    c_cum_cost[i+1] = c_cum_cost[i] + eq.C*c_xs[i]**2 + eq.D*c**2\n",
    "    uc_cum_cost[i+1] = uc_cum_cost[i] + eq.C*uc_xs[i]**2 + eq.D*uc**2\n",
    "\n",
    "c_cum_cost[-1] += eq.R*c_xs[-1]**2\n",
    "uc_cum_cost[-1] += eq.R*uc_xs[-1]**2\n",
    "    \n",
    "fig = make_subplots(rows=1, cols=2)\n",
    "fig.add_trace(go.Scatter(x=ts, y=c_xs, mode='lines', name=\"Controlled\", line=dict(color=\"#00e476\")), row=1, col=1)\n",
    "fig.add_trace(go.Scatter(x=ts, y=uc_xs, mode='lines', name=\"Uncontrolled\", line=dict(color=\"#FFe476\")), row=1, col=1)\n",
    "fig.add_trace(go.Scatter(x=ts, y=c_cum_cost, mode='lines', showlegend=False, line=dict(color=\"#00e476\")), row=1, col=2)\n",
    "fig.add_trace(go.Scatter(x=ts, y=uc_cum_cost, mode='lines', showlegend=False, line=dict(color=\"#FFe476\")), row=1, col=2)\n",
    "fig.update_layout(\n",
    "    title=\"Minimise amount of X | Minimise the costs (hold both close to zero)\",\n",
    "    xaxis_title=\"t\",\n",
    "    yaxis_title=\"X\",\n",
    "    font=dict(\n",
    "        family=\"Courier New, monospace\",\n",
    "        size=14\n",
    "    )\n",
    ")\n",
    "fig.show()"
   ]
  },
  {
   "cell_type": "markdown",
   "id": "organizational-review",
   "metadata": {},
   "source": [
    "Example: Assume that the UK is subject to another disease outbreak. Each patient admission costs certain resources. We intend to reduce the amount of people in hospitals as quickly as possible to bound admission costs."
   ]
  },
  {
   "cell_type": "markdown",
   "id": "rational-bernard",
   "metadata": {},
   "source": [
    "## !!! Problems: For high terminal cost, the value function approximation becomes inaccurate. For 0 terminal cost the control solution becomes a divergingly high control signal\n",
    "\n",
    "## !!! Any value of H positive leads to a control solution that diverge, taking the negative of that control signal seems optimal\n",
    "\n",
    "## !!! This is because the control function exploits erroneous approximations of the value function\n",
    "\n",
    "==> Counteract by introducing regularizing noise to control function and delaying the control update"
   ]
  },
  {
   "cell_type": "markdown",
   "id": "maritime-romania",
   "metadata": {},
   "source": [
    "### Linear-quadratic control problem N-dimensional (Riccati Equation) "
   ]
  },
  {
   "cell_type": "markdown",
   "id": "medium-delight",
   "metadata": {},
   "source": [
    "We consider the same problem with $H_t \\in \\mathbb{R}^{n \\times n}$,\n",
    "$M_t \\in \\mathbb{R}^{n \\times k}$, $\\sigma_t \\in \\mathbb{R}^{n \\times m}$ (for now a scalar), $C_t \\in \\mathbb{R}^{n \\times n}$, $D_t \\in \\mathbb{R}^{k \\times n}$, and $R \\in \\mathbb{R}^{n \\times n}$. We also have, $u(t, X_t) \\in\\mathbb{R}^k$."
   ]
  },
  {
   "cell_type": "markdown",
   "id": "equivalent-spray",
   "metadata": {},
   "source": [
    "Let $(\\Omega, \\mathcal{F}, \\{\\mathcal{F}_t\\}_{t\\in [0, T]}, \\mathbb{P})$. We consider\n",
    "$$\n",
    "\\begin{cases}\n",
    "dX_s = [H_sX_s + M_s u_s] ds + \\sigma_s dW_s, \\; s \\in [0, T] \\\\\n",
    "X_0 = x > 0\n",
    "\\end{cases},\n",
    "$$"
   ]
  },
  {
   "cell_type": "markdown",
   "id": "liberal-lafayette",
   "metadata": {},
   "source": [
    "We aim to maximise\n",
    "$$\n",
    "J^u(t, x) := \\mathbb{E}^{t, x} \\Big[ \\int_t^T X_s^T C_s X_s + u_s^T D_s u_s ds + X_T^T R X_T\\Big],\n",
    "$$\n",
    "with $C(t) = C \\leq 0, R \\leq 0$, and $D=D(t) < -\\delta < 0$ given and deterministic ($\\delta > 0$ some constant)."
   ]
  },
  {
   "cell_type": "markdown",
   "id": "right-neighborhood",
   "metadata": {},
   "source": [
    "We write down the problem in its primal form as\n",
    "$$\n",
    "\\begin{cases}\n",
    "\\partial_t J(t, x) + \\sup_{u} \\Big\\{ \\frac{1}{2} \\sigma^2 \\sum_{1 \\leq i, j \\leq n} \\Delta_{x_i x_j} J(t, x) + [H x + M u]^T \\cdot \\nabla_x J(t, x) + x^T C x + u^T D u \\Big\\} = 0 \\text{ on $[0, T] \\times (0, \\infty)$}\n",
    "\\\\\n",
    "J(T, x) = x^T R x \\text{ $\\forall x \\in \\mathbb{R}$}\n",
    "\\end{cases}\n",
    "$$"
   ]
  },
  {
   "cell_type": "markdown",
   "id": "directed-southeast",
   "metadata": {},
   "source": [
    "For now, we will consider the problem without the terminal condition."
   ]
  },
  {
   "cell_type": "code",
   "execution_count": null,
   "id": "impressive-demand",
   "metadata": {},
   "outputs": [],
   "source": [
    "class LQR_N(HBJ):\n",
    "    def __init__(self):\n",
    "        super().__init__()\n",
    "        self.H = torch.tensor([[0.1, 0],\n",
    "                              [0.0, 0.1]])\n",
    "        self.M = torch.tensor([[2.0, 0],\n",
    "                              [0.0, 2.0]])\n",
    "        self.C = torch.tensor([[-2.0, 0],\n",
    "                              [0.0, -2.0]])\n",
    "        self.R = torch.tensor([[-0.001, 0],\n",
    "                              [0.0, -0.001]])\n",
    "        self.D = torch.tensor([[-0.2, 0],\n",
    "                              [0.0, -0.2]])\n",
    "        self.σ = 0.1\n",
    "        \n",
    "        self.var_dim_J = 3 # (x, y, t)\n",
    "        self.sol_dim = 2\n",
    "        self.control_vars = [0, 1, 2]\n",
    "        self.cost_function = lambda u, var: (var[:2] |bdotb| (self.C |mdotb| var[:2])) + ((u |bdotm| self.D) |bdotb| u)\n",
    "        self.differential_operator = lambda J, u, var: (((self.H |mdotb| var[:2]) + (self.M |mdotb| u)) |bdotb| D(J, var[:2])) #+ (1/2)*self.σ**2*sum([div(div(J, var[i]), var[j]) for i, j in product(range(2), range(2))])\n",
    "        self.domain_func = [(lambda var: [var[0]*2-1, var[1]*2-1, var[2]], 128)]\n",
    "        self.boundary_cond_J = [lambda J, var: J - ((var[:2] |bdotm| self.R) |bdotb| var[:2])]\n",
    "        self.boundary_func_J = [(lambda var: [var[0]*2-1, var[1]*2-1, var[2]*0 + 1], 64)]\n",
    "        self.boundary_cond_u = [lambda u, var: torch.clamp(div(u, var[0]), min=0),\n",
    "                               lambda u, var: torch.clamp(div(u, var[1]), min=0)]\n",
    "        self.boundary_func_u = [(lambda var: [var[0]*2-1, var[1]*2-1, var[2]], 32),\n",
    "                               (lambda var: [var[0]*2-1, var[1]*2-1, var[2]], 32)]"
   ]
  },
  {
   "cell_type": "code",
   "execution_count": null,
   "id": "sticky-trout",
   "metadata": {},
   "outputs": [],
   "source": [
    "LQR_N_MODEL_CONFIG = {\n",
    "    \"hidden_dim\": 64,\n",
    "    \"learning_rate\": 5e-3,\n",
    "    \"loss_weights\": (1, 1),\n",
    "    \"lr_decay\": 0.99,\n",
    "    \"sampling_method\": \"uniform\",\n",
    "    \"network_type\": \"GRU\",\n",
    "    \"optimiser\": \"Adam\",\n",
    "    \"delay_control\": 2,\n",
    "    \"alpha_noise\": 0.1\n",
    "}\n",
    "eq = LQR_N()\n",
    "model = LQR_N_MODEL_CONFIG\n",
    "solver = DGMPIASolver(model, eq)\n",
    "loss = np.array(list(solver.train(500)))\n",
    "plot_losses(loss)"
   ]
  },
  {
   "cell_type": "markdown",
   "id": "golden-scheduling",
   "metadata": {},
   "source": [
    "#### Simulating the Process:"
   ]
  },
  {
   "cell_type": "markdown",
   "id": "available-mistake",
   "metadata": {},
   "source": [
    "Let $(\\Omega, \\mathcal{F}, \\{\\mathcal{F}_t\\}_{t\\in [0, T]}, \\mathbb{P})$. We consider\n",
    "$$\n",
    "\\begin{cases}\n",
    "dX_s = [H_sX_s + M_s u_s] ds + \\sigma_s dW_s, \\; s \\in [0, T] \\\\\n",
    "X_0 = x > 0\n",
    "\\end{cases},\n",
    "$$"
   ]
  },
  {
   "cell_type": "code",
   "execution_count": null,
   "id": "thermal-presence",
   "metadata": {},
   "outputs": [],
   "source": [
    "n = 50\n",
    "c_xs = np.zeros((2, n))\n",
    "c_xs[:, 0] = 0.5\n",
    "uc_xs = np.zeros((2, n))\n",
    "uc_xs[:, 0] = c_xs[:, 0]\n",
    "dt = 1/n\n",
    "ts = [t for t in np.linspace(0, 1, n)]\n",
    "c_cum_cost = np.zeros(n)\n",
    "uc_cum_cost = np.zeros(n)\n",
    "for i in range(n-1):\n",
    "    dW = np.sqrt(dt)*np.random.randn(2, 1)\n",
    "    c = np.expand_dims(solver.u(c_xs[0, i], c_xs[1, i], i*dt), axis=1)\n",
    "    uc = np.zeros((2, 1))\n",
    "    c_xs[:, None, i+1] = c_xs[:, None, i] + (eq.H.numpy() @ c_xs[:, None, i] + eq.M.numpy() @ c)*dt + eq.σ*dW\n",
    "    uc_xs[:, None, i+1] = uc_xs[:, None, i] + (eq.H.numpy() @ uc_xs[:, None, i] + eq.M.numpy() @ uc)*dt + eq.σ*dW\n",
    "    c_cum_cost[i+1] = c_cum_cost[i] + c_xs[:, None, i].T @ eq.C.numpy() @ c_xs[:, None, i] + c.T @ eq.D.numpy() @ c\n",
    "    uc_cum_cost[i+1] = uc_cum_cost[i] + uc_xs[:, None, i].T @ eq.C.numpy() @ uc_xs[:, None, i] + uc.T @ eq.D.numpy() @ uc\n",
    "\n",
    "c_cum_cost[-1] += c_xs[:, None, -1].T @ eq.R.numpy() @ c_xs[:, None, -1]\n",
    "uc_cum_cost[-1] += uc_xs[:, None, -1].T @ eq.R.numpy() @ uc_xs[:, None, -1]\n",
    "fig = make_subplots(rows=1, cols=2)\n",
    "fig.add_trace(go.Scatter(x=ts, y=c_xs[0], mode='lines', name=\"Controlled\", line=dict(color=\"#00e476\")), row=1, col=1)\n",
    "fig.add_trace(go.Scatter(x=ts, y=c_xs[1], mode='lines', showlegend=False, line=dict(color=\"#00e476\")), row=1, col=1)\n",
    "fig.add_trace(go.Scatter(x=ts, y=uc_xs[0], mode='lines', name=\"Uncontrolled\", line=dict(color=\"#FFe476\")), row=1, col=1)\n",
    "fig.add_trace(go.Scatter(x=ts, y=uc_xs[1], mode='lines', showlegend=False, line=dict(color=\"#FFe476\")), row=1, col=1)\n",
    "fig.add_trace(go.Scatter(x=ts, y=c_cum_cost, mode='lines', showlegend=False, line=dict(color=\"#00e476\")), row=1, col=2)\n",
    "fig.add_trace(go.Scatter(x=ts, y=uc_cum_cost, mode='lines', showlegend=False, line=dict(color=\"#FFe476\")), row=1, col=2)\n",
    "fig.update_layout(\n",
    "    title=\"Minimise amount of X | Minimise the costs (hold both close to zero)\",\n",
    "    xaxis_title=\"t\",\n",
    "    yaxis_title=\"X\",\n",
    "    font=dict(\n",
    "        family=\"Courier New, monospace\",\n",
    "        size=14\n",
    "    )\n",
    ")\n",
    "fig.show()"
   ]
  },
  {
   "cell_type": "markdown",
   "id": "italic-cleaners",
   "metadata": {},
   "source": [
    "### Black-Scholes-Barenblatt"
   ]
  },
  {
   "cell_type": "markdown",
   "id": "passive-puppy",
   "metadata": {},
   "source": [
    "$$\n",
    "\\begin{cases}\n",
    "\\partial_t J(t, x) + \\frac{1}{2} \\text{trace}(\\sigma^2 \\text{diag}(x^2 )\\Delta J(t, x)) + r(\\nabla^T J X - J) = 0 \\text{ on $[0, T] \\times (0, \\infty)$}\n",
    "\\\\\n",
    "J(T, x) = x^2 \\text{ $\\forall x \\in \\mathbb{R}$}\n",
    "\\end{cases}\n",
    "$$"
   ]
  },
  {
   "cell_type": "code",
   "execution_count": 91,
   "id": "colonial-evening",
   "metadata": {},
   "outputs": [],
   "source": [
    "CONFIG_BSB = {\n",
    "    \"hidden_dim\": 128,\n",
    "    \"learning_rate\": 5e-3,\n",
    "    \"loss_weights\": (1, 1),\n",
    "    \"lr_decay\": 0.99,\n",
    "    \"sampling_method\": \"uniform\",\n",
    "    \"network_type\": \"GRU\",\n",
    "    \"optimiser\": \"Adam\",\n",
    "    \"method\": \"Galerkin\"\n",
    "}\n",
    "class BSB(PDE):\n",
    "    def __init__(self):\n",
    "        super().__init__()\n",
    "        r = 0.05\n",
    "        sigma = 0.3\n",
    "        self.var_dim = 2 # var = (x, t)\n",
    "        self.equation = lambda u, var: div(u, var[-1]) + (1/2)*sum([X**2*Δ(u, var[:-1]) for X in var[:-1]]) + r*((D(u, var[:-1])|bdotb| var[:-1])- u)\n",
    "        self.domain_func = [(lambda var: [(x-0.5)*4 for x in var[:-1]]+ [var[-1]], 128)]\n",
    "        self.boundary_cond = [lambda u, var: u - (var[:-1] |bdotb| var[:-1])]\n",
    "        self.boundary_func = [(lambda var: [(x-0.5)*4 for x in var[:-1]]+ [var[-1]*0+1], 64)]"
   ]
  },
  {
   "cell_type": "code",
   "execution_count": 92,
   "id": "numerous-ultimate",
   "metadata": {},
   "outputs": [
    {
     "name": "stderr",
     "output_type": "stream",
     "text": [
      "100%|██████████| 800/800 [00:46<00:00, 17.02 it/s]\n"
     ]
    }
   ],
   "source": [
    "eq = BSB()\n",
    "model = CONFIG_BSB\n",
    "solver = DeepPDESolver(model, eq)\n",
    "losses = list(solver.train(800))"
   ]
  },
  {
   "cell_type": "code",
   "execution_count": 93,
   "id": "functioning-sewing",
   "metadata": {},
   "outputs": [
    {
     "data": {
      "application/vnd.plotly.v1+json": {
       "config": {
        "plotlyServerURL": "https://plot.ly"
       },
       "data": [
        {
         "mode": "lines",
         "name": "Error at x=0.1",
         "type": "scatter",
         "x": [
          0,
          1,
          2,
          3,
          4,
          5,
          6,
          7,
          8,
          9,
          10,
          11,
          12,
          13,
          14,
          15,
          16,
          17,
          18,
          19,
          20,
          21,
          22,
          23,
          24,
          25,
          26,
          27,
          28,
          29,
          30,
          31,
          32,
          33,
          34,
          35,
          36,
          37,
          38,
          39,
          40,
          41,
          42,
          43,
          44,
          45,
          46,
          47,
          48,
          49,
          50,
          51,
          52,
          53,
          54,
          55,
          56,
          57,
          58,
          59,
          60,
          61,
          62,
          63,
          64,
          65,
          66,
          67,
          68,
          69,
          70,
          71,
          72,
          73,
          74,
          75,
          76,
          77,
          78,
          79,
          80,
          81,
          82,
          83,
          84,
          85,
          86,
          87,
          88,
          89,
          90,
          91,
          92,
          93,
          94,
          95,
          96,
          97,
          98,
          99,
          100,
          101,
          102,
          103,
          104,
          105,
          106,
          107,
          108,
          109,
          110,
          111,
          112,
          113,
          114,
          115,
          116,
          117,
          118,
          119,
          120,
          121,
          122,
          123,
          124,
          125,
          126,
          127,
          128,
          129,
          130,
          131,
          132,
          133,
          134,
          135,
          136,
          137,
          138,
          139,
          140,
          141,
          142,
          143,
          144,
          145,
          146,
          147,
          148,
          149,
          150,
          151,
          152,
          153,
          154,
          155,
          156,
          157,
          158,
          159,
          160,
          161,
          162,
          163,
          164,
          165,
          166,
          167,
          168,
          169,
          170,
          171,
          172,
          173,
          174,
          175,
          176,
          177,
          178,
          179,
          180,
          181,
          182,
          183,
          184,
          185,
          186,
          187,
          188,
          189,
          190,
          191,
          192,
          193,
          194,
          195,
          196,
          197,
          198,
          199,
          200,
          201,
          202,
          203,
          204,
          205,
          206,
          207,
          208,
          209,
          210,
          211,
          212,
          213,
          214,
          215,
          216,
          217,
          218,
          219,
          220,
          221,
          222,
          223,
          224,
          225,
          226,
          227,
          228,
          229,
          230,
          231,
          232,
          233,
          234,
          235,
          236,
          237,
          238,
          239,
          240,
          241,
          242,
          243,
          244,
          245,
          246,
          247,
          248,
          249,
          250,
          251,
          252,
          253,
          254,
          255,
          256,
          257,
          258,
          259,
          260,
          261,
          262,
          263,
          264,
          265,
          266,
          267,
          268,
          269,
          270,
          271,
          272,
          273,
          274,
          275,
          276,
          277,
          278,
          279,
          280,
          281,
          282,
          283,
          284,
          285,
          286,
          287,
          288,
          289,
          290,
          291,
          292,
          293,
          294,
          295,
          296,
          297,
          298,
          299,
          300,
          301,
          302,
          303,
          304,
          305,
          306,
          307,
          308,
          309,
          310,
          311,
          312,
          313,
          314,
          315,
          316,
          317,
          318,
          319,
          320,
          321,
          322,
          323,
          324,
          325,
          326,
          327,
          328,
          329,
          330,
          331,
          332,
          333,
          334,
          335,
          336,
          337,
          338,
          339,
          340,
          341,
          342,
          343,
          344,
          345,
          346,
          347,
          348,
          349,
          350,
          351,
          352,
          353,
          354,
          355,
          356,
          357,
          358,
          359,
          360,
          361,
          362,
          363,
          364,
          365,
          366,
          367,
          368,
          369,
          370,
          371,
          372,
          373,
          374,
          375,
          376,
          377,
          378,
          379,
          380,
          381,
          382,
          383,
          384,
          385,
          386,
          387,
          388,
          389,
          390,
          391,
          392,
          393,
          394,
          395,
          396,
          397,
          398,
          399,
          400,
          401,
          402,
          403,
          404,
          405,
          406,
          407,
          408,
          409,
          410,
          411,
          412,
          413,
          414,
          415,
          416,
          417,
          418,
          419,
          420,
          421,
          422,
          423,
          424,
          425,
          426,
          427,
          428,
          429,
          430,
          431,
          432,
          433,
          434,
          435,
          436,
          437,
          438,
          439,
          440,
          441,
          442,
          443,
          444,
          445,
          446,
          447,
          448,
          449,
          450,
          451,
          452,
          453,
          454,
          455,
          456,
          457,
          458,
          459,
          460,
          461,
          462,
          463,
          464,
          465,
          466,
          467,
          468,
          469,
          470,
          471,
          472,
          473,
          474,
          475,
          476,
          477,
          478,
          479,
          480,
          481,
          482,
          483,
          484,
          485,
          486,
          487,
          488,
          489,
          490,
          491,
          492,
          493,
          494,
          495,
          496,
          497,
          498,
          499,
          500,
          501,
          502,
          503,
          504,
          505,
          506,
          507,
          508,
          509,
          510,
          511,
          512,
          513,
          514,
          515,
          516,
          517,
          518,
          519,
          520,
          521,
          522,
          523,
          524,
          525,
          526,
          527,
          528,
          529,
          530,
          531,
          532,
          533,
          534,
          535,
          536,
          537,
          538,
          539,
          540,
          541,
          542,
          543,
          544,
          545,
          546,
          547,
          548,
          549,
          550,
          551,
          552,
          553,
          554,
          555,
          556,
          557,
          558,
          559,
          560,
          561,
          562,
          563,
          564,
          565,
          566,
          567,
          568,
          569,
          570,
          571,
          572,
          573,
          574,
          575,
          576,
          577,
          578,
          579,
          580,
          581,
          582,
          583,
          584,
          585,
          586,
          587,
          588,
          589,
          590,
          591,
          592,
          593,
          594,
          595,
          596,
          597,
          598,
          599,
          600,
          601,
          602,
          603,
          604,
          605,
          606,
          607,
          608,
          609,
          610,
          611,
          612,
          613,
          614,
          615,
          616,
          617,
          618,
          619,
          620,
          621,
          622,
          623,
          624,
          625,
          626,
          627,
          628,
          629,
          630,
          631,
          632,
          633,
          634,
          635,
          636,
          637,
          638,
          639,
          640,
          641,
          642,
          643,
          644,
          645,
          646,
          647,
          648,
          649,
          650,
          651,
          652,
          653,
          654,
          655,
          656,
          657,
          658,
          659,
          660,
          661,
          662,
          663,
          664,
          665,
          666,
          667,
          668,
          669,
          670,
          671,
          672,
          673,
          674,
          675,
          676,
          677,
          678,
          679,
          680,
          681,
          682,
          683,
          684,
          685,
          686,
          687,
          688,
          689,
          690,
          691,
          692,
          693,
          694,
          695,
          696,
          697,
          698,
          699,
          700,
          701,
          702,
          703,
          704,
          705,
          706,
          707,
          708,
          709,
          710,
          711,
          712,
          713,
          714,
          715,
          716,
          717,
          718,
          719,
          720,
          721,
          722,
          723,
          724,
          725,
          726,
          727,
          728,
          729,
          730,
          731,
          732,
          733,
          734,
          735,
          736,
          737,
          738,
          739,
          740,
          741,
          742,
          743,
          744,
          745,
          746,
          747,
          748,
          749,
          750,
          751,
          752,
          753,
          754,
          755,
          756,
          757,
          758,
          759,
          760,
          761,
          762,
          763,
          764,
          765,
          766,
          767,
          768,
          769,
          770,
          771,
          772,
          773,
          774,
          775,
          776,
          777,
          778,
          779,
          780,
          781,
          782,
          783,
          784,
          785,
          786,
          787,
          788,
          789,
          790
         ],
         "xaxis": "x",
         "y": [
          1.0665395706892014,
          0.7942480549216271,
          0.6722955882549286,
          0.5773009717464447,
          0.4954663962125778,
          0.4080840989947319,
          0.3687350794672966,
          0.3180855795741081,
          0.28258144706487653,
          0.2554923266172409,
          0.24063164740800858,
          0.2520628601312637,
          0.24924697279930114,
          0.2310392826795578,
          0.1955476626753807,
          0.19333845749497414,
          0.16256891563534737,
          0.13609841838479042,
          0.12736089304089546,
          0.12451436370611191,
          0.11599620878696441,
          0.10278205499053002,
          0.09123662114143372,
          0.08388960435986519,
          0.081071188300848,
          0.07984337732195854,
          0.07668430060148239,
          0.07196566630154848,
          0.06574025359004736,
          0.06356024425476789,
          0.05705607328563929,
          0.05244929194450378,
          0.048629657737910746,
          0.043397216312587264,
          0.03674036916345358,
          0.03310724068433046,
          0.03231856338679791,
          0.031530283950269224,
          0.029711922444403172,
          0.027595057152211666,
          0.025769130885601045,
          0.025035116448998453,
          0.024371839314699172,
          0.023799552023410796,
          0.022017659060657023,
          0.01989709008485079,
          0.01846950426697731,
          0.018131078314036132,
          0.017606041952967645,
          0.015906782075762748,
          0.014445439912378788,
          0.013584057800471783,
          0.013435814809054137,
          0.012562341522425413,
          0.012052357848733663,
          0.011407291796058417,
          0.010878430958837271,
          0.010638873558491468,
          0.010412032715976238,
          0.010414482466876507,
          0.010185218602418899,
          0.009783292468637229,
          0.009163159225136042,
          0.009293608553707599,
          0.009046535566449165,
          0.009159002639353275,
          0.009053516481071711,
          0.008731095679104328,
          0.008398918202146888,
          0.008158661471679807,
          0.007998601766303182,
          0.007665967475622893,
          0.007425189390778542,
          0.007066892553120851,
          0.007138181664049626,
          0.006703728903084993,
          0.006540514715015888,
          0.006504994258284569,
          0.006442625960335136,
          0.006424243608489632,
          0.0064413577783852816,
          0.006734468694776297,
          0.0067460273392498495,
          0.006640686374157667,
          0.00638318806886673,
          0.00643805880099535,
          0.006426563207060099,
          0.0061092067044228315,
          0.005895225470885635,
          0.005648998636752367,
          0.005412750784307719,
          0.005189764965325594,
          0.005016238009557128,
          0.004962085420265794,
          0.004926813254132867,
          0.004724114155396819,
          0.004652711562812328,
          0.00463243224658072,
          0.004508412256836891,
          0.004466925235465169,
          0.004488346492871642,
          0.004202396026812494,
          0.004134166450239718,
          0.004193454631604254,
          0.004206846817396581,
          0.00415430914144963,
          0.004075047583319247,
          0.004239787836559117,
          0.004359537339769304,
          0.004349145130254329,
          0.00434633030090481,
          0.004467129707336426,
          0.0044549922458827496,
          0.004227546649053693,
          0.0041025741258636115,
          0.004304577200673521,
          0.004290357488207519,
          0.004207670199684798,
          0.004174041678197682,
          0.004068488790653646,
          0.00407880253624171,
          0.003995724464766681,
          0.004078515036962926,
          0.004047072469256818,
          0.004177689645439386,
          0.0038826257456094026,
          0.0038804706651717424,
          0.0037667141295969486,
          0.0038520241621881725,
          0.0038895313628017902,
          0.0038571328856050967,
          0.0040549150668084625,
          0.0039552958915010095,
          0.004010109300725162,
          0.003949012234807014,
          0.0040100472513586284,
          0.003879658319056034,
          0.0038033573189750315,
          0.003615453001111746,
          0.003555553895421326,
          0.0035549649735912682,
          0.0034183923387899997,
          0.00329485721886158,
          0.0034215334337204693,
          0.003463106811977923,
          0.0035483572864905,
          0.003662295336835086,
          0.003715868201106787,
          0.00391649326775223,
          0.0040707963984459635,
          0.004110864456743002,
          0.004109469009563327,
          0.004174216231331229,
          0.004113794444128871,
          0.003986281831748784,
          0.003933252790011466,
          0.003779548755846918,
          0.003809938975609839,
          0.0035350579069927334,
          0.0035800418583676217,
          0.0035084959818050265,
          0.003389992332085967,
          0.0034817673265933992,
          0.003346295026130974,
          0.0033639126224443315,
          0.0033603004412725568,
          0.0034124932484701277,
          0.0034096625866368415,
          0.0036048550391569734,
          0.0034774195635691287,
          0.0033847454702481627,
          0.003417730168439448,
          0.0033786381129175423,
          0.0034271603217348456,
          0.0034358670469373464,
          0.003376997448503971,
          0.0033656218321993945,
          0.003499613865278661,
          0.0032270302763208747,
          0.003307132818736136,
          0.0033077831845730542,
          0.003224024106748402,
          0.0030773612903431057,
          0.003034008922986686,
          0.0029135014628991485,
          0.0028273560805246235,
          0.002806861465796828,
          0.0025753818452358248,
          0.002667221543379128,
          0.0025381249375641345,
          0.002375913318246603,
          0.0025252395309507845,
          0.0025300109758973123,
          0.00254673610907048,
          0.002594610466621816,
          0.002959942654706538,
          0.0041383673204109074,
          0.004448470450006426,
          0.00467731598764658,
          0.0048710759030655025,
          0.005190520221367479,
          0.005630250414833426,
          0.005657951929606497,
          0.005758707853965461,
          0.005890833539888262,
          0.005643159500323236,
          0.004464632296003401,
          0.004216031404212117,
          0.003910553501918912,
          0.0036520066438242792,
          0.0036973018897697328,
          0.0031047049444168804,
          0.003146706707775593,
          0.0032215500017628075,
          0.003127883025445044,
          0.0031371706165373324,
          0.0032912309747189284,
          0.003244280512444675,
          0.0032509353710338472,
          0.003489197650924325,
          0.003182586561888456,
          0.003113830427173525,
          0.0031238600728102028,
          0.0029427600908093154,
          0.002887347911018878,
          0.0028031317167915406,
          0.0025966163841076194,
          0.002613218070473522,
          0.0027023252448998393,
          0.002484457741957158,
          0.0025431390735320748,
          0.002593721356242895,
          0.0024444722570478917,
          0.00241328168194741,
          0.0022865311009809377,
          0.002179799776058644,
          0.0021065583219751715,
          0.0019844124093651772,
          0.0018128931289538742,
          0.001694102119654417,
          0.0015537277096882463,
          0.001499307923950255,
          0.0014902533497661353,
          0.0014004917349666357,
          0.0014634707011282444,
          0.0014643972855992616,
          0.0015351348789408802,
          0.0015028996858745813,
          0.0014953434700146317,
          0.0014864797936752438,
          0.0015737044159322977,
          0.0015646040672436356,
          0.0015903464984148741,
          0.0015907909255474806,
          0.0015762601513415575,
          0.0015590315568260848,
          0.0014774727984331547,
          0.0015315275406464935,
          0.0015436630113981665,
          0.0015919875353574754,
          0.001537343335803598,
          0.0015640927595086396,
          0.0015216600149869919,
          0.0015308023896068335,
          0.0015520740184001625,
          0.001576457906048745,
          0.0015981970704160632,
          0.0015320113277994096,
          0.0015501179615966976,
          0.0015173151507042349,
          0.001633158652111888,
          0.001647205010522157,
          0.0016734195640310645,
          0.001715512154623866,
          0.00168034837115556,
          0.0016768302768468857,
          0.0016605501878075302,
          0.0016574408393353224,
          0.00161961130797863,
          0.0015443658456206321,
          0.0014160551829263568,
          0.001361197733785957,
          0.0013170710881240666,
          0.0012715874356217683,
          0.001224437728524208,
          0.0011838401667773723,
          0.0011584041407331825,
          0.001137744210427627,
          0.0011141569761093707,
          0.0011426528042647987,
          0.0011181381589267403,
          0.0010985944478306918,
          0.0010624612506944687,
          0.0010251267754938453,
          0.0010308147699106484,
          0.000983995053684339,
          0.000959780317498371,
          0.0009696160443127156,
          0.0009663773467764259,
          0.0009694663807749748,
          0.0010002817027270794,
          0.0009982940740883351,
          0.0010129703558050096,
          0.0010153684532269835,
          0.0010241765645332634,
          0.0010172104579396547,
          0.0010243554366752504,
          0.001017835142556578,
          0.0010345617309212684,
          0.0010134638752788306,
          0.0009797941776923836,
          0.0010090071009472013,
          0.0010337128886021673,
          0.0010459105484187602,
          0.0010622606379911304,
          0.0011081989970989526,
          0.001163075806107372,
          0.0011659106006845833,
          0.0011316226329654456,
          0.0011164817726239562,
          0.0011441680719144643,
          0.0012083953013643622,
          0.0013562206644564868,
          0.0014308338868431747,
          0.0015955402632243931,
          0.001576798432506621,
          0.0017464293632656336,
          0.002129524992778897,
          0.00223993668332696,
          0.002646573260426521,
          0.0026322223362512886,
          0.002928121841978282,
          0.0028862506034784017,
          0.0030926982755772768,
          0.0033271090709604324,
          0.0034553839243017135,
          0.00339033534983173,
          0.0031775244162417947,
          0.0031979104154743255,
          0.0031394807738251984,
          0.0034155475674197077,
          0.00352433396037668,
          0.003983346768654883,
          0.004285969655029476,
          0.004772733594290912,
          0.004869381431490183,
          0.005609548022039235,
          0.006114760437048972,
          0.006374726048670709,
          0.006994686997495591,
          0.007165385410189629,
          0.007907026261091233,
          0.0077546590473502874,
          0.007912127813324333,
          0.007426356524229049,
          0.008521880162879825,
          0.008457003301009536,
          0.008368014637380839,
          0.008671322232112288,
          0.007929713977500797,
          0.008542292704805731,
          0.007483280124142766,
          0.008283155225217342,
          0.007709342823363841,
          0.007822336093522609,
          0.006910246354527772,
          0.006175494496710598,
          0.00604926620144397,
          0.005489236419089138,
          0.0055163847515359524,
          0.0051681305514648555,
          0.005142316012643278,
          0.004352223663590849,
          0.004404735006392002,
          0.004173943912610412,
          0.004057103185914457,
          0.004095188877545297,
          0.0038831201614812016,
          0.0038115818984806537,
          0.0037596984766423702,
          0.003165925061330199,
          0.003141355258412659,
          0.002848271303810179,
          0.002664112369529903,
          0.002663615089841187,
          0.002450924087315798,
          0.0023983408929780124,
          0.002281039324589074,
          0.0022318716393783687,
          0.002150255802553147,
          0.0021219862974248827,
          0.002117094292771071,
          0.002140782109927386,
          0.002218115550931543,
          0.00196178947808221,
          0.0020155252772383393,
          0.0019599265069700778,
          0.001924718008376658,
          0.0020160905783995985,
          0.001930099178571254,
          0.001974354835692793,
          0.001940827292855829,
          0.0019259933265857398,
          0.0017771187238395214,
          0.0017704790690913797,
          0.0016568053280934692,
          0.001613231230294332,
          0.0015360482910182327,
          0.0014143006701488048,
          0.0014260511205065995,
          0.001286170055391267,
          0.0011865654319990425,
          0.001018098503118381,
          0.0009889248001854866,
          0.0009164138231426477,
          0.0008838689362164586,
          0.0008987608598545194,
          0.0008562693255953491,
          0.000856921827653423,
          0.0008480605611111969,
          0.0008518962480593473,
          0.0008485829399432987,
          0.0008431101625319571,
          0.0008543227973859757,
          0.0008598118030931801,
          0.0008715039875824004,
          0.0008699006692040711,
          0.0008556918939575553,
          0.0008665679604746401,
          0.0008402850711718201,
          0.0008076317957602441,
          0.0007949438586365432,
          0.0007868407701607794,
          0.0007888392836321145,
          0.0007682459894567728,
          0.0007391143008135259,
          0.000763655046466738,
          0.000808891182532534,
          0.0007976374006830155,
          0.0007753588899504394,
          0.0008124170533847063,
          0.0008308851858600975,
          0.0008812780492007732,
          0.0008912076416891068,
          0.0009149682533461601,
          0.0009669335908256471,
          0.0008972855808679015,
          0.0009544847358483821,
          0.0009396727138664574,
          0.0009650666615925729,
          0.000953002623282373,
          0.0009348270948976278,
          0.0008867418626323342,
          0.0008863448223564774,
          0.000903302029473707,
          0.0008466854051221162,
          0.0008538397145457566,
          0.0007845493266358972,
          0.0007733205129625276,
          0.0007966806559124961,
          0.0007534259377280251,
          0.0007524501910666004,
          0.0007374443084700033,
          0.0007289211935130879,
          0.0006751869164872915,
          0.0006888559728395194,
          0.000684478273615241,
          0.0006420988240279258,
          0.000648514917702414,
          0.0005826195265399292,
          0.0005737860017688945,
          0.0005483138054842129,
          0.0005543817154830321,
          0.000533822356374003,
          0.000539932755054906,
          0.0005148010270204395,
          0.0005233699397649616,
          0.0005199571547564119,
          0.0005350317398551852,
          0.0005613011075183749,
          0.0005502177344169467,
          0.0005402476992458106,
          0.0005304182646796108,
          0.0005448120355140418,
          0.0005301967728883028,
          0.0005341715179383755,
          0.0005320186086464673,
          0.0005193145829252898,
          0.0005051362386438996,
          0.0005125116207636893,
          0.0005496395577210933,
          0.0005664494819939137,
          0.0005884864018298686,
          0.000630643276963383,
          0.0006595936429221183,
          0.0006588892953004688,
          0.0007001065707299859,
          0.0007161742891184985,
          0.000734182569431141,
          0.0007322075543925166,
          0.0007130899000912904,
          0.0007008391025010496,
          0.0006742860598023981,
          0.000614953855983913,
          0.0005837722681462764,
          0.0005916899943258613,
          0.0005391994083765895,
          0.0005645759054459631,
          0.0005491119809448719,
          0.0005271057481877506,
          0.0005357858201023192,
          0.0005361634714063257,
          0.0005346351186744869,
          0.0005763248016592115,
          0.0005917144881095737,
          0.0006253033643588424,
          0.0006759499083273113,
          0.0006532815343234688,
          0.0006772268796339631,
          0.0006672263087239116,
          0.0006936655612662434,
          0.000685109049663879,
          0.0007297785807168112,
          0.0006783879274735227,
          0.0007097144291037694,
          0.0006777011702070012,
          0.0006512420281069353,
          0.0006942615931620821,
          0.0006702431564917788,
          0.0006890992022817955,
          0.0006585139752132818,
          0.0006871201156172901,
          0.000653029594104737,
          0.0006631671159993858,
          0.0006428480497561395,
          0.0006382899300660938,
          0.0006229088117834181,
          0.0005682790128048509,
          0.0005757682432886213,
          0.0005555826413910836,
          0.0005486880894750356,
          0.0005271934380289168,
          0.0005322001525200903,
          0.0005194817727897316,
          0.0005286455212626606,
          0.0005213835800532251,
          0.0005309501953888685,
          0.0005703836912289261,
          0.0005640382179990411,
          0.0006118128309026361,
          0.0006293872429523617,
          0.0006589734286535532,
          0.0006687874614726752,
          0.0007019811426289379,
          0.0006763054901966825,
          0.0007278932695044205,
          0.0007453547703335061,
          0.0007280848949449137,
          0.0007581724697956815,
          0.000722975077223964,
          0.0007116970053175464,
          0.0006888776697451249,
          0.0006931855488801375,
          0.0006753734109224751,
          0.0007237722573336213,
          0.000664449468604289,
          0.000631565970252268,
          0.0006182929762871936,
          0.0005824321968248114,
          0.0006038674240699038,
          0.0005864170874701813,
          0.000582764923456125,
          0.000575433814083226,
          0.0005593772773863747,
          0.0005794441240141168,
          0.0005764265864854678,
          0.000583156049833633,
          0.0006004650349495932,
          0.0005825108179124072,
          0.0005594932968961075,
          0.0005606628983514383,
          0.0005401836708188057,
          0.0005562659120187163,
          0.000560032474459149,
          0.0004975511488737539,
          0.0005515524069778621,
          0.0005549236899241805,
          0.0005671765888109803,
          0.0006085710134357214,
          0.0006635994068346918,
          0.000670624995836988,
          0.0007056596252368764,
          0.0006811107246903703,
          0.0007078050926793367,
          0.0007364936231169849,
          0.0007151185302063823,
          0.0007085480028763413,
          0.0006893607089295984,
          0.0006545477313920856,
          0.0006355167017318309,
          0.0006391386850737035,
          0.0006603927467949688,
          0.0007051678723655642,
          0.0006874815677292645,
          0.0007011288427747786,
          0.0006940246152225882,
          0.000701555545674637,
          0.000686978583689779,
          0.000684643560089171,
          0.0006570080411620438,
          0.0006442717334721237,
          0.0006301960034761578,
          0.0005649339174851776,
          0.000585574540309608,
          0.0005626925965771079,
          0.0005564213148318231,
          0.0005744855792727321,
          0.0005557709839195013,
          0.0005658381502144039,
          0.0005847863736562431,
          0.0006231627659872175,
          0.0005889219319215044,
          0.0006014208891429007,
          0.0005757225910201669,
          0.0005729487282223999,
          0.0005595263821305708,
          0.0005427752068499104,
          0.0005472519696922973,
          0.0005820677179144695,
          0.0005391270125983283,
          0.000505866706953384,
          0.0004923861561110243,
          0.0004970167530700565,
          0.0004891018441412597,
          0.0004619369108695537,
          0.00047138544032350184,
          0.000444146990776062,
          0.000448784080799669,
          0.00043314332142472265,
          0.0004474314075196162,
          0.0004735513968626037,
          0.0004901449661701918,
          0.000496992957778275,
          0.0005287678970489651,
          0.0005531781585887075,
          0.0005621512158541009,
          0.0006030581571394578,
          0.0006128093489678576,
          0.0006207327969605103,
          0.0006292774400208145,
          0.0005917157395742834,
          0.0006189002189785243,
          0.0006016659259330482,
          0.0005882842640858143,
          0.0005700063018593937,
          0.0005642998847179114,
          0.0005183569912333042,
          0.0005527186847757548,
          0.0005178323073778302,
          0.0005231943388935179,
          0.000536666193511337,
          0.0005151924851816148,
          0.0005288850981742144,
          0.0005094037333037704,
          0.0005382229224778712,
          0.000532236066646874,
          0.0005387319659348577,
          0.0005379132519010455,
          0.0005206089321291074,
          0.0005348436214262619,
          0.0005117862572660669,
          0.0005292567104334012,
          0.0005064424272859469,
          0.0005275049159536138,
          0.00048777413030620664,
          0.0004901820619124919,
          0.0004674100680858828,
          0.00041577537049306554,
          0.00041685587057145314,
          0.0003693946127896197,
          0.0003739329302334227,
          0.0003373456813278608,
          0.00033762841339921577,
          0.0003149122538161464,
          0.000311134681396652,
          0.00030824648420093583,
          0.00033015538938343527,
          0.00033808756852522493,
          0.0003472309530479833,
          0.0003689626377308741,
          0.00037627806013915686,
          0.00039163922774605454,
          0.00039124630275182425,
          0.00042218701855745167,
          0.00044619567051995546,
          0.0004430244443938136,
          0.0004349210561485961,
          0.0004344139684690163,
          0.00043664852855727074,
          0.0004367864865344018,
          0.00043014706461690365,
          0.00043524817447178067,
          0.0004266105068381876,
          0.0004082245519384742,
          0.00037139601481612773,
          0.00036139825242571534,
          0.00034909776877611876,
          0.0003624044824391603,
          0.00035955994098912925,
          0.0003396505984710529,
          0.00034564217494335023,
          0.000325114672887139,
          0.0003398813190869987,
          0.0003357658802997321,
          0.00035931157472077755,
          0.0003999460459453985,
          0.00040519366739317776,
          0.0004091625480214134,
          0.0004161016782745719,
          0.0004286963026970625,
          0.00047384698991663753,
          0.00048270371335092934,
          0.0005475663871038705,
          0.0005718720611184835,
          0.000621680379845202,
          0.000637407205067575,
          0.0006733156536938622,
          0.0006644344044616446,
          0.0007309455162612721,
          0.0007441376481438055,
          0.0007957567955600098,
          0.0008344322443008423,
          0.0007909082691185176,
          0.0007942193013150245,
          0.0007332736247917637,
          0.0006990528811002151,
          0.0006698857119772583,
          0.000677074323175475,
          0.0006079328886698931,
          0.0006069425260648131,
          0.0005084003147203475,
          0.0004842274822294712,
          0.0004651102441130206,
          0.00043485146888997404,
          0.00043840552680194376,
          0.0004309150972403586,
          0.00042255676235072317,
          0.00040590990683995185,
          0.0003988330834545195,
          0.00037459968007169664,
          0.00037215120100881905,
          0.0003545108367688954,
          0.00035034513566643,
          0.0003622015181463212,
          0.00035721663734875617,
          0.00035764246713370084,
          0.0003556745868991129,
          0.00040682155959075316,
          0.0004602147426339798,
          0.0004913987926556729,
          0.0005269672037684359,
          0.0005958848792943172,
          0.000626468526024837,
          0.0006248975012567825,
          0.000710663439531345,
          0.0006965877299080602,
          0.0007671974453842267,
          0.0007977860368555412,
          0.0007880581571953372,
          0.000864398168050684,
          0.0008888801938155666,
          0.0009401510033058003,
          0.00103331804566551,
          0.001048762912978418,
          0.0011245543864788488,
          0.0011999267211649568,
          0.0012061315879691391,
          0.0012869110389146954,
          0.001302189496345818,
          0.0012684747227467597,
          0.0012346044997684658,
          0.0011770253186114132,
          0.001088117656763643,
          0.001082098117331043,
          0.0010123538959305733,
          0.0009306666295742616,
          0.0009528491733362898,
          0.0007821875275112689,
          0.0007850934052839875,
          0.0007570256944745779,
          0.0007395637861918658
         ],
         "yaxis": "y"
        }
       ],
       "layout": {
        "font": {
         "family": "Courier New, monospace",
         "size": 14
        },
        "template": {
         "data": {
          "bar": [
           {
            "error_x": {
             "color": "#2a3f5f"
            },
            "error_y": {
             "color": "#2a3f5f"
            },
            "marker": {
             "line": {
              "color": "#E5ECF6",
              "width": 0.5
             }
            },
            "type": "bar"
           }
          ],
          "barpolar": [
           {
            "marker": {
             "line": {
              "color": "#E5ECF6",
              "width": 0.5
             }
            },
            "type": "barpolar"
           }
          ],
          "carpet": [
           {
            "aaxis": {
             "endlinecolor": "#2a3f5f",
             "gridcolor": "white",
             "linecolor": "white",
             "minorgridcolor": "white",
             "startlinecolor": "#2a3f5f"
            },
            "baxis": {
             "endlinecolor": "#2a3f5f",
             "gridcolor": "white",
             "linecolor": "white",
             "minorgridcolor": "white",
             "startlinecolor": "#2a3f5f"
            },
            "type": "carpet"
           }
          ],
          "choropleth": [
           {
            "colorbar": {
             "outlinewidth": 0,
             "ticks": ""
            },
            "type": "choropleth"
           }
          ],
          "contour": [
           {
            "colorbar": {
             "outlinewidth": 0,
             "ticks": ""
            },
            "colorscale": [
             [
              0,
              "#0d0887"
             ],
             [
              0.1111111111111111,
              "#46039f"
             ],
             [
              0.2222222222222222,
              "#7201a8"
             ],
             [
              0.3333333333333333,
              "#9c179e"
             ],
             [
              0.4444444444444444,
              "#bd3786"
             ],
             [
              0.5555555555555556,
              "#d8576b"
             ],
             [
              0.6666666666666666,
              "#ed7953"
             ],
             [
              0.7777777777777778,
              "#fb9f3a"
             ],
             [
              0.8888888888888888,
              "#fdca26"
             ],
             [
              1,
              "#f0f921"
             ]
            ],
            "type": "contour"
           }
          ],
          "contourcarpet": [
           {
            "colorbar": {
             "outlinewidth": 0,
             "ticks": ""
            },
            "type": "contourcarpet"
           }
          ],
          "heatmap": [
           {
            "colorbar": {
             "outlinewidth": 0,
             "ticks": ""
            },
            "colorscale": [
             [
              0,
              "#0d0887"
             ],
             [
              0.1111111111111111,
              "#46039f"
             ],
             [
              0.2222222222222222,
              "#7201a8"
             ],
             [
              0.3333333333333333,
              "#9c179e"
             ],
             [
              0.4444444444444444,
              "#bd3786"
             ],
             [
              0.5555555555555556,
              "#d8576b"
             ],
             [
              0.6666666666666666,
              "#ed7953"
             ],
             [
              0.7777777777777778,
              "#fb9f3a"
             ],
             [
              0.8888888888888888,
              "#fdca26"
             ],
             [
              1,
              "#f0f921"
             ]
            ],
            "type": "heatmap"
           }
          ],
          "heatmapgl": [
           {
            "colorbar": {
             "outlinewidth": 0,
             "ticks": ""
            },
            "colorscale": [
             [
              0,
              "#0d0887"
             ],
             [
              0.1111111111111111,
              "#46039f"
             ],
             [
              0.2222222222222222,
              "#7201a8"
             ],
             [
              0.3333333333333333,
              "#9c179e"
             ],
             [
              0.4444444444444444,
              "#bd3786"
             ],
             [
              0.5555555555555556,
              "#d8576b"
             ],
             [
              0.6666666666666666,
              "#ed7953"
             ],
             [
              0.7777777777777778,
              "#fb9f3a"
             ],
             [
              0.8888888888888888,
              "#fdca26"
             ],
             [
              1,
              "#f0f921"
             ]
            ],
            "type": "heatmapgl"
           }
          ],
          "histogram": [
           {
            "marker": {
             "colorbar": {
              "outlinewidth": 0,
              "ticks": ""
             }
            },
            "type": "histogram"
           }
          ],
          "histogram2d": [
           {
            "colorbar": {
             "outlinewidth": 0,
             "ticks": ""
            },
            "colorscale": [
             [
              0,
              "#0d0887"
             ],
             [
              0.1111111111111111,
              "#46039f"
             ],
             [
              0.2222222222222222,
              "#7201a8"
             ],
             [
              0.3333333333333333,
              "#9c179e"
             ],
             [
              0.4444444444444444,
              "#bd3786"
             ],
             [
              0.5555555555555556,
              "#d8576b"
             ],
             [
              0.6666666666666666,
              "#ed7953"
             ],
             [
              0.7777777777777778,
              "#fb9f3a"
             ],
             [
              0.8888888888888888,
              "#fdca26"
             ],
             [
              1,
              "#f0f921"
             ]
            ],
            "type": "histogram2d"
           }
          ],
          "histogram2dcontour": [
           {
            "colorbar": {
             "outlinewidth": 0,
             "ticks": ""
            },
            "colorscale": [
             [
              0,
              "#0d0887"
             ],
             [
              0.1111111111111111,
              "#46039f"
             ],
             [
              0.2222222222222222,
              "#7201a8"
             ],
             [
              0.3333333333333333,
              "#9c179e"
             ],
             [
              0.4444444444444444,
              "#bd3786"
             ],
             [
              0.5555555555555556,
              "#d8576b"
             ],
             [
              0.6666666666666666,
              "#ed7953"
             ],
             [
              0.7777777777777778,
              "#fb9f3a"
             ],
             [
              0.8888888888888888,
              "#fdca26"
             ],
             [
              1,
              "#f0f921"
             ]
            ],
            "type": "histogram2dcontour"
           }
          ],
          "mesh3d": [
           {
            "colorbar": {
             "outlinewidth": 0,
             "ticks": ""
            },
            "type": "mesh3d"
           }
          ],
          "parcoords": [
           {
            "line": {
             "colorbar": {
              "outlinewidth": 0,
              "ticks": ""
             }
            },
            "type": "parcoords"
           }
          ],
          "pie": [
           {
            "automargin": true,
            "type": "pie"
           }
          ],
          "scatter": [
           {
            "marker": {
             "colorbar": {
              "outlinewidth": 0,
              "ticks": ""
             }
            },
            "type": "scatter"
           }
          ],
          "scatter3d": [
           {
            "line": {
             "colorbar": {
              "outlinewidth": 0,
              "ticks": ""
             }
            },
            "marker": {
             "colorbar": {
              "outlinewidth": 0,
              "ticks": ""
             }
            },
            "type": "scatter3d"
           }
          ],
          "scattercarpet": [
           {
            "marker": {
             "colorbar": {
              "outlinewidth": 0,
              "ticks": ""
             }
            },
            "type": "scattercarpet"
           }
          ],
          "scattergeo": [
           {
            "marker": {
             "colorbar": {
              "outlinewidth": 0,
              "ticks": ""
             }
            },
            "type": "scattergeo"
           }
          ],
          "scattergl": [
           {
            "marker": {
             "colorbar": {
              "outlinewidth": 0,
              "ticks": ""
             }
            },
            "type": "scattergl"
           }
          ],
          "scattermapbox": [
           {
            "marker": {
             "colorbar": {
              "outlinewidth": 0,
              "ticks": ""
             }
            },
            "type": "scattermapbox"
           }
          ],
          "scatterpolar": [
           {
            "marker": {
             "colorbar": {
              "outlinewidth": 0,
              "ticks": ""
             }
            },
            "type": "scatterpolar"
           }
          ],
          "scatterpolargl": [
           {
            "marker": {
             "colorbar": {
              "outlinewidth": 0,
              "ticks": ""
             }
            },
            "type": "scatterpolargl"
           }
          ],
          "scatterternary": [
           {
            "marker": {
             "colorbar": {
              "outlinewidth": 0,
              "ticks": ""
             }
            },
            "type": "scatterternary"
           }
          ],
          "surface": [
           {
            "colorbar": {
             "outlinewidth": 0,
             "ticks": ""
            },
            "colorscale": [
             [
              0,
              "#0d0887"
             ],
             [
              0.1111111111111111,
              "#46039f"
             ],
             [
              0.2222222222222222,
              "#7201a8"
             ],
             [
              0.3333333333333333,
              "#9c179e"
             ],
             [
              0.4444444444444444,
              "#bd3786"
             ],
             [
              0.5555555555555556,
              "#d8576b"
             ],
             [
              0.6666666666666666,
              "#ed7953"
             ],
             [
              0.7777777777777778,
              "#fb9f3a"
             ],
             [
              0.8888888888888888,
              "#fdca26"
             ],
             [
              1,
              "#f0f921"
             ]
            ],
            "type": "surface"
           }
          ],
          "table": [
           {
            "cells": {
             "fill": {
              "color": "#EBF0F8"
             },
             "line": {
              "color": "white"
             }
            },
            "header": {
             "fill": {
              "color": "#C8D4E3"
             },
             "line": {
              "color": "white"
             }
            },
            "type": "table"
           }
          ]
         },
         "layout": {
          "annotationdefaults": {
           "arrowcolor": "#2a3f5f",
           "arrowhead": 0,
           "arrowwidth": 1
          },
          "autotypenumbers": "strict",
          "coloraxis": {
           "colorbar": {
            "outlinewidth": 0,
            "ticks": ""
           }
          },
          "colorscale": {
           "diverging": [
            [
             0,
             "#8e0152"
            ],
            [
             0.1,
             "#c51b7d"
            ],
            [
             0.2,
             "#de77ae"
            ],
            [
             0.3,
             "#f1b6da"
            ],
            [
             0.4,
             "#fde0ef"
            ],
            [
             0.5,
             "#f7f7f7"
            ],
            [
             0.6,
             "#e6f5d0"
            ],
            [
             0.7,
             "#b8e186"
            ],
            [
             0.8,
             "#7fbc41"
            ],
            [
             0.9,
             "#4d9221"
            ],
            [
             1,
             "#276419"
            ]
           ],
           "sequential": [
            [
             0,
             "#0d0887"
            ],
            [
             0.1111111111111111,
             "#46039f"
            ],
            [
             0.2222222222222222,
             "#7201a8"
            ],
            [
             0.3333333333333333,
             "#9c179e"
            ],
            [
             0.4444444444444444,
             "#bd3786"
            ],
            [
             0.5555555555555556,
             "#d8576b"
            ],
            [
             0.6666666666666666,
             "#ed7953"
            ],
            [
             0.7777777777777778,
             "#fb9f3a"
            ],
            [
             0.8888888888888888,
             "#fdca26"
            ],
            [
             1,
             "#f0f921"
            ]
           ],
           "sequentialminus": [
            [
             0,
             "#0d0887"
            ],
            [
             0.1111111111111111,
             "#46039f"
            ],
            [
             0.2222222222222222,
             "#7201a8"
            ],
            [
             0.3333333333333333,
             "#9c179e"
            ],
            [
             0.4444444444444444,
             "#bd3786"
            ],
            [
             0.5555555555555556,
             "#d8576b"
            ],
            [
             0.6666666666666666,
             "#ed7953"
            ],
            [
             0.7777777777777778,
             "#fb9f3a"
            ],
            [
             0.8888888888888888,
             "#fdca26"
            ],
            [
             1,
             "#f0f921"
            ]
           ]
          },
          "colorway": [
           "#636efa",
           "#EF553B",
           "#00cc96",
           "#ab63fa",
           "#FFA15A",
           "#19d3f3",
           "#FF6692",
           "#B6E880",
           "#FF97FF",
           "#FECB52"
          ],
          "font": {
           "color": "#2a3f5f"
          },
          "geo": {
           "bgcolor": "white",
           "lakecolor": "white",
           "landcolor": "#E5ECF6",
           "showlakes": true,
           "showland": true,
           "subunitcolor": "white"
          },
          "hoverlabel": {
           "align": "left"
          },
          "hovermode": "closest",
          "mapbox": {
           "style": "light"
          },
          "paper_bgcolor": "white",
          "plot_bgcolor": "#E5ECF6",
          "polar": {
           "angularaxis": {
            "gridcolor": "white",
            "linecolor": "white",
            "ticks": ""
           },
           "bgcolor": "#E5ECF6",
           "radialaxis": {
            "gridcolor": "white",
            "linecolor": "white",
            "ticks": ""
           }
          },
          "scene": {
           "xaxis": {
            "backgroundcolor": "#E5ECF6",
            "gridcolor": "white",
            "gridwidth": 2,
            "linecolor": "white",
            "showbackground": true,
            "ticks": "",
            "zerolinecolor": "white"
           },
           "yaxis": {
            "backgroundcolor": "#E5ECF6",
            "gridcolor": "white",
            "gridwidth": 2,
            "linecolor": "white",
            "showbackground": true,
            "ticks": "",
            "zerolinecolor": "white"
           },
           "zaxis": {
            "backgroundcolor": "#E5ECF6",
            "gridcolor": "white",
            "gridwidth": 2,
            "linecolor": "white",
            "showbackground": true,
            "ticks": "",
            "zerolinecolor": "white"
           }
          },
          "shapedefaults": {
           "line": {
            "color": "#2a3f5f"
           }
          },
          "ternary": {
           "aaxis": {
            "gridcolor": "white",
            "linecolor": "white",
            "ticks": ""
           },
           "baxis": {
            "gridcolor": "white",
            "linecolor": "white",
            "ticks": ""
           },
           "bgcolor": "#E5ECF6",
           "caxis": {
            "gridcolor": "white",
            "linecolor": "white",
            "ticks": ""
           }
          },
          "title": {
           "x": 0.05
          },
          "xaxis": {
           "automargin": true,
           "gridcolor": "white",
           "linecolor": "white",
           "ticks": "",
           "title": {
            "standoff": 15
           },
           "zerolinecolor": "white",
           "zerolinewidth": 2
          },
          "yaxis": {
           "automargin": true,
           "gridcolor": "white",
           "linecolor": "white",
           "ticks": "",
           "title": {
            "standoff": 15
           },
           "zerolinecolor": "white",
           "zerolinewidth": 2
          }
         }
        },
        "title": {
         "text": "Loss"
        },
        "xaxis": {
         "anchor": "y",
         "domain": [
          0,
          1
         ],
         "title": {
          "text": "Iterations"
         }
        },
        "yaxis": {
         "anchor": "x",
         "domain": [
          0,
          1
         ],
         "title": {
          "text": "Loss"
         }
        }
       }
      },
      "text/html": [
       "<div>                            <div id=\"5957526f-f8c4-464f-af3f-281949888449\" class=\"plotly-graph-div\" style=\"height:525px; width:100%;\"></div>            <script type=\"text/javascript\">                require([\"plotly\"], function(Plotly) {                    window.PLOTLYENV=window.PLOTLYENV || {};                                    if (document.getElementById(\"5957526f-f8c4-464f-af3f-281949888449\")) {                    Plotly.newPlot(                        \"5957526f-f8c4-464f-af3f-281949888449\",                        [{\"mode\": \"lines\", \"name\": \"Error at x=0.1\", \"type\": \"scatter\", \"x\": [0, 1, 2, 3, 4, 5, 6, 7, 8, 9, 10, 11, 12, 13, 14, 15, 16, 17, 18, 19, 20, 21, 22, 23, 24, 25, 26, 27, 28, 29, 30, 31, 32, 33, 34, 35, 36, 37, 38, 39, 40, 41, 42, 43, 44, 45, 46, 47, 48, 49, 50, 51, 52, 53, 54, 55, 56, 57, 58, 59, 60, 61, 62, 63, 64, 65, 66, 67, 68, 69, 70, 71, 72, 73, 74, 75, 76, 77, 78, 79, 80, 81, 82, 83, 84, 85, 86, 87, 88, 89, 90, 91, 92, 93, 94, 95, 96, 97, 98, 99, 100, 101, 102, 103, 104, 105, 106, 107, 108, 109, 110, 111, 112, 113, 114, 115, 116, 117, 118, 119, 120, 121, 122, 123, 124, 125, 126, 127, 128, 129, 130, 131, 132, 133, 134, 135, 136, 137, 138, 139, 140, 141, 142, 143, 144, 145, 146, 147, 148, 149, 150, 151, 152, 153, 154, 155, 156, 157, 158, 159, 160, 161, 162, 163, 164, 165, 166, 167, 168, 169, 170, 171, 172, 173, 174, 175, 176, 177, 178, 179, 180, 181, 182, 183, 184, 185, 186, 187, 188, 189, 190, 191, 192, 193, 194, 195, 196, 197, 198, 199, 200, 201, 202, 203, 204, 205, 206, 207, 208, 209, 210, 211, 212, 213, 214, 215, 216, 217, 218, 219, 220, 221, 222, 223, 224, 225, 226, 227, 228, 229, 230, 231, 232, 233, 234, 235, 236, 237, 238, 239, 240, 241, 242, 243, 244, 245, 246, 247, 248, 249, 250, 251, 252, 253, 254, 255, 256, 257, 258, 259, 260, 261, 262, 263, 264, 265, 266, 267, 268, 269, 270, 271, 272, 273, 274, 275, 276, 277, 278, 279, 280, 281, 282, 283, 284, 285, 286, 287, 288, 289, 290, 291, 292, 293, 294, 295, 296, 297, 298, 299, 300, 301, 302, 303, 304, 305, 306, 307, 308, 309, 310, 311, 312, 313, 314, 315, 316, 317, 318, 319, 320, 321, 322, 323, 324, 325, 326, 327, 328, 329, 330, 331, 332, 333, 334, 335, 336, 337, 338, 339, 340, 341, 342, 343, 344, 345, 346, 347, 348, 349, 350, 351, 352, 353, 354, 355, 356, 357, 358, 359, 360, 361, 362, 363, 364, 365, 366, 367, 368, 369, 370, 371, 372, 373, 374, 375, 376, 377, 378, 379, 380, 381, 382, 383, 384, 385, 386, 387, 388, 389, 390, 391, 392, 393, 394, 395, 396, 397, 398, 399, 400, 401, 402, 403, 404, 405, 406, 407, 408, 409, 410, 411, 412, 413, 414, 415, 416, 417, 418, 419, 420, 421, 422, 423, 424, 425, 426, 427, 428, 429, 430, 431, 432, 433, 434, 435, 436, 437, 438, 439, 440, 441, 442, 443, 444, 445, 446, 447, 448, 449, 450, 451, 452, 453, 454, 455, 456, 457, 458, 459, 460, 461, 462, 463, 464, 465, 466, 467, 468, 469, 470, 471, 472, 473, 474, 475, 476, 477, 478, 479, 480, 481, 482, 483, 484, 485, 486, 487, 488, 489, 490, 491, 492, 493, 494, 495, 496, 497, 498, 499, 500, 501, 502, 503, 504, 505, 506, 507, 508, 509, 510, 511, 512, 513, 514, 515, 516, 517, 518, 519, 520, 521, 522, 523, 524, 525, 526, 527, 528, 529, 530, 531, 532, 533, 534, 535, 536, 537, 538, 539, 540, 541, 542, 543, 544, 545, 546, 547, 548, 549, 550, 551, 552, 553, 554, 555, 556, 557, 558, 559, 560, 561, 562, 563, 564, 565, 566, 567, 568, 569, 570, 571, 572, 573, 574, 575, 576, 577, 578, 579, 580, 581, 582, 583, 584, 585, 586, 587, 588, 589, 590, 591, 592, 593, 594, 595, 596, 597, 598, 599, 600, 601, 602, 603, 604, 605, 606, 607, 608, 609, 610, 611, 612, 613, 614, 615, 616, 617, 618, 619, 620, 621, 622, 623, 624, 625, 626, 627, 628, 629, 630, 631, 632, 633, 634, 635, 636, 637, 638, 639, 640, 641, 642, 643, 644, 645, 646, 647, 648, 649, 650, 651, 652, 653, 654, 655, 656, 657, 658, 659, 660, 661, 662, 663, 664, 665, 666, 667, 668, 669, 670, 671, 672, 673, 674, 675, 676, 677, 678, 679, 680, 681, 682, 683, 684, 685, 686, 687, 688, 689, 690, 691, 692, 693, 694, 695, 696, 697, 698, 699, 700, 701, 702, 703, 704, 705, 706, 707, 708, 709, 710, 711, 712, 713, 714, 715, 716, 717, 718, 719, 720, 721, 722, 723, 724, 725, 726, 727, 728, 729, 730, 731, 732, 733, 734, 735, 736, 737, 738, 739, 740, 741, 742, 743, 744, 745, 746, 747, 748, 749, 750, 751, 752, 753, 754, 755, 756, 757, 758, 759, 760, 761, 762, 763, 764, 765, 766, 767, 768, 769, 770, 771, 772, 773, 774, 775, 776, 777, 778, 779, 780, 781, 782, 783, 784, 785, 786, 787, 788, 789, 790], \"xaxis\": \"x\", \"y\": [1.0665395706892014, 0.7942480549216271, 0.6722955882549286, 0.5773009717464447, 0.4954663962125778, 0.4080840989947319, 0.3687350794672966, 0.3180855795741081, 0.28258144706487653, 0.2554923266172409, 0.24063164740800858, 0.2520628601312637, 0.24924697279930114, 0.2310392826795578, 0.1955476626753807, 0.19333845749497414, 0.16256891563534737, 0.13609841838479042, 0.12736089304089546, 0.12451436370611191, 0.11599620878696441, 0.10278205499053002, 0.09123662114143372, 0.08388960435986519, 0.081071188300848, 0.07984337732195854, 0.07668430060148239, 0.07196566630154848, 0.06574025359004736, 0.06356024425476789, 0.05705607328563929, 0.05244929194450378, 0.048629657737910746, 0.043397216312587264, 0.03674036916345358, 0.03310724068433046, 0.03231856338679791, 0.031530283950269224, 0.029711922444403172, 0.027595057152211666, 0.025769130885601045, 0.025035116448998453, 0.024371839314699172, 0.023799552023410796, 0.022017659060657023, 0.01989709008485079, 0.01846950426697731, 0.018131078314036132, 0.017606041952967645, 0.015906782075762748, 0.014445439912378788, 0.013584057800471783, 0.013435814809054137, 0.012562341522425413, 0.012052357848733663, 0.011407291796058417, 0.010878430958837271, 0.010638873558491468, 0.010412032715976238, 0.010414482466876507, 0.010185218602418899, 0.009783292468637229, 0.009163159225136042, 0.009293608553707599, 0.009046535566449165, 0.009159002639353275, 0.009053516481071711, 0.008731095679104328, 0.008398918202146888, 0.008158661471679807, 0.007998601766303182, 0.007665967475622893, 0.007425189390778542, 0.007066892553120851, 0.007138181664049626, 0.006703728903084993, 0.006540514715015888, 0.006504994258284569, 0.006442625960335136, 0.006424243608489632, 0.0064413577783852816, 0.006734468694776297, 0.0067460273392498495, 0.006640686374157667, 0.00638318806886673, 0.00643805880099535, 0.006426563207060099, 0.0061092067044228315, 0.005895225470885635, 0.005648998636752367, 0.005412750784307719, 0.005189764965325594, 0.005016238009557128, 0.004962085420265794, 0.004926813254132867, 0.004724114155396819, 0.004652711562812328, 0.00463243224658072, 0.004508412256836891, 0.004466925235465169, 0.004488346492871642, 0.004202396026812494, 0.004134166450239718, 0.004193454631604254, 0.004206846817396581, 0.00415430914144963, 0.004075047583319247, 0.004239787836559117, 0.004359537339769304, 0.004349145130254329, 0.00434633030090481, 0.004467129707336426, 0.0044549922458827496, 0.004227546649053693, 0.0041025741258636115, 0.004304577200673521, 0.004290357488207519, 0.004207670199684798, 0.004174041678197682, 0.004068488790653646, 0.00407880253624171, 0.003995724464766681, 0.004078515036962926, 0.004047072469256818, 0.004177689645439386, 0.0038826257456094026, 0.0038804706651717424, 0.0037667141295969486, 0.0038520241621881725, 0.0038895313628017902, 0.0038571328856050967, 0.0040549150668084625, 0.0039552958915010095, 0.004010109300725162, 0.003949012234807014, 0.0040100472513586284, 0.003879658319056034, 0.0038033573189750315, 0.003615453001111746, 0.003555553895421326, 0.0035549649735912682, 0.0034183923387899997, 0.00329485721886158, 0.0034215334337204693, 0.003463106811977923, 0.0035483572864905, 0.003662295336835086, 0.003715868201106787, 0.00391649326775223, 0.0040707963984459635, 0.004110864456743002, 0.004109469009563327, 0.004174216231331229, 0.004113794444128871, 0.003986281831748784, 0.003933252790011466, 0.003779548755846918, 0.003809938975609839, 0.0035350579069927334, 0.0035800418583676217, 0.0035084959818050265, 0.003389992332085967, 0.0034817673265933992, 0.003346295026130974, 0.0033639126224443315, 0.0033603004412725568, 0.0034124932484701277, 0.0034096625866368415, 0.0036048550391569734, 0.0034774195635691287, 0.0033847454702481627, 0.003417730168439448, 0.0033786381129175423, 0.0034271603217348456, 0.0034358670469373464, 0.003376997448503971, 0.0033656218321993945, 0.003499613865278661, 0.0032270302763208747, 0.003307132818736136, 0.0033077831845730542, 0.003224024106748402, 0.0030773612903431057, 0.003034008922986686, 0.0029135014628991485, 0.0028273560805246235, 0.002806861465796828, 0.0025753818452358248, 0.002667221543379128, 0.0025381249375641345, 0.002375913318246603, 0.0025252395309507845, 0.0025300109758973123, 0.00254673610907048, 0.002594610466621816, 0.002959942654706538, 0.0041383673204109074, 0.004448470450006426, 0.00467731598764658, 0.0048710759030655025, 0.005190520221367479, 0.005630250414833426, 0.005657951929606497, 0.005758707853965461, 0.005890833539888262, 0.005643159500323236, 0.004464632296003401, 0.004216031404212117, 0.003910553501918912, 0.0036520066438242792, 0.0036973018897697328, 0.0031047049444168804, 0.003146706707775593, 0.0032215500017628075, 0.003127883025445044, 0.0031371706165373324, 0.0032912309747189284, 0.003244280512444675, 0.0032509353710338472, 0.003489197650924325, 0.003182586561888456, 0.003113830427173525, 0.0031238600728102028, 0.0029427600908093154, 0.002887347911018878, 0.0028031317167915406, 0.0025966163841076194, 0.002613218070473522, 0.0027023252448998393, 0.002484457741957158, 0.0025431390735320748, 0.002593721356242895, 0.0024444722570478917, 0.00241328168194741, 0.0022865311009809377, 0.002179799776058644, 0.0021065583219751715, 0.0019844124093651772, 0.0018128931289538742, 0.001694102119654417, 0.0015537277096882463, 0.001499307923950255, 0.0014902533497661353, 0.0014004917349666357, 0.0014634707011282444, 0.0014643972855992616, 0.0015351348789408802, 0.0015028996858745813, 0.0014953434700146317, 0.0014864797936752438, 0.0015737044159322977, 0.0015646040672436356, 0.0015903464984148741, 0.0015907909255474806, 0.0015762601513415575, 0.0015590315568260848, 0.0014774727984331547, 0.0015315275406464935, 0.0015436630113981665, 0.0015919875353574754, 0.001537343335803598, 0.0015640927595086396, 0.0015216600149869919, 0.0015308023896068335, 0.0015520740184001625, 0.001576457906048745, 0.0015981970704160632, 0.0015320113277994096, 0.0015501179615966976, 0.0015173151507042349, 0.001633158652111888, 0.001647205010522157, 0.0016734195640310645, 0.001715512154623866, 0.00168034837115556, 0.0016768302768468857, 0.0016605501878075302, 0.0016574408393353224, 0.00161961130797863, 0.0015443658456206321, 0.0014160551829263568, 0.001361197733785957, 0.0013170710881240666, 0.0012715874356217683, 0.001224437728524208, 0.0011838401667773723, 0.0011584041407331825, 0.001137744210427627, 0.0011141569761093707, 0.0011426528042647987, 0.0011181381589267403, 0.0010985944478306918, 0.0010624612506944687, 0.0010251267754938453, 0.0010308147699106484, 0.000983995053684339, 0.000959780317498371, 0.0009696160443127156, 0.0009663773467764259, 0.0009694663807749748, 0.0010002817027270794, 0.0009982940740883351, 0.0010129703558050096, 0.0010153684532269835, 0.0010241765645332634, 0.0010172104579396547, 0.0010243554366752504, 0.001017835142556578, 0.0010345617309212684, 0.0010134638752788306, 0.0009797941776923836, 0.0010090071009472013, 0.0010337128886021673, 0.0010459105484187602, 0.0010622606379911304, 0.0011081989970989526, 0.001163075806107372, 0.0011659106006845833, 0.0011316226329654456, 0.0011164817726239562, 0.0011441680719144643, 0.0012083953013643622, 0.0013562206644564868, 0.0014308338868431747, 0.0015955402632243931, 0.001576798432506621, 0.0017464293632656336, 0.002129524992778897, 0.00223993668332696, 0.002646573260426521, 0.0026322223362512886, 0.002928121841978282, 0.0028862506034784017, 0.0030926982755772768, 0.0033271090709604324, 0.0034553839243017135, 0.00339033534983173, 0.0031775244162417947, 0.0031979104154743255, 0.0031394807738251984, 0.0034155475674197077, 0.00352433396037668, 0.003983346768654883, 0.004285969655029476, 0.004772733594290912, 0.004869381431490183, 0.005609548022039235, 0.006114760437048972, 0.006374726048670709, 0.006994686997495591, 0.007165385410189629, 0.007907026261091233, 0.0077546590473502874, 0.007912127813324333, 0.007426356524229049, 0.008521880162879825, 0.008457003301009536, 0.008368014637380839, 0.008671322232112288, 0.007929713977500797, 0.008542292704805731, 0.007483280124142766, 0.008283155225217342, 0.007709342823363841, 0.007822336093522609, 0.006910246354527772, 0.006175494496710598, 0.00604926620144397, 0.005489236419089138, 0.0055163847515359524, 0.0051681305514648555, 0.005142316012643278, 0.004352223663590849, 0.004404735006392002, 0.004173943912610412, 0.004057103185914457, 0.004095188877545297, 0.0038831201614812016, 0.0038115818984806537, 0.0037596984766423702, 0.003165925061330199, 0.003141355258412659, 0.002848271303810179, 0.002664112369529903, 0.002663615089841187, 0.002450924087315798, 0.0023983408929780124, 0.002281039324589074, 0.0022318716393783687, 0.002150255802553147, 0.0021219862974248827, 0.002117094292771071, 0.002140782109927386, 0.002218115550931543, 0.00196178947808221, 0.0020155252772383393, 0.0019599265069700778, 0.001924718008376658, 0.0020160905783995985, 0.001930099178571254, 0.001974354835692793, 0.001940827292855829, 0.0019259933265857398, 0.0017771187238395214, 0.0017704790690913797, 0.0016568053280934692, 0.001613231230294332, 0.0015360482910182327, 0.0014143006701488048, 0.0014260511205065995, 0.001286170055391267, 0.0011865654319990425, 0.001018098503118381, 0.0009889248001854866, 0.0009164138231426477, 0.0008838689362164586, 0.0008987608598545194, 0.0008562693255953491, 0.000856921827653423, 0.0008480605611111969, 0.0008518962480593473, 0.0008485829399432987, 0.0008431101625319571, 0.0008543227973859757, 0.0008598118030931801, 0.0008715039875824004, 0.0008699006692040711, 0.0008556918939575553, 0.0008665679604746401, 0.0008402850711718201, 0.0008076317957602441, 0.0007949438586365432, 0.0007868407701607794, 0.0007888392836321145, 0.0007682459894567728, 0.0007391143008135259, 0.000763655046466738, 0.000808891182532534, 0.0007976374006830155, 0.0007753588899504394, 0.0008124170533847063, 0.0008308851858600975, 0.0008812780492007732, 0.0008912076416891068, 0.0009149682533461601, 0.0009669335908256471, 0.0008972855808679015, 0.0009544847358483821, 0.0009396727138664574, 0.0009650666615925729, 0.000953002623282373, 0.0009348270948976278, 0.0008867418626323342, 0.0008863448223564774, 0.000903302029473707, 0.0008466854051221162, 0.0008538397145457566, 0.0007845493266358972, 0.0007733205129625276, 0.0007966806559124961, 0.0007534259377280251, 0.0007524501910666004, 0.0007374443084700033, 0.0007289211935130879, 0.0006751869164872915, 0.0006888559728395194, 0.000684478273615241, 0.0006420988240279258, 0.000648514917702414, 0.0005826195265399292, 0.0005737860017688945, 0.0005483138054842129, 0.0005543817154830321, 0.000533822356374003, 0.000539932755054906, 0.0005148010270204395, 0.0005233699397649616, 0.0005199571547564119, 0.0005350317398551852, 0.0005613011075183749, 0.0005502177344169467, 0.0005402476992458106, 0.0005304182646796108, 0.0005448120355140418, 0.0005301967728883028, 0.0005341715179383755, 0.0005320186086464673, 0.0005193145829252898, 0.0005051362386438996, 0.0005125116207636893, 0.0005496395577210933, 0.0005664494819939137, 0.0005884864018298686, 0.000630643276963383, 0.0006595936429221183, 0.0006588892953004688, 0.0007001065707299859, 0.0007161742891184985, 0.000734182569431141, 0.0007322075543925166, 0.0007130899000912904, 0.0007008391025010496, 0.0006742860598023981, 0.000614953855983913, 0.0005837722681462764, 0.0005916899943258613, 0.0005391994083765895, 0.0005645759054459631, 0.0005491119809448719, 0.0005271057481877506, 0.0005357858201023192, 0.0005361634714063257, 0.0005346351186744869, 0.0005763248016592115, 0.0005917144881095737, 0.0006253033643588424, 0.0006759499083273113, 0.0006532815343234688, 0.0006772268796339631, 0.0006672263087239116, 0.0006936655612662434, 0.000685109049663879, 0.0007297785807168112, 0.0006783879274735227, 0.0007097144291037694, 0.0006777011702070012, 0.0006512420281069353, 0.0006942615931620821, 0.0006702431564917788, 0.0006890992022817955, 0.0006585139752132818, 0.0006871201156172901, 0.000653029594104737, 0.0006631671159993858, 0.0006428480497561395, 0.0006382899300660938, 0.0006229088117834181, 0.0005682790128048509, 0.0005757682432886213, 0.0005555826413910836, 0.0005486880894750356, 0.0005271934380289168, 0.0005322001525200903, 0.0005194817727897316, 0.0005286455212626606, 0.0005213835800532251, 0.0005309501953888685, 0.0005703836912289261, 0.0005640382179990411, 0.0006118128309026361, 0.0006293872429523617, 0.0006589734286535532, 0.0006687874614726752, 0.0007019811426289379, 0.0006763054901966825, 0.0007278932695044205, 0.0007453547703335061, 0.0007280848949449137, 0.0007581724697956815, 0.000722975077223964, 0.0007116970053175464, 0.0006888776697451249, 0.0006931855488801375, 0.0006753734109224751, 0.0007237722573336213, 0.000664449468604289, 0.000631565970252268, 0.0006182929762871936, 0.0005824321968248114, 0.0006038674240699038, 0.0005864170874701813, 0.000582764923456125, 0.000575433814083226, 0.0005593772773863747, 0.0005794441240141168, 0.0005764265864854678, 0.000583156049833633, 0.0006004650349495932, 0.0005825108179124072, 0.0005594932968961075, 0.0005606628983514383, 0.0005401836708188057, 0.0005562659120187163, 0.000560032474459149, 0.0004975511488737539, 0.0005515524069778621, 0.0005549236899241805, 0.0005671765888109803, 0.0006085710134357214, 0.0006635994068346918, 0.000670624995836988, 0.0007056596252368764, 0.0006811107246903703, 0.0007078050926793367, 0.0007364936231169849, 0.0007151185302063823, 0.0007085480028763413, 0.0006893607089295984, 0.0006545477313920856, 0.0006355167017318309, 0.0006391386850737035, 0.0006603927467949688, 0.0007051678723655642, 0.0006874815677292645, 0.0007011288427747786, 0.0006940246152225882, 0.000701555545674637, 0.000686978583689779, 0.000684643560089171, 0.0006570080411620438, 0.0006442717334721237, 0.0006301960034761578, 0.0005649339174851776, 0.000585574540309608, 0.0005626925965771079, 0.0005564213148318231, 0.0005744855792727321, 0.0005557709839195013, 0.0005658381502144039, 0.0005847863736562431, 0.0006231627659872175, 0.0005889219319215044, 0.0006014208891429007, 0.0005757225910201669, 0.0005729487282223999, 0.0005595263821305708, 0.0005427752068499104, 0.0005472519696922973, 0.0005820677179144695, 0.0005391270125983283, 0.000505866706953384, 0.0004923861561110243, 0.0004970167530700565, 0.0004891018441412597, 0.0004619369108695537, 0.00047138544032350184, 0.000444146990776062, 0.000448784080799669, 0.00043314332142472265, 0.0004474314075196162, 0.0004735513968626037, 0.0004901449661701918, 0.000496992957778275, 0.0005287678970489651, 0.0005531781585887075, 0.0005621512158541009, 0.0006030581571394578, 0.0006128093489678576, 0.0006207327969605103, 0.0006292774400208145, 0.0005917157395742834, 0.0006189002189785243, 0.0006016659259330482, 0.0005882842640858143, 0.0005700063018593937, 0.0005642998847179114, 0.0005183569912333042, 0.0005527186847757548, 0.0005178323073778302, 0.0005231943388935179, 0.000536666193511337, 0.0005151924851816148, 0.0005288850981742144, 0.0005094037333037704, 0.0005382229224778712, 0.000532236066646874, 0.0005387319659348577, 0.0005379132519010455, 0.0005206089321291074, 0.0005348436214262619, 0.0005117862572660669, 0.0005292567104334012, 0.0005064424272859469, 0.0005275049159536138, 0.00048777413030620664, 0.0004901820619124919, 0.0004674100680858828, 0.00041577537049306554, 0.00041685587057145314, 0.0003693946127896197, 0.0003739329302334227, 0.0003373456813278608, 0.00033762841339921577, 0.0003149122538161464, 0.000311134681396652, 0.00030824648420093583, 0.00033015538938343527, 0.00033808756852522493, 0.0003472309530479833, 0.0003689626377308741, 0.00037627806013915686, 0.00039163922774605454, 0.00039124630275182425, 0.00042218701855745167, 0.00044619567051995546, 0.0004430244443938136, 0.0004349210561485961, 0.0004344139684690163, 0.00043664852855727074, 0.0004367864865344018, 0.00043014706461690365, 0.00043524817447178067, 0.0004266105068381876, 0.0004082245519384742, 0.00037139601481612773, 0.00036139825242571534, 0.00034909776877611876, 0.0003624044824391603, 0.00035955994098912925, 0.0003396505984710529, 0.00034564217494335023, 0.000325114672887139, 0.0003398813190869987, 0.0003357658802997321, 0.00035931157472077755, 0.0003999460459453985, 0.00040519366739317776, 0.0004091625480214134, 0.0004161016782745719, 0.0004286963026970625, 0.00047384698991663753, 0.00048270371335092934, 0.0005475663871038705, 0.0005718720611184835, 0.000621680379845202, 0.000637407205067575, 0.0006733156536938622, 0.0006644344044616446, 0.0007309455162612721, 0.0007441376481438055, 0.0007957567955600098, 0.0008344322443008423, 0.0007909082691185176, 0.0007942193013150245, 0.0007332736247917637, 0.0006990528811002151, 0.0006698857119772583, 0.000677074323175475, 0.0006079328886698931, 0.0006069425260648131, 0.0005084003147203475, 0.0004842274822294712, 0.0004651102441130206, 0.00043485146888997404, 0.00043840552680194376, 0.0004309150972403586, 0.00042255676235072317, 0.00040590990683995185, 0.0003988330834545195, 0.00037459968007169664, 0.00037215120100881905, 0.0003545108367688954, 0.00035034513566643, 0.0003622015181463212, 0.00035721663734875617, 0.00035764246713370084, 0.0003556745868991129, 0.00040682155959075316, 0.0004602147426339798, 0.0004913987926556729, 0.0005269672037684359, 0.0005958848792943172, 0.000626468526024837, 0.0006248975012567825, 0.000710663439531345, 0.0006965877299080602, 0.0007671974453842267, 0.0007977860368555412, 0.0007880581571953372, 0.000864398168050684, 0.0008888801938155666, 0.0009401510033058003, 0.00103331804566551, 0.001048762912978418, 0.0011245543864788488, 0.0011999267211649568, 0.0012061315879691391, 0.0012869110389146954, 0.001302189496345818, 0.0012684747227467597, 0.0012346044997684658, 0.0011770253186114132, 0.001088117656763643, 0.001082098117331043, 0.0010123538959305733, 0.0009306666295742616, 0.0009528491733362898, 0.0007821875275112689, 0.0007850934052839875, 0.0007570256944745779, 0.0007395637861918658], \"yaxis\": \"y\"}],                        {\"font\": {\"family\": \"Courier New, monospace\", \"size\": 14}, \"template\": {\"data\": {\"bar\": [{\"error_x\": {\"color\": \"#2a3f5f\"}, \"error_y\": {\"color\": \"#2a3f5f\"}, \"marker\": {\"line\": {\"color\": \"#E5ECF6\", \"width\": 0.5}}, \"type\": \"bar\"}], \"barpolar\": [{\"marker\": {\"line\": {\"color\": \"#E5ECF6\", \"width\": 0.5}}, \"type\": \"barpolar\"}], \"carpet\": [{\"aaxis\": {\"endlinecolor\": \"#2a3f5f\", \"gridcolor\": \"white\", \"linecolor\": \"white\", \"minorgridcolor\": \"white\", \"startlinecolor\": \"#2a3f5f\"}, \"baxis\": {\"endlinecolor\": \"#2a3f5f\", \"gridcolor\": \"white\", \"linecolor\": \"white\", \"minorgridcolor\": \"white\", \"startlinecolor\": \"#2a3f5f\"}, \"type\": \"carpet\"}], \"choropleth\": [{\"colorbar\": {\"outlinewidth\": 0, \"ticks\": \"\"}, \"type\": \"choropleth\"}], \"contour\": [{\"colorbar\": {\"outlinewidth\": 0, \"ticks\": \"\"}, \"colorscale\": [[0.0, \"#0d0887\"], [0.1111111111111111, \"#46039f\"], [0.2222222222222222, \"#7201a8\"], [0.3333333333333333, \"#9c179e\"], [0.4444444444444444, \"#bd3786\"], [0.5555555555555556, \"#d8576b\"], [0.6666666666666666, \"#ed7953\"], [0.7777777777777778, \"#fb9f3a\"], [0.8888888888888888, \"#fdca26\"], [1.0, \"#f0f921\"]], \"type\": \"contour\"}], \"contourcarpet\": [{\"colorbar\": {\"outlinewidth\": 0, \"ticks\": \"\"}, \"type\": \"contourcarpet\"}], \"heatmap\": [{\"colorbar\": {\"outlinewidth\": 0, \"ticks\": \"\"}, \"colorscale\": [[0.0, \"#0d0887\"], [0.1111111111111111, \"#46039f\"], [0.2222222222222222, \"#7201a8\"], [0.3333333333333333, \"#9c179e\"], [0.4444444444444444, \"#bd3786\"], [0.5555555555555556, \"#d8576b\"], [0.6666666666666666, \"#ed7953\"], [0.7777777777777778, \"#fb9f3a\"], [0.8888888888888888, \"#fdca26\"], [1.0, \"#f0f921\"]], \"type\": \"heatmap\"}], \"heatmapgl\": [{\"colorbar\": {\"outlinewidth\": 0, \"ticks\": \"\"}, \"colorscale\": [[0.0, \"#0d0887\"], [0.1111111111111111, \"#46039f\"], [0.2222222222222222, \"#7201a8\"], [0.3333333333333333, \"#9c179e\"], [0.4444444444444444, \"#bd3786\"], [0.5555555555555556, \"#d8576b\"], [0.6666666666666666, \"#ed7953\"], [0.7777777777777778, \"#fb9f3a\"], [0.8888888888888888, \"#fdca26\"], [1.0, \"#f0f921\"]], \"type\": \"heatmapgl\"}], \"histogram\": [{\"marker\": {\"colorbar\": {\"outlinewidth\": 0, \"ticks\": \"\"}}, \"type\": \"histogram\"}], \"histogram2d\": [{\"colorbar\": {\"outlinewidth\": 0, \"ticks\": \"\"}, \"colorscale\": [[0.0, \"#0d0887\"], [0.1111111111111111, \"#46039f\"], [0.2222222222222222, \"#7201a8\"], [0.3333333333333333, \"#9c179e\"], [0.4444444444444444, \"#bd3786\"], [0.5555555555555556, \"#d8576b\"], [0.6666666666666666, \"#ed7953\"], [0.7777777777777778, \"#fb9f3a\"], [0.8888888888888888, \"#fdca26\"], [1.0, \"#f0f921\"]], \"type\": \"histogram2d\"}], \"histogram2dcontour\": [{\"colorbar\": {\"outlinewidth\": 0, \"ticks\": \"\"}, \"colorscale\": [[0.0, \"#0d0887\"], [0.1111111111111111, \"#46039f\"], [0.2222222222222222, \"#7201a8\"], [0.3333333333333333, \"#9c179e\"], [0.4444444444444444, \"#bd3786\"], [0.5555555555555556, \"#d8576b\"], [0.6666666666666666, \"#ed7953\"], [0.7777777777777778, \"#fb9f3a\"], [0.8888888888888888, \"#fdca26\"], [1.0, \"#f0f921\"]], \"type\": \"histogram2dcontour\"}], \"mesh3d\": [{\"colorbar\": {\"outlinewidth\": 0, \"ticks\": \"\"}, \"type\": \"mesh3d\"}], \"parcoords\": [{\"line\": {\"colorbar\": {\"outlinewidth\": 0, \"ticks\": \"\"}}, \"type\": \"parcoords\"}], \"pie\": [{\"automargin\": true, \"type\": \"pie\"}], \"scatter\": [{\"marker\": {\"colorbar\": {\"outlinewidth\": 0, \"ticks\": \"\"}}, \"type\": \"scatter\"}], \"scatter3d\": [{\"line\": {\"colorbar\": {\"outlinewidth\": 0, \"ticks\": \"\"}}, \"marker\": {\"colorbar\": {\"outlinewidth\": 0, \"ticks\": \"\"}}, \"type\": \"scatter3d\"}], \"scattercarpet\": [{\"marker\": {\"colorbar\": {\"outlinewidth\": 0, \"ticks\": \"\"}}, \"type\": \"scattercarpet\"}], \"scattergeo\": [{\"marker\": {\"colorbar\": {\"outlinewidth\": 0, \"ticks\": \"\"}}, \"type\": \"scattergeo\"}], \"scattergl\": [{\"marker\": {\"colorbar\": {\"outlinewidth\": 0, \"ticks\": \"\"}}, \"type\": \"scattergl\"}], \"scattermapbox\": [{\"marker\": {\"colorbar\": {\"outlinewidth\": 0, \"ticks\": \"\"}}, \"type\": \"scattermapbox\"}], \"scatterpolar\": [{\"marker\": {\"colorbar\": {\"outlinewidth\": 0, \"ticks\": \"\"}}, \"type\": \"scatterpolar\"}], \"scatterpolargl\": [{\"marker\": {\"colorbar\": {\"outlinewidth\": 0, \"ticks\": \"\"}}, \"type\": \"scatterpolargl\"}], \"scatterternary\": [{\"marker\": {\"colorbar\": {\"outlinewidth\": 0, \"ticks\": \"\"}}, \"type\": \"scatterternary\"}], \"surface\": [{\"colorbar\": {\"outlinewidth\": 0, \"ticks\": \"\"}, \"colorscale\": [[0.0, \"#0d0887\"], [0.1111111111111111, \"#46039f\"], [0.2222222222222222, \"#7201a8\"], [0.3333333333333333, \"#9c179e\"], [0.4444444444444444, \"#bd3786\"], [0.5555555555555556, \"#d8576b\"], [0.6666666666666666, \"#ed7953\"], [0.7777777777777778, \"#fb9f3a\"], [0.8888888888888888, \"#fdca26\"], [1.0, \"#f0f921\"]], \"type\": \"surface\"}], \"table\": [{\"cells\": {\"fill\": {\"color\": \"#EBF0F8\"}, \"line\": {\"color\": \"white\"}}, \"header\": {\"fill\": {\"color\": \"#C8D4E3\"}, \"line\": {\"color\": \"white\"}}, \"type\": \"table\"}]}, \"layout\": {\"annotationdefaults\": {\"arrowcolor\": \"#2a3f5f\", \"arrowhead\": 0, \"arrowwidth\": 1}, \"autotypenumbers\": \"strict\", \"coloraxis\": {\"colorbar\": {\"outlinewidth\": 0, \"ticks\": \"\"}}, \"colorscale\": {\"diverging\": [[0, \"#8e0152\"], [0.1, \"#c51b7d\"], [0.2, \"#de77ae\"], [0.3, \"#f1b6da\"], [0.4, \"#fde0ef\"], [0.5, \"#f7f7f7\"], [0.6, \"#e6f5d0\"], [0.7, \"#b8e186\"], [0.8, \"#7fbc41\"], [0.9, \"#4d9221\"], [1, \"#276419\"]], \"sequential\": [[0.0, \"#0d0887\"], [0.1111111111111111, \"#46039f\"], [0.2222222222222222, \"#7201a8\"], [0.3333333333333333, \"#9c179e\"], [0.4444444444444444, \"#bd3786\"], [0.5555555555555556, \"#d8576b\"], [0.6666666666666666, \"#ed7953\"], [0.7777777777777778, \"#fb9f3a\"], [0.8888888888888888, \"#fdca26\"], [1.0, \"#f0f921\"]], \"sequentialminus\": [[0.0, \"#0d0887\"], [0.1111111111111111, \"#46039f\"], [0.2222222222222222, \"#7201a8\"], [0.3333333333333333, \"#9c179e\"], [0.4444444444444444, \"#bd3786\"], [0.5555555555555556, \"#d8576b\"], [0.6666666666666666, \"#ed7953\"], [0.7777777777777778, \"#fb9f3a\"], [0.8888888888888888, \"#fdca26\"], [1.0, \"#f0f921\"]]}, \"colorway\": [\"#636efa\", \"#EF553B\", \"#00cc96\", \"#ab63fa\", \"#FFA15A\", \"#19d3f3\", \"#FF6692\", \"#B6E880\", \"#FF97FF\", \"#FECB52\"], \"font\": {\"color\": \"#2a3f5f\"}, \"geo\": {\"bgcolor\": \"white\", \"lakecolor\": \"white\", \"landcolor\": \"#E5ECF6\", \"showlakes\": true, \"showland\": true, \"subunitcolor\": \"white\"}, \"hoverlabel\": {\"align\": \"left\"}, \"hovermode\": \"closest\", \"mapbox\": {\"style\": \"light\"}, \"paper_bgcolor\": \"white\", \"plot_bgcolor\": \"#E5ECF6\", \"polar\": {\"angularaxis\": {\"gridcolor\": \"white\", \"linecolor\": \"white\", \"ticks\": \"\"}, \"bgcolor\": \"#E5ECF6\", \"radialaxis\": {\"gridcolor\": \"white\", \"linecolor\": \"white\", \"ticks\": \"\"}}, \"scene\": {\"xaxis\": {\"backgroundcolor\": \"#E5ECF6\", \"gridcolor\": \"white\", \"gridwidth\": 2, \"linecolor\": \"white\", \"showbackground\": true, \"ticks\": \"\", \"zerolinecolor\": \"white\"}, \"yaxis\": {\"backgroundcolor\": \"#E5ECF6\", \"gridcolor\": \"white\", \"gridwidth\": 2, \"linecolor\": \"white\", \"showbackground\": true, \"ticks\": \"\", \"zerolinecolor\": \"white\"}, \"zaxis\": {\"backgroundcolor\": \"#E5ECF6\", \"gridcolor\": \"white\", \"gridwidth\": 2, \"linecolor\": \"white\", \"showbackground\": true, \"ticks\": \"\", \"zerolinecolor\": \"white\"}}, \"shapedefaults\": {\"line\": {\"color\": \"#2a3f5f\"}}, \"ternary\": {\"aaxis\": {\"gridcolor\": \"white\", \"linecolor\": \"white\", \"ticks\": \"\"}, \"baxis\": {\"gridcolor\": \"white\", \"linecolor\": \"white\", \"ticks\": \"\"}, \"bgcolor\": \"#E5ECF6\", \"caxis\": {\"gridcolor\": \"white\", \"linecolor\": \"white\", \"ticks\": \"\"}}, \"title\": {\"x\": 0.05}, \"xaxis\": {\"automargin\": true, \"gridcolor\": \"white\", \"linecolor\": \"white\", \"ticks\": \"\", \"title\": {\"standoff\": 15}, \"zerolinecolor\": \"white\", \"zerolinewidth\": 2}, \"yaxis\": {\"automargin\": true, \"gridcolor\": \"white\", \"linecolor\": \"white\", \"ticks\": \"\", \"title\": {\"standoff\": 15}, \"zerolinecolor\": \"white\", \"zerolinewidth\": 2}}}, \"title\": {\"text\": \"Loss\"}, \"xaxis\": {\"anchor\": \"y\", \"domain\": [0.0, 1.0], \"title\": {\"text\": \"Iterations\"}}, \"yaxis\": {\"anchor\": \"x\", \"domain\": [0.0, 1.0], \"title\": {\"text\": \"Loss\"}}},                        {\"responsive\": true}                    ).then(function(){\n",
       "                            \n",
       "var gd = document.getElementById('5957526f-f8c4-464f-af3f-281949888449');\n",
       "var x = new MutationObserver(function (mutations, observer) {{\n",
       "        var display = window.getComputedStyle(gd).display;\n",
       "        if (!display || display === 'none') {{\n",
       "            console.log([gd, 'removed!']);\n",
       "            Plotly.purge(gd);\n",
       "            observer.disconnect();\n",
       "        }}\n",
       "}});\n",
       "\n",
       "// Listen for the removal of the full notebook cells\n",
       "var notebookContainer = gd.closest('#notebook-container');\n",
       "if (notebookContainer) {{\n",
       "    x.observe(notebookContainer, {childList: true});\n",
       "}}\n",
       "\n",
       "// Listen for the clearing of the current output cell\n",
       "var outputEl = gd.closest('.output');\n",
       "if (outputEl) {{\n",
       "    x.observe(outputEl, {childList: true});\n",
       "}}\n",
       "\n",
       "                        })                };                });            </script>        </div>"
      ]
     },
     "metadata": {},
     "output_type": "display_data"
    }
   ],
   "source": [
    "avgs = np.convolve(losses, np.ones(10), 'valid') / 10\n",
    "fig = make_subplots(rows=1, cols=1)\n",
    "fig.add_trace(go.Scatter(x=np.arange(len(avgs)), y=avgs, mode='lines', name=\"Error at x=0.1\"), row=1, col=1)\n",
    "fig.update_layout(\n",
    "    title=\"Loss\",\n",
    "    xaxis_title=\"Iterations\",\n",
    "    yaxis_title=\"Loss\",\n",
    "    font=dict(\n",
    "        family=\"Courier New, monospace\",\n",
    "        size=14\n",
    "    )\n",
    ")\n",
    "fig.show()"
   ]
  },
  {
   "cell_type": "code",
   "execution_count": 94,
   "id": "sorted-satellite",
   "metadata": {},
   "outputs": [],
   "source": [
    "from FBSDEs import FBSDESolver\n",
    "from pdes import FBSDE\n",
    "class BSB(FBSDE):\n",
    "    def __init__(self):\n",
    "        super().__init__()\n",
    "        r = 0.05\n",
    "        self.h = lambda X, Y, Z, t: r*(Y-torch.einsum(\"bi, bi -> b\", Z, X).unsqueeze(1))\n",
    "        \n",
    "        self.b = lambda X, t: 0.0*X\n",
    "        self.sigma = lambda X, t: 0.3*torch.diag_embed(X)\n",
    "        \n",
    "        self.terminal_condition = lambda X: torch.einsum(\"bi, bi-> b\", X, X).unsqueeze(1)\n",
    "        \n",
    "        self.var_dim = 2\n",
    "        self.terminal_time = 1     \n",
    "        self.init_sampling_func = lambda X: (X-0.5)*2\n",
    "        self.control_noise = 0.0"
   ]
  },
  {
   "cell_type": "code",
   "execution_count": 95,
   "id": "processed-corpus",
   "metadata": {},
   "outputs": [],
   "source": [
    "BSB_MODEL_CONFIG = {\n",
    "    \"batch_size\": 128,\n",
    "    \"num_discretisation_steps\": 30,\n",
    "    \"hidden_dim\": 64,\n",
    "    \"learning_rate\": 5e-3,\n",
    "    \"lr_decay\": 0.99,\n",
    "    \"network_type\": \"MINI\",\n",
    "    \"optimiser\": \"Adam\"\n",
    "}\n",
    "eq_sim = BSB()\n",
    "solver_sim = FBSDESolver(BSB_MODEL_CONFIG, eq_sim)"
   ]
  },
  {
   "cell_type": "code",
   "execution_count": 96,
   "id": "conscious-cursor",
   "metadata": {},
   "outputs": [],
   "source": [
    "num_samples = 2\n",
    "def J_sol(X, t):\n",
    "    r = 0.05\n",
    "    sigma = 0.3\n",
    "    return np.exp((r + sigma**2)*(1 - t))*np.sum(X**2, axis=-1, keepdims=True)\n",
    "Xs, _, ts = solver_sim.simulate_processes(num_samples)\n",
    "Y_sol = J_sol(Xs, ts)"
   ]
  },
  {
   "cell_type": "code",
   "execution_count": 97,
   "id": "funky-deficit",
   "metadata": {},
   "outputs": [],
   "source": [
    "Y_preds = np.array([[solver.u(*x_b) for x_b in x] for x in Xs])"
   ]
  },
  {
   "cell_type": "code",
   "execution_count": 98,
   "id": "considerable-thursday",
   "metadata": {},
   "outputs": [
    {
     "data": {
      "application/vnd.plotly.v1+json": {
       "config": {
        "plotlyServerURL": "https://plot.ly"
       },
       "data": [
        {
         "line": {
          "color": "#FFe476"
         },
         "mode": "lines",
         "name": "Prediction",
         "type": "scatter",
         "x": [
          0,
          0.03333333507180214,
          0.06666667014360428,
          0.10000000894069672,
          0.13333334028720856,
          0.1666666716337204,
          0.20000001788139343,
          0.23333334922790527,
          0.2666666805744171,
          0.30000001192092896,
          0.3333333432674408,
          0.36666667461395264,
          0.40000003576278687,
          0.4333333671092987,
          0.46666669845581055,
          0.5,
          0.5333333611488342,
          0.5666667222976685,
          0.6000000238418579,
          0.6333333849906921,
          0.6666666865348816,
          0.7000000476837158,
          0.7333333492279053,
          0.7666667103767395,
          0.8000000715255737,
          0.8333333730697632,
          0.8666667342185974,
          0.9000000357627869,
          0.9333333969116211,
          0.9666666984558105
         ],
         "xaxis": "x",
         "y": [
          0.3887087106704712,
          0.3666592240333557,
          0.43639111518859863,
          0.4956176280975342,
          0.44682398438453674,
          0.39070308208465576,
          0.4254975914955139,
          0.4109390079975128,
          0.4529416561126709,
          0.533224880695343,
          0.6099408268928528,
          0.646477222442627,
          0.5793399810791016,
          0.4770829379558563,
          0.5219666957855225,
          0.506450891494751,
          0.47572290897369385,
          0.45821529626846313,
          0.5669600367546082,
          0.639498233795166,
          0.6533280611038208,
          0.6200492978096008,
          0.5958640575408936,
          0.5563070774078369,
          0.5376142263412476,
          0.5270333290100098,
          0.48208969831466675,
          0.5440815687179565,
          0.5811659693717957,
          0.4621988534927368
         ],
         "yaxis": "y"
        },
        {
         "line": {
          "color": "#00e476"
         },
         "mode": "lines",
         "name": "Ground truth",
         "type": "scatter",
         "x": [
          0,
          0.03333333507180214,
          0.06666667014360428,
          0.10000000894069672,
          0.13333334028720856,
          0.1666666716337204,
          0.20000001788139343,
          0.23333334922790527,
          0.2666666805744171,
          0.30000001192092896,
          0.3333333432674408,
          0.36666667461395264,
          0.40000003576278687,
          0.4333333671092987,
          0.46666669845581055,
          0.5,
          0.5333333611488342,
          0.5666667222976685,
          0.6000000238418579,
          0.6333333849906921,
          0.6666666865348816,
          0.7000000476837158,
          0.7333333492279053,
          0.7666667103767395,
          0.8000000715255737,
          0.8333333730697632,
          0.8666667342185974,
          0.9000000357627869,
          0.9333333969116211,
          0.9666666984558105
         ],
         "xaxis": "x",
         "y": [
          0.19002684936213782,
          0.17760969892828535,
          0.21241730918333102,
          0.24336335359328434,
          0.21694962457878192,
          0.18636357665993453,
          0.20364770265516807,
          0.19562643387236903,
          0.21589532190010013,
          0.2564544648936373,
          0.29787043036384686,
          0.3184471206755099,
          0.2818114474047419,
          0.22694561245819928,
          0.24833244618508832,
          0.23919738025740345,
          0.22287710676419856,
          0.21250486261458548,
          0.26677573282692624,
          0.30350133864430406,
          0.31055475727681636,
          0.29094078500493403,
          0.27651699920244016,
          0.2542942335512129,
          0.2439858598985892,
          0.2369632715950077,
          0.21304426176463157,
          0.24232682508717868,
          0.26035329608728663,
          0.20270860607953226
         ],
         "yaxis": "y"
        },
        {
         "line": {
          "color": "#FFe476"
         },
         "mode": "lines",
         "showlegend": false,
         "type": "scatter",
         "x": [
          0,
          0.03333333507180214,
          0.06666667014360428,
          0.10000000894069672,
          0.13333334028720856,
          0.1666666716337204,
          0.20000001788139343,
          0.23333334922790527,
          0.2666666805744171,
          0.30000001192092896,
          0.3333333432674408,
          0.36666667461395264,
          0.40000003576278687,
          0.4333333671092987,
          0.46666669845581055,
          0.5,
          0.5333333611488342,
          0.5666667222976685,
          0.6000000238418579,
          0.6333333849906921,
          0.6666666865348816,
          0.7000000476837158,
          0.7333333492279053,
          0.7666667103767395,
          0.8000000715255737,
          0.8333333730697632,
          0.8666667342185974,
          0.9000000357627869,
          0.9333333969116211,
          0.9666666984558105
         ],
         "xaxis": "x",
         "y": [
          0.3887087106704712,
          0.3307422399520874,
          0.3616562485694885,
          0.3971361517906189,
          0.4137791395187378,
          0.3401881456375122,
          0.29653456807136536,
          0.3064815104007721,
          0.29313862323760986,
          0.24410000443458557,
          0.2244948446750641,
          0.21281138062477112,
          0.21988044679164886,
          0.2324879914522171,
          0.2748985290527344,
          0.25997334718704224,
          0.267514169216156,
          0.2664170563220978,
          0.27434372901916504,
          0.2903694808483124,
          0.29654648900032043,
          0.3060903549194336,
          0.30604904890060425,
          0.3525841534137726,
          0.3789091110229492,
          0.4035634994506836,
          0.42968299984931946,
          0.45087361335754395,
          0.5086725354194641,
          0.4677633047103882
         ],
         "yaxis": "y"
        },
        {
         "line": {
          "color": "#00e476"
         },
         "mode": "lines",
         "showlegend": false,
         "type": "scatter",
         "x": [
          0,
          0.03333333507180214,
          0.06666667014360428,
          0.10000000894069672,
          0.13333334028720856,
          0.1666666716337204,
          0.20000001788139343,
          0.23333334922790527,
          0.2666666805744171,
          0.30000001192092896,
          0.3333333432674408,
          0.36666667461395264,
          0.40000003576278687,
          0.4333333671092987,
          0.46666669845581055,
          0.5,
          0.5333333611488342,
          0.5666667222976685,
          0.6000000238418579,
          0.6333333849906921,
          0.6666666865348816,
          0.7000000476837158,
          0.7333333492279053,
          0.7666667103767395,
          0.8000000715255737,
          0.8333333730697632,
          0.8666667342185974,
          0.9000000357627869,
          0.9333333969116211,
          0.9666666984558105
         ],
         "xaxis": "x",
         "y": [
          0.19002684936213782,
          0.15992521320266176,
          0.1748035543880204,
          0.19177345539804944,
          0.20040702089115817,
          0.16178187258998283,
          0.140560335936294,
          0.14377948116829734,
          0.13627787180466638,
          0.11159544175286762,
          0.10151372798213575,
          0.09654246297316894,
          0.09903193539406757,
          0.1033087274993368,
          0.1218970562042557,
          0.11465993869018992,
          0.11770264752248515,
          0.11694055501345396,
          0.11940595475594239,
          0.1265283422287381,
          0.12868572344198817,
          0.13192088498977275,
          0.1312581385058164,
          0.15167107040275865,
          0.16337633767642862,
          0.17342422498724763,
          0.1863959975715783,
          0.19543498029745882,
          0.22265860507176538,
          0.2008246275169195
         ],
         "yaxis": "y"
        }
       ],
       "layout": {
        "font": {
         "family": "Courier New, monospace",
         "size": 14
        },
        "template": {
         "data": {
          "bar": [
           {
            "error_x": {
             "color": "#2a3f5f"
            },
            "error_y": {
             "color": "#2a3f5f"
            },
            "marker": {
             "line": {
              "color": "#E5ECF6",
              "width": 0.5
             }
            },
            "type": "bar"
           }
          ],
          "barpolar": [
           {
            "marker": {
             "line": {
              "color": "#E5ECF6",
              "width": 0.5
             }
            },
            "type": "barpolar"
           }
          ],
          "carpet": [
           {
            "aaxis": {
             "endlinecolor": "#2a3f5f",
             "gridcolor": "white",
             "linecolor": "white",
             "minorgridcolor": "white",
             "startlinecolor": "#2a3f5f"
            },
            "baxis": {
             "endlinecolor": "#2a3f5f",
             "gridcolor": "white",
             "linecolor": "white",
             "minorgridcolor": "white",
             "startlinecolor": "#2a3f5f"
            },
            "type": "carpet"
           }
          ],
          "choropleth": [
           {
            "colorbar": {
             "outlinewidth": 0,
             "ticks": ""
            },
            "type": "choropleth"
           }
          ],
          "contour": [
           {
            "colorbar": {
             "outlinewidth": 0,
             "ticks": ""
            },
            "colorscale": [
             [
              0,
              "#0d0887"
             ],
             [
              0.1111111111111111,
              "#46039f"
             ],
             [
              0.2222222222222222,
              "#7201a8"
             ],
             [
              0.3333333333333333,
              "#9c179e"
             ],
             [
              0.4444444444444444,
              "#bd3786"
             ],
             [
              0.5555555555555556,
              "#d8576b"
             ],
             [
              0.6666666666666666,
              "#ed7953"
             ],
             [
              0.7777777777777778,
              "#fb9f3a"
             ],
             [
              0.8888888888888888,
              "#fdca26"
             ],
             [
              1,
              "#f0f921"
             ]
            ],
            "type": "contour"
           }
          ],
          "contourcarpet": [
           {
            "colorbar": {
             "outlinewidth": 0,
             "ticks": ""
            },
            "type": "contourcarpet"
           }
          ],
          "heatmap": [
           {
            "colorbar": {
             "outlinewidth": 0,
             "ticks": ""
            },
            "colorscale": [
             [
              0,
              "#0d0887"
             ],
             [
              0.1111111111111111,
              "#46039f"
             ],
             [
              0.2222222222222222,
              "#7201a8"
             ],
             [
              0.3333333333333333,
              "#9c179e"
             ],
             [
              0.4444444444444444,
              "#bd3786"
             ],
             [
              0.5555555555555556,
              "#d8576b"
             ],
             [
              0.6666666666666666,
              "#ed7953"
             ],
             [
              0.7777777777777778,
              "#fb9f3a"
             ],
             [
              0.8888888888888888,
              "#fdca26"
             ],
             [
              1,
              "#f0f921"
             ]
            ],
            "type": "heatmap"
           }
          ],
          "heatmapgl": [
           {
            "colorbar": {
             "outlinewidth": 0,
             "ticks": ""
            },
            "colorscale": [
             [
              0,
              "#0d0887"
             ],
             [
              0.1111111111111111,
              "#46039f"
             ],
             [
              0.2222222222222222,
              "#7201a8"
             ],
             [
              0.3333333333333333,
              "#9c179e"
             ],
             [
              0.4444444444444444,
              "#bd3786"
             ],
             [
              0.5555555555555556,
              "#d8576b"
             ],
             [
              0.6666666666666666,
              "#ed7953"
             ],
             [
              0.7777777777777778,
              "#fb9f3a"
             ],
             [
              0.8888888888888888,
              "#fdca26"
             ],
             [
              1,
              "#f0f921"
             ]
            ],
            "type": "heatmapgl"
           }
          ],
          "histogram": [
           {
            "marker": {
             "colorbar": {
              "outlinewidth": 0,
              "ticks": ""
             }
            },
            "type": "histogram"
           }
          ],
          "histogram2d": [
           {
            "colorbar": {
             "outlinewidth": 0,
             "ticks": ""
            },
            "colorscale": [
             [
              0,
              "#0d0887"
             ],
             [
              0.1111111111111111,
              "#46039f"
             ],
             [
              0.2222222222222222,
              "#7201a8"
             ],
             [
              0.3333333333333333,
              "#9c179e"
             ],
             [
              0.4444444444444444,
              "#bd3786"
             ],
             [
              0.5555555555555556,
              "#d8576b"
             ],
             [
              0.6666666666666666,
              "#ed7953"
             ],
             [
              0.7777777777777778,
              "#fb9f3a"
             ],
             [
              0.8888888888888888,
              "#fdca26"
             ],
             [
              1,
              "#f0f921"
             ]
            ],
            "type": "histogram2d"
           }
          ],
          "histogram2dcontour": [
           {
            "colorbar": {
             "outlinewidth": 0,
             "ticks": ""
            },
            "colorscale": [
             [
              0,
              "#0d0887"
             ],
             [
              0.1111111111111111,
              "#46039f"
             ],
             [
              0.2222222222222222,
              "#7201a8"
             ],
             [
              0.3333333333333333,
              "#9c179e"
             ],
             [
              0.4444444444444444,
              "#bd3786"
             ],
             [
              0.5555555555555556,
              "#d8576b"
             ],
             [
              0.6666666666666666,
              "#ed7953"
             ],
             [
              0.7777777777777778,
              "#fb9f3a"
             ],
             [
              0.8888888888888888,
              "#fdca26"
             ],
             [
              1,
              "#f0f921"
             ]
            ],
            "type": "histogram2dcontour"
           }
          ],
          "mesh3d": [
           {
            "colorbar": {
             "outlinewidth": 0,
             "ticks": ""
            },
            "type": "mesh3d"
           }
          ],
          "parcoords": [
           {
            "line": {
             "colorbar": {
              "outlinewidth": 0,
              "ticks": ""
             }
            },
            "type": "parcoords"
           }
          ],
          "pie": [
           {
            "automargin": true,
            "type": "pie"
           }
          ],
          "scatter": [
           {
            "marker": {
             "colorbar": {
              "outlinewidth": 0,
              "ticks": ""
             }
            },
            "type": "scatter"
           }
          ],
          "scatter3d": [
           {
            "line": {
             "colorbar": {
              "outlinewidth": 0,
              "ticks": ""
             }
            },
            "marker": {
             "colorbar": {
              "outlinewidth": 0,
              "ticks": ""
             }
            },
            "type": "scatter3d"
           }
          ],
          "scattercarpet": [
           {
            "marker": {
             "colorbar": {
              "outlinewidth": 0,
              "ticks": ""
             }
            },
            "type": "scattercarpet"
           }
          ],
          "scattergeo": [
           {
            "marker": {
             "colorbar": {
              "outlinewidth": 0,
              "ticks": ""
             }
            },
            "type": "scattergeo"
           }
          ],
          "scattergl": [
           {
            "marker": {
             "colorbar": {
              "outlinewidth": 0,
              "ticks": ""
             }
            },
            "type": "scattergl"
           }
          ],
          "scattermapbox": [
           {
            "marker": {
             "colorbar": {
              "outlinewidth": 0,
              "ticks": ""
             }
            },
            "type": "scattermapbox"
           }
          ],
          "scatterpolar": [
           {
            "marker": {
             "colorbar": {
              "outlinewidth": 0,
              "ticks": ""
             }
            },
            "type": "scatterpolar"
           }
          ],
          "scatterpolargl": [
           {
            "marker": {
             "colorbar": {
              "outlinewidth": 0,
              "ticks": ""
             }
            },
            "type": "scatterpolargl"
           }
          ],
          "scatterternary": [
           {
            "marker": {
             "colorbar": {
              "outlinewidth": 0,
              "ticks": ""
             }
            },
            "type": "scatterternary"
           }
          ],
          "surface": [
           {
            "colorbar": {
             "outlinewidth": 0,
             "ticks": ""
            },
            "colorscale": [
             [
              0,
              "#0d0887"
             ],
             [
              0.1111111111111111,
              "#46039f"
             ],
             [
              0.2222222222222222,
              "#7201a8"
             ],
             [
              0.3333333333333333,
              "#9c179e"
             ],
             [
              0.4444444444444444,
              "#bd3786"
             ],
             [
              0.5555555555555556,
              "#d8576b"
             ],
             [
              0.6666666666666666,
              "#ed7953"
             ],
             [
              0.7777777777777778,
              "#fb9f3a"
             ],
             [
              0.8888888888888888,
              "#fdca26"
             ],
             [
              1,
              "#f0f921"
             ]
            ],
            "type": "surface"
           }
          ],
          "table": [
           {
            "cells": {
             "fill": {
              "color": "#EBF0F8"
             },
             "line": {
              "color": "white"
             }
            },
            "header": {
             "fill": {
              "color": "#C8D4E3"
             },
             "line": {
              "color": "white"
             }
            },
            "type": "table"
           }
          ]
         },
         "layout": {
          "annotationdefaults": {
           "arrowcolor": "#2a3f5f",
           "arrowhead": 0,
           "arrowwidth": 1
          },
          "autotypenumbers": "strict",
          "coloraxis": {
           "colorbar": {
            "outlinewidth": 0,
            "ticks": ""
           }
          },
          "colorscale": {
           "diverging": [
            [
             0,
             "#8e0152"
            ],
            [
             0.1,
             "#c51b7d"
            ],
            [
             0.2,
             "#de77ae"
            ],
            [
             0.3,
             "#f1b6da"
            ],
            [
             0.4,
             "#fde0ef"
            ],
            [
             0.5,
             "#f7f7f7"
            ],
            [
             0.6,
             "#e6f5d0"
            ],
            [
             0.7,
             "#b8e186"
            ],
            [
             0.8,
             "#7fbc41"
            ],
            [
             0.9,
             "#4d9221"
            ],
            [
             1,
             "#276419"
            ]
           ],
           "sequential": [
            [
             0,
             "#0d0887"
            ],
            [
             0.1111111111111111,
             "#46039f"
            ],
            [
             0.2222222222222222,
             "#7201a8"
            ],
            [
             0.3333333333333333,
             "#9c179e"
            ],
            [
             0.4444444444444444,
             "#bd3786"
            ],
            [
             0.5555555555555556,
             "#d8576b"
            ],
            [
             0.6666666666666666,
             "#ed7953"
            ],
            [
             0.7777777777777778,
             "#fb9f3a"
            ],
            [
             0.8888888888888888,
             "#fdca26"
            ],
            [
             1,
             "#f0f921"
            ]
           ],
           "sequentialminus": [
            [
             0,
             "#0d0887"
            ],
            [
             0.1111111111111111,
             "#46039f"
            ],
            [
             0.2222222222222222,
             "#7201a8"
            ],
            [
             0.3333333333333333,
             "#9c179e"
            ],
            [
             0.4444444444444444,
             "#bd3786"
            ],
            [
             0.5555555555555556,
             "#d8576b"
            ],
            [
             0.6666666666666666,
             "#ed7953"
            ],
            [
             0.7777777777777778,
             "#fb9f3a"
            ],
            [
             0.8888888888888888,
             "#fdca26"
            ],
            [
             1,
             "#f0f921"
            ]
           ]
          },
          "colorway": [
           "#636efa",
           "#EF553B",
           "#00cc96",
           "#ab63fa",
           "#FFA15A",
           "#19d3f3",
           "#FF6692",
           "#B6E880",
           "#FF97FF",
           "#FECB52"
          ],
          "font": {
           "color": "#2a3f5f"
          },
          "geo": {
           "bgcolor": "white",
           "lakecolor": "white",
           "landcolor": "#E5ECF6",
           "showlakes": true,
           "showland": true,
           "subunitcolor": "white"
          },
          "hoverlabel": {
           "align": "left"
          },
          "hovermode": "closest",
          "mapbox": {
           "style": "light"
          },
          "paper_bgcolor": "white",
          "plot_bgcolor": "#E5ECF6",
          "polar": {
           "angularaxis": {
            "gridcolor": "white",
            "linecolor": "white",
            "ticks": ""
           },
           "bgcolor": "#E5ECF6",
           "radialaxis": {
            "gridcolor": "white",
            "linecolor": "white",
            "ticks": ""
           }
          },
          "scene": {
           "xaxis": {
            "backgroundcolor": "#E5ECF6",
            "gridcolor": "white",
            "gridwidth": 2,
            "linecolor": "white",
            "showbackground": true,
            "ticks": "",
            "zerolinecolor": "white"
           },
           "yaxis": {
            "backgroundcolor": "#E5ECF6",
            "gridcolor": "white",
            "gridwidth": 2,
            "linecolor": "white",
            "showbackground": true,
            "ticks": "",
            "zerolinecolor": "white"
           },
           "zaxis": {
            "backgroundcolor": "#E5ECF6",
            "gridcolor": "white",
            "gridwidth": 2,
            "linecolor": "white",
            "showbackground": true,
            "ticks": "",
            "zerolinecolor": "white"
           }
          },
          "shapedefaults": {
           "line": {
            "color": "#2a3f5f"
           }
          },
          "ternary": {
           "aaxis": {
            "gridcolor": "white",
            "linecolor": "white",
            "ticks": ""
           },
           "baxis": {
            "gridcolor": "white",
            "linecolor": "white",
            "ticks": ""
           },
           "bgcolor": "#E5ECF6",
           "caxis": {
            "gridcolor": "white",
            "linecolor": "white",
            "ticks": ""
           }
          },
          "title": {
           "x": 0.05
          },
          "xaxis": {
           "automargin": true,
           "gridcolor": "white",
           "linecolor": "white",
           "ticks": "",
           "title": {
            "standoff": 15
           },
           "zerolinecolor": "white",
           "zerolinewidth": 2
          },
          "yaxis": {
           "automargin": true,
           "gridcolor": "white",
           "linecolor": "white",
           "ticks": "",
           "title": {
            "standoff": 15
           },
           "zerolinecolor": "white",
           "zerolinewidth": 2
          }
         }
        },
        "title": {
         "text": "Loss"
        },
        "xaxis": {
         "anchor": "y",
         "domain": [
          0,
          1
         ],
         "title": {
          "text": "t"
         }
        },
        "yaxis": {
         "anchor": "x",
         "domain": [
          0,
          1
         ],
         "title": {
          "text": "J"
         }
        }
       }
      },
      "text/html": [
       "<div>                            <div id=\"147ef779-6709-4591-9bf1-91b7b640eebc\" class=\"plotly-graph-div\" style=\"height:525px; width:100%;\"></div>            <script type=\"text/javascript\">                require([\"plotly\"], function(Plotly) {                    window.PLOTLYENV=window.PLOTLYENV || {};                                    if (document.getElementById(\"147ef779-6709-4591-9bf1-91b7b640eebc\")) {                    Plotly.newPlot(                        \"147ef779-6709-4591-9bf1-91b7b640eebc\",                        [{\"line\": {\"color\": \"#FFe476\"}, \"mode\": \"lines\", \"name\": \"Prediction\", \"type\": \"scatter\", \"x\": [0.0, 0.03333333507180214, 0.06666667014360428, 0.10000000894069672, 0.13333334028720856, 0.1666666716337204, 0.20000001788139343, 0.23333334922790527, 0.2666666805744171, 0.30000001192092896, 0.3333333432674408, 0.36666667461395264, 0.40000003576278687, 0.4333333671092987, 0.46666669845581055, 0.5, 0.5333333611488342, 0.5666667222976685, 0.6000000238418579, 0.6333333849906921, 0.6666666865348816, 0.7000000476837158, 0.7333333492279053, 0.7666667103767395, 0.8000000715255737, 0.8333333730697632, 0.8666667342185974, 0.9000000357627869, 0.9333333969116211, 0.9666666984558105], \"xaxis\": \"x\", \"y\": [0.3887087106704712, 0.3666592240333557, 0.43639111518859863, 0.4956176280975342, 0.44682398438453674, 0.39070308208465576, 0.4254975914955139, 0.4109390079975128, 0.4529416561126709, 0.533224880695343, 0.6099408268928528, 0.646477222442627, 0.5793399810791016, 0.4770829379558563, 0.5219666957855225, 0.506450891494751, 0.47572290897369385, 0.45821529626846313, 0.5669600367546082, 0.639498233795166, 0.6533280611038208, 0.6200492978096008, 0.5958640575408936, 0.5563070774078369, 0.5376142263412476, 0.5270333290100098, 0.48208969831466675, 0.5440815687179565, 0.5811659693717957, 0.4621988534927368], \"yaxis\": \"y\"}, {\"line\": {\"color\": \"#00e476\"}, \"mode\": \"lines\", \"name\": \"Ground truth\", \"type\": \"scatter\", \"x\": [0.0, 0.03333333507180214, 0.06666667014360428, 0.10000000894069672, 0.13333334028720856, 0.1666666716337204, 0.20000001788139343, 0.23333334922790527, 0.2666666805744171, 0.30000001192092896, 0.3333333432674408, 0.36666667461395264, 0.40000003576278687, 0.4333333671092987, 0.46666669845581055, 0.5, 0.5333333611488342, 0.5666667222976685, 0.6000000238418579, 0.6333333849906921, 0.6666666865348816, 0.7000000476837158, 0.7333333492279053, 0.7666667103767395, 0.8000000715255737, 0.8333333730697632, 0.8666667342185974, 0.9000000357627869, 0.9333333969116211, 0.9666666984558105], \"xaxis\": \"x\", \"y\": [0.19002684936213782, 0.17760969892828535, 0.21241730918333102, 0.24336335359328434, 0.21694962457878192, 0.18636357665993453, 0.20364770265516807, 0.19562643387236903, 0.21589532190010013, 0.2564544648936373, 0.29787043036384686, 0.3184471206755099, 0.2818114474047419, 0.22694561245819928, 0.24833244618508832, 0.23919738025740345, 0.22287710676419856, 0.21250486261458548, 0.26677573282692624, 0.30350133864430406, 0.31055475727681636, 0.29094078500493403, 0.27651699920244016, 0.2542942335512129, 0.2439858598985892, 0.2369632715950077, 0.21304426176463157, 0.24232682508717868, 0.26035329608728663, 0.20270860607953226], \"yaxis\": \"y\"}, {\"line\": {\"color\": \"#FFe476\"}, \"mode\": \"lines\", \"showlegend\": false, \"type\": \"scatter\", \"x\": [0.0, 0.03333333507180214, 0.06666667014360428, 0.10000000894069672, 0.13333334028720856, 0.1666666716337204, 0.20000001788139343, 0.23333334922790527, 0.2666666805744171, 0.30000001192092896, 0.3333333432674408, 0.36666667461395264, 0.40000003576278687, 0.4333333671092987, 0.46666669845581055, 0.5, 0.5333333611488342, 0.5666667222976685, 0.6000000238418579, 0.6333333849906921, 0.6666666865348816, 0.7000000476837158, 0.7333333492279053, 0.7666667103767395, 0.8000000715255737, 0.8333333730697632, 0.8666667342185974, 0.9000000357627869, 0.9333333969116211, 0.9666666984558105], \"xaxis\": \"x\", \"y\": [0.3887087106704712, 0.3307422399520874, 0.3616562485694885, 0.3971361517906189, 0.4137791395187378, 0.3401881456375122, 0.29653456807136536, 0.3064815104007721, 0.29313862323760986, 0.24410000443458557, 0.2244948446750641, 0.21281138062477112, 0.21988044679164886, 0.2324879914522171, 0.2748985290527344, 0.25997334718704224, 0.267514169216156, 0.2664170563220978, 0.27434372901916504, 0.2903694808483124, 0.29654648900032043, 0.3060903549194336, 0.30604904890060425, 0.3525841534137726, 0.3789091110229492, 0.4035634994506836, 0.42968299984931946, 0.45087361335754395, 0.5086725354194641, 0.4677633047103882], \"yaxis\": \"y\"}, {\"line\": {\"color\": \"#00e476\"}, \"mode\": \"lines\", \"showlegend\": false, \"type\": \"scatter\", \"x\": [0.0, 0.03333333507180214, 0.06666667014360428, 0.10000000894069672, 0.13333334028720856, 0.1666666716337204, 0.20000001788139343, 0.23333334922790527, 0.2666666805744171, 0.30000001192092896, 0.3333333432674408, 0.36666667461395264, 0.40000003576278687, 0.4333333671092987, 0.46666669845581055, 0.5, 0.5333333611488342, 0.5666667222976685, 0.6000000238418579, 0.6333333849906921, 0.6666666865348816, 0.7000000476837158, 0.7333333492279053, 0.7666667103767395, 0.8000000715255737, 0.8333333730697632, 0.8666667342185974, 0.9000000357627869, 0.9333333969116211, 0.9666666984558105], \"xaxis\": \"x\", \"y\": [0.19002684936213782, 0.15992521320266176, 0.1748035543880204, 0.19177345539804944, 0.20040702089115817, 0.16178187258998283, 0.140560335936294, 0.14377948116829734, 0.13627787180466638, 0.11159544175286762, 0.10151372798213575, 0.09654246297316894, 0.09903193539406757, 0.1033087274993368, 0.1218970562042557, 0.11465993869018992, 0.11770264752248515, 0.11694055501345396, 0.11940595475594239, 0.1265283422287381, 0.12868572344198817, 0.13192088498977275, 0.1312581385058164, 0.15167107040275865, 0.16337633767642862, 0.17342422498724763, 0.1863959975715783, 0.19543498029745882, 0.22265860507176538, 0.2008246275169195], \"yaxis\": \"y\"}],                        {\"font\": {\"family\": \"Courier New, monospace\", \"size\": 14}, \"template\": {\"data\": {\"bar\": [{\"error_x\": {\"color\": \"#2a3f5f\"}, \"error_y\": {\"color\": \"#2a3f5f\"}, \"marker\": {\"line\": {\"color\": \"#E5ECF6\", \"width\": 0.5}}, \"type\": \"bar\"}], \"barpolar\": [{\"marker\": {\"line\": {\"color\": \"#E5ECF6\", \"width\": 0.5}}, \"type\": \"barpolar\"}], \"carpet\": [{\"aaxis\": {\"endlinecolor\": \"#2a3f5f\", \"gridcolor\": \"white\", \"linecolor\": \"white\", \"minorgridcolor\": \"white\", \"startlinecolor\": \"#2a3f5f\"}, \"baxis\": {\"endlinecolor\": \"#2a3f5f\", \"gridcolor\": \"white\", \"linecolor\": \"white\", \"minorgridcolor\": \"white\", \"startlinecolor\": \"#2a3f5f\"}, \"type\": \"carpet\"}], \"choropleth\": [{\"colorbar\": {\"outlinewidth\": 0, \"ticks\": \"\"}, \"type\": \"choropleth\"}], \"contour\": [{\"colorbar\": {\"outlinewidth\": 0, \"ticks\": \"\"}, \"colorscale\": [[0.0, \"#0d0887\"], [0.1111111111111111, \"#46039f\"], [0.2222222222222222, \"#7201a8\"], [0.3333333333333333, \"#9c179e\"], [0.4444444444444444, \"#bd3786\"], [0.5555555555555556, \"#d8576b\"], [0.6666666666666666, \"#ed7953\"], [0.7777777777777778, \"#fb9f3a\"], [0.8888888888888888, \"#fdca26\"], [1.0, \"#f0f921\"]], \"type\": \"contour\"}], \"contourcarpet\": [{\"colorbar\": {\"outlinewidth\": 0, \"ticks\": \"\"}, \"type\": \"contourcarpet\"}], \"heatmap\": [{\"colorbar\": {\"outlinewidth\": 0, \"ticks\": \"\"}, \"colorscale\": [[0.0, \"#0d0887\"], [0.1111111111111111, \"#46039f\"], [0.2222222222222222, \"#7201a8\"], [0.3333333333333333, \"#9c179e\"], [0.4444444444444444, \"#bd3786\"], [0.5555555555555556, \"#d8576b\"], [0.6666666666666666, \"#ed7953\"], [0.7777777777777778, \"#fb9f3a\"], [0.8888888888888888, \"#fdca26\"], [1.0, \"#f0f921\"]], \"type\": \"heatmap\"}], \"heatmapgl\": [{\"colorbar\": {\"outlinewidth\": 0, \"ticks\": \"\"}, \"colorscale\": [[0.0, \"#0d0887\"], [0.1111111111111111, \"#46039f\"], [0.2222222222222222, \"#7201a8\"], [0.3333333333333333, \"#9c179e\"], [0.4444444444444444, \"#bd3786\"], [0.5555555555555556, \"#d8576b\"], [0.6666666666666666, \"#ed7953\"], [0.7777777777777778, \"#fb9f3a\"], [0.8888888888888888, \"#fdca26\"], [1.0, \"#f0f921\"]], \"type\": \"heatmapgl\"}], \"histogram\": [{\"marker\": {\"colorbar\": {\"outlinewidth\": 0, \"ticks\": \"\"}}, \"type\": \"histogram\"}], \"histogram2d\": [{\"colorbar\": {\"outlinewidth\": 0, \"ticks\": \"\"}, \"colorscale\": [[0.0, \"#0d0887\"], [0.1111111111111111, \"#46039f\"], [0.2222222222222222, \"#7201a8\"], [0.3333333333333333, \"#9c179e\"], [0.4444444444444444, \"#bd3786\"], [0.5555555555555556, \"#d8576b\"], [0.6666666666666666, \"#ed7953\"], [0.7777777777777778, \"#fb9f3a\"], [0.8888888888888888, \"#fdca26\"], [1.0, \"#f0f921\"]], \"type\": \"histogram2d\"}], \"histogram2dcontour\": [{\"colorbar\": {\"outlinewidth\": 0, \"ticks\": \"\"}, \"colorscale\": [[0.0, \"#0d0887\"], [0.1111111111111111, \"#46039f\"], [0.2222222222222222, \"#7201a8\"], [0.3333333333333333, \"#9c179e\"], [0.4444444444444444, \"#bd3786\"], [0.5555555555555556, \"#d8576b\"], [0.6666666666666666, \"#ed7953\"], [0.7777777777777778, \"#fb9f3a\"], [0.8888888888888888, \"#fdca26\"], [1.0, \"#f0f921\"]], \"type\": \"histogram2dcontour\"}], \"mesh3d\": [{\"colorbar\": {\"outlinewidth\": 0, \"ticks\": \"\"}, \"type\": \"mesh3d\"}], \"parcoords\": [{\"line\": {\"colorbar\": {\"outlinewidth\": 0, \"ticks\": \"\"}}, \"type\": \"parcoords\"}], \"pie\": [{\"automargin\": true, \"type\": \"pie\"}], \"scatter\": [{\"marker\": {\"colorbar\": {\"outlinewidth\": 0, \"ticks\": \"\"}}, \"type\": \"scatter\"}], \"scatter3d\": [{\"line\": {\"colorbar\": {\"outlinewidth\": 0, \"ticks\": \"\"}}, \"marker\": {\"colorbar\": {\"outlinewidth\": 0, \"ticks\": \"\"}}, \"type\": \"scatter3d\"}], \"scattercarpet\": [{\"marker\": {\"colorbar\": {\"outlinewidth\": 0, \"ticks\": \"\"}}, \"type\": \"scattercarpet\"}], \"scattergeo\": [{\"marker\": {\"colorbar\": {\"outlinewidth\": 0, \"ticks\": \"\"}}, \"type\": \"scattergeo\"}], \"scattergl\": [{\"marker\": {\"colorbar\": {\"outlinewidth\": 0, \"ticks\": \"\"}}, \"type\": \"scattergl\"}], \"scattermapbox\": [{\"marker\": {\"colorbar\": {\"outlinewidth\": 0, \"ticks\": \"\"}}, \"type\": \"scattermapbox\"}], \"scatterpolar\": [{\"marker\": {\"colorbar\": {\"outlinewidth\": 0, \"ticks\": \"\"}}, \"type\": \"scatterpolar\"}], \"scatterpolargl\": [{\"marker\": {\"colorbar\": {\"outlinewidth\": 0, \"ticks\": \"\"}}, \"type\": \"scatterpolargl\"}], \"scatterternary\": [{\"marker\": {\"colorbar\": {\"outlinewidth\": 0, \"ticks\": \"\"}}, \"type\": \"scatterternary\"}], \"surface\": [{\"colorbar\": {\"outlinewidth\": 0, \"ticks\": \"\"}, \"colorscale\": [[0.0, \"#0d0887\"], [0.1111111111111111, \"#46039f\"], [0.2222222222222222, \"#7201a8\"], [0.3333333333333333, \"#9c179e\"], [0.4444444444444444, \"#bd3786\"], [0.5555555555555556, \"#d8576b\"], [0.6666666666666666, \"#ed7953\"], [0.7777777777777778, \"#fb9f3a\"], [0.8888888888888888, \"#fdca26\"], [1.0, \"#f0f921\"]], \"type\": \"surface\"}], \"table\": [{\"cells\": {\"fill\": {\"color\": \"#EBF0F8\"}, \"line\": {\"color\": \"white\"}}, \"header\": {\"fill\": {\"color\": \"#C8D4E3\"}, \"line\": {\"color\": \"white\"}}, \"type\": \"table\"}]}, \"layout\": {\"annotationdefaults\": {\"arrowcolor\": \"#2a3f5f\", \"arrowhead\": 0, \"arrowwidth\": 1}, \"autotypenumbers\": \"strict\", \"coloraxis\": {\"colorbar\": {\"outlinewidth\": 0, \"ticks\": \"\"}}, \"colorscale\": {\"diverging\": [[0, \"#8e0152\"], [0.1, \"#c51b7d\"], [0.2, \"#de77ae\"], [0.3, \"#f1b6da\"], [0.4, \"#fde0ef\"], [0.5, \"#f7f7f7\"], [0.6, \"#e6f5d0\"], [0.7, \"#b8e186\"], [0.8, \"#7fbc41\"], [0.9, \"#4d9221\"], [1, \"#276419\"]], \"sequential\": [[0.0, \"#0d0887\"], [0.1111111111111111, \"#46039f\"], [0.2222222222222222, \"#7201a8\"], [0.3333333333333333, \"#9c179e\"], [0.4444444444444444, \"#bd3786\"], [0.5555555555555556, \"#d8576b\"], [0.6666666666666666, \"#ed7953\"], [0.7777777777777778, \"#fb9f3a\"], [0.8888888888888888, \"#fdca26\"], [1.0, \"#f0f921\"]], \"sequentialminus\": [[0.0, \"#0d0887\"], [0.1111111111111111, \"#46039f\"], [0.2222222222222222, \"#7201a8\"], [0.3333333333333333, \"#9c179e\"], [0.4444444444444444, \"#bd3786\"], [0.5555555555555556, \"#d8576b\"], [0.6666666666666666, \"#ed7953\"], [0.7777777777777778, \"#fb9f3a\"], [0.8888888888888888, \"#fdca26\"], [1.0, \"#f0f921\"]]}, \"colorway\": [\"#636efa\", \"#EF553B\", \"#00cc96\", \"#ab63fa\", \"#FFA15A\", \"#19d3f3\", \"#FF6692\", \"#B6E880\", \"#FF97FF\", \"#FECB52\"], \"font\": {\"color\": \"#2a3f5f\"}, \"geo\": {\"bgcolor\": \"white\", \"lakecolor\": \"white\", \"landcolor\": \"#E5ECF6\", \"showlakes\": true, \"showland\": true, \"subunitcolor\": \"white\"}, \"hoverlabel\": {\"align\": \"left\"}, \"hovermode\": \"closest\", \"mapbox\": {\"style\": \"light\"}, \"paper_bgcolor\": \"white\", \"plot_bgcolor\": \"#E5ECF6\", \"polar\": {\"angularaxis\": {\"gridcolor\": \"white\", \"linecolor\": \"white\", \"ticks\": \"\"}, \"bgcolor\": \"#E5ECF6\", \"radialaxis\": {\"gridcolor\": \"white\", \"linecolor\": \"white\", \"ticks\": \"\"}}, \"scene\": {\"xaxis\": {\"backgroundcolor\": \"#E5ECF6\", \"gridcolor\": \"white\", \"gridwidth\": 2, \"linecolor\": \"white\", \"showbackground\": true, \"ticks\": \"\", \"zerolinecolor\": \"white\"}, \"yaxis\": {\"backgroundcolor\": \"#E5ECF6\", \"gridcolor\": \"white\", \"gridwidth\": 2, \"linecolor\": \"white\", \"showbackground\": true, \"ticks\": \"\", \"zerolinecolor\": \"white\"}, \"zaxis\": {\"backgroundcolor\": \"#E5ECF6\", \"gridcolor\": \"white\", \"gridwidth\": 2, \"linecolor\": \"white\", \"showbackground\": true, \"ticks\": \"\", \"zerolinecolor\": \"white\"}}, \"shapedefaults\": {\"line\": {\"color\": \"#2a3f5f\"}}, \"ternary\": {\"aaxis\": {\"gridcolor\": \"white\", \"linecolor\": \"white\", \"ticks\": \"\"}, \"baxis\": {\"gridcolor\": \"white\", \"linecolor\": \"white\", \"ticks\": \"\"}, \"bgcolor\": \"#E5ECF6\", \"caxis\": {\"gridcolor\": \"white\", \"linecolor\": \"white\", \"ticks\": \"\"}}, \"title\": {\"x\": 0.05}, \"xaxis\": {\"automargin\": true, \"gridcolor\": \"white\", \"linecolor\": \"white\", \"ticks\": \"\", \"title\": {\"standoff\": 15}, \"zerolinecolor\": \"white\", \"zerolinewidth\": 2}, \"yaxis\": {\"automargin\": true, \"gridcolor\": \"white\", \"linecolor\": \"white\", \"ticks\": \"\", \"title\": {\"standoff\": 15}, \"zerolinecolor\": \"white\", \"zerolinewidth\": 2}}}, \"title\": {\"text\": \"Loss\"}, \"xaxis\": {\"anchor\": \"y\", \"domain\": [0.0, 1.0], \"title\": {\"text\": \"t\"}}, \"yaxis\": {\"anchor\": \"x\", \"domain\": [0.0, 1.0], \"title\": {\"text\": \"J\"}}},                        {\"responsive\": true}                    ).then(function(){\n",
       "                            \n",
       "var gd = document.getElementById('147ef779-6709-4591-9bf1-91b7b640eebc');\n",
       "var x = new MutationObserver(function (mutations, observer) {{\n",
       "        var display = window.getComputedStyle(gd).display;\n",
       "        if (!display || display === 'none') {{\n",
       "            console.log([gd, 'removed!']);\n",
       "            Plotly.purge(gd);\n",
       "            observer.disconnect();\n",
       "        }}\n",
       "}});\n",
       "\n",
       "// Listen for the removal of the full notebook cells\n",
       "var notebookContainer = gd.closest('#notebook-container');\n",
       "if (notebookContainer) {{\n",
       "    x.observe(notebookContainer, {childList: true});\n",
       "}}\n",
       "\n",
       "// Listen for the clearing of the current output cell\n",
       "var outputEl = gd.closest('.output');\n",
       "if (outputEl) {{\n",
       "    x.observe(outputEl, {childList: true});\n",
       "}}\n",
       "\n",
       "                        })                };                });            </script>        </div>"
      ]
     },
     "metadata": {},
     "output_type": "display_data"
    }
   ],
   "source": [
    "fig = make_subplots(rows=1, cols=1)\n",
    "fig.add_trace(go.Scatter(x=ts[:, 0].flatten(), y=Y_preds[:, 0].flatten(), mode='lines', name=\"Prediction\", line=dict(color=\"#FFe476\")), row=1, col=1)\n",
    "fig.add_trace(go.Scatter(x=ts[:, 0].flatten(), y=Y_sol[:, 0].flatten(), mode='lines', name=\"Ground truth\", line=dict(color=\"#00e476\")), row=1, col=1)\n",
    "for i in range(1, num_samples):\n",
    "    fig.add_trace(go.Scatter(x=ts[:, i].flatten(), y=Y_preds[:, i].flatten(), mode='lines', showlegend=False, line=dict(color=\"#FFe476\")), row=1, col=1)\n",
    "    fig.add_trace(go.Scatter(x=ts[:, i].flatten(), y=Y_sol[:, i].flatten(), mode='lines', showlegend=False, line=dict(color=\"#00e476\")), row=1, col=1)\n",
    "fig.update_layout(\n",
    "    title=\"Loss\",\n",
    "    xaxis_title=\"t\",\n",
    "    yaxis_title=\"J\",\n",
    "    font=dict(\n",
    "        family=\"Courier New, monospace\",\n",
    "        size=14\n",
    "    )\n",
    ")\n",
    "fig.show()"
   ]
  },
  {
   "cell_type": "code",
   "execution_count": null,
   "id": "vital-tsunami",
   "metadata": {},
   "outputs": [],
   "source": []
  }
 ],
 "metadata": {
  "kernelspec": {
   "display_name": "Python 3",
   "language": "python",
   "name": "python3"
  },
  "language_info": {
   "codemirror_mode": {
    "name": "ipython",
    "version": 3
   },
   "file_extension": ".py",
   "mimetype": "text/x-python",
   "name": "python",
   "nbconvert_exporter": "python",
   "pygments_lexer": "ipython3",
   "version": "3.8.5"
  }
 },
 "nbformat": 4,
 "nbformat_minor": 5
}
