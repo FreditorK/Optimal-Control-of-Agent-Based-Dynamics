{
 "cells": [
  {
   "cell_type": "markdown",
   "id": "usual-seattle",
   "metadata": {},
   "source": [
    "# Solving Hamilton-Jacobi-Bellman Equations (Deep Galerkin)\n",
    "#### Frederik Kelbel, Imperial College London"
   ]
  },
  {
   "cell_type": "markdown",
   "id": "alternate-radio",
   "metadata": {},
   "source": [
    "## Dependencies"
   ]
  },
  {
   "cell_type": "code",
   "execution_count": 1,
   "id": "liberal-tracy",
   "metadata": {},
   "outputs": [],
   "source": [
    "import torch\n",
    "import plotly.graph_objects as go\n",
    "import numpy as np\n",
    "from operators import div, Δ, D, mdotb, bdotm, mdotm, bdotb, cat\n",
    "from DGM import DGMPIASolver, DeepPDESolver\n",
    "from pdes import HBJ, PDE\n",
    "from scipy.integrate import quad\n",
    "from plotly.subplots import make_subplots\n",
    "from configs import CONFIG_HBJS as MODEL_CONFIG\n",
    "from itertools import product\n",
    "import torch.nn.functional as F"
   ]
  },
  {
   "cell_type": "markdown",
   "id": "minus-knowing",
   "metadata": {},
   "source": [
    "## Plotting"
   ]
  },
  {
   "cell_type": "code",
   "execution_count": 2,
   "id": "suitable-blake",
   "metadata": {},
   "outputs": [],
   "source": [
    "def plot_losses(losses, avg_over=10):\n",
    "    avgs_1 = np.convolve(losses[:, 0], np.ones(avg_over), 'valid') / avg_over\n",
    "    avgs_2 = np.convolve(losses[:, 1], np.ones(avg_over), 'valid') / avg_over\n",
    "    fig = make_subplots(rows=1, cols=1)\n",
    "    fig.add_trace(go.Scatter(x=np.arange(len(avgs_1)), y=avgs_1, mode='lines', name=\"Value Loss\"), row=1, col=1)\n",
    "    fig.add_trace(go.Scatter(x=np.arange(len(avgs_2)), y=avgs_2, mode='lines', name=\"Control Loss\"), row=1, col=1)\n",
    "    fig.update_layout(\n",
    "        title=\"Loss\",\n",
    "        xaxis_title=\"Iterations\",\n",
    "        yaxis_title=\"Loss\",\n",
    "        font=dict(\n",
    "            family=\"Courier New, monospace\",\n",
    "            size=14\n",
    "        )\n",
    "    )\n",
    "    fig.show()\n",
    "    \n",
    "def plot_value(solver, sol):\n",
    "    fig = make_subplots(rows=1, cols=2, \n",
    "                   specs=[[{'type': 'surface'}, {'type': 'surface'}]])\n",
    "    xs = np.linspace(0, 1, 100)\n",
    "    ts = np.linspace(0.01, 1, 100)\n",
    "    us_pred = np.array([[solver(x, t).item() for x in xs] for t in ts])\n",
    "    us = np.array([[sol(x, t) for x in xs] for t in ts])\n",
    "    fig.add_trace(go.Surface(z=us, showscale=False), row=1, col=1)\n",
    "    fig.add_trace(go.Surface(z=us_pred), row=1, col=2)\n",
    "    fig.update_layout(title='Solution | Approximation',\n",
    "                  scene = dict(\n",
    "                    xaxis_title=\"t\",\n",
    "                    yaxis_title=\"x\",\n",
    "                    zaxis_title=\"J(x, t\"),\n",
    "                  scene2 = dict(\n",
    "                    xaxis_title=\"t\",\n",
    "                    yaxis_title=\"x\",\n",
    "                    zaxis_title=\"J(x, t)\"),\n",
    "                  margin=dict(l=50, r=50, b=50, t=50))\n",
    "    fig.show()\n",
    "    \n",
    "def plot_loss(losses, avg_over=10):\n",
    "    avgs = np.convolve(losses, np.ones(avg_over), 'valid') / avg_over\n",
    "    fig = make_subplots(rows=1, cols=1)\n",
    "    fig.add_trace(go.Scatter(x=np.arange(len(avgs)), y=avgs, mode='lines', name=\"Error at x=0.1\"), row=1, col=1)\n",
    "    fig.update_layout(\n",
    "        title=\"Loss\",\n",
    "        xaxis_title=\"Iterations\",\n",
    "        yaxis_title=\"Loss\",\n",
    "        font=dict(\n",
    "            family=\"Courier New, monospace\",\n",
    "            size=14\n",
    "        )\n",
    "    )\n",
    "    fig.show()"
   ]
  },
  {
   "cell_type": "markdown",
   "id": "vietnamese-anxiety",
   "metadata": {},
   "source": [
    "## Problem Formulation"
   ]
  },
  {
   "cell_type": "markdown",
   "id": "average-roller",
   "metadata": {},
   "source": [
    "Objective: Find the control process $u = (u_t)_{t \\geq 0}$ in admissable set $\\mathcal{A}$ for an Itô Process $X^u = (X_t^u)_{t \\geq 0}$ satisfying:\n"
   ]
  },
  {
   "cell_type": "markdown",
   "id": "sticky-coordinate",
   "metadata": {},
   "source": [
    "$$\n",
    "d X_t^u = \\mu(t, X_t^u, u_t) dt + \\sigma(t, X_t^u, u_t) d W_t, \\quad X_0^u = 0.\n",
    "$$"
   ]
  },
  {
   "cell_type": "markdown",
   "id": "maritime-representative",
   "metadata": {},
   "source": [
    "We will consider the HBJ-Equations in their primal form."
   ]
  },
  {
   "cell_type": "markdown",
   "id": "utility-lincoln",
   "metadata": {},
   "source": [
    "The agents performance is assessed via:\n",
    "$$\n",
    "J^u(t, x) = \\mathbb{E}\\Big[ \\int_t^T F(s, X_s^u, u_s) ds + G(X_T^u) \\;\\Big|\\; X_t^u = x \\Big]\n",
    "$$"
   ]
  },
  {
   "cell_type": "markdown",
   "id": "comprehensive-saint",
   "metadata": {},
   "source": [
    "Denote $J(t, x) = \\sup_{u \\in \\mathcal{A}} J^u(t, x)$, then this value function satisfies the following HJB-equations:"
   ]
  },
  {
   "cell_type": "markdown",
   "id": "hydraulic-malaysia",
   "metadata": {},
   "source": [
    "$$\n",
    "\\begin{cases}\n",
    "\\partial_t J(t, x) + \\sup_{u \\in \\mathcal{A}} \\{\\mathscr{L}^u_t J(t, x) + F(t, x, u)\\} = 0 \\\\\n",
    "J(T, x) = G(x)\n",
    "\\end{cases}\n",
    "$$"
   ]
  },
  {
   "cell_type": "markdown",
   "id": "velvet-services",
   "metadata": {},
   "source": [
    "### The Merton Problem (Wealth Allocation Problem)"
   ]
  },
  {
   "cell_type": "markdown",
   "id": "raising-ranch",
   "metadata": {},
   "source": [
    "The goal is to find the optimal wealth allocation strategy over time such that the wealth itself is maximized."
   ]
  },
  {
   "cell_type": "markdown",
   "id": "understood-reverse",
   "metadata": {},
   "source": [
    "Consider a market with a risky and risk-free asset. Suppose the value of the risk-free asset at time $t$ is given by $\\frac{d B_t}{B_t} = r dt$ or $B_t = B_0 e^{rt}, t\\geq 0$. Additionally, we have that the risky asset evolves accordingly to $\\frac{d S_t}{S_t} = \\mu dt + \\sigma dW_t$, where $\\{W_t\\}_{t\\geq 0}$ is a standard one-dimensional Brownian motion."
   ]
  },
  {
   "cell_type": "markdown",
   "id": "whole-communications",
   "metadata": {},
   "source": [
    "The wealth can then be described by\n",
    "$$\n",
    "X_t= x + \\int_0^t v_s \\frac{dS_s}{S_s} + \\int_0^t(X_s-v_s)\\frac{dB_s}{B_s},\n",
    "$$\n",
    "where $v_t = u_t X_t$ describes the amount of the wealth to be have invested into the risky asset at time $t$. $u_t$ is the fraction of wealth invested in the risky asset."
   ]
  },
  {
   "cell_type": "markdown",
   "id": "academic-vector",
   "metadata": {},
   "source": [
    "Let $(\\Omega, \\mathcal{F}, \\{\\mathcal{F}_t\\}_{t\\in [0, T]}, \\mathbb{P})$ be a filtered probability space. The evolution of an investor's wealth is described via\n",
    "$$\n",
    "\\begin{cases}\n",
    "dX_s = ((\\mu -r)u_s + r)X_s ds + \\sigma u_s X_s dW_s, \\; s \\in [0, T] \\\\\n",
    "X_0 = x > 0\n",
    "\\end{cases},\n",
    "$$"
   ]
  },
  {
   "cell_type": "markdown",
   "id": "studied-franchise",
   "metadata": {},
   "source": [
    "with $\\mu>r$ and $\\sigma>0$ referring to drift and volatility, respectively. Let $r>0$ denote the discount rate, i.e. the depreciation constant. The intent is to maximise the objective\n",
    "$$\n",
    "J^u(t, X_t) = \\mathbb{E}[ X_T^\\gamma ], \\; \\gamma \\in(0, 1).\n",
    "$$"
   ]
  },
  {
   "cell_type": "markdown",
   "id": "international-birth",
   "metadata": {},
   "source": [
    "The respective HBJ-equation becomes:"
   ]
  },
  {
   "cell_type": "markdown",
   "id": "light-stability",
   "metadata": {},
   "source": [
    "$$\n",
    "\\begin{cases}\n",
    "\\partial_t J(t, x) + \\sup_{u} \\Big\\{ ((\\mu-r)u + r)x \\partial_x J(t, x) + \\frac{1}{2} \\sigma^2 u^2 x^2\\partial_{xx} J(t, x) \\Big\\} = 0 \\text{ on $[0, T] \\times (0, \\infty)$}\n",
    "\\\\\n",
    "J(T, x) = x^\\gamma \\text{ $\\forall x > 0$}\n",
    "\\end{cases}\n",
    "$$"
   ]
  },
  {
   "cell_type": "markdown",
   "id": "coral-mounting",
   "metadata": {},
   "source": [
    "#### Analytical Solution (Oksendal):"
   ]
  },
  {
   "cell_type": "markdown",
   "id": "saving-federation",
   "metadata": {},
   "source": [
    "Assume $J(t, x) = w(t) v(x)$, with $J(T, x) = w(T) v(x) = x^\\gamma$. We guess $J(t, x) = w(t) x^\\gamma$, where $w(T)=1$. The problem becomes \n",
    "$$\n",
    "\\begin{cases}\n",
    "w'(t) + \\gamma  \\sup_{u} \\Big\\{ (\\mu-r) u + r + \\frac{1}{2} \\sigma^2 u^2 (\\gamma-1) \\Big\\}w(t) = 0\n",
    "\\\\\n",
    "w(T) = x^\\gamma\n",
    "\\end{cases}.\n",
    "$$"
   ]
  },
  {
   "cell_type": "markdown",
   "id": "oriented-regression",
   "metadata": {},
   "source": [
    "Then, $u$ is maximised for $u^* = \\frac{\\mu-r}{\\sigma^2 (1-\\gamma)}$ and the equation becomes\n",
    "$$\n",
    "\\begin{cases}\n",
    "w'(t) + \\frac{\\gamma (\\mu-r)^2}{\\sigma^2(2-2\\gamma)}w(t) = 0\n",
    "\\\\\n",
    "w(T) = x^\\gamma\n",
    "\\end{cases}.\n",
    "$$\n",
    "Thus, we have  $w'(t) = \\frac{\\gamma (\\mu-r)^2}{\\sigma^2(2\\gamma - 2)}w(t)$. It follows that $w(t) = \\exp\\big(\\frac{\\gamma (\\mu-r)^2}{\\sigma^2(2\\gamma - 2)}t\\big)$. The final solution is:\n",
    "$$\n",
    "J(t, x) = w(t)v(x) = \\exp\\big(\\frac{\\gamma (\\mu-r)^2}{\\sigma^2(2\\gamma - 2)}t\\big) x^\\gamma.\n",
    "$$"
   ]
  },
  {
   "cell_type": "markdown",
   "id": "wanted-extent",
   "metadata": {},
   "source": [
    "We need to verify this using the HBJ-verification theorem."
   ]
  },
  {
   "cell_type": "code",
   "execution_count": null,
   "id": "extended-responsibility",
   "metadata": {},
   "outputs": [],
   "source": [
    "class RISKY_ASSET(HBJ):\n",
    "    def __init__(self):\n",
    "        super().__init__()\n",
    "        self.μ = 0.04\n",
    "        self.σ = 0.4\n",
    "        self.r = 0.03\n",
    "        self.γ = 0.8\n",
    "        \n",
    "        self.var_dim_J = 2 # (x, t)\n",
    "        self.control_vars = [1] # (t)\n",
    "        self.cost_function = lambda u, var: 0\n",
    "        self.differential_operator = lambda J, u, var: ((self.μ-self.r)*u+self.r)*var[0]*div(J, var[0]) + 0.5*self.σ**2*u**2*var[0]**2*Δ(J, var[0])\n",
    "        self.domain_func = [(lambda var: var, 128)]\n",
    "        self.boundary_cond_J = [lambda J, var: J - var[0]**self.γ]\n",
    "        self.boundary_func_J = [(lambda var: [var[0], 0*var[1] + 1], 128)]\n",
    "        self.boundary_cond_u = [lambda u, var: torch.clamp(u, min=1) - torch.clamp(u, max=-1) - 2]\n",
    "        self.boundary_func_u = [(lambda var: var, 64)]"
   ]
  },
  {
   "cell_type": "code",
   "execution_count": null,
   "id": "documented-rescue",
   "metadata": {},
   "outputs": [],
   "source": [
    "eq = RISKY_ASSET()\n",
    "model = MODEL_CONFIG\n",
    "solver = DGMPIASolver(model, eq)\n",
    "loss = np.array(list(solver.train(800)))\n",
    "plot_losses(loss)"
   ]
  },
  {
   "cell_type": "code",
   "execution_count": null,
   "id": "hazardous-tuition",
   "metadata": {},
   "outputs": [],
   "source": [
    "u_sol = lambda t : (eq.μ-eq.r)/(eq.σ**2*(1-eq.γ))\n",
    "J_sol = lambda x, t: x**eq.γ * np.exp((eq.γ*(eq.μ-eq.r)**2)/(eq.σ**2*(2*eq.γ-2))*t)"
   ]
  },
  {
   "cell_type": "code",
   "execution_count": null,
   "id": "residential-stone",
   "metadata": {},
   "outputs": [],
   "source": [
    "fig = make_subplots(rows=1, cols=1)\n",
    "eval_points = np.linspace(0, 1, 100)\n",
    "fig.add_trace(go.Scatter(x=eval_points, y=[solver.u(p)[0] for p in eval_points], mode='lines', name=\"Optimal Control\"), row=1, col=1)\n",
    "fig.add_trace(go.Scatter(x=eval_points, y=[u_sol(p) for p in eval_points], mode='lines', name=\"Optimal Control Solution\"), row=1, col=1)\n",
    "fig.update_layout(\n",
    "    title=\"Solutions\",\n",
    "    xaxis_title=\"Time\",\n",
    "    yaxis_title=\"Control Signal\",\n",
    "    yaxis_range=[0, 1],\n",
    "    font=dict(\n",
    "        family=\"Courier New, monospace\",\n",
    "        size=14\n",
    "    )\n",
    ")\n",
    "fig.show()"
   ]
  },
  {
   "cell_type": "code",
   "execution_count": null,
   "id": "incredible-independence",
   "metadata": {},
   "outputs": [],
   "source": [
    "plot_value(solver.J, J_sol)"
   ]
  },
  {
   "cell_type": "markdown",
   "id": "aboriginal-newcastle",
   "metadata": {},
   "source": [
    "### Optimal Liquidation Problem"
   ]
  },
  {
   "cell_type": "markdown",
   "id": "elder-playback",
   "metadata": {},
   "source": [
    "Let us consider an asset $S_t$, that evolves accordingly with Brownian motion, i.e. $dS_s = -B u_s ds + \\sigma dW_s$. Assume that we hold a certain amount of this asset and intend to liquidate it over the time period $s \\in [0, T]$. Let $Q$ be our inventory of the asset with $dQ_s = - u_s ds$ (with $Q(0)=N$), where $u_s$ represents the liquidation rate. Suppose the temporary price impact is linear (the cost of selling), then our cash $X_s$ is modelled by \n",
    "$$\n",
    "X_t = x + \\int_0^t S_s u_s ds -\\int_0^t D u_s^2 + C q^2ds \n",
    "$$"
   ]
  },
  {
   "cell_type": "markdown",
   "id": "wooden-fantasy",
   "metadata": {},
   "source": [
    "We aim to maximise\n",
    "$$\n",
    "J^u(t, S, q) := \\mathbb{E}^{t, S} \\Big[ \\int_t^T S_s u_s -Du_s^2 - Cq^2 ds + S_T q_T- R q_T^2\\Big],\n",
    "$$\n",
    "subject to the process\n",
    "$$\\begin{eqnarray}\n",
    "dS_s &=& -Bu_s ds + \\sigma dW_s \\\\ \n",
    "dQ_s &=& - u_s ds\n",
    "\\end{eqnarray}$$"
   ]
  },
  {
   "cell_type": "markdown",
   "id": "collected-newspaper",
   "metadata": {},
   "source": [
    "Thus, the HBJ-Equation is given as:\n",
    "$$\n",
    "\\begin{cases}\n",
    "\\partial_t J(t, S, q) + \\sup_{u} \\Big\\{ u_s(S-Du_s) - Cq^2 + ( \\frac{1}{2} \\sigma^2 \\partial_{SS} - B u_s \\partial_S - u_s \\partial_q)J(t, S, q)  \\Big\\} = 0 \\text{ on $[0, T] \\times (0, \\infty)\\times [0, N]$}\n",
    "\\\\\n",
    "J(T, S, q) = Sq - R q^2 \\text{ $\\forall x \\in \\mathbb{R}$}\n",
    "\\end{cases},\n",
    "$$\n",
    "where $R$ is the terminal cost."
   ]
  },
  {
   "cell_type": "code",
   "execution_count": null,
   "id": "first-former",
   "metadata": {},
   "outputs": [],
   "source": [
    "class LIQUIDATION(HBJ):\n",
    "    def __init__(self):\n",
    "        super().__init__()\n",
    "        self.σ = 0.3\n",
    "        self.D = 0.05\n",
    "        self.C = 0.1\n",
    "        self.R = self.D + self.C\n",
    "        self.B = 0.0001\n",
    "        \n",
    "        \n",
    "        self.var_dim_J = 4 # (S, q, X, t)\n",
    "        self.control_vars = [0, 1, 2, 3] # (S ,q, X, t)\n",
    "        self.cost_function = lambda u, var: 0\n",
    "        self.differential_operator = lambda J, u, var: 0.5*self.σ**2*Δ(J, var[0]) -self.B*u*div(J, var[0]) - u*div(J, var[1]) + (var[0]*u - self.C*var[1]**2 - self.D*u**2)*div(J, var[2])\n",
    "        self.domain_func = [(lambda var: [(var[0]-0.5)*4, (var[1]-0.4)*4, (var[2]-0.5)*4, var[3]], 64)]\n",
    "        self.boundary_cond_J = [lambda J, var: J - (var[2] + var[0]*var[1]-self.R*var[1]**2)]\n",
    "        self.boundary_func_J = [(lambda var: [(var[0]-0.5)*4, (var[1]-0.4)*4, (var[2]-0.5)*4, var[3]*0 + 1], 64)]"
   ]
  },
  {
   "cell_type": "code",
   "execution_count": null,
   "id": "corporate-lancaster",
   "metadata": {},
   "outputs": [],
   "source": [
    "LIQUIDATION_MODEL_CONFIG = {\n",
    "    \"hidden_dim\": 32,\n",
    "    \"learning_rate\": 5e-3,\n",
    "    \"loss_weights\": (1, 1),\n",
    "    \"lr_decay\": 0.99,\n",
    "    \"sampling_method\": \"uniform\",\n",
    "    \"network_type\": \"FF\",\n",
    "    \"optimiser\": \"Adam\",\n",
    "    \"delay_control\": 2,\n",
    "    \"alpha_noise\": 0.3\n",
    "}\n",
    "eq = LIQUIDATION()\n",
    "model = LIQUIDATION_MODEL_CONFIG\n",
    "solver = DGMPIASolver(model, eq)\n",
    "loss = np.array(list(solver.train(500)))\n",
    "plot_losses(loss)"
   ]
  },
  {
   "cell_type": "code",
   "execution_count": null,
   "id": "amber-prisoner",
   "metadata": {},
   "outputs": [],
   "source": [
    "n = 50\n",
    "c_xs = np.zeros(n)\n",
    "c_Ss = np.zeros(n)\n",
    "c_Q = np.zeros(n)\n",
    "c_xs[0] = 0.3\n",
    "c_Ss[0] = 0.5\n",
    "c_Q[0] = 1.0\n",
    "uc_xs = np.zeros(n)\n",
    "uc_Ss = np.zeros(n)\n",
    "uc_xs[0] = c_xs[0]\n",
    "uc_Ss[0] = c_Ss[0]\n",
    "dt = 1/n\n",
    "ts = [t for t in np.linspace(0, 1, n)]\n",
    "c_value = np.zeros(n)\n",
    "for i in range(n-1):\n",
    "    dW = np.sqrt(dt)*np.random.randn()\n",
    "    c = solver.u(c_Ss[i], c_Q[i], c_xs[i], i*dt).item()\n",
    "    c_value[i] = solver.J(c_Ss[i], c_Q[i], c_xs[i], i*dt).item()\n",
    "    c_Q[i+1] = c_Q[i] - c*dt\n",
    "    c_Ss[i+1] = c_Ss[i] -eq.B*c*dt + eq.σ*dW\n",
    "    uc_Ss[i+1] = uc_Ss[i] + eq.σ*dW\n",
    "    c_xs[i+1] = c_xs[i] + c_Ss[i]*c*dt - eq.D*c**2*dt - eq.C*c_Q[i]**2*dt\n",
    "    uc_xs[i+1] = uc_xs[i] - eq.C*c_Q[0]**2*dt\n",
    "\n",
    "c_value[-1] = solver.J(c_Ss[-1], c_Q[-1], c_xs[-1], n*dt).item()\n",
    "c_xs[-1] += c_Ss[-1]*c_Q[-1] - eq.R*c_Q[-1]**2\n",
    "uc_xs[-1] += uc_Ss[-1]*c_Q[0] - eq.R*c_Q[0]**2\n",
    "    \n",
    "fig = make_subplots(rows=1, cols=1)\n",
    "fig.add_trace(go.Scatter(x=ts, y=c_xs, mode='lines', name=\"Controlled\", line=dict(color=\"#00e476\")), row=1, col=1)\n",
    "fig.add_trace(go.Scatter(x=ts, y=uc_xs, mode='lines', name=\"Uncontrolled\", line=dict(color=\"#FFe476\")), row=1, col=1)\n",
    "fig.add_trace(go.Scatter(x=ts, y=c_Ss, mode='lines', name=\"Value Function\", line=dict(color=\"#eeee76\")), row=1, col=1)\n",
    "fig.update_layout(\n",
    "    title=\"Maximise amount of X\",\n",
    "    xaxis_title=\"t\",\n",
    "    yaxis_title=\"X\",\n",
    "    font=dict(\n",
    "        family=\"Courier New, monospace\",\n",
    "        size=14\n",
    "    )\n",
    ")\n",
    "fig.show()"
   ]
  },
  {
   "cell_type": "markdown",
   "id": "sonic-citizenship",
   "metadata": {},
   "source": [
    "### Linear-quadratic control problem 1-dimensional (Riccati Equation) "
   ]
  },
  {
   "cell_type": "markdown",
   "id": "latest-table",
   "metadata": {},
   "source": [
    "Let $(\\Omega, \\mathcal{F}, \\{\\mathcal{F}_t\\}_{t\\in [0, T]}, \\mathbb{P})$. We consider\n",
    "$$\n",
    "\\begin{cases}\n",
    "dX_s = [H_sX_s + M_s u_s] ds + \\sigma_s dW_s, \\; s \\in [0, T] \\\\\n",
    "X_0 = x > 0\n",
    "\\end{cases},\n",
    "$$"
   ]
  },
  {
   "cell_type": "markdown",
   "id": "documented-australian",
   "metadata": {},
   "source": [
    "We aim to maximise\n",
    "$$\n",
    "J^u(t, x) := \\mathbb{E}^{t, x} \\Big[ \\int_t^T X_s^T C_s X_s + u_s^T D_s u_s ds + X_T^T R X_T\\Big],\n",
    "$$\n",
    "with $C(t) = C \\leq 0, R \\leq 0$, and $D=D(t) < -\\delta < 0$ given and deterministic ($\\delta > 0$ some constant)."
   ]
  },
  {
   "cell_type": "markdown",
   "id": "numeric-finish",
   "metadata": {},
   "source": [
    "We write down the problem in its primal form as\n",
    "$$\n",
    "\\begin{cases}\n",
    "\\partial_t J(t, x) + \\sup_{u} \\Big\\{ \\frac{1}{2} \\sigma^2 \\partial_{xx} J(t, x) + [H x + M u] \\partial_x J(t, x) + C x^2 + D u^2 \\Big\\} = 0 \\text{ on $[0, T] \\times (-\\infty, \\infty)$}\n",
    "\\\\\n",
    "J(T, x) = Rx^2 \\text{ $\\forall x \\in \\mathbb{R}$}\n",
    "\\end{cases}\n",
    "$$"
   ]
  },
  {
   "cell_type": "markdown",
   "id": "advisory-prayer",
   "metadata": {},
   "source": [
    "#### Analytical Solution (Oksendal):"
   ]
  },
  {
   "cell_type": "markdown",
   "id": "purple-hopkins",
   "metadata": {},
   "source": [
    "As $J(T, x) = Rx^2$, we assume the form $J(T, x) = S(t) x^2 + b(t)$ for some differentibale $S$ and $b$. The problem can be reformulated as\n",
    "$$\n",
    "\\begin{cases}\n",
    "S'(t)x^2 + b'(t) + \\sigma^2 S(t) + 2HS(t)x^2 + C x^2 + \\sup_{u} \\Big\\{ 2MS(t) u x + D u^2 \\Big\\} = 0 \\text{ on $[0, T] \\times (0, \\infty)$}\n",
    "\\\\\n",
    "S(T) = R, b(t)=0 \\text{ $\\forall x \\in \\mathbb{R}$}\n",
    "\\end{cases}\n",
    "$$"
   ]
  },
  {
   "cell_type": "markdown",
   "id": "experimental-atlantic",
   "metadata": {},
   "source": [
    "We see that for fixed $t$ and $x$, we have $u^*=u^*(t, x)=-D^{-1} MS(t) x$. As a consequence, we can transform the problem to be gives as\n",
    "$$\n",
    "\\begin{cases}\n",
    "[S'(t) + 2HS(t) + C - D^{-1} M^2S^2(t)]x^2 + b'(t) + \\sigma^2 S(t) = 0 \\text{ on $[0, T] \\times (0, \\infty)$}\n",
    "\\\\\n",
    "S(T) = R, b(t)=0 \\text{ $\\forall x \\in \\mathbb{R}$}\n",
    "\\end{cases}\n",
    "$$"
   ]
  },
  {
   "cell_type": "markdown",
   "id": "incorrect-awareness",
   "metadata": {},
   "source": [
    "The problem is satisfied if\n",
    "$$\n",
    "S'(t)= D^{-1} M^2S^2(t) - C - 2HS(t), \\; S(T)=R \\; \\text{(Riccati Equation)}\n",
    "$$\n",
    "$$\n",
    "b'(t)= -\\sigma^2 S(t), \\; b(T)=0\n",
    "$$"
   ]
  },
  {
   "cell_type": "markdown",
   "id": "generic-distributor",
   "metadata": {},
   "source": [
    "It follows that $b(t)=  \\sigma^2 \\int_t^T S(r) dr$, while the Riccati Equation has a unique solution."
   ]
  },
  {
   "cell_type": "code",
   "execution_count": null,
   "id": "characteristic-programming",
   "metadata": {},
   "outputs": [],
   "source": [
    "class LQR(HBJ):\n",
    "    def __init__(self):\n",
    "        super().__init__()\n",
    "        self.H = 0.1\n",
    "        self.M = 2.0\n",
    "        self.C = -2.0\n",
    "        self.R = -0.001\n",
    "        self.D = -0.2\n",
    "        self.σ = 0.3\n",
    "        \n",
    "        self.var_dim_J = 2 # (x, t)\n",
    "        self.control_vars = [0, 1]\n",
    "        self.cost_function = lambda u, var: self.C*var[0]**2 + self.D*u**2\n",
    "        self.differential_operator = lambda J, u, var: (self.H*var[0] + self.M*u)*div(J, var[0]) + (1/2)*self.σ**2*Δ(J, var[0])\n",
    "        self.domain_func = [(lambda var: [var[0]*2-1, var[1]], 128)]\n",
    "        self.boundary_cond_J = [lambda J, var: J - self.R*var[0]**2]\n",
    "        self.boundary_func_J = [(lambda var: [var[0]*2-1, var[1]*0 + 1], 64)]\n",
    "        self.boundary_cond_u = [lambda u, var: torch.clamp(div(u, var[0]), min=0)]\n",
    "        self.boundary_func_u = [(lambda var: [var[0]*2-1, var[1]], 64)]"
   ]
  },
  {
   "cell_type": "code",
   "execution_count": null,
   "id": "fifth-resolution",
   "metadata": {},
   "outputs": [],
   "source": [
    "LQR_MODEL_CONFIG = {\n",
    "    \"hidden_dim\": 64,\n",
    "    \"learning_rate\": 5e-3,\n",
    "    \"loss_weights\": (1, 1),\n",
    "    \"lr_decay\": 0.99,\n",
    "    \"sampling_method\": \"uniform\",\n",
    "    \"network_type\": \"GRU\",\n",
    "    \"optimiser\": \"Adam\",\n",
    "    \"delay_control\": 2,\n",
    "    \"alpha_noise\": 0.1\n",
    "}\n",
    "eq = LQR()\n",
    "model = LQR_MODEL_CONFIG\n",
    "solver = DGMPIASolver(model, eq)\n",
    "loss = np.array(list(solver.train(400)))\n",
    "plot_losses(loss)"
   ]
  },
  {
   "cell_type": "markdown",
   "id": "accessible-command",
   "metadata": {},
   "source": [
    "#### Control function approximation:"
   ]
  },
  {
   "cell_type": "code",
   "execution_count": null,
   "id": "preceding-consultation",
   "metadata": {},
   "outputs": [],
   "source": [
    "fig = make_subplots(rows=1, cols=1, specs=[[{'type': 'surface'}]])\n",
    "xs = np.linspace(-1, 1, 100)\n",
    "ts = np.linspace(0, 1, 100)\n",
    "us_pred = np.array([[solver.u(x, t).item() for x in xs] for t in ts])\n",
    "fig.add_trace(go.Surface(x=xs, y=ts, z=us_pred), row=1, col=1)\n",
    "fig.update_layout(title='Approximation',\n",
    "                  scene = dict(\n",
    "                      xaxis_title=\"x\",\n",
    "                      yaxis_title=\"t\",\n",
    "                      zaxis_title=\"u(x, t)\"),\n",
    "                  margin=dict(l=50, r=50, b=50, t=50))\n",
    "fig.show()"
   ]
  },
  {
   "cell_type": "markdown",
   "id": "governmental-forest",
   "metadata": {},
   "source": [
    "#### Value function approximation:"
   ]
  },
  {
   "cell_type": "code",
   "execution_count": null,
   "id": "sexual-stomach",
   "metadata": {},
   "outputs": [],
   "source": [
    "fig = make_subplots(rows=1, cols=1, specs=[[{'type': 'surface'}]])\n",
    "xs = np.linspace(-1, 1, 100)\n",
    "ts = np.linspace(0, 1, 100)\n",
    "us_pred = np.array([[solver.J(x, t).item() for x in xs] for t in ts])\n",
    "fig.add_trace(go.Surface(x=xs, y=ts, z=us_pred), row=1, col=1)\n",
    "fig.update_layout(title='Solution | Approximation',\n",
    "                  scene = dict(\n",
    "                    xaxis_title=\"x\",\n",
    "                    yaxis_title=\"t\",\n",
    "                    zaxis_title=\"J(x, t\"),\n",
    "                  scene2 = dict(\n",
    "                    xaxis_title=\"x\",\n",
    "                    yaxis_title=\"t\",\n",
    "                    zaxis_title=\"J(x, t)\"),\n",
    "                  margin=dict(l=50, r=50, b=50, t=50))\n",
    "fig.show()"
   ]
  },
  {
   "cell_type": "markdown",
   "id": "assisted-supplement",
   "metadata": {},
   "source": [
    "#### Simulating the Process:"
   ]
  },
  {
   "cell_type": "markdown",
   "id": "unauthorized-hydrogen",
   "metadata": {},
   "source": [
    "Let $(\\Omega, \\mathcal{F}, \\{\\mathcal{F}_t\\}_{t\\in [0, T]}, \\mathbb{P})$. We consider\n",
    "$$\n",
    "\\begin{cases}\n",
    "dX_s = [H_s X_s + M_s u_s] ds + \\sigma_s dW_s, \\; s \\in [0, T] \\\\\n",
    "X_0 = x > 0\n",
    "\\end{cases},\n",
    "$$"
   ]
  },
  {
   "cell_type": "code",
   "execution_count": null,
   "id": "decent-sullivan",
   "metadata": {},
   "outputs": [],
   "source": [
    "n = 50\n",
    "c_xs = np.zeros(n)\n",
    "c_xs[0] = 0.75\n",
    "uc_xs = np.zeros(n)\n",
    "uc_xs[0] = c_xs[0]\n",
    "dt = 1/n\n",
    "ts = [t for t in np.linspace(0, 1, n)]\n",
    "c_cum_cost = np.zeros(n)\n",
    "uc_cum_cost = np.zeros(n)\n",
    "for i in range(n-1):\n",
    "    dW = np.sqrt(dt)*np.random.randn()\n",
    "    c = solver.u(c_xs[i], i*dt).item() #-(1/eq.D)*eq.M*((0.316228*np.exp(12.6491*i*dt) - 99125.6)/(313463 + np.exp(12.6491*i*dt))) *c_xs[i] \n",
    "    uc = 0\n",
    "    c_xs[i+1] = c_xs[i] + (eq.H*c_xs[i] + eq.M*c)*dt + eq.σ*dW\n",
    "    uc_xs[i+1] = uc_xs[i] + (eq.H*uc_xs[i] + eq.M*uc)*dt + eq.σ*dW\n",
    "    c_cum_cost[i+1] = c_cum_cost[i] + eq.C*c_xs[i]**2 + eq.D*c**2\n",
    "    uc_cum_cost[i+1] = uc_cum_cost[i] + eq.C*uc_xs[i]**2 + eq.D*uc**2\n",
    "\n",
    "c_cum_cost[-1] += eq.R*c_xs[-1]**2\n",
    "uc_cum_cost[-1] += eq.R*uc_xs[-1]**2\n",
    "    \n",
    "fig = make_subplots(rows=1, cols=2)\n",
    "fig.add_trace(go.Scatter(x=ts, y=c_xs, mode='lines', name=\"Controlled\", line=dict(color=\"#00e476\")), row=1, col=1)\n",
    "fig.add_trace(go.Scatter(x=ts, y=uc_xs, mode='lines', name=\"Uncontrolled\", line=dict(color=\"#FFe476\")), row=1, col=1)\n",
    "fig.add_trace(go.Scatter(x=ts, y=c_cum_cost, mode='lines', showlegend=False, line=dict(color=\"#00e476\")), row=1, col=2)\n",
    "fig.add_trace(go.Scatter(x=ts, y=uc_cum_cost, mode='lines', showlegend=False, line=dict(color=\"#FFe476\")), row=1, col=2)\n",
    "fig.update_layout(\n",
    "    title=\"Minimise amount of X | Minimise the costs (hold both close to zero)\",\n",
    "    xaxis_title=\"t\",\n",
    "    yaxis_title=\"X\",\n",
    "    font=dict(\n",
    "        family=\"Courier New, monospace\",\n",
    "        size=14\n",
    "    )\n",
    ")\n",
    "fig.show()"
   ]
  },
  {
   "cell_type": "markdown",
   "id": "medieval-elizabeth",
   "metadata": {},
   "source": [
    "Example: Assume that the UK is subject to another disease outbreak. Each patient admission costs certain resources. We intend to reduce the amount of people in hospitals as quickly as possible to bound admission costs."
   ]
  },
  {
   "cell_type": "markdown",
   "id": "intensive-reunion",
   "metadata": {},
   "source": [
    "## !!! Problems: For high terminal cost, the value function approximation becomes inaccurate. For 0 terminal cost the control solution becomes a divergingly high control signal\n",
    "\n",
    "## !!! Any value of H positive leads to a control solution that diverge, taking the negative of that control signal seems optimal\n",
    "\n",
    "## !!! This is because the control function exploits erroneous approximations of the value function\n",
    "\n",
    "==> Counteract by introducing regularizing noise to control function and delaying the control update"
   ]
  },
  {
   "cell_type": "markdown",
   "id": "encouraging-velvet",
   "metadata": {},
   "source": [
    "### Linear-quadratic control problem N-dimensional (Riccati Equation) "
   ]
  },
  {
   "cell_type": "markdown",
   "id": "isolated-briefs",
   "metadata": {},
   "source": [
    "We consider the same problem with $H_t \\in \\mathbb{R}^{n \\times n}$,\n",
    "$M_t \\in \\mathbb{R}^{n \\times k}$, $\\sigma_t \\in \\mathbb{R}^{n \\times m}$ (for now a scalar), $C_t \\in \\mathbb{R}^{n \\times n}$, $D_t \\in \\mathbb{R}^{k \\times n}$, and $R \\in \\mathbb{R}^{n \\times n}$. We also have, $u(t, X_t) \\in\\mathbb{R}^k$."
   ]
  },
  {
   "cell_type": "markdown",
   "id": "adult-excellence",
   "metadata": {},
   "source": [
    "Let $(\\Omega, \\mathcal{F}, \\{\\mathcal{F}_t\\}_{t\\in [0, T]}, \\mathbb{P})$. We consider\n",
    "$$\n",
    "\\begin{cases}\n",
    "dX_s = [H_sX_s + M_s u_s] ds + \\sigma_s dW_s, \\; s \\in [0, T] \\\\\n",
    "X_0 = x > 0\n",
    "\\end{cases},\n",
    "$$"
   ]
  },
  {
   "cell_type": "markdown",
   "id": "floral-census",
   "metadata": {},
   "source": [
    "We aim to maximise\n",
    "$$\n",
    "J^u(t, x) := \\mathbb{E}^{t, x} \\Big[ \\int_t^T X_s^T C_s X_s + u_s^T D_s u_s ds + X_T^T R X_T\\Big],\n",
    "$$\n",
    "with $C(t) = C \\leq 0, R \\leq 0$, and $D=D(t) < -\\delta < 0$ given and deterministic ($\\delta > 0$ some constant)."
   ]
  },
  {
   "cell_type": "markdown",
   "id": "behavioral-boulder",
   "metadata": {},
   "source": [
    "We write down the problem in its primal form as\n",
    "$$\n",
    "\\begin{cases}\n",
    "\\partial_t J(t, x) + \\sup_{u} \\Big\\{ \\frac{1}{2} \\sigma^2 \\sum_{1 \\leq i, j \\leq n} \\Delta_{x_i x_j} J(t, x) + [H x + M u]^T \\cdot \\nabla_x J(t, x) + x^T C x + u^T D u \\Big\\} = 0 \\text{ on $[0, T] \\times (0, \\infty)$}\n",
    "\\\\\n",
    "J(T, x) = x^T R x \\text{ $\\forall x \\in \\mathbb{R}$}\n",
    "\\end{cases}\n",
    "$$"
   ]
  },
  {
   "cell_type": "markdown",
   "id": "selected-translation",
   "metadata": {},
   "source": [
    "For now, we will consider the problem without the terminal condition."
   ]
  },
  {
   "cell_type": "code",
   "execution_count": null,
   "id": "latin-intelligence",
   "metadata": {},
   "outputs": [],
   "source": [
    "class LQR_N(HBJ):\n",
    "    def __init__(self):\n",
    "        super().__init__()\n",
    "        self.H = torch.tensor([[0.1, 0],\n",
    "                              [0.0, 0.1]])\n",
    "        self.M = torch.tensor([[2.0, 0],\n",
    "                              [0.0, 2.0]])\n",
    "        self.C = torch.tensor([[-2.0, 0],\n",
    "                              [0.0, -2.0]])\n",
    "        self.R = torch.tensor([[-0.001, 0],\n",
    "                              [0.0, -0.001]])\n",
    "        self.D = torch.tensor([[-0.2, 0],\n",
    "                              [0.0, -0.2]])\n",
    "        self.σ = 0.1\n",
    "        \n",
    "        self.var_dim_J = 3 # (x, y, t)\n",
    "        self.sol_dim = 2\n",
    "        self.control_vars = [0, 1, 2]\n",
    "        self.cost_function = lambda u, var: (var[:2] |bdotb| (self.C |mdotb| var[:2])) + ((u |bdotm| self.D) |bdotb| u)\n",
    "        self.differential_operator = lambda J, u, var: (((self.H |mdotb| var[:2]) + (self.M |mdotb| u)) |bdotb| D(J, var[:2])) + (1/2)*self.σ**2*sum([div(div(J, var[i]), var[j]) for i, j in product(range(2), range(2))])\n",
    "        self.domain_func = [(lambda var: [var[0]*2-1, var[1]*2-1, var[2]], 128)]\n",
    "        self.boundary_cond_J = [lambda J, var: J - ((var[:2] |bdotm| self.R) |bdotb| var[:2])]\n",
    "        self.boundary_func_J = [(lambda var: [var[0]*2-1, var[1]*2-1, var[2]*0 + 1], 64)]\n",
    "        self.boundary_cond_u = [lambda u, var: torch.clamp(div(u, var[0]), min=0),\n",
    "                               lambda u, var: torch.clamp(div(u, var[1]), min=0)]\n",
    "        self.boundary_func_u = [(lambda var: [var[0]*2-1, var[1]*2-1, var[2]], 32),\n",
    "                               (lambda var: [var[0]*2-1, var[1]*2-1, var[2]], 32)]"
   ]
  },
  {
   "cell_type": "code",
   "execution_count": null,
   "id": "ancient-abuse",
   "metadata": {},
   "outputs": [],
   "source": [
    "LQR_N_MODEL_CONFIG = {\n",
    "    \"hidden_dim\": 64,\n",
    "    \"learning_rate\": 5e-3,\n",
    "    \"loss_weights\": (1, 1),\n",
    "    \"lr_decay\": 0.99,\n",
    "    \"sampling_method\": \"uniform\",\n",
    "    \"network_type\": \"GRU\",\n",
    "    \"optimiser\": \"Adam\",\n",
    "    \"delay_control\": 2,\n",
    "    \"alpha_noise\": 0.1\n",
    "}\n",
    "eq = LQR_N()\n",
    "model = LQR_N_MODEL_CONFIG\n",
    "solver = DGMPIASolver(model, eq)\n",
    "loss = np.array(list(solver.train(500)))\n",
    "plot_losses(loss)"
   ]
  },
  {
   "cell_type": "markdown",
   "id": "animal-relaxation",
   "metadata": {},
   "source": [
    "#### Simulating the Process:"
   ]
  },
  {
   "cell_type": "markdown",
   "id": "smart-racing",
   "metadata": {},
   "source": [
    "Let $(\\Omega, \\mathcal{F}, \\{\\mathcal{F}_t\\}_{t\\in [0, T]}, \\mathbb{P})$. We consider\n",
    "$$\n",
    "\\begin{cases}\n",
    "dX_s = [H_sX_s + M_s u_s] ds + \\sigma_s dW_s, \\; s \\in [0, T] \\\\\n",
    "X_0 = x > 0\n",
    "\\end{cases},\n",
    "$$"
   ]
  },
  {
   "cell_type": "code",
   "execution_count": null,
   "id": "governmental-ceramic",
   "metadata": {},
   "outputs": [],
   "source": [
    "n = 50\n",
    "c_xs = np.zeros((2, n))\n",
    "c_xs[:, 0] = 0.5\n",
    "uc_xs = np.zeros((2, n))\n",
    "uc_xs[:, 0] = c_xs[:, 0]\n",
    "dt = 1/n\n",
    "ts = [t for t in np.linspace(0, 1, n)]\n",
    "c_cum_cost = np.zeros(n)\n",
    "uc_cum_cost = np.zeros(n)\n",
    "for i in range(n-1):\n",
    "    dW = np.sqrt(dt)*np.random.randn(2, 1)\n",
    "    c = np.expand_dims(solver.u(c_xs[0, i], c_xs[1, i], i*dt), axis=1)\n",
    "    uc = np.zeros((2, 1))\n",
    "    c_xs[:, None, i+1] = c_xs[:, None, i] + (eq.H.numpy() @ c_xs[:, None, i] + eq.M.numpy() @ c)*dt + eq.σ*dW\n",
    "    uc_xs[:, None, i+1] = uc_xs[:, None, i] + (eq.H.numpy() @ uc_xs[:, None, i] + eq.M.numpy() @ uc)*dt + eq.σ*dW\n",
    "    c_cum_cost[i+1] = c_cum_cost[i] + c_xs[:, None, i].T @ eq.C.numpy() @ c_xs[:, None, i] + c.T @ eq.D.numpy() @ c\n",
    "    uc_cum_cost[i+1] = uc_cum_cost[i] + uc_xs[:, None, i].T @ eq.C.numpy() @ uc_xs[:, None, i] + uc.T @ eq.D.numpy() @ uc\n",
    "\n",
    "c_cum_cost[-1] += c_xs[:, None, -1].T @ eq.R.numpy() @ c_xs[:, None, -1]\n",
    "uc_cum_cost[-1] += uc_xs[:, None, -1].T @ eq.R.numpy() @ uc_xs[:, None, -1]\n",
    "fig = make_subplots(rows=1, cols=2)\n",
    "fig.add_trace(go.Scatter(x=ts, y=c_xs[0], mode='lines', name=\"Controlled\", line=dict(color=\"#00e476\")), row=1, col=1)\n",
    "fig.add_trace(go.Scatter(x=ts, y=c_xs[1], mode='lines', showlegend=False, line=dict(color=\"#00e476\")), row=1, col=1)\n",
    "fig.add_trace(go.Scatter(x=ts, y=uc_xs[0], mode='lines', name=\"Uncontrolled\", line=dict(color=\"#FFe476\")), row=1, col=1)\n",
    "fig.add_trace(go.Scatter(x=ts, y=uc_xs[1], mode='lines', showlegend=False, line=dict(color=\"#FFe476\")), row=1, col=1)\n",
    "fig.add_trace(go.Scatter(x=ts, y=c_cum_cost, mode='lines', showlegend=False, line=dict(color=\"#00e476\")), row=1, col=2)\n",
    "fig.add_trace(go.Scatter(x=ts, y=uc_cum_cost, mode='lines', showlegend=False, line=dict(color=\"#FFe476\")), row=1, col=2)\n",
    "fig.update_layout(\n",
    "    title=\"Minimise amount of X | Minimise the costs (hold both close to zero)\",\n",
    "    xaxis_title=\"t\",\n",
    "    yaxis_title=\"X\",\n",
    "    font=dict(\n",
    "        family=\"Courier New, monospace\",\n",
    "        size=14\n",
    "    )\n",
    ")\n",
    "fig.show()"
   ]
  },
  {
   "cell_type": "markdown",
   "id": "hourly-security",
   "metadata": {},
   "source": [
    "### Black-Scholes-Barenblatt"
   ]
  },
  {
   "cell_type": "markdown",
   "id": "radical-environment",
   "metadata": {},
   "source": [
    "$$\n",
    "\\begin{cases}\n",
    "\\partial_t J(t, x) + \\frac{1}{2} \\text{trace}(\\sigma^2 \\text{diag}(x^2 )\\Delta J(t, x)) + r(\\nabla^T J X - J) = 0 \\text{ on $[0, T] \\times (0, \\infty)$}\n",
    "\\\\\n",
    "J(T, x) = x^2 \\text{ $\\forall x \\in \\mathbb{R}$}\n",
    "\\end{cases}\n",
    "$$"
   ]
  },
  {
   "cell_type": "code",
   "execution_count": null,
   "id": "pacific-european",
   "metadata": {},
   "outputs": [],
   "source": [
    "CONFIG_BSB = {\n",
    "    \"hidden_dim\": 64,\n",
    "    \"learning_rate\": 5e-3,\n",
    "    \"loss_weights\": (1, 1),\n",
    "    \"lr_decay\": 0.99,\n",
    "    \"sampling_method\": \"uniform\",\n",
    "    \"network_type\": \"GRU\",\n",
    "    \"optimiser\": \"Adam\",\n",
    "    \"method\": \"Galerkin\"\n",
    "}\n",
    "class BSB(PDE):\n",
    "    def __init__(self):\n",
    "        super().__init__()\n",
    "        r = 0.05\n",
    "        sigma = 0.3\n",
    "        self.var_dim = 2 # var = (x, t)\n",
    "        self.equation = lambda u, var: div(u, var[-1]) + (1/2)*sum([X**2*Δ(u, var[:-1]) for X in var[:-1]]) + r*((D(u, var[:-1])|bdotb| var[:-1])- u)\n",
    "        self.domain_func = [(lambda var: [(x-0.5)*4 for x in var[:-1]]+ [var[-1]], 128)]\n",
    "        self.boundary_cond = [lambda u, var: u - (var[:-1] |bdotb| var[:-1])]\n",
    "        self.boundary_func = [(lambda var: [(x-0.5)*4 for x in var[:-1]]+ [var[-1]*0+1], 64)]"
   ]
  },
  {
   "cell_type": "code",
   "execution_count": null,
   "id": "noticed-messenger",
   "metadata": {},
   "outputs": [],
   "source": [
    "eq = BSB()\n",
    "model = CONFIG_BSB\n",
    "solver = DeepPDESolver(model, eq)\n",
    "losses = list(solver.train(800))"
   ]
  },
  {
   "cell_type": "code",
   "execution_count": null,
   "id": "complete-accident",
   "metadata": {},
   "outputs": [],
   "source": [
    "avgs = np.convolve(losses, np.ones(10), 'valid') / 10\n",
    "fig = make_subplots(rows=1, cols=1)\n",
    "fig.add_trace(go.Scatter(x=np.arange(len(avgs)), y=avgs, mode='lines', name=\"Error at x=0.1\"), row=1, col=1)\n",
    "fig.update_layout(\n",
    "    title=\"Loss\",\n",
    "    xaxis_title=\"Iterations\",\n",
    "    yaxis_title=\"Loss\",\n",
    "    font=dict(\n",
    "        family=\"Courier New, monospace\",\n",
    "        size=14\n",
    "    )\n",
    ")\n",
    "fig.show()"
   ]
  },
  {
   "cell_type": "code",
   "execution_count": null,
   "id": "indoor-duplicate",
   "metadata": {},
   "outputs": [],
   "source": [
    "from FBSDEs import FBSDESolver\n",
    "from pdes import FBSDE\n",
    "class BSB(FBSDE):\n",
    "    def __init__(self):\n",
    "        super().__init__()\n",
    "        r = 0.05\n",
    "        self.h = lambda X, Y, Z, t: r*(Y-torch.einsum(\"bi, bi -> b\", Z, X).unsqueeze(1))\n",
    "        \n",
    "        self.b = lambda X, t: 0.0*X\n",
    "        self.sigma = lambda X, t: 0.3*torch.diag_embed(X)\n",
    "        \n",
    "        self.terminal_condition = lambda X: torch.einsum(\"bi, bi-> b\", X, X).unsqueeze(1)\n",
    "        \n",
    "        self.var_dim = 2\n",
    "        self.terminal_time = 1     \n",
    "        self.init_sampling_func = lambda X: (X-0.5)*2\n",
    "        self.control_noise = 0.0"
   ]
  },
  {
   "cell_type": "code",
   "execution_count": null,
   "id": "personalized-redhead",
   "metadata": {},
   "outputs": [],
   "source": [
    "BSB_MODEL_CONFIG = {\n",
    "    \"batch_size\": 128,\n",
    "    \"num_discretisation_steps\": 30,\n",
    "    \"hidden_dim\": 64,\n",
    "    \"learning_rate\": 5e-3,\n",
    "    \"lr_decay\": 0.99,\n",
    "    \"network_type\": \"MINI\",\n",
    "    \"optimiser\": \"Adam\"\n",
    "}\n",
    "eq_sim = BSB()\n",
    "solver_sim = FBSDESolver(BSB_MODEL_CONFIG, eq_sim)"
   ]
  },
  {
   "cell_type": "code",
   "execution_count": null,
   "id": "adopted-lightning",
   "metadata": {},
   "outputs": [],
   "source": [
    "num_samples = 2\n",
    "def J_sol(X, t):\n",
    "    r = 0.05\n",
    "    sigma = 0.3\n",
    "    return np.exp((r + sigma**2)*(1 - t))*np.sum(X**2, axis=-1, keepdims=True)\n",
    "Xs, _, ts = solver_sim.simulate_processes(num_samples)\n",
    "Y_sol = J_sol(Xs, ts)"
   ]
  },
  {
   "cell_type": "code",
   "execution_count": null,
   "id": "conceptual-supplier",
   "metadata": {},
   "outputs": [],
   "source": [
    "Y_preds = np.array([[solver.u(*x_b) for x_b in x] for x in Xs])"
   ]
  },
  {
   "cell_type": "code",
   "execution_count": null,
   "id": "random-advocate",
   "metadata": {},
   "outputs": [],
   "source": [
    "fig = make_subplots(rows=1, cols=1)\n",
    "fig.add_trace(go.Scatter(x=ts[:, 0].flatten(), y=Y_preds[:, 0].flatten(), mode='lines', name=\"Prediction\", line=dict(color=\"#FFe476\")), row=1, col=1)\n",
    "fig.add_trace(go.Scatter(x=ts[:, 0].flatten(), y=Y_sol[:, 0].flatten(), mode='lines', name=\"Ground truth\", line=dict(color=\"#00e476\")), row=1, col=1)\n",
    "for i in range(1, num_samples):\n",
    "    fig.add_trace(go.Scatter(x=ts[:, i].flatten(), y=Y_preds[:, i].flatten(), mode='lines', showlegend=False, line=dict(color=\"#FFe476\")), row=1, col=1)\n",
    "    fig.add_trace(go.Scatter(x=ts[:, i].flatten(), y=Y_sol[:, i].flatten(), mode='lines', showlegend=False, line=dict(color=\"#00e476\")), row=1, col=1)\n",
    "fig.update_layout(\n",
    "    title=\"Loss\",\n",
    "    xaxis_title=\"t\",\n",
    "    yaxis_title=\"J\",\n",
    "    font=dict(\n",
    "        family=\"Courier New, monospace\",\n",
    "        size=14\n",
    "    )\n",
    ")\n",
    "fig.show()"
   ]
  },
  {
   "cell_type": "markdown",
   "id": "virgin-jimmy",
   "metadata": {},
   "source": [
    "### Allen-Cahn"
   ]
  },
  {
   "cell_type": "code",
   "execution_count": 101,
   "id": "administrative-pollution",
   "metadata": {},
   "outputs": [],
   "source": [
    "CONFIG_AC = {\n",
    "    \"hidden_dim\": 128,\n",
    "    \"learning_rate\": 5e-3,\n",
    "    \"loss_weights\": (1, 5),\n",
    "    \"lr_decay\": 0.99,\n",
    "    \"sampling_method\": \"uniform\",\n",
    "    \"network_type\": \"RES\",\n",
    "    \"optimiser\": \"Adam\",\n",
    "    \"method\": \"Galerkin\"\n",
    "}\n",
    "class AC(PDE):\n",
    "    def __init__(self):\n",
    "        super().__init__()\n",
    "        self.d = 1.85\n",
    "        self.var_dim = 20 + 1# var = (x, t)\n",
    "        self.equation = lambda u, var: div(u, var[-1]) + (1/2)*Δ(u, var[:-1]) + u - u**3\n",
    "        self.domain_func = [(lambda var: [(x-0.5)*self.d for x in var[:-1]]+ [var[-1]*0.3], 128)]\n",
    "        self.boundary_cond = [lambda u, var: u - 1/(2+0.4*torch.sum(cat(var[:-1])**2, dim=-1, keepdims=True))]#,\n",
    "                             #lambda u, var: torch.sum(D(u, var[:-1])*self.normal, dim=-1)]\n",
    "        self.boundary_func = [(lambda var: [(x-0.5)*self.d for x in var[:-1]]+ [var[-1]*0 + 0.3], 64)]#,\n",
    "                             #(lambda var: self.sample_boundary(var[:-1]) + [var[-1]*0.3], 64)]\n",
    "        #self.normal = torch.zeros((self.boundary_func[1][1], self.var_dim-1))\n",
    "        \n",
    "    def sample_boundary(self, var):\n",
    "        is_boundary = torch.randint(0, self.var_dim-1, size=(var[-1].shape[0], 1)) # idxs for var_dim\n",
    "        mask = F.one_hot(is_boundary, num_classes=self.var_dim-1).squeeze(1)\n",
    "        not_mask = -(mask-1)\n",
    "        sign = torch.sign(torch.rand(size=(var[-1].shape[0], self.var_dim-1))-0.5) # integers -1, 1\n",
    "        re = [(v-0.5)*self.d*not_mask[:, None, i] + mask[:, None, i]*sign[:, None, i] for i, v in enumerate(var)]\n",
    "        self.normal = mask\n",
    "        return re\n",
    "        \n",
    "        "
   ]
  },
  {
   "cell_type": "code",
   "execution_count": 102,
   "id": "aware-spain",
   "metadata": {},
   "outputs": [
    {
     "name": "stderr",
     "output_type": "stream",
     "text": [
      "100%|██████████| 400/400 [02:38<00:00,  2.52 it/s]\n"
     ]
    },
    {
     "data": {
      "application/vnd.plotly.v1+json": {
       "config": {
        "plotlyServerURL": "https://plot.ly"
       },
       "data": [
        {
         "mode": "lines",
         "name": "Error at x=0.1",
         "type": "scatter",
         "x": [
          0,
          1,
          2,
          3,
          4,
          5,
          6,
          7,
          8,
          9,
          10,
          11,
          12,
          13,
          14,
          15,
          16,
          17,
          18,
          19,
          20,
          21,
          22,
          23,
          24,
          25,
          26,
          27,
          28,
          29,
          30,
          31,
          32,
          33,
          34,
          35,
          36,
          37,
          38,
          39,
          40,
          41,
          42,
          43,
          44,
          45,
          46,
          47,
          48,
          49,
          50,
          51,
          52,
          53,
          54,
          55,
          56,
          57,
          58,
          59,
          60,
          61,
          62,
          63,
          64,
          65,
          66,
          67,
          68,
          69,
          70,
          71,
          72,
          73,
          74,
          75,
          76,
          77,
          78,
          79,
          80,
          81,
          82,
          83,
          84,
          85,
          86,
          87,
          88,
          89,
          90,
          91,
          92,
          93,
          94,
          95,
          96,
          97,
          98,
          99,
          100,
          101,
          102,
          103,
          104,
          105,
          106,
          107,
          108,
          109,
          110,
          111,
          112,
          113,
          114,
          115,
          116,
          117,
          118,
          119,
          120,
          121,
          122,
          123,
          124,
          125,
          126,
          127,
          128,
          129,
          130,
          131,
          132,
          133,
          134,
          135,
          136,
          137,
          138,
          139,
          140,
          141,
          142,
          143,
          144,
          145,
          146,
          147,
          148,
          149,
          150,
          151,
          152,
          153,
          154,
          155,
          156,
          157,
          158,
          159,
          160,
          161,
          162,
          163,
          164,
          165,
          166,
          167,
          168,
          169,
          170,
          171,
          172,
          173,
          174,
          175,
          176,
          177,
          178,
          179,
          180,
          181,
          182,
          183,
          184,
          185,
          186,
          187,
          188,
          189,
          190,
          191,
          192,
          193,
          194,
          195,
          196,
          197,
          198,
          199,
          200,
          201,
          202,
          203,
          204,
          205,
          206,
          207,
          208,
          209,
          210,
          211,
          212,
          213,
          214,
          215,
          216,
          217,
          218,
          219,
          220,
          221,
          222,
          223,
          224,
          225,
          226,
          227,
          228,
          229,
          230,
          231,
          232,
          233,
          234,
          235,
          236,
          237,
          238,
          239,
          240,
          241,
          242,
          243,
          244,
          245,
          246,
          247,
          248,
          249,
          250,
          251,
          252,
          253,
          254,
          255,
          256,
          257,
          258,
          259,
          260,
          261,
          262,
          263,
          264,
          265,
          266,
          267,
          268,
          269,
          270,
          271,
          272,
          273,
          274,
          275,
          276,
          277,
          278,
          279,
          280,
          281,
          282,
          283,
          284,
          285,
          286,
          287,
          288,
          289,
          290,
          291,
          292,
          293,
          294,
          295,
          296,
          297,
          298,
          299,
          300,
          301,
          302,
          303,
          304,
          305,
          306,
          307,
          308,
          309,
          310,
          311,
          312,
          313,
          314,
          315,
          316,
          317,
          318,
          319,
          320,
          321,
          322,
          323,
          324,
          325,
          326,
          327,
          328,
          329,
          330,
          331,
          332,
          333,
          334,
          335,
          336,
          337,
          338,
          339,
          340,
          341,
          342,
          343,
          344,
          345,
          346,
          347,
          348,
          349,
          350,
          351,
          352,
          353,
          354,
          355,
          356,
          357,
          358,
          359,
          360,
          361,
          362,
          363,
          364,
          365,
          366,
          367,
          368,
          369,
          370,
          371,
          372,
          373,
          374,
          375,
          376,
          377,
          378,
          379,
          380,
          381,
          382,
          383,
          384,
          385,
          386,
          387,
          388,
          389,
          390
         ],
         "xaxis": "x",
         "y": [
          7.462645500898361,
          7.587981879711151,
          2.3597202062606812,
          2.3174238204956055,
          2.172930008172989,
          2.157207614183426,
          1.9158236682415009,
          1.5806761801242828,
          1.544841706752777,
          1.3383651435375215,
          1.1764851272106172,
          1.1298931658267974,
          1.0401067554950714,
          0.8684149831533432,
          0.8159505099058151,
          0.6871942073106766,
          0.6280646547675133,
          0.5342023387551308,
          0.4577494584023952,
          0.414403160661459,
          0.35454131439328196,
          0.2639384865760803,
          0.21984226256608963,
          0.1872255228459835,
          0.16958162263035775,
          0.14525845423340797,
          0.13533932343125343,
          0.1261318914592266,
          0.1220666453242302,
          0.12370970547199249,
          0.12385858222842216,
          0.12379105016589165,
          0.12022821232676506,
          0.11942866109311581,
          0.11631576828658581,
          0.111793976649642,
          0.10509634464979171,
          0.09731858000159263,
          0.09621197953820229,
          0.0835405707359314,
          0.07497166749089956,
          0.06512634716928005,
          0.05366821344941854,
          0.05415309127420187,
          0.04984413888305426,
          0.04580281134694815,
          0.043172125890851024,
          0.041621290147304535,
          0.038050634786486626,
          0.0340914573520422,
          0.03445307295769453,
          0.03474469296634197,
          0.0333729574456811,
          0.02920232079923153,
          0.025419813022017478,
          0.022521486692130565,
          0.021807380486279726,
          0.021011845115572213,
          0.019178664684295653,
          0.015663386974483728,
          0.01409140443429351,
          0.012565360125154256,
          0.011928608827292918,
          0.011669852398335933,
          0.010720095271244645,
          0.010361606860533357,
          0.00982770132832229,
          0.009314878517761827,
          0.008646638365462422,
          0.008451967174187303,
          0.007675988925620913,
          0.0068731228820979595,
          0.006768673146143556,
          0.006664645113050938,
          0.0065259444527328014,
          0.006451606890186668,
          0.0060586160980165005,
          0.005609377985820174,
          0.005339581170119345,
          0.004956042324192822,
          0.004754944215528667,
          0.004654489387758076,
          0.004454658832401037,
          0.004155186424031854,
          0.004042225936427712,
          0.0036954635987058284,
          0.0036368227330967782,
          0.0034896946628578005,
          0.003471635456662625,
          0.0034995708032511176,
          0.0031137064448557793,
          0.0029795256559737027,
          0.002874308277387172,
          0.0028665575548075138,
          0.0027785331360064445,
          0.0026857240009121597,
          0.0024996841442771257,
          0.002514438913203776,
          0.0025584470015019177,
          0.0023997636046260594,
          0.0023804975906386973,
          0.0023546691867522896,
          0.0023222782299853863,
          0.0022490411647595465,
          0.0021623142180033027,
          0.002109370438847691,
          0.0020577806979417803,
          0.0020125368842855095,
          0.0018846779596060515,
          0.001922395545989275,
          0.0019030170282348991,
          0.001962975680362433,
          0.0018404799629934132,
          0.001846106897573918,
          0.001866916671860963,
          0.0017950628069229424,
          0.0017556407139636577,
          0.001798818667884916,
          0.001850192144047469,
          0.0017685179482214153,
          0.0016933922772295773,
          0.0016135372337885202,
          0.0016691823140718043,
          0.0016730749863199889,
          0.0016249010222963989,
          0.0016401563654653728,
          0.001632156886626035,
          0.0016388542833738029,
          0.0015350517700426281,
          0.0015075362636707724,
          0.001526784838642925,
          0.0015567560680210591,
          0.0015323220519348978,
          0.0015270170639269053,
          0.001571601419709623,
          0.0015032097755465657,
          0.0014948055089917035,
          0.0014696291938889772,
          0.0014517017698381096,
          0.001409845636226237,
          0.001404555782210082,
          0.0013835646328516304,
          0.0013414861634373665,
          0.0013258761959150434,
          0.001323060179129243,
          0.0013499997498001904,
          0.0013124123506713659,
          0.0012955302430782468,
          0.0012647137104067952,
          0.0012953144032508135,
          0.001268282870296389,
          0.0012273908709175886,
          0.0012395765399560333,
          0.0012692051124759019,
          0.0011900371813680977,
          0.0012164641229901463,
          0.0011925220780540258,
          0.0011814783152658491,
          0.0011896656185854226,
          0.0011568471498321741,
          0.0011667970509734004,
          0.001193260686704889,
          0.001227205985924229,
          0.0012579774193000048,
          0.0012799019808880986,
          0.0012542944052256644,
          0.0012802473269402982,
          0.0012884175986982882,
          0.0012995105586014687,
          0.0013176784967072308,
          0.0013258456252515315,
          0.0012739776400849223,
          0.00122856548987329,
          0.0012131866300478578,
          0.001258799119386822,
          0.0012316880282014608,
          0.001267967012245208,
          0.0012309066252782941,
          0.0011959163879510016,
          0.001189098338363692,
          0.0011585533909965306,
          0.0012290404236409813,
          0.001205137389479205,
          0.001110907131806016,
          0.0010501616285182535,
          0.0010235073219519108,
          0.0010049639677163213,
          0.0010042721347417682,
          0.0010050102253444492,
          0.0010099852341227233,
          0.0010373686207458376,
          0.0009966947021894158,
          0.0010100394487380982,
          0.0010355191014241427,
          0.0010268338897731154,
          0.0010702543891966342,
          0.0010718345060013235,
          0.0010422743274830283,
          0.0010287989978678524,
          0.0010290550184436143,
          0.0009735560801345855,
          0.0009585198655258864,
          0.0009443436574656516,
          0.0009526445588562638,
          0.0009389492217451334,
          0.0009238589322194457,
          0.0008939885650761425,
          0.0008890032942872495,
          0.0008975265256594867,
          0.000869373744353652,
          0.000871449097758159,
          0.000841448939172551,
          0.0008734671340789646,
          0.0008378551865462214,
          0.00088133200770244,
          0.0008637608028948307,
          0.0008756264112889766,
          0.0008668910886626691,
          0.0008850304002407938,
          0.0008817090187221765,
          0.0008982606115750969,
          0.0009048206207808107,
          0.000859735399717465,
          0.0008744330785702914,
          0.0008378525963053107,
          0.0008401742205023765,
          0.0007980454131029547,
          0.0008321783388964832,
          0.0007921174168586731,
          0.0007888991909567267,
          0.0007533901429269463,
          0.0007479941414203495,
          0.0007407379045616836,
          0.0007472080236766487,
          0.0007394810090772808,
          0.0007268736837431789,
          0.0007334416906815023,
          0.0006953107076697052,
          0.0007028304215054959,
          0.0007029729720670729,
          0.0007134507875889539,
          0.0007092899817507714,
          0.0007092334562912583,
          0.0007045437523629516,
          0.0006992588518187403,
          0.0007528785383328796,
          0.0007569035049527883,
          0.0007265585067216307,
          0.0007568121538497508,
          0.0007644574507139623,
          0.0007687365636229515,
          0.0007521369669120758,
          0.0007892841007560491,
          0.0007576204952783883,
          0.0007631721149664372,
          0.0007228010159451515,
          0.0006943883723579347,
          0.000719855003990233,
          0.0006938244332559407,
          0.0007056933420244605,
          0.0007128344383090735,
          0.0007254933763761074,
          0.0006800149742048234,
          0.0006704747909680008,
          0.0006672732764855027,
          0.000655447447206825,
          0.000680791586637497,
          0.0006689469679258764,
          0.0006622601649723947,
          0.0006304289447143674,
          0.0006360002793371677,
          0.0006208056234754622,
          0.0006158870412036777,
          0.0006149449618533254,
          0.0006047171540558338,
          0.0005960991373285651,
          0.0005970317753963173,
          0.0006328095332719386,
          0.0006302702764514834,
          0.0006250158359762282,
          0.0006075446784961968,
          0.0006137021584436298,
          0.0006196475471369923,
          0.0006357748643495142,
          0.0006423388200346381,
          0.0006559668283443898,
          0.0006481436372268945,
          0.0006298919091932475,
          0.0006299407861661166,
          0.0006234408705495298,
          0.0006021231121849269,
          0.000593541981652379,
          0.0005969399935565889,
          0.0005844670871738344,
          0.0005702815193217248,
          0.0005834933079313486,
          0.0005862250225618481,
          0.000560641847550869,
          0.000558884342899546,
          0.0005691170750651509,
          0.0005815027805510908,
          0.0005806245899293572,
          0.0005717477935831994,
          0.0005681003036443144,
          0.0005703905073460192,
          0.0005339316441677511,
          0.0005343203723896295,
          0.0005719601293094456,
          0.0005636807356495411,
          0.0005770272458903491,
          0.00058581298799254,
          0.0005782488820841536,
          0.0006258474517380819,
          0.0006580705143278464,
          0.0006869795644888655,
          0.0006830538477515802,
          0.0006597509724088013,
          0.0006474868685472756,
          0.0006435208080802113,
          0.0006429207103792578,
          0.0006287130701821298,
          0.0006302310328464955,
          0.0005866732506547123,
          0.0005659746704623104,
          0.0005364479031413794,
          0.0005398283450631425,
          0.000568177126115188,
          0.0005341647396562621,
          0.0005463586043333635,
          0.0005353856919100508,
          0.0005616122070932761,
          0.0005567021784372628,
          0.0005895341630093754,
          0.0005775854398962111,
          0.0005766784015577286,
          0.0005838767945533618,
          0.0005600544915068895,
          0.000566794237238355,
          0.0005547148321056738,
          0.0005541058286326006,
          0.0005734259466407821,
          0.000594848339096643,
          0.0005726485949708148,
          0.0006160755670862273,
          0.0006260148453293368,
          0.0006325477355858311,
          0.0006338518636766821,
          0.0006399428064469248,
          0.0006505550758447498,
          0.0006464948237407953,
          0.0006080165447201579,
          0.0006014336831867695,
          0.0005742279055994004,
          0.0005302641220623627,
          0.0005130151548655704,
          0.000509941959171556,
          0.0005179374449653551,
          0.0005059510382125154,
          0.0004836210689973086,
          0.00048801542143337426,
          0.00047651546192355453,
          0.0004661183978896588,
          0.00047737998538650573,
          0.0004781355382874608,
          0.000485056932666339,
          0.0004777570225996897,
          0.0004613176075508818,
          0.0004738188843475655,
          0.0004926158406306058,
          0.0004885010712314397,
          0.00052142518106848,
          0.0005299217824358493,
          0.0005324503581505269,
          0.0005665404518367722,
          0.0005615273315925151,
          0.0005594664660748094,
          0.0005777608603239059,
          0.0005759420746471733,
          0.0005629434541333467,
          0.0005594191316049546,
          0.0005271689849905669,
          0.0005231767543591558,
          0.0005144842434674501,
          0.0004638220532797277,
          0.00046043233887758104,
          0.00046375342644751073,
          0.00046524794888682666,
          0.00045144526520743964,
          0.00045440574176609517,
          0.00043464672926347704,
          0.0004409943794598803
         ],
         "yaxis": "y"
        }
       ],
       "layout": {
        "font": {
         "family": "Courier New, monospace",
         "size": 14
        },
        "template": {
         "data": {
          "bar": [
           {
            "error_x": {
             "color": "#2a3f5f"
            },
            "error_y": {
             "color": "#2a3f5f"
            },
            "marker": {
             "line": {
              "color": "#E5ECF6",
              "width": 0.5
             }
            },
            "type": "bar"
           }
          ],
          "barpolar": [
           {
            "marker": {
             "line": {
              "color": "#E5ECF6",
              "width": 0.5
             }
            },
            "type": "barpolar"
           }
          ],
          "carpet": [
           {
            "aaxis": {
             "endlinecolor": "#2a3f5f",
             "gridcolor": "white",
             "linecolor": "white",
             "minorgridcolor": "white",
             "startlinecolor": "#2a3f5f"
            },
            "baxis": {
             "endlinecolor": "#2a3f5f",
             "gridcolor": "white",
             "linecolor": "white",
             "minorgridcolor": "white",
             "startlinecolor": "#2a3f5f"
            },
            "type": "carpet"
           }
          ],
          "choropleth": [
           {
            "colorbar": {
             "outlinewidth": 0,
             "ticks": ""
            },
            "type": "choropleth"
           }
          ],
          "contour": [
           {
            "colorbar": {
             "outlinewidth": 0,
             "ticks": ""
            },
            "colorscale": [
             [
              0,
              "#0d0887"
             ],
             [
              0.1111111111111111,
              "#46039f"
             ],
             [
              0.2222222222222222,
              "#7201a8"
             ],
             [
              0.3333333333333333,
              "#9c179e"
             ],
             [
              0.4444444444444444,
              "#bd3786"
             ],
             [
              0.5555555555555556,
              "#d8576b"
             ],
             [
              0.6666666666666666,
              "#ed7953"
             ],
             [
              0.7777777777777778,
              "#fb9f3a"
             ],
             [
              0.8888888888888888,
              "#fdca26"
             ],
             [
              1,
              "#f0f921"
             ]
            ],
            "type": "contour"
           }
          ],
          "contourcarpet": [
           {
            "colorbar": {
             "outlinewidth": 0,
             "ticks": ""
            },
            "type": "contourcarpet"
           }
          ],
          "heatmap": [
           {
            "colorbar": {
             "outlinewidth": 0,
             "ticks": ""
            },
            "colorscale": [
             [
              0,
              "#0d0887"
             ],
             [
              0.1111111111111111,
              "#46039f"
             ],
             [
              0.2222222222222222,
              "#7201a8"
             ],
             [
              0.3333333333333333,
              "#9c179e"
             ],
             [
              0.4444444444444444,
              "#bd3786"
             ],
             [
              0.5555555555555556,
              "#d8576b"
             ],
             [
              0.6666666666666666,
              "#ed7953"
             ],
             [
              0.7777777777777778,
              "#fb9f3a"
             ],
             [
              0.8888888888888888,
              "#fdca26"
             ],
             [
              1,
              "#f0f921"
             ]
            ],
            "type": "heatmap"
           }
          ],
          "heatmapgl": [
           {
            "colorbar": {
             "outlinewidth": 0,
             "ticks": ""
            },
            "colorscale": [
             [
              0,
              "#0d0887"
             ],
             [
              0.1111111111111111,
              "#46039f"
             ],
             [
              0.2222222222222222,
              "#7201a8"
             ],
             [
              0.3333333333333333,
              "#9c179e"
             ],
             [
              0.4444444444444444,
              "#bd3786"
             ],
             [
              0.5555555555555556,
              "#d8576b"
             ],
             [
              0.6666666666666666,
              "#ed7953"
             ],
             [
              0.7777777777777778,
              "#fb9f3a"
             ],
             [
              0.8888888888888888,
              "#fdca26"
             ],
             [
              1,
              "#f0f921"
             ]
            ],
            "type": "heatmapgl"
           }
          ],
          "histogram": [
           {
            "marker": {
             "colorbar": {
              "outlinewidth": 0,
              "ticks": ""
             }
            },
            "type": "histogram"
           }
          ],
          "histogram2d": [
           {
            "colorbar": {
             "outlinewidth": 0,
             "ticks": ""
            },
            "colorscale": [
             [
              0,
              "#0d0887"
             ],
             [
              0.1111111111111111,
              "#46039f"
             ],
             [
              0.2222222222222222,
              "#7201a8"
             ],
             [
              0.3333333333333333,
              "#9c179e"
             ],
             [
              0.4444444444444444,
              "#bd3786"
             ],
             [
              0.5555555555555556,
              "#d8576b"
             ],
             [
              0.6666666666666666,
              "#ed7953"
             ],
             [
              0.7777777777777778,
              "#fb9f3a"
             ],
             [
              0.8888888888888888,
              "#fdca26"
             ],
             [
              1,
              "#f0f921"
             ]
            ],
            "type": "histogram2d"
           }
          ],
          "histogram2dcontour": [
           {
            "colorbar": {
             "outlinewidth": 0,
             "ticks": ""
            },
            "colorscale": [
             [
              0,
              "#0d0887"
             ],
             [
              0.1111111111111111,
              "#46039f"
             ],
             [
              0.2222222222222222,
              "#7201a8"
             ],
             [
              0.3333333333333333,
              "#9c179e"
             ],
             [
              0.4444444444444444,
              "#bd3786"
             ],
             [
              0.5555555555555556,
              "#d8576b"
             ],
             [
              0.6666666666666666,
              "#ed7953"
             ],
             [
              0.7777777777777778,
              "#fb9f3a"
             ],
             [
              0.8888888888888888,
              "#fdca26"
             ],
             [
              1,
              "#f0f921"
             ]
            ],
            "type": "histogram2dcontour"
           }
          ],
          "mesh3d": [
           {
            "colorbar": {
             "outlinewidth": 0,
             "ticks": ""
            },
            "type": "mesh3d"
           }
          ],
          "parcoords": [
           {
            "line": {
             "colorbar": {
              "outlinewidth": 0,
              "ticks": ""
             }
            },
            "type": "parcoords"
           }
          ],
          "pie": [
           {
            "automargin": true,
            "type": "pie"
           }
          ],
          "scatter": [
           {
            "marker": {
             "colorbar": {
              "outlinewidth": 0,
              "ticks": ""
             }
            },
            "type": "scatter"
           }
          ],
          "scatter3d": [
           {
            "line": {
             "colorbar": {
              "outlinewidth": 0,
              "ticks": ""
             }
            },
            "marker": {
             "colorbar": {
              "outlinewidth": 0,
              "ticks": ""
             }
            },
            "type": "scatter3d"
           }
          ],
          "scattercarpet": [
           {
            "marker": {
             "colorbar": {
              "outlinewidth": 0,
              "ticks": ""
             }
            },
            "type": "scattercarpet"
           }
          ],
          "scattergeo": [
           {
            "marker": {
             "colorbar": {
              "outlinewidth": 0,
              "ticks": ""
             }
            },
            "type": "scattergeo"
           }
          ],
          "scattergl": [
           {
            "marker": {
             "colorbar": {
              "outlinewidth": 0,
              "ticks": ""
             }
            },
            "type": "scattergl"
           }
          ],
          "scattermapbox": [
           {
            "marker": {
             "colorbar": {
              "outlinewidth": 0,
              "ticks": ""
             }
            },
            "type": "scattermapbox"
           }
          ],
          "scatterpolar": [
           {
            "marker": {
             "colorbar": {
              "outlinewidth": 0,
              "ticks": ""
             }
            },
            "type": "scatterpolar"
           }
          ],
          "scatterpolargl": [
           {
            "marker": {
             "colorbar": {
              "outlinewidth": 0,
              "ticks": ""
             }
            },
            "type": "scatterpolargl"
           }
          ],
          "scatterternary": [
           {
            "marker": {
             "colorbar": {
              "outlinewidth": 0,
              "ticks": ""
             }
            },
            "type": "scatterternary"
           }
          ],
          "surface": [
           {
            "colorbar": {
             "outlinewidth": 0,
             "ticks": ""
            },
            "colorscale": [
             [
              0,
              "#0d0887"
             ],
             [
              0.1111111111111111,
              "#46039f"
             ],
             [
              0.2222222222222222,
              "#7201a8"
             ],
             [
              0.3333333333333333,
              "#9c179e"
             ],
             [
              0.4444444444444444,
              "#bd3786"
             ],
             [
              0.5555555555555556,
              "#d8576b"
             ],
             [
              0.6666666666666666,
              "#ed7953"
             ],
             [
              0.7777777777777778,
              "#fb9f3a"
             ],
             [
              0.8888888888888888,
              "#fdca26"
             ],
             [
              1,
              "#f0f921"
             ]
            ],
            "type": "surface"
           }
          ],
          "table": [
           {
            "cells": {
             "fill": {
              "color": "#EBF0F8"
             },
             "line": {
              "color": "white"
             }
            },
            "header": {
             "fill": {
              "color": "#C8D4E3"
             },
             "line": {
              "color": "white"
             }
            },
            "type": "table"
           }
          ]
         },
         "layout": {
          "annotationdefaults": {
           "arrowcolor": "#2a3f5f",
           "arrowhead": 0,
           "arrowwidth": 1
          },
          "autotypenumbers": "strict",
          "coloraxis": {
           "colorbar": {
            "outlinewidth": 0,
            "ticks": ""
           }
          },
          "colorscale": {
           "diverging": [
            [
             0,
             "#8e0152"
            ],
            [
             0.1,
             "#c51b7d"
            ],
            [
             0.2,
             "#de77ae"
            ],
            [
             0.3,
             "#f1b6da"
            ],
            [
             0.4,
             "#fde0ef"
            ],
            [
             0.5,
             "#f7f7f7"
            ],
            [
             0.6,
             "#e6f5d0"
            ],
            [
             0.7,
             "#b8e186"
            ],
            [
             0.8,
             "#7fbc41"
            ],
            [
             0.9,
             "#4d9221"
            ],
            [
             1,
             "#276419"
            ]
           ],
           "sequential": [
            [
             0,
             "#0d0887"
            ],
            [
             0.1111111111111111,
             "#46039f"
            ],
            [
             0.2222222222222222,
             "#7201a8"
            ],
            [
             0.3333333333333333,
             "#9c179e"
            ],
            [
             0.4444444444444444,
             "#bd3786"
            ],
            [
             0.5555555555555556,
             "#d8576b"
            ],
            [
             0.6666666666666666,
             "#ed7953"
            ],
            [
             0.7777777777777778,
             "#fb9f3a"
            ],
            [
             0.8888888888888888,
             "#fdca26"
            ],
            [
             1,
             "#f0f921"
            ]
           ],
           "sequentialminus": [
            [
             0,
             "#0d0887"
            ],
            [
             0.1111111111111111,
             "#46039f"
            ],
            [
             0.2222222222222222,
             "#7201a8"
            ],
            [
             0.3333333333333333,
             "#9c179e"
            ],
            [
             0.4444444444444444,
             "#bd3786"
            ],
            [
             0.5555555555555556,
             "#d8576b"
            ],
            [
             0.6666666666666666,
             "#ed7953"
            ],
            [
             0.7777777777777778,
             "#fb9f3a"
            ],
            [
             0.8888888888888888,
             "#fdca26"
            ],
            [
             1,
             "#f0f921"
            ]
           ]
          },
          "colorway": [
           "#636efa",
           "#EF553B",
           "#00cc96",
           "#ab63fa",
           "#FFA15A",
           "#19d3f3",
           "#FF6692",
           "#B6E880",
           "#FF97FF",
           "#FECB52"
          ],
          "font": {
           "color": "#2a3f5f"
          },
          "geo": {
           "bgcolor": "white",
           "lakecolor": "white",
           "landcolor": "#E5ECF6",
           "showlakes": true,
           "showland": true,
           "subunitcolor": "white"
          },
          "hoverlabel": {
           "align": "left"
          },
          "hovermode": "closest",
          "mapbox": {
           "style": "light"
          },
          "paper_bgcolor": "white",
          "plot_bgcolor": "#E5ECF6",
          "polar": {
           "angularaxis": {
            "gridcolor": "white",
            "linecolor": "white",
            "ticks": ""
           },
           "bgcolor": "#E5ECF6",
           "radialaxis": {
            "gridcolor": "white",
            "linecolor": "white",
            "ticks": ""
           }
          },
          "scene": {
           "xaxis": {
            "backgroundcolor": "#E5ECF6",
            "gridcolor": "white",
            "gridwidth": 2,
            "linecolor": "white",
            "showbackground": true,
            "ticks": "",
            "zerolinecolor": "white"
           },
           "yaxis": {
            "backgroundcolor": "#E5ECF6",
            "gridcolor": "white",
            "gridwidth": 2,
            "linecolor": "white",
            "showbackground": true,
            "ticks": "",
            "zerolinecolor": "white"
           },
           "zaxis": {
            "backgroundcolor": "#E5ECF6",
            "gridcolor": "white",
            "gridwidth": 2,
            "linecolor": "white",
            "showbackground": true,
            "ticks": "",
            "zerolinecolor": "white"
           }
          },
          "shapedefaults": {
           "line": {
            "color": "#2a3f5f"
           }
          },
          "ternary": {
           "aaxis": {
            "gridcolor": "white",
            "linecolor": "white",
            "ticks": ""
           },
           "baxis": {
            "gridcolor": "white",
            "linecolor": "white",
            "ticks": ""
           },
           "bgcolor": "#E5ECF6",
           "caxis": {
            "gridcolor": "white",
            "linecolor": "white",
            "ticks": ""
           }
          },
          "title": {
           "x": 0.05
          },
          "xaxis": {
           "automargin": true,
           "gridcolor": "white",
           "linecolor": "white",
           "ticks": "",
           "title": {
            "standoff": 15
           },
           "zerolinecolor": "white",
           "zerolinewidth": 2
          },
          "yaxis": {
           "automargin": true,
           "gridcolor": "white",
           "linecolor": "white",
           "ticks": "",
           "title": {
            "standoff": 15
           },
           "zerolinecolor": "white",
           "zerolinewidth": 2
          }
         }
        },
        "title": {
         "text": "Loss"
        },
        "xaxis": {
         "anchor": "y",
         "domain": [
          0,
          1
         ],
         "title": {
          "text": "Iterations"
         }
        },
        "yaxis": {
         "anchor": "x",
         "domain": [
          0,
          1
         ],
         "title": {
          "text": "Loss"
         }
        }
       }
      },
      "text/html": [
       "<div>                            <div id=\"d56accac-81ba-458b-9b5d-4448bf518753\" class=\"plotly-graph-div\" style=\"height:525px; width:100%;\"></div>            <script type=\"text/javascript\">                require([\"plotly\"], function(Plotly) {                    window.PLOTLYENV=window.PLOTLYENV || {};                                    if (document.getElementById(\"d56accac-81ba-458b-9b5d-4448bf518753\")) {                    Plotly.newPlot(                        \"d56accac-81ba-458b-9b5d-4448bf518753\",                        [{\"mode\": \"lines\", \"name\": \"Error at x=0.1\", \"type\": \"scatter\", \"x\": [0, 1, 2, 3, 4, 5, 6, 7, 8, 9, 10, 11, 12, 13, 14, 15, 16, 17, 18, 19, 20, 21, 22, 23, 24, 25, 26, 27, 28, 29, 30, 31, 32, 33, 34, 35, 36, 37, 38, 39, 40, 41, 42, 43, 44, 45, 46, 47, 48, 49, 50, 51, 52, 53, 54, 55, 56, 57, 58, 59, 60, 61, 62, 63, 64, 65, 66, 67, 68, 69, 70, 71, 72, 73, 74, 75, 76, 77, 78, 79, 80, 81, 82, 83, 84, 85, 86, 87, 88, 89, 90, 91, 92, 93, 94, 95, 96, 97, 98, 99, 100, 101, 102, 103, 104, 105, 106, 107, 108, 109, 110, 111, 112, 113, 114, 115, 116, 117, 118, 119, 120, 121, 122, 123, 124, 125, 126, 127, 128, 129, 130, 131, 132, 133, 134, 135, 136, 137, 138, 139, 140, 141, 142, 143, 144, 145, 146, 147, 148, 149, 150, 151, 152, 153, 154, 155, 156, 157, 158, 159, 160, 161, 162, 163, 164, 165, 166, 167, 168, 169, 170, 171, 172, 173, 174, 175, 176, 177, 178, 179, 180, 181, 182, 183, 184, 185, 186, 187, 188, 189, 190, 191, 192, 193, 194, 195, 196, 197, 198, 199, 200, 201, 202, 203, 204, 205, 206, 207, 208, 209, 210, 211, 212, 213, 214, 215, 216, 217, 218, 219, 220, 221, 222, 223, 224, 225, 226, 227, 228, 229, 230, 231, 232, 233, 234, 235, 236, 237, 238, 239, 240, 241, 242, 243, 244, 245, 246, 247, 248, 249, 250, 251, 252, 253, 254, 255, 256, 257, 258, 259, 260, 261, 262, 263, 264, 265, 266, 267, 268, 269, 270, 271, 272, 273, 274, 275, 276, 277, 278, 279, 280, 281, 282, 283, 284, 285, 286, 287, 288, 289, 290, 291, 292, 293, 294, 295, 296, 297, 298, 299, 300, 301, 302, 303, 304, 305, 306, 307, 308, 309, 310, 311, 312, 313, 314, 315, 316, 317, 318, 319, 320, 321, 322, 323, 324, 325, 326, 327, 328, 329, 330, 331, 332, 333, 334, 335, 336, 337, 338, 339, 340, 341, 342, 343, 344, 345, 346, 347, 348, 349, 350, 351, 352, 353, 354, 355, 356, 357, 358, 359, 360, 361, 362, 363, 364, 365, 366, 367, 368, 369, 370, 371, 372, 373, 374, 375, 376, 377, 378, 379, 380, 381, 382, 383, 384, 385, 386, 387, 388, 389, 390], \"xaxis\": \"x\", \"y\": [7.462645500898361, 7.587981879711151, 2.3597202062606812, 2.3174238204956055, 2.172930008172989, 2.157207614183426, 1.9158236682415009, 1.5806761801242828, 1.544841706752777, 1.3383651435375215, 1.1764851272106172, 1.1298931658267974, 1.0401067554950714, 0.8684149831533432, 0.8159505099058151, 0.6871942073106766, 0.6280646547675133, 0.5342023387551308, 0.4577494584023952, 0.414403160661459, 0.35454131439328196, 0.2639384865760803, 0.21984226256608963, 0.1872255228459835, 0.16958162263035775, 0.14525845423340797, 0.13533932343125343, 0.1261318914592266, 0.1220666453242302, 0.12370970547199249, 0.12385858222842216, 0.12379105016589165, 0.12022821232676506, 0.11942866109311581, 0.11631576828658581, 0.111793976649642, 0.10509634464979171, 0.09731858000159263, 0.09621197953820229, 0.0835405707359314, 0.07497166749089956, 0.06512634716928005, 0.05366821344941854, 0.05415309127420187, 0.04984413888305426, 0.04580281134694815, 0.043172125890851024, 0.041621290147304535, 0.038050634786486626, 0.0340914573520422, 0.03445307295769453, 0.03474469296634197, 0.0333729574456811, 0.02920232079923153, 0.025419813022017478, 0.022521486692130565, 0.021807380486279726, 0.021011845115572213, 0.019178664684295653, 0.015663386974483728, 0.01409140443429351, 0.012565360125154256, 0.011928608827292918, 0.011669852398335933, 0.010720095271244645, 0.010361606860533357, 0.00982770132832229, 0.009314878517761827, 0.008646638365462422, 0.008451967174187303, 0.007675988925620913, 0.0068731228820979595, 0.006768673146143556, 0.006664645113050938, 0.0065259444527328014, 0.006451606890186668, 0.0060586160980165005, 0.005609377985820174, 0.005339581170119345, 0.004956042324192822, 0.004754944215528667, 0.004654489387758076, 0.004454658832401037, 0.004155186424031854, 0.004042225936427712, 0.0036954635987058284, 0.0036368227330967782, 0.0034896946628578005, 0.003471635456662625, 0.0034995708032511176, 0.0031137064448557793, 0.0029795256559737027, 0.002874308277387172, 0.0028665575548075138, 0.0027785331360064445, 0.0026857240009121597, 0.0024996841442771257, 0.002514438913203776, 0.0025584470015019177, 0.0023997636046260594, 0.0023804975906386973, 0.0023546691867522896, 0.0023222782299853863, 0.0022490411647595465, 0.0021623142180033027, 0.002109370438847691, 0.0020577806979417803, 0.0020125368842855095, 0.0018846779596060515, 0.001922395545989275, 0.0019030170282348991, 0.001962975680362433, 0.0018404799629934132, 0.001846106897573918, 0.001866916671860963, 0.0017950628069229424, 0.0017556407139636577, 0.001798818667884916, 0.001850192144047469, 0.0017685179482214153, 0.0016933922772295773, 0.0016135372337885202, 0.0016691823140718043, 0.0016730749863199889, 0.0016249010222963989, 0.0016401563654653728, 0.001632156886626035, 0.0016388542833738029, 0.0015350517700426281, 0.0015075362636707724, 0.001526784838642925, 0.0015567560680210591, 0.0015323220519348978, 0.0015270170639269053, 0.001571601419709623, 0.0015032097755465657, 0.0014948055089917035, 0.0014696291938889772, 0.0014517017698381096, 0.001409845636226237, 0.001404555782210082, 0.0013835646328516304, 0.0013414861634373665, 0.0013258761959150434, 0.001323060179129243, 0.0013499997498001904, 0.0013124123506713659, 0.0012955302430782468, 0.0012647137104067952, 0.0012953144032508135, 0.001268282870296389, 0.0012273908709175886, 0.0012395765399560333, 0.0012692051124759019, 0.0011900371813680977, 0.0012164641229901463, 0.0011925220780540258, 0.0011814783152658491, 0.0011896656185854226, 0.0011568471498321741, 0.0011667970509734004, 0.001193260686704889, 0.001227205985924229, 0.0012579774193000048, 0.0012799019808880986, 0.0012542944052256644, 0.0012802473269402982, 0.0012884175986982882, 0.0012995105586014687, 0.0013176784967072308, 0.0013258456252515315, 0.0012739776400849223, 0.00122856548987329, 0.0012131866300478578, 0.001258799119386822, 0.0012316880282014608, 0.001267967012245208, 0.0012309066252782941, 0.0011959163879510016, 0.001189098338363692, 0.0011585533909965306, 0.0012290404236409813, 0.001205137389479205, 0.001110907131806016, 0.0010501616285182535, 0.0010235073219519108, 0.0010049639677163213, 0.0010042721347417682, 0.0010050102253444492, 0.0010099852341227233, 0.0010373686207458376, 0.0009966947021894158, 0.0010100394487380982, 0.0010355191014241427, 0.0010268338897731154, 0.0010702543891966342, 0.0010718345060013235, 0.0010422743274830283, 0.0010287989978678524, 0.0010290550184436143, 0.0009735560801345855, 0.0009585198655258864, 0.0009443436574656516, 0.0009526445588562638, 0.0009389492217451334, 0.0009238589322194457, 0.0008939885650761425, 0.0008890032942872495, 0.0008975265256594867, 0.000869373744353652, 0.000871449097758159, 0.000841448939172551, 0.0008734671340789646, 0.0008378551865462214, 0.00088133200770244, 0.0008637608028948307, 0.0008756264112889766, 0.0008668910886626691, 0.0008850304002407938, 0.0008817090187221765, 0.0008982606115750969, 0.0009048206207808107, 0.000859735399717465, 0.0008744330785702914, 0.0008378525963053107, 0.0008401742205023765, 0.0007980454131029547, 0.0008321783388964832, 0.0007921174168586731, 0.0007888991909567267, 0.0007533901429269463, 0.0007479941414203495, 0.0007407379045616836, 0.0007472080236766487, 0.0007394810090772808, 0.0007268736837431789, 0.0007334416906815023, 0.0006953107076697052, 0.0007028304215054959, 0.0007029729720670729, 0.0007134507875889539, 0.0007092899817507714, 0.0007092334562912583, 0.0007045437523629516, 0.0006992588518187403, 0.0007528785383328796, 0.0007569035049527883, 0.0007265585067216307, 0.0007568121538497508, 0.0007644574507139623, 0.0007687365636229515, 0.0007521369669120758, 0.0007892841007560491, 0.0007576204952783883, 0.0007631721149664372, 0.0007228010159451515, 0.0006943883723579347, 0.000719855003990233, 0.0006938244332559407, 0.0007056933420244605, 0.0007128344383090735, 0.0007254933763761074, 0.0006800149742048234, 0.0006704747909680008, 0.0006672732764855027, 0.000655447447206825, 0.000680791586637497, 0.0006689469679258764, 0.0006622601649723947, 0.0006304289447143674, 0.0006360002793371677, 0.0006208056234754622, 0.0006158870412036777, 0.0006149449618533254, 0.0006047171540558338, 0.0005960991373285651, 0.0005970317753963173, 0.0006328095332719386, 0.0006302702764514834, 0.0006250158359762282, 0.0006075446784961968, 0.0006137021584436298, 0.0006196475471369923, 0.0006357748643495142, 0.0006423388200346381, 0.0006559668283443898, 0.0006481436372268945, 0.0006298919091932475, 0.0006299407861661166, 0.0006234408705495298, 0.0006021231121849269, 0.000593541981652379, 0.0005969399935565889, 0.0005844670871738344, 0.0005702815193217248, 0.0005834933079313486, 0.0005862250225618481, 0.000560641847550869, 0.000558884342899546, 0.0005691170750651509, 0.0005815027805510908, 0.0005806245899293572, 0.0005717477935831994, 0.0005681003036443144, 0.0005703905073460192, 0.0005339316441677511, 0.0005343203723896295, 0.0005719601293094456, 0.0005636807356495411, 0.0005770272458903491, 0.00058581298799254, 0.0005782488820841536, 0.0006258474517380819, 0.0006580705143278464, 0.0006869795644888655, 0.0006830538477515802, 0.0006597509724088013, 0.0006474868685472756, 0.0006435208080802113, 0.0006429207103792578, 0.0006287130701821298, 0.0006302310328464955, 0.0005866732506547123, 0.0005659746704623104, 0.0005364479031413794, 0.0005398283450631425, 0.000568177126115188, 0.0005341647396562621, 0.0005463586043333635, 0.0005353856919100508, 0.0005616122070932761, 0.0005567021784372628, 0.0005895341630093754, 0.0005775854398962111, 0.0005766784015577286, 0.0005838767945533618, 0.0005600544915068895, 0.000566794237238355, 0.0005547148321056738, 0.0005541058286326006, 0.0005734259466407821, 0.000594848339096643, 0.0005726485949708148, 0.0006160755670862273, 0.0006260148453293368, 0.0006325477355858311, 0.0006338518636766821, 0.0006399428064469248, 0.0006505550758447498, 0.0006464948237407953, 0.0006080165447201579, 0.0006014336831867695, 0.0005742279055994004, 0.0005302641220623627, 0.0005130151548655704, 0.000509941959171556, 0.0005179374449653551, 0.0005059510382125154, 0.0004836210689973086, 0.00048801542143337426, 0.00047651546192355453, 0.0004661183978896588, 0.00047737998538650573, 0.0004781355382874608, 0.000485056932666339, 0.0004777570225996897, 0.0004613176075508818, 0.0004738188843475655, 0.0004926158406306058, 0.0004885010712314397, 0.00052142518106848, 0.0005299217824358493, 0.0005324503581505269, 0.0005665404518367722, 0.0005615273315925151, 0.0005594664660748094, 0.0005777608603239059, 0.0005759420746471733, 0.0005629434541333467, 0.0005594191316049546, 0.0005271689849905669, 0.0005231767543591558, 0.0005144842434674501, 0.0004638220532797277, 0.00046043233887758104, 0.00046375342644751073, 0.00046524794888682666, 0.00045144526520743964, 0.00045440574176609517, 0.00043464672926347704, 0.0004409943794598803], \"yaxis\": \"y\"}],                        {\"font\": {\"family\": \"Courier New, monospace\", \"size\": 14}, \"template\": {\"data\": {\"bar\": [{\"error_x\": {\"color\": \"#2a3f5f\"}, \"error_y\": {\"color\": \"#2a3f5f\"}, \"marker\": {\"line\": {\"color\": \"#E5ECF6\", \"width\": 0.5}}, \"type\": \"bar\"}], \"barpolar\": [{\"marker\": {\"line\": {\"color\": \"#E5ECF6\", \"width\": 0.5}}, \"type\": \"barpolar\"}], \"carpet\": [{\"aaxis\": {\"endlinecolor\": \"#2a3f5f\", \"gridcolor\": \"white\", \"linecolor\": \"white\", \"minorgridcolor\": \"white\", \"startlinecolor\": \"#2a3f5f\"}, \"baxis\": {\"endlinecolor\": \"#2a3f5f\", \"gridcolor\": \"white\", \"linecolor\": \"white\", \"minorgridcolor\": \"white\", \"startlinecolor\": \"#2a3f5f\"}, \"type\": \"carpet\"}], \"choropleth\": [{\"colorbar\": {\"outlinewidth\": 0, \"ticks\": \"\"}, \"type\": \"choropleth\"}], \"contour\": [{\"colorbar\": {\"outlinewidth\": 0, \"ticks\": \"\"}, \"colorscale\": [[0.0, \"#0d0887\"], [0.1111111111111111, \"#46039f\"], [0.2222222222222222, \"#7201a8\"], [0.3333333333333333, \"#9c179e\"], [0.4444444444444444, \"#bd3786\"], [0.5555555555555556, \"#d8576b\"], [0.6666666666666666, \"#ed7953\"], [0.7777777777777778, \"#fb9f3a\"], [0.8888888888888888, \"#fdca26\"], [1.0, \"#f0f921\"]], \"type\": \"contour\"}], \"contourcarpet\": [{\"colorbar\": {\"outlinewidth\": 0, \"ticks\": \"\"}, \"type\": \"contourcarpet\"}], \"heatmap\": [{\"colorbar\": {\"outlinewidth\": 0, \"ticks\": \"\"}, \"colorscale\": [[0.0, \"#0d0887\"], [0.1111111111111111, \"#46039f\"], [0.2222222222222222, \"#7201a8\"], [0.3333333333333333, \"#9c179e\"], [0.4444444444444444, \"#bd3786\"], [0.5555555555555556, \"#d8576b\"], [0.6666666666666666, \"#ed7953\"], [0.7777777777777778, \"#fb9f3a\"], [0.8888888888888888, \"#fdca26\"], [1.0, \"#f0f921\"]], \"type\": \"heatmap\"}], \"heatmapgl\": [{\"colorbar\": {\"outlinewidth\": 0, \"ticks\": \"\"}, \"colorscale\": [[0.0, \"#0d0887\"], [0.1111111111111111, \"#46039f\"], [0.2222222222222222, \"#7201a8\"], [0.3333333333333333, \"#9c179e\"], [0.4444444444444444, \"#bd3786\"], [0.5555555555555556, \"#d8576b\"], [0.6666666666666666, \"#ed7953\"], [0.7777777777777778, \"#fb9f3a\"], [0.8888888888888888, \"#fdca26\"], [1.0, \"#f0f921\"]], \"type\": \"heatmapgl\"}], \"histogram\": [{\"marker\": {\"colorbar\": {\"outlinewidth\": 0, \"ticks\": \"\"}}, \"type\": \"histogram\"}], \"histogram2d\": [{\"colorbar\": {\"outlinewidth\": 0, \"ticks\": \"\"}, \"colorscale\": [[0.0, \"#0d0887\"], [0.1111111111111111, \"#46039f\"], [0.2222222222222222, \"#7201a8\"], [0.3333333333333333, \"#9c179e\"], [0.4444444444444444, \"#bd3786\"], [0.5555555555555556, \"#d8576b\"], [0.6666666666666666, \"#ed7953\"], [0.7777777777777778, \"#fb9f3a\"], [0.8888888888888888, \"#fdca26\"], [1.0, \"#f0f921\"]], \"type\": \"histogram2d\"}], \"histogram2dcontour\": [{\"colorbar\": {\"outlinewidth\": 0, \"ticks\": \"\"}, \"colorscale\": [[0.0, \"#0d0887\"], [0.1111111111111111, \"#46039f\"], [0.2222222222222222, \"#7201a8\"], [0.3333333333333333, \"#9c179e\"], [0.4444444444444444, \"#bd3786\"], [0.5555555555555556, \"#d8576b\"], [0.6666666666666666, \"#ed7953\"], [0.7777777777777778, \"#fb9f3a\"], [0.8888888888888888, \"#fdca26\"], [1.0, \"#f0f921\"]], \"type\": \"histogram2dcontour\"}], \"mesh3d\": [{\"colorbar\": {\"outlinewidth\": 0, \"ticks\": \"\"}, \"type\": \"mesh3d\"}], \"parcoords\": [{\"line\": {\"colorbar\": {\"outlinewidth\": 0, \"ticks\": \"\"}}, \"type\": \"parcoords\"}], \"pie\": [{\"automargin\": true, \"type\": \"pie\"}], \"scatter\": [{\"marker\": {\"colorbar\": {\"outlinewidth\": 0, \"ticks\": \"\"}}, \"type\": \"scatter\"}], \"scatter3d\": [{\"line\": {\"colorbar\": {\"outlinewidth\": 0, \"ticks\": \"\"}}, \"marker\": {\"colorbar\": {\"outlinewidth\": 0, \"ticks\": \"\"}}, \"type\": \"scatter3d\"}], \"scattercarpet\": [{\"marker\": {\"colorbar\": {\"outlinewidth\": 0, \"ticks\": \"\"}}, \"type\": \"scattercarpet\"}], \"scattergeo\": [{\"marker\": {\"colorbar\": {\"outlinewidth\": 0, \"ticks\": \"\"}}, \"type\": \"scattergeo\"}], \"scattergl\": [{\"marker\": {\"colorbar\": {\"outlinewidth\": 0, \"ticks\": \"\"}}, \"type\": \"scattergl\"}], \"scattermapbox\": [{\"marker\": {\"colorbar\": {\"outlinewidth\": 0, \"ticks\": \"\"}}, \"type\": \"scattermapbox\"}], \"scatterpolar\": [{\"marker\": {\"colorbar\": {\"outlinewidth\": 0, \"ticks\": \"\"}}, \"type\": \"scatterpolar\"}], \"scatterpolargl\": [{\"marker\": {\"colorbar\": {\"outlinewidth\": 0, \"ticks\": \"\"}}, \"type\": \"scatterpolargl\"}], \"scatterternary\": [{\"marker\": {\"colorbar\": {\"outlinewidth\": 0, \"ticks\": \"\"}}, \"type\": \"scatterternary\"}], \"surface\": [{\"colorbar\": {\"outlinewidth\": 0, \"ticks\": \"\"}, \"colorscale\": [[0.0, \"#0d0887\"], [0.1111111111111111, \"#46039f\"], [0.2222222222222222, \"#7201a8\"], [0.3333333333333333, \"#9c179e\"], [0.4444444444444444, \"#bd3786\"], [0.5555555555555556, \"#d8576b\"], [0.6666666666666666, \"#ed7953\"], [0.7777777777777778, \"#fb9f3a\"], [0.8888888888888888, \"#fdca26\"], [1.0, \"#f0f921\"]], \"type\": \"surface\"}], \"table\": [{\"cells\": {\"fill\": {\"color\": \"#EBF0F8\"}, \"line\": {\"color\": \"white\"}}, \"header\": {\"fill\": {\"color\": \"#C8D4E3\"}, \"line\": {\"color\": \"white\"}}, \"type\": \"table\"}]}, \"layout\": {\"annotationdefaults\": {\"arrowcolor\": \"#2a3f5f\", \"arrowhead\": 0, \"arrowwidth\": 1}, \"autotypenumbers\": \"strict\", \"coloraxis\": {\"colorbar\": {\"outlinewidth\": 0, \"ticks\": \"\"}}, \"colorscale\": {\"diverging\": [[0, \"#8e0152\"], [0.1, \"#c51b7d\"], [0.2, \"#de77ae\"], [0.3, \"#f1b6da\"], [0.4, \"#fde0ef\"], [0.5, \"#f7f7f7\"], [0.6, \"#e6f5d0\"], [0.7, \"#b8e186\"], [0.8, \"#7fbc41\"], [0.9, \"#4d9221\"], [1, \"#276419\"]], \"sequential\": [[0.0, \"#0d0887\"], [0.1111111111111111, \"#46039f\"], [0.2222222222222222, \"#7201a8\"], [0.3333333333333333, \"#9c179e\"], [0.4444444444444444, \"#bd3786\"], [0.5555555555555556, \"#d8576b\"], [0.6666666666666666, \"#ed7953\"], [0.7777777777777778, \"#fb9f3a\"], [0.8888888888888888, \"#fdca26\"], [1.0, \"#f0f921\"]], \"sequentialminus\": [[0.0, \"#0d0887\"], [0.1111111111111111, \"#46039f\"], [0.2222222222222222, \"#7201a8\"], [0.3333333333333333, \"#9c179e\"], [0.4444444444444444, \"#bd3786\"], [0.5555555555555556, \"#d8576b\"], [0.6666666666666666, \"#ed7953\"], [0.7777777777777778, \"#fb9f3a\"], [0.8888888888888888, \"#fdca26\"], [1.0, \"#f0f921\"]]}, \"colorway\": [\"#636efa\", \"#EF553B\", \"#00cc96\", \"#ab63fa\", \"#FFA15A\", \"#19d3f3\", \"#FF6692\", \"#B6E880\", \"#FF97FF\", \"#FECB52\"], \"font\": {\"color\": \"#2a3f5f\"}, \"geo\": {\"bgcolor\": \"white\", \"lakecolor\": \"white\", \"landcolor\": \"#E5ECF6\", \"showlakes\": true, \"showland\": true, \"subunitcolor\": \"white\"}, \"hoverlabel\": {\"align\": \"left\"}, \"hovermode\": \"closest\", \"mapbox\": {\"style\": \"light\"}, \"paper_bgcolor\": \"white\", \"plot_bgcolor\": \"#E5ECF6\", \"polar\": {\"angularaxis\": {\"gridcolor\": \"white\", \"linecolor\": \"white\", \"ticks\": \"\"}, \"bgcolor\": \"#E5ECF6\", \"radialaxis\": {\"gridcolor\": \"white\", \"linecolor\": \"white\", \"ticks\": \"\"}}, \"scene\": {\"xaxis\": {\"backgroundcolor\": \"#E5ECF6\", \"gridcolor\": \"white\", \"gridwidth\": 2, \"linecolor\": \"white\", \"showbackground\": true, \"ticks\": \"\", \"zerolinecolor\": \"white\"}, \"yaxis\": {\"backgroundcolor\": \"#E5ECF6\", \"gridcolor\": \"white\", \"gridwidth\": 2, \"linecolor\": \"white\", \"showbackground\": true, \"ticks\": \"\", \"zerolinecolor\": \"white\"}, \"zaxis\": {\"backgroundcolor\": \"#E5ECF6\", \"gridcolor\": \"white\", \"gridwidth\": 2, \"linecolor\": \"white\", \"showbackground\": true, \"ticks\": \"\", \"zerolinecolor\": \"white\"}}, \"shapedefaults\": {\"line\": {\"color\": \"#2a3f5f\"}}, \"ternary\": {\"aaxis\": {\"gridcolor\": \"white\", \"linecolor\": \"white\", \"ticks\": \"\"}, \"baxis\": {\"gridcolor\": \"white\", \"linecolor\": \"white\", \"ticks\": \"\"}, \"bgcolor\": \"#E5ECF6\", \"caxis\": {\"gridcolor\": \"white\", \"linecolor\": \"white\", \"ticks\": \"\"}}, \"title\": {\"x\": 0.05}, \"xaxis\": {\"automargin\": true, \"gridcolor\": \"white\", \"linecolor\": \"white\", \"ticks\": \"\", \"title\": {\"standoff\": 15}, \"zerolinecolor\": \"white\", \"zerolinewidth\": 2}, \"yaxis\": {\"automargin\": true, \"gridcolor\": \"white\", \"linecolor\": \"white\", \"ticks\": \"\", \"title\": {\"standoff\": 15}, \"zerolinecolor\": \"white\", \"zerolinewidth\": 2}}}, \"title\": {\"text\": \"Loss\"}, \"xaxis\": {\"anchor\": \"y\", \"domain\": [0.0, 1.0], \"title\": {\"text\": \"Iterations\"}}, \"yaxis\": {\"anchor\": \"x\", \"domain\": [0.0, 1.0], \"title\": {\"text\": \"Loss\"}}},                        {\"responsive\": true}                    ).then(function(){\n",
       "                            \n",
       "var gd = document.getElementById('d56accac-81ba-458b-9b5d-4448bf518753');\n",
       "var x = new MutationObserver(function (mutations, observer) {{\n",
       "        var display = window.getComputedStyle(gd).display;\n",
       "        if (!display || display === 'none') {{\n",
       "            console.log([gd, 'removed!']);\n",
       "            Plotly.purge(gd);\n",
       "            observer.disconnect();\n",
       "        }}\n",
       "}});\n",
       "\n",
       "// Listen for the removal of the full notebook cells\n",
       "var notebookContainer = gd.closest('#notebook-container');\n",
       "if (notebookContainer) {{\n",
       "    x.observe(notebookContainer, {childList: true});\n",
       "}}\n",
       "\n",
       "// Listen for the clearing of the current output cell\n",
       "var outputEl = gd.closest('.output');\n",
       "if (outputEl) {{\n",
       "    x.observe(outputEl, {childList: true});\n",
       "}}\n",
       "\n",
       "                        })                };                });            </script>        </div>"
      ]
     },
     "metadata": {},
     "output_type": "display_data"
    }
   ],
   "source": [
    "eq = AC()\n",
    "model = CONFIG_AC\n",
    "solver = DeepPDESolver(model, eq)\n",
    "losses = list(solver.train(400))\n",
    "plot_loss(losses)"
   ]
  },
  {
   "cell_type": "code",
   "execution_count": 103,
   "id": "growing-joseph",
   "metadata": {},
   "outputs": [],
   "source": [
    "from FBSDEs import FBSDESolver\n",
    "from pdes import FBSDE\n",
    "AC_MODEL_CONFIG = {\n",
    "    \"batch_size\": 128,\n",
    "    \"num_discretisation_steps\": 15,\n",
    "    \"hidden_dim\": 128,\n",
    "    \"learning_rate\": 5e-3,\n",
    "    \"lr_decay\": 0.99,\n",
    "    \"network_type\": \"MINI\",\n",
    "    \"optimiser\": \"Adam\"\n",
    "}\n",
    "model = AC_MODEL_CONFIG\n",
    "class AC(FBSDE):\n",
    "    def __init__(self):\n",
    "        super().__init__()\n",
    "        self.h = lambda X, Y, Z, t: Y - Y**3\n",
    "        \n",
    "        self.b = lambda X, t: 0.0*X\n",
    "        self.sigma = lambda X, t: torch.diag_embed(X*0+1)\n",
    "        \n",
    "        self.terminal_condition = lambda X: 1/(2+0.4*torch.sum(X**2, dim=-1, keepdims=True))\n",
    "        \n",
    "        self.var_dim = 20\n",
    "        self.terminal_time = 0.3   \n",
    "        self.init_sampling_func = lambda X: X*0\n",
    "        self.control_noise = 0.5"
   ]
  },
  {
   "cell_type": "code",
   "execution_count": 104,
   "id": "molecular-declaration",
   "metadata": {},
   "outputs": [],
   "source": [
    "eq_2 = AC()\n",
    "solver_2 = FBSDESolver(model, eq_2)\n",
    "num_samples=5\n",
    "Xs, _, ts = solver_2.simulate_processes(num_samples)\n",
    "final_test_values = 1/(2+0.4*np.sum(Xs[-1]**2, axis=-1, keepdims=True))"
   ]
  },
  {
   "cell_type": "code",
   "execution_count": 105,
   "id": "chronic-schedule",
   "metadata": {},
   "outputs": [
    {
     "data": {
      "application/vnd.plotly.v1+json": {
       "config": {
        "plotlyServerURL": "https://plot.ly"
       },
       "data": [
        {
         "mode": "lines",
         "showlegend": false,
         "type": "scatter",
         "x": [
          0,
          0.02142857142857143,
          0.04285714285714286,
          0.06428571428571428,
          0.08571428571428572,
          0.10714285714285715,
          0.12857142857142856,
          0.15,
          0.17142857142857143,
          0.19285714285714287,
          0.2142857142857143,
          0.2357142857142857,
          0.2571428571428571,
          0.2785714285714286,
          0.3
         ],
         "xaxis": "x",
         "y": [
          0.16286808252334595,
          0.15944725275039673,
          0.15641343593597412,
          0.15326431393623352,
          0.14934134483337402,
          0.14440736174583435,
          0.14248555898666382,
          0.13895371556282043,
          0.13833564519882202,
          0.13466143608093262,
          0.13267916440963745,
          0.12906280159950256,
          0.12655693292617798,
          0.12624654173851013,
          0.12263107299804688
         ],
         "yaxis": "y"
        },
        {
         "mode": "markers",
         "showlegend": false,
         "type": "scatter",
         "x": [
          0.3,
          0.3,
          0.3,
          0.3,
          0.3
         ],
         "xaxis": "x",
         "y": [
          0.2568269624690672,
          0.23730393515343692,
          0.28023054940821385,
          0.2722497290669389,
          0.26814840835461423
         ],
         "yaxis": "y"
        },
        {
         "mode": "lines",
         "showlegend": false,
         "type": "scatter",
         "x": [
          0,
          0.02142857142857143,
          0.04285714285714286,
          0.06428571428571428,
          0.08571428571428572,
          0.10714285714285715,
          0.12857142857142856,
          0.15,
          0.17142857142857143,
          0.19285714285714287,
          0.2142857142857143,
          0.2357142857142857,
          0.2571428571428571,
          0.2785714285714286,
          0.3
         ],
         "xaxis": "x",
         "y": [
          0.16286808252334595,
          0.15982893109321594,
          0.15609923005104065,
          0.15176856517791748,
          0.14893043041229248,
          0.1471521556377411,
          0.14577364921569824,
          0.14032509922981262,
          0.1338919699192047,
          0.13124457001686096,
          0.1275956928730011,
          0.12779724597930908,
          0.12634599208831787,
          0.12517273426055908,
          0.12253051996231079
         ],
         "yaxis": "y"
        },
        {
         "mode": "markers",
         "showlegend": false,
         "type": "scatter",
         "x": [
          0.3,
          0.3,
          0.3,
          0.3,
          0.3
         ],
         "xaxis": "x",
         "y": [
          0.2568269624690672,
          0.23730393515343692,
          0.28023054940821385,
          0.2722497290669389,
          0.26814840835461423
         ],
         "yaxis": "y"
        },
        {
         "mode": "lines",
         "showlegend": false,
         "type": "scatter",
         "x": [
          0,
          0.02142857142857143,
          0.04285714285714286,
          0.06428571428571428,
          0.08571428571428572,
          0.10714285714285715,
          0.12857142857142856,
          0.15,
          0.17142857142857143,
          0.19285714285714287,
          0.2142857142857143,
          0.2357142857142857,
          0.2571428571428571,
          0.2785714285714286,
          0.3
         ],
         "xaxis": "x",
         "y": [
          0.16286808252334595,
          0.15965068340301514,
          0.15824398398399353,
          0.15490129590034485,
          0.15359628200531006,
          0.15167644619941711,
          0.14975091814994812,
          0.1466273069381714,
          0.14210405945777893,
          0.1413484513759613,
          0.13726481795310974,
          0.13502269983291626,
          0.1338428258895874,
          0.13183018565177917,
          0.12810713052749634
         ],
         "yaxis": "y"
        },
        {
         "mode": "markers",
         "showlegend": false,
         "type": "scatter",
         "x": [
          0.3,
          0.3,
          0.3,
          0.3,
          0.3
         ],
         "xaxis": "x",
         "y": [
          0.2568269624690672,
          0.23730393515343692,
          0.28023054940821385,
          0.2722497290669389,
          0.26814840835461423
         ],
         "yaxis": "y"
        },
        {
         "mode": "lines",
         "showlegend": false,
         "type": "scatter",
         "x": [
          0,
          0.02142857142857143,
          0.04285714285714286,
          0.06428571428571428,
          0.08571428571428572,
          0.10714285714285715,
          0.12857142857142856,
          0.15,
          0.17142857142857143,
          0.19285714285714287,
          0.2142857142857143,
          0.2357142857142857,
          0.2571428571428571,
          0.2785714285714286,
          0.3
         ],
         "xaxis": "x",
         "y": [
          0.16286808252334595,
          0.16064229607582092,
          0.15750446915626526,
          0.1529954969882965,
          0.14934206008911133,
          0.14821645617485046,
          0.14637526869773865,
          0.1449713408946991,
          0.13997939229011536,
          0.1382845938205719,
          0.1345205307006836,
          0.13386276364326477,
          0.12979081273078918,
          0.12863099575042725,
          0.12528911232948303
         ],
         "yaxis": "y"
        },
        {
         "mode": "markers",
         "showlegend": false,
         "type": "scatter",
         "x": [
          0.3,
          0.3,
          0.3,
          0.3,
          0.3
         ],
         "xaxis": "x",
         "y": [
          0.2568269624690672,
          0.23730393515343692,
          0.28023054940821385,
          0.2722497290669389,
          0.26814840835461423
         ],
         "yaxis": "y"
        },
        {
         "mode": "lines",
         "showlegend": false,
         "type": "scatter",
         "x": [
          0,
          0.02142857142857143,
          0.04285714285714286,
          0.06428571428571428,
          0.08571428571428572,
          0.10714285714285715,
          0.12857142857142856,
          0.15,
          0.17142857142857143,
          0.19285714285714287,
          0.2142857142857143,
          0.2357142857142857,
          0.2571428571428571,
          0.2785714285714286,
          0.3
         ],
         "xaxis": "x",
         "y": [
          0.16286808252334595,
          0.16029956936836243,
          0.15741872787475586,
          0.15359815955162048,
          0.15163591504096985,
          0.14923220872879028,
          0.14539489150047302,
          0.1429838240146637,
          0.14069709181785583,
          0.13763180375099182,
          0.13469436764717102,
          0.130883127450943,
          0.12906864285469055,
          0.1270008087158203,
          0.12249907851219177
         ],
         "yaxis": "y"
        },
        {
         "mode": "markers",
         "showlegend": false,
         "type": "scatter",
         "x": [
          0.3,
          0.3,
          0.3,
          0.3,
          0.3
         ],
         "xaxis": "x",
         "y": [
          0.2568269624690672,
          0.23730393515343692,
          0.28023054940821385,
          0.2722497290669389,
          0.26814840835461423
         ],
         "yaxis": "y"
        }
       ],
       "layout": {
        "font": {
         "family": "Courier New, monospace",
         "size": 14
        },
        "template": {
         "data": {
          "bar": [
           {
            "error_x": {
             "color": "#2a3f5f"
            },
            "error_y": {
             "color": "#2a3f5f"
            },
            "marker": {
             "line": {
              "color": "#E5ECF6",
              "width": 0.5
             }
            },
            "type": "bar"
           }
          ],
          "barpolar": [
           {
            "marker": {
             "line": {
              "color": "#E5ECF6",
              "width": 0.5
             }
            },
            "type": "barpolar"
           }
          ],
          "carpet": [
           {
            "aaxis": {
             "endlinecolor": "#2a3f5f",
             "gridcolor": "white",
             "linecolor": "white",
             "minorgridcolor": "white",
             "startlinecolor": "#2a3f5f"
            },
            "baxis": {
             "endlinecolor": "#2a3f5f",
             "gridcolor": "white",
             "linecolor": "white",
             "minorgridcolor": "white",
             "startlinecolor": "#2a3f5f"
            },
            "type": "carpet"
           }
          ],
          "choropleth": [
           {
            "colorbar": {
             "outlinewidth": 0,
             "ticks": ""
            },
            "type": "choropleth"
           }
          ],
          "contour": [
           {
            "colorbar": {
             "outlinewidth": 0,
             "ticks": ""
            },
            "colorscale": [
             [
              0,
              "#0d0887"
             ],
             [
              0.1111111111111111,
              "#46039f"
             ],
             [
              0.2222222222222222,
              "#7201a8"
             ],
             [
              0.3333333333333333,
              "#9c179e"
             ],
             [
              0.4444444444444444,
              "#bd3786"
             ],
             [
              0.5555555555555556,
              "#d8576b"
             ],
             [
              0.6666666666666666,
              "#ed7953"
             ],
             [
              0.7777777777777778,
              "#fb9f3a"
             ],
             [
              0.8888888888888888,
              "#fdca26"
             ],
             [
              1,
              "#f0f921"
             ]
            ],
            "type": "contour"
           }
          ],
          "contourcarpet": [
           {
            "colorbar": {
             "outlinewidth": 0,
             "ticks": ""
            },
            "type": "contourcarpet"
           }
          ],
          "heatmap": [
           {
            "colorbar": {
             "outlinewidth": 0,
             "ticks": ""
            },
            "colorscale": [
             [
              0,
              "#0d0887"
             ],
             [
              0.1111111111111111,
              "#46039f"
             ],
             [
              0.2222222222222222,
              "#7201a8"
             ],
             [
              0.3333333333333333,
              "#9c179e"
             ],
             [
              0.4444444444444444,
              "#bd3786"
             ],
             [
              0.5555555555555556,
              "#d8576b"
             ],
             [
              0.6666666666666666,
              "#ed7953"
             ],
             [
              0.7777777777777778,
              "#fb9f3a"
             ],
             [
              0.8888888888888888,
              "#fdca26"
             ],
             [
              1,
              "#f0f921"
             ]
            ],
            "type": "heatmap"
           }
          ],
          "heatmapgl": [
           {
            "colorbar": {
             "outlinewidth": 0,
             "ticks": ""
            },
            "colorscale": [
             [
              0,
              "#0d0887"
             ],
             [
              0.1111111111111111,
              "#46039f"
             ],
             [
              0.2222222222222222,
              "#7201a8"
             ],
             [
              0.3333333333333333,
              "#9c179e"
             ],
             [
              0.4444444444444444,
              "#bd3786"
             ],
             [
              0.5555555555555556,
              "#d8576b"
             ],
             [
              0.6666666666666666,
              "#ed7953"
             ],
             [
              0.7777777777777778,
              "#fb9f3a"
             ],
             [
              0.8888888888888888,
              "#fdca26"
             ],
             [
              1,
              "#f0f921"
             ]
            ],
            "type": "heatmapgl"
           }
          ],
          "histogram": [
           {
            "marker": {
             "colorbar": {
              "outlinewidth": 0,
              "ticks": ""
             }
            },
            "type": "histogram"
           }
          ],
          "histogram2d": [
           {
            "colorbar": {
             "outlinewidth": 0,
             "ticks": ""
            },
            "colorscale": [
             [
              0,
              "#0d0887"
             ],
             [
              0.1111111111111111,
              "#46039f"
             ],
             [
              0.2222222222222222,
              "#7201a8"
             ],
             [
              0.3333333333333333,
              "#9c179e"
             ],
             [
              0.4444444444444444,
              "#bd3786"
             ],
             [
              0.5555555555555556,
              "#d8576b"
             ],
             [
              0.6666666666666666,
              "#ed7953"
             ],
             [
              0.7777777777777778,
              "#fb9f3a"
             ],
             [
              0.8888888888888888,
              "#fdca26"
             ],
             [
              1,
              "#f0f921"
             ]
            ],
            "type": "histogram2d"
           }
          ],
          "histogram2dcontour": [
           {
            "colorbar": {
             "outlinewidth": 0,
             "ticks": ""
            },
            "colorscale": [
             [
              0,
              "#0d0887"
             ],
             [
              0.1111111111111111,
              "#46039f"
             ],
             [
              0.2222222222222222,
              "#7201a8"
             ],
             [
              0.3333333333333333,
              "#9c179e"
             ],
             [
              0.4444444444444444,
              "#bd3786"
             ],
             [
              0.5555555555555556,
              "#d8576b"
             ],
             [
              0.6666666666666666,
              "#ed7953"
             ],
             [
              0.7777777777777778,
              "#fb9f3a"
             ],
             [
              0.8888888888888888,
              "#fdca26"
             ],
             [
              1,
              "#f0f921"
             ]
            ],
            "type": "histogram2dcontour"
           }
          ],
          "mesh3d": [
           {
            "colorbar": {
             "outlinewidth": 0,
             "ticks": ""
            },
            "type": "mesh3d"
           }
          ],
          "parcoords": [
           {
            "line": {
             "colorbar": {
              "outlinewidth": 0,
              "ticks": ""
             }
            },
            "type": "parcoords"
           }
          ],
          "pie": [
           {
            "automargin": true,
            "type": "pie"
           }
          ],
          "scatter": [
           {
            "marker": {
             "colorbar": {
              "outlinewidth": 0,
              "ticks": ""
             }
            },
            "type": "scatter"
           }
          ],
          "scatter3d": [
           {
            "line": {
             "colorbar": {
              "outlinewidth": 0,
              "ticks": ""
             }
            },
            "marker": {
             "colorbar": {
              "outlinewidth": 0,
              "ticks": ""
             }
            },
            "type": "scatter3d"
           }
          ],
          "scattercarpet": [
           {
            "marker": {
             "colorbar": {
              "outlinewidth": 0,
              "ticks": ""
             }
            },
            "type": "scattercarpet"
           }
          ],
          "scattergeo": [
           {
            "marker": {
             "colorbar": {
              "outlinewidth": 0,
              "ticks": ""
             }
            },
            "type": "scattergeo"
           }
          ],
          "scattergl": [
           {
            "marker": {
             "colorbar": {
              "outlinewidth": 0,
              "ticks": ""
             }
            },
            "type": "scattergl"
           }
          ],
          "scattermapbox": [
           {
            "marker": {
             "colorbar": {
              "outlinewidth": 0,
              "ticks": ""
             }
            },
            "type": "scattermapbox"
           }
          ],
          "scatterpolar": [
           {
            "marker": {
             "colorbar": {
              "outlinewidth": 0,
              "ticks": ""
             }
            },
            "type": "scatterpolar"
           }
          ],
          "scatterpolargl": [
           {
            "marker": {
             "colorbar": {
              "outlinewidth": 0,
              "ticks": ""
             }
            },
            "type": "scatterpolargl"
           }
          ],
          "scatterternary": [
           {
            "marker": {
             "colorbar": {
              "outlinewidth": 0,
              "ticks": ""
             }
            },
            "type": "scatterternary"
           }
          ],
          "surface": [
           {
            "colorbar": {
             "outlinewidth": 0,
             "ticks": ""
            },
            "colorscale": [
             [
              0,
              "#0d0887"
             ],
             [
              0.1111111111111111,
              "#46039f"
             ],
             [
              0.2222222222222222,
              "#7201a8"
             ],
             [
              0.3333333333333333,
              "#9c179e"
             ],
             [
              0.4444444444444444,
              "#bd3786"
             ],
             [
              0.5555555555555556,
              "#d8576b"
             ],
             [
              0.6666666666666666,
              "#ed7953"
             ],
             [
              0.7777777777777778,
              "#fb9f3a"
             ],
             [
              0.8888888888888888,
              "#fdca26"
             ],
             [
              1,
              "#f0f921"
             ]
            ],
            "type": "surface"
           }
          ],
          "table": [
           {
            "cells": {
             "fill": {
              "color": "#EBF0F8"
             },
             "line": {
              "color": "white"
             }
            },
            "header": {
             "fill": {
              "color": "#C8D4E3"
             },
             "line": {
              "color": "white"
             }
            },
            "type": "table"
           }
          ]
         },
         "layout": {
          "annotationdefaults": {
           "arrowcolor": "#2a3f5f",
           "arrowhead": 0,
           "arrowwidth": 1
          },
          "autotypenumbers": "strict",
          "coloraxis": {
           "colorbar": {
            "outlinewidth": 0,
            "ticks": ""
           }
          },
          "colorscale": {
           "diverging": [
            [
             0,
             "#8e0152"
            ],
            [
             0.1,
             "#c51b7d"
            ],
            [
             0.2,
             "#de77ae"
            ],
            [
             0.3,
             "#f1b6da"
            ],
            [
             0.4,
             "#fde0ef"
            ],
            [
             0.5,
             "#f7f7f7"
            ],
            [
             0.6,
             "#e6f5d0"
            ],
            [
             0.7,
             "#b8e186"
            ],
            [
             0.8,
             "#7fbc41"
            ],
            [
             0.9,
             "#4d9221"
            ],
            [
             1,
             "#276419"
            ]
           ],
           "sequential": [
            [
             0,
             "#0d0887"
            ],
            [
             0.1111111111111111,
             "#46039f"
            ],
            [
             0.2222222222222222,
             "#7201a8"
            ],
            [
             0.3333333333333333,
             "#9c179e"
            ],
            [
             0.4444444444444444,
             "#bd3786"
            ],
            [
             0.5555555555555556,
             "#d8576b"
            ],
            [
             0.6666666666666666,
             "#ed7953"
            ],
            [
             0.7777777777777778,
             "#fb9f3a"
            ],
            [
             0.8888888888888888,
             "#fdca26"
            ],
            [
             1,
             "#f0f921"
            ]
           ],
           "sequentialminus": [
            [
             0,
             "#0d0887"
            ],
            [
             0.1111111111111111,
             "#46039f"
            ],
            [
             0.2222222222222222,
             "#7201a8"
            ],
            [
             0.3333333333333333,
             "#9c179e"
            ],
            [
             0.4444444444444444,
             "#bd3786"
            ],
            [
             0.5555555555555556,
             "#d8576b"
            ],
            [
             0.6666666666666666,
             "#ed7953"
            ],
            [
             0.7777777777777778,
             "#fb9f3a"
            ],
            [
             0.8888888888888888,
             "#fdca26"
            ],
            [
             1,
             "#f0f921"
            ]
           ]
          },
          "colorway": [
           "#636efa",
           "#EF553B",
           "#00cc96",
           "#ab63fa",
           "#FFA15A",
           "#19d3f3",
           "#FF6692",
           "#B6E880",
           "#FF97FF",
           "#FECB52"
          ],
          "font": {
           "color": "#2a3f5f"
          },
          "geo": {
           "bgcolor": "white",
           "lakecolor": "white",
           "landcolor": "#E5ECF6",
           "showlakes": true,
           "showland": true,
           "subunitcolor": "white"
          },
          "hoverlabel": {
           "align": "left"
          },
          "hovermode": "closest",
          "mapbox": {
           "style": "light"
          },
          "paper_bgcolor": "white",
          "plot_bgcolor": "#E5ECF6",
          "polar": {
           "angularaxis": {
            "gridcolor": "white",
            "linecolor": "white",
            "ticks": ""
           },
           "bgcolor": "#E5ECF6",
           "radialaxis": {
            "gridcolor": "white",
            "linecolor": "white",
            "ticks": ""
           }
          },
          "scene": {
           "xaxis": {
            "backgroundcolor": "#E5ECF6",
            "gridcolor": "white",
            "gridwidth": 2,
            "linecolor": "white",
            "showbackground": true,
            "ticks": "",
            "zerolinecolor": "white"
           },
           "yaxis": {
            "backgroundcolor": "#E5ECF6",
            "gridcolor": "white",
            "gridwidth": 2,
            "linecolor": "white",
            "showbackground": true,
            "ticks": "",
            "zerolinecolor": "white"
           },
           "zaxis": {
            "backgroundcolor": "#E5ECF6",
            "gridcolor": "white",
            "gridwidth": 2,
            "linecolor": "white",
            "showbackground": true,
            "ticks": "",
            "zerolinecolor": "white"
           }
          },
          "shapedefaults": {
           "line": {
            "color": "#2a3f5f"
           }
          },
          "ternary": {
           "aaxis": {
            "gridcolor": "white",
            "linecolor": "white",
            "ticks": ""
           },
           "baxis": {
            "gridcolor": "white",
            "linecolor": "white",
            "ticks": ""
           },
           "bgcolor": "#E5ECF6",
           "caxis": {
            "gridcolor": "white",
            "linecolor": "white",
            "ticks": ""
           }
          },
          "title": {
           "x": 0.05
          },
          "xaxis": {
           "automargin": true,
           "gridcolor": "white",
           "linecolor": "white",
           "ticks": "",
           "title": {
            "standoff": 15
           },
           "zerolinecolor": "white",
           "zerolinewidth": 2
          },
          "yaxis": {
           "automargin": true,
           "gridcolor": "white",
           "linecolor": "white",
           "ticks": "",
           "title": {
            "standoff": 15
           },
           "zerolinecolor": "white",
           "zerolinewidth": 2
          }
         }
        },
        "title": {
         "text": "Allen-Cahn"
        },
        "xaxis": {
         "anchor": "y",
         "domain": [
          0,
          1
         ],
         "title": {
          "text": "Iterations"
         }
        },
        "yaxis": {
         "anchor": "x",
         "domain": [
          0,
          1
         ],
         "title": {
          "text": "Loss"
         }
        }
       }
      },
      "text/html": [
       "<div>                            <div id=\"e33d74de-7fec-4cb6-ad4c-0dc5489b4aa0\" class=\"plotly-graph-div\" style=\"height:525px; width:100%;\"></div>            <script type=\"text/javascript\">                require([\"plotly\"], function(Plotly) {                    window.PLOTLYENV=window.PLOTLYENV || {};                                    if (document.getElementById(\"e33d74de-7fec-4cb6-ad4c-0dc5489b4aa0\")) {                    Plotly.newPlot(                        \"e33d74de-7fec-4cb6-ad4c-0dc5489b4aa0\",                        [{\"mode\": \"lines\", \"showlegend\": false, \"type\": \"scatter\", \"x\": [0.0, 0.02142857142857143, 0.04285714285714286, 0.06428571428571428, 0.08571428571428572, 0.10714285714285715, 0.12857142857142856, 0.15, 0.17142857142857143, 0.19285714285714287, 0.2142857142857143, 0.2357142857142857, 0.2571428571428571, 0.2785714285714286, 0.3], \"xaxis\": \"x\", \"y\": [0.16286808252334595, 0.15944725275039673, 0.15641343593597412, 0.15326431393623352, 0.14934134483337402, 0.14440736174583435, 0.14248555898666382, 0.13895371556282043, 0.13833564519882202, 0.13466143608093262, 0.13267916440963745, 0.12906280159950256, 0.12655693292617798, 0.12624654173851013, 0.12263107299804688], \"yaxis\": \"y\"}, {\"mode\": \"markers\", \"showlegend\": false, \"type\": \"scatter\", \"x\": [0.3, 0.3, 0.3, 0.3, 0.3], \"xaxis\": \"x\", \"y\": [0.2568269624690672, 0.23730393515343692, 0.28023054940821385, 0.2722497290669389, 0.26814840835461423], \"yaxis\": \"y\"}, {\"mode\": \"lines\", \"showlegend\": false, \"type\": \"scatter\", \"x\": [0.0, 0.02142857142857143, 0.04285714285714286, 0.06428571428571428, 0.08571428571428572, 0.10714285714285715, 0.12857142857142856, 0.15, 0.17142857142857143, 0.19285714285714287, 0.2142857142857143, 0.2357142857142857, 0.2571428571428571, 0.2785714285714286, 0.3], \"xaxis\": \"x\", \"y\": [0.16286808252334595, 0.15982893109321594, 0.15609923005104065, 0.15176856517791748, 0.14893043041229248, 0.1471521556377411, 0.14577364921569824, 0.14032509922981262, 0.1338919699192047, 0.13124457001686096, 0.1275956928730011, 0.12779724597930908, 0.12634599208831787, 0.12517273426055908, 0.12253051996231079], \"yaxis\": \"y\"}, {\"mode\": \"markers\", \"showlegend\": false, \"type\": \"scatter\", \"x\": [0.3, 0.3, 0.3, 0.3, 0.3], \"xaxis\": \"x\", \"y\": [0.2568269624690672, 0.23730393515343692, 0.28023054940821385, 0.2722497290669389, 0.26814840835461423], \"yaxis\": \"y\"}, {\"mode\": \"lines\", \"showlegend\": false, \"type\": \"scatter\", \"x\": [0.0, 0.02142857142857143, 0.04285714285714286, 0.06428571428571428, 0.08571428571428572, 0.10714285714285715, 0.12857142857142856, 0.15, 0.17142857142857143, 0.19285714285714287, 0.2142857142857143, 0.2357142857142857, 0.2571428571428571, 0.2785714285714286, 0.3], \"xaxis\": \"x\", \"y\": [0.16286808252334595, 0.15965068340301514, 0.15824398398399353, 0.15490129590034485, 0.15359628200531006, 0.15167644619941711, 0.14975091814994812, 0.1466273069381714, 0.14210405945777893, 0.1413484513759613, 0.13726481795310974, 0.13502269983291626, 0.1338428258895874, 0.13183018565177917, 0.12810713052749634], \"yaxis\": \"y\"}, {\"mode\": \"markers\", \"showlegend\": false, \"type\": \"scatter\", \"x\": [0.3, 0.3, 0.3, 0.3, 0.3], \"xaxis\": \"x\", \"y\": [0.2568269624690672, 0.23730393515343692, 0.28023054940821385, 0.2722497290669389, 0.26814840835461423], \"yaxis\": \"y\"}, {\"mode\": \"lines\", \"showlegend\": false, \"type\": \"scatter\", \"x\": [0.0, 0.02142857142857143, 0.04285714285714286, 0.06428571428571428, 0.08571428571428572, 0.10714285714285715, 0.12857142857142856, 0.15, 0.17142857142857143, 0.19285714285714287, 0.2142857142857143, 0.2357142857142857, 0.2571428571428571, 0.2785714285714286, 0.3], \"xaxis\": \"x\", \"y\": [0.16286808252334595, 0.16064229607582092, 0.15750446915626526, 0.1529954969882965, 0.14934206008911133, 0.14821645617485046, 0.14637526869773865, 0.1449713408946991, 0.13997939229011536, 0.1382845938205719, 0.1345205307006836, 0.13386276364326477, 0.12979081273078918, 0.12863099575042725, 0.12528911232948303], \"yaxis\": \"y\"}, {\"mode\": \"markers\", \"showlegend\": false, \"type\": \"scatter\", \"x\": [0.3, 0.3, 0.3, 0.3, 0.3], \"xaxis\": \"x\", \"y\": [0.2568269624690672, 0.23730393515343692, 0.28023054940821385, 0.2722497290669389, 0.26814840835461423], \"yaxis\": \"y\"}, {\"mode\": \"lines\", \"showlegend\": false, \"type\": \"scatter\", \"x\": [0.0, 0.02142857142857143, 0.04285714285714286, 0.06428571428571428, 0.08571428571428572, 0.10714285714285715, 0.12857142857142856, 0.15, 0.17142857142857143, 0.19285714285714287, 0.2142857142857143, 0.2357142857142857, 0.2571428571428571, 0.2785714285714286, 0.3], \"xaxis\": \"x\", \"y\": [0.16286808252334595, 0.16029956936836243, 0.15741872787475586, 0.15359815955162048, 0.15163591504096985, 0.14923220872879028, 0.14539489150047302, 0.1429838240146637, 0.14069709181785583, 0.13763180375099182, 0.13469436764717102, 0.130883127450943, 0.12906864285469055, 0.1270008087158203, 0.12249907851219177], \"yaxis\": \"y\"}, {\"mode\": \"markers\", \"showlegend\": false, \"type\": \"scatter\", \"x\": [0.3, 0.3, 0.3, 0.3, 0.3], \"xaxis\": \"x\", \"y\": [0.2568269624690672, 0.23730393515343692, 0.28023054940821385, 0.2722497290669389, 0.26814840835461423], \"yaxis\": \"y\"}],                        {\"font\": {\"family\": \"Courier New, monospace\", \"size\": 14}, \"template\": {\"data\": {\"bar\": [{\"error_x\": {\"color\": \"#2a3f5f\"}, \"error_y\": {\"color\": \"#2a3f5f\"}, \"marker\": {\"line\": {\"color\": \"#E5ECF6\", \"width\": 0.5}}, \"type\": \"bar\"}], \"barpolar\": [{\"marker\": {\"line\": {\"color\": \"#E5ECF6\", \"width\": 0.5}}, \"type\": \"barpolar\"}], \"carpet\": [{\"aaxis\": {\"endlinecolor\": \"#2a3f5f\", \"gridcolor\": \"white\", \"linecolor\": \"white\", \"minorgridcolor\": \"white\", \"startlinecolor\": \"#2a3f5f\"}, \"baxis\": {\"endlinecolor\": \"#2a3f5f\", \"gridcolor\": \"white\", \"linecolor\": \"white\", \"minorgridcolor\": \"white\", \"startlinecolor\": \"#2a3f5f\"}, \"type\": \"carpet\"}], \"choropleth\": [{\"colorbar\": {\"outlinewidth\": 0, \"ticks\": \"\"}, \"type\": \"choropleth\"}], \"contour\": [{\"colorbar\": {\"outlinewidth\": 0, \"ticks\": \"\"}, \"colorscale\": [[0.0, \"#0d0887\"], [0.1111111111111111, \"#46039f\"], [0.2222222222222222, \"#7201a8\"], [0.3333333333333333, \"#9c179e\"], [0.4444444444444444, \"#bd3786\"], [0.5555555555555556, \"#d8576b\"], [0.6666666666666666, \"#ed7953\"], [0.7777777777777778, \"#fb9f3a\"], [0.8888888888888888, \"#fdca26\"], [1.0, \"#f0f921\"]], \"type\": \"contour\"}], \"contourcarpet\": [{\"colorbar\": {\"outlinewidth\": 0, \"ticks\": \"\"}, \"type\": \"contourcarpet\"}], \"heatmap\": [{\"colorbar\": {\"outlinewidth\": 0, \"ticks\": \"\"}, \"colorscale\": [[0.0, \"#0d0887\"], [0.1111111111111111, \"#46039f\"], [0.2222222222222222, \"#7201a8\"], [0.3333333333333333, \"#9c179e\"], [0.4444444444444444, \"#bd3786\"], [0.5555555555555556, \"#d8576b\"], [0.6666666666666666, \"#ed7953\"], [0.7777777777777778, \"#fb9f3a\"], [0.8888888888888888, \"#fdca26\"], [1.0, \"#f0f921\"]], \"type\": \"heatmap\"}], \"heatmapgl\": [{\"colorbar\": {\"outlinewidth\": 0, \"ticks\": \"\"}, \"colorscale\": [[0.0, \"#0d0887\"], [0.1111111111111111, \"#46039f\"], [0.2222222222222222, \"#7201a8\"], [0.3333333333333333, \"#9c179e\"], [0.4444444444444444, \"#bd3786\"], [0.5555555555555556, \"#d8576b\"], [0.6666666666666666, \"#ed7953\"], [0.7777777777777778, \"#fb9f3a\"], [0.8888888888888888, \"#fdca26\"], [1.0, \"#f0f921\"]], \"type\": \"heatmapgl\"}], \"histogram\": [{\"marker\": {\"colorbar\": {\"outlinewidth\": 0, \"ticks\": \"\"}}, \"type\": \"histogram\"}], \"histogram2d\": [{\"colorbar\": {\"outlinewidth\": 0, \"ticks\": \"\"}, \"colorscale\": [[0.0, \"#0d0887\"], [0.1111111111111111, \"#46039f\"], [0.2222222222222222, \"#7201a8\"], [0.3333333333333333, \"#9c179e\"], [0.4444444444444444, \"#bd3786\"], [0.5555555555555556, \"#d8576b\"], [0.6666666666666666, \"#ed7953\"], [0.7777777777777778, \"#fb9f3a\"], [0.8888888888888888, \"#fdca26\"], [1.0, \"#f0f921\"]], \"type\": \"histogram2d\"}], \"histogram2dcontour\": [{\"colorbar\": {\"outlinewidth\": 0, \"ticks\": \"\"}, \"colorscale\": [[0.0, \"#0d0887\"], [0.1111111111111111, \"#46039f\"], [0.2222222222222222, \"#7201a8\"], [0.3333333333333333, \"#9c179e\"], [0.4444444444444444, \"#bd3786\"], [0.5555555555555556, \"#d8576b\"], [0.6666666666666666, \"#ed7953\"], [0.7777777777777778, \"#fb9f3a\"], [0.8888888888888888, \"#fdca26\"], [1.0, \"#f0f921\"]], \"type\": \"histogram2dcontour\"}], \"mesh3d\": [{\"colorbar\": {\"outlinewidth\": 0, \"ticks\": \"\"}, \"type\": \"mesh3d\"}], \"parcoords\": [{\"line\": {\"colorbar\": {\"outlinewidth\": 0, \"ticks\": \"\"}}, \"type\": \"parcoords\"}], \"pie\": [{\"automargin\": true, \"type\": \"pie\"}], \"scatter\": [{\"marker\": {\"colorbar\": {\"outlinewidth\": 0, \"ticks\": \"\"}}, \"type\": \"scatter\"}], \"scatter3d\": [{\"line\": {\"colorbar\": {\"outlinewidth\": 0, \"ticks\": \"\"}}, \"marker\": {\"colorbar\": {\"outlinewidth\": 0, \"ticks\": \"\"}}, \"type\": \"scatter3d\"}], \"scattercarpet\": [{\"marker\": {\"colorbar\": {\"outlinewidth\": 0, \"ticks\": \"\"}}, \"type\": \"scattercarpet\"}], \"scattergeo\": [{\"marker\": {\"colorbar\": {\"outlinewidth\": 0, \"ticks\": \"\"}}, \"type\": \"scattergeo\"}], \"scattergl\": [{\"marker\": {\"colorbar\": {\"outlinewidth\": 0, \"ticks\": \"\"}}, \"type\": \"scattergl\"}], \"scattermapbox\": [{\"marker\": {\"colorbar\": {\"outlinewidth\": 0, \"ticks\": \"\"}}, \"type\": \"scattermapbox\"}], \"scatterpolar\": [{\"marker\": {\"colorbar\": {\"outlinewidth\": 0, \"ticks\": \"\"}}, \"type\": \"scatterpolar\"}], \"scatterpolargl\": [{\"marker\": {\"colorbar\": {\"outlinewidth\": 0, \"ticks\": \"\"}}, \"type\": \"scatterpolargl\"}], \"scatterternary\": [{\"marker\": {\"colorbar\": {\"outlinewidth\": 0, \"ticks\": \"\"}}, \"type\": \"scatterternary\"}], \"surface\": [{\"colorbar\": {\"outlinewidth\": 0, \"ticks\": \"\"}, \"colorscale\": [[0.0, \"#0d0887\"], [0.1111111111111111, \"#46039f\"], [0.2222222222222222, \"#7201a8\"], [0.3333333333333333, \"#9c179e\"], [0.4444444444444444, \"#bd3786\"], [0.5555555555555556, \"#d8576b\"], [0.6666666666666666, \"#ed7953\"], [0.7777777777777778, \"#fb9f3a\"], [0.8888888888888888, \"#fdca26\"], [1.0, \"#f0f921\"]], \"type\": \"surface\"}], \"table\": [{\"cells\": {\"fill\": {\"color\": \"#EBF0F8\"}, \"line\": {\"color\": \"white\"}}, \"header\": {\"fill\": {\"color\": \"#C8D4E3\"}, \"line\": {\"color\": \"white\"}}, \"type\": \"table\"}]}, \"layout\": {\"annotationdefaults\": {\"arrowcolor\": \"#2a3f5f\", \"arrowhead\": 0, \"arrowwidth\": 1}, \"autotypenumbers\": \"strict\", \"coloraxis\": {\"colorbar\": {\"outlinewidth\": 0, \"ticks\": \"\"}}, \"colorscale\": {\"diverging\": [[0, \"#8e0152\"], [0.1, \"#c51b7d\"], [0.2, \"#de77ae\"], [0.3, \"#f1b6da\"], [0.4, \"#fde0ef\"], [0.5, \"#f7f7f7\"], [0.6, \"#e6f5d0\"], [0.7, \"#b8e186\"], [0.8, \"#7fbc41\"], [0.9, \"#4d9221\"], [1, \"#276419\"]], \"sequential\": [[0.0, \"#0d0887\"], [0.1111111111111111, \"#46039f\"], [0.2222222222222222, \"#7201a8\"], [0.3333333333333333, \"#9c179e\"], [0.4444444444444444, \"#bd3786\"], [0.5555555555555556, \"#d8576b\"], [0.6666666666666666, \"#ed7953\"], [0.7777777777777778, \"#fb9f3a\"], [0.8888888888888888, \"#fdca26\"], [1.0, \"#f0f921\"]], \"sequentialminus\": [[0.0, \"#0d0887\"], [0.1111111111111111, \"#46039f\"], [0.2222222222222222, \"#7201a8\"], [0.3333333333333333, \"#9c179e\"], [0.4444444444444444, \"#bd3786\"], [0.5555555555555556, \"#d8576b\"], [0.6666666666666666, \"#ed7953\"], [0.7777777777777778, \"#fb9f3a\"], [0.8888888888888888, \"#fdca26\"], [1.0, \"#f0f921\"]]}, \"colorway\": [\"#636efa\", \"#EF553B\", \"#00cc96\", \"#ab63fa\", \"#FFA15A\", \"#19d3f3\", \"#FF6692\", \"#B6E880\", \"#FF97FF\", \"#FECB52\"], \"font\": {\"color\": \"#2a3f5f\"}, \"geo\": {\"bgcolor\": \"white\", \"lakecolor\": \"white\", \"landcolor\": \"#E5ECF6\", \"showlakes\": true, \"showland\": true, \"subunitcolor\": \"white\"}, \"hoverlabel\": {\"align\": \"left\"}, \"hovermode\": \"closest\", \"mapbox\": {\"style\": \"light\"}, \"paper_bgcolor\": \"white\", \"plot_bgcolor\": \"#E5ECF6\", \"polar\": {\"angularaxis\": {\"gridcolor\": \"white\", \"linecolor\": \"white\", \"ticks\": \"\"}, \"bgcolor\": \"#E5ECF6\", \"radialaxis\": {\"gridcolor\": \"white\", \"linecolor\": \"white\", \"ticks\": \"\"}}, \"scene\": {\"xaxis\": {\"backgroundcolor\": \"#E5ECF6\", \"gridcolor\": \"white\", \"gridwidth\": 2, \"linecolor\": \"white\", \"showbackground\": true, \"ticks\": \"\", \"zerolinecolor\": \"white\"}, \"yaxis\": {\"backgroundcolor\": \"#E5ECF6\", \"gridcolor\": \"white\", \"gridwidth\": 2, \"linecolor\": \"white\", \"showbackground\": true, \"ticks\": \"\", \"zerolinecolor\": \"white\"}, \"zaxis\": {\"backgroundcolor\": \"#E5ECF6\", \"gridcolor\": \"white\", \"gridwidth\": 2, \"linecolor\": \"white\", \"showbackground\": true, \"ticks\": \"\", \"zerolinecolor\": \"white\"}}, \"shapedefaults\": {\"line\": {\"color\": \"#2a3f5f\"}}, \"ternary\": {\"aaxis\": {\"gridcolor\": \"white\", \"linecolor\": \"white\", \"ticks\": \"\"}, \"baxis\": {\"gridcolor\": \"white\", \"linecolor\": \"white\", \"ticks\": \"\"}, \"bgcolor\": \"#E5ECF6\", \"caxis\": {\"gridcolor\": \"white\", \"linecolor\": \"white\", \"ticks\": \"\"}}, \"title\": {\"x\": 0.05}, \"xaxis\": {\"automargin\": true, \"gridcolor\": \"white\", \"linecolor\": \"white\", \"ticks\": \"\", \"title\": {\"standoff\": 15}, \"zerolinecolor\": \"white\", \"zerolinewidth\": 2}, \"yaxis\": {\"automargin\": true, \"gridcolor\": \"white\", \"linecolor\": \"white\", \"ticks\": \"\", \"title\": {\"standoff\": 15}, \"zerolinecolor\": \"white\", \"zerolinewidth\": 2}}}, \"title\": {\"text\": \"Allen-Cahn\"}, \"xaxis\": {\"anchor\": \"y\", \"domain\": [0.0, 1.0], \"title\": {\"text\": \"Iterations\"}}, \"yaxis\": {\"anchor\": \"x\", \"domain\": [0.0, 1.0], \"title\": {\"text\": \"Loss\"}}},                        {\"responsive\": true}                    ).then(function(){\n",
       "                            \n",
       "var gd = document.getElementById('e33d74de-7fec-4cb6-ad4c-0dc5489b4aa0');\n",
       "var x = new MutationObserver(function (mutations, observer) {{\n",
       "        var display = window.getComputedStyle(gd).display;\n",
       "        if (!display || display === 'none') {{\n",
       "            console.log([gd, 'removed!']);\n",
       "            Plotly.purge(gd);\n",
       "            observer.disconnect();\n",
       "        }}\n",
       "}});\n",
       "\n",
       "// Listen for the removal of the full notebook cells\n",
       "var notebookContainer = gd.closest('#notebook-container');\n",
       "if (notebookContainer) {{\n",
       "    x.observe(notebookContainer, {childList: true});\n",
       "}}\n",
       "\n",
       "// Listen for the clearing of the current output cell\n",
       "var outputEl = gd.closest('.output');\n",
       "if (outputEl) {{\n",
       "    x.observe(outputEl, {childList: true});\n",
       "}}\n",
       "\n",
       "                        })                };                });            </script>        </div>"
      ]
     },
     "metadata": {},
     "output_type": "display_data"
    }
   ],
   "source": [
    "ts = np.linspace(0, 0.3, 15)\n",
    "fig = make_subplots(rows=1, cols=1)\n",
    "for j in range(0, num_samples):\n",
    "    xs = np.array([solver.u(*(Xs[i, j]), ts[i]).item() for i in range(15)])\n",
    "    fig.add_trace(go.Scatter(x=ts, y=xs, mode='lines', showlegend=False), row=1, col=1)\n",
    "    fig.add_trace(go.Scatter(x=[0.3]*num_samples, y=final_test_values.flatten(), mode='markers', showlegend=False), row=1, col=1)\n",
    "fig.update_layout(\n",
    "    title=\"Allen-Cahn\",\n",
    "    xaxis_title=\"Iterations\",\n",
    "    yaxis_title=\"Loss\",\n",
    "    font=dict(\n",
    "        family=\"Courier New, monospace\",\n",
    "        size=14\n",
    "    )\n",
    ")\n",
    "fig.show()"
   ]
  },
  {
   "cell_type": "code",
   "execution_count": null,
   "id": "lovely-viewer",
   "metadata": {},
   "outputs": [],
   "source": []
  }
 ],
 "metadata": {
  "kernelspec": {
   "display_name": "Python 3",
   "language": "python",
   "name": "python3"
  },
  "language_info": {
   "codemirror_mode": {
    "name": "ipython",
    "version": 3
   },
   "file_extension": ".py",
   "mimetype": "text/x-python",
   "name": "python",
   "nbconvert_exporter": "python",
   "pygments_lexer": "ipython3",
   "version": "3.8.5"
  }
 },
 "nbformat": 4,
 "nbformat_minor": 5
}
