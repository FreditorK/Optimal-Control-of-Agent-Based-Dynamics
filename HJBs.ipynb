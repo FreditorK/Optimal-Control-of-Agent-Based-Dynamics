{
 "cells": [
  {
   "cell_type": "markdown",
   "id": "greater-physics",
   "metadata": {},
   "source": [
    "# Solving-Hamilton-Jacobi-Bellman Equations\n",
    "#### Frederik Kelbel, Imperial College London"
   ]
  },
  {
   "cell_type": "markdown",
   "id": "vocal-discovery",
   "metadata": {},
   "source": [
    "## Dependencies"
   ]
  },
  {
   "cell_type": "code",
   "execution_count": 1,
   "id": "owned-rolling",
   "metadata": {},
   "outputs": [],
   "source": [
    "import torch\n",
    "import plotly.graph_objects as go\n",
    "import numpy as np\n",
    "from operators import div, Δ, D, mdotb, bdotm, mdotm, bdotb\n",
    "from DGM import DGMSolver, DGMPIASolver\n",
    "from pdes import HBJ\n",
    "from scipy.integrate import quad\n",
    "from plotly.subplots import make_subplots\n",
    "from configs import CONFIG_HBJS as MODEL_CONFIG\n",
    "from itertools import product"
   ]
  },
  {
   "cell_type": "markdown",
   "id": "vocational-munich",
   "metadata": {},
   "source": [
    "## Plotting"
   ]
  },
  {
   "cell_type": "code",
   "execution_count": 2,
   "id": "concrete-shelter",
   "metadata": {},
   "outputs": [],
   "source": [
    "def plot_losses(losses, avg_over=10):\n",
    "    avgs_1 = np.convolve(losses[:, 0], np.ones(avg_over), 'valid') / avg_over\n",
    "    avgs_2 = np.convolve(losses[:, 1], np.ones(avg_over), 'valid') / avg_over\n",
    "    fig = make_subplots(rows=1, cols=1)\n",
    "    fig.add_trace(go.Scatter(x=np.arange(len(avgs_1)), y=avgs_1, mode='lines', name=\"Value Loss\"), row=1, col=1)\n",
    "    fig.add_trace(go.Scatter(x=np.arange(len(avgs_2)), y=avgs_2, mode='lines', name=\"Control Loss\"), row=1, col=1)\n",
    "    fig.update_layout(\n",
    "        title=\"Loss\",\n",
    "        xaxis_title=\"Iterations\",\n",
    "        yaxis_title=\"Loss\",\n",
    "        font=dict(\n",
    "            family=\"Courier New, monospace\",\n",
    "            size=14\n",
    "        )\n",
    "    )\n",
    "    fig.show()\n",
    "    \n",
    "def plot_value(solver, sol):\n",
    "    fig = make_subplots(rows=1, cols=2, \n",
    "                   specs=[[{'type': 'surface'}, {'type': 'surface'}]])\n",
    "    xs = np.linspace(0, 1, 100)\n",
    "    ts = np.linspace(0.01, 1, 100)\n",
    "    us_pred = np.array([[solver(x, t).item() for x in xs] for t in ts])\n",
    "    us = np.array([[sol(x, t) for x in xs] for t in ts])\n",
    "    fig.add_trace(go.Surface(z=us, showscale=False), row=1, col=1)\n",
    "    fig.add_trace(go.Surface(z=us_pred), row=1, col=2)\n",
    "    fig.update_layout(title='Solution | Approximation',\n",
    "                  scene = dict(\n",
    "                    xaxis_title=\"t\",\n",
    "                    yaxis_title=\"x\",\n",
    "                    zaxis_title=\"J(x, t\"),\n",
    "                  scene2 = dict(\n",
    "                    xaxis_title=\"t\",\n",
    "                    yaxis_title=\"x\",\n",
    "                    zaxis_title=\"J(x, t)\"),\n",
    "                  margin=dict(l=50, r=50, b=50, t=50))\n",
    "    fig.show()"
   ]
  },
  {
   "cell_type": "markdown",
   "id": "serial-syracuse",
   "metadata": {},
   "source": [
    "## Problem Formulation"
   ]
  },
  {
   "cell_type": "markdown",
   "id": "smaller-albania",
   "metadata": {},
   "source": [
    "Objective: Find the control process $u = (u_t)_{t \\geq 0}$ in admissable set $\\mathcal{A}$ for an Itô Process $X^u = (X_t^u)_{t \\geq 0}$ satisfying:\n"
   ]
  },
  {
   "cell_type": "markdown",
   "id": "useful-domestic",
   "metadata": {},
   "source": [
    "$$\n",
    "d X_t^u = \\mu(t, X_t^u, u_t) dt + \\sigma(t, X_t^u, u_t) d W_t, \\quad X_0^u = 0.\n",
    "$$"
   ]
  },
  {
   "cell_type": "markdown",
   "id": "placed-creation",
   "metadata": {},
   "source": [
    "We will consider the HBJ-Equations in their primal form."
   ]
  },
  {
   "cell_type": "markdown",
   "id": "documented-corner",
   "metadata": {},
   "source": [
    "The agents performance is assessed via:\n",
    "$$\n",
    "J^u(t, x) = \\mathbb{E}\\Big[ \\int_t^T F(s, X_s^u, u_s) ds + G(X_T^u) \\;\\Big|\\; X_t^u = x \\Big]\n",
    "$$"
   ]
  },
  {
   "cell_type": "markdown",
   "id": "precious-might",
   "metadata": {},
   "source": [
    "Denote $J(t, x) = \\sup_{u \\in \\mathcal{A}} J^u(t, x)$, then this value function satisfies the following HJB-equations:"
   ]
  },
  {
   "cell_type": "markdown",
   "id": "excess-statement",
   "metadata": {},
   "source": [
    "$$\n",
    "\\begin{cases}\n",
    "\\partial_t J(t, x) + \\sup_{u \\in \\mathcal{A}} \\{\\mathscr{L}^u_t J(t, x) + F(t, x, u)\\} = 0 \\\\\n",
    "J(T, x) = G(x)\n",
    "\\end{cases}\n",
    "$$"
   ]
  },
  {
   "cell_type": "markdown",
   "id": "interim-color",
   "metadata": {},
   "source": [
    "### The Merton Problem (Wealth Allocation Problem)"
   ]
  },
  {
   "cell_type": "markdown",
   "id": "reflected-church",
   "metadata": {},
   "source": [
    "The goal is to find the optimal wealth allocation strategy over time such that the wealth itself is maximized."
   ]
  },
  {
   "cell_type": "markdown",
   "id": "motivated-encoding",
   "metadata": {},
   "source": [
    "Consider a market with a risky and risk-free asset. Suppose the value of the risk-free asset at time $t$ is given by $\\frac{d B_t}{B_t} = r dt$ or $B_t = B_0 e^{rt}, t\\geq 0$. Additionally, we have that the risky asset evolves accordingly to $\\frac{d S_t}{S_t} = \\mu dt + \\sigma dW_t$, where $\\{W_t\\}_{t\\geq 0}$ is a standard one-dimensional Brownian motion."
   ]
  },
  {
   "cell_type": "markdown",
   "id": "specific-christian",
   "metadata": {},
   "source": [
    "The wealth can then be described by\n",
    "$$\n",
    "X_t= x + \\int_0^t v_s \\frac{dS_s}{S_s} + \\int_0^t(X_s-v_s)\\frac{dB_s}{B_s},\n",
    "$$\n",
    "where $v_t = u_t X_t$ describes the amount of the wealth to be have invested into the risky asset at time $t$. $u_t$ is the fraction of wealth invested in the risky asset."
   ]
  },
  {
   "cell_type": "markdown",
   "id": "bacterial-spank",
   "metadata": {},
   "source": [
    "Let $(\\Omega, \\mathcal{F}, \\{\\mathcal{F}_t\\}_{t\\in [0, T]}, \\mathbb{P})$ be a filtered probability space. The evolution of an investor's wealth is described via\n",
    "$$\n",
    "\\begin{cases}\n",
    "dX_s = ((\\mu -r)u_s + r)X_s ds + \\sigma u_s X_s dW_s, \\; s \\in [0, T] \\\\\n",
    "X_0 = x > 0\n",
    "\\end{cases},\n",
    "$$"
   ]
  },
  {
   "cell_type": "markdown",
   "id": "ranging-acceptance",
   "metadata": {},
   "source": [
    "with $\\mu>r$ and $\\sigma>0$ referring to drift and volatility, respectively. Let $r>0$ denote the discount rate, i.e. the depreciation constant. The intend is to maximise the objective\n",
    "$$\n",
    "J^u(t, X_t) = \\mathbb{E}[ x^\\gamma ], \\; \\gamma \\in(0, 1).\n",
    "$$"
   ]
  },
  {
   "cell_type": "markdown",
   "id": "exotic-marketing",
   "metadata": {},
   "source": [
    "The respective HBJ-equation becomes:"
   ]
  },
  {
   "cell_type": "markdown",
   "id": "stock-anthropology",
   "metadata": {},
   "source": [
    "$$\n",
    "\\begin{cases}\n",
    "\\partial_t J(t, x) + \\sup_{u} \\Big\\{ ((\\mu-r)u + r)x \\partial_x J(t, x) + \\frac{1}{2} \\sigma^2 u^2 x^2\\partial_{xx} J(t, x) \\Big\\} = 0 \\text{ on $[0, T] \\times (0, \\infty)$}\n",
    "\\\\\n",
    "J(T, x) = x^\\gamma \\text{ $\\forall x > 0$}\n",
    "\\end{cases}\n",
    "$$"
   ]
  },
  {
   "cell_type": "markdown",
   "id": "indian-seller",
   "metadata": {},
   "source": [
    "#### Analytical Solution (Oksendal):"
   ]
  },
  {
   "cell_type": "markdown",
   "id": "grave-armstrong",
   "metadata": {},
   "source": [
    "Assume $J(t, x) = w(t) v(x)$, with $J(T, x) = w(T) v(x) = x^\\gamma$. We guess $J(t, x) = w(t) x^\\gamma$, where $w(T)=1$. The problem becomes \n",
    "$$\n",
    "\\begin{cases}\n",
    "w'(t) + \\gamma  \\sup_{u} \\Big\\{ (\\mu-r) u + r + \\frac{1}{2} \\sigma^2 u^2 (\\gamma-1) \\Big\\}w(t) = 0\n",
    "\\\\\n",
    "w(T) = x^\\gamma\n",
    "\\end{cases}.\n",
    "$$"
   ]
  },
  {
   "cell_type": "markdown",
   "id": "piano-commons",
   "metadata": {},
   "source": [
    "Then, $u$ is maximised for $u^* = \\frac{\\mu-r}{\\sigma^2 (1-\\gamma)}$ and the equation becomes\n",
    "$$\n",
    "\\begin{cases}\n",
    "w'(t) + \\frac{\\gamma (\\mu-r)^2}{\\sigma^2(2-2\\gamma)}w(t) = 0\n",
    "\\\\\n",
    "w(T) = x^\\gamma\n",
    "\\end{cases}.\n",
    "$$\n",
    "Thus, we have  $w'(t) = \\frac{\\gamma (\\mu-r)^2}{\\sigma^2(2\\gamma - 2)}w(t)$. It follows that $w(t) = \\exp\\big(\\frac{\\gamma (\\mu-r)^2}{\\sigma^2(2\\gamma - 2)}t\\big)$. The final solution is:\n",
    "$$\n",
    "J(t, x) = w(t)v(x) = \\exp\\big(\\frac{\\gamma (\\mu-r)^2}{\\sigma^2(2\\gamma - 2)}t\\big) x^\\gamma.\n",
    "$$"
   ]
  },
  {
   "cell_type": "markdown",
   "id": "hidden-latter",
   "metadata": {},
   "source": [
    "We need to verify this using the HBJ-verification theorem."
   ]
  },
  {
   "cell_type": "code",
   "execution_count": null,
   "id": "fifty-given",
   "metadata": {},
   "outputs": [],
   "source": [
    "class RISKY_ASSET(HBJ):\n",
    "    def __init__(self):\n",
    "        super().__init__()\n",
    "        self.μ = 0.04\n",
    "        self.σ = 0.4\n",
    "        self.r = 0.03\n",
    "        self.γ = 0.5\n",
    "        \n",
    "        def terminal_func(var):\n",
    "            var[-1] = 0*var[-1] + 1\n",
    "            return var\n",
    "        \n",
    "        self.var_dim_J = 2 # (x, t)\n",
    "        self.control_vars = [1] # (t)\n",
    "        self.cost_function = lambda u, var: 0\n",
    "        self.differential_operator = lambda J, u, var: ((self.μ-self.r)*u+self.r)*var[0]*div(J, var[0]) + 0.5*self.σ**2*u**2*var[0]**2*Δ(J, var[0])\n",
    "        self.domain_func = [(lambda var: var, 128)]\n",
    "        self.boundary_cond_J = [lambda J, var: J - var[0]**self.γ]\n",
    "        self.boundary_func_J = [(lambda var: terminal_func(var), 128)]\n",
    "        self.boundary_cond_u = [lambda u, var: torch.clamp(u, min=1) - torch.clamp(u, max=-1) - 2]\n",
    "        self.boundary_func_u = [(lambda var: var, 64)]"
   ]
  },
  {
   "cell_type": "code",
   "execution_count": null,
   "id": "personalized-restriction",
   "metadata": {},
   "outputs": [],
   "source": [
    "eq = RISKY_ASSET()\n",
    "model = MODEL_CONFIG\n",
    "solver = DGMPIASolver(model, eq)\n",
    "loss = np.array(list(solver.train(800)))\n",
    "plot_losses(loss)"
   ]
  },
  {
   "cell_type": "code",
   "execution_count": null,
   "id": "perceived-disco",
   "metadata": {},
   "outputs": [],
   "source": [
    "u_sol = lambda t : (eq.μ-eq.r)/(eq.σ**2*(1-eq.γ))\n",
    "J_sol = lambda x, t: x**eq.γ * np.exp((eq.γ*(eq.μ-eq.r)**2)/(eq.σ**2*(2*eq.γ-2))*t)"
   ]
  },
  {
   "cell_type": "code",
   "execution_count": null,
   "id": "previous-spencer",
   "metadata": {},
   "outputs": [],
   "source": [
    "fig = make_subplots(rows=1, cols=1)\n",
    "eval_points = np.linspace(0, 1, 100)\n",
    "fig.add_trace(go.Scatter(x=eval_points, y=[solver.u(p)[0] for p in eval_points], mode='lines', name=\"Optimal Control\"), row=1, col=1)\n",
    "fig.add_trace(go.Scatter(x=eval_points, y=[u_sol(p) for p in eval_points], mode='lines', name=\"Optimal Control Solution\"), row=1, col=1)\n",
    "fig.update_layout(\n",
    "    title=\"Solutions\",\n",
    "    xaxis_title=\"Time\",\n",
    "    yaxis_title=\"Control Signal\",\n",
    "    yaxis_range=[0, 1],\n",
    "    font=dict(\n",
    "        family=\"Courier New, monospace\",\n",
    "        size=14\n",
    "    )\n",
    ")\n",
    "fig.show()"
   ]
  },
  {
   "cell_type": "code",
   "execution_count": null,
   "id": "statewide-speaker",
   "metadata": {},
   "outputs": [],
   "source": [
    "plot_value(solver.J, J_sol)"
   ]
  },
  {
   "cell_type": "markdown",
   "id": "dressed-purse",
   "metadata": {},
   "source": [
    "### Linear-quadratic control problem 1-dimensional (Riccati Equation) "
   ]
  },
  {
   "cell_type": "markdown",
   "id": "animal-internship",
   "metadata": {},
   "source": [
    "Let $(\\Omega, \\mathcal{F}, \\{\\mathcal{F}_t\\}_{t\\in [0, T]}, \\mathbb{P})$. We consider\n",
    "$$\n",
    "\\begin{cases}\n",
    "dX_s = [H_sX_s + M_s u_s] ds + \\sigma_s dW_s, \\; s \\in [0, T] \\\\\n",
    "X_0 = x > 0\n",
    "\\end{cases},\n",
    "$$"
   ]
  },
  {
   "cell_type": "markdown",
   "id": "animal-mailing",
   "metadata": {},
   "source": [
    "We aim to maximise\n",
    "$$\n",
    "J^u(t, x) := \\mathbb{E}^{t, x} \\Big[ \\int_t^T X_s^T C_s X_s + u_s^T D_s u_s ds + X_T^T R X_T\\Big],\n",
    "$$\n",
    "with $C(t) = C \\leq 0, R \\leq 0$, and $D=D(t) < -\\delta < 0$ given and deterministic ($\\delta > 0$ some constant)."
   ]
  },
  {
   "cell_type": "markdown",
   "id": "coupled-format",
   "metadata": {},
   "source": [
    "We write down the problem in its primal form as\n",
    "$$\n",
    "\\begin{cases}\n",
    "\\partial_t J(t, x) + \\sup_{u} \\Big\\{ \\frac{1}{2} \\sigma^2 \\partial_{xx} J(t, x) + [H x + M u] \\partial_x J(t, x) + C x^2 + D u^2 \\Big\\} = 0 \\text{ on $[0, T] \\times (0, \\infty)$}\n",
    "\\\\\n",
    "J(T, x) = Rx^2 \\text{ $\\forall x \\in \\mathbb{R}$}\n",
    "\\end{cases}\n",
    "$$"
   ]
  },
  {
   "cell_type": "markdown",
   "id": "dutch-brisbane",
   "metadata": {},
   "source": [
    "#### Analytical Solution (Oksendal):"
   ]
  },
  {
   "cell_type": "markdown",
   "id": "atlantic-editing",
   "metadata": {},
   "source": [
    "As $J(T, x) = Rx^2$, we assume the form $J(T, x) = S(t) x^2 + b(t)$ for some differentibale $S$ and $b$. The problem can be reformulated as\n",
    "$$\n",
    "\\begin{cases}\n",
    "S'(t)x^2 + b'(t) + \\sigma^2 S(t) + 2HS(t)x^2 + C x^2 + \\sup_{u} \\Big\\{ 2MS(t) u x + D u^2 \\Big\\} = 0 \\text{ on $[0, T] \\times (0, \\infty)$}\n",
    "\\\\\n",
    "S(T) = R, b(t)=0 \\text{ $\\forall x \\in \\mathbb{R}$}\n",
    "\\end{cases}\n",
    "$$"
   ]
  },
  {
   "cell_type": "markdown",
   "id": "secret-procedure",
   "metadata": {},
   "source": [
    "We see that for fixed $t$ and $x$, we have $u^*=u^*(t, x)=-D^{-1} MS(t) x$. As a consequence, we can transform the problem to be gives as\n",
    "$$\n",
    "\\begin{cases}\n",
    "[S'(t) + 2HS(t) + C - D^{-1} M^2S^2(t)]x^2 + b'(t) + \\sigma^2 S(t) = 0 \\text{ on $[0, T] \\times (0, \\infty)$}\n",
    "\\\\\n",
    "S(T) = R, b(t)=0 \\text{ $\\forall x \\in \\mathbb{R}$}\n",
    "\\end{cases}\n",
    "$$"
   ]
  },
  {
   "cell_type": "markdown",
   "id": "injured-option",
   "metadata": {},
   "source": [
    "The problem is satisfied if\n",
    "$$\n",
    "S'(t)= D^{-1} M^2S^2(t) - C - 2HS(t), \\; S(T)=R \\; \\text{(Riccati Equation)}\n",
    "$$\n",
    "$$\n",
    "b'(t)= -\\sigma^2 S(t), \\; b(T)=0\n",
    "$$"
   ]
  },
  {
   "cell_type": "markdown",
   "id": "fifteen-thumbnail",
   "metadata": {},
   "source": [
    "It follows that $b(t)=  \\sigma^2 \\int_t^T S(r) dr$, while the Riccati Equation has a unique solution."
   ]
  },
  {
   "cell_type": "code",
   "execution_count": null,
   "id": "absolute-calcium",
   "metadata": {},
   "outputs": [],
   "source": [
    "class LQR(HBJ):\n",
    "    def __init__(self):\n",
    "        super().__init__()\n",
    "        self.H = 1.0\n",
    "        self.M = 1.2\n",
    "        self.C = -1.0\n",
    "        self.R = -1.5\n",
    "        self.D = -0.05\n",
    "        self.σ = 0.0\n",
    "        \n",
    "        self.var_dim_J = 2 # (x, t)\n",
    "        self.control_vars = [0, 1]\n",
    "        self.cost_function = lambda u, var: self.C*var[0]**2 + self.D*u**2\n",
    "        self.differential_operator = lambda J, u, var: (self.H*var[0] + self.M*u)*div(J, var[0]) + (1/2)*self.σ**2*Δ(J, var[0])\n",
    "        self.domain_func = [(lambda var: [var[0]*2-1, var[1]], 128)]\n",
    "        self.boundary_cond_J = [lambda J, var: J - self.R*var[0]**2]\n",
    "        self.boundary_func_J = [(lambda var: [var[0]*2-1, var[1]*0 + 1], 64)]"
   ]
  },
  {
   "cell_type": "code",
   "execution_count": null,
   "id": "outdoor-iraqi",
   "metadata": {},
   "outputs": [],
   "source": [
    "LQR_MODEL_CONFIG = {\n",
    "    \"hidden_dim\": 128,\n",
    "    \"learning_rate\": 5e-3,\n",
    "    \"loss_weights\": (1, 1),\n",
    "    \"lr_decay\": 0.99,\n",
    "    \"sampling_method\": \"uniform\",\n",
    "    \"network_type\": \"GRU\",\n",
    "    \"optimiser\": \"Adam\"\n",
    "}\n",
    "eq = LQR()\n",
    "model = LQR_MODEL_CONFIG\n",
    "solver = DGMPIASolver(model, eq)\n",
    "loss = np.array(list(solver.train(800)))\n",
    "plot_losses(loss)"
   ]
  },
  {
   "cell_type": "markdown",
   "id": "basic-expansion",
   "metadata": {},
   "source": [
    "#### Control function approximation:"
   ]
  },
  {
   "cell_type": "code",
   "execution_count": null,
   "id": "removed-hydrogen",
   "metadata": {},
   "outputs": [],
   "source": [
    "fig = make_subplots(rows=1, cols=1, specs=[[{'type': 'surface'}]])\n",
    "xs = np.linspace(-3, 3, 100)\n",
    "ts = np.linspace(0, 1, 100)\n",
    "us_pred = np.array([[solver.u(x, t).item() for x in xs] for t in ts])\n",
    "fig.add_trace(go.Surface(z=us_pred), row=1, col=1)\n",
    "fig.update_layout(title='Approximation',\n",
    "                  scene = dict(\n",
    "                      xaxis_title=\"t\",\n",
    "                      yaxis_title=\"x\",\n",
    "                      zaxis_title=\"u(x, t\"),\n",
    "                  margin=dict(l=50, r=50, b=50, t=50))\n",
    "fig.show()"
   ]
  },
  {
   "cell_type": "markdown",
   "id": "single-original",
   "metadata": {},
   "source": [
    "#### Value function approximation:"
   ]
  },
  {
   "cell_type": "code",
   "execution_count": null,
   "id": "unnecessary-upgrade",
   "metadata": {},
   "outputs": [],
   "source": [
    "fig = make_subplots(rows=1, cols=1, specs=[[{'type': 'surface'}]])\n",
    "xs = np.linspace(-3, 3, 100)\n",
    "ts = np.linspace(0, 1, 100)\n",
    "us_pred = np.array([[solver.J(x, t).item() for x in xs] for t in ts])\n",
    "fig.add_trace(go.Surface(z=us_pred), row=1, col=1)\n",
    "fig.update_layout(title='Solution | Approximation',\n",
    "                  scene = dict(\n",
    "                    xaxis_title=\"t\",\n",
    "                    yaxis_title=\"x\",\n",
    "                    zaxis_title=\"J(x, t\"),\n",
    "                  scene2 = dict(\n",
    "                    xaxis_title=\"t\",\n",
    "                    yaxis_title=\"x\",\n",
    "                    zaxis_title=\"J(x, t)\"),\n",
    "                  margin=dict(l=50, r=50, b=50, t=50))\n",
    "fig.show()"
   ]
  },
  {
   "cell_type": "markdown",
   "id": "transparent-fishing",
   "metadata": {},
   "source": [
    "#### Simulating the Process:"
   ]
  },
  {
   "cell_type": "markdown",
   "id": "strong-nickel",
   "metadata": {},
   "source": [
    "Let $(\\Omega, \\mathcal{F}, \\{\\mathcal{F}_t\\}_{t\\in [0, T]}, \\mathbb{P})$. We consider\n",
    "$$\n",
    "\\begin{cases}\n",
    "dX_s = [H_s X_s + M_s u_s] ds + \\sigma_s dW_s, \\; s \\in [0, T] \\\\\n",
    "X_0 = x > 0\n",
    "\\end{cases},\n",
    "$$"
   ]
  },
  {
   "cell_type": "code",
   "execution_count": null,
   "id": "historic-layout",
   "metadata": {},
   "outputs": [],
   "source": [
    "n = 50\n",
    "c_xs = np.zeros(n)\n",
    "c_xs[0] = 0.75\n",
    "uc_xs = np.zeros(n)\n",
    "uc_xs[0] = 0.75\n",
    "dt = 1/n\n",
    "ts = [t for t in np.linspace(0, 1, n)]\n",
    "c_cum_cost = np.zeros(n)\n",
    "uc_cum_cost = np.zeros(n)\n",
    "for i in range(n-1):\n",
    "    dW = np.sqrt(dt)*np.random.randn()\n",
    "    c = solver.u(c_xs[i], i*dt).item()\n",
    "    uc = np.random.rand()-0.5\n",
    "    c_xs[i+1] = c_xs[i] + (eq.H*c_xs[i] + eq.M*c)*dt + eq.σ*dW\n",
    "    uc_xs[i+1] = uc_xs[i] + (eq.H*uc_xs[i] + eq.M*uc)*dt + eq.σ*dW\n",
    "    c_cum_cost[i+1] = c_cum_cost[i] + eq.C*c_xs[i]**2 + eq.D*c**2\n",
    "    uc_cum_cost[i+1] = uc_cum_cost[i] + eq.C*uc_xs[i]**2 + eq.D*uc**2\n",
    "\n",
    "c_cum_cost[-1] = c_cum_cost[-2] + eq.R*c_xs[-1]**2\n",
    "uc_cum_cost[-1] = uc_cum_cost[-2] + eq.R*uc_xs[-1]**2\n",
    "    \n",
    "fig = make_subplots(rows=1, cols=2)\n",
    "fig.add_trace(go.Scatter(x=ts, y=c_xs, mode='lines', name=\"Controlled\", line=dict(color=\"#00e476\")), row=1, col=1)\n",
    "fig.add_trace(go.Scatter(x=ts, y=uc_xs, mode='lines', name=\"Uncontrolled\", line=dict(color=\"#FFe476\")), row=1, col=1)\n",
    "fig.add_trace(go.Scatter(x=ts, y=c_cum_cost, mode='lines', showlegend=False, line=dict(color=\"#00e476\")), row=1, col=2)\n",
    "fig.add_trace(go.Scatter(x=ts, y=uc_cum_cost, mode='lines', showlegend=False, line=dict(color=\"#FFe476\")), row=1, col=2)\n",
    "fig.update_layout(\n",
    "    title=\"Minimise amount of X | Minimise the costs (hold both close to zero)\",\n",
    "    xaxis_title=\"t\",\n",
    "    yaxis_title=\"X\",\n",
    "    font=dict(\n",
    "        family=\"Courier New, monospace\",\n",
    "        size=14\n",
    "    )\n",
    ")\n",
    "fig.show()"
   ]
  },
  {
   "cell_type": "markdown",
   "id": "certain-charlotte",
   "metadata": {},
   "source": [
    "Example: Assume that the UK is subject to another disease outbreak. Each patient admission costs certain resources. We intend to reduce the amount of people in hospitals as quickly as possible to bound admission costs."
   ]
  },
  {
   "cell_type": "markdown",
   "id": "reduced-speed",
   "metadata": {},
   "source": [
    "### Linear-quadratic control problem N-dimensional (Riccati Equation) "
   ]
  },
  {
   "cell_type": "markdown",
   "id": "existing-sheffield",
   "metadata": {},
   "source": [
    "We consider the same problem with $H_t \\in \\mathbb{R}^{n \\times n}$,\n",
    "$M_t \\in \\mathbb{R}^{n \\times k}$, $\\sigma_t \\in \\mathbb{R}^{n \\times m}$ (for now a scalar), $C_t \\in \\mathbb{R}^{n \\times n}$, $D_t \\in \\mathbb{R}^{k \\times n}$, and $R \\in \\mathbb{R}^{n \\times n}$. We also have, $u(t, X_t) \\in\\mathbb{R}^k$."
   ]
  },
  {
   "cell_type": "markdown",
   "id": "mathematical-monroe",
   "metadata": {},
   "source": [
    "Let $(\\Omega, \\mathcal{F}, \\{\\mathcal{F}_t\\}_{t\\in [0, T]}, \\mathbb{P})$. We consider\n",
    "$$\n",
    "\\begin{cases}\n",
    "dX_s = [H_sX_s + M_s u_s] ds + \\sigma_s dW_s, \\; s \\in [0, T] \\\\\n",
    "X_0 = x > 0\n",
    "\\end{cases},\n",
    "$$"
   ]
  },
  {
   "cell_type": "markdown",
   "id": "recent-shark",
   "metadata": {},
   "source": [
    "We aim to maximise\n",
    "$$\n",
    "J^u(t, x) := \\mathbb{E}^{t, x} \\Big[ \\int_t^T X_s^T C_s X_s + u_s^T D_s u_s ds + X_T^T R X_T\\Big],\n",
    "$$\n",
    "with $C(t) = C \\leq 0, R \\leq 0$, and $D=D(t) < -\\delta < 0$ given and deterministic ($\\delta > 0$ some constant)."
   ]
  },
  {
   "cell_type": "markdown",
   "id": "level-harvard",
   "metadata": {},
   "source": [
    "We write down the problem in its primal form as\n",
    "$$\n",
    "\\begin{cases}\n",
    "\\partial_t J(t, x) + \\sup_{u} \\Big\\{ \\frac{1}{2} \\sigma^2 \\sum_{1 \\leq i, j \\leq n} \\Delta_{x_i x_j} J(t, x) + [H x + M u]^T \\cdot \\nabla_x J(t, x) + x^T C x + u^T D u \\Big\\} = 0 \\text{ on $[0, T] \\times (0, \\infty)$}\n",
    "\\\\\n",
    "J(T, x) = x^T R x \\text{ $\\forall x \\in \\mathbb{R}$}\n",
    "\\end{cases}\n",
    "$$"
   ]
  },
  {
   "cell_type": "markdown",
   "id": "overhead-cisco",
   "metadata": {},
   "source": [
    "For now, we will consider the problem without the terminal condition."
   ]
  },
  {
   "cell_type": "code",
   "execution_count": 10,
   "id": "tested-render",
   "metadata": {},
   "outputs": [],
   "source": [
    "class LQR_N(HBJ):\n",
    "    def __init__(self):\n",
    "        super().__init__()\n",
    "        self.H = torch.tensor([[1.0, 0],\n",
    "                              [0.0, 1.0]])\n",
    "        self.M = torch.tensor([[1.0, 0],\n",
    "                              [0.0, 1.0]])\n",
    "        self.C = torch.tensor([[-1.0, 0],\n",
    "                              [0.0, -0.0]])\n",
    "        #self.R = torch.tensor([[-1.5, 0],\n",
    "                              #[0.0, -1.5]])\n",
    "        self.D = torch.tensor([[-0.1, 0],\n",
    "                              [0.0, -0.1]])\n",
    "        self.σ = 0.0\n",
    "        \n",
    "        self.var_dim_J = 3 # (x, y, t)\n",
    "        self.sol_dim = 2\n",
    "        self.control_vars = [0, 1, 2]\n",
    "        self.cost_function = lambda u, var: ((var[:2] |bdotm| self.C) |bdotb| var[:2]) + ((u |bdotm| self.D) |bdotb| u)\n",
    "        self.differential_operator = lambda J, u, var: (((self.H |mdotb| var[:2]) + (self.M |mdotb| u)) |bdotb| D(J, var[:2]))# + (1/2)*self.σ**2*sum([div(div(J, var[i]), var[j]) for i, j in product(range(2), range(2))])\n",
    "        self.domain_func = [(lambda var: [(var[0]-0.5)*4, (var[1]-0.5)*4, var[2]], 128)]"
   ]
  },
  {
   "cell_type": "code",
   "execution_count": 11,
   "id": "demanding-compatibility",
   "metadata": {},
   "outputs": [
    {
     "name": "stderr",
     "output_type": "stream",
     "text": [
      "100%|██████████| 500/500 [00:13<00:00, 36.82 it/s]\n"
     ]
    },
    {
     "data": {
      "application/vnd.plotly.v1+json": {
       "config": {
        "plotlyServerURL": "https://plot.ly"
       },
       "data": [
        {
         "mode": "lines",
         "name": "Value Loss",
         "type": "scatter",
         "x": [
          0,
          1,
          2,
          3,
          4,
          5,
          6,
          7,
          8,
          9,
          10,
          11,
          12,
          13,
          14,
          15,
          16,
          17,
          18,
          19,
          20,
          21,
          22,
          23,
          24,
          25,
          26,
          27,
          28,
          29,
          30,
          31,
          32,
          33,
          34,
          35,
          36,
          37,
          38,
          39,
          40,
          41,
          42,
          43,
          44,
          45,
          46,
          47,
          48,
          49,
          50,
          51,
          52,
          53,
          54,
          55,
          56,
          57,
          58,
          59,
          60,
          61,
          62,
          63,
          64,
          65,
          66,
          67,
          68,
          69,
          70,
          71,
          72,
          73,
          74,
          75,
          76,
          77,
          78,
          79,
          80,
          81,
          82,
          83,
          84,
          85,
          86,
          87,
          88,
          89,
          90,
          91,
          92,
          93,
          94,
          95,
          96,
          97,
          98,
          99,
          100,
          101,
          102,
          103,
          104,
          105,
          106,
          107,
          108,
          109,
          110,
          111,
          112,
          113,
          114,
          115,
          116,
          117,
          118,
          119,
          120,
          121,
          122,
          123,
          124,
          125,
          126,
          127,
          128,
          129,
          130,
          131,
          132,
          133,
          134,
          135,
          136,
          137,
          138,
          139,
          140,
          141,
          142,
          143,
          144,
          145,
          146,
          147,
          148,
          149,
          150,
          151,
          152,
          153,
          154,
          155,
          156,
          157,
          158,
          159,
          160,
          161,
          162,
          163,
          164,
          165,
          166,
          167,
          168,
          169,
          170,
          171,
          172,
          173,
          174,
          175,
          176,
          177,
          178,
          179,
          180,
          181,
          182,
          183,
          184,
          185,
          186,
          187,
          188,
          189,
          190,
          191,
          192,
          193,
          194,
          195,
          196,
          197,
          198,
          199,
          200,
          201,
          202,
          203,
          204,
          205,
          206,
          207,
          208,
          209,
          210,
          211,
          212,
          213,
          214,
          215,
          216,
          217,
          218,
          219,
          220,
          221,
          222,
          223,
          224,
          225,
          226,
          227,
          228,
          229,
          230,
          231,
          232,
          233,
          234,
          235,
          236,
          237,
          238,
          239,
          240,
          241,
          242,
          243,
          244,
          245,
          246,
          247,
          248,
          249,
          250,
          251,
          252,
          253,
          254,
          255,
          256,
          257,
          258,
          259,
          260,
          261,
          262,
          263,
          264,
          265,
          266,
          267,
          268,
          269,
          270,
          271,
          272,
          273,
          274,
          275,
          276,
          277,
          278,
          279,
          280,
          281,
          282,
          283,
          284,
          285,
          286,
          287,
          288,
          289,
          290,
          291,
          292,
          293,
          294,
          295,
          296,
          297,
          298,
          299,
          300,
          301,
          302,
          303,
          304,
          305,
          306,
          307,
          308,
          309,
          310,
          311,
          312,
          313,
          314,
          315,
          316,
          317,
          318,
          319,
          320,
          321,
          322,
          323,
          324,
          325,
          326,
          327,
          328,
          329,
          330,
          331,
          332,
          333,
          334,
          335,
          336,
          337,
          338,
          339,
          340,
          341,
          342,
          343,
          344,
          345,
          346,
          347,
          348,
          349,
          350,
          351,
          352,
          353,
          354,
          355,
          356,
          357,
          358,
          359,
          360,
          361,
          362,
          363,
          364,
          365,
          366,
          367,
          368,
          369,
          370,
          371,
          372,
          373,
          374,
          375,
          376,
          377,
          378,
          379,
          380,
          381,
          382,
          383,
          384,
          385,
          386,
          387,
          388,
          389,
          390,
          391,
          392,
          393,
          394,
          395,
          396,
          397,
          398,
          399,
          400,
          401,
          402,
          403,
          404,
          405,
          406,
          407,
          408,
          409,
          410,
          411,
          412,
          413,
          414,
          415,
          416,
          417,
          418,
          419,
          420,
          421,
          422,
          423,
          424,
          425,
          426,
          427,
          428,
          429,
          430,
          431,
          432,
          433,
          434,
          435,
          436,
          437,
          438,
          439,
          440,
          441,
          442,
          443,
          444,
          445,
          446,
          447,
          448,
          449,
          450,
          451,
          452,
          453,
          454,
          455,
          456,
          457,
          458,
          459,
          460,
          461,
          462,
          463,
          464,
          465,
          466,
          467,
          468,
          469,
          470,
          471,
          472,
          473,
          474,
          475,
          476,
          477,
          478,
          479,
          480,
          481,
          482,
          483,
          484,
          485,
          486,
          487,
          488,
          489,
          490
         ],
         "xaxis": "x",
         "y": [
          0.014754872117191554,
          0.014753223489969968,
          0.005582144763320684,
          0.003990990825695917,
          0.00280877742334269,
          0.0024566555861383677,
          0.0020066574739757924,
          0.0014294360647909344,
          0.0011778057320043444,
          0.0010547847137786447,
          0.0008913437748560682,
          0.0007148273318307475,
          0.0005528526962734759,
          0.0004874269856372848,
          0.0004573701822664589,
          0.00043388582125771793,
          0.0004235833243001252,
          0.00039733711164444683,
          0.00034284763678442686,
          0.0002959304300020449,
          0.00026083681514137423,
          0.00023351341114903336,
          0.0002223574174422538,
          0.000210887881621602,
          0.000191412646745448,
          0.0001710468543024035,
          0.00014100878506724258,
          0.00011499800202727784,
          9.578505960234906e-05,
          8.158869550243253e-05,
          7.521066490880912e-05,
          7.281796551978914e-05,
          7.127075205062283e-05,
          6.617035887757083e-05,
          5.9936179422948047e-05,
          5.2512827642203776e-05,
          4.3958009882771876e-05,
          3.725345432030736e-05,
          3.266577841714025e-05,
          3.128689386358019e-05,
          3.0250783584051533e-05,
          2.9446629150697844e-05,
          2.767161936390039e-05,
          2.5193421197400313e-05,
          2.1876485288885305e-05,
          1.847789712883241e-05,
          1.5218996622934355e-05,
          1.244648715328367e-05,
          1.1605607187448187e-05,
          1.0719345800680457e-05,
          1.0679465185603476e-05,
          1.0564025251369457e-05,
          1.0210205255134497e-05,
          9.508093762633507e-06,
          8.746546245674836e-06,
          7.68394361330138e-06,
          6.728258949806332e-06,
          6.121622254795511e-06,
          5.343115981304436e-06,
          4.7875473228486955e-06,
          4.3746463688876245e-06,
          4.105264724785229e-06,
          3.82608800464368e-06,
          3.6333513889985626e-06,
          3.360479786351789e-06,
          3.1105632615435753e-06,
          2.8025812298437812e-06,
          2.5217072334271505e-06,
          2.2433872004512523e-06,
          2.1642118099407524e-06,
          2.0100356778129936e-06,
          1.8775866919895633e-06,
          1.834840475112287e-06,
          1.7401757986590382e-06,
          1.5447428722836776e-06,
          1.4295117580331862e-06,
          1.358944246021565e-06,
          1.2480547752602434e-06,
          1.1910048215213464e-06,
          1.1700777577061673e-06,
          1.175047952983732e-06,
          1.1984199090875336e-06,
          1.1407483384573425e-06,
          1.0962174485484866e-06,
          1.0836320427642931e-06,
          9.870161932212795e-07,
          8.945652382408298e-07,
          8.866979158028698e-07,
          8.966526252152108e-07,
          9.148024560090562e-07,
          8.506527592544444e-07,
          7.959240974741988e-07,
          7.981710496096639e-07,
          7.711085515893501e-07,
          7.130025551305152e-07,
          6.932951123417297e-07,
          6.828146524640033e-07,
          6.500188533209439e-07,
          6.378918556038115e-07,
          6.147510134724143e-07,
          5.949353067080665e-07,
          6.113435517818289e-07,
          6.0338895195855e-07,
          6.346402358303749e-07,
          6.340230697787775e-07,
          6.353091748678707e-07,
          6.203803849302858e-07,
          5.806625267723575e-07,
          5.698643292362249e-07,
          5.3616170987425e-07,
          5.466540670795439e-07,
          5.275851322039671e-07,
          5.052307784580989e-07,
          4.6330827103702176e-07,
          4.7447885549445344e-07,
          4.499248206002449e-07,
          4.411718435903822e-07,
          4.4398253180588653e-07,
          4.287881097297941e-07,
          4.2060465546001067e-07,
          4.1271436543866005e-07,
          4.089157158659873e-07,
          3.912769614089484e-07,
          3.8169311267211015e-07,
          3.633940025338234e-07,
          3.604104989562984e-07,
          3.616423867924823e-07,
          3.5486883973590013e-07,
          3.422121494622843e-07,
          3.320934695238975e-07,
          3.1725527094295103e-07,
          3.227419227869177e-07,
          3.225510027959899e-07,
          3.2727515986152866e-07,
          3.1559113153889486e-07,
          3.064357997573097e-07,
          2.9407540580450586e-07,
          2.973398039785025e-07,
          3.075498653970499e-07,
          3.1165495215645935e-07,
          3.2645840519762714e-07,
          3.1385582985876683e-07,
          3.013593214973298e-07,
          2.840081208432821e-07,
          2.840413031890421e-07,
          2.841322412905356e-07,
          3.017074192257496e-07,
          2.883135650222357e-07,
          2.747880401443581e-07,
          2.6594153297310185e-07,
          2.5012193560769447e-07,
          2.434468640899468e-07,
          2.584127983595863e-07,
          2.678702983871517e-07,
          2.5543074286815683e-07,
          2.5957181435387613e-07,
          2.480694206496992e-07,
          2.568552375237232e-07,
          2.5035013067054025e-07,
          2.492580051693949e-07,
          2.4951962132035985e-07,
          2.5069524269838437e-07,
          2.534257419029018e-07,
          2.460690538441668e-07,
          2.5476971359239543e-07,
          2.5727294996613634e-07,
          2.524696967043383e-07,
          2.389597284491174e-07,
          2.3006745664133632e-07,
          2.3071442853961343e-07,
          2.225533606292629e-07,
          2.1503892639884724e-07,
          2.0919733003665897e-07,
          2.0524862520687748e-07,
          2.037642531149686e-07,
          1.9359853382638902e-07,
          1.9806711861747318e-07,
          2.0577207209271365e-07,
          2.021859486944777e-07,
          2.0009395029774169e-07,
          2.0588518623299024e-07,
          2.0487148617576166e-07,
          1.9617604891664086e-07,
          1.9797406451971257e-07,
          1.9760321805506466e-07,
          2.0274081578008917e-07,
          2.0398160529566667e-07,
          2.0095245218954004e-07,
          2.0777213904921155e-07,
          2.0226004906476192e-07,
          1.923362866307343e-07,
          1.93147246108083e-07,
          1.8953357496798163e-07,
          1.852885169739693e-07,
          1.7714232498633463e-07,
          1.8065045352955168e-07,
          1.6852940447620314e-07,
          1.6150303778772467e-07,
          1.6117296937068203e-07,
          1.6840329806200315e-07,
          1.6937034530428718e-07,
          1.7790039237297605e-07,
          1.8555674898834696e-07,
          1.8682986819840152e-07,
          1.8313334777531053e-07,
          1.7501927516150317e-07,
          1.729446793774514e-07,
          1.6990502444969023e-07,
          1.6536141487222266e-07,
          1.6089974508304294e-07,
          1.6248175569444356e-07,
          1.5940662336788592e-07,
          1.598116469381239e-07,
          1.5934546553353358e-07,
          1.5670485282726075e-07,
          1.520147662859017e-07,
          1.479498173750926e-07,
          1.4637046348298098e-07,
          1.4745066323484934e-07,
          1.4645141561686613e-07,
          1.542433025747414e-07,
          1.4781479933390075e-07,
          1.4023536607510322e-07,
          1.4132641297237568e-07,
          1.456759832763055e-07,
          1.464276309093293e-07,
          1.5275162397188068e-07,
          1.5369746293458774e-07,
          1.517701640807445e-07,
          1.4787862880893954e-07,
          1.350481198869602e-07,
          1.307967536945398e-07,
          1.2640521518392234e-07,
          1.316788235783406e-07,
          1.2666610871292505e-07,
          1.234276851391769e-07,
          1.16242041769965e-07,
          1.1324172746185469e-07,
          1.1308185108305224e-07,
          1.1202581262637068e-07,
          1.1097060692577543e-07,
          1.1005010804865379e-07,
          1.08643372698225e-07,
          1.0167803310423551e-07,
          1.0281269382517167e-07,
          1.0468900839555317e-07,
          1.0808146200247393e-07,
          1.1083153594881878e-07,
          1.0815190236712624e-07,
          1.1581051353459771e-07,
          1.136489238717786e-07,
          1.1605243486201288e-07,
          1.162543490806911e-07,
          1.1122758891701778e-07,
          1.0926126847721207e-07,
          1.0518717772356467e-07,
          1.0431286625589565e-07,
          1.0109251604717429e-07,
          9.868898942499982e-08,
          9.23379310791006e-08,
          9.682742287964175e-08,
          9.421940774245741e-08,
          9.235340030500083e-08,
          9.415012129920796e-08,
          9.069131507999373e-08,
          9.009800265857848e-08,
          8.607760833001521e-08,
          8.579669170671878e-08,
          8.965158073692692e-08,
          8.925400294401697e-08,
          8.997473841532155e-08,
          8.661155135314402e-08,
          8.392440520310629e-08,
          8.024385635962972e-08,
          8.207892463474308e-08,
          8.670852409409236e-08,
          8.537515370221626e-08,
          8.61919126293742e-08,
          8.669238908964871e-08,
          8.731848097909278e-08,
          8.366297450379534e-08,
          8.333039431818179e-08,
          8.498624595176807e-08,
          8.464788479045637e-08,
          8.557559354471777e-08,
          8.209230841771387e-08,
          8.090604737276408e-08,
          8.02273582678481e-08,
          8.42788274724171e-08,
          8.280200702870388e-08,
          7.999748277143227e-08,
          8.452513284851193e-08,
          9.13666461599405e-08,
          9.1404194080269e-08,
          8.964205662209679e-08,
          8.745435700063809e-08,
          9.033660184343261e-08,
          9.113794909865192e-08,
          8.205205368483348e-08,
          8.407926408438015e-08,
          8.342652151327456e-08,
          7.913395947412027e-08,
          7.152060561566032e-08,
          7.159944814816299e-08,
          7.080375894474855e-08,
          7.241892880927026e-08,
          7.550061233985162e-08,
          7.350940087746948e-08,
          7.355186575352945e-08,
          6.932091380917882e-08,
          6.829018062148862e-08,
          6.786399993075065e-08,
          7.143182827462624e-08,
          7.814723730348306e-08,
          7.776527652936238e-08,
          7.527106546945105e-08,
          6.902330937919032e-08,
          6.845517468434536e-08,
          7.042406160451265e-08,
          7.141632138996101e-08,
          7.152389329689867e-08,
          6.958401996826069e-08,
          6.442305711118479e-08,
          5.875766966312312e-08,
          5.7658745689082024e-08,
          5.784384704554668e-08,
          6.041335005591009e-08,
          6.058948649467766e-08,
          5.6518737423516543e-08,
          5.698871383685855e-08,
          6.664491181140875e-08,
          6.628584969803342e-08,
          6.720968350748536e-08,
          6.757636619170171e-08,
          6.756285486630986e-08,
          6.717718896709357e-08,
          6.577762974302459e-08,
          6.503294684989669e-08,
          6.374403653808258e-08,
          6.149866784710412e-08,
          5.234294278011475e-08,
          5.193634606825981e-08,
          5.113978609472269e-08,
          4.8205075131591003e-08,
          4.7835024119535777e-08,
          4.9326642326263936e-08,
          4.993495394955971e-08,
          5.2896790592171784e-08,
          5.294422145141198e-08,
          5.462550731749616e-08,
          7.034573350495066e-08,
          7.158762471703994e-08,
          7.277166105268407e-08,
          7.291273149689914e-08,
          7.50593983411818e-08,
          7.384344655747554e-08,
          7.277580671427586e-08,
          7.167064985935667e-08,
          7.357303850596964e-08,
          7.189726609624359e-08,
          5.916732668254099e-08,
          5.7953320009573873e-08,
          5.8856754137082135e-08,
          5.881301845533926e-08,
          5.88786271293884e-08,
          5.986985236461351e-08,
          5.8629154153777566e-08,
          5.612472726568285e-08,
          5.452818214735089e-08,
          5.3440385627823164e-08,
          5.05820732854545e-08,
          5.132192733015018e-08,
          4.882196016353646e-08,
          4.716569108609292e-08,
          4.6772122175298136e-08,
          4.689139174729462e-08,
          4.7711748152323705e-08,
          4.8713639344555304e-08,
          4.9455373840601166e-08,
          5.096595145914762e-08,
          5.15411702650681e-08,
          5.0875769375124946e-08,
          5.241429477109705e-08,
          5.264675877469926e-08,
          5.0821354591334965e-08,
          4.944570868303799e-08,
          4.839882521423533e-08,
          4.802030524331258e-08,
          5.0196514322919936e-08,
          4.8927524787245603e-08,
          4.9161453929968955e-08,
          4.949262049080971e-08,
          4.864598750486948e-08,
          4.9345287678193015e-08,
          4.842633138935071e-08,
          5.018122308797501e-08,
          5.08478137817292e-08,
          5.010219723544651e-08,
          4.8494537452370426e-08,
          4.873429730878342e-08,
          4.733805383239087e-08,
          4.884627031742639e-08,
          5.045807043302375e-08,
          4.997734421863243e-08,
          5.0696747422307456e-08,
          4.834178248813714e-08,
          4.7825362869957645e-08,
          4.8627909876586275e-08,
          4.7248162360347125e-08,
          4.7131372227227077e-08,
          4.6909514850312915e-08,
          4.424368000854884e-08,
          4.156490973628024e-08,
          4.1969760644633426e-08,
          4.204949632935495e-08,
          4.599437524177574e-08,
          4.6464395353496e-08,
          4.7550892645631394e-08,
          5.208712394733084e-08,
          5.077456926017021e-08,
          5.2780134396357424e-08,
          5.3311618941620506e-08,
          5.276693855194026e-08,
          5.462226084773647e-08,
          5.472611590562337e-08,
          5.0091462355794644e-08,
          4.903160792935068e-08,
          4.7862033270007484e-08,
          4.260707520131746e-08,
          4.6644013451668796e-08,
          4.503001882483204e-08,
          4.5730313402714275e-08,
          4.6221012084401994e-08,
          4.455225983690525e-08,
          4.484404421134514e-08,
          4.6118049468191204e-08,
          4.622839675505475e-08,
          4.835569491490332e-08,
          4.843817968946951e-08,
          4.6382065121974844e-08,
          4.898344485582129e-08,
          4.9256029654998204e-08,
          5.043827862039052e-08,
          5.094369157632173e-08,
          5.015947017739108e-08,
          5.0243609805988855e-08,
          5.017362632031564e-08,
          4.647999958251603e-08,
          4.631428112134017e-08,
          4.551511949557607e-08,
          4.2354394125254656e-08,
          4.1606165268603946e-08,
          3.918213131726134e-08,
          3.7369957084365526e-08,
          3.758441309287264e-08,
          3.844819005394129e-08,
          3.852180903152203e-08,
          3.842950206944806e-08,
          3.771449996747833e-08,
          3.6491833732554826e-08,
          3.5659329888915184e-08,
          3.563578818699398e-08,
          3.7216210735380176e-08,
          3.768165175443983e-08,
          3.777914354685663e-08,
          3.577116540753877e-08,
          3.5577593315849754e-08,
          3.5557676092423665e-08,
          3.6616791199151064e-08,
          3.752549311286657e-08,
          4.032675349208148e-08,
          4.078072741720007e-08,
          3.908055585810644e-08,
          3.8677956659682875e-08,
          3.797488528078929e-08,
          3.904953391753452e-08,
          3.983116823036426e-08,
          4.00923811483267e-08,
          3.928933889341124e-08,
          4.0541612911226824e-08,
          3.948709217382884e-08,
          4.049422894780719e-08,
          4.253097749540302e-08,
          4.314601866894918e-08,
          4.356712892672476e-08,
          4.534417463730733e-08,
          4.4679650201828736e-08,
          4.530515660405854e-08,
          4.589171815894133e-08,
          4.4124086429064843e-08,
          4.577706533837045e-08
         ],
         "yaxis": "y"
        },
        {
         "mode": "lines",
         "name": "Control Loss",
         "type": "scatter",
         "x": [
          0,
          1,
          2,
          3,
          4,
          5,
          6,
          7,
          8,
          9,
          10,
          11,
          12,
          13,
          14,
          15,
          16,
          17,
          18,
          19,
          20,
          21,
          22,
          23,
          24,
          25,
          26,
          27,
          28,
          29,
          30,
          31,
          32,
          33,
          34,
          35,
          36,
          37,
          38,
          39,
          40,
          41,
          42,
          43,
          44,
          45,
          46,
          47,
          48,
          49,
          50,
          51,
          52,
          53,
          54,
          55,
          56,
          57,
          58,
          59,
          60,
          61,
          62,
          63,
          64,
          65,
          66,
          67,
          68,
          69,
          70,
          71,
          72,
          73,
          74,
          75,
          76,
          77,
          78,
          79,
          80,
          81,
          82,
          83,
          84,
          85,
          86,
          87,
          88,
          89,
          90,
          91,
          92,
          93,
          94,
          95,
          96,
          97,
          98,
          99,
          100,
          101,
          102,
          103,
          104,
          105,
          106,
          107,
          108,
          109,
          110,
          111,
          112,
          113,
          114,
          115,
          116,
          117,
          118,
          119,
          120,
          121,
          122,
          123,
          124,
          125,
          126,
          127,
          128,
          129,
          130,
          131,
          132,
          133,
          134,
          135,
          136,
          137,
          138,
          139,
          140,
          141,
          142,
          143,
          144,
          145,
          146,
          147,
          148,
          149,
          150,
          151,
          152,
          153,
          154,
          155,
          156,
          157,
          158,
          159,
          160,
          161,
          162,
          163,
          164,
          165,
          166,
          167,
          168,
          169,
          170,
          171,
          172,
          173,
          174,
          175,
          176,
          177,
          178,
          179,
          180,
          181,
          182,
          183,
          184,
          185,
          186,
          187,
          188,
          189,
          190,
          191,
          192,
          193,
          194,
          195,
          196,
          197,
          198,
          199,
          200,
          201,
          202,
          203,
          204,
          205,
          206,
          207,
          208,
          209,
          210,
          211,
          212,
          213,
          214,
          215,
          216,
          217,
          218,
          219,
          220,
          221,
          222,
          223,
          224,
          225,
          226,
          227,
          228,
          229,
          230,
          231,
          232,
          233,
          234,
          235,
          236,
          237,
          238,
          239,
          240,
          241,
          242,
          243,
          244,
          245,
          246,
          247,
          248,
          249,
          250,
          251,
          252,
          253,
          254,
          255,
          256,
          257,
          258,
          259,
          260,
          261,
          262,
          263,
          264,
          265,
          266,
          267,
          268,
          269,
          270,
          271,
          272,
          273,
          274,
          275,
          276,
          277,
          278,
          279,
          280,
          281,
          282,
          283,
          284,
          285,
          286,
          287,
          288,
          289,
          290,
          291,
          292,
          293,
          294,
          295,
          296,
          297,
          298,
          299,
          300,
          301,
          302,
          303,
          304,
          305,
          306,
          307,
          308,
          309,
          310,
          311,
          312,
          313,
          314,
          315,
          316,
          317,
          318,
          319,
          320,
          321,
          322,
          323,
          324,
          325,
          326,
          327,
          328,
          329,
          330,
          331,
          332,
          333,
          334,
          335,
          336,
          337,
          338,
          339,
          340,
          341,
          342,
          343,
          344,
          345,
          346,
          347,
          348,
          349,
          350,
          351,
          352,
          353,
          354,
          355,
          356,
          357,
          358,
          359,
          360,
          361,
          362,
          363,
          364,
          365,
          366,
          367,
          368,
          369,
          370,
          371,
          372,
          373,
          374,
          375,
          376,
          377,
          378,
          379,
          380,
          381,
          382,
          383,
          384,
          385,
          386,
          387,
          388,
          389,
          390,
          391,
          392,
          393,
          394,
          395,
          396,
          397,
          398,
          399,
          400,
          401,
          402,
          403,
          404,
          405,
          406,
          407,
          408,
          409,
          410,
          411,
          412,
          413,
          414,
          415,
          416,
          417,
          418,
          419,
          420,
          421,
          422,
          423,
          424,
          425,
          426,
          427,
          428,
          429,
          430,
          431,
          432,
          433,
          434,
          435,
          436,
          437,
          438,
          439,
          440,
          441,
          442,
          443,
          444,
          445,
          446,
          447,
          448,
          449,
          450,
          451,
          452,
          453,
          454,
          455,
          456,
          457,
          458,
          459,
          460,
          461,
          462,
          463,
          464,
          465,
          466,
          467,
          468,
          469,
          470,
          471,
          472,
          473,
          474,
          475,
          476,
          477,
          478,
          479,
          480,
          481,
          482,
          483,
          484,
          485,
          486,
          487,
          488,
          489,
          490
         ],
         "xaxis": "x",
         "y": [
          0.02165177958086133,
          0.027298919949680568,
          0.027244264353066684,
          0.02037318265065551,
          0.013764521107077599,
          0.011991128011140972,
          0.012130455358419567,
          0.012206302548293024,
          0.010441634396556765,
          0.007136739010456949,
          0.003033029439393431,
          -0.0005000593024306,
          -0.0034118520678021015,
          -0.0050063406466506425,
          -0.0054249389446340505,
          -0.005224710330367088,
          -0.003815883584320545,
          -0.002107971254736185,
          -0.0004956274759024381,
          0.0009444014169275761,
          0.001984446548158303,
          0.002422758570173755,
          0.0023975949559826406,
          0.0017310552822891623,
          0.0006366860179696232,
          -0.00035330769023858013,
          -0.0016117213701363653,
          -0.002702526323264465,
          -0.0034165565564762803,
          -0.0038462597818579524,
          -0.0038988139291177503,
          -0.0035841716264258137,
          -0.002935623032681178,
          -0.001996039487130474,
          -0.0010411169656435958,
          -6.949659873498604e-05,
          0.0008675729812239296,
          0.0015984662997652777,
          0.0021562354129855523,
          0.0024760466025327333,
          0.00252632325864397,
          0.002487057208782062,
          0.0022612980159465224,
          0.0018398245214484633,
          0.0015043532475829124,
          0.0010803885583300144,
          0.0007953473657835275,
          0.0005623474804451689,
          0.00038961578684393317,
          0.00034843683533836156,
          0.00043940791802015154,
          0.0006015575112542137,
          0.0008340926113305613,
          0.0010296048858435825,
          0.001194762406521477,
          0.0014411681419005617,
          0.0014828658051555977,
          0.0015336380514781923,
          0.0015487340337131173,
          0.0014572321728337557,
          0.0014130040246527642,
          0.0012620724766748026,
          0.0010381622036220507,
          0.0008958840582636185,
          0.0008076245037955232,
          0.0006946152439923026,
          0.0006711816429742612,
          0.0006605544898775406,
          0.0006370887174853123,
          0.0006468801540904679,
          0.0006386417793692089,
          0.0006908049384946935,
          0.0007699585330556147,
          0.0008574233565013855,
          0.0008167836524080486,
          0.0009069264400750398,
          0.0008919207262806595,
          0.0008790107269305736,
          0.0009119240625295788,
          0.0008890411118045449,
          0.0009127936442382634,
          0.0009243547217920422,
          0.0008774388814345002,
          0.0008701364160515368,
          0.0008947158057708293,
          0.000813324865885079,
          0.0008247342077083886,
          0.0008745723753236234,
          0.0008797950111329555,
          0.0009054518304765224,
          0.0008401316474191845,
          0.0007659489405341446,
          0.000804263714235276,
          0.0007900287804659456,
          0.0007344260404352099,
          0.0007348022831138223,
          0.0006940216931980103,
          0.0006636752397753299,
          0.0006341586005873979,
          0.0006312294746749104,
          0.0005838246084749699,
          0.000571691949153319,
          0.0005173539975658059,
          0.000527588528348133,
          0.0005437705665826797,
          0.0005002061021514237,
          0.0004394034895085497,
          0.00044362362641550137,
          0.0004384513984405203,
          0.00043731581936299333,
          0.0004838310222112341,
          0.0005668763926223619,
          0.0006140943482023431,
          0.0006245026812393917,
          0.0007104415428329958,
          0.0007600956520036562,
          0.0008258419460617006,
          0.0007984893454704434,
          0.0007973192958161234,
          0.0008002040325663984,
          0.000821416120743379,
          0.0007780110405292362,
          0.0007662775518838316,
          0.0007314521353691816,
          0.0006441474019084126,
          0.0005930824409006163,
          0.0005816168995806947,
          0.0006067663576686755,
          0.0006312368408543989,
          0.0006113437149906531,
          0.0005873175890883431,
          0.0005947342870058492,
          0.0005352333828341216,
          0.0005111078527988866,
          0.0005687644676072523,
          0.0005903987970668822,
          0.0005314481924870052,
          0.0005540651458431966,
          0.0005205829060287215,
          0.000571468188718427,
          0.0006189738880493679,
          0.0005842021477292292,
          0.0005713202641345561,
          0.000642387880361639,
          0.000581932146451436,
          0.0005534030584385619,
          0.0006208716440596618,
          0.0005939482434769161,
          0.0006195710637257434,
          0.0005984295465168543,
          0.000569364988768939,
          0.0006039408835931681,
          0.0006491486798040569,
          0.0006335585727356374,
          0.000618242210475728,
          0.0005812993342260598,
          0.0005529409518203465,
          0.0005361150029784767,
          0.000525667414694908,
          0.0004747622278955532,
          0.00045174824008427096,
          0.00046558861904486546,
          0.00048544556302658747,
          0.00047421121089428195,
          0.0005285480681777698,
          0.0005770488671259955,
          0.0005919259419897571,
          0.0006000769237289206,
          0.0005988860299112275,
          0.0006690062466077507,
          0.000708556897006929,
          0.0006772937602363526,
          0.0007084284734446555,
          0.0006715797921060584,
          0.0006915363468579016,
          0.0006838290588348173,
          0.0006475504444097169,
          0.0006237098699784837,
          0.0005930076164077036,
          0.000533862663723994,
          0.0005000566030503251,
          0.0005237095363554544,
          0.00044384245265973734,
          0.0005060696974396705,
          0.0004893947276286781,
          0.0005234564305283129,
          0.0005553196213440969,
          0.0005705488089006394,
          0.0005773280136054382,
          0.0006022742367349565,
          0.000565779468161054,
          0.0005533906485652551,
          0.0005404297058703378,
          0.000502491754014045,
          0.00047611035406589506,
          0.00046693162876181303,
          0.0004339727878686972,
          0.0004075254561030306,
          0.0003723287649336271,
          0.0003683284085127525,
          0.0003694332539453171,
          0.000405376403068658,
          0.0004915481040370651,
          0.0004619483166607097,
          0.00042407961445860564,
          0.0003728309864527546,
          0.0003916908812243491,
          0.00044578338274732233,
          0.0004761187417898327,
          0.00046050374512560663,
          0.00048583387106191365,
          0.0004834362858673558,
          0.0004541877278825268,
          0.0004821357360924594,
          0.0005164468850125559,
          0.0005223939806455746,
          0.0005208883667364717,
          0.0005063610733486712,
          0.0005221416126005351,
          0.0005451192904729396,
          0.0005401790869655088,
          0.0004872577032074332,
          0.0005310182110406459,
          0.0005146623530890793,
          0.00047344640333903956,
          0.0005046792779467068,
          0.0005326984261046164,
          0.00048574811371508985,
          0.0005063028627773746,
          0.00045829535083612426,
          0.0004576001738314517,
          0.0005158211322850547,
          0.00046302018308779224,
          0.00047794869024073703,
          0.0005007824336644262,
          0.0005101223010569811,
          0.0005052566470112651,
          0.0005056819951278158,
          0.0004599043124471791,
          0.0005208147573284805,
          0.0005182025226531551,
          0.0004909779614536092,
          0.00045927593018859627,
          0.000492587237386033,
          0.0005385822267271578,
          0.0005345913872588426,
          0.0005700812209397555,
          0.0006023502675816417,
          0.0006031365192029625,
          0.000595261825947091,
          0.0006366062531014905,
          0.0006356973346555606,
          0.0006445692299166695,
          0.0006231955689145252,
          0.0006120831851148978,
          0.0005971498903818429,
          0.0005620061187073588,
          0.0005422642221674323,
          0.0005575830349698663,
          0.0004956501266860869,
          0.0004738189709314611,
          0.00043780394698842426,
          0.00043065058926003983,
          0.0003966353855503257,
          0.00034120795535272916,
          0.00036099157223361543,
          0.0003646626595582347,
          0.0004173892601102125,
          0.00042825056516448967,
          0.00046167153923306616,
          0.0004790721432073042,
          0.0004568325974105392,
          0.0004110955036594532,
          0.00041887109546223655,
          0.00045284363586688413,
          0.0004261741749360226,
          0.00041126342111965644,
          0.0003675596890388988,
          0.0003723716115928255,
          0.0003684676034026779,
          0.00033172909315908327,
          0.0003949425365135539,
          0.0004021795939479489,
          0.0004224746437103022,
          0.00039668060853728095,
          0.0004135175906412769,
          0.0003713002508447971,
          0.0003901334093825426,
          0.0003834237424598541,
          0.0003917083253327291,
          0.00037678213047911415,
          0.0003688433331262786,
          0.00043869783403351905,
          0.0004317384213209152,
          0.00044729857763741164,
          0.00047146973956841977,
          0.0005118198445416055,
          0.0004799124682904221,
          0.0004665367552661337,
          0.0004834282226511277,
          0.0005120937887113542,
          0.0004970008361851796,
          0.0004430468427017331,
          0.00045457686646841464,
          0.0004484466859139502,
          0.0003871011358569376,
          0.00037843961181351917,
          0.0003827201828244142,
          0.0004039086503325962,
          0.00039885270380182194,
          0.00041596137307351453,
          0.0004374358817585744,
          0.0004768709579366259,
          0.0004816657557967119,
          0.00048154774558497595,
          0.0005262794729787856,
          0.0005328172032022849,
          0.0005196171390707604,
          0.0004935920427669771,
          0.00047740954178152604,
          0.00043726608710130676,
          0.00045438374945661053,
          0.0004314092264394276,
          0.0004536978478427045,
          0.0004292172408895567,
          0.0003880116302752867,
          0.0003945383941754699,
          0.00042224040225846693,
          0.00044088561116950586,
          0.0004562320697004907,
          0.0004667959394282661,
          0.0003920381292118691,
          0.0003906504178303294,
          0.0004048620045068674,
          0.0004336098674684763,
          0.00044622016430366783,
          0.00043006624619010834,
          0.0004415863688336685,
          0.000442023147479631,
          0.00044349328090902417,
          0.00045218861487228423,
          0.00047823243075981734,
          0.0004898291052086278,
          0.0004217156383674592,
          0.0003864262092974968,
          0.0004239465153659694,
          0.0004539027271675877,
          0.00047416309680556876,
          0.0004602153887390159,
          0.000437631165550556,
          0.0004549984514596872,
          0.0004722982193925418,
          0.0004951704919221811,
          0.000519043109670747,
          0.0005865571845788508,
          0.0005372651881771162,
          0.0005239938996965066,
          0.00047381471667904405,
          0.0004846849798923358,
          0.0005079111229861155,
          0.0004914411692880094,
          0.00045301467180252074,
          0.0004614373145159334,
          0.0004811083839740604,
          0.0004370592156192288,
          0.00043897342402487993,
          0.0004331822448875755,
          0.0004677037999499589,
          0.0004814503190573305,
          0.000474744473467581,
          0.0004989147302694619,
          0.000512265955330804,
          0.00048158529389183966,
          0.00044258547422941773,
          0.0004539626796031371,
          0.0004531967206276022,
          0.00045057665993226693,
          0.00045825522247469055,
          0.00044956521451240407,
          0.0004956383389071561,
          0.0004722091936855577,
          0.00048744560190243645,
          0.0005151425793883391,
          0.0005254959032754414,
          0.000524812588992063,
          0.0005439539003418758,
          0.000523567215714138,
          0.000535233439586591,
          0.0005122378977830521,
          0.00048550171632086856,
          0.00048521129501750694,
          0.0004922667678329163,
          0.00046384401939576493,
          0.00048713319847593084,
          0.000516112417972181,
          0.0005460901869810186,
          0.0005591302557149902,
          0.000494726630859077,
          0.0005143880087416619,
          0.0004965879255905747,
          0.0004743221012176946,
          0.00047735317784827205,
          0.00047344477206934243,
          0.00045917513489257544,
          0.0004482512333197519,
          0.00042751975415740163,
          0.0004482598014874384,
          0.00047331928508356216,
          0.0004766359517816454,
          0.00046550821280106903,
          0.0004971043788827955,
          0.00047759993467479946,
          0.00046757006202824414,
          0.0004705999745056033,
          0.00044383989297784864,
          0.0004423872451297939,
          0.0004260420653736219,
          0.000468622668995522,
          0.0004689887835411355,
          0.0004461713368073106,
          0.00047421117196790876,
          0.0004801758623216301,
          0.0004963146551745012,
          0.0004914458288112656,
          0.0005146482639247551,
          0.0005062128038844094,
          0.0004886458249529823,
          0.0004265754105290398,
          0.00039664334908593444,
          0.0004329071496613324,
          0.00034505375151638873,
          0.0003247722597734537,
          0.0003124421455140691,
          0.0003008931780641433,
          0.0002826731033565011,
          0.0002976102892716881,
          0.0003016492053575348,
          0.000307868452364346,
          0.00032046483756857923,
          0.0003124717528407928,
          0.0004002667163149454,
          0.0004278401756891981,
          0.0004568905191263184,
          0.00046763532445766033,
          0.00042273850267520173,
          0.00043236516503384335,
          0.0004660772436182015,
          0.0005042943186708726,
          0.0004689219524152577,
          0.00046171026187948885,
          0.00044404786895029246,
          0.00042816959030460565,
          0.0003833195543847978,
          0.00037231525639072063,
          0.0004461104530491866,
          0.000419875887746457,
          0.0003976950669311918,
          0.00040040146704996006,
          0.00041933198808692397,
          0.00040944694774225354,
          0.00039132030215114353,
          0.00038916868797969075,
          0.0004103844054043293,
          0.0004468005616217852,
          0.0004378094628918916,
          0.00045910287881270053,
          0.0004571233817841858,
          0.0003847839430818567,
          0.00043680626004061196,
          0.00043796123391075524,
          0.0004146723778831074,
          0.0004623319171514595,
          0.00047721735063532833,
          0.00045212219447421376,
          0.0004054298999108141,
          0.00038183595424925445,
          0.0004103726965695387,
          0.0004612054610333871,
          0.00044503947647172025,
          0.0005047062491939869,
          0.0005265224252070766,
          0.00048789398788358086,
          0.000488138879154576,
          0.0004965986583556515,
          0.000553110329201445,
          0.0005751099495682865,
          0.0005123185797856422,
          0.0005341246218449669,
          0.0005316000973834889,
          0.0004778536171215819,
          0.00046718037228856704
         ],
         "yaxis": "y"
        }
       ],
       "layout": {
        "font": {
         "family": "Courier New, monospace",
         "size": 14
        },
        "template": {
         "data": {
          "bar": [
           {
            "error_x": {
             "color": "#2a3f5f"
            },
            "error_y": {
             "color": "#2a3f5f"
            },
            "marker": {
             "line": {
              "color": "#E5ECF6",
              "width": 0.5
             }
            },
            "type": "bar"
           }
          ],
          "barpolar": [
           {
            "marker": {
             "line": {
              "color": "#E5ECF6",
              "width": 0.5
             }
            },
            "type": "barpolar"
           }
          ],
          "carpet": [
           {
            "aaxis": {
             "endlinecolor": "#2a3f5f",
             "gridcolor": "white",
             "linecolor": "white",
             "minorgridcolor": "white",
             "startlinecolor": "#2a3f5f"
            },
            "baxis": {
             "endlinecolor": "#2a3f5f",
             "gridcolor": "white",
             "linecolor": "white",
             "minorgridcolor": "white",
             "startlinecolor": "#2a3f5f"
            },
            "type": "carpet"
           }
          ],
          "choropleth": [
           {
            "colorbar": {
             "outlinewidth": 0,
             "ticks": ""
            },
            "type": "choropleth"
           }
          ],
          "contour": [
           {
            "colorbar": {
             "outlinewidth": 0,
             "ticks": ""
            },
            "colorscale": [
             [
              0,
              "#0d0887"
             ],
             [
              0.1111111111111111,
              "#46039f"
             ],
             [
              0.2222222222222222,
              "#7201a8"
             ],
             [
              0.3333333333333333,
              "#9c179e"
             ],
             [
              0.4444444444444444,
              "#bd3786"
             ],
             [
              0.5555555555555556,
              "#d8576b"
             ],
             [
              0.6666666666666666,
              "#ed7953"
             ],
             [
              0.7777777777777778,
              "#fb9f3a"
             ],
             [
              0.8888888888888888,
              "#fdca26"
             ],
             [
              1,
              "#f0f921"
             ]
            ],
            "type": "contour"
           }
          ],
          "contourcarpet": [
           {
            "colorbar": {
             "outlinewidth": 0,
             "ticks": ""
            },
            "type": "contourcarpet"
           }
          ],
          "heatmap": [
           {
            "colorbar": {
             "outlinewidth": 0,
             "ticks": ""
            },
            "colorscale": [
             [
              0,
              "#0d0887"
             ],
             [
              0.1111111111111111,
              "#46039f"
             ],
             [
              0.2222222222222222,
              "#7201a8"
             ],
             [
              0.3333333333333333,
              "#9c179e"
             ],
             [
              0.4444444444444444,
              "#bd3786"
             ],
             [
              0.5555555555555556,
              "#d8576b"
             ],
             [
              0.6666666666666666,
              "#ed7953"
             ],
             [
              0.7777777777777778,
              "#fb9f3a"
             ],
             [
              0.8888888888888888,
              "#fdca26"
             ],
             [
              1,
              "#f0f921"
             ]
            ],
            "type": "heatmap"
           }
          ],
          "heatmapgl": [
           {
            "colorbar": {
             "outlinewidth": 0,
             "ticks": ""
            },
            "colorscale": [
             [
              0,
              "#0d0887"
             ],
             [
              0.1111111111111111,
              "#46039f"
             ],
             [
              0.2222222222222222,
              "#7201a8"
             ],
             [
              0.3333333333333333,
              "#9c179e"
             ],
             [
              0.4444444444444444,
              "#bd3786"
             ],
             [
              0.5555555555555556,
              "#d8576b"
             ],
             [
              0.6666666666666666,
              "#ed7953"
             ],
             [
              0.7777777777777778,
              "#fb9f3a"
             ],
             [
              0.8888888888888888,
              "#fdca26"
             ],
             [
              1,
              "#f0f921"
             ]
            ],
            "type": "heatmapgl"
           }
          ],
          "histogram": [
           {
            "marker": {
             "colorbar": {
              "outlinewidth": 0,
              "ticks": ""
             }
            },
            "type": "histogram"
           }
          ],
          "histogram2d": [
           {
            "colorbar": {
             "outlinewidth": 0,
             "ticks": ""
            },
            "colorscale": [
             [
              0,
              "#0d0887"
             ],
             [
              0.1111111111111111,
              "#46039f"
             ],
             [
              0.2222222222222222,
              "#7201a8"
             ],
             [
              0.3333333333333333,
              "#9c179e"
             ],
             [
              0.4444444444444444,
              "#bd3786"
             ],
             [
              0.5555555555555556,
              "#d8576b"
             ],
             [
              0.6666666666666666,
              "#ed7953"
             ],
             [
              0.7777777777777778,
              "#fb9f3a"
             ],
             [
              0.8888888888888888,
              "#fdca26"
             ],
             [
              1,
              "#f0f921"
             ]
            ],
            "type": "histogram2d"
           }
          ],
          "histogram2dcontour": [
           {
            "colorbar": {
             "outlinewidth": 0,
             "ticks": ""
            },
            "colorscale": [
             [
              0,
              "#0d0887"
             ],
             [
              0.1111111111111111,
              "#46039f"
             ],
             [
              0.2222222222222222,
              "#7201a8"
             ],
             [
              0.3333333333333333,
              "#9c179e"
             ],
             [
              0.4444444444444444,
              "#bd3786"
             ],
             [
              0.5555555555555556,
              "#d8576b"
             ],
             [
              0.6666666666666666,
              "#ed7953"
             ],
             [
              0.7777777777777778,
              "#fb9f3a"
             ],
             [
              0.8888888888888888,
              "#fdca26"
             ],
             [
              1,
              "#f0f921"
             ]
            ],
            "type": "histogram2dcontour"
           }
          ],
          "mesh3d": [
           {
            "colorbar": {
             "outlinewidth": 0,
             "ticks": ""
            },
            "type": "mesh3d"
           }
          ],
          "parcoords": [
           {
            "line": {
             "colorbar": {
              "outlinewidth": 0,
              "ticks": ""
             }
            },
            "type": "parcoords"
           }
          ],
          "pie": [
           {
            "automargin": true,
            "type": "pie"
           }
          ],
          "scatter": [
           {
            "marker": {
             "colorbar": {
              "outlinewidth": 0,
              "ticks": ""
             }
            },
            "type": "scatter"
           }
          ],
          "scatter3d": [
           {
            "line": {
             "colorbar": {
              "outlinewidth": 0,
              "ticks": ""
             }
            },
            "marker": {
             "colorbar": {
              "outlinewidth": 0,
              "ticks": ""
             }
            },
            "type": "scatter3d"
           }
          ],
          "scattercarpet": [
           {
            "marker": {
             "colorbar": {
              "outlinewidth": 0,
              "ticks": ""
             }
            },
            "type": "scattercarpet"
           }
          ],
          "scattergeo": [
           {
            "marker": {
             "colorbar": {
              "outlinewidth": 0,
              "ticks": ""
             }
            },
            "type": "scattergeo"
           }
          ],
          "scattergl": [
           {
            "marker": {
             "colorbar": {
              "outlinewidth": 0,
              "ticks": ""
             }
            },
            "type": "scattergl"
           }
          ],
          "scattermapbox": [
           {
            "marker": {
             "colorbar": {
              "outlinewidth": 0,
              "ticks": ""
             }
            },
            "type": "scattermapbox"
           }
          ],
          "scatterpolar": [
           {
            "marker": {
             "colorbar": {
              "outlinewidth": 0,
              "ticks": ""
             }
            },
            "type": "scatterpolar"
           }
          ],
          "scatterpolargl": [
           {
            "marker": {
             "colorbar": {
              "outlinewidth": 0,
              "ticks": ""
             }
            },
            "type": "scatterpolargl"
           }
          ],
          "scatterternary": [
           {
            "marker": {
             "colorbar": {
              "outlinewidth": 0,
              "ticks": ""
             }
            },
            "type": "scatterternary"
           }
          ],
          "surface": [
           {
            "colorbar": {
             "outlinewidth": 0,
             "ticks": ""
            },
            "colorscale": [
             [
              0,
              "#0d0887"
             ],
             [
              0.1111111111111111,
              "#46039f"
             ],
             [
              0.2222222222222222,
              "#7201a8"
             ],
             [
              0.3333333333333333,
              "#9c179e"
             ],
             [
              0.4444444444444444,
              "#bd3786"
             ],
             [
              0.5555555555555556,
              "#d8576b"
             ],
             [
              0.6666666666666666,
              "#ed7953"
             ],
             [
              0.7777777777777778,
              "#fb9f3a"
             ],
             [
              0.8888888888888888,
              "#fdca26"
             ],
             [
              1,
              "#f0f921"
             ]
            ],
            "type": "surface"
           }
          ],
          "table": [
           {
            "cells": {
             "fill": {
              "color": "#EBF0F8"
             },
             "line": {
              "color": "white"
             }
            },
            "header": {
             "fill": {
              "color": "#C8D4E3"
             },
             "line": {
              "color": "white"
             }
            },
            "type": "table"
           }
          ]
         },
         "layout": {
          "annotationdefaults": {
           "arrowcolor": "#2a3f5f",
           "arrowhead": 0,
           "arrowwidth": 1
          },
          "autotypenumbers": "strict",
          "coloraxis": {
           "colorbar": {
            "outlinewidth": 0,
            "ticks": ""
           }
          },
          "colorscale": {
           "diverging": [
            [
             0,
             "#8e0152"
            ],
            [
             0.1,
             "#c51b7d"
            ],
            [
             0.2,
             "#de77ae"
            ],
            [
             0.3,
             "#f1b6da"
            ],
            [
             0.4,
             "#fde0ef"
            ],
            [
             0.5,
             "#f7f7f7"
            ],
            [
             0.6,
             "#e6f5d0"
            ],
            [
             0.7,
             "#b8e186"
            ],
            [
             0.8,
             "#7fbc41"
            ],
            [
             0.9,
             "#4d9221"
            ],
            [
             1,
             "#276419"
            ]
           ],
           "sequential": [
            [
             0,
             "#0d0887"
            ],
            [
             0.1111111111111111,
             "#46039f"
            ],
            [
             0.2222222222222222,
             "#7201a8"
            ],
            [
             0.3333333333333333,
             "#9c179e"
            ],
            [
             0.4444444444444444,
             "#bd3786"
            ],
            [
             0.5555555555555556,
             "#d8576b"
            ],
            [
             0.6666666666666666,
             "#ed7953"
            ],
            [
             0.7777777777777778,
             "#fb9f3a"
            ],
            [
             0.8888888888888888,
             "#fdca26"
            ],
            [
             1,
             "#f0f921"
            ]
           ],
           "sequentialminus": [
            [
             0,
             "#0d0887"
            ],
            [
             0.1111111111111111,
             "#46039f"
            ],
            [
             0.2222222222222222,
             "#7201a8"
            ],
            [
             0.3333333333333333,
             "#9c179e"
            ],
            [
             0.4444444444444444,
             "#bd3786"
            ],
            [
             0.5555555555555556,
             "#d8576b"
            ],
            [
             0.6666666666666666,
             "#ed7953"
            ],
            [
             0.7777777777777778,
             "#fb9f3a"
            ],
            [
             0.8888888888888888,
             "#fdca26"
            ],
            [
             1,
             "#f0f921"
            ]
           ]
          },
          "colorway": [
           "#636efa",
           "#EF553B",
           "#00cc96",
           "#ab63fa",
           "#FFA15A",
           "#19d3f3",
           "#FF6692",
           "#B6E880",
           "#FF97FF",
           "#FECB52"
          ],
          "font": {
           "color": "#2a3f5f"
          },
          "geo": {
           "bgcolor": "white",
           "lakecolor": "white",
           "landcolor": "#E5ECF6",
           "showlakes": true,
           "showland": true,
           "subunitcolor": "white"
          },
          "hoverlabel": {
           "align": "left"
          },
          "hovermode": "closest",
          "mapbox": {
           "style": "light"
          },
          "paper_bgcolor": "white",
          "plot_bgcolor": "#E5ECF6",
          "polar": {
           "angularaxis": {
            "gridcolor": "white",
            "linecolor": "white",
            "ticks": ""
           },
           "bgcolor": "#E5ECF6",
           "radialaxis": {
            "gridcolor": "white",
            "linecolor": "white",
            "ticks": ""
           }
          },
          "scene": {
           "xaxis": {
            "backgroundcolor": "#E5ECF6",
            "gridcolor": "white",
            "gridwidth": 2,
            "linecolor": "white",
            "showbackground": true,
            "ticks": "",
            "zerolinecolor": "white"
           },
           "yaxis": {
            "backgroundcolor": "#E5ECF6",
            "gridcolor": "white",
            "gridwidth": 2,
            "linecolor": "white",
            "showbackground": true,
            "ticks": "",
            "zerolinecolor": "white"
           },
           "zaxis": {
            "backgroundcolor": "#E5ECF6",
            "gridcolor": "white",
            "gridwidth": 2,
            "linecolor": "white",
            "showbackground": true,
            "ticks": "",
            "zerolinecolor": "white"
           }
          },
          "shapedefaults": {
           "line": {
            "color": "#2a3f5f"
           }
          },
          "ternary": {
           "aaxis": {
            "gridcolor": "white",
            "linecolor": "white",
            "ticks": ""
           },
           "baxis": {
            "gridcolor": "white",
            "linecolor": "white",
            "ticks": ""
           },
           "bgcolor": "#E5ECF6",
           "caxis": {
            "gridcolor": "white",
            "linecolor": "white",
            "ticks": ""
           }
          },
          "title": {
           "x": 0.05
          },
          "xaxis": {
           "automargin": true,
           "gridcolor": "white",
           "linecolor": "white",
           "ticks": "",
           "title": {
            "standoff": 15
           },
           "zerolinecolor": "white",
           "zerolinewidth": 2
          },
          "yaxis": {
           "automargin": true,
           "gridcolor": "white",
           "linecolor": "white",
           "ticks": "",
           "title": {
            "standoff": 15
           },
           "zerolinecolor": "white",
           "zerolinewidth": 2
          }
         }
        },
        "title": {
         "text": "Loss"
        },
        "xaxis": {
         "anchor": "y",
         "domain": [
          0,
          1
         ],
         "title": {
          "text": "Iterations"
         }
        },
        "yaxis": {
         "anchor": "x",
         "domain": [
          0,
          1
         ],
         "title": {
          "text": "Loss"
         }
        }
       }
      },
      "text/html": [
       "<div>                            <div id=\"d5e2e675-4108-40ee-9885-1c53b5d3d1a1\" class=\"plotly-graph-div\" style=\"height:525px; width:100%;\"></div>            <script type=\"text/javascript\">                require([\"plotly\"], function(Plotly) {                    window.PLOTLYENV=window.PLOTLYENV || {};                                    if (document.getElementById(\"d5e2e675-4108-40ee-9885-1c53b5d3d1a1\")) {                    Plotly.newPlot(                        \"d5e2e675-4108-40ee-9885-1c53b5d3d1a1\",                        [{\"mode\": \"lines\", \"name\": \"Value Loss\", \"type\": \"scatter\", \"x\": [0, 1, 2, 3, 4, 5, 6, 7, 8, 9, 10, 11, 12, 13, 14, 15, 16, 17, 18, 19, 20, 21, 22, 23, 24, 25, 26, 27, 28, 29, 30, 31, 32, 33, 34, 35, 36, 37, 38, 39, 40, 41, 42, 43, 44, 45, 46, 47, 48, 49, 50, 51, 52, 53, 54, 55, 56, 57, 58, 59, 60, 61, 62, 63, 64, 65, 66, 67, 68, 69, 70, 71, 72, 73, 74, 75, 76, 77, 78, 79, 80, 81, 82, 83, 84, 85, 86, 87, 88, 89, 90, 91, 92, 93, 94, 95, 96, 97, 98, 99, 100, 101, 102, 103, 104, 105, 106, 107, 108, 109, 110, 111, 112, 113, 114, 115, 116, 117, 118, 119, 120, 121, 122, 123, 124, 125, 126, 127, 128, 129, 130, 131, 132, 133, 134, 135, 136, 137, 138, 139, 140, 141, 142, 143, 144, 145, 146, 147, 148, 149, 150, 151, 152, 153, 154, 155, 156, 157, 158, 159, 160, 161, 162, 163, 164, 165, 166, 167, 168, 169, 170, 171, 172, 173, 174, 175, 176, 177, 178, 179, 180, 181, 182, 183, 184, 185, 186, 187, 188, 189, 190, 191, 192, 193, 194, 195, 196, 197, 198, 199, 200, 201, 202, 203, 204, 205, 206, 207, 208, 209, 210, 211, 212, 213, 214, 215, 216, 217, 218, 219, 220, 221, 222, 223, 224, 225, 226, 227, 228, 229, 230, 231, 232, 233, 234, 235, 236, 237, 238, 239, 240, 241, 242, 243, 244, 245, 246, 247, 248, 249, 250, 251, 252, 253, 254, 255, 256, 257, 258, 259, 260, 261, 262, 263, 264, 265, 266, 267, 268, 269, 270, 271, 272, 273, 274, 275, 276, 277, 278, 279, 280, 281, 282, 283, 284, 285, 286, 287, 288, 289, 290, 291, 292, 293, 294, 295, 296, 297, 298, 299, 300, 301, 302, 303, 304, 305, 306, 307, 308, 309, 310, 311, 312, 313, 314, 315, 316, 317, 318, 319, 320, 321, 322, 323, 324, 325, 326, 327, 328, 329, 330, 331, 332, 333, 334, 335, 336, 337, 338, 339, 340, 341, 342, 343, 344, 345, 346, 347, 348, 349, 350, 351, 352, 353, 354, 355, 356, 357, 358, 359, 360, 361, 362, 363, 364, 365, 366, 367, 368, 369, 370, 371, 372, 373, 374, 375, 376, 377, 378, 379, 380, 381, 382, 383, 384, 385, 386, 387, 388, 389, 390, 391, 392, 393, 394, 395, 396, 397, 398, 399, 400, 401, 402, 403, 404, 405, 406, 407, 408, 409, 410, 411, 412, 413, 414, 415, 416, 417, 418, 419, 420, 421, 422, 423, 424, 425, 426, 427, 428, 429, 430, 431, 432, 433, 434, 435, 436, 437, 438, 439, 440, 441, 442, 443, 444, 445, 446, 447, 448, 449, 450, 451, 452, 453, 454, 455, 456, 457, 458, 459, 460, 461, 462, 463, 464, 465, 466, 467, 468, 469, 470, 471, 472, 473, 474, 475, 476, 477, 478, 479, 480, 481, 482, 483, 484, 485, 486, 487, 488, 489, 490], \"xaxis\": \"x\", \"y\": [0.014754872117191554, 0.014753223489969968, 0.005582144763320684, 0.003990990825695917, 0.00280877742334269, 0.0024566555861383677, 0.0020066574739757924, 0.0014294360647909344, 0.0011778057320043444, 0.0010547847137786447, 0.0008913437748560682, 0.0007148273318307475, 0.0005528526962734759, 0.0004874269856372848, 0.0004573701822664589, 0.00043388582125771793, 0.0004235833243001252, 0.00039733711164444683, 0.00034284763678442686, 0.0002959304300020449, 0.00026083681514137423, 0.00023351341114903336, 0.0002223574174422538, 0.000210887881621602, 0.000191412646745448, 0.0001710468543024035, 0.00014100878506724258, 0.00011499800202727784, 9.578505960234906e-05, 8.158869550243253e-05, 7.521066490880912e-05, 7.281796551978914e-05, 7.127075205062283e-05, 6.617035887757083e-05, 5.9936179422948047e-05, 5.2512827642203776e-05, 4.3958009882771876e-05, 3.725345432030736e-05, 3.266577841714025e-05, 3.128689386358019e-05, 3.0250783584051533e-05, 2.9446629150697844e-05, 2.767161936390039e-05, 2.5193421197400313e-05, 2.1876485288885305e-05, 1.847789712883241e-05, 1.5218996622934355e-05, 1.244648715328367e-05, 1.1605607187448187e-05, 1.0719345800680457e-05, 1.0679465185603476e-05, 1.0564025251369457e-05, 1.0210205255134497e-05, 9.508093762633507e-06, 8.746546245674836e-06, 7.68394361330138e-06, 6.728258949806332e-06, 6.121622254795511e-06, 5.343115981304436e-06, 4.7875473228486955e-06, 4.3746463688876245e-06, 4.105264724785229e-06, 3.82608800464368e-06, 3.6333513889985626e-06, 3.360479786351789e-06, 3.1105632615435753e-06, 2.8025812298437812e-06, 2.5217072334271505e-06, 2.2433872004512523e-06, 2.1642118099407524e-06, 2.0100356778129936e-06, 1.8775866919895633e-06, 1.834840475112287e-06, 1.7401757986590382e-06, 1.5447428722836776e-06, 1.4295117580331862e-06, 1.358944246021565e-06, 1.2480547752602434e-06, 1.1910048215213464e-06, 1.1700777577061673e-06, 1.175047952983732e-06, 1.1984199090875336e-06, 1.1407483384573425e-06, 1.0962174485484866e-06, 1.0836320427642931e-06, 9.870161932212795e-07, 8.945652382408298e-07, 8.866979158028698e-07, 8.966526252152108e-07, 9.148024560090562e-07, 8.506527592544444e-07, 7.959240974741988e-07, 7.981710496096639e-07, 7.711085515893501e-07, 7.130025551305152e-07, 6.932951123417297e-07, 6.828146524640033e-07, 6.500188533209439e-07, 6.378918556038115e-07, 6.147510134724143e-07, 5.949353067080665e-07, 6.113435517818289e-07, 6.0338895195855e-07, 6.346402358303749e-07, 6.340230697787775e-07, 6.353091748678707e-07, 6.203803849302858e-07, 5.806625267723575e-07, 5.698643292362249e-07, 5.3616170987425e-07, 5.466540670795439e-07, 5.275851322039671e-07, 5.052307784580989e-07, 4.6330827103702176e-07, 4.7447885549445344e-07, 4.499248206002449e-07, 4.411718435903822e-07, 4.4398253180588653e-07, 4.287881097297941e-07, 4.2060465546001067e-07, 4.1271436543866005e-07, 4.089157158659873e-07, 3.912769614089484e-07, 3.8169311267211015e-07, 3.633940025338234e-07, 3.604104989562984e-07, 3.616423867924823e-07, 3.5486883973590013e-07, 3.422121494622843e-07, 3.320934695238975e-07, 3.1725527094295103e-07, 3.227419227869177e-07, 3.225510027959899e-07, 3.2727515986152866e-07, 3.1559113153889486e-07, 3.064357997573097e-07, 2.9407540580450586e-07, 2.973398039785025e-07, 3.075498653970499e-07, 3.1165495215645935e-07, 3.2645840519762714e-07, 3.1385582985876683e-07, 3.013593214973298e-07, 2.840081208432821e-07, 2.840413031890421e-07, 2.841322412905356e-07, 3.017074192257496e-07, 2.883135650222357e-07, 2.747880401443581e-07, 2.6594153297310185e-07, 2.5012193560769447e-07, 2.434468640899468e-07, 2.584127983595863e-07, 2.678702983871517e-07, 2.5543074286815683e-07, 2.5957181435387613e-07, 2.480694206496992e-07, 2.568552375237232e-07, 2.5035013067054025e-07, 2.492580051693949e-07, 2.4951962132035985e-07, 2.5069524269838437e-07, 2.534257419029018e-07, 2.460690538441668e-07, 2.5476971359239543e-07, 2.5727294996613634e-07, 2.524696967043383e-07, 2.389597284491174e-07, 2.3006745664133632e-07, 2.3071442853961343e-07, 2.225533606292629e-07, 2.1503892639884724e-07, 2.0919733003665897e-07, 2.0524862520687748e-07, 2.037642531149686e-07, 1.9359853382638902e-07, 1.9806711861747318e-07, 2.0577207209271365e-07, 2.021859486944777e-07, 2.0009395029774169e-07, 2.0588518623299024e-07, 2.0487148617576166e-07, 1.9617604891664086e-07, 1.9797406451971257e-07, 1.9760321805506466e-07, 2.0274081578008917e-07, 2.0398160529566667e-07, 2.0095245218954004e-07, 2.0777213904921155e-07, 2.0226004906476192e-07, 1.923362866307343e-07, 1.93147246108083e-07, 1.8953357496798163e-07, 1.852885169739693e-07, 1.7714232498633463e-07, 1.8065045352955168e-07, 1.6852940447620314e-07, 1.6150303778772467e-07, 1.6117296937068203e-07, 1.6840329806200315e-07, 1.6937034530428718e-07, 1.7790039237297605e-07, 1.8555674898834696e-07, 1.8682986819840152e-07, 1.8313334777531053e-07, 1.7501927516150317e-07, 1.729446793774514e-07, 1.6990502444969023e-07, 1.6536141487222266e-07, 1.6089974508304294e-07, 1.6248175569444356e-07, 1.5940662336788592e-07, 1.598116469381239e-07, 1.5934546553353358e-07, 1.5670485282726075e-07, 1.520147662859017e-07, 1.479498173750926e-07, 1.4637046348298098e-07, 1.4745066323484934e-07, 1.4645141561686613e-07, 1.542433025747414e-07, 1.4781479933390075e-07, 1.4023536607510322e-07, 1.4132641297237568e-07, 1.456759832763055e-07, 1.464276309093293e-07, 1.5275162397188068e-07, 1.5369746293458774e-07, 1.517701640807445e-07, 1.4787862880893954e-07, 1.350481198869602e-07, 1.307967536945398e-07, 1.2640521518392234e-07, 1.316788235783406e-07, 1.2666610871292505e-07, 1.234276851391769e-07, 1.16242041769965e-07, 1.1324172746185469e-07, 1.1308185108305224e-07, 1.1202581262637068e-07, 1.1097060692577543e-07, 1.1005010804865379e-07, 1.08643372698225e-07, 1.0167803310423551e-07, 1.0281269382517167e-07, 1.0468900839555317e-07, 1.0808146200247393e-07, 1.1083153594881878e-07, 1.0815190236712624e-07, 1.1581051353459771e-07, 1.136489238717786e-07, 1.1605243486201288e-07, 1.162543490806911e-07, 1.1122758891701778e-07, 1.0926126847721207e-07, 1.0518717772356467e-07, 1.0431286625589565e-07, 1.0109251604717429e-07, 9.868898942499982e-08, 9.23379310791006e-08, 9.682742287964175e-08, 9.421940774245741e-08, 9.235340030500083e-08, 9.415012129920796e-08, 9.069131507999373e-08, 9.009800265857848e-08, 8.607760833001521e-08, 8.579669170671878e-08, 8.965158073692692e-08, 8.925400294401697e-08, 8.997473841532155e-08, 8.661155135314402e-08, 8.392440520310629e-08, 8.024385635962972e-08, 8.207892463474308e-08, 8.670852409409236e-08, 8.537515370221626e-08, 8.61919126293742e-08, 8.669238908964871e-08, 8.731848097909278e-08, 8.366297450379534e-08, 8.333039431818179e-08, 8.498624595176807e-08, 8.464788479045637e-08, 8.557559354471777e-08, 8.209230841771387e-08, 8.090604737276408e-08, 8.02273582678481e-08, 8.42788274724171e-08, 8.280200702870388e-08, 7.999748277143227e-08, 8.452513284851193e-08, 9.13666461599405e-08, 9.1404194080269e-08, 8.964205662209679e-08, 8.745435700063809e-08, 9.033660184343261e-08, 9.113794909865192e-08, 8.205205368483348e-08, 8.407926408438015e-08, 8.342652151327456e-08, 7.913395947412027e-08, 7.152060561566032e-08, 7.159944814816299e-08, 7.080375894474855e-08, 7.241892880927026e-08, 7.550061233985162e-08, 7.350940087746948e-08, 7.355186575352945e-08, 6.932091380917882e-08, 6.829018062148862e-08, 6.786399993075065e-08, 7.143182827462624e-08, 7.814723730348306e-08, 7.776527652936238e-08, 7.527106546945105e-08, 6.902330937919032e-08, 6.845517468434536e-08, 7.042406160451265e-08, 7.141632138996101e-08, 7.152389329689867e-08, 6.958401996826069e-08, 6.442305711118479e-08, 5.875766966312312e-08, 5.7658745689082024e-08, 5.784384704554668e-08, 6.041335005591009e-08, 6.058948649467766e-08, 5.6518737423516543e-08, 5.698871383685855e-08, 6.664491181140875e-08, 6.628584969803342e-08, 6.720968350748536e-08, 6.757636619170171e-08, 6.756285486630986e-08, 6.717718896709357e-08, 6.577762974302459e-08, 6.503294684989669e-08, 6.374403653808258e-08, 6.149866784710412e-08, 5.234294278011475e-08, 5.193634606825981e-08, 5.113978609472269e-08, 4.8205075131591003e-08, 4.7835024119535777e-08, 4.9326642326263936e-08, 4.993495394955971e-08, 5.2896790592171784e-08, 5.294422145141198e-08, 5.462550731749616e-08, 7.034573350495066e-08, 7.158762471703994e-08, 7.277166105268407e-08, 7.291273149689914e-08, 7.50593983411818e-08, 7.384344655747554e-08, 7.277580671427586e-08, 7.167064985935667e-08, 7.357303850596964e-08, 7.189726609624359e-08, 5.916732668254099e-08, 5.7953320009573873e-08, 5.8856754137082135e-08, 5.881301845533926e-08, 5.88786271293884e-08, 5.986985236461351e-08, 5.8629154153777566e-08, 5.612472726568285e-08, 5.452818214735089e-08, 5.3440385627823164e-08, 5.05820732854545e-08, 5.132192733015018e-08, 4.882196016353646e-08, 4.716569108609292e-08, 4.6772122175298136e-08, 4.689139174729462e-08, 4.7711748152323705e-08, 4.8713639344555304e-08, 4.9455373840601166e-08, 5.096595145914762e-08, 5.15411702650681e-08, 5.0875769375124946e-08, 5.241429477109705e-08, 5.264675877469926e-08, 5.0821354591334965e-08, 4.944570868303799e-08, 4.839882521423533e-08, 4.802030524331258e-08, 5.0196514322919936e-08, 4.8927524787245603e-08, 4.9161453929968955e-08, 4.949262049080971e-08, 4.864598750486948e-08, 4.9345287678193015e-08, 4.842633138935071e-08, 5.018122308797501e-08, 5.08478137817292e-08, 5.010219723544651e-08, 4.8494537452370426e-08, 4.873429730878342e-08, 4.733805383239087e-08, 4.884627031742639e-08, 5.045807043302375e-08, 4.997734421863243e-08, 5.0696747422307456e-08, 4.834178248813714e-08, 4.7825362869957645e-08, 4.8627909876586275e-08, 4.7248162360347125e-08, 4.7131372227227077e-08, 4.6909514850312915e-08, 4.424368000854884e-08, 4.156490973628024e-08, 4.1969760644633426e-08, 4.204949632935495e-08, 4.599437524177574e-08, 4.6464395353496e-08, 4.7550892645631394e-08, 5.208712394733084e-08, 5.077456926017021e-08, 5.2780134396357424e-08, 5.3311618941620506e-08, 5.276693855194026e-08, 5.462226084773647e-08, 5.472611590562337e-08, 5.0091462355794644e-08, 4.903160792935068e-08, 4.7862033270007484e-08, 4.260707520131746e-08, 4.6644013451668796e-08, 4.503001882483204e-08, 4.5730313402714275e-08, 4.6221012084401994e-08, 4.455225983690525e-08, 4.484404421134514e-08, 4.6118049468191204e-08, 4.622839675505475e-08, 4.835569491490332e-08, 4.843817968946951e-08, 4.6382065121974844e-08, 4.898344485582129e-08, 4.9256029654998204e-08, 5.043827862039052e-08, 5.094369157632173e-08, 5.015947017739108e-08, 5.0243609805988855e-08, 5.017362632031564e-08, 4.647999958251603e-08, 4.631428112134017e-08, 4.551511949557607e-08, 4.2354394125254656e-08, 4.1606165268603946e-08, 3.918213131726134e-08, 3.7369957084365526e-08, 3.758441309287264e-08, 3.844819005394129e-08, 3.852180903152203e-08, 3.842950206944806e-08, 3.771449996747833e-08, 3.6491833732554826e-08, 3.5659329888915184e-08, 3.563578818699398e-08, 3.7216210735380176e-08, 3.768165175443983e-08, 3.777914354685663e-08, 3.577116540753877e-08, 3.5577593315849754e-08, 3.5557676092423665e-08, 3.6616791199151064e-08, 3.752549311286657e-08, 4.032675349208148e-08, 4.078072741720007e-08, 3.908055585810644e-08, 3.8677956659682875e-08, 3.797488528078929e-08, 3.904953391753452e-08, 3.983116823036426e-08, 4.00923811483267e-08, 3.928933889341124e-08, 4.0541612911226824e-08, 3.948709217382884e-08, 4.049422894780719e-08, 4.253097749540302e-08, 4.314601866894918e-08, 4.356712892672476e-08, 4.534417463730733e-08, 4.4679650201828736e-08, 4.530515660405854e-08, 4.589171815894133e-08, 4.4124086429064843e-08, 4.577706533837045e-08], \"yaxis\": \"y\"}, {\"mode\": \"lines\", \"name\": \"Control Loss\", \"type\": \"scatter\", \"x\": [0, 1, 2, 3, 4, 5, 6, 7, 8, 9, 10, 11, 12, 13, 14, 15, 16, 17, 18, 19, 20, 21, 22, 23, 24, 25, 26, 27, 28, 29, 30, 31, 32, 33, 34, 35, 36, 37, 38, 39, 40, 41, 42, 43, 44, 45, 46, 47, 48, 49, 50, 51, 52, 53, 54, 55, 56, 57, 58, 59, 60, 61, 62, 63, 64, 65, 66, 67, 68, 69, 70, 71, 72, 73, 74, 75, 76, 77, 78, 79, 80, 81, 82, 83, 84, 85, 86, 87, 88, 89, 90, 91, 92, 93, 94, 95, 96, 97, 98, 99, 100, 101, 102, 103, 104, 105, 106, 107, 108, 109, 110, 111, 112, 113, 114, 115, 116, 117, 118, 119, 120, 121, 122, 123, 124, 125, 126, 127, 128, 129, 130, 131, 132, 133, 134, 135, 136, 137, 138, 139, 140, 141, 142, 143, 144, 145, 146, 147, 148, 149, 150, 151, 152, 153, 154, 155, 156, 157, 158, 159, 160, 161, 162, 163, 164, 165, 166, 167, 168, 169, 170, 171, 172, 173, 174, 175, 176, 177, 178, 179, 180, 181, 182, 183, 184, 185, 186, 187, 188, 189, 190, 191, 192, 193, 194, 195, 196, 197, 198, 199, 200, 201, 202, 203, 204, 205, 206, 207, 208, 209, 210, 211, 212, 213, 214, 215, 216, 217, 218, 219, 220, 221, 222, 223, 224, 225, 226, 227, 228, 229, 230, 231, 232, 233, 234, 235, 236, 237, 238, 239, 240, 241, 242, 243, 244, 245, 246, 247, 248, 249, 250, 251, 252, 253, 254, 255, 256, 257, 258, 259, 260, 261, 262, 263, 264, 265, 266, 267, 268, 269, 270, 271, 272, 273, 274, 275, 276, 277, 278, 279, 280, 281, 282, 283, 284, 285, 286, 287, 288, 289, 290, 291, 292, 293, 294, 295, 296, 297, 298, 299, 300, 301, 302, 303, 304, 305, 306, 307, 308, 309, 310, 311, 312, 313, 314, 315, 316, 317, 318, 319, 320, 321, 322, 323, 324, 325, 326, 327, 328, 329, 330, 331, 332, 333, 334, 335, 336, 337, 338, 339, 340, 341, 342, 343, 344, 345, 346, 347, 348, 349, 350, 351, 352, 353, 354, 355, 356, 357, 358, 359, 360, 361, 362, 363, 364, 365, 366, 367, 368, 369, 370, 371, 372, 373, 374, 375, 376, 377, 378, 379, 380, 381, 382, 383, 384, 385, 386, 387, 388, 389, 390, 391, 392, 393, 394, 395, 396, 397, 398, 399, 400, 401, 402, 403, 404, 405, 406, 407, 408, 409, 410, 411, 412, 413, 414, 415, 416, 417, 418, 419, 420, 421, 422, 423, 424, 425, 426, 427, 428, 429, 430, 431, 432, 433, 434, 435, 436, 437, 438, 439, 440, 441, 442, 443, 444, 445, 446, 447, 448, 449, 450, 451, 452, 453, 454, 455, 456, 457, 458, 459, 460, 461, 462, 463, 464, 465, 466, 467, 468, 469, 470, 471, 472, 473, 474, 475, 476, 477, 478, 479, 480, 481, 482, 483, 484, 485, 486, 487, 488, 489, 490], \"xaxis\": \"x\", \"y\": [0.02165177958086133, 0.027298919949680568, 0.027244264353066684, 0.02037318265065551, 0.013764521107077599, 0.011991128011140972, 0.012130455358419567, 0.012206302548293024, 0.010441634396556765, 0.007136739010456949, 0.003033029439393431, -0.0005000593024306, -0.0034118520678021015, -0.0050063406466506425, -0.0054249389446340505, -0.005224710330367088, -0.003815883584320545, -0.002107971254736185, -0.0004956274759024381, 0.0009444014169275761, 0.001984446548158303, 0.002422758570173755, 0.0023975949559826406, 0.0017310552822891623, 0.0006366860179696232, -0.00035330769023858013, -0.0016117213701363653, -0.002702526323264465, -0.0034165565564762803, -0.0038462597818579524, -0.0038988139291177503, -0.0035841716264258137, -0.002935623032681178, -0.001996039487130474, -0.0010411169656435958, -6.949659873498604e-05, 0.0008675729812239296, 0.0015984662997652777, 0.0021562354129855523, 0.0024760466025327333, 0.00252632325864397, 0.002487057208782062, 0.0022612980159465224, 0.0018398245214484633, 0.0015043532475829124, 0.0010803885583300144, 0.0007953473657835275, 0.0005623474804451689, 0.00038961578684393317, 0.00034843683533836156, 0.00043940791802015154, 0.0006015575112542137, 0.0008340926113305613, 0.0010296048858435825, 0.001194762406521477, 0.0014411681419005617, 0.0014828658051555977, 0.0015336380514781923, 0.0015487340337131173, 0.0014572321728337557, 0.0014130040246527642, 0.0012620724766748026, 0.0010381622036220507, 0.0008958840582636185, 0.0008076245037955232, 0.0006946152439923026, 0.0006711816429742612, 0.0006605544898775406, 0.0006370887174853123, 0.0006468801540904679, 0.0006386417793692089, 0.0006908049384946935, 0.0007699585330556147, 0.0008574233565013855, 0.0008167836524080486, 0.0009069264400750398, 0.0008919207262806595, 0.0008790107269305736, 0.0009119240625295788, 0.0008890411118045449, 0.0009127936442382634, 0.0009243547217920422, 0.0008774388814345002, 0.0008701364160515368, 0.0008947158057708293, 0.000813324865885079, 0.0008247342077083886, 0.0008745723753236234, 0.0008797950111329555, 0.0009054518304765224, 0.0008401316474191845, 0.0007659489405341446, 0.000804263714235276, 0.0007900287804659456, 0.0007344260404352099, 0.0007348022831138223, 0.0006940216931980103, 0.0006636752397753299, 0.0006341586005873979, 0.0006312294746749104, 0.0005838246084749699, 0.000571691949153319, 0.0005173539975658059, 0.000527588528348133, 0.0005437705665826797, 0.0005002061021514237, 0.0004394034895085497, 0.00044362362641550137, 0.0004384513984405203, 0.00043731581936299333, 0.0004838310222112341, 0.0005668763926223619, 0.0006140943482023431, 0.0006245026812393917, 0.0007104415428329958, 0.0007600956520036562, 0.0008258419460617006, 0.0007984893454704434, 0.0007973192958161234, 0.0008002040325663984, 0.000821416120743379, 0.0007780110405292362, 0.0007662775518838316, 0.0007314521353691816, 0.0006441474019084126, 0.0005930824409006163, 0.0005816168995806947, 0.0006067663576686755, 0.0006312368408543989, 0.0006113437149906531, 0.0005873175890883431, 0.0005947342870058492, 0.0005352333828341216, 0.0005111078527988866, 0.0005687644676072523, 0.0005903987970668822, 0.0005314481924870052, 0.0005540651458431966, 0.0005205829060287215, 0.000571468188718427, 0.0006189738880493679, 0.0005842021477292292, 0.0005713202641345561, 0.000642387880361639, 0.000581932146451436, 0.0005534030584385619, 0.0006208716440596618, 0.0005939482434769161, 0.0006195710637257434, 0.0005984295465168543, 0.000569364988768939, 0.0006039408835931681, 0.0006491486798040569, 0.0006335585727356374, 0.000618242210475728, 0.0005812993342260598, 0.0005529409518203465, 0.0005361150029784767, 0.000525667414694908, 0.0004747622278955532, 0.00045174824008427096, 0.00046558861904486546, 0.00048544556302658747, 0.00047421121089428195, 0.0005285480681777698, 0.0005770488671259955, 0.0005919259419897571, 0.0006000769237289206, 0.0005988860299112275, 0.0006690062466077507, 0.000708556897006929, 0.0006772937602363526, 0.0007084284734446555, 0.0006715797921060584, 0.0006915363468579016, 0.0006838290588348173, 0.0006475504444097169, 0.0006237098699784837, 0.0005930076164077036, 0.000533862663723994, 0.0005000566030503251, 0.0005237095363554544, 0.00044384245265973734, 0.0005060696974396705, 0.0004893947276286781, 0.0005234564305283129, 0.0005553196213440969, 0.0005705488089006394, 0.0005773280136054382, 0.0006022742367349565, 0.000565779468161054, 0.0005533906485652551, 0.0005404297058703378, 0.000502491754014045, 0.00047611035406589506, 0.00046693162876181303, 0.0004339727878686972, 0.0004075254561030306, 0.0003723287649336271, 0.0003683284085127525, 0.0003694332539453171, 0.000405376403068658, 0.0004915481040370651, 0.0004619483166607097, 0.00042407961445860564, 0.0003728309864527546, 0.0003916908812243491, 0.00044578338274732233, 0.0004761187417898327, 0.00046050374512560663, 0.00048583387106191365, 0.0004834362858673558, 0.0004541877278825268, 0.0004821357360924594, 0.0005164468850125559, 0.0005223939806455746, 0.0005208883667364717, 0.0005063610733486712, 0.0005221416126005351, 0.0005451192904729396, 0.0005401790869655088, 0.0004872577032074332, 0.0005310182110406459, 0.0005146623530890793, 0.00047344640333903956, 0.0005046792779467068, 0.0005326984261046164, 0.00048574811371508985, 0.0005063028627773746, 0.00045829535083612426, 0.0004576001738314517, 0.0005158211322850547, 0.00046302018308779224, 0.00047794869024073703, 0.0005007824336644262, 0.0005101223010569811, 0.0005052566470112651, 0.0005056819951278158, 0.0004599043124471791, 0.0005208147573284805, 0.0005182025226531551, 0.0004909779614536092, 0.00045927593018859627, 0.000492587237386033, 0.0005385822267271578, 0.0005345913872588426, 0.0005700812209397555, 0.0006023502675816417, 0.0006031365192029625, 0.000595261825947091, 0.0006366062531014905, 0.0006356973346555606, 0.0006445692299166695, 0.0006231955689145252, 0.0006120831851148978, 0.0005971498903818429, 0.0005620061187073588, 0.0005422642221674323, 0.0005575830349698663, 0.0004956501266860869, 0.0004738189709314611, 0.00043780394698842426, 0.00043065058926003983, 0.0003966353855503257, 0.00034120795535272916, 0.00036099157223361543, 0.0003646626595582347, 0.0004173892601102125, 0.00042825056516448967, 0.00046167153923306616, 0.0004790721432073042, 0.0004568325974105392, 0.0004110955036594532, 0.00041887109546223655, 0.00045284363586688413, 0.0004261741749360226, 0.00041126342111965644, 0.0003675596890388988, 0.0003723716115928255, 0.0003684676034026779, 0.00033172909315908327, 0.0003949425365135539, 0.0004021795939479489, 0.0004224746437103022, 0.00039668060853728095, 0.0004135175906412769, 0.0003713002508447971, 0.0003901334093825426, 0.0003834237424598541, 0.0003917083253327291, 0.00037678213047911415, 0.0003688433331262786, 0.00043869783403351905, 0.0004317384213209152, 0.00044729857763741164, 0.00047146973956841977, 0.0005118198445416055, 0.0004799124682904221, 0.0004665367552661337, 0.0004834282226511277, 0.0005120937887113542, 0.0004970008361851796, 0.0004430468427017331, 0.00045457686646841464, 0.0004484466859139502, 0.0003871011358569376, 0.00037843961181351917, 0.0003827201828244142, 0.0004039086503325962, 0.00039885270380182194, 0.00041596137307351453, 0.0004374358817585744, 0.0004768709579366259, 0.0004816657557967119, 0.00048154774558497595, 0.0005262794729787856, 0.0005328172032022849, 0.0005196171390707604, 0.0004935920427669771, 0.00047740954178152604, 0.00043726608710130676, 0.00045438374945661053, 0.0004314092264394276, 0.0004536978478427045, 0.0004292172408895567, 0.0003880116302752867, 0.0003945383941754699, 0.00042224040225846693, 0.00044088561116950586, 0.0004562320697004907, 0.0004667959394282661, 0.0003920381292118691, 0.0003906504178303294, 0.0004048620045068674, 0.0004336098674684763, 0.00044622016430366783, 0.00043006624619010834, 0.0004415863688336685, 0.000442023147479631, 0.00044349328090902417, 0.00045218861487228423, 0.00047823243075981734, 0.0004898291052086278, 0.0004217156383674592, 0.0003864262092974968, 0.0004239465153659694, 0.0004539027271675877, 0.00047416309680556876, 0.0004602153887390159, 0.000437631165550556, 0.0004549984514596872, 0.0004722982193925418, 0.0004951704919221811, 0.000519043109670747, 0.0005865571845788508, 0.0005372651881771162, 0.0005239938996965066, 0.00047381471667904405, 0.0004846849798923358, 0.0005079111229861155, 0.0004914411692880094, 0.00045301467180252074, 0.0004614373145159334, 0.0004811083839740604, 0.0004370592156192288, 0.00043897342402487993, 0.0004331822448875755, 0.0004677037999499589, 0.0004814503190573305, 0.000474744473467581, 0.0004989147302694619, 0.000512265955330804, 0.00048158529389183966, 0.00044258547422941773, 0.0004539626796031371, 0.0004531967206276022, 0.00045057665993226693, 0.00045825522247469055, 0.00044956521451240407, 0.0004956383389071561, 0.0004722091936855577, 0.00048744560190243645, 0.0005151425793883391, 0.0005254959032754414, 0.000524812588992063, 0.0005439539003418758, 0.000523567215714138, 0.000535233439586591, 0.0005122378977830521, 0.00048550171632086856, 0.00048521129501750694, 0.0004922667678329163, 0.00046384401939576493, 0.00048713319847593084, 0.000516112417972181, 0.0005460901869810186, 0.0005591302557149902, 0.000494726630859077, 0.0005143880087416619, 0.0004965879255905747, 0.0004743221012176946, 0.00047735317784827205, 0.00047344477206934243, 0.00045917513489257544, 0.0004482512333197519, 0.00042751975415740163, 0.0004482598014874384, 0.00047331928508356216, 0.0004766359517816454, 0.00046550821280106903, 0.0004971043788827955, 0.00047759993467479946, 0.00046757006202824414, 0.0004705999745056033, 0.00044383989297784864, 0.0004423872451297939, 0.0004260420653736219, 0.000468622668995522, 0.0004689887835411355, 0.0004461713368073106, 0.00047421117196790876, 0.0004801758623216301, 0.0004963146551745012, 0.0004914458288112656, 0.0005146482639247551, 0.0005062128038844094, 0.0004886458249529823, 0.0004265754105290398, 0.00039664334908593444, 0.0004329071496613324, 0.00034505375151638873, 0.0003247722597734537, 0.0003124421455140691, 0.0003008931780641433, 0.0002826731033565011, 0.0002976102892716881, 0.0003016492053575348, 0.000307868452364346, 0.00032046483756857923, 0.0003124717528407928, 0.0004002667163149454, 0.0004278401756891981, 0.0004568905191263184, 0.00046763532445766033, 0.00042273850267520173, 0.00043236516503384335, 0.0004660772436182015, 0.0005042943186708726, 0.0004689219524152577, 0.00046171026187948885, 0.00044404786895029246, 0.00042816959030460565, 0.0003833195543847978, 0.00037231525639072063, 0.0004461104530491866, 0.000419875887746457, 0.0003976950669311918, 0.00040040146704996006, 0.00041933198808692397, 0.00040944694774225354, 0.00039132030215114353, 0.00038916868797969075, 0.0004103844054043293, 0.0004468005616217852, 0.0004378094628918916, 0.00045910287881270053, 0.0004571233817841858, 0.0003847839430818567, 0.00043680626004061196, 0.00043796123391075524, 0.0004146723778831074, 0.0004623319171514595, 0.00047721735063532833, 0.00045212219447421376, 0.0004054298999108141, 0.00038183595424925445, 0.0004103726965695387, 0.0004612054610333871, 0.00044503947647172025, 0.0005047062491939869, 0.0005265224252070766, 0.00048789398788358086, 0.000488138879154576, 0.0004965986583556515, 0.000553110329201445, 0.0005751099495682865, 0.0005123185797856422, 0.0005341246218449669, 0.0005316000973834889, 0.0004778536171215819, 0.00046718037228856704], \"yaxis\": \"y\"}],                        {\"font\": {\"family\": \"Courier New, monospace\", \"size\": 14}, \"template\": {\"data\": {\"bar\": [{\"error_x\": {\"color\": \"#2a3f5f\"}, \"error_y\": {\"color\": \"#2a3f5f\"}, \"marker\": {\"line\": {\"color\": \"#E5ECF6\", \"width\": 0.5}}, \"type\": \"bar\"}], \"barpolar\": [{\"marker\": {\"line\": {\"color\": \"#E5ECF6\", \"width\": 0.5}}, \"type\": \"barpolar\"}], \"carpet\": [{\"aaxis\": {\"endlinecolor\": \"#2a3f5f\", \"gridcolor\": \"white\", \"linecolor\": \"white\", \"minorgridcolor\": \"white\", \"startlinecolor\": \"#2a3f5f\"}, \"baxis\": {\"endlinecolor\": \"#2a3f5f\", \"gridcolor\": \"white\", \"linecolor\": \"white\", \"minorgridcolor\": \"white\", \"startlinecolor\": \"#2a3f5f\"}, \"type\": \"carpet\"}], \"choropleth\": [{\"colorbar\": {\"outlinewidth\": 0, \"ticks\": \"\"}, \"type\": \"choropleth\"}], \"contour\": [{\"colorbar\": {\"outlinewidth\": 0, \"ticks\": \"\"}, \"colorscale\": [[0.0, \"#0d0887\"], [0.1111111111111111, \"#46039f\"], [0.2222222222222222, \"#7201a8\"], [0.3333333333333333, \"#9c179e\"], [0.4444444444444444, \"#bd3786\"], [0.5555555555555556, \"#d8576b\"], [0.6666666666666666, \"#ed7953\"], [0.7777777777777778, \"#fb9f3a\"], [0.8888888888888888, \"#fdca26\"], [1.0, \"#f0f921\"]], \"type\": \"contour\"}], \"contourcarpet\": [{\"colorbar\": {\"outlinewidth\": 0, \"ticks\": \"\"}, \"type\": \"contourcarpet\"}], \"heatmap\": [{\"colorbar\": {\"outlinewidth\": 0, \"ticks\": \"\"}, \"colorscale\": [[0.0, \"#0d0887\"], [0.1111111111111111, \"#46039f\"], [0.2222222222222222, \"#7201a8\"], [0.3333333333333333, \"#9c179e\"], [0.4444444444444444, \"#bd3786\"], [0.5555555555555556, \"#d8576b\"], [0.6666666666666666, \"#ed7953\"], [0.7777777777777778, \"#fb9f3a\"], [0.8888888888888888, \"#fdca26\"], [1.0, \"#f0f921\"]], \"type\": \"heatmap\"}], \"heatmapgl\": [{\"colorbar\": {\"outlinewidth\": 0, \"ticks\": \"\"}, \"colorscale\": [[0.0, \"#0d0887\"], [0.1111111111111111, \"#46039f\"], [0.2222222222222222, \"#7201a8\"], [0.3333333333333333, \"#9c179e\"], [0.4444444444444444, \"#bd3786\"], [0.5555555555555556, \"#d8576b\"], [0.6666666666666666, \"#ed7953\"], [0.7777777777777778, \"#fb9f3a\"], [0.8888888888888888, \"#fdca26\"], [1.0, \"#f0f921\"]], \"type\": \"heatmapgl\"}], \"histogram\": [{\"marker\": {\"colorbar\": {\"outlinewidth\": 0, \"ticks\": \"\"}}, \"type\": \"histogram\"}], \"histogram2d\": [{\"colorbar\": {\"outlinewidth\": 0, \"ticks\": \"\"}, \"colorscale\": [[0.0, \"#0d0887\"], [0.1111111111111111, \"#46039f\"], [0.2222222222222222, \"#7201a8\"], [0.3333333333333333, \"#9c179e\"], [0.4444444444444444, \"#bd3786\"], [0.5555555555555556, \"#d8576b\"], [0.6666666666666666, \"#ed7953\"], [0.7777777777777778, \"#fb9f3a\"], [0.8888888888888888, \"#fdca26\"], [1.0, \"#f0f921\"]], \"type\": \"histogram2d\"}], \"histogram2dcontour\": [{\"colorbar\": {\"outlinewidth\": 0, \"ticks\": \"\"}, \"colorscale\": [[0.0, \"#0d0887\"], [0.1111111111111111, \"#46039f\"], [0.2222222222222222, \"#7201a8\"], [0.3333333333333333, \"#9c179e\"], [0.4444444444444444, \"#bd3786\"], [0.5555555555555556, \"#d8576b\"], [0.6666666666666666, \"#ed7953\"], [0.7777777777777778, \"#fb9f3a\"], [0.8888888888888888, \"#fdca26\"], [1.0, \"#f0f921\"]], \"type\": \"histogram2dcontour\"}], \"mesh3d\": [{\"colorbar\": {\"outlinewidth\": 0, \"ticks\": \"\"}, \"type\": \"mesh3d\"}], \"parcoords\": [{\"line\": {\"colorbar\": {\"outlinewidth\": 0, \"ticks\": \"\"}}, \"type\": \"parcoords\"}], \"pie\": [{\"automargin\": true, \"type\": \"pie\"}], \"scatter\": [{\"marker\": {\"colorbar\": {\"outlinewidth\": 0, \"ticks\": \"\"}}, \"type\": \"scatter\"}], \"scatter3d\": [{\"line\": {\"colorbar\": {\"outlinewidth\": 0, \"ticks\": \"\"}}, \"marker\": {\"colorbar\": {\"outlinewidth\": 0, \"ticks\": \"\"}}, \"type\": \"scatter3d\"}], \"scattercarpet\": [{\"marker\": {\"colorbar\": {\"outlinewidth\": 0, \"ticks\": \"\"}}, \"type\": \"scattercarpet\"}], \"scattergeo\": [{\"marker\": {\"colorbar\": {\"outlinewidth\": 0, \"ticks\": \"\"}}, \"type\": \"scattergeo\"}], \"scattergl\": [{\"marker\": {\"colorbar\": {\"outlinewidth\": 0, \"ticks\": \"\"}}, \"type\": \"scattergl\"}], \"scattermapbox\": [{\"marker\": {\"colorbar\": {\"outlinewidth\": 0, \"ticks\": \"\"}}, \"type\": \"scattermapbox\"}], \"scatterpolar\": [{\"marker\": {\"colorbar\": {\"outlinewidth\": 0, \"ticks\": \"\"}}, \"type\": \"scatterpolar\"}], \"scatterpolargl\": [{\"marker\": {\"colorbar\": {\"outlinewidth\": 0, \"ticks\": \"\"}}, \"type\": \"scatterpolargl\"}], \"scatterternary\": [{\"marker\": {\"colorbar\": {\"outlinewidth\": 0, \"ticks\": \"\"}}, \"type\": \"scatterternary\"}], \"surface\": [{\"colorbar\": {\"outlinewidth\": 0, \"ticks\": \"\"}, \"colorscale\": [[0.0, \"#0d0887\"], [0.1111111111111111, \"#46039f\"], [0.2222222222222222, \"#7201a8\"], [0.3333333333333333, \"#9c179e\"], [0.4444444444444444, \"#bd3786\"], [0.5555555555555556, \"#d8576b\"], [0.6666666666666666, \"#ed7953\"], [0.7777777777777778, \"#fb9f3a\"], [0.8888888888888888, \"#fdca26\"], [1.0, \"#f0f921\"]], \"type\": \"surface\"}], \"table\": [{\"cells\": {\"fill\": {\"color\": \"#EBF0F8\"}, \"line\": {\"color\": \"white\"}}, \"header\": {\"fill\": {\"color\": \"#C8D4E3\"}, \"line\": {\"color\": \"white\"}}, \"type\": \"table\"}]}, \"layout\": {\"annotationdefaults\": {\"arrowcolor\": \"#2a3f5f\", \"arrowhead\": 0, \"arrowwidth\": 1}, \"autotypenumbers\": \"strict\", \"coloraxis\": {\"colorbar\": {\"outlinewidth\": 0, \"ticks\": \"\"}}, \"colorscale\": {\"diverging\": [[0, \"#8e0152\"], [0.1, \"#c51b7d\"], [0.2, \"#de77ae\"], [0.3, \"#f1b6da\"], [0.4, \"#fde0ef\"], [0.5, \"#f7f7f7\"], [0.6, \"#e6f5d0\"], [0.7, \"#b8e186\"], [0.8, \"#7fbc41\"], [0.9, \"#4d9221\"], [1, \"#276419\"]], \"sequential\": [[0.0, \"#0d0887\"], [0.1111111111111111, \"#46039f\"], [0.2222222222222222, \"#7201a8\"], [0.3333333333333333, \"#9c179e\"], [0.4444444444444444, \"#bd3786\"], [0.5555555555555556, \"#d8576b\"], [0.6666666666666666, \"#ed7953\"], [0.7777777777777778, \"#fb9f3a\"], [0.8888888888888888, \"#fdca26\"], [1.0, \"#f0f921\"]], \"sequentialminus\": [[0.0, \"#0d0887\"], [0.1111111111111111, \"#46039f\"], [0.2222222222222222, \"#7201a8\"], [0.3333333333333333, \"#9c179e\"], [0.4444444444444444, \"#bd3786\"], [0.5555555555555556, \"#d8576b\"], [0.6666666666666666, \"#ed7953\"], [0.7777777777777778, \"#fb9f3a\"], [0.8888888888888888, \"#fdca26\"], [1.0, \"#f0f921\"]]}, \"colorway\": [\"#636efa\", \"#EF553B\", \"#00cc96\", \"#ab63fa\", \"#FFA15A\", \"#19d3f3\", \"#FF6692\", \"#B6E880\", \"#FF97FF\", \"#FECB52\"], \"font\": {\"color\": \"#2a3f5f\"}, \"geo\": {\"bgcolor\": \"white\", \"lakecolor\": \"white\", \"landcolor\": \"#E5ECF6\", \"showlakes\": true, \"showland\": true, \"subunitcolor\": \"white\"}, \"hoverlabel\": {\"align\": \"left\"}, \"hovermode\": \"closest\", \"mapbox\": {\"style\": \"light\"}, \"paper_bgcolor\": \"white\", \"plot_bgcolor\": \"#E5ECF6\", \"polar\": {\"angularaxis\": {\"gridcolor\": \"white\", \"linecolor\": \"white\", \"ticks\": \"\"}, \"bgcolor\": \"#E5ECF6\", \"radialaxis\": {\"gridcolor\": \"white\", \"linecolor\": \"white\", \"ticks\": \"\"}}, \"scene\": {\"xaxis\": {\"backgroundcolor\": \"#E5ECF6\", \"gridcolor\": \"white\", \"gridwidth\": 2, \"linecolor\": \"white\", \"showbackground\": true, \"ticks\": \"\", \"zerolinecolor\": \"white\"}, \"yaxis\": {\"backgroundcolor\": \"#E5ECF6\", \"gridcolor\": \"white\", \"gridwidth\": 2, \"linecolor\": \"white\", \"showbackground\": true, \"ticks\": \"\", \"zerolinecolor\": \"white\"}, \"zaxis\": {\"backgroundcolor\": \"#E5ECF6\", \"gridcolor\": \"white\", \"gridwidth\": 2, \"linecolor\": \"white\", \"showbackground\": true, \"ticks\": \"\", \"zerolinecolor\": \"white\"}}, \"shapedefaults\": {\"line\": {\"color\": \"#2a3f5f\"}}, \"ternary\": {\"aaxis\": {\"gridcolor\": \"white\", \"linecolor\": \"white\", \"ticks\": \"\"}, \"baxis\": {\"gridcolor\": \"white\", \"linecolor\": \"white\", \"ticks\": \"\"}, \"bgcolor\": \"#E5ECF6\", \"caxis\": {\"gridcolor\": \"white\", \"linecolor\": \"white\", \"ticks\": \"\"}}, \"title\": {\"x\": 0.05}, \"xaxis\": {\"automargin\": true, \"gridcolor\": \"white\", \"linecolor\": \"white\", \"ticks\": \"\", \"title\": {\"standoff\": 15}, \"zerolinecolor\": \"white\", \"zerolinewidth\": 2}, \"yaxis\": {\"automargin\": true, \"gridcolor\": \"white\", \"linecolor\": \"white\", \"ticks\": \"\", \"title\": {\"standoff\": 15}, \"zerolinecolor\": \"white\", \"zerolinewidth\": 2}}}, \"title\": {\"text\": \"Loss\"}, \"xaxis\": {\"anchor\": \"y\", \"domain\": [0.0, 1.0], \"title\": {\"text\": \"Iterations\"}}, \"yaxis\": {\"anchor\": \"x\", \"domain\": [0.0, 1.0], \"title\": {\"text\": \"Loss\"}}},                        {\"responsive\": true}                    ).then(function(){\n",
       "                            \n",
       "var gd = document.getElementById('d5e2e675-4108-40ee-9885-1c53b5d3d1a1');\n",
       "var x = new MutationObserver(function (mutations, observer) {{\n",
       "        var display = window.getComputedStyle(gd).display;\n",
       "        if (!display || display === 'none') {{\n",
       "            console.log([gd, 'removed!']);\n",
       "            Plotly.purge(gd);\n",
       "            observer.disconnect();\n",
       "        }}\n",
       "}});\n",
       "\n",
       "// Listen for the removal of the full notebook cells\n",
       "var notebookContainer = gd.closest('#notebook-container');\n",
       "if (notebookContainer) {{\n",
       "    x.observe(notebookContainer, {childList: true});\n",
       "}}\n",
       "\n",
       "// Listen for the clearing of the current output cell\n",
       "var outputEl = gd.closest('.output');\n",
       "if (outputEl) {{\n",
       "    x.observe(outputEl, {childList: true});\n",
       "}}\n",
       "\n",
       "                        })                };                });            </script>        </div>"
      ]
     },
     "metadata": {},
     "output_type": "display_data"
    }
   ],
   "source": [
    "LQR_N_MODEL_CONFIG = {\n",
    "    \"hidden_dim\": 128,\n",
    "    \"learning_rate\": 5e-3,\n",
    "    \"loss_weights\": (1, 0),\n",
    "    \"lr_decay\": 0.99,\n",
    "    \"sampling_method\": \"uniform\",\n",
    "    \"network_type\": \"GRU\",\n",
    "    \"optimiser\": \"Adam\"\n",
    "}\n",
    "eq = LQR_N()\n",
    "model = LQR_N_MODEL_CONFIG\n",
    "solver = DGMPIASolver(model, eq)\n",
    "loss = np.array(list(solver.train(500)))\n",
    "plot_losses(loss)"
   ]
  },
  {
   "cell_type": "markdown",
   "id": "bright-consumer",
   "metadata": {},
   "source": [
    "#### Simulating the Process:"
   ]
  },
  {
   "cell_type": "markdown",
   "id": "disciplinary-lloyd",
   "metadata": {},
   "source": [
    "Let $(\\Omega, \\mathcal{F}, \\{\\mathcal{F}_t\\}_{t\\in [0, T]}, \\mathbb{P})$. We consider\n",
    "$$\n",
    "\\begin{cases}\n",
    "dX_s = [H_sX_s + M_s u_s] ds + \\sigma_s dW_s, \\; s \\in [0, T] \\\\\n",
    "X_0 = x > 0\n",
    "\\end{cases},\n",
    "$$"
   ]
  },
  {
   "cell_type": "code",
   "execution_count": 14,
   "id": "rolled-supervision",
   "metadata": {},
   "outputs": [
    {
     "data": {
      "application/vnd.plotly.v1+json": {
       "config": {
        "plotlyServerURL": "https://plot.ly"
       },
       "data": [
        {
         "line": {
          "color": "#00e476"
         },
         "mode": "lines",
         "name": "Controlled",
         "type": "scatter",
         "x": [
          0,
          0.02040816326530612,
          0.04081632653061224,
          0.061224489795918366,
          0.08163265306122448,
          0.1020408163265306,
          0.12244897959183673,
          0.14285714285714285,
          0.16326530612244897,
          0.18367346938775508,
          0.2040816326530612,
          0.22448979591836732,
          0.24489795918367346,
          0.26530612244897955,
          0.2857142857142857,
          0.3061224489795918,
          0.32653061224489793,
          0.3469387755102041,
          0.36734693877551017,
          0.3877551020408163,
          0.4081632653061224,
          0.42857142857142855,
          0.44897959183673464,
          0.4693877551020408,
          0.4897959183673469,
          0.5102040816326531,
          0.5306122448979591,
          0.5510204081632653,
          0.5714285714285714,
          0.5918367346938775,
          0.6122448979591836,
          0.6326530612244897,
          0.6530612244897959,
          0.673469387755102,
          0.6938775510204082,
          0.7142857142857142,
          0.7346938775510203,
          0.7551020408163265,
          0.7755102040816326,
          0.7959183673469387,
          0.8163265306122448,
          0.836734693877551,
          0.8571428571428571,
          0.8775510204081632,
          0.8979591836734693,
          0.9183673469387754,
          0.9387755102040816,
          0.9591836734693877,
          0.9795918367346939,
          1
         ],
         "xaxis": "x",
         "y": [
          0.75,
          0.7653516254574061,
          0.7810062772467733,
          0.7969700092637242,
          0.8132489942838723,
          0.8298495274207567,
          0.8467780365074681,
          0.8640410770024366,
          0.8816453291402675,
          0.8995975981548374,
          0.917904824118102,
          0.9365740835192702,
          0.9556125915461142,
          0.9750277075784034,
          0.9948269370286623,
          1.015017936199977,
          1.0356085118765388,
          1.0566066262331655,
          1.078020398602008,
          1.0998581076471226,
          1.1221281967862824,
          1.1448392785291341,
          1.1680001304084535,
          1.1916197000314956,
          1.2157071092265417,
          1.240271657750837,
          1.2653228260296072,
          1.29087027880667,
          1.3169238685700368,
          1.3434936384127272,
          1.3705898255468456,
          1.3982228648879398,
          1.4264033946854506,
          1.4551422583542155,
          1.4844505077582126,
          1.5143394073050376,
          1.5448204369301775,
          1.575905287466872,
          1.6076058693716693,
          1.6399343179364565,
          1.6729029980831895,
          1.7065245076153899,
          1.740811683067869,
          1.77577760455586,
          1.8114355970330938,
          1.8477992345180176,
          1.8848823430261794,
          1.922699004790606,
          1.9612635623803243,
          2.0005906222307
         ],
         "yaxis": "y"
        },
        {
         "line": {
          "color": "#00e476"
         },
         "mode": "lines",
         "showlegend": false,
         "type": "scatter",
         "x": [
          0,
          0.02040816326530612,
          0.04081632653061224,
          0.061224489795918366,
          0.08163265306122448,
          0.1020408163265306,
          0.12244897959183673,
          0.14285714285714285,
          0.16326530612244897,
          0.18367346938775508,
          0.2040816326530612,
          0.22448979591836732,
          0.24489795918367346,
          0.26530612244897955,
          0.2857142857142857,
          0.3061224489795918,
          0.32653061224489793,
          0.3469387755102041,
          0.36734693877551017,
          0.3877551020408163,
          0.4081632653061224,
          0.42857142857142855,
          0.44897959183673464,
          0.4693877551020408,
          0.4897959183673469,
          0.5102040816326531,
          0.5306122448979591,
          0.5510204081632653,
          0.5714285714285714,
          0.5918367346938775,
          0.6122448979591836,
          0.6326530612244897,
          0.6530612244897959,
          0.673469387755102,
          0.6938775510204082,
          0.7142857142857142,
          0.7346938775510203,
          0.7551020408163265,
          0.7755102040816326,
          0.7959183673469387,
          0.8163265306122448,
          0.836734693877551,
          0.8571428571428571,
          0.8775510204081632,
          0.8979591836734693,
          0.9183673469387754,
          0.9387755102040816,
          0.9591836734693877,
          0.9795918367346939,
          1
         ],
         "xaxis": "x",
         "y": [
          0.75,
          0.7649941289424896,
          0.7802869693815708,
          0.7958845128325224,
          0.8117928695978475,
          0.8280182730056631,
          0.8445670771018409,
          0.8614457574252345,
          0.8786609183549224,
          0.8962193024670408,
          0.9141277876362833,
          0.9323933901889071,
          0.9510232663306598,
          0.97002471457184,
          0.989405179914493,
          1.0091722614016054,
          1.0293337113236225,
          1.049897442902757,
          1.070871532245026,
          1.09226421727659,
          1.1140838990430049,
          1.136339143556,
          1.1590386901591956,
          1.182191454026166,
          1.205806529677038,
          1.2298931945654223,
          1.2544609130351065,
          1.2795193400578584,
          1.30507832549302,
          1.3311479175382255,
          1.3577383678137527,
          1.3848601340153666,
          1.4125238849298982,
          1.440740505178607,
          1.4695210989378227,
          1.4988769944045524,
          1.5288197548334053,
          1.5593611918804184,
          1.5905133610343416,
          1.6222885692500064,
          1.6546993755073,
          1.6877585974162879,
          1.721479321903247,
          1.7558749177495474,
          1.7909590302018952,
          1.8267455865016384,
          1.8632488023442249,
          1.9004831888403757,
          1.9384635591694503,
          1.9772050356638993
         ],
         "yaxis": "y"
        },
        {
         "line": {
          "color": "#FFe476"
         },
         "mode": "lines",
         "name": "Uncontrolled",
         "type": "scatter",
         "x": [
          0,
          0.02040816326530612,
          0.04081632653061224,
          0.061224489795918366,
          0.08163265306122448,
          0.1020408163265306,
          0.12244897959183673,
          0.14285714285714285,
          0.16326530612244897,
          0.18367346938775508,
          0.2040816326530612,
          0.22448979591836732,
          0.24489795918367346,
          0.26530612244897955,
          0.2857142857142857,
          0.3061224489795918,
          0.32653061224489793,
          0.3469387755102041,
          0.36734693877551017,
          0.3877551020408163,
          0.4081632653061224,
          0.42857142857142855,
          0.44897959183673464,
          0.4693877551020408,
          0.4897959183673469,
          0.5102040816326531,
          0.5306122448979591,
          0.5510204081632653,
          0.5714285714285714,
          0.5918367346938775,
          0.6122448979591836,
          0.6326530612244897,
          0.6530612244897959,
          0.673469387755102,
          0.6938775510204082,
          0.7142857142857142,
          0.7346938775510203,
          0.7551020408163265,
          0.7755102040816326,
          0.7959183673469387,
          0.8163265306122448,
          0.836734693877551,
          0.8571428571428571,
          0.8775510204081632,
          0.8979591836734693,
          0.9183673469387754,
          0.9387755102040816,
          0.9591836734693877,
          0.9795918367346939,
          1
         ],
         "xaxis": "x",
         "y": [
          0.75,
          0.775717576949853,
          0.7929378071416243,
          0.8111011412478951,
          0.8365694138075509,
          0.8515025853398397,
          0.8560608701607421,
          0.8589709173919615,
          0.8829124860335854,
          0.9022111712316868,
          0.9191570722411078,
          0.9253188457471748,
          0.9632435814395763,
          0.9871416317073314,
          0.9951222256422233,
          1.029327482011126,
          1.0461484743635119,
          1.0668990994779821,
          1.0965669054564033,
          1.1060804966765219,
          1.1330855420128216,
          1.166282061784435,
          1.2017336881521772,
          1.2354566044602155,
          1.241125282591297,
          1.2559875212286522,
          1.2615628272327628,
          1.2713683394247748,
          1.2788440717144731,
          1.3125032785200454,
          1.3404858532364277,
          1.3552457082584122,
          1.3948462319671544,
          1.4419876580232722,
          1.4905447140869494,
          1.5025676348503194,
          1.5372900874613533,
          1.5758684453719447,
          1.6250610896093536,
          1.6502910619890854,
          1.6998307016641865,
          1.7480349348862132,
          1.8025537859424983,
          1.8194512261872653,
          1.860331343221244,
          1.9149171220607728,
          1.9436084167599121,
          1.9867147369844953,
          2.031428715404327,
          2.081042567726365
         ],
         "yaxis": "y"
        },
        {
         "line": {
          "color": "#FFe476"
         },
         "mode": "lines",
         "showlegend": false,
         "type": "scatter",
         "x": [
          0,
          0.02040816326530612,
          0.04081632653061224,
          0.061224489795918366,
          0.08163265306122448,
          0.1020408163265306,
          0.12244897959183673,
          0.14285714285714285,
          0.16326530612244897,
          0.18367346938775508,
          0.2040816326530612,
          0.22448979591836732,
          0.24489795918367346,
          0.26530612244897955,
          0.2857142857142857,
          0.3061224489795918,
          0.32653061224489793,
          0.3469387755102041,
          0.36734693877551017,
          0.3877551020408163,
          0.4081632653061224,
          0.42857142857142855,
          0.44897959183673464,
          0.4693877551020408,
          0.4897959183673469,
          0.5102040816326531,
          0.5306122448979591,
          0.5510204081632653,
          0.5714285714285714,
          0.5918367346938775,
          0.6122448979591836,
          0.6326530612244897,
          0.6530612244897959,
          0.673469387755102,
          0.6938775510204082,
          0.7142857142857142,
          0.7346938775510203,
          0.7551020408163265,
          0.7755102040816326,
          0.7959183673469387,
          0.8163265306122448,
          0.836734693877551,
          0.8571428571428571,
          0.8775510204081632,
          0.8979591836734693,
          0.9183673469387754,
          0.9387755102040816,
          0.9591836734693877,
          0.9795918367346939,
          1
         ],
         "xaxis": "x",
         "y": [
          0.75,
          0.7633965807311625,
          0.7883542763943024,
          0.8086365150711291,
          0.8191387062456572,
          0.8309407707402282,
          0.8305626329765283,
          0.8277388855622453,
          0.8570697749079601,
          0.8567900698647662,
          0.8642100337604651,
          0.8906620071162207,
          0.9162267905057014,
          0.9524039903206093,
          0.959059589165922,
          0.9731468521679396,
          0.9993699948530458,
          1.0050070101822657,
          1.0213914508605322,
          1.0505417460404343,
          1.0897011225911415,
          1.1254633891120007,
          1.1652576284655953,
          1.1891708426142311,
          1.2251192150770571,
          1.2512291262212898,
          1.2651767824731246,
          1.3029995973027748,
          1.3395857391533499,
          1.3657663001363376,
          1.3733163181566288,
          1.4116778743255358,
          1.4372124986565407,
          1.4708078511996108,
          1.5162676284453025,
          1.5387264257727458,
          1.5713999087333372,
          1.5975078870106902,
          1.634401701919486,
          1.6858821559088335,
          1.7108757021857697,
          1.7360506230290955,
          1.7721475592055556,
          1.8247523221093642,
          1.8740972862144203,
          1.891832376171444,
          1.942436061412319,
          1.9621175379655975,
          2.0186235912930415,
          2.049579336769877
         ],
         "yaxis": "y"
        },
        {
         "line": {
          "color": "#00e476"
         },
         "mode": "lines",
         "showlegend": false,
         "type": "scatter",
         "x": [
          0,
          0.02040816326530612,
          0.04081632653061224,
          0.061224489795918366,
          0.08163265306122448,
          0.1020408163265306,
          0.12244897959183673,
          0.14285714285714285,
          0.16326530612244897,
          0.18367346938775508,
          0.2040816326530612,
          0.22448979591836732,
          0.24489795918367346,
          0.26530612244897955,
          0.2857142857142857,
          0.3061224489795918,
          0.32653061224489793,
          0.3469387755102041,
          0.36734693877551017,
          0.3877551020408163,
          0.4081632653061224,
          0.42857142857142855,
          0.44897959183673464,
          0.4693877551020408,
          0.4897959183673469,
          0.5102040816326531,
          0.5306122448979591,
          0.5510204081632653,
          0.5714285714285714,
          0.5918367346938775,
          0.6122448979591836,
          0.6326530612244897,
          0.6530612244897959,
          0.673469387755102,
          0.6938775510204082,
          0.7142857142857142,
          0.7346938775510203,
          0.7551020408163265,
          0.7755102040816326,
          0.7959183673469387,
          0.8163265306122448,
          0.836734693877551,
          0.8571428571428571,
          0.8775510204081632,
          0.8979591836734693,
          0.9183673469387754,
          0.9387755102040816,
          0.9591836734693877,
          0.9795918367346939,
          1
         ],
         "xaxis": "x2",
         "y": [
          0,
          -3.0918734410079196e-05,
          -6.114092502684798e-05,
          -9.067407154361717e-05,
          -0.0001195253153127851,
          -0.00014770163397770375,
          -0.00017521118570584804,
          -0.00020206201043038163,
          -0.00022826114400231745,
          -0.00025381424893566873,
          -0.0002787268822430633,
          -0.00030300432626972906,
          -0.0003266515486757271,
          -0.00034967364445037674,
          -0.00037207566856523044,
          -0.00039386288699461147,
          -0.0004150403055973584,
          -0.0004356129084044369,
          -0.0004555854775389889,
          -0.0004749625368276611,
          -0.000493748695589602,
          -0.0005119488305354025,
          -0.0005295670380291995,
          -0.0005466069378599059,
          -0.0005630718151223846,
          -0.0005789647057099501,
          -0.0005942883308307501,
          -0.000609045156124921,
          -0.0006232374107639771,
          -0.0006368670537995058,
          -0.0006499357950815465,
          -0.0006624451616517035,
          -0.000674396747854189,
          -0.0006857920452603139,
          -0.0006966324608583818,
          -0.0007069194225550746,
          -0.0007166542627601302,
          -0.0007258373570948606,
          -0.0007344689511228353,
          -0.0007425494059134508,
          -0.0007500795181840658,
          -0.0007570606203444186,
          -0.0007634948478880688,
          -0.0007693852994634653,
          -0.0007747362701593374,
          -0.0007795535821060184,
          -0.0007838448559596145,
          -0.0007876199231304781,
          -0.0007908912955372216,
          -0.0007908912955372216
         ],
         "yaxis": "y2"
        },
        {
         "line": {
          "color": "#FFe476"
         },
         "mode": "lines",
         "showlegend": false,
         "type": "scatter",
         "x": [
          0,
          0.02040816326530612,
          0.04081632653061224,
          0.061224489795918366,
          0.08163265306122448,
          0.1020408163265306,
          0.12244897959183673,
          0.14285714285714285,
          0.16326530612244897,
          0.18367346938775508,
          0.2040816326530612,
          0.22448979591836732,
          0.24489795918367346,
          0.26530612244897955,
          0.2857142857142857,
          0.3061224489795918,
          0.32653061224489793,
          0.3469387755102041,
          0.36734693877551017,
          0.3877551020408163,
          0.4081632653061224,
          0.42857142857142855,
          0.44897959183673464,
          0.4693877551020408,
          0.4897959183673469,
          0.5102040816326531,
          0.5306122448979591,
          0.5510204081632653,
          0.5714285714285714,
          0.5918367346938775,
          0.6122448979591836,
          0.6326530612244897,
          0.6530612244897959,
          0.673469387755102,
          0.6938775510204082,
          0.7142857142857142,
          0.7346938775510203,
          0.7551020408163265,
          0.7755102040816326,
          0.7959183673469387,
          0.8163265306122448,
          0.836734693877551,
          0.8571428571428571,
          0.8775510204081632,
          0.8979591836734693,
          0.9183673469387754,
          0.9387755102040816,
          0.9591836734693877,
          0.9795918367346939,
          1
         ],
         "xaxis": "x2",
         "y": [
          0,
          -0.029359352694413438,
          -0.05355974037850713,
          -0.05998416236122704,
          -0.08939619983601083,
          -0.09545032097007813,
          -0.20656066927784195,
          -0.3514798178189421,
          -0.403718744870405,
          -0.48026518916792155,
          -0.5041661421453704,
          -0.5625186155690404,
          -0.6718083872782381,
          -0.7568543776376744,
          -0.8298353396225395,
          -0.8874649748359791,
          -0.9024349255607221,
          -0.9539257362849358,
          -0.97472383425693,
          -1.0322942985544974,
          -1.1205986760266309,
          -1.1971221875650127,
          -1.3085746286371132,
          -1.3321325746118786,
          -1.4597638344981925,
          -1.4852116002647755,
          -1.6113825029831093,
          -1.7100539894595759,
          -1.8183192443205591,
          -1.8347436176589598,
          -1.933160866020852,
          -1.9991371689464243,
          -2.039993294066065,
          -2.138464303264476,
          -2.300006751570428,
          -2.394580426293981,
          -2.40093672698658,
          -2.4233496142527433,
          -2.507563391555306,
          -2.609069921975693,
          -2.696439177714459,
          -2.767345412471062,
          -2.8634490363412657,
          -3.0287964221492327,
          -3.0751189968089876,
          -3.248112308403518,
          -3.311935463953864,
          -3.4082632930523773,
          -3.4889714632338222,
          -3.4889714632338222
         ],
         "yaxis": "y2"
        }
       ],
       "layout": {
        "font": {
         "family": "Courier New, monospace",
         "size": 14
        },
        "template": {
         "data": {
          "bar": [
           {
            "error_x": {
             "color": "#2a3f5f"
            },
            "error_y": {
             "color": "#2a3f5f"
            },
            "marker": {
             "line": {
              "color": "#E5ECF6",
              "width": 0.5
             }
            },
            "type": "bar"
           }
          ],
          "barpolar": [
           {
            "marker": {
             "line": {
              "color": "#E5ECF6",
              "width": 0.5
             }
            },
            "type": "barpolar"
           }
          ],
          "carpet": [
           {
            "aaxis": {
             "endlinecolor": "#2a3f5f",
             "gridcolor": "white",
             "linecolor": "white",
             "minorgridcolor": "white",
             "startlinecolor": "#2a3f5f"
            },
            "baxis": {
             "endlinecolor": "#2a3f5f",
             "gridcolor": "white",
             "linecolor": "white",
             "minorgridcolor": "white",
             "startlinecolor": "#2a3f5f"
            },
            "type": "carpet"
           }
          ],
          "choropleth": [
           {
            "colorbar": {
             "outlinewidth": 0,
             "ticks": ""
            },
            "type": "choropleth"
           }
          ],
          "contour": [
           {
            "colorbar": {
             "outlinewidth": 0,
             "ticks": ""
            },
            "colorscale": [
             [
              0,
              "#0d0887"
             ],
             [
              0.1111111111111111,
              "#46039f"
             ],
             [
              0.2222222222222222,
              "#7201a8"
             ],
             [
              0.3333333333333333,
              "#9c179e"
             ],
             [
              0.4444444444444444,
              "#bd3786"
             ],
             [
              0.5555555555555556,
              "#d8576b"
             ],
             [
              0.6666666666666666,
              "#ed7953"
             ],
             [
              0.7777777777777778,
              "#fb9f3a"
             ],
             [
              0.8888888888888888,
              "#fdca26"
             ],
             [
              1,
              "#f0f921"
             ]
            ],
            "type": "contour"
           }
          ],
          "contourcarpet": [
           {
            "colorbar": {
             "outlinewidth": 0,
             "ticks": ""
            },
            "type": "contourcarpet"
           }
          ],
          "heatmap": [
           {
            "colorbar": {
             "outlinewidth": 0,
             "ticks": ""
            },
            "colorscale": [
             [
              0,
              "#0d0887"
             ],
             [
              0.1111111111111111,
              "#46039f"
             ],
             [
              0.2222222222222222,
              "#7201a8"
             ],
             [
              0.3333333333333333,
              "#9c179e"
             ],
             [
              0.4444444444444444,
              "#bd3786"
             ],
             [
              0.5555555555555556,
              "#d8576b"
             ],
             [
              0.6666666666666666,
              "#ed7953"
             ],
             [
              0.7777777777777778,
              "#fb9f3a"
             ],
             [
              0.8888888888888888,
              "#fdca26"
             ],
             [
              1,
              "#f0f921"
             ]
            ],
            "type": "heatmap"
           }
          ],
          "heatmapgl": [
           {
            "colorbar": {
             "outlinewidth": 0,
             "ticks": ""
            },
            "colorscale": [
             [
              0,
              "#0d0887"
             ],
             [
              0.1111111111111111,
              "#46039f"
             ],
             [
              0.2222222222222222,
              "#7201a8"
             ],
             [
              0.3333333333333333,
              "#9c179e"
             ],
             [
              0.4444444444444444,
              "#bd3786"
             ],
             [
              0.5555555555555556,
              "#d8576b"
             ],
             [
              0.6666666666666666,
              "#ed7953"
             ],
             [
              0.7777777777777778,
              "#fb9f3a"
             ],
             [
              0.8888888888888888,
              "#fdca26"
             ],
             [
              1,
              "#f0f921"
             ]
            ],
            "type": "heatmapgl"
           }
          ],
          "histogram": [
           {
            "marker": {
             "colorbar": {
              "outlinewidth": 0,
              "ticks": ""
             }
            },
            "type": "histogram"
           }
          ],
          "histogram2d": [
           {
            "colorbar": {
             "outlinewidth": 0,
             "ticks": ""
            },
            "colorscale": [
             [
              0,
              "#0d0887"
             ],
             [
              0.1111111111111111,
              "#46039f"
             ],
             [
              0.2222222222222222,
              "#7201a8"
             ],
             [
              0.3333333333333333,
              "#9c179e"
             ],
             [
              0.4444444444444444,
              "#bd3786"
             ],
             [
              0.5555555555555556,
              "#d8576b"
             ],
             [
              0.6666666666666666,
              "#ed7953"
             ],
             [
              0.7777777777777778,
              "#fb9f3a"
             ],
             [
              0.8888888888888888,
              "#fdca26"
             ],
             [
              1,
              "#f0f921"
             ]
            ],
            "type": "histogram2d"
           }
          ],
          "histogram2dcontour": [
           {
            "colorbar": {
             "outlinewidth": 0,
             "ticks": ""
            },
            "colorscale": [
             [
              0,
              "#0d0887"
             ],
             [
              0.1111111111111111,
              "#46039f"
             ],
             [
              0.2222222222222222,
              "#7201a8"
             ],
             [
              0.3333333333333333,
              "#9c179e"
             ],
             [
              0.4444444444444444,
              "#bd3786"
             ],
             [
              0.5555555555555556,
              "#d8576b"
             ],
             [
              0.6666666666666666,
              "#ed7953"
             ],
             [
              0.7777777777777778,
              "#fb9f3a"
             ],
             [
              0.8888888888888888,
              "#fdca26"
             ],
             [
              1,
              "#f0f921"
             ]
            ],
            "type": "histogram2dcontour"
           }
          ],
          "mesh3d": [
           {
            "colorbar": {
             "outlinewidth": 0,
             "ticks": ""
            },
            "type": "mesh3d"
           }
          ],
          "parcoords": [
           {
            "line": {
             "colorbar": {
              "outlinewidth": 0,
              "ticks": ""
             }
            },
            "type": "parcoords"
           }
          ],
          "pie": [
           {
            "automargin": true,
            "type": "pie"
           }
          ],
          "scatter": [
           {
            "marker": {
             "colorbar": {
              "outlinewidth": 0,
              "ticks": ""
             }
            },
            "type": "scatter"
           }
          ],
          "scatter3d": [
           {
            "line": {
             "colorbar": {
              "outlinewidth": 0,
              "ticks": ""
             }
            },
            "marker": {
             "colorbar": {
              "outlinewidth": 0,
              "ticks": ""
             }
            },
            "type": "scatter3d"
           }
          ],
          "scattercarpet": [
           {
            "marker": {
             "colorbar": {
              "outlinewidth": 0,
              "ticks": ""
             }
            },
            "type": "scattercarpet"
           }
          ],
          "scattergeo": [
           {
            "marker": {
             "colorbar": {
              "outlinewidth": 0,
              "ticks": ""
             }
            },
            "type": "scattergeo"
           }
          ],
          "scattergl": [
           {
            "marker": {
             "colorbar": {
              "outlinewidth": 0,
              "ticks": ""
             }
            },
            "type": "scattergl"
           }
          ],
          "scattermapbox": [
           {
            "marker": {
             "colorbar": {
              "outlinewidth": 0,
              "ticks": ""
             }
            },
            "type": "scattermapbox"
           }
          ],
          "scatterpolar": [
           {
            "marker": {
             "colorbar": {
              "outlinewidth": 0,
              "ticks": ""
             }
            },
            "type": "scatterpolar"
           }
          ],
          "scatterpolargl": [
           {
            "marker": {
             "colorbar": {
              "outlinewidth": 0,
              "ticks": ""
             }
            },
            "type": "scatterpolargl"
           }
          ],
          "scatterternary": [
           {
            "marker": {
             "colorbar": {
              "outlinewidth": 0,
              "ticks": ""
             }
            },
            "type": "scatterternary"
           }
          ],
          "surface": [
           {
            "colorbar": {
             "outlinewidth": 0,
             "ticks": ""
            },
            "colorscale": [
             [
              0,
              "#0d0887"
             ],
             [
              0.1111111111111111,
              "#46039f"
             ],
             [
              0.2222222222222222,
              "#7201a8"
             ],
             [
              0.3333333333333333,
              "#9c179e"
             ],
             [
              0.4444444444444444,
              "#bd3786"
             ],
             [
              0.5555555555555556,
              "#d8576b"
             ],
             [
              0.6666666666666666,
              "#ed7953"
             ],
             [
              0.7777777777777778,
              "#fb9f3a"
             ],
             [
              0.8888888888888888,
              "#fdca26"
             ],
             [
              1,
              "#f0f921"
             ]
            ],
            "type": "surface"
           }
          ],
          "table": [
           {
            "cells": {
             "fill": {
              "color": "#EBF0F8"
             },
             "line": {
              "color": "white"
             }
            },
            "header": {
             "fill": {
              "color": "#C8D4E3"
             },
             "line": {
              "color": "white"
             }
            },
            "type": "table"
           }
          ]
         },
         "layout": {
          "annotationdefaults": {
           "arrowcolor": "#2a3f5f",
           "arrowhead": 0,
           "arrowwidth": 1
          },
          "autotypenumbers": "strict",
          "coloraxis": {
           "colorbar": {
            "outlinewidth": 0,
            "ticks": ""
           }
          },
          "colorscale": {
           "diverging": [
            [
             0,
             "#8e0152"
            ],
            [
             0.1,
             "#c51b7d"
            ],
            [
             0.2,
             "#de77ae"
            ],
            [
             0.3,
             "#f1b6da"
            ],
            [
             0.4,
             "#fde0ef"
            ],
            [
             0.5,
             "#f7f7f7"
            ],
            [
             0.6,
             "#e6f5d0"
            ],
            [
             0.7,
             "#b8e186"
            ],
            [
             0.8,
             "#7fbc41"
            ],
            [
             0.9,
             "#4d9221"
            ],
            [
             1,
             "#276419"
            ]
           ],
           "sequential": [
            [
             0,
             "#0d0887"
            ],
            [
             0.1111111111111111,
             "#46039f"
            ],
            [
             0.2222222222222222,
             "#7201a8"
            ],
            [
             0.3333333333333333,
             "#9c179e"
            ],
            [
             0.4444444444444444,
             "#bd3786"
            ],
            [
             0.5555555555555556,
             "#d8576b"
            ],
            [
             0.6666666666666666,
             "#ed7953"
            ],
            [
             0.7777777777777778,
             "#fb9f3a"
            ],
            [
             0.8888888888888888,
             "#fdca26"
            ],
            [
             1,
             "#f0f921"
            ]
           ],
           "sequentialminus": [
            [
             0,
             "#0d0887"
            ],
            [
             0.1111111111111111,
             "#46039f"
            ],
            [
             0.2222222222222222,
             "#7201a8"
            ],
            [
             0.3333333333333333,
             "#9c179e"
            ],
            [
             0.4444444444444444,
             "#bd3786"
            ],
            [
             0.5555555555555556,
             "#d8576b"
            ],
            [
             0.6666666666666666,
             "#ed7953"
            ],
            [
             0.7777777777777778,
             "#fb9f3a"
            ],
            [
             0.8888888888888888,
             "#fdca26"
            ],
            [
             1,
             "#f0f921"
            ]
           ]
          },
          "colorway": [
           "#636efa",
           "#EF553B",
           "#00cc96",
           "#ab63fa",
           "#FFA15A",
           "#19d3f3",
           "#FF6692",
           "#B6E880",
           "#FF97FF",
           "#FECB52"
          ],
          "font": {
           "color": "#2a3f5f"
          },
          "geo": {
           "bgcolor": "white",
           "lakecolor": "white",
           "landcolor": "#E5ECF6",
           "showlakes": true,
           "showland": true,
           "subunitcolor": "white"
          },
          "hoverlabel": {
           "align": "left"
          },
          "hovermode": "closest",
          "mapbox": {
           "style": "light"
          },
          "paper_bgcolor": "white",
          "plot_bgcolor": "#E5ECF6",
          "polar": {
           "angularaxis": {
            "gridcolor": "white",
            "linecolor": "white",
            "ticks": ""
           },
           "bgcolor": "#E5ECF6",
           "radialaxis": {
            "gridcolor": "white",
            "linecolor": "white",
            "ticks": ""
           }
          },
          "scene": {
           "xaxis": {
            "backgroundcolor": "#E5ECF6",
            "gridcolor": "white",
            "gridwidth": 2,
            "linecolor": "white",
            "showbackground": true,
            "ticks": "",
            "zerolinecolor": "white"
           },
           "yaxis": {
            "backgroundcolor": "#E5ECF6",
            "gridcolor": "white",
            "gridwidth": 2,
            "linecolor": "white",
            "showbackground": true,
            "ticks": "",
            "zerolinecolor": "white"
           },
           "zaxis": {
            "backgroundcolor": "#E5ECF6",
            "gridcolor": "white",
            "gridwidth": 2,
            "linecolor": "white",
            "showbackground": true,
            "ticks": "",
            "zerolinecolor": "white"
           }
          },
          "shapedefaults": {
           "line": {
            "color": "#2a3f5f"
           }
          },
          "ternary": {
           "aaxis": {
            "gridcolor": "white",
            "linecolor": "white",
            "ticks": ""
           },
           "baxis": {
            "gridcolor": "white",
            "linecolor": "white",
            "ticks": ""
           },
           "bgcolor": "#E5ECF6",
           "caxis": {
            "gridcolor": "white",
            "linecolor": "white",
            "ticks": ""
           }
          },
          "title": {
           "x": 0.05
          },
          "xaxis": {
           "automargin": true,
           "gridcolor": "white",
           "linecolor": "white",
           "ticks": "",
           "title": {
            "standoff": 15
           },
           "zerolinecolor": "white",
           "zerolinewidth": 2
          },
          "yaxis": {
           "automargin": true,
           "gridcolor": "white",
           "linecolor": "white",
           "ticks": "",
           "title": {
            "standoff": 15
           },
           "zerolinecolor": "white",
           "zerolinewidth": 2
          }
         }
        },
        "title": {
         "text": "Minimise amount of X | Minimise the costs (hold both close to zero)"
        },
        "xaxis": {
         "anchor": "y",
         "domain": [
          0,
          0.45
         ],
         "title": {
          "text": "t"
         }
        },
        "xaxis2": {
         "anchor": "y2",
         "domain": [
          0.55,
          1
         ]
        },
        "yaxis": {
         "anchor": "x",
         "domain": [
          0,
          1
         ],
         "title": {
          "text": "X"
         }
        },
        "yaxis2": {
         "anchor": "x2",
         "domain": [
          0,
          1
         ]
        }
       }
      },
      "text/html": [
       "<div>                            <div id=\"4562542e-dd9d-4a4c-8eae-6e5b226fc4c2\" class=\"plotly-graph-div\" style=\"height:525px; width:100%;\"></div>            <script type=\"text/javascript\">                require([\"plotly\"], function(Plotly) {                    window.PLOTLYENV=window.PLOTLYENV || {};                                    if (document.getElementById(\"4562542e-dd9d-4a4c-8eae-6e5b226fc4c2\")) {                    Plotly.newPlot(                        \"4562542e-dd9d-4a4c-8eae-6e5b226fc4c2\",                        [{\"line\": {\"color\": \"#00e476\"}, \"mode\": \"lines\", \"name\": \"Controlled\", \"type\": \"scatter\", \"x\": [0.0, 0.02040816326530612, 0.04081632653061224, 0.061224489795918366, 0.08163265306122448, 0.1020408163265306, 0.12244897959183673, 0.14285714285714285, 0.16326530612244897, 0.18367346938775508, 0.2040816326530612, 0.22448979591836732, 0.24489795918367346, 0.26530612244897955, 0.2857142857142857, 0.3061224489795918, 0.32653061224489793, 0.3469387755102041, 0.36734693877551017, 0.3877551020408163, 0.4081632653061224, 0.42857142857142855, 0.44897959183673464, 0.4693877551020408, 0.4897959183673469, 0.5102040816326531, 0.5306122448979591, 0.5510204081632653, 0.5714285714285714, 0.5918367346938775, 0.6122448979591836, 0.6326530612244897, 0.6530612244897959, 0.673469387755102, 0.6938775510204082, 0.7142857142857142, 0.7346938775510203, 0.7551020408163265, 0.7755102040816326, 0.7959183673469387, 0.8163265306122448, 0.836734693877551, 0.8571428571428571, 0.8775510204081632, 0.8979591836734693, 0.9183673469387754, 0.9387755102040816, 0.9591836734693877, 0.9795918367346939, 1.0], \"xaxis\": \"x\", \"y\": [0.75, 0.7653516254574061, 0.7810062772467733, 0.7969700092637242, 0.8132489942838723, 0.8298495274207567, 0.8467780365074681, 0.8640410770024366, 0.8816453291402675, 0.8995975981548374, 0.917904824118102, 0.9365740835192702, 0.9556125915461142, 0.9750277075784034, 0.9948269370286623, 1.015017936199977, 1.0356085118765388, 1.0566066262331655, 1.078020398602008, 1.0998581076471226, 1.1221281967862824, 1.1448392785291341, 1.1680001304084535, 1.1916197000314956, 1.2157071092265417, 1.240271657750837, 1.2653228260296072, 1.29087027880667, 1.3169238685700368, 1.3434936384127272, 1.3705898255468456, 1.3982228648879398, 1.4264033946854506, 1.4551422583542155, 1.4844505077582126, 1.5143394073050376, 1.5448204369301775, 1.575905287466872, 1.6076058693716693, 1.6399343179364565, 1.6729029980831895, 1.7065245076153899, 1.740811683067869, 1.77577760455586, 1.8114355970330938, 1.8477992345180176, 1.8848823430261794, 1.922699004790606, 1.9612635623803243, 2.0005906222307], \"yaxis\": \"y\"}, {\"line\": {\"color\": \"#00e476\"}, \"mode\": \"lines\", \"showlegend\": false, \"type\": \"scatter\", \"x\": [0.0, 0.02040816326530612, 0.04081632653061224, 0.061224489795918366, 0.08163265306122448, 0.1020408163265306, 0.12244897959183673, 0.14285714285714285, 0.16326530612244897, 0.18367346938775508, 0.2040816326530612, 0.22448979591836732, 0.24489795918367346, 0.26530612244897955, 0.2857142857142857, 0.3061224489795918, 0.32653061224489793, 0.3469387755102041, 0.36734693877551017, 0.3877551020408163, 0.4081632653061224, 0.42857142857142855, 0.44897959183673464, 0.4693877551020408, 0.4897959183673469, 0.5102040816326531, 0.5306122448979591, 0.5510204081632653, 0.5714285714285714, 0.5918367346938775, 0.6122448979591836, 0.6326530612244897, 0.6530612244897959, 0.673469387755102, 0.6938775510204082, 0.7142857142857142, 0.7346938775510203, 0.7551020408163265, 0.7755102040816326, 0.7959183673469387, 0.8163265306122448, 0.836734693877551, 0.8571428571428571, 0.8775510204081632, 0.8979591836734693, 0.9183673469387754, 0.9387755102040816, 0.9591836734693877, 0.9795918367346939, 1.0], \"xaxis\": \"x\", \"y\": [0.75, 0.7649941289424896, 0.7802869693815708, 0.7958845128325224, 0.8117928695978475, 0.8280182730056631, 0.8445670771018409, 0.8614457574252345, 0.8786609183549224, 0.8962193024670408, 0.9141277876362833, 0.9323933901889071, 0.9510232663306598, 0.97002471457184, 0.989405179914493, 1.0091722614016054, 1.0293337113236225, 1.049897442902757, 1.070871532245026, 1.09226421727659, 1.1140838990430049, 1.136339143556, 1.1590386901591956, 1.182191454026166, 1.205806529677038, 1.2298931945654223, 1.2544609130351065, 1.2795193400578584, 1.30507832549302, 1.3311479175382255, 1.3577383678137527, 1.3848601340153666, 1.4125238849298982, 1.440740505178607, 1.4695210989378227, 1.4988769944045524, 1.5288197548334053, 1.5593611918804184, 1.5905133610343416, 1.6222885692500064, 1.6546993755073, 1.6877585974162879, 1.721479321903247, 1.7558749177495474, 1.7909590302018952, 1.8267455865016384, 1.8632488023442249, 1.9004831888403757, 1.9384635591694503, 1.9772050356638993], \"yaxis\": \"y\"}, {\"line\": {\"color\": \"#FFe476\"}, \"mode\": \"lines\", \"name\": \"Uncontrolled\", \"type\": \"scatter\", \"x\": [0.0, 0.02040816326530612, 0.04081632653061224, 0.061224489795918366, 0.08163265306122448, 0.1020408163265306, 0.12244897959183673, 0.14285714285714285, 0.16326530612244897, 0.18367346938775508, 0.2040816326530612, 0.22448979591836732, 0.24489795918367346, 0.26530612244897955, 0.2857142857142857, 0.3061224489795918, 0.32653061224489793, 0.3469387755102041, 0.36734693877551017, 0.3877551020408163, 0.4081632653061224, 0.42857142857142855, 0.44897959183673464, 0.4693877551020408, 0.4897959183673469, 0.5102040816326531, 0.5306122448979591, 0.5510204081632653, 0.5714285714285714, 0.5918367346938775, 0.6122448979591836, 0.6326530612244897, 0.6530612244897959, 0.673469387755102, 0.6938775510204082, 0.7142857142857142, 0.7346938775510203, 0.7551020408163265, 0.7755102040816326, 0.7959183673469387, 0.8163265306122448, 0.836734693877551, 0.8571428571428571, 0.8775510204081632, 0.8979591836734693, 0.9183673469387754, 0.9387755102040816, 0.9591836734693877, 0.9795918367346939, 1.0], \"xaxis\": \"x\", \"y\": [0.75, 0.775717576949853, 0.7929378071416243, 0.8111011412478951, 0.8365694138075509, 0.8515025853398397, 0.8560608701607421, 0.8589709173919615, 0.8829124860335854, 0.9022111712316868, 0.9191570722411078, 0.9253188457471748, 0.9632435814395763, 0.9871416317073314, 0.9951222256422233, 1.029327482011126, 1.0461484743635119, 1.0668990994779821, 1.0965669054564033, 1.1060804966765219, 1.1330855420128216, 1.166282061784435, 1.2017336881521772, 1.2354566044602155, 1.241125282591297, 1.2559875212286522, 1.2615628272327628, 1.2713683394247748, 1.2788440717144731, 1.3125032785200454, 1.3404858532364277, 1.3552457082584122, 1.3948462319671544, 1.4419876580232722, 1.4905447140869494, 1.5025676348503194, 1.5372900874613533, 1.5758684453719447, 1.6250610896093536, 1.6502910619890854, 1.6998307016641865, 1.7480349348862132, 1.8025537859424983, 1.8194512261872653, 1.860331343221244, 1.9149171220607728, 1.9436084167599121, 1.9867147369844953, 2.031428715404327, 2.081042567726365], \"yaxis\": \"y\"}, {\"line\": {\"color\": \"#FFe476\"}, \"mode\": \"lines\", \"showlegend\": false, \"type\": \"scatter\", \"x\": [0.0, 0.02040816326530612, 0.04081632653061224, 0.061224489795918366, 0.08163265306122448, 0.1020408163265306, 0.12244897959183673, 0.14285714285714285, 0.16326530612244897, 0.18367346938775508, 0.2040816326530612, 0.22448979591836732, 0.24489795918367346, 0.26530612244897955, 0.2857142857142857, 0.3061224489795918, 0.32653061224489793, 0.3469387755102041, 0.36734693877551017, 0.3877551020408163, 0.4081632653061224, 0.42857142857142855, 0.44897959183673464, 0.4693877551020408, 0.4897959183673469, 0.5102040816326531, 0.5306122448979591, 0.5510204081632653, 0.5714285714285714, 0.5918367346938775, 0.6122448979591836, 0.6326530612244897, 0.6530612244897959, 0.673469387755102, 0.6938775510204082, 0.7142857142857142, 0.7346938775510203, 0.7551020408163265, 0.7755102040816326, 0.7959183673469387, 0.8163265306122448, 0.836734693877551, 0.8571428571428571, 0.8775510204081632, 0.8979591836734693, 0.9183673469387754, 0.9387755102040816, 0.9591836734693877, 0.9795918367346939, 1.0], \"xaxis\": \"x\", \"y\": [0.75, 0.7633965807311625, 0.7883542763943024, 0.8086365150711291, 0.8191387062456572, 0.8309407707402282, 0.8305626329765283, 0.8277388855622453, 0.8570697749079601, 0.8567900698647662, 0.8642100337604651, 0.8906620071162207, 0.9162267905057014, 0.9524039903206093, 0.959059589165922, 0.9731468521679396, 0.9993699948530458, 1.0050070101822657, 1.0213914508605322, 1.0505417460404343, 1.0897011225911415, 1.1254633891120007, 1.1652576284655953, 1.1891708426142311, 1.2251192150770571, 1.2512291262212898, 1.2651767824731246, 1.3029995973027748, 1.3395857391533499, 1.3657663001363376, 1.3733163181566288, 1.4116778743255358, 1.4372124986565407, 1.4708078511996108, 1.5162676284453025, 1.5387264257727458, 1.5713999087333372, 1.5975078870106902, 1.634401701919486, 1.6858821559088335, 1.7108757021857697, 1.7360506230290955, 1.7721475592055556, 1.8247523221093642, 1.8740972862144203, 1.891832376171444, 1.942436061412319, 1.9621175379655975, 2.0186235912930415, 2.049579336769877], \"yaxis\": \"y\"}, {\"line\": {\"color\": \"#00e476\"}, \"mode\": \"lines\", \"showlegend\": false, \"type\": \"scatter\", \"x\": [0.0, 0.02040816326530612, 0.04081632653061224, 0.061224489795918366, 0.08163265306122448, 0.1020408163265306, 0.12244897959183673, 0.14285714285714285, 0.16326530612244897, 0.18367346938775508, 0.2040816326530612, 0.22448979591836732, 0.24489795918367346, 0.26530612244897955, 0.2857142857142857, 0.3061224489795918, 0.32653061224489793, 0.3469387755102041, 0.36734693877551017, 0.3877551020408163, 0.4081632653061224, 0.42857142857142855, 0.44897959183673464, 0.4693877551020408, 0.4897959183673469, 0.5102040816326531, 0.5306122448979591, 0.5510204081632653, 0.5714285714285714, 0.5918367346938775, 0.6122448979591836, 0.6326530612244897, 0.6530612244897959, 0.673469387755102, 0.6938775510204082, 0.7142857142857142, 0.7346938775510203, 0.7551020408163265, 0.7755102040816326, 0.7959183673469387, 0.8163265306122448, 0.836734693877551, 0.8571428571428571, 0.8775510204081632, 0.8979591836734693, 0.9183673469387754, 0.9387755102040816, 0.9591836734693877, 0.9795918367346939, 1.0], \"xaxis\": \"x2\", \"y\": [0.0, -3.0918734410079196e-05, -6.114092502684798e-05, -9.067407154361717e-05, -0.0001195253153127851, -0.00014770163397770375, -0.00017521118570584804, -0.00020206201043038163, -0.00022826114400231745, -0.00025381424893566873, -0.0002787268822430633, -0.00030300432626972906, -0.0003266515486757271, -0.00034967364445037674, -0.00037207566856523044, -0.00039386288699461147, -0.0004150403055973584, -0.0004356129084044369, -0.0004555854775389889, -0.0004749625368276611, -0.000493748695589602, -0.0005119488305354025, -0.0005295670380291995, -0.0005466069378599059, -0.0005630718151223846, -0.0005789647057099501, -0.0005942883308307501, -0.000609045156124921, -0.0006232374107639771, -0.0006368670537995058, -0.0006499357950815465, -0.0006624451616517035, -0.000674396747854189, -0.0006857920452603139, -0.0006966324608583818, -0.0007069194225550746, -0.0007166542627601302, -0.0007258373570948606, -0.0007344689511228353, -0.0007425494059134508, -0.0007500795181840658, -0.0007570606203444186, -0.0007634948478880688, -0.0007693852994634653, -0.0007747362701593374, -0.0007795535821060184, -0.0007838448559596145, -0.0007876199231304781, -0.0007908912955372216, -0.0007908912955372216], \"yaxis\": \"y2\"}, {\"line\": {\"color\": \"#FFe476\"}, \"mode\": \"lines\", \"showlegend\": false, \"type\": \"scatter\", \"x\": [0.0, 0.02040816326530612, 0.04081632653061224, 0.061224489795918366, 0.08163265306122448, 0.1020408163265306, 0.12244897959183673, 0.14285714285714285, 0.16326530612244897, 0.18367346938775508, 0.2040816326530612, 0.22448979591836732, 0.24489795918367346, 0.26530612244897955, 0.2857142857142857, 0.3061224489795918, 0.32653061224489793, 0.3469387755102041, 0.36734693877551017, 0.3877551020408163, 0.4081632653061224, 0.42857142857142855, 0.44897959183673464, 0.4693877551020408, 0.4897959183673469, 0.5102040816326531, 0.5306122448979591, 0.5510204081632653, 0.5714285714285714, 0.5918367346938775, 0.6122448979591836, 0.6326530612244897, 0.6530612244897959, 0.673469387755102, 0.6938775510204082, 0.7142857142857142, 0.7346938775510203, 0.7551020408163265, 0.7755102040816326, 0.7959183673469387, 0.8163265306122448, 0.836734693877551, 0.8571428571428571, 0.8775510204081632, 0.8979591836734693, 0.9183673469387754, 0.9387755102040816, 0.9591836734693877, 0.9795918367346939, 1.0], \"xaxis\": \"x2\", \"y\": [0.0, -0.029359352694413438, -0.05355974037850713, -0.05998416236122704, -0.08939619983601083, -0.09545032097007813, -0.20656066927784195, -0.3514798178189421, -0.403718744870405, -0.48026518916792155, -0.5041661421453704, -0.5625186155690404, -0.6718083872782381, -0.7568543776376744, -0.8298353396225395, -0.8874649748359791, -0.9024349255607221, -0.9539257362849358, -0.97472383425693, -1.0322942985544974, -1.1205986760266309, -1.1971221875650127, -1.3085746286371132, -1.3321325746118786, -1.4597638344981925, -1.4852116002647755, -1.6113825029831093, -1.7100539894595759, -1.8183192443205591, -1.8347436176589598, -1.933160866020852, -1.9991371689464243, -2.039993294066065, -2.138464303264476, -2.300006751570428, -2.394580426293981, -2.40093672698658, -2.4233496142527433, -2.507563391555306, -2.609069921975693, -2.696439177714459, -2.767345412471062, -2.8634490363412657, -3.0287964221492327, -3.0751189968089876, -3.248112308403518, -3.311935463953864, -3.4082632930523773, -3.4889714632338222, -3.4889714632338222], \"yaxis\": \"y2\"}],                        {\"font\": {\"family\": \"Courier New, monospace\", \"size\": 14}, \"template\": {\"data\": {\"bar\": [{\"error_x\": {\"color\": \"#2a3f5f\"}, \"error_y\": {\"color\": \"#2a3f5f\"}, \"marker\": {\"line\": {\"color\": \"#E5ECF6\", \"width\": 0.5}}, \"type\": \"bar\"}], \"barpolar\": [{\"marker\": {\"line\": {\"color\": \"#E5ECF6\", \"width\": 0.5}}, \"type\": \"barpolar\"}], \"carpet\": [{\"aaxis\": {\"endlinecolor\": \"#2a3f5f\", \"gridcolor\": \"white\", \"linecolor\": \"white\", \"minorgridcolor\": \"white\", \"startlinecolor\": \"#2a3f5f\"}, \"baxis\": {\"endlinecolor\": \"#2a3f5f\", \"gridcolor\": \"white\", \"linecolor\": \"white\", \"minorgridcolor\": \"white\", \"startlinecolor\": \"#2a3f5f\"}, \"type\": \"carpet\"}], \"choropleth\": [{\"colorbar\": {\"outlinewidth\": 0, \"ticks\": \"\"}, \"type\": \"choropleth\"}], \"contour\": [{\"colorbar\": {\"outlinewidth\": 0, \"ticks\": \"\"}, \"colorscale\": [[0.0, \"#0d0887\"], [0.1111111111111111, \"#46039f\"], [0.2222222222222222, \"#7201a8\"], [0.3333333333333333, \"#9c179e\"], [0.4444444444444444, \"#bd3786\"], [0.5555555555555556, \"#d8576b\"], [0.6666666666666666, \"#ed7953\"], [0.7777777777777778, \"#fb9f3a\"], [0.8888888888888888, \"#fdca26\"], [1.0, \"#f0f921\"]], \"type\": \"contour\"}], \"contourcarpet\": [{\"colorbar\": {\"outlinewidth\": 0, \"ticks\": \"\"}, \"type\": \"contourcarpet\"}], \"heatmap\": [{\"colorbar\": {\"outlinewidth\": 0, \"ticks\": \"\"}, \"colorscale\": [[0.0, \"#0d0887\"], [0.1111111111111111, \"#46039f\"], [0.2222222222222222, \"#7201a8\"], [0.3333333333333333, \"#9c179e\"], [0.4444444444444444, \"#bd3786\"], [0.5555555555555556, \"#d8576b\"], [0.6666666666666666, \"#ed7953\"], [0.7777777777777778, \"#fb9f3a\"], [0.8888888888888888, \"#fdca26\"], [1.0, \"#f0f921\"]], \"type\": \"heatmap\"}], \"heatmapgl\": [{\"colorbar\": {\"outlinewidth\": 0, \"ticks\": \"\"}, \"colorscale\": [[0.0, \"#0d0887\"], [0.1111111111111111, \"#46039f\"], [0.2222222222222222, \"#7201a8\"], [0.3333333333333333, \"#9c179e\"], [0.4444444444444444, \"#bd3786\"], [0.5555555555555556, \"#d8576b\"], [0.6666666666666666, \"#ed7953\"], [0.7777777777777778, \"#fb9f3a\"], [0.8888888888888888, \"#fdca26\"], [1.0, \"#f0f921\"]], \"type\": \"heatmapgl\"}], \"histogram\": [{\"marker\": {\"colorbar\": {\"outlinewidth\": 0, \"ticks\": \"\"}}, \"type\": \"histogram\"}], \"histogram2d\": [{\"colorbar\": {\"outlinewidth\": 0, \"ticks\": \"\"}, \"colorscale\": [[0.0, \"#0d0887\"], [0.1111111111111111, \"#46039f\"], [0.2222222222222222, \"#7201a8\"], [0.3333333333333333, \"#9c179e\"], [0.4444444444444444, \"#bd3786\"], [0.5555555555555556, \"#d8576b\"], [0.6666666666666666, \"#ed7953\"], [0.7777777777777778, \"#fb9f3a\"], [0.8888888888888888, \"#fdca26\"], [1.0, \"#f0f921\"]], \"type\": \"histogram2d\"}], \"histogram2dcontour\": [{\"colorbar\": {\"outlinewidth\": 0, \"ticks\": \"\"}, \"colorscale\": [[0.0, \"#0d0887\"], [0.1111111111111111, \"#46039f\"], [0.2222222222222222, \"#7201a8\"], [0.3333333333333333, \"#9c179e\"], [0.4444444444444444, \"#bd3786\"], [0.5555555555555556, \"#d8576b\"], [0.6666666666666666, \"#ed7953\"], [0.7777777777777778, \"#fb9f3a\"], [0.8888888888888888, \"#fdca26\"], [1.0, \"#f0f921\"]], \"type\": \"histogram2dcontour\"}], \"mesh3d\": [{\"colorbar\": {\"outlinewidth\": 0, \"ticks\": \"\"}, \"type\": \"mesh3d\"}], \"parcoords\": [{\"line\": {\"colorbar\": {\"outlinewidth\": 0, \"ticks\": \"\"}}, \"type\": \"parcoords\"}], \"pie\": [{\"automargin\": true, \"type\": \"pie\"}], \"scatter\": [{\"marker\": {\"colorbar\": {\"outlinewidth\": 0, \"ticks\": \"\"}}, \"type\": \"scatter\"}], \"scatter3d\": [{\"line\": {\"colorbar\": {\"outlinewidth\": 0, \"ticks\": \"\"}}, \"marker\": {\"colorbar\": {\"outlinewidth\": 0, \"ticks\": \"\"}}, \"type\": \"scatter3d\"}], \"scattercarpet\": [{\"marker\": {\"colorbar\": {\"outlinewidth\": 0, \"ticks\": \"\"}}, \"type\": \"scattercarpet\"}], \"scattergeo\": [{\"marker\": {\"colorbar\": {\"outlinewidth\": 0, \"ticks\": \"\"}}, \"type\": \"scattergeo\"}], \"scattergl\": [{\"marker\": {\"colorbar\": {\"outlinewidth\": 0, \"ticks\": \"\"}}, \"type\": \"scattergl\"}], \"scattermapbox\": [{\"marker\": {\"colorbar\": {\"outlinewidth\": 0, \"ticks\": \"\"}}, \"type\": \"scattermapbox\"}], \"scatterpolar\": [{\"marker\": {\"colorbar\": {\"outlinewidth\": 0, \"ticks\": \"\"}}, \"type\": \"scatterpolar\"}], \"scatterpolargl\": [{\"marker\": {\"colorbar\": {\"outlinewidth\": 0, \"ticks\": \"\"}}, \"type\": \"scatterpolargl\"}], \"scatterternary\": [{\"marker\": {\"colorbar\": {\"outlinewidth\": 0, \"ticks\": \"\"}}, \"type\": \"scatterternary\"}], \"surface\": [{\"colorbar\": {\"outlinewidth\": 0, \"ticks\": \"\"}, \"colorscale\": [[0.0, \"#0d0887\"], [0.1111111111111111, \"#46039f\"], [0.2222222222222222, \"#7201a8\"], [0.3333333333333333, \"#9c179e\"], [0.4444444444444444, \"#bd3786\"], [0.5555555555555556, \"#d8576b\"], [0.6666666666666666, \"#ed7953\"], [0.7777777777777778, \"#fb9f3a\"], [0.8888888888888888, \"#fdca26\"], [1.0, \"#f0f921\"]], \"type\": \"surface\"}], \"table\": [{\"cells\": {\"fill\": {\"color\": \"#EBF0F8\"}, \"line\": {\"color\": \"white\"}}, \"header\": {\"fill\": {\"color\": \"#C8D4E3\"}, \"line\": {\"color\": \"white\"}}, \"type\": \"table\"}]}, \"layout\": {\"annotationdefaults\": {\"arrowcolor\": \"#2a3f5f\", \"arrowhead\": 0, \"arrowwidth\": 1}, \"autotypenumbers\": \"strict\", \"coloraxis\": {\"colorbar\": {\"outlinewidth\": 0, \"ticks\": \"\"}}, \"colorscale\": {\"diverging\": [[0, \"#8e0152\"], [0.1, \"#c51b7d\"], [0.2, \"#de77ae\"], [0.3, \"#f1b6da\"], [0.4, \"#fde0ef\"], [0.5, \"#f7f7f7\"], [0.6, \"#e6f5d0\"], [0.7, \"#b8e186\"], [0.8, \"#7fbc41\"], [0.9, \"#4d9221\"], [1, \"#276419\"]], \"sequential\": [[0.0, \"#0d0887\"], [0.1111111111111111, \"#46039f\"], [0.2222222222222222, \"#7201a8\"], [0.3333333333333333, \"#9c179e\"], [0.4444444444444444, \"#bd3786\"], [0.5555555555555556, \"#d8576b\"], [0.6666666666666666, \"#ed7953\"], [0.7777777777777778, \"#fb9f3a\"], [0.8888888888888888, \"#fdca26\"], [1.0, \"#f0f921\"]], \"sequentialminus\": [[0.0, \"#0d0887\"], [0.1111111111111111, \"#46039f\"], [0.2222222222222222, \"#7201a8\"], [0.3333333333333333, \"#9c179e\"], [0.4444444444444444, \"#bd3786\"], [0.5555555555555556, \"#d8576b\"], [0.6666666666666666, \"#ed7953\"], [0.7777777777777778, \"#fb9f3a\"], [0.8888888888888888, \"#fdca26\"], [1.0, \"#f0f921\"]]}, \"colorway\": [\"#636efa\", \"#EF553B\", \"#00cc96\", \"#ab63fa\", \"#FFA15A\", \"#19d3f3\", \"#FF6692\", \"#B6E880\", \"#FF97FF\", \"#FECB52\"], \"font\": {\"color\": \"#2a3f5f\"}, \"geo\": {\"bgcolor\": \"white\", \"lakecolor\": \"white\", \"landcolor\": \"#E5ECF6\", \"showlakes\": true, \"showland\": true, \"subunitcolor\": \"white\"}, \"hoverlabel\": {\"align\": \"left\"}, \"hovermode\": \"closest\", \"mapbox\": {\"style\": \"light\"}, \"paper_bgcolor\": \"white\", \"plot_bgcolor\": \"#E5ECF6\", \"polar\": {\"angularaxis\": {\"gridcolor\": \"white\", \"linecolor\": \"white\", \"ticks\": \"\"}, \"bgcolor\": \"#E5ECF6\", \"radialaxis\": {\"gridcolor\": \"white\", \"linecolor\": \"white\", \"ticks\": \"\"}}, \"scene\": {\"xaxis\": {\"backgroundcolor\": \"#E5ECF6\", \"gridcolor\": \"white\", \"gridwidth\": 2, \"linecolor\": \"white\", \"showbackground\": true, \"ticks\": \"\", \"zerolinecolor\": \"white\"}, \"yaxis\": {\"backgroundcolor\": \"#E5ECF6\", \"gridcolor\": \"white\", \"gridwidth\": 2, \"linecolor\": \"white\", \"showbackground\": true, \"ticks\": \"\", \"zerolinecolor\": \"white\"}, \"zaxis\": {\"backgroundcolor\": \"#E5ECF6\", \"gridcolor\": \"white\", \"gridwidth\": 2, \"linecolor\": \"white\", \"showbackground\": true, \"ticks\": \"\", \"zerolinecolor\": \"white\"}}, \"shapedefaults\": {\"line\": {\"color\": \"#2a3f5f\"}}, \"ternary\": {\"aaxis\": {\"gridcolor\": \"white\", \"linecolor\": \"white\", \"ticks\": \"\"}, \"baxis\": {\"gridcolor\": \"white\", \"linecolor\": \"white\", \"ticks\": \"\"}, \"bgcolor\": \"#E5ECF6\", \"caxis\": {\"gridcolor\": \"white\", \"linecolor\": \"white\", \"ticks\": \"\"}}, \"title\": {\"x\": 0.05}, \"xaxis\": {\"automargin\": true, \"gridcolor\": \"white\", \"linecolor\": \"white\", \"ticks\": \"\", \"title\": {\"standoff\": 15}, \"zerolinecolor\": \"white\", \"zerolinewidth\": 2}, \"yaxis\": {\"automargin\": true, \"gridcolor\": \"white\", \"linecolor\": \"white\", \"ticks\": \"\", \"title\": {\"standoff\": 15}, \"zerolinecolor\": \"white\", \"zerolinewidth\": 2}}}, \"title\": {\"text\": \"Minimise amount of X | Minimise the costs (hold both close to zero)\"}, \"xaxis\": {\"anchor\": \"y\", \"domain\": [0.0, 0.45], \"title\": {\"text\": \"t\"}}, \"xaxis2\": {\"anchor\": \"y2\", \"domain\": [0.55, 1.0]}, \"yaxis\": {\"anchor\": \"x\", \"domain\": [0.0, 1.0], \"title\": {\"text\": \"X\"}}, \"yaxis2\": {\"anchor\": \"x2\", \"domain\": [0.0, 1.0]}},                        {\"responsive\": true}                    ).then(function(){\n",
       "                            \n",
       "var gd = document.getElementById('4562542e-dd9d-4a4c-8eae-6e5b226fc4c2');\n",
       "var x = new MutationObserver(function (mutations, observer) {{\n",
       "        var display = window.getComputedStyle(gd).display;\n",
       "        if (!display || display === 'none') {{\n",
       "            console.log([gd, 'removed!']);\n",
       "            Plotly.purge(gd);\n",
       "            observer.disconnect();\n",
       "        }}\n",
       "}});\n",
       "\n",
       "// Listen for the removal of the full notebook cells\n",
       "var notebookContainer = gd.closest('#notebook-container');\n",
       "if (notebookContainer) {{\n",
       "    x.observe(notebookContainer, {childList: true});\n",
       "}}\n",
       "\n",
       "// Listen for the clearing of the current output cell\n",
       "var outputEl = gd.closest('.output');\n",
       "if (outputEl) {{\n",
       "    x.observe(outputEl, {childList: true});\n",
       "}}\n",
       "\n",
       "                        })                };                });            </script>        </div>"
      ]
     },
     "metadata": {},
     "output_type": "display_data"
    }
   ],
   "source": [
    "n = 50\n",
    "c_xs = np.zeros((2, n))\n",
    "c_xs[:, 0] = 0.75\n",
    "uc_xs = np.zeros((2, n))\n",
    "uc_xs[:, 0] = 0.75\n",
    "dt = 1/n\n",
    "ts = [t for t in np.linspace(0, 1, n)]\n",
    "c_cum_cost = np.zeros(n)\n",
    "uc_cum_cost = np.zeros(n)\n",
    "for i in range(n-1):\n",
    "    dW = 0 #np.sqrt(dt)*np.random.randn(2, 1)\n",
    "    c = np.expand_dims(solver.u(c_xs[0, i], c_xs[1, i], i*dt), axis=1)\n",
    "    uc = (np.random.rand(2, 1)-0.5)*2\n",
    "    c_xs[:, None, i+1] = c_xs[:, None, i] + (eq.H.numpy() @ c_xs[:, None, i] + eq.M.numpy() @ c)*dt + eq.σ*dW\n",
    "    uc_xs[:, None, i+1] = uc_xs[:, None, i] + (eq.H.numpy() @ uc_xs[:, None, i] + eq.M.numpy() @ uc)*dt + eq.σ*dW\n",
    "    c_cum_cost[i+1] = c_cum_cost[i] + c_xs[:, None, i].T @ eq.C.numpy() @ c_xs[:, None, i] + c.T @ eq.D.numpy() @ c\n",
    "    uc_cum_cost[i+1] = uc_cum_cost[i] + uc_xs[:, None, i].T @ eq.C.numpy() @ uc_xs[:, None, i] + uc.T @ eq.D.numpy() @ uc\n",
    "\n",
    "c_cum_cost[-1] = c_cum_cost[-2] #+ c_xs[:, None, -1].T @ eq.R.numpy() @ c_xs[:, None, -1]\n",
    "uc_cum_cost[-1] = uc_cum_cost[-2] #+ uc_xs[:, None, -1].T @ eq.R.numpy() @ uc_xs[:, None, -1]\n",
    "fig = make_subplots(rows=1, cols=2)\n",
    "fig.add_trace(go.Scatter(x=ts, y=c_xs[0], mode='lines', name=\"Controlled\", line=dict(color=\"#00e476\")), row=1, col=1)\n",
    "fig.add_trace(go.Scatter(x=ts, y=c_xs[1], mode='lines', showlegend=False, line=dict(color=\"#00e476\")), row=1, col=1)\n",
    "fig.add_trace(go.Scatter(x=ts, y=uc_xs[0], mode='lines', name=\"Uncontrolled\", line=dict(color=\"#FFe476\")), row=1, col=1)\n",
    "fig.add_trace(go.Scatter(x=ts, y=uc_xs[1], mode='lines', showlegend=False, line=dict(color=\"#FFe476\")), row=1, col=1)\n",
    "fig.add_trace(go.Scatter(x=ts, y=c_cum_cost, mode='lines', showlegend=False, line=dict(color=\"#00e476\")), row=1, col=2)\n",
    "fig.add_trace(go.Scatter(x=ts, y=uc_cum_cost, mode='lines', showlegend=False, line=dict(color=\"#FFe476\")), row=1, col=2)\n",
    "fig.update_layout(\n",
    "    title=\"Minimise amount of X | Minimise the costs (hold both close to zero)\",\n",
    "    xaxis_title=\"t\",\n",
    "    yaxis_title=\"X\",\n",
    "    font=dict(\n",
    "        family=\"Courier New, monospace\",\n",
    "        size=14\n",
    "    )\n",
    ")\n",
    "fig.show()"
   ]
  },
  {
   "cell_type": "code",
   "execution_count": null,
   "id": "biological-issue",
   "metadata": {},
   "outputs": [],
   "source": []
  },
  {
   "cell_type": "code",
   "execution_count": null,
   "id": "announced-montgomery",
   "metadata": {},
   "outputs": [],
   "source": []
  }
 ],
 "metadata": {
  "kernelspec": {
   "display_name": "Python 3",
   "language": "python",
   "name": "python3"
  },
  "language_info": {
   "codemirror_mode": {
    "name": "ipython",
    "version": 3
   },
   "file_extension": ".py",
   "mimetype": "text/x-python",
   "name": "python",
   "nbconvert_exporter": "python",
   "pygments_lexer": "ipython3",
   "version": "3.8.5"
  }
 },
 "nbformat": 4,
 "nbformat_minor": 5
}
