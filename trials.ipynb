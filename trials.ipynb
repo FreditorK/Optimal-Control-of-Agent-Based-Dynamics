{
 "cells": [
  {
   "cell_type": "code",
   "execution_count": 1,
   "id": "vertical-simon",
   "metadata": {},
   "outputs": [],
   "source": [
    "import torch\n",
    "import torch.nn as nn\n",
    "import numpy as np\n",
    "from torch.autograd import grad\n",
    "from torch.autograd.functional import jacobian\n",
    "from operators import Δ, div, D, mdotb, bdotm, mdotm, bdotb\n",
    "from torch.nn.functional import relu, max_pool2d, avg_pool2d, dropout, dropout2d, interpolate"
   ]
  },
  {
   "cell_type": "code",
   "execution_count": null,
   "id": "specialized-european",
   "metadata": {},
   "outputs": [],
   "source": [
    "class Complex_ReLU(nn.Module):\n",
    "    def forward(self, input):\n",
    "        return relu(input.real).type(torch.complex64)+1j*relu(input.imag).type(torch.complex64)"
   ]
  },
  {
   "cell_type": "code",
   "execution_count": null,
   "id": "individual-relation",
   "metadata": {},
   "outputs": [],
   "source": [
    "complex_net = nn.Sequential(\n",
    "            nn.Linear(1, 4).to(torch.cfloat),\n",
    "            Complex_ReLU(),\n",
    "            nn.Linear(4, 1).to(torch.cfloat)\n",
    "        )\n",
    "tensor = torch.randn(4, 2).requires_grad_()\n",
    "tensor\n",
    "torch.view_as_complex(tensor).unsqueeze(1)"
   ]
  },
  {
   "cell_type": "code",
   "execution_count": null,
   "id": "improved-yield",
   "metadata": {},
   "outputs": [],
   "source": [
    "u = complex_net(torch.view_as_complex(tensor).unsqueeze(1))\n",
    "u = torch.exp(torch.abs(1j*u))"
   ]
  },
  {
   "cell_type": "code",
   "execution_count": null,
   "id": "theoretical-helicopter",
   "metadata": {},
   "outputs": [],
   "source": [
    "div(u, tensor)"
   ]
  },
  {
   "cell_type": "code",
   "execution_count": null,
   "id": "historic-genetics",
   "metadata": {},
   "outputs": [],
   "source": [
    "var = torch.tensor([[1.0, 1.0],\n",
    "                   [4.0, 3.0]], requires_grad=True)\n",
    "t = torch.tensor([[2.0], \n",
    "                  [3.0]], requires_grad=True)\n",
    "\n",
    "var_2 = torch.tensor([[1.0],\n",
    "                   [3.0]], requires_grad=True)\n",
    "t_2 = torch.tensor([[1.0], \n",
    "                  [2.0]], requires_grad=True)\n",
    "def u(x, t):\n",
    "    xt = torch.cat((x, t), dim=1)\n",
    "    return (1/6)*torch.pow(xt[:, 0].unsqueeze(1), 3) + xt[:,-1].unsqueeze(1)"
   ]
  },
  {
   "cell_type": "code",
   "execution_count": null,
   "id": "humanitarian-dominant",
   "metadata": {},
   "outputs": [],
   "source": []
  },
  {
   "cell_type": "code",
   "execution_count": null,
   "id": "turned-double",
   "metadata": {},
   "outputs": [],
   "source": [
    "spatial_net = nn.Sequential(\n",
    "            nn.Linear(2, 4),\n",
    "            nn.ELU(),\n",
    "            nn.Linear(4, 4),\n",
    "            nn.ELU(),\n",
    "            nn.Linear(4, 1)\n",
    "        )"
   ]
  },
  {
   "cell_type": "code",
   "execution_count": null,
   "id": "nonprofit-monroe",
   "metadata": {},
   "outputs": [],
   "source": [
    "out = u(var, t)\n",
    "out_2 = u(var_2, t_2)"
   ]
  },
  {
   "cell_type": "code",
   "execution_count": null,
   "id": "dynamic-skirt",
   "metadata": {},
   "outputs": [],
   "source": [
    "torch.sum(jacobian(spatial_net, var), dim=0)"
   ]
  },
  {
   "cell_type": "code",
   "execution_count": null,
   "id": "comparative-crawford",
   "metadata": {},
   "outputs": [],
   "source": [
    "out = spatial_net(var)\n",
    "div(out, var)"
   ]
  },
  {
   "cell_type": "code",
   "execution_count": null,
   "id": "deluxe-latter",
   "metadata": {},
   "outputs": [],
   "source": [
    "print(div(out.unsqueeze(1), t))\n",
    "print(div(out_2.unsqueeze(1), t_2))"
   ]
  },
  {
   "cell_type": "code",
   "execution_count": null,
   "id": "intimate-cliff",
   "metadata": {},
   "outputs": [],
   "source": [
    "print(div(out.unsqueeze(1), var))\n",
    "print(div(out_2.unsqueeze(1), var_2))"
   ]
  },
  {
   "cell_type": "code",
   "execution_count": null,
   "id": "accomplished-sheriff",
   "metadata": {},
   "outputs": [],
   "source": [
    "print(Δ(out.unsqueeze(1), var))\n",
    "print(Δ(out_2.unsqueeze(1), var_2))"
   ]
  },
  {
   "cell_type": "code",
   "execution_count": null,
   "id": "ecological-single",
   "metadata": {},
   "outputs": [],
   "source": [
    "loss = torch.square(div(out, t) - Δ(out, var)).mean()"
   ]
  },
  {
   "cell_type": "code",
   "execution_count": null,
   "id": "democratic-vienna",
   "metadata": {},
   "outputs": [],
   "source": [
    "loss.backward()"
   ]
  },
  {
   "cell_type": "code",
   "execution_count": 2,
   "id": "athletic-example",
   "metadata": {},
   "outputs": [],
   "source": [
    "var_1 = torch.tensor([[1.0],\n",
    "                      [4.0]], requires_grad=True)\n",
    "var_2 = torch.tensor([[2.0],\n",
    "                      [8.0]], requires_grad=True)\n",
    "var = [var_1, var_2]\n",
    "C = torch.tensor([[2.0, 4.0],\n",
    "                  [1.0, 3.0]], requires_grad=True)\n",
    "def u(x, t):\n",
    "    xt = torch.cat((x, t), dim=1)\n",
    "    return (1/6)*torch.pow(xt[:, 0].unsqueeze(1), 3) + torch.pow(xt[:,-1].unsqueeze(1), 2)"
   ]
  },
  {
   "cell_type": "code",
   "execution_count": null,
   "id": "silver-terrace",
   "metadata": {},
   "outputs": [],
   "source": [
    "us = u(var_1, var_2)\n",
    "print(us)"
   ]
  },
  {
   "cell_type": "code",
   "execution_count": null,
   "id": "psychological-quebec",
   "metadata": {},
   "outputs": [],
   "source": [
    "D(us, var_1)"
   ]
  },
  {
   "cell_type": "code",
   "execution_count": null,
   "id": "fitting-shame",
   "metadata": {},
   "outputs": [],
   "source": [
    "class Infix:\n",
    "    def __init__(self, function):\n",
    "        self.function = function\n",
    "    def __ror__(self, other):\n",
    "        return Infix(lambda x, self=self, other=other: self.function(other, x))\n",
    "    def __or__(self, other):\n",
    "        return self.function(other)\n",
    "    def __rlshift__(self, other):\n",
    "        return Infix(lambda x, self=self, other=other: self.function(other, x))\n",
    "    def __rshift__(self, other):\n",
    "        return self.function(other)\n",
    "    def __call__(self, value1, value2):\n",
    "        return self.function(value1, value2)"
   ]
  },
  {
   "cell_type": "code",
   "execution_count": null,
   "id": "equipped-legend",
   "metadata": {},
   "outputs": [],
   "source": [
    "def m_func(x, y):\n",
    "    if isinstance(x, list):\n",
    "        x = torch.cat(x, dim=-1)   \n",
    "        return torch.einsum(\"bi, ij -> bj\", x, y)\n",
    "    y = torch.cat(y, dim=-1)\n",
    "    return torch.einsum(\"ij, bj -> bi\", x, y)\n",
    "        \n",
    "def v_func(x, y):\n",
    "    if isinstance(x, list):\n",
    "        x = torch.cat(x, dim=-1)\n",
    "    if isinstance(y, list):\n",
    "        y = torch.cat(y, dim=-1)\n",
    "    \n",
    "    return torch.einsum(\"bi, bi -> b\", x, y).unsqueeze(1)\n",
    "    \n",
    "        "
   ]
  },
  {
   "cell_type": "code",
   "execution_count": 64,
   "id": "atmospheric-locking",
   "metadata": {},
   "outputs": [],
   "source": [
    "var_1 = torch.tensor([[1.0],\n",
    "                     [2.0]], requires_grad=True)\n",
    "var_2 = torch.tensor([[1.0],\n",
    "                     [3.0]], requires_grad=True)\n",
    "var_3 = torch.tensor([[2.0],\n",
    "                     [4.0]], requires_grad=True)\n",
    "var = [var_1, var_2, var_3]\n",
    "C = torch.tensor([[2.0, 4.0],\n",
    "                  [1.0, 3.0]], requires_grad=True)\n",
    "def us(*v):\n",
    "    return v[1]**3*var[2] + v[1]**3*var[0]**3 +v[2]**3*var[0]**2"
   ]
  },
  {
   "cell_type": "code",
   "execution_count": 65,
   "id": "thrown-transsexual",
   "metadata": {},
   "outputs": [],
   "source": [
    "u = us(*var)\n",
    "u_grad = grad(outputs=u, inputs=var, create_graph=True, grad_outputs=torch.ones_like(u))\n",
    "u_grad\n",
    "u_grad = torch.cat(u_grad, dim=-1)"
   ]
  },
  {
   "cell_type": "markdown",
   "id": "bright-colonial",
   "metadata": {},
   "source": [
    "# Computes Hessian (Careful)"
   ]
  },
  {
   "cell_type": "code",
   "execution_count": 45,
   "id": "twenty-colony",
   "metadata": {},
   "outputs": [
    {
     "name": "stdout",
     "output_type": "stream",
     "text": [
      "tensor([[19.,  9., 13.],\n",
      "        [19.,  9., 13.]], grad_fn=<CatBackward>)\n",
      "(tensor([[22.],\n",
      "        [ 0.]]), tensor([[9.],\n",
      "        [0.]]), tensor([[24.],\n",
      "        [ 0.]]))\n",
      "(tensor([[9.],\n",
      "        [0.]]), tensor([[18.],\n",
      "        [ 0.]]), tensor([[3.],\n",
      "        [0.]]))\n",
      "(tensor([[24.],\n",
      "        [ 0.]]), tensor([[3.],\n",
      "        [0.]]), tensor([[12.],\n",
      "        [ 0.]]))\n",
      "(tensor([[ 0.],\n",
      "        [22.]]), tensor([[0.],\n",
      "        [9.]]), tensor([[ 0.],\n",
      "        [24.]]))\n",
      "(tensor([[0.],\n",
      "        [9.]]), tensor([[ 0.],\n",
      "        [18.]]), tensor([[0.],\n",
      "        [3.]]))\n",
      "(tensor([[ 0.],\n",
      "        [24.]]), tensor([[0.],\n",
      "        [3.]]), tensor([[ 0.],\n",
      "        [12.]]))\n"
     ]
    }
   ],
   "source": [
    "print(u_grad)\n",
    "for i in range(u_grad.size(0)):\n",
    "    for j in range(u_grad.size(1)):\n",
    "        print(torch.autograd.grad(u_grad[i][j], var, retain_graph=True))"
   ]
  },
  {
   "cell_type": "code",
   "execution_count": 46,
   "id": "enclosed-bailey",
   "metadata": {},
   "outputs": [
    {
     "name": "stdout",
     "output_type": "stream",
     "text": [
      "(tensor([[22.],\n",
      "        [22.]]), tensor([[9.],\n",
      "        [9.]]), tensor([[24.],\n",
      "        [24.]]))\n",
      "(tensor([[9.],\n",
      "        [9.]]), tensor([[18.],\n",
      "        [18.]]), tensor([[3.],\n",
      "        [3.]]))\n",
      "(tensor([[24.],\n",
      "        [24.]]), tensor([[3.],\n",
      "        [3.]]), tensor([[12.],\n",
      "        [12.]]))\n"
     ]
    }
   ],
   "source": [
    "for i in range(u_grad.size(1)):\n",
    "    print(grad(u_grad[:, i], var, retain_graph=True, grad_outputs=torch.ones_like(u_grad[:, i])))"
   ]
  },
  {
   "cell_type": "code",
   "execution_count": 42,
   "id": "subject-change",
   "metadata": {},
   "outputs": [
    {
     "name": "stdout",
     "output_type": "stream",
     "text": [
      "(tensor([[22.]]), tensor([[9.]]), tensor([[24.]]))\n"
     ]
    }
   ],
   "source": [
    "print(grad(u_grad[:, 0], var, retain_graph=True, grad_outputs=torch.ones_like(u_grad[:, 0])))"
   ]
  },
  {
   "cell_type": "code",
   "execution_count": 24,
   "id": "developing-austin",
   "metadata": {},
   "outputs": [
    {
     "data": {
      "text/plain": [
       "tensor([[19.,  9., 13., 19.,  9., 13., 19.,  9., 13.]],\n",
       "       grad_fn=<RepeatBackward>)"
      ]
     },
     "execution_count": 24,
     "metadata": {},
     "output_type": "execute_result"
    }
   ],
   "source": [
    "u_grad.repeat(1, 3)"
   ]
  },
  {
   "cell_type": "code",
   "execution_count": null,
   "id": "outdoor-orange",
   "metadata": {},
   "outputs": [],
   "source": [
    "(C |mdotb| torch.cat(var[:2], dim=-1))"
   ]
  },
  {
   "cell_type": "code",
   "execution_count": null,
   "id": "laughing-pencil",
   "metadata": {},
   "outputs": [],
   "source": [
    "torch.cat((var_1, var_2, var_1), dim=-1)"
   ]
  },
  {
   "cell_type": "code",
   "execution_count": 32,
   "id": "distinguished-immigration",
   "metadata": {},
   "outputs": [
    {
     "data": {
      "text/plain": [
       "tensor([[19.],\n",
       "        [ 9.],\n",
       "        [13.]], grad_fn=<ViewBackward>)"
      ]
     },
     "execution_count": 32,
     "metadata": {},
     "output_type": "execute_result"
    }
   ],
   "source": [
    "u_grad.reshape(-1, 1)\n"
   ]
  },
  {
   "cell_type": "code",
   "execution_count": 68,
   "id": "headed-machine",
   "metadata": {},
   "outputs": [],
   "source": [
    "def hessian(u, var):\n",
    "    hessian_rows = []\n",
    "    u_grads = list(grad(outputs=u, inputs=var, create_graph=True, grad_outputs=torch.ones_like(u)))\n",
    "    for u_grad in u_grads:\n",
    "        hessian_rows.append(torch.cat(grad(u_grad, var, create_graph=True, grad_outputs=torch.ones_like(u_grad)), dim=-1).unsqueeze(-1))\n",
    "    return torch.cat(hessian_rows, dim=-1)"
   ]
  },
  {
   "cell_type": "code",
   "execution_count": 69,
   "id": "revised-poker",
   "metadata": {},
   "outputs": [
    {
     "data": {
      "text/plain": [
       "tensor([[[ 22.,   9.,  24.],\n",
       "         [  9.,  18.,   3.],\n",
       "         [ 24.,   3.,  12.]],\n",
       "\n",
       "        [[452., 324., 192.],\n",
       "         [324., 216.,  27.],\n",
       "         [192.,  27.,  96.]]], grad_fn=<CatBackward>)"
      ]
     },
     "execution_count": 69,
     "metadata": {},
     "output_type": "execute_result"
    }
   ],
   "source": [
    "hessian(u, var)"
   ]
  },
  {
   "cell_type": "code",
   "execution_count": null,
   "id": "portuguese-ceramic",
   "metadata": {},
   "outputs": [],
   "source": []
  }
 ],
 "metadata": {
  "kernelspec": {
   "display_name": "Python 3",
   "language": "python",
   "name": "python3"
  },
  "language_info": {
   "codemirror_mode": {
    "name": "ipython",
    "version": 3
   },
   "file_extension": ".py",
   "mimetype": "text/x-python",
   "name": "python",
   "nbconvert_exporter": "python",
   "pygments_lexer": "ipython3",
   "version": "3.8.5"
  }
 },
 "nbformat": 4,
 "nbformat_minor": 5
}
