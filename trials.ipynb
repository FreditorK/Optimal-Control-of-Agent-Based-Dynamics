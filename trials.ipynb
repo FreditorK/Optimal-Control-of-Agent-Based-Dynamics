{
 "cells": [
  {
   "cell_type": "code",
   "execution_count": 13,
   "id": "simple-kernel",
   "metadata": {},
   "outputs": [],
   "source": [
    "import torch\n",
    "import torch.nn as nn\n",
    "import numpy as np\n",
    "from torch.autograd import grad\n",
    "from torch.autograd.functional import jacobian\n",
    "from operators import Δ, div"
   ]
  },
  {
   "cell_type": "code",
   "execution_count": 10,
   "id": "broad-station",
   "metadata": {},
   "outputs": [],
   "source": [
    "var = torch.tensor([[1.0, 1.0],\n",
    "                   [4.0, 3.0]], requires_grad=True)\n",
    "t = torch.tensor([[2.0], \n",
    "                  [3.0]], requires_grad=True)\n",
    "\n",
    "var_2 = torch.tensor([[1.0],\n",
    "                   [3.0]], requires_grad=True)\n",
    "t_2 = torch.tensor([[1.0], \n",
    "                  [2.0]], requires_grad=True)\n",
    "def u(x, t):\n",
    "    xt = torch.cat((x, t), dim=1)\n",
    "    return (1/6)*torch.pow(xt[:, 0], 3) + xt[:,-1]"
   ]
  },
  {
   "cell_type": "code",
   "execution_count": 15,
   "id": "bronze-swaziland",
   "metadata": {},
   "outputs": [],
   "source": [
    "spatial_net = nn.Sequential(\n",
    "            nn.Linear(2, 4),\n",
    "            nn.ELU(),\n",
    "            nn.Linear(4, 4),\n",
    "            nn.ELU(),\n",
    "            nn.Linear(4, 1)\n",
    "        )"
   ]
  },
  {
   "cell_type": "code",
   "execution_count": 3,
   "id": "small-sheffield",
   "metadata": {},
   "outputs": [],
   "source": [
    "out = u(var, t)\n",
    "out_2 = u(var_2, t_2)"
   ]
  },
  {
   "cell_type": "code",
   "execution_count": 22,
   "id": "cloudy-instrumentation",
   "metadata": {},
   "outputs": [
    {
     "data": {
      "text/plain": [
       "tensor([[[0.0238, 0.0103],\n",
       "         [0.0376, 0.0108]]])"
      ]
     },
     "execution_count": 22,
     "metadata": {},
     "output_type": "execute_result"
    }
   ],
   "source": [
    "torch.sum(jacobian(spatial_net, var), dim=0)"
   ]
  },
  {
   "cell_type": "code",
   "execution_count": 19,
   "id": "hybrid-general",
   "metadata": {},
   "outputs": [
    {
     "data": {
      "text/plain": [
       "tensor([[0.0238, 0.0103],\n",
       "        [0.0376, 0.0108]], grad_fn=<MmBackward>)"
      ]
     },
     "execution_count": 19,
     "metadata": {},
     "output_type": "execute_result"
    }
   ],
   "source": [
    "out = spatial_net(var)\n",
    "div(out, var)"
   ]
  },
  {
   "cell_type": "code",
   "execution_count": 4,
   "id": "residential-configuration",
   "metadata": {},
   "outputs": [
    {
     "name": "stdout",
     "output_type": "stream",
     "text": [
      "tensor([[1.],\n",
      "        [1.]], grad_fn=<SliceBackward>)\n",
      "tensor([[1.],\n",
      "        [1.]], grad_fn=<SliceBackward>)\n"
     ]
    }
   ],
   "source": [
    "print(div(out.unsqueeze(1), t))\n",
    "print(div(out_2.unsqueeze(1), t_2))"
   ]
  },
  {
   "cell_type": "code",
   "execution_count": 5,
   "id": "legal-blackjack",
   "metadata": {},
   "outputs": [
    {
     "name": "stdout",
     "output_type": "stream",
     "text": [
      "tensor([[0.5000],\n",
      "        [8.0000]], grad_fn=<SliceBackward>)\n",
      "tensor([[0.5000],\n",
      "        [4.5000]], grad_fn=<SliceBackward>)\n"
     ]
    }
   ],
   "source": [
    "print(div(out.unsqueeze(1), var))\n",
    "print(div(out_2.unsqueeze(1), var_2))"
   ]
  },
  {
   "cell_type": "code",
   "execution_count": 6,
   "id": "outer-frost",
   "metadata": {},
   "outputs": [
    {
     "name": "stdout",
     "output_type": "stream",
     "text": [
      "tensor([[1.],\n",
      "        [4.]], grad_fn=<UnsqueezeBackward0>)\n",
      "tensor([[1.],\n",
      "        [3.]], grad_fn=<UnsqueezeBackward0>)\n"
     ]
    }
   ],
   "source": [
    "print(Δ(out.unsqueeze(1), var))\n",
    "print(Δ(out_2.unsqueeze(1), var_2))"
   ]
  },
  {
   "cell_type": "code",
   "execution_count": 7,
   "id": "joint-somewhere",
   "metadata": {},
   "outputs": [],
   "source": [
    "loss = torch.square(div(out, t) - Δ(out, var)).mean()"
   ]
  },
  {
   "cell_type": "code",
   "execution_count": 8,
   "id": "eleven-bandwidth",
   "metadata": {},
   "outputs": [],
   "source": [
    "loss.backward()"
   ]
  },
  {
   "cell_type": "code",
   "execution_count": 9,
   "id": "motivated-camera",
   "metadata": {},
   "outputs": [
    {
     "name": "stderr",
     "output_type": "stream",
     "text": [
      "<ipython-input-9-09a6243c8d35>:1: UserWarning: The .grad attribute of a Tensor that is not a leaf Tensor is being accessed. Its .grad attribute won't be populated during autograd.backward(). If you indeed want the gradient for a non-leaf Tensor, use .retain_grad() on the non-leaf Tensor. If you access the non-leaf Tensor by mistake, make sure you access the leaf Tensor instead. See github.com/pytorch/pytorch/pull/30531 for more informations.\n",
      "  loss.grad\n"
     ]
    }
   ],
   "source": []
  },
  {
   "cell_type": "code",
   "execution_count": null,
   "id": "yellow-highland",
   "metadata": {},
   "outputs": [],
   "source": []
  }
 ],
 "metadata": {
  "kernelspec": {
   "display_name": "Python 3",
   "language": "python",
   "name": "python3"
  },
  "language_info": {
   "codemirror_mode": {
    "name": "ipython",
    "version": 3
   },
   "file_extension": ".py",
   "mimetype": "text/x-python",
   "name": "python",
   "nbconvert_exporter": "python",
   "pygments_lexer": "ipython3",
   "version": "3.8.5"
  }
 },
 "nbformat": 4,
 "nbformat_minor": 5
}
