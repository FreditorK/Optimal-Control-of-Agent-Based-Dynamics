{
 "cells": [
  {
   "cell_type": "code",
   "execution_count": 1,
   "id": "representative-infrared",
   "metadata": {},
   "outputs": [],
   "source": [
    "import torch\n",
    "import torch.nn as nn\n",
    "import numpy as np\n",
    "from torch.autograd import grad\n",
    "from torch.autograd.functional import jacobian\n",
    "from operators import Δ, div, D"
   ]
  },
  {
   "cell_type": "code",
   "execution_count": 2,
   "id": "breeding-torture",
   "metadata": {},
   "outputs": [],
   "source": [
    "var = torch.tensor([[1.0, 1.0],\n",
    "                   [4.0, 3.0]], requires_grad=True)\n",
    "t = torch.tensor([[2.0], \n",
    "                  [3.0]], requires_grad=True)\n",
    "\n",
    "var_2 = torch.tensor([[1.0],\n",
    "                   [3.0]], requires_grad=True)\n",
    "t_2 = torch.tensor([[1.0], \n",
    "                  [2.0]], requires_grad=True)\n",
    "def u(x, t):\n",
    "    xt = torch.cat((x, t), dim=1)\n",
    "    return (1/6)*torch.pow(xt[:, 0].unsqueeze(1), 3) + xt[:,-1].unsqueeze(1)"
   ]
  },
  {
   "cell_type": "code",
   "execution_count": null,
   "id": "after-charter",
   "metadata": {},
   "outputs": [],
   "source": [
    "spatial_net = nn.Sequential(\n",
    "            nn.Linear(2, 4),\n",
    "            nn.ELU(),\n",
    "            nn.Linear(4, 4),\n",
    "            nn.ELU(),\n",
    "            nn.Linear(4, 1)\n",
    "        )"
   ]
  },
  {
   "cell_type": "code",
   "execution_count": null,
   "id": "afraid-monster",
   "metadata": {},
   "outputs": [],
   "source": [
    "out = u(var, t)\n",
    "out_2 = u(var_2, t_2)"
   ]
  },
  {
   "cell_type": "code",
   "execution_count": null,
   "id": "broadband-kitchen",
   "metadata": {},
   "outputs": [],
   "source": [
    "torch.sum(jacobian(spatial_net, var), dim=0)"
   ]
  },
  {
   "cell_type": "code",
   "execution_count": null,
   "id": "expensive-massachusetts",
   "metadata": {},
   "outputs": [],
   "source": [
    "out = spatial_net(var)\n",
    "div(out, var)"
   ]
  },
  {
   "cell_type": "code",
   "execution_count": null,
   "id": "featured-consensus",
   "metadata": {},
   "outputs": [],
   "source": [
    "print(div(out.unsqueeze(1), t))\n",
    "print(div(out_2.unsqueeze(1), t_2))"
   ]
  },
  {
   "cell_type": "code",
   "execution_count": null,
   "id": "preliminary-oklahoma",
   "metadata": {},
   "outputs": [],
   "source": [
    "print(div(out.unsqueeze(1), var))\n",
    "print(div(out_2.unsqueeze(1), var_2))"
   ]
  },
  {
   "cell_type": "code",
   "execution_count": null,
   "id": "planned-average",
   "metadata": {},
   "outputs": [],
   "source": [
    "print(Δ(out.unsqueeze(1), var))\n",
    "print(Δ(out_2.unsqueeze(1), var_2))"
   ]
  },
  {
   "cell_type": "code",
   "execution_count": null,
   "id": "sitting-glance",
   "metadata": {},
   "outputs": [],
   "source": [
    "loss = torch.square(div(out, t) - Δ(out, var)).mean()"
   ]
  },
  {
   "cell_type": "code",
   "execution_count": null,
   "id": "white-clark",
   "metadata": {},
   "outputs": [],
   "source": [
    "loss.backward()"
   ]
  },
  {
   "cell_type": "code",
   "execution_count": 2,
   "id": "demonstrated-campbell",
   "metadata": {},
   "outputs": [],
   "source": [
    "var_1 = torch.tensor([[1.0],\n",
    "                      [4.0]], requires_grad=True)\n",
    "var_2 = torch.tensor([[2.0],\n",
    "                      [8.0]], requires_grad=True)\n",
    "var = [var_1, var_2]\n",
    "C = torch.tensor([[2.0, 4.0],\n",
    "                  [1.0, 3.0]], requires_grad=True)\n",
    "def u(x, t):\n",
    "    xt = torch.cat((x, t), dim=1)\n",
    "    return (1/6)*torch.pow(xt[:, 0].unsqueeze(1), 3) + xt[:,-1].unsqueeze(1)"
   ]
  },
  {
   "cell_type": "code",
   "execution_count": 3,
   "id": "verified-lodging",
   "metadata": {},
   "outputs": [
    {
     "name": "stdout",
     "output_type": "stream",
     "text": [
      "tensor([[ 2.1667],\n",
      "        [18.6667]], grad_fn=<AddBackward0>)\n"
     ]
    }
   ],
   "source": [
    "us = u(var_1, var_2)\n",
    "print(us)"
   ]
  },
  {
   "cell_type": "code",
   "execution_count": 8,
   "id": "subjective-attribute",
   "metadata": {},
   "outputs": [
    {
     "data": {
      "text/plain": [
       "tensor([[1.],\n",
       "        [1.]], grad_fn=<AddBackward0>)"
      ]
     },
     "execution_count": 8,
     "metadata": {},
     "output_type": "execute_result"
    }
   ],
   "source": [
    "div(us, var_2)"
   ]
  },
  {
   "cell_type": "code",
   "execution_count": 3,
   "id": "sound-reverse",
   "metadata": {},
   "outputs": [],
   "source": [
    "class Infix:\n",
    "    def __init__(self, function):\n",
    "        self.function = function\n",
    "    def __ror__(self, other):\n",
    "        return Infix(lambda x, self=self, other=other: self.function(other, x))\n",
    "    def __or__(self, other):\n",
    "        return self.function(other)\n",
    "    def __rlshift__(self, other):\n",
    "        return Infix(lambda x, self=self, other=other: self.function(other, x))\n",
    "    def __rshift__(self, other):\n",
    "        return self.function(other)\n",
    "    def __call__(self, value1, value2):\n",
    "        return self.function(value1, value2)"
   ]
  },
  {
   "cell_type": "code",
   "execution_count": 20,
   "id": "irish-affect",
   "metadata": {},
   "outputs": [],
   "source": [
    "def m_func(x, y):\n",
    "    if isinstance(x, list):\n",
    "        x = torch.cat(x, dim=-1)   \n",
    "        return torch.einsum(\"bi, ij -> bj\", x, y)\n",
    "    y = torch.cat(y, dim=-1)\n",
    "    return torch.einsum(\"ij, bj -> bi\", x, y)\n",
    "        \n",
    "def v_func(x, y):\n",
    "    if isinstance(x, list):\n",
    "        x = torch.cat(x, dim=-1)\n",
    "    if isinstance(y, list):\n",
    "        y = torch.cat(y, dim=-1)\n",
    "    \n",
    "    return torch.einsum(\"bi, bi -> b\", x, y).unsqueeze(1)\n",
    "    \n",
    "        "
   ]
  },
  {
   "cell_type": "code",
   "execution_count": 28,
   "id": "hindu-mason",
   "metadata": {},
   "outputs": [],
   "source": [
    "mdot = Infix(m_func)\n",
    "vdot = Infix(v_func)\n",
    "var_1 = torch.tensor([[1.0],\n",
    "                      [4.0],\n",
    "                      [4.0]], requires_grad=True)\n",
    "var_2 = torch.tensor([[2.0],\n",
    "                      [8.0],\n",
    "                      [3.0]], requires_grad=True)\n",
    "var = [var_1, var_2]\n",
    "C = Matrix([[2.0, 4.0],\n",
    "            [1.0, 3.0]], requires_grad=True)"
   ]
  },
  {
   "cell_type": "code",
   "execution_count": 31,
   "id": "floppy-burns",
   "metadata": {},
   "outputs": [
    {
     "data": {
      "text/plain": [
       "tensor([[ 24.],\n",
       "        [384.],\n",
       "        [119.]], grad_fn=<AliasBackward>)"
      ]
     },
     "execution_count": 31,
     "metadata": {},
     "output_type": "execute_result"
    }
   ],
   "source": [
    "var |vdot| (C |mdot| var)"
   ]
  },
  {
   "cell_type": "code",
   "execution_count": 18,
   "id": "third-tourist",
   "metadata": {},
   "outputs": [
    {
     "ename": "SyntaxError",
     "evalue": "invalid syntax (<ipython-input-18-4794d02002b1>, line 1)",
     "output_type": "error",
     "traceback": [
      "\u001b[0;36m  File \u001b[0;32m\"<ipython-input-18-4794d02002b1>\"\u001b[0;36m, line \u001b[0;32m1\u001b[0m\n\u001b[0;31m    sum((, 2))\u001b[0m\n\u001b[0m         ^\u001b[0m\n\u001b[0;31mSyntaxError\u001b[0m\u001b[0;31m:\u001b[0m invalid syntax\n"
     ]
    }
   ],
   "source": [
    "sum((, 2))"
   ]
  },
  {
   "cell_type": "code",
   "execution_count": null,
   "id": "italic-vehicle",
   "metadata": {},
   "outputs": [],
   "source": []
  }
 ],
 "metadata": {
  "kernelspec": {
   "display_name": "Python 3",
   "language": "python",
   "name": "python3"
  },
  "language_info": {
   "codemirror_mode": {
    "name": "ipython",
    "version": 3
   },
   "file_extension": ".py",
   "mimetype": "text/x-python",
   "name": "python",
   "nbconvert_exporter": "python",
   "pygments_lexer": "ipython3",
   "version": "3.8.5"
  }
 },
 "nbformat": 4,
 "nbformat_minor": 5
}
