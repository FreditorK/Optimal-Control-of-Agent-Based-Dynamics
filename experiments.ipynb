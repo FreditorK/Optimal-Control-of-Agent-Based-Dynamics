{
 "cells": [
  {
   "cell_type": "code",
   "execution_count": 1,
   "id": "working-scenario",
   "metadata": {},
   "outputs": [],
   "source": [
    "import torch\n",
    "import numpy as np\n",
    "from torch.autograd import grad\n",
    "from torch.autograd.functional import hessian, jacobian"
   ]
  },
  {
   "cell_type": "code",
   "execution_count": 2,
   "id": "prescription-sunday",
   "metadata": {},
   "outputs": [],
   "source": [
    "var = torch.tensor([[5.0, 2.0, 3.0],\n",
    "                   [8.0, 4.0, 4.0]], requires_grad=True)\n",
    "t = torch.tensor([[5.0]], requires_grad=True)\n",
    "u = lambda x, t: torch.exp(x[:, 0]) + (1/6)*torch.pow(x[:, 1], 3)"
   ]
  },
  {
   "cell_type": "code",
   "execution_count": 3,
   "id": "working-british",
   "metadata": {},
   "outputs": [
    {
     "data": {
      "text/plain": [
       "tensor([ 150.4132, 2988.9580])"
      ]
     },
     "execution_count": 3,
     "metadata": {},
     "output_type": "execute_result"
    }
   ],
   "source": [
    "out = u(var, t)\n",
    "div = torch.sum(grad(outputs=out, inputs=var, grad_outputs=torch.ones_like(out))[0], dim=-1)\n",
    "div"
   ]
  },
  {
   "cell_type": "code",
   "execution_count": 4,
   "id": "imperial-headline",
   "metadata": {},
   "outputs": [
    {
     "data": {
      "text/plain": [
       "tensor([ 149.7465, 2991.6248], grad_fn=<AddBackward0>)"
      ]
     },
     "execution_count": 4,
     "metadata": {},
     "output_type": "execute_result"
    }
   ],
   "source": [
    "out = u(var, t)\n",
    "out"
   ]
  },
  {
   "cell_type": "code",
   "execution_count": 5,
   "id": "infinite-metallic",
   "metadata": {},
   "outputs": [],
   "source": [
    "def Δ(u, vars):\n",
    "    u_gradient = grad(outputs=u, inputs=vars, grad_outputs=torch.ones_like(u), create_graph=True)[0]\n",
    "    u_laplacian = torch.sum([grad(u_gradient_i, vars_i, create_graph=True) for u_gradient_i, vars_i in zip(vars, u_gradient)])\n",
    "    return u_laplacian"
   ]
  },
  {
   "cell_type": "code",
   "execution_count": 6,
   "id": "spread-carter",
   "metadata": {},
   "outputs": [
    {
     "data": {
      "text/plain": [
       "'u_gradient = grad(outputs=out, inputs=var, grad_outputs=torch.ones_like(out), create_graph=True)[0]\\nu_gradient = u_gradient.flatten(start_dim=1)\\nvar = var.flatten()\\n[grad(u_gradient_i, vars_i, create_graph=True)[0] for u_gradient_i, vars_i in zip(var[:], (u_gradient[..., i] for i in range(len(var))))]'"
      ]
     },
     "execution_count": 6,
     "metadata": {},
     "output_type": "execute_result"
    }
   ],
   "source": [
    "'''u_gradient = grad(outputs=out, inputs=var, grad_outputs=torch.ones_like(out), create_graph=True)[0]\n",
    "u_gradient = u_gradient.flatten(start_dim=1)\n",
    "var = var.flatten()\n",
    "[grad(u_gradient_i, vars_i, create_graph=True)[0] for u_gradient_i, vars_i in zip(var[:], (u_gradient[..., i] for i in range(len(var))))]'''"
   ]
  },
  {
   "cell_type": "code",
   "execution_count": 7,
   "id": "after-fight",
   "metadata": {},
   "outputs": [],
   "source": [
    "def laplace(fx: torch.Tensor, x: torch.Tensor):\n",
    "    dfx = torch.autograd.grad(fx, x, create_graph=True, grad_outputs=torch.ones_like(fx))[0]\n",
    "    vec = torch.ones_like(dfx)\n",
    "    ddfx = torch.autograd.grad(dfx, x, grad_outputs=vec)[0]\n",
    "    return ddfx"
   ]
  },
  {
   "cell_type": "code",
   "execution_count": 8,
   "id": "pleasant-parade",
   "metadata": {},
   "outputs": [
    {
     "name": "stdout",
     "output_type": "stream",
     "text": [
      "torch.Size([2, 1]) torch.Size([2, 3])\n",
      "torch.Size([2, 3])\n",
      "torch.Size([2, 3])\n",
      "torch.Size([2, 1])\n"
     ]
    },
    {
     "data": {
      "text/plain": [
       "tensor([[ 150.4132],\n",
       "        [2984.9580]], grad_fn=<UnsqueezeBackward0>)"
      ]
     },
     "execution_count": 8,
     "metadata": {},
     "output_type": "execute_result"
    }
   ],
   "source": [
    "from operators import Δ\n",
    "Δ(out.unsqueeze(1), var)"
   ]
  },
  {
   "cell_type": "code",
   "execution_count": null,
   "id": "received-announcement",
   "metadata": {},
   "outputs": [],
   "source": []
  },
  {
   "cell_type": "code",
   "execution_count": null,
   "id": "commercial-region",
   "metadata": {},
   "outputs": [],
   "source": []
  },
  {
   "cell_type": "code",
   "execution_count": null,
   "id": "unknown-bookmark",
   "metadata": {},
   "outputs": [],
   "source": []
  }
 ],
 "metadata": {
  "kernelspec": {
   "display_name": "Python 3",
   "language": "python",
   "name": "python3"
  },
  "language_info": {
   "codemirror_mode": {
    "name": "ipython",
    "version": 3
   },
   "file_extension": ".py",
   "mimetype": "text/x-python",
   "name": "python",
   "nbconvert_exporter": "python",
   "pygments_lexer": "ipython3",
   "version": "3.8.5"
  }
 },
 "nbformat": 4,
 "nbformat_minor": 5
}
