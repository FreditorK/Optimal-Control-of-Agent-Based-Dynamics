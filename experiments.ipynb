{
 "cells": [
  {
   "cell_type": "code",
   "execution_count": 1,
   "id": "endless-inspiration",
   "metadata": {},
   "outputs": [],
   "source": [
    "import torch\n",
    "import numpy as np\n",
    "from torch.autograd import grad\n",
    "from torch.autograd.functional import hessian, jacobian"
   ]
  },
  {
   "cell_type": "code",
   "execution_count": 2,
   "id": "ecological-copper",
   "metadata": {},
   "outputs": [],
   "source": [
    "var = torch.tensor([[[5.0],\n",
    "                    [2.0],\n",
    "                    [3.0]]], requires_grad=True)\n",
    "t = torch.tensor([[[5.0]]], requires_grad=True)\n",
    "u = lambda x, t: torch.exp(x[:, 0]) + (1/6)*torch.pow(x[:, 1], 3)"
   ]
  },
  {
   "cell_type": "code",
   "execution_count": 3,
   "id": "unlike-binary",
   "metadata": {},
   "outputs": [],
   "source": [
    "#out = u(var, t)\n",
    "#div = torch.sum(grad(outputs=out, inputs=var, grad_outputs=torch.ones_like(out))[0], dim=-2)"
   ]
  },
  {
   "cell_type": "code",
   "execution_count": 4,
   "id": "featured-hypothetical",
   "metadata": {},
   "outputs": [
    {
     "data": {
      "text/plain": [
       "tensor([[149.7465]], grad_fn=<AddBackward0>)"
      ]
     },
     "execution_count": 4,
     "metadata": {},
     "output_type": "execute_result"
    }
   ],
   "source": [
    "out = u(var, t)\n",
    "out"
   ]
  },
  {
   "cell_type": "code",
   "execution_count": 5,
   "id": "prepared-thumbnail",
   "metadata": {},
   "outputs": [],
   "source": [
    "def Δ(u, vars):\n",
    "    u_gradient = grad(outputs=u, inputs=vars, grad_outputs=torch.ones_like(u), create_graph=True)[0]\n",
    "    u_laplacian = torch.sum([grad(u_gradient_i, vars_i, create_graph=True) for u_gradient_i, vars_i in zip(vars, u_gradient)])\n",
    "    return u_laplacian"
   ]
  },
  {
   "cell_type": "code",
   "execution_count": 6,
   "id": "cognitive-boating",
   "metadata": {},
   "outputs": [
    {
     "data": {
      "text/plain": [
       "'u_gradient = grad(outputs=out, inputs=var, grad_outputs=torch.ones_like(out), create_graph=True)[0]\\nu_gradient = u_gradient.flatten(start_dim=1)\\nvar = var.flatten()\\n[grad(u_gradient_i, vars_i, create_graph=True)[0] for u_gradient_i, vars_i in zip(var[:], (u_gradient[..., i] for i in range(len(var))))]'"
      ]
     },
     "execution_count": 6,
     "metadata": {},
     "output_type": "execute_result"
    }
   ],
   "source": [
    "'''u_gradient = grad(outputs=out, inputs=var, grad_outputs=torch.ones_like(out), create_graph=True)[0]\n",
    "u_gradient = u_gradient.flatten(start_dim=1)\n",
    "var = var.flatten()\n",
    "[grad(u_gradient_i, vars_i, create_graph=True)[0] for u_gradient_i, vars_i in zip(var[:], (u_gradient[..., i] for i in range(len(var))))]'''"
   ]
  },
  {
   "cell_type": "code",
   "execution_count": 9,
   "id": "thrown-drink",
   "metadata": {},
   "outputs": [],
   "source": [
    "def laplace(fx: torch.Tensor, x: torch.Tensor):\n",
    "    dfx = torch.autograd.grad(fx, x, create_graph=True)[0]\n",
    "    vec = torch.ones_like(dfx)\n",
    "    ddfx = torch.autograd.grad(dfx, x, create_graph=True, grad_outputs=vec)[0]\n",
    "    return torch.sum(ddfx, dim=-2)"
   ]
  },
  {
   "cell_type": "code",
   "execution_count": 10,
   "id": "afraid-exercise",
   "metadata": {},
   "outputs": [
    {
     "data": {
      "text/plain": [
       "tensor([[150.4132]], grad_fn=<SumBackward1>)"
      ]
     },
     "execution_count": 10,
     "metadata": {},
     "output_type": "execute_result"
    }
   ],
   "source": [
    "laplace(out, var)"
   ]
  },
  {
   "cell_type": "code",
   "execution_count": null,
   "id": "standard-yacht",
   "metadata": {},
   "outputs": [],
   "source": []
  },
  {
   "cell_type": "code",
   "execution_count": null,
   "id": "indian-military",
   "metadata": {},
   "outputs": [],
   "source": []
  },
  {
   "cell_type": "code",
   "execution_count": null,
   "id": "opening-vienna",
   "metadata": {},
   "outputs": [],
   "source": []
  }
 ],
 "metadata": {
  "kernelspec": {
   "display_name": "Python 3",
   "language": "python",
   "name": "python3"
  },
  "language_info": {
   "codemirror_mode": {
    "name": "ipython",
    "version": 3
   },
   "file_extension": ".py",
   "mimetype": "text/x-python",
   "name": "python",
   "nbconvert_exporter": "python",
   "pygments_lexer": "ipython3",
   "version": "3.8.5"
  }
 },
 "nbformat": 4,
 "nbformat_minor": 5
}
