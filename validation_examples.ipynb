{
 "cells": [
  {
   "cell_type": "markdown",
   "id": "banned-hebrew",
   "metadata": {},
   "source": [
    "# Validation Examples\n",
    "#### Frederik Kelbel, Imperial College London"
   ]
  },
  {
   "cell_type": "markdown",
   "id": "incident-creation",
   "metadata": {},
   "source": [
    "## Dependencies"
   ]
  },
  {
   "cell_type": "code",
   "execution_count": null,
   "id": "small-realtor",
   "metadata": {},
   "outputs": [],
   "source": [
    "import torch\n",
    "import plotly.graph_objects as go\n",
    "import numpy as np\n",
    "from operators import div, Δ, D, mdotb, bdotm, mdotm, bdotb\n",
    "from DGM import DeepPDESolver\n",
    "from pdes import PDE\n",
    "from scipy.integrate import quad\n",
    "from plotly.subplots import make_subplots\n",
    "from configs import CONFIG_PARABOLIC_PDES as MODEL_CONFIG"
   ]
  },
  {
   "cell_type": "markdown",
   "id": "deadly-civilian",
   "metadata": {},
   "source": [
    "## Plotting"
   ]
  },
  {
   "cell_type": "code",
   "execution_count": null,
   "id": "chief-smell",
   "metadata": {},
   "outputs": [],
   "source": [
    "def plot_losses(losses, avg_over=10):\n",
    "    avgs = np.convolve(losses, np.ones(avg_over), 'valid') / avg_over\n",
    "    fig = make_subplots(rows=1, cols=1)\n",
    "    fig.add_trace(go.Scatter(x=np.arange(len(avgs)), y=avgs, mode='lines', name=\"Error at x=0.1\"), row=1, col=1)\n",
    "    fig.update_layout(\n",
    "        title=\"Loss\",\n",
    "        xaxis_title=\"Iterations\",\n",
    "        yaxis_title=\"Loss\",\n",
    "        font=dict(\n",
    "            family=\"Courier New, monospace\",\n",
    "            size=14\n",
    "        )\n",
    "    )\n",
    "    fig.show()\n",
    "    \n",
    "def plot_1D_functions(solver, sol):\n",
    "    fig = make_subplots(rows=1, cols=2, \n",
    "                   specs=[[{'type': 'surface'}, {'type': 'surface'}]])\n",
    "    xs = np.linspace(0, 1, 100)\n",
    "    ts = np.linspace(0.01, 1, 100)\n",
    "    us_pred = np.array([[solver.u(x, t).item() for x in xs] for t in ts])\n",
    "    us = np.array([[sol(x, t) for x in xs] for t in ts])\n",
    "    x_mesh, t_mesh = np.meshgrid(xs, ts)\n",
    "    fig.add_trace(go.Surface(z=us, showscale=False), row=1, col=1)\n",
    "    fig.add_trace(go.Surface(z=us_pred), row=1, col=2)\n",
    "    fig.update_layout(title='Solution | Approximation',\n",
    "                  scene = dict(\n",
    "                    xaxis_title=\"t\",\n",
    "                    yaxis_title=\"x\",\n",
    "                    zaxis_title=\"u(x, t)\"),\n",
    "                  scene2 = dict(\n",
    "                    xaxis_title=\"t\",\n",
    "                    yaxis_title=\"x\",\n",
    "                    zaxis_title=\"u(x, t)\"),\n",
    "                  margin=dict(l=50, r=50, b=50, t=50))\n",
    "    fig.show()"
   ]
  },
  {
   "cell_type": "markdown",
   "id": "animal-liechtenstein",
   "metadata": {},
   "source": [
    "## Partial Differential Equations"
   ]
  },
  {
   "cell_type": "markdown",
   "id": "equipped-macro",
   "metadata": {},
   "source": [
    "### Poisson Equation:\n",
    "$$\n",
    "\\begin{cases}\n",
    "-\\Delta u = f \\quad & \\text{in } [0, 1]^2\\\\\n",
    "u = g \\quad & \\text{on } \\partial[0, 1]^2\n",
    "\\end{cases}\n",
    "$$"
   ]
  },
  {
   "cell_type": "code",
   "execution_count": null,
   "id": "generous-volunteer",
   "metadata": {},
   "outputs": [],
   "source": [
    "class POISSON(PDE):\n",
    "    def __init__(self):\n",
    "        super().__init__()\n",
    "        self.f = lambda var: 2#(16*np.pi**2*(var[1]-1)**2*var[1]**2-2*(var[1]-1)**2-8*(var[1]-1)*var[1]-2*var[1]**2)*torch.sin(4*np.pi*var[0])\n",
    "        self.g = lambda var: 0\n",
    "        boundary_batch = 64\n",
    "        def boundary(var):\n",
    "            k = int(boundary_batch/4)\n",
    "            var[0][:k] = 1\n",
    "            var[0][k:2*k] = -1\n",
    "            var[1][2*k:3*k] = 1\n",
    "            var[1][3*k:] = -1\n",
    "            \n",
    "            var[0][0:4] = 1\n",
    "            var[1][0:4] = 1\n",
    "            var[0][k:k+2] = -1\n",
    "            var[1][k:k+2] = 1\n",
    "            var[0][2*k:2*k+2] = 1\n",
    "            var[1][2*k:2*k+2] = -1\n",
    "            var[0][3*k:3*k+2] = -1\n",
    "            var[1][3*k:3*k+2] = -1\n",
    "            return var\n",
    "            \n",
    "        self.var_dim = 2 # var = (x, t)\n",
    "        self.equation = lambda u, var: -Δ(u, var) -self.f(var) # -div(div(u, var[0]), var[0]) -div(div(u, var[1]), var[1]) \n",
    "        self.domain_func = [(lambda var: [(var[0]-0.5)*2, (var[1]-0.5)*2], 128)]\n",
    "        self.boundary_cond = [lambda u, var: u -self.g(var)]\n",
    "        self.boundary_func = [(lambda var: boundary(var), boundary_batch)]\n",
    "       "
   ]
  },
  {
   "cell_type": "code",
   "execution_count": null,
   "id": "centered-horror",
   "metadata": {},
   "outputs": [],
   "source": [
    " POiSSON_MODEL_CONFIG = {\n",
    "    \"hidden_dim\": 64,\n",
    "    \"learning_rate\": 5e-3,\n",
    "    \"loss_weights\": (1, 50),\n",
    "    \"sampling_method\": \"uniform\",\n",
    "    \"lr_decay\": 0.99,\n",
    "    \"network_type\": \"FF\",\n",
    "    \"optimiser\": \"Adam\",\n",
    "     \"method\": \"Galerkin\"\n",
    "}\n",
    "eq = POISSON()\n",
    "model = POiSSON_MODEL_CONFIG\n",
    "solver = DeepPDESolver(model, eq)\n",
    "losses = list(solver.train(1000))\n",
    "plot_losses(losses)"
   ]
  },
  {
   "cell_type": "code",
   "execution_count": null,
   "id": "electoral-authorization",
   "metadata": {},
   "outputs": [],
   "source": [
    "fig = make_subplots(rows=1, cols=1, specs=[[{'type': 'surface'}]])\n",
    "xs = np.linspace(-1, 1, 100)\n",
    "ys = np.linspace(-1, 1, 100)\n",
    "us_pred = np.array([[solver.u(x, y).item() for x in xs] for y in ys])\n",
    "us = us_pred #np.array([[sol(x, t) for x in xs] for t in ts])\n",
    "x_mesh, y_mesh = np.meshgrid(xs, ys)\n",
    "fig.add_trace(go.Surface(x=ys, y=xs, z=us, showscale=False), row=1, col=1)\n",
    "#fig.add_trace(go.Surface(x=ys, y=xs, z=us_pred), row=1, col=2)\n",
    "fig.update_layout(title='Solution | Approximation',\n",
    "                  scene = dict(\n",
    "                    xaxis_title=\"y\",\n",
    "                    yaxis_title=\"x\",\n",
    "                    zaxis_title=\"u(x, t)\"),\n",
    "                  scene2 = dict(\n",
    "                    xaxis_title=\"y\",\n",
    "                    yaxis_title=\"x\",\n",
    "                    zaxis_title=\"u(x, t)\"),\n",
    "                  margin=dict(l=50, r=50, b=50, t=50))\n",
    "fig.show()"
   ]
  },
  {
   "cell_type": "markdown",
   "id": "forbidden-logistics",
   "metadata": {},
   "source": [
    "### Nonhomogeneous Transport:\n",
    "$$\n",
    "\\begin{cases}\n",
    "u_t + b (\\nabla \\cdot u) = f \\quad & \\text{in } [0, 1]^\\texttt{x_dim=1} \\times [0, 1]\\\\\n",
    "u = g \\quad & \\text{on } [0, 1]^\\texttt{x_dim=1} \\times {t=0}\n",
    "\\end{cases}\n",
    "$$"
   ]
  },
  {
   "cell_type": "code",
   "execution_count": null,
   "id": "honey-windsor",
   "metadata": {},
   "outputs": [],
   "source": [
    "class TRANSPORT(PDE):\n",
    "    def __init__(self):\n",
    "        super().__init__()\n",
    "        self.b = 0.3\n",
    "        self.f = lambda x, t: 2*t + x*t\n",
    "        self.g = lambda x: x\n",
    "        self.var_dim = 2 # var = (x, t)\n",
    "        self.equation = lambda u, var: div(u, var[1]) + self.b * div(u, var[0]) - self.f(var[0], var[1])\n",
    "        self.domain_func = [(lambda var: var, 64)]\n",
    "        self.boundary_cond = [lambda u, var: u -self.g(var[0])]\n",
    "        self.boundary_func = [(lambda var: [var[0], var[1]*0], 64)]\n",
    "        "
   ]
  },
  {
   "cell_type": "code",
   "execution_count": null,
   "id": "caroline-article",
   "metadata": {},
   "outputs": [],
   "source": [
    "eq = TRANSPORT()\n",
    "model = MODEL_CONFIG\n",
    "solver = DeepPDESolver(model, eq)\n",
    "losses = list(solver.train(200))\n",
    "plot_losses(losses)"
   ]
  },
  {
   "cell_type": "code",
   "execution_count": null,
   "id": "agricultural-annual",
   "metadata": {},
   "outputs": [],
   "source": [
    "if eq.var_dim == 2:\n",
    "    f = lambda s, x, t, b: eq.f(x+(s-t)*b, s)\n",
    "    Transport_sol =\\\n",
    "        lambda x, t: eq.g(x-eq.b*t) + quad(f, 0, t, args=(x, t, eq.b))[0]\n",
    "    plot_1D_functions(solver, Transport_sol)"
   ]
  },
  {
   "cell_type": "markdown",
   "id": "controlling-helmet",
   "metadata": {},
   "source": [
    "### Inviscid Burger's Equation:\n",
    "$$\n",
    "\\begin{cases}\n",
    "u_t + u (\\nabla \\cdot u) = 0 \\quad & \\text{in } [0, 1]^\\texttt{x_dim=1} \\times [0, 1]\\\\\n",
    "u = g \\quad & \\text{on } [0, 1]^\\texttt{x_dim=1} \\times {t=0}\n",
    "\\end{cases}\n",
    "$$"
   ]
  },
  {
   "cell_type": "code",
   "execution_count": null,
   "id": "trained-renewal",
   "metadata": {},
   "outputs": [],
   "source": [
    "class INVISCID_BURGERS(PDE):\n",
    "    def __init__(self):\n",
    "        super().__init__()\n",
    "        self.var_dim = 2 # var = (x, t)\n",
    "        self.equation = lambda u, var: div(u, var[1]) + u * div(u, var[0])\n",
    "        self.domain_func = [(lambda var: var, 64)]\n",
    "        self.boundary_cond = [lambda u, var: u - var[0]]\n",
    "        self.boundary_func = [(lambda var: [var[0], var[1]*0], 64)]"
   ]
  },
  {
   "cell_type": "code",
   "execution_count": null,
   "id": "guided-vision",
   "metadata": {},
   "outputs": [],
   "source": [
    "eq = INVISCID_BURGERS()\n",
    "model = MODEL_CONFIG\n",
    "solver = DeepPDESolver(model, eq)\n",
    "losses = list(solver.train(300))\n",
    "plot_losses(losses)"
   ]
  },
  {
   "cell_type": "code",
   "execution_count": null,
   "id": "incredible-carpet",
   "metadata": {},
   "outputs": [],
   "source": [
    "if eq.var_dim==2:\n",
    "    INVISCID_BURGERS_sol = lambda x, t: x / (1 + t)\n",
    "    plot_1D_functions(solver, INVISCID_BURGERS_sol)"
   ]
  },
  {
   "cell_type": "markdown",
   "id": "backed-postcard",
   "metadata": {},
   "source": [
    "### Diffusion Advection Equation:\n",
    "$$\n",
    "\\begin{cases}\n",
    "u_t + a u_x - b \\Delta u = 0 \\quad & \\text{in } [0, 1]^{\\texttt{x_dim}=1} \\times [0, 1]\\\\\n",
    "u = \\exp\\Big( -\\frac{(x-1)^2}{b}\\Big) \\quad & \\text{on } [0, 1]^{\\texttt{x_dim}=1} \\times {t=0} \\\\\n",
    "u = \\frac{1}{\\sqrt{4t+1}} \\exp\\Big(-\\frac{(x-1-at)^2}{b(4t+1)} \\Big) \\quad & \\text{on } \\{0, 1\\}^{\\texttt{x_dim}=1}\\times [0, 1]\n",
    "\\end{cases}\n",
    "$$"
   ]
  },
  {
   "cell_type": "code",
   "execution_count": null,
   "id": "spiritual-pharmaceutical",
   "metadata": {},
   "outputs": [],
   "source": [
    "class HEAT(PDE):\n",
    "    def __init__(self):\n",
    "        super().__init__()\n",
    "        self.a = 0.01\n",
    "        self.b = 10\n",
    "        self.var_dim = 2\n",
    "        self.equation = lambda u, var: div(u, var[1]) + self.a * div(u, var[0]) - self.b * Δ(u, var[0])\n",
    "        self.domain_func = [(lambda var: var, 64)]\n",
    "        self.boundary_cond = [lambda u, var: u - 1/torch.sqrt(4*var[1]+1)*torch.exp(-(var[0]-1-self.a*var[0])**2/(self.b*(4*var[1]+1))),\n",
    "                             lambda u, var: u - torch.exp(-(var[0]-1)**2/self.b)]\n",
    "        self.boundary_func = [(lambda var: [torch.where(var[0] > 0.5, 1.0, 0.0), var[1]], 16),\n",
    "                             (lambda var: [var[0], var[1]*0], 16)]"
   ]
  },
  {
   "cell_type": "code",
   "execution_count": null,
   "id": "organized-sudan",
   "metadata": {},
   "outputs": [],
   "source": [
    "HEAT_MODEL_CONFIG = {\n",
    "    \"hidden_dim\": 128,\n",
    "    \"learning_rate\": 5e-3,\n",
    "    \"loss_weights\": (1, 3),\n",
    "    \"sampling_method\": \"uniform\",\n",
    "    \"lr_decay\": 0.98,\n",
    "    \"network_type\": \"GRU\",\n",
    "    \"optimiser\": \"Adam\",\n",
    "    \"method\": \"Galerkin\"\n",
    "}\n",
    "eq = HEAT()\n",
    "model = HEAT_MODEL_CONFIG\n",
    "solver = DeepPDESolver(model, eq)\n",
    "losses = list(solver.train(600))\n",
    "plot_losses(losses)"
   ]
  },
  {
   "cell_type": "code",
   "execution_count": null,
   "id": "rental-seven",
   "metadata": {},
   "outputs": [],
   "source": [
    "if eq.var_dim == 2:\n",
    "    HEAT_sol = lambda x, t: 1/np.sqrt(4*t+1)*np.exp(-(x-1-eq.a*t)**2/(eq.b*(4*t+1)))\n",
    "    plot_1D_functions(solver, HEAT_sol)"
   ]
  },
  {
   "cell_type": "markdown",
   "id": "liberal-toolbox",
   "metadata": {},
   "source": [
    "### Transport Equation in 2D:\n",
    "$$\n",
    "\\begin{cases}\n",
    "u_t + y u_x - x u_y = 0 \\quad & \\text{in } [0, 1]^\\texttt{2} \\times [0, 1]\\\\\n",
    "u = \\exp(-(x-1)^2 -(y-1)^2) \\quad & \\text{on } [0, 1]^\\texttt{2} \\times {t=0}\n",
    "\\end{cases}\n",
    "$$"
   ]
  },
  {
   "cell_type": "code",
   "execution_count": null,
   "id": "reverse-venezuela",
   "metadata": {},
   "outputs": [],
   "source": [
    "class TRANSPORT2D(PDE):\n",
    "    def __init__(self):\n",
    "        super().__init__()\n",
    "        self.var_dim = 3 # var = (x, y, t)\n",
    "        self.equation = lambda u, var: div(u, var[2]) + var[1]*div(u, var[0]) - var[0]*div(u, var[1]) \n",
    "        self.domain_func = [(lambda var: var, 128)]\n",
    "        self.boundary_cond = [lambda u, var: u -torch.exp(-(var[0]-1)**2-(var[1]-1)**2)]\n",
    "        self.boundary_func = [(lambda var: var[0:2] + [var[1]*0], 32)]\n",
    "      "
   ]
  },
  {
   "cell_type": "code",
   "execution_count": null,
   "id": "statutory-outside",
   "metadata": {},
   "outputs": [],
   "source": [
    "TRANSPORT2D_MODEL_CONFIG = {\n",
    "    \"hidden_dim\": 64,\n",
    "    \"learning_rate\": 5e-3,\n",
    "    \"loss_weights\": (2, 1),\n",
    "    \"sampling_method\": \"uniform\",\n",
    "    \"lr_decay\": 0.98,\n",
    "    \"network_type\": \"GRU\",\n",
    "    \"optimiser\": \"Adam\",\n",
    "    \"method\": \"Galerkin\"\n",
    "}\n",
    "eq = TRANSPORT2D()\n",
    "model = TRANSPORT2D_MODEL_CONFIG\n",
    "solver = DeepPDESolver(model, eq)\n",
    "losses = list(solver.train(900))\n",
    "plot_losses(losses)"
   ]
  },
  {
   "cell_type": "code",
   "execution_count": null,
   "id": "toxic-driving",
   "metadata": {},
   "outputs": [],
   "source": [
    "TRANSPORT2D_sol = lambda x, y, t: np.exp(-(x**2+y**2)+2*(x+y)*np.cos(t)+2*(x-y)*np.sin(t)-2)\n",
    "domain_error = np.sum([[[np.abs(solver.u(x, y, t).item()-TRANSPORT2D_sol(x, y, t)) for x in np.linspace(0, 1, 50)] for y in np.linspace(0, 1, 50)] for t in np.linspace(0.01, 1,10)], axis=0)"
   ]
  },
  {
   "cell_type": "code",
   "execution_count": null,
   "id": "heard-moisture",
   "metadata": {},
   "outputs": [],
   "source": [
    "fig = make_subplots(rows=1, cols=1, specs=[[{'type': 'heatmap'}]])\n",
    "fig.add_trace(go.Heatmap(z=domain_error, coloraxis = \"coloraxis\", zsmooth='best'), row=1, col=1)\n",
    "fig.update_layout(title='Error density',\n",
    "                  coloraxis = {'colorscale':'Viridis'},\n",
    "                  xaxis_title=\"x\",\n",
    "                  yaxis_title=\"y\",\n",
    "                  margin=dict(l=20, r=20, b=20, t=50))\n",
    "fig.show()"
   ]
  },
  {
   "cell_type": "markdown",
   "id": "religious-christian",
   "metadata": {},
   "source": [
    "Algebraic Riccati Equation grows to quickly in dimensions. For 10-dim control output, we solve a 100-dim equation."
   ]
  },
  {
   "cell_type": "markdown",
   "id": "desperate-performance",
   "metadata": {},
   "source": [
    "### Fokker-Planck Equation for the OU Process:\n",
    "$$\n",
    "\\begin{cases}\n",
    "\\partial_t p + k p + k(x-\\mu) \\partial_x p - \\frac{1}{2} \\sigma^2 \\partial_{xx} p = 0 \\quad [-4, 4] \\times [0, 1] \\\\\n",
    "p(0, x) = \\delta(x - x_0) \\approx \\lim_{a \\rightarrow 0}\\frac{1}{|a| \\sqrt{\\pi}} e^{-(\\frac{x-x_0}{a})^2} \\quad & \\text{on } [-4, 4] \\times {t=0} \\\\\n",
    "\\end{cases}\n",
    "$$"
   ]
  },
  {
   "cell_type": "markdown",
   "id": "severe-jenny",
   "metadata": {},
   "source": [
    "Notes: Exponentiating assumes to much knowledge. PIADGM paper is cheating. GRUNetwork performs better for some reason."
   ]
  },
  {
   "cell_type": "code",
   "execution_count": null,
   "id": "future-northeast",
   "metadata": {},
   "outputs": [],
   "source": [
    "class OUPROCESS(PDE):\n",
    "    def __init__(self):\n",
    "        super().__init__()\n",
    "        self.mu = 0.5\n",
    "        self.sigma = 2.0\n",
    "        self.k = 0.0\n",
    "        a = 0.1\n",
    "        self.var_dim = 2 # var = (x, t)   \n",
    "        self.equation = lambda p, var: div(p, var[1]) + self.k*p + self.k*(var[0]-self.mu)*div(p, var[0])-(1/2)*self.sigma**2*Δ(p, var[0])\n",
    "        self.domain_func = [(lambda var: [8*var[0]-4, var[1]], 64)]\n",
    "        self.boundary_cond = [lambda p, var: p -(1/np.sqrt(2*np.pi*a))*torch.exp(-(var[0]**2/(2*a)))]\n",
    "        self.boundary_func = [(lambda var: [8*var[0]-4, 0*var[1]], 64)]"
   ]
  },
  {
   "cell_type": "code",
   "execution_count": null,
   "id": "grand-mechanism",
   "metadata": {},
   "outputs": [],
   "source": [
    "CONFIG_OU = {\n",
    "    \"hidden_dim\": 64,\n",
    "    \"learning_rate\": 5e-3,\n",
    "    \"loss_weights\": (1.5, 1),\n",
    "    \"lr_decay\": 0.99,\n",
    "    \"sampling_method\": \"uniform\",\n",
    "    \"network_type\": \"DENS\",\n",
    "    \"optimiser\": \"Adam\",\n",
    "    \"method\": \"Galerkin\"\n",
    "}\n",
    "eq = OUPROCESS()\n",
    "model = CONFIG_OU\n",
    "solver = DeepPDESolver(model, eq)\n",
    "losses = list(solver.train(1000))\n",
    "plot_losses(losses)"
   ]
  },
  {
   "cell_type": "code",
   "execution_count": null,
   "id": "announced-mount",
   "metadata": {},
   "outputs": [],
   "source": [
    "fig = make_subplots(rows=1, cols=1, specs=[[{'type': 'surface'}]])\n",
    "xs = np.linspace(-4, 4, 100)\n",
    "ts = np.linspace(0.01, 1, 100)\n",
    "us_pred = np.array([[solver.u(x, t).item() for x in xs] for t in ts])\n",
    "norms = [np.trapz(us, xs) for us in us_pred]\n",
    "us_pred = np.array([ us/n for us, n in zip(us_pred, norms)])\n",
    "fig.add_trace(go.Surface(x=xs, y=ts, z=us_pred), row=1, col=1)\n",
    "fig.update_layout(title='Solution | Approximation',\n",
    "                  scene = dict(\n",
    "                      xaxis_title=\"x\",\n",
    "                      yaxis_title=\"t\",\n",
    "                      zaxis_title=\"p(x, t)\"),\n",
    "                  margin=dict(l=50, r=50, b=50, t=50))\n",
    "fig.show()"
   ]
  },
  {
   "cell_type": "markdown",
   "id": "median-missile",
   "metadata": {},
   "source": [
    "### Stationary Fokker-Planck Equation for the OU Process (Smoluchowski equation) N-dimensional:\n",
    "$$\n",
    "\\begin{cases}\n",
    "\\nabla \\cdot (\\nabla V p_s) + \\beta^{-1} \\Delta p = 0 \\quad [-4, 4] \\times [0, 1] \\\\\n",
    "p(0, x) = \\delta(x - x_0) \\approx \\lim_{a \\rightarrow 0}\\frac{1}{|a| \\sqrt{\\pi}} e^{-(\\frac{x-x_0}{a})^2} \\quad & \\text{on } [-4, 4] \\times {t=0} \\\\\n",
    "\\end{cases}\n",
    "$$"
   ]
  },
  {
   "cell_type": "code",
   "execution_count": null,
   "id": "severe-tennessee",
   "metadata": {},
   "outputs": [],
   "source": [
    "class STATOUPROCESS(PDE):\n",
    "    def __init__(self):\n",
    "        super().__init__()\n",
    "        self.var_dim = 10\n",
    "        random_M = torch.rand(self.var_dim, self.var_dim)\n",
    "        self.β = 2.0\n",
    "        self.V = lambda var: (var |bdotm| random_M) |bdotb| var\n",
    "        a = 0.1\n",
    "        \n",
    "        self.equation = lambda p, var: (1/self.β)*Δ(p, var) + Δ(self.V(var), var)*p + (D(self.V(var), var) |bdotb| D(p, var))\n",
    "        self.domain_func = [(lambda var: var, 128)]"
   ]
  },
  {
   "cell_type": "code",
   "execution_count": null,
   "id": "comic-duncan",
   "metadata": {},
   "outputs": [],
   "source": [
    "CONFIG_STATOU = {\n",
    "    \"hidden_dim\": 64,\n",
    "    \"learning_rate\": 5e-3,\n",
    "    \"loss_weights\": (1.5, 1),\n",
    "    \"lr_decay\": 0.99,\n",
    "    \"sampling_method\": \"uniform\",\n",
    "    \"network_type\": \"DENS\",\n",
    "    \"optimiser\": \"Adam\",\n",
    "    \"method\": \"Galerkin\"\n",
    "}\n",
    "eq = STATOUPROCESS()\n",
    "model = CONFIG_STATOU\n",
    "solver = DeepPDESolver(model, eq)\n",
    "losses = list(solver.train(400))\n",
    "plot_losses(losses)"
   ]
  },
  {
   "cell_type": "code",
   "execution_count": null,
   "id": "frozen-facial",
   "metadata": {},
   "outputs": [],
   "source": []
  }
 ],
 "metadata": {
  "kernelspec": {
   "display_name": "Python 3",
   "language": "python",
   "name": "python3"
  },
  "language_info": {
   "codemirror_mode": {
    "name": "ipython",
    "version": 3
   },
   "file_extension": ".py",
   "mimetype": "text/x-python",
   "name": "python",
   "nbconvert_exporter": "python",
   "pygments_lexer": "ipython3",
   "version": "3.8.5"
  }
 },
 "nbformat": 4,
 "nbformat_minor": 5
}
