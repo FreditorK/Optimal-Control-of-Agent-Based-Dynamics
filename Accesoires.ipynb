{
 "cells": [
  {
   "cell_type": "code",
   "execution_count": 1,
   "id": "certified-today",
   "metadata": {},
   "outputs": [],
   "source": [
    "import torch\n",
    "import plotly.graph_objects as go\n",
    "import numpy as np\n",
    "from plotly.subplots import make_subplots\n",
    "from networks import FeedForwardNetwork, RESNetwork, ResLayer"
   ]
  },
  {
   "cell_type": "code",
   "execution_count": null,
   "id": "affiliated-plate",
   "metadata": {},
   "outputs": [],
   "source": [
    "fig = make_subplots(rows=1, cols=2)\n",
    "xs = np.linspace(-5, 5, 100)\n",
    "sigmoids = 1/(1+np.exp(-xs))\n",
    "silus = xs/(1+np.exp(-xs)) \n",
    "fig.add_trace(go.Scatter(x=xs, y=sigmoids, mode='lines', name=\"$\\sigma(x)$\"), row=1, col=1)\n",
    "fig.add_trace(go.Scatter(x=xs, y=silus, mode='lines', name=\"$SiLU(x)$\"), row=1, col=1)\n",
    "\n",
    "xs = np.linspace(-10, 10, 100)\n",
    "dsigmoids = np.exp(-xs)/(1+np.exp(-xs))**2\n",
    "dsilus = np.exp(xs)*(xs + np.exp(xs) + 1)/(1+np.exp(xs))**2\n",
    "fig.add_trace(go.Scatter(x=xs, y=dsigmoids, mode='lines', name=\"$\\sigma'(x)$\"), row=1, col=2)\n",
    "fig.add_trace(go.Scatter(x=xs, y=dsilus, mode='lines', name=\"$SiLU'(x)$\"), row=1, col=2)\n",
    "\n",
    "fig.update_layout(\n",
    "    title=\"Comparison Sigmoid, SiLU\",\n",
    "    height=300,\n",
    "    font=dict(\n",
    "        family=\"Courier New, monospace\",\n",
    "        size=14\n",
    "    ),\n",
    "    margin=dict(l=0, r=50, b=0, t=50)\n",
    ")\n",
    "fig.show()"
   ]
  },
  {
   "cell_type": "code",
   "execution_count": 6,
   "id": "eligible-trunk",
   "metadata": {},
   "outputs": [],
   "source": [
    "from torch.utils.tensorboard import SummaryWriter\n",
    "from torchsummary import summary"
   ]
  },
  {
   "cell_type": "code",
   "execution_count": 3,
   "id": "liable-pharmacy",
   "metadata": {},
   "outputs": [],
   "source": [
    "writer = SummaryWriter('graphs')"
   ]
  },
  {
   "cell_type": "code",
   "execution_count": 21,
   "id": "developmental-treaty",
   "metadata": {},
   "outputs": [],
   "source": [
    "net = RESNetwork(2, 8, 1).cuda()\n",
    "#writer.add_graph(net, torch.tensor([[1.0, 2, 3, 4],\n",
    "#                                   [1, 2, 3, 4]]))\n",
    "#writer.close()"
   ]
  },
  {
   "cell_type": "code",
   "execution_count": 22,
   "id": "senior-laugh",
   "metadata": {},
   "outputs": [
    {
     "name": "stdout",
     "output_type": "stream",
     "text": [
      "----------------------------------------------------------------\n",
      "        Layer (type)               Output Shape         Param #\n",
      "================================================================\n",
      "            Linear-1               [-1, 128, 8]              24\n",
      "              SiLU-2               [-1, 128, 8]               0\n",
      "            Linear-3               [-1, 128, 8]              72\n",
      "              SiLU-4               [-1, 128, 8]               0\n",
      "            Linear-5              [-1, 128, 16]             144\n",
      "            Linear-6              [-1, 128, 16]              48\n",
      "          ResLayer-7              [-1, 128, 16]               0\n",
      "            Linear-8              [-1, 128, 32]             544\n",
      "              SiLU-9              [-1, 128, 32]               0\n",
      "           Linear-10              [-1, 128, 32]           1,056\n",
      "             SiLU-11              [-1, 128, 32]               0\n",
      "           Linear-12              [-1, 128, 16]             528\n",
      "           Linear-13              [-1, 128, 16]             272\n",
      "         ResLayer-14              [-1, 128, 16]               0\n",
      "           Linear-15               [-1, 128, 8]             136\n",
      "             SiLU-16               [-1, 128, 8]               0\n",
      "           Linear-17               [-1, 128, 8]              72\n",
      "             SiLU-18               [-1, 128, 8]               0\n",
      "           Linear-19               [-1, 128, 1]               9\n",
      "           Linear-20               [-1, 128, 1]              17\n",
      "         ResLayer-21               [-1, 128, 1]               0\n",
      "================================================================\n",
      "Total params: 2,922\n",
      "Trainable params: 2,922\n",
      "Non-trainable params: 0\n",
      "----------------------------------------------------------------\n",
      "Input size (MB): 0.00\n",
      "Forward/backward pass size (MB): 0.28\n",
      "Params size (MB): 0.01\n",
      "Estimated Total Size (MB): 0.30\n",
      "----------------------------------------------------------------\n"
     ]
    }
   ],
   "source": [
    "summary(net, input_size=(128, 2))"
   ]
  },
  {
   "cell_type": "code",
   "execution_count": null,
   "id": "increased-customs",
   "metadata": {},
   "outputs": [],
   "source": []
  }
 ],
 "metadata": {
  "kernelspec": {
   "display_name": "Python 3",
   "language": "python",
   "name": "python3"
  },
  "language_info": {
   "codemirror_mode": {
    "name": "ipython",
    "version": 3
   },
   "file_extension": ".py",
   "mimetype": "text/x-python",
   "name": "python",
   "nbconvert_exporter": "python",
   "pygments_lexer": "ipython3",
   "version": "3.8.5"
  }
 },
 "nbformat": 4,
 "nbformat_minor": 5
}
