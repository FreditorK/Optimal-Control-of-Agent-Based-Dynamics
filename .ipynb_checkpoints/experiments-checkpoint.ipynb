{
 "cells": [
  {
   "cell_type": "code",
   "execution_count": 1,
   "id": "adjusted-monroe",
   "metadata": {},
   "outputs": [],
   "source": [
    "import torch\n",
    "import numpy as np\n",
    "from torch.autograd import grad\n",
    "from torch.autograd.functional import hessian, jacobian"
   ]
  },
  {
   "cell_type": "code",
   "execution_count": 2,
   "id": "still-nothing",
   "metadata": {},
   "outputs": [],
   "source": [
    "var = torch.tensor([[[5.0],\n",
    "                    [2.0],\n",
    "                    [3.0]],\n",
    "                   [[8.0],\n",
    "                    [4.0],\n",
    "                    [4.0]]], requires_grad=True)\n",
    "t = torch.tensor([[[5.0]]], requires_grad=True)\n",
    "u = lambda x, t: torch.exp(x[:, 0]) + (1/6)*torch.pow(x[:, 1], 3)"
   ]
  },
  {
   "cell_type": "code",
   "execution_count": 3,
   "id": "worst-research",
   "metadata": {},
   "outputs": [],
   "source": [
    "#out = u(var, t)\n",
    "#div = torch.sum(grad(outputs=out, inputs=var, grad_outputs=torch.ones_like(out))[0], dim=-2)"
   ]
  },
  {
   "cell_type": "code",
   "execution_count": 4,
   "id": "narrow-criminal",
   "metadata": {},
   "outputs": [
    {
     "data": {
      "text/plain": [
       "tensor([[ 149.7465],\n",
       "        [2991.6248]], grad_fn=<AddBackward0>)"
      ]
     },
     "execution_count": 4,
     "metadata": {},
     "output_type": "execute_result"
    }
   ],
   "source": [
    "out = u(var, t)\n",
    "out"
   ]
  },
  {
   "cell_type": "code",
   "execution_count": 5,
   "id": "muslim-angel",
   "metadata": {},
   "outputs": [],
   "source": [
    "def Δ(u, vars):\n",
    "    u_gradient = grad(outputs=u, inputs=vars, grad_outputs=torch.ones_like(u), create_graph=True)[0]\n",
    "    u_laplacian = torch.sum([grad(u_gradient_i, vars_i, create_graph=True) for u_gradient_i, vars_i in zip(vars, u_gradient)])\n",
    "    return u_laplacian"
   ]
  },
  {
   "cell_type": "code",
   "execution_count": 6,
   "id": "boolean-storage",
   "metadata": {},
   "outputs": [
    {
     "data": {
      "text/plain": [
       "'u_gradient = grad(outputs=out, inputs=var, grad_outputs=torch.ones_like(out), create_graph=True)[0]\\nu_gradient = u_gradient.flatten(start_dim=1)\\nvar = var.flatten()\\n[grad(u_gradient_i, vars_i, create_graph=True)[0] for u_gradient_i, vars_i in zip(var[:], (u_gradient[..., i] for i in range(len(var))))]'"
      ]
     },
     "execution_count": 6,
     "metadata": {},
     "output_type": "execute_result"
    }
   ],
   "source": [
    "'''u_gradient = grad(outputs=out, inputs=var, grad_outputs=torch.ones_like(out), create_graph=True)[0]\n",
    "u_gradient = u_gradient.flatten(start_dim=1)\n",
    "var = var.flatten()\n",
    "[grad(u_gradient_i, vars_i, create_graph=True)[0] for u_gradient_i, vars_i in zip(var[:], (u_gradient[..., i] for i in range(len(var))))]'''"
   ]
  },
  {
   "cell_type": "code",
   "execution_count": 11,
   "id": "german-street",
   "metadata": {},
   "outputs": [],
   "source": [
    "def laplace(fx: torch.Tensor, x: torch.Tensor):\n",
    "    dfx = torch.autograd.grad(fx, x, create_graph=True, grad_outputs=torch.ones_like(fx))[0]\n",
    "    print(dfx)\n",
    "    vec = torch.ones_like(dfx)\n",
    "    ddfx = torch.autograd.grad(dfx, x, grad_outputs=vec)[0]\n",
    "    return torch.sum(ddfx, dim=-2)"
   ]
  },
  {
   "cell_type": "code",
   "execution_count": 12,
   "id": "single-shell",
   "metadata": {},
   "outputs": [
    {
     "name": "stdout",
     "output_type": "stream",
     "text": [
      "tensor([[[1.4841e+02],\n",
      "         [2.0000e+00],\n",
      "         [0.0000e+00]],\n",
      "\n",
      "        [[2.9810e+03],\n",
      "         [8.0000e+00],\n",
      "         [0.0000e+00]]], grad_fn=<AddBackward0>)\n"
     ]
    },
    {
     "data": {
      "text/plain": [
       "tensor([[ 150.4132],\n",
       "        [2984.9580]])"
      ]
     },
     "execution_count": 12,
     "metadata": {},
     "output_type": "execute_result"
    }
   ],
   "source": [
    "laplace(out, var)"
   ]
  },
  {
   "cell_type": "code",
   "execution_count": null,
   "id": "worth-sleep",
   "metadata": {},
   "outputs": [],
   "source": []
  },
  {
   "cell_type": "code",
   "execution_count": null,
   "id": "acknowledged-nickname",
   "metadata": {},
   "outputs": [],
   "source": []
  },
  {
   "cell_type": "code",
   "execution_count": null,
   "id": "dying-strip",
   "metadata": {},
   "outputs": [],
   "source": []
  }
 ],
 "metadata": {
  "kernelspec": {
   "display_name": "Python 3",
   "language": "python",
   "name": "python3"
  },
  "language_info": {
   "codemirror_mode": {
    "name": "ipython",
    "version": 3
   },
   "file_extension": ".py",
   "mimetype": "text/x-python",
   "name": "python",
   "nbconvert_exporter": "python",
   "pygments_lexer": "ipython3",
   "version": "3.8.5"
  }
 },
 "nbformat": 4,
 "nbformat_minor": 5
}
