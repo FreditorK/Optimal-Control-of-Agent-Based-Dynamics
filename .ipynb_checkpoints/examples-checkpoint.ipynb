{
 "cells": [
  {
   "cell_type": "markdown",
   "id": "charitable-dominant",
   "metadata": {},
   "source": [
    "# Dependencies"
   ]
  },
  {
   "cell_type": "code",
   "execution_count": 1,
   "id": "tired-thickness",
   "metadata": {},
   "outputs": [],
   "source": [
    "from operators import div, Δ\n",
    "from DGM import DGMSolver\n",
    "import argparse\n",
    "import matplotlib.pyplot as plt\n",
    "import numpy as np"
   ]
  },
  {
   "cell_type": "markdown",
   "id": "casual-construction",
   "metadata": {},
   "source": [
    "# Model Configurations"
   ]
  },
  {
   "cell_type": "code",
   "execution_count": 2,
   "id": "smaller-jimmy",
   "metadata": {},
   "outputs": [],
   "source": [
    "MODEL_CONFIG = {\n",
    "    \"batch_size\": 128, # minimum batch size is two because of split\n",
    "    \"hidden_dim\": 256,\n",
    "    \"learning_rate\": 1e-6\n",
    "}"
   ]
  },
  {
   "cell_type": "markdown",
   "id": "charming-hartford",
   "metadata": {},
   "source": [
    "# Partial Differential Equations"
   ]
  },
  {
   "cell_type": "markdown",
   "id": "graphic-straight",
   "metadata": {},
   "source": [
    "## Declarations"
   ]
  },
  {
   "cell_type": "code",
   "execution_count": 3,
   "id": "hawaiian-store",
   "metadata": {},
   "outputs": [],
   "source": [
    "BURGERS_CONFIG = {\n",
    "    \"x_dim\": 1,\n",
    "    \"equation\": lambda u, x, t: div(u, t) + u * div(u, x),\n",
    "    \"boundary_cond\": lambda u, x, t: u*0,\n",
    "    \"boundary_func\": lambda x: x,\n",
    "    \"init_datum\": lambda u, x: x - u\n",
    "}\n",
    "VISCOUS_BURGERS_CONFIG = {\n",
    "    \"x_dim\": 1,\n",
    "    \"equation\": lambda u, x, t: div(u, t) + u * div(u, x) - 0.5 * Δ(u, x),\n",
    "    \"boundary_cond\": lambda u, x, t: u,\n",
    "    \"boundary_func\": lambda x: 1.0 if x > 0.0 else -1.0,\n",
    "    \"init_datum\": lambda u, x: x - u\n",
    "}"
   ]
  },
  {
   "cell_type": "markdown",
   "id": "excellent-outline",
   "metadata": {},
   "source": [
    "## Solutions for Reference"
   ]
  },
  {
   "cell_type": "code",
   "execution_count": 4,
   "id": "collected-organic",
   "metadata": {},
   "outputs": [],
   "source": [
    "BURGERS_CONFIG_sol = lambda x, t: x / (1 + t)"
   ]
  },
  {
   "cell_type": "markdown",
   "id": "short-anniversary",
   "metadata": {},
   "source": [
    "# Experiments"
   ]
  },
  {
   "cell_type": "markdown",
   "id": "legislative-sleeping",
   "metadata": {},
   "source": [
    "### 1. Solving the Inviscid Burgers' Equation:"
   ]
  },
  {
   "cell_type": "code",
   "execution_count": null,
   "id": "broad-spice",
   "metadata": {},
   "outputs": [],
   "source": [
    "eq_1 = BURG"
   ]
  }
 ],
 "metadata": {
  "kernelspec": {
   "display_name": "Python 3",
   "language": "python",
   "name": "python3"
  },
  "language_info": {
   "codemirror_mode": {
    "name": "ipython",
    "version": 3
   },
   "file_extension": ".py",
   "mimetype": "text/x-python",
   "name": "python",
   "nbconvert_exporter": "python",
   "pygments_lexer": "ipython3",
   "version": "3.8.5"
  }
 },
 "nbformat": 4,
 "nbformat_minor": 5
}
