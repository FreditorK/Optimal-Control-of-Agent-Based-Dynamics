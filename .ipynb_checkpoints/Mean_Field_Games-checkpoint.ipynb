{
 "cells": [
  {
   "cell_type": "markdown",
   "id": "collective-donna",
   "metadata": {},
   "source": [
    "# Solving Mean Field Games (Deep Galerkin)\n",
    "#### Frederik Kelbel, Imperial College London"
   ]
  },
  {
   "cell_type": "code",
   "execution_count": 2,
   "id": "august-magnet",
   "metadata": {},
   "outputs": [],
   "source": [
    "import torch\n",
    "import plotly.graph_objects as go\n",
    "import numpy as np\n",
    "from operators import div, Δ, D, mdotb, bdotm, mdotm, bdotb, m, p, H, cat\n",
    "from DGM import DGMPIASolver, DeepPDESolver\n",
    "from pdes import HBJ, PDE\n",
    "from scipy.integrate import quad\n",
    "from plotly.subplots import make_subplots\n",
    "from configs import CONFIG_HBJS as MODEL_CONFIG\n",
    "from FBSDEs import FBSDESolver\n",
    "from pdes import FBSDE\n",
    "import os"
   ]
  },
  {
   "cell_type": "code",
   "execution_count": 3,
   "id": "brief-paris",
   "metadata": {},
   "outputs": [],
   "source": [
    "def plot_losses(losses, avg_over=10):\n",
    "    avgs = np.convolve(losses, np.ones(avg_over), 'valid') / avg_over\n",
    "    fig = make_subplots(rows=1, cols=1)\n",
    "    fig.add_trace(go.Scatter(x=np.arange(len(avgs)), y=avgs, mode='lines', name=\"Error at x=0.1\"), row=1, col=1)\n",
    "    fig.update_layout(\n",
    "        title=\"Loss\",\n",
    "        xaxis_title=\"Iterations\",\n",
    "        yaxis_title=\"Loss\",\n",
    "        font=dict(\n",
    "            family=\"Courier New, monospace\",\n",
    "            size=14\n",
    "        )\n",
    "    )\n",
    "    fig.show()"
   ]
  },
  {
   "cell_type": "markdown",
   "id": "sunrise-authorization",
   "metadata": {},
   "source": [
    "## Linear-Quadratic-Game"
   ]
  },
  {
   "cell_type": "code",
   "execution_count": null,
   "id": "conditional-rotation",
   "metadata": {},
   "outputs": [],
   "source": [
    "class LQG(PDE):\n",
    "    def __init__(self):\n",
    "        super().__init__()\n",
    "        self.l = 1.0\n",
    "        self.sigma = 0.01\n",
    "        self.gamma = 0.05\n",
    "        N = 10\n",
    "        self.var_dim = N+1 # var = (x, t)\n",
    "        self.sol_dim = 1\n",
    "            \n",
    "        self.equation = lambda u, var: div(u, var[-1]) + (1/2)*self.sigma*Δ(u, var[:-1]) - (1/(2*self.gamma))*torch.sum(D(u, var[:-1])**2, dim=-1, keepdims=True)\n",
    "        self.domain_func = [(lambda var: self.sampling(var[:-1]) + [5*var[-1]], 128)]\n",
    "        self.boundary_cond = [lambda u, var: u - self.l*torch.sum((sum(var[:-1])/N-cat(var[:-1]))**2, dim=-1, keepdims=True)/2] \n",
    "        self.boundary_func = [(lambda var: self.sampling(var[:-1]) + [0.1*var[-1]+5], 128)]\n",
    "        \n",
    "    def sampling(self, var):\n",
    "        means_clusters = torch.randint(0, self.var_dim-1, size=(var[-1].shape[0], self.var_dim-1))\n",
    "        compactness_clusters = torch.randint(0, self.var_dim-1, size=(var[-1].shape[0], self.var_dim-1))\n",
    "        means = (torch.rand((var[-1].shape[0], self.var_dim-1))-0.5)*2\n",
    "        compactness = torch.rand((var[-1].shape[0], self.var_dim-1))\n",
    "        return [(var[i]-0.5)*compactness.gather(-1, compactness_clusters[:, None, i]) + means.gather(-1, means_clusters[:, None, i]) for i in range(len(var))]  "
   ]
  },
  {
   "cell_type": "code",
   "execution_count": null,
   "id": "accessible-workstation",
   "metadata": {},
   "outputs": [],
   "source": [
    "eq = LQG()\n",
    "model = MODEL_CONFIG = {\n",
    "    \"hidden_dim\": 64,\n",
    "    \"learning_rate\": 1e-3,\n",
    "    \"loss_weights\": (1, 8),\n",
    "    \"sampling_method\": \"uniform\",\n",
    "    \"lr_decay\": 0.98,\n",
    "    \"network_type\": \"RES\",\n",
    "    \"optimiser\": \"Adam\",\n",
    "    \"method\": \"Galerkin\"\n",
    "}\n",
    "solver = DeepPDESolver(model, eq)\n",
    "losses = list(solver.train(600))\n",
    "plot_losses(losses)"
   ]
  },
  {
   "cell_type": "code",
   "execution_count": null,
   "id": "certain-parker",
   "metadata": {},
   "outputs": [],
   "source": [
    "def plot_game(T):\n",
    "    n = int(40*T)\n",
    "    N = eq.var_dim-1\n",
    "    c_xs = np.zeros((N, n))\n",
    "    #c_xs[:, 0] = -0.5\n",
    "    c_xs[:int(2*N/5), 0] = (np.random.randn(int(2*N/5))*0.1 -0.8).clip(-0.7, 0.9)\n",
    "    c_xs[int(2*N/5):, 0] = (np.random.randn(int(3*N/5))*0.1 +0.5).clip(0.4, 0.6)\n",
    "    #c_xs[:, 0] = (np.random.randn(N)-0.5).clip(-1, 1)\n",
    "    uc_xs = np.zeros((N, n))\n",
    "    uc_xs[:, 0] = c_xs[:, 0]\n",
    "    dt = 1/n\n",
    "    ts = [t for t in np.linspace(0, T, n)]\n",
    "    for i in range(n-1):\n",
    "        dW = np.sqrt(dt)*np.random.randn(N, 1)\n",
    "        c = -(1/eq.gamma)*np.expand_dims(solver.D_u(*[c_xs[j, i] for j in range(N)], i*dt), axis=1)\n",
    "        c_xs[:, None, i+1] = c_xs[:, None, i]  + np.sqrt(eq.sigma)*dW + c*dt\n",
    "        uc_xs[:, None, i+1] = uc_xs[:, None, i] + np.sqrt(eq.sigma)*dW\n",
    "        \n",
    "    return c_xs, uc_xs"
   ]
  },
  {
   "cell_type": "code",
   "execution_count": null,
   "id": "public-humor",
   "metadata": {},
   "outputs": [],
   "source": [
    "c_xs, uc_xs = plot_game(5)"
   ]
  },
  {
   "cell_type": "code",
   "execution_count": null,
   "id": "nearby-constitutional",
   "metadata": {},
   "outputs": [],
   "source": [
    "fig = go.Figure(\n",
    "    data=[go.Scatter(x=c_xs[:, 0].flatten(), y=np.ones(eq.var_dim-1),\n",
    "                         mode='markers',\n",
    "                         name=\"Controlled\", marker=dict(color='SkyBlue', size=15)),\n",
    "         go.Scatter(x=uc_xs[:, 0].flatten(), y=np.ones(eq.var_dim-1),\n",
    "                         mode='markers',\n",
    "                         name=\"Uncontrolled\", opacity=0.8)],\n",
    "    layout=go.Layout(\n",
    "        xaxis=dict(range=[-1.1, 1.1], autorange=False),\n",
    "        yaxis=dict(range=[0, 2], autorange=False),\n",
    "        title=\"Opinions over time\",\n",
    "        updatemenus=[dict(\n",
    "            type=\"buttons\",\n",
    "            buttons=[dict(label=\"Play\",\n",
    "                          method=\"animate\",\n",
    "                          args=[None, {\"frame\": {\"duration\": 25, \n",
    "                                                                        \"redraw\": False},\n",
    "                                                              \"fromcurrent\": True, \n",
    "                                                              \"transition\": {\"duration\": 0.1}}])])]\n",
    "    ),\n",
    "    frames=[go.Frame(data=[go.Scatter(x=c_xs[:, i].flatten(), y=np.ones(eq.var_dim-1),\n",
    "                         mode='markers',\n",
    "                         name=\"Controlled\", marker=dict(color='SkyBlue', size=15)),\n",
    "                          go.Scatter(x=uc_xs[:, i].flatten(), y=np.ones(eq.var_dim-1),\n",
    "                         mode='markers',\n",
    "                         name=\"Uncontrolled\", opacity=0.8)]) for i in range(c_xs.shape[1])]\n",
    ")\n",
    "fig.update_layout(transition = {'duration': 0.1})\n",
    "fig.show()"
   ]
  },
  {
   "cell_type": "markdown",
   "id": "emotional-wages",
   "metadata": {},
   "source": [
    "## Sznajd Model"
   ]
  },
  {
   "cell_type": "code",
   "execution_count": null,
   "id": "amino-ensemble",
   "metadata": {},
   "outputs": [],
   "source": [
    "class OPINION(PDE):\n",
    "    def __init__(self):\n",
    "        super().__init__()\n",
    "        self.x_d = 0.0\n",
    "        self.beta = -1\n",
    "        self.sigma = 0.01\n",
    "        self.gamma = 0.05\n",
    "        N = 10\n",
    "        self.var_dim = N+1 # var = (x, t)\n",
    "        self.sol_dim = 1       \n",
    "            \n",
    "        self.equation = lambda u, var: div(u, var[-1]) + torch.sum((cat(var[:-1]) - self.x_d)**2, dim=-1, keepdims=True)/2 \\\n",
    "                        + torch.sum((self.beta*(1 - cat(var[:-1])**2)\n",
    "                                     *(torch.mean(cat(var[:-1]), dim=-1, keepdims=True) - cat(var[:-1]))\n",
    "                                     * D(u, var[:-1])), dim=-1, keepdims=True)\\\n",
    "                        + self.sigma*Δ(u, var[:-1]) \\\n",
    "                        - (1/(2*self.gamma))*torch.sum(D(u, var[:-1])**2, dim=-1, keepdims=True)\n",
    "        self.domain_func = [(lambda var: self.sampling(var[:-1]) + [5*var[-1]], 128)]\n",
    "        self.boundary_cond = [lambda u, var: u -torch.sum((cat(var[:-1]) - self.x_d)**2, dim=-1, keepdims=True)/2] \n",
    "        self.boundary_func = [(lambda var: self.sampling(var[:-1]) + [0.1*var[-1]+5], 64)]\n",
    "        \n",
    "    def sampling(self, var):\n",
    "        means_clusters = torch.randint(0, self.var_dim-1, size=(var[-1].shape[0], self.var_dim-1))\n",
    "        compactness_clusters = torch.randint(0, self.var_dim-1, size=(var[-1].shape[0], self.var_dim-1))\n",
    "        means = (torch.rand((var[-1].shape[0], self.var_dim-1))-0.5)*2 + self.x_d\n",
    "        compactness = torch.rand((var[-1].shape[0], self.var_dim-1))\n",
    "        re = [(var[i]-0.5)*compactness.gather(-1, compactness_clusters[:, None, i]) + means.gather(-1, means_clusters[:, None, i]) for i in range(len(var))] \n",
    "        return re"
   ]
  },
  {
   "cell_type": "code",
   "execution_count": null,
   "id": "coordinate-affiliation",
   "metadata": {},
   "outputs": [],
   "source": [
    "eq = OPINION()\n",
    "model = MODEL_CONFIG = {\n",
    "    \"hidden_dim\": 64,\n",
    "    \"learning_rate\": 1e-3,\n",
    "    \"loss_weights\": (1, 8),\n",
    "    \"sampling_method\": \"uniform\",\n",
    "    \"lr_decay\": 0.98,\n",
    "    \"network_type\": \"RES\",\n",
    "    \"optimiser\": \"Adam\",\n",
    "    \"method\": \"Galerkin\"\n",
    "}\n",
    "solver = DeepPDESolver(model, eq)\n",
    "losses = list(solver.train(600))\n",
    "plot_losses(losses)"
   ]
  },
  {
   "cell_type": "code",
   "execution_count": null,
   "id": "private-disclaimer",
   "metadata": {},
   "outputs": [],
   "source": [
    "def plot_opinions(T):\n",
    "    n = int(50*T)\n",
    "    N = eq.var_dim-1\n",
    "    def sde_sum(X):\n",
    "        return eq.beta*(1-X**2)*(sum(X)/N-X)\n",
    "    c_xs = np.zeros((N, n))\n",
    "    #c_xs[:, 0] = -0.5\n",
    "    c_xs[:int(2*N/5), 0] = (np.random.randn(int(2*N/5))*0.2 -0.8).clip(-0.7, 0.9)\n",
    "    c_xs[int(2*N/5):, 0] = (np.random.randn(int(3*N/5))*0.2 +0.5).clip(0.4, 0.6)\n",
    "    #c_xs[:, 0] = (np.random.randn(N)-0.5).clip(-1, 1)\n",
    "    uc_xs = np.zeros((N, n))\n",
    "    uc_xs[:, 0] = c_xs[:, 0]\n",
    "    dt = 1/n\n",
    "    ts = [t for t in np.linspace(0, T, n)]\n",
    "    for i in range(n-1):\n",
    "        dW = np.sqrt(dt)*np.random.randn(N, 1)\n",
    "        c = -(1/(eq.gamma))*np.expand_dims(solver.D_u(*[c_xs[j, i] for j in range(N)], i*dt), axis=1)\n",
    "        c_xs[:, None, i+1] = c_xs[:, None, i] + sde_sum(c_xs[:, None, i])*dt + np.sqrt(2*eq.sigma)*dW + c*dt\n",
    "        uc_xs[:, None, i+1] = uc_xs[:, None, i] + sde_sum(uc_xs[:, None, i]) *dt + np.sqrt(2*eq.sigma)*dW\n",
    "        \n",
    "    return c_xs, uc_xs"
   ]
  },
  {
   "cell_type": "code",
   "execution_count": null,
   "id": "respected-conjunction",
   "metadata": {},
   "outputs": [],
   "source": [
    "c_xs, uc_xs = plot_opinions(5)"
   ]
  },
  {
   "cell_type": "code",
   "execution_count": null,
   "id": "graduate-space",
   "metadata": {},
   "outputs": [],
   "source": [
    "fig = make_subplots(rows=1, cols=1)\n",
    "fig.add_trace(go.Scatter(x=c_xs[:, -1].flatten(), y=np.ones(eq.var_dim-1),\n",
    "                         mode='markers',\n",
    "                         name=\"Controlled\", marker=dict(color='SkyBlue', size=15)), row=1, col=1)\n",
    "fig.add_trace(go.Scatter(x=uc_xs[:, -1].flatten(), y=np.ones(eq.var_dim-1),\n",
    "                         mode='markers',\n",
    "                         name=\"Uncontrolled\", opacity=0.8), row=1, col=1)\n",
    "fig.update_layout(\n",
    "    title=\"Opinion distribution\",\n",
    "    xaxis_title=\"X\",\n",
    "    yaxis_title=\"Num\",\n",
    "    xaxis_range=[-1.2,1.2],\n",
    "    font=dict(\n",
    "        family=\"Courier New, monospace\",\n",
    "        size=14\n",
    "    )\n",
    ")\n",
    "fig.show()"
   ]
  },
  {
   "cell_type": "code",
   "execution_count": null,
   "id": "particular-arizona",
   "metadata": {},
   "outputs": [],
   "source": [
    "fig = go.Figure(\n",
    "    data=[go.Scatter(x=c_xs[:, 0].flatten(), y=np.ones(eq.var_dim-1),\n",
    "                         mode='markers',\n",
    "                         name=\"Controlled\", marker=dict(color='SkyBlue', size=15)),\n",
    "         go.Scatter(x=uc_xs[:, 0].flatten(), y=np.ones(eq.var_dim-1),\n",
    "                         mode='markers',\n",
    "                         name=\"Uncontrolled\", opacity=0.8)],\n",
    "    layout=go.Layout(\n",
    "        xaxis=dict(range=[-1.1, 1.1], autorange=False),\n",
    "        yaxis=dict(range=[0, 2], autorange=False),\n",
    "        title=\"Opinions over time\",\n",
    "        updatemenus=[dict(\n",
    "            type=\"buttons\",\n",
    "            buttons=[dict(label=\"Play\",\n",
    "                          method=\"animate\",\n",
    "                          args=[None, {\"frame\": {\"duration\": 25, \n",
    "                                                                        \"redraw\": False},\n",
    "                                                              \"fromcurrent\": True, \n",
    "                                                              \"transition\": {\"duration\": 0.1}}])])]\n",
    "    ),\n",
    "    frames=[go.Frame(data=[go.Scatter(x=c_xs[:, i].flatten(), y=np.ones(eq.var_dim-1),\n",
    "                         mode='markers',\n",
    "                         name=\"Controlled\", marker=dict(color='SkyBlue', size=15)),\n",
    "                          go.Scatter(x=uc_xs[:, i].flatten(), y=np.ones(eq.var_dim-1),\n",
    "                         mode='markers',\n",
    "                         name=\"Uncontrolled\", opacity=0.8)]) for i in range(c_xs.shape[1])]\n",
    ")\n",
    "fig.update_layout(transition = {'duration': 0.1})\n",
    "fig.show()"
   ]
  },
  {
   "cell_type": "code",
   "execution_count": null,
   "id": "announced-yellow",
   "metadata": {},
   "outputs": [],
   "source": [
    "fig = make_subplots(rows=1, cols=1, specs=[[{'type': 'surface'}]])\n",
    "xs = np.linspace(-1.1, 1.1, 100)\n",
    "ys = np.linspace(0, 5, 100)\n",
    "us_pred = np.array([[solver.u(*([0.5, 0.5, -0.7, -0.7] + [x for _ in range(eq.var_dim-5)]), y).item() for x in xs] for y in ys])\n",
    "#us_pred = np.array([[sum([np.abs(x+0.25) for _ in range(10)]).item() for x in xs] for y in ys])\n",
    "us = us_pred #np.array([[sol(x, t) for x in xs] for t in ts])\n",
    "x_mesh, y_mesh = np.meshgrid(xs, ys)\n",
    "fig.add_trace(go.Surface(x=xs, y=ys, z=us, showscale=False), row=1, col=1)\n",
    "#fig.add_trace(go.Surface(x=ys, y=xs, z=us_pred), row=1, col=2)\n",
    "fig.update_layout(title='Solution | Approximation',\n",
    "                  scene = dict(\n",
    "                    xaxis_title=\"x\",\n",
    "                    yaxis_title=\"t\",\n",
    "                    zaxis_title=\"u(x, t)\"),\n",
    "                  scene2 = dict(\n",
    "                    xaxis_title=\"x\",\n",
    "                    yaxis_title=\"t\",\n",
    "                    zaxis_title=\"u(x, t)\"),\n",
    "                  margin=dict(l=50, r=50, b=50, t=50))\n",
    "# one row is printed as x axes\n",
    "fig.show()"
   ]
  },
  {
   "cell_type": "markdown",
   "id": "recovered-yield",
   "metadata": {},
   "source": [
    "# -------"
   ]
  },
  {
   "cell_type": "code",
   "execution_count": null,
   "id": "creative-nation",
   "metadata": {},
   "outputs": [],
   "source": [
    "MODEL_CONFIG = {\n",
    "    \"batch_size\": 128,\n",
    "    \"num_discretisation_steps\": 50,\n",
    "    \"hidden_dim\": 128,\n",
    "    \"learning_rate\": 5e-3,\n",
    "    \"lr_decay\": 0.99,\n",
    "    \"network_type\": \"MINI\",\n",
    "    \"optimiser\": \"Adam\"\n",
    "}\n",
    "model = MODEL_CONFIG\n",
    "class OPINION(FBSDE):\n",
    "    def __init__(self):\n",
    "        super().__init__()\n",
    "        N = 10\n",
    "        x_d = 0.5\n",
    "        self.beta = -1\n",
    "        self.gamma = 0.05\n",
    "        sigma = np.sqrt(2*0.3)*torch.ones((model[\"batch_size\"], 1, 1))\n",
    "        C = lambda X: torch.sum((X - x_d)**2, dim=-1, keepdims=True)/(2*N)\n",
    "        self.h = lambda X, Y, Z, t: C(X) + (N/(2*self.gamma))* torch.sum(Z**2, dim=-1, keepdims=True)\n",
    "        \n",
    "        self.b = lambda X, t: self.beta*(1 - X**2)*(torch.sum(X, dim=-1, keepdims=True)/N - X)\n",
    "    \n",
    "        self.sigma = lambda X, t: sigma\n",
    "        \n",
    "        self.terminal_condition = lambda X: torch.zeros((model[\"batch_size\"], 1))\n",
    "        \n",
    "        self.var_dim = N\n",
    "        self.terminal_time = 3     \n",
    "        self.init_sampling_func = lambda X: (X-0.5)*2\n",
    "        self.control_noise = 0.1"
   ]
  },
  {
   "cell_type": "code",
   "execution_count": null,
   "id": "dense-boundary",
   "metadata": {},
   "outputs": [],
   "source": [
    "eq_2 = OPINION()\n",
    "solver = FBSDESolver(model, eq_2)\n",
    "loss = np.array(list(solver.train(500)))\n",
    "plot_losses(loss)"
   ]
  },
  {
   "cell_type": "code",
   "execution_count": null,
   "id": "outstanding-sunday",
   "metadata": {},
   "outputs": [],
   "source": [
    "def plot_opinions(T):\n",
    "    n = int(50*T)\n",
    "    N = eq_2.var_dim\n",
    "    def sde_sum(X):\n",
    "        return eq.beta*(1-X**2)*(sum(X)/N-X)\n",
    "    c_xs = np.zeros((N, n))\n",
    "    c_xs[:int(2*N/5), 0] = (np.random.randn(int(2*N/5))*0.1 -0.8).clip(-1, 1)\n",
    "    c_xs[int(2*N/5):, 0] = (np.random.randn(int(3*N/5))*0.1 +0.5).clip(-1, 1)\n",
    "    uc_xs = np.zeros((N, n))\n",
    "    uc_xs[:, 0] = c_xs[:, 0]\n",
    "    dt = 1/n\n",
    "    ts = [t for t in np.linspace(0, T, n)]\n",
    "    for i in range(n-1):\n",
    "        dW = np.sqrt(dt)*np.random.randn(N, 1)\n",
    "        c = -(N/eq.gamma)*np.expand_dims(solver.D_J(*[c_xs[j, i] for j in range(N)], i*dt), axis=1)\n",
    "        c_xs[:, None, i+1] = c_xs[:, None, i] + sde_sum(c_xs[:, None, i])*dt + np.sqrt(2*eq.sigma)*dW + c*dt\n",
    "        uc_xs[:, None, i+1] = uc_xs[:, None, i] + sde_sum(uc_xs[:, None, i]) *dt + np.sqrt(2*eq.sigma)*dW\n",
    "        \n",
    "    return c_xs, uc_xs"
   ]
  },
  {
   "cell_type": "code",
   "execution_count": null,
   "id": "coupled-course",
   "metadata": {},
   "outputs": [],
   "source": [
    "c_xs, uc_xs = plot_opinions(3)"
   ]
  },
  {
   "cell_type": "code",
   "execution_count": null,
   "id": "manufactured-nursery",
   "metadata": {},
   "outputs": [],
   "source": [
    "fig = make_subplots(rows=1, cols=1)\n",
    "fig.add_trace(go.Scatter(x=c_xs[:, -1].flatten(), y=np.ones(eq.var_dim-1),\n",
    "                         mode='markers',\n",
    "                         name=\"Controlled\", marker=dict(color='SkyBlue', size=15)), row=1, col=1)\n",
    "fig.add_trace(go.Scatter(x=uc_xs[:, -1].flatten(), y=np.ones(eq.var_dim-1),\n",
    "                         mode='markers',\n",
    "                         name=\"Uncontrolled\", opacity=0.8), row=1, col=1)\n",
    "fig.update_layout(\n",
    "    title=\"Opinion distribution\",\n",
    "    xaxis_title=\"X\",\n",
    "    yaxis_title=\"Num\",\n",
    "    xaxis_range=[-1.2,1.2],\n",
    "    font=dict(\n",
    "        family=\"Courier New, monospace\",\n",
    "        size=14\n",
    "    )\n",
    ")\n",
    "fig.show()"
   ]
  },
  {
   "cell_type": "markdown",
   "id": "manual-internship",
   "metadata": {},
   "source": [
    "## Hegselmann-Krause"
   ]
  },
  {
   "cell_type": "code",
   "execution_count": 19,
   "id": "determined-elephant",
   "metadata": {},
   "outputs": [],
   "source": [
    "class BOUNDED_OPINION(PDE):\n",
    "    def __init__(self):\n",
    "        super().__init__()\n",
    "        self.x_d = -0.2\n",
    "        self.sigma = 0.01\n",
    "        self.gamma = 0.05\n",
    "        self.kappa = 0.2\n",
    "        N = 10\n",
    "        self.ones = torch.ones(10)\n",
    "        self.var_dim = N+1 # var = (x, t)\n",
    "        self.sol_dim = 1    \n",
    "            \n",
    "        self.equation = lambda u, var: div(u, var[-1]) + torch.sum((cat(var[:-1]) - self.x_d)**2, dim=-1, keepdims=True)/2 \\\n",
    "                        + torch.sum((1/N)*self.P(cat(var[:-1]))* D(u, var[:-1]), dim=-1, keepdims=True)\\\n",
    "                        + self.sigma*Δ(u, var[:-1]) \\\n",
    "                        - (1/(2*self.gamma))*torch.sum(D(u, var[:-1])**2, dim=-1, keepdims=True)\n",
    "        self.domain_func = [(lambda var: self.sampling(var[:-1]) + [5*var[-1]], 128)]\n",
    "        self.boundary_cond = [lambda u, var: u -torch.sum((cat(var[:-1]) - self.x_d)**2, dim=-1, keepdims=True)/2] \n",
    "        self.boundary_func = [(lambda var: self.sampling(var[:-1]) + [0.1*var[-1]+5], 64)]\n",
    "        \n",
    "    def P(self, X):\n",
    "        matrix = torch.einsum(\"bi, j -> bij\", X, self.ones) - torch.einsum(\"bi, j -> bji\", X, self.ones)\n",
    "        return torch.sum((matrix <= self.kappa)*matrix, dim=-1)\n",
    "        \n",
    "\n",
    "    def sampling(self, var):\n",
    "        means_clusters = torch.randint(0, self.var_dim-1, size=(var[-1].shape[0], self.var_dim-1))\n",
    "        compactness_clusters = torch.randint(0, self.var_dim-1, size=(var[-1].shape[0], self.var_dim-1))\n",
    "        means = (torch.rand((var[-1].shape[0], self.var_dim-1))-0.5)*2 + self.x_d\n",
    "        compactness = torch.rand((var[-1].shape[0], self.var_dim-1))\n",
    "        return [(var[i]-0.5)*compactness.gather(-1, compactness_clusters[:, None, i]) + means.gather(-1, means_clusters[:, None, i]) for i in range(len(var))] "
   ]
  },
  {
   "cell_type": "code",
   "execution_count": 20,
   "id": "registered-astrology",
   "metadata": {},
   "outputs": [
    {
     "name": "stderr",
     "output_type": "stream",
     "text": [
      "100%|██████████| 800/800 [00:58<00:00, 13.73 it/s]\n"
     ]
    },
    {
     "data": {
      "application/vnd.plotly.v1+json": {
       "config": {
        "plotlyServerURL": "https://plot.ly"
       },
       "data": [
        {
         "mode": "lines",
         "name": "Error at x=0.1",
         "type": "scatter",
         "x": [
          0,
          1,
          2,
          3,
          4,
          5,
          6,
          7,
          8,
          9,
          10,
          11,
          12,
          13,
          14,
          15,
          16,
          17,
          18,
          19,
          20,
          21,
          22,
          23,
          24,
          25,
          26,
          27,
          28,
          29,
          30,
          31,
          32,
          33,
          34,
          35,
          36,
          37,
          38,
          39,
          40,
          41,
          42,
          43,
          44,
          45,
          46,
          47,
          48,
          49,
          50,
          51,
          52,
          53,
          54,
          55,
          56,
          57,
          58,
          59,
          60,
          61,
          62,
          63,
          64,
          65,
          66,
          67,
          68,
          69,
          70,
          71,
          72,
          73,
          74,
          75,
          76,
          77,
          78,
          79,
          80,
          81,
          82,
          83,
          84,
          85,
          86,
          87,
          88,
          89,
          90,
          91,
          92,
          93,
          94,
          95,
          96,
          97,
          98,
          99,
          100,
          101,
          102,
          103,
          104,
          105,
          106,
          107,
          108,
          109,
          110,
          111,
          112,
          113,
          114,
          115,
          116,
          117,
          118,
          119,
          120,
          121,
          122,
          123,
          124,
          125,
          126,
          127,
          128,
          129,
          130,
          131,
          132,
          133,
          134,
          135,
          136,
          137,
          138,
          139,
          140,
          141,
          142,
          143,
          144,
          145,
          146,
          147,
          148,
          149,
          150,
          151,
          152,
          153,
          154,
          155,
          156,
          157,
          158,
          159,
          160,
          161,
          162,
          163,
          164,
          165,
          166,
          167,
          168,
          169,
          170,
          171,
          172,
          173,
          174,
          175,
          176,
          177,
          178,
          179,
          180,
          181,
          182,
          183,
          184,
          185,
          186,
          187,
          188,
          189,
          190,
          191,
          192,
          193,
          194,
          195,
          196,
          197,
          198,
          199,
          200,
          201,
          202,
          203,
          204,
          205,
          206,
          207,
          208,
          209,
          210,
          211,
          212,
          213,
          214,
          215,
          216,
          217,
          218,
          219,
          220,
          221,
          222,
          223,
          224,
          225,
          226,
          227,
          228,
          229,
          230,
          231,
          232,
          233,
          234,
          235,
          236,
          237,
          238,
          239,
          240,
          241,
          242,
          243,
          244,
          245,
          246,
          247,
          248,
          249,
          250,
          251,
          252,
          253,
          254,
          255,
          256,
          257,
          258,
          259,
          260,
          261,
          262,
          263,
          264,
          265,
          266,
          267,
          268,
          269,
          270,
          271,
          272,
          273,
          274,
          275,
          276,
          277,
          278,
          279,
          280,
          281,
          282,
          283,
          284,
          285,
          286,
          287,
          288,
          289,
          290,
          291,
          292,
          293,
          294,
          295,
          296,
          297,
          298,
          299,
          300,
          301,
          302,
          303,
          304,
          305,
          306,
          307,
          308,
          309,
          310,
          311,
          312,
          313,
          314,
          315,
          316,
          317,
          318,
          319,
          320,
          321,
          322,
          323,
          324,
          325,
          326,
          327,
          328,
          329,
          330,
          331,
          332,
          333,
          334,
          335,
          336,
          337,
          338,
          339,
          340,
          341,
          342,
          343,
          344,
          345,
          346,
          347,
          348,
          349,
          350,
          351,
          352,
          353,
          354,
          355,
          356,
          357,
          358,
          359,
          360,
          361,
          362,
          363,
          364,
          365,
          366,
          367,
          368,
          369,
          370,
          371,
          372,
          373,
          374,
          375,
          376,
          377,
          378,
          379,
          380,
          381,
          382,
          383,
          384,
          385,
          386,
          387,
          388,
          389,
          390,
          391,
          392,
          393,
          394,
          395,
          396,
          397,
          398,
          399,
          400,
          401,
          402,
          403,
          404,
          405,
          406,
          407,
          408,
          409,
          410,
          411,
          412,
          413,
          414,
          415,
          416,
          417,
          418,
          419,
          420,
          421,
          422,
          423,
          424,
          425,
          426,
          427,
          428,
          429,
          430,
          431,
          432,
          433,
          434,
          435,
          436,
          437,
          438,
          439,
          440,
          441,
          442,
          443,
          444,
          445,
          446,
          447,
          448,
          449,
          450,
          451,
          452,
          453,
          454,
          455,
          456,
          457,
          458,
          459,
          460,
          461,
          462,
          463,
          464,
          465,
          466,
          467,
          468,
          469,
          470,
          471,
          472,
          473,
          474,
          475,
          476,
          477,
          478,
          479,
          480,
          481,
          482,
          483,
          484,
          485,
          486,
          487,
          488,
          489,
          490,
          491,
          492,
          493,
          494,
          495,
          496,
          497,
          498,
          499,
          500,
          501,
          502,
          503,
          504,
          505,
          506,
          507,
          508,
          509,
          510,
          511,
          512,
          513,
          514,
          515,
          516,
          517,
          518,
          519,
          520,
          521,
          522,
          523,
          524,
          525,
          526,
          527,
          528,
          529,
          530,
          531,
          532,
          533,
          534,
          535,
          536,
          537,
          538,
          539,
          540,
          541,
          542,
          543,
          544,
          545,
          546,
          547,
          548,
          549,
          550,
          551,
          552,
          553,
          554,
          555,
          556,
          557,
          558,
          559,
          560,
          561,
          562,
          563,
          564,
          565,
          566,
          567,
          568,
          569,
          570,
          571,
          572,
          573,
          574,
          575,
          576,
          577,
          578,
          579,
          580,
          581,
          582,
          583,
          584,
          585,
          586,
          587,
          588,
          589,
          590,
          591,
          592,
          593,
          594,
          595,
          596,
          597,
          598,
          599,
          600,
          601,
          602,
          603,
          604,
          605,
          606,
          607,
          608,
          609,
          610,
          611,
          612,
          613,
          614,
          615,
          616,
          617,
          618,
          619,
          620,
          621,
          622,
          623,
          624,
          625,
          626,
          627,
          628,
          629,
          630,
          631,
          632,
          633,
          634,
          635,
          636,
          637,
          638,
          639,
          640,
          641,
          642,
          643,
          644,
          645,
          646,
          647,
          648,
          649,
          650,
          651,
          652,
          653,
          654,
          655,
          656,
          657,
          658,
          659,
          660,
          661,
          662,
          663,
          664,
          665,
          666,
          667,
          668,
          669,
          670,
          671,
          672,
          673,
          674,
          675,
          676,
          677,
          678,
          679,
          680,
          681,
          682,
          683,
          684,
          685,
          686,
          687,
          688,
          689,
          690,
          691,
          692,
          693,
          694,
          695,
          696,
          697,
          698,
          699,
          700,
          701,
          702,
          703,
          704,
          705,
          706,
          707,
          708,
          709,
          710,
          711,
          712,
          713,
          714,
          715,
          716,
          717,
          718,
          719,
          720,
          721,
          722,
          723,
          724,
          725,
          726,
          727,
          728,
          729,
          730,
          731,
          732,
          733,
          734,
          735,
          736,
          737,
          738,
          739,
          740,
          741,
          742,
          743,
          744,
          745,
          746,
          747,
          748,
          749,
          750,
          751,
          752,
          753,
          754,
          755,
          756,
          757,
          758,
          759,
          760,
          761,
          762,
          763,
          764,
          765,
          766,
          767,
          768,
          769,
          770,
          771,
          772,
          773,
          774,
          775,
          776,
          777,
          778,
          779,
          780,
          781,
          782,
          783,
          784,
          785,
          786,
          787,
          788,
          789,
          790
         ],
         "xaxis": "x",
         "y": [
          15.377044820785523,
          11.483901739120483,
          11.224261903762818,
          10.067322731018066,
          8.71346049308777,
          7.7736986637115475,
          7.636801528930664,
          7.8824982166290285,
          7.657818222045899,
          7.251327133178711,
          6.513603925704956,
          6.258868169784546,
          6.149859762191772,
          6.1380448818206785,
          6.079222917556763,
          5.994035100936889,
          6.016550874710083,
          5.8113785743713375,
          5.742699670791626,
          5.6508376121521,
          5.704198122024536,
          5.760060882568359,
          5.7591619968414305,
          5.751028156280517,
          5.574643325805664,
          5.707407283782959,
          5.610262489318847,
          5.524155330657959,
          5.453935337066651,
          5.3744548797607425,
          5.468972969055176,
          5.304388809204101,
          5.400850296020508,
          5.42337965965271,
          5.4299729347229,
          5.156454563140869,
          5.121285629272461,
          5.018673419952393,
          4.99257001876831,
          4.929043388366699,
          4.702401876449585,
          4.670734167098999,
          4.497419738769532,
          4.3364157438278195,
          4.3943660974502565,
          4.425612568855286,
          4.450766253471374,
          4.623249077796936,
          4.687756466865539,
          4.736304879188538,
          4.846842885017395,
          4.90686252117157,
          5.043485617637634,
          5.142579793930054,
          5.042743110656739,
          5.0500163555145265,
          4.874262380599975,
          4.73302583694458,
          4.774316453933716,
          4.633746385574341,
          4.4819536209106445,
          4.421906757354736,
          4.380399703979492,
          4.473082542419434,
          4.436237478256226,
          4.571714735031128,
          4.717371225357056,
          4.707790327072144,
          4.616600799560547,
          4.6573930263519285,
          4.7808490753173825,
          4.933001279830933,
          4.930700969696045,
          4.884661531448364,
          4.9442119121551515,
          4.853290605545044,
          4.9341805934906,
          5.00671534538269,
          4.92551212310791,
          4.9405896186828615,
          4.961150360107422,
          4.931441068649292,
          4.870039916038513,
          4.892566657066345,
          4.94411256313324,
          4.857761788368225,
          4.781504893302918,
          4.634998440742493,
          4.683153796195984,
          4.827177834510803,
          4.820380902290344,
          4.780934453010559,
          4.915036535263061,
          4.967186737060547,
          4.937608051300049,
          4.950972604751587,
          4.83723635673523,
          4.97189040184021,
          4.978361988067627,
          5.020369958877564,
          4.970604610443115,
          4.907930469512939,
          4.861758852005005,
          4.751999711990356,
          4.704235076904297,
          4.7487757205963135,
          4.874708366394043,
          4.811053895950318,
          4.727734565734863,
          4.552583694458008,
          4.609887599945068,
          4.603243589401245,
          4.525214266777039,
          4.562121558189392,
          4.708340525627136,
          4.659363484382629,
          4.580706381797791,
          4.753424525260925,
          4.858328843116761,
          4.871493077278137,
          4.735487461090088,
          4.860625839233398,
          4.829342269897461,
          4.826695919036865,
          4.741590261459351,
          4.6899803400039675,
          4.561723399162292,
          4.331717467308044,
          4.346053528785705,
          4.330865359306335,
          4.357191467285157,
          4.205698013305664,
          4.230570912361145,
          4.124437928199768,
          4.084038186073303,
          4.132145833969116,
          4.1917390584945675,
          4.2784504175186155,
          4.213458847999573,
          4.374247813224793,
          4.267231106758118,
          4.249332022666931,
          4.272234177589416,
          4.281572413444519,
          4.2607886552810665,
          4.204882979393005,
          4.182265520095825,
          4.038449668884278,
          3.9625594139099123,
          3.6716295719146728,
          3.663836932182312,
          3.545906972885132,
          3.5202341318130492,
          3.5517448663711546,
          3.442882776260376,
          3.4658496379852295,
          3.481427240371704,
          3.6087973594665526,
          3.608098793029785,
          3.582645297050476,
          3.816054105758667,
          3.8862096071243286,
          3.9174458026885985,
          3.88265860080719,
          3.881290078163147,
          3.8329633235931397,
          3.8171016931533814,
          3.681566333770752,
          3.719217371940613,
          3.7587140560150147,
          3.528974509239197,
          3.5309296607971192,
          3.478899049758911,
          3.4461605310440064,
          3.375956678390503,
          3.342151737213135,
          3.4344250440597532,
          3.4527920722961425,
          3.411706280708313,
          3.2682523488998414,
          3.33084397315979,
          3.3158793210983277,
          3.427351546287537,
          3.3794317483901977,
          3.3957101106643677,
          3.471250367164612,
          3.4708770990371702,
          3.4761271715164184,
          3.5380175590515135,
          3.65898118019104,
          3.583569312095642,
          3.5668226718902587,
          3.3880305528640746,
          3.4485325813293457,
          3.4773600816726686,
          3.389925789833069,
          3.257456064224243,
          3.24018657207489,
          3.188573122024536,
          3.199459981918335,
          3.2144631862640383,
          3.135882353782654,
          3.1007174253463745,
          3.0308536529541015,
          3.007957196235657,
          3.048158073425293,
          3.029574751853943,
          2.9868354320526125,
          2.8650608539581297,
          2.8561489582061768,
          2.8924606800079347,
          2.8724777698516846,
          2.8819961547851562,
          2.8151981353759767,
          2.7679254531860353,
          2.8175885915756225,
          2.807925653457642,
          2.7679522037506104,
          2.9260706186294554,
          2.893258237838745,
          2.819670820236206,
          2.7874654293060304,
          2.776288962364197,
          2.8380549907684327,
          2.771829295158386,
          2.6238532304763793,
          2.697626733779907,
          2.7180304527282715,
          2.5770220279693605,
          2.5336830615997314,
          2.530090880393982,
          2.5978777408599854,
          2.6343623638153075,
          2.6146887063980104,
          2.7154003620147704,
          2.74264976978302,
          2.6064204454421995,
          2.665760564804077,
          2.706411671638489,
          2.704729461669922,
          2.7035881757736204,
          2.7240694761276245,
          2.7449822187423707,
          2.686373257637024,
          2.7814451456069946,
          2.7591769695281982,
          2.8494741439819338,
          2.85192449092865,
          2.8451640129089357,
          2.856285905838013,
          2.8610790967941284,
          2.856156039237976,
          2.7977990388870237,
          2.8627407789230346,
          2.7940600872039796,
          2.823631834983826,
          2.7870725631713866,
          2.727565288543701,
          2.7336960554122927,
          2.7142000913619997,
          2.7267254829406737,
          2.666520595550537,
          2.611631751060486,
          2.5741125106811524,
          2.5177799701690673,
          2.526104784011841,
          2.492089772224426,
          2.5238312482833862,
          2.4882389307022095,
          2.515192675590515,
          2.5555890083312987,
          2.5566207647323607,
          2.6439842224121093,
          2.6436733961105348,
          2.655397057533264,
          2.6775342226028442,
          2.717363214492798,
          2.7288066864013674,
          2.7154308795928954,
          2.7690855741500853,
          2.6497541666030884,
          2.6503278255462646,
          2.687086486816406,
          2.6860481023788454,
          2.6338739156723023,
          2.5771770238876344,
          2.532482933998108,
          2.493614745140076,
          2.537974977493286,
          2.471711015701294,
          2.5209712982177734,
          2.5066718578338625,
          2.4170783519744874,
          2.4171590566635133,
          2.453181266784668,
          2.4803059101104736,
          2.475997281074524,
          2.5053122997283936,
          2.4677510261535645,
          2.441503667831421,
          2.382745110988617,
          2.374570620059967,
          2.404325020313263,
          2.4244632363319396,
          2.504199516773224,
          2.557137906551361,
          2.5702961802482607,
          2.5353673577308653,
          2.656700241565704,
          2.6990496039390566,
          2.9778647422790527,
          3.005874752998352,
          3.056630778312683,
          3.095400857925415,
          3.124982810020447,
          3.0302881956100465,
          3.0521108388900755,
          3.0313347578048706,
          2.9830129384994506,
          3.0405282974243164,
          2.7959573030471803,
          2.8834850072860716,
          2.8231860637664794,
          2.877018451690674,
          2.8230924129486086,
          2.7726031064987184,
          2.7992931842803954,
          2.8411152362823486,
          2.897372913360596,
          2.851901984214783,
          2.8454035043716432,
          2.741986322402954,
          2.767536425590515,
          2.75123610496521,
          2.6939701080322265,
          2.812218451499939,
          2.7815818548202516,
          2.814332628250122,
          2.807184672355652,
          2.759646463394165,
          2.8364266395568847,
          2.8634647607803343,
          2.816745400428772,
          2.7415784120559694,
          2.7211333513259888,
          2.717760109901428,
          2.6336076736450194,
          2.5913100242614746,
          2.533434510231018,
          2.6455720186233522,
          2.5755151748657226,
          2.5742681980133058,
          2.580796456336975,
          2.632197070121765,
          2.6988428115844725,
          2.6995243310928343,
          2.903275394439697,
          2.9261784076690676,
          2.90975022315979,
          2.8289006471633913,
          2.818991208076477,
          2.7468641996383667,
          2.794009780883789,
          2.7290613651275635,
          2.6715203285217286,
          2.6504544734954836,
          2.591556525230408,
          2.5189627170562745,
          2.4823476552963255,
          2.4436066865921022,
          2.4431102514266967,
          2.4967957019805906,
          2.3963700890541078,
          2.399880087375641,
          2.3883628249168396,
          2.3923717617988585,
          2.412959086894989,
          2.3612661480903627,
          2.341055119037628,
          2.308308470249176,
          2.307007372379303,
          2.3347680449485777,
          2.3687400579452516,
          2.2434983968734743,
          2.338447833061218,
          2.319932723045349,
          2.185132312774658,
          2.2888057470321654,
          2.3392391920089723,
          2.37573127746582,
          2.385438895225525,
          2.2937543630599975,
          2.244631516933441,
          2.436846911907196,
          2.328554093837738,
          2.3528454899787903,
          2.387109434604645,
          2.3790316224098205,
          2.3654008507728577,
          2.3957547545433044,
          2.4344844698905943,
          2.545575535297394,
          2.6403077602386475,
          2.5638163566589354,
          2.5651190757751463,
          2.527140998840332,
          2.4732069969177246,
          2.3972380638122557,
          2.3875462770462037,
          2.301324415206909,
          2.290467858314514,
          2.257845377922058,
          2.2447347164154055,
          2.256030321121216,
          2.317937445640564,
          2.3047162532806396,
          2.3554676294326784,
          2.423242688179016,
          2.4500927448272707,
          2.5251197099685667,
          2.444704222679138,
          2.4221957445144655,
          2.3885138273239135,
          2.3656039237976074,
          2.382395124435425,
          2.3458277702331545,
          2.4281234979629516,
          2.481783938407898,
          2.441240406036377,
          2.417635750770569,
          2.496173119544983,
          2.5053279638290404,
          2.577513885498047,
          2.6040987730026246,
          2.5887203931808473,
          2.653528356552124,
          2.5734825134277344,
          2.4253640294075014,
          2.4122763752937315,
          2.488626706600189,
          2.4914054036140443,
          2.5295307755470278,
          2.4760889410972595,
          2.457761895656586,
          2.412852442264557,
          2.487386691570282,
          2.456656610965729,
          2.552656865119934,
          2.565059018135071,
          2.5085083484649657,
          2.447170376777649,
          2.383141303062439,
          2.4951891899108887,
          2.581564712524414,
          2.5597432017326356,
          2.4761194586753845,
          2.4439967393875124,
          2.4989379167556764,
          2.4906510591506956,
          2.5265459537506105,
          2.580479097366333,
          2.62925980091095,
          2.519636368751526,
          2.504781985282898,
          2.4881631255149843,
          2.471292769908905,
          2.5173532009124755,
          2.450332450866699,
          2.521450138092041,
          2.4554125308990478,
          2.4850838661193846,
          2.4542758226394654,
          2.401822340488434,
          2.344115674495697,
          2.4100640654563903,
          2.442641007900238,
          2.45818852186203,
          2.4663231015205382,
          2.381985914707184,
          2.367871034145355,
          2.338603150844574,
          2.3351321816444397,
          2.3501124143600465,
          2.3247774124145506,
          2.258200776576996,
          2.266166460514069,
          2.281908094882965,
          2.2840923190116884,
          2.286391866207123,
          2.333656942844391,
          2.277568852901459,
          2.2539499402046204,
          2.249431884288788,
          2.2966522097587587,
          2.3421111583709715,
          2.3012150287628175,
          2.315833306312561,
          2.337147831916809,
          2.4098322868347166,
          2.420070219039917,
          2.452027606964111,
          2.4181812047958373,
          2.4400879383087157,
          2.3420166611671447,
          2.4668465495109557,
          2.443086302280426,
          2.4334447264671324,
          2.465333092212677,
          2.4030550837516786,
          2.4016082644462586,
          2.4179604172706606,
          2.5473549485206606,
          2.528730499744415,
          2.591493844985962,
          2.431549644470215,
          2.460219621658325,
          2.4086907386779783,
          2.4069314002990723,
          2.4074084997177123,
          2.3901652336120605,
          2.3841221570968627,
          2.2789098024368286,
          2.242011773586273,
          2.241981637477875,
          2.2323387980461122,
          2.25922611951828,
          2.236784744262695,
          2.0945186734199526,
          2.1445315718650817,
          2.1186260342597962,
          2.1457890629768372,
          2.183252274990082,
          2.3082130432128904,
          2.3377923011779784,
          2.3181556224823,
          2.2412654638290403,
          2.321907031536102,
          2.393676590919495,
          2.4175328731536867,
          2.4312164545059205,
          2.443156909942627,
          2.458847737312317,
          2.407588815689087,
          2.407945489883423,
          2.5039316177368165,
          2.5520760774612428,
          2.486888957023621,
          2.49205322265625,
          2.3856204390525817,
          2.401181995868683,
          2.327989423274994,
          2.2862943530082704,
          2.306988298892975,
          2.2791061997413635,
          2.2738564133644106,
          2.306939685344696,
          2.275839555263519,
          2.274173009395599,
          2.284566843509674,
          2.2351290702819826,
          2.2307013988494875,
          2.1973257780075075,
          2.1272515535354612,
          2.160188150405884,
          2.103714179992676,
          1.9791832447052002,
          2.043298101425171,
          1.9812309503555299,
          1.941291332244873,
          1.9110223531723023,
          1.929455304145813,
          1.968937134742737,
          2.0169811964035036,
          1.9226441383361816,
          1.8921061158180237,
          1.9662574410438538,
          1.9586405396461486,
          2.010097062587738,
          2.0880003213882445,
          2.158094108104706,
          2.2123278975486755,
          2.236713969707489,
          2.156215178966522,
          2.2508780360221863,
          2.3174763441085817,
          2.342485022544861,
          2.361012506484985,
          2.416698431968689,
          2.3456875681877136,
          2.322596538066864,
          2.262369453907013,
          2.214662802219391,
          2.34042147397995,
          2.2517409563064574,
          2.2594756841659547,
          2.2262300729751585,
          2.200502610206604,
          2.147179293632507,
          2.1393787384033205,
          2.1112810254096983,
          2.1511025071144103,
          2.1765077710151672,
          2.094759929180145,
          2.1041845440864564,
          2.198972260951996,
          2.2106367707252503,
          2.1993533968925476,
          2.1643240809440614,
          2.1837361097335815,
          2.1891586542129517,
          2.141691040992737,
          2.100288987159729,
          2.1272220373153687,
          2.160109555721283,
          2.1256460785865783,
          2.1536583304405212,
          2.1129211664199827,
          2.163949704170227,
          2.2435988426208495,
          2.2680774569511413,
          2.2953747868537904,
          2.3207215428352357,
          2.275908386707306,
          2.2620047450065615,
          2.190416419506073,
          2.172946798801422,
          2.1918892741203306,
          2.165612494945526,
          2.066137909889221,
          2.073501372337341,
          2.0775457620620728,
          2.1039340257644654,
          2.154635429382324,
          2.1844085693359374,
          2.18142716884613,
          2.1694210529327393,
          2.2177635788917542,
          2.2477367758750915,
          2.2816475868225097,
          2.282829737663269,
          2.215531420707703,
          2.203937554359436,
          2.190967297554016,
          2.13459552526474,
          2.201547610759735,
          2.190402019023895,
          2.2214035868644713,
          2.257640850543976,
          2.36725457906723,
          2.363729727268219,
          2.5401285529136657,
          2.6040557980537415,
          2.580049955844879,
          2.6539720058441163,
          2.600754809379578,
          2.6026105642318726,
          2.5746196269989015,
          2.6362480878829957,
          2.5014892697334288,
          2.505514919757843,
          2.380078065395355,
          2.3586594462394714,
          2.4611104846000673,
          2.447352921962738,
          2.482022249698639,
          2.43123345375061,
          2.3740097284317017,
          2.2661277294158935,
          2.36595755815506,
          2.3607919335365297,
          2.351906931400299,
          2.325213634967804,
          2.263557803630829,
          2.2634769082069397,
          2.242684543132782,
          2.366611933708191,
          2.403291130065918,
          2.3794455766677856,
          2.3365292072296144,
          2.3157418012619018,
          2.3315098762512205,
          2.3476130247116087,
          2.2603378772735594,
          2.229995274543762,
          2.2346842527389525,
          2.2638614892959597,
          2.2292158961296082,
          2.2140873074531555,
          2.1452082991600037,
          2.153104865550995,
          2.126572835445404,
          2.1027480959892273,
          2.183467376232147,
          2.1884838700294496,
          2.119335687160492,
          1.968775177001953,
          2.043792998790741,
          2.0881206393241882,
          2.244653809070587,
          2.2290856003761292,
          2.28861004114151,
          2.315730559825897,
          2.240160346031189,
          2.204250490665436,
          2.2308367609977724,
          2.3259476900100706,
          2.30090446472168,
          2.36126708984375,
          2.283254528045654,
          2.2492255926132203,
          2.2177531242370607,
          2.251443076133728,
          2.315630614757538,
          2.427811050415039,
          2.4276217937469484,
          2.400621795654297,
          2.416174840927124,
          2.449868392944336,
          2.450225043296814,
          2.5204294443130495,
          2.5503792762756348,
          2.442715859413147,
          2.4013949394226075,
          2.2916876316070556,
          2.3012085437774656,
          2.3473729848861695,
          2.2665387749671937,
          2.122968852519989,
          2.048190939426422,
          2.134651744365692,
          2.078254961967468,
          2.194188952445984,
          2.2426593542099,
          2.2397210001945496,
          2.242157590389252,
          2.14537992477417,
          2.2215392231941222,
          2.254865491390228,
          2.3496081709861754,
          2.2439711928367614,
          2.184362161159515,
          2.083729648590088,
          2.134018135070801,
          2.2201327681541443,
          2.2378571391105653,
          2.2480473160743712,
          2.1918681859970093,
          2.185824418067932,
          2.132262122631073,
          2.160099375247955,
          2.301725482940674,
          2.3653594851493835,
          2.2889962077140806,
          2.3005876421928404,
          2.2596361517906187,
          2.3027264356613157,
          2.3516388297080995,
          2.353801262378693,
          2.396288585662842,
          2.441546988487244,
          2.3602491855621337,
          2.331507849693298,
          2.3972271919250487,
          2.3898268699645997,
          2.4537845611572267,
          2.4794161558151244,
          2.444102239608765,
          2.4997132301330565,
          2.499028182029724,
          2.4424500942230223,
          2.46358323097229,
          2.4530673265457152,
          2.3735772371292114,
          2.3511614322662355,
          2.4014411211013793,
          2.3662322521209718,
          2.3995614051818848,
          2.390428566932678,
          2.384329581260681,
          2.3690618753433226,
          2.5341878175735473,
          2.5809242486953736,
          2.590177035331726,
          2.596672534942627,
          2.490543079376221,
          2.456508696079254,
          2.467920410633087,
          2.4881573796272276,
          2.415917730331421,
          2.4103822469711305,
          2.300651121139526
         ],
         "yaxis": "y"
        }
       ],
       "layout": {
        "font": {
         "family": "Courier New, monospace",
         "size": 14
        },
        "template": {
         "data": {
          "bar": [
           {
            "error_x": {
             "color": "#2a3f5f"
            },
            "error_y": {
             "color": "#2a3f5f"
            },
            "marker": {
             "line": {
              "color": "#E5ECF6",
              "width": 0.5
             }
            },
            "type": "bar"
           }
          ],
          "barpolar": [
           {
            "marker": {
             "line": {
              "color": "#E5ECF6",
              "width": 0.5
             }
            },
            "type": "barpolar"
           }
          ],
          "carpet": [
           {
            "aaxis": {
             "endlinecolor": "#2a3f5f",
             "gridcolor": "white",
             "linecolor": "white",
             "minorgridcolor": "white",
             "startlinecolor": "#2a3f5f"
            },
            "baxis": {
             "endlinecolor": "#2a3f5f",
             "gridcolor": "white",
             "linecolor": "white",
             "minorgridcolor": "white",
             "startlinecolor": "#2a3f5f"
            },
            "type": "carpet"
           }
          ],
          "choropleth": [
           {
            "colorbar": {
             "outlinewidth": 0,
             "ticks": ""
            },
            "type": "choropleth"
           }
          ],
          "contour": [
           {
            "colorbar": {
             "outlinewidth": 0,
             "ticks": ""
            },
            "colorscale": [
             [
              0,
              "#0d0887"
             ],
             [
              0.1111111111111111,
              "#46039f"
             ],
             [
              0.2222222222222222,
              "#7201a8"
             ],
             [
              0.3333333333333333,
              "#9c179e"
             ],
             [
              0.4444444444444444,
              "#bd3786"
             ],
             [
              0.5555555555555556,
              "#d8576b"
             ],
             [
              0.6666666666666666,
              "#ed7953"
             ],
             [
              0.7777777777777778,
              "#fb9f3a"
             ],
             [
              0.8888888888888888,
              "#fdca26"
             ],
             [
              1,
              "#f0f921"
             ]
            ],
            "type": "contour"
           }
          ],
          "contourcarpet": [
           {
            "colorbar": {
             "outlinewidth": 0,
             "ticks": ""
            },
            "type": "contourcarpet"
           }
          ],
          "heatmap": [
           {
            "colorbar": {
             "outlinewidth": 0,
             "ticks": ""
            },
            "colorscale": [
             [
              0,
              "#0d0887"
             ],
             [
              0.1111111111111111,
              "#46039f"
             ],
             [
              0.2222222222222222,
              "#7201a8"
             ],
             [
              0.3333333333333333,
              "#9c179e"
             ],
             [
              0.4444444444444444,
              "#bd3786"
             ],
             [
              0.5555555555555556,
              "#d8576b"
             ],
             [
              0.6666666666666666,
              "#ed7953"
             ],
             [
              0.7777777777777778,
              "#fb9f3a"
             ],
             [
              0.8888888888888888,
              "#fdca26"
             ],
             [
              1,
              "#f0f921"
             ]
            ],
            "type": "heatmap"
           }
          ],
          "heatmapgl": [
           {
            "colorbar": {
             "outlinewidth": 0,
             "ticks": ""
            },
            "colorscale": [
             [
              0,
              "#0d0887"
             ],
             [
              0.1111111111111111,
              "#46039f"
             ],
             [
              0.2222222222222222,
              "#7201a8"
             ],
             [
              0.3333333333333333,
              "#9c179e"
             ],
             [
              0.4444444444444444,
              "#bd3786"
             ],
             [
              0.5555555555555556,
              "#d8576b"
             ],
             [
              0.6666666666666666,
              "#ed7953"
             ],
             [
              0.7777777777777778,
              "#fb9f3a"
             ],
             [
              0.8888888888888888,
              "#fdca26"
             ],
             [
              1,
              "#f0f921"
             ]
            ],
            "type": "heatmapgl"
           }
          ],
          "histogram": [
           {
            "marker": {
             "colorbar": {
              "outlinewidth": 0,
              "ticks": ""
             }
            },
            "type": "histogram"
           }
          ],
          "histogram2d": [
           {
            "colorbar": {
             "outlinewidth": 0,
             "ticks": ""
            },
            "colorscale": [
             [
              0,
              "#0d0887"
             ],
             [
              0.1111111111111111,
              "#46039f"
             ],
             [
              0.2222222222222222,
              "#7201a8"
             ],
             [
              0.3333333333333333,
              "#9c179e"
             ],
             [
              0.4444444444444444,
              "#bd3786"
             ],
             [
              0.5555555555555556,
              "#d8576b"
             ],
             [
              0.6666666666666666,
              "#ed7953"
             ],
             [
              0.7777777777777778,
              "#fb9f3a"
             ],
             [
              0.8888888888888888,
              "#fdca26"
             ],
             [
              1,
              "#f0f921"
             ]
            ],
            "type": "histogram2d"
           }
          ],
          "histogram2dcontour": [
           {
            "colorbar": {
             "outlinewidth": 0,
             "ticks": ""
            },
            "colorscale": [
             [
              0,
              "#0d0887"
             ],
             [
              0.1111111111111111,
              "#46039f"
             ],
             [
              0.2222222222222222,
              "#7201a8"
             ],
             [
              0.3333333333333333,
              "#9c179e"
             ],
             [
              0.4444444444444444,
              "#bd3786"
             ],
             [
              0.5555555555555556,
              "#d8576b"
             ],
             [
              0.6666666666666666,
              "#ed7953"
             ],
             [
              0.7777777777777778,
              "#fb9f3a"
             ],
             [
              0.8888888888888888,
              "#fdca26"
             ],
             [
              1,
              "#f0f921"
             ]
            ],
            "type": "histogram2dcontour"
           }
          ],
          "mesh3d": [
           {
            "colorbar": {
             "outlinewidth": 0,
             "ticks": ""
            },
            "type": "mesh3d"
           }
          ],
          "parcoords": [
           {
            "line": {
             "colorbar": {
              "outlinewidth": 0,
              "ticks": ""
             }
            },
            "type": "parcoords"
           }
          ],
          "pie": [
           {
            "automargin": true,
            "type": "pie"
           }
          ],
          "scatter": [
           {
            "marker": {
             "colorbar": {
              "outlinewidth": 0,
              "ticks": ""
             }
            },
            "type": "scatter"
           }
          ],
          "scatter3d": [
           {
            "line": {
             "colorbar": {
              "outlinewidth": 0,
              "ticks": ""
             }
            },
            "marker": {
             "colorbar": {
              "outlinewidth": 0,
              "ticks": ""
             }
            },
            "type": "scatter3d"
           }
          ],
          "scattercarpet": [
           {
            "marker": {
             "colorbar": {
              "outlinewidth": 0,
              "ticks": ""
             }
            },
            "type": "scattercarpet"
           }
          ],
          "scattergeo": [
           {
            "marker": {
             "colorbar": {
              "outlinewidth": 0,
              "ticks": ""
             }
            },
            "type": "scattergeo"
           }
          ],
          "scattergl": [
           {
            "marker": {
             "colorbar": {
              "outlinewidth": 0,
              "ticks": ""
             }
            },
            "type": "scattergl"
           }
          ],
          "scattermapbox": [
           {
            "marker": {
             "colorbar": {
              "outlinewidth": 0,
              "ticks": ""
             }
            },
            "type": "scattermapbox"
           }
          ],
          "scatterpolar": [
           {
            "marker": {
             "colorbar": {
              "outlinewidth": 0,
              "ticks": ""
             }
            },
            "type": "scatterpolar"
           }
          ],
          "scatterpolargl": [
           {
            "marker": {
             "colorbar": {
              "outlinewidth": 0,
              "ticks": ""
             }
            },
            "type": "scatterpolargl"
           }
          ],
          "scatterternary": [
           {
            "marker": {
             "colorbar": {
              "outlinewidth": 0,
              "ticks": ""
             }
            },
            "type": "scatterternary"
           }
          ],
          "surface": [
           {
            "colorbar": {
             "outlinewidth": 0,
             "ticks": ""
            },
            "colorscale": [
             [
              0,
              "#0d0887"
             ],
             [
              0.1111111111111111,
              "#46039f"
             ],
             [
              0.2222222222222222,
              "#7201a8"
             ],
             [
              0.3333333333333333,
              "#9c179e"
             ],
             [
              0.4444444444444444,
              "#bd3786"
             ],
             [
              0.5555555555555556,
              "#d8576b"
             ],
             [
              0.6666666666666666,
              "#ed7953"
             ],
             [
              0.7777777777777778,
              "#fb9f3a"
             ],
             [
              0.8888888888888888,
              "#fdca26"
             ],
             [
              1,
              "#f0f921"
             ]
            ],
            "type": "surface"
           }
          ],
          "table": [
           {
            "cells": {
             "fill": {
              "color": "#EBF0F8"
             },
             "line": {
              "color": "white"
             }
            },
            "header": {
             "fill": {
              "color": "#C8D4E3"
             },
             "line": {
              "color": "white"
             }
            },
            "type": "table"
           }
          ]
         },
         "layout": {
          "annotationdefaults": {
           "arrowcolor": "#2a3f5f",
           "arrowhead": 0,
           "arrowwidth": 1
          },
          "autotypenumbers": "strict",
          "coloraxis": {
           "colorbar": {
            "outlinewidth": 0,
            "ticks": ""
           }
          },
          "colorscale": {
           "diverging": [
            [
             0,
             "#8e0152"
            ],
            [
             0.1,
             "#c51b7d"
            ],
            [
             0.2,
             "#de77ae"
            ],
            [
             0.3,
             "#f1b6da"
            ],
            [
             0.4,
             "#fde0ef"
            ],
            [
             0.5,
             "#f7f7f7"
            ],
            [
             0.6,
             "#e6f5d0"
            ],
            [
             0.7,
             "#b8e186"
            ],
            [
             0.8,
             "#7fbc41"
            ],
            [
             0.9,
             "#4d9221"
            ],
            [
             1,
             "#276419"
            ]
           ],
           "sequential": [
            [
             0,
             "#0d0887"
            ],
            [
             0.1111111111111111,
             "#46039f"
            ],
            [
             0.2222222222222222,
             "#7201a8"
            ],
            [
             0.3333333333333333,
             "#9c179e"
            ],
            [
             0.4444444444444444,
             "#bd3786"
            ],
            [
             0.5555555555555556,
             "#d8576b"
            ],
            [
             0.6666666666666666,
             "#ed7953"
            ],
            [
             0.7777777777777778,
             "#fb9f3a"
            ],
            [
             0.8888888888888888,
             "#fdca26"
            ],
            [
             1,
             "#f0f921"
            ]
           ],
           "sequentialminus": [
            [
             0,
             "#0d0887"
            ],
            [
             0.1111111111111111,
             "#46039f"
            ],
            [
             0.2222222222222222,
             "#7201a8"
            ],
            [
             0.3333333333333333,
             "#9c179e"
            ],
            [
             0.4444444444444444,
             "#bd3786"
            ],
            [
             0.5555555555555556,
             "#d8576b"
            ],
            [
             0.6666666666666666,
             "#ed7953"
            ],
            [
             0.7777777777777778,
             "#fb9f3a"
            ],
            [
             0.8888888888888888,
             "#fdca26"
            ],
            [
             1,
             "#f0f921"
            ]
           ]
          },
          "colorway": [
           "#636efa",
           "#EF553B",
           "#00cc96",
           "#ab63fa",
           "#FFA15A",
           "#19d3f3",
           "#FF6692",
           "#B6E880",
           "#FF97FF",
           "#FECB52"
          ],
          "font": {
           "color": "#2a3f5f"
          },
          "geo": {
           "bgcolor": "white",
           "lakecolor": "white",
           "landcolor": "#E5ECF6",
           "showlakes": true,
           "showland": true,
           "subunitcolor": "white"
          },
          "hoverlabel": {
           "align": "left"
          },
          "hovermode": "closest",
          "mapbox": {
           "style": "light"
          },
          "paper_bgcolor": "white",
          "plot_bgcolor": "#E5ECF6",
          "polar": {
           "angularaxis": {
            "gridcolor": "white",
            "linecolor": "white",
            "ticks": ""
           },
           "bgcolor": "#E5ECF6",
           "radialaxis": {
            "gridcolor": "white",
            "linecolor": "white",
            "ticks": ""
           }
          },
          "scene": {
           "xaxis": {
            "backgroundcolor": "#E5ECF6",
            "gridcolor": "white",
            "gridwidth": 2,
            "linecolor": "white",
            "showbackground": true,
            "ticks": "",
            "zerolinecolor": "white"
           },
           "yaxis": {
            "backgroundcolor": "#E5ECF6",
            "gridcolor": "white",
            "gridwidth": 2,
            "linecolor": "white",
            "showbackground": true,
            "ticks": "",
            "zerolinecolor": "white"
           },
           "zaxis": {
            "backgroundcolor": "#E5ECF6",
            "gridcolor": "white",
            "gridwidth": 2,
            "linecolor": "white",
            "showbackground": true,
            "ticks": "",
            "zerolinecolor": "white"
           }
          },
          "shapedefaults": {
           "line": {
            "color": "#2a3f5f"
           }
          },
          "ternary": {
           "aaxis": {
            "gridcolor": "white",
            "linecolor": "white",
            "ticks": ""
           },
           "baxis": {
            "gridcolor": "white",
            "linecolor": "white",
            "ticks": ""
           },
           "bgcolor": "#E5ECF6",
           "caxis": {
            "gridcolor": "white",
            "linecolor": "white",
            "ticks": ""
           }
          },
          "title": {
           "x": 0.05
          },
          "xaxis": {
           "automargin": true,
           "gridcolor": "white",
           "linecolor": "white",
           "ticks": "",
           "title": {
            "standoff": 15
           },
           "zerolinecolor": "white",
           "zerolinewidth": 2
          },
          "yaxis": {
           "automargin": true,
           "gridcolor": "white",
           "linecolor": "white",
           "ticks": "",
           "title": {
            "standoff": 15
           },
           "zerolinecolor": "white",
           "zerolinewidth": 2
          }
         }
        },
        "title": {
         "text": "Loss"
        },
        "xaxis": {
         "anchor": "y",
         "domain": [
          0,
          1
         ],
         "title": {
          "text": "Iterations"
         }
        },
        "yaxis": {
         "anchor": "x",
         "domain": [
          0,
          1
         ],
         "title": {
          "text": "Loss"
         }
        }
       }
      },
      "text/html": [
       "<div>                            <div id=\"c46dc16b-fdf2-41bc-b858-e8401684f2d9\" class=\"plotly-graph-div\" style=\"height:525px; width:100%;\"></div>            <script type=\"text/javascript\">                require([\"plotly\"], function(Plotly) {                    window.PLOTLYENV=window.PLOTLYENV || {};                                    if (document.getElementById(\"c46dc16b-fdf2-41bc-b858-e8401684f2d9\")) {                    Plotly.newPlot(                        \"c46dc16b-fdf2-41bc-b858-e8401684f2d9\",                        [{\"mode\": \"lines\", \"name\": \"Error at x=0.1\", \"type\": \"scatter\", \"x\": [0, 1, 2, 3, 4, 5, 6, 7, 8, 9, 10, 11, 12, 13, 14, 15, 16, 17, 18, 19, 20, 21, 22, 23, 24, 25, 26, 27, 28, 29, 30, 31, 32, 33, 34, 35, 36, 37, 38, 39, 40, 41, 42, 43, 44, 45, 46, 47, 48, 49, 50, 51, 52, 53, 54, 55, 56, 57, 58, 59, 60, 61, 62, 63, 64, 65, 66, 67, 68, 69, 70, 71, 72, 73, 74, 75, 76, 77, 78, 79, 80, 81, 82, 83, 84, 85, 86, 87, 88, 89, 90, 91, 92, 93, 94, 95, 96, 97, 98, 99, 100, 101, 102, 103, 104, 105, 106, 107, 108, 109, 110, 111, 112, 113, 114, 115, 116, 117, 118, 119, 120, 121, 122, 123, 124, 125, 126, 127, 128, 129, 130, 131, 132, 133, 134, 135, 136, 137, 138, 139, 140, 141, 142, 143, 144, 145, 146, 147, 148, 149, 150, 151, 152, 153, 154, 155, 156, 157, 158, 159, 160, 161, 162, 163, 164, 165, 166, 167, 168, 169, 170, 171, 172, 173, 174, 175, 176, 177, 178, 179, 180, 181, 182, 183, 184, 185, 186, 187, 188, 189, 190, 191, 192, 193, 194, 195, 196, 197, 198, 199, 200, 201, 202, 203, 204, 205, 206, 207, 208, 209, 210, 211, 212, 213, 214, 215, 216, 217, 218, 219, 220, 221, 222, 223, 224, 225, 226, 227, 228, 229, 230, 231, 232, 233, 234, 235, 236, 237, 238, 239, 240, 241, 242, 243, 244, 245, 246, 247, 248, 249, 250, 251, 252, 253, 254, 255, 256, 257, 258, 259, 260, 261, 262, 263, 264, 265, 266, 267, 268, 269, 270, 271, 272, 273, 274, 275, 276, 277, 278, 279, 280, 281, 282, 283, 284, 285, 286, 287, 288, 289, 290, 291, 292, 293, 294, 295, 296, 297, 298, 299, 300, 301, 302, 303, 304, 305, 306, 307, 308, 309, 310, 311, 312, 313, 314, 315, 316, 317, 318, 319, 320, 321, 322, 323, 324, 325, 326, 327, 328, 329, 330, 331, 332, 333, 334, 335, 336, 337, 338, 339, 340, 341, 342, 343, 344, 345, 346, 347, 348, 349, 350, 351, 352, 353, 354, 355, 356, 357, 358, 359, 360, 361, 362, 363, 364, 365, 366, 367, 368, 369, 370, 371, 372, 373, 374, 375, 376, 377, 378, 379, 380, 381, 382, 383, 384, 385, 386, 387, 388, 389, 390, 391, 392, 393, 394, 395, 396, 397, 398, 399, 400, 401, 402, 403, 404, 405, 406, 407, 408, 409, 410, 411, 412, 413, 414, 415, 416, 417, 418, 419, 420, 421, 422, 423, 424, 425, 426, 427, 428, 429, 430, 431, 432, 433, 434, 435, 436, 437, 438, 439, 440, 441, 442, 443, 444, 445, 446, 447, 448, 449, 450, 451, 452, 453, 454, 455, 456, 457, 458, 459, 460, 461, 462, 463, 464, 465, 466, 467, 468, 469, 470, 471, 472, 473, 474, 475, 476, 477, 478, 479, 480, 481, 482, 483, 484, 485, 486, 487, 488, 489, 490, 491, 492, 493, 494, 495, 496, 497, 498, 499, 500, 501, 502, 503, 504, 505, 506, 507, 508, 509, 510, 511, 512, 513, 514, 515, 516, 517, 518, 519, 520, 521, 522, 523, 524, 525, 526, 527, 528, 529, 530, 531, 532, 533, 534, 535, 536, 537, 538, 539, 540, 541, 542, 543, 544, 545, 546, 547, 548, 549, 550, 551, 552, 553, 554, 555, 556, 557, 558, 559, 560, 561, 562, 563, 564, 565, 566, 567, 568, 569, 570, 571, 572, 573, 574, 575, 576, 577, 578, 579, 580, 581, 582, 583, 584, 585, 586, 587, 588, 589, 590, 591, 592, 593, 594, 595, 596, 597, 598, 599, 600, 601, 602, 603, 604, 605, 606, 607, 608, 609, 610, 611, 612, 613, 614, 615, 616, 617, 618, 619, 620, 621, 622, 623, 624, 625, 626, 627, 628, 629, 630, 631, 632, 633, 634, 635, 636, 637, 638, 639, 640, 641, 642, 643, 644, 645, 646, 647, 648, 649, 650, 651, 652, 653, 654, 655, 656, 657, 658, 659, 660, 661, 662, 663, 664, 665, 666, 667, 668, 669, 670, 671, 672, 673, 674, 675, 676, 677, 678, 679, 680, 681, 682, 683, 684, 685, 686, 687, 688, 689, 690, 691, 692, 693, 694, 695, 696, 697, 698, 699, 700, 701, 702, 703, 704, 705, 706, 707, 708, 709, 710, 711, 712, 713, 714, 715, 716, 717, 718, 719, 720, 721, 722, 723, 724, 725, 726, 727, 728, 729, 730, 731, 732, 733, 734, 735, 736, 737, 738, 739, 740, 741, 742, 743, 744, 745, 746, 747, 748, 749, 750, 751, 752, 753, 754, 755, 756, 757, 758, 759, 760, 761, 762, 763, 764, 765, 766, 767, 768, 769, 770, 771, 772, 773, 774, 775, 776, 777, 778, 779, 780, 781, 782, 783, 784, 785, 786, 787, 788, 789, 790], \"xaxis\": \"x\", \"y\": [15.377044820785523, 11.483901739120483, 11.224261903762818, 10.067322731018066, 8.71346049308777, 7.7736986637115475, 7.636801528930664, 7.8824982166290285, 7.657818222045899, 7.251327133178711, 6.513603925704956, 6.258868169784546, 6.149859762191772, 6.1380448818206785, 6.079222917556763, 5.994035100936889, 6.016550874710083, 5.8113785743713375, 5.742699670791626, 5.6508376121521, 5.704198122024536, 5.760060882568359, 5.7591619968414305, 5.751028156280517, 5.574643325805664, 5.707407283782959, 5.610262489318847, 5.524155330657959, 5.453935337066651, 5.3744548797607425, 5.468972969055176, 5.304388809204101, 5.400850296020508, 5.42337965965271, 5.4299729347229, 5.156454563140869, 5.121285629272461, 5.018673419952393, 4.99257001876831, 4.929043388366699, 4.702401876449585, 4.670734167098999, 4.497419738769532, 4.3364157438278195, 4.3943660974502565, 4.425612568855286, 4.450766253471374, 4.623249077796936, 4.687756466865539, 4.736304879188538, 4.846842885017395, 4.90686252117157, 5.043485617637634, 5.142579793930054, 5.042743110656739, 5.0500163555145265, 4.874262380599975, 4.73302583694458, 4.774316453933716, 4.633746385574341, 4.4819536209106445, 4.421906757354736, 4.380399703979492, 4.473082542419434, 4.436237478256226, 4.571714735031128, 4.717371225357056, 4.707790327072144, 4.616600799560547, 4.6573930263519285, 4.7808490753173825, 4.933001279830933, 4.930700969696045, 4.884661531448364, 4.9442119121551515, 4.853290605545044, 4.9341805934906, 5.00671534538269, 4.92551212310791, 4.9405896186828615, 4.961150360107422, 4.931441068649292, 4.870039916038513, 4.892566657066345, 4.94411256313324, 4.857761788368225, 4.781504893302918, 4.634998440742493, 4.683153796195984, 4.827177834510803, 4.820380902290344, 4.780934453010559, 4.915036535263061, 4.967186737060547, 4.937608051300049, 4.950972604751587, 4.83723635673523, 4.97189040184021, 4.978361988067627, 5.020369958877564, 4.970604610443115, 4.907930469512939, 4.861758852005005, 4.751999711990356, 4.704235076904297, 4.7487757205963135, 4.874708366394043, 4.811053895950318, 4.727734565734863, 4.552583694458008, 4.609887599945068, 4.603243589401245, 4.525214266777039, 4.562121558189392, 4.708340525627136, 4.659363484382629, 4.580706381797791, 4.753424525260925, 4.858328843116761, 4.871493077278137, 4.735487461090088, 4.860625839233398, 4.829342269897461, 4.826695919036865, 4.741590261459351, 4.6899803400039675, 4.561723399162292, 4.331717467308044, 4.346053528785705, 4.330865359306335, 4.357191467285157, 4.205698013305664, 4.230570912361145, 4.124437928199768, 4.084038186073303, 4.132145833969116, 4.1917390584945675, 4.2784504175186155, 4.213458847999573, 4.374247813224793, 4.267231106758118, 4.249332022666931, 4.272234177589416, 4.281572413444519, 4.2607886552810665, 4.204882979393005, 4.182265520095825, 4.038449668884278, 3.9625594139099123, 3.6716295719146728, 3.663836932182312, 3.545906972885132, 3.5202341318130492, 3.5517448663711546, 3.442882776260376, 3.4658496379852295, 3.481427240371704, 3.6087973594665526, 3.608098793029785, 3.582645297050476, 3.816054105758667, 3.8862096071243286, 3.9174458026885985, 3.88265860080719, 3.881290078163147, 3.8329633235931397, 3.8171016931533814, 3.681566333770752, 3.719217371940613, 3.7587140560150147, 3.528974509239197, 3.5309296607971192, 3.478899049758911, 3.4461605310440064, 3.375956678390503, 3.342151737213135, 3.4344250440597532, 3.4527920722961425, 3.411706280708313, 3.2682523488998414, 3.33084397315979, 3.3158793210983277, 3.427351546287537, 3.3794317483901977, 3.3957101106643677, 3.471250367164612, 3.4708770990371702, 3.4761271715164184, 3.5380175590515135, 3.65898118019104, 3.583569312095642, 3.5668226718902587, 3.3880305528640746, 3.4485325813293457, 3.4773600816726686, 3.389925789833069, 3.257456064224243, 3.24018657207489, 3.188573122024536, 3.199459981918335, 3.2144631862640383, 3.135882353782654, 3.1007174253463745, 3.0308536529541015, 3.007957196235657, 3.048158073425293, 3.029574751853943, 2.9868354320526125, 2.8650608539581297, 2.8561489582061768, 2.8924606800079347, 2.8724777698516846, 2.8819961547851562, 2.8151981353759767, 2.7679254531860353, 2.8175885915756225, 2.807925653457642, 2.7679522037506104, 2.9260706186294554, 2.893258237838745, 2.819670820236206, 2.7874654293060304, 2.776288962364197, 2.8380549907684327, 2.771829295158386, 2.6238532304763793, 2.697626733779907, 2.7180304527282715, 2.5770220279693605, 2.5336830615997314, 2.530090880393982, 2.5978777408599854, 2.6343623638153075, 2.6146887063980104, 2.7154003620147704, 2.74264976978302, 2.6064204454421995, 2.665760564804077, 2.706411671638489, 2.704729461669922, 2.7035881757736204, 2.7240694761276245, 2.7449822187423707, 2.686373257637024, 2.7814451456069946, 2.7591769695281982, 2.8494741439819338, 2.85192449092865, 2.8451640129089357, 2.856285905838013, 2.8610790967941284, 2.856156039237976, 2.7977990388870237, 2.8627407789230346, 2.7940600872039796, 2.823631834983826, 2.7870725631713866, 2.727565288543701, 2.7336960554122927, 2.7142000913619997, 2.7267254829406737, 2.666520595550537, 2.611631751060486, 2.5741125106811524, 2.5177799701690673, 2.526104784011841, 2.492089772224426, 2.5238312482833862, 2.4882389307022095, 2.515192675590515, 2.5555890083312987, 2.5566207647323607, 2.6439842224121093, 2.6436733961105348, 2.655397057533264, 2.6775342226028442, 2.717363214492798, 2.7288066864013674, 2.7154308795928954, 2.7690855741500853, 2.6497541666030884, 2.6503278255462646, 2.687086486816406, 2.6860481023788454, 2.6338739156723023, 2.5771770238876344, 2.532482933998108, 2.493614745140076, 2.537974977493286, 2.471711015701294, 2.5209712982177734, 2.5066718578338625, 2.4170783519744874, 2.4171590566635133, 2.453181266784668, 2.4803059101104736, 2.475997281074524, 2.5053122997283936, 2.4677510261535645, 2.441503667831421, 2.382745110988617, 2.374570620059967, 2.404325020313263, 2.4244632363319396, 2.504199516773224, 2.557137906551361, 2.5702961802482607, 2.5353673577308653, 2.656700241565704, 2.6990496039390566, 2.9778647422790527, 3.005874752998352, 3.056630778312683, 3.095400857925415, 3.124982810020447, 3.0302881956100465, 3.0521108388900755, 3.0313347578048706, 2.9830129384994506, 3.0405282974243164, 2.7959573030471803, 2.8834850072860716, 2.8231860637664794, 2.877018451690674, 2.8230924129486086, 2.7726031064987184, 2.7992931842803954, 2.8411152362823486, 2.897372913360596, 2.851901984214783, 2.8454035043716432, 2.741986322402954, 2.767536425590515, 2.75123610496521, 2.6939701080322265, 2.812218451499939, 2.7815818548202516, 2.814332628250122, 2.807184672355652, 2.759646463394165, 2.8364266395568847, 2.8634647607803343, 2.816745400428772, 2.7415784120559694, 2.7211333513259888, 2.717760109901428, 2.6336076736450194, 2.5913100242614746, 2.533434510231018, 2.6455720186233522, 2.5755151748657226, 2.5742681980133058, 2.580796456336975, 2.632197070121765, 2.6988428115844725, 2.6995243310928343, 2.903275394439697, 2.9261784076690676, 2.90975022315979, 2.8289006471633913, 2.818991208076477, 2.7468641996383667, 2.794009780883789, 2.7290613651275635, 2.6715203285217286, 2.6504544734954836, 2.591556525230408, 2.5189627170562745, 2.4823476552963255, 2.4436066865921022, 2.4431102514266967, 2.4967957019805906, 2.3963700890541078, 2.399880087375641, 2.3883628249168396, 2.3923717617988585, 2.412959086894989, 2.3612661480903627, 2.341055119037628, 2.308308470249176, 2.307007372379303, 2.3347680449485777, 2.3687400579452516, 2.2434983968734743, 2.338447833061218, 2.319932723045349, 2.185132312774658, 2.2888057470321654, 2.3392391920089723, 2.37573127746582, 2.385438895225525, 2.2937543630599975, 2.244631516933441, 2.436846911907196, 2.328554093837738, 2.3528454899787903, 2.387109434604645, 2.3790316224098205, 2.3654008507728577, 2.3957547545433044, 2.4344844698905943, 2.545575535297394, 2.6403077602386475, 2.5638163566589354, 2.5651190757751463, 2.527140998840332, 2.4732069969177246, 2.3972380638122557, 2.3875462770462037, 2.301324415206909, 2.290467858314514, 2.257845377922058, 2.2447347164154055, 2.256030321121216, 2.317937445640564, 2.3047162532806396, 2.3554676294326784, 2.423242688179016, 2.4500927448272707, 2.5251197099685667, 2.444704222679138, 2.4221957445144655, 2.3885138273239135, 2.3656039237976074, 2.382395124435425, 2.3458277702331545, 2.4281234979629516, 2.481783938407898, 2.441240406036377, 2.417635750770569, 2.496173119544983, 2.5053279638290404, 2.577513885498047, 2.6040987730026246, 2.5887203931808473, 2.653528356552124, 2.5734825134277344, 2.4253640294075014, 2.4122763752937315, 2.488626706600189, 2.4914054036140443, 2.5295307755470278, 2.4760889410972595, 2.457761895656586, 2.412852442264557, 2.487386691570282, 2.456656610965729, 2.552656865119934, 2.565059018135071, 2.5085083484649657, 2.447170376777649, 2.383141303062439, 2.4951891899108887, 2.581564712524414, 2.5597432017326356, 2.4761194586753845, 2.4439967393875124, 2.4989379167556764, 2.4906510591506956, 2.5265459537506105, 2.580479097366333, 2.62925980091095, 2.519636368751526, 2.504781985282898, 2.4881631255149843, 2.471292769908905, 2.5173532009124755, 2.450332450866699, 2.521450138092041, 2.4554125308990478, 2.4850838661193846, 2.4542758226394654, 2.401822340488434, 2.344115674495697, 2.4100640654563903, 2.442641007900238, 2.45818852186203, 2.4663231015205382, 2.381985914707184, 2.367871034145355, 2.338603150844574, 2.3351321816444397, 2.3501124143600465, 2.3247774124145506, 2.258200776576996, 2.266166460514069, 2.281908094882965, 2.2840923190116884, 2.286391866207123, 2.333656942844391, 2.277568852901459, 2.2539499402046204, 2.249431884288788, 2.2966522097587587, 2.3421111583709715, 2.3012150287628175, 2.315833306312561, 2.337147831916809, 2.4098322868347166, 2.420070219039917, 2.452027606964111, 2.4181812047958373, 2.4400879383087157, 2.3420166611671447, 2.4668465495109557, 2.443086302280426, 2.4334447264671324, 2.465333092212677, 2.4030550837516786, 2.4016082644462586, 2.4179604172706606, 2.5473549485206606, 2.528730499744415, 2.591493844985962, 2.431549644470215, 2.460219621658325, 2.4086907386779783, 2.4069314002990723, 2.4074084997177123, 2.3901652336120605, 2.3841221570968627, 2.2789098024368286, 2.242011773586273, 2.241981637477875, 2.2323387980461122, 2.25922611951828, 2.236784744262695, 2.0945186734199526, 2.1445315718650817, 2.1186260342597962, 2.1457890629768372, 2.183252274990082, 2.3082130432128904, 2.3377923011779784, 2.3181556224823, 2.2412654638290403, 2.321907031536102, 2.393676590919495, 2.4175328731536867, 2.4312164545059205, 2.443156909942627, 2.458847737312317, 2.407588815689087, 2.407945489883423, 2.5039316177368165, 2.5520760774612428, 2.486888957023621, 2.49205322265625, 2.3856204390525817, 2.401181995868683, 2.327989423274994, 2.2862943530082704, 2.306988298892975, 2.2791061997413635, 2.2738564133644106, 2.306939685344696, 2.275839555263519, 2.274173009395599, 2.284566843509674, 2.2351290702819826, 2.2307013988494875, 2.1973257780075075, 2.1272515535354612, 2.160188150405884, 2.103714179992676, 1.9791832447052002, 2.043298101425171, 1.9812309503555299, 1.941291332244873, 1.9110223531723023, 1.929455304145813, 1.968937134742737, 2.0169811964035036, 1.9226441383361816, 1.8921061158180237, 1.9662574410438538, 1.9586405396461486, 2.010097062587738, 2.0880003213882445, 2.158094108104706, 2.2123278975486755, 2.236713969707489, 2.156215178966522, 2.2508780360221863, 2.3174763441085817, 2.342485022544861, 2.361012506484985, 2.416698431968689, 2.3456875681877136, 2.322596538066864, 2.262369453907013, 2.214662802219391, 2.34042147397995, 2.2517409563064574, 2.2594756841659547, 2.2262300729751585, 2.200502610206604, 2.147179293632507, 2.1393787384033205, 2.1112810254096983, 2.1511025071144103, 2.1765077710151672, 2.094759929180145, 2.1041845440864564, 2.198972260951996, 2.2106367707252503, 2.1993533968925476, 2.1643240809440614, 2.1837361097335815, 2.1891586542129517, 2.141691040992737, 2.100288987159729, 2.1272220373153687, 2.160109555721283, 2.1256460785865783, 2.1536583304405212, 2.1129211664199827, 2.163949704170227, 2.2435988426208495, 2.2680774569511413, 2.2953747868537904, 2.3207215428352357, 2.275908386707306, 2.2620047450065615, 2.190416419506073, 2.172946798801422, 2.1918892741203306, 2.165612494945526, 2.066137909889221, 2.073501372337341, 2.0775457620620728, 2.1039340257644654, 2.154635429382324, 2.1844085693359374, 2.18142716884613, 2.1694210529327393, 2.2177635788917542, 2.2477367758750915, 2.2816475868225097, 2.282829737663269, 2.215531420707703, 2.203937554359436, 2.190967297554016, 2.13459552526474, 2.201547610759735, 2.190402019023895, 2.2214035868644713, 2.257640850543976, 2.36725457906723, 2.363729727268219, 2.5401285529136657, 2.6040557980537415, 2.580049955844879, 2.6539720058441163, 2.600754809379578, 2.6026105642318726, 2.5746196269989015, 2.6362480878829957, 2.5014892697334288, 2.505514919757843, 2.380078065395355, 2.3586594462394714, 2.4611104846000673, 2.447352921962738, 2.482022249698639, 2.43123345375061, 2.3740097284317017, 2.2661277294158935, 2.36595755815506, 2.3607919335365297, 2.351906931400299, 2.325213634967804, 2.263557803630829, 2.2634769082069397, 2.242684543132782, 2.366611933708191, 2.403291130065918, 2.3794455766677856, 2.3365292072296144, 2.3157418012619018, 2.3315098762512205, 2.3476130247116087, 2.2603378772735594, 2.229995274543762, 2.2346842527389525, 2.2638614892959597, 2.2292158961296082, 2.2140873074531555, 2.1452082991600037, 2.153104865550995, 2.126572835445404, 2.1027480959892273, 2.183467376232147, 2.1884838700294496, 2.119335687160492, 1.968775177001953, 2.043792998790741, 2.0881206393241882, 2.244653809070587, 2.2290856003761292, 2.28861004114151, 2.315730559825897, 2.240160346031189, 2.204250490665436, 2.2308367609977724, 2.3259476900100706, 2.30090446472168, 2.36126708984375, 2.283254528045654, 2.2492255926132203, 2.2177531242370607, 2.251443076133728, 2.315630614757538, 2.427811050415039, 2.4276217937469484, 2.400621795654297, 2.416174840927124, 2.449868392944336, 2.450225043296814, 2.5204294443130495, 2.5503792762756348, 2.442715859413147, 2.4013949394226075, 2.2916876316070556, 2.3012085437774656, 2.3473729848861695, 2.2665387749671937, 2.122968852519989, 2.048190939426422, 2.134651744365692, 2.078254961967468, 2.194188952445984, 2.2426593542099, 2.2397210001945496, 2.242157590389252, 2.14537992477417, 2.2215392231941222, 2.254865491390228, 2.3496081709861754, 2.2439711928367614, 2.184362161159515, 2.083729648590088, 2.134018135070801, 2.2201327681541443, 2.2378571391105653, 2.2480473160743712, 2.1918681859970093, 2.185824418067932, 2.132262122631073, 2.160099375247955, 2.301725482940674, 2.3653594851493835, 2.2889962077140806, 2.3005876421928404, 2.2596361517906187, 2.3027264356613157, 2.3516388297080995, 2.353801262378693, 2.396288585662842, 2.441546988487244, 2.3602491855621337, 2.331507849693298, 2.3972271919250487, 2.3898268699645997, 2.4537845611572267, 2.4794161558151244, 2.444102239608765, 2.4997132301330565, 2.499028182029724, 2.4424500942230223, 2.46358323097229, 2.4530673265457152, 2.3735772371292114, 2.3511614322662355, 2.4014411211013793, 2.3662322521209718, 2.3995614051818848, 2.390428566932678, 2.384329581260681, 2.3690618753433226, 2.5341878175735473, 2.5809242486953736, 2.590177035331726, 2.596672534942627, 2.490543079376221, 2.456508696079254, 2.467920410633087, 2.4881573796272276, 2.415917730331421, 2.4103822469711305, 2.300651121139526], \"yaxis\": \"y\"}],                        {\"font\": {\"family\": \"Courier New, monospace\", \"size\": 14}, \"template\": {\"data\": {\"bar\": [{\"error_x\": {\"color\": \"#2a3f5f\"}, \"error_y\": {\"color\": \"#2a3f5f\"}, \"marker\": {\"line\": {\"color\": \"#E5ECF6\", \"width\": 0.5}}, \"type\": \"bar\"}], \"barpolar\": [{\"marker\": {\"line\": {\"color\": \"#E5ECF6\", \"width\": 0.5}}, \"type\": \"barpolar\"}], \"carpet\": [{\"aaxis\": {\"endlinecolor\": \"#2a3f5f\", \"gridcolor\": \"white\", \"linecolor\": \"white\", \"minorgridcolor\": \"white\", \"startlinecolor\": \"#2a3f5f\"}, \"baxis\": {\"endlinecolor\": \"#2a3f5f\", \"gridcolor\": \"white\", \"linecolor\": \"white\", \"minorgridcolor\": \"white\", \"startlinecolor\": \"#2a3f5f\"}, \"type\": \"carpet\"}], \"choropleth\": [{\"colorbar\": {\"outlinewidth\": 0, \"ticks\": \"\"}, \"type\": \"choropleth\"}], \"contour\": [{\"colorbar\": {\"outlinewidth\": 0, \"ticks\": \"\"}, \"colorscale\": [[0.0, \"#0d0887\"], [0.1111111111111111, \"#46039f\"], [0.2222222222222222, \"#7201a8\"], [0.3333333333333333, \"#9c179e\"], [0.4444444444444444, \"#bd3786\"], [0.5555555555555556, \"#d8576b\"], [0.6666666666666666, \"#ed7953\"], [0.7777777777777778, \"#fb9f3a\"], [0.8888888888888888, \"#fdca26\"], [1.0, \"#f0f921\"]], \"type\": \"contour\"}], \"contourcarpet\": [{\"colorbar\": {\"outlinewidth\": 0, \"ticks\": \"\"}, \"type\": \"contourcarpet\"}], \"heatmap\": [{\"colorbar\": {\"outlinewidth\": 0, \"ticks\": \"\"}, \"colorscale\": [[0.0, \"#0d0887\"], [0.1111111111111111, \"#46039f\"], [0.2222222222222222, \"#7201a8\"], [0.3333333333333333, \"#9c179e\"], [0.4444444444444444, \"#bd3786\"], [0.5555555555555556, \"#d8576b\"], [0.6666666666666666, \"#ed7953\"], [0.7777777777777778, \"#fb9f3a\"], [0.8888888888888888, \"#fdca26\"], [1.0, \"#f0f921\"]], \"type\": \"heatmap\"}], \"heatmapgl\": [{\"colorbar\": {\"outlinewidth\": 0, \"ticks\": \"\"}, \"colorscale\": [[0.0, \"#0d0887\"], [0.1111111111111111, \"#46039f\"], [0.2222222222222222, \"#7201a8\"], [0.3333333333333333, \"#9c179e\"], [0.4444444444444444, \"#bd3786\"], [0.5555555555555556, \"#d8576b\"], [0.6666666666666666, \"#ed7953\"], [0.7777777777777778, \"#fb9f3a\"], [0.8888888888888888, \"#fdca26\"], [1.0, \"#f0f921\"]], \"type\": \"heatmapgl\"}], \"histogram\": [{\"marker\": {\"colorbar\": {\"outlinewidth\": 0, \"ticks\": \"\"}}, \"type\": \"histogram\"}], \"histogram2d\": [{\"colorbar\": {\"outlinewidth\": 0, \"ticks\": \"\"}, \"colorscale\": [[0.0, \"#0d0887\"], [0.1111111111111111, \"#46039f\"], [0.2222222222222222, \"#7201a8\"], [0.3333333333333333, \"#9c179e\"], [0.4444444444444444, \"#bd3786\"], [0.5555555555555556, \"#d8576b\"], [0.6666666666666666, \"#ed7953\"], [0.7777777777777778, \"#fb9f3a\"], [0.8888888888888888, \"#fdca26\"], [1.0, \"#f0f921\"]], \"type\": \"histogram2d\"}], \"histogram2dcontour\": [{\"colorbar\": {\"outlinewidth\": 0, \"ticks\": \"\"}, \"colorscale\": [[0.0, \"#0d0887\"], [0.1111111111111111, \"#46039f\"], [0.2222222222222222, \"#7201a8\"], [0.3333333333333333, \"#9c179e\"], [0.4444444444444444, \"#bd3786\"], [0.5555555555555556, \"#d8576b\"], [0.6666666666666666, \"#ed7953\"], [0.7777777777777778, \"#fb9f3a\"], [0.8888888888888888, \"#fdca26\"], [1.0, \"#f0f921\"]], \"type\": \"histogram2dcontour\"}], \"mesh3d\": [{\"colorbar\": {\"outlinewidth\": 0, \"ticks\": \"\"}, \"type\": \"mesh3d\"}], \"parcoords\": [{\"line\": {\"colorbar\": {\"outlinewidth\": 0, \"ticks\": \"\"}}, \"type\": \"parcoords\"}], \"pie\": [{\"automargin\": true, \"type\": \"pie\"}], \"scatter\": [{\"marker\": {\"colorbar\": {\"outlinewidth\": 0, \"ticks\": \"\"}}, \"type\": \"scatter\"}], \"scatter3d\": [{\"line\": {\"colorbar\": {\"outlinewidth\": 0, \"ticks\": \"\"}}, \"marker\": {\"colorbar\": {\"outlinewidth\": 0, \"ticks\": \"\"}}, \"type\": \"scatter3d\"}], \"scattercarpet\": [{\"marker\": {\"colorbar\": {\"outlinewidth\": 0, \"ticks\": \"\"}}, \"type\": \"scattercarpet\"}], \"scattergeo\": [{\"marker\": {\"colorbar\": {\"outlinewidth\": 0, \"ticks\": \"\"}}, \"type\": \"scattergeo\"}], \"scattergl\": [{\"marker\": {\"colorbar\": {\"outlinewidth\": 0, \"ticks\": \"\"}}, \"type\": \"scattergl\"}], \"scattermapbox\": [{\"marker\": {\"colorbar\": {\"outlinewidth\": 0, \"ticks\": \"\"}}, \"type\": \"scattermapbox\"}], \"scatterpolar\": [{\"marker\": {\"colorbar\": {\"outlinewidth\": 0, \"ticks\": \"\"}}, \"type\": \"scatterpolar\"}], \"scatterpolargl\": [{\"marker\": {\"colorbar\": {\"outlinewidth\": 0, \"ticks\": \"\"}}, \"type\": \"scatterpolargl\"}], \"scatterternary\": [{\"marker\": {\"colorbar\": {\"outlinewidth\": 0, \"ticks\": \"\"}}, \"type\": \"scatterternary\"}], \"surface\": [{\"colorbar\": {\"outlinewidth\": 0, \"ticks\": \"\"}, \"colorscale\": [[0.0, \"#0d0887\"], [0.1111111111111111, \"#46039f\"], [0.2222222222222222, \"#7201a8\"], [0.3333333333333333, \"#9c179e\"], [0.4444444444444444, \"#bd3786\"], [0.5555555555555556, \"#d8576b\"], [0.6666666666666666, \"#ed7953\"], [0.7777777777777778, \"#fb9f3a\"], [0.8888888888888888, \"#fdca26\"], [1.0, \"#f0f921\"]], \"type\": \"surface\"}], \"table\": [{\"cells\": {\"fill\": {\"color\": \"#EBF0F8\"}, \"line\": {\"color\": \"white\"}}, \"header\": {\"fill\": {\"color\": \"#C8D4E3\"}, \"line\": {\"color\": \"white\"}}, \"type\": \"table\"}]}, \"layout\": {\"annotationdefaults\": {\"arrowcolor\": \"#2a3f5f\", \"arrowhead\": 0, \"arrowwidth\": 1}, \"autotypenumbers\": \"strict\", \"coloraxis\": {\"colorbar\": {\"outlinewidth\": 0, \"ticks\": \"\"}}, \"colorscale\": {\"diverging\": [[0, \"#8e0152\"], [0.1, \"#c51b7d\"], [0.2, \"#de77ae\"], [0.3, \"#f1b6da\"], [0.4, \"#fde0ef\"], [0.5, \"#f7f7f7\"], [0.6, \"#e6f5d0\"], [0.7, \"#b8e186\"], [0.8, \"#7fbc41\"], [0.9, \"#4d9221\"], [1, \"#276419\"]], \"sequential\": [[0.0, \"#0d0887\"], [0.1111111111111111, \"#46039f\"], [0.2222222222222222, \"#7201a8\"], [0.3333333333333333, \"#9c179e\"], [0.4444444444444444, \"#bd3786\"], [0.5555555555555556, \"#d8576b\"], [0.6666666666666666, \"#ed7953\"], [0.7777777777777778, \"#fb9f3a\"], [0.8888888888888888, \"#fdca26\"], [1.0, \"#f0f921\"]], \"sequentialminus\": [[0.0, \"#0d0887\"], [0.1111111111111111, \"#46039f\"], [0.2222222222222222, \"#7201a8\"], [0.3333333333333333, \"#9c179e\"], [0.4444444444444444, \"#bd3786\"], [0.5555555555555556, \"#d8576b\"], [0.6666666666666666, \"#ed7953\"], [0.7777777777777778, \"#fb9f3a\"], [0.8888888888888888, \"#fdca26\"], [1.0, \"#f0f921\"]]}, \"colorway\": [\"#636efa\", \"#EF553B\", \"#00cc96\", \"#ab63fa\", \"#FFA15A\", \"#19d3f3\", \"#FF6692\", \"#B6E880\", \"#FF97FF\", \"#FECB52\"], \"font\": {\"color\": \"#2a3f5f\"}, \"geo\": {\"bgcolor\": \"white\", \"lakecolor\": \"white\", \"landcolor\": \"#E5ECF6\", \"showlakes\": true, \"showland\": true, \"subunitcolor\": \"white\"}, \"hoverlabel\": {\"align\": \"left\"}, \"hovermode\": \"closest\", \"mapbox\": {\"style\": \"light\"}, \"paper_bgcolor\": \"white\", \"plot_bgcolor\": \"#E5ECF6\", \"polar\": {\"angularaxis\": {\"gridcolor\": \"white\", \"linecolor\": \"white\", \"ticks\": \"\"}, \"bgcolor\": \"#E5ECF6\", \"radialaxis\": {\"gridcolor\": \"white\", \"linecolor\": \"white\", \"ticks\": \"\"}}, \"scene\": {\"xaxis\": {\"backgroundcolor\": \"#E5ECF6\", \"gridcolor\": \"white\", \"gridwidth\": 2, \"linecolor\": \"white\", \"showbackground\": true, \"ticks\": \"\", \"zerolinecolor\": \"white\"}, \"yaxis\": {\"backgroundcolor\": \"#E5ECF6\", \"gridcolor\": \"white\", \"gridwidth\": 2, \"linecolor\": \"white\", \"showbackground\": true, \"ticks\": \"\", \"zerolinecolor\": \"white\"}, \"zaxis\": {\"backgroundcolor\": \"#E5ECF6\", \"gridcolor\": \"white\", \"gridwidth\": 2, \"linecolor\": \"white\", \"showbackground\": true, \"ticks\": \"\", \"zerolinecolor\": \"white\"}}, \"shapedefaults\": {\"line\": {\"color\": \"#2a3f5f\"}}, \"ternary\": {\"aaxis\": {\"gridcolor\": \"white\", \"linecolor\": \"white\", \"ticks\": \"\"}, \"baxis\": {\"gridcolor\": \"white\", \"linecolor\": \"white\", \"ticks\": \"\"}, \"bgcolor\": \"#E5ECF6\", \"caxis\": {\"gridcolor\": \"white\", \"linecolor\": \"white\", \"ticks\": \"\"}}, \"title\": {\"x\": 0.05}, \"xaxis\": {\"automargin\": true, \"gridcolor\": \"white\", \"linecolor\": \"white\", \"ticks\": \"\", \"title\": {\"standoff\": 15}, \"zerolinecolor\": \"white\", \"zerolinewidth\": 2}, \"yaxis\": {\"automargin\": true, \"gridcolor\": \"white\", \"linecolor\": \"white\", \"ticks\": \"\", \"title\": {\"standoff\": 15}, \"zerolinecolor\": \"white\", \"zerolinewidth\": 2}}}, \"title\": {\"text\": \"Loss\"}, \"xaxis\": {\"anchor\": \"y\", \"domain\": [0.0, 1.0], \"title\": {\"text\": \"Iterations\"}}, \"yaxis\": {\"anchor\": \"x\", \"domain\": [0.0, 1.0], \"title\": {\"text\": \"Loss\"}}},                        {\"responsive\": true}                    ).then(function(){\n",
       "                            \n",
       "var gd = document.getElementById('c46dc16b-fdf2-41bc-b858-e8401684f2d9');\n",
       "var x = new MutationObserver(function (mutations, observer) {{\n",
       "        var display = window.getComputedStyle(gd).display;\n",
       "        if (!display || display === 'none') {{\n",
       "            console.log([gd, 'removed!']);\n",
       "            Plotly.purge(gd);\n",
       "            observer.disconnect();\n",
       "        }}\n",
       "}});\n",
       "\n",
       "// Listen for the removal of the full notebook cells\n",
       "var notebookContainer = gd.closest('#notebook-container');\n",
       "if (notebookContainer) {{\n",
       "    x.observe(notebookContainer, {childList: true});\n",
       "}}\n",
       "\n",
       "// Listen for the clearing of the current output cell\n",
       "var outputEl = gd.closest('.output');\n",
       "if (outputEl) {{\n",
       "    x.observe(outputEl, {childList: true});\n",
       "}}\n",
       "\n",
       "                        })                };                });            </script>        </div>"
      ]
     },
     "metadata": {},
     "output_type": "display_data"
    }
   ],
   "source": [
    "eq = BOUNDED_OPINION()\n",
    "model = MODEL_CONFIG = {\n",
    "    \"hidden_dim\": 64,\n",
    "    \"learning_rate\": 1e-3,\n",
    "    \"loss_weights\": (1, 8),\n",
    "    \"sampling_method\": \"uniform\",\n",
    "    \"lr_decay\": 0.98,\n",
    "    \"network_type\": \"RES\",\n",
    "    \"optimiser\": \"Adam\",\n",
    "    \"method\": \"Galerkin\"\n",
    "}\n",
    "solver = DeepPDESolver(model, eq)\n",
    "losses = list(solver.train(800))\n",
    "plot_losses(losses)"
   ]
  },
  {
   "cell_type": "code",
   "execution_count": 21,
   "id": "religious-speed",
   "metadata": {},
   "outputs": [],
   "source": [
    "def plot_bounded_opinions(T):\n",
    "    n = int(50*T)\n",
    "    N = eq.var_dim-1\n",
    "    def sde_sum(X):\n",
    "        return (1/N)*eq.P(torch.from_numpy(X).view(1, -1)).numpy().reshape(-1, 1)\n",
    "    c_xs = np.zeros((N, n))\n",
    "    #c_xs[:, 0] = -0.5\n",
    "    c_xs[:int(2*N/5), 0] = (np.random.randn(int(2*N/5))*0.2 -0.8).clip(-0.7, 0.9)\n",
    "    c_xs[int(2*N/5):, 0] = (np.random.randn(int(3*N/5))*0.2 +0.5).clip(0.4, 0.6)\n",
    "    #c_xs[:, 0] = (np.random.randn(N)-0.5).clip(-1, 1)\n",
    "    uc_xs = np.zeros((N, n))\n",
    "    uc_xs[:, 0] = c_xs[:, 0]\n",
    "    dt = 1/n\n",
    "    ts = [t for t in np.linspace(0, T, n)]\n",
    "    for i in range(n-1):\n",
    "        dW = np.sqrt(dt)*np.random.randn(N, 1)\n",
    "        c = -(1/(eq.gamma))*np.expand_dims(solver.D_u(*[c_xs[j, i] for j in range(N)], i*dt), axis=1)\n",
    "        c_xs[:, None, i+1] = c_xs[:, None, i] + sde_sum(c_xs[:, None, i])*dt + np.sqrt(2*eq.sigma)*dW + c*dt\n",
    "        uc_xs[:, None, i+1] = uc_xs[:, None, i] + sde_sum(uc_xs[:, None, i]) *dt + np.sqrt(2*eq.sigma)*dW\n",
    "        \n",
    "    return c_xs, uc_xs"
   ]
  },
  {
   "cell_type": "code",
   "execution_count": 22,
   "id": "royal-discount",
   "metadata": {},
   "outputs": [],
   "source": [
    "c_xs, uc_xs = plot_bounded_opinions(5)"
   ]
  },
  {
   "cell_type": "code",
   "execution_count": 23,
   "id": "silent-memorabilia",
   "metadata": {},
   "outputs": [
    {
     "data": {
      "application/vnd.plotly.v1+json": {
       "config": {
        "plotlyServerURL": "https://plot.ly"
       },
       "data": [
        {
         "marker": {
          "color": "SkyBlue",
          "size": 15
         },
         "mode": "markers",
         "name": "Controlled",
         "type": "scatter",
         "x": [
          -0.6514765776544906,
          -0.7,
          -0.6212236672284117,
          -0.5388238978739097,
          0.6,
          0.4,
          0.4,
          0.6,
          0.5020009032614535,
          0.6
         ],
         "y": [
          1,
          1,
          1,
          1,
          1,
          1,
          1,
          1,
          1,
          1
         ]
        },
        {
         "mode": "markers",
         "name": "Uncontrolled",
         "opacity": 0.8,
         "type": "scatter",
         "x": [
          -0.6514765776544906,
          -0.7,
          -0.6212236672284117,
          -0.5388238978739097,
          0.6,
          0.4,
          0.4,
          0.6,
          0.5020009032614535,
          0.6
         ],
         "y": [
          1,
          1,
          1,
          1,
          1,
          1,
          1,
          1,
          1,
          1
         ]
        }
       ],
       "frames": [
        {
         "data": [
          {
           "marker": {
            "color": "SkyBlue",
            "size": 15
           },
           "mode": "markers",
           "name": "Controlled",
           "type": "scatter",
           "x": [
            -0.6514765776544906,
            -0.7,
            -0.6212236672284117,
            -0.5388238978739097,
            0.6,
            0.4,
            0.4,
            0.6,
            0.5020009032614535,
            0.6
           ],
           "y": [
            1,
            1,
            1,
            1,
            1,
            1,
            1,
            1,
            1,
            1
           ]
          },
          {
           "mode": "markers",
           "name": "Uncontrolled",
           "opacity": 0.8,
           "type": "scatter",
           "x": [
            -0.6514765776544906,
            -0.7,
            -0.6212236672284117,
            -0.5388238978739097,
            0.6,
            0.4,
            0.4,
            0.6,
            0.5020009032614535,
            0.6
           ],
           "y": [
            1,
            1,
            1,
            1,
            1,
            1,
            1,
            1,
            1,
            1
           ]
          }
         ]
        },
        {
         "data": [
          {
           "marker": {
            "color": "SkyBlue",
            "size": 15
           },
           "mode": "markers",
           "name": "Controlled",
           "type": "scatter",
           "x": [
            -0.6531591671366918,
            -0.6877861382485666,
            -0.6139013006724734,
            -0.5189630178075395,
            0.5899176831913817,
            0.37299020637632996,
            0.39781771592503906,
            0.5831651088938691,
            0.4975360017429371,
            0.5646503606805086
           ],
           "y": [
            1,
            1,
            1,
            1,
            1,
            1,
            1,
            1,
            1,
            1
           ]
          },
          {
           "mode": "markers",
           "name": "Uncontrolled",
           "opacity": 0.8,
           "type": "scatter",
           "x": [
            -0.6575666363198983,
            -0.7005788484634199,
            -0.6220465277694482,
            -0.5246891242724023,
            0.6074180539322722,
            0.38335635841699034,
            0.41199684135323883,
            0.5995486711308934,
            0.5083335330869336,
            0.581609189696002
           ],
           "y": [
            1,
            1,
            1,
            1,
            1,
            1,
            1,
            1,
            1,
            1
           ]
          }
         ]
        },
        {
         "data": [
          {
           "marker": {
            "color": "SkyBlue",
            "size": 15
           },
           "mode": "markers",
           "name": "Controlled",
           "type": "scatter",
           "x": [
            -0.6438947277830547,
            -0.671766593244903,
            -0.6067791010217717,
            -0.5177503559566986,
            0.5647785417751127,
            0.3617415367857219,
            0.3908767979668978,
            0.5497131356488162,
            0.5061760301075195,
            0.5587725818309908
           ],
           "y": [
            1,
            1,
            1,
            1,
            1,
            1,
            1,
            1,
            1,
            1
           ]
          },
          {
           "mode": "markers",
           "name": "Uncontrolled",
           "opacity": 0.8,
           "type": "scatter",
           "x": [
            -0.6528056014490878,
            -0.6972357367283182,
            -0.6230610213128827,
            -0.5286119727689724,
            0.5996569424581432,
            0.3820157623611988,
            0.4191387416007522,
            0.5821843558809899,
            0.527710494993559,
            0.5920733263391976
           ],
           "y": [
            1,
            1,
            1,
            1,
            1,
            1,
            1,
            1,
            1,
            1
           ]
          }
         ]
        },
        {
         "data": [
          {
           "marker": {
            "color": "SkyBlue",
            "size": 15
           },
           "mode": "markers",
           "name": "Controlled",
           "type": "scatter",
           "x": [
            -0.6417783757323853,
            -0.6654585255576999,
            -0.6038044531978315,
            -0.5363868883278096,
            0.5421442032443754,
            0.36251331563994554,
            0.3776302573041823,
            0.5212895365009804,
            0.48971155719693116,
            0.5337440532500278
           ],
           "y": [
            1,
            1,
            1,
            1,
            1,
            1,
            1,
            1,
            1,
            1
           ]
          },
          {
           "mode": "markers",
           "name": "Uncontrolled",
           "opacity": 0.8,
           "type": "scatter",
           "x": [
            -0.6550752807993866,
            -0.7033288606370017,
            -0.6281094103756837,
            -0.55235486740712,
            0.5939449440948572,
            0.3925321138274246,
            0.4197706166149974,
            0.5691777121502902,
            0.5222713537948199,
            0.5832459513582955
           ],
           "y": [
            1,
            1,
            1,
            1,
            1,
            1,
            1,
            1,
            1,
            1
           ]
          }
         ]
        },
        {
         "data": [
          {
           "marker": {
            "color": "SkyBlue",
            "size": 15
           },
           "mode": "markers",
           "name": "Controlled",
           "type": "scatter",
           "x": [
            -0.6311061478714812,
            -0.6570159208600731,
            -0.6027653456528028,
            -0.5303721118937686,
            0.5091970934808216,
            0.3618881809746166,
            0.3689977538219454,
            0.5049032789587022,
            0.4766433800092215,
            0.5122207460575408
           ],
           "y": [
            1,
            1,
            1,
            1,
            1,
            1,
            1,
            1,
            1,
            1
           ]
          },
          {
           "mode": "markers",
           "name": "Uncontrolled",
           "opacity": 0.8,
           "type": "scatter",
           "x": [
            -0.648708420697868,
            -0.7071713227164764,
            -0.6351263000558894,
            -0.5518087068686647,
            0.5773766653803075,
            0.4019188173883174,
            0.4247640324522421,
            0.5678893804886522,
            0.5199742840401569,
            0.5774976802370558
           ],
           "y": [
            1,
            1,
            1,
            1,
            1,
            1,
            1,
            1,
            1,
            1
           ]
          }
         ]
        },
        {
         "data": [
          {
           "marker": {
            "color": "SkyBlue",
            "size": 15
           },
           "mode": "markers",
           "name": "Controlled",
           "type": "scatter",
           "x": [
            -0.642598370600747,
            -0.6583277469779737,
            -0.6132278346234644,
            -0.5287946065688702,
            0.4910442746389859,
            0.36091087318052956,
            0.3513292200094794,
            0.4717760390401634,
            0.46912035170116545,
            0.5071778154848168
           ],
           "y": [
            1,
            1,
            1,
            1,
            1,
            1,
            1,
            1,
            1,
            1
           ]
          },
          {
           "mode": "markers",
           "name": "Uncontrolled",
           "opacity": 0.8,
           "type": "scatter",
           "x": [
            -0.6642984762742744,
            -0.720678141473783,
            -0.6537320445792377,
            -0.5555909753509622,
            0.5750068519493953,
            0.4110854385353179,
            0.4205237892052286,
            0.5496060333855366,
            0.5229313341244092,
            0.5877200020847119
           ],
           "y": [
            1,
            1,
            1,
            1,
            1,
            1,
            1,
            1,
            1,
            1
           ]
          }
         ]
        },
        {
         "data": [
          {
           "marker": {
            "color": "SkyBlue",
            "size": 15
           },
           "mode": "markers",
           "name": "Controlled",
           "type": "scatter",
           "x": [
            -0.6372146048127293,
            -0.6581549547530978,
            -0.6189072100115229,
            -0.5205727709127971,
            0.4614277024517827,
            0.3469259192043321,
            0.3464063618305199,
            0.4483334246532833,
            0.46882695562520726,
            0.4939592135212094
           ],
           "y": [
            1,
            1,
            1,
            1,
            1,
            1,
            1,
            1,
            1,
            1
           ]
          },
          {
           "mode": "markers",
           "name": "Uncontrolled",
           "opacity": 0.8,
           "type": "scatter",
           "x": [
            -0.6633747595629952,
            -0.7327603151054399,
            -0.667887591371149,
            -0.5525250448579627,
            0.5608100354838156,
            0.4073449347095159,
            0.42874388443612227,
            0.5403283548782573,
            0.5329990530922409,
            0.5896477155489981
           ],
           "y": [
            1,
            1,
            1,
            1,
            1,
            1,
            1,
            1,
            1,
            1
           ]
          }
         ]
        },
        {
         "data": [
          {
           "marker": {
            "color": "SkyBlue",
            "size": 15
           },
           "mode": "markers",
           "name": "Controlled",
           "type": "scatter",
           "x": [
            -0.6295133626863649,
            -0.6394785784549796,
            -0.6077919459515385,
            -0.5140023265384933,
            0.4388187151483743,
            0.3331480802348329,
            0.3240042642847143,
            0.4271167216737704,
            0.4445017265440407,
            0.48221989229334833
           ],
           "y": [
            1,
            1,
            1,
            1,
            1,
            1,
            1,
            1,
            1,
            1
           ]
          },
          {
           "mode": "markers",
           "name": "Uncontrolled",
           "opacity": 0.8,
           "type": "scatter",
           "x": [
            -0.6601138359677619,
            -0.7264619606887406,
            -0.6654402083023888,
            -0.5507283119724965,
            0.5530133335799302,
            0.4035956122763899,
            0.4192531859721164,
            0.5328841415418574,
            0.5190810932508267,
            0.5928087763821382
           ],
           "y": [
            1,
            1,
            1,
            1,
            1,
            1,
            1,
            1,
            1,
            1
           ]
          }
         ]
        },
        {
         "data": [
          {
           "marker": {
            "color": "SkyBlue",
            "size": 15
           },
           "mode": "markers",
           "name": "Controlled",
           "type": "scatter",
           "x": [
            -0.6427058459083037,
            -0.625720812902262,
            -0.5854688327486841,
            -0.5071350391189104,
            0.4189771689468975,
            0.3234788762573882,
            0.28533543629949704,
            0.40094768647265094,
            0.4391743423272399,
            0.47016734261794285
           ],
           "y": [
            1,
            1,
            1,
            1,
            1,
            1,
            1,
            1,
            1,
            1
           ]
          },
          {
           "mode": "markers",
           "name": "Uncontrolled",
           "opacity": 0.8,
           "type": "scatter",
           "x": [
            -0.6776085432772457,
            -0.7247665786620475,
            -0.6516382089315498,
            -0.5485512915247477,
            0.5475112009391143,
            0.4038375670622926,
            0.39314530893572314,
            0.5202094268771226,
            0.5237939571685404,
            0.59543652118045
           ],
           "y": [
            1,
            1,
            1,
            1,
            1,
            1,
            1,
            1,
            1,
            1
           ]
          }
         ]
        },
        {
         "data": [
          {
           "marker": {
            "color": "SkyBlue",
            "size": 15
           },
           "mode": "markers",
           "name": "Controlled",
           "type": "scatter",
           "x": [
            -0.6409473015617343,
            -0.6119522514943607,
            -0.5742677850727188,
            -0.5043185754801437,
            0.40978074909873524,
            0.3264549459862476,
            0.26406714937539855,
            0.38592824757794303,
            0.42917337381494075,
            0.45513230340531613
           ],
           "y": [
            1,
            1,
            1,
            1,
            1,
            1,
            1,
            1,
            1,
            1
           ]
          },
          {
           "mode": "markers",
           "name": "Uncontrolled",
           "opacity": 0.8,
           "type": "scatter",
           "x": [
            -0.6803430945149584,
            -0.7228879639282149,
            -0.6485338976560041,
            -0.5503098789309682,
            0.5521896759106275,
            0.41670784201358235,
            0.383795332198901,
            0.5182186928771302,
            0.5239136406018945,
            0.5948393809558918
           ],
           "y": [
            1,
            1,
            1,
            1,
            1,
            1,
            1,
            1,
            1,
            1
           ]
          }
         ]
        },
        {
         "data": [
          {
           "marker": {
            "color": "SkyBlue",
            "size": 15
           },
           "mode": "markers",
           "name": "Controlled",
           "type": "scatter",
           "x": [
            -0.6386835995850682,
            -0.5944635208463084,
            -0.5700760616767243,
            -0.5118721463617034,
            0.4046981322957778,
            0.31290989642327066,
            0.26117208851055285,
            0.36687724108076003,
            0.42544839164672477,
            0.41961290272060153
           ],
           "y": [
            1,
            1,
            1,
            1,
            1,
            1,
            1,
            1,
            1,
            1
           ]
          },
          {
           "mode": "markers",
           "name": "Uncontrolled",
           "opacity": 0.8,
           "type": "scatter",
           "x": [
            -0.6825307392353577,
            -0.7170307595531775,
            -0.6522542745566405,
            -0.562498848203837,
            0.5607569753595527,
            0.41325622893933667,
            0.3924940873364543,
            0.5118945286617603,
            0.5301981230293623,
            0.5734247979228285
           ],
           "y": [
            1,
            1,
            1,
            1,
            1,
            1,
            1,
            1,
            1,
            1
           ]
          }
         ]
        },
        {
         "data": [
          {
           "marker": {
            "color": "SkyBlue",
            "size": 15
           },
           "mode": "markers",
           "name": "Controlled",
           "type": "scatter",
           "x": [
            -0.6274260334052153,
            -0.5819657326555886,
            -0.5720412446111741,
            -0.5206518631470124,
            0.3954428650015329,
            0.3219197655083882,
            0.24775466760277776,
            0.35147809818015535,
            0.4301514444253063,
            0.4125709061082237
           ],
           "y": [
            1,
            1,
            1,
            1,
            1,
            1,
            1,
            1,
            1,
            1
           ]
          },
          {
           "mode": "markers",
           "name": "Uncontrolled",
           "opacity": 0.8,
           "type": "scatter",
           "x": [
            -0.6756418398013803,
            -0.7157413043920094,
            -0.6620298637904973,
            -0.5762174991719498,
            0.5651073727350043,
            0.4323989967432285,
            0.3905989351532767,
            0.5089838695173355,
            0.5447882244334966,
            0.5799436858109538
           ],
           "y": [
            1,
            1,
            1,
            1,
            1,
            1,
            1,
            1,
            1,
            1
           ]
          }
         ]
        },
        {
         "data": [
          {
           "marker": {
            "color": "SkyBlue",
            "size": 15
           },
           "mode": "markers",
           "name": "Controlled",
           "type": "scatter",
           "x": [
            -0.6228340085905094,
            -0.5794971806120242,
            -0.5634966823547913,
            -0.5235596941776568,
            0.37805066867138143,
            0.30250243433364027,
            0.24093981773747808,
            0.32998453208444956,
            0.4131073061869298,
            0.4070334432613729
           ],
           "y": [
            1,
            1,
            1,
            1,
            1,
            1,
            1,
            1,
            1,
            1
           ]
          },
          {
           "mode": "markers",
           "name": "Uncontrolled",
           "opacity": 0.8,
           "type": "scatter",
           "x": [
            -0.6752422572902564,
            -0.724198504729357,
            -0.6613581295937846,
            -0.58434586464454,
            0.5611195967438433,
            0.42340358841636105,
            0.39499542142363286,
            0.4997103777691673,
            0.5377660571469365,
            0.5877640941820208
           ],
           "y": [
            1,
            1,
            1,
            1,
            1,
            1,
            1,
            1,
            1,
            1
           ]
          }
         ]
        },
        {
         "data": [
          {
           "marker": {
            "color": "SkyBlue",
            "size": 15
           },
           "mode": "markers",
           "name": "Controlled",
           "type": "scatter",
           "x": [
            -0.6071679940792317,
            -0.5768401848994308,
            -0.562087705645799,
            -0.5283747714076156,
            0.3674563154090007,
            0.29559990439341743,
            0.23412488108050233,
            0.31742417857193317,
            0.40906628946510126,
            0.3874438960627275
           ],
           "y": [
            1,
            1,
            1,
            1,
            1,
            1,
            1,
            1,
            1,
            1
           ]
          },
          {
           "mode": "markers",
           "name": "Uncontrolled",
           "opacity": 0.8,
           "type": "scatter",
           "x": [
            -0.6636996028312169,
            -0.7324487779917538,
            -0.6676097645522051,
            -0.5944273727027507,
            0.5636148808058972,
            0.4267217872186057,
            0.3992646811931944,
            0.49913607984942165,
            0.5434528734502337,
            0.5814479838965484
           ],
           "y": [
            1,
            1,
            1,
            1,
            1,
            1,
            1,
            1,
            1,
            1
           ]
          }
         ]
        },
        {
         "data": [
          {
           "marker": {
            "color": "SkyBlue",
            "size": 15
           },
           "mode": "markers",
           "name": "Controlled",
           "type": "scatter",
           "x": [
            -0.6112656708514773,
            -0.5429461533135137,
            -0.5537933986434214,
            -0.526926123825123,
            0.3600811554671966,
            0.2764997204793586,
            0.22892717114742667,
            0.3224069809310774,
            0.404713058995555,
            0.3770785793174839
           ],
           "y": [
            1,
            1,
            1,
            1,
            1,
            1,
            1,
            1,
            1,
            1
           ]
          },
          {
           "mode": "markers",
           "name": "Uncontrolled",
           "opacity": 0.8,
           "type": "scatter",
           "x": [
            -0.6716038488962187,
            -0.7094210343274988,
            -0.6669265593101851,
            -0.5984017459312504,
            0.569062164018521,
            0.4178375313803451,
            0.4049608309290303,
            0.5160214936605478,
            0.5487676163098033,
            0.5839549956249024
           ],
           "y": [
            1,
            1,
            1,
            1,
            1,
            1,
            1,
            1,
            1,
            1
           ]
          }
         ]
        },
        {
         "data": [
          {
           "marker": {
            "color": "SkyBlue",
            "size": 15
           },
           "mode": "markers",
           "name": "Controlled",
           "type": "scatter",
           "x": [
            -0.6075391023677369,
            -0.5471286408670434,
            -0.5463911400023236,
            -0.5249700308920702,
            0.33685602591551955,
            0.2679657074570278,
            0.22490703311925503,
            0.3193105836528969,
            0.38817231588014417,
            0.3617495709879442
           ],
           "y": [
            1,
            1,
            1,
            1,
            1,
            1,
            1,
            1,
            1,
            1
           ]
          },
          {
           "mode": "markers",
           "name": "Uncontrolled",
           "opacity": 0.8,
           "type": "scatter",
           "x": [
            -0.6716718118340315,
            -0.7238055581276505,
            -0.6670594789425921,
            -0.6020157594838778,
            0.5585605723592952,
            0.4191027339200512,
            0.41172481982437154,
            0.5249331297270463,
            0.5418124275273758,
            0.5813325569627639
           ],
           "y": [
            1,
            1,
            1,
            1,
            1,
            1,
            1,
            1,
            1,
            1
           ]
          }
         ]
        },
        {
         "data": [
          {
           "marker": {
            "color": "SkyBlue",
            "size": 15
           },
           "mode": "markers",
           "name": "Controlled",
           "type": "scatter",
           "x": [
            -0.6017993184972916,
            -0.5431132266155416,
            -0.5284692164118497,
            -0.5238221998156668,
            0.319969627516847,
            0.26640345046773,
            0.21395482004815286,
            0.2941111688082545,
            0.37310777567318426,
            0.3408771921351034
           ],
           "y": [
            1,
            1,
            1,
            1,
            1,
            1,
            1,
            1,
            1,
            1
           ]
          },
          {
           "mode": "markers",
           "name": "Uncontrolled",
           "opacity": 0.8,
           "type": "scatter",
           "x": [
            -0.6696073000211449,
            -0.7302049940893506,
            -0.6565168737090317,
            -0.6064151525487741,
            0.5538796322908518,
            0.42720575655757176,
            0.41145519761318516,
            0.5117871143138031,
            0.5360308892065129,
            0.5727996572793197
           ],
           "y": [
            1,
            1,
            1,
            1,
            1,
            1,
            1,
            1,
            1,
            1
           ]
          }
         ]
        },
        {
         "data": [
          {
           "marker": {
            "color": "SkyBlue",
            "size": 15
           },
           "mode": "markers",
           "name": "Controlled",
           "type": "scatter",
           "x": [
            -0.6000138665431366,
            -0.532493756544484,
            -0.5215891685600803,
            -0.5211463917054986,
            0.3217895456867939,
            0.27007257721038086,
            0.1936676441244746,
            0.27473392319968565,
            0.3682608550448844,
            0.33253625195290504
           ],
           "y": [
            1,
            1,
            1,
            1,
            1,
            1,
            1,
            1,
            1,
            1
           ]
          },
          {
           "mode": "markers",
           "name": "Uncontrolled",
           "opacity": 0.8,
           "type": "scatter",
           "x": [
            -0.6713934016006142,
            -0.7299706381267899,
            -0.6565810965156395,
            -0.6093558774251457,
            0.5675078723540817,
            0.44067074460320216,
            0.40164765556581533,
            0.504030485465236,
            0.5402049809349775,
            0.5763403602931744
           ],
           "y": [
            1,
            1,
            1,
            1,
            1,
            1,
            1,
            1,
            1,
            1
           ]
          }
         ]
        },
        {
         "data": [
          {
           "marker": {
            "color": "SkyBlue",
            "size": 15
           },
           "mode": "markers",
           "name": "Controlled",
           "type": "scatter",
           "x": [
            -0.5914860101476569,
            -0.5182504530097456,
            -0.5130097901006585,
            -0.5067786332372627,
            0.3175410478484346,
            0.2612019860772823,
            0.17293239014813225,
            0.2578143149003566,
            0.3519405694652567,
            0.31857273230085126
           ],
           "y": [
            1,
            1,
            1,
            1,
            1,
            1,
            1,
            1,
            1,
            1
           ]
          },
          {
           "mode": "markers",
           "name": "Uncontrolled",
           "opacity": 0.8,
           "type": "scatter",
           "x": [
            -0.6664431633456153,
            -0.7258696045621292,
            -0.6548453912378006,
            -0.6006295822305083,
            0.575039899485088,
            0.4417912518441125,
            0.39105712095030076,
            0.4983363473247888,
            0.5328779304931367,
            0.574109112015526
           ],
           "y": [
            1,
            1,
            1,
            1,
            1,
            1,
            1,
            1,
            1,
            1
           ]
          }
         ]
        },
        {
         "data": [
          {
           "marker": {
            "color": "SkyBlue",
            "size": 15
           },
           "mode": "markers",
           "name": "Controlled",
           "type": "scatter",
           "x": [
            -0.5800858902021349,
            -0.5053909005675349,
            -0.5199098881511027,
            -0.5229919271483023,
            0.30189367370830184,
            0.24259469458068178,
            0.15794964712461285,
            0.25286319783308825,
            0.3444647301247509,
            0.30950599306441384
           ],
           "y": [
            1,
            1,
            1,
            1,
            1,
            1,
            1,
            1,
            1,
            1
           ]
          },
          {
           "mode": "markers",
           "name": "Uncontrolled",
           "opacity": 0.8,
           "type": "scatter",
           "x": [
            -0.6584304219875703,
            -0.722878678609642,
            -0.6684731990116971,
            -0.6222118076381887,
            0.5710670540491367,
            0.4330847232813141,
            0.3858297829731926,
            0.5043460260020143,
            0.5341607741767815,
            0.576475499643609
           ],
           "y": [
            1,
            1,
            1,
            1,
            1,
            1,
            1,
            1,
            1,
            1
           ]
          }
         ]
        },
        {
         "data": [
          {
           "marker": {
            "color": "SkyBlue",
            "size": 15
           },
           "mode": "markers",
           "name": "Controlled",
           "type": "scatter",
           "x": [
            -0.5769067981519757,
            -0.5138325230396305,
            -0.5013725331832759,
            -0.5241363043052086,
            0.30957291370028817,
            0.228905912785153,
            0.15188913806462337,
            0.23154425659643837,
            0.3495876646904386,
            0.2895853214818724
           ],
           "y": [
            1,
            1,
            1,
            1,
            1,
            1,
            1,
            1,
            1,
            1
           ]
          },
          {
           "mode": "markers",
           "name": "Uncontrolled",
           "opacity": 0.8,
           "type": "scatter",
           "x": [
            -0.6583445064482267,
            -0.74086552294208,
            -0.6568453617068145,
            -0.62917208302973,
            0.5901337962593067,
            0.4289183645867559,
            0.38918493631527845,
            0.49402339778291576,
            0.5480226408178918,
            0.5677545175900823
           ],
           "y": [
            1,
            1,
            1,
            1,
            1,
            1,
            1,
            1,
            1,
            1
           ]
          }
         ]
        },
        {
         "data": [
          {
           "marker": {
            "color": "SkyBlue",
            "size": 15
           },
           "mode": "markers",
           "name": "Controlled",
           "type": "scatter",
           "x": [
            -0.5785980913881216,
            -0.4943542158092177,
            -0.5004068443991961,
            -0.5207267743076499,
            0.29374513106310424,
            0.2261182906135351,
            0.14983651291944178,
            0.23007788177977403,
            0.32870983544460236,
            0.281932043763186
           ],
           "y": [
            1,
            1,
            1,
            1,
            1,
            1,
            1,
            1,
            1,
            1
           ]
          },
          {
           "mode": "markers",
           "name": "Uncontrolled",
           "opacity": 0.8,
           "type": "scatter",
           "x": [
            -0.6630450503972826,
            -0.7311786568479429,
            -0.6622669204120202,
            -0.6316618657426459,
            0.5857492250399169,
            0.4353832616248343,
            0.3964022511897051,
            0.5032328027760661,
            0.5360429717399843,
            0.570976734322909
           ],
           "y": [
            1,
            1,
            1,
            1,
            1,
            1,
            1,
            1,
            1,
            1
           ]
          }
         ]
        },
        {
         "data": [
          {
           "marker": {
            "color": "SkyBlue",
            "size": 15
           },
           "mode": "markers",
           "name": "Controlled",
           "type": "scatter",
           "x": [
            -0.578384948587986,
            -0.4768155357836028,
            -0.5045356891419115,
            -0.5305979276772645,
            0.27277220321323387,
            0.20609484797385944,
            0.13249599856348274,
            0.2306071056213714,
            0.3131709386173644,
            0.27905506603234653
           ],
           "y": [
            1,
            1,
            1,
            1,
            1,
            1,
            1,
            1,
            1,
            1
           ]
          },
          {
           "mode": "markers",
           "name": "Uncontrolled",
           "opacity": 0.8,
           "type": "scatter",
           "x": [
            -0.6658871557087169,
            -0.7230234252052175,
            -0.6728569947825961,
            -0.6474749524522725,
            0.5760482353310669,
            0.42467429393590095,
            0.38830738177987056,
            0.514406240352463,
            0.5289656462327591,
            0.5787783693076519
           ],
           "y": [
            1,
            1,
            1,
            1,
            1,
            1,
            1,
            1,
            1,
            1
           ]
          }
         ]
        },
        {
         "data": [
          {
           "marker": {
            "color": "SkyBlue",
            "size": 15
           },
           "mode": "markers",
           "name": "Controlled",
           "type": "scatter",
           "x": [
            -0.5881543213544596,
            -0.4694851878074867,
            -0.4969630874714177,
            -0.5089924130009067,
            0.26917351715610793,
            0.21441684168286626,
            0.1211739435068962,
            0.21377464855103823,
            0.29377001796106444,
            0.2768393232652887
           ],
           "y": [
            1,
            1,
            1,
            1,
            1,
            1,
            1,
            1,
            1,
            1
           ]
          },
          {
           "mode": "markers",
           "name": "Uncontrolled",
           "opacity": 0.8,
           "type": "scatter",
           "x": [
            -0.6786327489918776,
            -0.7246627927101531,
            -0.6719122692664815,
            -0.6321298843535874,
            0.5833570613484275,
            0.4418947660836019,
            0.385891219394661,
            0.5082813864235894,
            0.5178465565108122,
            0.5871152559943268
           ],
           "y": [
            1,
            1,
            1,
            1,
            1,
            1,
            1,
            1,
            1,
            1
           ]
          }
         ]
        },
        {
         "data": [
          {
           "marker": {
            "color": "SkyBlue",
            "size": 15
           },
           "mode": "markers",
           "name": "Controlled",
           "type": "scatter",
           "x": [
            -0.5727664423887477,
            -0.47053420166541277,
            -0.49441736725444085,
            -0.5050019637074112,
            0.26655146083368697,
            0.2096042360640522,
            0.11747299173302525,
            0.2120599008752335,
            0.28760827915635157,
            0.2723690333964868
           ],
           "y": [
            1,
            1,
            1,
            1,
            1,
            1,
            1,
            1,
            1,
            1
           ]
          },
          {
           "mode": "markers",
           "name": "Uncontrolled",
           "opacity": 0.8,
           "type": "scatter",
           "x": [
            -0.6665058092803047,
            -0.7345761636509273,
            -0.6759467742315198,
            -0.6339056902705883,
            0.5916169621352283,
            0.4463259670973169,
            0.3909308034391765,
            0.516871188206562,
            0.5195690337257227,
            0.5930299900877144
           ],
           "y": [
            1,
            1,
            1,
            1,
            1,
            1,
            1,
            1,
            1,
            1
           ]
          }
         ]
        },
        {
         "data": [
          {
           "marker": {
            "color": "SkyBlue",
            "size": 15
           },
           "mode": "markers",
           "name": "Controlled",
           "type": "scatter",
           "x": [
            -0.5731656206648852,
            -0.469902480391472,
            -0.5005891942631038,
            -0.48335637280375565,
            0.2512383076558951,
            0.20647873080402115,
            0.11040888781446367,
            0.2083710145671524,
            0.27838351101748776,
            0.265597875237282
           ],
           "y": [
            1,
            1,
            1,
            1,
            1,
            1,
            1,
            1,
            1,
            1
           ]
          },
          {
           "mode": "markers",
           "name": "Uncontrolled",
           "opacity": 0.8,
           "type": "scatter",
           "x": [
            -0.6698425149507776,
            -0.742886927091819,
            -0.6886680691535475,
            -0.6179604804179536,
            0.5870396817978301,
            0.45232422357709834,
            0.3925064325774244,
            0.5235211112608581,
            0.5181560592991266,
            0.5965006080465262
           ],
           "y": [
            1,
            1,
            1,
            1,
            1,
            1,
            1,
            1,
            1,
            1
           ]
          }
         ]
        },
        {
         "data": [
          {
           "marker": {
            "color": "SkyBlue",
            "size": 15
           },
           "mode": "markers",
           "name": "Controlled",
           "type": "scatter",
           "x": [
            -0.5903181125688098,
            -0.45757903335136174,
            -0.4949475765963748,
            -0.4773363226168304,
            0.24870807603246847,
            0.20177426595144074,
            0.1154607654302309,
            0.19163633790875534,
            0.2640432264522544,
            0.2415929305919109
           ],
           "y": [
            1,
            1,
            1,
            1,
            1,
            1,
            1,
            1,
            1,
            1
           ]
          },
          {
           "mode": "markers",
           "name": "Uncontrolled",
           "opacity": 0.8,
           "type": "scatter",
           "x": [
            -0.6899535597473215,
            -0.7396116007766581,
            -0.6898660718989666,
            -0.6170678179299497,
            0.5950169304615398,
            0.45675074001710886,
            0.4059939370191074,
            0.5170847259284003,
            0.5114837443195017,
            0.5825441203711437
           ],
           "y": [
            1,
            1,
            1,
            1,
            1,
            1,
            1,
            1,
            1,
            1
           ]
          }
         ]
        },
        {
         "data": [
          {
           "marker": {
            "color": "SkyBlue",
            "size": 15
           },
           "mode": "markers",
           "name": "Controlled",
           "type": "scatter",
           "x": [
            -0.5971370671944549,
            -0.4605444121253763,
            -0.4947899589070466,
            -0.4742856269430667,
            0.23506760222242015,
            0.17701507664972627,
            0.09086318357507195,
            0.17492733075368744,
            0.25962997731976756,
            0.2359350850591144
           ],
           "y": [
            1,
            1,
            1,
            1,
            1,
            1,
            1,
            1,
            1,
            1
           ]
          },
          {
           "mode": "markers",
           "name": "Uncontrolled",
           "opacity": 0.8,
           "type": "scatter",
           "x": [
            -0.7001495312006237,
            -0.7514057553910668,
            -0.6964869466005276,
            -0.6190895854888786,
            0.5919013886306748,
            0.44121851448575433,
            0.38992709655432745,
            0.510347806484614,
            0.514295362677618,
            0.5865623523012027
           ],
           "y": [
            1,
            1,
            1,
            1,
            1,
            1,
            1,
            1,
            1,
            1
           ]
          }
         ]
        },
        {
         "data": [
          {
           "marker": {
            "color": "SkyBlue",
            "size": 15
           },
           "mode": "markers",
           "name": "Controlled",
           "type": "scatter",
           "x": [
            -0.5923533871054136,
            -0.4591504793938949,
            -0.50951494738365,
            -0.4730782694041046,
            0.22418618277636126,
            0.16085479020597349,
            0.08729417416485151,
            0.15641229925874897,
            0.24521089773396149,
            0.23030505278946684
           ],
           "y": [
            1,
            1,
            1,
            1,
            1,
            1,
            1,
            1,
            1,
            1
           ]
          },
          {
           "mode": "markers",
           "name": "Uncontrolled",
           "opacity": 0.8,
           "type": "scatter",
           "x": [
            -0.6988341594952969,
            -0.7589277914233523,
            -0.718031579155727,
            -0.6228325481792446,
            0.5911869269041282,
            0.43374829508138446,
            0.39437064286434237,
            0.501548758953019,
            0.5072128302797815,
            0.5905017879580329
           ],
           "y": [
            1,
            1,
            1,
            1,
            1,
            1,
            1,
            1,
            1,
            1
           ]
          }
         ]
        },
        {
         "data": [
          {
           "marker": {
            "color": "SkyBlue",
            "size": 15
           },
           "mode": "markers",
           "name": "Controlled",
           "type": "scatter",
           "x": [
            -0.5957675349942008,
            -0.44083788832587495,
            -0.5119841943941104,
            -0.46970636646827324,
            0.21871055945235646,
            0.1543089512371633,
            0.09061538573608571,
            0.1497475679387023,
            0.2311300829783124,
            0.22088407000712817
           ],
           "y": [
            1,
            1,
            1,
            1,
            1,
            1,
            1,
            1,
            1,
            1
           ]
          },
          {
           "mode": "markers",
           "name": "Uncontrolled",
           "opacity": 0.8,
           "type": "scatter",
           "x": [
            -0.7056638510464444,
            -0.7494554503446597,
            -0.727752589427148,
            -0.6243295713761464,
            0.595803545843616,
            0.43556010774420983,
            0.405648831376741,
            0.5043397622959606,
            0.5002142773576198,
            0.5905415261717644
           ],
           "y": [
            1,
            1,
            1,
            1,
            1,
            1,
            1,
            1,
            1,
            1
           ]
          }
         ]
        },
        {
         "data": [
          {
           "marker": {
            "color": "SkyBlue",
            "size": 15
           },
           "mode": "markers",
           "name": "Controlled",
           "type": "scatter",
           "x": [
            -0.593852905381287,
            -0.440362012747727,
            -0.5005725543231819,
            -0.47153021508529297,
            0.2112373585994283,
            0.14791247333262128,
            0.113006858670117,
            0.13630684119371816,
            0.2231054130146017,
            0.2092332747120013
           ],
           "y": [
            1,
            1,
            1,
            1,
            1,
            1,
            1,
            1,
            1,
            1
           ]
          },
          {
           "mode": "markers",
           "name": "Uncontrolled",
           "opacity": 0.8,
           "type": "scatter",
           "x": [
            -0.7072700376622137,
            -0.7573802484109443,
            -0.7237656983302683,
            -0.6309973578448799,
            0.5983862931305374,
            0.43742147486775396,
            0.43607994446078124,
            0.5002126403437235,
            0.4988856868418755,
            0.5881618188232315
           ],
           "y": [
            1,
            1,
            1,
            1,
            1,
            1,
            1,
            1,
            1,
            1
           ]
          }
         ]
        },
        {
         "data": [
          {
           "marker": {
            "color": "SkyBlue",
            "size": 15
           },
           "mode": "markers",
           "name": "Controlled",
           "type": "scatter",
           "x": [
            -0.586552403388438,
            -0.42404384743439993,
            -0.4974660372126962,
            -0.47302911339317194,
            0.1898863258164813,
            0.13868608442817462,
            0.11755992925766676,
            0.13492592852102647,
            0.2159381112456139,
            0.20740366749560055
           ],
           "y": [
            1,
            1,
            1,
            1,
            1,
            1,
            1,
            1,
            1,
            1
           ]
          },
          {
           "mode": "markers",
           "name": "Uncontrolled",
           "opacity": 0.8,
           "type": "scatter",
           "x": [
            -0.7035079996796219,
            -0.7495129082197914,
            -0.7277599157821917,
            -0.6374858204220912,
            0.5869892773351655,
            0.43635623137936325,
            0.4491348978542705,
            0.5079266050747968,
            0.49815024871895963,
            0.5954312858471927
           ],
           "y": [
            1,
            1,
            1,
            1,
            1,
            1,
            1,
            1,
            1,
            1
           ]
          }
         ]
        },
        {
         "data": [
          {
           "marker": {
            "color": "SkyBlue",
            "size": 15
           },
           "mode": "markers",
           "name": "Controlled",
           "type": "scatter",
           "x": [
            -0.58526651465587,
            -0.4288411776193185,
            -0.48542695661699387,
            -0.4626394641140947,
            0.19227101575861166,
            0.13789672034046388,
            0.10668610153834354,
            0.13244067786067554,
            0.21983376541224586,
            0.20553259733660575
           ],
           "y": [
            1,
            1,
            1,
            1,
            1,
            1,
            1,
            1,
            1,
            1
           ]
          },
          {
           "mode": "markers",
           "name": "Uncontrolled",
           "opacity": 0.8,
           "type": "scatter",
           "x": [
            -0.705576075879739,
            -0.762404721399564,
            -0.7227763078996613,
            -0.6322085263841892,
            0.5989267394545127,
            0.4435035355345029,
            0.44681645513562257,
            0.5145263641571428,
            0.5083674258967507,
            0.6026063568081785
           ],
           "y": [
            1,
            1,
            1,
            1,
            1,
            1,
            1,
            1,
            1,
            1
           ]
          }
         ]
        },
        {
         "data": [
          {
           "marker": {
            "color": "SkyBlue",
            "size": 15
           },
           "mode": "markers",
           "name": "Controlled",
           "type": "scatter",
           "x": [
            -0.5798499514882918,
            -0.42787621771733303,
            -0.49528866748678724,
            -0.4563897920602234,
            0.18593005029278187,
            0.1437431641015668,
            0.07783934571788423,
            0.13618090477526523,
            0.21178080784064618,
            0.18253668450031696
           ],
           "y": [
            1,
            1,
            1,
            1,
            1,
            1,
            1,
            1,
            1,
            1
           ]
          },
          {
           "mode": "markers",
           "name": "Uncontrolled",
           "opacity": 0.8,
           "type": "scatter",
           "x": [
            -0.7034797358905909,
            -0.7697436411390554,
            -0.7394236448850373,
            -0.6308304357205435,
            0.6021380439927184,
            0.4572591112426597,
            0.4262872324916644,
            0.5273033521406748,
            0.5067853018375617,
            0.588605542297955
           ],
           "y": [
            1,
            1,
            1,
            1,
            1,
            1,
            1,
            1,
            1,
            1
           ]
          }
         ]
        },
        {
         "data": [
          {
           "marker": {
            "color": "SkyBlue",
            "size": 15
           },
           "mode": "markers",
           "name": "Controlled",
           "type": "scatter",
           "x": [
            -0.5688168386999282,
            -0.43085347183761163,
            -0.5111747161357624,
            -0.4676292201977736,
            0.17195702956480133,
            0.13636371069745956,
            0.08240079807077155,
            0.11318356098922874,
            0.1962681781830098,
            0.1762142743206604
           ],
           "y": [
            1,
            1,
            1,
            1,
            1,
            1,
            1,
            1,
            1,
            1
           ]
          },
          {
           "mode": "markers",
           "name": "Uncontrolled",
           "opacity": 0.8,
           "type": "scatter",
           "x": [
            -0.6956056281013802,
            -0.7810415256124273,
            -0.762468063899151,
            -0.6467427986422849,
            0.5974866896200157,
            0.4580743648430156,
            0.43846544325546627,
            0.5134753010601166,
            0.49757578186917245,
            0.5905884299854787
           ],
           "y": [
            1,
            1,
            1,
            1,
            1,
            1,
            1,
            1,
            1,
            1
           ]
          }
         ]
        },
        {
         "data": [
          {
           "marker": {
            "color": "SkyBlue",
            "size": 15
           },
           "mode": "markers",
           "name": "Controlled",
           "type": "scatter",
           "x": [
            -0.5631686501269124,
            -0.42115276215461656,
            -0.49662782724546384,
            -0.45043925735283846,
            0.15036721084175023,
            0.13469955948784154,
            0.07139269532965124,
            0.10648313460107571,
            0.18871885490429735,
            0.1625868521779504
           ],
           "y": [
            1,
            1,
            1,
            1,
            1,
            1,
            1,
            1,
            1,
            1
           ]
          },
          {
           "mode": "markers",
           "name": "Uncontrolled",
           "opacity": 0.8,
           "type": "scatter",
           "x": [
            -0.6929456962125574,
            -0.7796324503969554,
            -0.7554985087842321,
            -0.6344819186756335,
            0.5849900397814055,
            0.46450156483968946,
            0.4351657305375966,
            0.5156083250483444,
            0.4960201567945745,
            0.5850980767663345
           ],
           "y": [
            1,
            1,
            1,
            1,
            1,
            1,
            1,
            1,
            1,
            1
           ]
          }
         ]
        },
        {
         "data": [
          {
           "marker": {
            "color": "SkyBlue",
            "size": 15
           },
           "mode": "markers",
           "name": "Controlled",
           "type": "scatter",
           "x": [
            -0.5642791214935393,
            -0.41210943196787814,
            -0.5007199061946724,
            -0.43931182720110745,
            0.12776476708634235,
            0.13279532823343715,
            0.09348690872383508,
            0.10343394070821742,
            0.17053709195208433,
            0.13938708554614335
           ],
           "y": [
            1,
            1,
            1,
            1,
            1,
            1,
            1,
            1,
            1,
            1
           ]
          },
          {
           "mode": "markers",
           "name": "Uncontrolled",
           "opacity": 0.8,
           "type": "scatter",
           "x": [
            -0.6968741603854183,
            -0.7787807577694114,
            -0.766859695868859,
            -0.6279189556695218,
            0.5709591147804958,
            0.4707008681425413,
            0.4646663837071034,
            0.5212696144940163,
            0.4836836887398551,
            0.569623267037343
           ],
           "y": [
            1,
            1,
            1,
            1,
            1,
            1,
            1,
            1,
            1,
            1
           ]
          }
         ]
        },
        {
         "data": [
          {
           "marker": {
            "color": "SkyBlue",
            "size": 15
           },
           "mode": "markers",
           "name": "Controlled",
           "type": "scatter",
           "x": [
            -0.5742735915925608,
            -0.4100406743538453,
            -0.5022518289152063,
            -0.4345892911747377,
            0.12368329663440489,
            0.1365119141206179,
            0.07505392506522082,
            0.08732823249465031,
            0.16565679694529287,
            0.14569208813048803
           ],
           "y": [
            1,
            1,
            1,
            1,
            1,
            1,
            1,
            1,
            1,
            1
           ]
          },
          {
           "mode": "markers",
           "name": "Uncontrolled",
           "opacity": 0.8,
           "type": "scatter",
           "x": [
            -0.7096796982369882,
            -0.784805552365798,
            -0.7758339936320283,
            -0.6275522817828025,
            0.5749856058492427,
            0.4825424893086856,
            0.4540320293754867,
            0.5138652638863888,
            0.4840246734341931,
            0.5830760366924682
           ],
           "y": [
            1,
            1,
            1,
            1,
            1,
            1,
            1,
            1,
            1,
            1
           ]
          }
         ]
        },
        {
         "data": [
          {
           "marker": {
            "color": "SkyBlue",
            "size": 15
           },
           "mode": "markers",
           "name": "Controlled",
           "type": "scatter",
           "x": [
            -0.5898006409232478,
            -0.41770072434769123,
            -0.49327659578587135,
            -0.42473584466969355,
            0.11773800067488685,
            0.1435493934898012,
            0.06996528916702809,
            0.10562876811934378,
            0.15126006918050067,
            0.15694558938447606
           ],
           "y": [
            1,
            1,
            1,
            1,
            1,
            1,
            1,
            1,
            1,
            1
           ]
          },
          {
           "mode": "markers",
           "name": "Uncontrolled",
           "opacity": 0.8,
           "type": "scatter",
           "x": [
            -0.72831217012573,
            -0.8004467256941958,
            -0.7744265536170721,
            -0.6218505653924083,
            0.5771052702756607,
            0.4978480792086736,
            0.45639437195237487,
            0.5405491151639582,
            0.47484227347660435,
            0.6015915540649528
           ],
           "y": [
            1,
            1,
            1,
            1,
            1,
            1,
            1,
            1,
            1,
            1
           ]
          }
         ]
        },
        {
         "data": [
          {
           "marker": {
            "color": "SkyBlue",
            "size": 15
           },
           "mode": "markers",
           "name": "Controlled",
           "type": "scatter",
           "x": [
            -0.5886878591712578,
            -0.40559931439541835,
            -0.5061659157493124,
            -0.41603654079086455,
            0.11537628579560652,
            0.1252122112478969,
            0.06830587489296093,
            0.10110417687036613,
            0.14180326022383508,
            0.15067687447806438
           ],
           "y": [
            1,
            1,
            1,
            1,
            1,
            1,
            1,
            1,
            1,
            1
           ]
          },
          {
           "mode": "markers",
           "name": "Uncontrolled",
           "opacity": 0.8,
           "type": "scatter",
           "x": [
            -0.7307138975235677,
            -0.7966569969914886,
            -0.7947129730727595,
            -0.6170166085302021,
            0.58271540859388,
            0.4880025728148896,
            0.4621759441781894,
            0.5447402158476657,
            0.47028131622896385,
            0.6027461424153129
           ],
           "y": [
            1,
            1,
            1,
            1,
            1,
            1,
            1,
            1,
            1,
            1
           ]
          }
         ]
        },
        {
         "data": [
          {
           "marker": {
            "color": "SkyBlue",
            "size": 15
           },
           "mode": "markers",
           "name": "Controlled",
           "type": "scatter",
           "x": [
            -0.5805192430982076,
            -0.41399896954091386,
            -0.5020742341602537,
            -0.39889428075573147,
            0.11313295999783869,
            0.11250944033083711,
            0.051073107224217235,
            0.09210898403747293,
            0.13175624768386904,
            0.15174111355263512
           ],
           "y": [
            1,
            1,
            1,
            1,
            1,
            1,
            1,
            1,
            1,
            1
           ]
          },
          {
           "mode": "markers",
           "name": "Uncontrolled",
           "opacity": 0.8,
           "type": "scatter",
           "x": [
            -0.7260559514717105,
            -0.813086900476937,
            -0.7984397437680698,
            -0.6035559747685768,
            0.5884435774344793,
            0.48332382582447075,
            0.4523028580521687,
            0.5443940656463756,
            0.46487019272433816,
            0.611078966360301
           ],
           "y": [
            1,
            1,
            1,
            1,
            1,
            1,
            1,
            1,
            1,
            1
           ]
          }
         ]
        },
        {
         "data": [
          {
           "marker": {
            "color": "SkyBlue",
            "size": 15
           },
           "mode": "markers",
           "name": "Controlled",
           "type": "scatter",
           "x": [
            -0.5953840889138751,
            -0.4255886304208237,
            -0.506214328660769,
            -0.39207299660018696,
            0.10444067982248209,
            0.11337152789280766,
            0.052226497356276165,
            0.06292230084184455,
            0.13517086288475935,
            0.14871383010595632
           ],
           "y": [
            1,
            1,
            1,
            1,
            1,
            1,
            1,
            1,
            1,
            1
           ]
          },
          {
           "mode": "markers",
           "name": "Uncontrolled",
           "opacity": 0.8,
           "type": "scatter",
           "x": [
            -0.7443080731958206,
            -0.8329558274451996,
            -0.810345854404433,
            -0.6000310448531757,
            0.5876651106527505,
            0.4918621559473527,
            0.4604785558935187,
            0.5237583063030511,
            0.4727589974241976,
            0.6152819236973182
           ],
           "y": [
            1,
            1,
            1,
            1,
            1,
            1,
            1,
            1,
            1,
            1
           ]
          }
         ]
        },
        {
         "data": [
          {
           "marker": {
            "color": "SkyBlue",
            "size": 15
           },
           "mode": "markers",
           "name": "Controlled",
           "type": "scatter",
           "x": [
            -0.6039673952151992,
            -0.42856756446932676,
            -0.4984341852566889,
            -0.3930266176628874,
            0.09428782935370225,
            0.11745551499733081,
            0.04725232951681164,
            0.057772326752555156,
            0.1223262570602627,
            0.1450633241709834
           ],
           "y": [
            1,
            1,
            1,
            1,
            1,
            1,
            1,
            1,
            1,
            1
           ]
          },
          {
           "mode": "markers",
           "name": "Uncontrolled",
           "opacity": 0.8,
           "type": "scatter",
           "x": [
            -0.7566326751353039,
            -0.8444462027871007,
            -0.8104391061483759,
            -0.6040311727992296,
            0.5852781285136903,
            0.5037379333907354,
            0.46252691304516025,
            0.5266596462253836,
            0.46451675143800897,
            0.6188805449706654
           ],
           "y": [
            1,
            1,
            1,
            1,
            1,
            1,
            1,
            1,
            1,
            1
           ]
          }
         ]
        },
        {
         "data": [
          {
           "marker": {
            "color": "SkyBlue",
            "size": 15
           },
           "mode": "markers",
           "name": "Controlled",
           "type": "scatter",
           "x": [
            -0.603526743742772,
            -0.4185149387308348,
            -0.49101619850375144,
            -0.3935842443134794,
            0.09036529410386299,
            0.11638477472604529,
            0.05469568386266057,
            0.04897019693579445,
            0.13097478332023677,
            0.13535301544043551
           ],
           "y": [
            1,
            1,
            1,
            1,
            1,
            1,
            1,
            1,
            1,
            1
           ]
          },
          {
           "mode": "markers",
           "name": "Uncontrolled",
           "opacity": 0.8,
           "type": "scatter",
           "x": [
            -0.7601286502158534,
            -0.8430030680686663,
            -0.8107180156023327,
            -0.6076379923830862,
            0.5888995601947674,
            0.5106051806020742,
            0.4769455283259312,
            0.5258541839275157,
            0.47747194065189175,
            0.6162786564916511
           ],
           "y": [
            1,
            1,
            1,
            1,
            1,
            1,
            1,
            1,
            1,
            1
           ]
          }
         ]
        },
        {
         "data": [
          {
           "marker": {
            "color": "SkyBlue",
            "size": 15
           },
           "mode": "markers",
           "name": "Controlled",
           "type": "scatter",
           "x": [
            -0.6111247116496897,
            -0.4126471778117086,
            -0.49550857792554426,
            -0.39029392145562986,
            0.08620484079072827,
            0.11563437787806262,
            0.05338593055743718,
            0.042343565088502115,
            0.1326727647656894,
            0.13362233171179308
           ],
           "y": [
            1,
            1,
            1,
            1,
            1,
            1,
            1,
            1,
            1,
            1
           ]
          },
          {
           "mode": "markers",
           "name": "Uncontrolled",
           "opacity": 0.8,
           "type": "scatter",
           "x": [
            -0.7716303681410746,
            -0.8455203197569529,
            -0.8227400215754055,
            -0.6074921494081634,
            0.5921968296827407,
            0.5178073356819398,
            0.4827052462437054,
            0.527000951003855,
            0.48362778583182847,
            0.6214844989703964
           ],
           "y": [
            1,
            1,
            1,
            1,
            1,
            1,
            1,
            1,
            1,
            1
           ]
          }
         ]
        },
        {
         "data": [
          {
           "marker": {
            "color": "SkyBlue",
            "size": 15
           },
           "mode": "markers",
           "name": "Controlled",
           "type": "scatter",
           "x": [
            -0.6127512447067393,
            -0.4074141489871403,
            -0.4913576164399173,
            -0.3791464859610094,
            0.07407839395556837,
            0.10881002898294379,
            0.046739965146249736,
            0.03879169577170518,
            0.12754196099104248,
            0.121423301533294
           ],
           "y": [
            1,
            1,
            1,
            1,
            1,
            1,
            1,
            1,
            1,
            1
           ]
          },
          {
           "mode": "markers",
           "name": "Uncontrolled",
           "opacity": 0.8,
           "type": "scatter",
           "x": [
            -0.777356984475303,
            -0.8485369230982525,
            -0.8262931047352776,
            -0.5994062021727776,
            0.58746948767063,
            0.5189595035912298,
            0.48307130054343006,
            0.5310743811514416,
            0.4829931057778667,
            0.6162074401149304
           ],
           "y": [
            1,
            1,
            1,
            1,
            1,
            1,
            1,
            1,
            1,
            1
           ]
          }
         ]
        },
        {
         "data": [
          {
           "marker": {
            "color": "SkyBlue",
            "size": 15
           },
           "mode": "markers",
           "name": "Controlled",
           "type": "scatter",
           "x": [
            -0.6194624107680117,
            -0.39512687059502555,
            -0.49517591380121706,
            -0.372056001350206,
            0.07398424931286444,
            0.10756901247520226,
            0.03999680403742533,
            0.04357941068273164,
            0.1302000351076784,
            0.10637150184744368
           ],
           "y": [
            1,
            1,
            1,
            1,
            1,
            1,
            1,
            1,
            1,
            1
           ]
          },
          {
           "mode": "markers",
           "name": "Uncontrolled",
           "opacity": 0.8,
           "type": "scatter",
           "x": [
            -0.7881880321432428,
            -0.8443380149782994,
            -0.8377682405066136,
            -0.5951158501591588,
            0.5944978183672204,
            0.525568235828694,
            0.4831403609701999,
            0.5434274465280622,
            0.48999559715451396,
            0.6077494749484135
           ],
           "y": [
            1,
            1,
            1,
            1,
            1,
            1,
            1,
            1,
            1,
            1
           ]
          }
         ]
        },
        {
         "data": [
          {
           "marker": {
            "color": "SkyBlue",
            "size": 15
           },
           "mode": "markers",
           "name": "Controlled",
           "type": "scatter",
           "x": [
            -0.6345899399043484,
            -0.37899431558285473,
            -0.4996127578645232,
            -0.38938912412052895,
            0.083292606178706,
            0.0985371320461913,
            0.022024005750800504,
            0.02738199630105123,
            0.13098983444054216,
            0.08952277851613377
           ],
           "y": [
            1,
            1,
            1,
            1,
            1,
            1,
            1,
            1,
            1,
            1
           ]
          },
          {
           "mode": "markers",
           "name": "Uncontrolled",
           "opacity": 0.8,
           "type": "scatter",
           "x": [
            -0.8075801715342193,
            -0.836019786672424,
            -0.8500846774735509,
            -0.6150697402820606,
            0.6109258434677587,
            0.5244152369056572,
            0.4717149508884571,
            0.534839007786904,
            0.4951265158347161,
            0.5971222374081913
           ],
           "y": [
            1,
            1,
            1,
            1,
            1,
            1,
            1,
            1,
            1,
            1
           ]
          }
         ]
        },
        {
         "data": [
          {
           "marker": {
            "color": "SkyBlue",
            "size": 15
           },
           "mode": "markers",
           "name": "Controlled",
           "type": "scatter",
           "x": [
            -0.6349059548073532,
            -0.3669848923642078,
            -0.4749579050314579,
            -0.3869249982655808,
            0.06764085877436449,
            0.09081221294531329,
            0.029549810211783434,
            0.029774240932952598,
            0.11322763582042242,
            0.09707616580630046
           ],
           "y": [
            1,
            1,
            1,
            1,
            1,
            1,
            1,
            1,
            1,
            1
           ]
          },
          {
           "mode": "markers",
           "name": "Uncontrolled",
           "opacity": 0.8,
           "type": "scatter",
           "x": [
            -0.8124506593615538,
            -0.8312294399780544,
            -0.8335257171225854,
            -0.6156589891918937,
            0.6026609418397945,
            0.5243491037383546,
            0.48524945721413953,
            0.5444844005643553,
            0.48175369344624036,
            0.610468475423446
           ],
           "y": [
            1,
            1,
            1,
            1,
            1,
            1,
            1,
            1,
            1,
            1
           ]
          }
         ]
        },
        {
         "data": [
          {
           "marker": {
            "color": "SkyBlue",
            "size": 15
           },
           "mode": "markers",
           "name": "Controlled",
           "type": "scatter",
           "x": [
            -0.631670027908057,
            -0.35990459914973516,
            -0.4716966153076826,
            -0.38578938659807716,
            0.06569730589999782,
            0.053490559325465106,
            0.024910881315775374,
            0.03884551480718336,
            0.10750180357612309,
            0.09683202714274279
           ],
           "y": [
            1,
            1,
            1,
            1,
            1,
            1,
            1,
            1,
            1,
            1
           ]
          },
          {
           "mode": "markers",
           "name": "Uncontrolled",
           "opacity": 0.8,
           "type": "scatter",
           "x": [
            -0.8137577277592211,
            -0.8311636237242782,
            -0.8377001756437031,
            -0.6176173703112138,
            0.6077596687212661,
            0.4944881328785085,
            0.48693962340502905,
            0.5608099564846881,
            0.4799646874288074,
            0.6161789161750276
           ],
           "y": [
            1,
            1,
            1,
            1,
            1,
            1,
            1,
            1,
            1,
            1
           ]
          }
         ]
        },
        {
         "data": [
          {
           "marker": {
            "color": "SkyBlue",
            "size": 15
           },
           "mode": "markers",
           "name": "Controlled",
           "type": "scatter",
           "x": [
            -0.6384813786285454,
            -0.36196567966139076,
            -0.4702002349551066,
            -0.38617906367041915,
            0.04497894703388941,
            0.052848550101894626,
            0.016451053435991698,
            0.028816703138180806,
            0.09244496835358372,
            0.08645448322155777
           ],
           "y": [
            1,
            1,
            1,
            1,
            1,
            1,
            1,
            1,
            1,
            1
           ]
          },
          {
           "mode": "markers",
           "name": "Uncontrolled",
           "opacity": 0.8,
           "type": "scatter",
           "x": [
            -0.8249876338980532,
            -0.8401358264985005,
            -0.8436031369510603,
            -0.6212020746018442,
            0.5940701031281823,
            0.500231389812444,
            0.48467827787040335,
            0.558220730554574,
            0.46870807465168074,
            0.6117368879772892
           ],
           "y": [
            1,
            1,
            1,
            1,
            1,
            1,
            1,
            1,
            1,
            1
           ]
          }
         ]
        },
        {
         "data": [
          {
           "marker": {
            "color": "SkyBlue",
            "size": 15
           },
           "mode": "markers",
           "name": "Controlled",
           "type": "scatter",
           "x": [
            -0.6370130059807154,
            -0.36014848642368846,
            -0.45454393897799117,
            -0.39976364135757597,
            0.03367974224906817,
            0.05092193820887213,
            0.01821977559190143,
            0.034353917158416986,
            0.0855276654434408,
            0.07537003938861742
           ],
           "y": [
            1,
            1,
            1,
            1,
            1,
            1,
            1,
            1,
            1,
            1
           ]
          },
          {
           "mode": "markers",
           "name": "Uncontrolled",
           "opacity": 0.8,
           "type": "scatter",
           "x": [
            -0.82806708402094,
            -0.8452438709093371,
            -0.835310772252159,
            -0.6380472471677414,
            0.5893508619304358,
            0.5047248726891299,
            0.4924644380121283,
            0.5710762790048426,
            0.4652617940836978,
            0.6062388582010156
           ],
           "y": [
            1,
            1,
            1,
            1,
            1,
            1,
            1,
            1,
            1,
            1
           ]
          }
         ]
        },
        {
         "data": [
          {
           "marker": {
            "color": "SkyBlue",
            "size": 15
           },
           "mode": "markers",
           "name": "Controlled",
           "type": "scatter",
           "x": [
            -0.620440217551417,
            -0.35460588629332873,
            -0.4565747102716524,
            -0.4140977823021932,
            0.03285270622682789,
            0.03274350962794809,
            -0.008542765510704577,
            0.02789709486710175,
            0.08289044117828971,
            0.04886336808663378
           ],
           "y": [
            1,
            1,
            1,
            1,
            1,
            1,
            1,
            1,
            1,
            1
           ]
          },
          {
           "mode": "markers",
           "name": "Uncontrolled",
           "opacity": 0.8,
           "type": "scatter",
           "x": [
            -0.8159906017432215,
            -0.8466347676785301,
            -0.8443361875374691,
            -0.6559180563149312,
            0.594909814695374,
            0.492931259136165,
            0.47182544096717555,
            0.5720284380845164,
            0.4658561109089881,
            0.5850442470965956
           ],
           "y": [
            1,
            1,
            1,
            1,
            1,
            1,
            1,
            1,
            1,
            1
           ]
          }
         ]
        },
        {
         "data": [
          {
           "marker": {
            "color": "SkyBlue",
            "size": 15
           },
           "mode": "markers",
           "name": "Controlled",
           "type": "scatter",
           "x": [
            -0.6183594120834308,
            -0.3533304931468834,
            -0.436029808651221,
            -0.4086608253557683,
            0.017605468386053466,
            0.02818596070051274,
            -0.0008552682699621249,
            0.021756872106359557,
            0.07876754571725189,
            0.049780896857730905
           ],
           "y": [
            1,
            1,
            1,
            1,
            1,
            1,
            1,
            1,
            1,
            1
           ]
          },
          {
           "mode": "markers",
           "name": "Uncontrolled",
           "opacity": 0.8,
           "type": "scatter",
           "x": [
            -0.8180749291515881,
            -0.8519790860274429,
            -0.8309669219110201,
            -0.6543928547741621,
            0.586194146657253,
            0.4942364713433514,
            0.4849403979060763,
            0.5731518145930329,
            0.46489964030359693,
            0.590469633370991
           ],
           "y": [
            1,
            1,
            1,
            1,
            1,
            1,
            1,
            1,
            1,
            1
           ]
          }
         ]
        },
        {
         "data": [
          {
           "marker": {
            "color": "SkyBlue",
            "size": 15
           },
           "mode": "markers",
           "name": "Controlled",
           "type": "scatter",
           "x": [
            -0.6241196002014217,
            -0.3665423668577574,
            -0.45616965527235775,
            -0.40635616158189963,
            0.008718603591102977,
            0.030607428726074783,
            -0.004098832748917678,
            0.016666724501444657,
            0.07322077222974425,
            0.040502618726914665
           ],
           "y": [
            1,
            1,
            1,
            1,
            1,
            1,
            1,
            1,
            1,
            1
           ]
          },
          {
           "mode": "markers",
           "name": "Uncontrolled",
           "opacity": 0.8,
           "type": "scatter",
           "x": [
            -0.828014997152615,
            -0.8718855276683506,
            -0.8577897695668899,
            -0.6559429532118574,
            0.5835740152410341,
            0.5024565021551457,
            0.4873951890506689,
            0.5751825322072663,
            0.462357135971466,
            0.5857918560456222
           ],
           "y": [
            1,
            1,
            1,
            1,
            1,
            1,
            1,
            1,
            1,
            1
           ]
          }
         ]
        },
        {
         "data": [
          {
           "marker": {
            "color": "SkyBlue",
            "size": 15
           },
           "mode": "markers",
           "name": "Controlled",
           "type": "scatter",
           "x": [
            -0.6153708825133631,
            -0.36945935097261884,
            -0.4535253154692956,
            -0.4109221998038106,
            -0.008592858768977,
            0.03084612627063059,
            -0.011027466951469625,
            0.019135342820212606,
            0.07150857643702803,
            0.043860523470935046
           ],
           "y": [
            1,
            1,
            1,
            1,
            1,
            1,
            1,
            1,
            1,
            1
           ]
          },
          {
           "mode": "markers",
           "name": "Uncontrolled",
           "opacity": 0.8,
           "type": "scatter",
           "x": [
            -0.8235618002889249,
            -0.881807210123877,
            -0.8623505296180622,
            -0.664367532714864,
            0.5723329017202758,
            0.5086107517260012,
            0.4860476700056055,
            0.5847893521169485,
            0.46355566836590434,
            0.5934874841416179
           ],
           "y": [
            1,
            1,
            1,
            1,
            1,
            1,
            1,
            1,
            1,
            1
           ]
          }
         ]
        },
        {
         "data": [
          {
           "marker": {
            "color": "SkyBlue",
            "size": 15
           },
           "mode": "markers",
           "name": "Controlled",
           "type": "scatter",
           "x": [
            -0.610015987267652,
            -0.3437037939025101,
            -0.4529583921244645,
            -0.39470145616799746,
            -0.016273051339660616,
            0.009453390320235417,
            -0.012004077366556967,
            0.014325825435718885,
            0.0789374849650963,
            0.037884154887932724
           ],
           "y": [
            1,
            1,
            1,
            1,
            1,
            1,
            1,
            1,
            1,
            1
           ]
          },
          {
           "mode": "markers",
           "name": "Uncontrolled",
           "opacity": 0.8,
           "type": "scatter",
           "x": [
            -0.822392708303856,
            -0.8632067130726275,
            -0.868964034423682,
            -0.652039028821713,
            0.5704282163244843,
            0.4931548287461888,
            0.4905473873869864,
            0.587191156329758,
            0.4738701886086434,
            0.5919086477306685
           ],
           "y": [
            1,
            1,
            1,
            1,
            1,
            1,
            1,
            1,
            1,
            1
           ]
          }
         ]
        },
        {
         "data": [
          {
           "marker": {
            "color": "SkyBlue",
            "size": 15
           },
           "mode": "markers",
           "name": "Controlled",
           "type": "scatter",
           "x": [
            -0.6112741437355286,
            -0.34654051654158086,
            -0.4478948660693785,
            -0.39082008772219856,
            -0.03006569932371959,
            0.008034869154103303,
            -0.007990768289188937,
            0.00836645135392175,
            0.08195276094126883,
            0.050870650136092516
           ],
           "y": [
            1,
            1,
            1,
            1,
            1,
            1,
            1,
            1,
            1,
            1
           ]
          },
          {
           "mode": "markers",
           "name": "Uncontrolled",
           "opacity": 0.8,
           "type": "scatter",
           "x": [
            -0.8278307172474815,
            -0.8726155301614611,
            -0.8712259657577888,
            -0.6519895648337719,
            0.5623585857792561,
            0.4971540034494793,
            0.4999514968069464,
            0.5882287484441774,
            0.4799044750997984,
            0.609202245182231
           ],
           "y": [
            1,
            1,
            1,
            1,
            1,
            1,
            1,
            1,
            1,
            1
           ]
          }
         ]
        },
        {
         "data": [
          {
           "marker": {
            "color": "SkyBlue",
            "size": 15
           },
           "mode": "markers",
           "name": "Controlled",
           "type": "scatter",
           "x": [
            -0.6085265025065422,
            -0.3376682790405463,
            -0.4322494691743014,
            -0.39537714789581885,
            -0.035757888932904956,
            -0.016546279884469835,
            -0.027419379287720414,
            0.007182348097255081,
            0.06994129431942596,
            0.0487334242560651
           ],
           "y": [
            1,
            1,
            1,
            1,
            1,
            1,
            1,
            1,
            1,
            1
           ]
          },
          {
           "mode": "markers",
           "name": "Uncontrolled",
           "opacity": 0.8,
           "type": "scatter",
           "x": [
            -0.8293395200435175,
            -0.8704771656550758,
            -0.8627750395223134,
            -0.660284050052331,
            0.56213674454368,
            0.4779708638434403,
            0.48606061396603295,
            0.5939471134329706,
            0.4710029414400987,
            0.6117402224423754
           ],
           "y": [
            1,
            1,
            1,
            1,
            1,
            1,
            1,
            1,
            1,
            1
           ]
          }
         ]
        },
        {
         "data": [
          {
           "marker": {
            "color": "SkyBlue",
            "size": 15
           },
           "mode": "markers",
           "name": "Controlled",
           "type": "scatter",
           "x": [
            -0.6231397700641993,
            -0.3445866856598264,
            -0.40448790258931616,
            -0.39058188127762894,
            -0.047566205427063156,
            -0.017883520301400734,
            -0.034927089783706705,
            -0.01166430579502385,
            0.05367428078993733,
            0.04488340772691647
           ],
           "y": [
            1,
            1,
            1,
            1,
            1,
            1,
            1,
            1,
            1,
            1
           ]
          },
          {
           "mode": "markers",
           "name": "Uncontrolled",
           "opacity": 0.8,
           "type": "scatter",
           "x": [
            -0.8482223466573893,
            -0.8839019470429957,
            -0.8419063004487016,
            -0.6594969645421679,
            0.5557656072225965,
            0.48128923272514107,
            0.4836963804100635,
            0.581967470367782,
            0.4576208662356058,
            0.6125027080110793
           ],
           "y": [
            1,
            1,
            1,
            1,
            1,
            1,
            1,
            1,
            1,
            1
           ]
          }
         ]
        },
        {
         "data": [
          {
           "marker": {
            "color": "SkyBlue",
            "size": 15
           },
           "mode": "markers",
           "name": "Controlled",
           "type": "scatter",
           "x": [
            -0.6176385913706578,
            -0.3580203008087542,
            -0.41642286728629574,
            -0.37890273746622105,
            -0.04317142370158393,
            -0.025413188540219768,
            -0.04101638863531403,
            -0.01071381232337221,
            0.04366352315638999,
            0.036365942651803124
           ],
           "y": [
            1,
            1,
            1,
            1,
            1,
            1,
            1,
            1,
            1,
            1
           ]
          },
          {
           "mode": "markers",
           "name": "Uncontrolled",
           "opacity": 0.8,
           "type": "scatter",
           "x": [
            -0.8473429076776235,
            -0.9039954335746165,
            -0.8599006736841243,
            -0.6516485821619097,
            0.5653374409651447,
            0.4784782233945481,
            0.48264763639058567,
            0.5894901176983317,
            0.45011839541501825,
            0.6085221322731088
           ],
           "y": [
            1,
            1,
            1,
            1,
            1,
            1,
            1,
            1,
            1,
            1
           ]
          }
         ]
        },
        {
         "data": [
          {
           "marker": {
            "color": "SkyBlue",
            "size": 15
           },
           "mode": "markers",
           "name": "Controlled",
           "type": "scatter",
           "x": [
            -0.6079009657770275,
            -0.34635806574756983,
            -0.41052590998366,
            -0.37916921929977015,
            -0.0397998736014198,
            -0.02541790032194261,
            -0.045771645527719555,
            -0.0044084511010629174,
            0.04465385785359025,
            0.03154729081250372
           ],
           "y": [
            1,
            1,
            1,
            1,
            1,
            1,
            1,
            1,
            1,
            1
           ]
          },
          {
           "mode": "markers",
           "name": "Uncontrolled",
           "opacity": 0.8,
           "type": "scatter",
           "x": [
            -0.8421469435965808,
            -0.8994197439967773,
            -0.8604202111717391,
            -0.6555565942563434,
            0.573966692809832,
            0.48300996351354547,
            0.4828147352788536,
            0.6025223302420205,
            0.45344728606806894,
            0.6079994708924498
           ],
           "y": [
            1,
            1,
            1,
            1,
            1,
            1,
            1,
            1,
            1,
            1
           ]
          }
         ]
        },
        {
         "data": [
          {
           "marker": {
            "color": "SkyBlue",
            "size": 15
           },
           "mode": "markers",
           "name": "Controlled",
           "type": "scatter",
           "x": [
            -0.6049410897549399,
            -0.3481220153592226,
            -0.41081430473877606,
            -0.3666231184978677,
            -0.05156276686117287,
            -0.04271758383416555,
            -0.04654185298290932,
            -0.0026280059439836327,
            0.05296168370055949,
            0.041292067980375935
           ],
           "y": [
            1,
            1,
            1,
            1,
            1,
            1,
            1,
            1,
            1,
            1
           ]
          },
          {
           "mode": "markers",
           "name": "Uncontrolled",
           "opacity": 0.8,
           "type": "scatter",
           "x": [
            -0.843599248698343,
            -0.908014530109705,
            -0.8671459174849508,
            -0.6467782554122233,
            0.567539865220684,
            0.47024087758806576,
            0.4868312140683413,
            0.6110875983791844,
            0.46406273682606247,
            0.6218993511261044
           ],
           "y": [
            1,
            1,
            1,
            1,
            1,
            1,
            1,
            1,
            1,
            1
           ]
          }
         ]
        },
        {
         "data": [
          {
           "marker": {
            "color": "SkyBlue",
            "size": 15
           },
           "mode": "markers",
           "name": "Controlled",
           "type": "scatter",
           "x": [
            -0.6035539454496217,
            -0.33699681163050405,
            -0.41569605899862777,
            -0.36624597951095317,
            -0.047874184197719896,
            -0.048243665214786256,
            -0.06444972385969268,
            -0.026223776091160722,
            0.051024652378567945,
            0.053955556862255775
           ],
           "y": [
            1,
            1,
            1,
            1,
            1,
            1,
            1,
            1,
            1,
            1
           ]
          },
          {
           "mode": "markers",
           "name": "Uncontrolled",
           "opacity": 0.8,
           "type": "scatter",
           "x": [
            -0.8466312139832559,
            -0.9039164559229402,
            -0.8785373675589435,
            -0.6499425164822783,
            0.5763616138407665,
            0.46872155410400573,
            0.47366469065191535,
            0.5943533372536939,
            0.46464571071314964,
            0.639085536348747
           ],
           "y": [
            1,
            1,
            1,
            1,
            1,
            1,
            1,
            1,
            1,
            1
           ]
          }
         ]
        },
        {
         "data": [
          {
           "marker": {
            "color": "SkyBlue",
            "size": 15
           },
           "mode": "markers",
           "name": "Controlled",
           "type": "scatter",
           "x": [
            -0.6079862117390201,
            -0.3309754595029782,
            -0.41612005915152944,
            -0.35762330097116507,
            -0.03682161172486041,
            -0.07882606494746362,
            -0.06574660452850759,
            -0.014636382232220742,
            0.04495420112038352,
            0.048164833973164387
           ],
           "y": [
            1,
            1,
            1,
            1,
            1,
            1,
            1,
            1,
            1,
            1
           ]
          },
          {
           "mode": "markers",
           "name": "Uncontrolled",
           "opacity": 0.8,
           "type": "scatter",
           "x": [
            -0.8555540313099576,
            -0.9044789969615943,
            -0.8856117646384629,
            -0.6449821253054737,
            0.592609223096985,
            0.44190620316708873,
            0.4766743514185868,
            0.6123681578539507,
            0.4611977157169101,
            0.6380671541936351
           ],
           "y": [
            1,
            1,
            1,
            1,
            1,
            1,
            1,
            1,
            1,
            1
           ]
          }
         ]
        },
        {
         "data": [
          {
           "marker": {
            "color": "SkyBlue",
            "size": 15
           },
           "mode": "markers",
           "name": "Controlled",
           "type": "scatter",
           "x": [
            -0.6087875162308406,
            -0.32640195678750067,
            -0.39926627355225003,
            -0.3608963279729315,
            -0.030897932343289383,
            -0.09336806089803196,
            -0.06339194002981847,
            -0.016152183249426307,
            0.04419419767537414,
            0.050003025909381785
           ],
           "y": [
            1,
            1,
            1,
            1,
            1,
            1,
            1,
            1,
            1,
            1
           ]
          },
          {
           "mode": "markers",
           "name": "Uncontrolled",
           "opacity": 0.8,
           "type": "scatter",
           "x": [
            -0.8609281570812647,
            -0.9064005674493363,
            -0.8755253528447442,
            -0.6519600873820597,
            0.603958608376702,
            0.4302137586223571,
            0.48325032731237455,
            0.6175115072710666,
            0.46288632119056483,
            0.6446382158267299
           ],
           "y": [
            1,
            1,
            1,
            1,
            1,
            1,
            1,
            1,
            1,
            1
           ]
          }
         ]
        },
        {
         "data": [
          {
           "marker": {
            "color": "SkyBlue",
            "size": 15
           },
           "mode": "markers",
           "name": "Controlled",
           "type": "scatter",
           "x": [
            -0.5972099236710128,
            -0.33754805753420125,
            -0.37045148557452856,
            -0.3461553381839297,
            -0.030647132173764993,
            -0.09674825729865066,
            -0.07270074307842232,
            -0.017275707909227354,
            0.03151231786894685,
            0.05657201671170524
           ],
           "y": [
            1,
            1,
            1,
            1,
            1,
            1,
            1,
            1,
            1,
            1
           ]
          },
          {
           "mode": "markers",
           "name": "Uncontrolled",
           "opacity": 0.8,
           "type": "scatter",
           "x": [
            -0.8539434126460792,
            -0.9239368306663351,
            -0.853002524113397,
            -0.6411179969631963,
            0.6097707324244858,
            0.4292212633101545,
            0.4782455832005474,
            0.6229699829910322,
            0.4525961060059534,
            0.655980139652106
           ],
           "y": [
            1,
            1,
            1,
            1,
            1,
            1,
            1,
            1,
            1,
            1
           ]
          }
         ]
        },
        {
         "data": [
          {
           "marker": {
            "color": "SkyBlue",
            "size": 15
           },
           "mode": "markers",
           "name": "Controlled",
           "type": "scatter",
           "x": [
            -0.5811719168482748,
            -0.3283366825947988,
            -0.3704798499311631,
            -0.3444167404688533,
            -0.05902075761569876,
            -0.08926364891446427,
            -0.0856943421925505,
            -0.019656276653397295,
            0.049153658667906074,
            0.06563610330936033
           ],
           "y": [
            1,
            1,
            1,
            1,
            1,
            1,
            1,
            1,
            1,
            1
           ]
          },
          {
           "mode": "markers",
           "name": "Uncontrolled",
           "opacity": 0.8,
           "type": "scatter",
           "x": [
            -0.8423916734421565,
            -0.9215653731576608,
            -0.8585887660950411,
            -0.6429918619188889,
            0.5869064208202198,
            0.4390285799996256,
            0.46946021570173485,
            0.6272461732004976,
            0.47234712953053054,
            0.6699311485984268
           ],
           "y": [
            1,
            1,
            1,
            1,
            1,
            1,
            1,
            1,
            1,
            1
           ]
          }
         ]
        },
        {
         "data": [
          {
           "marker": {
            "color": "SkyBlue",
            "size": 15
           },
           "mode": "markers",
           "name": "Controlled",
           "type": "scatter",
           "x": [
            -0.5923518436925497,
            -0.32054228279159136,
            -0.36906059392244484,
            -0.3290843873493827,
            -0.0634257819535306,
            -0.08292722921484359,
            -0.10263133359065081,
            -0.02075178957446882,
            0.06006164603780342,
            0.057143830912588796
           ],
           "y": [
            1,
            1,
            1,
            1,
            1,
            1,
            1,
            1,
            1,
            1
           ]
          },
          {
           "mode": "markers",
           "name": "Uncontrolled",
           "opacity": 0.8,
           "type": "scatter",
           "x": [
            -0.857867801039518,
            -0.9204293710066869,
            -0.8627824696122116,
            -0.631165614315144,
            0.5874985323282288,
            0.4478795150519156,
            0.45635619900382635,
            0.6327426159572147,
            0.48580660046268354,
            0.6665880139515168
           ],
           "y": [
            1,
            1,
            1,
            1,
            1,
            1,
            1,
            1,
            1,
            1
           ]
          }
         ]
        },
        {
         "data": [
          {
           "marker": {
            "color": "SkyBlue",
            "size": 15
           },
           "mode": "markers",
           "name": "Controlled",
           "type": "scatter",
           "x": [
            -0.5838840232677898,
            -0.3149616172962584,
            -0.35653981061811607,
            -0.3372721747171063,
            -0.06731458114710902,
            -0.10024214133825853,
            -0.1233609360001759,
            -0.027091543189415503,
            0.05346268972004751,
            0.046577321607850046
           ],
           "y": [
            1,
            1,
            1,
            1,
            1,
            1,
            1,
            1,
            1,
            1
           ]
          },
          {
           "mode": "markers",
           "name": "Uncontrolled",
           "opacity": 0.8,
           "type": "scatter",
           "x": [
            -0.8540324179804616,
            -0.9213643676980775,
            -0.855935859982548,
            -0.6425959346285165,
            0.5885090674685909,
            0.43336163476245615,
            0.4389012593885888,
            0.6329611802744106,
            0.482049473832582,
            0.6609688738551949
           ],
           "y": [
            1,
            1,
            1,
            1,
            1,
            1,
            1,
            1,
            1,
            1
           ]
          }
         ]
        },
        {
         "data": [
          {
           "marker": {
            "color": "SkyBlue",
            "size": 15
           },
           "mode": "markers",
           "name": "Controlled",
           "type": "scatter",
           "x": [
            -0.591722112247679,
            -0.3055364903358492,
            -0.3481977416470386,
            -0.34110185597232423,
            -0.07358398645574085,
            -0.10359355626299196,
            -0.12246225231571839,
            -0.045894212545876,
            0.05524261098907676,
            0.03668545580866096
           ],
           "y": [
            1,
            1,
            1,
            1,
            1,
            1,
            1,
            1,
            1,
            1
           ]
          },
          {
           "mode": "markers",
           "name": "Uncontrolled",
           "opacity": 0.8,
           "type": "scatter",
           "x": [
            -0.8664049288006485,
            -0.9181954206632145,
            -0.8530145773039248,
            -0.6500270499627114,
            0.5870798335342816,
            0.43227990694708307,
            0.44246940791161293,
            0.6205907928952952,
            0.486493542045603,
            0.6557523049936862
           ],
           "y": [
            1,
            1,
            1,
            1,
            1,
            1,
            1,
            1,
            1,
            1
           ]
          }
         ]
        },
        {
         "data": [
          {
           "marker": {
            "color": "SkyBlue",
            "size": 15
           },
           "mode": "markers",
           "name": "Controlled",
           "type": "scatter",
           "x": [
            -0.5909666556953042,
            -0.3081892558474718,
            -0.35473541630870736,
            -0.3310383379284069,
            -0.06808795582612082,
            -0.09350489434061485,
            -0.1331139451363811,
            -0.046105973191064104,
            0.0420310776237675,
            0.04203158743293243
           ],
           "y": [
            1,
            1,
            1,
            1,
            1,
            1,
            1,
            1,
            1,
            1
           ]
          },
          {
           "mode": "markers",
           "name": "Uncontrolled",
           "opacity": 0.8,
           "type": "scatter",
           "x": [
            -0.8703590162600257,
            -0.9267533200277653,
            -0.8647496319759903,
            -0.6437734967356583,
            0.5973362323024455,
            0.4446072802743127,
            0.4344757124516586,
            0.6263649134042285,
            0.4759544247031248,
            0.6655477108408515
           ],
           "y": [
            1,
            1,
            1,
            1,
            1,
            1,
            1,
            1,
            1,
            1
           ]
          }
         ]
        },
        {
         "data": [
          {
           "marker": {
            "color": "SkyBlue",
            "size": 15
           },
           "mode": "markers",
           "name": "Controlled",
           "type": "scatter",
           "x": [
            -0.5827481679289005,
            -0.2886455264855402,
            -0.3478222136648024,
            -0.33483712270370763,
            -0.048278576555638525,
            -0.08267119314363101,
            -0.12383853743132237,
            -0.05697218252717553,
            0.035565943440888585,
            0.03139006872183306
           ],
           "y": [
            1,
            1,
            1,
            1,
            1,
            1,
            1,
            1,
            1,
            1
           ]
          },
          {
           "mode": "markers",
           "name": "Uncontrolled",
           "opacity": 0.8,
           "type": "scatter",
           "x": [
            -0.8669308671461277,
            -0.9132083905865092,
            -0.8632440281265062,
            -0.6511328883701915,
            0.6219440503466769,
            0.4579778912104298,
            0.44610244011706074,
            0.6215847225679919,
            0.47190756623462843,
            0.6593725570171596
           ],
           "y": [
            1,
            1,
            1,
            1,
            1,
            1,
            1,
            1,
            1,
            1
           ]
          }
         ]
        },
        {
         "data": [
          {
           "marker": {
            "color": "SkyBlue",
            "size": 15
           },
           "mode": "markers",
           "name": "Controlled",
           "type": "scatter",
           "x": [
            -0.586217232124874,
            -0.2924398048756849,
            -0.3530240974983146,
            -0.31186246576601934,
            -0.05401986549830562,
            -0.09312489712595722,
            -0.13134436880570508,
            -0.07279123671629913,
            0.02058477893690408,
            0.02154242921583978
           ],
           "y": [
            1,
            1,
            1,
            1,
            1,
            1,
            1,
            1,
            1,
            1
           ]
          },
          {
           "mode": "markers",
           "name": "Uncontrolled",
           "opacity": 0.8,
           "type": "scatter",
           "x": [
            -0.87502841696355,
            -0.9224217522862451,
            -0.8736870027196615,
            -0.6319774928247427,
            0.6214107932704727,
            0.45039398757514026,
            0.4413165537658063,
            0.6114963102981593,
            0.4591637536934419,
            0.6536540893104346
           ],
           "y": [
            1,
            1,
            1,
            1,
            1,
            1,
            1,
            1,
            1,
            1
           ]
          }
         ]
        },
        {
         "data": [
          {
           "marker": {
            "color": "SkyBlue",
            "size": 15
           },
           "mode": "markers",
           "name": "Controlled",
           "type": "scatter",
           "x": [
            -0.5800758879389853,
            -0.29183399328833,
            -0.3575531341743648,
            -0.3035096993047006,
            -0.057182728840217335,
            -0.10213213725219802,
            -0.13210931049624408,
            -0.08200575444412786,
            0.01426615592279656,
            0.013574407586052006
           ],
           "y": [
            1,
            1,
            1,
            1,
            1,
            1,
            1,
            1,
            1,
            1
           ]
          },
          {
           "mode": "markers",
           "name": "Uncontrolled",
           "opacity": 0.8,
           "type": "scatter",
           "x": [
            -0.8737060215097912,
            -0.9273586940793931,
            -0.8836488189884317,
            -0.627005744713976,
            0.6233241975254206,
            0.44403169929924124,
            0.4429808751266327,
            0.6077254767271095,
            0.4548068454410973,
            0.6495422323567488
           ],
           "y": [
            1,
            1,
            1,
            1,
            1,
            1,
            1,
            1,
            1,
            1
           ]
          }
         ]
        },
        {
         "data": [
          {
           "marker": {
            "color": "SkyBlue",
            "size": 15
           },
           "mode": "markers",
           "name": "Controlled",
           "type": "scatter",
           "x": [
            -0.5740867137688649,
            -0.2883089386437229,
            -0.3554271661133417,
            -0.3259481370268511,
            -0.04699966352681336,
            -0.10655946505924872,
            -0.13913392548175688,
            -0.08094699491830468,
            0.012116805840239001,
            -0.001980792742820252
           ],
           "y": [
            1,
            1,
            1,
            1,
            1,
            1,
            1,
            1,
            1,
            1
           ]
          },
          {
           "mode": "markers",
           "name": "Uncontrolled",
           "opacity": 0.8,
           "type": "scatter",
           "x": [
            -0.8724714911038441,
            -0.9293720221434573,
            -0.8871267760315188,
            -0.6527334388128228,
            0.6385540447985646,
            0.4420573808887004,
            0.4383565176345599,
            0.6140478108785427,
            0.4544984840757115,
            0.6376360874703669
           ],
           "y": [
            1,
            1,
            1,
            1,
            1,
            1,
            1,
            1,
            1,
            1
           ]
          }
         ]
        },
        {
         "data": [
          {
           "marker": {
            "color": "SkyBlue",
            "size": 15
           },
           "mode": "markers",
           "name": "Controlled",
           "type": "scatter",
           "x": [
            -0.5809892517888233,
            -0.2827723997819382,
            -0.3500986669109549,
            -0.3195622243901792,
            -0.062871954603294,
            -0.09278013716896673,
            -0.13407418569893373,
            -0.07810174581823862,
            0.0088741597905106,
            -0.01234692486289557
           ],
           "y": [
            1,
            1,
            1,
            1,
            1,
            1,
            1,
            1,
            1,
            1
           ]
          },
          {
           "mode": "markers",
           "name": "Uncontrolled",
           "opacity": 0.8,
           "type": "scatter",
           "x": [
            -0.8839817607645317,
            -0.9291300564719561,
            -0.8874138801861469,
            -0.6502188779885132,
            0.6278754197731955,
            0.45810107943679385,
            0.4456250930536325,
            0.6221425594756921,
            0.4529936494817055,
            0.6306595947460502
           ],
           "y": [
            1,
            1,
            1,
            1,
            1,
            1,
            1,
            1,
            1,
            1
           ]
          }
         ]
        },
        {
         "data": [
          {
           "marker": {
            "color": "SkyBlue",
            "size": 15
           },
           "mode": "markers",
           "name": "Controlled",
           "type": "scatter",
           "x": [
            -0.5877550056761498,
            -0.28356377007249667,
            -0.34094029663899145,
            -0.3218806875421281,
            -0.054031672564952095,
            -0.09409198033055269,
            -0.15529274370498475,
            -0.06300391607842293,
            0.011622866956736675,
            -0.000371396840498691
           ],
           "y": [
            1,
            1,
            1,
            1,
            1,
            1,
            1,
            1,
            1,
            1
           ]
          },
          {
           "mode": "markers",
           "name": "Uncontrolled",
           "opacity": 0.8,
           "type": "scatter",
           "x": [
            -0.8955421126181387,
            -0.9351466609925927,
            -0.883756286575964,
            -0.656253888270299,
            0.6416595535296243,
            0.4595765396520177,
            0.4266905935991907,
            0.6425180268555089,
            0.45728236967061625,
            0.6457438585378925
           ],
           "y": [
            1,
            1,
            1,
            1,
            1,
            1,
            1,
            1,
            1,
            1
           ]
          }
         ]
        },
        {
         "data": [
          {
           "marker": {
            "color": "SkyBlue",
            "size": 15
           },
           "mode": "markers",
           "name": "Controlled",
           "type": "scatter",
           "x": [
            -0.5888811112987526,
            -0.2955694454650236,
            -0.3365581565682425,
            -0.32337876875141236,
            -0.05547647707377137,
            -0.08811524911799248,
            -0.17882101176792373,
            -0.06585778933701106,
            0.018254133959872708,
            0.0033127397221250415
           ],
           "y": [
            1,
            1,
            1,
            1,
            1,
            1,
            1,
            1,
            1,
            1
           ]
          },
          {
           "mode": "markers",
           "name": "Uncontrolled",
           "opacity": 0.8,
           "type": "scatter",
           "x": [
            -0.9016411008687693,
            -0.9524189942492175,
            -0.884668614357933,
            -0.6614777783118229,
            0.6451934795996738,
            0.4681756330697264,
            0.40482784926813165,
            0.6452736823227626,
            0.46554303173332773,
            0.6527511472995119
           ],
           "y": [
            1,
            1,
            1,
            1,
            1,
            1,
            1,
            1,
            1,
            1
           ]
          }
         ]
        },
        {
         "data": [
          {
           "marker": {
            "color": "SkyBlue",
            "size": 15
           },
           "mode": "markers",
           "name": "Controlled",
           "type": "scatter",
           "x": [
            -0.596348086483513,
            -0.3043709837449355,
            -0.32671623317149695,
            -0.32550498531419064,
            -0.06372359791008063,
            -0.09912272356927566,
            -0.17710362076285777,
            -0.06843289192237473,
            0.021427107559205374,
            -0.004748585733472975
           ],
           "y": [
            1,
            1,
            1,
            1,
            1,
            1,
            1,
            1,
            1,
            1
           ]
          },
          {
           "mode": "markers",
           "name": "Uncontrolled",
           "opacity": 0.8,
           "type": "scatter",
           "x": [
            -0.9142172581579063,
            -0.9667936827786929,
            -0.8800468649982414,
            -0.6672732546255983,
            0.6418696239099264,
            0.4600667703602868,
            0.40759082310435324,
            0.6481831694580444,
            0.4706340927515965,
            0.6480410632017339
           ],
           "y": [
            1,
            1,
            1,
            1,
            1,
            1,
            1,
            1,
            1,
            1
           ]
          }
         ]
        },
        {
         "data": [
          {
           "marker": {
            "color": "SkyBlue",
            "size": 15
           },
           "mode": "markers",
           "name": "Controlled",
           "type": "scatter",
           "x": [
            -0.5859136287455989,
            -0.3027015100290678,
            -0.32125952678988584,
            -0.3148538140871285,
            -0.07195093842769835,
            -0.10140250671274424,
            -0.1848415063507634,
            -0.0732227281222847,
            0.011631502224470208,
            0.010509858015171396
           ],
           "y": [
            1,
            1,
            1,
            1,
            1,
            1,
            1,
            1,
            1,
            1
           ]
          },
          {
           "mode": "markers",
           "name": "Uncontrolled",
           "opacity": 0.8,
           "type": "scatter",
           "x": [
            -0.9090313864526931,
            -0.9709593734115679,
            -0.8795547476292329,
            -0.6603442566421044,
            0.6384386410424155,
            0.46041750015151933,
            0.4009240091807078,
            0.6488394080734801,
            0.46281145772714943,
            0.6665505099844168
           ],
           "y": [
            1,
            1,
            1,
            1,
            1,
            1,
            1,
            1,
            1,
            1
           ]
          }
         ]
        },
        {
         "data": [
          {
           "marker": {
            "color": "SkyBlue",
            "size": 15
           },
           "mode": "markers",
           "name": "Controlled",
           "type": "scatter",
           "x": [
            -0.5821471250467216,
            -0.3056220842030836,
            -0.3234486900377562,
            -0.3240607061504956,
            -0.0720553636775963,
            -0.12110694836360375,
            -0.18534887727168733,
            -0.08762683705448296,
            0.003252202313508477,
            0.008779195887768258
           ],
           "y": [
            1,
            1,
            1,
            1,
            1,
            1,
            1,
            1,
            1,
            1
           ]
          },
          {
           "mode": "markers",
           "name": "Uncontrolled",
           "opacity": 0.8,
           "type": "scatter",
           "x": [
            -0.9104231060253786,
            -0.9797150810523129,
            -0.8865605487226745,
            -0.6730962223904913,
            0.6429349246900046,
            0.4432473324636937,
            0.401364631031464,
            0.6398702447558189,
            0.4562124751732289,
            0.6682670089387931
           ],
           "y": [
            1,
            1,
            1,
            1,
            1,
            1,
            1,
            1,
            1,
            1
           ]
          }
         ]
        },
        {
         "data": [
          {
           "marker": {
            "color": "SkyBlue",
            "size": 15
           },
           "mode": "markers",
           "name": "Controlled",
           "type": "scatter",
           "x": [
            -0.5661252834525469,
            -0.30215426513535903,
            -0.30615026110205174,
            -0.31839482422441545,
            -0.07507818679651279,
            -0.10536692675334285,
            -0.1830998908016708,
            -0.09571270492700364,
            -0.014415785512003959,
            0.0004081484801613305
           ],
           "y": [
            1,
            1,
            1,
            1,
            1,
            1,
            1,
            1,
            1,
            1
           ]
          },
          {
           "mode": "markers",
           "name": "Uncontrolled",
           "opacity": 0.8,
           "type": "scatter",
           "x": [
            -0.8994822527021806,
            -0.982037455816761,
            -0.8741271192495299,
            -0.6713201865103084,
            0.6445130502424276,
            0.4608057720986148,
            0.4045634854146301,
            0.6368787491313815,
            0.4401552467245285,
            0.6633572542315306
           ],
           "y": [
            1,
            1,
            1,
            1,
            1,
            1,
            1,
            1,
            1,
            1
           ]
          }
         ]
        },
        {
         "data": [
          {
           "marker": {
            "color": "SkyBlue",
            "size": 15
           },
           "mode": "markers",
           "name": "Controlled",
           "type": "scatter",
           "x": [
            -0.553802062565792,
            -0.31250622656986593,
            -0.3099900282911281,
            -0.327825467705589,
            -0.07895789255995099,
            -0.12109438986407445,
            -0.1674959786480403,
            -0.10436991986436574,
            -0.008782814166572173,
            0.0028885783365206006
           ],
           "y": [
            1,
            1,
            1,
            1,
            1,
            1,
            1,
            1,
            1,
            1
           ]
          },
          {
           "mode": "markers",
           "name": "Uncontrolled",
           "opacity": 0.8,
           "type": "scatter",
           "x": [
            -0.8920054202762573,
            -0.9981435074774537,
            -0.8823608321788404,
            -0.684598951142259,
            0.6450590640030044,
            0.4474436204886302,
            0.42130346573430216,
            0.633125125314664,
            0.44694015359187084,
            0.669036387369688
           ],
           "y": [
            1,
            1,
            1,
            1,
            1,
            1,
            1,
            1,
            1,
            1
           ]
          }
         ]
        },
        {
         "data": [
          {
           "marker": {
            "color": "SkyBlue",
            "size": 15
           },
           "mode": "markers",
           "name": "Controlled",
           "type": "scatter",
           "x": [
            -0.5514714420625823,
            -0.31725432195724296,
            -0.30468565073144865,
            -0.33106454106031513,
            -0.09333834519966,
            -0.12620949696012246,
            -0.14264988404020912,
            -0.11528437059743442,
            -0.02561063628879061,
            -0.008941547173099895
           ],
           "y": [
            1,
            1,
            1,
            1,
            1,
            1,
            1,
            1,
            1,
            1
           ]
          },
          {
           "mode": "markers",
           "name": "Uncontrolled",
           "opacity": 0.8,
           "type": "scatter",
           "x": [
            -0.8942199175747091,
            -1.0089519215545095,
            -0.8814761360074982,
            -0.6919039096725538,
            0.6351480517619297,
            0.44409303171616876,
            0.4477510279368416,
            0.6269293311805749,
            0.4314107043725577,
            0.660601083538843
           ],
           "y": [
            1,
            1,
            1,
            1,
            1,
            1,
            1,
            1,
            1,
            1
           ]
          }
         ]
        },
        {
         "data": [
          {
           "marker": {
            "color": "SkyBlue",
            "size": 15
           },
           "mode": "markers",
           "name": "Controlled",
           "type": "scatter",
           "x": [
            -0.5462192345624639,
            -0.3128785108651703,
            -0.30827178588093124,
            -0.33336561056923536,
            -0.07913286647868832,
            -0.13645721846755943,
            -0.12400439371329856,
            -0.12241520363273355,
            -0.026817239624725632,
            -0.01771927161770023
           ],
           "y": [
            1,
            1,
            1,
            1,
            1,
            1,
            1,
            1,
            1,
            1
           ]
          },
          {
           "mode": "markers",
           "name": "Uncontrolled",
           "opacity": 0.8,
           "type": "scatter",
           "x": [
            -0.8934186283307731,
            -1.010782974418665,
            -0.8892595145712467,
            -0.6984351974093299,
            0.6535304427255414,
            0.4355356829104453,
            0.4686957061673565,
            0.6243220125978999,
            0.4309652599371552,
            0.655024792127199
           ],
           "y": [
            1,
            1,
            1,
            1,
            1,
            1,
            1,
            1,
            1,
            1
           ]
          }
         ]
        },
        {
         "data": [
          {
           "marker": {
            "color": "SkyBlue",
            "size": 15
           },
           "mode": "markers",
           "name": "Controlled",
           "type": "scatter",
           "x": [
            -0.5511358114439892,
            -0.3268258649662282,
            -0.32510717099148717,
            -0.34455477326444567,
            -0.0864759073969364,
            -0.14488838485399144,
            -0.12608029182408725,
            -0.12364717125010082,
            -0.02210098887931297,
            -0.020000290118075078
           ],
           "y": [
            1,
            1,
            1,
            1,
            1,
            1,
            1,
            1,
            1,
            1
           ]
          },
          {
           "mode": "markers",
           "name": "Uncontrolled",
           "opacity": 0.8,
           "type": "scatter",
           "x": [
            -0.9026167170347501,
            -1.0308153076042994,
            -0.9104388539835846,
            -0.7139462280509529,
            0.6506320157972278,
            0.42843006475513384,
            0.46949015958450246,
            0.6273766354854555,
            0.43638800049463095,
            0.6558464299189731
           ],
           "y": [
            1,
            1,
            1,
            1,
            1,
            1,
            1,
            1,
            1,
            1
           ]
          }
         ]
        },
        {
         "data": [
          {
           "marker": {
            "color": "SkyBlue",
            "size": 15
           },
           "mode": "markers",
           "name": "Controlled",
           "type": "scatter",
           "x": [
            -0.5426020879423683,
            -0.3371456305749788,
            -0.3337578800770783,
            -0.34841500004105247,
            -0.10158086667322182,
            -0.14082190060192812,
            -0.13058034741859423,
            -0.12288955616775935,
            -0.023461469691384407,
            -0.004146577213064134
           ],
           "y": [
            1,
            1,
            1,
            1,
            1,
            1,
            1,
            1,
            1,
            1
           ]
          },
          {
           "mode": "markers",
           "name": "Uncontrolled",
           "opacity": 0.8,
           "type": "scatter",
           "x": [
            -0.8984408552284836,
            -1.0475399819271765,
            -0.9239095054697077,
            -0.7223155221689123,
            0.6398689483853693,
            0.43354351425797505,
            0.46782699830298186,
            0.6325807318889305,
            0.43586912327835103,
            0.6747606111326604
           ],
           "y": [
            1,
            1,
            1,
            1,
            1,
            1,
            1,
            1,
            1,
            1
           ]
          }
         ]
        },
        {
         "data": [
          {
           "marker": {
            "color": "SkyBlue",
            "size": 15
           },
           "mode": "markers",
           "name": "Controlled",
           "type": "scatter",
           "x": [
            -0.5610668146063171,
            -0.33973361981786043,
            -0.314227295181964,
            -0.3368617032515917,
            -0.0964729138102905,
            -0.13182462000135578,
            -0.1360217068158304,
            -0.12164659225230895,
            -0.023710835507742223,
            0.003128969161509592
           ],
           "y": [
            1,
            1,
            1,
            1,
            1,
            1,
            1,
            1,
            1,
            1
           ]
          },
          {
           "mode": "markers",
           "name": "Uncontrolled",
           "opacity": 0.8,
           "type": "scatter",
           "x": [
            -0.9211472102270561,
            -1.0568467869460303,
            -0.9093730872664505,
            -0.7154722055408366,
            0.648993475263109,
            0.4436864312866173,
            0.4652457535632146,
            0.6383534018667626,
            0.4364614462144824,
            0.6853945906393438
           ],
           "y": [
            1,
            1,
            1,
            1,
            1,
            1,
            1,
            1,
            1,
            1
           ]
          }
         ]
        },
        {
         "data": [
          {
           "marker": {
            "color": "SkyBlue",
            "size": 15
           },
           "mode": "markers",
           "name": "Controlled",
           "type": "scatter",
           "x": [
            -0.5634553780791034,
            -0.340268247522519,
            -0.31042987629026586,
            -0.3279890832656875,
            -0.09096188561320062,
            -0.13801435431048642,
            -0.13877567597468152,
            -0.1318906283992029,
            -0.0170909885621933,
            -0.004808249058692484
           ],
           "y": [
            1,
            1,
            1,
            1,
            1,
            1,
            1,
            1,
            1,
            1
           ]
          },
          {
           "mode": "markers",
           "name": "Uncontrolled",
           "opacity": 0.8,
           "type": "scatter",
           "x": [
            -0.9281985915286076,
            -1.064296563896425,
            -0.9100037729368248,
            -0.7109161451924932,
            0.6585328833660887,
            0.43904393176721274,
            0.4651495911157863,
            0.6324606841626151,
            0.44396742487765883,
            0.6810133367013032
           ],
           "y": [
            1,
            1,
            1,
            1,
            1,
            1,
            1,
            1,
            1,
            1
           ]
          }
         ]
        },
        {
         "data": [
          {
           "marker": {
            "color": "SkyBlue",
            "size": 15
           },
           "mode": "markers",
           "name": "Controlled",
           "type": "scatter",
           "x": [
            -0.5742867448136267,
            -0.3356087083753978,
            -0.3049131521355163,
            -0.31618678817045204,
            -0.09917899697112686,
            -0.13989169539626017,
            -0.14154735640358737,
            -0.13434029180316764,
            -0.011831782463283824,
            -0.0025404912081952143
           ],
           "y": [
            1,
            1,
            1,
            1,
            1,
            1,
            1,
            1,
            1,
            1
           ]
          },
          {
           "mode": "markers",
           "name": "Uncontrolled",
           "opacity": 0.8,
           "type": "scatter",
           "x": [
            -0.9437914817251839,
            -1.0666050859668772,
            -0.9088687496583079,
            -0.7032866729092473,
            0.6544851715223382,
            0.4385552525740593,
            0.46484034026967985,
            0.6340501560006325,
            0.45034260269690346,
            0.6866744628913924
           ],
           "y": [
            1,
            1,
            1,
            1,
            1,
            1,
            1,
            1,
            1,
            1
           ]
          }
         ]
        },
        {
         "data": [
          {
           "marker": {
            "color": "SkyBlue",
            "size": 15
           },
           "mode": "markers",
           "name": "Controlled",
           "type": "scatter",
           "x": [
            -0.5716670194585518,
            -0.32834367976151574,
            -0.3056660221571682,
            -0.31207358626979065,
            -0.11286050992799104,
            -0.13292843865813003,
            -0.13734224003635076,
            -0.13268841488096486,
            -0.01442624117863478,
            -0.00692658402550821
           ],
           "y": [
            1,
            1,
            1,
            1,
            1,
            1,
            1,
            1,
            1,
            1
           ]
          },
          {
           "mode": "markers",
           "name": "Uncontrolled",
           "opacity": 0.8,
           "type": "scatter",
           "x": [
            -0.9462139133507989,
            -1.0662693682501372,
            -0.9138632727322011,
            -0.7031885801697038,
            0.6448010365917418,
            0.44683960457293836,
            0.47129186540590295,
            0.6396303001843177,
            0.44899518819738377,
            0.6857918353459841
           ],
           "y": [
            1,
            1,
            1,
            1,
            1,
            1,
            1,
            1,
            1,
            1
           ]
          }
         ]
        },
        {
         "data": [
          {
           "marker": {
            "color": "SkyBlue",
            "size": 15
           },
           "mode": "markers",
           "name": "Controlled",
           "type": "scatter",
           "x": [
            -0.5605209259861865,
            -0.31489231787305433,
            -0.29752138301981107,
            -0.30607682338389336,
            -0.11317280695812923,
            -0.1402463466141909,
            -0.14159527645912034,
            -0.14575352116809803,
            -0.017964563430614946,
            -0.0005412018268194617
           ],
           "y": [
            1,
            1,
            1,
            1,
            1,
            1,
            1,
            1,
            1,
            1
           ]
          },
          {
           "mode": "markers",
           "name": "Uncontrolled",
           "opacity": 0.8,
           "type": "scatter",
           "x": [
            -0.9401061850155799,
            -1.0596202680127536,
            -0.9099993387903023,
            -0.701153494576899,
            0.6482270507717893,
            0.4410879763362544,
            0.4693740481227819,
            0.6304514596495618,
            0.4465588439904126,
            0.6955627860592791
           ],
           "y": [
            1,
            1,
            1,
            1,
            1,
            1,
            1,
            1,
            1,
            1
           ]
          }
         ]
        },
        {
         "data": [
          {
           "marker": {
            "color": "SkyBlue",
            "size": 15
           },
           "mode": "markers",
           "name": "Controlled",
           "type": "scatter",
           "x": [
            -0.5411523943564982,
            -0.3114532028993532,
            -0.2885110476304139,
            -0.2922735134847254,
            -0.10831656586014438,
            -0.12997843689431965,
            -0.14067524093541173,
            -0.14516651414767115,
            -0.025630907248663463,
            -0.004311749461033223
           ],
           "y": [
            1,
            1,
            1,
            1,
            1,
            1,
            1,
            1,
            1,
            1
           ]
          },
          {
           "mode": "markers",
           "name": "Uncontrolled",
           "opacity": 0.8,
           "type": "scatter",
           "x": [
            -0.925635931612468,
            -1.0626322251454465,
            -0.9050593677074498,
            -0.6913702401628337,
            0.6566775943586418,
            0.45269409165526175,
            0.47255612575678124,
            0.6345628596275811,
            0.4399722442667998,
            0.6953693740024633
           ],
           "y": [
            1,
            1,
            1,
            1,
            1,
            1,
            1,
            1,
            1,
            1
           ]
          }
         ]
        },
        {
         "data": [
          {
           "marker": {
            "color": "SkyBlue",
            "size": 15
           },
           "mode": "markers",
           "name": "Controlled",
           "type": "scatter",
           "x": [
            -0.5544631977504232,
            -0.30289851700991366,
            -0.28086096092304125,
            -0.296269046762751,
            -0.1328451297033106,
            -0.1117709596902333,
            -0.13138739711724937,
            -0.14963845326483144,
            -0.027879964274186347,
            -0.003700914493582191
           ],
           "y": [
            1,
            1,
            1,
            1,
            1,
            1,
            1,
            1,
            1,
            1
           ]
          },
          {
           "mode": "markers",
           "name": "Uncontrolled",
           "opacity": 0.8,
           "type": "scatter",
           "x": [
            -0.9435196500968089,
            -1.0605840227962078,
            -0.9012853817234942,
            -0.6991480201763457,
            0.6358435876833789,
            0.472565300837247,
            0.48426133779502567,
            0.6337025579486419,
            0.4386185741589216,
            0.6994255406189769
           ],
           "y": [
            1,
            1,
            1,
            1,
            1,
            1,
            1,
            1,
            1,
            1
           ]
          }
         ]
        },
        {
         "data": [
          {
           "marker": {
            "color": "SkyBlue",
            "size": 15
           },
           "mode": "markers",
           "name": "Controlled",
           "type": "scatter",
           "x": [
            -0.5676870102937475,
            -0.30184759600315075,
            -0.26998935448634476,
            -0.2862204856727114,
            -0.13606682525021432,
            -0.12630599036152396,
            -0.13341694499154635,
            -0.1658897794890531,
            -0.026435269969570865,
            -0.0024913017434504423
           ],
           "y": [
            1,
            1,
            1,
            1,
            1,
            1,
            1,
            1,
            1,
            1
           ]
          },
          {
           "mode": "markers",
           "name": "Uncontrolled",
           "opacity": 0.8,
           "type": "scatter",
           "x": [
            -0.9615430943350064,
            -1.065939850048699,
            -0.8940745850081343,
            -0.6929944305424236,
            0.6360116556246828,
            0.4602200067981853,
            0.4849164783722393,
            0.6208749677239984,
            0.4408877589290856,
            0.704192394055274
           ],
           "y": [
            1,
            1,
            1,
            1,
            1,
            1,
            1,
            1,
            1,
            1
           ]
          }
         ]
        },
        {
         "data": [
          {
           "marker": {
            "color": "SkyBlue",
            "size": 15
           },
           "mode": "markers",
           "name": "Controlled",
           "type": "scatter",
           "x": [
            -0.5631181600123766,
            -0.3107941919461895,
            -0.276223590799572,
            -0.283062109805899,
            -0.1440752480785373,
            -0.12114477008551626,
            -0.14513694091191004,
            -0.1757829255395225,
            -0.026317212336117186,
            0.011765186169992909
           ],
           "y": [
            1,
            1,
            1,
            1,
            1,
            1,
            1,
            1,
            1,
            1
           ]
          },
          {
           "mode": "markers",
           "name": "Uncontrolled",
           "opacity": 0.8,
           "type": "scatter",
           "x": [
            -0.9620618519472407,
            -1.0813126473915302,
            -0.9036732947765909,
            -0.6936101712802163,
            0.6313663372905979,
            0.46720957729817414,
            0.475806955519256,
            0.6139527248615725,
            0.4419589396314615,
            0.7221786327048785
           ],
           "y": [
            1,
            1,
            1,
            1,
            1,
            1,
            1,
            1,
            1,
            1
           ]
          }
         ]
        },
        {
         "data": [
          {
           "marker": {
            "color": "SkyBlue",
            "size": 15
           },
           "mode": "markers",
           "name": "Controlled",
           "type": "scatter",
           "x": [
            -0.5629876886455981,
            -0.2975523159015402,
            -0.2596685241502773,
            -0.26132538529996746,
            -0.13402709365351784,
            -0.1252506275262728,
            -0.14744433634792417,
            -0.18147821784129545,
            -0.0340470115143747,
            0.007614062001165855
           ],
           "y": [
            1,
            1,
            1,
            1,
            1,
            1,
            1,
            1,
            1,
            1
           ]
          },
          {
           "mode": "markers",
           "name": "Uncontrolled",
           "opacity": 0.8,
           "type": "scatter",
           "x": [
            -0.9670384853765672,
            -1.0747486854385846,
            -0.8906087410511669,
            -0.6755482140925821,
            0.6445779578079284,
            0.46505945699839146,
            0.475834614249989,
            0.6109635175735298,
            0.4353162587261632,
            0.722055701157044
           ],
           "y": [
            1,
            1,
            1,
            1,
            1,
            1,
            1,
            1,
            1,
            1
           ]
          }
         ]
        },
        {
         "data": [
          {
           "marker": {
            "color": "SkyBlue",
            "size": 15
           },
           "mode": "markers",
           "name": "Controlled",
           "type": "scatter",
           "x": [
            -0.5551948629068924,
            -0.302317830161978,
            -0.27407797064332756,
            -0.25872806102836826,
            -0.13665092974884502,
            -0.11931175157982254,
            -0.14301972422011827,
            -0.1813343962282139,
            -0.04448086916210551,
            0.023821464136551583
           ],
           "y": [
            1,
            1,
            1,
            1,
            1,
            1,
            1,
            1,
            1,
            1
           ]
          },
          {
           "mode": "markers",
           "name": "Uncontrolled",
           "opacity": 0.8,
           "type": "scatter",
           "x": [
            -0.964391597651395,
            -1.0859729704399657,
            -0.9081408790378108,
            -0.6762963748635493,
            0.645284693826718,
            0.4728977736866297,
            0.4825958255095427,
            0.6137040106125016,
            0.425841468331484,
            0.7422510367256321
           ],
           "y": [
            1,
            1,
            1,
            1,
            1,
            1,
            1,
            1,
            1,
            1
           ]
          }
         ]
        },
        {
         "data": [
          {
           "marker": {
            "color": "SkyBlue",
            "size": 15
           },
           "mode": "markers",
           "name": "Controlled",
           "type": "scatter",
           "x": [
            -0.5589911257876956,
            -0.31217132990797647,
            -0.26849628494441696,
            -0.2638327052769981,
            -0.13314401082043184,
            -0.10955165787251087,
            -0.1456753696027437,
            -0.1767847886202683,
            -0.042645969961480824,
            0.012995550792427316
           ],
           "y": [
            1,
            1,
            1,
            1,
            1,
            1,
            1,
            1,
            1,
            1
           ]
          },
          {
           "mode": "markers",
           "name": "Uncontrolled",
           "opacity": 0.8,
           "type": "scatter",
           "x": [
            -0.9732298975990111,
            -1.1024400747461969,
            -0.9059950318957357,
            -0.6846561812173081,
            0.6519915599542365,
            0.4846790746320607,
            0.48245090532729745,
            0.6209230218884564,
            0.4283861945216905,
            0.7357730002734878
           ],
           "y": [
            1,
            1,
            1,
            1,
            1,
            1,
            1,
            1,
            1,
            1
           ]
          }
         ]
        },
        {
         "data": [
          {
           "marker": {
            "color": "SkyBlue",
            "size": 15
           },
           "mode": "markers",
           "name": "Controlled",
           "type": "scatter",
           "x": [
            -0.5675340413208629,
            -0.3024939493008283,
            -0.26665233228803736,
            -0.2503593852849327,
            -0.14241355053083482,
            -0.12660274743901537,
            -0.15656205708175874,
            -0.17216900096117835,
            -0.04745536826544949,
            0.02915146982552086
           ],
           "y": [
            1,
            1,
            1,
            1,
            1,
            1,
            1,
            1,
            1,
            1
           ]
          },
          {
           "mode": "markers",
           "name": "Uncontrolled",
           "opacity": 0.8,
           "type": "scatter",
           "x": [
            -0.9868952437293124,
            -1.099676614178374,
            -0.9074814176879256,
            -0.6744736840302683,
            0.6459792763332415,
            0.47004348710604216,
            0.4740213318092276,
            0.6283269034170966,
            0.4243248565608588,
            0.755923226254526
           ],
           "y": [
            1,
            1,
            1,
            1,
            1,
            1,
            1,
            1,
            1,
            1
           ]
          }
         ]
        },
        {
         "data": [
          {
           "marker": {
            "color": "SkyBlue",
            "size": 15
           },
           "mode": "markers",
           "name": "Controlled",
           "type": "scatter",
           "x": [
            -0.5689317570532987,
            -0.304119382118655,
            -0.2819585334883085,
            -0.24945426297592657,
            -0.14322511186194878,
            -0.14139646601907635,
            -0.1506286222193693,
            -0.1859562430607417,
            -0.053511901613878456,
            0.019006659729896583
           ],
           "y": [
            1,
            1,
            1,
            1,
            1,
            1,
            1,
            1,
            1,
            1
           ]
          },
          {
           "mode": "markers",
           "name": "Uncontrolled",
           "opacity": 0.8,
           "type": "scatter",
           "x": [
            -0.9936427088034925,
            -1.1080383167649415,
            -0.9260705952704308,
            -0.6766536995237916,
            0.6482609757386769,
            0.4570348920169194,
            0.4821033773609071,
            0.6174498597853288,
            0.4189247220193477,
            0.7503282771032497
           ],
           "y": [
            1,
            1,
            1,
            1,
            1,
            1,
            1,
            1,
            1,
            1
           ]
          }
         ]
        },
        {
         "data": [
          {
           "marker": {
            "color": "SkyBlue",
            "size": 15
           },
           "mode": "markers",
           "name": "Controlled",
           "type": "scatter",
           "x": [
            -0.5679589888846366,
            -0.3044603970186259,
            -0.28673171268430564,
            -0.25673690429846896,
            -0.14939457933646694,
            -0.14594189441460106,
            -0.1510259076327952,
            -0.192415674985936,
            -0.062470764930299384,
            -0.0008053657194787671
           ],
           "y": [
            1,
            1,
            1,
            1,
            1,
            1,
            1,
            1,
            1,
            1
           ]
          },
          {
           "mode": "markers",
           "name": "Uncontrolled",
           "opacity": 0.8,
           "type": "scatter",
           "x": [
            -0.9980380217316795,
            -1.1150856260583022,
            -0.9345904247944494,
            -0.6870857994913724,
            0.6451972733944213,
            0.4539060099323602,
            0.4839497572436938,
            0.6136431676173678,
            0.41039675391602504,
            0.7347968141671871
           ],
           "y": [
            1,
            1,
            1,
            1,
            1,
            1,
            1,
            1,
            1,
            1
           ]
          }
         ]
        },
        {
         "data": [
          {
           "marker": {
            "color": "SkyBlue",
            "size": 15
           },
           "mode": "markers",
           "name": "Controlled",
           "type": "scatter",
           "x": [
            -0.5457480607820331,
            -0.32167029748480025,
            -0.2750671789073839,
            -0.2576524541670091,
            -0.1525850867776504,
            -0.13269743430422726,
            -0.13599833893308605,
            -0.1948576361072722,
            -0.062239598896299146,
            -0.01880106297662062
           ],
           "y": [
            1,
            1,
            1,
            1,
            1,
            1,
            1,
            1,
            1,
            1
           ]
          },
          {
           "mode": "markers",
           "name": "Uncontrolled",
           "opacity": 0.8,
           "type": "scatter",
           "x": [
            -0.9811431297059614,
            -1.1389648766861116,
            -0.9268988131698185,
            -0.6913864641894416,
            0.6450524131830819,
            0.46846638998846685,
            0.5012079194436094,
            0.6136315739328664,
            0.41080751677862165,
            0.7205158127055188
           ],
           "y": [
            1,
            1,
            1,
            1,
            1,
            1,
            1,
            1,
            1,
            1
           ]
          }
         ]
        },
        {
         "data": [
          {
           "marker": {
            "color": "SkyBlue",
            "size": 15
           },
           "mode": "markers",
           "name": "Controlled",
           "type": "scatter",
           "x": [
            -0.528935872889929,
            -0.33144980231021814,
            -0.2819847764936673,
            -0.2501845182366169,
            -0.1316421477161802,
            -0.1103533638721093,
            -0.13564345706303071,
            -0.20106843300402827,
            -0.0838813327832414,
            -0.017520023359976274
           ],
           "y": [
            1,
            1,
            1,
            1,
            1,
            1,
            1,
            1,
            1,
            1
           ]
          },
          {
           "mode": "markers",
           "name": "Uncontrolled",
           "opacity": 0.8,
           "type": "scatter",
           "x": [
            -0.9691767687190689,
            -1.1560349709116102,
            -0.9375101338102264,
            -0.6872741991482108,
            0.6689590798510267,
            0.4925922477722383,
            0.5043616346667078,
            0.6098170733665764,
            0.3892645464617122,
            0.7250990257935791
           ],
           "y": [
            1,
            1,
            1,
            1,
            1,
            1,
            1,
            1,
            1,
            1
           ]
          }
         ]
        },
        {
         "data": [
          {
           "marker": {
            "color": "SkyBlue",
            "size": 15
           },
           "mode": "markers",
           "name": "Controlled",
           "type": "scatter",
           "x": [
            -0.5276372862261869,
            -0.3266720085239707,
            -0.274914865763791,
            -0.2388830557608752,
            -0.13701498102706636,
            -0.1062657257488989,
            -0.11905092273071219,
            -0.20462509704598203,
            -0.08973163664551675,
            -0.019660297946889484
           ],
           "y": [
            1,
            1,
            1,
            1,
            1,
            1,
            1,
            1,
            1,
            1
           ]
          },
          {
           "mode": "markers",
           "name": "Uncontrolled",
           "opacity": 0.8,
           "type": "scatter",
           "x": [
            -0.9724573825680695,
            -1.158885948315872,
            -0.9343261886158024,
            -0.6790900697901132,
            0.6668400032825327,
            0.4992082620753556,
            0.5239134717595664,
            0.6085854051142138,
            0.3829834096407296,
            0.726059782888094
           ],
           "y": [
            1,
            1,
            1,
            1,
            1,
            1,
            1,
            1,
            1,
            1
           ]
          }
         ]
        },
        {
         "data": [
          {
           "marker": {
            "color": "SkyBlue",
            "size": 15
           },
           "mode": "markers",
           "name": "Controlled",
           "type": "scatter",
           "x": [
            -0.5233462061069282,
            -0.3233356548100851,
            -0.27978892209235817,
            -0.24807747701292412,
            -0.14247699883864368,
            -0.11434766216560613,
            -0.11336108436236696,
            -0.19472279944942308,
            -0.0858647000092582,
            -0.007730549366798241
           ],
           "y": [
            1,
            1,
            1,
            1,
            1,
            1,
            1,
            1,
            1,
            1
           ]
          },
          {
           "mode": "markers",
           "name": "Uncontrolled",
           "opacity": 0.8,
           "type": "scatter",
           "x": [
            -0.9726893262137986,
            -1.163142022608373,
            -0.9428722460166578,
            -0.6912080615299521,
            0.6645558094095886,
            0.4938274763120929,
            0.5331521721888505,
            0.6207494732168768,
            0.3862327252938384,
            0.7411007209106202
           ],
           "y": [
            1,
            1,
            1,
            1,
            1,
            1,
            1,
            1,
            1,
            1
           ]
          }
         ]
        },
        {
         "data": [
          {
           "marker": {
            "color": "SkyBlue",
            "size": 15
           },
           "mode": "markers",
           "name": "Controlled",
           "type": "scatter",
           "x": [
            -0.511929129103781,
            -0.320277630433257,
            -0.27260879677511385,
            -0.2648677949964014,
            -0.14727295562107792,
            -0.10736184208138547,
            -0.11828426261006474,
            -0.1936041322276048,
            -0.09411482057313192,
            0.00804325976177675
           ],
           "y": [
            1,
            1,
            1,
            1,
            1,
            1,
            1,
            1,
            1,
            1
           ]
          },
          {
           "mode": "markers",
           "name": "Uncontrolled",
           "opacity": 0.8,
           "type": "scatter",
           "x": [
            -0.9657128970686396,
            -1.167593564685981,
            -0.9394283693015593,
            -0.7111603706105812,
            0.66279713652559,
            0.5031842756417155,
            0.5319114372951834,
            0.6243821269544504,
            0.3773496466671744,
            0.7602848845327876
           ],
           "y": [
            1,
            1,
            1,
            1,
            1,
            1,
            1,
            1,
            1,
            1
           ]
          }
         ]
        },
        {
         "data": [
          {
           "marker": {
            "color": "SkyBlue",
            "size": 15
           },
           "mode": "markers",
           "name": "Controlled",
           "type": "scatter",
           "x": [
            -0.5265829571410637,
            -0.3173791597302043,
            -0.2849484006810797,
            -0.2639326202073957,
            -0.14252579432815782,
            -0.09183620367815527,
            -0.11734835379302376,
            -0.19956390709862906,
            -0.09534157628628313,
            0.010434378041729704
           ],
           "y": [
            1,
            1,
            1,
            1,
            1,
            1,
            1,
            1,
            1,
            1
           ]
          },
          {
           "mode": "markers",
           "name": "Uncontrolled",
           "opacity": 0.8,
           "type": "scatter",
           "x": [
            -0.9846925620639483,
            -1.1721636353808804,
            -0.9552291070876673,
            -0.7138010406106241,
            0.6704288922749702,
            0.5211362658531002,
            0.5365145508919925,
            0.6209358509967059,
            0.37528471680604536,
            0.7665200672117481
           ],
           "y": [
            1,
            1,
            1,
            1,
            1,
            1,
            1,
            1,
            1,
            1
           ]
          }
         ]
        },
        {
         "data": [
          {
           "marker": {
            "color": "SkyBlue",
            "size": 15
           },
           "mode": "markers",
           "name": "Controlled",
           "type": "scatter",
           "x": [
            -0.5209029554809993,
            -0.30627723294359244,
            -0.27840771275561293,
            -0.26163610039742075,
            -0.13740124188961253,
            -0.09117892536010568,
            -0.13579083048009236,
            -0.1955307507459613,
            -0.1103696695141607,
            0.0005842622095920905
           ],
           "y": [
            1,
            1,
            1,
            1,
            1,
            1,
            1,
            1,
            1,
            1
           ]
          },
          {
           "mode": "markers",
           "name": "Uncontrolled",
           "opacity": 0.8,
           "type": "scatter",
           "x": [
            -0.9835822037646695,
            -1.1683526907208552,
            -0.9525301805993983,
            -0.7150184616471563,
            0.6785346063782727,
            0.5247060656211836,
            0.5216858891151457,
            0.6272702629282917,
            0.3594603890883593,
            0.760479715265713
           ],
           "y": [
            1,
            1,
            1,
            1,
            1,
            1,
            1,
            1,
            1,
            1
           ]
          }
         ]
        },
        {
         "data": [
          {
           "marker": {
            "color": "SkyBlue",
            "size": 15
           },
           "mode": "markers",
           "name": "Controlled",
           "type": "scatter",
           "x": [
            -0.5281057695620563,
            -0.30373752852428126,
            -0.2781294038001944,
            -0.27054745332588076,
            -0.14595985811559778,
            -0.08636501367421205,
            -0.13955790860268477,
            -0.18862901742478017,
            -0.12184378964206088,
            -0.007274870489469589
           ],
           "y": [
            1,
            1,
            1,
            1,
            1,
            1,
            1,
            1,
            1,
            1
           ]
          },
          {
           "mode": "markers",
           "name": "Uncontrolled",
           "opacity": 0.8,
           "type": "scatter",
           "x": [
            -0.9952817905617064,
            -1.1727985447780043,
            -0.9560808651648827,
            -0.7274860869820411,
            0.6731025152110914,
            0.5324165976745407,
            0.5210204981609815,
            0.6366417957640171,
            0.34676541300697306,
            0.7560623457747987
           ],
           "y": [
            1,
            1,
            1,
            1,
            1,
            1,
            1,
            1,
            1,
            1
           ]
          }
         ]
        },
        {
         "data": [
          {
           "marker": {
            "color": "SkyBlue",
            "size": 15
           },
           "mode": "markers",
           "name": "Controlled",
           "type": "scatter",
           "x": [
            -0.5225793078254302,
            -0.3138844240743312,
            -0.27408267196084624,
            -0.2743660258031211,
            -0.14906212551637246,
            -0.09101090764994925,
            -0.1343452062006271,
            -0.2023365972204252,
            -0.10998030250932744,
            -0.02495652277672615
           ],
           "y": [
            1,
            1,
            1,
            1,
            1,
            1,
            1,
            1,
            1,
            1
           ]
          },
          {
           "mode": "markers",
           "name": "Uncontrolled",
           "opacity": 0.8,
           "type": "scatter",
           "x": [
            -0.9943644459582864,
            -1.1898700295608342,
            -0.9559258606551151,
            -0.7350678692288694,
            0.6729973085567204,
            0.5307736499721019,
            0.5292551984464823,
            0.6256189458900762,
            0.35709515021091676,
            0.7416252952678779
           ],
           "y": [
            1,
            1,
            1,
            1,
            1,
            1,
            1,
            1,
            1,
            1
           ]
          }
         ]
        },
        {
         "data": [
          {
           "marker": {
            "color": "SkyBlue",
            "size": 15
           },
           "mode": "markers",
           "name": "Controlled",
           "type": "scatter",
           "x": [
            -0.5105984170821765,
            -0.29520994064674894,
            -0.26177483974390897,
            -0.26822578172047806,
            -0.13772856535681058,
            -0.0972683589658274,
            -0.13851357117490165,
            -0.1929732772678242,
            -0.11247852139919447,
            -0.02584368378063879
           ],
           "y": [
            1,
            1,
            1,
            1,
            1,
            1,
            1,
            1,
            1,
            1
           ]
          },
          {
           "mode": "markers",
           "name": "Uncontrolled",
           "opacity": 0.8,
           "type": "scatter",
           "x": [
            -0.9868827164305056,
            -1.178412489526926,
            -0.947416424133043,
            -0.7328063937923883,
            0.6873070997420327,
            0.5274846690071814,
            0.5282417357334107,
            0.6372526906961767,
            0.3534267393165593,
            0.7436323293603021
           ],
           "y": [
            1,
            1,
            1,
            1,
            1,
            1,
            1,
            1,
            1,
            1
           ]
          }
         ]
        },
        {
         "data": [
          {
           "marker": {
            "color": "SkyBlue",
            "size": 15
           },
           "mode": "markers",
           "name": "Controlled",
           "type": "scatter",
           "x": [
            -0.5145524036786402,
            -0.2909421218979552,
            -0.2610200766229453,
            -0.2733827122764285,
            -0.15917835703938757,
            -0.10981798590957785,
            -0.12927385287816617,
            -0.2044708879377234,
            -0.1012510604888861,
            -0.022501518187886992
           ],
           "y": [
            1,
            1,
            1,
            1,
            1,
            1,
            1,
            1,
            1,
            1
           ]
          },
          {
           "mode": "markers",
           "name": "Uncontrolled",
           "opacity": 0.8,
           "type": "scatter",
           "x": [
            -0.9951286563768312,
            -1.1809261122832606,
            -0.9502161434147143,
            -0.7418458948680998,
            0.6690796525803068,
            0.5175961448421159,
            0.5405669151971443,
            0.6282873178096128,
            0.3632853794825381,
            0.7498634049712175
           ],
           "y": [
            1,
            1,
            1,
            1,
            1,
            1,
            1,
            1,
            1,
            1
           ]
          }
         ]
        },
        {
         "data": [
          {
           "marker": {
            "color": "SkyBlue",
            "size": 15
           },
           "mode": "markers",
           "name": "Controlled",
           "type": "scatter",
           "x": [
            -0.5077938937089935,
            -0.2880062345504885,
            -0.26010689574843193,
            -0.2628633070008455,
            -0.15646013972110304,
            -0.12254387892229135,
            -0.15097431964691505,
            -0.2021916206316879,
            -0.09505087534788063,
            -0.01591915102327595
           ],
           "y": [
            1,
            1,
            1,
            1,
            1,
            1,
            1,
            1,
            1,
            1
           ]
          },
          {
           "mode": "markers",
           "name": "Uncontrolled",
           "opacity": 0.8,
           "type": "scatter",
           "x": [
            -0.9927258070645516,
            -1.1846990279201992,
            -0.9527726823697032,
            -0.7354315176236399,
            0.6746779758339734,
            0.5071757986066099,
            0.5221476266676163,
            0.6327108575767645,
            0.36835999399422414,
            0.7595684110077524
           ],
           "y": [
            1,
            1,
            1,
            1,
            1,
            1,
            1,
            1,
            1,
            1
           ]
          }
         ]
        },
        {
         "data": [
          {
           "marker": {
            "color": "SkyBlue",
            "size": 15
           },
           "mode": "markers",
           "name": "Controlled",
           "type": "scatter",
           "x": [
            -0.5050924708830516,
            -0.2894037377531249,
            -0.2651172849396577,
            -0.27212113373016994,
            -0.14909555104779076,
            -0.12831901132300405,
            -0.15386079611404893,
            -0.20715577783183198,
            -0.10175277367076016,
            -0.009485860446977686
           ],
           "y": [
            1,
            1,
            1,
            1,
            1,
            1,
            1,
            1,
            1,
            1
           ]
          },
          {
           "mode": "markers",
           "name": "Uncontrolled",
           "opacity": 0.8,
           "type": "scatter",
           "x": [
            -0.9943628846798032,
            -1.1927407260077783,
            -0.9613020072818267,
            -0.7486190811152723,
            0.6849843570058127,
            0.5033158089216712,
            0.5219419188987465,
            0.629971604988704,
            0.36074095746344964,
            0.7692875361173079
           ],
           "y": [
            1,
            1,
            1,
            1,
            1,
            1,
            1,
            1,
            1,
            1
           ]
          }
         ]
        },
        {
         "data": [
          {
           "marker": {
            "color": "SkyBlue",
            "size": 15
           },
           "mode": "markers",
           "name": "Controlled",
           "type": "scatter",
           "x": [
            -0.4998119939169616,
            -0.2837314935581547,
            -0.2582634030881404,
            -0.2701321465171364,
            -0.1628402727936044,
            -0.128207243298273,
            -0.1680686283713876,
            -0.21301965515500665,
            -0.098638644637335,
            -0.02455966547642753
           ],
           "y": [
            1,
            1,
            1,
            1,
            1,
            1,
            1,
            1,
            1,
            1
           ]
          },
          {
           "mode": "markers",
           "name": "Uncontrolled",
           "opacity": 0.8,
           "type": "scatter",
           "x": [
            -0.9933918469194856,
            -1.1936424849815583,
            -0.958077161280363,
            -0.7508065062019843,
            0.6742640038025459,
            0.5051139204864696,
            0.5103486704390188,
            0.6262020661809734,
            0.36279714874102065,
            0.7575963362047462
           ],
           "y": [
            1,
            1,
            1,
            1,
            1,
            1,
            1,
            1,
            1,
            1
           ]
          }
         ]
        },
        {
         "data": [
          {
           "marker": {
            "color": "SkyBlue",
            "size": 15
           },
           "mode": "markers",
           "name": "Controlled",
           "type": "scatter",
           "x": [
            -0.4904459398027787,
            -0.28993008138590476,
            -0.25783492961775767,
            -0.2709140302270647,
            -0.14383128571418616,
            -0.12488065102803762,
            -0.18543276457534064,
            -0.21598592972528016,
            -0.09779248381431757,
            -0.033160703029020154
           ],
           "y": [
            1,
            1,
            1,
            1,
            1,
            1,
            1,
            1,
            1,
            1
           ]
          },
          {
           "mode": "markers",
           "name": "Uncontrolled",
           "opacity": 0.8,
           "type": "scatter",
           "x": [
            -0.9883438380988981,
            -1.2063177180192295,
            -0.9612249836950881,
            -0.7558101276031891,
            0.6961472511486271,
            0.5101683927869148,
            0.49522567974150744,
            0.6251495935283218,
            0.36269920181748233,
            0.7520790352883117
           ],
           "y": [
            1,
            1,
            1,
            1,
            1,
            1,
            1,
            1,
            1,
            1
           ]
          }
         ]
        },
        {
         "data": [
          {
           "marker": {
            "color": "SkyBlue",
            "size": 15
           },
           "mode": "markers",
           "name": "Controlled",
           "type": "scatter",
           "x": [
            -0.49462000971601167,
            -0.27900367426064615,
            -0.2753897016824244,
            -0.27198714733282403,
            -0.14006525190351532,
            -0.13018516427356788,
            -0.19811092779117856,
            -0.21280233445718266,
            -0.10884156340263966,
            -0.044399430286648084
           ],
           "y": [
            1,
            1,
            1,
            1,
            1,
            1,
            1,
            1,
            1,
            1
           ]
          },
          {
           "mode": "markers",
           "name": "Uncontrolled",
           "opacity": 0.8,
           "type": "scatter",
           "x": [
            -0.9967353282346999,
            -1.2019603389094413,
            -0.9824446068927948,
            -0.7611104782992006,
            0.7030306833699301,
            0.5067035869800613,
            0.48434165466215273,
            0.6301638471430765,
            0.3508027148877459,
            0.7436156939130075
           ],
           "y": [
            1,
            1,
            1,
            1,
            1,
            1,
            1,
            1,
            1,
            1
           ]
          }
         ]
        },
        {
         "data": [
          {
           "marker": {
            "color": "SkyBlue",
            "size": 15
           },
           "mode": "markers",
           "name": "Controlled",
           "type": "scatter",
           "x": [
            -0.5046194388383476,
            -0.29553477456892085,
            -0.2769599741148098,
            -0.2677237875089321,
            -0.1406647474626718,
            -0.12721460804858317,
            -0.19533173310106344,
            -0.21554158177080232,
            -0.10391314661944459,
            -0.03616659770910987
           ],
           "y": [
            1,
            1,
            1,
            1,
            1,
            1,
            1,
            1,
            1,
            1
           ]
          },
          {
           "mode": "markers",
           "name": "Uncontrolled",
           "opacity": 0.8,
           "type": "scatter",
           "x": [
            -1.0110564393047448,
            -1.2246774712976873,
            -0.9883124801258432,
            -0.7611751947593502,
            0.7056571407405984,
            0.5113501301723371,
            0.4884928739620203,
            0.6294011331735244,
            0.35463391779039005,
            0.7542396401194053
           ],
           "y": [
            1,
            1,
            1,
            1,
            1,
            1,
            1,
            1,
            1,
            1
           ]
          }
         ]
        },
        {
         "data": [
          {
           "marker": {
            "color": "SkyBlue",
            "size": 15
           },
           "mode": "markers",
           "name": "Controlled",
           "type": "scatter",
           "x": [
            -0.49545605681587546,
            -0.2928392947596058,
            -0.2913192210754312,
            -0.2618285940582471,
            -0.1408117628259755,
            -0.14146861157467883,
            -0.21443752959862186,
            -0.2113915597196521,
            -0.09552199019281134,
            -0.032217652241839846
           ],
           "y": [
            1,
            1,
            1,
            1,
            1,
            1,
            1,
            1,
            1,
            1
           ]
          },
          {
           "mode": "markers",
           "name": "Uncontrolled",
           "opacity": 0.8,
           "type": "scatter",
           "x": [
            -1.0064514385689587,
            -1.2286599441434098,
            -1.0069577313681004,
            -0.7594059201361001,
            0.7086704664522034,
            0.49889406963797234,
            0.4708273813336419,
            0.6354603981931346,
            0.36207688574964897,
            0.7607898955208148
           ],
           "y": [
            1,
            1,
            1,
            1,
            1,
            1,
            1,
            1,
            1,
            1
           ]
          }
         ]
        },
        {
         "data": [
          {
           "marker": {
            "color": "SkyBlue",
            "size": 15
           },
           "mode": "markers",
           "name": "Controlled",
           "type": "scatter",
           "x": [
            -0.49685219701149075,
            -0.28122704212253546,
            -0.2990608021070709,
            -0.2719967713150898,
            -0.14867726591294259,
            -0.1596132839795928,
            -0.21331611134718226,
            -0.20363523227783734,
            -0.1087703057672767,
            -0.036427763786259997
           ],
           "y": [
            1,
            1,
            1,
            1,
            1,
            1,
            1,
            1,
            1,
            1
           ]
          },
          {
           "mode": "markers",
           "name": "Uncontrolled",
           "opacity": 0.8,
           "type": "scatter",
           "x": [
            -1.0123360287617895,
            -1.2236238879643742,
            -1.0194387611556532,
            -0.7736177485073766,
            0.703873674676466,
            0.4821132387843096,
            0.47279269913289923,
            0.6452600020662345,
            0.348117947681295,
            0.759218572435906
           ],
           "y": [
            1,
            1,
            1,
            1,
            1,
            1,
            1,
            1,
            1,
            1
           ]
          }
         ]
        },
        {
         "data": [
          {
           "marker": {
            "color": "SkyBlue",
            "size": 15
           },
           "mode": "markers",
           "name": "Controlled",
           "type": "scatter",
           "x": [
            -0.48691786000345033,
            -0.2718337894866467,
            -0.2987808728760275,
            -0.27914509897828443,
            -0.15292114073205917,
            -0.1629810181493607,
            -0.2235122043687984,
            -0.19616750167225422,
            -0.09557421821210453,
            -0.05593282562347157
           ],
           "y": [
            1,
            1,
            1,
            1,
            1,
            1,
            1,
            1,
            1,
            1
           ]
          },
          {
           "mode": "markers",
           "name": "Uncontrolled",
           "opacity": 0.8,
           "type": "scatter",
           "x": [
            -1.0068625443463994,
            -1.2204519873010908,
            -1.0241981939053364,
            -0.7851694990690272,
            0.7025746278226895,
            0.47951904819173463,
            0.463441645320867,
            0.6550445606544841,
            0.3601985932807178,
            0.7422594674011522
           ],
           "y": [
            1,
            1,
            1,
            1,
            1,
            1,
            1,
            1,
            1,
            1
           ]
          }
         ]
        },
        {
         "data": [
          {
           "marker": {
            "color": "SkyBlue",
            "size": 15
           },
           "mode": "markers",
           "name": "Controlled",
           "type": "scatter",
           "x": [
            -0.4858277445766871,
            -0.2887404943560694,
            -0.27736218239148475,
            -0.2718380946439556,
            -0.15642987961607469,
            -0.17483094282461484,
            -0.22630117217865645,
            -0.19823848949029027,
            -0.10183061064901472,
            -0.07528104949797201
           ],
           "y": [
            1,
            1,
            1,
            1,
            1,
            1,
            1,
            1,
            1,
            1
           ]
          },
          {
           "mode": "markers",
           "name": "Uncontrolled",
           "opacity": 0.8,
           "type": "scatter",
           "x": [
            -1.010062828002995,
            -1.2433148231215727,
            -1.007893554678071,
            -0.7825056439141378,
            0.7020406076029395,
            0.4683571706794025,
            0.4611475167924799,
            0.6554296677325299,
            0.3531511942864463,
            0.7250094497570474
           ],
           "y": [
            1,
            1,
            1,
            1,
            1,
            1,
            1,
            1,
            1,
            1
           ]
          }
         ]
        },
        {
         "data": [
          {
           "marker": {
            "color": "SkyBlue",
            "size": 15
           },
           "mode": "markers",
           "name": "Controlled",
           "type": "scatter",
           "x": [
            -0.48454082478132754,
            -0.29631158861742923,
            -0.26710830542393466,
            -0.26062886689500603,
            -0.15114867021112813,
            -0.1770424973271605,
            -0.23429704572126758,
            -0.1923283482132428,
            -0.10269067570381592,
            -0.08839268667188317
           ],
           "y": [
            1,
            1,
            1,
            1,
            1,
            1,
            1,
            1,
            1,
            1
           ]
          },
          {
           "mode": "markers",
           "name": "Uncontrolled",
           "opacity": 0.8,
           "type": "scatter",
           "x": [
            -1.013002466608646,
            -1.2574755350027678,
            -1.0022598967179257,
            -0.7757818185934836,
            0.7102410620657539,
            0.46657193550309106,
            0.45366938703943654,
            0.6638437342915695,
            0.3512298579487292,
            0.7135970682887077
           ],
           "y": [
            1,
            1,
            1,
            1,
            1,
            1,
            1,
            1,
            1,
            1
           ]
          }
         ]
        },
        {
         "data": [
          {
           "marker": {
            "color": "SkyBlue",
            "size": 15
           },
           "mode": "markers",
           "name": "Controlled",
           "type": "scatter",
           "x": [
            -0.4752925128495825,
            -0.2911589753444494,
            -0.27551226788944383,
            -0.25710660222026327,
            -0.15061769044966808,
            -0.173847188712312,
            -0.23679917876664924,
            -0.18444901734758884,
            -0.10311807073898559,
            -0.09735218798260444
           ],
           "y": [
            1,
            1,
            1,
            1,
            1,
            1,
            1,
            1,
            1,
            1
           ]
          },
          {
           "mode": "markers",
           "name": "Uncontrolled",
           "opacity": 0.8,
           "type": "scatter",
           "x": [
            -1.0079707949262038,
            -1.25920976891296,
            -1.0151128529282034,
            -0.7764774590078739,
            0.7137910365693063,
            0.4701838333702765,
            0.45149816712942814,
            0.6743689133318681,
            0.34971361609413143,
            0.7059944158970834
           ],
           "y": [
            1,
            1,
            1,
            1,
            1,
            1,
            1,
            1,
            1,
            1
           ]
          }
         ]
        },
        {
         "data": [
          {
           "marker": {
            "color": "SkyBlue",
            "size": 15
           },
           "mode": "markers",
           "name": "Controlled",
           "type": "scatter",
           "x": [
            -0.48236382265278227,
            -0.28434638299005305,
            -0.27813116338200555,
            -0.2483437298537318,
            -0.1526222459029893,
            -0.18517647113192845,
            -0.2563249880561797,
            -0.1860672862540438,
            -0.09861987405658576,
            -0.08491039830729444
           ],
           "y": [
            1,
            1,
            1,
            1,
            1,
            1,
            1,
            1,
            1,
            1
           ]
          },
          {
           "mode": "markers",
           "name": "Uncontrolled",
           "opacity": 0.8,
           "type": "scatter",
           "x": [
            -1.0191030321631582,
            -1.2591904599601897,
            -1.0225673264873714,
            -0.7718722160139306,
            0.7148508201718545,
            0.4593804265657488,
            0.432221305997708,
            0.6755493930811578,
            0.35306557319401066,
            0.7194387235957306
           ],
           "y": [
            1,
            1,
            1,
            1,
            1,
            1,
            1,
            1,
            1,
            1
           ]
          }
         ]
        },
        {
         "data": [
          {
           "marker": {
            "color": "SkyBlue",
            "size": 15
           },
           "mode": "markers",
           "name": "Controlled",
           "type": "scatter",
           "x": [
            -0.4801264252408108,
            -0.29681345522942815,
            -0.27177800598189233,
            -0.24004064450511534,
            -0.15943566158702568,
            -0.19145998112760615,
            -0.2463352480615509,
            -0.2097775783488077,
            -0.09634910496067516,
            -0.08621740058353466
           ],
           "y": [
            1,
            1,
            1,
            1,
            1,
            1,
            1,
            1,
            1,
            1
           ]
          },
          {
           "mode": "markers",
           "name": "Uncontrolled",
           "opacity": 0.8,
           "type": "scatter",
           "x": [
            -1.0211529374406707,
            -1.278274400997951,
            -1.0210595795988069,
            -0.7675941671154574,
            0.7110671553125057,
            0.45327236105806895,
            0.44184218596532016,
            0.6545785742255611,
            0.354406206732139,
            0.7194409826195668
           ],
           "y": [
            1,
            1,
            1,
            1,
            1,
            1,
            1,
            1,
            1,
            1
           ]
          }
         ]
        },
        {
         "data": [
          {
           "marker": {
            "color": "SkyBlue",
            "size": 15
           },
           "mode": "markers",
           "name": "Controlled",
           "type": "scatter",
           "x": [
            -0.47532823576729116,
            -0.3058356630484127,
            -0.27621143998317316,
            -0.23355277429975316,
            -0.16776665841547403,
            -0.1827814243189138,
            -0.2448572555971352,
            -0.21127380538578433,
            -0.09453726985580335,
            -0.08644128302264523
           ],
           "y": [
            1,
            1,
            1,
            1,
            1,
            1,
            1,
            1,
            1,
            1
           ]
          },
          {
           "mode": "markers",
           "name": "Uncontrolled",
           "opacity": 0.8,
           "type": "scatter",
           "x": [
            -1.0205809598569624,
            -1.294319770558541,
            -1.0301222496857894,
            -0.7649846966368634,
            0.7056317185310169,
            0.46203773479377774,
            0.4432479639341286,
            0.6551901463733846,
            0.35545496219339756,
            0.7206780720076623
           ],
           "y": [
            1,
            1,
            1,
            1,
            1,
            1,
            1,
            1,
            1,
            1
           ]
          }
         ]
        },
        {
         "data": [
          {
           "marker": {
            "color": "SkyBlue",
            "size": 15
           },
           "mode": "markers",
           "name": "Controlled",
           "type": "scatter",
           "x": [
            -0.47716593993963996,
            -0.3086964439704974,
            -0.27176346006915436,
            -0.23454353086569557,
            -0.1712204770217699,
            -0.17311024216531995,
            -0.2560163701863002,
            -0.2163062606394824,
            -0.10207496974528452,
            -0.10292871782926838
           ],
           "y": [
            1,
            1,
            1,
            1,
            1,
            1,
            1,
            1,
            1,
            1
           ]
          },
          {
           "mode": "markers",
           "name": "Uncontrolled",
           "opacity": 0.8,
           "type": "scatter",
           "x": [
            -1.026590104868961,
            -1.304541357115281,
            -1.0305168235920914,
            -0.7696415209917185,
            0.7049201473294073,
            0.47207659606148034,
            0.4320846156138467,
            0.6523282200423486,
            0.3471987916706866,
            0.7056216994438287
           ],
           "y": [
            1,
            1,
            1,
            1,
            1,
            1,
            1,
            1,
            1,
            1
           ]
          }
         ]
        },
        {
         "data": [
          {
           "marker": {
            "color": "SkyBlue",
            "size": 15
           },
           "mode": "markers",
           "name": "Controlled",
           "type": "scatter",
           "x": [
            -0.46834456056645585,
            -0.31818326184087914,
            -0.27291136397528437,
            -0.2194599447061293,
            -0.173857445049518,
            -0.17928780003448452,
            -0.25474094989469,
            -0.2200299012397263,
            -0.0957388044220673,
            -0.11549648246318414
           ],
           "y": [
            1,
            1,
            1,
            1,
            1,
            1,
            1,
            1,
            1,
            1
           ]
          },
          {
           "mode": "markers",
           "name": "Uncontrolled",
           "opacity": 0.8,
           "type": "scatter",
           "x": [
            -1.0219716112736144,
            -1.3214846797032924,
            -1.036424796313433,
            -0.7582445552784268,
            0.7050068459494861,
            0.4665652388673948,
            0.43308381392898,
            0.6506366613782447,
            0.35269402149622,
            0.694090387188777
           ],
           "y": [
            1,
            1,
            1,
            1,
            1,
            1,
            1,
            1,
            1,
            1
           ]
          }
         ]
        },
        {
         "data": [
          {
           "marker": {
            "color": "SkyBlue",
            "size": 15
           },
           "mode": "markers",
           "name": "Controlled",
           "type": "scatter",
           "x": [
            -0.47495809546116485,
            -0.3104001866592978,
            -0.2599970337059204,
            -0.20857511623755481,
            -0.1887698762180438,
            -0.1807562489676809,
            -0.2445475916486372,
            -0.22044599392261602,
            -0.0940972356343749,
            -0.11636534134197994
           ],
           "y": [
            1,
            1,
            1,
            1,
            1,
            1,
            1,
            1,
            1,
            1
           ]
          },
          {
           "mode": "markers",
           "name": "Uncontrolled",
           "opacity": 0.8,
           "type": "scatter",
           "x": [
            -1.0326312834072302,
            -1.321537533777156,
            -1.0284228121364312,
            -0.7507023583625972,
            0.6927824714106536,
            0.4657057967950362,
            0.44302500970367115,
            0.6522014466177947,
            0.35363525578391014,
            0.6940063355006008
           ],
           "y": [
            1,
            1,
            1,
            1,
            1,
            1,
            1,
            1,
            1,
            1
           ]
          }
         ]
        },
        {
         "data": [
          {
           "marker": {
            "color": "SkyBlue",
            "size": 15
           },
           "mode": "markers",
           "name": "Controlled",
           "type": "scatter",
           "x": [
            -0.4686329764533265,
            -0.30517135712882515,
            -0.2738052947626002,
            -0.20222029650322457,
            -0.1787678090820772,
            -0.16683236894469608,
            -0.24491951808855728,
            -0.21507923763793763,
            -0.08459129301115273,
            -0.11372980107728278
           ],
           "y": [
            1,
            1,
            1,
            1,
            1,
            1,
            1,
            1,
            1,
            1
           ]
          },
          {
           "mode": "markers",
           "name": "Uncontrolled",
           "opacity": 0.8,
           "type": "scatter",
           "x": [
            -1.030469049652028,
            -1.3241372659039075,
            -1.0467180872796351,
            -0.7475026266828434,
            0.7052742775288479,
            0.48024985033952505,
            0.44270236162493154,
            0.6595703721605202,
            0.36245209981456267,
            0.697477547287483
           ],
           "y": [
            1,
            1,
            1,
            1,
            1,
            1,
            1,
            1,
            1,
            1
           ]
          }
         ]
        },
        {
         "data": [
          {
           "marker": {
            "color": "SkyBlue",
            "size": 15
           },
           "mode": "markers",
           "name": "Controlled",
           "type": "scatter",
           "x": [
            -0.4689158543169998,
            -0.3155434821151292,
            -0.2777869721351854,
            -0.19838211453389884,
            -0.1820682378407796,
            -0.15166957260452704,
            -0.24382430813938216,
            -0.21235367738956387,
            -0.06416465293853613,
            -0.10121125006998209
           ],
           "y": [
            1,
            1,
            1,
            1,
            1,
            1,
            1,
            1,
            1,
            1
           ]
          },
          {
           "mode": "markers",
           "name": "Uncontrolled",
           "opacity": 0.8,
           "type": "scatter",
           "x": [
            -1.0348906106278877,
            -1.3422273476177646,
            -1.05570279934982,
            -0.7466393211082059,
            0.7046553978489355,
            0.4964579078979029,
            0.44378187562087024,
            0.6644042932370994,
            0.382422041383509,
            0.7107593364770238
           ],
           "y": [
            1,
            1,
            1,
            1,
            1,
            1,
            1,
            1,
            1,
            1
           ]
          }
         ]
        },
        {
         "data": [
          {
           "marker": {
            "color": "SkyBlue",
            "size": 15
           },
           "mode": "markers",
           "name": "Controlled",
           "type": "scatter",
           "x": [
            -0.454581030544322,
            -0.31415522287159825,
            -0.2766052702789217,
            -0.1907815571949447,
            -0.19168977876715684,
            -0.15462817193572723,
            -0.24313444424830408,
            -0.21138599637466662,
            -0.07012446720236883,
            -0.10873023742531161
           ],
           "y": [
            1,
            1,
            1,
            1,
            1,
            1,
            1,
            1,
            1,
            1
           ]
          },
          {
           "mode": "markers",
           "name": "Uncontrolled",
           "opacity": 0.8,
           "type": "scatter",
           "x": [
            -1.024806339803768,
            -1.3489537425115379,
            -1.0595597910894317,
            -0.7417965872872849,
            0.6976411283619185,
            0.4950176894297498,
            0.444458633287769,
            0.6674812602883379,
            0.37666687914659325,
            0.7043400729249394
           ],
           "y": [
            1,
            1,
            1,
            1,
            1,
            1,
            1,
            1,
            1,
            1
           ]
          }
         ]
        },
        {
         "data": [
          {
           "marker": {
            "color": "SkyBlue",
            "size": 15
           },
           "mode": "markers",
           "name": "Controlled",
           "type": "scatter",
           "x": [
            -0.4506776848403281,
            -0.3188676915031845,
            -0.28205526772040357,
            -0.18474613864347497,
            -0.2001537631266624,
            -0.1583171139878017,
            -0.24286040253575067,
            -0.2110370109534971,
            -0.07844712464419956,
            -0.10419107314271847
           ],
           "y": [
            1,
            1,
            1,
            1,
            1,
            1,
            1,
            1,
            1,
            1
           ]
          },
          {
           "mode": "markers",
           "name": "Uncontrolled",
           "opacity": 0.8,
           "type": "scatter",
           "x": [
            -1.0248608404646533,
            -1.3618525070471084,
            -1.0700608322888807,
            -0.7383984083640215,
            0.6916347101912786,
            0.492770441334662,
            0.44478940390748745,
            0.6700243486535826,
            0.3683221522500867,
            0.7098289128399372
           ],
           "y": [
            1,
            1,
            1,
            1,
            1,
            1,
            1,
            1,
            1,
            1
           ]
          }
         ]
        },
        {
         "data": [
          {
           "marker": {
            "color": "SkyBlue",
            "size": 15
           },
           "mode": "markers",
           "name": "Controlled",
           "type": "scatter",
           "x": [
            -0.4415323349936565,
            -0.32054666961682077,
            -0.29304178773956213,
            -0.17683084254897563,
            -0.19587385606783558,
            -0.16317788878829395,
            -0.23948553920289836,
            -0.21262328869148048,
            -0.06667580764978512,
            -0.09788318653859325
           ],
           "y": [
            1,
            1,
            1,
            1,
            1,
            1,
            1,
            1,
            1,
            1
           ]
          },
          {
           "mode": "markers",
           "name": "Uncontrolled",
           "opacity": 0.8,
           "type": "scatter",
           "x": [
            -1.0195948995067106,
            -1.3719058903056365,
            -1.0862352034111793,
            -0.7329701727858589,
            0.6982715650423551,
            0.4892220621665028,
            0.4482620997201734,
            0.670724614265559,
            0.3798399435986969,
            0.7171914334320577
           ],
           "y": [
            1,
            1,
            1,
            1,
            1,
            1,
            1,
            1,
            1,
            1
           ]
          }
         ]
        },
        {
         "data": [
          {
           "marker": {
            "color": "SkyBlue",
            "size": 15
           },
           "mode": "markers",
           "name": "Controlled",
           "type": "scatter",
           "x": [
            -0.43968181113100063,
            -0.3074817707008887,
            -0.283248489209641,
            -0.17119979140897965,
            -0.2075409134004015,
            -0.16469001750761833,
            -0.240799574126147,
            -0.20876113953136366,
            -0.05808285650562216,
            -0.0896541889627592
           ],
           "y": [
            1,
            1,
            1,
            1,
            1,
            1,
            1,
            1,
            1,
            1
           ]
          },
          {
           "mode": "markers",
           "name": "Uncontrolled",
           "opacity": 0.8,
           "type": "scatter",
           "x": [
            -1.0214501425470328,
            -1.3672719337285524,
            -1.08189361958621,
            -0.7295966040087671,
            0.6889445390893433,
            0.4888779740861807,
            0.4470986339407749,
            0.6768572303319212,
            0.3885128536398306,
            0.7266296973197808
           ],
           "y": [
            1,
            1,
            1,
            1,
            1,
            1,
            1,
            1,
            1,
            1
           ]
          }
         ]
        },
        {
         "data": [
          {
           "marker": {
            "color": "SkyBlue",
            "size": 15
           },
           "mode": "markers",
           "name": "Controlled",
           "type": "scatter",
           "x": [
            -0.45297387133679934,
            -0.3094567950089902,
            -0.27408055086200284,
            -0.15883872945075414,
            -0.22467788722463425,
            -0.15825393715732342,
            -0.23152222983787332,
            -0.20896472755196258,
            -0.04323964280146714,
            -0.09579427089257882
           ],
           "y": [
            1,
            1,
            1,
            1,
            1,
            1,
            1,
            1,
            1,
            1
           ]
          },
          {
           "mode": "markers",
           "name": "Uncontrolled",
           "opacity": 0.8,
           "type": "scatter",
           "x": [
            -1.0383972174591825,
            -1.3774387715421443,
            -1.0779046422828673,
            -0.7193904746252184,
            0.6740042124757075,
            0.4963744986048635,
            0.45642738421668827,
            0.6790245999018053,
            0.4036849496037549,
            0.7220341072525828
           ],
           "y": [
            1,
            1,
            1,
            1,
            1,
            1,
            1,
            1,
            1,
            1
           ]
          }
         ]
        },
        {
         "data": [
          {
           "marker": {
            "color": "SkyBlue",
            "size": 15
           },
           "mode": "markers",
           "name": "Controlled",
           "type": "scatter",
           "x": [
            -0.4459123791880945,
            -0.32693600327950506,
            -0.28304827006855726,
            -0.17280097373151793,
            -0.21809391835924544,
            -0.15219213544059434,
            -0.24152782386419963,
            -0.2134422931408404,
            -0.041892444639948914,
            -0.09499612926600774
           ],
           "y": [
            1,
            1,
            1,
            1,
            1,
            1,
            1,
            1,
            1,
            1
           ]
          },
          {
           "mode": "markers",
           "name": "Uncontrolled",
           "opacity": 0.8,
           "type": "scatter",
           "x": [
            -1.035255131261275,
            -1.4033941949521054,
            -1.0918144142829505,
            -0.7351773291728112,
            0.6826362707073939,
            0.5038008272438442,
            0.44677505178621707,
            0.676901588949878,
            0.4057544385216121,
            0.7243986708497006
           ],
           "y": [
            1,
            1,
            1,
            1,
            1,
            1,
            1,
            1,
            1,
            1
           ]
          }
         ]
        },
        {
         "data": [
          {
           "marker": {
            "color": "SkyBlue",
            "size": 15
           },
           "mode": "markers",
           "name": "Controlled",
           "type": "scatter",
           "x": [
            -0.4532005025678646,
            -0.3286478916196559,
            -0.29169153134485964,
            -0.1913427005862286,
            -0.21983623599453467,
            -0.16087622265422435,
            -0.2396743119575149,
            -0.2141497648747776,
            -0.0472320008182325,
            -0.10099202527488416
           ],
           "y": [
            1,
            1,
            1,
            1,
            1,
            1,
            1,
            1,
            1,
            1
           ]
          },
          {
           "mode": "markers",
           "name": "Uncontrolled",
           "opacity": 0.8,
           "type": "scatter",
           "x": [
            -1.0464115868083956,
            -1.413975111321541,
            -1.1056292818678901,
            -0.755809099237553,
            0.6829831705851187,
            0.49665457582002304,
            0.44868866871468455,
            0.6783580519883542,
            0.4012180119208087,
            0.7198176193413959
           ],
           "y": [
            1,
            1,
            1,
            1,
            1,
            1,
            1,
            1,
            1,
            1
           ]
          }
         ]
        },
        {
         "data": [
          {
           "marker": {
            "color": "SkyBlue",
            "size": 15
           },
           "mode": "markers",
           "name": "Controlled",
           "type": "scatter",
           "x": [
            -0.4416189335320836,
            -0.3220171869452149,
            -0.30565903626383056,
            -0.1882916045538676,
            -0.2301319046305382,
            -0.16039824295505523,
            -0.22172146867347664,
            -0.2096952225954623,
            -0.03425850981693552,
            -0.1114296712055989
           ],
           "y": [
            1,
            1,
            1,
            1,
            1,
            1,
            1,
            1,
            1,
            1
           ]
          },
          {
           "mode": "markers",
           "name": "Uncontrolled",
           "opacity": 0.8,
           "type": "scatter",
           "x": [
            -1.038847492504378,
            -1.4161580422304145,
            -1.1250313280775184,
            -0.755346891756473,
            0.6747385681652578,
            0.4984136765085585,
            0.46668562031781735,
            0.6849137929680009,
            0.4147557013178106,
            0.7106000667851577
           ],
           "y": [
            1,
            1,
            1,
            1,
            1,
            1,
            1,
            1,
            1,
            1
           ]
          }
         ]
        },
        {
         "data": [
          {
           "marker": {
            "color": "SkyBlue",
            "size": 15
           },
           "mode": "markers",
           "name": "Controlled",
           "type": "scatter",
           "x": [
            -0.4522361922442749,
            -0.31698969193173054,
            -0.30689192229802553,
            -0.20312490339385783,
            -0.2433751061900901,
            -0.1697559710024196,
            -0.22471334607148788,
            -0.2102097810687964,
            -0.0262572141583226,
            -0.10970084679202971
           ],
           "y": [
            1,
            1,
            1,
            1,
            1,
            1,
            1,
            1,
            1,
            1
           ]
          },
          {
           "mode": "markers",
           "name": "Uncontrolled",
           "opacity": 0.8,
           "type": "scatter",
           "x": [
            -1.0532112667904439,
            -1.4198480707604944,
            -1.1320926498614403,
            -0.7726896227746994,
            0.6634596303223574,
            0.4903970846383632,
            0.46417053588762314,
            0.6866310129469848,
            0.4235465818414459,
            0.7133457548117279
           ],
           "y": [
            1,
            1,
            1,
            1,
            1,
            1,
            1,
            1,
            1,
            1
           ]
          }
         ]
        },
        {
         "data": [
          {
           "marker": {
            "color": "SkyBlue",
            "size": 15
           },
           "mode": "markers",
           "name": "Controlled",
           "type": "scatter",
           "x": [
            -0.46179735491040813,
            -0.3131218500997041,
            -0.3109253214561276,
            -0.19439193103194868,
            -0.22613195740887915,
            -0.16827869898815104,
            -0.22068997756003084,
            -0.2215736197819485,
            -0.030310507276485526,
            -0.11976197963961233
           ],
           "y": [
            1,
            1,
            1,
            1,
            1,
            1,
            1,
            1,
            1,
            1
           ]
          },
          {
           "mode": "markers",
           "name": "Uncontrolled",
           "opacity": 0.8,
           "type": "scatter",
           "x": [
            -1.0667409041749325,
            -1.4245238852316713,
            -1.1419950778375563,
            -0.7668739161082094,
            0.6825473058530299,
            0.4929186483077714,
            0.4685032388006438,
            0.6774010498965058,
            0.4205344840637908,
            0.7044148184186468
           ],
           "y": [
            1,
            1,
            1,
            1,
            1,
            1,
            1,
            1,
            1,
            1
           ]
          }
         ]
        },
        {
         "data": [
          {
           "marker": {
            "color": "SkyBlue",
            "size": 15
           },
           "mode": "markers",
           "name": "Controlled",
           "type": "scatter",
           "x": [
            -0.45431982649815017,
            -0.3053529864497018,
            -0.30918709466259325,
            -0.16912804648509575,
            -0.24020291330254526,
            -0.15729146315823606,
            -0.23231018581476862,
            -0.22658148568377032,
            -0.030198046034279943,
            -0.1236639108080003
           ],
           "y": [
            1,
            1,
            1,
            1,
            1,
            1,
            1,
            1,
            1,
            1
           ]
          },
          {
           "mode": "markers",
           "name": "Uncontrolled",
           "opacity": 0.8,
           "type": "scatter",
           "x": [
            -1.063446366197329,
            -1.4252036262318988,
            -1.1463278901907092,
            -0.7444045356499648,
            0.6705833925902367,
            0.5051157943073583,
            0.45725221304355623,
            0.6742101655621063,
            0.4215530426959374,
            0.7012619943201941
           ],
           "y": [
            1,
            1,
            1,
            1,
            1,
            1,
            1,
            1,
            1,
            1
           ]
          }
         ]
        },
        {
         "data": [
          {
           "marker": {
            "color": "SkyBlue",
            "size": 15
           },
           "mode": "markers",
           "name": "Controlled",
           "type": "scatter",
           "x": [
            -0.4562705783623423,
            -0.29021074623506204,
            -0.31796421085726506,
            -0.1612604028506012,
            -0.23672064048203323,
            -0.1633169471885055,
            -0.24028641069929235,
            -0.23494324455193555,
            -0.03458612643257422,
            -0.13502495717701954
           ],
           "y": [
            1,
            1,
            1,
            1,
            1,
            1,
            1,
            1,
            1,
            1
           ]
          },
          {
           "mode": "markers",
           "name": "Uncontrolled",
           "opacity": 0.8,
           "type": "scatter",
           "x": [
            -1.0694763267019167,
            -1.4185078972924468,
            -1.161260859409434,
            -0.7387627203642728,
            0.6759733578649151,
            0.5006505480397015,
            0.4493337182919706,
            0.6675683652585398,
            0.4183339134985106,
            0.6906659884939508
           ],
           "y": [
            1,
            1,
            1,
            1,
            1,
            1,
            1,
            1,
            1,
            1
           ]
          }
         ]
        },
        {
         "data": [
          {
           "marker": {
            "color": "SkyBlue",
            "size": 15
           },
           "mode": "markers",
           "name": "Controlled",
           "type": "scatter",
           "x": [
            -0.45546488127861495,
            -0.2858346156478318,
            -0.3178894173603208,
            -0.154301676827059,
            -0.2385086968614953,
            -0.16421400835387356,
            -0.2538966654255852,
            -0.21487418650025245,
            -0.02826454649472363,
            -0.12400304215859932
           ],
           "y": [
            1,
            1,
            1,
            1,
            1,
            1,
            1,
            1,
            1,
            1
           ]
          },
          {
           "mode": "markers",
           "name": "Uncontrolled",
           "opacity": 0.8,
           "type": "scatter",
           "x": [
            -1.0727967312904108,
            -1.4221656405646075,
            -1.1677558705785274,
            -0.7339827629502895,
            0.6762043761628589,
            0.5011803631204423,
            0.43544091970696075,
            0.6891097439859893,
            0.42581896456824964,
            0.7021240229599097
           ],
           "y": [
            1,
            1,
            1,
            1,
            1,
            1,
            1,
            1,
            1,
            1
           ]
          }
         ]
        },
        {
         "data": [
          {
           "marker": {
            "color": "SkyBlue",
            "size": 15
           },
           "mode": "markers",
           "name": "Controlled",
           "type": "scatter",
           "x": [
            -0.45159232671060134,
            -0.2901210829454621,
            -0.29779709445468827,
            -0.13950410845650263,
            -0.22770148120208622,
            -0.1786288130491073,
            -0.2618499354074784,
            -0.20788429735192093,
            -0.02181291529621401,
            -0.1213192417021283
           ],
           "y": [
            1,
            1,
            1,
            1,
            1,
            1,
            1,
            1,
            1,
            1
           ]
          },
          {
           "mode": "markers",
           "name": "Uncontrolled",
           "opacity": 0.8,
           "type": "scatter",
           "x": [
            -1.0730715824013968,
            -1.4344290524136198,
            -1.1542762571074368,
            -0.7211162069703644,
            0.6889775176132041,
            0.4880466892031578,
            0.4268069735188793,
            0.6981838141902625,
            0.43355017193984036,
            0.7054588536714526
           ],
           "y": [
            1,
            1,
            1,
            1,
            1,
            1,
            1,
            1,
            1,
            1
           ]
          }
         ]
        },
        {
         "data": [
          {
           "marker": {
            "color": "SkyBlue",
            "size": 15
           },
           "mode": "markers",
           "name": "Controlled",
           "type": "scatter",
           "x": [
            -0.4587773992136699,
            -0.284081302547685,
            -0.3095291481593493,
            -0.12751270318834249,
            -0.23707842062587436,
            -0.17823849156985166,
            -0.2792353151044038,
            -0.20921110524547282,
            -0.02315431273501697,
            -0.1179122726384508
           ],
           "y": [
            1,
            1,
            1,
            1,
            1,
            1,
            1,
            1,
            1,
            1
           ]
          },
          {
           "mode": "markers",
           "name": "Uncontrolled",
           "opacity": 0.8,
           "type": "scatter",
           "x": [
            -1.084305329962161,
            -1.436563970516951,
            -1.172059588159457,
            -0.7106763325977167,
            0.6816581610128729,
            0.48927286171474044,
            0.4085038850681993,
            0.6991463415082845,
            0.4337322758646577,
            0.7097604682976413
           ],
           "y": [
            1,
            1,
            1,
            1,
            1,
            1,
            1,
            1,
            1,
            1
           ]
          }
         ]
        },
        {
         "data": [
          {
           "marker": {
            "color": "SkyBlue",
            "size": 15
           },
           "mode": "markers",
           "name": "Controlled",
           "type": "scatter",
           "x": [
            -0.46473758607141735,
            -0.2936671717528054,
            -0.2979013892277015,
            -0.12382374673772718,
            -0.23686851469061784,
            -0.186416997977581,
            -0.27196203945369934,
            -0.21441090042430982,
            -0.034746933439312275,
            -0.11327500938006854
           ],
           "y": [
            1,
            1,
            1,
            1,
            1,
            1,
            1,
            1,
            1,
            1
           ]
          },
          {
           "mode": "markers",
           "name": "Uncontrolled",
           "opacity": 0.8,
           "type": "scatter",
           "x": [
            -1.094538236267979,
            -1.4542108311390876,
            -1.1669501590083702,
            -0.7082745943494976,
            0.6838132705647446,
            0.4819086353599407,
            0.41421430538866816,
            0.696227242330449,
            0.42372947352677304,
            0.7152826891043909
           ],
           "y": [
            1,
            1,
            1,
            1,
            1,
            1,
            1,
            1,
            1,
            1
           ]
          }
         ]
        },
        {
         "data": [
          {
           "marker": {
            "color": "SkyBlue",
            "size": 15
           },
           "mode": "markers",
           "name": "Controlled",
           "type": "scatter",
           "x": [
            -0.4611317824285343,
            -0.2945909402952833,
            -0.29237908854771516,
            -0.12075937251055462,
            -0.2321024106984908,
            -0.20110763516149047,
            -0.26889297381280364,
            -0.2115700342712712,
            -0.028527980816721112,
            -0.12487266698306977
           ],
           "y": [
            1,
            1,
            1,
            1,
            1,
            1,
            1,
            1,
            1,
            1
           ]
          },
          {
           "mode": "markers",
           "name": "Uncontrolled",
           "opacity": 0.8,
           "type": "scatter",
           "x": [
            -1.0952782710198758,
            -1.4635213587537788,
            -1.167558895220044,
            -0.7064276714122475,
            0.690404521466401,
            0.4678206976596459,
            0.41603425243181213,
            0.7012842507184316,
            0.4312321239526379,
            0.7047682732088165
           ],
           "y": [
            1,
            1,
            1,
            1,
            1,
            1,
            1,
            1,
            1,
            1
           ]
          }
         ]
        },
        {
         "data": [
          {
           "marker": {
            "color": "SkyBlue",
            "size": 15
           },
           "mode": "markers",
           "name": "Controlled",
           "type": "scatter",
           "x": [
            -0.4631633109916064,
            -0.2903577155058124,
            -0.2997899380944447,
            -0.12733298456588146,
            -0.25200446040165597,
            -0.18889839038434558,
            -0.275552500669425,
            -0.22515722966174948,
            -0.03309578867081059,
            -0.12245250865429329
           ],
           "y": [
            1,
            1,
            1,
            1,
            1,
            1,
            1,
            1,
            1,
            1
           ]
          },
          {
           "mode": "markers",
           "name": "Uncontrolled",
           "opacity": 0.8,
           "type": "scatter",
           "x": [
            -1.1015402436417208,
            -1.467732619691375,
            -1.18099022753293,
            -0.7141708303176143,
            0.6724235687344482,
            0.4802395110121416,
            0.4081703316504738,
            0.6900192225266959,
            0.42806551851202146,
            0.7080993645981368
           ],
           "y": [
            1,
            1,
            1,
            1,
            1,
            1,
            1,
            1,
            1,
            1
           ]
          }
         ]
        },
        {
         "data": [
          {
           "marker": {
            "color": "SkyBlue",
            "size": 15
           },
           "mode": "markers",
           "name": "Controlled",
           "type": "scatter",
           "x": [
            -0.46779319878440967,
            -0.2774010041046005,
            -0.3110071199753488,
            -0.13341876967515942,
            -0.24786289279673987,
            -0.19428128913032447,
            -0.27973300201158974,
            -0.2395801397522699,
            -0.0311406726443431,
            -0.12652267135991324
           ],
           "y": [
            1,
            1,
            1,
            1,
            1,
            1,
            1,
            1,
            1,
            1
           ]
          },
          {
           "mode": "markers",
           "name": "Uncontrolled",
           "opacity": 0.8,
           "type": "scatter",
           "x": [
            -1.1105070308168585,
            -1.4631324679492657,
            -1.1984959031608704,
            -0.7216422185087511,
            0.6782169780099828,
            0.4753980170718246,
            0.40252738528977794,
            0.6774588956162813,
            0.4313493116309232,
            0.7048850925500322
           ],
           "y": [
            1,
            1,
            1,
            1,
            1,
            1,
            1,
            1,
            1,
            1
           ]
          }
         ]
        },
        {
         "data": [
          {
           "marker": {
            "color": "SkyBlue",
            "size": 15
           },
           "mode": "markers",
           "name": "Controlled",
           "type": "scatter",
           "x": [
            -0.467162145405698,
            -0.2803950982982278,
            -0.31363022976988647,
            -0.13937354598414778,
            -0.26601589583842705,
            -0.19858715442389413,
            -0.2602781115906425,
            -0.23633833907603322,
            -0.03440159268939338,
            -0.12066270205600604
           ],
           "y": [
            1,
            1,
            1,
            1,
            1,
            1,
            1,
            1,
            1,
            1
           ]
          },
          {
           "mode": "markers",
           "name": "Uncontrolled",
           "opacity": 0.8,
           "type": "scatter",
           "x": [
            -1.1143430938319463,
            -1.4740200469993245,
            -1.2078037144324625,
            -0.7292639807313757,
            0.6617503911719452,
            0.47149415744032525,
            0.420246889163701,
            0.682077923394646,
            0.4295925090524764,
            0.7114312445270137
           ],
           "y": [
            1,
            1,
            1,
            1,
            1,
            1,
            1,
            1,
            1,
            1
           ]
          }
         ]
        },
        {
         "data": [
          {
           "marker": {
            "color": "SkyBlue",
            "size": 15
           },
           "mode": "markers",
           "name": "Controlled",
           "type": "scatter",
           "x": [
            -0.4781880024253169,
            -0.2887738630817533,
            -0.3006458827303135,
            -0.13039084446292792,
            -0.2757039258856223,
            -0.21832930146359894,
            -0.2710737239121457,
            -0.2558364702352826,
            -0.03021514105345326,
            -0.12541415028938985
           ],
           "y": [
            1,
            1,
            1,
            1,
            1,
            1,
            1,
            1,
            1,
            1
           ]
          },
          {
           "mode": "markers",
           "name": "Uncontrolled",
           "opacity": 0.8,
           "type": "scatter",
           "x": [
            -1.1297653318806393,
            -1.4904666446656782,
            -1.2014759378877666,
            -0.7220813817282069,
            0.6535124295730812,
            0.4520153486197592,
            0.4083862874259279,
            0.6640936218663323,
            0.4350728531990245,
            0.7075811146912667
           ],
           "y": [
            1,
            1,
            1,
            1,
            1,
            1,
            1,
            1,
            1,
            1
           ]
          }
         ]
        },
        {
         "data": [
          {
           "marker": {
            "color": "SkyBlue",
            "size": 15
           },
           "mode": "markers",
           "name": "Controlled",
           "type": "scatter",
           "x": [
            -0.47499290788289156,
            -0.2843954557961629,
            -0.29023708196515596,
            -0.12043556565117348,
            -0.2656275866259719,
            -0.22684089164013987,
            -0.2699417154415636,
            -0.26080737545540833,
            -0.04835254301001192,
            -0.13350559033040535
           ],
           "y": [
            1,
            1,
            1,
            1,
            1,
            1,
            1,
            1,
            1,
            1
           ]
          },
          {
           "mode": "markers",
           "name": "Uncontrolled",
           "opacity": 0.8,
           "type": "scatter",
           "x": [
            -1.131173622000037,
            -1.494435642952577,
            -1.1974172881324026,
            -0.7137818250262322,
            0.6647461348145738,
            0.4432769379812952,
            0.40804413724665267,
            0.6601080023397895,
            0.4184722260804488,
            0.7003978328707666
           ],
           "y": [
            1,
            1,
            1,
            1,
            1,
            1,
            1,
            1,
            1,
            1
           ]
          }
         ]
        },
        {
         "data": [
          {
           "marker": {
            "color": "SkyBlue",
            "size": 15
           },
           "mode": "markers",
           "name": "Controlled",
           "type": "scatter",
           "x": [
            -0.4810370940588271,
            -0.27568549887159305,
            -0.28580486115191356,
            -0.1238997250186292,
            -0.28163220356625046,
            -0.2124045287390928,
            -0.2685665252919918,
            -0.26013748182134394,
            -0.03527449277052674,
            -0.13209804307437958
           ],
           "y": [
            1,
            1,
            1,
            1,
            1,
            1,
            1,
            1,
            1,
            1
           ]
          },
          {
           "mode": "markers",
           "name": "Uncontrolled",
           "opacity": 0.8,
           "type": "scatter",
           "x": [
            -1.1417152244375717,
            -1.4940038885620206,
            -1.1991017814024927,
            -0.7187907418754829,
            0.650075492611341,
            0.4572628992386591,
            0.4080583785208921,
            0.6617204002585093,
            0.43259811853142094,
            0.7025556299770119
           ],
           "y": [
            1,
            1,
            1,
            1,
            1,
            1,
            1,
            1,
            1,
            1
           ]
          }
         ]
        },
        {
         "data": [
          {
           "marker": {
            "color": "SkyBlue",
            "size": 15
           },
           "mode": "markers",
           "name": "Controlled",
           "type": "scatter",
           "x": [
            -0.486695478439067,
            -0.2769010703236967,
            -0.27031434829032225,
            -0.13386209652810946,
            -0.2831181095582372,
            -0.21154315283367262,
            -0.27435528902189205,
            -0.25977778125173967,
            -0.04189479851024739,
            -0.14358337277034441
           ],
           "y": [
            1,
            1,
            1,
            1,
            1,
            1,
            1,
            1,
            1,
            1
           ]
          },
          {
           "mode": "markers",
           "name": "Uncontrolled",
           "opacity": 0.8,
           "type": "scatter",
           "x": [
            -1.1520346835942605,
            -1.503276034693359,
            -1.1896283105478074,
            -0.7303684998263998,
            0.649725979560269,
            0.458089357935438,
            0.40090977181357623,
            0.6629354674196891,
            0.42740318654965354,
            0.6919203921395924
           ],
           "y": [
            1,
            1,
            1,
            1,
            1,
            1,
            1,
            1,
            1,
            1
           ]
          }
         ]
        },
        {
         "data": [
          {
           "marker": {
            "color": "SkyBlue",
            "size": 15
           },
           "mode": "markers",
           "name": "Controlled",
           "type": "scatter",
           "x": [
            -0.47820544716638935,
            -0.27539091791357445,
            -0.27593652247991407,
            -0.12671508641095794,
            -0.28427475665772683,
            -0.21673631973256963,
            -0.2861861243117583,
            -0.25140859670892096,
            -0.05906735583828607,
            -0.12535756513067403
           ],
           "y": [
            1,
            1,
            1,
            1,
            1,
            1,
            1,
            1,
            1,
            1
           ]
          },
          {
           "mode": "markers",
           "name": "Uncontrolled",
           "opacity": 0.8,
           "type": "scatter",
           "x": [
            -1.1483290086128723,
            -1.5098860604489113,
            -1.2008307759118095,
            -0.7251219789091056,
            0.649766093347948,
            0.45289680872536614,
            0.38759289106911726,
            0.6721236002672989,
            0.41145201858324365,
            0.7107500063761711
           ],
           "y": [
            1,
            1,
            1,
            1,
            1,
            1,
            1,
            1,
            1,
            1
           ]
          }
         ]
        },
        {
         "data": [
          {
           "marker": {
            "color": "SkyBlue",
            "size": 15
           },
           "mode": "markers",
           "name": "Controlled",
           "type": "scatter",
           "x": [
            -0.47425466109183834,
            -0.2667410854256062,
            -0.2728918005786973,
            -0.12347919949492349,
            -0.3048622774910849,
            -0.20800881453080292,
            -0.26911202681976765,
            -0.2518892287846184,
            -0.05590431574501313,
            -0.1313861984136331
           ],
           "y": [
            1,
            1,
            1,
            1,
            1,
            1,
            1,
            1,
            1,
            1
           ]
          },
          {
           "mode": "markers",
           "name": "Uncontrolled",
           "opacity": 0.8,
           "type": "scatter",
           "x": [
            -1.1490133748598073,
            -1.5093236913057644,
            -1.2035339770739315,
            -0.7236056627285463,
            0.6301918401484192,
            0.46131044899263285,
            0.40283051420468413,
            0.6728243129029959,
            0.4153325437956432,
            0.7056796465534206
           ],
           "y": [
            1,
            1,
            1,
            1,
            1,
            1,
            1,
            1,
            1,
            1
           ]
          }
         ]
        },
        {
         "data": [
          {
           "marker": {
            "color": "SkyBlue",
            "size": 15
           },
           "mode": "markers",
           "name": "Controlled",
           "type": "scatter",
           "x": [
            -0.480011835909266,
            -0.25527307695820467,
            -0.2551612937209905,
            -0.12087950757022184,
            -0.29295912062799684,
            -0.19334547861896093,
            -0.2744099731984654,
            -0.27542315670590944,
            -0.05897805260347454,
            -0.13377878066026558
           ],
           "y": [
            1,
            1,
            1,
            1,
            1,
            1,
            1,
            1,
            1,
            1
           ]
          },
          {
           "mode": "markers",
           "name": "Uncontrolled",
           "opacity": 0.8,
           "type": "scatter",
           "x": [
            -1.159303465966082,
            -1.5058877283712044,
            -1.1914558202849008,
            -0.7226948578419657,
            0.6428500984151845,
            0.47594415294399045,
            0.3962633401715549,
            0.6504440336697944,
            0.4129963567205401,
            0.704198861894177
           ],
           "y": [
            1,
            1,
            1,
            1,
            1,
            1,
            1,
            1,
            1,
            1
           ]
          }
         ]
        },
        {
         "data": [
          {
           "marker": {
            "color": "SkyBlue",
            "size": 15
           },
           "mode": "markers",
           "name": "Controlled",
           "type": "scatter",
           "x": [
            -0.49274460362648465,
            -0.25051441543509495,
            -0.2598044327220827,
            -0.10480476009983399,
            -0.2974992363218663,
            -0.19910515045501428,
            -0.2850271276245263,
            -0.27049953514855124,
            -0.06495094043891726,
            -0.13431180320816527
           ],
           "y": [
            1,
            1,
            1,
            1,
            1,
            1,
            1,
            1,
            1,
            1
           ]
          },
          {
           "mode": "markers",
           "name": "Uncontrolled",
           "opacity": 0.8,
           "type": "scatter",
           "x": [
            -1.1767232379857888,
            -1.508833540993463,
            -1.2012877955883938,
            -0.708369612321112,
            0.6393426964925771,
            0.4706553545996747,
            0.38432405300176936,
            0.6558373042154259,
            0.40777478245837456,
            0.7045536098906546
           ],
           "y": [
            1,
            1,
            1,
            1,
            1,
            1,
            1,
            1,
            1,
            1
           ]
          }
         ]
        },
        {
         "data": [
          {
           "marker": {
            "color": "SkyBlue",
            "size": 15
           },
           "mode": "markers",
           "name": "Controlled",
           "type": "scatter",
           "x": [
            -0.49849585358117676,
            -0.24162479800758122,
            -0.25462326492506826,
            -0.1027612429216935,
            -0.2969995694147944,
            -0.19772452921984493,
            -0.28301117057970965,
            -0.28560559730394836,
            -0.06763407734931233,
            -0.12960238712686908
           ],
           "y": [
            1,
            1,
            1,
            1,
            1,
            1,
            1,
            1,
            1,
            1
           ]
          },
          {
           "mode": "markers",
           "name": "Uncontrolled",
           "opacity": 0.8,
           "type": "scatter",
           "x": [
            -1.187438931302667,
            -1.507603938921447,
            -1.2015495601974573,
            -0.7077267328963388,
            0.640778974799348,
            0.4723491639604186,
            0.38462917914322975,
            0.6414353495047843,
            0.405734923354591,
            0.7101201239491268
           ],
           "y": [
            1,
            1,
            1,
            1,
            1,
            1,
            1,
            1,
            1,
            1
           ]
          }
         ]
        },
        {
         "data": [
          {
           "marker": {
            "color": "SkyBlue",
            "size": 15
           },
           "mode": "markers",
           "name": "Controlled",
           "type": "scatter",
           "x": [
            -0.4884429608964823,
            -0.251528121700313,
            -0.24930877233312831,
            -0.0856301662357705,
            -0.30166775235373805,
            -0.20582332365517303,
            -0.28300021211680904,
            -0.2808227593027861,
            -0.07299516652565075,
            -0.1519907656622009
           ],
           "y": [
            1,
            1,
            1,
            1,
            1,
            1,
            1,
            1,
            1,
            1
           ]
          },
          {
           "mode": "markers",
           "name": "Uncontrolled",
           "opacity": 0.8,
           "type": "scatter",
           "x": [
            -1.1824578959610013,
            -1.5249163495518159,
            -1.2015151534575514,
            -0.6920413835825772,
            0.6371750242924256,
            0.4646427749789377,
            0.38301929578358795,
            0.6464747785303334,
            0.40104152881770544,
            0.6887410746514194
           ],
           "y": [
            1,
            1,
            1,
            1,
            1,
            1,
            1,
            1,
            1,
            1
           ]
          }
         ]
        },
        {
         "data": [
          {
           "marker": {
            "color": "SkyBlue",
            "size": 15
           },
           "mode": "markers",
           "name": "Controlled",
           "type": "scatter",
           "x": [
            -0.48371555425114243,
            -0.24949238161306225,
            -0.24393140224602286,
            -0.08678163453570946,
            -0.29424027153736465,
            -0.19436891186144348,
            -0.2932738725144506,
            -0.28859570857424904,
            -0.08144309521275059,
            -0.14683320755643067
           ],
           "y": [
            1,
            1,
            1,
            1,
            1,
            1,
            1,
            1,
            1,
            1
           ]
          },
          {
           "mode": "markers",
           "name": "Uncontrolled",
           "opacity": 0.8,
           "type": "scatter",
           "x": [
            -1.1825741934804481,
            -1.5307080279996197,
            -1.2013601022321312,
            -0.6940942103844533,
            0.645441910220207,
            0.47629450778814725,
            0.3711467764081312,
            0.639222749441954,
            0.39309280893078824,
            0.694377114263882
           ],
           "y": [
            1,
            1,
            1,
            1,
            1,
            1,
            1,
            1,
            1,
            1
           ]
          }
         ]
        },
        {
         "data": [
          {
           "marker": {
            "color": "SkyBlue",
            "size": 15
           },
           "mode": "markers",
           "name": "Controlled",
           "type": "scatter",
           "x": [
            -0.4815404719781682,
            -0.25012530259920746,
            -0.22578865029646406,
            -0.08454866216339456,
            -0.2859254428869248,
            -0.2039766575358628,
            -0.28820349042852766,
            -0.29124253282238854,
            -0.07111627025195898,
            -0.14002141285094322
           ],
           "y": [
            1,
            1,
            1,
            1,
            1,
            1,
            1,
            1,
            1,
            1
           ]
          },
          {
           "mode": "markers",
           "name": "Uncontrolled",
           "opacity": 0.8,
           "type": "scatter",
           "x": [
            -1.185197208172787,
            -1.5391237804316296,
            -1.188353242680736,
            -0.6927003877906536,
            0.6547476385032924,
            0.4672075643625737,
            0.37430968945370613,
            0.6367400863265402,
            0.4037634725662336,
            0.7017499247082496
           ],
           "y": [
            1,
            1,
            1,
            1,
            1,
            1,
            1,
            1,
            1,
            1
           ]
          }
         ]
        },
        {
         "data": [
          {
           "marker": {
            "color": "SkyBlue",
            "size": 15
           },
           "mode": "markers",
           "name": "Controlled",
           "type": "scatter",
           "x": [
            -0.46996492367268766,
            -0.2521166476657567,
            -0.2302799249266641,
            -0.0965719777187879,
            -0.29344696889449307,
            -0.20441890235195745,
            -0.2998936269343557,
            -0.29588585168756976,
            -0.07820546391661191,
            -0.13183945293660795
           ],
           "y": [
            1,
            1,
            1,
            1,
            1,
            1,
            1,
            1,
            1,
            1
           ]
          },
          {
           "mode": "markers",
           "name": "Uncontrolled",
           "opacity": 0.8,
           "type": "scatter",
           "x": [
            -1.1783432173075676,
            -1.5489270283775556,
            -1.1973529791769166,
            -0.7055162790916087,
            0.6483702053721323,
            0.4670086527917044,
            0.3609475215715708,
            0.6321854505006588,
            0.3973514657723507,
            0.7108274566709043
           ],
           "y": [
            1,
            1,
            1,
            1,
            1,
            1,
            1,
            1,
            1,
            1
           ]
          }
         ]
        },
        {
         "data": [
          {
           "marker": {
            "color": "SkyBlue",
            "size": 15
           },
           "mode": "markers",
           "name": "Controlled",
           "type": "scatter",
           "x": [
            -0.4772776611462984,
            -0.258845362254931,
            -0.22354314547741913,
            -0.11048361822687015,
            -0.30270141691012853,
            -0.19114573285118477,
            -0.3080074186016555,
            -0.29283883217588097,
            -0.07871937313566231,
            -0.13863711546383173
           ],
           "y": [
            1,
            1,
            1,
            1,
            1,
            1,
            1,
            1,
            1,
            1
           ]
          },
          {
           "mode": "markers",
           "name": "Uncontrolled",
           "opacity": 0.8,
           "type": "scatter",
           "x": [
            -1.1901959646483344,
            -1.5634889629276758,
            -1.1952647365111553,
            -0.7206901857417697,
            0.6400902408439002,
            0.4804006533918535,
            0.35084416610701735,
            0.6351671795810052,
            0.39733998402421133,
            0.705023120929264
           ],
           "y": [
            1,
            1,
            1,
            1,
            1,
            1,
            1,
            1,
            1,
            1
           ]
          }
         ]
        },
        {
         "data": [
          {
           "marker": {
            "color": "SkyBlue",
            "size": 15
           },
           "mode": "markers",
           "name": "Controlled",
           "type": "scatter",
           "x": [
            -0.4779939601187658,
            -0.2468515095695889,
            -0.229563319277995,
            -0.13632132691051,
            -0.29838708832393945,
            -0.19483965595847796,
            -0.29357858163642764,
            -0.2925103147622106,
            -0.07337547336216567,
            -0.15478591300197206
           ],
           "y": [
            1,
            1,
            1,
            1,
            1,
            1,
            1,
            1,
            1,
            1
           ]
          },
          {
           "mode": "markers",
           "name": "Uncontrolled",
           "opacity": 0.8,
           "type": "scatter",
           "x": [
            -1.195683020336567,
            -1.5595836197828297,
            -1.2058085761819561,
            -0.7481732948374541,
            0.6452128386002157,
            0.47718392361723544,
            0.36303570960338266,
            0.6354265941616549,
            0.4031590289228218,
            0.689654235286966
           ],
           "y": [
            1,
            1,
            1,
            1,
            1,
            1,
            1,
            1,
            1,
            1
           ]
          }
         ]
        },
        {
         "data": [
          {
           "marker": {
            "color": "SkyBlue",
            "size": 15
           },
           "mode": "markers",
           "name": "Controlled",
           "type": "scatter",
           "x": [
            -0.47081237932931,
            -0.23468315205434528,
            -0.22246158912779368,
            -0.15010473969857058,
            -0.31668646763773467,
            -0.18376239348927287,
            -0.28691099100014716,
            -0.28516051592863595,
            -0.07067647935607546,
            -0.1748622144170573
           ],
           "y": [
            1,
            1,
            1,
            1,
            1,
            1,
            1,
            1,
            1,
            1
           ]
          },
          {
           "mode": "markers",
           "name": "Uncontrolled",
           "opacity": 0.8,
           "type": "scatter",
           "x": [
            -1.1932603934377795,
            -1.5550679599810695,
            -1.2034242245702749,
            -0.7642957109873394,
            0.6278942083780389,
            0.4886651203262885,
            0.36777448711404026,
            0.6425954897582344,
            0.4063123997917746,
            0.6699876288543003
           ],
           "y": [
            1,
            1,
            1,
            1,
            1,
            1,
            1,
            1,
            1,
            1
           ]
          }
         ]
        },
        {
         "data": [
          {
           "marker": {
            "color": "SkyBlue",
            "size": 15
           },
           "mode": "markers",
           "name": "Controlled",
           "type": "scatter",
           "x": [
            -0.4677326612764384,
            -0.24086896990857673,
            -0.22763642935173012,
            -0.14679074677818824,
            -0.31094047434975897,
            -0.1804724231204148,
            -0.2647465368977518,
            -0.26536882348928403,
            -0.053200648628461744,
            -0.17805515617474424
           ],
           "y": [
            1,
            1,
            1,
            1,
            1,
            1,
            1,
            1,
            1,
            1
           ]
          },
          {
           "mode": "markers",
           "name": "Uncontrolled",
           "opacity": 0.8,
           "type": "scatter",
           "x": [
            -1.1947819307388476,
            -1.5686640447548292,
            -1.21320050370927,
            -0.7636785661036677,
            0.6344015998698024,
            0.49265889872364915,
            0.3881922743304618,
            0.6623210863147035,
            0.4242066163054928,
            0.6668312516647374
           ],
           "y": [
            1,
            1,
            1,
            1,
            1,
            1,
            1,
            1,
            1,
            1
           ]
          }
         ]
        },
        {
         "data": [
          {
           "marker": {
            "color": "SkyBlue",
            "size": 15
           },
           "mode": "markers",
           "name": "Controlled",
           "type": "scatter",
           "x": [
            -0.4557446146269748,
            -0.25009971395189207,
            -0.23331945703012563,
            -0.15853045677791786,
            -0.3034169766770256,
            -0.183873047484422,
            -0.2692988140811011,
            -0.2683287766875751,
            -0.050555928738654984,
            -0.18629944852152838
           ],
           "y": [
            1,
            1,
            1,
            1,
            1,
            1,
            1,
            1,
            1,
            1
           ]
          },
          {
           "mode": "markers",
           "name": "Uncontrolled",
           "opacity": 0.8,
           "type": "scatter",
           "x": [
            -1.1873378260572511,
            -1.5855078797270934,
            -1.2234805417985484,
            -0.7778334403081653,
            0.6427521918893344,
            0.4900542158261491,
            0.38266654211634804,
            0.6599890559642617,
            0.42765145532324167,
            0.6585606937598317
           ],
           "y": [
            1,
            1,
            1,
            1,
            1,
            1,
            1,
            1,
            1,
            1
           ]
          }
         ]
        },
        {
         "data": [
          {
           "marker": {
            "color": "SkyBlue",
            "size": 15
           },
           "mode": "markers",
           "name": "Controlled",
           "type": "scatter",
           "x": [
            -0.452804962988473,
            -0.2552693486941855,
            -0.22499502551694595,
            -0.16015423234614348,
            -0.3038149614678488,
            -0.17834415343041668,
            -0.2683027824621661,
            -0.2866705459186508,
            -0.04993394007521334,
            -0.20394907967602197
           ],
           "y": [
            1,
            1,
            1,
            1,
            1,
            1,
            1,
            1,
            1,
            1
           ]
          },
          {
           "mode": "markers",
           "name": "Uncontrolled",
           "opacity": 0.8,
           "type": "scatter",
           "x": [
            -1.188709880962461,
            -1.5985139121669494,
            -1.2199938854192478,
            -0.7821939799935701,
            0.64331898202169,
            0.49631688350400255,
            0.38240776818636285,
            0.6420351610656319,
            0.4290560670955705,
            0.6406440024864796
           ],
           "y": [
            1,
            1,
            1,
            1,
            1,
            1,
            1,
            1,
            1,
            1
           ]
          }
         ]
        },
        {
         "data": [
          {
           "marker": {
            "color": "SkyBlue",
            "size": 15
           },
           "mode": "markers",
           "name": "Controlled",
           "type": "scatter",
           "x": [
            -0.45430003632723576,
            -0.2501399405582035,
            -0.22860302449204256,
            -0.1553788613932603,
            -0.300179402399444,
            -0.17043907362259972,
            -0.2735512824329504,
            -0.29893855622048326,
            -0.05550451908323865,
            -0.20881783666301895
           ],
           "y": [
            1,
            1,
            1,
            1,
            1,
            1,
            1,
            1,
            1,
            1
           ]
          },
          {
           "mode": "markers",
           "name": "Uncontrolled",
           "opacity": 0.8,
           "type": "scatter",
           "x": [
            -1.1944699142771695,
            -1.6014961433426549,
            -1.2282513330140954,
            -0.7802493739639502,
            0.6479252749486332,
            0.5052339522821012,
            0.375942364004153,
            0.6295815383804402,
            0.42442345488980443,
            0.6350639362935365
           ],
           "y": [
            1,
            1,
            1,
            1,
            1,
            1,
            1,
            1,
            1,
            1
           ]
          }
         ]
        },
        {
         "data": [
          {
           "marker": {
            "color": "SkyBlue",
            "size": 15
           },
           "mode": "markers",
           "name": "Controlled",
           "type": "scatter",
           "x": [
            -0.46564379702241987,
            -0.24201885514936847,
            -0.2291987213996681,
            -0.15024842984295178,
            -0.2987574261424459,
            -0.16400332186071967,
            -0.26976539151264,
            -0.30672090526420936,
            -0.04711299308200648,
            -0.20521418431233682
           ],
           "y": [
            1,
            1,
            1,
            1,
            1,
            1,
            1,
            1,
            1,
            1
           ]
          },
          {
           "mode": "markers",
           "name": "Uncontrolled",
           "opacity": 0.8,
           "type": "scatter",
           "x": [
            -1.2101428245321886,
            -1.601308432084923,
            -1.2337082321228174,
            -0.7779407690320038,
            0.6504289869258478,
            0.5129829664692069,
            0.3783115039647722,
            0.6212294610214598,
            0.43357983620966123,
            0.6377839862362065
           ],
           "y": [
            1,
            1,
            1,
            1,
            1,
            1,
            1,
            1,
            1,
            1
           ]
          }
         ]
        },
        {
         "data": [
          {
           "marker": {
            "color": "SkyBlue",
            "size": 15
           },
           "mode": "markers",
           "name": "Controlled",
           "type": "scatter",
           "x": [
            -0.48972417138829044,
            -0.24512469268008275,
            -0.22162433219753425,
            -0.1552696328822877,
            -0.2933151663371759,
            -0.16686525299506882,
            -0.2580845961671134,
            -0.2950158292214875,
            -0.030690684544609947,
            -0.20434251907670364
           ],
           "y": [
            1,
            1,
            1,
            1,
            1,
            1,
            1,
            1,
            1,
            1
           ]
          },
          {
           "mode": "markers",
           "name": "Uncontrolled",
           "opacity": 0.8,
           "type": "scatter",
           "x": [
            -1.2388229487159503,
            -1.612146800701911,
            -1.2309810685995102,
            -0.7856807317817401,
            0.657019961304318,
            0.511672576082739,
            0.38865634048492953,
            0.6321871371450869,
            0.4510912786009852,
            0.6378743447080483
           ],
           "y": [
            1,
            1,
            1,
            1,
            1,
            1,
            1,
            1,
            1,
            1
           ]
          }
         ]
        },
        {
         "data": [
          {
           "marker": {
            "color": "SkyBlue",
            "size": 15
           },
           "mode": "markers",
           "name": "Controlled",
           "type": "scatter",
           "x": [
            -0.48521813310768624,
            -0.24741059024980055,
            -0.23311517588696015,
            -0.159827375011556,
            -0.2916674834991426,
            -0.1579187313651394,
            -0.256019975613031,
            -0.3054764662215696,
            -0.03293499600722667,
            -0.21400231003468728
           ],
           "y": [
            1,
            1,
            1,
            1,
            1,
            1,
            1,
            1,
            1,
            1
           ]
          },
          {
           "mode": "markers",
           "name": "Uncontrolled",
           "opacity": 0.8,
           "type": "scatter",
           "x": [
            -1.2394331810429353,
            -1.6222435690916897,
            -1.246959033377302,
            -0.792947428433657,
            0.6598956148168669,
            0.5221275370450498,
            0.3898279294181263,
            0.6212898946088855,
            0.45049341351620986,
            0.6276003768570976
           ],
           "y": [
            1,
            1,
            1,
            1,
            1,
            1,
            1,
            1,
            1,
            1
           ]
          }
         ]
        },
        {
         "data": [
          {
           "marker": {
            "color": "SkyBlue",
            "size": 15
           },
           "mode": "markers",
           "name": "Controlled",
           "type": "scatter",
           "x": [
            -0.4842968466741949,
            -0.23707008013757944,
            -0.21903473418381522,
            -0.15606520178986313,
            -0.2829051560414359,
            -0.14090717047126872,
            -0.25767767055656876,
            -0.2951446193445677,
            -0.04496539810406096,
            -0.2160576657284068
           ],
           "y": [
            1,
            1,
            1,
            1,
            1,
            1,
            1,
            1,
            1,
            1
           ]
          },
          {
           "mode": "markers",
           "name": "Uncontrolled",
           "opacity": 0.8,
           "type": "scatter",
           "x": [
            -1.243537386277561,
            -1.619799182140189,
            -1.2377883976153154,
            -0.7920521898460332,
            0.6699793008392996,
            0.5409902391141761,
            0.38725732158040765,
            0.630824425745297,
            0.4401262140873669,
            0.6246152250959459
           ],
           "y": [
            1,
            1,
            1,
            1,
            1,
            1,
            1,
            1,
            1,
            1
           ]
          }
         ]
        },
        {
         "data": [
          {
           "marker": {
            "color": "SkyBlue",
            "size": 15
           },
           "mode": "markers",
           "name": "Controlled",
           "type": "scatter",
           "x": [
            -0.4829624640000706,
            -0.22602545322146986,
            -0.22496252513388681,
            -0.1711717938950685,
            -0.28103879280259364,
            -0.1357209576916409,
            -0.25122704382041944,
            -0.29422792814722715,
            -0.05527958355777649,
            -0.21038280027927106
           ],
           "y": [
            1,
            1,
            1,
            1,
            1,
            1,
            1,
            1,
            1,
            1
           ]
          },
          {
           "mode": "markers",
           "name": "Uncontrolled",
           "opacity": 0.8,
           "type": "scatter",
           "x": [
            -1.2472305629323484,
            -1.6164520663722854,
            -1.2482739379414103,
            -0.8099601098309798,
            0.6734442549243069,
            0.5485030624858273,
            0.39290239073453676,
            0.6312502395198052,
            0.4310219658987196,
            0.6293188192452603
           ],
           "y": [
            1,
            1,
            1,
            1,
            1,
            1,
            1,
            1,
            1,
            1
           ]
          }
         ]
        },
        {
         "data": [
          {
           "marker": {
            "color": "SkyBlue",
            "size": 15
           },
           "mode": "markers",
           "name": "Controlled",
           "type": "scatter",
           "x": [
            -0.4854908505040662,
            -0.21959670321266173,
            -0.22986688348099854,
            -0.16372834368114958,
            -0.2835392101303777,
            -0.13973076209194768,
            -0.2610461881206824,
            -0.28865598405781534,
            -0.06308249228909085,
            -0.21301353727413397
           ],
           "y": [
            1,
            1,
            1,
            1,
            1,
            1,
            1,
            1,
            1,
            1
           ]
          },
          {
           "mode": "markers",
           "name": "Uncontrolled",
           "opacity": 0.8,
           "type": "scatter",
           "x": [
            -1.254735296289057,
            -1.6173617831177547,
            -1.2579373718060052,
            -0.8057757525957587,
            0.6726393402838658,
            0.5469181859571448,
            0.3824612099509233,
            0.6362385248973855,
            0.42397422401732715,
            0.6258775966656457
           ],
           "y": [
            1,
            1,
            1,
            1,
            1,
            1,
            1,
            1,
            1,
            1
           ]
          }
         ]
        },
        {
         "data": [
          {
           "marker": {
            "color": "SkyBlue",
            "size": 15
           },
           "mode": "markers",
           "name": "Controlled",
           "type": "scatter",
           "x": [
            -0.48452269133132964,
            -0.21566888553777522,
            -0.22960649663953275,
            -0.15621464426358478,
            -0.28039203215843334,
            -0.13354873564917114,
            -0.269856370112474,
            -0.2897591603900764,
            -0.07442208011301787,
            -0.19417264429296413
           ],
           "y": [
            1,
            1,
            1,
            1,
            1,
            1,
            1,
            1,
            1,
            1
           ]
          },
          {
           "mode": "markers",
           "name": "Uncontrolled",
           "opacity": 0.8,
           "type": "scatter",
           "x": [
            -1.2588250037932012,
            -1.6206114133456047,
            -1.262693512804419,
            -0.801370460368699,
            0.6774079890130523,
            0.5553480566263784,
            0.3726986471154111,
            0.634769817284853,
            0.41317765948329144,
            0.6437135245948299
           ],
           "y": [
            1,
            1,
            1,
            1,
            1,
            1,
            1,
            1,
            1,
            1
           ]
          }
         ]
        },
        {
         "data": [
          {
           "marker": {
            "color": "SkyBlue",
            "size": 15
           },
           "mode": "markers",
           "name": "Controlled",
           "type": "scatter",
           "x": [
            -0.48524854196366446,
            -0.2279955425130636,
            -0.22173703490896426,
            -0.16669646577635072,
            -0.28417697868468483,
            -0.14422249012148775,
            -0.2597493127318017,
            -0.27761458528966354,
            -0.0893966150612059,
            -0.18705138025649498
           ],
           "y": [
            1,
            1,
            1,
            1,
            1,
            1,
            1,
            1,
            1,
            1
           ]
          },
          {
           "mode": "markers",
           "name": "Uncontrolled",
           "opacity": 0.8,
           "type": "scatter",
           "x": [
            -1.2646258477218684,
            -1.6400264538634526,
            -1.2598474179283674,
            -0.8148190007062991,
            0.675290316002221,
            0.5470613811383211,
            0.3816775622014177,
            0.6465309384579717,
            0.39851111202787015,
            0.6502671611081247
           ],
           "y": [
            1,
            1,
            1,
            1,
            1,
            1,
            1,
            1,
            1,
            1
           ]
          }
         ]
        },
        {
         "data": [
          {
           "marker": {
            "color": "SkyBlue",
            "size": 15
           },
           "mode": "markers",
           "name": "Controlled",
           "type": "scatter",
           "x": [
            -0.47702003332737597,
            -0.22996240600201967,
            -0.23363450711546416,
            -0.16579026987085993,
            -0.2858988859414,
            -0.134707129574554,
            -0.25796383832334246,
            -0.27665542444505886,
            -0.10002973054547966,
            -0.19033273034721335
           ],
           "y": [
            1,
            1,
            1,
            1,
            1,
            1,
            1,
            1,
            1,
            1
           ]
          },
          {
           "mode": "markers",
           "name": "Uncontrolled",
           "opacity": 0.8,
           "type": "scatter",
           "x": [
            -1.2614460399142977,
            -1.649480325004633,
            -1.2764494267606241,
            -0.8171117078341713,
            0.6751100328017862,
            0.5585754879186937,
            0.38273510659926635,
            0.6476262958752096,
            0.38752713984780496,
            0.6466474627543505
           ],
           "y": [
            1,
            1,
            1,
            1,
            1,
            1,
            1,
            1,
            1,
            1
           ]
          }
         ]
        },
        {
         "data": [
          {
           "marker": {
            "color": "SkyBlue",
            "size": 15
           },
           "mode": "markers",
           "name": "Controlled",
           "type": "scatter",
           "x": [
            -0.46272806838517744,
            -0.2386035136722162,
            -0.21674439203990153,
            -0.16540284591308327,
            -0.29879771146888506,
            -0.14764876586804307,
            -0.25166676913507524,
            -0.28415035384633097,
            -0.10268190931417788,
            -0.19288281700482174
           ],
           "y": [
            1,
            1,
            1,
            1,
            1,
            1,
            1,
            1,
            1,
            1
           ]
          },
          {
           "mode": "markers",
           "name": "Uncontrolled",
           "opacity": 0.8,
           "type": "scatter",
           "x": [
            -1.2520387737371932,
            -1.66568941517257,
            -1.2646483296898525,
            -0.8198647548300462,
            0.663629760157692,
            0.5479042799123041,
            0.38839340002399503,
            0.6403379167023892,
            0.3842269235040476,
            0.6435608997613594
           ],
           "y": [
            1,
            1,
            1,
            1,
            1,
            1,
            1,
            1,
            1,
            1
           ]
          }
         ]
        },
        {
         "data": [
          {
           "marker": {
            "color": "SkyBlue",
            "size": 15
           },
           "mode": "markers",
           "name": "Controlled",
           "type": "scatter",
           "x": [
            -0.4688540099603798,
            -0.23486492172439064,
            -0.22699293569603363,
            -0.16262891546523925,
            -0.2888157284174615,
            -0.1483530097118998,
            -0.2563953753862596,
            -0.2724083817109755,
            -0.11711155208146236,
            -0.17932940408336978
           ],
           "y": [
            1,
            1,
            1,
            1,
            1,
            1,
            1,
            1,
            1,
            1
           ]
          },
          {
           "mode": "markers",
           "name": "Uncontrolled",
           "opacity": 0.8,
           "type": "scatter",
           "x": [
            -1.262707943651349,
            -1.6698673494833958,
            -1.279450127013015,
            -0.8202702243410168,
            0.674782444624027,
            0.5491040651218683,
            0.3832867450863022,
            0.6520319438622243,
            0.3690389097957211,
            0.6566489215866756
           ],
           "y": [
            1,
            1,
            1,
            1,
            1,
            1,
            1,
            1,
            1,
            1
           ]
          }
         ]
        },
        {
         "data": [
          {
           "marker": {
            "color": "SkyBlue",
            "size": 15
           },
           "mode": "markers",
           "name": "Controlled",
           "type": "scatter",
           "x": [
            -0.47221106121505013,
            -0.21208616396225613,
            -0.2148534951675956,
            -0.17070707536107463,
            -0.303585023375521,
            -0.15639225976145912,
            -0.23889978374843968,
            -0.2809328523614227,
            -0.10796007406504689,
            -0.18435277596336253
           ],
           "y": [
            1,
            1,
            1,
            1,
            1,
            1,
            1,
            1,
            1,
            1
           ]
          },
          {
           "mode": "markers",
           "name": "Uncontrolled",
           "opacity": 0.8,
           "type": "scatter",
           "x": [
            -1.270775429350637,
            -1.654868246283649,
            -1.272175779062106,
            -0.8314548949346158,
            0.6613091560430734,
            0.5428609431186775,
            0.40030587433858494,
            0.6438566092367747,
            0.37706770469800505,
            0.6513903595170255
           ],
           "y": [
            1,
            1,
            1,
            1,
            1,
            1,
            1,
            1,
            1,
            1
           ]
          }
         ]
        },
        {
         "data": [
          {
           "marker": {
            "color": "SkyBlue",
            "size": 15
           },
           "mode": "markers",
           "name": "Controlled",
           "type": "scatter",
           "x": [
            -0.46976601329399603,
            -0.2195149501289982,
            -0.19841704238932192,
            -0.1702231379129278,
            -0.30964116092704125,
            -0.1594824235755822,
            -0.23684839344512984,
            -0.2887655180947699,
            -0.09160214673045078,
            -0.17976612043438378
           ],
           "y": [
            1,
            1,
            1,
            1,
            1,
            1,
            1,
            1,
            1,
            1
           ]
          },
          {
           "mode": "markers",
           "name": "Uncontrolled",
           "opacity": 0.8,
           "type": "scatter",
           "x": [
            -1.2730366764533458,
            -1.669425188394921,
            -1.2601946669099626,
            -0.8343643187258089,
            0.656387532684167,
            0.5413477946157134,
            0.40238068966863033,
            0.6360729098613647,
            0.3925103318285365,
            0.6558086823925983
           ],
           "y": [
            1,
            1,
            1,
            1,
            1,
            1,
            1,
            1,
            1,
            1
           ]
          }
         ]
        },
        {
         "data": [
          {
           "marker": {
            "color": "SkyBlue",
            "size": 15
           },
           "mode": "markers",
           "name": "Controlled",
           "type": "scatter",
           "x": [
            -0.48170293066637826,
            -0.22344656471764426,
            -0.20451045581066363,
            -0.17179067182995786,
            -0.31292292601397753,
            -0.16951418652082131,
            -0.22926280782286235,
            -0.29553556258249764,
            -0.10517925605120515,
            -0.1748981958954083
           ],
           "y": [
            1,
            1,
            1,
            1,
            1,
            1,
            1,
            1,
            1,
            1
           ]
          },
          {
           "mode": "markers",
           "name": "Uncontrolled",
           "opacity": 0.8,
           "type": "scatter",
           "x": [
            -1.2896659752510065,
            -1.6807385240900423,
            -1.2701240506258114,
            -0.8392614125315626,
            0.6541022558701829,
            0.5328148420117782,
            0.4101345890942753,
            0.6291076003140772,
            0.37861127514130427,
            0.6607164448802844
           ],
           "y": [
            1,
            1,
            1,
            1,
            1,
            1,
            1,
            1,
            1,
            1
           ]
          }
         ]
        },
        {
         "data": [
          {
           "marker": {
            "color": "SkyBlue",
            "size": 15
           },
           "mode": "markers",
           "name": "Controlled",
           "type": "scatter",
           "x": [
            -0.4762281141841215,
            -0.22921260937212254,
            -0.20208807475497612,
            -0.17266625187546442,
            -0.3191944099156515,
            -0.16931010015731407,
            -0.22345149573604411,
            -0.2891335815439903,
            -0.12261220823991059,
            -0.17636275981184932
           ],
           "y": [
            1,
            1,
            1,
            1,
            1,
            1,
            1,
            1,
            1,
            1
           ]
          },
          {
           "mode": "markers",
           "name": "Uncontrolled",
           "opacity": 0.8,
           "type": "scatter",
           "x": [
            -1.2890935984255965,
            -1.6940056514090787,
            -1.271691209894694,
            -0.8435708293163516,
            0.6487535838775698,
            0.5342420837966686,
            0.4162941579103854,
            0.6351978155038014,
            0.3604844909255325,
            0.6594223759713337
           ],
           "y": [
            1,
            1,
            1,
            1,
            1,
            1,
            1,
            1,
            1,
            1
           ]
          }
         ]
        },
        {
         "data": [
          {
           "marker": {
            "color": "SkyBlue",
            "size": 15
           },
           "mode": "markers",
           "name": "Controlled",
           "type": "scatter",
           "x": [
            -0.4563404347153469,
            -0.21704499413285097,
            -0.21942697845839243,
            -0.15992313011778914,
            -0.32229658033576813,
            -0.14627760218847208,
            -0.21847185324623455,
            -0.28631792782021914,
            -0.1306249216086163,
            -0.17620276381634087
           ],
           "y": [
            1,
            1,
            1,
            1,
            1,
            1,
            1,
            1,
            1,
            1
           ]
          },
          {
           "mode": "markers",
           "name": "Uncontrolled",
           "opacity": 0.8,
           "type": "scatter",
           "x": [
            -1.2739545732410016,
            -1.6895844467247563,
            -1.2929548167495395,
            -0.8342622300968734,
            0.6464348038843313,
            0.5584716823629087,
            0.42189538774967644,
            0.6379729948235768,
            0.3511912367770854,
            0.6597149202459536
           ],
           "y": [
            1,
            1,
            1,
            1,
            1,
            1,
            1,
            1,
            1,
            1
           ]
          }
         ]
        },
        {
         "data": [
          {
           "marker": {
            "color": "SkyBlue",
            "size": 15
           },
           "mode": "markers",
           "name": "Controlled",
           "type": "scatter",
           "x": [
            -0.43370487709705774,
            -0.22572113824002188,
            -0.24597714825605602,
            -0.1660071013186688,
            -0.32494756387461166,
            -0.13763793928649368,
            -0.21459731669449106,
            -0.29286150929389115,
            -0.12374506298676942,
            -0.17509673818119087
           ],
           "y": [
            1,
            1,
            1,
            1,
            1,
            1,
            1,
            1,
            1,
            1
           ]
          },
          {
           "mode": "markers",
           "name": "Uncontrolled",
           "opacity": 0.8,
           "type": "scatter",
           "x": [
            -1.2556612424790972,
            -1.7057308232522579,
            -1.3240267258907428,
            -0.8434542499916023,
            0.6445639243714298,
            0.5689517817688297,
            0.4266129287352791,
            0.6314499579914806,
            0.35652551680152733,
            0.6608537898864183
           ],
           "y": [
            1,
            1,
            1,
            1,
            1,
            1,
            1,
            1,
            1,
            1
           ]
          }
         ]
        },
        {
         "data": [
          {
           "marker": {
            "color": "SkyBlue",
            "size": 15
           },
           "mode": "markers",
           "name": "Controlled",
           "type": "scatter",
           "x": [
            -0.44775242387496855,
            -0.21245132698271077,
            -0.26396411769771483,
            -0.16047994487706105,
            -0.31198664240011986,
            -0.13630969603404103,
            -0.22234935315292248,
            -0.2934644376119707,
            -0.10802840765853647,
            -0.1585936874004684
           ],
           "y": [
            1,
            1,
            1,
            1,
            1,
            1,
            1,
            1,
            1,
            1
           ]
          },
          {
           "mode": "markers",
           "name": "Uncontrolled",
           "opacity": 0.8,
           "type": "scatter",
           "x": [
            -1.2736257445903314,
            -1.700128906908791,
            -1.3473749386722988,
            -0.8411460973703606,
            0.6582583692288522,
            0.5723938419187549,
            0.4197252972514651,
            0.6306343814836474,
            0.3708500024999506,
            0.6772686936779567
           ],
           "y": [
            1,
            1,
            1,
            1,
            1,
            1,
            1,
            1,
            1,
            1
           ]
          }
         ]
        },
        {
         "data": [
          {
           "marker": {
            "color": "SkyBlue",
            "size": 15
           },
           "mode": "markers",
           "name": "Controlled",
           "type": "scatter",
           "x": [
            -0.45958097957695443,
            -0.21113059945614965,
            -0.26649680005049425,
            -0.16153333598228567,
            -0.2974275804462507,
            -0.12841860780458694,
            -0.23525350818434718,
            -0.296325599039962,
            -0.10565840987768484,
            -0.14230692942609433
           ],
           "y": [
            1,
            1,
            1,
            1,
            1,
            1,
            1,
            1,
            1,
            1
           ]
          },
          {
           "mode": "markers",
           "name": "Uncontrolled",
           "opacity": 0.8,
           "type": "scatter",
           "x": [
            -1.2897226621364322,
            -1.705990565461278,
            -1.3557783320116794,
            -0.8452838741656944,
            0.6738021011095883,
            0.5824258423713954,
            0.4073515985489924,
            0.6274829075376785,
            0.37231947943075205,
            0.6938179968968857
           ],
           "y": [
            1,
            1,
            1,
            1,
            1,
            1,
            1,
            1,
            1,
            1
           ]
          }
         ]
        },
        {
         "data": [
          {
           "marker": {
            "color": "SkyBlue",
            "size": 15
           },
           "mode": "markers",
           "name": "Controlled",
           "type": "scatter",
           "x": [
            -0.464188302668118,
            -0.2014201886078216,
            -0.24700411328596364,
            -0.16142578831974785,
            -0.3082063863757758,
            -0.11954285611881221,
            -0.24150005737884803,
            -0.28834255468364134,
            -0.10941984367342678,
            -0.13720037355101125
           ],
           "y": [
            1,
            1,
            1,
            1,
            1,
            1,
            1,
            1,
            1,
            1
           ]
          },
          {
           "mode": "markers",
           "name": "Uncontrolled",
           "opacity": 0.8,
           "type": "scatter",
           "x": [
            -1.2989513568894602,
            -1.7033670050220657,
            -1.3422132193314567,
            -0.8482900254067577,
            0.6642311297267861,
            0.593636004288916,
            0.4012763540748328,
            0.63504738133924,
            0.36776304690781514,
            0.6994867853978929
           ],
           "y": [
            1,
            1,
            1,
            1,
            1,
            1,
            1,
            1,
            1,
            1
           ]
          }
         ]
        },
        {
         "data": [
          {
           "marker": {
            "color": "SkyBlue",
            "size": 15
           },
           "mode": "markers",
           "name": "Controlled",
           "type": "scatter",
           "x": [
            -0.4734785421055697,
            -0.1871747029753315,
            -0.24758745699595208,
            -0.13951943643655892,
            -0.31981346786237363,
            -0.11949654757881226,
            -0.23532089113914537,
            -0.2893733863589007,
            -0.11536777210399288,
            -0.14600660687312061
           ],
           "y": [
            1,
            1,
            1,
            1,
            1,
            1,
            1,
            1,
            1,
            1
           ]
          },
          {
           "mode": "markers",
           "name": "Uncontrolled",
           "opacity": 0.8,
           "type": "scatter",
           "x": [
            -1.3129680186773294,
            -1.6960437571282336,
            -1.3481273362543855,
            -0.8295018004228863,
            0.6536827905741373,
            0.5962231754597193,
            0.40755949369647376,
            0.6337839117697336,
            0.36097086408003104,
            0.6914720907629416
           ],
           "y": [
            1,
            1,
            1,
            1,
            1,
            1,
            1,
            1,
            1,
            1
           ]
          }
         ]
        },
        {
         "data": [
          {
           "marker": {
            "color": "SkyBlue",
            "size": 15
           },
           "mode": "markers",
           "name": "Controlled",
           "type": "scatter",
           "x": [
            -0.4870627841712815,
            -0.19156414945464406,
            -0.23288269201660555,
            -0.12004366214897066,
            -0.3222089563273279,
            -0.12117828534439869,
            -0.23787839287276763,
            -0.29210025899067454,
            -0.12592611104609783,
            -0.14146784998324413
           ],
           "y": [
            1,
            1,
            1,
            1,
            1,
            1,
            1,
            1,
            1,
            1
           ]
          },
          {
           "mode": "markers",
           "name": "Uncontrolled",
           "opacity": 0.8,
           "type": "scatter",
           "x": [
            -1.3313846782548917,
            -1.7070868875995495,
            -1.3388900872995766,
            -0.8126718153329224,
            0.652205611641366,
            0.5972526376692118,
            0.40524698101361656,
            0.6308755996565738,
            0.3495113227985902,
            0.6966896767140688
           ],
           "y": [
            1,
            1,
            1,
            1,
            1,
            1,
            1,
            1,
            1,
            1
           ]
          }
         ]
        },
        {
         "data": [
          {
           "marker": {
            "color": "SkyBlue",
            "size": 15
           },
           "mode": "markers",
           "name": "Controlled",
           "type": "scatter",
           "x": [
            -0.4899467813170561,
            -0.1811636248489298,
            -0.23660632539412432,
            -0.1101669461673396,
            -0.3345220352518709,
            -0.12436821155364486,
            -0.22973830707624457,
            -0.29030390222329855,
            -0.1339378198352262,
            -0.15540244848660506
           ],
           "y": [
            1,
            1,
            1,
            1,
            1,
            1,
            1,
            1,
            1,
            1
           ]
          },
          {
           "mode": "markers",
           "name": "Uncontrolled",
           "opacity": 0.8,
           "type": "scatter",
           "x": [
            -1.3393723534745403,
            -1.7035986802591374,
            -1.34765285548539,
            -0.8048952682751381,
            0.6407175421062865,
            0.5967640852441873,
            0.4136635758229992,
            0.6325379807853744,
            0.34036928255654936,
            0.6836082453652931
           ],
           "y": [
            1,
            1,
            1,
            1,
            1,
            1,
            1,
            1,
            1,
            1
           ]
          }
         ]
        },
        {
         "data": [
          {
           "marker": {
            "color": "SkyBlue",
            "size": 15
           },
           "mode": "markers",
           "name": "Controlled",
           "type": "scatter",
           "x": [
            -0.4785016091871041,
            -0.19122870751469376,
            -0.23992486779849792,
            -0.11873742721485922,
            -0.33614857383581453,
            -0.13635362476423019,
            -0.22930744835288108,
            -0.2731265614448277,
            -0.1276158788173788,
            -0.15349624450960342
           ],
           "y": [
            1,
            1,
            1,
            1,
            1,
            1,
            1,
            1,
            1,
            1
           ]
          },
          {
           "mode": "markers",
           "name": "Uncontrolled",
           "opacity": 0.8,
           "type": "scatter",
           "x": [
            -1.3330433364723329,
            -1.7203186558213457,
            -1.356147541297285,
            -0.8152807569159002,
            0.6396733094408161,
            0.5873702345221214,
            0.4146275677938543,
            0.649754329804463,
            0.3454560606172098,
            0.6859950015638495
           ],
           "y": [
            1,
            1,
            1,
            1,
            1,
            1,
            1,
            1,
            1,
            1
           ]
          }
         ]
        },
        {
         "data": [
          {
           "marker": {
            "color": "SkyBlue",
            "size": 15
           },
           "mode": "markers",
           "name": "Controlled",
           "type": "scatter",
           "x": [
            -0.46702067477166953,
            -0.1892019455225144,
            -0.24136018359487693,
            -0.11412799683425989,
            -0.32703442894510537,
            -0.14593183882198896,
            -0.23069809574416747,
            -0.2792224260372496,
            -0.12219922416195382,
            -0.15123911964376993
           ],
           "y": [
            1,
            1,
            1,
            1,
            1,
            1,
            1,
            1,
            1,
            1
           ]
          },
          {
           "mode": "markers",
           "name": "Uncontrolled",
           "opacity": 0.8,
           "type": "scatter",
           "x": [
            -1.3264677488776326,
            -1.7252155854540572,
            -1.3628183098578883,
            -0.8125954381460128,
            0.6492873008603889,
            0.5798446074708108,
            0.4137847793302849,
            0.6442848469503205,
            0.34968513372164634,
            0.688788447586774
           ],
           "y": [
            1,
            1,
            1,
            1,
            1,
            1,
            1,
            1,
            1,
            1
           ]
          }
         ]
        },
        {
         "data": [
          {
           "marker": {
            "color": "SkyBlue",
            "size": 15
           },
           "mode": "markers",
           "name": "Controlled",
           "type": "scatter",
           "x": [
            -0.45296620672863497,
            -0.19033791370243075,
            -0.23010396357143134,
            -0.11418988352957357,
            -0.32628486858032774,
            -0.12981812464242876,
            -0.22557012475192456,
            -0.29818884080857433,
            -0.12523237553460134,
            -0.1650429107495361
           ],
           "y": [
            1,
            1,
            1,
            1,
            1,
            1,
            1,
            1,
            1,
            1
           ]
          },
          {
           "mode": "markers",
           "name": "Uncontrolled",
           "opacity": 0.8,
           "type": "scatter",
           "x": [
            -1.317090186905558,
            -1.733182753718826,
            -1.3568338757647018,
            -0.814514324168749,
            0.6506915564265048,
            0.5977260502790394,
            0.41941648816833593,
            0.6257094386595966,
            0.34562835351427434,
            0.6755985542185359
           ],
           "y": [
            1,
            1,
            1,
            1,
            1,
            1,
            1,
            1,
            1,
            1
           ]
          }
         ]
        },
        {
         "data": [
          {
           "marker": {
            "color": "SkyBlue",
            "size": 15
           },
           "mode": "markers",
           "name": "Controlled",
           "type": "scatter",
           "x": [
            -0.460071304019379,
            -0.1786921489028143,
            -0.24148656163052412,
            -0.11455170016091899,
            -0.32684143715227715,
            -0.138474770990454,
            -0.22185192723637046,
            -0.3062252194327894,
            -0.13092285040501073,
            -0.16271690083880502
           ],
           "y": [
            1,
            1,
            1,
            1,
            1,
            1,
            1,
            1,
            1,
            1
           ]
          },
          {
           "mode": "markers",
           "name": "Uncontrolled",
           "opacity": 0.8,
           "type": "scatter",
           "x": [
            -1.3285785582077458,
            -1.7284690138923289,
            -1.373203076032987,
            -0.8167801504263903,
            0.6508448542668405,
            0.5914266203493961,
            0.4238980519512879,
            0.617464841951086,
            0.33887496812099543,
            0.6782127597636014
           ],
           "y": [
            1,
            1,
            1,
            1,
            1,
            1,
            1,
            1,
            1,
            1
           ]
          }
         ]
        },
        {
         "data": [
          {
           "marker": {
            "color": "SkyBlue",
            "size": 15
           },
           "mode": "markers",
           "name": "Controlled",
           "type": "scatter",
           "x": [
            -0.46461833271264547,
            -0.17112021940281838,
            -0.23590502414239767,
            -0.10778693176938473,
            -0.3340497556724542,
            -0.126910944445777,
            -0.23110855725134327,
            -0.3097313176036302,
            -0.13510086142013153,
            -0.17383586256379777
           ],
           "y": [
            1,
            1,
            1,
            1,
            1,
            1,
            1,
            1,
            1,
            1
           ]
          },
          {
           "mode": "markers",
           "name": "Uncontrolled",
           "opacity": 0.8,
           "type": "scatter",
           "x": [
            -1.3376323878223038,
            -1.7274595546947535,
            -1.3729549800079675,
            -0.8120384940782831,
            0.6443627217433557,
            0.605089457074684,
            0.41541312209739617,
            0.6136291592737175,
            0.3334157245325452,
            0.6674168207152776
           ],
           "y": [
            1,
            1,
            1,
            1,
            1,
            1,
            1,
            1,
            1,
            1
           ]
          }
         ]
        },
        {
         "data": [
          {
           "marker": {
            "color": "SkyBlue",
            "size": 15
           },
           "mode": "markers",
           "name": "Controlled",
           "type": "scatter",
           "x": [
            -0.456146932666013,
            -0.16703639823605307,
            -0.24683823513260025,
            -0.10369423569088822,
            -0.3293494354512005,
            -0.13832643678492268,
            -0.24775816121104727,
            -0.3102025122829032,
            -0.12800308862262086,
            -0.171146282753894
           ],
           "y": [
            1,
            1,
            1,
            1,
            1,
            1,
            1,
            1,
            1,
            1
           ]
          },
          {
           "mode": "markers",
           "name": "Uncontrolled",
           "opacity": 0.8,
           "type": "scatter",
           "x": [
            -1.3337984781863388,
            -1.7298021918898068,
            -1.3891854835833544,
            -0.8097334480119854,
            0.6496777552903178,
            0.5962151038866816,
            0.399290306118053,
            0.6127195731850547,
            0.3392063342265458,
            0.67011403275952
           ],
           "y": [
            1,
            1,
            1,
            1,
            1,
            1,
            1,
            1,
            1,
            1
           ]
          }
         ]
        },
        {
         "data": [
          {
           "marker": {
            "color": "SkyBlue",
            "size": 15
           },
           "mode": "markers",
           "name": "Controlled",
           "type": "scatter",
           "x": [
            -0.4723284804740311,
            -0.1871952852252177,
            -0.2545565535812684,
            -0.1124729600261417,
            -0.3324083417769654,
            -0.14752126531048687,
            -0.26058854199280823,
            -0.2770292732441508,
            -0.12264956110831579,
            -0.18201162428618223
           ],
           "y": [
            1,
            1,
            1,
            1,
            1,
            1,
            1,
            1,
            1,
            1
           ]
          },
          {
           "mode": "markers",
           "name": "Uncontrolled",
           "opacity": 0.8,
           "type": "scatter",
           "x": [
            -1.354502005722842,
            -1.7562227403020547,
            -1.40261077961827,
            -0.8202556539674458,
            0.6473089641166587,
            0.5890806747270564,
            0.3863769679794603,
            0.6453476644883962,
            0.3435353326633896,
            0.6592703912664184
           ],
           "y": [
            1,
            1,
            1,
            1,
            1,
            1,
            1,
            1,
            1,
            1
           ]
          }
         ]
        },
        {
         "data": [
          {
           "marker": {
            "color": "SkyBlue",
            "size": 15
           },
           "mode": "markers",
           "name": "Controlled",
           "type": "scatter",
           "x": [
            -0.4706506152177682,
            -0.20364235880529466,
            -0.24764569289501384,
            -0.10832535802851452,
            -0.3331104590561003,
            -0.15257881692776912,
            -0.266977413228805,
            -0.27972185905411195,
            -0.12243104871217303,
            -0.1737064228401988
           ],
           "y": [
            1,
            1,
            1,
            1,
            1,
            1,
            1,
            1,
            1,
            1
           ]
          },
          {
           "mode": "markers",
           "name": "Uncontrolled",
           "opacity": 0.8,
           "type": "scatter",
           "x": [
            -1.3577687998432961,
            -1.7795270487874948,
            -1.4017335257371886,
            -0.8179765071594461,
            0.6471444697571186,
            0.58563645785857,
            0.3793778893338082,
            0.6430599537359276,
            0.34272529347949116,
            0.6672505187092405
           ],
           "y": [
            1,
            1,
            1,
            1,
            1,
            1,
            1,
            1,
            1,
            1
           ]
          }
         ]
        },
        {
         "data": [
          {
           "marker": {
            "color": "SkyBlue",
            "size": 15
           },
           "mode": "markers",
           "name": "Controlled",
           "type": "scatter",
           "x": [
            -0.47319547546289725,
            -0.1915791320952859,
            -0.24440363905183893,
            -0.10658621231090236,
            -0.3289035578181815,
            -0.15042735560548612,
            -0.2718116355051086,
            -0.2802343260471923,
            -0.12096061699697162,
            -0.1624543362995861
           ],
           "y": [
            1,
            1,
            1,
            1,
            1,
            1,
            1,
            1,
            1,
            1
           ]
          },
          {
           "mode": "markers",
           "name": "Uncontrolled",
           "opacity": 0.8,
           "type": "scatter",
           "x": [
            -1.3652602411788393,
            -1.7748551213440062,
            -1.404300595237698,
            -0.8179876996258771,
            0.6518180245270546,
            0.5892568848947283,
            0.37377699082795535,
            0.6429071725233875,
            0.34320237189445757,
            0.6784094413806901
           ],
           "y": [
            1,
            1,
            1,
            1,
            1,
            1,
            1,
            1,
            1,
            1
           ]
          }
         ]
        },
        {
         "data": [
          {
           "marker": {
            "color": "SkyBlue",
            "size": 15
           },
           "mode": "markers",
           "name": "Controlled",
           "type": "scatter",
           "x": [
            -0.4694846020464005,
            -0.21185877277542656,
            -0.23541031871597445,
            -0.1299699535331854,
            -0.34544597799613985,
            -0.17030550897514987,
            -0.2709765094857367,
            -0.27672528459679435,
            -0.12486899190474227,
            -0.1693583017448624
           ],
           "y": [
            1,
            1,
            1,
            1,
            1,
            1,
            1,
            1,
            1,
            1
           ]
          },
          {
           "mode": "markers",
           "name": "Uncontrolled",
           "opacity": 0.8,
           "type": "scatter",
           "x": [
            -1.3665641736508338,
            -1.8021735908468806,
            -1.4010308814251557,
            -0.8431244908921361,
            0.6358472000283295,
            0.5708659847232337,
            0.37373217284328647,
            0.6467339212369594,
            0.33840732412864116,
            0.6717227713757118
           ],
           "y": [
            1,
            1,
            1,
            1,
            1,
            1,
            1,
            1,
            1,
            1
           ]
          }
         ]
        },
        {
         "data": [
          {
           "marker": {
            "color": "SkyBlue",
            "size": 15
           },
           "mode": "markers",
           "name": "Controlled",
           "type": "scatter",
           "x": [
            -0.4741352927805746,
            -0.1934249092318617,
            -0.23469866252916088,
            -0.1323218954562319,
            -0.3465805464719087,
            -0.17533426277738573,
            -0.278523288977904,
            -0.27480440934532063,
            -0.13363665850750217,
            -0.16305552192475642
           ],
           "y": [
            1,
            1,
            1,
            1,
            1,
            1,
            1,
            1,
            1,
            1
           ]
          },
          {
           "mode": "markers",
           "name": "Uncontrolled",
           "opacity": 0.8,
           "type": "scatter",
           "x": [
            -1.3761708507888237,
            -1.791373933579481,
            -1.405738354211323,
            -0.8477883884207073,
            0.6349255261354508,
            0.5667416446303449,
            0.3652168245052353,
            0.6490802123969217,
            0.3285321548642246,
            0.6780996222365308
           ],
           "y": [
            1,
            1,
            1,
            1,
            1,
            1,
            1,
            1,
            1,
            1
           ]
          }
         ]
        },
        {
         "data": [
          {
           "marker": {
            "color": "SkyBlue",
            "size": 15
           },
           "mode": "markers",
           "name": "Controlled",
           "type": "scatter",
           "x": [
            -0.4745439550291978,
            -0.19851689720986473,
            -0.25114514995255477,
            -0.1327087174356867,
            -0.35120871146899424,
            -0.1782775728151786,
            -0.26781830534817896,
            -0.28294957811984467,
            -0.125935980280767,
            -0.1618666689455155
           ],
           "y": [
            1,
            1,
            1,
            1,
            1,
            1,
            1,
            1,
            1,
            1
           ]
          },
          {
           "mode": "markers",
           "name": "Uncontrolled",
           "opacity": 0.8,
           "type": "scatter",
           "x": [
            -1.3816185800886414,
            -1.8035433748710694,
            -1.4276540840205516,
            -0.8506295775428294,
            0.6305190792258866,
            0.5643828125011311,
            0.3747346394857718,
            0.6414173751010848,
            0.334940619162284,
            0.679529855750441
           ],
           "y": [
            1,
            1,
            1,
            1,
            1,
            1,
            1,
            1,
            1,
            1
           ]
          }
         ]
        },
        {
         "data": [
          {
           "marker": {
            "color": "SkyBlue",
            "size": 15
           },
           "mode": "markers",
           "name": "Controlled",
           "type": "scatter",
           "x": [
            -0.4697281483610721,
            -0.20655798184014731,
            -0.24326387340227812,
            -0.11853039662980497,
            -0.34843701685410705,
            -0.1741666689537298,
            -0.2542492754101437,
            -0.28508750087354456,
            -0.11267482870292943,
            -0.15696531331969657
           ],
           "y": [
            1,
            1,
            1,
            1,
            1,
            1,
            1,
            1,
            1,
            1
           ]
          },
          {
           "mode": "markers",
           "name": "Uncontrolled",
           "opacity": 0.8,
           "type": "scatter",
           "x": [
            -1.381846755750146,
            -1.8187868166178216,
            -1.4256634045267718,
            -0.8389054094137065,
            0.6334295572212388,
            0.5691420034585238,
            0.3873942734642414,
            0.639536987637593,
            0.34705934001111344,
            0.6846762874944444
           ],
           "y": [
            1,
            1,
            1,
            1,
            1,
            1,
            1,
            1,
            1,
            1
           ]
          }
         ]
        },
        {
         "data": [
          {
           "marker": {
            "color": "SkyBlue",
            "size": 15
           },
           "mode": "markers",
           "name": "Controlled",
           "type": "scatter",
           "x": [
            -0.454280662863762,
            -0.20854919716767678,
            -0.23562379701932998,
            -0.12280788345842057,
            -0.34412459127250006,
            -0.1807853479834279,
            -0.24813255495154313,
            -0.2874310332730299,
            -0.1161865200175342,
            -0.1562006757072138
           ],
           "y": [
            1,
            1,
            1,
            1,
            1,
            1,
            1,
            1,
            1,
            1
           ]
          },
          {
           "mode": "markers",
           "name": "Uncontrolled",
           "opacity": 0.8,
           "type": "scatter",
           "x": [
            -1.3713309003673986,
            -1.828271272579992,
            -1.4235339501109554,
            -0.8451557165721242,
            0.6378889443387563,
            0.563357840965547,
            0.39314030913657816,
            0.6374607762210055,
            0.3428093703994931,
            0.6858864565504778
           ],
           "y": [
            1,
            1,
            1,
            1,
            1,
            1,
            1,
            1,
            1,
            1
           ]
          }
         ]
        },
        {
         "data": [
          {
           "marker": {
            "color": "SkyBlue",
            "size": 15
           },
           "mode": "markers",
           "name": "Controlled",
           "type": "scatter",
           "x": [
            -0.45872581484283925,
            -0.19959800631652877,
            -0.24543541737072036,
            -0.12525763190569628,
            -0.34818187078402496,
            -0.1882435656107937,
            -0.24678037461115093,
            -0.2890344716271425,
            -0.12317189866065494,
            -0.15813055025051884
           ],
           "y": [
            1,
            1,
            1,
            1,
            1,
            1,
            1,
            1,
            1,
            1
           ]
          },
          {
           "mode": "markers",
           "name": "Uncontrolled",
           "opacity": 0.8,
           "type": "scatter",
           "x": [
            -1.380361554788375,
            -1.8268647195618164,
            -1.438590879703689,
            -0.849701147794765,
            0.6340454822079312,
            0.5565164835879219,
            0.39439904995312147,
            0.636077275238664,
            0.33496482275838974,
            0.6844792256334722
           ],
           "y": [
            1,
            1,
            1,
            1,
            1,
            1,
            1,
            1,
            1,
            1
           ]
          }
         ]
        },
        {
         "data": [
          {
           "marker": {
            "color": "SkyBlue",
            "size": 15
           },
           "mode": "markers",
           "name": "Controlled",
           "type": "scatter",
           "x": [
            -0.45621556252376855,
            -0.22063538140118355,
            -0.25190643866458257,
            -0.12963687921612208,
            -0.34730357812069246,
            -0.17859648450304233,
            -0.24132732512263805,
            -0.291344218028941,
            -0.1118621165138063,
            -0.1656921846687361
           ],
           "y": [
            1,
            1,
            1,
            1,
            1,
            1,
            1,
            1,
            1,
            1
           ]
          },
          {
           "mode": "markers",
           "name": "Uncontrolled",
           "opacity": 0.8,
           "type": "scatter",
           "x": [
            -1.382516836187523,
            -1.8551736361665527,
            -1.4506354943030864,
            -0.8563078622647038,
            0.6350784311045127,
            0.5665458603721585,
            0.39972196820496186,
            0.6339706407110111,
            0.34521186995351677,
            0.6773582432706929
           ],
           "y": [
            1,
            1,
            1,
            1,
            1,
            1,
            1,
            1,
            1,
            1
           ]
          }
         ]
        },
        {
         "data": [
          {
           "marker": {
            "color": "SkyBlue",
            "size": 15
           },
           "mode": "markers",
           "name": "Controlled",
           "type": "scatter",
           "x": [
            -0.44317806048812575,
            -0.20956912284116752,
            -0.2597738668016063,
            -0.12614481008536338,
            -0.3454152454021515,
            -0.18670684418221908,
            -0.2439057261053107,
            -0.29389261761149943,
            -0.11232599266953167,
            -0.17407096246605427
           ],
           "y": [
            1,
            1,
            1,
            1,
            1,
            1,
            1,
            1,
            1,
            1
           ]
          },
          {
           "mode": "markers",
           "name": "Uncontrolled",
           "opacity": 0.8,
           "type": "scatter",
           "x": [
            -1.3741539480624134,
            -1.8520412702503386,
            -1.4642519212580836,
            -0.8550741235443771,
            0.6371270549513008,
            0.5592029157211973,
            0.3971189995752308,
            0.6314973199137666,
            0.34389818061463484,
            0.6691918609361253
           ],
           "y": [
            1,
            1,
            1,
            1,
            1,
            1,
            1,
            1,
            1,
            1
           ]
          }
         ]
        },
        {
         "data": [
          {
           "marker": {
            "color": "SkyBlue",
            "size": 15
           },
           "mode": "markers",
           "name": "Controlled",
           "type": "scatter",
           "x": [
            -0.43983336778949295,
            -0.21261906909597575,
            -0.25932205205932246,
            -0.14342104646474146,
            -0.3484590553496762,
            -0.19077895172284118,
            -0.23302492432340233,
            -0.28277299473522427,
            -0.10298375896428012,
            -0.17944678466436897
           ],
           "y": [
            1,
            1,
            1,
            1,
            1,
            1,
            1,
            1,
            1,
            1
           ]
          },
          {
           "mode": "markers",
           "name": "Uncontrolled",
           "opacity": 0.8,
           "type": "scatter",
           "x": [
            -1.3751969573055256,
            -1.8626647192246357,
            -1.469924432288464,
            -0.8745626446035976,
            0.6342804053257499,
            0.5556348237060212,
            0.4077807337101265,
            0.6426495622782094,
            0.3523749787835559,
            0.6637971811158432
           ],
           "y": [
            1,
            1,
            1,
            1,
            1,
            1,
            1,
            1,
            1,
            1
           ]
          }
         ]
        },
        {
         "data": [
          {
           "marker": {
            "color": "SkyBlue",
            "size": 15
           },
           "mode": "markers",
           "name": "Controlled",
           "type": "scatter",
           "x": [
            -0.4392852773069513,
            -0.21743681165926712,
            -0.27276528266442085,
            -0.14944283000739078,
            -0.35566638943728496,
            -0.18789462629870038,
            -0.21376656030895622,
            -0.2755209884462956,
            -0.091335599323741,
            -0.17720797631208937
           ],
           "y": [
            1,
            1,
            1,
            1,
            1,
            1,
            1,
            1,
            1,
            1
           ]
          },
          {
           "mode": "markers",
           "name": "Uncontrolled",
           "opacity": 0.8,
           "type": "scatter",
           "x": [
            -1.3789673851008049,
            -1.8751248651257866,
            -1.4894097834937743,
            -0.8831516780738564,
            0.6272188088741428,
            0.5588608006552221,
            0.4272126488205134,
            0.650216101553923,
            0.3632882171453742,
            0.6659081553870417
           ],
           "y": [
            1,
            1,
            1,
            1,
            1,
            1,
            1,
            1,
            1,
            1
           ]
          }
         ]
        },
        {
         "data": [
          {
           "marker": {
            "color": "SkyBlue",
            "size": 15
           },
           "mode": "markers",
           "name": "Controlled",
           "type": "scatter",
           "x": [
            -0.4312910079759961,
            -0.21908513742147145,
            -0.2659216899807718,
            -0.1402911240711375,
            -0.33930915710468457,
            -0.18138419853547505,
            -0.21067094013025908,
            -0.2673347425878959,
            -0.09035222845925468,
            -0.17746998664262095
           ],
           "y": [
            1,
            1,
            1,
            1,
            1,
            1,
            1,
            1,
            1,
            1
           ]
          },
          {
           "mode": "markers",
           "name": "Uncontrolled",
           "opacity": 0.8,
           "type": "scatter",
           "x": [
            -1.375271313504385,
            -1.8845610308572762,
            -1.4888726214056172,
            -0.8765982651003285,
            0.6435960132386015,
            0.5658985368380772,
            0.43102676455135075,
            0.6589228862504072,
            0.3637333246236489,
            0.6655711626627143
           ],
           "y": [
            1,
            1,
            1,
            1,
            1,
            1,
            1,
            1,
            1,
            1
           ]
          }
         ]
        },
        {
         "data": [
          {
           "marker": {
            "color": "SkyBlue",
            "size": 15
           },
           "mode": "markers",
           "name": "Controlled",
           "type": "scatter",
           "x": [
            -0.4289222721633443,
            -0.19838639056197796,
            -0.2755866723337071,
            -0.13206977417181054,
            -0.35229046633285016,
            -0.19154203322117946,
            -0.21231851915098052,
            -0.2711527944034465,
            -0.08553329296942669,
            -0.18309048254933416
           ],
           "y": [
            1,
            1,
            1,
            1,
            1,
            1,
            1,
            1,
            1,
            1
           ]
          },
          {
           "mode": "markers",
           "name": "Uncontrolled",
           "opacity": 0.8,
           "type": "scatter",
           "x": [
            -1.3770442805532261,
            -1.871749625862827,
            -1.5046430673205162,
            -0.8707831061925132,
            0.6309137007342018,
            0.5563933758732837,
            0.4303201844266526,
            0.6558868652512863,
            0.36804887824896104,
            0.6598922765402845
           ],
           "y": [
            1,
            1,
            1,
            1,
            1,
            1,
            1,
            1,
            1,
            1
           ]
          }
         ]
        },
        {
         "data": [
          {
           "marker": {
            "color": "SkyBlue",
            "size": 15
           },
           "mode": "markers",
           "name": "Controlled",
           "type": "scatter",
           "x": [
            -0.43464630998968135,
            -0.21307362768071852,
            -0.27133220515643997,
            -0.13456333567608134,
            -0.3597053564721023,
            -0.18018622135536166,
            -0.2044797751046209,
            -0.2572379355681713,
            -0.08042093640803634,
            -0.16447225020742287
           ],
           "y": [
            1,
            1,
            1,
            1,
            1,
            1,
            1,
            1,
            1,
            1
           ]
          },
          {
           "mode": "markers",
           "name": "Uncontrolled",
           "opacity": 0.8,
           "type": "scatter",
           "x": [
            -1.386845802260066,
            -1.8936929450020656,
            -1.506803146885127,
            -0.875410612499452,
            0.6235700113169448,
            0.5681317911050042,
            0.4389855846711957,
            0.6705340536937074,
            0.37284720845386177,
            0.6782995876144179
           ],
           "y": [
            1,
            1,
            1,
            1,
            1,
            1,
            1,
            1,
            1,
            1
           ]
          }
         ]
        },
        {
         "data": [
          {
           "marker": {
            "color": "SkyBlue",
            "size": 15
           },
           "mode": "markers",
           "name": "Controlled",
           "type": "scatter",
           "x": [
            -0.43235007679395066,
            -0.2163830649374726,
            -0.27289077058019284,
            -0.1345667788594768,
            -0.3593240636381061,
            -0.17383790461216722,
            -0.2058606714526448,
            -0.25426711348276315,
            -0.08680566603534853,
            -0.15772654121175647
           ],
           "y": [
            1,
            1,
            1,
            1,
            1,
            1,
            1,
            1,
            1,
            1
           ]
          },
          {
           "mode": "markers",
           "name": "Uncontrolled",
           "opacity": 0.8,
           "type": "scatter",
           "x": [
            -1.3887695602666268,
            -1.9047756866525947,
            -1.514530827007227,
            -0.8774532331518237,
            0.6239359051686655,
            0.5751590274284459,
            0.43877065645686125,
            0.6746276510453931,
            0.3662469954939729,
            0.685336956701299
           ],
           "y": [
            1,
            1,
            1,
            1,
            1,
            1,
            1,
            1,
            1,
            1
           ]
          }
         ]
        },
        {
         "data": [
          {
           "marker": {
            "color": "SkyBlue",
            "size": 15
           },
           "mode": "markers",
           "name": "Controlled",
           "type": "scatter",
           "x": [
            -0.432311862147106,
            -0.21373521452742572,
            -0.2749248037573632,
            -0.13009848940894136,
            -0.3592625577373767,
            -0.17562784213267554,
            -0.19420841415658144,
            -0.24659009865290854,
            -0.08462757423794402,
            -0.15748330617424244
           ],
           "y": [
            1,
            1,
            1,
            1,
            1,
            1,
            1,
            1,
            1,
            1
           ]
          },
          {
           "mode": "markers",
           "name": "Uncontrolled",
           "opacity": 0.8,
           "type": "scatter",
           "x": [
            -1.3929250766061667,
            -1.9100536563678916,
            -1.5228035651200644,
            -0.8750295294323021,
            0.6239924625416512,
            0.5741386233876017,
            0.4515854507526228,
            0.6835042334783715,
            0.3680270148783142,
            0.6861005100332708
           ],
           "y": [
            1,
            1,
            1,
            1,
            1,
            1,
            1,
            1,
            1,
            1
           ]
          }
         ]
        },
        {
         "data": [
          {
           "marker": {
            "color": "SkyBlue",
            "size": 15
           },
           "mode": "markers",
           "name": "Controlled",
           "type": "scatter",
           "x": [
            -0.4378212009388344,
            -0.22004683451647084,
            -0.27277637307520486,
            -0.12674547497168737,
            -0.35577698709179856,
            -0.18194087348539467,
            -0.19290481511896254,
            -0.24276438070662132,
            -0.08125954031686833,
            -0.1639101908509338
           ],
           "y": [
            1,
            1,
            1,
            1,
            1,
            1,
            1,
            1,
            1,
            1
           ]
          },
          {
           "mode": "markers",
           "name": "Uncontrolled",
           "opacity": 0.8,
           "type": "scatter",
           "x": [
            -1.4026078641834534,
            -1.9242436914754812,
            -1.5268798702276358,
            -0.8735453200294991,
            0.6274509519478395,
            0.5685344156258434,
            0.4544437925534444,
            0.6888152361078884,
            0.3710348108495649,
            0.6802212688878604
           ],
           "y": [
            1,
            1,
            1,
            1,
            1,
            1,
            1,
            1,
            1,
            1
           ]
          }
         ]
        },
        {
         "data": [
          {
           "marker": {
            "color": "SkyBlue",
            "size": 15
           },
           "mode": "markers",
           "name": "Controlled",
           "type": "scatter",
           "x": [
            -0.4261116009275611,
            -0.2143990975940528,
            -0.25967654085834724,
            -0.13577264649548457,
            -0.3560624958929112,
            -0.18165039234572064,
            -0.20118850486677878,
            -0.24147544058343068,
            -0.0760536761296189,
            -0.16704063885259596
           ],
           "y": [
            1,
            1,
            1,
            1,
            1,
            1,
            1,
            1,
            1,
            1
           ]
          },
          {
           "mode": "markers",
           "name": "Uncontrolled",
           "opacity": 0.8,
           "type": "scatter",
           "x": [
            -1.3951918201160238,
            -1.9266797920320788,
            -1.5199481808836204,
            -0.8843159046695729,
            0.6271560130080338,
            0.5694486025090375,
            0.44774661407291877,
            0.6917504687275571,
            0.37596173829331414,
            0.677410323436558
           ],
           "y": [
            1,
            1,
            1,
            1,
            1,
            1,
            1,
            1,
            1,
            1
           ]
          }
         ]
        },
        {
         "data": [
          {
           "marker": {
            "color": "SkyBlue",
            "size": 15
           },
           "mode": "markers",
           "name": "Controlled",
           "type": "scatter",
           "x": [
            -0.4369148514221465,
            -0.21872289347948295,
            -0.2492852891299772,
            -0.14718947057894324,
            -0.36067916361716057,
            -0.19159825643775427,
            -0.19821196535343255,
            -0.24479507484424826,
            -0.07410592877136385,
            -0.1669422033659541
           ],
           "y": [
            1,
            1,
            1,
            1,
            1,
            1,
            1,
            1,
            1,
            1
           ]
          },
          {
           "mode": "markers",
           "name": "Uncontrolled",
           "opacity": 0.8,
           "type": "scatter",
           "x": [
            -1.4100769981621364,
            -1.9389240303795487,
            -1.5153998532891149,
            -0.897711176079825,
            0.6225479123546744,
            0.5600545564511499,
            0.45213955891053637,
            0.690048859974098,
            0.3777854724093938,
            0.6777911820346788
           ],
           "y": [
            1,
            1,
            1,
            1,
            1,
            1,
            1,
            1,
            1,
            1
           ]
          }
         ]
        },
        {
         "data": [
          {
           "marker": {
            "color": "SkyBlue",
            "size": 15
           },
           "mode": "markers",
           "name": "Controlled",
           "type": "scatter",
           "x": [
            -0.43072110410128017,
            -0.21486028481283592,
            -0.2417075289917709,
            -0.12553766411601092,
            -0.35463086212339096,
            -0.1807696601962213,
            -0.1925021512599295,
            -0.25124768370058403,
            -0.08355391873955414,
            -0.17399919095985253
           ],
           "y": [
            1,
            1,
            1,
            1,
            1,
            1,
            1,
            1,
            1,
            1
           ]
          },
          {
           "mode": "markers",
           "name": "Uncontrolled",
           "opacity": 0.8,
           "type": "scatter",
           "x": [
            -1.4081997933956951,
            -1.9431150464573623,
            -1.5133131514404774,
            -0.8783510111723993,
            0.628505177180517,
            0.5711359825305469,
            0.4593450379897101,
            0.6851127480924687,
            0.36826835176443834,
            0.6710761409896879
           ],
           "y": [
            1,
            1,
            1,
            1,
            1,
            1,
            1,
            1,
            1,
            1
           ]
          }
         ]
        },
        {
         "data": [
          {
           "marker": {
            "color": "SkyBlue",
            "size": 15
           },
           "mode": "markers",
           "name": "Controlled",
           "type": "scatter",
           "x": [
            -0.4393115212802489,
            -0.21865671447319804,
            -0.25054836822077176,
            -0.13299753739458892,
            -0.3590605442492739,
            -0.18945622601437023,
            -0.19176487128186046,
            -0.2616925033535088,
            -0.07941798121530591,
            -0.163347212742468
           ],
           "y": [
            1,
            1,
            1,
            1,
            1,
            1,
            1,
            1,
            1,
            1
           ]
          },
          {
           "mode": "markers",
           "name": "Uncontrolled",
           "opacity": 0.8,
           "type": "scatter",
           "x": [
            -1.420954204499429,
            -1.9549539597367582,
            -1.527461835908452,
            -0.8875568754227774,
            0.624080207402528,
            0.5630123246321596,
            0.4619098351790924,
            0.6760913801416437,
            0.3721849997774232,
            0.6819138232705629
           ],
           "y": [
            1,
            1,
            1,
            1,
            1,
            1,
            1,
            1,
            1,
            1
           ]
          }
         ]
        },
        {
         "data": [
          {
           "marker": {
            "color": "SkyBlue",
            "size": 15
           },
           "mode": "markers",
           "name": "Controlled",
           "type": "scatter",
           "x": [
            -0.4307578915536218,
            -0.22558839552590945,
            -0.26086819867106925,
            -0.13528344997553216,
            -0.38029052614961706,
            -0.2166361317925527,
            -0.1942839541024921,
            -0.28333392666038326,
            -0.07569264540106124,
            -0.18665641900294344
           ],
           "y": [
            1,
            1,
            1,
            1,
            1,
            1,
            1,
            1,
            1,
            1
           ]
          },
          {
           "mode": "markers",
           "name": "Uncontrolled",
           "opacity": 0.8,
           "type": "scatter",
           "x": [
            -1.4167584837267861,
            -1.9700040309069706,
            -1.5433010025751022,
            -0.8918355267651412,
            0.6027770147817576,
            0.5362430649860764,
            0.46112447997963757,
            0.6555430543604719,
            0.37578647999206455,
            0.659054426254269
           ],
           "y": [
            1,
            1,
            1,
            1,
            1,
            1,
            1,
            1,
            1,
            1
           ]
          }
         ]
        },
        {
         "data": [
          {
           "marker": {
            "color": "SkyBlue",
            "size": 15
           },
           "mode": "markers",
           "name": "Controlled",
           "type": "scatter",
           "x": [
            -0.41902377259887186,
            -0.2280940580737701,
            -0.25680794887079933,
            -0.12885291763631812,
            -0.3757728517309788,
            -0.2179821440532136,
            -0.19282537764779156,
            -0.28610793724991307,
            -0.07507693925933566,
            -0.19377936963720085
           ],
           "y": [
            1,
            1,
            1,
            1,
            1,
            1,
            1,
            1,
            1,
            1
           ]
          },
          {
           "mode": "markers",
           "name": "Uncontrolled",
           "opacity": 0.8,
           "type": "scatter",
           "x": [
            -1.4091777280507662,
            -1.980789954844182,
            -1.5451050260637038,
            -0.8875014572621489,
            0.6067776700177645,
            0.5345527423567868,
            0.4640459452530435,
            0.6533973938469989,
            0.3764468981866695,
            0.6518430799228336
           ],
           "y": [
            1,
            1,
            1,
            1,
            1,
            1,
            1,
            1,
            1,
            1
           ]
          }
         ]
        },
        {
         "data": [
          {
           "marker": {
            "color": "SkyBlue",
            "size": 15
           },
           "mode": "markers",
           "name": "Controlled",
           "type": "scatter",
           "x": [
            -0.41090417466591794,
            -0.23949495216481106,
            -0.25954726927947774,
            -0.13613542786169378,
            -0.37245598584256406,
            -0.2124258335024322,
            -0.1998870073749591,
            -0.2904035622268571,
            -0.08024168939965667,
            -0.20113780688359822
           ],
           "y": [
            1,
            1,
            1,
            1,
            1,
            1,
            1,
            1,
            1,
            1
           ]
          },
          {
           "mode": "markers",
           "name": "Uncontrolled",
           "opacity": 0.8,
           "type": "scatter",
           "x": [
            -1.4049612611950753,
            -2.0006551421083842,
            -1.5536026556623403,
            -0.8967059731653245,
            0.6096377518445381,
            0.5397437808731302,
            0.4585514424626455,
            0.6496881193816114,
            0.37136019118710045,
            0.6442276700073672
           ],
           "y": [
            1,
            1,
            1,
            1,
            1,
            1,
            1,
            1,
            1,
            1
           ]
          }
         ]
        },
        {
         "data": [
          {
           "marker": {
            "color": "SkyBlue",
            "size": 15
           },
           "mode": "markers",
           "name": "Controlled",
           "type": "scatter",
           "x": [
            -0.4132978947150124,
            -0.24557978455626323,
            -0.2735816146005006,
            -0.1405695120831564,
            -0.36368488334703003,
            -0.21508231400847583,
            -0.19921070133299534,
            -0.29124788909450433,
            -0.0934257369357228,
            -0.20950709326790196
           ],
           "y": [
            1,
            1,
            1,
            1,
            1,
            1,
            1,
            1,
            1,
            1
           ]
          },
          {
           "mode": "markers",
           "name": "Uncontrolled",
           "opacity": 0.8,
           "type": "scatter",
           "x": [
            -1.4111406136730555,
            -2.015580020280772,
            -1.573573316831721,
            -0.9033016143945692,
            0.6180269183184364,
            0.536838038279468,
            0.4605418990697588,
            0.6492514784338016,
            0.35806588209936013,
            0.6353493189516863
           ],
           "y": [
            1,
            1,
            1,
            1,
            1,
            1,
            1,
            1,
            1,
            1
           ]
          }
         ]
        },
        {
         "data": [
          {
           "marker": {
            "color": "SkyBlue",
            "size": 15
           },
           "mode": "markers",
           "name": "Controlled",
           "type": "scatter",
           "x": [
            -0.413266336252294,
            -0.24973245320153475,
            -0.27723593633326243,
            -0.14039251385634977,
            -0.3615004942527882,
            -0.217099117830011,
            -0.19548285899560788,
            -0.2832351405686893,
            -0.09045575276711462,
            -0.21636244932356072
           ],
           "y": [
            1,
            1,
            1,
            1,
            1,
            1,
            1,
            1,
            1,
            1
           ]
          },
          {
           "mode": "markers",
           "name": "Uncontrolled",
           "opacity": 0.8,
           "type": "scatter",
           "x": [
            -1.4149736518405194,
            -2.028765532856885,
            -1.583666474527724,
            -0.9054864914163072,
            0.6199905863038342,
            0.5345619982228531,
            0.4654994084687363,
            0.6576613841949652,
            0.3604120607236291,
            0.6277009837521725
           ],
           "y": [
            1,
            1,
            1,
            1,
            1,
            1,
            1,
            1,
            1,
            1
           ]
          }
         ]
        },
        {
         "data": [
          {
           "marker": {
            "color": "SkyBlue",
            "size": 15
           },
           "mode": "markers",
           "name": "Controlled",
           "type": "scatter",
           "x": [
            -0.4189581681736675,
            -0.2446907306876664,
            -0.2716377443776452,
            -0.14168612163739724,
            -0.3438603877533332,
            -0.21584146229154014,
            -0.21065403955280199,
            -0.28782753967527597,
            -0.09539119355300606,
            -0.221765913143816
           ],
           "y": [
            1,
            1,
            1,
            1,
            1,
            1,
            1,
            1,
            1,
            1
           ]
          },
          {
           "mode": "markers",
           "name": "Uncontrolled",
           "opacity": 0.8,
           "type": "scatter",
           "x": [
            -1.4245458807946232,
            -2.0329085046084727,
            -1.5846166306913958,
            -0.9090868227918202,
            0.6374260251159412,
            0.5355087575319575,
            0.45165610611603746,
            0.6537243044853143,
            0.354882781108204,
            0.6212350752088333
           ],
           "y": [
            1,
            1,
            1,
            1,
            1,
            1,
            1,
            1,
            1,
            1
           ]
          }
         ]
        },
        {
         "data": [
          {
           "marker": {
            "color": "SkyBlue",
            "size": 15
           },
           "mode": "markers",
           "name": "Controlled",
           "type": "scatter",
           "x": [
            -0.42672429293874475,
            -0.2500988789520768,
            -0.27075293244636733,
            -0.1568347771682933,
            -0.3542128048017978,
            -0.21751639421862265,
            -0.20442344532638013,
            -0.29084930985411817,
            -0.09332596491235573,
            -0.2029637193563966
           ],
           "y": [
            1,
            1,
            1,
            1,
            1,
            1,
            1,
            1,
            1,
            1
           ]
          },
          {
           "mode": "markers",
           "name": "Uncontrolled",
           "opacity": 0.8,
           "type": "scatter",
           "x": [
            -1.4363682156993076,
            -2.0473671931935886,
            -1.590275059349984,
            -0.9267170825886926,
            0.6272216427199435,
            0.5336608423466461,
            0.4587233486747681,
            0.6510886694057774,
            0.35627951064705177,
            0.6388211298031999
           ],
           "y": [
            1,
            1,
            1,
            1,
            1,
            1,
            1,
            1,
            1,
            1
           ]
          }
         ]
        },
        {
         "data": [
          {
           "marker": {
            "color": "SkyBlue",
            "size": 15
           },
           "mode": "markers",
           "name": "Controlled",
           "type": "scatter",
           "x": [
            -0.4269443845311999,
            -0.26320387273361046,
            -0.2578496497438738,
            -0.17585941165951213,
            -0.34900448498092207,
            -0.21261760123382265,
            -0.19694899673096758,
            -0.28939081719896703,
            -0.10387721510876398,
            -0.19583853660927164
           ],
           "y": [
            1,
            1,
            1,
            1,
            1,
            1,
            1,
            1,
            1,
            1
           ]
          },
          {
           "mode": "markers",
           "name": "Uncontrolled",
           "opacity": 0.8,
           "type": "scatter",
           "x": [
            -1.4407935241789185,
            -2.0696833893778845,
            -1.5837903633285118,
            -0.9486980995607353,
            0.6324072760680362,
            0.5382984990821952,
            0.46721233404942175,
            0.6528661149845352,
            0.34506801123212705,
            0.6453042468727186
           ],
           "y": [
            1,
            1,
            1,
            1,
            1,
            1,
            1,
            1,
            1,
            1
           ]
          }
         ]
        },
        {
         "data": [
          {
           "marker": {
            "color": "SkyBlue",
            "size": 15
           },
           "mode": "markers",
           "name": "Controlled",
           "type": "scatter",
           "x": [
            -0.4245195196269106,
            -0.2715325211910119,
            -0.2518403382368025,
            -0.18468947290065,
            -0.3380634800734572,
            -0.2226035378145133,
            -0.19811239223456797,
            -0.2883708085768549,
            -0.11207233740357898,
            -0.1846857325756487
           ],
           "y": [
            1,
            1,
            1,
            1,
            1,
            1,
            1,
            1,
            1,
            1
           ]
          },
          {
           "mode": "markers",
           "name": "Uncontrolled",
           "opacity": 0.8,
           "type": "scatter",
           "x": [
            -1.4425963062917504,
            -2.087663301772636,
            -1.5837853932486952,
            -0.9610008121447315,
            0.6434369389733406,
            0.5281985501407105,
            0.46738214554815644,
            0.6541805877799197,
            0.3358629618251865,
            0.6560320863093408
           ],
           "y": [
            1,
            1,
            1,
            1,
            1,
            1,
            1,
            1,
            1,
            1
           ]
          }
         ]
        },
        {
         "data": [
          {
           "marker": {
            "color": "SkyBlue",
            "size": 15
           },
           "mode": "markers",
           "name": "Controlled",
           "type": "scatter",
           "x": [
            -0.4357905007472245,
            -0.2777652260720273,
            -0.2537118258353909,
            -0.18519609319844849,
            -0.3237358571027081,
            -0.22782257984212065,
            -0.1988555511180495,
            -0.27497314465580736,
            -0.09266667997653091,
            -0.19108126872055392
           ],
           "y": [
            1,
            1,
            1,
            1,
            1,
            1,
            1,
            1,
            1,
            1
           ]
          },
          {
           "mode": "markers",
           "name": "Uncontrolled",
           "opacity": 0.8,
           "type": "scatter",
           "x": [
            -1.458047524904739,
            -2.1037825089244606,
            -1.5914697938297586,
            -0.965273307693749,
            0.6580330059738131,
            0.5225594942494971,
            0.46796900948293346,
            0.6679050208665526,
            0.35400459442676696,
            0.6495297867621459
           ],
           "y": [
            1,
            1,
            1,
            1,
            1,
            1,
            1,
            1,
            1,
            1
           ]
          }
         ]
        },
        {
         "data": [
          {
           "marker": {
            "color": "SkyBlue",
            "size": 15
           },
           "mode": "markers",
           "name": "Controlled",
           "type": "scatter",
           "x": [
            -0.4320215833731413,
            -0.269941099542749,
            -0.25147104524475483,
            -0.1776082843211978,
            -0.33286135719591475,
            -0.22760944967090935,
            -0.21130379429926108,
            -0.289698643014384,
            -0.09862901396795484,
            -0.18825572604588928
           ],
           "y": [
            1,
            1,
            1,
            1,
            1,
            1,
            1,
            1,
            1,
            1
           ]
          },
          {
           "mode": "markers",
           "name": "Uncontrolled",
           "opacity": 0.8,
           "type": "scatter",
           "x": [
            -1.4587492986782007,
            -2.10602416311227,
            -1.5950813178998682,
            -0.9613908779043934,
            0.6494003054993267,
            0.5222230421196208,
            0.4567485580186403,
            0.6538802994242549,
            0.3472472095168407,
            0.6520829244076306
           ],
           "y": [
            1,
            1,
            1,
            1,
            1,
            1,
            1,
            1,
            1,
            1
           ]
          }
         ]
        },
        {
         "data": [
          {
           "marker": {
            "color": "SkyBlue",
            "size": 15
           },
           "mode": "markers",
           "name": "Controlled",
           "type": "scatter",
           "x": [
            -0.44059099030157056,
            -0.2650114535365467,
            -0.25235358303393157,
            -0.16350527792492217,
            -0.3343137137612513,
            -0.22520286074925336,
            -0.20793919182001552,
            -0.28696180169344276,
            -0.09050527528418065,
            -0.1975911128780282
           ],
           "y": [
            1,
            1,
            1,
            1,
            1,
            1,
            1,
            1,
            1,
            1
           ]
          },
          {
           "mode": "markers",
           "name": "Uncontrolled",
           "opacity": 0.8,
           "type": "scatter",
           "x": [
            -1.471721898165183,
            -2.1109684652053513,
            -1.6018371514978051,
            -0.9508952089008176,
            0.6482927769673787,
            0.5240658168020126,
            0.46097875936243055,
            0.6569001690759043,
            0.35453068655314446,
            0.6425440147437008
           ],
           "y": [
            1,
            1,
            1,
            1,
            1,
            1,
            1,
            1,
            1,
            1
           ]
          }
         ]
        },
        {
         "data": [
          {
           "marker": {
            "color": "SkyBlue",
            "size": 15
           },
           "mode": "markers",
           "name": "Controlled",
           "type": "scatter",
           "x": [
            -0.4393401330550817,
            -0.2542429832905492,
            -0.2586770356851549,
            -0.15833686371596223,
            -0.3312873849132366,
            -0.22100847060240528,
            -0.21212532423325803,
            -0.28575345192978246,
            -0.08778066968424013,
            -0.2000267457683431
           ],
           "y": [
            1,
            1,
            1,
            1,
            1,
            1,
            1,
            1,
            1,
            1
           ]
          },
          {
           "mode": "markers",
           "name": "Uncontrolled",
           "opacity": 0.8,
           "type": "scatter",
           "x": [
            -1.4750592853218247,
            -2.109990378160394,
            -1.6140648879119106,
            -0.948913105839846,
            0.6516119957408848,
            0.5277945434659729,
            0.45776878375743535,
            0.6585300113520414,
            0.3566864508610679,
            0.6396658612976354
           ],
           "y": [
            1,
            1,
            1,
            1,
            1,
            1,
            1,
            1,
            1,
            1
           ]
          }
         ]
        },
        {
         "data": [
          {
           "marker": {
            "color": "SkyBlue",
            "size": 15
           },
           "mode": "markers",
           "name": "Controlled",
           "type": "scatter",
           "x": [
            -0.42985415308524816,
            -0.24652572160903735,
            -0.28051820464608723,
            -0.14046603673755836,
            -0.3282015015462842,
            -0.22950346188047177,
            -0.2205716547948293,
            -0.2889086109668308,
            -0.06953013685917842,
            -0.20433310012969635
           ],
           "y": [
            1,
            1,
            1,
            1,
            1,
            1,
            1,
            1,
            1,
            1
           ]
          },
          {
           "mode": "markers",
           "name": "Uncontrolled",
           "opacity": 0.8,
           "type": "scatter",
           "x": [
            -1.4701543283397744,
            -2.1117603168124512,
            -1.6420616112364523,
            -0.934114522811014,
            0.6550720020731591,
            0.5189405415406646,
            0.45015196854896333,
            0.6557357945415431,
            0.3744638203048687,
            0.6348280247497026
           ],
           "y": [
            1,
            1,
            1,
            1,
            1,
            1,
            1,
            1,
            1,
            1
           ]
          }
         ]
        },
        {
         "data": [
          {
           "marker": {
            "color": "SkyBlue",
            "size": 15
           },
           "mode": "markers",
           "name": "Controlled",
           "type": "scatter",
           "x": [
            -0.4304438742493575,
            -0.23433483353508835,
            -0.2973491495408948,
            -0.13774229911943364,
            -0.3212080963541757,
            -0.239849592990555,
            -0.2305931534546065,
            -0.2864647226411411,
            -0.07792702774460397,
            -0.20901897647267875
           ],
           "y": [
            1,
            1,
            1,
            1,
            1,
            1,
            1,
            1,
            1,
            1
           ]
          },
          {
           "mode": "markers",
           "name": "Uncontrolled",
           "opacity": 0.8,
           "type": "scatter",
           "x": [
            -1.4751440390547579,
            -2.1087760533118045,
            -1.665727465090517,
            -0.9339920495996977,
            0.6623911355128267,
            0.5080095308159188,
            0.4405653639857905,
            0.6584892521403749,
            0.36627693791563404,
            0.6294436446122584
           ],
           "y": [
            1,
            1,
            1,
            1,
            1,
            1,
            1,
            1,
            1,
            1
           ]
          }
         ]
        },
        {
         "data": [
          {
           "marker": {
            "color": "SkyBlue",
            "size": 15
           },
           "mode": "markers",
           "name": "Controlled",
           "type": "scatter",
           "x": [
            -0.4294077701762441,
            -0.2422821492754274,
            -0.28471973235596437,
            -0.13508554479580911,
            -0.31136641398658516,
            -0.24111929452247463,
            -0.23755833798300138,
            -0.30891856839548254,
            -0.08496450069647281,
            -0.2042215924707849
           ],
           "y": [
            1,
            1,
            1,
            1,
            1,
            1,
            1,
            1,
            1,
            1
           ]
          },
          {
           "mode": "markers",
           "name": "Uncontrolled",
           "opacity": 0.8,
           "type": "scatter",
           "x": [
            -1.478532113703358,
            -2.1255329897711617,
            -1.6605597531654792,
            -0.9339680461644462,
            0.6726839840992686,
            0.5057545083049894,
            0.43352640966302214,
            0.6364479095345815,
            0.3592058725841134,
            0.633359494274868
           ],
           "y": [
            1,
            1,
            1,
            1,
            1,
            1,
            1,
            1,
            1,
            1
           ]
          }
         ]
        },
        {
         "data": [
          {
           "marker": {
            "color": "SkyBlue",
            "size": 15
           },
           "mode": "markers",
           "name": "Controlled",
           "type": "scatter",
           "x": [
            -0.4281170144247996,
            -0.2519694773257185,
            -0.273988611191695,
            -0.14450531469757794,
            -0.31513823774631927,
            -0.23062291680120395,
            -0.24232024988869896,
            -0.31536722168056514,
            -0.07583742599929041,
            -0.20148910886382568
           ],
           "y": [
            1,
            1,
            1,
            1,
            1,
            1,
            1,
            1,
            1,
            1
           ]
          },
          {
           "mode": "markers",
           "name": "Uncontrolled",
           "opacity": 0.8,
           "type": "scatter",
           "x": [
            -1.4816650027600875,
            -2.1442879160779165,
            -1.6569655548891828,
            -0.9461022690974666,
            0.6695362419104142,
            0.5153203003161295,
            0.42852456845317477,
            0.6297617074934634,
            0.3681375676234089,
            0.6353736346625604
           ],
           "y": [
            1,
            1,
            1,
            1,
            1,
            1,
            1,
            1,
            1,
            1
           ]
          }
         ]
        },
        {
         "data": [
          {
           "marker": {
            "color": "SkyBlue",
            "size": 15
           },
           "mode": "markers",
           "name": "Controlled",
           "type": "scatter",
           "x": [
            -0.42649640327321886,
            -0.2490101966469614,
            -0.28270464495201836,
            -0.12417630182001117,
            -0.3115938402876382,
            -0.2349070288706849,
            -0.25126173436288074,
            -0.3210301395866837,
            -0.07833549952978869,
            -0.21017515826420138
           ],
           "y": [
            1,
            1,
            1,
            1,
            1,
            1,
            1,
            1,
            1,
            1
           ]
          },
          {
           "mode": "markers",
           "name": "Uncontrolled",
           "opacity": 0.8,
           "type": "scatter",
           "x": [
            -1.4844962968083721,
            -2.1507370834460406,
            -1.672509336879702,
            -0.9287179399164122,
            0.6736662487494044,
            0.510411886092242,
            0.4192293283181758,
            0.6235595273685807,
            0.36571501360121705,
            0.6259673351847042
           ],
           "y": [
            1,
            1,
            1,
            1,
            1,
            1,
            1,
            1,
            1,
            1
           ]
          }
         ]
        },
        {
         "data": [
          {
           "marker": {
            "color": "SkyBlue",
            "size": 15
           },
           "mode": "markers",
           "name": "Controlled",
           "type": "scatter",
           "x": [
            -0.4315297984397778,
            -0.24191067687449128,
            -0.26839699277857865,
            -0.13955556484020237,
            -0.31407505119885676,
            -0.23694606732203022,
            -0.25497273678520205,
            -0.30402547352136305,
            -0.09288681740335669,
            -0.20128999148474552
           ],
           "y": [
            1,
            1,
            1,
            1,
            1,
            1,
            1,
            1,
            1,
            1
           ]
          },
          {
           "mode": "markers",
           "name": "Uncontrolled",
           "opacity": 0.8,
           "type": "scatter",
           "x": [
            -1.4939662862431524,
            -2.1529936084775416,
            -1.6653895840539614,
            -0.9465645711233959,
            0.6717932638831404,
            0.5076785464394521,
            0.41485815913412555,
            0.6399544843016177,
            0.3513417794564318,
            0.6338669239793707
           ],
           "y": [
            1,
            1,
            1,
            1,
            1,
            1,
            1,
            1,
            1,
            1
           ]
          }
         ]
        },
        {
         "data": [
          {
           "marker": {
            "color": "SkyBlue",
            "size": 15
           },
           "mode": "markers",
           "name": "Controlled",
           "type": "scatter",
           "x": [
            -0.43179116692439357,
            -0.24567661755524048,
            -0.27477750405906803,
            -0.1256510058933359,
            -0.33233345202579523,
            -0.23707293081503023,
            -0.25058390993808516,
            -0.30820629986671705,
            -0.10090102033768124,
            -0.2095354021822509
           ],
           "y": [
            1,
            1,
            1,
            1,
            1,
            1,
            1,
            1,
            1,
            1
           ]
          },
          {
           "mode": "markers",
           "name": "Uncontrolled",
           "opacity": 0.8,
           "type": "scatter",
           "x": [
            -1.4987670754201932,
            -2.1659452176144796,
            -1.6785754163384505,
            -0.935536456162753,
            0.6541141829188939,
            0.506631837814723,
            0.41857975291417393,
            0.6356275584752435,
            0.3429887902586257,
            0.624894182352629
           ],
           "y": [
            1,
            1,
            1,
            1,
            1,
            1,
            1,
            1,
            1,
            1
           ]
          }
         ]
        },
        {
         "data": [
          {
           "marker": {
            "color": "SkyBlue",
            "size": 15
           },
           "mode": "markers",
           "name": "Controlled",
           "type": "scatter",
           "x": [
            -0.4278115015111385,
            -0.2546782701348973,
            -0.2674494864220532,
            -0.13163872481597053,
            -0.32061449693705696,
            -0.20223786548055034,
            -0.2587181008514776,
            -0.30035623465188066,
            -0.10906591998010563,
            -0.2104698174638823
           ],
           "y": [
            1,
            1,
            1,
            1,
            1,
            1,
            1,
            1,
            1,
            1
           ]
          },
          {
           "mode": "markers",
           "name": "Uncontrolled",
           "opacity": 0.8,
           "type": "scatter",
           "x": [
            -1.4993222999107298,
            -2.1843403914612276,
            -1.6782572772758462,
            -0.9439216918403539,
            0.666045247630849,
            0.5405773224148337,
            0.4099179847793023,
            0.6433384636283987,
            0.3343107110699812,
            0.6229923321478268
           ],
           "y": [
            1,
            1,
            1,
            1,
            1,
            1,
            1,
            1,
            1,
            1
           ]
          }
         ]
        },
        {
         "data": [
          {
           "marker": {
            "color": "SkyBlue",
            "size": 15
           },
           "mode": "markers",
           "name": "Controlled",
           "type": "scatter",
           "x": [
            -0.42366684135261895,
            -0.24640465451950622,
            -0.272534935386318,
            -0.14199634615621787,
            -0.3270035506464183,
            -0.19621775496358965,
            -0.24857254337328014,
            -0.3057734028832822,
            -0.11047155177206551,
            -0.21509263183133162
           ],
           "y": [
            1,
            1,
            1,
            1,
            1,
            1,
            1,
            1,
            1,
            1
           ]
          },
          {
           "mode": "markers",
           "name": "Uncontrolled",
           "opacity": 0.8,
           "type": "scatter",
           "x": [
            -1.4997192347119246,
            -2.18587589849578,
            -1.6902906986166348,
            -0.9569171336936102,
            0.6601434916653695,
            0.5467287564570417,
            0.4194085957136403,
            0.6378353114977339,
            0.3320613442710226,
            0.6173014316079454
           ],
           "y": [
            1,
            1,
            1,
            1,
            1,
            1,
            1,
            1,
            1,
            1
           ]
          }
         ]
        },
        {
         "data": [
          {
           "marker": {
            "color": "SkyBlue",
            "size": 15
           },
           "mode": "markers",
           "name": "Controlled",
           "type": "scatter",
           "x": [
            -0.4384531733718673,
            -0.22582118365549653,
            -0.2657813621184667,
            -0.12673054795531008,
            -0.31702872277942756,
            -0.20520793514016522,
            -0.2557121459803405,
            -0.2973041129910033,
            -0.1139305183207304,
            -0.23510069977433862
           ],
           "y": [
            1,
            1,
            1,
            1,
            1,
            1,
            1,
            1,
            1,
            1
           ]
          },
          {
           "mode": "markers",
           "name": "Uncontrolled",
           "opacity": 0.8,
           "type": "scatter",
           "x": [
            -1.5189553673279552,
            -2.174868418639886,
            -1.6906306817804897,
            -0.9445666722266247,
            0.6705547187791581,
            0.5380520800923929,
            0.4118966970020163,
            0.6460167707052977,
            0.3276838547653314,
            0.5961931394332968
           ],
           "y": [
            1,
            1,
            1,
            1,
            1,
            1,
            1,
            1,
            1,
            1
           ]
          }
         ]
        },
        {
         "data": [
          {
           "marker": {
            "color": "SkyBlue",
            "size": 15
           },
           "mode": "markers",
           "name": "Controlled",
           "type": "scatter",
           "x": [
            -0.42994493551417634,
            -0.22312830234378875,
            -0.28333278207665924,
            -0.11988036235688197,
            -0.30533409696925534,
            -0.22308220638814394,
            -0.2660909973007215,
            -0.2823342469240087,
            -0.11141748153066533,
            -0.22143474525392393
           ],
           "y": [
            1,
            1,
            1,
            1,
            1,
            1,
            1,
            1,
            1,
            1
           ]
          },
          {
           "mode": "markers",
           "name": "Uncontrolled",
           "opacity": 0.8,
           "type": "scatter",
           "x": [
            -1.5152055551942885,
            -2.181091762212485,
            -1.7152151433574936,
            -0.9402746508670001,
            0.6828283214390684,
            0.5202064881948748,
            0.4009384472737695,
            0.6610420764083371,
            0.3292969151071345,
            0.6082675117652155
           ],
           "y": [
            1,
            1,
            1,
            1,
            1,
            1,
            1,
            1,
            1,
            1
           ]
          }
         ]
        }
       ],
       "layout": {
        "template": {
         "data": {
          "bar": [
           {
            "error_x": {
             "color": "#2a3f5f"
            },
            "error_y": {
             "color": "#2a3f5f"
            },
            "marker": {
             "line": {
              "color": "#E5ECF6",
              "width": 0.5
             }
            },
            "type": "bar"
           }
          ],
          "barpolar": [
           {
            "marker": {
             "line": {
              "color": "#E5ECF6",
              "width": 0.5
             }
            },
            "type": "barpolar"
           }
          ],
          "carpet": [
           {
            "aaxis": {
             "endlinecolor": "#2a3f5f",
             "gridcolor": "white",
             "linecolor": "white",
             "minorgridcolor": "white",
             "startlinecolor": "#2a3f5f"
            },
            "baxis": {
             "endlinecolor": "#2a3f5f",
             "gridcolor": "white",
             "linecolor": "white",
             "minorgridcolor": "white",
             "startlinecolor": "#2a3f5f"
            },
            "type": "carpet"
           }
          ],
          "choropleth": [
           {
            "colorbar": {
             "outlinewidth": 0,
             "ticks": ""
            },
            "type": "choropleth"
           }
          ],
          "contour": [
           {
            "colorbar": {
             "outlinewidth": 0,
             "ticks": ""
            },
            "colorscale": [
             [
              0,
              "#0d0887"
             ],
             [
              0.1111111111111111,
              "#46039f"
             ],
             [
              0.2222222222222222,
              "#7201a8"
             ],
             [
              0.3333333333333333,
              "#9c179e"
             ],
             [
              0.4444444444444444,
              "#bd3786"
             ],
             [
              0.5555555555555556,
              "#d8576b"
             ],
             [
              0.6666666666666666,
              "#ed7953"
             ],
             [
              0.7777777777777778,
              "#fb9f3a"
             ],
             [
              0.8888888888888888,
              "#fdca26"
             ],
             [
              1,
              "#f0f921"
             ]
            ],
            "type": "contour"
           }
          ],
          "contourcarpet": [
           {
            "colorbar": {
             "outlinewidth": 0,
             "ticks": ""
            },
            "type": "contourcarpet"
           }
          ],
          "heatmap": [
           {
            "colorbar": {
             "outlinewidth": 0,
             "ticks": ""
            },
            "colorscale": [
             [
              0,
              "#0d0887"
             ],
             [
              0.1111111111111111,
              "#46039f"
             ],
             [
              0.2222222222222222,
              "#7201a8"
             ],
             [
              0.3333333333333333,
              "#9c179e"
             ],
             [
              0.4444444444444444,
              "#bd3786"
             ],
             [
              0.5555555555555556,
              "#d8576b"
             ],
             [
              0.6666666666666666,
              "#ed7953"
             ],
             [
              0.7777777777777778,
              "#fb9f3a"
             ],
             [
              0.8888888888888888,
              "#fdca26"
             ],
             [
              1,
              "#f0f921"
             ]
            ],
            "type": "heatmap"
           }
          ],
          "heatmapgl": [
           {
            "colorbar": {
             "outlinewidth": 0,
             "ticks": ""
            },
            "colorscale": [
             [
              0,
              "#0d0887"
             ],
             [
              0.1111111111111111,
              "#46039f"
             ],
             [
              0.2222222222222222,
              "#7201a8"
             ],
             [
              0.3333333333333333,
              "#9c179e"
             ],
             [
              0.4444444444444444,
              "#bd3786"
             ],
             [
              0.5555555555555556,
              "#d8576b"
             ],
             [
              0.6666666666666666,
              "#ed7953"
             ],
             [
              0.7777777777777778,
              "#fb9f3a"
             ],
             [
              0.8888888888888888,
              "#fdca26"
             ],
             [
              1,
              "#f0f921"
             ]
            ],
            "type": "heatmapgl"
           }
          ],
          "histogram": [
           {
            "marker": {
             "colorbar": {
              "outlinewidth": 0,
              "ticks": ""
             }
            },
            "type": "histogram"
           }
          ],
          "histogram2d": [
           {
            "colorbar": {
             "outlinewidth": 0,
             "ticks": ""
            },
            "colorscale": [
             [
              0,
              "#0d0887"
             ],
             [
              0.1111111111111111,
              "#46039f"
             ],
             [
              0.2222222222222222,
              "#7201a8"
             ],
             [
              0.3333333333333333,
              "#9c179e"
             ],
             [
              0.4444444444444444,
              "#bd3786"
             ],
             [
              0.5555555555555556,
              "#d8576b"
             ],
             [
              0.6666666666666666,
              "#ed7953"
             ],
             [
              0.7777777777777778,
              "#fb9f3a"
             ],
             [
              0.8888888888888888,
              "#fdca26"
             ],
             [
              1,
              "#f0f921"
             ]
            ],
            "type": "histogram2d"
           }
          ],
          "histogram2dcontour": [
           {
            "colorbar": {
             "outlinewidth": 0,
             "ticks": ""
            },
            "colorscale": [
             [
              0,
              "#0d0887"
             ],
             [
              0.1111111111111111,
              "#46039f"
             ],
             [
              0.2222222222222222,
              "#7201a8"
             ],
             [
              0.3333333333333333,
              "#9c179e"
             ],
             [
              0.4444444444444444,
              "#bd3786"
             ],
             [
              0.5555555555555556,
              "#d8576b"
             ],
             [
              0.6666666666666666,
              "#ed7953"
             ],
             [
              0.7777777777777778,
              "#fb9f3a"
             ],
             [
              0.8888888888888888,
              "#fdca26"
             ],
             [
              1,
              "#f0f921"
             ]
            ],
            "type": "histogram2dcontour"
           }
          ],
          "mesh3d": [
           {
            "colorbar": {
             "outlinewidth": 0,
             "ticks": ""
            },
            "type": "mesh3d"
           }
          ],
          "parcoords": [
           {
            "line": {
             "colorbar": {
              "outlinewidth": 0,
              "ticks": ""
             }
            },
            "type": "parcoords"
           }
          ],
          "pie": [
           {
            "automargin": true,
            "type": "pie"
           }
          ],
          "scatter": [
           {
            "marker": {
             "colorbar": {
              "outlinewidth": 0,
              "ticks": ""
             }
            },
            "type": "scatter"
           }
          ],
          "scatter3d": [
           {
            "line": {
             "colorbar": {
              "outlinewidth": 0,
              "ticks": ""
             }
            },
            "marker": {
             "colorbar": {
              "outlinewidth": 0,
              "ticks": ""
             }
            },
            "type": "scatter3d"
           }
          ],
          "scattercarpet": [
           {
            "marker": {
             "colorbar": {
              "outlinewidth": 0,
              "ticks": ""
             }
            },
            "type": "scattercarpet"
           }
          ],
          "scattergeo": [
           {
            "marker": {
             "colorbar": {
              "outlinewidth": 0,
              "ticks": ""
             }
            },
            "type": "scattergeo"
           }
          ],
          "scattergl": [
           {
            "marker": {
             "colorbar": {
              "outlinewidth": 0,
              "ticks": ""
             }
            },
            "type": "scattergl"
           }
          ],
          "scattermapbox": [
           {
            "marker": {
             "colorbar": {
              "outlinewidth": 0,
              "ticks": ""
             }
            },
            "type": "scattermapbox"
           }
          ],
          "scatterpolar": [
           {
            "marker": {
             "colorbar": {
              "outlinewidth": 0,
              "ticks": ""
             }
            },
            "type": "scatterpolar"
           }
          ],
          "scatterpolargl": [
           {
            "marker": {
             "colorbar": {
              "outlinewidth": 0,
              "ticks": ""
             }
            },
            "type": "scatterpolargl"
           }
          ],
          "scatterternary": [
           {
            "marker": {
             "colorbar": {
              "outlinewidth": 0,
              "ticks": ""
             }
            },
            "type": "scatterternary"
           }
          ],
          "surface": [
           {
            "colorbar": {
             "outlinewidth": 0,
             "ticks": ""
            },
            "colorscale": [
             [
              0,
              "#0d0887"
             ],
             [
              0.1111111111111111,
              "#46039f"
             ],
             [
              0.2222222222222222,
              "#7201a8"
             ],
             [
              0.3333333333333333,
              "#9c179e"
             ],
             [
              0.4444444444444444,
              "#bd3786"
             ],
             [
              0.5555555555555556,
              "#d8576b"
             ],
             [
              0.6666666666666666,
              "#ed7953"
             ],
             [
              0.7777777777777778,
              "#fb9f3a"
             ],
             [
              0.8888888888888888,
              "#fdca26"
             ],
             [
              1,
              "#f0f921"
             ]
            ],
            "type": "surface"
           }
          ],
          "table": [
           {
            "cells": {
             "fill": {
              "color": "#EBF0F8"
             },
             "line": {
              "color": "white"
             }
            },
            "header": {
             "fill": {
              "color": "#C8D4E3"
             },
             "line": {
              "color": "white"
             }
            },
            "type": "table"
           }
          ]
         },
         "layout": {
          "annotationdefaults": {
           "arrowcolor": "#2a3f5f",
           "arrowhead": 0,
           "arrowwidth": 1
          },
          "autotypenumbers": "strict",
          "coloraxis": {
           "colorbar": {
            "outlinewidth": 0,
            "ticks": ""
           }
          },
          "colorscale": {
           "diverging": [
            [
             0,
             "#8e0152"
            ],
            [
             0.1,
             "#c51b7d"
            ],
            [
             0.2,
             "#de77ae"
            ],
            [
             0.3,
             "#f1b6da"
            ],
            [
             0.4,
             "#fde0ef"
            ],
            [
             0.5,
             "#f7f7f7"
            ],
            [
             0.6,
             "#e6f5d0"
            ],
            [
             0.7,
             "#b8e186"
            ],
            [
             0.8,
             "#7fbc41"
            ],
            [
             0.9,
             "#4d9221"
            ],
            [
             1,
             "#276419"
            ]
           ],
           "sequential": [
            [
             0,
             "#0d0887"
            ],
            [
             0.1111111111111111,
             "#46039f"
            ],
            [
             0.2222222222222222,
             "#7201a8"
            ],
            [
             0.3333333333333333,
             "#9c179e"
            ],
            [
             0.4444444444444444,
             "#bd3786"
            ],
            [
             0.5555555555555556,
             "#d8576b"
            ],
            [
             0.6666666666666666,
             "#ed7953"
            ],
            [
             0.7777777777777778,
             "#fb9f3a"
            ],
            [
             0.8888888888888888,
             "#fdca26"
            ],
            [
             1,
             "#f0f921"
            ]
           ],
           "sequentialminus": [
            [
             0,
             "#0d0887"
            ],
            [
             0.1111111111111111,
             "#46039f"
            ],
            [
             0.2222222222222222,
             "#7201a8"
            ],
            [
             0.3333333333333333,
             "#9c179e"
            ],
            [
             0.4444444444444444,
             "#bd3786"
            ],
            [
             0.5555555555555556,
             "#d8576b"
            ],
            [
             0.6666666666666666,
             "#ed7953"
            ],
            [
             0.7777777777777778,
             "#fb9f3a"
            ],
            [
             0.8888888888888888,
             "#fdca26"
            ],
            [
             1,
             "#f0f921"
            ]
           ]
          },
          "colorway": [
           "#636efa",
           "#EF553B",
           "#00cc96",
           "#ab63fa",
           "#FFA15A",
           "#19d3f3",
           "#FF6692",
           "#B6E880",
           "#FF97FF",
           "#FECB52"
          ],
          "font": {
           "color": "#2a3f5f"
          },
          "geo": {
           "bgcolor": "white",
           "lakecolor": "white",
           "landcolor": "#E5ECF6",
           "showlakes": true,
           "showland": true,
           "subunitcolor": "white"
          },
          "hoverlabel": {
           "align": "left"
          },
          "hovermode": "closest",
          "mapbox": {
           "style": "light"
          },
          "paper_bgcolor": "white",
          "plot_bgcolor": "#E5ECF6",
          "polar": {
           "angularaxis": {
            "gridcolor": "white",
            "linecolor": "white",
            "ticks": ""
           },
           "bgcolor": "#E5ECF6",
           "radialaxis": {
            "gridcolor": "white",
            "linecolor": "white",
            "ticks": ""
           }
          },
          "scene": {
           "xaxis": {
            "backgroundcolor": "#E5ECF6",
            "gridcolor": "white",
            "gridwidth": 2,
            "linecolor": "white",
            "showbackground": true,
            "ticks": "",
            "zerolinecolor": "white"
           },
           "yaxis": {
            "backgroundcolor": "#E5ECF6",
            "gridcolor": "white",
            "gridwidth": 2,
            "linecolor": "white",
            "showbackground": true,
            "ticks": "",
            "zerolinecolor": "white"
           },
           "zaxis": {
            "backgroundcolor": "#E5ECF6",
            "gridcolor": "white",
            "gridwidth": 2,
            "linecolor": "white",
            "showbackground": true,
            "ticks": "",
            "zerolinecolor": "white"
           }
          },
          "shapedefaults": {
           "line": {
            "color": "#2a3f5f"
           }
          },
          "ternary": {
           "aaxis": {
            "gridcolor": "white",
            "linecolor": "white",
            "ticks": ""
           },
           "baxis": {
            "gridcolor": "white",
            "linecolor": "white",
            "ticks": ""
           },
           "bgcolor": "#E5ECF6",
           "caxis": {
            "gridcolor": "white",
            "linecolor": "white",
            "ticks": ""
           }
          },
          "title": {
           "x": 0.05
          },
          "xaxis": {
           "automargin": true,
           "gridcolor": "white",
           "linecolor": "white",
           "ticks": "",
           "title": {
            "standoff": 15
           },
           "zerolinecolor": "white",
           "zerolinewidth": 2
          },
          "yaxis": {
           "automargin": true,
           "gridcolor": "white",
           "linecolor": "white",
           "ticks": "",
           "title": {
            "standoff": 15
           },
           "zerolinecolor": "white",
           "zerolinewidth": 2
          }
         }
        },
        "title": {
         "text": "Opinions over time"
        },
        "transition": {
         "duration": 0.1
        },
        "updatemenus": [
         {
          "buttons": [
           {
            "args": [
             null,
             {
              "frame": {
               "duration": 25,
               "redraw": false
              },
              "fromcurrent": true,
              "transition": {
               "duration": 0.1
              }
             }
            ],
            "label": "Play",
            "method": "animate"
           }
          ],
          "type": "buttons"
         }
        ],
        "xaxis": {
         "autorange": false,
         "range": [
          -1.6,
          1.6
         ]
        },
        "yaxis": {
         "autorange": false,
         "range": [
          0,
          2
         ]
        }
       }
      },
      "text/html": [
       "<div>                            <div id=\"657b14f6-933f-4152-a504-63b8b8c7a320\" class=\"plotly-graph-div\" style=\"height:525px; width:100%;\"></div>            <script type=\"text/javascript\">                require([\"plotly\"], function(Plotly) {                    window.PLOTLYENV=window.PLOTLYENV || {};                                    if (document.getElementById(\"657b14f6-933f-4152-a504-63b8b8c7a320\")) {                    Plotly.newPlot(                        \"657b14f6-933f-4152-a504-63b8b8c7a320\",                        [{\"marker\": {\"color\": \"SkyBlue\", \"size\": 15}, \"mode\": \"markers\", \"name\": \"Controlled\", \"type\": \"scatter\", \"x\": [-0.6514765776544906, -0.7, -0.6212236672284117, -0.5388238978739097, 0.6, 0.4, 0.4, 0.6, 0.5020009032614535, 0.6], \"y\": [1.0, 1.0, 1.0, 1.0, 1.0, 1.0, 1.0, 1.0, 1.0, 1.0]}, {\"mode\": \"markers\", \"name\": \"Uncontrolled\", \"opacity\": 0.8, \"type\": \"scatter\", \"x\": [-0.6514765776544906, -0.7, -0.6212236672284117, -0.5388238978739097, 0.6, 0.4, 0.4, 0.6, 0.5020009032614535, 0.6], \"y\": [1.0, 1.0, 1.0, 1.0, 1.0, 1.0, 1.0, 1.0, 1.0, 1.0]}],                        {\"template\": {\"data\": {\"bar\": [{\"error_x\": {\"color\": \"#2a3f5f\"}, \"error_y\": {\"color\": \"#2a3f5f\"}, \"marker\": {\"line\": {\"color\": \"#E5ECF6\", \"width\": 0.5}}, \"type\": \"bar\"}], \"barpolar\": [{\"marker\": {\"line\": {\"color\": \"#E5ECF6\", \"width\": 0.5}}, \"type\": \"barpolar\"}], \"carpet\": [{\"aaxis\": {\"endlinecolor\": \"#2a3f5f\", \"gridcolor\": \"white\", \"linecolor\": \"white\", \"minorgridcolor\": \"white\", \"startlinecolor\": \"#2a3f5f\"}, \"baxis\": {\"endlinecolor\": \"#2a3f5f\", \"gridcolor\": \"white\", \"linecolor\": \"white\", \"minorgridcolor\": \"white\", \"startlinecolor\": \"#2a3f5f\"}, \"type\": \"carpet\"}], \"choropleth\": [{\"colorbar\": {\"outlinewidth\": 0, \"ticks\": \"\"}, \"type\": \"choropleth\"}], \"contour\": [{\"colorbar\": {\"outlinewidth\": 0, \"ticks\": \"\"}, \"colorscale\": [[0.0, \"#0d0887\"], [0.1111111111111111, \"#46039f\"], [0.2222222222222222, \"#7201a8\"], [0.3333333333333333, \"#9c179e\"], [0.4444444444444444, \"#bd3786\"], [0.5555555555555556, \"#d8576b\"], [0.6666666666666666, \"#ed7953\"], [0.7777777777777778, \"#fb9f3a\"], [0.8888888888888888, \"#fdca26\"], [1.0, \"#f0f921\"]], \"type\": \"contour\"}], \"contourcarpet\": [{\"colorbar\": {\"outlinewidth\": 0, \"ticks\": \"\"}, \"type\": \"contourcarpet\"}], \"heatmap\": [{\"colorbar\": {\"outlinewidth\": 0, \"ticks\": \"\"}, \"colorscale\": [[0.0, \"#0d0887\"], [0.1111111111111111, \"#46039f\"], [0.2222222222222222, \"#7201a8\"], [0.3333333333333333, \"#9c179e\"], [0.4444444444444444, \"#bd3786\"], [0.5555555555555556, \"#d8576b\"], [0.6666666666666666, \"#ed7953\"], [0.7777777777777778, \"#fb9f3a\"], [0.8888888888888888, \"#fdca26\"], [1.0, \"#f0f921\"]], \"type\": \"heatmap\"}], \"heatmapgl\": [{\"colorbar\": {\"outlinewidth\": 0, \"ticks\": \"\"}, \"colorscale\": [[0.0, \"#0d0887\"], [0.1111111111111111, \"#46039f\"], [0.2222222222222222, \"#7201a8\"], [0.3333333333333333, \"#9c179e\"], [0.4444444444444444, \"#bd3786\"], [0.5555555555555556, \"#d8576b\"], [0.6666666666666666, \"#ed7953\"], [0.7777777777777778, \"#fb9f3a\"], [0.8888888888888888, \"#fdca26\"], [1.0, \"#f0f921\"]], \"type\": \"heatmapgl\"}], \"histogram\": [{\"marker\": {\"colorbar\": {\"outlinewidth\": 0, \"ticks\": \"\"}}, \"type\": \"histogram\"}], \"histogram2d\": [{\"colorbar\": {\"outlinewidth\": 0, \"ticks\": \"\"}, \"colorscale\": [[0.0, \"#0d0887\"], [0.1111111111111111, \"#46039f\"], [0.2222222222222222, \"#7201a8\"], [0.3333333333333333, \"#9c179e\"], [0.4444444444444444, \"#bd3786\"], [0.5555555555555556, \"#d8576b\"], [0.6666666666666666, \"#ed7953\"], [0.7777777777777778, \"#fb9f3a\"], [0.8888888888888888, \"#fdca26\"], [1.0, \"#f0f921\"]], \"type\": \"histogram2d\"}], \"histogram2dcontour\": [{\"colorbar\": {\"outlinewidth\": 0, \"ticks\": \"\"}, \"colorscale\": [[0.0, \"#0d0887\"], [0.1111111111111111, \"#46039f\"], [0.2222222222222222, \"#7201a8\"], [0.3333333333333333, \"#9c179e\"], [0.4444444444444444, \"#bd3786\"], [0.5555555555555556, \"#d8576b\"], [0.6666666666666666, \"#ed7953\"], [0.7777777777777778, \"#fb9f3a\"], [0.8888888888888888, \"#fdca26\"], [1.0, \"#f0f921\"]], \"type\": \"histogram2dcontour\"}], \"mesh3d\": [{\"colorbar\": {\"outlinewidth\": 0, \"ticks\": \"\"}, \"type\": \"mesh3d\"}], \"parcoords\": [{\"line\": {\"colorbar\": {\"outlinewidth\": 0, \"ticks\": \"\"}}, \"type\": \"parcoords\"}], \"pie\": [{\"automargin\": true, \"type\": \"pie\"}], \"scatter\": [{\"marker\": {\"colorbar\": {\"outlinewidth\": 0, \"ticks\": \"\"}}, \"type\": \"scatter\"}], \"scatter3d\": [{\"line\": {\"colorbar\": {\"outlinewidth\": 0, \"ticks\": \"\"}}, \"marker\": {\"colorbar\": {\"outlinewidth\": 0, \"ticks\": \"\"}}, \"type\": \"scatter3d\"}], \"scattercarpet\": [{\"marker\": {\"colorbar\": {\"outlinewidth\": 0, \"ticks\": \"\"}}, \"type\": \"scattercarpet\"}], \"scattergeo\": [{\"marker\": {\"colorbar\": {\"outlinewidth\": 0, \"ticks\": \"\"}}, \"type\": \"scattergeo\"}], \"scattergl\": [{\"marker\": {\"colorbar\": {\"outlinewidth\": 0, \"ticks\": \"\"}}, \"type\": \"scattergl\"}], \"scattermapbox\": [{\"marker\": {\"colorbar\": {\"outlinewidth\": 0, \"ticks\": \"\"}}, \"type\": \"scattermapbox\"}], \"scatterpolar\": [{\"marker\": {\"colorbar\": {\"outlinewidth\": 0, \"ticks\": \"\"}}, \"type\": \"scatterpolar\"}], \"scatterpolargl\": [{\"marker\": {\"colorbar\": {\"outlinewidth\": 0, \"ticks\": \"\"}}, \"type\": \"scatterpolargl\"}], \"scatterternary\": [{\"marker\": {\"colorbar\": {\"outlinewidth\": 0, \"ticks\": \"\"}}, \"type\": \"scatterternary\"}], \"surface\": [{\"colorbar\": {\"outlinewidth\": 0, \"ticks\": \"\"}, \"colorscale\": [[0.0, \"#0d0887\"], [0.1111111111111111, \"#46039f\"], [0.2222222222222222, \"#7201a8\"], [0.3333333333333333, \"#9c179e\"], [0.4444444444444444, \"#bd3786\"], [0.5555555555555556, \"#d8576b\"], [0.6666666666666666, \"#ed7953\"], [0.7777777777777778, \"#fb9f3a\"], [0.8888888888888888, \"#fdca26\"], [1.0, \"#f0f921\"]], \"type\": \"surface\"}], \"table\": [{\"cells\": {\"fill\": {\"color\": \"#EBF0F8\"}, \"line\": {\"color\": \"white\"}}, \"header\": {\"fill\": {\"color\": \"#C8D4E3\"}, \"line\": {\"color\": \"white\"}}, \"type\": \"table\"}]}, \"layout\": {\"annotationdefaults\": {\"arrowcolor\": \"#2a3f5f\", \"arrowhead\": 0, \"arrowwidth\": 1}, \"autotypenumbers\": \"strict\", \"coloraxis\": {\"colorbar\": {\"outlinewidth\": 0, \"ticks\": \"\"}}, \"colorscale\": {\"diverging\": [[0, \"#8e0152\"], [0.1, \"#c51b7d\"], [0.2, \"#de77ae\"], [0.3, \"#f1b6da\"], [0.4, \"#fde0ef\"], [0.5, \"#f7f7f7\"], [0.6, \"#e6f5d0\"], [0.7, \"#b8e186\"], [0.8, \"#7fbc41\"], [0.9, \"#4d9221\"], [1, \"#276419\"]], \"sequential\": [[0.0, \"#0d0887\"], [0.1111111111111111, \"#46039f\"], [0.2222222222222222, \"#7201a8\"], [0.3333333333333333, \"#9c179e\"], [0.4444444444444444, \"#bd3786\"], [0.5555555555555556, \"#d8576b\"], [0.6666666666666666, \"#ed7953\"], [0.7777777777777778, \"#fb9f3a\"], [0.8888888888888888, \"#fdca26\"], [1.0, \"#f0f921\"]], \"sequentialminus\": [[0.0, \"#0d0887\"], [0.1111111111111111, \"#46039f\"], [0.2222222222222222, \"#7201a8\"], [0.3333333333333333, \"#9c179e\"], [0.4444444444444444, \"#bd3786\"], [0.5555555555555556, \"#d8576b\"], [0.6666666666666666, \"#ed7953\"], [0.7777777777777778, \"#fb9f3a\"], [0.8888888888888888, \"#fdca26\"], [1.0, \"#f0f921\"]]}, \"colorway\": [\"#636efa\", \"#EF553B\", \"#00cc96\", \"#ab63fa\", \"#FFA15A\", \"#19d3f3\", \"#FF6692\", \"#B6E880\", \"#FF97FF\", \"#FECB52\"], \"font\": {\"color\": \"#2a3f5f\"}, \"geo\": {\"bgcolor\": \"white\", \"lakecolor\": \"white\", \"landcolor\": \"#E5ECF6\", \"showlakes\": true, \"showland\": true, \"subunitcolor\": \"white\"}, \"hoverlabel\": {\"align\": \"left\"}, \"hovermode\": \"closest\", \"mapbox\": {\"style\": \"light\"}, \"paper_bgcolor\": \"white\", \"plot_bgcolor\": \"#E5ECF6\", \"polar\": {\"angularaxis\": {\"gridcolor\": \"white\", \"linecolor\": \"white\", \"ticks\": \"\"}, \"bgcolor\": \"#E5ECF6\", \"radialaxis\": {\"gridcolor\": \"white\", \"linecolor\": \"white\", \"ticks\": \"\"}}, \"scene\": {\"xaxis\": {\"backgroundcolor\": \"#E5ECF6\", \"gridcolor\": \"white\", \"gridwidth\": 2, \"linecolor\": \"white\", \"showbackground\": true, \"ticks\": \"\", \"zerolinecolor\": \"white\"}, \"yaxis\": {\"backgroundcolor\": \"#E5ECF6\", \"gridcolor\": \"white\", \"gridwidth\": 2, \"linecolor\": \"white\", \"showbackground\": true, \"ticks\": \"\", \"zerolinecolor\": \"white\"}, \"zaxis\": {\"backgroundcolor\": \"#E5ECF6\", \"gridcolor\": \"white\", \"gridwidth\": 2, \"linecolor\": \"white\", \"showbackground\": true, \"ticks\": \"\", \"zerolinecolor\": \"white\"}}, \"shapedefaults\": {\"line\": {\"color\": \"#2a3f5f\"}}, \"ternary\": {\"aaxis\": {\"gridcolor\": \"white\", \"linecolor\": \"white\", \"ticks\": \"\"}, \"baxis\": {\"gridcolor\": \"white\", \"linecolor\": \"white\", \"ticks\": \"\"}, \"bgcolor\": \"#E5ECF6\", \"caxis\": {\"gridcolor\": \"white\", \"linecolor\": \"white\", \"ticks\": \"\"}}, \"title\": {\"x\": 0.05}, \"xaxis\": {\"automargin\": true, \"gridcolor\": \"white\", \"linecolor\": \"white\", \"ticks\": \"\", \"title\": {\"standoff\": 15}, \"zerolinecolor\": \"white\", \"zerolinewidth\": 2}, \"yaxis\": {\"automargin\": true, \"gridcolor\": \"white\", \"linecolor\": \"white\", \"ticks\": \"\", \"title\": {\"standoff\": 15}, \"zerolinecolor\": \"white\", \"zerolinewidth\": 2}}}, \"title\": {\"text\": \"Opinions over time\"}, \"transition\": {\"duration\": 0.1}, \"updatemenus\": [{\"buttons\": [{\"args\": [null, {\"frame\": {\"duration\": 25, \"redraw\": false}, \"fromcurrent\": true, \"transition\": {\"duration\": 0.1}}], \"label\": \"Play\", \"method\": \"animate\"}], \"type\": \"buttons\"}], \"xaxis\": {\"autorange\": false, \"range\": [-1.6, 1.6]}, \"yaxis\": {\"autorange\": false, \"range\": [0, 2]}},                        {\"responsive\": true}                    ).then(function(){\n",
       "                            Plotly.addFrames('657b14f6-933f-4152-a504-63b8b8c7a320', [{\"data\": [{\"marker\": {\"color\": \"SkyBlue\", \"size\": 15}, \"mode\": \"markers\", \"name\": \"Controlled\", \"x\": [-0.6514765776544906, -0.7, -0.6212236672284117, -0.5388238978739097, 0.6, 0.4, 0.4, 0.6, 0.5020009032614535, 0.6], \"y\": [1.0, 1.0, 1.0, 1.0, 1.0, 1.0, 1.0, 1.0, 1.0, 1.0], \"type\": \"scatter\"}, {\"mode\": \"markers\", \"name\": \"Uncontrolled\", \"opacity\": 0.8, \"x\": [-0.6514765776544906, -0.7, -0.6212236672284117, -0.5388238978739097, 0.6, 0.4, 0.4, 0.6, 0.5020009032614535, 0.6], \"y\": [1.0, 1.0, 1.0, 1.0, 1.0, 1.0, 1.0, 1.0, 1.0, 1.0], \"type\": \"scatter\"}]}, {\"data\": [{\"marker\": {\"color\": \"SkyBlue\", \"size\": 15}, \"mode\": \"markers\", \"name\": \"Controlled\", \"x\": [-0.6531591671366918, -0.6877861382485666, -0.6139013006724734, -0.5189630178075395, 0.5899176831913817, 0.37299020637632996, 0.39781771592503906, 0.5831651088938691, 0.4975360017429371, 0.5646503606805086], \"y\": [1.0, 1.0, 1.0, 1.0, 1.0, 1.0, 1.0, 1.0, 1.0, 1.0], \"type\": \"scatter\"}, {\"mode\": \"markers\", \"name\": \"Uncontrolled\", \"opacity\": 0.8, \"x\": [-0.6575666363198983, -0.7005788484634199, -0.6220465277694482, -0.5246891242724023, 0.6074180539322722, 0.38335635841699034, 0.41199684135323883, 0.5995486711308934, 0.5083335330869336, 0.581609189696002], \"y\": [1.0, 1.0, 1.0, 1.0, 1.0, 1.0, 1.0, 1.0, 1.0, 1.0], \"type\": \"scatter\"}]}, {\"data\": [{\"marker\": {\"color\": \"SkyBlue\", \"size\": 15}, \"mode\": \"markers\", \"name\": \"Controlled\", \"x\": [-0.6438947277830547, -0.671766593244903, -0.6067791010217717, -0.5177503559566986, 0.5647785417751127, 0.3617415367857219, 0.3908767979668978, 0.5497131356488162, 0.5061760301075195, 0.5587725818309908], \"y\": [1.0, 1.0, 1.0, 1.0, 1.0, 1.0, 1.0, 1.0, 1.0, 1.0], \"type\": \"scatter\"}, {\"mode\": \"markers\", \"name\": \"Uncontrolled\", \"opacity\": 0.8, \"x\": [-0.6528056014490878, -0.6972357367283182, -0.6230610213128827, -0.5286119727689724, 0.5996569424581432, 0.3820157623611988, 0.4191387416007522, 0.5821843558809899, 0.527710494993559, 0.5920733263391976], \"y\": [1.0, 1.0, 1.0, 1.0, 1.0, 1.0, 1.0, 1.0, 1.0, 1.0], \"type\": \"scatter\"}]}, {\"data\": [{\"marker\": {\"color\": \"SkyBlue\", \"size\": 15}, \"mode\": \"markers\", \"name\": \"Controlled\", \"x\": [-0.6417783757323853, -0.6654585255576999, -0.6038044531978315, -0.5363868883278096, 0.5421442032443754, 0.36251331563994554, 0.3776302573041823, 0.5212895365009804, 0.48971155719693116, 0.5337440532500278], \"y\": [1.0, 1.0, 1.0, 1.0, 1.0, 1.0, 1.0, 1.0, 1.0, 1.0], \"type\": \"scatter\"}, {\"mode\": \"markers\", \"name\": \"Uncontrolled\", \"opacity\": 0.8, \"x\": [-0.6550752807993866, -0.7033288606370017, -0.6281094103756837, -0.55235486740712, 0.5939449440948572, 0.3925321138274246, 0.4197706166149974, 0.5691777121502902, 0.5222713537948199, 0.5832459513582955], \"y\": [1.0, 1.0, 1.0, 1.0, 1.0, 1.0, 1.0, 1.0, 1.0, 1.0], \"type\": \"scatter\"}]}, {\"data\": [{\"marker\": {\"color\": \"SkyBlue\", \"size\": 15}, \"mode\": \"markers\", \"name\": \"Controlled\", \"x\": [-0.6311061478714812, -0.6570159208600731, -0.6027653456528028, -0.5303721118937686, 0.5091970934808216, 0.3618881809746166, 0.3689977538219454, 0.5049032789587022, 0.4766433800092215, 0.5122207460575408], \"y\": [1.0, 1.0, 1.0, 1.0, 1.0, 1.0, 1.0, 1.0, 1.0, 1.0], \"type\": \"scatter\"}, {\"mode\": \"markers\", \"name\": \"Uncontrolled\", \"opacity\": 0.8, \"x\": [-0.648708420697868, -0.7071713227164764, -0.6351263000558894, -0.5518087068686647, 0.5773766653803075, 0.4019188173883174, 0.4247640324522421, 0.5678893804886522, 0.5199742840401569, 0.5774976802370558], \"y\": [1.0, 1.0, 1.0, 1.0, 1.0, 1.0, 1.0, 1.0, 1.0, 1.0], \"type\": \"scatter\"}]}, {\"data\": [{\"marker\": {\"color\": \"SkyBlue\", \"size\": 15}, \"mode\": \"markers\", \"name\": \"Controlled\", \"x\": [-0.642598370600747, -0.6583277469779737, -0.6132278346234644, -0.5287946065688702, 0.4910442746389859, 0.36091087318052956, 0.3513292200094794, 0.4717760390401634, 0.46912035170116545, 0.5071778154848168], \"y\": [1.0, 1.0, 1.0, 1.0, 1.0, 1.0, 1.0, 1.0, 1.0, 1.0], \"type\": \"scatter\"}, {\"mode\": \"markers\", \"name\": \"Uncontrolled\", \"opacity\": 0.8, \"x\": [-0.6642984762742744, -0.720678141473783, -0.6537320445792377, -0.5555909753509622, 0.5750068519493953, 0.4110854385353179, 0.4205237892052286, 0.5496060333855366, 0.5229313341244092, 0.5877200020847119], \"y\": [1.0, 1.0, 1.0, 1.0, 1.0, 1.0, 1.0, 1.0, 1.0, 1.0], \"type\": \"scatter\"}]}, {\"data\": [{\"marker\": {\"color\": \"SkyBlue\", \"size\": 15}, \"mode\": \"markers\", \"name\": \"Controlled\", \"x\": [-0.6372146048127293, -0.6581549547530978, -0.6189072100115229, -0.5205727709127971, 0.4614277024517827, 0.3469259192043321, 0.3464063618305199, 0.4483334246532833, 0.46882695562520726, 0.4939592135212094], \"y\": [1.0, 1.0, 1.0, 1.0, 1.0, 1.0, 1.0, 1.0, 1.0, 1.0], \"type\": \"scatter\"}, {\"mode\": \"markers\", \"name\": \"Uncontrolled\", \"opacity\": 0.8, \"x\": [-0.6633747595629952, -0.7327603151054399, -0.667887591371149, -0.5525250448579627, 0.5608100354838156, 0.4073449347095159, 0.42874388443612227, 0.5403283548782573, 0.5329990530922409, 0.5896477155489981], \"y\": [1.0, 1.0, 1.0, 1.0, 1.0, 1.0, 1.0, 1.0, 1.0, 1.0], \"type\": \"scatter\"}]}, {\"data\": [{\"marker\": {\"color\": \"SkyBlue\", \"size\": 15}, \"mode\": \"markers\", \"name\": \"Controlled\", \"x\": [-0.6295133626863649, -0.6394785784549796, -0.6077919459515385, -0.5140023265384933, 0.4388187151483743, 0.3331480802348329, 0.3240042642847143, 0.4271167216737704, 0.4445017265440407, 0.48221989229334833], \"y\": [1.0, 1.0, 1.0, 1.0, 1.0, 1.0, 1.0, 1.0, 1.0, 1.0], \"type\": \"scatter\"}, {\"mode\": \"markers\", \"name\": \"Uncontrolled\", \"opacity\": 0.8, \"x\": [-0.6601138359677619, -0.7264619606887406, -0.6654402083023888, -0.5507283119724965, 0.5530133335799302, 0.4035956122763899, 0.4192531859721164, 0.5328841415418574, 0.5190810932508267, 0.5928087763821382], \"y\": [1.0, 1.0, 1.0, 1.0, 1.0, 1.0, 1.0, 1.0, 1.0, 1.0], \"type\": \"scatter\"}]}, {\"data\": [{\"marker\": {\"color\": \"SkyBlue\", \"size\": 15}, \"mode\": \"markers\", \"name\": \"Controlled\", \"x\": [-0.6427058459083037, -0.625720812902262, -0.5854688327486841, -0.5071350391189104, 0.4189771689468975, 0.3234788762573882, 0.28533543629949704, 0.40094768647265094, 0.4391743423272399, 0.47016734261794285], \"y\": [1.0, 1.0, 1.0, 1.0, 1.0, 1.0, 1.0, 1.0, 1.0, 1.0], \"type\": \"scatter\"}, {\"mode\": \"markers\", \"name\": \"Uncontrolled\", \"opacity\": 0.8, \"x\": [-0.6776085432772457, -0.7247665786620475, -0.6516382089315498, -0.5485512915247477, 0.5475112009391143, 0.4038375670622926, 0.39314530893572314, 0.5202094268771226, 0.5237939571685404, 0.59543652118045], \"y\": [1.0, 1.0, 1.0, 1.0, 1.0, 1.0, 1.0, 1.0, 1.0, 1.0], \"type\": \"scatter\"}]}, {\"data\": [{\"marker\": {\"color\": \"SkyBlue\", \"size\": 15}, \"mode\": \"markers\", \"name\": \"Controlled\", \"x\": [-0.6409473015617343, -0.6119522514943607, -0.5742677850727188, -0.5043185754801437, 0.40978074909873524, 0.3264549459862476, 0.26406714937539855, 0.38592824757794303, 0.42917337381494075, 0.45513230340531613], \"y\": [1.0, 1.0, 1.0, 1.0, 1.0, 1.0, 1.0, 1.0, 1.0, 1.0], \"type\": \"scatter\"}, {\"mode\": \"markers\", \"name\": \"Uncontrolled\", \"opacity\": 0.8, \"x\": [-0.6803430945149584, -0.7228879639282149, -0.6485338976560041, -0.5503098789309682, 0.5521896759106275, 0.41670784201358235, 0.383795332198901, 0.5182186928771302, 0.5239136406018945, 0.5948393809558918], \"y\": [1.0, 1.0, 1.0, 1.0, 1.0, 1.0, 1.0, 1.0, 1.0, 1.0], \"type\": \"scatter\"}]}, {\"data\": [{\"marker\": {\"color\": \"SkyBlue\", \"size\": 15}, \"mode\": \"markers\", \"name\": \"Controlled\", \"x\": [-0.6386835995850682, -0.5944635208463084, -0.5700760616767243, -0.5118721463617034, 0.4046981322957778, 0.31290989642327066, 0.26117208851055285, 0.36687724108076003, 0.42544839164672477, 0.41961290272060153], \"y\": [1.0, 1.0, 1.0, 1.0, 1.0, 1.0, 1.0, 1.0, 1.0, 1.0], \"type\": \"scatter\"}, {\"mode\": \"markers\", \"name\": \"Uncontrolled\", \"opacity\": 0.8, \"x\": [-0.6825307392353577, -0.7170307595531775, -0.6522542745566405, -0.562498848203837, 0.5607569753595527, 0.41325622893933667, 0.3924940873364543, 0.5118945286617603, 0.5301981230293623, 0.5734247979228285], \"y\": [1.0, 1.0, 1.0, 1.0, 1.0, 1.0, 1.0, 1.0, 1.0, 1.0], \"type\": \"scatter\"}]}, {\"data\": [{\"marker\": {\"color\": \"SkyBlue\", \"size\": 15}, \"mode\": \"markers\", \"name\": \"Controlled\", \"x\": [-0.6274260334052153, -0.5819657326555886, -0.5720412446111741, -0.5206518631470124, 0.3954428650015329, 0.3219197655083882, 0.24775466760277776, 0.35147809818015535, 0.4301514444253063, 0.4125709061082237], \"y\": [1.0, 1.0, 1.0, 1.0, 1.0, 1.0, 1.0, 1.0, 1.0, 1.0], \"type\": \"scatter\"}, {\"mode\": \"markers\", \"name\": \"Uncontrolled\", \"opacity\": 0.8, \"x\": [-0.6756418398013803, -0.7157413043920094, -0.6620298637904973, -0.5762174991719498, 0.5651073727350043, 0.4323989967432285, 0.3905989351532767, 0.5089838695173355, 0.5447882244334966, 0.5799436858109538], \"y\": [1.0, 1.0, 1.0, 1.0, 1.0, 1.0, 1.0, 1.0, 1.0, 1.0], \"type\": \"scatter\"}]}, {\"data\": [{\"marker\": {\"color\": \"SkyBlue\", \"size\": 15}, \"mode\": \"markers\", \"name\": \"Controlled\", \"x\": [-0.6228340085905094, -0.5794971806120242, -0.5634966823547913, -0.5235596941776568, 0.37805066867138143, 0.30250243433364027, 0.24093981773747808, 0.32998453208444956, 0.4131073061869298, 0.4070334432613729], \"y\": [1.0, 1.0, 1.0, 1.0, 1.0, 1.0, 1.0, 1.0, 1.0, 1.0], \"type\": \"scatter\"}, {\"mode\": \"markers\", \"name\": \"Uncontrolled\", \"opacity\": 0.8, \"x\": [-0.6752422572902564, -0.724198504729357, -0.6613581295937846, -0.58434586464454, 0.5611195967438433, 0.42340358841636105, 0.39499542142363286, 0.4997103777691673, 0.5377660571469365, 0.5877640941820208], \"y\": [1.0, 1.0, 1.0, 1.0, 1.0, 1.0, 1.0, 1.0, 1.0, 1.0], \"type\": \"scatter\"}]}, {\"data\": [{\"marker\": {\"color\": \"SkyBlue\", \"size\": 15}, \"mode\": \"markers\", \"name\": \"Controlled\", \"x\": [-0.6071679940792317, -0.5768401848994308, -0.562087705645799, -0.5283747714076156, 0.3674563154090007, 0.29559990439341743, 0.23412488108050233, 0.31742417857193317, 0.40906628946510126, 0.3874438960627275], \"y\": [1.0, 1.0, 1.0, 1.0, 1.0, 1.0, 1.0, 1.0, 1.0, 1.0], \"type\": \"scatter\"}, {\"mode\": \"markers\", \"name\": \"Uncontrolled\", \"opacity\": 0.8, \"x\": [-0.6636996028312169, -0.7324487779917538, -0.6676097645522051, -0.5944273727027507, 0.5636148808058972, 0.4267217872186057, 0.3992646811931944, 0.49913607984942165, 0.5434528734502337, 0.5814479838965484], \"y\": [1.0, 1.0, 1.0, 1.0, 1.0, 1.0, 1.0, 1.0, 1.0, 1.0], \"type\": \"scatter\"}]}, {\"data\": [{\"marker\": {\"color\": \"SkyBlue\", \"size\": 15}, \"mode\": \"markers\", \"name\": \"Controlled\", \"x\": [-0.6112656708514773, -0.5429461533135137, -0.5537933986434214, -0.526926123825123, 0.3600811554671966, 0.2764997204793586, 0.22892717114742667, 0.3224069809310774, 0.404713058995555, 0.3770785793174839], \"y\": [1.0, 1.0, 1.0, 1.0, 1.0, 1.0, 1.0, 1.0, 1.0, 1.0], \"type\": \"scatter\"}, {\"mode\": \"markers\", \"name\": \"Uncontrolled\", \"opacity\": 0.8, \"x\": [-0.6716038488962187, -0.7094210343274988, -0.6669265593101851, -0.5984017459312504, 0.569062164018521, 0.4178375313803451, 0.4049608309290303, 0.5160214936605478, 0.5487676163098033, 0.5839549956249024], \"y\": [1.0, 1.0, 1.0, 1.0, 1.0, 1.0, 1.0, 1.0, 1.0, 1.0], \"type\": \"scatter\"}]}, {\"data\": [{\"marker\": {\"color\": \"SkyBlue\", \"size\": 15}, \"mode\": \"markers\", \"name\": \"Controlled\", \"x\": [-0.6075391023677369, -0.5471286408670434, -0.5463911400023236, -0.5249700308920702, 0.33685602591551955, 0.2679657074570278, 0.22490703311925503, 0.3193105836528969, 0.38817231588014417, 0.3617495709879442], \"y\": [1.0, 1.0, 1.0, 1.0, 1.0, 1.0, 1.0, 1.0, 1.0, 1.0], \"type\": \"scatter\"}, {\"mode\": \"markers\", \"name\": \"Uncontrolled\", \"opacity\": 0.8, \"x\": [-0.6716718118340315, -0.7238055581276505, -0.6670594789425921, -0.6020157594838778, 0.5585605723592952, 0.4191027339200512, 0.41172481982437154, 0.5249331297270463, 0.5418124275273758, 0.5813325569627639], \"y\": [1.0, 1.0, 1.0, 1.0, 1.0, 1.0, 1.0, 1.0, 1.0, 1.0], \"type\": \"scatter\"}]}, {\"data\": [{\"marker\": {\"color\": \"SkyBlue\", \"size\": 15}, \"mode\": \"markers\", \"name\": \"Controlled\", \"x\": [-0.6017993184972916, -0.5431132266155416, -0.5284692164118497, -0.5238221998156668, 0.319969627516847, 0.26640345046773, 0.21395482004815286, 0.2941111688082545, 0.37310777567318426, 0.3408771921351034], \"y\": [1.0, 1.0, 1.0, 1.0, 1.0, 1.0, 1.0, 1.0, 1.0, 1.0], \"type\": \"scatter\"}, {\"mode\": \"markers\", \"name\": \"Uncontrolled\", \"opacity\": 0.8, \"x\": [-0.6696073000211449, -0.7302049940893506, -0.6565168737090317, -0.6064151525487741, 0.5538796322908518, 0.42720575655757176, 0.41145519761318516, 0.5117871143138031, 0.5360308892065129, 0.5727996572793197], \"y\": [1.0, 1.0, 1.0, 1.0, 1.0, 1.0, 1.0, 1.0, 1.0, 1.0], \"type\": \"scatter\"}]}, {\"data\": [{\"marker\": {\"color\": \"SkyBlue\", \"size\": 15}, \"mode\": \"markers\", \"name\": \"Controlled\", \"x\": [-0.6000138665431366, -0.532493756544484, -0.5215891685600803, -0.5211463917054986, 0.3217895456867939, 0.27007257721038086, 0.1936676441244746, 0.27473392319968565, 0.3682608550448844, 0.33253625195290504], \"y\": [1.0, 1.0, 1.0, 1.0, 1.0, 1.0, 1.0, 1.0, 1.0, 1.0], \"type\": \"scatter\"}, {\"mode\": \"markers\", \"name\": \"Uncontrolled\", \"opacity\": 0.8, \"x\": [-0.6713934016006142, -0.7299706381267899, -0.6565810965156395, -0.6093558774251457, 0.5675078723540817, 0.44067074460320216, 0.40164765556581533, 0.504030485465236, 0.5402049809349775, 0.5763403602931744], \"y\": [1.0, 1.0, 1.0, 1.0, 1.0, 1.0, 1.0, 1.0, 1.0, 1.0], \"type\": \"scatter\"}]}, {\"data\": [{\"marker\": {\"color\": \"SkyBlue\", \"size\": 15}, \"mode\": \"markers\", \"name\": \"Controlled\", \"x\": [-0.5914860101476569, -0.5182504530097456, -0.5130097901006585, -0.5067786332372627, 0.3175410478484346, 0.2612019860772823, 0.17293239014813225, 0.2578143149003566, 0.3519405694652567, 0.31857273230085126], \"y\": [1.0, 1.0, 1.0, 1.0, 1.0, 1.0, 1.0, 1.0, 1.0, 1.0], \"type\": \"scatter\"}, {\"mode\": \"markers\", \"name\": \"Uncontrolled\", \"opacity\": 0.8, \"x\": [-0.6664431633456153, -0.7258696045621292, -0.6548453912378006, -0.6006295822305083, 0.575039899485088, 0.4417912518441125, 0.39105712095030076, 0.4983363473247888, 0.5328779304931367, 0.574109112015526], \"y\": [1.0, 1.0, 1.0, 1.0, 1.0, 1.0, 1.0, 1.0, 1.0, 1.0], \"type\": \"scatter\"}]}, {\"data\": [{\"marker\": {\"color\": \"SkyBlue\", \"size\": 15}, \"mode\": \"markers\", \"name\": \"Controlled\", \"x\": [-0.5800858902021349, -0.5053909005675349, -0.5199098881511027, -0.5229919271483023, 0.30189367370830184, 0.24259469458068178, 0.15794964712461285, 0.25286319783308825, 0.3444647301247509, 0.30950599306441384], \"y\": [1.0, 1.0, 1.0, 1.0, 1.0, 1.0, 1.0, 1.0, 1.0, 1.0], \"type\": \"scatter\"}, {\"mode\": \"markers\", \"name\": \"Uncontrolled\", \"opacity\": 0.8, \"x\": [-0.6584304219875703, -0.722878678609642, -0.6684731990116971, -0.6222118076381887, 0.5710670540491367, 0.4330847232813141, 0.3858297829731926, 0.5043460260020143, 0.5341607741767815, 0.576475499643609], \"y\": [1.0, 1.0, 1.0, 1.0, 1.0, 1.0, 1.0, 1.0, 1.0, 1.0], \"type\": \"scatter\"}]}, {\"data\": [{\"marker\": {\"color\": \"SkyBlue\", \"size\": 15}, \"mode\": \"markers\", \"name\": \"Controlled\", \"x\": [-0.5769067981519757, -0.5138325230396305, -0.5013725331832759, -0.5241363043052086, 0.30957291370028817, 0.228905912785153, 0.15188913806462337, 0.23154425659643837, 0.3495876646904386, 0.2895853214818724], \"y\": [1.0, 1.0, 1.0, 1.0, 1.0, 1.0, 1.0, 1.0, 1.0, 1.0], \"type\": \"scatter\"}, {\"mode\": \"markers\", \"name\": \"Uncontrolled\", \"opacity\": 0.8, \"x\": [-0.6583445064482267, -0.74086552294208, -0.6568453617068145, -0.62917208302973, 0.5901337962593067, 0.4289183645867559, 0.38918493631527845, 0.49402339778291576, 0.5480226408178918, 0.5677545175900823], \"y\": [1.0, 1.0, 1.0, 1.0, 1.0, 1.0, 1.0, 1.0, 1.0, 1.0], \"type\": \"scatter\"}]}, {\"data\": [{\"marker\": {\"color\": \"SkyBlue\", \"size\": 15}, \"mode\": \"markers\", \"name\": \"Controlled\", \"x\": [-0.5785980913881216, -0.4943542158092177, -0.5004068443991961, -0.5207267743076499, 0.29374513106310424, 0.2261182906135351, 0.14983651291944178, 0.23007788177977403, 0.32870983544460236, 0.281932043763186], \"y\": [1.0, 1.0, 1.0, 1.0, 1.0, 1.0, 1.0, 1.0, 1.0, 1.0], \"type\": \"scatter\"}, {\"mode\": \"markers\", \"name\": \"Uncontrolled\", \"opacity\": 0.8, \"x\": [-0.6630450503972826, -0.7311786568479429, -0.6622669204120202, -0.6316618657426459, 0.5857492250399169, 0.4353832616248343, 0.3964022511897051, 0.5032328027760661, 0.5360429717399843, 0.570976734322909], \"y\": [1.0, 1.0, 1.0, 1.0, 1.0, 1.0, 1.0, 1.0, 1.0, 1.0], \"type\": \"scatter\"}]}, {\"data\": [{\"marker\": {\"color\": \"SkyBlue\", \"size\": 15}, \"mode\": \"markers\", \"name\": \"Controlled\", \"x\": [-0.578384948587986, -0.4768155357836028, -0.5045356891419115, -0.5305979276772645, 0.27277220321323387, 0.20609484797385944, 0.13249599856348274, 0.2306071056213714, 0.3131709386173644, 0.27905506603234653], \"y\": [1.0, 1.0, 1.0, 1.0, 1.0, 1.0, 1.0, 1.0, 1.0, 1.0], \"type\": \"scatter\"}, {\"mode\": \"markers\", \"name\": \"Uncontrolled\", \"opacity\": 0.8, \"x\": [-0.6658871557087169, -0.7230234252052175, -0.6728569947825961, -0.6474749524522725, 0.5760482353310669, 0.42467429393590095, 0.38830738177987056, 0.514406240352463, 0.5289656462327591, 0.5787783693076519], \"y\": [1.0, 1.0, 1.0, 1.0, 1.0, 1.0, 1.0, 1.0, 1.0, 1.0], \"type\": \"scatter\"}]}, {\"data\": [{\"marker\": {\"color\": \"SkyBlue\", \"size\": 15}, \"mode\": \"markers\", \"name\": \"Controlled\", \"x\": [-0.5881543213544596, -0.4694851878074867, -0.4969630874714177, -0.5089924130009067, 0.26917351715610793, 0.21441684168286626, 0.1211739435068962, 0.21377464855103823, 0.29377001796106444, 0.2768393232652887], \"y\": [1.0, 1.0, 1.0, 1.0, 1.0, 1.0, 1.0, 1.0, 1.0, 1.0], \"type\": \"scatter\"}, {\"mode\": \"markers\", \"name\": \"Uncontrolled\", \"opacity\": 0.8, \"x\": [-0.6786327489918776, -0.7246627927101531, -0.6719122692664815, -0.6321298843535874, 0.5833570613484275, 0.4418947660836019, 0.385891219394661, 0.5082813864235894, 0.5178465565108122, 0.5871152559943268], \"y\": [1.0, 1.0, 1.0, 1.0, 1.0, 1.0, 1.0, 1.0, 1.0, 1.0], \"type\": \"scatter\"}]}, {\"data\": [{\"marker\": {\"color\": \"SkyBlue\", \"size\": 15}, \"mode\": \"markers\", \"name\": \"Controlled\", \"x\": [-0.5727664423887477, -0.47053420166541277, -0.49441736725444085, -0.5050019637074112, 0.26655146083368697, 0.2096042360640522, 0.11747299173302525, 0.2120599008752335, 0.28760827915635157, 0.2723690333964868], \"y\": [1.0, 1.0, 1.0, 1.0, 1.0, 1.0, 1.0, 1.0, 1.0, 1.0], \"type\": \"scatter\"}, {\"mode\": \"markers\", \"name\": \"Uncontrolled\", \"opacity\": 0.8, \"x\": [-0.6665058092803047, -0.7345761636509273, -0.6759467742315198, -0.6339056902705883, 0.5916169621352283, 0.4463259670973169, 0.3909308034391765, 0.516871188206562, 0.5195690337257227, 0.5930299900877144], \"y\": [1.0, 1.0, 1.0, 1.0, 1.0, 1.0, 1.0, 1.0, 1.0, 1.0], \"type\": \"scatter\"}]}, {\"data\": [{\"marker\": {\"color\": \"SkyBlue\", \"size\": 15}, \"mode\": \"markers\", \"name\": \"Controlled\", \"x\": [-0.5731656206648852, -0.469902480391472, -0.5005891942631038, -0.48335637280375565, 0.2512383076558951, 0.20647873080402115, 0.11040888781446367, 0.2083710145671524, 0.27838351101748776, 0.265597875237282], \"y\": [1.0, 1.0, 1.0, 1.0, 1.0, 1.0, 1.0, 1.0, 1.0, 1.0], \"type\": \"scatter\"}, {\"mode\": \"markers\", \"name\": \"Uncontrolled\", \"opacity\": 0.8, \"x\": [-0.6698425149507776, -0.742886927091819, -0.6886680691535475, -0.6179604804179536, 0.5870396817978301, 0.45232422357709834, 0.3925064325774244, 0.5235211112608581, 0.5181560592991266, 0.5965006080465262], \"y\": [1.0, 1.0, 1.0, 1.0, 1.0, 1.0, 1.0, 1.0, 1.0, 1.0], \"type\": \"scatter\"}]}, {\"data\": [{\"marker\": {\"color\": \"SkyBlue\", \"size\": 15}, \"mode\": \"markers\", \"name\": \"Controlled\", \"x\": [-0.5903181125688098, -0.45757903335136174, -0.4949475765963748, -0.4773363226168304, 0.24870807603246847, 0.20177426595144074, 0.1154607654302309, 0.19163633790875534, 0.2640432264522544, 0.2415929305919109], \"y\": [1.0, 1.0, 1.0, 1.0, 1.0, 1.0, 1.0, 1.0, 1.0, 1.0], \"type\": \"scatter\"}, {\"mode\": \"markers\", \"name\": \"Uncontrolled\", \"opacity\": 0.8, \"x\": [-0.6899535597473215, -0.7396116007766581, -0.6898660718989666, -0.6170678179299497, 0.5950169304615398, 0.45675074001710886, 0.4059939370191074, 0.5170847259284003, 0.5114837443195017, 0.5825441203711437], \"y\": [1.0, 1.0, 1.0, 1.0, 1.0, 1.0, 1.0, 1.0, 1.0, 1.0], \"type\": \"scatter\"}]}, {\"data\": [{\"marker\": {\"color\": \"SkyBlue\", \"size\": 15}, \"mode\": \"markers\", \"name\": \"Controlled\", \"x\": [-0.5971370671944549, -0.4605444121253763, -0.4947899589070466, -0.4742856269430667, 0.23506760222242015, 0.17701507664972627, 0.09086318357507195, 0.17492733075368744, 0.25962997731976756, 0.2359350850591144], \"y\": [1.0, 1.0, 1.0, 1.0, 1.0, 1.0, 1.0, 1.0, 1.0, 1.0], \"type\": \"scatter\"}, {\"mode\": \"markers\", \"name\": \"Uncontrolled\", \"opacity\": 0.8, \"x\": [-0.7001495312006237, -0.7514057553910668, -0.6964869466005276, -0.6190895854888786, 0.5919013886306748, 0.44121851448575433, 0.38992709655432745, 0.510347806484614, 0.514295362677618, 0.5865623523012027], \"y\": [1.0, 1.0, 1.0, 1.0, 1.0, 1.0, 1.0, 1.0, 1.0, 1.0], \"type\": \"scatter\"}]}, {\"data\": [{\"marker\": {\"color\": \"SkyBlue\", \"size\": 15}, \"mode\": \"markers\", \"name\": \"Controlled\", \"x\": [-0.5923533871054136, -0.4591504793938949, -0.50951494738365, -0.4730782694041046, 0.22418618277636126, 0.16085479020597349, 0.08729417416485151, 0.15641229925874897, 0.24521089773396149, 0.23030505278946684], \"y\": [1.0, 1.0, 1.0, 1.0, 1.0, 1.0, 1.0, 1.0, 1.0, 1.0], \"type\": \"scatter\"}, {\"mode\": \"markers\", \"name\": \"Uncontrolled\", \"opacity\": 0.8, \"x\": [-0.6988341594952969, -0.7589277914233523, -0.718031579155727, -0.6228325481792446, 0.5911869269041282, 0.43374829508138446, 0.39437064286434237, 0.501548758953019, 0.5072128302797815, 0.5905017879580329], \"y\": [1.0, 1.0, 1.0, 1.0, 1.0, 1.0, 1.0, 1.0, 1.0, 1.0], \"type\": \"scatter\"}]}, {\"data\": [{\"marker\": {\"color\": \"SkyBlue\", \"size\": 15}, \"mode\": \"markers\", \"name\": \"Controlled\", \"x\": [-0.5957675349942008, -0.44083788832587495, -0.5119841943941104, -0.46970636646827324, 0.21871055945235646, 0.1543089512371633, 0.09061538573608571, 0.1497475679387023, 0.2311300829783124, 0.22088407000712817], \"y\": [1.0, 1.0, 1.0, 1.0, 1.0, 1.0, 1.0, 1.0, 1.0, 1.0], \"type\": \"scatter\"}, {\"mode\": \"markers\", \"name\": \"Uncontrolled\", \"opacity\": 0.8, \"x\": [-0.7056638510464444, -0.7494554503446597, -0.727752589427148, -0.6243295713761464, 0.595803545843616, 0.43556010774420983, 0.405648831376741, 0.5043397622959606, 0.5002142773576198, 0.5905415261717644], \"y\": [1.0, 1.0, 1.0, 1.0, 1.0, 1.0, 1.0, 1.0, 1.0, 1.0], \"type\": \"scatter\"}]}, {\"data\": [{\"marker\": {\"color\": \"SkyBlue\", \"size\": 15}, \"mode\": \"markers\", \"name\": \"Controlled\", \"x\": [-0.593852905381287, -0.440362012747727, -0.5005725543231819, -0.47153021508529297, 0.2112373585994283, 0.14791247333262128, 0.113006858670117, 0.13630684119371816, 0.2231054130146017, 0.2092332747120013], \"y\": [1.0, 1.0, 1.0, 1.0, 1.0, 1.0, 1.0, 1.0, 1.0, 1.0], \"type\": \"scatter\"}, {\"mode\": \"markers\", \"name\": \"Uncontrolled\", \"opacity\": 0.8, \"x\": [-0.7072700376622137, -0.7573802484109443, -0.7237656983302683, -0.6309973578448799, 0.5983862931305374, 0.43742147486775396, 0.43607994446078124, 0.5002126403437235, 0.4988856868418755, 0.5881618188232315], \"y\": [1.0, 1.0, 1.0, 1.0, 1.0, 1.0, 1.0, 1.0, 1.0, 1.0], \"type\": \"scatter\"}]}, {\"data\": [{\"marker\": {\"color\": \"SkyBlue\", \"size\": 15}, \"mode\": \"markers\", \"name\": \"Controlled\", \"x\": [-0.586552403388438, -0.42404384743439993, -0.4974660372126962, -0.47302911339317194, 0.1898863258164813, 0.13868608442817462, 0.11755992925766676, 0.13492592852102647, 0.2159381112456139, 0.20740366749560055], \"y\": [1.0, 1.0, 1.0, 1.0, 1.0, 1.0, 1.0, 1.0, 1.0, 1.0], \"type\": \"scatter\"}, {\"mode\": \"markers\", \"name\": \"Uncontrolled\", \"opacity\": 0.8, \"x\": [-0.7035079996796219, -0.7495129082197914, -0.7277599157821917, -0.6374858204220912, 0.5869892773351655, 0.43635623137936325, 0.4491348978542705, 0.5079266050747968, 0.49815024871895963, 0.5954312858471927], \"y\": [1.0, 1.0, 1.0, 1.0, 1.0, 1.0, 1.0, 1.0, 1.0, 1.0], \"type\": \"scatter\"}]}, {\"data\": [{\"marker\": {\"color\": \"SkyBlue\", \"size\": 15}, \"mode\": \"markers\", \"name\": \"Controlled\", \"x\": [-0.58526651465587, -0.4288411776193185, -0.48542695661699387, -0.4626394641140947, 0.19227101575861166, 0.13789672034046388, 0.10668610153834354, 0.13244067786067554, 0.21983376541224586, 0.20553259733660575], \"y\": [1.0, 1.0, 1.0, 1.0, 1.0, 1.0, 1.0, 1.0, 1.0, 1.0], \"type\": \"scatter\"}, {\"mode\": \"markers\", \"name\": \"Uncontrolled\", \"opacity\": 0.8, \"x\": [-0.705576075879739, -0.762404721399564, -0.7227763078996613, -0.6322085263841892, 0.5989267394545127, 0.4435035355345029, 0.44681645513562257, 0.5145263641571428, 0.5083674258967507, 0.6026063568081785], \"y\": [1.0, 1.0, 1.0, 1.0, 1.0, 1.0, 1.0, 1.0, 1.0, 1.0], \"type\": \"scatter\"}]}, {\"data\": [{\"marker\": {\"color\": \"SkyBlue\", \"size\": 15}, \"mode\": \"markers\", \"name\": \"Controlled\", \"x\": [-0.5798499514882918, -0.42787621771733303, -0.49528866748678724, -0.4563897920602234, 0.18593005029278187, 0.1437431641015668, 0.07783934571788423, 0.13618090477526523, 0.21178080784064618, 0.18253668450031696], \"y\": [1.0, 1.0, 1.0, 1.0, 1.0, 1.0, 1.0, 1.0, 1.0, 1.0], \"type\": \"scatter\"}, {\"mode\": \"markers\", \"name\": \"Uncontrolled\", \"opacity\": 0.8, \"x\": [-0.7034797358905909, -0.7697436411390554, -0.7394236448850373, -0.6308304357205435, 0.6021380439927184, 0.4572591112426597, 0.4262872324916644, 0.5273033521406748, 0.5067853018375617, 0.588605542297955], \"y\": [1.0, 1.0, 1.0, 1.0, 1.0, 1.0, 1.0, 1.0, 1.0, 1.0], \"type\": \"scatter\"}]}, {\"data\": [{\"marker\": {\"color\": \"SkyBlue\", \"size\": 15}, \"mode\": \"markers\", \"name\": \"Controlled\", \"x\": [-0.5688168386999282, -0.43085347183761163, -0.5111747161357624, -0.4676292201977736, 0.17195702956480133, 0.13636371069745956, 0.08240079807077155, 0.11318356098922874, 0.1962681781830098, 0.1762142743206604], \"y\": [1.0, 1.0, 1.0, 1.0, 1.0, 1.0, 1.0, 1.0, 1.0, 1.0], \"type\": \"scatter\"}, {\"mode\": \"markers\", \"name\": \"Uncontrolled\", \"opacity\": 0.8, \"x\": [-0.6956056281013802, -0.7810415256124273, -0.762468063899151, -0.6467427986422849, 0.5974866896200157, 0.4580743648430156, 0.43846544325546627, 0.5134753010601166, 0.49757578186917245, 0.5905884299854787], \"y\": [1.0, 1.0, 1.0, 1.0, 1.0, 1.0, 1.0, 1.0, 1.0, 1.0], \"type\": \"scatter\"}]}, {\"data\": [{\"marker\": {\"color\": \"SkyBlue\", \"size\": 15}, \"mode\": \"markers\", \"name\": \"Controlled\", \"x\": [-0.5631686501269124, -0.42115276215461656, -0.49662782724546384, -0.45043925735283846, 0.15036721084175023, 0.13469955948784154, 0.07139269532965124, 0.10648313460107571, 0.18871885490429735, 0.1625868521779504], \"y\": [1.0, 1.0, 1.0, 1.0, 1.0, 1.0, 1.0, 1.0, 1.0, 1.0], \"type\": \"scatter\"}, {\"mode\": \"markers\", \"name\": \"Uncontrolled\", \"opacity\": 0.8, \"x\": [-0.6929456962125574, -0.7796324503969554, -0.7554985087842321, -0.6344819186756335, 0.5849900397814055, 0.46450156483968946, 0.4351657305375966, 0.5156083250483444, 0.4960201567945745, 0.5850980767663345], \"y\": [1.0, 1.0, 1.0, 1.0, 1.0, 1.0, 1.0, 1.0, 1.0, 1.0], \"type\": \"scatter\"}]}, {\"data\": [{\"marker\": {\"color\": \"SkyBlue\", \"size\": 15}, \"mode\": \"markers\", \"name\": \"Controlled\", \"x\": [-0.5642791214935393, -0.41210943196787814, -0.5007199061946724, -0.43931182720110745, 0.12776476708634235, 0.13279532823343715, 0.09348690872383508, 0.10343394070821742, 0.17053709195208433, 0.13938708554614335], \"y\": [1.0, 1.0, 1.0, 1.0, 1.0, 1.0, 1.0, 1.0, 1.0, 1.0], \"type\": \"scatter\"}, {\"mode\": \"markers\", \"name\": \"Uncontrolled\", \"opacity\": 0.8, \"x\": [-0.6968741603854183, -0.7787807577694114, -0.766859695868859, -0.6279189556695218, 0.5709591147804958, 0.4707008681425413, 0.4646663837071034, 0.5212696144940163, 0.4836836887398551, 0.569623267037343], \"y\": [1.0, 1.0, 1.0, 1.0, 1.0, 1.0, 1.0, 1.0, 1.0, 1.0], \"type\": \"scatter\"}]}, {\"data\": [{\"marker\": {\"color\": \"SkyBlue\", \"size\": 15}, \"mode\": \"markers\", \"name\": \"Controlled\", \"x\": [-0.5742735915925608, -0.4100406743538453, -0.5022518289152063, -0.4345892911747377, 0.12368329663440489, 0.1365119141206179, 0.07505392506522082, 0.08732823249465031, 0.16565679694529287, 0.14569208813048803], \"y\": [1.0, 1.0, 1.0, 1.0, 1.0, 1.0, 1.0, 1.0, 1.0, 1.0], \"type\": \"scatter\"}, {\"mode\": \"markers\", \"name\": \"Uncontrolled\", \"opacity\": 0.8, \"x\": [-0.7096796982369882, -0.784805552365798, -0.7758339936320283, -0.6275522817828025, 0.5749856058492427, 0.4825424893086856, 0.4540320293754867, 0.5138652638863888, 0.4840246734341931, 0.5830760366924682], \"y\": [1.0, 1.0, 1.0, 1.0, 1.0, 1.0, 1.0, 1.0, 1.0, 1.0], \"type\": \"scatter\"}]}, {\"data\": [{\"marker\": {\"color\": \"SkyBlue\", \"size\": 15}, \"mode\": \"markers\", \"name\": \"Controlled\", \"x\": [-0.5898006409232478, -0.41770072434769123, -0.49327659578587135, -0.42473584466969355, 0.11773800067488685, 0.1435493934898012, 0.06996528916702809, 0.10562876811934378, 0.15126006918050067, 0.15694558938447606], \"y\": [1.0, 1.0, 1.0, 1.0, 1.0, 1.0, 1.0, 1.0, 1.0, 1.0], \"type\": \"scatter\"}, {\"mode\": \"markers\", \"name\": \"Uncontrolled\", \"opacity\": 0.8, \"x\": [-0.72831217012573, -0.8004467256941958, -0.7744265536170721, -0.6218505653924083, 0.5771052702756607, 0.4978480792086736, 0.45639437195237487, 0.5405491151639582, 0.47484227347660435, 0.6015915540649528], \"y\": [1.0, 1.0, 1.0, 1.0, 1.0, 1.0, 1.0, 1.0, 1.0, 1.0], \"type\": \"scatter\"}]}, {\"data\": [{\"marker\": {\"color\": \"SkyBlue\", \"size\": 15}, \"mode\": \"markers\", \"name\": \"Controlled\", \"x\": [-0.5886878591712578, -0.40559931439541835, -0.5061659157493124, -0.41603654079086455, 0.11537628579560652, 0.1252122112478969, 0.06830587489296093, 0.10110417687036613, 0.14180326022383508, 0.15067687447806438], \"y\": [1.0, 1.0, 1.0, 1.0, 1.0, 1.0, 1.0, 1.0, 1.0, 1.0], \"type\": \"scatter\"}, {\"mode\": \"markers\", \"name\": \"Uncontrolled\", \"opacity\": 0.8, \"x\": [-0.7307138975235677, -0.7966569969914886, -0.7947129730727595, -0.6170166085302021, 0.58271540859388, 0.4880025728148896, 0.4621759441781894, 0.5447402158476657, 0.47028131622896385, 0.6027461424153129], \"y\": [1.0, 1.0, 1.0, 1.0, 1.0, 1.0, 1.0, 1.0, 1.0, 1.0], \"type\": \"scatter\"}]}, {\"data\": [{\"marker\": {\"color\": \"SkyBlue\", \"size\": 15}, \"mode\": \"markers\", \"name\": \"Controlled\", \"x\": [-0.5805192430982076, -0.41399896954091386, -0.5020742341602537, -0.39889428075573147, 0.11313295999783869, 0.11250944033083711, 0.051073107224217235, 0.09210898403747293, 0.13175624768386904, 0.15174111355263512], \"y\": [1.0, 1.0, 1.0, 1.0, 1.0, 1.0, 1.0, 1.0, 1.0, 1.0], \"type\": \"scatter\"}, {\"mode\": \"markers\", \"name\": \"Uncontrolled\", \"opacity\": 0.8, \"x\": [-0.7260559514717105, -0.813086900476937, -0.7984397437680698, -0.6035559747685768, 0.5884435774344793, 0.48332382582447075, 0.4523028580521687, 0.5443940656463756, 0.46487019272433816, 0.611078966360301], \"y\": [1.0, 1.0, 1.0, 1.0, 1.0, 1.0, 1.0, 1.0, 1.0, 1.0], \"type\": \"scatter\"}]}, {\"data\": [{\"marker\": {\"color\": \"SkyBlue\", \"size\": 15}, \"mode\": \"markers\", \"name\": \"Controlled\", \"x\": [-0.5953840889138751, -0.4255886304208237, -0.506214328660769, -0.39207299660018696, 0.10444067982248209, 0.11337152789280766, 0.052226497356276165, 0.06292230084184455, 0.13517086288475935, 0.14871383010595632], \"y\": [1.0, 1.0, 1.0, 1.0, 1.0, 1.0, 1.0, 1.0, 1.0, 1.0], \"type\": \"scatter\"}, {\"mode\": \"markers\", \"name\": \"Uncontrolled\", \"opacity\": 0.8, \"x\": [-0.7443080731958206, -0.8329558274451996, -0.810345854404433, -0.6000310448531757, 0.5876651106527505, 0.4918621559473527, 0.4604785558935187, 0.5237583063030511, 0.4727589974241976, 0.6152819236973182], \"y\": [1.0, 1.0, 1.0, 1.0, 1.0, 1.0, 1.0, 1.0, 1.0, 1.0], \"type\": \"scatter\"}]}, {\"data\": [{\"marker\": {\"color\": \"SkyBlue\", \"size\": 15}, \"mode\": \"markers\", \"name\": \"Controlled\", \"x\": [-0.6039673952151992, -0.42856756446932676, -0.4984341852566889, -0.3930266176628874, 0.09428782935370225, 0.11745551499733081, 0.04725232951681164, 0.057772326752555156, 0.1223262570602627, 0.1450633241709834], \"y\": [1.0, 1.0, 1.0, 1.0, 1.0, 1.0, 1.0, 1.0, 1.0, 1.0], \"type\": \"scatter\"}, {\"mode\": \"markers\", \"name\": \"Uncontrolled\", \"opacity\": 0.8, \"x\": [-0.7566326751353039, -0.8444462027871007, -0.8104391061483759, -0.6040311727992296, 0.5852781285136903, 0.5037379333907354, 0.46252691304516025, 0.5266596462253836, 0.46451675143800897, 0.6188805449706654], \"y\": [1.0, 1.0, 1.0, 1.0, 1.0, 1.0, 1.0, 1.0, 1.0, 1.0], \"type\": \"scatter\"}]}, {\"data\": [{\"marker\": {\"color\": \"SkyBlue\", \"size\": 15}, \"mode\": \"markers\", \"name\": \"Controlled\", \"x\": [-0.603526743742772, -0.4185149387308348, -0.49101619850375144, -0.3935842443134794, 0.09036529410386299, 0.11638477472604529, 0.05469568386266057, 0.04897019693579445, 0.13097478332023677, 0.13535301544043551], \"y\": [1.0, 1.0, 1.0, 1.0, 1.0, 1.0, 1.0, 1.0, 1.0, 1.0], \"type\": \"scatter\"}, {\"mode\": \"markers\", \"name\": \"Uncontrolled\", \"opacity\": 0.8, \"x\": [-0.7601286502158534, -0.8430030680686663, -0.8107180156023327, -0.6076379923830862, 0.5888995601947674, 0.5106051806020742, 0.4769455283259312, 0.5258541839275157, 0.47747194065189175, 0.6162786564916511], \"y\": [1.0, 1.0, 1.0, 1.0, 1.0, 1.0, 1.0, 1.0, 1.0, 1.0], \"type\": \"scatter\"}]}, {\"data\": [{\"marker\": {\"color\": \"SkyBlue\", \"size\": 15}, \"mode\": \"markers\", \"name\": \"Controlled\", \"x\": [-0.6111247116496897, -0.4126471778117086, -0.49550857792554426, -0.39029392145562986, 0.08620484079072827, 0.11563437787806262, 0.05338593055743718, 0.042343565088502115, 0.1326727647656894, 0.13362233171179308], \"y\": [1.0, 1.0, 1.0, 1.0, 1.0, 1.0, 1.0, 1.0, 1.0, 1.0], \"type\": \"scatter\"}, {\"mode\": \"markers\", \"name\": \"Uncontrolled\", \"opacity\": 0.8, \"x\": [-0.7716303681410746, -0.8455203197569529, -0.8227400215754055, -0.6074921494081634, 0.5921968296827407, 0.5178073356819398, 0.4827052462437054, 0.527000951003855, 0.48362778583182847, 0.6214844989703964], \"y\": [1.0, 1.0, 1.0, 1.0, 1.0, 1.0, 1.0, 1.0, 1.0, 1.0], \"type\": \"scatter\"}]}, {\"data\": [{\"marker\": {\"color\": \"SkyBlue\", \"size\": 15}, \"mode\": \"markers\", \"name\": \"Controlled\", \"x\": [-0.6127512447067393, -0.4074141489871403, -0.4913576164399173, -0.3791464859610094, 0.07407839395556837, 0.10881002898294379, 0.046739965146249736, 0.03879169577170518, 0.12754196099104248, 0.121423301533294], \"y\": [1.0, 1.0, 1.0, 1.0, 1.0, 1.0, 1.0, 1.0, 1.0, 1.0], \"type\": \"scatter\"}, {\"mode\": \"markers\", \"name\": \"Uncontrolled\", \"opacity\": 0.8, \"x\": [-0.777356984475303, -0.8485369230982525, -0.8262931047352776, -0.5994062021727776, 0.58746948767063, 0.5189595035912298, 0.48307130054343006, 0.5310743811514416, 0.4829931057778667, 0.6162074401149304], \"y\": [1.0, 1.0, 1.0, 1.0, 1.0, 1.0, 1.0, 1.0, 1.0, 1.0], \"type\": \"scatter\"}]}, {\"data\": [{\"marker\": {\"color\": \"SkyBlue\", \"size\": 15}, \"mode\": \"markers\", \"name\": \"Controlled\", \"x\": [-0.6194624107680117, -0.39512687059502555, -0.49517591380121706, -0.372056001350206, 0.07398424931286444, 0.10756901247520226, 0.03999680403742533, 0.04357941068273164, 0.1302000351076784, 0.10637150184744368], \"y\": [1.0, 1.0, 1.0, 1.0, 1.0, 1.0, 1.0, 1.0, 1.0, 1.0], \"type\": \"scatter\"}, {\"mode\": \"markers\", \"name\": \"Uncontrolled\", \"opacity\": 0.8, \"x\": [-0.7881880321432428, -0.8443380149782994, -0.8377682405066136, -0.5951158501591588, 0.5944978183672204, 0.525568235828694, 0.4831403609701999, 0.5434274465280622, 0.48999559715451396, 0.6077494749484135], \"y\": [1.0, 1.0, 1.0, 1.0, 1.0, 1.0, 1.0, 1.0, 1.0, 1.0], \"type\": \"scatter\"}]}, {\"data\": [{\"marker\": {\"color\": \"SkyBlue\", \"size\": 15}, \"mode\": \"markers\", \"name\": \"Controlled\", \"x\": [-0.6345899399043484, -0.37899431558285473, -0.4996127578645232, -0.38938912412052895, 0.083292606178706, 0.0985371320461913, 0.022024005750800504, 0.02738199630105123, 0.13098983444054216, 0.08952277851613377], \"y\": [1.0, 1.0, 1.0, 1.0, 1.0, 1.0, 1.0, 1.0, 1.0, 1.0], \"type\": \"scatter\"}, {\"mode\": \"markers\", \"name\": \"Uncontrolled\", \"opacity\": 0.8, \"x\": [-0.8075801715342193, -0.836019786672424, -0.8500846774735509, -0.6150697402820606, 0.6109258434677587, 0.5244152369056572, 0.4717149508884571, 0.534839007786904, 0.4951265158347161, 0.5971222374081913], \"y\": [1.0, 1.0, 1.0, 1.0, 1.0, 1.0, 1.0, 1.0, 1.0, 1.0], \"type\": \"scatter\"}]}, {\"data\": [{\"marker\": {\"color\": \"SkyBlue\", \"size\": 15}, \"mode\": \"markers\", \"name\": \"Controlled\", \"x\": [-0.6349059548073532, -0.3669848923642078, -0.4749579050314579, -0.3869249982655808, 0.06764085877436449, 0.09081221294531329, 0.029549810211783434, 0.029774240932952598, 0.11322763582042242, 0.09707616580630046], \"y\": [1.0, 1.0, 1.0, 1.0, 1.0, 1.0, 1.0, 1.0, 1.0, 1.0], \"type\": \"scatter\"}, {\"mode\": \"markers\", \"name\": \"Uncontrolled\", \"opacity\": 0.8, \"x\": [-0.8124506593615538, -0.8312294399780544, -0.8335257171225854, -0.6156589891918937, 0.6026609418397945, 0.5243491037383546, 0.48524945721413953, 0.5444844005643553, 0.48175369344624036, 0.610468475423446], \"y\": [1.0, 1.0, 1.0, 1.0, 1.0, 1.0, 1.0, 1.0, 1.0, 1.0], \"type\": \"scatter\"}]}, {\"data\": [{\"marker\": {\"color\": \"SkyBlue\", \"size\": 15}, \"mode\": \"markers\", \"name\": \"Controlled\", \"x\": [-0.631670027908057, -0.35990459914973516, -0.4716966153076826, -0.38578938659807716, 0.06569730589999782, 0.053490559325465106, 0.024910881315775374, 0.03884551480718336, 0.10750180357612309, 0.09683202714274279], \"y\": [1.0, 1.0, 1.0, 1.0, 1.0, 1.0, 1.0, 1.0, 1.0, 1.0], \"type\": \"scatter\"}, {\"mode\": \"markers\", \"name\": \"Uncontrolled\", \"opacity\": 0.8, \"x\": [-0.8137577277592211, -0.8311636237242782, -0.8377001756437031, -0.6176173703112138, 0.6077596687212661, 0.4944881328785085, 0.48693962340502905, 0.5608099564846881, 0.4799646874288074, 0.6161789161750276], \"y\": [1.0, 1.0, 1.0, 1.0, 1.0, 1.0, 1.0, 1.0, 1.0, 1.0], \"type\": \"scatter\"}]}, {\"data\": [{\"marker\": {\"color\": \"SkyBlue\", \"size\": 15}, \"mode\": \"markers\", \"name\": \"Controlled\", \"x\": [-0.6384813786285454, -0.36196567966139076, -0.4702002349551066, -0.38617906367041915, 0.04497894703388941, 0.052848550101894626, 0.016451053435991698, 0.028816703138180806, 0.09244496835358372, 0.08645448322155777], \"y\": [1.0, 1.0, 1.0, 1.0, 1.0, 1.0, 1.0, 1.0, 1.0, 1.0], \"type\": \"scatter\"}, {\"mode\": \"markers\", \"name\": \"Uncontrolled\", \"opacity\": 0.8, \"x\": [-0.8249876338980532, -0.8401358264985005, -0.8436031369510603, -0.6212020746018442, 0.5940701031281823, 0.500231389812444, 0.48467827787040335, 0.558220730554574, 0.46870807465168074, 0.6117368879772892], \"y\": [1.0, 1.0, 1.0, 1.0, 1.0, 1.0, 1.0, 1.0, 1.0, 1.0], \"type\": \"scatter\"}]}, {\"data\": [{\"marker\": {\"color\": \"SkyBlue\", \"size\": 15}, \"mode\": \"markers\", \"name\": \"Controlled\", \"x\": [-0.6370130059807154, -0.36014848642368846, -0.45454393897799117, -0.39976364135757597, 0.03367974224906817, 0.05092193820887213, 0.01821977559190143, 0.034353917158416986, 0.0855276654434408, 0.07537003938861742], \"y\": [1.0, 1.0, 1.0, 1.0, 1.0, 1.0, 1.0, 1.0, 1.0, 1.0], \"type\": \"scatter\"}, {\"mode\": \"markers\", \"name\": \"Uncontrolled\", \"opacity\": 0.8, \"x\": [-0.82806708402094, -0.8452438709093371, -0.835310772252159, -0.6380472471677414, 0.5893508619304358, 0.5047248726891299, 0.4924644380121283, 0.5710762790048426, 0.4652617940836978, 0.6062388582010156], \"y\": [1.0, 1.0, 1.0, 1.0, 1.0, 1.0, 1.0, 1.0, 1.0, 1.0], \"type\": \"scatter\"}]}, {\"data\": [{\"marker\": {\"color\": \"SkyBlue\", \"size\": 15}, \"mode\": \"markers\", \"name\": \"Controlled\", \"x\": [-0.620440217551417, -0.35460588629332873, -0.4565747102716524, -0.4140977823021932, 0.03285270622682789, 0.03274350962794809, -0.008542765510704577, 0.02789709486710175, 0.08289044117828971, 0.04886336808663378], \"y\": [1.0, 1.0, 1.0, 1.0, 1.0, 1.0, 1.0, 1.0, 1.0, 1.0], \"type\": \"scatter\"}, {\"mode\": \"markers\", \"name\": \"Uncontrolled\", \"opacity\": 0.8, \"x\": [-0.8159906017432215, -0.8466347676785301, -0.8443361875374691, -0.6559180563149312, 0.594909814695374, 0.492931259136165, 0.47182544096717555, 0.5720284380845164, 0.4658561109089881, 0.5850442470965956], \"y\": [1.0, 1.0, 1.0, 1.0, 1.0, 1.0, 1.0, 1.0, 1.0, 1.0], \"type\": \"scatter\"}]}, {\"data\": [{\"marker\": {\"color\": \"SkyBlue\", \"size\": 15}, \"mode\": \"markers\", \"name\": \"Controlled\", \"x\": [-0.6183594120834308, -0.3533304931468834, -0.436029808651221, -0.4086608253557683, 0.017605468386053466, 0.02818596070051274, -0.0008552682699621249, 0.021756872106359557, 0.07876754571725189, 0.049780896857730905], \"y\": [1.0, 1.0, 1.0, 1.0, 1.0, 1.0, 1.0, 1.0, 1.0, 1.0], \"type\": \"scatter\"}, {\"mode\": \"markers\", \"name\": \"Uncontrolled\", \"opacity\": 0.8, \"x\": [-0.8180749291515881, -0.8519790860274429, -0.8309669219110201, -0.6543928547741621, 0.586194146657253, 0.4942364713433514, 0.4849403979060763, 0.5731518145930329, 0.46489964030359693, 0.590469633370991], \"y\": [1.0, 1.0, 1.0, 1.0, 1.0, 1.0, 1.0, 1.0, 1.0, 1.0], \"type\": \"scatter\"}]}, {\"data\": [{\"marker\": {\"color\": \"SkyBlue\", \"size\": 15}, \"mode\": \"markers\", \"name\": \"Controlled\", \"x\": [-0.6241196002014217, -0.3665423668577574, -0.45616965527235775, -0.40635616158189963, 0.008718603591102977, 0.030607428726074783, -0.004098832748917678, 0.016666724501444657, 0.07322077222974425, 0.040502618726914665], \"y\": [1.0, 1.0, 1.0, 1.0, 1.0, 1.0, 1.0, 1.0, 1.0, 1.0], \"type\": \"scatter\"}, {\"mode\": \"markers\", \"name\": \"Uncontrolled\", \"opacity\": 0.8, \"x\": [-0.828014997152615, -0.8718855276683506, -0.8577897695668899, -0.6559429532118574, 0.5835740152410341, 0.5024565021551457, 0.4873951890506689, 0.5751825322072663, 0.462357135971466, 0.5857918560456222], \"y\": [1.0, 1.0, 1.0, 1.0, 1.0, 1.0, 1.0, 1.0, 1.0, 1.0], \"type\": \"scatter\"}]}, {\"data\": [{\"marker\": {\"color\": \"SkyBlue\", \"size\": 15}, \"mode\": \"markers\", \"name\": \"Controlled\", \"x\": [-0.6153708825133631, -0.36945935097261884, -0.4535253154692956, -0.4109221998038106, -0.008592858768977, 0.03084612627063059, -0.011027466951469625, 0.019135342820212606, 0.07150857643702803, 0.043860523470935046], \"y\": [1.0, 1.0, 1.0, 1.0, 1.0, 1.0, 1.0, 1.0, 1.0, 1.0], \"type\": \"scatter\"}, {\"mode\": \"markers\", \"name\": \"Uncontrolled\", \"opacity\": 0.8, \"x\": [-0.8235618002889249, -0.881807210123877, -0.8623505296180622, -0.664367532714864, 0.5723329017202758, 0.5086107517260012, 0.4860476700056055, 0.5847893521169485, 0.46355566836590434, 0.5934874841416179], \"y\": [1.0, 1.0, 1.0, 1.0, 1.0, 1.0, 1.0, 1.0, 1.0, 1.0], \"type\": \"scatter\"}]}, {\"data\": [{\"marker\": {\"color\": \"SkyBlue\", \"size\": 15}, \"mode\": \"markers\", \"name\": \"Controlled\", \"x\": [-0.610015987267652, -0.3437037939025101, -0.4529583921244645, -0.39470145616799746, -0.016273051339660616, 0.009453390320235417, -0.012004077366556967, 0.014325825435718885, 0.0789374849650963, 0.037884154887932724], \"y\": [1.0, 1.0, 1.0, 1.0, 1.0, 1.0, 1.0, 1.0, 1.0, 1.0], \"type\": \"scatter\"}, {\"mode\": \"markers\", \"name\": \"Uncontrolled\", \"opacity\": 0.8, \"x\": [-0.822392708303856, -0.8632067130726275, -0.868964034423682, -0.652039028821713, 0.5704282163244843, 0.4931548287461888, 0.4905473873869864, 0.587191156329758, 0.4738701886086434, 0.5919086477306685], \"y\": [1.0, 1.0, 1.0, 1.0, 1.0, 1.0, 1.0, 1.0, 1.0, 1.0], \"type\": \"scatter\"}]}, {\"data\": [{\"marker\": {\"color\": \"SkyBlue\", \"size\": 15}, \"mode\": \"markers\", \"name\": \"Controlled\", \"x\": [-0.6112741437355286, -0.34654051654158086, -0.4478948660693785, -0.39082008772219856, -0.03006569932371959, 0.008034869154103303, -0.007990768289188937, 0.00836645135392175, 0.08195276094126883, 0.050870650136092516], \"y\": [1.0, 1.0, 1.0, 1.0, 1.0, 1.0, 1.0, 1.0, 1.0, 1.0], \"type\": \"scatter\"}, {\"mode\": \"markers\", \"name\": \"Uncontrolled\", \"opacity\": 0.8, \"x\": [-0.8278307172474815, -0.8726155301614611, -0.8712259657577888, -0.6519895648337719, 0.5623585857792561, 0.4971540034494793, 0.4999514968069464, 0.5882287484441774, 0.4799044750997984, 0.609202245182231], \"y\": [1.0, 1.0, 1.0, 1.0, 1.0, 1.0, 1.0, 1.0, 1.0, 1.0], \"type\": \"scatter\"}]}, {\"data\": [{\"marker\": {\"color\": \"SkyBlue\", \"size\": 15}, \"mode\": \"markers\", \"name\": \"Controlled\", \"x\": [-0.6085265025065422, -0.3376682790405463, -0.4322494691743014, -0.39537714789581885, -0.035757888932904956, -0.016546279884469835, -0.027419379287720414, 0.007182348097255081, 0.06994129431942596, 0.0487334242560651], \"y\": [1.0, 1.0, 1.0, 1.0, 1.0, 1.0, 1.0, 1.0, 1.0, 1.0], \"type\": \"scatter\"}, {\"mode\": \"markers\", \"name\": \"Uncontrolled\", \"opacity\": 0.8, \"x\": [-0.8293395200435175, -0.8704771656550758, -0.8627750395223134, -0.660284050052331, 0.56213674454368, 0.4779708638434403, 0.48606061396603295, 0.5939471134329706, 0.4710029414400987, 0.6117402224423754], \"y\": [1.0, 1.0, 1.0, 1.0, 1.0, 1.0, 1.0, 1.0, 1.0, 1.0], \"type\": \"scatter\"}]}, {\"data\": [{\"marker\": {\"color\": \"SkyBlue\", \"size\": 15}, \"mode\": \"markers\", \"name\": \"Controlled\", \"x\": [-0.6231397700641993, -0.3445866856598264, -0.40448790258931616, -0.39058188127762894, -0.047566205427063156, -0.017883520301400734, -0.034927089783706705, -0.01166430579502385, 0.05367428078993733, 0.04488340772691647], \"y\": [1.0, 1.0, 1.0, 1.0, 1.0, 1.0, 1.0, 1.0, 1.0, 1.0], \"type\": \"scatter\"}, {\"mode\": \"markers\", \"name\": \"Uncontrolled\", \"opacity\": 0.8, \"x\": [-0.8482223466573893, -0.8839019470429957, -0.8419063004487016, -0.6594969645421679, 0.5557656072225965, 0.48128923272514107, 0.4836963804100635, 0.581967470367782, 0.4576208662356058, 0.6125027080110793], \"y\": [1.0, 1.0, 1.0, 1.0, 1.0, 1.0, 1.0, 1.0, 1.0, 1.0], \"type\": \"scatter\"}]}, {\"data\": [{\"marker\": {\"color\": \"SkyBlue\", \"size\": 15}, \"mode\": \"markers\", \"name\": \"Controlled\", \"x\": [-0.6176385913706578, -0.3580203008087542, -0.41642286728629574, -0.37890273746622105, -0.04317142370158393, -0.025413188540219768, -0.04101638863531403, -0.01071381232337221, 0.04366352315638999, 0.036365942651803124], \"y\": [1.0, 1.0, 1.0, 1.0, 1.0, 1.0, 1.0, 1.0, 1.0, 1.0], \"type\": \"scatter\"}, {\"mode\": \"markers\", \"name\": \"Uncontrolled\", \"opacity\": 0.8, \"x\": [-0.8473429076776235, -0.9039954335746165, -0.8599006736841243, -0.6516485821619097, 0.5653374409651447, 0.4784782233945481, 0.48264763639058567, 0.5894901176983317, 0.45011839541501825, 0.6085221322731088], \"y\": [1.0, 1.0, 1.0, 1.0, 1.0, 1.0, 1.0, 1.0, 1.0, 1.0], \"type\": \"scatter\"}]}, {\"data\": [{\"marker\": {\"color\": \"SkyBlue\", \"size\": 15}, \"mode\": \"markers\", \"name\": \"Controlled\", \"x\": [-0.6079009657770275, -0.34635806574756983, -0.41052590998366, -0.37916921929977015, -0.0397998736014198, -0.02541790032194261, -0.045771645527719555, -0.0044084511010629174, 0.04465385785359025, 0.03154729081250372], \"y\": [1.0, 1.0, 1.0, 1.0, 1.0, 1.0, 1.0, 1.0, 1.0, 1.0], \"type\": \"scatter\"}, {\"mode\": \"markers\", \"name\": \"Uncontrolled\", \"opacity\": 0.8, \"x\": [-0.8421469435965808, -0.8994197439967773, -0.8604202111717391, -0.6555565942563434, 0.573966692809832, 0.48300996351354547, 0.4828147352788536, 0.6025223302420205, 0.45344728606806894, 0.6079994708924498], \"y\": [1.0, 1.0, 1.0, 1.0, 1.0, 1.0, 1.0, 1.0, 1.0, 1.0], \"type\": \"scatter\"}]}, {\"data\": [{\"marker\": {\"color\": \"SkyBlue\", \"size\": 15}, \"mode\": \"markers\", \"name\": \"Controlled\", \"x\": [-0.6049410897549399, -0.3481220153592226, -0.41081430473877606, -0.3666231184978677, -0.05156276686117287, -0.04271758383416555, -0.04654185298290932, -0.0026280059439836327, 0.05296168370055949, 0.041292067980375935], \"y\": [1.0, 1.0, 1.0, 1.0, 1.0, 1.0, 1.0, 1.0, 1.0, 1.0], \"type\": \"scatter\"}, {\"mode\": \"markers\", \"name\": \"Uncontrolled\", \"opacity\": 0.8, \"x\": [-0.843599248698343, -0.908014530109705, -0.8671459174849508, -0.6467782554122233, 0.567539865220684, 0.47024087758806576, 0.4868312140683413, 0.6110875983791844, 0.46406273682606247, 0.6218993511261044], \"y\": [1.0, 1.0, 1.0, 1.0, 1.0, 1.0, 1.0, 1.0, 1.0, 1.0], \"type\": \"scatter\"}]}, {\"data\": [{\"marker\": {\"color\": \"SkyBlue\", \"size\": 15}, \"mode\": \"markers\", \"name\": \"Controlled\", \"x\": [-0.6035539454496217, -0.33699681163050405, -0.41569605899862777, -0.36624597951095317, -0.047874184197719896, -0.048243665214786256, -0.06444972385969268, -0.026223776091160722, 0.051024652378567945, 0.053955556862255775], \"y\": [1.0, 1.0, 1.0, 1.0, 1.0, 1.0, 1.0, 1.0, 1.0, 1.0], \"type\": \"scatter\"}, {\"mode\": \"markers\", \"name\": \"Uncontrolled\", \"opacity\": 0.8, \"x\": [-0.8466312139832559, -0.9039164559229402, -0.8785373675589435, -0.6499425164822783, 0.5763616138407665, 0.46872155410400573, 0.47366469065191535, 0.5943533372536939, 0.46464571071314964, 0.639085536348747], \"y\": [1.0, 1.0, 1.0, 1.0, 1.0, 1.0, 1.0, 1.0, 1.0, 1.0], \"type\": \"scatter\"}]}, {\"data\": [{\"marker\": {\"color\": \"SkyBlue\", \"size\": 15}, \"mode\": \"markers\", \"name\": \"Controlled\", \"x\": [-0.6079862117390201, -0.3309754595029782, -0.41612005915152944, -0.35762330097116507, -0.03682161172486041, -0.07882606494746362, -0.06574660452850759, -0.014636382232220742, 0.04495420112038352, 0.048164833973164387], \"y\": [1.0, 1.0, 1.0, 1.0, 1.0, 1.0, 1.0, 1.0, 1.0, 1.0], \"type\": \"scatter\"}, {\"mode\": \"markers\", \"name\": \"Uncontrolled\", \"opacity\": 0.8, \"x\": [-0.8555540313099576, -0.9044789969615943, -0.8856117646384629, -0.6449821253054737, 0.592609223096985, 0.44190620316708873, 0.4766743514185868, 0.6123681578539507, 0.4611977157169101, 0.6380671541936351], \"y\": [1.0, 1.0, 1.0, 1.0, 1.0, 1.0, 1.0, 1.0, 1.0, 1.0], \"type\": \"scatter\"}]}, {\"data\": [{\"marker\": {\"color\": \"SkyBlue\", \"size\": 15}, \"mode\": \"markers\", \"name\": \"Controlled\", \"x\": [-0.6087875162308406, -0.32640195678750067, -0.39926627355225003, -0.3608963279729315, -0.030897932343289383, -0.09336806089803196, -0.06339194002981847, -0.016152183249426307, 0.04419419767537414, 0.050003025909381785], \"y\": [1.0, 1.0, 1.0, 1.0, 1.0, 1.0, 1.0, 1.0, 1.0, 1.0], \"type\": \"scatter\"}, {\"mode\": \"markers\", \"name\": \"Uncontrolled\", \"opacity\": 0.8, \"x\": [-0.8609281570812647, -0.9064005674493363, -0.8755253528447442, -0.6519600873820597, 0.603958608376702, 0.4302137586223571, 0.48325032731237455, 0.6175115072710666, 0.46288632119056483, 0.6446382158267299], \"y\": [1.0, 1.0, 1.0, 1.0, 1.0, 1.0, 1.0, 1.0, 1.0, 1.0], \"type\": \"scatter\"}]}, {\"data\": [{\"marker\": {\"color\": \"SkyBlue\", \"size\": 15}, \"mode\": \"markers\", \"name\": \"Controlled\", \"x\": [-0.5972099236710128, -0.33754805753420125, -0.37045148557452856, -0.3461553381839297, -0.030647132173764993, -0.09674825729865066, -0.07270074307842232, -0.017275707909227354, 0.03151231786894685, 0.05657201671170524], \"y\": [1.0, 1.0, 1.0, 1.0, 1.0, 1.0, 1.0, 1.0, 1.0, 1.0], \"type\": \"scatter\"}, {\"mode\": \"markers\", \"name\": \"Uncontrolled\", \"opacity\": 0.8, \"x\": [-0.8539434126460792, -0.9239368306663351, -0.853002524113397, -0.6411179969631963, 0.6097707324244858, 0.4292212633101545, 0.4782455832005474, 0.6229699829910322, 0.4525961060059534, 0.655980139652106], \"y\": [1.0, 1.0, 1.0, 1.0, 1.0, 1.0, 1.0, 1.0, 1.0, 1.0], \"type\": \"scatter\"}]}, {\"data\": [{\"marker\": {\"color\": \"SkyBlue\", \"size\": 15}, \"mode\": \"markers\", \"name\": \"Controlled\", \"x\": [-0.5811719168482748, -0.3283366825947988, -0.3704798499311631, -0.3444167404688533, -0.05902075761569876, -0.08926364891446427, -0.0856943421925505, -0.019656276653397295, 0.049153658667906074, 0.06563610330936033], \"y\": [1.0, 1.0, 1.0, 1.0, 1.0, 1.0, 1.0, 1.0, 1.0, 1.0], \"type\": \"scatter\"}, {\"mode\": \"markers\", \"name\": \"Uncontrolled\", \"opacity\": 0.8, \"x\": [-0.8423916734421565, -0.9215653731576608, -0.8585887660950411, -0.6429918619188889, 0.5869064208202198, 0.4390285799996256, 0.46946021570173485, 0.6272461732004976, 0.47234712953053054, 0.6699311485984268], \"y\": [1.0, 1.0, 1.0, 1.0, 1.0, 1.0, 1.0, 1.0, 1.0, 1.0], \"type\": \"scatter\"}]}, {\"data\": [{\"marker\": {\"color\": \"SkyBlue\", \"size\": 15}, \"mode\": \"markers\", \"name\": \"Controlled\", \"x\": [-0.5923518436925497, -0.32054228279159136, -0.36906059392244484, -0.3290843873493827, -0.0634257819535306, -0.08292722921484359, -0.10263133359065081, -0.02075178957446882, 0.06006164603780342, 0.057143830912588796], \"y\": [1.0, 1.0, 1.0, 1.0, 1.0, 1.0, 1.0, 1.0, 1.0, 1.0], \"type\": \"scatter\"}, {\"mode\": \"markers\", \"name\": \"Uncontrolled\", \"opacity\": 0.8, \"x\": [-0.857867801039518, -0.9204293710066869, -0.8627824696122116, -0.631165614315144, 0.5874985323282288, 0.4478795150519156, 0.45635619900382635, 0.6327426159572147, 0.48580660046268354, 0.6665880139515168], \"y\": [1.0, 1.0, 1.0, 1.0, 1.0, 1.0, 1.0, 1.0, 1.0, 1.0], \"type\": \"scatter\"}]}, {\"data\": [{\"marker\": {\"color\": \"SkyBlue\", \"size\": 15}, \"mode\": \"markers\", \"name\": \"Controlled\", \"x\": [-0.5838840232677898, -0.3149616172962584, -0.35653981061811607, -0.3372721747171063, -0.06731458114710902, -0.10024214133825853, -0.1233609360001759, -0.027091543189415503, 0.05346268972004751, 0.046577321607850046], \"y\": [1.0, 1.0, 1.0, 1.0, 1.0, 1.0, 1.0, 1.0, 1.0, 1.0], \"type\": \"scatter\"}, {\"mode\": \"markers\", \"name\": \"Uncontrolled\", \"opacity\": 0.8, \"x\": [-0.8540324179804616, -0.9213643676980775, -0.855935859982548, -0.6425959346285165, 0.5885090674685909, 0.43336163476245615, 0.4389012593885888, 0.6329611802744106, 0.482049473832582, 0.6609688738551949], \"y\": [1.0, 1.0, 1.0, 1.0, 1.0, 1.0, 1.0, 1.0, 1.0, 1.0], \"type\": \"scatter\"}]}, {\"data\": [{\"marker\": {\"color\": \"SkyBlue\", \"size\": 15}, \"mode\": \"markers\", \"name\": \"Controlled\", \"x\": [-0.591722112247679, -0.3055364903358492, -0.3481977416470386, -0.34110185597232423, -0.07358398645574085, -0.10359355626299196, -0.12246225231571839, -0.045894212545876, 0.05524261098907676, 0.03668545580866096], \"y\": [1.0, 1.0, 1.0, 1.0, 1.0, 1.0, 1.0, 1.0, 1.0, 1.0], \"type\": \"scatter\"}, {\"mode\": \"markers\", \"name\": \"Uncontrolled\", \"opacity\": 0.8, \"x\": [-0.8664049288006485, -0.9181954206632145, -0.8530145773039248, -0.6500270499627114, 0.5870798335342816, 0.43227990694708307, 0.44246940791161293, 0.6205907928952952, 0.486493542045603, 0.6557523049936862], \"y\": [1.0, 1.0, 1.0, 1.0, 1.0, 1.0, 1.0, 1.0, 1.0, 1.0], \"type\": \"scatter\"}]}, {\"data\": [{\"marker\": {\"color\": \"SkyBlue\", \"size\": 15}, \"mode\": \"markers\", \"name\": \"Controlled\", \"x\": [-0.5909666556953042, -0.3081892558474718, -0.35473541630870736, -0.3310383379284069, -0.06808795582612082, -0.09350489434061485, -0.1331139451363811, -0.046105973191064104, 0.0420310776237675, 0.04203158743293243], \"y\": [1.0, 1.0, 1.0, 1.0, 1.0, 1.0, 1.0, 1.0, 1.0, 1.0], \"type\": \"scatter\"}, {\"mode\": \"markers\", \"name\": \"Uncontrolled\", \"opacity\": 0.8, \"x\": [-0.8703590162600257, -0.9267533200277653, -0.8647496319759903, -0.6437734967356583, 0.5973362323024455, 0.4446072802743127, 0.4344757124516586, 0.6263649134042285, 0.4759544247031248, 0.6655477108408515], \"y\": [1.0, 1.0, 1.0, 1.0, 1.0, 1.0, 1.0, 1.0, 1.0, 1.0], \"type\": \"scatter\"}]}, {\"data\": [{\"marker\": {\"color\": \"SkyBlue\", \"size\": 15}, \"mode\": \"markers\", \"name\": \"Controlled\", \"x\": [-0.5827481679289005, -0.2886455264855402, -0.3478222136648024, -0.33483712270370763, -0.048278576555638525, -0.08267119314363101, -0.12383853743132237, -0.05697218252717553, 0.035565943440888585, 0.03139006872183306], \"y\": [1.0, 1.0, 1.0, 1.0, 1.0, 1.0, 1.0, 1.0, 1.0, 1.0], \"type\": \"scatter\"}, {\"mode\": \"markers\", \"name\": \"Uncontrolled\", \"opacity\": 0.8, \"x\": [-0.8669308671461277, -0.9132083905865092, -0.8632440281265062, -0.6511328883701915, 0.6219440503466769, 0.4579778912104298, 0.44610244011706074, 0.6215847225679919, 0.47190756623462843, 0.6593725570171596], \"y\": [1.0, 1.0, 1.0, 1.0, 1.0, 1.0, 1.0, 1.0, 1.0, 1.0], \"type\": \"scatter\"}]}, {\"data\": [{\"marker\": {\"color\": \"SkyBlue\", \"size\": 15}, \"mode\": \"markers\", \"name\": \"Controlled\", \"x\": [-0.586217232124874, -0.2924398048756849, -0.3530240974983146, -0.31186246576601934, -0.05401986549830562, -0.09312489712595722, -0.13134436880570508, -0.07279123671629913, 0.02058477893690408, 0.02154242921583978], \"y\": [1.0, 1.0, 1.0, 1.0, 1.0, 1.0, 1.0, 1.0, 1.0, 1.0], \"type\": \"scatter\"}, {\"mode\": \"markers\", \"name\": \"Uncontrolled\", \"opacity\": 0.8, \"x\": [-0.87502841696355, -0.9224217522862451, -0.8736870027196615, -0.6319774928247427, 0.6214107932704727, 0.45039398757514026, 0.4413165537658063, 0.6114963102981593, 0.4591637536934419, 0.6536540893104346], \"y\": [1.0, 1.0, 1.0, 1.0, 1.0, 1.0, 1.0, 1.0, 1.0, 1.0], \"type\": \"scatter\"}]}, {\"data\": [{\"marker\": {\"color\": \"SkyBlue\", \"size\": 15}, \"mode\": \"markers\", \"name\": \"Controlled\", \"x\": [-0.5800758879389853, -0.29183399328833, -0.3575531341743648, -0.3035096993047006, -0.057182728840217335, -0.10213213725219802, -0.13210931049624408, -0.08200575444412786, 0.01426615592279656, 0.013574407586052006], \"y\": [1.0, 1.0, 1.0, 1.0, 1.0, 1.0, 1.0, 1.0, 1.0, 1.0], \"type\": \"scatter\"}, {\"mode\": \"markers\", \"name\": \"Uncontrolled\", \"opacity\": 0.8, \"x\": [-0.8737060215097912, -0.9273586940793931, -0.8836488189884317, -0.627005744713976, 0.6233241975254206, 0.44403169929924124, 0.4429808751266327, 0.6077254767271095, 0.4548068454410973, 0.6495422323567488], \"y\": [1.0, 1.0, 1.0, 1.0, 1.0, 1.0, 1.0, 1.0, 1.0, 1.0], \"type\": \"scatter\"}]}, {\"data\": [{\"marker\": {\"color\": \"SkyBlue\", \"size\": 15}, \"mode\": \"markers\", \"name\": \"Controlled\", \"x\": [-0.5740867137688649, -0.2883089386437229, -0.3554271661133417, -0.3259481370268511, -0.04699966352681336, -0.10655946505924872, -0.13913392548175688, -0.08094699491830468, 0.012116805840239001, -0.001980792742820252], \"y\": [1.0, 1.0, 1.0, 1.0, 1.0, 1.0, 1.0, 1.0, 1.0, 1.0], \"type\": \"scatter\"}, {\"mode\": \"markers\", \"name\": \"Uncontrolled\", \"opacity\": 0.8, \"x\": [-0.8724714911038441, -0.9293720221434573, -0.8871267760315188, -0.6527334388128228, 0.6385540447985646, 0.4420573808887004, 0.4383565176345599, 0.6140478108785427, 0.4544984840757115, 0.6376360874703669], \"y\": [1.0, 1.0, 1.0, 1.0, 1.0, 1.0, 1.0, 1.0, 1.0, 1.0], \"type\": \"scatter\"}]}, {\"data\": [{\"marker\": {\"color\": \"SkyBlue\", \"size\": 15}, \"mode\": \"markers\", \"name\": \"Controlled\", \"x\": [-0.5809892517888233, -0.2827723997819382, -0.3500986669109549, -0.3195622243901792, -0.062871954603294, -0.09278013716896673, -0.13407418569893373, -0.07810174581823862, 0.0088741597905106, -0.01234692486289557], \"y\": [1.0, 1.0, 1.0, 1.0, 1.0, 1.0, 1.0, 1.0, 1.0, 1.0], \"type\": \"scatter\"}, {\"mode\": \"markers\", \"name\": \"Uncontrolled\", \"opacity\": 0.8, \"x\": [-0.8839817607645317, -0.9291300564719561, -0.8874138801861469, -0.6502188779885132, 0.6278754197731955, 0.45810107943679385, 0.4456250930536325, 0.6221425594756921, 0.4529936494817055, 0.6306595947460502], \"y\": [1.0, 1.0, 1.0, 1.0, 1.0, 1.0, 1.0, 1.0, 1.0, 1.0], \"type\": \"scatter\"}]}, {\"data\": [{\"marker\": {\"color\": \"SkyBlue\", \"size\": 15}, \"mode\": \"markers\", \"name\": \"Controlled\", \"x\": [-0.5877550056761498, -0.28356377007249667, -0.34094029663899145, -0.3218806875421281, -0.054031672564952095, -0.09409198033055269, -0.15529274370498475, -0.06300391607842293, 0.011622866956736675, -0.000371396840498691], \"y\": [1.0, 1.0, 1.0, 1.0, 1.0, 1.0, 1.0, 1.0, 1.0, 1.0], \"type\": \"scatter\"}, {\"mode\": \"markers\", \"name\": \"Uncontrolled\", \"opacity\": 0.8, \"x\": [-0.8955421126181387, -0.9351466609925927, -0.883756286575964, -0.656253888270299, 0.6416595535296243, 0.4595765396520177, 0.4266905935991907, 0.6425180268555089, 0.45728236967061625, 0.6457438585378925], \"y\": [1.0, 1.0, 1.0, 1.0, 1.0, 1.0, 1.0, 1.0, 1.0, 1.0], \"type\": \"scatter\"}]}, {\"data\": [{\"marker\": {\"color\": \"SkyBlue\", \"size\": 15}, \"mode\": \"markers\", \"name\": \"Controlled\", \"x\": [-0.5888811112987526, -0.2955694454650236, -0.3365581565682425, -0.32337876875141236, -0.05547647707377137, -0.08811524911799248, -0.17882101176792373, -0.06585778933701106, 0.018254133959872708, 0.0033127397221250415], \"y\": [1.0, 1.0, 1.0, 1.0, 1.0, 1.0, 1.0, 1.0, 1.0, 1.0], \"type\": \"scatter\"}, {\"mode\": \"markers\", \"name\": \"Uncontrolled\", \"opacity\": 0.8, \"x\": [-0.9016411008687693, -0.9524189942492175, -0.884668614357933, -0.6614777783118229, 0.6451934795996738, 0.4681756330697264, 0.40482784926813165, 0.6452736823227626, 0.46554303173332773, 0.6527511472995119], \"y\": [1.0, 1.0, 1.0, 1.0, 1.0, 1.0, 1.0, 1.0, 1.0, 1.0], \"type\": \"scatter\"}]}, {\"data\": [{\"marker\": {\"color\": \"SkyBlue\", \"size\": 15}, \"mode\": \"markers\", \"name\": \"Controlled\", \"x\": [-0.596348086483513, -0.3043709837449355, -0.32671623317149695, -0.32550498531419064, -0.06372359791008063, -0.09912272356927566, -0.17710362076285777, -0.06843289192237473, 0.021427107559205374, -0.004748585733472975], \"y\": [1.0, 1.0, 1.0, 1.0, 1.0, 1.0, 1.0, 1.0, 1.0, 1.0], \"type\": \"scatter\"}, {\"mode\": \"markers\", \"name\": \"Uncontrolled\", \"opacity\": 0.8, \"x\": [-0.9142172581579063, -0.9667936827786929, -0.8800468649982414, -0.6672732546255983, 0.6418696239099264, 0.4600667703602868, 0.40759082310435324, 0.6481831694580444, 0.4706340927515965, 0.6480410632017339], \"y\": [1.0, 1.0, 1.0, 1.0, 1.0, 1.0, 1.0, 1.0, 1.0, 1.0], \"type\": \"scatter\"}]}, {\"data\": [{\"marker\": {\"color\": \"SkyBlue\", \"size\": 15}, \"mode\": \"markers\", \"name\": \"Controlled\", \"x\": [-0.5859136287455989, -0.3027015100290678, -0.32125952678988584, -0.3148538140871285, -0.07195093842769835, -0.10140250671274424, -0.1848415063507634, -0.0732227281222847, 0.011631502224470208, 0.010509858015171396], \"y\": [1.0, 1.0, 1.0, 1.0, 1.0, 1.0, 1.0, 1.0, 1.0, 1.0], \"type\": \"scatter\"}, {\"mode\": \"markers\", \"name\": \"Uncontrolled\", \"opacity\": 0.8, \"x\": [-0.9090313864526931, -0.9709593734115679, -0.8795547476292329, -0.6603442566421044, 0.6384386410424155, 0.46041750015151933, 0.4009240091807078, 0.6488394080734801, 0.46281145772714943, 0.6665505099844168], \"y\": [1.0, 1.0, 1.0, 1.0, 1.0, 1.0, 1.0, 1.0, 1.0, 1.0], \"type\": \"scatter\"}]}, {\"data\": [{\"marker\": {\"color\": \"SkyBlue\", \"size\": 15}, \"mode\": \"markers\", \"name\": \"Controlled\", \"x\": [-0.5821471250467216, -0.3056220842030836, -0.3234486900377562, -0.3240607061504956, -0.0720553636775963, -0.12110694836360375, -0.18534887727168733, -0.08762683705448296, 0.003252202313508477, 0.008779195887768258], \"y\": [1.0, 1.0, 1.0, 1.0, 1.0, 1.0, 1.0, 1.0, 1.0, 1.0], \"type\": \"scatter\"}, {\"mode\": \"markers\", \"name\": \"Uncontrolled\", \"opacity\": 0.8, \"x\": [-0.9104231060253786, -0.9797150810523129, -0.8865605487226745, -0.6730962223904913, 0.6429349246900046, 0.4432473324636937, 0.401364631031464, 0.6398702447558189, 0.4562124751732289, 0.6682670089387931], \"y\": [1.0, 1.0, 1.0, 1.0, 1.0, 1.0, 1.0, 1.0, 1.0, 1.0], \"type\": \"scatter\"}]}, {\"data\": [{\"marker\": {\"color\": \"SkyBlue\", \"size\": 15}, \"mode\": \"markers\", \"name\": \"Controlled\", \"x\": [-0.5661252834525469, -0.30215426513535903, -0.30615026110205174, -0.31839482422441545, -0.07507818679651279, -0.10536692675334285, -0.1830998908016708, -0.09571270492700364, -0.014415785512003959, 0.0004081484801613305], \"y\": [1.0, 1.0, 1.0, 1.0, 1.0, 1.0, 1.0, 1.0, 1.0, 1.0], \"type\": \"scatter\"}, {\"mode\": \"markers\", \"name\": \"Uncontrolled\", \"opacity\": 0.8, \"x\": [-0.8994822527021806, -0.982037455816761, -0.8741271192495299, -0.6713201865103084, 0.6445130502424276, 0.4608057720986148, 0.4045634854146301, 0.6368787491313815, 0.4401552467245285, 0.6633572542315306], \"y\": [1.0, 1.0, 1.0, 1.0, 1.0, 1.0, 1.0, 1.0, 1.0, 1.0], \"type\": \"scatter\"}]}, {\"data\": [{\"marker\": {\"color\": \"SkyBlue\", \"size\": 15}, \"mode\": \"markers\", \"name\": \"Controlled\", \"x\": [-0.553802062565792, -0.31250622656986593, -0.3099900282911281, -0.327825467705589, -0.07895789255995099, -0.12109438986407445, -0.1674959786480403, -0.10436991986436574, -0.008782814166572173, 0.0028885783365206006], \"y\": [1.0, 1.0, 1.0, 1.0, 1.0, 1.0, 1.0, 1.0, 1.0, 1.0], \"type\": \"scatter\"}, {\"mode\": \"markers\", \"name\": \"Uncontrolled\", \"opacity\": 0.8, \"x\": [-0.8920054202762573, -0.9981435074774537, -0.8823608321788404, -0.684598951142259, 0.6450590640030044, 0.4474436204886302, 0.42130346573430216, 0.633125125314664, 0.44694015359187084, 0.669036387369688], \"y\": [1.0, 1.0, 1.0, 1.0, 1.0, 1.0, 1.0, 1.0, 1.0, 1.0], \"type\": \"scatter\"}]}, {\"data\": [{\"marker\": {\"color\": \"SkyBlue\", \"size\": 15}, \"mode\": \"markers\", \"name\": \"Controlled\", \"x\": [-0.5514714420625823, -0.31725432195724296, -0.30468565073144865, -0.33106454106031513, -0.09333834519966, -0.12620949696012246, -0.14264988404020912, -0.11528437059743442, -0.02561063628879061, -0.008941547173099895], \"y\": [1.0, 1.0, 1.0, 1.0, 1.0, 1.0, 1.0, 1.0, 1.0, 1.0], \"type\": \"scatter\"}, {\"mode\": \"markers\", \"name\": \"Uncontrolled\", \"opacity\": 0.8, \"x\": [-0.8942199175747091, -1.0089519215545095, -0.8814761360074982, -0.6919039096725538, 0.6351480517619297, 0.44409303171616876, 0.4477510279368416, 0.6269293311805749, 0.4314107043725577, 0.660601083538843], \"y\": [1.0, 1.0, 1.0, 1.0, 1.0, 1.0, 1.0, 1.0, 1.0, 1.0], \"type\": \"scatter\"}]}, {\"data\": [{\"marker\": {\"color\": \"SkyBlue\", \"size\": 15}, \"mode\": \"markers\", \"name\": \"Controlled\", \"x\": [-0.5462192345624639, -0.3128785108651703, -0.30827178588093124, -0.33336561056923536, -0.07913286647868832, -0.13645721846755943, -0.12400439371329856, -0.12241520363273355, -0.026817239624725632, -0.01771927161770023], \"y\": [1.0, 1.0, 1.0, 1.0, 1.0, 1.0, 1.0, 1.0, 1.0, 1.0], \"type\": \"scatter\"}, {\"mode\": \"markers\", \"name\": \"Uncontrolled\", \"opacity\": 0.8, \"x\": [-0.8934186283307731, -1.010782974418665, -0.8892595145712467, -0.6984351974093299, 0.6535304427255414, 0.4355356829104453, 0.4686957061673565, 0.6243220125978999, 0.4309652599371552, 0.655024792127199], \"y\": [1.0, 1.0, 1.0, 1.0, 1.0, 1.0, 1.0, 1.0, 1.0, 1.0], \"type\": \"scatter\"}]}, {\"data\": [{\"marker\": {\"color\": \"SkyBlue\", \"size\": 15}, \"mode\": \"markers\", \"name\": \"Controlled\", \"x\": [-0.5511358114439892, -0.3268258649662282, -0.32510717099148717, -0.34455477326444567, -0.0864759073969364, -0.14488838485399144, -0.12608029182408725, -0.12364717125010082, -0.02210098887931297, -0.020000290118075078], \"y\": [1.0, 1.0, 1.0, 1.0, 1.0, 1.0, 1.0, 1.0, 1.0, 1.0], \"type\": \"scatter\"}, {\"mode\": \"markers\", \"name\": \"Uncontrolled\", \"opacity\": 0.8, \"x\": [-0.9026167170347501, -1.0308153076042994, -0.9104388539835846, -0.7139462280509529, 0.6506320157972278, 0.42843006475513384, 0.46949015958450246, 0.6273766354854555, 0.43638800049463095, 0.6558464299189731], \"y\": [1.0, 1.0, 1.0, 1.0, 1.0, 1.0, 1.0, 1.0, 1.0, 1.0], \"type\": \"scatter\"}]}, {\"data\": [{\"marker\": {\"color\": \"SkyBlue\", \"size\": 15}, \"mode\": \"markers\", \"name\": \"Controlled\", \"x\": [-0.5426020879423683, -0.3371456305749788, -0.3337578800770783, -0.34841500004105247, -0.10158086667322182, -0.14082190060192812, -0.13058034741859423, -0.12288955616775935, -0.023461469691384407, -0.004146577213064134], \"y\": [1.0, 1.0, 1.0, 1.0, 1.0, 1.0, 1.0, 1.0, 1.0, 1.0], \"type\": \"scatter\"}, {\"mode\": \"markers\", \"name\": \"Uncontrolled\", \"opacity\": 0.8, \"x\": [-0.8984408552284836, -1.0475399819271765, -0.9239095054697077, -0.7223155221689123, 0.6398689483853693, 0.43354351425797505, 0.46782699830298186, 0.6325807318889305, 0.43586912327835103, 0.6747606111326604], \"y\": [1.0, 1.0, 1.0, 1.0, 1.0, 1.0, 1.0, 1.0, 1.0, 1.0], \"type\": \"scatter\"}]}, {\"data\": [{\"marker\": {\"color\": \"SkyBlue\", \"size\": 15}, \"mode\": \"markers\", \"name\": \"Controlled\", \"x\": [-0.5610668146063171, -0.33973361981786043, -0.314227295181964, -0.3368617032515917, -0.0964729138102905, -0.13182462000135578, -0.1360217068158304, -0.12164659225230895, -0.023710835507742223, 0.003128969161509592], \"y\": [1.0, 1.0, 1.0, 1.0, 1.0, 1.0, 1.0, 1.0, 1.0, 1.0], \"type\": \"scatter\"}, {\"mode\": \"markers\", \"name\": \"Uncontrolled\", \"opacity\": 0.8, \"x\": [-0.9211472102270561, -1.0568467869460303, -0.9093730872664505, -0.7154722055408366, 0.648993475263109, 0.4436864312866173, 0.4652457535632146, 0.6383534018667626, 0.4364614462144824, 0.6853945906393438], \"y\": [1.0, 1.0, 1.0, 1.0, 1.0, 1.0, 1.0, 1.0, 1.0, 1.0], \"type\": \"scatter\"}]}, {\"data\": [{\"marker\": {\"color\": \"SkyBlue\", \"size\": 15}, \"mode\": \"markers\", \"name\": \"Controlled\", \"x\": [-0.5634553780791034, -0.340268247522519, -0.31042987629026586, -0.3279890832656875, -0.09096188561320062, -0.13801435431048642, -0.13877567597468152, -0.1318906283992029, -0.0170909885621933, -0.004808249058692484], \"y\": [1.0, 1.0, 1.0, 1.0, 1.0, 1.0, 1.0, 1.0, 1.0, 1.0], \"type\": \"scatter\"}, {\"mode\": \"markers\", \"name\": \"Uncontrolled\", \"opacity\": 0.8, \"x\": [-0.9281985915286076, -1.064296563896425, -0.9100037729368248, -0.7109161451924932, 0.6585328833660887, 0.43904393176721274, 0.4651495911157863, 0.6324606841626151, 0.44396742487765883, 0.6810133367013032], \"y\": [1.0, 1.0, 1.0, 1.0, 1.0, 1.0, 1.0, 1.0, 1.0, 1.0], \"type\": \"scatter\"}]}, {\"data\": [{\"marker\": {\"color\": \"SkyBlue\", \"size\": 15}, \"mode\": \"markers\", \"name\": \"Controlled\", \"x\": [-0.5742867448136267, -0.3356087083753978, -0.3049131521355163, -0.31618678817045204, -0.09917899697112686, -0.13989169539626017, -0.14154735640358737, -0.13434029180316764, -0.011831782463283824, -0.0025404912081952143], \"y\": [1.0, 1.0, 1.0, 1.0, 1.0, 1.0, 1.0, 1.0, 1.0, 1.0], \"type\": \"scatter\"}, {\"mode\": \"markers\", \"name\": \"Uncontrolled\", \"opacity\": 0.8, \"x\": [-0.9437914817251839, -1.0666050859668772, -0.9088687496583079, -0.7032866729092473, 0.6544851715223382, 0.4385552525740593, 0.46484034026967985, 0.6340501560006325, 0.45034260269690346, 0.6866744628913924], \"y\": [1.0, 1.0, 1.0, 1.0, 1.0, 1.0, 1.0, 1.0, 1.0, 1.0], \"type\": \"scatter\"}]}, {\"data\": [{\"marker\": {\"color\": \"SkyBlue\", \"size\": 15}, \"mode\": \"markers\", \"name\": \"Controlled\", \"x\": [-0.5716670194585518, -0.32834367976151574, -0.3056660221571682, -0.31207358626979065, -0.11286050992799104, -0.13292843865813003, -0.13734224003635076, -0.13268841488096486, -0.01442624117863478, -0.00692658402550821], \"y\": [1.0, 1.0, 1.0, 1.0, 1.0, 1.0, 1.0, 1.0, 1.0, 1.0], \"type\": \"scatter\"}, {\"mode\": \"markers\", \"name\": \"Uncontrolled\", \"opacity\": 0.8, \"x\": [-0.9462139133507989, -1.0662693682501372, -0.9138632727322011, -0.7031885801697038, 0.6448010365917418, 0.44683960457293836, 0.47129186540590295, 0.6396303001843177, 0.44899518819738377, 0.6857918353459841], \"y\": [1.0, 1.0, 1.0, 1.0, 1.0, 1.0, 1.0, 1.0, 1.0, 1.0], \"type\": \"scatter\"}]}, {\"data\": [{\"marker\": {\"color\": \"SkyBlue\", \"size\": 15}, \"mode\": \"markers\", \"name\": \"Controlled\", \"x\": [-0.5605209259861865, -0.31489231787305433, -0.29752138301981107, -0.30607682338389336, -0.11317280695812923, -0.1402463466141909, -0.14159527645912034, -0.14575352116809803, -0.017964563430614946, -0.0005412018268194617], \"y\": [1.0, 1.0, 1.0, 1.0, 1.0, 1.0, 1.0, 1.0, 1.0, 1.0], \"type\": \"scatter\"}, {\"mode\": \"markers\", \"name\": \"Uncontrolled\", \"opacity\": 0.8, \"x\": [-0.9401061850155799, -1.0596202680127536, -0.9099993387903023, -0.701153494576899, 0.6482270507717893, 0.4410879763362544, 0.4693740481227819, 0.6304514596495618, 0.4465588439904126, 0.6955627860592791], \"y\": [1.0, 1.0, 1.0, 1.0, 1.0, 1.0, 1.0, 1.0, 1.0, 1.0], \"type\": \"scatter\"}]}, {\"data\": [{\"marker\": {\"color\": \"SkyBlue\", \"size\": 15}, \"mode\": \"markers\", \"name\": \"Controlled\", \"x\": [-0.5411523943564982, -0.3114532028993532, -0.2885110476304139, -0.2922735134847254, -0.10831656586014438, -0.12997843689431965, -0.14067524093541173, -0.14516651414767115, -0.025630907248663463, -0.004311749461033223], \"y\": [1.0, 1.0, 1.0, 1.0, 1.0, 1.0, 1.0, 1.0, 1.0, 1.0], \"type\": \"scatter\"}, {\"mode\": \"markers\", \"name\": \"Uncontrolled\", \"opacity\": 0.8, \"x\": [-0.925635931612468, -1.0626322251454465, -0.9050593677074498, -0.6913702401628337, 0.6566775943586418, 0.45269409165526175, 0.47255612575678124, 0.6345628596275811, 0.4399722442667998, 0.6953693740024633], \"y\": [1.0, 1.0, 1.0, 1.0, 1.0, 1.0, 1.0, 1.0, 1.0, 1.0], \"type\": \"scatter\"}]}, {\"data\": [{\"marker\": {\"color\": \"SkyBlue\", \"size\": 15}, \"mode\": \"markers\", \"name\": \"Controlled\", \"x\": [-0.5544631977504232, -0.30289851700991366, -0.28086096092304125, -0.296269046762751, -0.1328451297033106, -0.1117709596902333, -0.13138739711724937, -0.14963845326483144, -0.027879964274186347, -0.003700914493582191], \"y\": [1.0, 1.0, 1.0, 1.0, 1.0, 1.0, 1.0, 1.0, 1.0, 1.0], \"type\": \"scatter\"}, {\"mode\": \"markers\", \"name\": \"Uncontrolled\", \"opacity\": 0.8, \"x\": [-0.9435196500968089, -1.0605840227962078, -0.9012853817234942, -0.6991480201763457, 0.6358435876833789, 0.472565300837247, 0.48426133779502567, 0.6337025579486419, 0.4386185741589216, 0.6994255406189769], \"y\": [1.0, 1.0, 1.0, 1.0, 1.0, 1.0, 1.0, 1.0, 1.0, 1.0], \"type\": \"scatter\"}]}, {\"data\": [{\"marker\": {\"color\": \"SkyBlue\", \"size\": 15}, \"mode\": \"markers\", \"name\": \"Controlled\", \"x\": [-0.5676870102937475, -0.30184759600315075, -0.26998935448634476, -0.2862204856727114, -0.13606682525021432, -0.12630599036152396, -0.13341694499154635, -0.1658897794890531, -0.026435269969570865, -0.0024913017434504423], \"y\": [1.0, 1.0, 1.0, 1.0, 1.0, 1.0, 1.0, 1.0, 1.0, 1.0], \"type\": \"scatter\"}, {\"mode\": \"markers\", \"name\": \"Uncontrolled\", \"opacity\": 0.8, \"x\": [-0.9615430943350064, -1.065939850048699, -0.8940745850081343, -0.6929944305424236, 0.6360116556246828, 0.4602200067981853, 0.4849164783722393, 0.6208749677239984, 0.4408877589290856, 0.704192394055274], \"y\": [1.0, 1.0, 1.0, 1.0, 1.0, 1.0, 1.0, 1.0, 1.0, 1.0], \"type\": \"scatter\"}]}, {\"data\": [{\"marker\": {\"color\": \"SkyBlue\", \"size\": 15}, \"mode\": \"markers\", \"name\": \"Controlled\", \"x\": [-0.5631181600123766, -0.3107941919461895, -0.276223590799572, -0.283062109805899, -0.1440752480785373, -0.12114477008551626, -0.14513694091191004, -0.1757829255395225, -0.026317212336117186, 0.011765186169992909], \"y\": [1.0, 1.0, 1.0, 1.0, 1.0, 1.0, 1.0, 1.0, 1.0, 1.0], \"type\": \"scatter\"}, {\"mode\": \"markers\", \"name\": \"Uncontrolled\", \"opacity\": 0.8, \"x\": [-0.9620618519472407, -1.0813126473915302, -0.9036732947765909, -0.6936101712802163, 0.6313663372905979, 0.46720957729817414, 0.475806955519256, 0.6139527248615725, 0.4419589396314615, 0.7221786327048785], \"y\": [1.0, 1.0, 1.0, 1.0, 1.0, 1.0, 1.0, 1.0, 1.0, 1.0], \"type\": \"scatter\"}]}, {\"data\": [{\"marker\": {\"color\": \"SkyBlue\", \"size\": 15}, \"mode\": \"markers\", \"name\": \"Controlled\", \"x\": [-0.5629876886455981, -0.2975523159015402, -0.2596685241502773, -0.26132538529996746, -0.13402709365351784, -0.1252506275262728, -0.14744433634792417, -0.18147821784129545, -0.0340470115143747, 0.007614062001165855], \"y\": [1.0, 1.0, 1.0, 1.0, 1.0, 1.0, 1.0, 1.0, 1.0, 1.0], \"type\": \"scatter\"}, {\"mode\": \"markers\", \"name\": \"Uncontrolled\", \"opacity\": 0.8, \"x\": [-0.9670384853765672, -1.0747486854385846, -0.8906087410511669, -0.6755482140925821, 0.6445779578079284, 0.46505945699839146, 0.475834614249989, 0.6109635175735298, 0.4353162587261632, 0.722055701157044], \"y\": [1.0, 1.0, 1.0, 1.0, 1.0, 1.0, 1.0, 1.0, 1.0, 1.0], \"type\": \"scatter\"}]}, {\"data\": [{\"marker\": {\"color\": \"SkyBlue\", \"size\": 15}, \"mode\": \"markers\", \"name\": \"Controlled\", \"x\": [-0.5551948629068924, -0.302317830161978, -0.27407797064332756, -0.25872806102836826, -0.13665092974884502, -0.11931175157982254, -0.14301972422011827, -0.1813343962282139, -0.04448086916210551, 0.023821464136551583], \"y\": [1.0, 1.0, 1.0, 1.0, 1.0, 1.0, 1.0, 1.0, 1.0, 1.0], \"type\": \"scatter\"}, {\"mode\": \"markers\", \"name\": \"Uncontrolled\", \"opacity\": 0.8, \"x\": [-0.964391597651395, -1.0859729704399657, -0.9081408790378108, -0.6762963748635493, 0.645284693826718, 0.4728977736866297, 0.4825958255095427, 0.6137040106125016, 0.425841468331484, 0.7422510367256321], \"y\": [1.0, 1.0, 1.0, 1.0, 1.0, 1.0, 1.0, 1.0, 1.0, 1.0], \"type\": \"scatter\"}]}, {\"data\": [{\"marker\": {\"color\": \"SkyBlue\", \"size\": 15}, \"mode\": \"markers\", \"name\": \"Controlled\", \"x\": [-0.5589911257876956, -0.31217132990797647, -0.26849628494441696, -0.2638327052769981, -0.13314401082043184, -0.10955165787251087, -0.1456753696027437, -0.1767847886202683, -0.042645969961480824, 0.012995550792427316], \"y\": [1.0, 1.0, 1.0, 1.0, 1.0, 1.0, 1.0, 1.0, 1.0, 1.0], \"type\": \"scatter\"}, {\"mode\": \"markers\", \"name\": \"Uncontrolled\", \"opacity\": 0.8, \"x\": [-0.9732298975990111, -1.1024400747461969, -0.9059950318957357, -0.6846561812173081, 0.6519915599542365, 0.4846790746320607, 0.48245090532729745, 0.6209230218884564, 0.4283861945216905, 0.7357730002734878], \"y\": [1.0, 1.0, 1.0, 1.0, 1.0, 1.0, 1.0, 1.0, 1.0, 1.0], \"type\": \"scatter\"}]}, {\"data\": [{\"marker\": {\"color\": \"SkyBlue\", \"size\": 15}, \"mode\": \"markers\", \"name\": \"Controlled\", \"x\": [-0.5675340413208629, -0.3024939493008283, -0.26665233228803736, -0.2503593852849327, -0.14241355053083482, -0.12660274743901537, -0.15656205708175874, -0.17216900096117835, -0.04745536826544949, 0.02915146982552086], \"y\": [1.0, 1.0, 1.0, 1.0, 1.0, 1.0, 1.0, 1.0, 1.0, 1.0], \"type\": \"scatter\"}, {\"mode\": \"markers\", \"name\": \"Uncontrolled\", \"opacity\": 0.8, \"x\": [-0.9868952437293124, -1.099676614178374, -0.9074814176879256, -0.6744736840302683, 0.6459792763332415, 0.47004348710604216, 0.4740213318092276, 0.6283269034170966, 0.4243248565608588, 0.755923226254526], \"y\": [1.0, 1.0, 1.0, 1.0, 1.0, 1.0, 1.0, 1.0, 1.0, 1.0], \"type\": \"scatter\"}]}, {\"data\": [{\"marker\": {\"color\": \"SkyBlue\", \"size\": 15}, \"mode\": \"markers\", \"name\": \"Controlled\", \"x\": [-0.5689317570532987, -0.304119382118655, -0.2819585334883085, -0.24945426297592657, -0.14322511186194878, -0.14139646601907635, -0.1506286222193693, -0.1859562430607417, -0.053511901613878456, 0.019006659729896583], \"y\": [1.0, 1.0, 1.0, 1.0, 1.0, 1.0, 1.0, 1.0, 1.0, 1.0], \"type\": \"scatter\"}, {\"mode\": \"markers\", \"name\": \"Uncontrolled\", \"opacity\": 0.8, \"x\": [-0.9936427088034925, -1.1080383167649415, -0.9260705952704308, -0.6766536995237916, 0.6482609757386769, 0.4570348920169194, 0.4821033773609071, 0.6174498597853288, 0.4189247220193477, 0.7503282771032497], \"y\": [1.0, 1.0, 1.0, 1.0, 1.0, 1.0, 1.0, 1.0, 1.0, 1.0], \"type\": \"scatter\"}]}, {\"data\": [{\"marker\": {\"color\": \"SkyBlue\", \"size\": 15}, \"mode\": \"markers\", \"name\": \"Controlled\", \"x\": [-0.5679589888846366, -0.3044603970186259, -0.28673171268430564, -0.25673690429846896, -0.14939457933646694, -0.14594189441460106, -0.1510259076327952, -0.192415674985936, -0.062470764930299384, -0.0008053657194787671], \"y\": [1.0, 1.0, 1.0, 1.0, 1.0, 1.0, 1.0, 1.0, 1.0, 1.0], \"type\": \"scatter\"}, {\"mode\": \"markers\", \"name\": \"Uncontrolled\", \"opacity\": 0.8, \"x\": [-0.9980380217316795, -1.1150856260583022, -0.9345904247944494, -0.6870857994913724, 0.6451972733944213, 0.4539060099323602, 0.4839497572436938, 0.6136431676173678, 0.41039675391602504, 0.7347968141671871], \"y\": [1.0, 1.0, 1.0, 1.0, 1.0, 1.0, 1.0, 1.0, 1.0, 1.0], \"type\": \"scatter\"}]}, {\"data\": [{\"marker\": {\"color\": \"SkyBlue\", \"size\": 15}, \"mode\": \"markers\", \"name\": \"Controlled\", \"x\": [-0.5457480607820331, -0.32167029748480025, -0.2750671789073839, -0.2576524541670091, -0.1525850867776504, -0.13269743430422726, -0.13599833893308605, -0.1948576361072722, -0.062239598896299146, -0.01880106297662062], \"y\": [1.0, 1.0, 1.0, 1.0, 1.0, 1.0, 1.0, 1.0, 1.0, 1.0], \"type\": \"scatter\"}, {\"mode\": \"markers\", \"name\": \"Uncontrolled\", \"opacity\": 0.8, \"x\": [-0.9811431297059614, -1.1389648766861116, -0.9268988131698185, -0.6913864641894416, 0.6450524131830819, 0.46846638998846685, 0.5012079194436094, 0.6136315739328664, 0.41080751677862165, 0.7205158127055188], \"y\": [1.0, 1.0, 1.0, 1.0, 1.0, 1.0, 1.0, 1.0, 1.0, 1.0], \"type\": \"scatter\"}]}, {\"data\": [{\"marker\": {\"color\": \"SkyBlue\", \"size\": 15}, \"mode\": \"markers\", \"name\": \"Controlled\", \"x\": [-0.528935872889929, -0.33144980231021814, -0.2819847764936673, -0.2501845182366169, -0.1316421477161802, -0.1103533638721093, -0.13564345706303071, -0.20106843300402827, -0.0838813327832414, -0.017520023359976274], \"y\": [1.0, 1.0, 1.0, 1.0, 1.0, 1.0, 1.0, 1.0, 1.0, 1.0], \"type\": \"scatter\"}, {\"mode\": \"markers\", \"name\": \"Uncontrolled\", \"opacity\": 0.8, \"x\": [-0.9691767687190689, -1.1560349709116102, -0.9375101338102264, -0.6872741991482108, 0.6689590798510267, 0.4925922477722383, 0.5043616346667078, 0.6098170733665764, 0.3892645464617122, 0.7250990257935791], \"y\": [1.0, 1.0, 1.0, 1.0, 1.0, 1.0, 1.0, 1.0, 1.0, 1.0], \"type\": \"scatter\"}]}, {\"data\": [{\"marker\": {\"color\": \"SkyBlue\", \"size\": 15}, \"mode\": \"markers\", \"name\": \"Controlled\", \"x\": [-0.5276372862261869, -0.3266720085239707, -0.274914865763791, -0.2388830557608752, -0.13701498102706636, -0.1062657257488989, -0.11905092273071219, -0.20462509704598203, -0.08973163664551675, -0.019660297946889484], \"y\": [1.0, 1.0, 1.0, 1.0, 1.0, 1.0, 1.0, 1.0, 1.0, 1.0], \"type\": \"scatter\"}, {\"mode\": \"markers\", \"name\": \"Uncontrolled\", \"opacity\": 0.8, \"x\": [-0.9724573825680695, -1.158885948315872, -0.9343261886158024, -0.6790900697901132, 0.6668400032825327, 0.4992082620753556, 0.5239134717595664, 0.6085854051142138, 0.3829834096407296, 0.726059782888094], \"y\": [1.0, 1.0, 1.0, 1.0, 1.0, 1.0, 1.0, 1.0, 1.0, 1.0], \"type\": \"scatter\"}]}, {\"data\": [{\"marker\": {\"color\": \"SkyBlue\", \"size\": 15}, \"mode\": \"markers\", \"name\": \"Controlled\", \"x\": [-0.5233462061069282, -0.3233356548100851, -0.27978892209235817, -0.24807747701292412, -0.14247699883864368, -0.11434766216560613, -0.11336108436236696, -0.19472279944942308, -0.0858647000092582, -0.007730549366798241], \"y\": [1.0, 1.0, 1.0, 1.0, 1.0, 1.0, 1.0, 1.0, 1.0, 1.0], \"type\": \"scatter\"}, {\"mode\": \"markers\", \"name\": \"Uncontrolled\", \"opacity\": 0.8, \"x\": [-0.9726893262137986, -1.163142022608373, -0.9428722460166578, -0.6912080615299521, 0.6645558094095886, 0.4938274763120929, 0.5331521721888505, 0.6207494732168768, 0.3862327252938384, 0.7411007209106202], \"y\": [1.0, 1.0, 1.0, 1.0, 1.0, 1.0, 1.0, 1.0, 1.0, 1.0], \"type\": \"scatter\"}]}, {\"data\": [{\"marker\": {\"color\": \"SkyBlue\", \"size\": 15}, \"mode\": \"markers\", \"name\": \"Controlled\", \"x\": [-0.511929129103781, -0.320277630433257, -0.27260879677511385, -0.2648677949964014, -0.14727295562107792, -0.10736184208138547, -0.11828426261006474, -0.1936041322276048, -0.09411482057313192, 0.00804325976177675], \"y\": [1.0, 1.0, 1.0, 1.0, 1.0, 1.0, 1.0, 1.0, 1.0, 1.0], \"type\": \"scatter\"}, {\"mode\": \"markers\", \"name\": \"Uncontrolled\", \"opacity\": 0.8, \"x\": [-0.9657128970686396, -1.167593564685981, -0.9394283693015593, -0.7111603706105812, 0.66279713652559, 0.5031842756417155, 0.5319114372951834, 0.6243821269544504, 0.3773496466671744, 0.7602848845327876], \"y\": [1.0, 1.0, 1.0, 1.0, 1.0, 1.0, 1.0, 1.0, 1.0, 1.0], \"type\": \"scatter\"}]}, {\"data\": [{\"marker\": {\"color\": \"SkyBlue\", \"size\": 15}, \"mode\": \"markers\", \"name\": \"Controlled\", \"x\": [-0.5265829571410637, -0.3173791597302043, -0.2849484006810797, -0.2639326202073957, -0.14252579432815782, -0.09183620367815527, -0.11734835379302376, -0.19956390709862906, -0.09534157628628313, 0.010434378041729704], \"y\": [1.0, 1.0, 1.0, 1.0, 1.0, 1.0, 1.0, 1.0, 1.0, 1.0], \"type\": \"scatter\"}, {\"mode\": \"markers\", \"name\": \"Uncontrolled\", \"opacity\": 0.8, \"x\": [-0.9846925620639483, -1.1721636353808804, -0.9552291070876673, -0.7138010406106241, 0.6704288922749702, 0.5211362658531002, 0.5365145508919925, 0.6209358509967059, 0.37528471680604536, 0.7665200672117481], \"y\": [1.0, 1.0, 1.0, 1.0, 1.0, 1.0, 1.0, 1.0, 1.0, 1.0], \"type\": \"scatter\"}]}, {\"data\": [{\"marker\": {\"color\": \"SkyBlue\", \"size\": 15}, \"mode\": \"markers\", \"name\": \"Controlled\", \"x\": [-0.5209029554809993, -0.30627723294359244, -0.27840771275561293, -0.26163610039742075, -0.13740124188961253, -0.09117892536010568, -0.13579083048009236, -0.1955307507459613, -0.1103696695141607, 0.0005842622095920905], \"y\": [1.0, 1.0, 1.0, 1.0, 1.0, 1.0, 1.0, 1.0, 1.0, 1.0], \"type\": \"scatter\"}, {\"mode\": \"markers\", \"name\": \"Uncontrolled\", \"opacity\": 0.8, \"x\": [-0.9835822037646695, -1.1683526907208552, -0.9525301805993983, -0.7150184616471563, 0.6785346063782727, 0.5247060656211836, 0.5216858891151457, 0.6272702629282917, 0.3594603890883593, 0.760479715265713], \"y\": [1.0, 1.0, 1.0, 1.0, 1.0, 1.0, 1.0, 1.0, 1.0, 1.0], \"type\": \"scatter\"}]}, {\"data\": [{\"marker\": {\"color\": \"SkyBlue\", \"size\": 15}, \"mode\": \"markers\", \"name\": \"Controlled\", \"x\": [-0.5281057695620563, -0.30373752852428126, -0.2781294038001944, -0.27054745332588076, -0.14595985811559778, -0.08636501367421205, -0.13955790860268477, -0.18862901742478017, -0.12184378964206088, -0.007274870489469589], \"y\": [1.0, 1.0, 1.0, 1.0, 1.0, 1.0, 1.0, 1.0, 1.0, 1.0], \"type\": \"scatter\"}, {\"mode\": \"markers\", \"name\": \"Uncontrolled\", \"opacity\": 0.8, \"x\": [-0.9952817905617064, -1.1727985447780043, -0.9560808651648827, -0.7274860869820411, 0.6731025152110914, 0.5324165976745407, 0.5210204981609815, 0.6366417957640171, 0.34676541300697306, 0.7560623457747987], \"y\": [1.0, 1.0, 1.0, 1.0, 1.0, 1.0, 1.0, 1.0, 1.0, 1.0], \"type\": \"scatter\"}]}, {\"data\": [{\"marker\": {\"color\": \"SkyBlue\", \"size\": 15}, \"mode\": \"markers\", \"name\": \"Controlled\", \"x\": [-0.5225793078254302, -0.3138844240743312, -0.27408267196084624, -0.2743660258031211, -0.14906212551637246, -0.09101090764994925, -0.1343452062006271, -0.2023365972204252, -0.10998030250932744, -0.02495652277672615], \"y\": [1.0, 1.0, 1.0, 1.0, 1.0, 1.0, 1.0, 1.0, 1.0, 1.0], \"type\": \"scatter\"}, {\"mode\": \"markers\", \"name\": \"Uncontrolled\", \"opacity\": 0.8, \"x\": [-0.9943644459582864, -1.1898700295608342, -0.9559258606551151, -0.7350678692288694, 0.6729973085567204, 0.5307736499721019, 0.5292551984464823, 0.6256189458900762, 0.35709515021091676, 0.7416252952678779], \"y\": [1.0, 1.0, 1.0, 1.0, 1.0, 1.0, 1.0, 1.0, 1.0, 1.0], \"type\": \"scatter\"}]}, {\"data\": [{\"marker\": {\"color\": \"SkyBlue\", \"size\": 15}, \"mode\": \"markers\", \"name\": \"Controlled\", \"x\": [-0.5105984170821765, -0.29520994064674894, -0.26177483974390897, -0.26822578172047806, -0.13772856535681058, -0.0972683589658274, -0.13851357117490165, -0.1929732772678242, -0.11247852139919447, -0.02584368378063879], \"y\": [1.0, 1.0, 1.0, 1.0, 1.0, 1.0, 1.0, 1.0, 1.0, 1.0], \"type\": \"scatter\"}, {\"mode\": \"markers\", \"name\": \"Uncontrolled\", \"opacity\": 0.8, \"x\": [-0.9868827164305056, -1.178412489526926, -0.947416424133043, -0.7328063937923883, 0.6873070997420327, 0.5274846690071814, 0.5282417357334107, 0.6372526906961767, 0.3534267393165593, 0.7436323293603021], \"y\": [1.0, 1.0, 1.0, 1.0, 1.0, 1.0, 1.0, 1.0, 1.0, 1.0], \"type\": \"scatter\"}]}, {\"data\": [{\"marker\": {\"color\": \"SkyBlue\", \"size\": 15}, \"mode\": \"markers\", \"name\": \"Controlled\", \"x\": [-0.5145524036786402, -0.2909421218979552, -0.2610200766229453, -0.2733827122764285, -0.15917835703938757, -0.10981798590957785, -0.12927385287816617, -0.2044708879377234, -0.1012510604888861, -0.022501518187886992], \"y\": [1.0, 1.0, 1.0, 1.0, 1.0, 1.0, 1.0, 1.0, 1.0, 1.0], \"type\": \"scatter\"}, {\"mode\": \"markers\", \"name\": \"Uncontrolled\", \"opacity\": 0.8, \"x\": [-0.9951286563768312, -1.1809261122832606, -0.9502161434147143, -0.7418458948680998, 0.6690796525803068, 0.5175961448421159, 0.5405669151971443, 0.6282873178096128, 0.3632853794825381, 0.7498634049712175], \"y\": [1.0, 1.0, 1.0, 1.0, 1.0, 1.0, 1.0, 1.0, 1.0, 1.0], \"type\": \"scatter\"}]}, {\"data\": [{\"marker\": {\"color\": \"SkyBlue\", \"size\": 15}, \"mode\": \"markers\", \"name\": \"Controlled\", \"x\": [-0.5077938937089935, -0.2880062345504885, -0.26010689574843193, -0.2628633070008455, -0.15646013972110304, -0.12254387892229135, -0.15097431964691505, -0.2021916206316879, -0.09505087534788063, -0.01591915102327595], \"y\": [1.0, 1.0, 1.0, 1.0, 1.0, 1.0, 1.0, 1.0, 1.0, 1.0], \"type\": \"scatter\"}, {\"mode\": \"markers\", \"name\": \"Uncontrolled\", \"opacity\": 0.8, \"x\": [-0.9927258070645516, -1.1846990279201992, -0.9527726823697032, -0.7354315176236399, 0.6746779758339734, 0.5071757986066099, 0.5221476266676163, 0.6327108575767645, 0.36835999399422414, 0.7595684110077524], \"y\": [1.0, 1.0, 1.0, 1.0, 1.0, 1.0, 1.0, 1.0, 1.0, 1.0], \"type\": \"scatter\"}]}, {\"data\": [{\"marker\": {\"color\": \"SkyBlue\", \"size\": 15}, \"mode\": \"markers\", \"name\": \"Controlled\", \"x\": [-0.5050924708830516, -0.2894037377531249, -0.2651172849396577, -0.27212113373016994, -0.14909555104779076, -0.12831901132300405, -0.15386079611404893, -0.20715577783183198, -0.10175277367076016, -0.009485860446977686], \"y\": [1.0, 1.0, 1.0, 1.0, 1.0, 1.0, 1.0, 1.0, 1.0, 1.0], \"type\": \"scatter\"}, {\"mode\": \"markers\", \"name\": \"Uncontrolled\", \"opacity\": 0.8, \"x\": [-0.9943628846798032, -1.1927407260077783, -0.9613020072818267, -0.7486190811152723, 0.6849843570058127, 0.5033158089216712, 0.5219419188987465, 0.629971604988704, 0.36074095746344964, 0.7692875361173079], \"y\": [1.0, 1.0, 1.0, 1.0, 1.0, 1.0, 1.0, 1.0, 1.0, 1.0], \"type\": \"scatter\"}]}, {\"data\": [{\"marker\": {\"color\": \"SkyBlue\", \"size\": 15}, \"mode\": \"markers\", \"name\": \"Controlled\", \"x\": [-0.4998119939169616, -0.2837314935581547, -0.2582634030881404, -0.2701321465171364, -0.1628402727936044, -0.128207243298273, -0.1680686283713876, -0.21301965515500665, -0.098638644637335, -0.02455966547642753], \"y\": [1.0, 1.0, 1.0, 1.0, 1.0, 1.0, 1.0, 1.0, 1.0, 1.0], \"type\": \"scatter\"}, {\"mode\": \"markers\", \"name\": \"Uncontrolled\", \"opacity\": 0.8, \"x\": [-0.9933918469194856, -1.1936424849815583, -0.958077161280363, -0.7508065062019843, 0.6742640038025459, 0.5051139204864696, 0.5103486704390188, 0.6262020661809734, 0.36279714874102065, 0.7575963362047462], \"y\": [1.0, 1.0, 1.0, 1.0, 1.0, 1.0, 1.0, 1.0, 1.0, 1.0], \"type\": \"scatter\"}]}, {\"data\": [{\"marker\": {\"color\": \"SkyBlue\", \"size\": 15}, \"mode\": \"markers\", \"name\": \"Controlled\", \"x\": [-0.4904459398027787, -0.28993008138590476, -0.25783492961775767, -0.2709140302270647, -0.14383128571418616, -0.12488065102803762, -0.18543276457534064, -0.21598592972528016, -0.09779248381431757, -0.033160703029020154], \"y\": [1.0, 1.0, 1.0, 1.0, 1.0, 1.0, 1.0, 1.0, 1.0, 1.0], \"type\": \"scatter\"}, {\"mode\": \"markers\", \"name\": \"Uncontrolled\", \"opacity\": 0.8, \"x\": [-0.9883438380988981, -1.2063177180192295, -0.9612249836950881, -0.7558101276031891, 0.6961472511486271, 0.5101683927869148, 0.49522567974150744, 0.6251495935283218, 0.36269920181748233, 0.7520790352883117], \"y\": [1.0, 1.0, 1.0, 1.0, 1.0, 1.0, 1.0, 1.0, 1.0, 1.0], \"type\": \"scatter\"}]}, {\"data\": [{\"marker\": {\"color\": \"SkyBlue\", \"size\": 15}, \"mode\": \"markers\", \"name\": \"Controlled\", \"x\": [-0.49462000971601167, -0.27900367426064615, -0.2753897016824244, -0.27198714733282403, -0.14006525190351532, -0.13018516427356788, -0.19811092779117856, -0.21280233445718266, -0.10884156340263966, -0.044399430286648084], \"y\": [1.0, 1.0, 1.0, 1.0, 1.0, 1.0, 1.0, 1.0, 1.0, 1.0], \"type\": \"scatter\"}, {\"mode\": \"markers\", \"name\": \"Uncontrolled\", \"opacity\": 0.8, \"x\": [-0.9967353282346999, -1.2019603389094413, -0.9824446068927948, -0.7611104782992006, 0.7030306833699301, 0.5067035869800613, 0.48434165466215273, 0.6301638471430765, 0.3508027148877459, 0.7436156939130075], \"y\": [1.0, 1.0, 1.0, 1.0, 1.0, 1.0, 1.0, 1.0, 1.0, 1.0], \"type\": \"scatter\"}]}, {\"data\": [{\"marker\": {\"color\": \"SkyBlue\", \"size\": 15}, \"mode\": \"markers\", \"name\": \"Controlled\", \"x\": [-0.5046194388383476, -0.29553477456892085, -0.2769599741148098, -0.2677237875089321, -0.1406647474626718, -0.12721460804858317, -0.19533173310106344, -0.21554158177080232, -0.10391314661944459, -0.03616659770910987], \"y\": [1.0, 1.0, 1.0, 1.0, 1.0, 1.0, 1.0, 1.0, 1.0, 1.0], \"type\": \"scatter\"}, {\"mode\": \"markers\", \"name\": \"Uncontrolled\", \"opacity\": 0.8, \"x\": [-1.0110564393047448, -1.2246774712976873, -0.9883124801258432, -0.7611751947593502, 0.7056571407405984, 0.5113501301723371, 0.4884928739620203, 0.6294011331735244, 0.35463391779039005, 0.7542396401194053], \"y\": [1.0, 1.0, 1.0, 1.0, 1.0, 1.0, 1.0, 1.0, 1.0, 1.0], \"type\": \"scatter\"}]}, {\"data\": [{\"marker\": {\"color\": \"SkyBlue\", \"size\": 15}, \"mode\": \"markers\", \"name\": \"Controlled\", \"x\": [-0.49545605681587546, -0.2928392947596058, -0.2913192210754312, -0.2618285940582471, -0.1408117628259755, -0.14146861157467883, -0.21443752959862186, -0.2113915597196521, -0.09552199019281134, -0.032217652241839846], \"y\": [1.0, 1.0, 1.0, 1.0, 1.0, 1.0, 1.0, 1.0, 1.0, 1.0], \"type\": \"scatter\"}, {\"mode\": \"markers\", \"name\": \"Uncontrolled\", \"opacity\": 0.8, \"x\": [-1.0064514385689587, -1.2286599441434098, -1.0069577313681004, -0.7594059201361001, 0.7086704664522034, 0.49889406963797234, 0.4708273813336419, 0.6354603981931346, 0.36207688574964897, 0.7607898955208148], \"y\": [1.0, 1.0, 1.0, 1.0, 1.0, 1.0, 1.0, 1.0, 1.0, 1.0], \"type\": \"scatter\"}]}, {\"data\": [{\"marker\": {\"color\": \"SkyBlue\", \"size\": 15}, \"mode\": \"markers\", \"name\": \"Controlled\", \"x\": [-0.49685219701149075, -0.28122704212253546, -0.2990608021070709, -0.2719967713150898, -0.14867726591294259, -0.1596132839795928, -0.21331611134718226, -0.20363523227783734, -0.1087703057672767, -0.036427763786259997], \"y\": [1.0, 1.0, 1.0, 1.0, 1.0, 1.0, 1.0, 1.0, 1.0, 1.0], \"type\": \"scatter\"}, {\"mode\": \"markers\", \"name\": \"Uncontrolled\", \"opacity\": 0.8, \"x\": [-1.0123360287617895, -1.2236238879643742, -1.0194387611556532, -0.7736177485073766, 0.703873674676466, 0.4821132387843096, 0.47279269913289923, 0.6452600020662345, 0.348117947681295, 0.759218572435906], \"y\": [1.0, 1.0, 1.0, 1.0, 1.0, 1.0, 1.0, 1.0, 1.0, 1.0], \"type\": \"scatter\"}]}, {\"data\": [{\"marker\": {\"color\": \"SkyBlue\", \"size\": 15}, \"mode\": \"markers\", \"name\": \"Controlled\", \"x\": [-0.48691786000345033, -0.2718337894866467, -0.2987808728760275, -0.27914509897828443, -0.15292114073205917, -0.1629810181493607, -0.2235122043687984, -0.19616750167225422, -0.09557421821210453, -0.05593282562347157], \"y\": [1.0, 1.0, 1.0, 1.0, 1.0, 1.0, 1.0, 1.0, 1.0, 1.0], \"type\": \"scatter\"}, {\"mode\": \"markers\", \"name\": \"Uncontrolled\", \"opacity\": 0.8, \"x\": [-1.0068625443463994, -1.2204519873010908, -1.0241981939053364, -0.7851694990690272, 0.7025746278226895, 0.47951904819173463, 0.463441645320867, 0.6550445606544841, 0.3601985932807178, 0.7422594674011522], \"y\": [1.0, 1.0, 1.0, 1.0, 1.0, 1.0, 1.0, 1.0, 1.0, 1.0], \"type\": \"scatter\"}]}, {\"data\": [{\"marker\": {\"color\": \"SkyBlue\", \"size\": 15}, \"mode\": \"markers\", \"name\": \"Controlled\", \"x\": [-0.4858277445766871, -0.2887404943560694, -0.27736218239148475, -0.2718380946439556, -0.15642987961607469, -0.17483094282461484, -0.22630117217865645, -0.19823848949029027, -0.10183061064901472, -0.07528104949797201], \"y\": [1.0, 1.0, 1.0, 1.0, 1.0, 1.0, 1.0, 1.0, 1.0, 1.0], \"type\": \"scatter\"}, {\"mode\": \"markers\", \"name\": \"Uncontrolled\", \"opacity\": 0.8, \"x\": [-1.010062828002995, -1.2433148231215727, -1.007893554678071, -0.7825056439141378, 0.7020406076029395, 0.4683571706794025, 0.4611475167924799, 0.6554296677325299, 0.3531511942864463, 0.7250094497570474], \"y\": [1.0, 1.0, 1.0, 1.0, 1.0, 1.0, 1.0, 1.0, 1.0, 1.0], \"type\": \"scatter\"}]}, {\"data\": [{\"marker\": {\"color\": \"SkyBlue\", \"size\": 15}, \"mode\": \"markers\", \"name\": \"Controlled\", \"x\": [-0.48454082478132754, -0.29631158861742923, -0.26710830542393466, -0.26062886689500603, -0.15114867021112813, -0.1770424973271605, -0.23429704572126758, -0.1923283482132428, -0.10269067570381592, -0.08839268667188317], \"y\": [1.0, 1.0, 1.0, 1.0, 1.0, 1.0, 1.0, 1.0, 1.0, 1.0], \"type\": \"scatter\"}, {\"mode\": \"markers\", \"name\": \"Uncontrolled\", \"opacity\": 0.8, \"x\": [-1.013002466608646, -1.2574755350027678, -1.0022598967179257, -0.7757818185934836, 0.7102410620657539, 0.46657193550309106, 0.45366938703943654, 0.6638437342915695, 0.3512298579487292, 0.7135970682887077], \"y\": [1.0, 1.0, 1.0, 1.0, 1.0, 1.0, 1.0, 1.0, 1.0, 1.0], \"type\": \"scatter\"}]}, {\"data\": [{\"marker\": {\"color\": \"SkyBlue\", \"size\": 15}, \"mode\": \"markers\", \"name\": \"Controlled\", \"x\": [-0.4752925128495825, -0.2911589753444494, -0.27551226788944383, -0.25710660222026327, -0.15061769044966808, -0.173847188712312, -0.23679917876664924, -0.18444901734758884, -0.10311807073898559, -0.09735218798260444], \"y\": [1.0, 1.0, 1.0, 1.0, 1.0, 1.0, 1.0, 1.0, 1.0, 1.0], \"type\": \"scatter\"}, {\"mode\": \"markers\", \"name\": \"Uncontrolled\", \"opacity\": 0.8, \"x\": [-1.0079707949262038, -1.25920976891296, -1.0151128529282034, -0.7764774590078739, 0.7137910365693063, 0.4701838333702765, 0.45149816712942814, 0.6743689133318681, 0.34971361609413143, 0.7059944158970834], \"y\": [1.0, 1.0, 1.0, 1.0, 1.0, 1.0, 1.0, 1.0, 1.0, 1.0], \"type\": \"scatter\"}]}, {\"data\": [{\"marker\": {\"color\": \"SkyBlue\", \"size\": 15}, \"mode\": \"markers\", \"name\": \"Controlled\", \"x\": [-0.48236382265278227, -0.28434638299005305, -0.27813116338200555, -0.2483437298537318, -0.1526222459029893, -0.18517647113192845, -0.2563249880561797, -0.1860672862540438, -0.09861987405658576, -0.08491039830729444], \"y\": [1.0, 1.0, 1.0, 1.0, 1.0, 1.0, 1.0, 1.0, 1.0, 1.0], \"type\": \"scatter\"}, {\"mode\": \"markers\", \"name\": \"Uncontrolled\", \"opacity\": 0.8, \"x\": [-1.0191030321631582, -1.2591904599601897, -1.0225673264873714, -0.7718722160139306, 0.7148508201718545, 0.4593804265657488, 0.432221305997708, 0.6755493930811578, 0.35306557319401066, 0.7194387235957306], \"y\": [1.0, 1.0, 1.0, 1.0, 1.0, 1.0, 1.0, 1.0, 1.0, 1.0], \"type\": \"scatter\"}]}, {\"data\": [{\"marker\": {\"color\": \"SkyBlue\", \"size\": 15}, \"mode\": \"markers\", \"name\": \"Controlled\", \"x\": [-0.4801264252408108, -0.29681345522942815, -0.27177800598189233, -0.24004064450511534, -0.15943566158702568, -0.19145998112760615, -0.2463352480615509, -0.2097775783488077, -0.09634910496067516, -0.08621740058353466], \"y\": [1.0, 1.0, 1.0, 1.0, 1.0, 1.0, 1.0, 1.0, 1.0, 1.0], \"type\": \"scatter\"}, {\"mode\": \"markers\", \"name\": \"Uncontrolled\", \"opacity\": 0.8, \"x\": [-1.0211529374406707, -1.278274400997951, -1.0210595795988069, -0.7675941671154574, 0.7110671553125057, 0.45327236105806895, 0.44184218596532016, 0.6545785742255611, 0.354406206732139, 0.7194409826195668], \"y\": [1.0, 1.0, 1.0, 1.0, 1.0, 1.0, 1.0, 1.0, 1.0, 1.0], \"type\": \"scatter\"}]}, {\"data\": [{\"marker\": {\"color\": \"SkyBlue\", \"size\": 15}, \"mode\": \"markers\", \"name\": \"Controlled\", \"x\": [-0.47532823576729116, -0.3058356630484127, -0.27621143998317316, -0.23355277429975316, -0.16776665841547403, -0.1827814243189138, -0.2448572555971352, -0.21127380538578433, -0.09453726985580335, -0.08644128302264523], \"y\": [1.0, 1.0, 1.0, 1.0, 1.0, 1.0, 1.0, 1.0, 1.0, 1.0], \"type\": \"scatter\"}, {\"mode\": \"markers\", \"name\": \"Uncontrolled\", \"opacity\": 0.8, \"x\": [-1.0205809598569624, -1.294319770558541, -1.0301222496857894, -0.7649846966368634, 0.7056317185310169, 0.46203773479377774, 0.4432479639341286, 0.6551901463733846, 0.35545496219339756, 0.7206780720076623], \"y\": [1.0, 1.0, 1.0, 1.0, 1.0, 1.0, 1.0, 1.0, 1.0, 1.0], \"type\": \"scatter\"}]}, {\"data\": [{\"marker\": {\"color\": \"SkyBlue\", \"size\": 15}, \"mode\": \"markers\", \"name\": \"Controlled\", \"x\": [-0.47716593993963996, -0.3086964439704974, -0.27176346006915436, -0.23454353086569557, -0.1712204770217699, -0.17311024216531995, -0.2560163701863002, -0.2163062606394824, -0.10207496974528452, -0.10292871782926838], \"y\": [1.0, 1.0, 1.0, 1.0, 1.0, 1.0, 1.0, 1.0, 1.0, 1.0], \"type\": \"scatter\"}, {\"mode\": \"markers\", \"name\": \"Uncontrolled\", \"opacity\": 0.8, \"x\": [-1.026590104868961, -1.304541357115281, -1.0305168235920914, -0.7696415209917185, 0.7049201473294073, 0.47207659606148034, 0.4320846156138467, 0.6523282200423486, 0.3471987916706866, 0.7056216994438287], \"y\": [1.0, 1.0, 1.0, 1.0, 1.0, 1.0, 1.0, 1.0, 1.0, 1.0], \"type\": \"scatter\"}]}, {\"data\": [{\"marker\": {\"color\": \"SkyBlue\", \"size\": 15}, \"mode\": \"markers\", \"name\": \"Controlled\", \"x\": [-0.46834456056645585, -0.31818326184087914, -0.27291136397528437, -0.2194599447061293, -0.173857445049518, -0.17928780003448452, -0.25474094989469, -0.2200299012397263, -0.0957388044220673, -0.11549648246318414], \"y\": [1.0, 1.0, 1.0, 1.0, 1.0, 1.0, 1.0, 1.0, 1.0, 1.0], \"type\": \"scatter\"}, {\"mode\": \"markers\", \"name\": \"Uncontrolled\", \"opacity\": 0.8, \"x\": [-1.0219716112736144, -1.3214846797032924, -1.036424796313433, -0.7582445552784268, 0.7050068459494861, 0.4665652388673948, 0.43308381392898, 0.6506366613782447, 0.35269402149622, 0.694090387188777], \"y\": [1.0, 1.0, 1.0, 1.0, 1.0, 1.0, 1.0, 1.0, 1.0, 1.0], \"type\": \"scatter\"}]}, {\"data\": [{\"marker\": {\"color\": \"SkyBlue\", \"size\": 15}, \"mode\": \"markers\", \"name\": \"Controlled\", \"x\": [-0.47495809546116485, -0.3104001866592978, -0.2599970337059204, -0.20857511623755481, -0.1887698762180438, -0.1807562489676809, -0.2445475916486372, -0.22044599392261602, -0.0940972356343749, -0.11636534134197994], \"y\": [1.0, 1.0, 1.0, 1.0, 1.0, 1.0, 1.0, 1.0, 1.0, 1.0], \"type\": \"scatter\"}, {\"mode\": \"markers\", \"name\": \"Uncontrolled\", \"opacity\": 0.8, \"x\": [-1.0326312834072302, -1.321537533777156, -1.0284228121364312, -0.7507023583625972, 0.6927824714106536, 0.4657057967950362, 0.44302500970367115, 0.6522014466177947, 0.35363525578391014, 0.6940063355006008], \"y\": [1.0, 1.0, 1.0, 1.0, 1.0, 1.0, 1.0, 1.0, 1.0, 1.0], \"type\": \"scatter\"}]}, {\"data\": [{\"marker\": {\"color\": \"SkyBlue\", \"size\": 15}, \"mode\": \"markers\", \"name\": \"Controlled\", \"x\": [-0.4686329764533265, -0.30517135712882515, -0.2738052947626002, -0.20222029650322457, -0.1787678090820772, -0.16683236894469608, -0.24491951808855728, -0.21507923763793763, -0.08459129301115273, -0.11372980107728278], \"y\": [1.0, 1.0, 1.0, 1.0, 1.0, 1.0, 1.0, 1.0, 1.0, 1.0], \"type\": \"scatter\"}, {\"mode\": \"markers\", \"name\": \"Uncontrolled\", \"opacity\": 0.8, \"x\": [-1.030469049652028, -1.3241372659039075, -1.0467180872796351, -0.7475026266828434, 0.7052742775288479, 0.48024985033952505, 0.44270236162493154, 0.6595703721605202, 0.36245209981456267, 0.697477547287483], \"y\": [1.0, 1.0, 1.0, 1.0, 1.0, 1.0, 1.0, 1.0, 1.0, 1.0], \"type\": \"scatter\"}]}, {\"data\": [{\"marker\": {\"color\": \"SkyBlue\", \"size\": 15}, \"mode\": \"markers\", \"name\": \"Controlled\", \"x\": [-0.4689158543169998, -0.3155434821151292, -0.2777869721351854, -0.19838211453389884, -0.1820682378407796, -0.15166957260452704, -0.24382430813938216, -0.21235367738956387, -0.06416465293853613, -0.10121125006998209], \"y\": [1.0, 1.0, 1.0, 1.0, 1.0, 1.0, 1.0, 1.0, 1.0, 1.0], \"type\": \"scatter\"}, {\"mode\": \"markers\", \"name\": \"Uncontrolled\", \"opacity\": 0.8, \"x\": [-1.0348906106278877, -1.3422273476177646, -1.05570279934982, -0.7466393211082059, 0.7046553978489355, 0.4964579078979029, 0.44378187562087024, 0.6644042932370994, 0.382422041383509, 0.7107593364770238], \"y\": [1.0, 1.0, 1.0, 1.0, 1.0, 1.0, 1.0, 1.0, 1.0, 1.0], \"type\": \"scatter\"}]}, {\"data\": [{\"marker\": {\"color\": \"SkyBlue\", \"size\": 15}, \"mode\": \"markers\", \"name\": \"Controlled\", \"x\": [-0.454581030544322, -0.31415522287159825, -0.2766052702789217, -0.1907815571949447, -0.19168977876715684, -0.15462817193572723, -0.24313444424830408, -0.21138599637466662, -0.07012446720236883, -0.10873023742531161], \"y\": [1.0, 1.0, 1.0, 1.0, 1.0, 1.0, 1.0, 1.0, 1.0, 1.0], \"type\": \"scatter\"}, {\"mode\": \"markers\", \"name\": \"Uncontrolled\", \"opacity\": 0.8, \"x\": [-1.024806339803768, -1.3489537425115379, -1.0595597910894317, -0.7417965872872849, 0.6976411283619185, 0.4950176894297498, 0.444458633287769, 0.6674812602883379, 0.37666687914659325, 0.7043400729249394], \"y\": [1.0, 1.0, 1.0, 1.0, 1.0, 1.0, 1.0, 1.0, 1.0, 1.0], \"type\": \"scatter\"}]}, {\"data\": [{\"marker\": {\"color\": \"SkyBlue\", \"size\": 15}, \"mode\": \"markers\", \"name\": \"Controlled\", \"x\": [-0.4506776848403281, -0.3188676915031845, -0.28205526772040357, -0.18474613864347497, -0.2001537631266624, -0.1583171139878017, -0.24286040253575067, -0.2110370109534971, -0.07844712464419956, -0.10419107314271847], \"y\": [1.0, 1.0, 1.0, 1.0, 1.0, 1.0, 1.0, 1.0, 1.0, 1.0], \"type\": \"scatter\"}, {\"mode\": \"markers\", \"name\": \"Uncontrolled\", \"opacity\": 0.8, \"x\": [-1.0248608404646533, -1.3618525070471084, -1.0700608322888807, -0.7383984083640215, 0.6916347101912786, 0.492770441334662, 0.44478940390748745, 0.6700243486535826, 0.3683221522500867, 0.7098289128399372], \"y\": [1.0, 1.0, 1.0, 1.0, 1.0, 1.0, 1.0, 1.0, 1.0, 1.0], \"type\": \"scatter\"}]}, {\"data\": [{\"marker\": {\"color\": \"SkyBlue\", \"size\": 15}, \"mode\": \"markers\", \"name\": \"Controlled\", \"x\": [-0.4415323349936565, -0.32054666961682077, -0.29304178773956213, -0.17683084254897563, -0.19587385606783558, -0.16317788878829395, -0.23948553920289836, -0.21262328869148048, -0.06667580764978512, -0.09788318653859325], \"y\": [1.0, 1.0, 1.0, 1.0, 1.0, 1.0, 1.0, 1.0, 1.0, 1.0], \"type\": \"scatter\"}, {\"mode\": \"markers\", \"name\": \"Uncontrolled\", \"opacity\": 0.8, \"x\": [-1.0195948995067106, -1.3719058903056365, -1.0862352034111793, -0.7329701727858589, 0.6982715650423551, 0.4892220621665028, 0.4482620997201734, 0.670724614265559, 0.3798399435986969, 0.7171914334320577], \"y\": [1.0, 1.0, 1.0, 1.0, 1.0, 1.0, 1.0, 1.0, 1.0, 1.0], \"type\": \"scatter\"}]}, {\"data\": [{\"marker\": {\"color\": \"SkyBlue\", \"size\": 15}, \"mode\": \"markers\", \"name\": \"Controlled\", \"x\": [-0.43968181113100063, -0.3074817707008887, -0.283248489209641, -0.17119979140897965, -0.2075409134004015, -0.16469001750761833, -0.240799574126147, -0.20876113953136366, -0.05808285650562216, -0.0896541889627592], \"y\": [1.0, 1.0, 1.0, 1.0, 1.0, 1.0, 1.0, 1.0, 1.0, 1.0], \"type\": \"scatter\"}, {\"mode\": \"markers\", \"name\": \"Uncontrolled\", \"opacity\": 0.8, \"x\": [-1.0214501425470328, -1.3672719337285524, -1.08189361958621, -0.7295966040087671, 0.6889445390893433, 0.4888779740861807, 0.4470986339407749, 0.6768572303319212, 0.3885128536398306, 0.7266296973197808], \"y\": [1.0, 1.0, 1.0, 1.0, 1.0, 1.0, 1.0, 1.0, 1.0, 1.0], \"type\": \"scatter\"}]}, {\"data\": [{\"marker\": {\"color\": \"SkyBlue\", \"size\": 15}, \"mode\": \"markers\", \"name\": \"Controlled\", \"x\": [-0.45297387133679934, -0.3094567950089902, -0.27408055086200284, -0.15883872945075414, -0.22467788722463425, -0.15825393715732342, -0.23152222983787332, -0.20896472755196258, -0.04323964280146714, -0.09579427089257882], \"y\": [1.0, 1.0, 1.0, 1.0, 1.0, 1.0, 1.0, 1.0, 1.0, 1.0], \"type\": \"scatter\"}, {\"mode\": \"markers\", \"name\": \"Uncontrolled\", \"opacity\": 0.8, \"x\": [-1.0383972174591825, -1.3774387715421443, -1.0779046422828673, -0.7193904746252184, 0.6740042124757075, 0.4963744986048635, 0.45642738421668827, 0.6790245999018053, 0.4036849496037549, 0.7220341072525828], \"y\": [1.0, 1.0, 1.0, 1.0, 1.0, 1.0, 1.0, 1.0, 1.0, 1.0], \"type\": \"scatter\"}]}, {\"data\": [{\"marker\": {\"color\": \"SkyBlue\", \"size\": 15}, \"mode\": \"markers\", \"name\": \"Controlled\", \"x\": [-0.4459123791880945, -0.32693600327950506, -0.28304827006855726, -0.17280097373151793, -0.21809391835924544, -0.15219213544059434, -0.24152782386419963, -0.2134422931408404, -0.041892444639948914, -0.09499612926600774], \"y\": [1.0, 1.0, 1.0, 1.0, 1.0, 1.0, 1.0, 1.0, 1.0, 1.0], \"type\": \"scatter\"}, {\"mode\": \"markers\", \"name\": \"Uncontrolled\", \"opacity\": 0.8, \"x\": [-1.035255131261275, -1.4033941949521054, -1.0918144142829505, -0.7351773291728112, 0.6826362707073939, 0.5038008272438442, 0.44677505178621707, 0.676901588949878, 0.4057544385216121, 0.7243986708497006], \"y\": [1.0, 1.0, 1.0, 1.0, 1.0, 1.0, 1.0, 1.0, 1.0, 1.0], \"type\": \"scatter\"}]}, {\"data\": [{\"marker\": {\"color\": \"SkyBlue\", \"size\": 15}, \"mode\": \"markers\", \"name\": \"Controlled\", \"x\": [-0.4532005025678646, -0.3286478916196559, -0.29169153134485964, -0.1913427005862286, -0.21983623599453467, -0.16087622265422435, -0.2396743119575149, -0.2141497648747776, -0.0472320008182325, -0.10099202527488416], \"y\": [1.0, 1.0, 1.0, 1.0, 1.0, 1.0, 1.0, 1.0, 1.0, 1.0], \"type\": \"scatter\"}, {\"mode\": \"markers\", \"name\": \"Uncontrolled\", \"opacity\": 0.8, \"x\": [-1.0464115868083956, -1.413975111321541, -1.1056292818678901, -0.755809099237553, 0.6829831705851187, 0.49665457582002304, 0.44868866871468455, 0.6783580519883542, 0.4012180119208087, 0.7198176193413959], \"y\": [1.0, 1.0, 1.0, 1.0, 1.0, 1.0, 1.0, 1.0, 1.0, 1.0], \"type\": \"scatter\"}]}, {\"data\": [{\"marker\": {\"color\": \"SkyBlue\", \"size\": 15}, \"mode\": \"markers\", \"name\": \"Controlled\", \"x\": [-0.4416189335320836, -0.3220171869452149, -0.30565903626383056, -0.1882916045538676, -0.2301319046305382, -0.16039824295505523, -0.22172146867347664, -0.2096952225954623, -0.03425850981693552, -0.1114296712055989], \"y\": [1.0, 1.0, 1.0, 1.0, 1.0, 1.0, 1.0, 1.0, 1.0, 1.0], \"type\": \"scatter\"}, {\"mode\": \"markers\", \"name\": \"Uncontrolled\", \"opacity\": 0.8, \"x\": [-1.038847492504378, -1.4161580422304145, -1.1250313280775184, -0.755346891756473, 0.6747385681652578, 0.4984136765085585, 0.46668562031781735, 0.6849137929680009, 0.4147557013178106, 0.7106000667851577], \"y\": [1.0, 1.0, 1.0, 1.0, 1.0, 1.0, 1.0, 1.0, 1.0, 1.0], \"type\": \"scatter\"}]}, {\"data\": [{\"marker\": {\"color\": \"SkyBlue\", \"size\": 15}, \"mode\": \"markers\", \"name\": \"Controlled\", \"x\": [-0.4522361922442749, -0.31698969193173054, -0.30689192229802553, -0.20312490339385783, -0.2433751061900901, -0.1697559710024196, -0.22471334607148788, -0.2102097810687964, -0.0262572141583226, -0.10970084679202971], \"y\": [1.0, 1.0, 1.0, 1.0, 1.0, 1.0, 1.0, 1.0, 1.0, 1.0], \"type\": \"scatter\"}, {\"mode\": \"markers\", \"name\": \"Uncontrolled\", \"opacity\": 0.8, \"x\": [-1.0532112667904439, -1.4198480707604944, -1.1320926498614403, -0.7726896227746994, 0.6634596303223574, 0.4903970846383632, 0.46417053588762314, 0.6866310129469848, 0.4235465818414459, 0.7133457548117279], \"y\": [1.0, 1.0, 1.0, 1.0, 1.0, 1.0, 1.0, 1.0, 1.0, 1.0], \"type\": \"scatter\"}]}, {\"data\": [{\"marker\": {\"color\": \"SkyBlue\", \"size\": 15}, \"mode\": \"markers\", \"name\": \"Controlled\", \"x\": [-0.46179735491040813, -0.3131218500997041, -0.3109253214561276, -0.19439193103194868, -0.22613195740887915, -0.16827869898815104, -0.22068997756003084, -0.2215736197819485, -0.030310507276485526, -0.11976197963961233], \"y\": [1.0, 1.0, 1.0, 1.0, 1.0, 1.0, 1.0, 1.0, 1.0, 1.0], \"type\": \"scatter\"}, {\"mode\": \"markers\", \"name\": \"Uncontrolled\", \"opacity\": 0.8, \"x\": [-1.0667409041749325, -1.4245238852316713, -1.1419950778375563, -0.7668739161082094, 0.6825473058530299, 0.4929186483077714, 0.4685032388006438, 0.6774010498965058, 0.4205344840637908, 0.7044148184186468], \"y\": [1.0, 1.0, 1.0, 1.0, 1.0, 1.0, 1.0, 1.0, 1.0, 1.0], \"type\": \"scatter\"}]}, {\"data\": [{\"marker\": {\"color\": \"SkyBlue\", \"size\": 15}, \"mode\": \"markers\", \"name\": \"Controlled\", \"x\": [-0.45431982649815017, -0.3053529864497018, -0.30918709466259325, -0.16912804648509575, -0.24020291330254526, -0.15729146315823606, -0.23231018581476862, -0.22658148568377032, -0.030198046034279943, -0.1236639108080003], \"y\": [1.0, 1.0, 1.0, 1.0, 1.0, 1.0, 1.0, 1.0, 1.0, 1.0], \"type\": \"scatter\"}, {\"mode\": \"markers\", \"name\": \"Uncontrolled\", \"opacity\": 0.8, \"x\": [-1.063446366197329, -1.4252036262318988, -1.1463278901907092, -0.7444045356499648, 0.6705833925902367, 0.5051157943073583, 0.45725221304355623, 0.6742101655621063, 0.4215530426959374, 0.7012619943201941], \"y\": [1.0, 1.0, 1.0, 1.0, 1.0, 1.0, 1.0, 1.0, 1.0, 1.0], \"type\": \"scatter\"}]}, {\"data\": [{\"marker\": {\"color\": \"SkyBlue\", \"size\": 15}, \"mode\": \"markers\", \"name\": \"Controlled\", \"x\": [-0.4562705783623423, -0.29021074623506204, -0.31796421085726506, -0.1612604028506012, -0.23672064048203323, -0.1633169471885055, -0.24028641069929235, -0.23494324455193555, -0.03458612643257422, -0.13502495717701954], \"y\": [1.0, 1.0, 1.0, 1.0, 1.0, 1.0, 1.0, 1.0, 1.0, 1.0], \"type\": \"scatter\"}, {\"mode\": \"markers\", \"name\": \"Uncontrolled\", \"opacity\": 0.8, \"x\": [-1.0694763267019167, -1.4185078972924468, -1.161260859409434, -0.7387627203642728, 0.6759733578649151, 0.5006505480397015, 0.4493337182919706, 0.6675683652585398, 0.4183339134985106, 0.6906659884939508], \"y\": [1.0, 1.0, 1.0, 1.0, 1.0, 1.0, 1.0, 1.0, 1.0, 1.0], \"type\": \"scatter\"}]}, {\"data\": [{\"marker\": {\"color\": \"SkyBlue\", \"size\": 15}, \"mode\": \"markers\", \"name\": \"Controlled\", \"x\": [-0.45546488127861495, -0.2858346156478318, -0.3178894173603208, -0.154301676827059, -0.2385086968614953, -0.16421400835387356, -0.2538966654255852, -0.21487418650025245, -0.02826454649472363, -0.12400304215859932], \"y\": [1.0, 1.0, 1.0, 1.0, 1.0, 1.0, 1.0, 1.0, 1.0, 1.0], \"type\": \"scatter\"}, {\"mode\": \"markers\", \"name\": \"Uncontrolled\", \"opacity\": 0.8, \"x\": [-1.0727967312904108, -1.4221656405646075, -1.1677558705785274, -0.7339827629502895, 0.6762043761628589, 0.5011803631204423, 0.43544091970696075, 0.6891097439859893, 0.42581896456824964, 0.7021240229599097], \"y\": [1.0, 1.0, 1.0, 1.0, 1.0, 1.0, 1.0, 1.0, 1.0, 1.0], \"type\": \"scatter\"}]}, {\"data\": [{\"marker\": {\"color\": \"SkyBlue\", \"size\": 15}, \"mode\": \"markers\", \"name\": \"Controlled\", \"x\": [-0.45159232671060134, -0.2901210829454621, -0.29779709445468827, -0.13950410845650263, -0.22770148120208622, -0.1786288130491073, -0.2618499354074784, -0.20788429735192093, -0.02181291529621401, -0.1213192417021283], \"y\": [1.0, 1.0, 1.0, 1.0, 1.0, 1.0, 1.0, 1.0, 1.0, 1.0], \"type\": \"scatter\"}, {\"mode\": \"markers\", \"name\": \"Uncontrolled\", \"opacity\": 0.8, \"x\": [-1.0730715824013968, -1.4344290524136198, -1.1542762571074368, -0.7211162069703644, 0.6889775176132041, 0.4880466892031578, 0.4268069735188793, 0.6981838141902625, 0.43355017193984036, 0.7054588536714526], \"y\": [1.0, 1.0, 1.0, 1.0, 1.0, 1.0, 1.0, 1.0, 1.0, 1.0], \"type\": \"scatter\"}]}, {\"data\": [{\"marker\": {\"color\": \"SkyBlue\", \"size\": 15}, \"mode\": \"markers\", \"name\": \"Controlled\", \"x\": [-0.4587773992136699, -0.284081302547685, -0.3095291481593493, -0.12751270318834249, -0.23707842062587436, -0.17823849156985166, -0.2792353151044038, -0.20921110524547282, -0.02315431273501697, -0.1179122726384508], \"y\": [1.0, 1.0, 1.0, 1.0, 1.0, 1.0, 1.0, 1.0, 1.0, 1.0], \"type\": \"scatter\"}, {\"mode\": \"markers\", \"name\": \"Uncontrolled\", \"opacity\": 0.8, \"x\": [-1.084305329962161, -1.436563970516951, -1.172059588159457, -0.7106763325977167, 0.6816581610128729, 0.48927286171474044, 0.4085038850681993, 0.6991463415082845, 0.4337322758646577, 0.7097604682976413], \"y\": [1.0, 1.0, 1.0, 1.0, 1.0, 1.0, 1.0, 1.0, 1.0, 1.0], \"type\": \"scatter\"}]}, {\"data\": [{\"marker\": {\"color\": \"SkyBlue\", \"size\": 15}, \"mode\": \"markers\", \"name\": \"Controlled\", \"x\": [-0.46473758607141735, -0.2936671717528054, -0.2979013892277015, -0.12382374673772718, -0.23686851469061784, -0.186416997977581, -0.27196203945369934, -0.21441090042430982, -0.034746933439312275, -0.11327500938006854], \"y\": [1.0, 1.0, 1.0, 1.0, 1.0, 1.0, 1.0, 1.0, 1.0, 1.0], \"type\": \"scatter\"}, {\"mode\": \"markers\", \"name\": \"Uncontrolled\", \"opacity\": 0.8, \"x\": [-1.094538236267979, -1.4542108311390876, -1.1669501590083702, -0.7082745943494976, 0.6838132705647446, 0.4819086353599407, 0.41421430538866816, 0.696227242330449, 0.42372947352677304, 0.7152826891043909], \"y\": [1.0, 1.0, 1.0, 1.0, 1.0, 1.0, 1.0, 1.0, 1.0, 1.0], \"type\": \"scatter\"}]}, {\"data\": [{\"marker\": {\"color\": \"SkyBlue\", \"size\": 15}, \"mode\": \"markers\", \"name\": \"Controlled\", \"x\": [-0.4611317824285343, -0.2945909402952833, -0.29237908854771516, -0.12075937251055462, -0.2321024106984908, -0.20110763516149047, -0.26889297381280364, -0.2115700342712712, -0.028527980816721112, -0.12487266698306977], \"y\": [1.0, 1.0, 1.0, 1.0, 1.0, 1.0, 1.0, 1.0, 1.0, 1.0], \"type\": \"scatter\"}, {\"mode\": \"markers\", \"name\": \"Uncontrolled\", \"opacity\": 0.8, \"x\": [-1.0952782710198758, -1.4635213587537788, -1.167558895220044, -0.7064276714122475, 0.690404521466401, 0.4678206976596459, 0.41603425243181213, 0.7012842507184316, 0.4312321239526379, 0.7047682732088165], \"y\": [1.0, 1.0, 1.0, 1.0, 1.0, 1.0, 1.0, 1.0, 1.0, 1.0], \"type\": \"scatter\"}]}, {\"data\": [{\"marker\": {\"color\": \"SkyBlue\", \"size\": 15}, \"mode\": \"markers\", \"name\": \"Controlled\", \"x\": [-0.4631633109916064, -0.2903577155058124, -0.2997899380944447, -0.12733298456588146, -0.25200446040165597, -0.18889839038434558, -0.275552500669425, -0.22515722966174948, -0.03309578867081059, -0.12245250865429329], \"y\": [1.0, 1.0, 1.0, 1.0, 1.0, 1.0, 1.0, 1.0, 1.0, 1.0], \"type\": \"scatter\"}, {\"mode\": \"markers\", \"name\": \"Uncontrolled\", \"opacity\": 0.8, \"x\": [-1.1015402436417208, -1.467732619691375, -1.18099022753293, -0.7141708303176143, 0.6724235687344482, 0.4802395110121416, 0.4081703316504738, 0.6900192225266959, 0.42806551851202146, 0.7080993645981368], \"y\": [1.0, 1.0, 1.0, 1.0, 1.0, 1.0, 1.0, 1.0, 1.0, 1.0], \"type\": \"scatter\"}]}, {\"data\": [{\"marker\": {\"color\": \"SkyBlue\", \"size\": 15}, \"mode\": \"markers\", \"name\": \"Controlled\", \"x\": [-0.46779319878440967, -0.2774010041046005, -0.3110071199753488, -0.13341876967515942, -0.24786289279673987, -0.19428128913032447, -0.27973300201158974, -0.2395801397522699, -0.0311406726443431, -0.12652267135991324], \"y\": [1.0, 1.0, 1.0, 1.0, 1.0, 1.0, 1.0, 1.0, 1.0, 1.0], \"type\": \"scatter\"}, {\"mode\": \"markers\", \"name\": \"Uncontrolled\", \"opacity\": 0.8, \"x\": [-1.1105070308168585, -1.4631324679492657, -1.1984959031608704, -0.7216422185087511, 0.6782169780099828, 0.4753980170718246, 0.40252738528977794, 0.6774588956162813, 0.4313493116309232, 0.7048850925500322], \"y\": [1.0, 1.0, 1.0, 1.0, 1.0, 1.0, 1.0, 1.0, 1.0, 1.0], \"type\": \"scatter\"}]}, {\"data\": [{\"marker\": {\"color\": \"SkyBlue\", \"size\": 15}, \"mode\": \"markers\", \"name\": \"Controlled\", \"x\": [-0.467162145405698, -0.2803950982982278, -0.31363022976988647, -0.13937354598414778, -0.26601589583842705, -0.19858715442389413, -0.2602781115906425, -0.23633833907603322, -0.03440159268939338, -0.12066270205600604], \"y\": [1.0, 1.0, 1.0, 1.0, 1.0, 1.0, 1.0, 1.0, 1.0, 1.0], \"type\": \"scatter\"}, {\"mode\": \"markers\", \"name\": \"Uncontrolled\", \"opacity\": 0.8, \"x\": [-1.1143430938319463, -1.4740200469993245, -1.2078037144324625, -0.7292639807313757, 0.6617503911719452, 0.47149415744032525, 0.420246889163701, 0.682077923394646, 0.4295925090524764, 0.7114312445270137], \"y\": [1.0, 1.0, 1.0, 1.0, 1.0, 1.0, 1.0, 1.0, 1.0, 1.0], \"type\": \"scatter\"}]}, {\"data\": [{\"marker\": {\"color\": \"SkyBlue\", \"size\": 15}, \"mode\": \"markers\", \"name\": \"Controlled\", \"x\": [-0.4781880024253169, -0.2887738630817533, -0.3006458827303135, -0.13039084446292792, -0.2757039258856223, -0.21832930146359894, -0.2710737239121457, -0.2558364702352826, -0.03021514105345326, -0.12541415028938985], \"y\": [1.0, 1.0, 1.0, 1.0, 1.0, 1.0, 1.0, 1.0, 1.0, 1.0], \"type\": \"scatter\"}, {\"mode\": \"markers\", \"name\": \"Uncontrolled\", \"opacity\": 0.8, \"x\": [-1.1297653318806393, -1.4904666446656782, -1.2014759378877666, -0.7220813817282069, 0.6535124295730812, 0.4520153486197592, 0.4083862874259279, 0.6640936218663323, 0.4350728531990245, 0.7075811146912667], \"y\": [1.0, 1.0, 1.0, 1.0, 1.0, 1.0, 1.0, 1.0, 1.0, 1.0], \"type\": \"scatter\"}]}, {\"data\": [{\"marker\": {\"color\": \"SkyBlue\", \"size\": 15}, \"mode\": \"markers\", \"name\": \"Controlled\", \"x\": [-0.47499290788289156, -0.2843954557961629, -0.29023708196515596, -0.12043556565117348, -0.2656275866259719, -0.22684089164013987, -0.2699417154415636, -0.26080737545540833, -0.04835254301001192, -0.13350559033040535], \"y\": [1.0, 1.0, 1.0, 1.0, 1.0, 1.0, 1.0, 1.0, 1.0, 1.0], \"type\": \"scatter\"}, {\"mode\": \"markers\", \"name\": \"Uncontrolled\", \"opacity\": 0.8, \"x\": [-1.131173622000037, -1.494435642952577, -1.1974172881324026, -0.7137818250262322, 0.6647461348145738, 0.4432769379812952, 0.40804413724665267, 0.6601080023397895, 0.4184722260804488, 0.7003978328707666], \"y\": [1.0, 1.0, 1.0, 1.0, 1.0, 1.0, 1.0, 1.0, 1.0, 1.0], \"type\": \"scatter\"}]}, {\"data\": [{\"marker\": {\"color\": \"SkyBlue\", \"size\": 15}, \"mode\": \"markers\", \"name\": \"Controlled\", \"x\": [-0.4810370940588271, -0.27568549887159305, -0.28580486115191356, -0.1238997250186292, -0.28163220356625046, -0.2124045287390928, -0.2685665252919918, -0.26013748182134394, -0.03527449277052674, -0.13209804307437958], \"y\": [1.0, 1.0, 1.0, 1.0, 1.0, 1.0, 1.0, 1.0, 1.0, 1.0], \"type\": \"scatter\"}, {\"mode\": \"markers\", \"name\": \"Uncontrolled\", \"opacity\": 0.8, \"x\": [-1.1417152244375717, -1.4940038885620206, -1.1991017814024927, -0.7187907418754829, 0.650075492611341, 0.4572628992386591, 0.4080583785208921, 0.6617204002585093, 0.43259811853142094, 0.7025556299770119], \"y\": [1.0, 1.0, 1.0, 1.0, 1.0, 1.0, 1.0, 1.0, 1.0, 1.0], \"type\": \"scatter\"}]}, {\"data\": [{\"marker\": {\"color\": \"SkyBlue\", \"size\": 15}, \"mode\": \"markers\", \"name\": \"Controlled\", \"x\": [-0.486695478439067, -0.2769010703236967, -0.27031434829032225, -0.13386209652810946, -0.2831181095582372, -0.21154315283367262, -0.27435528902189205, -0.25977778125173967, -0.04189479851024739, -0.14358337277034441], \"y\": [1.0, 1.0, 1.0, 1.0, 1.0, 1.0, 1.0, 1.0, 1.0, 1.0], \"type\": \"scatter\"}, {\"mode\": \"markers\", \"name\": \"Uncontrolled\", \"opacity\": 0.8, \"x\": [-1.1520346835942605, -1.503276034693359, -1.1896283105478074, -0.7303684998263998, 0.649725979560269, 0.458089357935438, 0.40090977181357623, 0.6629354674196891, 0.42740318654965354, 0.6919203921395924], \"y\": [1.0, 1.0, 1.0, 1.0, 1.0, 1.0, 1.0, 1.0, 1.0, 1.0], \"type\": \"scatter\"}]}, {\"data\": [{\"marker\": {\"color\": \"SkyBlue\", \"size\": 15}, \"mode\": \"markers\", \"name\": \"Controlled\", \"x\": [-0.47820544716638935, -0.27539091791357445, -0.27593652247991407, -0.12671508641095794, -0.28427475665772683, -0.21673631973256963, -0.2861861243117583, -0.25140859670892096, -0.05906735583828607, -0.12535756513067403], \"y\": [1.0, 1.0, 1.0, 1.0, 1.0, 1.0, 1.0, 1.0, 1.0, 1.0], \"type\": \"scatter\"}, {\"mode\": \"markers\", \"name\": \"Uncontrolled\", \"opacity\": 0.8, \"x\": [-1.1483290086128723, -1.5098860604489113, -1.2008307759118095, -0.7251219789091056, 0.649766093347948, 0.45289680872536614, 0.38759289106911726, 0.6721236002672989, 0.41145201858324365, 0.7107500063761711], \"y\": [1.0, 1.0, 1.0, 1.0, 1.0, 1.0, 1.0, 1.0, 1.0, 1.0], \"type\": \"scatter\"}]}, {\"data\": [{\"marker\": {\"color\": \"SkyBlue\", \"size\": 15}, \"mode\": \"markers\", \"name\": \"Controlled\", \"x\": [-0.47425466109183834, -0.2667410854256062, -0.2728918005786973, -0.12347919949492349, -0.3048622774910849, -0.20800881453080292, -0.26911202681976765, -0.2518892287846184, -0.05590431574501313, -0.1313861984136331], \"y\": [1.0, 1.0, 1.0, 1.0, 1.0, 1.0, 1.0, 1.0, 1.0, 1.0], \"type\": \"scatter\"}, {\"mode\": \"markers\", \"name\": \"Uncontrolled\", \"opacity\": 0.8, \"x\": [-1.1490133748598073, -1.5093236913057644, -1.2035339770739315, -0.7236056627285463, 0.6301918401484192, 0.46131044899263285, 0.40283051420468413, 0.6728243129029959, 0.4153325437956432, 0.7056796465534206], \"y\": [1.0, 1.0, 1.0, 1.0, 1.0, 1.0, 1.0, 1.0, 1.0, 1.0], \"type\": \"scatter\"}]}, {\"data\": [{\"marker\": {\"color\": \"SkyBlue\", \"size\": 15}, \"mode\": \"markers\", \"name\": \"Controlled\", \"x\": [-0.480011835909266, -0.25527307695820467, -0.2551612937209905, -0.12087950757022184, -0.29295912062799684, -0.19334547861896093, -0.2744099731984654, -0.27542315670590944, -0.05897805260347454, -0.13377878066026558], \"y\": [1.0, 1.0, 1.0, 1.0, 1.0, 1.0, 1.0, 1.0, 1.0, 1.0], \"type\": \"scatter\"}, {\"mode\": \"markers\", \"name\": \"Uncontrolled\", \"opacity\": 0.8, \"x\": [-1.159303465966082, -1.5058877283712044, -1.1914558202849008, -0.7226948578419657, 0.6428500984151845, 0.47594415294399045, 0.3962633401715549, 0.6504440336697944, 0.4129963567205401, 0.704198861894177], \"y\": [1.0, 1.0, 1.0, 1.0, 1.0, 1.0, 1.0, 1.0, 1.0, 1.0], \"type\": \"scatter\"}]}, {\"data\": [{\"marker\": {\"color\": \"SkyBlue\", \"size\": 15}, \"mode\": \"markers\", \"name\": \"Controlled\", \"x\": [-0.49274460362648465, -0.25051441543509495, -0.2598044327220827, -0.10480476009983399, -0.2974992363218663, -0.19910515045501428, -0.2850271276245263, -0.27049953514855124, -0.06495094043891726, -0.13431180320816527], \"y\": [1.0, 1.0, 1.0, 1.0, 1.0, 1.0, 1.0, 1.0, 1.0, 1.0], \"type\": \"scatter\"}, {\"mode\": \"markers\", \"name\": \"Uncontrolled\", \"opacity\": 0.8, \"x\": [-1.1767232379857888, -1.508833540993463, -1.2012877955883938, -0.708369612321112, 0.6393426964925771, 0.4706553545996747, 0.38432405300176936, 0.6558373042154259, 0.40777478245837456, 0.7045536098906546], \"y\": [1.0, 1.0, 1.0, 1.0, 1.0, 1.0, 1.0, 1.0, 1.0, 1.0], \"type\": \"scatter\"}]}, {\"data\": [{\"marker\": {\"color\": \"SkyBlue\", \"size\": 15}, \"mode\": \"markers\", \"name\": \"Controlled\", \"x\": [-0.49849585358117676, -0.24162479800758122, -0.25462326492506826, -0.1027612429216935, -0.2969995694147944, -0.19772452921984493, -0.28301117057970965, -0.28560559730394836, -0.06763407734931233, -0.12960238712686908], \"y\": [1.0, 1.0, 1.0, 1.0, 1.0, 1.0, 1.0, 1.0, 1.0, 1.0], \"type\": \"scatter\"}, {\"mode\": \"markers\", \"name\": \"Uncontrolled\", \"opacity\": 0.8, \"x\": [-1.187438931302667, -1.507603938921447, -1.2015495601974573, -0.7077267328963388, 0.640778974799348, 0.4723491639604186, 0.38462917914322975, 0.6414353495047843, 0.405734923354591, 0.7101201239491268], \"y\": [1.0, 1.0, 1.0, 1.0, 1.0, 1.0, 1.0, 1.0, 1.0, 1.0], \"type\": \"scatter\"}]}, {\"data\": [{\"marker\": {\"color\": \"SkyBlue\", \"size\": 15}, \"mode\": \"markers\", \"name\": \"Controlled\", \"x\": [-0.4884429608964823, -0.251528121700313, -0.24930877233312831, -0.0856301662357705, -0.30166775235373805, -0.20582332365517303, -0.28300021211680904, -0.2808227593027861, -0.07299516652565075, -0.1519907656622009], \"y\": [1.0, 1.0, 1.0, 1.0, 1.0, 1.0, 1.0, 1.0, 1.0, 1.0], \"type\": \"scatter\"}, {\"mode\": \"markers\", \"name\": \"Uncontrolled\", \"opacity\": 0.8, \"x\": [-1.1824578959610013, -1.5249163495518159, -1.2015151534575514, -0.6920413835825772, 0.6371750242924256, 0.4646427749789377, 0.38301929578358795, 0.6464747785303334, 0.40104152881770544, 0.6887410746514194], \"y\": [1.0, 1.0, 1.0, 1.0, 1.0, 1.0, 1.0, 1.0, 1.0, 1.0], \"type\": \"scatter\"}]}, {\"data\": [{\"marker\": {\"color\": \"SkyBlue\", \"size\": 15}, \"mode\": \"markers\", \"name\": \"Controlled\", \"x\": [-0.48371555425114243, -0.24949238161306225, -0.24393140224602286, -0.08678163453570946, -0.29424027153736465, -0.19436891186144348, -0.2932738725144506, -0.28859570857424904, -0.08144309521275059, -0.14683320755643067], \"y\": [1.0, 1.0, 1.0, 1.0, 1.0, 1.0, 1.0, 1.0, 1.0, 1.0], \"type\": \"scatter\"}, {\"mode\": \"markers\", \"name\": \"Uncontrolled\", \"opacity\": 0.8, \"x\": [-1.1825741934804481, -1.5307080279996197, -1.2013601022321312, -0.6940942103844533, 0.645441910220207, 0.47629450778814725, 0.3711467764081312, 0.639222749441954, 0.39309280893078824, 0.694377114263882], \"y\": [1.0, 1.0, 1.0, 1.0, 1.0, 1.0, 1.0, 1.0, 1.0, 1.0], \"type\": \"scatter\"}]}, {\"data\": [{\"marker\": {\"color\": \"SkyBlue\", \"size\": 15}, \"mode\": \"markers\", \"name\": \"Controlled\", \"x\": [-0.4815404719781682, -0.25012530259920746, -0.22578865029646406, -0.08454866216339456, -0.2859254428869248, -0.2039766575358628, -0.28820349042852766, -0.29124253282238854, -0.07111627025195898, -0.14002141285094322], \"y\": [1.0, 1.0, 1.0, 1.0, 1.0, 1.0, 1.0, 1.0, 1.0, 1.0], \"type\": \"scatter\"}, {\"mode\": \"markers\", \"name\": \"Uncontrolled\", \"opacity\": 0.8, \"x\": [-1.185197208172787, -1.5391237804316296, -1.188353242680736, -0.6927003877906536, 0.6547476385032924, 0.4672075643625737, 0.37430968945370613, 0.6367400863265402, 0.4037634725662336, 0.7017499247082496], \"y\": [1.0, 1.0, 1.0, 1.0, 1.0, 1.0, 1.0, 1.0, 1.0, 1.0], \"type\": \"scatter\"}]}, {\"data\": [{\"marker\": {\"color\": \"SkyBlue\", \"size\": 15}, \"mode\": \"markers\", \"name\": \"Controlled\", \"x\": [-0.46996492367268766, -0.2521166476657567, -0.2302799249266641, -0.0965719777187879, -0.29344696889449307, -0.20441890235195745, -0.2998936269343557, -0.29588585168756976, -0.07820546391661191, -0.13183945293660795], \"y\": [1.0, 1.0, 1.0, 1.0, 1.0, 1.0, 1.0, 1.0, 1.0, 1.0], \"type\": \"scatter\"}, {\"mode\": \"markers\", \"name\": \"Uncontrolled\", \"opacity\": 0.8, \"x\": [-1.1783432173075676, -1.5489270283775556, -1.1973529791769166, -0.7055162790916087, 0.6483702053721323, 0.4670086527917044, 0.3609475215715708, 0.6321854505006588, 0.3973514657723507, 0.7108274566709043], \"y\": [1.0, 1.0, 1.0, 1.0, 1.0, 1.0, 1.0, 1.0, 1.0, 1.0], \"type\": \"scatter\"}]}, {\"data\": [{\"marker\": {\"color\": \"SkyBlue\", \"size\": 15}, \"mode\": \"markers\", \"name\": \"Controlled\", \"x\": [-0.4772776611462984, -0.258845362254931, -0.22354314547741913, -0.11048361822687015, -0.30270141691012853, -0.19114573285118477, -0.3080074186016555, -0.29283883217588097, -0.07871937313566231, -0.13863711546383173], \"y\": [1.0, 1.0, 1.0, 1.0, 1.0, 1.0, 1.0, 1.0, 1.0, 1.0], \"type\": \"scatter\"}, {\"mode\": \"markers\", \"name\": \"Uncontrolled\", \"opacity\": 0.8, \"x\": [-1.1901959646483344, -1.5634889629276758, -1.1952647365111553, -0.7206901857417697, 0.6400902408439002, 0.4804006533918535, 0.35084416610701735, 0.6351671795810052, 0.39733998402421133, 0.705023120929264], \"y\": [1.0, 1.0, 1.0, 1.0, 1.0, 1.0, 1.0, 1.0, 1.0, 1.0], \"type\": \"scatter\"}]}, {\"data\": [{\"marker\": {\"color\": \"SkyBlue\", \"size\": 15}, \"mode\": \"markers\", \"name\": \"Controlled\", \"x\": [-0.4779939601187658, -0.2468515095695889, -0.229563319277995, -0.13632132691051, -0.29838708832393945, -0.19483965595847796, -0.29357858163642764, -0.2925103147622106, -0.07337547336216567, -0.15478591300197206], \"y\": [1.0, 1.0, 1.0, 1.0, 1.0, 1.0, 1.0, 1.0, 1.0, 1.0], \"type\": \"scatter\"}, {\"mode\": \"markers\", \"name\": \"Uncontrolled\", \"opacity\": 0.8, \"x\": [-1.195683020336567, -1.5595836197828297, -1.2058085761819561, -0.7481732948374541, 0.6452128386002157, 0.47718392361723544, 0.36303570960338266, 0.6354265941616549, 0.4031590289228218, 0.689654235286966], \"y\": [1.0, 1.0, 1.0, 1.0, 1.0, 1.0, 1.0, 1.0, 1.0, 1.0], \"type\": \"scatter\"}]}, {\"data\": [{\"marker\": {\"color\": \"SkyBlue\", \"size\": 15}, \"mode\": \"markers\", \"name\": \"Controlled\", \"x\": [-0.47081237932931, -0.23468315205434528, -0.22246158912779368, -0.15010473969857058, -0.31668646763773467, -0.18376239348927287, -0.28691099100014716, -0.28516051592863595, -0.07067647935607546, -0.1748622144170573], \"y\": [1.0, 1.0, 1.0, 1.0, 1.0, 1.0, 1.0, 1.0, 1.0, 1.0], \"type\": \"scatter\"}, {\"mode\": \"markers\", \"name\": \"Uncontrolled\", \"opacity\": 0.8, \"x\": [-1.1932603934377795, -1.5550679599810695, -1.2034242245702749, -0.7642957109873394, 0.6278942083780389, 0.4886651203262885, 0.36777448711404026, 0.6425954897582344, 0.4063123997917746, 0.6699876288543003], \"y\": [1.0, 1.0, 1.0, 1.0, 1.0, 1.0, 1.0, 1.0, 1.0, 1.0], \"type\": \"scatter\"}]}, {\"data\": [{\"marker\": {\"color\": \"SkyBlue\", \"size\": 15}, \"mode\": \"markers\", \"name\": \"Controlled\", \"x\": [-0.4677326612764384, -0.24086896990857673, -0.22763642935173012, -0.14679074677818824, -0.31094047434975897, -0.1804724231204148, -0.2647465368977518, -0.26536882348928403, -0.053200648628461744, -0.17805515617474424], \"y\": [1.0, 1.0, 1.0, 1.0, 1.0, 1.0, 1.0, 1.0, 1.0, 1.0], \"type\": \"scatter\"}, {\"mode\": \"markers\", \"name\": \"Uncontrolled\", \"opacity\": 0.8, \"x\": [-1.1947819307388476, -1.5686640447548292, -1.21320050370927, -0.7636785661036677, 0.6344015998698024, 0.49265889872364915, 0.3881922743304618, 0.6623210863147035, 0.4242066163054928, 0.6668312516647374], \"y\": [1.0, 1.0, 1.0, 1.0, 1.0, 1.0, 1.0, 1.0, 1.0, 1.0], \"type\": \"scatter\"}]}, {\"data\": [{\"marker\": {\"color\": \"SkyBlue\", \"size\": 15}, \"mode\": \"markers\", \"name\": \"Controlled\", \"x\": [-0.4557446146269748, -0.25009971395189207, -0.23331945703012563, -0.15853045677791786, -0.3034169766770256, -0.183873047484422, -0.2692988140811011, -0.2683287766875751, -0.050555928738654984, -0.18629944852152838], \"y\": [1.0, 1.0, 1.0, 1.0, 1.0, 1.0, 1.0, 1.0, 1.0, 1.0], \"type\": \"scatter\"}, {\"mode\": \"markers\", \"name\": \"Uncontrolled\", \"opacity\": 0.8, \"x\": [-1.1873378260572511, -1.5855078797270934, -1.2234805417985484, -0.7778334403081653, 0.6427521918893344, 0.4900542158261491, 0.38266654211634804, 0.6599890559642617, 0.42765145532324167, 0.6585606937598317], \"y\": [1.0, 1.0, 1.0, 1.0, 1.0, 1.0, 1.0, 1.0, 1.0, 1.0], \"type\": \"scatter\"}]}, {\"data\": [{\"marker\": {\"color\": \"SkyBlue\", \"size\": 15}, \"mode\": \"markers\", \"name\": \"Controlled\", \"x\": [-0.452804962988473, -0.2552693486941855, -0.22499502551694595, -0.16015423234614348, -0.3038149614678488, -0.17834415343041668, -0.2683027824621661, -0.2866705459186508, -0.04993394007521334, -0.20394907967602197], \"y\": [1.0, 1.0, 1.0, 1.0, 1.0, 1.0, 1.0, 1.0, 1.0, 1.0], \"type\": \"scatter\"}, {\"mode\": \"markers\", \"name\": \"Uncontrolled\", \"opacity\": 0.8, \"x\": [-1.188709880962461, -1.5985139121669494, -1.2199938854192478, -0.7821939799935701, 0.64331898202169, 0.49631688350400255, 0.38240776818636285, 0.6420351610656319, 0.4290560670955705, 0.6406440024864796], \"y\": [1.0, 1.0, 1.0, 1.0, 1.0, 1.0, 1.0, 1.0, 1.0, 1.0], \"type\": \"scatter\"}]}, {\"data\": [{\"marker\": {\"color\": \"SkyBlue\", \"size\": 15}, \"mode\": \"markers\", \"name\": \"Controlled\", \"x\": [-0.45430003632723576, -0.2501399405582035, -0.22860302449204256, -0.1553788613932603, -0.300179402399444, -0.17043907362259972, -0.2735512824329504, -0.29893855622048326, -0.05550451908323865, -0.20881783666301895], \"y\": [1.0, 1.0, 1.0, 1.0, 1.0, 1.0, 1.0, 1.0, 1.0, 1.0], \"type\": \"scatter\"}, {\"mode\": \"markers\", \"name\": \"Uncontrolled\", \"opacity\": 0.8, \"x\": [-1.1944699142771695, -1.6014961433426549, -1.2282513330140954, -0.7802493739639502, 0.6479252749486332, 0.5052339522821012, 0.375942364004153, 0.6295815383804402, 0.42442345488980443, 0.6350639362935365], \"y\": [1.0, 1.0, 1.0, 1.0, 1.0, 1.0, 1.0, 1.0, 1.0, 1.0], \"type\": \"scatter\"}]}, {\"data\": [{\"marker\": {\"color\": \"SkyBlue\", \"size\": 15}, \"mode\": \"markers\", \"name\": \"Controlled\", \"x\": [-0.46564379702241987, -0.24201885514936847, -0.2291987213996681, -0.15024842984295178, -0.2987574261424459, -0.16400332186071967, -0.26976539151264, -0.30672090526420936, -0.04711299308200648, -0.20521418431233682], \"y\": [1.0, 1.0, 1.0, 1.0, 1.0, 1.0, 1.0, 1.0, 1.0, 1.0], \"type\": \"scatter\"}, {\"mode\": \"markers\", \"name\": \"Uncontrolled\", \"opacity\": 0.8, \"x\": [-1.2101428245321886, -1.601308432084923, -1.2337082321228174, -0.7779407690320038, 0.6504289869258478, 0.5129829664692069, 0.3783115039647722, 0.6212294610214598, 0.43357983620966123, 0.6377839862362065], \"y\": [1.0, 1.0, 1.0, 1.0, 1.0, 1.0, 1.0, 1.0, 1.0, 1.0], \"type\": \"scatter\"}]}, {\"data\": [{\"marker\": {\"color\": \"SkyBlue\", \"size\": 15}, \"mode\": \"markers\", \"name\": \"Controlled\", \"x\": [-0.48972417138829044, -0.24512469268008275, -0.22162433219753425, -0.1552696328822877, -0.2933151663371759, -0.16686525299506882, -0.2580845961671134, -0.2950158292214875, -0.030690684544609947, -0.20434251907670364], \"y\": [1.0, 1.0, 1.0, 1.0, 1.0, 1.0, 1.0, 1.0, 1.0, 1.0], \"type\": \"scatter\"}, {\"mode\": \"markers\", \"name\": \"Uncontrolled\", \"opacity\": 0.8, \"x\": [-1.2388229487159503, -1.612146800701911, -1.2309810685995102, -0.7856807317817401, 0.657019961304318, 0.511672576082739, 0.38865634048492953, 0.6321871371450869, 0.4510912786009852, 0.6378743447080483], \"y\": [1.0, 1.0, 1.0, 1.0, 1.0, 1.0, 1.0, 1.0, 1.0, 1.0], \"type\": \"scatter\"}]}, {\"data\": [{\"marker\": {\"color\": \"SkyBlue\", \"size\": 15}, \"mode\": \"markers\", \"name\": \"Controlled\", \"x\": [-0.48521813310768624, -0.24741059024980055, -0.23311517588696015, -0.159827375011556, -0.2916674834991426, -0.1579187313651394, -0.256019975613031, -0.3054764662215696, -0.03293499600722667, -0.21400231003468728], \"y\": [1.0, 1.0, 1.0, 1.0, 1.0, 1.0, 1.0, 1.0, 1.0, 1.0], \"type\": \"scatter\"}, {\"mode\": \"markers\", \"name\": \"Uncontrolled\", \"opacity\": 0.8, \"x\": [-1.2394331810429353, -1.6222435690916897, -1.246959033377302, -0.792947428433657, 0.6598956148168669, 0.5221275370450498, 0.3898279294181263, 0.6212898946088855, 0.45049341351620986, 0.6276003768570976], \"y\": [1.0, 1.0, 1.0, 1.0, 1.0, 1.0, 1.0, 1.0, 1.0, 1.0], \"type\": \"scatter\"}]}, {\"data\": [{\"marker\": {\"color\": \"SkyBlue\", \"size\": 15}, \"mode\": \"markers\", \"name\": \"Controlled\", \"x\": [-0.4842968466741949, -0.23707008013757944, -0.21903473418381522, -0.15606520178986313, -0.2829051560414359, -0.14090717047126872, -0.25767767055656876, -0.2951446193445677, -0.04496539810406096, -0.2160576657284068], \"y\": [1.0, 1.0, 1.0, 1.0, 1.0, 1.0, 1.0, 1.0, 1.0, 1.0], \"type\": \"scatter\"}, {\"mode\": \"markers\", \"name\": \"Uncontrolled\", \"opacity\": 0.8, \"x\": [-1.243537386277561, -1.619799182140189, -1.2377883976153154, -0.7920521898460332, 0.6699793008392996, 0.5409902391141761, 0.38725732158040765, 0.630824425745297, 0.4401262140873669, 0.6246152250959459], \"y\": [1.0, 1.0, 1.0, 1.0, 1.0, 1.0, 1.0, 1.0, 1.0, 1.0], \"type\": \"scatter\"}]}, {\"data\": [{\"marker\": {\"color\": \"SkyBlue\", \"size\": 15}, \"mode\": \"markers\", \"name\": \"Controlled\", \"x\": [-0.4829624640000706, -0.22602545322146986, -0.22496252513388681, -0.1711717938950685, -0.28103879280259364, -0.1357209576916409, -0.25122704382041944, -0.29422792814722715, -0.05527958355777649, -0.21038280027927106], \"y\": [1.0, 1.0, 1.0, 1.0, 1.0, 1.0, 1.0, 1.0, 1.0, 1.0], \"type\": \"scatter\"}, {\"mode\": \"markers\", \"name\": \"Uncontrolled\", \"opacity\": 0.8, \"x\": [-1.2472305629323484, -1.6164520663722854, -1.2482739379414103, -0.8099601098309798, 0.6734442549243069, 0.5485030624858273, 0.39290239073453676, 0.6312502395198052, 0.4310219658987196, 0.6293188192452603], \"y\": [1.0, 1.0, 1.0, 1.0, 1.0, 1.0, 1.0, 1.0, 1.0, 1.0], \"type\": \"scatter\"}]}, {\"data\": [{\"marker\": {\"color\": \"SkyBlue\", \"size\": 15}, \"mode\": \"markers\", \"name\": \"Controlled\", \"x\": [-0.4854908505040662, -0.21959670321266173, -0.22986688348099854, -0.16372834368114958, -0.2835392101303777, -0.13973076209194768, -0.2610461881206824, -0.28865598405781534, -0.06308249228909085, -0.21301353727413397], \"y\": [1.0, 1.0, 1.0, 1.0, 1.0, 1.0, 1.0, 1.0, 1.0, 1.0], \"type\": \"scatter\"}, {\"mode\": \"markers\", \"name\": \"Uncontrolled\", \"opacity\": 0.8, \"x\": [-1.254735296289057, -1.6173617831177547, -1.2579373718060052, -0.8057757525957587, 0.6726393402838658, 0.5469181859571448, 0.3824612099509233, 0.6362385248973855, 0.42397422401732715, 0.6258775966656457], \"y\": [1.0, 1.0, 1.0, 1.0, 1.0, 1.0, 1.0, 1.0, 1.0, 1.0], \"type\": \"scatter\"}]}, {\"data\": [{\"marker\": {\"color\": \"SkyBlue\", \"size\": 15}, \"mode\": \"markers\", \"name\": \"Controlled\", \"x\": [-0.48452269133132964, -0.21566888553777522, -0.22960649663953275, -0.15621464426358478, -0.28039203215843334, -0.13354873564917114, -0.269856370112474, -0.2897591603900764, -0.07442208011301787, -0.19417264429296413], \"y\": [1.0, 1.0, 1.0, 1.0, 1.0, 1.0, 1.0, 1.0, 1.0, 1.0], \"type\": \"scatter\"}, {\"mode\": \"markers\", \"name\": \"Uncontrolled\", \"opacity\": 0.8, \"x\": [-1.2588250037932012, -1.6206114133456047, -1.262693512804419, -0.801370460368699, 0.6774079890130523, 0.5553480566263784, 0.3726986471154111, 0.634769817284853, 0.41317765948329144, 0.6437135245948299], \"y\": [1.0, 1.0, 1.0, 1.0, 1.0, 1.0, 1.0, 1.0, 1.0, 1.0], \"type\": \"scatter\"}]}, {\"data\": [{\"marker\": {\"color\": \"SkyBlue\", \"size\": 15}, \"mode\": \"markers\", \"name\": \"Controlled\", \"x\": [-0.48524854196366446, -0.2279955425130636, -0.22173703490896426, -0.16669646577635072, -0.28417697868468483, -0.14422249012148775, -0.2597493127318017, -0.27761458528966354, -0.0893966150612059, -0.18705138025649498], \"y\": [1.0, 1.0, 1.0, 1.0, 1.0, 1.0, 1.0, 1.0, 1.0, 1.0], \"type\": \"scatter\"}, {\"mode\": \"markers\", \"name\": \"Uncontrolled\", \"opacity\": 0.8, \"x\": [-1.2646258477218684, -1.6400264538634526, -1.2598474179283674, -0.8148190007062991, 0.675290316002221, 0.5470613811383211, 0.3816775622014177, 0.6465309384579717, 0.39851111202787015, 0.6502671611081247], \"y\": [1.0, 1.0, 1.0, 1.0, 1.0, 1.0, 1.0, 1.0, 1.0, 1.0], \"type\": \"scatter\"}]}, {\"data\": [{\"marker\": {\"color\": \"SkyBlue\", \"size\": 15}, \"mode\": \"markers\", \"name\": \"Controlled\", \"x\": [-0.47702003332737597, -0.22996240600201967, -0.23363450711546416, -0.16579026987085993, -0.2858988859414, -0.134707129574554, -0.25796383832334246, -0.27665542444505886, -0.10002973054547966, -0.19033273034721335], \"y\": [1.0, 1.0, 1.0, 1.0, 1.0, 1.0, 1.0, 1.0, 1.0, 1.0], \"type\": \"scatter\"}, {\"mode\": \"markers\", \"name\": \"Uncontrolled\", \"opacity\": 0.8, \"x\": [-1.2614460399142977, -1.649480325004633, -1.2764494267606241, -0.8171117078341713, 0.6751100328017862, 0.5585754879186937, 0.38273510659926635, 0.6476262958752096, 0.38752713984780496, 0.6466474627543505], \"y\": [1.0, 1.0, 1.0, 1.0, 1.0, 1.0, 1.0, 1.0, 1.0, 1.0], \"type\": \"scatter\"}]}, {\"data\": [{\"marker\": {\"color\": \"SkyBlue\", \"size\": 15}, \"mode\": \"markers\", \"name\": \"Controlled\", \"x\": [-0.46272806838517744, -0.2386035136722162, -0.21674439203990153, -0.16540284591308327, -0.29879771146888506, -0.14764876586804307, -0.25166676913507524, -0.28415035384633097, -0.10268190931417788, -0.19288281700482174], \"y\": [1.0, 1.0, 1.0, 1.0, 1.0, 1.0, 1.0, 1.0, 1.0, 1.0], \"type\": \"scatter\"}, {\"mode\": \"markers\", \"name\": \"Uncontrolled\", \"opacity\": 0.8, \"x\": [-1.2520387737371932, -1.66568941517257, -1.2646483296898525, -0.8198647548300462, 0.663629760157692, 0.5479042799123041, 0.38839340002399503, 0.6403379167023892, 0.3842269235040476, 0.6435608997613594], \"y\": [1.0, 1.0, 1.0, 1.0, 1.0, 1.0, 1.0, 1.0, 1.0, 1.0], \"type\": \"scatter\"}]}, {\"data\": [{\"marker\": {\"color\": \"SkyBlue\", \"size\": 15}, \"mode\": \"markers\", \"name\": \"Controlled\", \"x\": [-0.4688540099603798, -0.23486492172439064, -0.22699293569603363, -0.16262891546523925, -0.2888157284174615, -0.1483530097118998, -0.2563953753862596, -0.2724083817109755, -0.11711155208146236, -0.17932940408336978], \"y\": [1.0, 1.0, 1.0, 1.0, 1.0, 1.0, 1.0, 1.0, 1.0, 1.0], \"type\": \"scatter\"}, {\"mode\": \"markers\", \"name\": \"Uncontrolled\", \"opacity\": 0.8, \"x\": [-1.262707943651349, -1.6698673494833958, -1.279450127013015, -0.8202702243410168, 0.674782444624027, 0.5491040651218683, 0.3832867450863022, 0.6520319438622243, 0.3690389097957211, 0.6566489215866756], \"y\": [1.0, 1.0, 1.0, 1.0, 1.0, 1.0, 1.0, 1.0, 1.0, 1.0], \"type\": \"scatter\"}]}, {\"data\": [{\"marker\": {\"color\": \"SkyBlue\", \"size\": 15}, \"mode\": \"markers\", \"name\": \"Controlled\", \"x\": [-0.47221106121505013, -0.21208616396225613, -0.2148534951675956, -0.17070707536107463, -0.303585023375521, -0.15639225976145912, -0.23889978374843968, -0.2809328523614227, -0.10796007406504689, -0.18435277596336253], \"y\": [1.0, 1.0, 1.0, 1.0, 1.0, 1.0, 1.0, 1.0, 1.0, 1.0], \"type\": \"scatter\"}, {\"mode\": \"markers\", \"name\": \"Uncontrolled\", \"opacity\": 0.8, \"x\": [-1.270775429350637, -1.654868246283649, -1.272175779062106, -0.8314548949346158, 0.6613091560430734, 0.5428609431186775, 0.40030587433858494, 0.6438566092367747, 0.37706770469800505, 0.6513903595170255], \"y\": [1.0, 1.0, 1.0, 1.0, 1.0, 1.0, 1.0, 1.0, 1.0, 1.0], \"type\": \"scatter\"}]}, {\"data\": [{\"marker\": {\"color\": \"SkyBlue\", \"size\": 15}, \"mode\": \"markers\", \"name\": \"Controlled\", \"x\": [-0.46976601329399603, -0.2195149501289982, -0.19841704238932192, -0.1702231379129278, -0.30964116092704125, -0.1594824235755822, -0.23684839344512984, -0.2887655180947699, -0.09160214673045078, -0.17976612043438378], \"y\": [1.0, 1.0, 1.0, 1.0, 1.0, 1.0, 1.0, 1.0, 1.0, 1.0], \"type\": \"scatter\"}, {\"mode\": \"markers\", \"name\": \"Uncontrolled\", \"opacity\": 0.8, \"x\": [-1.2730366764533458, -1.669425188394921, -1.2601946669099626, -0.8343643187258089, 0.656387532684167, 0.5413477946157134, 0.40238068966863033, 0.6360729098613647, 0.3925103318285365, 0.6558086823925983], \"y\": [1.0, 1.0, 1.0, 1.0, 1.0, 1.0, 1.0, 1.0, 1.0, 1.0], \"type\": \"scatter\"}]}, {\"data\": [{\"marker\": {\"color\": \"SkyBlue\", \"size\": 15}, \"mode\": \"markers\", \"name\": \"Controlled\", \"x\": [-0.48170293066637826, -0.22344656471764426, -0.20451045581066363, -0.17179067182995786, -0.31292292601397753, -0.16951418652082131, -0.22926280782286235, -0.29553556258249764, -0.10517925605120515, -0.1748981958954083], \"y\": [1.0, 1.0, 1.0, 1.0, 1.0, 1.0, 1.0, 1.0, 1.0, 1.0], \"type\": \"scatter\"}, {\"mode\": \"markers\", \"name\": \"Uncontrolled\", \"opacity\": 0.8, \"x\": [-1.2896659752510065, -1.6807385240900423, -1.2701240506258114, -0.8392614125315626, 0.6541022558701829, 0.5328148420117782, 0.4101345890942753, 0.6291076003140772, 0.37861127514130427, 0.6607164448802844], \"y\": [1.0, 1.0, 1.0, 1.0, 1.0, 1.0, 1.0, 1.0, 1.0, 1.0], \"type\": \"scatter\"}]}, {\"data\": [{\"marker\": {\"color\": \"SkyBlue\", \"size\": 15}, \"mode\": \"markers\", \"name\": \"Controlled\", \"x\": [-0.4762281141841215, -0.22921260937212254, -0.20208807475497612, -0.17266625187546442, -0.3191944099156515, -0.16931010015731407, -0.22345149573604411, -0.2891335815439903, -0.12261220823991059, -0.17636275981184932], \"y\": [1.0, 1.0, 1.0, 1.0, 1.0, 1.0, 1.0, 1.0, 1.0, 1.0], \"type\": \"scatter\"}, {\"mode\": \"markers\", \"name\": \"Uncontrolled\", \"opacity\": 0.8, \"x\": [-1.2890935984255965, -1.6940056514090787, -1.271691209894694, -0.8435708293163516, 0.6487535838775698, 0.5342420837966686, 0.4162941579103854, 0.6351978155038014, 0.3604844909255325, 0.6594223759713337], \"y\": [1.0, 1.0, 1.0, 1.0, 1.0, 1.0, 1.0, 1.0, 1.0, 1.0], \"type\": \"scatter\"}]}, {\"data\": [{\"marker\": {\"color\": \"SkyBlue\", \"size\": 15}, \"mode\": \"markers\", \"name\": \"Controlled\", \"x\": [-0.4563404347153469, -0.21704499413285097, -0.21942697845839243, -0.15992313011778914, -0.32229658033576813, -0.14627760218847208, -0.21847185324623455, -0.28631792782021914, -0.1306249216086163, -0.17620276381634087], \"y\": [1.0, 1.0, 1.0, 1.0, 1.0, 1.0, 1.0, 1.0, 1.0, 1.0], \"type\": \"scatter\"}, {\"mode\": \"markers\", \"name\": \"Uncontrolled\", \"opacity\": 0.8, \"x\": [-1.2739545732410016, -1.6895844467247563, -1.2929548167495395, -0.8342622300968734, 0.6464348038843313, 0.5584716823629087, 0.42189538774967644, 0.6379729948235768, 0.3511912367770854, 0.6597149202459536], \"y\": [1.0, 1.0, 1.0, 1.0, 1.0, 1.0, 1.0, 1.0, 1.0, 1.0], \"type\": \"scatter\"}]}, {\"data\": [{\"marker\": {\"color\": \"SkyBlue\", \"size\": 15}, \"mode\": \"markers\", \"name\": \"Controlled\", \"x\": [-0.43370487709705774, -0.22572113824002188, -0.24597714825605602, -0.1660071013186688, -0.32494756387461166, -0.13763793928649368, -0.21459731669449106, -0.29286150929389115, -0.12374506298676942, -0.17509673818119087], \"y\": [1.0, 1.0, 1.0, 1.0, 1.0, 1.0, 1.0, 1.0, 1.0, 1.0], \"type\": \"scatter\"}, {\"mode\": \"markers\", \"name\": \"Uncontrolled\", \"opacity\": 0.8, \"x\": [-1.2556612424790972, -1.7057308232522579, -1.3240267258907428, -0.8434542499916023, 0.6445639243714298, 0.5689517817688297, 0.4266129287352791, 0.6314499579914806, 0.35652551680152733, 0.6608537898864183], \"y\": [1.0, 1.0, 1.0, 1.0, 1.0, 1.0, 1.0, 1.0, 1.0, 1.0], \"type\": \"scatter\"}]}, {\"data\": [{\"marker\": {\"color\": \"SkyBlue\", \"size\": 15}, \"mode\": \"markers\", \"name\": \"Controlled\", \"x\": [-0.44775242387496855, -0.21245132698271077, -0.26396411769771483, -0.16047994487706105, -0.31198664240011986, -0.13630969603404103, -0.22234935315292248, -0.2934644376119707, -0.10802840765853647, -0.1585936874004684], \"y\": [1.0, 1.0, 1.0, 1.0, 1.0, 1.0, 1.0, 1.0, 1.0, 1.0], \"type\": \"scatter\"}, {\"mode\": \"markers\", \"name\": \"Uncontrolled\", \"opacity\": 0.8, \"x\": [-1.2736257445903314, -1.700128906908791, -1.3473749386722988, -0.8411460973703606, 0.6582583692288522, 0.5723938419187549, 0.4197252972514651, 0.6306343814836474, 0.3708500024999506, 0.6772686936779567], \"y\": [1.0, 1.0, 1.0, 1.0, 1.0, 1.0, 1.0, 1.0, 1.0, 1.0], \"type\": \"scatter\"}]}, {\"data\": [{\"marker\": {\"color\": \"SkyBlue\", \"size\": 15}, \"mode\": \"markers\", \"name\": \"Controlled\", \"x\": [-0.45958097957695443, -0.21113059945614965, -0.26649680005049425, -0.16153333598228567, -0.2974275804462507, -0.12841860780458694, -0.23525350818434718, -0.296325599039962, -0.10565840987768484, -0.14230692942609433], \"y\": [1.0, 1.0, 1.0, 1.0, 1.0, 1.0, 1.0, 1.0, 1.0, 1.0], \"type\": \"scatter\"}, {\"mode\": \"markers\", \"name\": \"Uncontrolled\", \"opacity\": 0.8, \"x\": [-1.2897226621364322, -1.705990565461278, -1.3557783320116794, -0.8452838741656944, 0.6738021011095883, 0.5824258423713954, 0.4073515985489924, 0.6274829075376785, 0.37231947943075205, 0.6938179968968857], \"y\": [1.0, 1.0, 1.0, 1.0, 1.0, 1.0, 1.0, 1.0, 1.0, 1.0], \"type\": \"scatter\"}]}, {\"data\": [{\"marker\": {\"color\": \"SkyBlue\", \"size\": 15}, \"mode\": \"markers\", \"name\": \"Controlled\", \"x\": [-0.464188302668118, -0.2014201886078216, -0.24700411328596364, -0.16142578831974785, -0.3082063863757758, -0.11954285611881221, -0.24150005737884803, -0.28834255468364134, -0.10941984367342678, -0.13720037355101125], \"y\": [1.0, 1.0, 1.0, 1.0, 1.0, 1.0, 1.0, 1.0, 1.0, 1.0], \"type\": \"scatter\"}, {\"mode\": \"markers\", \"name\": \"Uncontrolled\", \"opacity\": 0.8, \"x\": [-1.2989513568894602, -1.7033670050220657, -1.3422132193314567, -0.8482900254067577, 0.6642311297267861, 0.593636004288916, 0.4012763540748328, 0.63504738133924, 0.36776304690781514, 0.6994867853978929], \"y\": [1.0, 1.0, 1.0, 1.0, 1.0, 1.0, 1.0, 1.0, 1.0, 1.0], \"type\": \"scatter\"}]}, {\"data\": [{\"marker\": {\"color\": \"SkyBlue\", \"size\": 15}, \"mode\": \"markers\", \"name\": \"Controlled\", \"x\": [-0.4734785421055697, -0.1871747029753315, -0.24758745699595208, -0.13951943643655892, -0.31981346786237363, -0.11949654757881226, -0.23532089113914537, -0.2893733863589007, -0.11536777210399288, -0.14600660687312061], \"y\": [1.0, 1.0, 1.0, 1.0, 1.0, 1.0, 1.0, 1.0, 1.0, 1.0], \"type\": \"scatter\"}, {\"mode\": \"markers\", \"name\": \"Uncontrolled\", \"opacity\": 0.8, \"x\": [-1.3129680186773294, -1.6960437571282336, -1.3481273362543855, -0.8295018004228863, 0.6536827905741373, 0.5962231754597193, 0.40755949369647376, 0.6337839117697336, 0.36097086408003104, 0.6914720907629416], \"y\": [1.0, 1.0, 1.0, 1.0, 1.0, 1.0, 1.0, 1.0, 1.0, 1.0], \"type\": \"scatter\"}]}, {\"data\": [{\"marker\": {\"color\": \"SkyBlue\", \"size\": 15}, \"mode\": \"markers\", \"name\": \"Controlled\", \"x\": [-0.4870627841712815, -0.19156414945464406, -0.23288269201660555, -0.12004366214897066, -0.3222089563273279, -0.12117828534439869, -0.23787839287276763, -0.29210025899067454, -0.12592611104609783, -0.14146784998324413], \"y\": [1.0, 1.0, 1.0, 1.0, 1.0, 1.0, 1.0, 1.0, 1.0, 1.0], \"type\": \"scatter\"}, {\"mode\": \"markers\", \"name\": \"Uncontrolled\", \"opacity\": 0.8, \"x\": [-1.3313846782548917, -1.7070868875995495, -1.3388900872995766, -0.8126718153329224, 0.652205611641366, 0.5972526376692118, 0.40524698101361656, 0.6308755996565738, 0.3495113227985902, 0.6966896767140688], \"y\": [1.0, 1.0, 1.0, 1.0, 1.0, 1.0, 1.0, 1.0, 1.0, 1.0], \"type\": \"scatter\"}]}, {\"data\": [{\"marker\": {\"color\": \"SkyBlue\", \"size\": 15}, \"mode\": \"markers\", \"name\": \"Controlled\", \"x\": [-0.4899467813170561, -0.1811636248489298, -0.23660632539412432, -0.1101669461673396, -0.3345220352518709, -0.12436821155364486, -0.22973830707624457, -0.29030390222329855, -0.1339378198352262, -0.15540244848660506], \"y\": [1.0, 1.0, 1.0, 1.0, 1.0, 1.0, 1.0, 1.0, 1.0, 1.0], \"type\": \"scatter\"}, {\"mode\": \"markers\", \"name\": \"Uncontrolled\", \"opacity\": 0.8, \"x\": [-1.3393723534745403, -1.7035986802591374, -1.34765285548539, -0.8048952682751381, 0.6407175421062865, 0.5967640852441873, 0.4136635758229992, 0.6325379807853744, 0.34036928255654936, 0.6836082453652931], \"y\": [1.0, 1.0, 1.0, 1.0, 1.0, 1.0, 1.0, 1.0, 1.0, 1.0], \"type\": \"scatter\"}]}, {\"data\": [{\"marker\": {\"color\": \"SkyBlue\", \"size\": 15}, \"mode\": \"markers\", \"name\": \"Controlled\", \"x\": [-0.4785016091871041, -0.19122870751469376, -0.23992486779849792, -0.11873742721485922, -0.33614857383581453, -0.13635362476423019, -0.22930744835288108, -0.2731265614448277, -0.1276158788173788, -0.15349624450960342], \"y\": [1.0, 1.0, 1.0, 1.0, 1.0, 1.0, 1.0, 1.0, 1.0, 1.0], \"type\": \"scatter\"}, {\"mode\": \"markers\", \"name\": \"Uncontrolled\", \"opacity\": 0.8, \"x\": [-1.3330433364723329, -1.7203186558213457, -1.356147541297285, -0.8152807569159002, 0.6396733094408161, 0.5873702345221214, 0.4146275677938543, 0.649754329804463, 0.3454560606172098, 0.6859950015638495], \"y\": [1.0, 1.0, 1.0, 1.0, 1.0, 1.0, 1.0, 1.0, 1.0, 1.0], \"type\": \"scatter\"}]}, {\"data\": [{\"marker\": {\"color\": \"SkyBlue\", \"size\": 15}, \"mode\": \"markers\", \"name\": \"Controlled\", \"x\": [-0.46702067477166953, -0.1892019455225144, -0.24136018359487693, -0.11412799683425989, -0.32703442894510537, -0.14593183882198896, -0.23069809574416747, -0.2792224260372496, -0.12219922416195382, -0.15123911964376993], \"y\": [1.0, 1.0, 1.0, 1.0, 1.0, 1.0, 1.0, 1.0, 1.0, 1.0], \"type\": \"scatter\"}, {\"mode\": \"markers\", \"name\": \"Uncontrolled\", \"opacity\": 0.8, \"x\": [-1.3264677488776326, -1.7252155854540572, -1.3628183098578883, -0.8125954381460128, 0.6492873008603889, 0.5798446074708108, 0.4137847793302849, 0.6442848469503205, 0.34968513372164634, 0.688788447586774], \"y\": [1.0, 1.0, 1.0, 1.0, 1.0, 1.0, 1.0, 1.0, 1.0, 1.0], \"type\": \"scatter\"}]}, {\"data\": [{\"marker\": {\"color\": \"SkyBlue\", \"size\": 15}, \"mode\": \"markers\", \"name\": \"Controlled\", \"x\": [-0.45296620672863497, -0.19033791370243075, -0.23010396357143134, -0.11418988352957357, -0.32628486858032774, -0.12981812464242876, -0.22557012475192456, -0.29818884080857433, -0.12523237553460134, -0.1650429107495361], \"y\": [1.0, 1.0, 1.0, 1.0, 1.0, 1.0, 1.0, 1.0, 1.0, 1.0], \"type\": \"scatter\"}, {\"mode\": \"markers\", \"name\": \"Uncontrolled\", \"opacity\": 0.8, \"x\": [-1.317090186905558, -1.733182753718826, -1.3568338757647018, -0.814514324168749, 0.6506915564265048, 0.5977260502790394, 0.41941648816833593, 0.6257094386595966, 0.34562835351427434, 0.6755985542185359], \"y\": [1.0, 1.0, 1.0, 1.0, 1.0, 1.0, 1.0, 1.0, 1.0, 1.0], \"type\": \"scatter\"}]}, {\"data\": [{\"marker\": {\"color\": \"SkyBlue\", \"size\": 15}, \"mode\": \"markers\", \"name\": \"Controlled\", \"x\": [-0.460071304019379, -0.1786921489028143, -0.24148656163052412, -0.11455170016091899, -0.32684143715227715, -0.138474770990454, -0.22185192723637046, -0.3062252194327894, -0.13092285040501073, -0.16271690083880502], \"y\": [1.0, 1.0, 1.0, 1.0, 1.0, 1.0, 1.0, 1.0, 1.0, 1.0], \"type\": \"scatter\"}, {\"mode\": \"markers\", \"name\": \"Uncontrolled\", \"opacity\": 0.8, \"x\": [-1.3285785582077458, -1.7284690138923289, -1.373203076032987, -0.8167801504263903, 0.6508448542668405, 0.5914266203493961, 0.4238980519512879, 0.617464841951086, 0.33887496812099543, 0.6782127597636014], \"y\": [1.0, 1.0, 1.0, 1.0, 1.0, 1.0, 1.0, 1.0, 1.0, 1.0], \"type\": \"scatter\"}]}, {\"data\": [{\"marker\": {\"color\": \"SkyBlue\", \"size\": 15}, \"mode\": \"markers\", \"name\": \"Controlled\", \"x\": [-0.46461833271264547, -0.17112021940281838, -0.23590502414239767, -0.10778693176938473, -0.3340497556724542, -0.126910944445777, -0.23110855725134327, -0.3097313176036302, -0.13510086142013153, -0.17383586256379777], \"y\": [1.0, 1.0, 1.0, 1.0, 1.0, 1.0, 1.0, 1.0, 1.0, 1.0], \"type\": \"scatter\"}, {\"mode\": \"markers\", \"name\": \"Uncontrolled\", \"opacity\": 0.8, \"x\": [-1.3376323878223038, -1.7274595546947535, -1.3729549800079675, -0.8120384940782831, 0.6443627217433557, 0.605089457074684, 0.41541312209739617, 0.6136291592737175, 0.3334157245325452, 0.6674168207152776], \"y\": [1.0, 1.0, 1.0, 1.0, 1.0, 1.0, 1.0, 1.0, 1.0, 1.0], \"type\": \"scatter\"}]}, {\"data\": [{\"marker\": {\"color\": \"SkyBlue\", \"size\": 15}, \"mode\": \"markers\", \"name\": \"Controlled\", \"x\": [-0.456146932666013, -0.16703639823605307, -0.24683823513260025, -0.10369423569088822, -0.3293494354512005, -0.13832643678492268, -0.24775816121104727, -0.3102025122829032, -0.12800308862262086, -0.171146282753894], \"y\": [1.0, 1.0, 1.0, 1.0, 1.0, 1.0, 1.0, 1.0, 1.0, 1.0], \"type\": \"scatter\"}, {\"mode\": \"markers\", \"name\": \"Uncontrolled\", \"opacity\": 0.8, \"x\": [-1.3337984781863388, -1.7298021918898068, -1.3891854835833544, -0.8097334480119854, 0.6496777552903178, 0.5962151038866816, 0.399290306118053, 0.6127195731850547, 0.3392063342265458, 0.67011403275952], \"y\": [1.0, 1.0, 1.0, 1.0, 1.0, 1.0, 1.0, 1.0, 1.0, 1.0], \"type\": \"scatter\"}]}, {\"data\": [{\"marker\": {\"color\": \"SkyBlue\", \"size\": 15}, \"mode\": \"markers\", \"name\": \"Controlled\", \"x\": [-0.4723284804740311, -0.1871952852252177, -0.2545565535812684, -0.1124729600261417, -0.3324083417769654, -0.14752126531048687, -0.26058854199280823, -0.2770292732441508, -0.12264956110831579, -0.18201162428618223], \"y\": [1.0, 1.0, 1.0, 1.0, 1.0, 1.0, 1.0, 1.0, 1.0, 1.0], \"type\": \"scatter\"}, {\"mode\": \"markers\", \"name\": \"Uncontrolled\", \"opacity\": 0.8, \"x\": [-1.354502005722842, -1.7562227403020547, -1.40261077961827, -0.8202556539674458, 0.6473089641166587, 0.5890806747270564, 0.3863769679794603, 0.6453476644883962, 0.3435353326633896, 0.6592703912664184], \"y\": [1.0, 1.0, 1.0, 1.0, 1.0, 1.0, 1.0, 1.0, 1.0, 1.0], \"type\": \"scatter\"}]}, {\"data\": [{\"marker\": {\"color\": \"SkyBlue\", \"size\": 15}, \"mode\": \"markers\", \"name\": \"Controlled\", \"x\": [-0.4706506152177682, -0.20364235880529466, -0.24764569289501384, -0.10832535802851452, -0.3331104590561003, -0.15257881692776912, -0.266977413228805, -0.27972185905411195, -0.12243104871217303, -0.1737064228401988], \"y\": [1.0, 1.0, 1.0, 1.0, 1.0, 1.0, 1.0, 1.0, 1.0, 1.0], \"type\": \"scatter\"}, {\"mode\": \"markers\", \"name\": \"Uncontrolled\", \"opacity\": 0.8, \"x\": [-1.3577687998432961, -1.7795270487874948, -1.4017335257371886, -0.8179765071594461, 0.6471444697571186, 0.58563645785857, 0.3793778893338082, 0.6430599537359276, 0.34272529347949116, 0.6672505187092405], \"y\": [1.0, 1.0, 1.0, 1.0, 1.0, 1.0, 1.0, 1.0, 1.0, 1.0], \"type\": \"scatter\"}]}, {\"data\": [{\"marker\": {\"color\": \"SkyBlue\", \"size\": 15}, \"mode\": \"markers\", \"name\": \"Controlled\", \"x\": [-0.47319547546289725, -0.1915791320952859, -0.24440363905183893, -0.10658621231090236, -0.3289035578181815, -0.15042735560548612, -0.2718116355051086, -0.2802343260471923, -0.12096061699697162, -0.1624543362995861], \"y\": [1.0, 1.0, 1.0, 1.0, 1.0, 1.0, 1.0, 1.0, 1.0, 1.0], \"type\": \"scatter\"}, {\"mode\": \"markers\", \"name\": \"Uncontrolled\", \"opacity\": 0.8, \"x\": [-1.3652602411788393, -1.7748551213440062, -1.404300595237698, -0.8179876996258771, 0.6518180245270546, 0.5892568848947283, 0.37377699082795535, 0.6429071725233875, 0.34320237189445757, 0.6784094413806901], \"y\": [1.0, 1.0, 1.0, 1.0, 1.0, 1.0, 1.0, 1.0, 1.0, 1.0], \"type\": \"scatter\"}]}, {\"data\": [{\"marker\": {\"color\": \"SkyBlue\", \"size\": 15}, \"mode\": \"markers\", \"name\": \"Controlled\", \"x\": [-0.4694846020464005, -0.21185877277542656, -0.23541031871597445, -0.1299699535331854, -0.34544597799613985, -0.17030550897514987, -0.2709765094857367, -0.27672528459679435, -0.12486899190474227, -0.1693583017448624], \"y\": [1.0, 1.0, 1.0, 1.0, 1.0, 1.0, 1.0, 1.0, 1.0, 1.0], \"type\": \"scatter\"}, {\"mode\": \"markers\", \"name\": \"Uncontrolled\", \"opacity\": 0.8, \"x\": [-1.3665641736508338, -1.8021735908468806, -1.4010308814251557, -0.8431244908921361, 0.6358472000283295, 0.5708659847232337, 0.37373217284328647, 0.6467339212369594, 0.33840732412864116, 0.6717227713757118], \"y\": [1.0, 1.0, 1.0, 1.0, 1.0, 1.0, 1.0, 1.0, 1.0, 1.0], \"type\": \"scatter\"}]}, {\"data\": [{\"marker\": {\"color\": \"SkyBlue\", \"size\": 15}, \"mode\": \"markers\", \"name\": \"Controlled\", \"x\": [-0.4741352927805746, -0.1934249092318617, -0.23469866252916088, -0.1323218954562319, -0.3465805464719087, -0.17533426277738573, -0.278523288977904, -0.27480440934532063, -0.13363665850750217, -0.16305552192475642], \"y\": [1.0, 1.0, 1.0, 1.0, 1.0, 1.0, 1.0, 1.0, 1.0, 1.0], \"type\": \"scatter\"}, {\"mode\": \"markers\", \"name\": \"Uncontrolled\", \"opacity\": 0.8, \"x\": [-1.3761708507888237, -1.791373933579481, -1.405738354211323, -0.8477883884207073, 0.6349255261354508, 0.5667416446303449, 0.3652168245052353, 0.6490802123969217, 0.3285321548642246, 0.6780996222365308], \"y\": [1.0, 1.0, 1.0, 1.0, 1.0, 1.0, 1.0, 1.0, 1.0, 1.0], \"type\": \"scatter\"}]}, {\"data\": [{\"marker\": {\"color\": \"SkyBlue\", \"size\": 15}, \"mode\": \"markers\", \"name\": \"Controlled\", \"x\": [-0.4745439550291978, -0.19851689720986473, -0.25114514995255477, -0.1327087174356867, -0.35120871146899424, -0.1782775728151786, -0.26781830534817896, -0.28294957811984467, -0.125935980280767, -0.1618666689455155], \"y\": [1.0, 1.0, 1.0, 1.0, 1.0, 1.0, 1.0, 1.0, 1.0, 1.0], \"type\": \"scatter\"}, {\"mode\": \"markers\", \"name\": \"Uncontrolled\", \"opacity\": 0.8, \"x\": [-1.3816185800886414, -1.8035433748710694, -1.4276540840205516, -0.8506295775428294, 0.6305190792258866, 0.5643828125011311, 0.3747346394857718, 0.6414173751010848, 0.334940619162284, 0.679529855750441], \"y\": [1.0, 1.0, 1.0, 1.0, 1.0, 1.0, 1.0, 1.0, 1.0, 1.0], \"type\": \"scatter\"}]}, {\"data\": [{\"marker\": {\"color\": \"SkyBlue\", \"size\": 15}, \"mode\": \"markers\", \"name\": \"Controlled\", \"x\": [-0.4697281483610721, -0.20655798184014731, -0.24326387340227812, -0.11853039662980497, -0.34843701685410705, -0.1741666689537298, -0.2542492754101437, -0.28508750087354456, -0.11267482870292943, -0.15696531331969657], \"y\": [1.0, 1.0, 1.0, 1.0, 1.0, 1.0, 1.0, 1.0, 1.0, 1.0], \"type\": \"scatter\"}, {\"mode\": \"markers\", \"name\": \"Uncontrolled\", \"opacity\": 0.8, \"x\": [-1.381846755750146, -1.8187868166178216, -1.4256634045267718, -0.8389054094137065, 0.6334295572212388, 0.5691420034585238, 0.3873942734642414, 0.639536987637593, 0.34705934001111344, 0.6846762874944444], \"y\": [1.0, 1.0, 1.0, 1.0, 1.0, 1.0, 1.0, 1.0, 1.0, 1.0], \"type\": \"scatter\"}]}, {\"data\": [{\"marker\": {\"color\": \"SkyBlue\", \"size\": 15}, \"mode\": \"markers\", \"name\": \"Controlled\", \"x\": [-0.454280662863762, -0.20854919716767678, -0.23562379701932998, -0.12280788345842057, -0.34412459127250006, -0.1807853479834279, -0.24813255495154313, -0.2874310332730299, -0.1161865200175342, -0.1562006757072138], \"y\": [1.0, 1.0, 1.0, 1.0, 1.0, 1.0, 1.0, 1.0, 1.0, 1.0], \"type\": \"scatter\"}, {\"mode\": \"markers\", \"name\": \"Uncontrolled\", \"opacity\": 0.8, \"x\": [-1.3713309003673986, -1.828271272579992, -1.4235339501109554, -0.8451557165721242, 0.6378889443387563, 0.563357840965547, 0.39314030913657816, 0.6374607762210055, 0.3428093703994931, 0.6858864565504778], \"y\": [1.0, 1.0, 1.0, 1.0, 1.0, 1.0, 1.0, 1.0, 1.0, 1.0], \"type\": \"scatter\"}]}, {\"data\": [{\"marker\": {\"color\": \"SkyBlue\", \"size\": 15}, \"mode\": \"markers\", \"name\": \"Controlled\", \"x\": [-0.45872581484283925, -0.19959800631652877, -0.24543541737072036, -0.12525763190569628, -0.34818187078402496, -0.1882435656107937, -0.24678037461115093, -0.2890344716271425, -0.12317189866065494, -0.15813055025051884], \"y\": [1.0, 1.0, 1.0, 1.0, 1.0, 1.0, 1.0, 1.0, 1.0, 1.0], \"type\": \"scatter\"}, {\"mode\": \"markers\", \"name\": \"Uncontrolled\", \"opacity\": 0.8, \"x\": [-1.380361554788375, -1.8268647195618164, -1.438590879703689, -0.849701147794765, 0.6340454822079312, 0.5565164835879219, 0.39439904995312147, 0.636077275238664, 0.33496482275838974, 0.6844792256334722], \"y\": [1.0, 1.0, 1.0, 1.0, 1.0, 1.0, 1.0, 1.0, 1.0, 1.0], \"type\": \"scatter\"}]}, {\"data\": [{\"marker\": {\"color\": \"SkyBlue\", \"size\": 15}, \"mode\": \"markers\", \"name\": \"Controlled\", \"x\": [-0.45621556252376855, -0.22063538140118355, -0.25190643866458257, -0.12963687921612208, -0.34730357812069246, -0.17859648450304233, -0.24132732512263805, -0.291344218028941, -0.1118621165138063, -0.1656921846687361], \"y\": [1.0, 1.0, 1.0, 1.0, 1.0, 1.0, 1.0, 1.0, 1.0, 1.0], \"type\": \"scatter\"}, {\"mode\": \"markers\", \"name\": \"Uncontrolled\", \"opacity\": 0.8, \"x\": [-1.382516836187523, -1.8551736361665527, -1.4506354943030864, -0.8563078622647038, 0.6350784311045127, 0.5665458603721585, 0.39972196820496186, 0.6339706407110111, 0.34521186995351677, 0.6773582432706929], \"y\": [1.0, 1.0, 1.0, 1.0, 1.0, 1.0, 1.0, 1.0, 1.0, 1.0], \"type\": \"scatter\"}]}, {\"data\": [{\"marker\": {\"color\": \"SkyBlue\", \"size\": 15}, \"mode\": \"markers\", \"name\": \"Controlled\", \"x\": [-0.44317806048812575, -0.20956912284116752, -0.2597738668016063, -0.12614481008536338, -0.3454152454021515, -0.18670684418221908, -0.2439057261053107, -0.29389261761149943, -0.11232599266953167, -0.17407096246605427], \"y\": [1.0, 1.0, 1.0, 1.0, 1.0, 1.0, 1.0, 1.0, 1.0, 1.0], \"type\": \"scatter\"}, {\"mode\": \"markers\", \"name\": \"Uncontrolled\", \"opacity\": 0.8, \"x\": [-1.3741539480624134, -1.8520412702503386, -1.4642519212580836, -0.8550741235443771, 0.6371270549513008, 0.5592029157211973, 0.3971189995752308, 0.6314973199137666, 0.34389818061463484, 0.6691918609361253], \"y\": [1.0, 1.0, 1.0, 1.0, 1.0, 1.0, 1.0, 1.0, 1.0, 1.0], \"type\": \"scatter\"}]}, {\"data\": [{\"marker\": {\"color\": \"SkyBlue\", \"size\": 15}, \"mode\": \"markers\", \"name\": \"Controlled\", \"x\": [-0.43983336778949295, -0.21261906909597575, -0.25932205205932246, -0.14342104646474146, -0.3484590553496762, -0.19077895172284118, -0.23302492432340233, -0.28277299473522427, -0.10298375896428012, -0.17944678466436897], \"y\": [1.0, 1.0, 1.0, 1.0, 1.0, 1.0, 1.0, 1.0, 1.0, 1.0], \"type\": \"scatter\"}, {\"mode\": \"markers\", \"name\": \"Uncontrolled\", \"opacity\": 0.8, \"x\": [-1.3751969573055256, -1.8626647192246357, -1.469924432288464, -0.8745626446035976, 0.6342804053257499, 0.5556348237060212, 0.4077807337101265, 0.6426495622782094, 0.3523749787835559, 0.6637971811158432], \"y\": [1.0, 1.0, 1.0, 1.0, 1.0, 1.0, 1.0, 1.0, 1.0, 1.0], \"type\": \"scatter\"}]}, {\"data\": [{\"marker\": {\"color\": \"SkyBlue\", \"size\": 15}, \"mode\": \"markers\", \"name\": \"Controlled\", \"x\": [-0.4392852773069513, -0.21743681165926712, -0.27276528266442085, -0.14944283000739078, -0.35566638943728496, -0.18789462629870038, -0.21376656030895622, -0.2755209884462956, -0.091335599323741, -0.17720797631208937], \"y\": [1.0, 1.0, 1.0, 1.0, 1.0, 1.0, 1.0, 1.0, 1.0, 1.0], \"type\": \"scatter\"}, {\"mode\": \"markers\", \"name\": \"Uncontrolled\", \"opacity\": 0.8, \"x\": [-1.3789673851008049, -1.8751248651257866, -1.4894097834937743, -0.8831516780738564, 0.6272188088741428, 0.5588608006552221, 0.4272126488205134, 0.650216101553923, 0.3632882171453742, 0.6659081553870417], \"y\": [1.0, 1.0, 1.0, 1.0, 1.0, 1.0, 1.0, 1.0, 1.0, 1.0], \"type\": \"scatter\"}]}, {\"data\": [{\"marker\": {\"color\": \"SkyBlue\", \"size\": 15}, \"mode\": \"markers\", \"name\": \"Controlled\", \"x\": [-0.4312910079759961, -0.21908513742147145, -0.2659216899807718, -0.1402911240711375, -0.33930915710468457, -0.18138419853547505, -0.21067094013025908, -0.2673347425878959, -0.09035222845925468, -0.17746998664262095], \"y\": [1.0, 1.0, 1.0, 1.0, 1.0, 1.0, 1.0, 1.0, 1.0, 1.0], \"type\": \"scatter\"}, {\"mode\": \"markers\", \"name\": \"Uncontrolled\", \"opacity\": 0.8, \"x\": [-1.375271313504385, -1.8845610308572762, -1.4888726214056172, -0.8765982651003285, 0.6435960132386015, 0.5658985368380772, 0.43102676455135075, 0.6589228862504072, 0.3637333246236489, 0.6655711626627143], \"y\": [1.0, 1.0, 1.0, 1.0, 1.0, 1.0, 1.0, 1.0, 1.0, 1.0], \"type\": \"scatter\"}]}, {\"data\": [{\"marker\": {\"color\": \"SkyBlue\", \"size\": 15}, \"mode\": \"markers\", \"name\": \"Controlled\", \"x\": [-0.4289222721633443, -0.19838639056197796, -0.2755866723337071, -0.13206977417181054, -0.35229046633285016, -0.19154203322117946, -0.21231851915098052, -0.2711527944034465, -0.08553329296942669, -0.18309048254933416], \"y\": [1.0, 1.0, 1.0, 1.0, 1.0, 1.0, 1.0, 1.0, 1.0, 1.0], \"type\": \"scatter\"}, {\"mode\": \"markers\", \"name\": \"Uncontrolled\", \"opacity\": 0.8, \"x\": [-1.3770442805532261, -1.871749625862827, -1.5046430673205162, -0.8707831061925132, 0.6309137007342018, 0.5563933758732837, 0.4303201844266526, 0.6558868652512863, 0.36804887824896104, 0.6598922765402845], \"y\": [1.0, 1.0, 1.0, 1.0, 1.0, 1.0, 1.0, 1.0, 1.0, 1.0], \"type\": \"scatter\"}]}, {\"data\": [{\"marker\": {\"color\": \"SkyBlue\", \"size\": 15}, \"mode\": \"markers\", \"name\": \"Controlled\", \"x\": [-0.43464630998968135, -0.21307362768071852, -0.27133220515643997, -0.13456333567608134, -0.3597053564721023, -0.18018622135536166, -0.2044797751046209, -0.2572379355681713, -0.08042093640803634, -0.16447225020742287], \"y\": [1.0, 1.0, 1.0, 1.0, 1.0, 1.0, 1.0, 1.0, 1.0, 1.0], \"type\": \"scatter\"}, {\"mode\": \"markers\", \"name\": \"Uncontrolled\", \"opacity\": 0.8, \"x\": [-1.386845802260066, -1.8936929450020656, -1.506803146885127, -0.875410612499452, 0.6235700113169448, 0.5681317911050042, 0.4389855846711957, 0.6705340536937074, 0.37284720845386177, 0.6782995876144179], \"y\": [1.0, 1.0, 1.0, 1.0, 1.0, 1.0, 1.0, 1.0, 1.0, 1.0], \"type\": \"scatter\"}]}, {\"data\": [{\"marker\": {\"color\": \"SkyBlue\", \"size\": 15}, \"mode\": \"markers\", \"name\": \"Controlled\", \"x\": [-0.43235007679395066, -0.2163830649374726, -0.27289077058019284, -0.1345667788594768, -0.3593240636381061, -0.17383790461216722, -0.2058606714526448, -0.25426711348276315, -0.08680566603534853, -0.15772654121175647], \"y\": [1.0, 1.0, 1.0, 1.0, 1.0, 1.0, 1.0, 1.0, 1.0, 1.0], \"type\": \"scatter\"}, {\"mode\": \"markers\", \"name\": \"Uncontrolled\", \"opacity\": 0.8, \"x\": [-1.3887695602666268, -1.9047756866525947, -1.514530827007227, -0.8774532331518237, 0.6239359051686655, 0.5751590274284459, 0.43877065645686125, 0.6746276510453931, 0.3662469954939729, 0.685336956701299], \"y\": [1.0, 1.0, 1.0, 1.0, 1.0, 1.0, 1.0, 1.0, 1.0, 1.0], \"type\": \"scatter\"}]}, {\"data\": [{\"marker\": {\"color\": \"SkyBlue\", \"size\": 15}, \"mode\": \"markers\", \"name\": \"Controlled\", \"x\": [-0.432311862147106, -0.21373521452742572, -0.2749248037573632, -0.13009848940894136, -0.3592625577373767, -0.17562784213267554, -0.19420841415658144, -0.24659009865290854, -0.08462757423794402, -0.15748330617424244], \"y\": [1.0, 1.0, 1.0, 1.0, 1.0, 1.0, 1.0, 1.0, 1.0, 1.0], \"type\": \"scatter\"}, {\"mode\": \"markers\", \"name\": \"Uncontrolled\", \"opacity\": 0.8, \"x\": [-1.3929250766061667, -1.9100536563678916, -1.5228035651200644, -0.8750295294323021, 0.6239924625416512, 0.5741386233876017, 0.4515854507526228, 0.6835042334783715, 0.3680270148783142, 0.6861005100332708], \"y\": [1.0, 1.0, 1.0, 1.0, 1.0, 1.0, 1.0, 1.0, 1.0, 1.0], \"type\": \"scatter\"}]}, {\"data\": [{\"marker\": {\"color\": \"SkyBlue\", \"size\": 15}, \"mode\": \"markers\", \"name\": \"Controlled\", \"x\": [-0.4378212009388344, -0.22004683451647084, -0.27277637307520486, -0.12674547497168737, -0.35577698709179856, -0.18194087348539467, -0.19290481511896254, -0.24276438070662132, -0.08125954031686833, -0.1639101908509338], \"y\": [1.0, 1.0, 1.0, 1.0, 1.0, 1.0, 1.0, 1.0, 1.0, 1.0], \"type\": \"scatter\"}, {\"mode\": \"markers\", \"name\": \"Uncontrolled\", \"opacity\": 0.8, \"x\": [-1.4026078641834534, -1.9242436914754812, -1.5268798702276358, -0.8735453200294991, 0.6274509519478395, 0.5685344156258434, 0.4544437925534444, 0.6888152361078884, 0.3710348108495649, 0.6802212688878604], \"y\": [1.0, 1.0, 1.0, 1.0, 1.0, 1.0, 1.0, 1.0, 1.0, 1.0], \"type\": \"scatter\"}]}, {\"data\": [{\"marker\": {\"color\": \"SkyBlue\", \"size\": 15}, \"mode\": \"markers\", \"name\": \"Controlled\", \"x\": [-0.4261116009275611, -0.2143990975940528, -0.25967654085834724, -0.13577264649548457, -0.3560624958929112, -0.18165039234572064, -0.20118850486677878, -0.24147544058343068, -0.0760536761296189, -0.16704063885259596], \"y\": [1.0, 1.0, 1.0, 1.0, 1.0, 1.0, 1.0, 1.0, 1.0, 1.0], \"type\": \"scatter\"}, {\"mode\": \"markers\", \"name\": \"Uncontrolled\", \"opacity\": 0.8, \"x\": [-1.3951918201160238, -1.9266797920320788, -1.5199481808836204, -0.8843159046695729, 0.6271560130080338, 0.5694486025090375, 0.44774661407291877, 0.6917504687275571, 0.37596173829331414, 0.677410323436558], \"y\": [1.0, 1.0, 1.0, 1.0, 1.0, 1.0, 1.0, 1.0, 1.0, 1.0], \"type\": \"scatter\"}]}, {\"data\": [{\"marker\": {\"color\": \"SkyBlue\", \"size\": 15}, \"mode\": \"markers\", \"name\": \"Controlled\", \"x\": [-0.4369148514221465, -0.21872289347948295, -0.2492852891299772, -0.14718947057894324, -0.36067916361716057, -0.19159825643775427, -0.19821196535343255, -0.24479507484424826, -0.07410592877136385, -0.1669422033659541], \"y\": [1.0, 1.0, 1.0, 1.0, 1.0, 1.0, 1.0, 1.0, 1.0, 1.0], \"type\": \"scatter\"}, {\"mode\": \"markers\", \"name\": \"Uncontrolled\", \"opacity\": 0.8, \"x\": [-1.4100769981621364, -1.9389240303795487, -1.5153998532891149, -0.897711176079825, 0.6225479123546744, 0.5600545564511499, 0.45213955891053637, 0.690048859974098, 0.3777854724093938, 0.6777911820346788], \"y\": [1.0, 1.0, 1.0, 1.0, 1.0, 1.0, 1.0, 1.0, 1.0, 1.0], \"type\": \"scatter\"}]}, {\"data\": [{\"marker\": {\"color\": \"SkyBlue\", \"size\": 15}, \"mode\": \"markers\", \"name\": \"Controlled\", \"x\": [-0.43072110410128017, -0.21486028481283592, -0.2417075289917709, -0.12553766411601092, -0.35463086212339096, -0.1807696601962213, -0.1925021512599295, -0.25124768370058403, -0.08355391873955414, -0.17399919095985253], \"y\": [1.0, 1.0, 1.0, 1.0, 1.0, 1.0, 1.0, 1.0, 1.0, 1.0], \"type\": \"scatter\"}, {\"mode\": \"markers\", \"name\": \"Uncontrolled\", \"opacity\": 0.8, \"x\": [-1.4081997933956951, -1.9431150464573623, -1.5133131514404774, -0.8783510111723993, 0.628505177180517, 0.5711359825305469, 0.4593450379897101, 0.6851127480924687, 0.36826835176443834, 0.6710761409896879], \"y\": [1.0, 1.0, 1.0, 1.0, 1.0, 1.0, 1.0, 1.0, 1.0, 1.0], \"type\": \"scatter\"}]}, {\"data\": [{\"marker\": {\"color\": \"SkyBlue\", \"size\": 15}, \"mode\": \"markers\", \"name\": \"Controlled\", \"x\": [-0.4393115212802489, -0.21865671447319804, -0.25054836822077176, -0.13299753739458892, -0.3590605442492739, -0.18945622601437023, -0.19176487128186046, -0.2616925033535088, -0.07941798121530591, -0.163347212742468], \"y\": [1.0, 1.0, 1.0, 1.0, 1.0, 1.0, 1.0, 1.0, 1.0, 1.0], \"type\": \"scatter\"}, {\"mode\": \"markers\", \"name\": \"Uncontrolled\", \"opacity\": 0.8, \"x\": [-1.420954204499429, -1.9549539597367582, -1.527461835908452, -0.8875568754227774, 0.624080207402528, 0.5630123246321596, 0.4619098351790924, 0.6760913801416437, 0.3721849997774232, 0.6819138232705629], \"y\": [1.0, 1.0, 1.0, 1.0, 1.0, 1.0, 1.0, 1.0, 1.0, 1.0], \"type\": \"scatter\"}]}, {\"data\": [{\"marker\": {\"color\": \"SkyBlue\", \"size\": 15}, \"mode\": \"markers\", \"name\": \"Controlled\", \"x\": [-0.4307578915536218, -0.22558839552590945, -0.26086819867106925, -0.13528344997553216, -0.38029052614961706, -0.2166361317925527, -0.1942839541024921, -0.28333392666038326, -0.07569264540106124, -0.18665641900294344], \"y\": [1.0, 1.0, 1.0, 1.0, 1.0, 1.0, 1.0, 1.0, 1.0, 1.0], \"type\": \"scatter\"}, {\"mode\": \"markers\", \"name\": \"Uncontrolled\", \"opacity\": 0.8, \"x\": [-1.4167584837267861, -1.9700040309069706, -1.5433010025751022, -0.8918355267651412, 0.6027770147817576, 0.5362430649860764, 0.46112447997963757, 0.6555430543604719, 0.37578647999206455, 0.659054426254269], \"y\": [1.0, 1.0, 1.0, 1.0, 1.0, 1.0, 1.0, 1.0, 1.0, 1.0], \"type\": \"scatter\"}]}, {\"data\": [{\"marker\": {\"color\": \"SkyBlue\", \"size\": 15}, \"mode\": \"markers\", \"name\": \"Controlled\", \"x\": [-0.41902377259887186, -0.2280940580737701, -0.25680794887079933, -0.12885291763631812, -0.3757728517309788, -0.2179821440532136, -0.19282537764779156, -0.28610793724991307, -0.07507693925933566, -0.19377936963720085], \"y\": [1.0, 1.0, 1.0, 1.0, 1.0, 1.0, 1.0, 1.0, 1.0, 1.0], \"type\": \"scatter\"}, {\"mode\": \"markers\", \"name\": \"Uncontrolled\", \"opacity\": 0.8, \"x\": [-1.4091777280507662, -1.980789954844182, -1.5451050260637038, -0.8875014572621489, 0.6067776700177645, 0.5345527423567868, 0.4640459452530435, 0.6533973938469989, 0.3764468981866695, 0.6518430799228336], \"y\": [1.0, 1.0, 1.0, 1.0, 1.0, 1.0, 1.0, 1.0, 1.0, 1.0], \"type\": \"scatter\"}]}, {\"data\": [{\"marker\": {\"color\": \"SkyBlue\", \"size\": 15}, \"mode\": \"markers\", \"name\": \"Controlled\", \"x\": [-0.41090417466591794, -0.23949495216481106, -0.25954726927947774, -0.13613542786169378, -0.37245598584256406, -0.2124258335024322, -0.1998870073749591, -0.2904035622268571, -0.08024168939965667, -0.20113780688359822], \"y\": [1.0, 1.0, 1.0, 1.0, 1.0, 1.0, 1.0, 1.0, 1.0, 1.0], \"type\": \"scatter\"}, {\"mode\": \"markers\", \"name\": \"Uncontrolled\", \"opacity\": 0.8, \"x\": [-1.4049612611950753, -2.0006551421083842, -1.5536026556623403, -0.8967059731653245, 0.6096377518445381, 0.5397437808731302, 0.4585514424626455, 0.6496881193816114, 0.37136019118710045, 0.6442276700073672], \"y\": [1.0, 1.0, 1.0, 1.0, 1.0, 1.0, 1.0, 1.0, 1.0, 1.0], \"type\": \"scatter\"}]}, {\"data\": [{\"marker\": {\"color\": \"SkyBlue\", \"size\": 15}, \"mode\": \"markers\", \"name\": \"Controlled\", \"x\": [-0.4132978947150124, -0.24557978455626323, -0.2735816146005006, -0.1405695120831564, -0.36368488334703003, -0.21508231400847583, -0.19921070133299534, -0.29124788909450433, -0.0934257369357228, -0.20950709326790196], \"y\": [1.0, 1.0, 1.0, 1.0, 1.0, 1.0, 1.0, 1.0, 1.0, 1.0], \"type\": \"scatter\"}, {\"mode\": \"markers\", \"name\": \"Uncontrolled\", \"opacity\": 0.8, \"x\": [-1.4111406136730555, -2.015580020280772, -1.573573316831721, -0.9033016143945692, 0.6180269183184364, 0.536838038279468, 0.4605418990697588, 0.6492514784338016, 0.35806588209936013, 0.6353493189516863], \"y\": [1.0, 1.0, 1.0, 1.0, 1.0, 1.0, 1.0, 1.0, 1.0, 1.0], \"type\": \"scatter\"}]}, {\"data\": [{\"marker\": {\"color\": \"SkyBlue\", \"size\": 15}, \"mode\": \"markers\", \"name\": \"Controlled\", \"x\": [-0.413266336252294, -0.24973245320153475, -0.27723593633326243, -0.14039251385634977, -0.3615004942527882, -0.217099117830011, -0.19548285899560788, -0.2832351405686893, -0.09045575276711462, -0.21636244932356072], \"y\": [1.0, 1.0, 1.0, 1.0, 1.0, 1.0, 1.0, 1.0, 1.0, 1.0], \"type\": \"scatter\"}, {\"mode\": \"markers\", \"name\": \"Uncontrolled\", \"opacity\": 0.8, \"x\": [-1.4149736518405194, -2.028765532856885, -1.583666474527724, -0.9054864914163072, 0.6199905863038342, 0.5345619982228531, 0.4654994084687363, 0.6576613841949652, 0.3604120607236291, 0.6277009837521725], \"y\": [1.0, 1.0, 1.0, 1.0, 1.0, 1.0, 1.0, 1.0, 1.0, 1.0], \"type\": \"scatter\"}]}, {\"data\": [{\"marker\": {\"color\": \"SkyBlue\", \"size\": 15}, \"mode\": \"markers\", \"name\": \"Controlled\", \"x\": [-0.4189581681736675, -0.2446907306876664, -0.2716377443776452, -0.14168612163739724, -0.3438603877533332, -0.21584146229154014, -0.21065403955280199, -0.28782753967527597, -0.09539119355300606, -0.221765913143816], \"y\": [1.0, 1.0, 1.0, 1.0, 1.0, 1.0, 1.0, 1.0, 1.0, 1.0], \"type\": \"scatter\"}, {\"mode\": \"markers\", \"name\": \"Uncontrolled\", \"opacity\": 0.8, \"x\": [-1.4245458807946232, -2.0329085046084727, -1.5846166306913958, -0.9090868227918202, 0.6374260251159412, 0.5355087575319575, 0.45165610611603746, 0.6537243044853143, 0.354882781108204, 0.6212350752088333], \"y\": [1.0, 1.0, 1.0, 1.0, 1.0, 1.0, 1.0, 1.0, 1.0, 1.0], \"type\": \"scatter\"}]}, {\"data\": [{\"marker\": {\"color\": \"SkyBlue\", \"size\": 15}, \"mode\": \"markers\", \"name\": \"Controlled\", \"x\": [-0.42672429293874475, -0.2500988789520768, -0.27075293244636733, -0.1568347771682933, -0.3542128048017978, -0.21751639421862265, -0.20442344532638013, -0.29084930985411817, -0.09332596491235573, -0.2029637193563966], \"y\": [1.0, 1.0, 1.0, 1.0, 1.0, 1.0, 1.0, 1.0, 1.0, 1.0], \"type\": \"scatter\"}, {\"mode\": \"markers\", \"name\": \"Uncontrolled\", \"opacity\": 0.8, \"x\": [-1.4363682156993076, -2.0473671931935886, -1.590275059349984, -0.9267170825886926, 0.6272216427199435, 0.5336608423466461, 0.4587233486747681, 0.6510886694057774, 0.35627951064705177, 0.6388211298031999], \"y\": [1.0, 1.0, 1.0, 1.0, 1.0, 1.0, 1.0, 1.0, 1.0, 1.0], \"type\": \"scatter\"}]}, {\"data\": [{\"marker\": {\"color\": \"SkyBlue\", \"size\": 15}, \"mode\": \"markers\", \"name\": \"Controlled\", \"x\": [-0.4269443845311999, -0.26320387273361046, -0.2578496497438738, -0.17585941165951213, -0.34900448498092207, -0.21261760123382265, -0.19694899673096758, -0.28939081719896703, -0.10387721510876398, -0.19583853660927164], \"y\": [1.0, 1.0, 1.0, 1.0, 1.0, 1.0, 1.0, 1.0, 1.0, 1.0], \"type\": \"scatter\"}, {\"mode\": \"markers\", \"name\": \"Uncontrolled\", \"opacity\": 0.8, \"x\": [-1.4407935241789185, -2.0696833893778845, -1.5837903633285118, -0.9486980995607353, 0.6324072760680362, 0.5382984990821952, 0.46721233404942175, 0.6528661149845352, 0.34506801123212705, 0.6453042468727186], \"y\": [1.0, 1.0, 1.0, 1.0, 1.0, 1.0, 1.0, 1.0, 1.0, 1.0], \"type\": \"scatter\"}]}, {\"data\": [{\"marker\": {\"color\": \"SkyBlue\", \"size\": 15}, \"mode\": \"markers\", \"name\": \"Controlled\", \"x\": [-0.4245195196269106, -0.2715325211910119, -0.2518403382368025, -0.18468947290065, -0.3380634800734572, -0.2226035378145133, -0.19811239223456797, -0.2883708085768549, -0.11207233740357898, -0.1846857325756487], \"y\": [1.0, 1.0, 1.0, 1.0, 1.0, 1.0, 1.0, 1.0, 1.0, 1.0], \"type\": \"scatter\"}, {\"mode\": \"markers\", \"name\": \"Uncontrolled\", \"opacity\": 0.8, \"x\": [-1.4425963062917504, -2.087663301772636, -1.5837853932486952, -0.9610008121447315, 0.6434369389733406, 0.5281985501407105, 0.46738214554815644, 0.6541805877799197, 0.3358629618251865, 0.6560320863093408], \"y\": [1.0, 1.0, 1.0, 1.0, 1.0, 1.0, 1.0, 1.0, 1.0, 1.0], \"type\": \"scatter\"}]}, {\"data\": [{\"marker\": {\"color\": \"SkyBlue\", \"size\": 15}, \"mode\": \"markers\", \"name\": \"Controlled\", \"x\": [-0.4357905007472245, -0.2777652260720273, -0.2537118258353909, -0.18519609319844849, -0.3237358571027081, -0.22782257984212065, -0.1988555511180495, -0.27497314465580736, -0.09266667997653091, -0.19108126872055392], \"y\": [1.0, 1.0, 1.0, 1.0, 1.0, 1.0, 1.0, 1.0, 1.0, 1.0], \"type\": \"scatter\"}, {\"mode\": \"markers\", \"name\": \"Uncontrolled\", \"opacity\": 0.8, \"x\": [-1.458047524904739, -2.1037825089244606, -1.5914697938297586, -0.965273307693749, 0.6580330059738131, 0.5225594942494971, 0.46796900948293346, 0.6679050208665526, 0.35400459442676696, 0.6495297867621459], \"y\": [1.0, 1.0, 1.0, 1.0, 1.0, 1.0, 1.0, 1.0, 1.0, 1.0], \"type\": \"scatter\"}]}, {\"data\": [{\"marker\": {\"color\": \"SkyBlue\", \"size\": 15}, \"mode\": \"markers\", \"name\": \"Controlled\", \"x\": [-0.4320215833731413, -0.269941099542749, -0.25147104524475483, -0.1776082843211978, -0.33286135719591475, -0.22760944967090935, -0.21130379429926108, -0.289698643014384, -0.09862901396795484, -0.18825572604588928], \"y\": [1.0, 1.0, 1.0, 1.0, 1.0, 1.0, 1.0, 1.0, 1.0, 1.0], \"type\": \"scatter\"}, {\"mode\": \"markers\", \"name\": \"Uncontrolled\", \"opacity\": 0.8, \"x\": [-1.4587492986782007, -2.10602416311227, -1.5950813178998682, -0.9613908779043934, 0.6494003054993267, 0.5222230421196208, 0.4567485580186403, 0.6538802994242549, 0.3472472095168407, 0.6520829244076306], \"y\": [1.0, 1.0, 1.0, 1.0, 1.0, 1.0, 1.0, 1.0, 1.0, 1.0], \"type\": \"scatter\"}]}, {\"data\": [{\"marker\": {\"color\": \"SkyBlue\", \"size\": 15}, \"mode\": \"markers\", \"name\": \"Controlled\", \"x\": [-0.44059099030157056, -0.2650114535365467, -0.25235358303393157, -0.16350527792492217, -0.3343137137612513, -0.22520286074925336, -0.20793919182001552, -0.28696180169344276, -0.09050527528418065, -0.1975911128780282], \"y\": [1.0, 1.0, 1.0, 1.0, 1.0, 1.0, 1.0, 1.0, 1.0, 1.0], \"type\": \"scatter\"}, {\"mode\": \"markers\", \"name\": \"Uncontrolled\", \"opacity\": 0.8, \"x\": [-1.471721898165183, -2.1109684652053513, -1.6018371514978051, -0.9508952089008176, 0.6482927769673787, 0.5240658168020126, 0.46097875936243055, 0.6569001690759043, 0.35453068655314446, 0.6425440147437008], \"y\": [1.0, 1.0, 1.0, 1.0, 1.0, 1.0, 1.0, 1.0, 1.0, 1.0], \"type\": \"scatter\"}]}, {\"data\": [{\"marker\": {\"color\": \"SkyBlue\", \"size\": 15}, \"mode\": \"markers\", \"name\": \"Controlled\", \"x\": [-0.4393401330550817, -0.2542429832905492, -0.2586770356851549, -0.15833686371596223, -0.3312873849132366, -0.22100847060240528, -0.21212532423325803, -0.28575345192978246, -0.08778066968424013, -0.2000267457683431], \"y\": [1.0, 1.0, 1.0, 1.0, 1.0, 1.0, 1.0, 1.0, 1.0, 1.0], \"type\": \"scatter\"}, {\"mode\": \"markers\", \"name\": \"Uncontrolled\", \"opacity\": 0.8, \"x\": [-1.4750592853218247, -2.109990378160394, -1.6140648879119106, -0.948913105839846, 0.6516119957408848, 0.5277945434659729, 0.45776878375743535, 0.6585300113520414, 0.3566864508610679, 0.6396658612976354], \"y\": [1.0, 1.0, 1.0, 1.0, 1.0, 1.0, 1.0, 1.0, 1.0, 1.0], \"type\": \"scatter\"}]}, {\"data\": [{\"marker\": {\"color\": \"SkyBlue\", \"size\": 15}, \"mode\": \"markers\", \"name\": \"Controlled\", \"x\": [-0.42985415308524816, -0.24652572160903735, -0.28051820464608723, -0.14046603673755836, -0.3282015015462842, -0.22950346188047177, -0.2205716547948293, -0.2889086109668308, -0.06953013685917842, -0.20433310012969635], \"y\": [1.0, 1.0, 1.0, 1.0, 1.0, 1.0, 1.0, 1.0, 1.0, 1.0], \"type\": \"scatter\"}, {\"mode\": \"markers\", \"name\": \"Uncontrolled\", \"opacity\": 0.8, \"x\": [-1.4701543283397744, -2.1117603168124512, -1.6420616112364523, -0.934114522811014, 0.6550720020731591, 0.5189405415406646, 0.45015196854896333, 0.6557357945415431, 0.3744638203048687, 0.6348280247497026], \"y\": [1.0, 1.0, 1.0, 1.0, 1.0, 1.0, 1.0, 1.0, 1.0, 1.0], \"type\": \"scatter\"}]}, {\"data\": [{\"marker\": {\"color\": \"SkyBlue\", \"size\": 15}, \"mode\": \"markers\", \"name\": \"Controlled\", \"x\": [-0.4304438742493575, -0.23433483353508835, -0.2973491495408948, -0.13774229911943364, -0.3212080963541757, -0.239849592990555, -0.2305931534546065, -0.2864647226411411, -0.07792702774460397, -0.20901897647267875], \"y\": [1.0, 1.0, 1.0, 1.0, 1.0, 1.0, 1.0, 1.0, 1.0, 1.0], \"type\": \"scatter\"}, {\"mode\": \"markers\", \"name\": \"Uncontrolled\", \"opacity\": 0.8, \"x\": [-1.4751440390547579, -2.1087760533118045, -1.665727465090517, -0.9339920495996977, 0.6623911355128267, 0.5080095308159188, 0.4405653639857905, 0.6584892521403749, 0.36627693791563404, 0.6294436446122584], \"y\": [1.0, 1.0, 1.0, 1.0, 1.0, 1.0, 1.0, 1.0, 1.0, 1.0], \"type\": \"scatter\"}]}, {\"data\": [{\"marker\": {\"color\": \"SkyBlue\", \"size\": 15}, \"mode\": \"markers\", \"name\": \"Controlled\", \"x\": [-0.4294077701762441, -0.2422821492754274, -0.28471973235596437, -0.13508554479580911, -0.31136641398658516, -0.24111929452247463, -0.23755833798300138, -0.30891856839548254, -0.08496450069647281, -0.2042215924707849], \"y\": [1.0, 1.0, 1.0, 1.0, 1.0, 1.0, 1.0, 1.0, 1.0, 1.0], \"type\": \"scatter\"}, {\"mode\": \"markers\", \"name\": \"Uncontrolled\", \"opacity\": 0.8, \"x\": [-1.478532113703358, -2.1255329897711617, -1.6605597531654792, -0.9339680461644462, 0.6726839840992686, 0.5057545083049894, 0.43352640966302214, 0.6364479095345815, 0.3592058725841134, 0.633359494274868], \"y\": [1.0, 1.0, 1.0, 1.0, 1.0, 1.0, 1.0, 1.0, 1.0, 1.0], \"type\": \"scatter\"}]}, {\"data\": [{\"marker\": {\"color\": \"SkyBlue\", \"size\": 15}, \"mode\": \"markers\", \"name\": \"Controlled\", \"x\": [-0.4281170144247996, -0.2519694773257185, -0.273988611191695, -0.14450531469757794, -0.31513823774631927, -0.23062291680120395, -0.24232024988869896, -0.31536722168056514, -0.07583742599929041, -0.20148910886382568], \"y\": [1.0, 1.0, 1.0, 1.0, 1.0, 1.0, 1.0, 1.0, 1.0, 1.0], \"type\": \"scatter\"}, {\"mode\": \"markers\", \"name\": \"Uncontrolled\", \"opacity\": 0.8, \"x\": [-1.4816650027600875, -2.1442879160779165, -1.6569655548891828, -0.9461022690974666, 0.6695362419104142, 0.5153203003161295, 0.42852456845317477, 0.6297617074934634, 0.3681375676234089, 0.6353736346625604], \"y\": [1.0, 1.0, 1.0, 1.0, 1.0, 1.0, 1.0, 1.0, 1.0, 1.0], \"type\": \"scatter\"}]}, {\"data\": [{\"marker\": {\"color\": \"SkyBlue\", \"size\": 15}, \"mode\": \"markers\", \"name\": \"Controlled\", \"x\": [-0.42649640327321886, -0.2490101966469614, -0.28270464495201836, -0.12417630182001117, -0.3115938402876382, -0.2349070288706849, -0.25126173436288074, -0.3210301395866837, -0.07833549952978869, -0.21017515826420138], \"y\": [1.0, 1.0, 1.0, 1.0, 1.0, 1.0, 1.0, 1.0, 1.0, 1.0], \"type\": \"scatter\"}, {\"mode\": \"markers\", \"name\": \"Uncontrolled\", \"opacity\": 0.8, \"x\": [-1.4844962968083721, -2.1507370834460406, -1.672509336879702, -0.9287179399164122, 0.6736662487494044, 0.510411886092242, 0.4192293283181758, 0.6235595273685807, 0.36571501360121705, 0.6259673351847042], \"y\": [1.0, 1.0, 1.0, 1.0, 1.0, 1.0, 1.0, 1.0, 1.0, 1.0], \"type\": \"scatter\"}]}, {\"data\": [{\"marker\": {\"color\": \"SkyBlue\", \"size\": 15}, \"mode\": \"markers\", \"name\": \"Controlled\", \"x\": [-0.4315297984397778, -0.24191067687449128, -0.26839699277857865, -0.13955556484020237, -0.31407505119885676, -0.23694606732203022, -0.25497273678520205, -0.30402547352136305, -0.09288681740335669, -0.20128999148474552], \"y\": [1.0, 1.0, 1.0, 1.0, 1.0, 1.0, 1.0, 1.0, 1.0, 1.0], \"type\": \"scatter\"}, {\"mode\": \"markers\", \"name\": \"Uncontrolled\", \"opacity\": 0.8, \"x\": [-1.4939662862431524, -2.1529936084775416, -1.6653895840539614, -0.9465645711233959, 0.6717932638831404, 0.5076785464394521, 0.41485815913412555, 0.6399544843016177, 0.3513417794564318, 0.6338669239793707], \"y\": [1.0, 1.0, 1.0, 1.0, 1.0, 1.0, 1.0, 1.0, 1.0, 1.0], \"type\": \"scatter\"}]}, {\"data\": [{\"marker\": {\"color\": \"SkyBlue\", \"size\": 15}, \"mode\": \"markers\", \"name\": \"Controlled\", \"x\": [-0.43179116692439357, -0.24567661755524048, -0.27477750405906803, -0.1256510058933359, -0.33233345202579523, -0.23707293081503023, -0.25058390993808516, -0.30820629986671705, -0.10090102033768124, -0.2095354021822509], \"y\": [1.0, 1.0, 1.0, 1.0, 1.0, 1.0, 1.0, 1.0, 1.0, 1.0], \"type\": \"scatter\"}, {\"mode\": \"markers\", \"name\": \"Uncontrolled\", \"opacity\": 0.8, \"x\": [-1.4987670754201932, -2.1659452176144796, -1.6785754163384505, -0.935536456162753, 0.6541141829188939, 0.506631837814723, 0.41857975291417393, 0.6356275584752435, 0.3429887902586257, 0.624894182352629], \"y\": [1.0, 1.0, 1.0, 1.0, 1.0, 1.0, 1.0, 1.0, 1.0, 1.0], \"type\": \"scatter\"}]}, {\"data\": [{\"marker\": {\"color\": \"SkyBlue\", \"size\": 15}, \"mode\": \"markers\", \"name\": \"Controlled\", \"x\": [-0.4278115015111385, -0.2546782701348973, -0.2674494864220532, -0.13163872481597053, -0.32061449693705696, -0.20223786548055034, -0.2587181008514776, -0.30035623465188066, -0.10906591998010563, -0.2104698174638823], \"y\": [1.0, 1.0, 1.0, 1.0, 1.0, 1.0, 1.0, 1.0, 1.0, 1.0], \"type\": \"scatter\"}, {\"mode\": \"markers\", \"name\": \"Uncontrolled\", \"opacity\": 0.8, \"x\": [-1.4993222999107298, -2.1843403914612276, -1.6782572772758462, -0.9439216918403539, 0.666045247630849, 0.5405773224148337, 0.4099179847793023, 0.6433384636283987, 0.3343107110699812, 0.6229923321478268], \"y\": [1.0, 1.0, 1.0, 1.0, 1.0, 1.0, 1.0, 1.0, 1.0, 1.0], \"type\": \"scatter\"}]}, {\"data\": [{\"marker\": {\"color\": \"SkyBlue\", \"size\": 15}, \"mode\": \"markers\", \"name\": \"Controlled\", \"x\": [-0.42366684135261895, -0.24640465451950622, -0.272534935386318, -0.14199634615621787, -0.3270035506464183, -0.19621775496358965, -0.24857254337328014, -0.3057734028832822, -0.11047155177206551, -0.21509263183133162], \"y\": [1.0, 1.0, 1.0, 1.0, 1.0, 1.0, 1.0, 1.0, 1.0, 1.0], \"type\": \"scatter\"}, {\"mode\": \"markers\", \"name\": \"Uncontrolled\", \"opacity\": 0.8, \"x\": [-1.4997192347119246, -2.18587589849578, -1.6902906986166348, -0.9569171336936102, 0.6601434916653695, 0.5467287564570417, 0.4194085957136403, 0.6378353114977339, 0.3320613442710226, 0.6173014316079454], \"y\": [1.0, 1.0, 1.0, 1.0, 1.0, 1.0, 1.0, 1.0, 1.0, 1.0], \"type\": \"scatter\"}]}, {\"data\": [{\"marker\": {\"color\": \"SkyBlue\", \"size\": 15}, \"mode\": \"markers\", \"name\": \"Controlled\", \"x\": [-0.4384531733718673, -0.22582118365549653, -0.2657813621184667, -0.12673054795531008, -0.31702872277942756, -0.20520793514016522, -0.2557121459803405, -0.2973041129910033, -0.1139305183207304, -0.23510069977433862], \"y\": [1.0, 1.0, 1.0, 1.0, 1.0, 1.0, 1.0, 1.0, 1.0, 1.0], \"type\": \"scatter\"}, {\"mode\": \"markers\", \"name\": \"Uncontrolled\", \"opacity\": 0.8, \"x\": [-1.5189553673279552, -2.174868418639886, -1.6906306817804897, -0.9445666722266247, 0.6705547187791581, 0.5380520800923929, 0.4118966970020163, 0.6460167707052977, 0.3276838547653314, 0.5961931394332968], \"y\": [1.0, 1.0, 1.0, 1.0, 1.0, 1.0, 1.0, 1.0, 1.0, 1.0], \"type\": \"scatter\"}]}, {\"data\": [{\"marker\": {\"color\": \"SkyBlue\", \"size\": 15}, \"mode\": \"markers\", \"name\": \"Controlled\", \"x\": [-0.42994493551417634, -0.22312830234378875, -0.28333278207665924, -0.11988036235688197, -0.30533409696925534, -0.22308220638814394, -0.2660909973007215, -0.2823342469240087, -0.11141748153066533, -0.22143474525392393], \"y\": [1.0, 1.0, 1.0, 1.0, 1.0, 1.0, 1.0, 1.0, 1.0, 1.0], \"type\": \"scatter\"}, {\"mode\": \"markers\", \"name\": \"Uncontrolled\", \"opacity\": 0.8, \"x\": [-1.5152055551942885, -2.181091762212485, -1.7152151433574936, -0.9402746508670001, 0.6828283214390684, 0.5202064881948748, 0.4009384472737695, 0.6610420764083371, 0.3292969151071345, 0.6082675117652155], \"y\": [1.0, 1.0, 1.0, 1.0, 1.0, 1.0, 1.0, 1.0, 1.0, 1.0], \"type\": \"scatter\"}]}]);\n",
       "                        }).then(function(){\n",
       "                            \n",
       "var gd = document.getElementById('657b14f6-933f-4152-a504-63b8b8c7a320');\n",
       "var x = new MutationObserver(function (mutations, observer) {{\n",
       "        var display = window.getComputedStyle(gd).display;\n",
       "        if (!display || display === 'none') {{\n",
       "            console.log([gd, 'removed!']);\n",
       "            Plotly.purge(gd);\n",
       "            observer.disconnect();\n",
       "        }}\n",
       "}});\n",
       "\n",
       "// Listen for the removal of the full notebook cells\n",
       "var notebookContainer = gd.closest('#notebook-container');\n",
       "if (notebookContainer) {{\n",
       "    x.observe(notebookContainer, {childList: true});\n",
       "}}\n",
       "\n",
       "// Listen for the clearing of the current output cell\n",
       "var outputEl = gd.closest('.output');\n",
       "if (outputEl) {{\n",
       "    x.observe(outputEl, {childList: true});\n",
       "}}\n",
       "\n",
       "                        })                };                });            </script>        </div>"
      ]
     },
     "metadata": {},
     "output_type": "display_data"
    }
   ],
   "source": [
    "fig = go.Figure(\n",
    "    data=[go.Scatter(x=c_xs[:, 0].flatten(), y=np.ones(eq.var_dim-1),\n",
    "                         mode='markers',\n",
    "                         name=\"Controlled\", marker=dict(color='SkyBlue', size=15)),\n",
    "         go.Scatter(x=uc_xs[:, 0].flatten(), y=np.ones(eq.var_dim-1),\n",
    "                         mode='markers',\n",
    "                         name=\"Uncontrolled\", opacity=0.8)],\n",
    "    layout=go.Layout(\n",
    "        xaxis=dict(range=[-1.6, 1.6], autorange=False),\n",
    "        yaxis=dict(range=[0, 2], autorange=False),\n",
    "        title=\"Opinions over time\",\n",
    "        updatemenus=[dict(\n",
    "            type=\"buttons\",\n",
    "            buttons=[dict(label=\"Play\",\n",
    "                          method=\"animate\",\n",
    "                          args=[None, {\"frame\": {\"duration\": 25, \n",
    "                                                                        \"redraw\": False},\n",
    "                                                              \"fromcurrent\": True, \n",
    "                                                              \"transition\": {\"duration\": 0.1}}])])]\n",
    "    ),\n",
    "    frames=[go.Frame(data=[go.Scatter(x=c_xs[:, i].flatten(), y=np.ones(eq.var_dim-1),\n",
    "                         mode='markers',\n",
    "                         name=\"Controlled\", marker=dict(color='SkyBlue', size=15)),\n",
    "                          go.Scatter(x=uc_xs[:, i].flatten(), y=np.ones(eq.var_dim-1),\n",
    "                         mode='markers',\n",
    "                         name=\"Uncontrolled\", opacity=0.8)]) for i in range(c_xs.shape[1])]\n",
    ")\n",
    "fig.update_layout(transition = {'duration': 0.1})\n",
    "fig.show()"
   ]
  }
 ],
 "metadata": {
  "kernelspec": {
   "display_name": "Python 3",
   "language": "python",
   "name": "python3"
  },
  "language_info": {
   "codemirror_mode": {
    "name": "ipython",
    "version": 3
   },
   "file_extension": ".py",
   "mimetype": "text/x-python",
   "name": "python",
   "nbconvert_exporter": "python",
   "pygments_lexer": "ipython3",
   "version": "3.8.5"
  }
 },
 "nbformat": 4,
 "nbformat_minor": 5
}
