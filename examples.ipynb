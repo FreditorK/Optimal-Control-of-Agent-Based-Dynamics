{
 "cells": [
  {
   "cell_type": "markdown",
   "id": "young-respondent",
   "metadata": {},
   "source": [
    "# Examples\n",
    "#### Frederik Kelbel, Imperial College London"
   ]
  },
  {
   "cell_type": "markdown",
   "id": "whole-belize",
   "metadata": {},
   "source": [
    "## Dependencies"
   ]
  },
  {
   "cell_type": "code",
   "execution_count": 1,
   "id": "regulation-chain",
   "metadata": {},
   "outputs": [],
   "source": [
    "from operators import div, Δ\n",
    "from DGM import DGMSolver\n",
    "import argparse\n",
    "import matplotlib.pyplot as plt\n",
    "import numpy as np"
   ]
  },
  {
   "cell_type": "markdown",
   "id": "otherwise-offer",
   "metadata": {},
   "source": [
    "## Plotting"
   ]
  },
  {
   "cell_type": "code",
   "execution_count": 2,
   "id": "interim-steal",
   "metadata": {},
   "outputs": [],
   "source": [
    "def plot_losses(losses, avg_over=10):\n",
    "    plt.plot(np.convolve(losses, np.ones(avg_over), 'valid') / avg_over)\n",
    "    plt.xlabel(\"Iterations\")\n",
    "    plt.ylabel(\"Loss\")\n",
    "    plt.show()"
   ]
  },
  {
   "cell_type": "markdown",
   "id": "ancient-flooring",
   "metadata": {},
   "source": [
    "## Model Configurations"
   ]
  },
  {
   "cell_type": "code",
   "execution_count": 3,
   "id": "lasting-hungarian",
   "metadata": {},
   "outputs": [],
   "source": [
    "MODEL_CONFIG = {\n",
    "    \"batch_size\": 128, # minimum batch size is two because of split\n",
    "    \"hidden_dim\": 256,\n",
    "    \"learning_rate\": 1e-6\n",
    "}"
   ]
  },
  {
   "cell_type": "markdown",
   "id": "infectious-poetry",
   "metadata": {},
   "source": [
    "## Partial Differential Equations"
   ]
  },
  {
   "cell_type": "markdown",
   "id": "extraordinary-freeware",
   "metadata": {},
   "source": [
    "### Declarations"
   ]
  },
  {
   "cell_type": "code",
   "execution_count": 4,
   "id": "matched-movement",
   "metadata": {},
   "outputs": [],
   "source": [
    "INVISCID_BURGERS_CONFIG = {\n",
    "    \"x_dim\": 1,\n",
    "    \"equation\": lambda u, x, t: div(u, t) + u * div(u, x),\n",
    "    \"boundary_cond\": lambda u, x, t: u*0,\n",
    "    \"boundary_func\": lambda x: x,\n",
    "    \"init_datum\": lambda u, x: x - u\n",
    "}\n",
    "VISCOUS_BURGERS_CONFIG = {\n",
    "    \"x_dim\": 1,\n",
    "    \"equation\": lambda u, x, t: div(u, t) + u * div(u, x) - 0.5 * Δ(u, x),\n",
    "    \"boundary_cond\": lambda u, x, t: u,\n",
    "    \"boundary_func\": lambda x: 1.0 if x > 0.0 else -1.0,\n",
    "    \"init_datum\": lambda u, x: x - u\n",
    "}"
   ]
  },
  {
   "cell_type": "markdown",
   "id": "informed-level",
   "metadata": {},
   "source": [
    "### Solutions for Reference"
   ]
  },
  {
   "cell_type": "code",
   "execution_count": 5,
   "id": "iraqi-response",
   "metadata": {},
   "outputs": [],
   "source": [
    "BURGERS_CONFIG_sol = lambda x, t: x / (1 + t)"
   ]
  },
  {
   "cell_type": "markdown",
   "id": "senior-negotiation",
   "metadata": {},
   "source": [
    "## Experiments"
   ]
  },
  {
   "cell_type": "markdown",
   "id": "quick-protein",
   "metadata": {},
   "source": [
    "### 1. Solving the Inviscid Burgers' Equation:"
   ]
  },
  {
   "cell_type": "code",
   "execution_count": 6,
   "id": "published-pricing",
   "metadata": {},
   "outputs": [
    {
     "name": "stderr",
     "output_type": "stream",
     "text": [
      "100%|██████████| 1000/1000 [00:03<00:00, 303.82 it/s]\n"
     ]
    },
    {
     "data": {
      "image/png": "[encoded data removed]",
      "text/plain": [
       "<Figure size 432x288 with 1 Axes>"
      ]
     },
     "metadata": {
      "needs_background": "light"
     },
     "output_type": "display_data"
    }
   ],
   "source": [
    "eq_1 = INVISCID_BURGERS_CONFIG\n",
    "model_1 = MODEL_CONFIG\n",
    "solver_1 = DGMSolver(model_1, eq_1)\n",
    "losses_1 = list(solver_1.train(1000))\n",
    "plot_losses(losses_1)"
   ]
  },
  {
   "cell_type": "markdown",
   "id": "eligible-stick",
   "metadata": {},
   "source": [
    "### 2. Solving the Viscous Burgers' Equation:"
   ]
  },
  {
   "cell_type": "code",
   "execution_count": 7,
   "id": "dutch-spanking",
   "metadata": {},
   "outputs": [
    {
     "name": "stderr",
     "output_type": "stream",
     "text": [
      "100%|██████████| 1000/1000 [00:04<00:00, 236.29 it/s]\n"
     ]
    },
    {
     "data": {
      "image/png": "[encoded data removed]",
      "text/plain": [
       "<Figure size 432x288 with 1 Axes>"
      ]
     },
     "metadata": {
      "needs_background": "light"
     },
     "output_type": "display_data"
    }
   ],
   "source": [
    "eq_2 = VISCOUS_BURGERS_CONFIG\n",
    "model_2 = MODEL_CONFIG\n",
    "solver_2 = DGMSolver(model_2, eq_2)\n",
    "losses_2 = list(solver_2.train(1000))\n",
    "plot_losses(losses_2)"
   ]
  }
 ],
 "metadata": {
  "kernelspec": {
   "display_name": "Python 3",
   "language": "python",
   "name": "python3"
  },
  "language_info": {
   "codemirror_mode": {
    "name": "ipython",
    "version": 3
   },
   "file_extension": ".py",
   "mimetype": "text/x-python",
   "name": "python",
   "nbconvert_exporter": "python",
   "pygments_lexer": "ipython3",
   "version": "3.8.5"
  }
 },
 "nbformat": 4,
 "nbformat_minor": 5
}
