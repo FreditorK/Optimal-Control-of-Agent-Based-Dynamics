{
 "cells": [
  {
   "cell_type": "code",
   "execution_count": 1,
   "id": "subtle-rating",
   "metadata": {},
   "outputs": [],
   "source": [
    "import torch\n",
    "import torch.nn as nn\n",
    "import numpy as np\n",
    "from torch.autograd import grad\n",
    "from torch.autograd.functional import jacobian\n",
    "from operators import Δ, div, D, mdotb, bdotm, mdotm, bdotb\n",
    "from torch.nn.functional import relu, max_pool2d, avg_pool2d, dropout, dropout2d, interpolate"
   ]
  },
  {
   "cell_type": "code",
   "execution_count": 2,
   "id": "dramatic-twins",
   "metadata": {},
   "outputs": [],
   "source": [
    "class Complex_ReLU(nn.Module):\n",
    "    def forward(self, input):\n",
    "        return relu(input.real).type(torch.complex64)+1j*relu(input.imag).type(torch.complex64)"
   ]
  },
  {
   "cell_type": "code",
   "execution_count": null,
   "id": "another-breeding",
   "metadata": {},
   "outputs": [],
   "source": [
    "complex_net = nn.Sequential(\n",
    "            nn.Linear(1, 4).to(torch.cfloat),\n",
    "            Complex_ReLU(),\n",
    "            nn.Linear(4, 1).to(torch.cfloat)\n",
    "        )\n",
    "tensor = torch.randn(4, 2).requires_grad_()\n",
    "tensor\n",
    "torch.view_as_complex(tensor).unsqueeze(1)"
   ]
  },
  {
   "cell_type": "code",
   "execution_count": null,
   "id": "illegal-senator",
   "metadata": {},
   "outputs": [],
   "source": [
    "u = complex_net(torch.view_as_complex(tensor).unsqueeze(1))\n",
    "u = torch.exp(torch.abs(1j*u))"
   ]
  },
  {
   "cell_type": "code",
   "execution_count": null,
   "id": "chubby-particular",
   "metadata": {},
   "outputs": [],
   "source": [
    "div(u, tensor)"
   ]
  },
  {
   "cell_type": "code",
   "execution_count": null,
   "id": "moderate-intensity",
   "metadata": {},
   "outputs": [],
   "source": [
    "var = torch.tensor([[1.0, 1.0],\n",
    "                   [4.0, 3.0]], requires_grad=True)\n",
    "t = torch.tensor([[2.0], \n",
    "                  [3.0]], requires_grad=True)\n",
    "\n",
    "var_2 = torch.tensor([[1.0],\n",
    "                   [3.0]], requires_grad=True)\n",
    "t_2 = torch.tensor([[1.0], \n",
    "                  [2.0]], requires_grad=True)\n",
    "def u(x, t):\n",
    "    xt = torch.cat((x, t), dim=1)\n",
    "    return (1/6)*torch.pow(xt[:, 0].unsqueeze(1), 3) + xt[:,-1].unsqueeze(1)"
   ]
  },
  {
   "cell_type": "code",
   "execution_count": null,
   "id": "knowing-biology",
   "metadata": {},
   "outputs": [],
   "source": []
  },
  {
   "cell_type": "code",
   "execution_count": null,
   "id": "remarkable-angola",
   "metadata": {},
   "outputs": [],
   "source": [
    "spatial_net = nn.Sequential(\n",
    "            nn.Linear(2, 4),\n",
    "            nn.ELU(),\n",
    "            nn.Linear(4, 4),\n",
    "            nn.ELU(),\n",
    "            nn.Linear(4, 1)\n",
    "        )"
   ]
  },
  {
   "cell_type": "code",
   "execution_count": null,
   "id": "humanitarian-ministry",
   "metadata": {},
   "outputs": [],
   "source": [
    "out = u(var, t)\n",
    "out_2 = u(var_2, t_2)"
   ]
  },
  {
   "cell_type": "code",
   "execution_count": null,
   "id": "employed-theory",
   "metadata": {},
   "outputs": [],
   "source": [
    "torch.sum(jacobian(spatial_net, var), dim=0)"
   ]
  },
  {
   "cell_type": "code",
   "execution_count": null,
   "id": "remarkable-tutorial",
   "metadata": {},
   "outputs": [],
   "source": [
    "out = spatial_net(var)\n",
    "div(out, var)"
   ]
  },
  {
   "cell_type": "code",
   "execution_count": null,
   "id": "affected-benefit",
   "metadata": {},
   "outputs": [],
   "source": [
    "print(div(out.unsqueeze(1), t))\n",
    "print(div(out_2.unsqueeze(1), t_2))"
   ]
  },
  {
   "cell_type": "code",
   "execution_count": null,
   "id": "continued-vault",
   "metadata": {},
   "outputs": [],
   "source": [
    "print(div(out.unsqueeze(1), var))\n",
    "print(div(out_2.unsqueeze(1), var_2))"
   ]
  },
  {
   "cell_type": "code",
   "execution_count": null,
   "id": "deadly-combination",
   "metadata": {},
   "outputs": [],
   "source": [
    "print(Δ(out.unsqueeze(1), var))\n",
    "print(Δ(out_2.unsqueeze(1), var_2))"
   ]
  },
  {
   "cell_type": "code",
   "execution_count": null,
   "id": "korean-workstation",
   "metadata": {},
   "outputs": [],
   "source": [
    "loss = torch.square(div(out, t) - Δ(out, var)).mean()"
   ]
  },
  {
   "cell_type": "code",
   "execution_count": null,
   "id": "dependent-oxide",
   "metadata": {},
   "outputs": [],
   "source": [
    "loss.backward()"
   ]
  },
  {
   "cell_type": "code",
   "execution_count": 3,
   "id": "starting-sunday",
   "metadata": {},
   "outputs": [],
   "source": [
    "var_1 = torch.tensor([[1.0],\n",
    "                      [4.0]], requires_grad=True)\n",
    "var_2 = torch.tensor([[2.0],\n",
    "                      [8.0]], requires_grad=True)\n",
    "var = [var_1, var_2]\n",
    "C = torch.tensor([[2.0, 4.0],\n",
    "                  [1.0, 3.0]], requires_grad=True)\n",
    "def u(x, t):\n",
    "    xt = torch.cat((x, t), dim=1)\n",
    "    return (1/6)*torch.pow(xt[:, 0].unsqueeze(1), 3) + torch.pow(xt[:,-1].unsqueeze(1), 2)"
   ]
  },
  {
   "cell_type": "code",
   "execution_count": 4,
   "id": "swedish-wheel",
   "metadata": {},
   "outputs": [
    {
     "name": "stdout",
     "output_type": "stream",
     "text": [
      "tensor([[ 4.1667],\n",
      "        [74.6667]], grad_fn=<AddBackward0>)\n"
     ]
    }
   ],
   "source": [
    "us = u(var_1, var_2)\n",
    "print(us)"
   ]
  },
  {
   "cell_type": "code",
   "execution_count": 10,
   "id": "hollow-traveler",
   "metadata": {},
   "outputs": [
    {
     "data": {
      "text/plain": [
       "tensor([[ 7.5000],\n",
       "        [30.0000]], grad_fn=<AddBackward0>)"
      ]
     },
     "execution_count": 10,
     "metadata": {},
     "output_type": "execute_result"
    }
   ],
   "source": [
    "div(us, var_1) + div(us, var_2) + div(div(us, var_1), var_1) + div(div(us, var_2), var_2)"
   ]
  },
  {
   "cell_type": "code",
   "execution_count": 15,
   "id": "surprising-impression",
   "metadata": {},
   "outputs": [
    {
     "data": {
      "text/plain": [
       "tensor([[  0.7500,  20.0000],\n",
       "        [ 72.0000, 272.0000]], grad_fn=<AddBackward0>)"
      ]
     },
     "execution_count": 15,
     "metadata": {},
     "output_type": "execute_result"
    }
   ],
   "source": [
    "D(us, var) + (D(us, var))**2"
   ]
  },
  {
   "cell_type": "code",
   "execution_count": null,
   "id": "standing-lucas",
   "metadata": {},
   "outputs": [],
   "source": [
    "class Infix:\n",
    "    def __init__(self, function):\n",
    "        self.function = function\n",
    "    def __ror__(self, other):\n",
    "        return Infix(lambda x, self=self, other=other: self.function(other, x))\n",
    "    def __or__(self, other):\n",
    "        return self.function(other)\n",
    "    def __rlshift__(self, other):\n",
    "        return Infix(lambda x, self=self, other=other: self.function(other, x))\n",
    "    def __rshift__(self, other):\n",
    "        return self.function(other)\n",
    "    def __call__(self, value1, value2):\n",
    "        return self.function(value1, value2)"
   ]
  },
  {
   "cell_type": "code",
   "execution_count": null,
   "id": "athletic-season",
   "metadata": {},
   "outputs": [],
   "source": [
    "def m_func(x, y):\n",
    "    if isinstance(x, list):\n",
    "        x = torch.cat(x, dim=-1)   \n",
    "        return torch.einsum(\"bi, ij -> bj\", x, y)\n",
    "    y = torch.cat(y, dim=-1)\n",
    "    return torch.einsum(\"ij, bj -> bi\", x, y)\n",
    "        \n",
    "def v_func(x, y):\n",
    "    if isinstance(x, list):\n",
    "        x = torch.cat(x, dim=-1)\n",
    "    if isinstance(y, list):\n",
    "        y = torch.cat(y, dim=-1)\n",
    "    \n",
    "    return torch.einsum(\"bi, bi -> b\", x, y).unsqueeze(1)\n",
    "    \n",
    "        "
   ]
  },
  {
   "cell_type": "code",
   "execution_count": 64,
   "id": "friendly-listening",
   "metadata": {},
   "outputs": [],
   "source": [
    "var_1 = torch.tensor([[1.0],\n",
    "                     [2.0]], requires_grad=True)\n",
    "var_2 = torch.tensor([[1.0],\n",
    "                     [3.0]], requires_grad=True)\n",
    "var_3 = torch.tensor([[2.0],\n",
    "                     [4.0]], requires_grad=True)\n",
    "var = [var_1, var_2, var_3]\n",
    "C = torch.tensor([[2.0, 4.0],\n",
    "                  [1.0, 3.0]], requires_grad=True)\n",
    "def us(*v):\n",
    "    return v[1]**3*var[2] + v[1]**3*var[0]**3 +v[2]**3*var[0]**2"
   ]
  },
  {
   "cell_type": "code",
   "execution_count": 65,
   "id": "pediatric-tract",
   "metadata": {},
   "outputs": [],
   "source": [
    "u = us(*var)\n",
    "u_grad = grad(outputs=u, inputs=var, create_graph=True, grad_outputs=torch.ones_like(u))\n",
    "u_grad\n",
    "u_grad = torch.cat(u_grad, dim=-1)"
   ]
  },
  {
   "cell_type": "markdown",
   "id": "level-aging",
   "metadata": {},
   "source": [
    "# Computes Hessian (Careful)"
   ]
  },
  {
   "cell_type": "code",
   "execution_count": 45,
   "id": "aboriginal-presence",
   "metadata": {},
   "outputs": [
    {
     "name": "stdout",
     "output_type": "stream",
     "text": [
      "tensor([[19.,  9., 13.],\n",
      "        [19.,  9., 13.]], grad_fn=<CatBackward>)\n",
      "(tensor([[22.],\n",
      "        [ 0.]]), tensor([[9.],\n",
      "        [0.]]), tensor([[24.],\n",
      "        [ 0.]]))\n",
      "(tensor([[9.],\n",
      "        [0.]]), tensor([[18.],\n",
      "        [ 0.]]), tensor([[3.],\n",
      "        [0.]]))\n",
      "(tensor([[24.],\n",
      "        [ 0.]]), tensor([[3.],\n",
      "        [0.]]), tensor([[12.],\n",
      "        [ 0.]]))\n",
      "(tensor([[ 0.],\n",
      "        [22.]]), tensor([[0.],\n",
      "        [9.]]), tensor([[ 0.],\n",
      "        [24.]]))\n",
      "(tensor([[0.],\n",
      "        [9.]]), tensor([[ 0.],\n",
      "        [18.]]), tensor([[0.],\n",
      "        [3.]]))\n",
      "(tensor([[ 0.],\n",
      "        [24.]]), tensor([[0.],\n",
      "        [3.]]), tensor([[ 0.],\n",
      "        [12.]]))\n"
     ]
    }
   ],
   "source": [
    "print(u_grad)\n",
    "for i in range(u_grad.size(0)):\n",
    "    for j in range(u_grad.size(1)):\n",
    "        print(torch.autograd.grad(u_grad[i][j], var, retain_graph=True))"
   ]
  },
  {
   "cell_type": "code",
   "execution_count": 46,
   "id": "downtown-august",
   "metadata": {},
   "outputs": [
    {
     "name": "stdout",
     "output_type": "stream",
     "text": [
      "(tensor([[22.],\n",
      "        [22.]]), tensor([[9.],\n",
      "        [9.]]), tensor([[24.],\n",
      "        [24.]]))\n",
      "(tensor([[9.],\n",
      "        [9.]]), tensor([[18.],\n",
      "        [18.]]), tensor([[3.],\n",
      "        [3.]]))\n",
      "(tensor([[24.],\n",
      "        [24.]]), tensor([[3.],\n",
      "        [3.]]), tensor([[12.],\n",
      "        [12.]]))\n"
     ]
    }
   ],
   "source": [
    "for i in range(u_grad.size(1)):\n",
    "    print(grad(u_grad[:, i], var, retain_graph=True, grad_outputs=torch.ones_like(u_grad[:, i])))"
   ]
  },
  {
   "cell_type": "code",
   "execution_count": 42,
   "id": "excess-major",
   "metadata": {},
   "outputs": [
    {
     "name": "stdout",
     "output_type": "stream",
     "text": [
      "(tensor([[22.]]), tensor([[9.]]), tensor([[24.]]))\n"
     ]
    }
   ],
   "source": [
    "print(grad(u_grad[:, 0], var, retain_graph=True, grad_outputs=torch.ones_like(u_grad[:, 0])))"
   ]
  },
  {
   "cell_type": "code",
   "execution_count": 24,
   "id": "minus-hypothetical",
   "metadata": {},
   "outputs": [
    {
     "data": {
      "text/plain": [
       "tensor([[19.,  9., 13., 19.,  9., 13., 19.,  9., 13.]],\n",
       "       grad_fn=<RepeatBackward>)"
      ]
     },
     "execution_count": 24,
     "metadata": {},
     "output_type": "execute_result"
    }
   ],
   "source": [
    "u_grad.repeat(1, 3)"
   ]
  },
  {
   "cell_type": "code",
   "execution_count": null,
   "id": "consecutive-basement",
   "metadata": {},
   "outputs": [],
   "source": [
    "(C |mdotb| torch.cat(var[:2], dim=-1))"
   ]
  },
  {
   "cell_type": "code",
   "execution_count": null,
   "id": "clinical-terror",
   "metadata": {},
   "outputs": [],
   "source": [
    "torch.cat((var_1, var_2, var_1), dim=-1)"
   ]
  },
  {
   "cell_type": "code",
   "execution_count": 32,
   "id": "north-jamaica",
   "metadata": {},
   "outputs": [
    {
     "data": {
      "text/plain": [
       "tensor([[19.],\n",
       "        [ 9.],\n",
       "        [13.]], grad_fn=<ViewBackward>)"
      ]
     },
     "execution_count": 32,
     "metadata": {},
     "output_type": "execute_result"
    }
   ],
   "source": [
    "u_grad.reshape(-1, 1)\n"
   ]
  },
  {
   "cell_type": "code",
   "execution_count": 68,
   "id": "understanding-gambling",
   "metadata": {},
   "outputs": [],
   "source": [
    "def hessian(u, var):\n",
    "    hessian_rows = []\n",
    "    u_grads = list(grad(outputs=u, inputs=var, create_graph=True, grad_outputs=torch.ones_like(u)))\n",
    "    for u_grad in u_grads:\n",
    "        hessian_rows.append(torch.cat(grad(u_grad, var, create_graph=True, grad_outputs=torch.ones_like(u_grad)), dim=-1).unsqueeze(-1))\n",
    "    return torch.cat(hessian_rows, dim=-1)"
   ]
  },
  {
   "cell_type": "code",
   "execution_count": 69,
   "id": "mounted-history",
   "metadata": {},
   "outputs": [
    {
     "data": {
      "text/plain": [
       "tensor([[[ 22.,   9.,  24.],\n",
       "         [  9.,  18.,   3.],\n",
       "         [ 24.,   3.,  12.]],\n",
       "\n",
       "        [[452., 324., 192.],\n",
       "         [324., 216.,  27.],\n",
       "         [192.,  27.,  96.]]], grad_fn=<CatBackward>)"
      ]
     },
     "execution_count": 69,
     "metadata": {},
     "output_type": "execute_result"
    }
   ],
   "source": [
    "hessian(u, var)"
   ]
  },
  {
   "cell_type": "code",
   "execution_count": null,
   "id": "positive-union",
   "metadata": {},
   "outputs": [],
   "source": []
  }
 ],
 "metadata": {
  "kernelspec": {
   "display_name": "Python 3",
   "language": "python",
   "name": "python3"
  },
  "language_info": {
   "codemirror_mode": {
    "name": "ipython",
    "version": 3
   },
   "file_extension": ".py",
   "mimetype": "text/x-python",
   "name": "python",
   "nbconvert_exporter": "python",
   "pygments_lexer": "ipython3",
   "version": "3.8.5"
  }
 },
 "nbformat": 4,
 "nbformat_minor": 5
}
