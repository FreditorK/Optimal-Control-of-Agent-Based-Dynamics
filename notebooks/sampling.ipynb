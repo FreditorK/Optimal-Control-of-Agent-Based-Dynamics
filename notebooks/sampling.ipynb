{
 "cells": [
  {
   "cell_type": "code",
   "execution_count": 1,
   "id": "black-census",
   "metadata": {},
   "outputs": [],
   "source": [
    "import torch\n",
    "import plotly.graph_objects as go\n",
    "import numpy as np\n",
    "from operators import div, Δ, D, mdotb, bdotm, mdotm, bdotb, m, p, H, cat\n",
    "from DGM import DGMPIASolver, DeepPDESolver\n",
    "from pdes import HBJ, PDE\n",
    "from plotly.subplots import make_subplots\n",
    "from configs import CONFIG_HBJS as MODEL_CONFIG\n",
    "from FBSDEs import FBSDESolver\n",
    "from pdes import FBSDE\n",
    "from sampling import PATH_SPACES\n",
    "import os\n",
    "import torch.distributions as D\n",
    "from torch.quasirandom import SobolEngine"
   ]
  },
  {
   "cell_type": "code",
   "execution_count": 4,
   "id": "sapphire-version",
   "metadata": {},
   "outputs": [
    {
     "ename": "TypeError",
     "evalue": "uniform_(): argument 'from' (position 1) must be float, not Tensor",
     "output_type": "error",
     "traceback": [
      "\u001b[0;31m---------------------------------------------------------------------------\u001b[0m",
      "\u001b[0;31mTypeError\u001b[0m                                 Traceback (most recent call last)",
      "\u001b[0;32m/tmp/ipykernel_6734/550665236.py\u001b[0m in \u001b[0;36m<module>\u001b[0;34m\u001b[0m\n\u001b[1;32m      1\u001b[0m \u001b[0mrates\u001b[0m \u001b[0;34m=\u001b[0m \u001b[0;36m1\u001b[0m\u001b[0;34m\u001b[0m\u001b[0;34m\u001b[0m\u001b[0m\n\u001b[1;32m      2\u001b[0m \u001b[0mexp\u001b[0m \u001b[0;34m=\u001b[0m \u001b[0mtorch\u001b[0m\u001b[0;34m.\u001b[0m\u001b[0mpoisson\u001b[0m\u001b[0;34m(\u001b[0m\u001b[0mtorch\u001b[0m\u001b[0;34m.\u001b[0m\u001b[0mones\u001b[0m\u001b[0;34m(\u001b[0m\u001b[0;36m10\u001b[0m\u001b[0;34m,\u001b[0m \u001b[0;36m5\u001b[0m\u001b[0;34m)\u001b[0m\u001b[0;34m)\u001b[0m\u001b[0;34m\u001b[0m\u001b[0;34m\u001b[0m\u001b[0m\n\u001b[0;32m----> 3\u001b[0;31m \u001b[0mtorch\u001b[0m\u001b[0;34m.\u001b[0m\u001b[0mzeros\u001b[0m\u001b[0;34m(\u001b[0m\u001b[0;34m(\u001b[0m\u001b[0;36m5\u001b[0m\u001b[0;34m,\u001b[0m \u001b[0;36m1\u001b[0m\u001b[0;34m)\u001b[0m\u001b[0;34m)\u001b[0m\u001b[0;34m.\u001b[0m\u001b[0muniform_\u001b[0m\u001b[0;34m(\u001b[0m\u001b[0;34m-\u001b[0m\u001b[0mtorch\u001b[0m\u001b[0;34m.\u001b[0m\u001b[0mrand\u001b[0m\u001b[0;34m(\u001b[0m\u001b[0;34m(\u001b[0m\u001b[0;36m5\u001b[0m\u001b[0;34m,\u001b[0m \u001b[0;36m1\u001b[0m\u001b[0;34m)\u001b[0m\u001b[0;34m)\u001b[0m\u001b[0;34m,\u001b[0m \u001b[0mtorch\u001b[0m\u001b[0;34m.\u001b[0m\u001b[0mrand\u001b[0m\u001b[0;34m(\u001b[0m\u001b[0;34m(\u001b[0m\u001b[0;36m5\u001b[0m\u001b[0;34m,\u001b[0m \u001b[0;36m1\u001b[0m\u001b[0;34m)\u001b[0m\u001b[0;34m)\u001b[0m\u001b[0;34m)\u001b[0m\u001b[0;34m\u001b[0m\u001b[0;34m\u001b[0m\u001b[0m\n\u001b[0m",
      "\u001b[0;31mTypeError\u001b[0m: uniform_(): argument 'from' (position 1) must be float, not Tensor"
     ]
    }
   ],
   "source": [
    "rates = 1\n",
    "exp = torch.poisson(torch.ones(10, 5))\n",
    "torch.zeros((5, 1)).uniform_(-torch.rand((5, 1)), torch.rand((5, 1)))"
   ]
  },
  {
   "cell_type": "code",
   "execution_count": null,
   "id": "young-leone",
   "metadata": {},
   "outputs": [],
   "source": [
    "batch_size = 32\n",
    "var_dim = 100\n",
    "def sampling(var, domain=(-1, 1)):\n",
    "    rates = 0.4\n",
    "    exp = D.exponential.Exponential(rates)\n",
    "    #means_clusters = torch.clamp(torch.round(exp.sample((var[-1].shape[0], var_dim))), min=0, max=var_dim-1).long()\n",
    "    means_clusters = torch.randint(1, var_dim, size=(var[-1].shape[0], var_dim))\n",
    "    bias = ((torch.rand((var[-1].shape[0], 1)))-0.5)*0.4\n",
    "    means = (torch.rand((var[-1].shape[0], var_dim))-0.5)*1.6 + bias\n",
    "    samples = []\n",
    "    for i in range(len(var)):\n",
    "        m = means.gather(-1, means_clusters[:, None, i])\n",
    "        b = torch.min(torch.abs(m-domain[0]), torch.abs(m-domain[1]))\n",
    "        c = torch.rand((var[-1].shape[0], 1))\n",
    "        samples.append((var[i]-0.5)*torch.min(c, b) + m)\n",
    "        # need gap between\n",
    "    return samples"
   ]
  },
  {
   "cell_type": "code",
   "execution_count": null,
   "id": "british-colon",
   "metadata": {},
   "outputs": [],
   "source": [
    "samples = [torch.zeros(size=(batch_size, 1)).uniform_() for _ in range(var_dim)]\n",
    "samples = torch.cat(sampling(samples), dim=-1).numpy()"
   ]
  },
  {
   "cell_type": "code",
   "execution_count": null,
   "id": "affiliated-distribution",
   "metadata": {},
   "outputs": [],
   "source": [
    "fig = make_subplots(rows=1, cols=1)\n",
    "for i in range(samples.shape[0]):\n",
    "    fig.add_trace(go.Scatter(x=samples[i].flatten(), y=np.ones(var_dim)*i,\n",
    "                         mode='markers', marker=dict(color='SkyBlue', size=10), showlegend=False), row=1, col=1)\n",
    "    fig.add_trace(go.Scatter(x=[np.mean(samples[i].flatten())], y=np.ones(var_dim)*i,\n",
    "                         mode='markers', marker=dict(color='red', size=10), showlegend=False), row=1, col=1)\n",
    "fig.update_layout(\n",
    "    title=\"Opinion distribution\",\n",
    "    xaxis_title=\"X\",\n",
    "    yaxis_title=\"Num\",\n",
    "    font=dict(\n",
    "        family=\"Courier New, monospace\",\n",
    "        size=14\n",
    "    )\n",
    ")\n",
    "fig.update_layout(yaxis={'visible': False, 'showticklabels': False})\n",
    "fig.show()"
   ]
  },
  {
   "cell_type": "code",
   "execution_count": null,
   "id": "steady-works",
   "metadata": {},
   "outputs": [],
   "source": [
    "samples = torch.cat([(torch.zeros(size=(batch_size, 1)).uniform_()-0.5)*2 for _ in range(var_dim)], dim=-1).numpy()"
   ]
  },
  {
   "cell_type": "code",
   "execution_count": null,
   "id": "bacterial-length",
   "metadata": {},
   "outputs": [],
   "source": [
    "fig = make_subplots(rows=1, cols=2)\n",
    "samples = torch.cat([(torch.zeros(size=(batch_size, 1)).uniform_()-0.5)*2 for _ in range(5)], dim=-1).numpy()\n",
    "for i in range(samples.shape[0]):\n",
    "    fig.add_trace(go.Scatter(x=samples[i].flatten(), y=np.ones(var_dim)*i,\n",
    "                         mode='markers', marker=dict(color='SkyBlue', size=10), showlegend=False), row=1, col=1)\n",
    "    fig.add_trace(go.Scatter(x=[np.mean(samples[i].flatten())], y=np.ones(var_dim)*i,\n",
    "                         mode='markers', marker=dict(color='red', size=10), showlegend=False), row=1, col=1)\n",
    "samples = torch.cat([(torch.zeros(size=(batch_size, 1)).uniform_()-0.5)*2 for _ in range(50)], dim=-1).numpy()\n",
    "for i in range(samples.shape[0]):\n",
    "    fig.add_trace(go.Scatter(x=samples[i].flatten(), y=np.ones(var_dim)*i,\n",
    "                         mode='markers', marker=dict(color='SkyBlue', size=10), showlegend=False), row=1, col=2)\n",
    "    fig.add_trace(go.Scatter(x=[np.mean(samples[i].flatten())], y=np.ones(var_dim)*i,\n",
    "                         mode='markers', marker=dict(color='red', size=10), showlegend=False), row=1, col=2)\n",
    "\n",
    "fig.update_layout(\n",
    "    title=\"Opinion distribution\",\n",
    "    xaxis_title=\"$x$\",\n",
    "    xaxis2_title=\"$x$\",\n",
    "    yaxis_title=\"Num\",\n",
    "    font=dict(\n",
    "        family=\"Courier New, monospace\",\n",
    "        size=14\n",
    "    )\n",
    ")\n",
    "fig.update_layout(yaxis={'visible': False, 'showticklabels': False}, yaxis2={'visible': False, 'showticklabels': False})\n",
    "fig.show()"
   ]
  },
  {
   "cell_type": "code",
   "execution_count": null,
   "id": "attached-award",
   "metadata": {},
   "outputs": [],
   "source": [
    "mix = D.Categorical(torch.rand(5,))\n",
    "comp = D.Independent(D.Normal(\n",
    "            torch.randn(5, var_dim), torch.rand(5, var_dim)), 1)\n",
    "gmm = D.MixtureSameFamily(mix, comp)"
   ]
  },
  {
   "cell_type": "code",
   "execution_count": null,
   "id": "literary-device",
   "metadata": {},
   "outputs": [],
   "source": [
    "def sampm():\n",
    "    mix = D.Categorical(torch.rand(10,))\n",
    "    comp = D.Independent(D.Normal(torch.randn(10, var_dim)*0.1 + torch.rand(10, var_dim)-0.5, torch.rand(10, var_dim)), 1)\n",
    "    gmm = D.MixtureSameFamily(mix, comp)\n",
    "    return gmm.sample(sample_shape=torch.Size([batch_size]))"
   ]
  },
  {
   "cell_type": "code",
   "execution_count": null,
   "id": "characteristic-girlfriend",
   "metadata": {},
   "outputs": [],
   "source": [
    "samples = sampm().numpy()"
   ]
  },
  {
   "cell_type": "code",
   "execution_count": null,
   "id": "assisted-grenada",
   "metadata": {},
   "outputs": [],
   "source": [
    "fig = make_subplots(rows=1, cols=1)\n",
    "for i in range(samples.shape[0]):\n",
    "    fig.add_trace(go.Scatter(x=samples[i].flatten(), y=np.ones(var_dim)*i,\n",
    "                         mode='markers', marker=dict(color='SkyBlue', size=10), showlegend=False), row=1, col=1)\n",
    "    fig.add_trace(go.Scatter(x=[np.mean(samples[i].flatten())], y=np.ones(var_dim)*i,\n",
    "                         mode='markers', marker=dict(color='red', size=10), showlegend=False), row=1, col=1)\n",
    "fig.update_layout(\n",
    "    title=\"Opinion distribution\",\n",
    "    xaxis_title=\"X\",\n",
    "    yaxis_title=\"Num\",\n",
    "    font=dict(\n",
    "        family=\"Courier New, monospace\",\n",
    "        size=14\n",
    "    )\n",
    ")\n",
    "fig.update_layout(yaxis={'visible': False, 'showticklabels': False})\n",
    "fig.show()"
   ]
  },
  {
   "cell_type": "code",
   "execution_count": 10,
   "id": "american-wisdom",
   "metadata": {},
   "outputs": [],
   "source": [
    "batch_size = 32\n",
    "var_dim = 10\n",
    "def sampling(var, var_dim, mean=0, std=2, domain=(-1, 1)):\n",
    "    sobol = SobolEngine(var_dim, scramble=True)\n",
    "    exp = D.Normal(mean, std)\n",
    "    means_clusters = torch.abs(torch.fmod(torch.round(exp.sample((var[-1].shape[0], var_dim))), var_dim)).long()\n",
    "    means = (sobol.draw(var[-1].shape[0])-0.5)*2#(torch.rand((var[-1].shape[0], var_dim))-0.5)*2\n",
    "    samples = []\n",
    "    for i in range(len(var)):\n",
    "        m = means.gather(-1, means_clusters[:, None, i])\n",
    "        b = torch.min(torch.abs(m-domain[0]), torch.abs(m-domain[1]))\n",
    "        c = torch.rand((var[-1].shape[0], 1))\n",
    "        samples.append((var[i]-0.5)*2*torch.minimum(b, c) + m)\n",
    "    return samples"
   ]
  },
  {
   "cell_type": "code",
   "execution_count": 14,
   "id": "dietary-audit",
   "metadata": {},
   "outputs": [
    {
     "data": {
      "application/vnd.plotly.v1+json": {
       "config": {
        "plotlyServerURL": "https://plot.ly"
       },
       "data": [
        {
         "marker": {
          "color": "SkyBlue",
          "size": 10
         },
         "mode": "markers",
         "showlegend": false,
         "type": "scatter",
         "x": [
          -0.30480968952178955,
          -0.33339351415634155,
          -0.4743678867816925,
          0.4771025776863098,
          -0.7491427063941956,
          -0.8540530800819397,
          -0.8769408464431763,
          -0.7681673765182495,
          -0.17368027567863464,
          -0.5788540840148926
         ],
         "xaxis": "x",
         "y": [
          0,
          0,
          0,
          0,
          0,
          0,
          0,
          0,
          0,
          0
         ],
         "yaxis": "y"
        },
        {
         "marker": {
          "color": "red",
          "size": 10
         },
         "mode": "markers",
         "showlegend": false,
         "type": "scatter",
         "x": [
          -0.46363067626953125
         ],
         "xaxis": "x",
         "y": [
          0,
          0,
          0,
          0,
          0,
          0,
          0,
          0,
          0,
          0
         ],
         "yaxis": "y"
        },
        {
         "marker": {
          "color": "SkyBlue",
          "size": 10
         },
         "mode": "markers",
         "showlegend": false,
         "type": "scatter",
         "x": [
          0.9983092546463013,
          0.16473864018917084,
          0.7274765372276306,
          0.012891381978988647,
          0.19592753052711487,
          0.9843616485595703,
          0.4559243321418762,
          -0.9616414308547974,
          0.5375083684921265,
          0.2807117700576782
         ],
         "xaxis": "x",
         "y": [
          3,
          3,
          3,
          3,
          3,
          3,
          3,
          3,
          3,
          3
         ],
         "yaxis": "y"
        },
        {
         "marker": {
          "color": "red",
          "size": 10
         },
         "mode": "markers",
         "showlegend": false,
         "type": "scatter",
         "x": [
          0.33962076902389526
         ],
         "xaxis": "x",
         "y": [
          3,
          3,
          3,
          3,
          3,
          3,
          3,
          3,
          3,
          3
         ],
         "yaxis": "y"
        },
        {
         "marker": {
          "color": "SkyBlue",
          "size": 10
         },
         "mode": "markers",
         "showlegend": false,
         "type": "scatter",
         "x": [
          -0.21151719987392426,
          -0.29421567916870117,
          -0.25412997603416443,
          -0.5571163892745972,
          -0.42823299765586853,
          0.024236559867858887,
          -0.7993438243865967,
          0.627499520778656,
          -0.5885860919952393,
          -0.2868649363517761
         ],
         "xaxis": "x",
         "y": [
          6,
          6,
          6,
          6,
          6,
          6,
          6,
          6,
          6,
          6
         ],
         "yaxis": "y"
        },
        {
         "marker": {
          "color": "red",
          "size": 10
         },
         "mode": "markers",
         "showlegend": false,
         "type": "scatter",
         "x": [
          -0.2768271267414093
         ],
         "xaxis": "x",
         "y": [
          6,
          6,
          6,
          6,
          6,
          6,
          6,
          6,
          6,
          6
         ],
         "yaxis": "y"
        },
        {
         "marker": {
          "color": "SkyBlue",
          "size": 10
         },
         "mode": "markers",
         "showlegend": false,
         "type": "scatter",
         "x": [
          0.2712976038455963,
          0.49265971779823303,
          0.503682553768158,
          0.9658635854721069,
          0.3637201488018036,
          0.9517225623130798,
          0.7652753591537476,
          0.6131890416145325,
          -0.1357090175151825,
          0.2371569573879242
         ],
         "xaxis": "x",
         "y": [
          9,
          9,
          9,
          9,
          9,
          9,
          9,
          9,
          9,
          9
         ],
         "yaxis": "y"
        },
        {
         "marker": {
          "color": "red",
          "size": 10
         },
         "mode": "markers",
         "showlegend": false,
         "type": "scatter",
         "x": [
          0.5028858780860901
         ],
         "xaxis": "x",
         "y": [
          9,
          9,
          9,
          9,
          9,
          9,
          9,
          9,
          9,
          9
         ],
         "yaxis": "y"
        },
        {
         "marker": {
          "color": "SkyBlue",
          "size": 10
         },
         "mode": "markers",
         "showlegend": false,
         "type": "scatter",
         "x": [
          -0.9286433458328247,
          0.8996888995170593,
          -0.9090396165847778,
          0.805377721786499,
          -0.6174895167350769,
          0.7827240824699402,
          0.15094836056232452,
          0.6647750735282898,
          0.7652974724769592,
          0.821283757686615
         ],
         "xaxis": "x",
         "y": [
          12,
          12,
          12,
          12,
          12,
          12,
          12,
          12,
          12,
          12
         ],
         "yaxis": "y"
        },
        {
         "marker": {
          "color": "red",
          "size": 10
         },
         "mode": "markers",
         "showlegend": false,
         "type": "scatter",
         "x": [
          0.24349229037761688
         ],
         "xaxis": "x",
         "y": [
          12,
          12,
          12,
          12,
          12,
          12,
          12,
          12,
          12,
          12
         ],
         "yaxis": "y"
        },
        {
         "marker": {
          "color": "SkyBlue",
          "size": 10
         },
         "mode": "markers",
         "showlegend": false,
         "type": "scatter",
         "x": [
          0.9916669130325317,
          -0.976420521736145,
          0.9891642332077026,
          0.35230037569999695,
          -0.920508086681366,
          -0.9491982460021973,
          0.9995113015174866,
          0.31521567702293396,
          -0.05352404713630676,
          0.8635378479957581
         ],
         "xaxis": "x",
         "y": [
          15,
          15,
          15,
          15,
          15,
          15,
          15,
          15,
          15,
          15
         ],
         "yaxis": "y"
        },
        {
         "marker": {
          "color": "red",
          "size": 10
         },
         "mode": "markers",
         "showlegend": false,
         "type": "scatter",
         "x": [
          0.16117453575134277
         ],
         "xaxis": "x",
         "y": [
          15,
          15,
          15,
          15,
          15,
          15,
          15,
          15,
          15,
          15
         ],
         "yaxis": "y"
        },
        {
         "marker": {
          "color": "SkyBlue",
          "size": 10
         },
         "mode": "markers",
         "showlegend": false,
         "type": "scatter",
         "x": [
          -0.17980940639972687,
          -0.3976064920425415,
          -0.2763004004955292,
          0.4752567410469055,
          -0.1945822536945343,
          -0.34575188159942627,
          -0.0885414257645607,
          -0.03718064725399017,
          0.11887308955192566,
          0.9941613674163818
         ],
         "xaxis": "x",
         "y": [
          18,
          18,
          18,
          18,
          18,
          18,
          18,
          18,
          18,
          18
         ],
         "yaxis": "y"
        },
        {
         "marker": {
          "color": "red",
          "size": 10
         },
         "mode": "markers",
         "showlegend": false,
         "type": "scatter",
         "x": [
          0.006851875688880682
         ],
         "xaxis": "x",
         "y": [
          18,
          18,
          18,
          18,
          18,
          18,
          18,
          18,
          18,
          18
         ],
         "yaxis": "y"
        },
        {
         "marker": {
          "color": "SkyBlue",
          "size": 10
         },
         "mode": "markers",
         "showlegend": false,
         "type": "scatter",
         "x": [
          0.9818930625915527,
          0.25617516040802,
          -0.04422767460346222,
          0.24917826056480408,
          -0.23962533473968506,
          -0.4729962944984436,
          0.02949059009552002,
          -0.13661661744117737,
          -0.2257152646780014,
          0.3034020960330963
         ],
         "xaxis": "x",
         "y": [
          21,
          21,
          21,
          21,
          21,
          21,
          21,
          21,
          21,
          21
         ],
         "yaxis": "y"
        },
        {
         "marker": {
          "color": "red",
          "size": 10
         },
         "mode": "markers",
         "showlegend": false,
         "type": "scatter",
         "x": [
          0.07009579241275787
         ],
         "xaxis": "x",
         "y": [
          21,
          21,
          21,
          21,
          21,
          21,
          21,
          21,
          21,
          21
         ],
         "yaxis": "y"
        },
        {
         "marker": {
          "color": "SkyBlue",
          "size": 10
         },
         "mode": "markers",
         "showlegend": false,
         "type": "scatter",
         "x": [
          -0.9759901762008667,
          -0.24848973751068115,
          -0.979638934135437,
          -0.550420343875885,
          -0.9999132752418518,
          0.20231300592422485,
          -0.9577626585960388,
          0.5925881862640381,
          -0.807539701461792,
          -0.3106263279914856
         ],
         "xaxis": "x",
         "y": [
          24,
          24,
          24,
          24,
          24,
          24,
          24,
          24,
          24,
          24
         ],
         "yaxis": "y"
        },
        {
         "marker": {
          "color": "red",
          "size": 10
         },
         "mode": "markers",
         "showlegend": false,
         "type": "scatter",
         "x": [
          -0.5035480260848999
         ],
         "xaxis": "x",
         "y": [
          24,
          24,
          24,
          24,
          24,
          24,
          24,
          24,
          24,
          24
         ],
         "yaxis": "y"
        },
        {
         "marker": {
          "color": "SkyBlue",
          "size": 10
         },
         "mode": "markers",
         "showlegend": false,
         "type": "scatter",
         "x": [
          0.7637520432472229,
          0.08743825554847717,
          0.17283600568771362,
          0.7158540487289429,
          0.9759671688079834,
          0.7865465879440308,
          0.9728918075561523,
          0.16929851472377777,
          0.5620653629302979,
          0.2823447585105896
         ],
         "xaxis": "x",
         "y": [
          27,
          27,
          27,
          27,
          27,
          27,
          27,
          27,
          27,
          27
         ],
         "yaxis": "y"
        },
        {
         "marker": {
          "color": "red",
          "size": 10
         },
         "mode": "markers",
         "showlegend": false,
         "type": "scatter",
         "x": [
          0.5488994717597961
         ],
         "xaxis": "x",
         "y": [
          27,
          27,
          27,
          27,
          27,
          27,
          27,
          27,
          27,
          27
         ],
         "yaxis": "y"
        },
        {
         "marker": {
          "color": "SkyBlue",
          "size": 10
         },
         "mode": "markers",
         "showlegend": false,
         "type": "scatter",
         "x": [
          -0.249651238322258,
          0.613698422908783,
          0.11665743589401245,
          0.052431464195251465,
          0.9347208142280579,
          -0.6752134561538696,
          -0.7443692684173584,
          0.07911074161529541,
          0.15967345237731934,
          -0.7109000086784363
         ],
         "xaxis": "x",
         "y": [
          30,
          30,
          30,
          30,
          30,
          30,
          30,
          30,
          30,
          30
         ],
         "yaxis": "y"
        },
        {
         "marker": {
          "color": "red",
          "size": 10
         },
         "mode": "markers",
         "showlegend": false,
         "type": "scatter",
         "x": [
          -0.04238416627049446
         ],
         "xaxis": "x",
         "y": [
          30,
          30,
          30,
          30,
          30,
          30,
          30,
          30,
          30,
          30
         ],
         "yaxis": "y"
        },
        {
         "marker": {
          "color": "SkyBlue",
          "size": 10
         },
         "mode": "markers",
         "showlegend": false,
         "type": "scatter",
         "x": [
          0.5392134189605713,
          0.5235556960105896,
          -0.9402785301208496,
          -0.9528421759605408,
          -0.9852895736694336,
          -0.31704065203666687,
          0.524590015411377,
          -0.9837212562561035,
          0.8353104591369629,
          -0.9501367211341858
         ],
         "xaxis": "x",
         "y": [
          33,
          33,
          33,
          33,
          33,
          33,
          33,
          33,
          33,
          33
         ],
         "yaxis": "y"
        },
        {
         "marker": {
          "color": "red",
          "size": 10
         },
         "mode": "markers",
         "showlegend": false,
         "type": "scatter",
         "x": [
          -0.27066391706466675
         ],
         "xaxis": "x",
         "y": [
          33,
          33,
          33,
          33,
          33,
          33,
          33,
          33,
          33,
          33
         ],
         "yaxis": "y"
        },
        {
         "marker": {
          "color": "SkyBlue",
          "size": 10
         },
         "mode": "markers",
         "showlegend": false,
         "type": "scatter",
         "x": [
          0.47178977727890015,
          -0.5519179105758667,
          -0.13638648390769958,
          -0.8956054449081421,
          -0.05667892098426819,
          -0.3490048944950104,
          -0.08228236436843872,
          -0.8705199956893921,
          -0.28028205037117004,
          -0.7845274806022644
         ],
         "xaxis": "x",
         "y": [
          36,
          36,
          36,
          36,
          36,
          36,
          36,
          36,
          36,
          36
         ],
         "yaxis": "y"
        },
        {
         "marker": {
          "color": "red",
          "size": 10
         },
         "mode": "markers",
         "showlegend": false,
         "type": "scatter",
         "x": [
          -0.3535415828227997
         ],
         "xaxis": "x",
         "y": [
          36,
          36,
          36,
          36,
          36,
          36,
          36,
          36,
          36,
          36
         ],
         "yaxis": "y"
        },
        {
         "marker": {
          "color": "SkyBlue",
          "size": 10
         },
         "mode": "markers",
         "showlegend": false,
         "type": "scatter",
         "x": [
          0.014310434460639954,
          0.7291942238807678,
          0.40713945031166077,
          -0.3408317267894745,
          0.4637768864631653,
          0.20600782334804535,
          0.17970900237560272,
          -0.5626494884490967,
          0.13197541236877441,
          -0.6921628713607788
         ],
         "xaxis": "x",
         "y": [
          39,
          39,
          39,
          39,
          39,
          39,
          39,
          39,
          39,
          39
         ],
         "yaxis": "y"
        },
        {
         "marker": {
          "color": "red",
          "size": 10
         },
         "mode": "markers",
         "showlegend": false,
         "type": "scatter",
         "x": [
          0.053646910935640335
         ],
         "xaxis": "x",
         "y": [
          39,
          39,
          39,
          39,
          39,
          39,
          39,
          39,
          39,
          39
         ],
         "yaxis": "y"
        },
        {
         "marker": {
          "color": "SkyBlue",
          "size": 10
         },
         "mode": "markers",
         "showlegend": false,
         "type": "scatter",
         "x": [
          0.6819143891334534,
          -0.964163601398468,
          0.36255404353141785,
          0.22715848684310913,
          0.2927459180355072,
          -0.9487537741661072,
          -0.8628286719322205,
          -0.6183369159698486,
          0.7351986169815063,
          -0.5244516134262085
         ],
         "xaxis": "x",
         "y": [
          42,
          42,
          42,
          42,
          42,
          42,
          42,
          42,
          42,
          42
         ],
         "yaxis": "y"
        },
        {
         "marker": {
          "color": "red",
          "size": 10
         },
         "mode": "markers",
         "showlegend": false,
         "type": "scatter",
         "x": [
          -0.16189633309841156
         ],
         "xaxis": "x",
         "y": [
          42,
          42,
          42,
          42,
          42,
          42,
          42,
          42,
          42,
          42
         ],
         "yaxis": "y"
        },
        {
         "marker": {
          "color": "SkyBlue",
          "size": 10
         },
         "mode": "markers",
         "showlegend": false,
         "type": "scatter",
         "x": [
          -0.2485797107219696,
          0.9879281520843506,
          0.6483075022697449,
          0.8023962378501892,
          0.9154773950576782,
          0.9674142599105835,
          -0.5325762629508972,
          0.7791343927383423,
          0.2970040738582611,
          -0.8237139582633972
         ],
         "xaxis": "x",
         "y": [
          45,
          45,
          45,
          45,
          45,
          45,
          45,
          45,
          45,
          45
         ],
         "yaxis": "y"
        },
        {
         "marker": {
          "color": "red",
          "size": 10
         },
         "mode": "markers",
         "showlegend": false,
         "type": "scatter",
         "x": [
          0.3792791962623596
         ],
         "xaxis": "x",
         "y": [
          45,
          45,
          45,
          45,
          45,
          45,
          45,
          45,
          45,
          45
         ],
         "yaxis": "y"
        },
        {
         "marker": {
          "color": "SkyBlue",
          "size": 10
         },
         "mode": "markers",
         "showlegend": false,
         "type": "scatter",
         "x": [
          0.7443758249282837,
          0.9756979942321777,
          -0.023535922169685364,
          0.7504685521125793,
          0.5202673673629761,
          -0.2802693843841553,
          0.746010422706604,
          -0.8262034058570862,
          0.7360324859619141,
          -0.17183466255664825
         ],
         "xaxis": "x",
         "y": [
          48,
          48,
          48,
          48,
          48,
          48,
          48,
          48,
          48,
          48
         ],
         "yaxis": "y"
        },
        {
         "marker": {
          "color": "red",
          "size": 10
         },
         "mode": "markers",
         "showlegend": false,
         "type": "scatter",
         "x": [
          0.3171009421348572
         ],
         "xaxis": "x",
         "y": [
          48,
          48,
          48,
          48,
          48,
          48,
          48,
          48,
          48,
          48
         ],
         "yaxis": "y"
        },
        {
         "marker": {
          "color": "SkyBlue",
          "size": 10
         },
         "mode": "markers",
         "showlegend": false,
         "type": "scatter",
         "x": [
          -0.18660636246204376,
          -0.8911457657814026,
          -0.9008974432945251,
          -0.3963424563407898,
          -0.9499748945236206,
          0.879301905632019,
          -0.9181671142578125,
          -0.9163632988929749,
          -0.3650273084640503,
          0.23295742273330688
         ],
         "xaxis": "x",
         "y": [
          51,
          51,
          51,
          51,
          51,
          51,
          51,
          51,
          51,
          51
         ],
         "yaxis": "y"
        },
        {
         "marker": {
          "color": "red",
          "size": 10
         },
         "mode": "markers",
         "showlegend": false,
         "type": "scatter",
         "x": [
          -0.4412265419960022
         ],
         "xaxis": "x",
         "y": [
          51,
          51,
          51,
          51,
          51,
          51,
          51,
          51,
          51,
          51
         ],
         "yaxis": "y"
        },
        {
         "marker": {
          "color": "SkyBlue",
          "size": 10
         },
         "mode": "markers",
         "showlegend": false,
         "type": "scatter",
         "x": [
          -0.9464942812919617,
          -0.8359289765357971,
          0.9726014137268066,
          -0.9704856872558594,
          -0.9423824548721313,
          0.7778753042221069,
          -0.68999183177948,
          -0.8462775945663452,
          0.8848366141319275,
          0.7775472402572632
         ],
         "xaxis": "x",
         "y": [
          54,
          54,
          54,
          54,
          54,
          54,
          54,
          54,
          54,
          54
         ],
         "yaxis": "y"
        },
        {
         "marker": {
          "color": "red",
          "size": 10
         },
         "mode": "markers",
         "showlegend": false,
         "type": "scatter",
         "x": [
          -0.1818700134754181
         ],
         "xaxis": "x",
         "y": [
          54,
          54,
          54,
          54,
          54,
          54,
          54,
          54,
          54,
          54
         ],
         "yaxis": "y"
        },
        {
         "marker": {
          "color": "SkyBlue",
          "size": 10
         },
         "mode": "markers",
         "showlegend": false,
         "type": "scatter",
         "x": [
          -0.5785257816314697,
          -0.4176790118217468,
          0.35560858249664307,
          0.9952764511108398,
          0.10892781615257263,
          0.21522971987724304,
          -0.4967738389968872,
          0.801932156085968,
          -0.8526368141174316,
          0.14641550183296204
         ],
         "xaxis": "x",
         "y": [
          57,
          57,
          57,
          57,
          57,
          57,
          57,
          57,
          57,
          57
         ],
         "yaxis": "y"
        },
        {
         "marker": {
          "color": "red",
          "size": 10
         },
         "mode": "markers",
         "showlegend": false,
         "type": "scatter",
         "x": [
          0.027777478098869324
         ],
         "xaxis": "x",
         "y": [
          57,
          57,
          57,
          57,
          57,
          57,
          57,
          57,
          57,
          57
         ],
         "yaxis": "y"
        },
        {
         "marker": {
          "color": "SkyBlue",
          "size": 10
         },
         "mode": "markers",
         "showlegend": false,
         "type": "scatter",
         "x": [
          0.15558908879756927,
          0.443484902381897,
          0.36987778544425964,
          0.5604895353317261,
          -0.16098491847515106,
          -0.40537726879119873,
          0.4506091773509979,
          0.707352876663208,
          -0.7125765085220337,
          0.3733471930027008
         ],
         "xaxis": "x",
         "y": [
          60,
          60,
          60,
          60,
          60,
          60,
          60,
          60,
          60,
          60
         ],
         "yaxis": "y"
        },
        {
         "marker": {
          "color": "red",
          "size": 10
         },
         "mode": "markers",
         "showlegend": false,
         "type": "scatter",
         "x": [
          0.17818120121955872
         ],
         "xaxis": "x",
         "y": [
          60,
          60,
          60,
          60,
          60,
          60,
          60,
          60,
          60,
          60
         ],
         "yaxis": "y"
        },
        {
         "marker": {
          "color": "SkyBlue",
          "size": 10
         },
         "mode": "markers",
         "showlegend": false,
         "type": "scatter",
         "x": [
          0.5411627292633057,
          -0.751434862613678,
          -0.6782770752906799,
          -0.32531824707984924,
          0.2903251051902771,
          -0.7118915319442749,
          0.6118485927581787,
          0.010298037901520729,
          -0.6681740283966064,
          0.14793381094932556
         ],
         "xaxis": "x",
         "y": [
          63,
          63,
          63,
          63,
          63,
          63,
          63,
          63,
          63,
          63
         ],
         "yaxis": "y"
        },
        {
         "marker": {
          "color": "red",
          "size": 10
         },
         "mode": "markers",
         "showlegend": false,
         "type": "scatter",
         "x": [
          -0.153352752327919
         ],
         "xaxis": "x",
         "y": [
          63,
          63,
          63,
          63,
          63,
          63,
          63,
          63,
          63,
          63
         ],
         "yaxis": "y"
        },
        {
         "marker": {
          "color": "SkyBlue",
          "size": 10
         },
         "mode": "markers",
         "showlegend": false,
         "type": "scatter",
         "x": [
          -0.9504071474075317,
          0.5640807151794434,
          -0.3640047013759613,
          -0.9931154847145081,
          0.3878767788410187,
          0.61226886510849,
          -0.9320651292800903,
          -0.6448365449905396,
          0.09813490509986877,
          0.5395433306694031
         ],
         "xaxis": "x",
         "y": [
          66,
          66,
          66,
          66,
          66,
          66,
          66,
          66,
          66,
          66
         ],
         "yaxis": "y"
        },
        {
         "marker": {
          "color": "red",
          "size": 10
         },
         "mode": "markers",
         "showlegend": false,
         "type": "scatter",
         "x": [
          -0.16825242340564728
         ],
         "xaxis": "x",
         "y": [
          66,
          66,
          66,
          66,
          66,
          66,
          66,
          66,
          66,
          66
         ],
         "yaxis": "y"
        },
        {
         "marker": {
          "color": "SkyBlue",
          "size": 10
         },
         "mode": "markers",
         "showlegend": false,
         "type": "scatter",
         "x": [
          -0.1857876479625702,
          0.9490336179733276,
          0.09345156699419022,
          0.36719393730163574,
          0.9226321578025818,
          0.9133056998252869,
          0.011262726038694382,
          0.7534565925598145,
          -0.8732595443725586,
          -0.3116704225540161
         ],
         "xaxis": "x",
         "y": [
          69,
          69,
          69,
          69,
          69,
          69,
          69,
          69,
          69,
          69
         ],
         "yaxis": "y"
        },
        {
         "marker": {
          "color": "red",
          "size": 10
         },
         "mode": "markers",
         "showlegend": false,
         "type": "scatter",
         "x": [
          0.26396188139915466
         ],
         "xaxis": "x",
         "y": [
          69,
          69,
          69,
          69,
          69,
          69,
          69,
          69,
          69,
          69
         ],
         "yaxis": "y"
        },
        {
         "marker": {
          "color": "SkyBlue",
          "size": 10
         },
         "mode": "markers",
         "showlegend": false,
         "type": "scatter",
         "x": [
          0.9962071180343628,
          0.9780789613723755,
          -0.022324837744235992,
          0.44551387429237366,
          0.08515164256095886,
          0.8002423048019409,
          -0.3165748417377472,
          0.887101411819458,
          -0.5258618593215942,
          0.08374307304620743
         ],
         "xaxis": "x",
         "y": [
          72,
          72,
          72,
          72,
          72,
          72,
          72,
          72,
          72,
          72
         ],
         "yaxis": "y"
        },
        {
         "marker": {
          "color": "red",
          "size": 10
         },
         "mode": "markers",
         "showlegend": false,
         "type": "scatter",
         "x": [
          0.3411277234554291
         ],
         "xaxis": "x",
         "y": [
          72,
          72,
          72,
          72,
          72,
          72,
          72,
          72,
          72,
          72
         ],
         "yaxis": "y"
        },
        {
         "marker": {
          "color": "SkyBlue",
          "size": 10
         },
         "mode": "markers",
         "showlegend": false,
         "type": "scatter",
         "x": [
          -0.620209276676178,
          0.994071900844574,
          -0.4482372999191284,
          -0.5873931050300598,
          0.3069678843021393,
          -0.8342651128768921,
          -0.0984533280134201,
          0.97071772813797,
          -0.80885910987854,
          0.9868872165679932
         ],
         "xaxis": "x",
         "y": [
          75,
          75,
          75,
          75,
          75,
          75,
          75,
          75,
          75,
          75
         ],
         "yaxis": "y"
        },
        {
         "marker": {
          "color": "red",
          "size": 10
         },
         "mode": "markers",
         "showlegend": false,
         "type": "scatter",
         "x": [
          -0.013877260498702526
         ],
         "xaxis": "x",
         "y": [
          75,
          75,
          75,
          75,
          75,
          75,
          75,
          75,
          75,
          75
         ],
         "yaxis": "y"
        },
        {
         "marker": {
          "color": "SkyBlue",
          "size": 10
         },
         "mode": "markers",
         "showlegend": false,
         "type": "scatter",
         "x": [
          -0.6574815511703491,
          0.09234920889139175,
          0.807978093624115,
          0.34413808584213257,
          0.08458025753498077,
          0.17690713703632355,
          -0.9933754205703735,
          -0.9946938157081604,
          -0.9946112632751465,
          0.6692636609077454
         ],
         "xaxis": "x",
         "y": [
          78,
          78,
          78,
          78,
          78,
          78,
          78,
          78,
          78,
          78
         ],
         "yaxis": "y"
        },
        {
         "marker": {
          "color": "red",
          "size": 10
         },
         "mode": "markers",
         "showlegend": false,
         "type": "scatter",
         "x": [
          -0.14649458229541779
         ],
         "xaxis": "x",
         "y": [
          78,
          78,
          78,
          78,
          78,
          78,
          78,
          78,
          78,
          78
         ],
         "yaxis": "y"
        },
        {
         "marker": {
          "color": "SkyBlue",
          "size": 10
         },
         "mode": "markers",
         "showlegend": false,
         "type": "scatter",
         "x": [
          -0.6945606470108032,
          -0.6404627561569214,
          0.9859800934791565,
          -0.5357125997543335,
          0.884854257106781,
          -0.511263906955719,
          0.9175469875335693,
          0.9594269394874573,
          -0.5400841236114502,
          0.3590918481349945
         ],
         "xaxis": "x",
         "y": [
          81,
          81,
          81,
          81,
          81,
          81,
          81,
          81,
          81,
          81
         ],
         "yaxis": "y"
        },
        {
         "marker": {
          "color": "red",
          "size": 10
         },
         "mode": "markers",
         "showlegend": false,
         "type": "scatter",
         "x": [
          0.1184815987944603
         ],
         "xaxis": "x",
         "y": [
          81,
          81,
          81,
          81,
          81,
          81,
          81,
          81,
          81,
          81
         ],
         "yaxis": "y"
        },
        {
         "marker": {
          "color": "SkyBlue",
          "size": 10
         },
         "mode": "markers",
         "showlegend": false,
         "type": "scatter",
         "x": [
          0.2137545347213745,
          -0.33571648597717285,
          -0.682442307472229,
          0.6529778242111206,
          -0.3400954306125641,
          -0.4307335317134857,
          -0.6699908971786499,
          -0.9543553590774536,
          0.8500946760177612,
          -0.8383231163024902
         ],
         "xaxis": "x",
         "y": [
          84,
          84,
          84,
          84,
          84,
          84,
          84,
          84,
          84,
          84
         ],
         "yaxis": "y"
        },
        {
         "marker": {
          "color": "red",
          "size": 10
         },
         "mode": "markers",
         "showlegend": false,
         "type": "scatter",
         "x": [
          -0.25348299741744995
         ],
         "xaxis": "x",
         "y": [
          84,
          84,
          84,
          84,
          84,
          84,
          84,
          84,
          84,
          84
         ],
         "yaxis": "y"
        },
        {
         "marker": {
          "color": "SkyBlue",
          "size": 10
         },
         "mode": "markers",
         "showlegend": false,
         "type": "scatter",
         "x": [
          -0.6586763262748718,
          0.6084504127502441,
          -0.2894221544265747,
          0.20200574398040771,
          0.860041618347168,
          0.9734593629837036,
          -0.32360729575157166,
          0.8647568225860596,
          -0.3350922465324402,
          0.960827648639679
         ],
         "xaxis": "x",
         "y": [
          87,
          87,
          87,
          87,
          87,
          87,
          87,
          87,
          87,
          87
         ],
         "yaxis": "y"
        },
        {
         "marker": {
          "color": "red",
          "size": 10
         },
         "mode": "markers",
         "showlegend": false,
         "type": "scatter",
         "x": [
          0.28627434372901917
         ],
         "xaxis": "x",
         "y": [
          87,
          87,
          87,
          87,
          87,
          87,
          87,
          87,
          87,
          87
         ],
         "yaxis": "y"
        },
        {
         "marker": {
          "color": "SkyBlue",
          "size": 10
         },
         "mode": "markers",
         "showlegend": false,
         "type": "scatter",
         "x": [
          -0.3189127743244171,
          -0.06324648857116699,
          -0.26417726278305054,
          -0.09758955240249634,
          -0.18060138821601868,
          0.4432160258293152,
          -0.3413121700286865,
          0.011114776134490967,
          0.2094181776046753,
          -0.651731550693512
         ],
         "xaxis": "x",
         "y": [
          90,
          90,
          90,
          90,
          90,
          90,
          90,
          90,
          90,
          90
         ],
         "yaxis": "y"
        },
        {
         "marker": {
          "color": "red",
          "size": 10
         },
         "mode": "markers",
         "showlegend": false,
         "type": "scatter",
         "x": [
          -0.1253822147846222
         ],
         "xaxis": "x",
         "y": [
          90,
          90,
          90,
          90,
          90,
          90,
          90,
          90,
          90,
          90
         ],
         "yaxis": "y"
        },
        {
         "marker": {
          "color": "SkyBlue",
          "size": 10
         },
         "mode": "markers",
         "showlegend": false,
         "type": "scatter",
         "x": [
          -0.2932756841182709,
          0.21781419217586517,
          0.9843918681144714,
          -0.3537920117378235,
          0.45917266607284546,
          0.8362100124359131,
          0.9490230679512024,
          0.9410396218299866,
          0.27187037467956543,
          0.5301680564880371
         ],
         "xaxis": "x",
         "y": [
          93,
          93,
          93,
          93,
          93,
          93,
          93,
          93,
          93,
          93
         ],
         "yaxis": "y"
        },
        {
         "marker": {
          "color": "red",
          "size": 10
         },
         "mode": "markers",
         "showlegend": false,
         "type": "scatter",
         "x": [
          0.4542621970176697
         ],
         "xaxis": "x",
         "y": [
          93,
          93,
          93,
          93,
          93,
          93,
          93,
          93,
          93,
          93
         ],
         "yaxis": "y"
        },
        {
         "marker": {
          "color": "SkyBlue",
          "size": 10
         },
         "mode": "markers",
         "showlegend": false,
         "type": "scatter",
         "x": [
          -0.9022610783576965,
          -0.7858942747116089,
          0.8773133754730225,
          0.0715395137667656,
          -0.9484716653823853,
          -0.9058339595794678,
          -0.9692785739898682,
          -0.033506665378808975,
          -0.8061668872833252,
          -0.9062014222145081,
          -0.9331543445587158,
          0.5161030292510986,
          -0.03260500356554985,
          -0.9545972943305969,
          -0.9207759499549866,
          -0.9397571086883545,
          -0.9175069332122803,
          -0.67453932762146,
          -0.9160925149917603,
          -0.944878101348877,
          -0.7809921503067017,
          0.512978196144104,
          -0.9832763671875,
          -0.9400193691253662,
          -0.9340367913246155,
          -0.7899209260940552,
          0.43352949619293213,
          -0.9819211363792419,
          -0.9032748341560364,
          -0.09485369175672531,
          -0.997784435749054,
          -0.8589321970939636,
          -0.9018965363502502,
          -0.8157808780670166,
          0.4215371310710907,
          -0.959663987159729,
          -0.9534704685211182,
          -0.9416120648384094,
          -0.9199349284172058,
          -0.9648711085319519,
          -0.13213275372982025,
          0.5497503280639648,
          -0.9554561376571655,
          -0.8734393119812012,
          -0.922572910785675,
          -0.06211051344871521,
          0.1223939061164856,
          -0.41349875926971436,
          -0.9076181054115295,
          0.20796075463294983
         ],
         "xaxis": "x2",
         "y": [
          0,
          0,
          0,
          0,
          0,
          0,
          0,
          0,
          0,
          0
         ],
         "yaxis": "y2"
        },
        {
         "marker": {
          "color": "red",
          "size": 10
         },
         "mode": "markers",
         "showlegend": false,
         "type": "scatter",
         "x": [
          -0.5753496289253235
         ],
         "xaxis": "x2",
         "y": [
          0,
          0,
          0,
          0,
          0,
          0,
          0,
          0,
          0,
          0
         ],
         "yaxis": "y2"
        },
        {
         "marker": {
          "color": "SkyBlue",
          "size": 10
         },
         "mode": "markers",
         "showlegend": false,
         "type": "scatter",
         "x": [
          0.5749223828315735,
          -0.48351770639419556,
          0.236822247505188,
          0.5018957257270813,
          0.6814916133880615,
          -0.008974000811576843,
          0.5809296369552612,
          0.6413042545318604,
          0.7275286912918091,
          0.8967287540435791,
          0.10122975707054138,
          0.606042742729187,
          0.8278272151947021,
          0.7360811829566956,
          0.7371270656585693,
          0.641343355178833,
          0.6844655871391296,
          0.8500369191169739,
          -0.46546652913093567,
          -0.2164640575647354,
          0.5667796730995178,
          0.8303374648094177,
          0.3923790454864502,
          0.801102340221405,
          0.27201467752456665,
          0.6218785643577576,
          -0.6610990762710571,
          0.04433995485305786,
          0.6759936213493347,
          0.3928664028644562,
          0.6508862376213074,
          0.9546356201171875,
          0.2942585349082947,
          0.3689114451408386,
          -0.022703468799591064,
          0.6597394943237305,
          0.8852560520172119,
          0.5898910760879517,
          0.686040461063385,
          -0.058493077754974365,
          0.5028984546661377,
          0.13916698098182678,
          0.6252230405807495,
          0.897268533706665,
          -0.4375511407852173,
          0.5614664554595947,
          0.5382130146026611,
          -0.9836916923522949,
          0.5619139075279236,
          -0.34428608417510986
         ],
         "xaxis": "x2",
         "y": [
          3,
          3,
          3,
          3,
          3,
          3,
          3,
          3,
          3,
          3
         ],
         "yaxis": "y2"
        },
        {
         "marker": {
          "color": "red",
          "size": 10
         },
         "mode": "markers",
         "showlegend": false,
         "type": "scatter",
         "x": [
          0.39713984727859497
         ],
         "xaxis": "x2",
         "y": [
          3,
          3,
          3,
          3,
          3,
          3,
          3,
          3,
          3,
          3
         ],
         "yaxis": "y2"
        },
        {
         "marker": {
          "color": "SkyBlue",
          "size": 10
         },
         "mode": "markers",
         "showlegend": false,
         "type": "scatter",
         "x": [
          0.29503726959228516,
          -0.12084752321243286,
          -0.361907422542572,
          -0.39720845222473145,
          -0.033719196915626526,
          -0.6046676635742188,
          -0.24466747045516968,
          -0.6828987002372742,
          -0.3903602361679077,
          0.45261210203170776,
          -0.7583123445510864,
          0.7890039682388306,
          -0.8864866495132446,
          -0.7886120080947876,
          0.5208569765090942,
          0.7349745035171509,
          -0.9937736988067627,
          -0.2298658788204193,
          -0.5172286629676819,
          -0.49058282375335693,
          -0.5502480268478394,
          -0.5376995801925659,
          0.5373599529266357,
          0.3628309965133667,
          -0.7381526231765747,
          -0.500583827495575,
          -0.1649051308631897,
          -0.17891645431518555,
          -0.41119396686553955,
          -0.7255867123603821,
          -0.6677252650260925,
          -0.4273014962673187,
          -0.6618391275405884,
          -0.6028481125831604,
          -0.20037460327148438,
          -0.4838789403438568,
          0.6961696147918701,
          0.9359495639801025,
          0.6015263199806213,
          -0.26355329155921936,
          -0.7271900773048401,
          -0.8649919033050537,
          -0.46336060762405396,
          -0.4450691342353821,
          -0.6037793159484863,
          -0.8140196800231934,
          0.5457385182380676,
          0.8718425035476685,
          -0.13546782732009888,
          -0.5310578346252441
         ],
         "xaxis": "x2",
         "y": [
          6,
          6,
          6,
          6,
          6,
          6,
          6,
          6,
          6,
          6
         ],
         "yaxis": "y2"
        },
        {
         "marker": {
          "color": "red",
          "size": 10
         },
         "mode": "markers",
         "showlegend": false,
         "type": "scatter",
         "x": [
          -0.23713958263397217
         ],
         "xaxis": "x2",
         "y": [
          6,
          6,
          6,
          6,
          6,
          6,
          6,
          6,
          6,
          6
         ],
         "yaxis": "y2"
        },
        {
         "marker": {
          "color": "SkyBlue",
          "size": 10
         },
         "mode": "markers",
         "showlegend": false,
         "type": "scatter",
         "x": [
          -0.4017608165740967,
          0.12971119582653046,
          -0.8706041574478149,
          -0.45747387409210205,
          -0.06301546096801758,
          -0.0802091658115387,
          -0.8762394189834595,
          0.18602994084358215,
          0.6222082376480103,
          -0.32782840728759766,
          0.19124895334243774,
          0.04360203072428703,
          0.06018482893705368,
          0.5792026519775391,
          0.36754822731018066,
          0.4130907952785492,
          0.10287640243768692,
          -0.05252528935670853,
          0.07073113322257996,
          -0.22719451785087585,
          -0.01678614504635334,
          0.33289825916290283,
          0.6580734252929688,
          0.01686582714319229,
          -0.7834644913673401,
          -0.7495918273925781,
          0.13462978601455688,
          -0.8383715152740479,
          0.24513602256774902,
          -0.8587369918823242,
          0.24238011240959167,
          0.06500744074583054,
          0.08404363691806793,
          -0.2025350034236908,
          0.6197082996368408,
          0.10411062091588974,
          0.08810453861951828,
          0.160420224070549,
          0.7101919054985046,
          0.16648249328136444,
          0.018843725323677063,
          0.09420093894004822,
          0.5944308638572693,
          -0.8528132438659668,
          0.6887150406837463,
          -0.12775960564613342,
          0.7081173658370972,
          -0.414703369140625,
          0.02893950045108795,
          0.07922962307929993
         ],
         "xaxis": "x2",
         "y": [
          9,
          9,
          9,
          9,
          9,
          9,
          9,
          9,
          9,
          9
         ],
         "yaxis": "y2"
        },
        {
         "marker": {
          "color": "red",
          "size": 10
         },
         "mode": "markers",
         "showlegend": false,
         "type": "scatter",
         "x": [
          0.008107014000415802
         ],
         "xaxis": "x2",
         "y": [
          9,
          9,
          9,
          9,
          9,
          9,
          9,
          9,
          9,
          9
         ],
         "yaxis": "y2"
        },
        {
         "marker": {
          "color": "SkyBlue",
          "size": 10
         },
         "mode": "markers",
         "showlegend": false,
         "type": "scatter",
         "x": [
          0.4510197043418884,
          -0.21742312610149384,
          -0.15741117298603058,
          -0.3682595193386078,
          0.11106763780117035,
          -0.08309290558099747,
          0.9707035422325134,
          -0.9449097514152527,
          -0.40521010756492615,
          0.03567226231098175,
          0.22151538729667664,
          -0.4437106251716614,
          0.5260302424430847,
          0.378093957901001,
          0.9901503920555115,
          0.15743955969810486,
          0.06668850779533386,
          0.8473330140113831,
          -0.4520411789417267,
          0.9082856178283691,
          -0.8162311315536499,
          0.13767081499099731,
          -0.40996482968330383,
          -0.3875323534011841,
          -0.23846447467803955,
          -0.23132824897766113,
          -0.22657757997512817,
          0.19907334446907043,
          -0.2652403712272644,
          -0.6538415551185608,
          -0.04594305157661438,
          0.9926645755767822,
          -0.1739284098148346,
          0.8767905235290527,
          -0.7442347407341003,
          -0.9109513163566589,
          0.11287291347980499,
          0.9585965871810913,
          -0.11145937442779541,
          -0.5989768505096436,
          -0.9003322124481201,
          0.005440443754196167,
          0.875497579574585,
          0.8455320596694946,
          -0.11388210207223892,
          -0.07440051436424255,
          0.15566298365592957,
          -0.3721172511577606,
          0.865922749042511,
          -0.31163275241851807
         ],
         "xaxis": "x2",
         "y": [
          12,
          12,
          12,
          12,
          12,
          12,
          12,
          12,
          12,
          12
         ],
         "yaxis": "y2"
        },
        {
         "marker": {
          "color": "red",
          "size": 10
         },
         "mode": "markers",
         "showlegend": false,
         "type": "scatter",
         "x": [
          0.02061253786087036
         ],
         "xaxis": "x2",
         "y": [
          12,
          12,
          12,
          12,
          12,
          12,
          12,
          12,
          12,
          12
         ],
         "yaxis": "y2"
        },
        {
         "marker": {
          "color": "SkyBlue",
          "size": 10
         },
         "mode": "markers",
         "showlegend": false,
         "type": "scatter",
         "x": [
          0.5993613004684448,
          0.23381373286247253,
          -0.953315794467926,
          0.6057977676391602,
          -0.4390517473220825,
          -0.392881840467453,
          0.00031754374504089355,
          0.6576095223426819,
          -0.5883810520172119,
          0.6704496145248413,
          -0.143900066614151,
          0.6178622245788574,
          0.859142005443573,
          -0.3102610111236572,
          -0.20354439318180084,
          0.25310778617858887,
          0.10820050537586212,
          -0.4319836497306824,
          0.2471839040517807,
          0.26841750741004944,
          -0.450727254152298,
          0.31142520904541016,
          -0.448119580745697,
          0.7129966616630554,
          -0.15498420596122742,
          -0.4331481456756592,
          0.5522619485855103,
          0.8965563178062439,
          0.9138696789741516,
          -0.8830670714378357,
          0.7282885313034058,
          0.4160909056663513,
          0.6015907526016235,
          0.3722583055496216,
          0.46331900358200073,
          0.21724921464920044,
          0.47111696004867554,
          0.8082542419433594,
          -0.7834650278091431,
          0.9979932904243469,
          -0.4397638440132141,
          0.21301372349262238,
          0.28664836287498474,
          0.37126225233078003,
          0.07480791211128235,
          0.7379244565963745,
          0.29864928126335144,
          -0.43233007192611694,
          0.8287624716758728,
          0.8417860865592957
         ],
         "xaxis": "x2",
         "y": [
          15,
          15,
          15,
          15,
          15,
          15,
          15,
          15,
          15,
          15
         ],
         "yaxis": "y2"
        },
        {
         "marker": {
          "color": "red",
          "size": 10
         },
         "mode": "markers",
         "showlegend": false,
         "type": "scatter",
         "x": [
          0.1949692666530609
         ],
         "xaxis": "x2",
         "y": [
          15,
          15,
          15,
          15,
          15,
          15,
          15,
          15,
          15,
          15
         ],
         "yaxis": "y2"
        },
        {
         "marker": {
          "color": "SkyBlue",
          "size": 10
         },
         "mode": "markers",
         "showlegend": false,
         "type": "scatter",
         "x": [
          0.42575615644454956,
          0.38717228174209595,
          -0.9423643946647644,
          -0.7212299704551697,
          -0.7264007925987244,
          0.7062515020370483,
          0.37858638167381287,
          0.42519068717956543,
          0.09343242645263672,
          0.20585180819034576,
          0.8031057715415955,
          -0.0910085141658783,
          -0.6078333258628845,
          0.5454041957855225,
          0.02932724356651306,
          0.27278703451156616,
          -0.9850883483886719,
          -0.2093064785003662,
          0.17217805981636047,
          -0.35706251859664917,
          -0.24044743180274963,
          -0.6971049308776855,
          0.06785523891448975,
          0.2769467234611511,
          -0.35896289348602295,
          -0.46518474817276,
          -0.49932387471199036,
          -0.049568042159080505,
          -0.45351898670196533,
          -0.44812020659446716,
          -0.4500875174999237,
          0.0481073260307312,
          -0.8788306713104248,
          -0.36712953448295593,
          -0.37175652384757996,
          -0.7073947787284851,
          0.21004348993301392,
          0.09398294985294342,
          -0.3810417354106903,
          0.6660496592521667,
          0.8456742763519287,
          -0.08676037192344666,
          -0.5619538426399231,
          0.4470636248588562,
          -0.195112943649292,
          0.5008034110069275,
          0.28180181980133057,
          0.12446119636297226,
          0.10465356707572937,
          0.5544816255569458
         ],
         "xaxis": "x2",
         "y": [
          18,
          18,
          18,
          18,
          18,
          18,
          18,
          18,
          18,
          18
         ],
         "yaxis": "y2"
        },
        {
         "marker": {
          "color": "red",
          "size": 10
         },
         "mode": "markers",
         "showlegend": false,
         "type": "scatter",
         "x": [
          -0.06371249258518219
         ],
         "xaxis": "x2",
         "y": [
          18,
          18,
          18,
          18,
          18,
          18,
          18,
          18,
          18,
          18
         ],
         "yaxis": "y2"
        },
        {
         "marker": {
          "color": "SkyBlue",
          "size": 10
         },
         "mode": "markers",
         "showlegend": false,
         "type": "scatter",
         "x": [
          -0.8107290863990784,
          -0.8366206884384155,
          0.7756871581077576,
          -0.7235317230224609,
          -0.5857901573181152,
          0.6705907583236694,
          -0.7138808369636536,
          -0.8516457676887512,
          0.7941949963569641,
          0.9551373720169067,
          0.5773086547851562,
          0.8305094242095947,
          0.923233151435852,
          0.6308125853538513,
          0.9432246088981628,
          -0.5350127220153809,
          0.6691017150878906,
          -0.957149088382721,
          0.6739446520805359,
          0.8624545931816101,
          -0.7826594114303589,
          0.7886327505111694,
          0.8232358694076538,
          0.8719563484191895,
          -0.9514992833137512,
          -0.5623370409011841,
          -0.6266556978225708,
          0.8840292692184448,
          -0.7769242525100708,
          -0.8746299743652344,
          0.8620254397392273,
          -0.9183310866355896,
          -0.8168665170669556,
          0.6035159230232239,
          0.8835088014602661,
          0.6240059733390808,
          0.657494843006134,
          -0.8325873613357544,
          0.5743070840835571,
          0.7405056357383728,
          -0.6277611255645752,
          -0.7376792430877686,
          -0.9043144583702087,
          -0.7619247436523438,
          0.8037527799606323,
          0.627338171005249,
          -0.8042478561401367,
          0.801400899887085,
          -0.5545806288719177,
          0.6614190340042114
         ],
         "xaxis": "x2",
         "y": [
          21,
          21,
          21,
          21,
          21,
          21,
          21,
          21,
          21,
          21
         ],
         "yaxis": "y2"
        },
        {
         "marker": {
          "color": "red",
          "size": 10
         },
         "mode": "markers",
         "showlegend": false,
         "type": "scatter",
         "x": [
          0.0593193918466568
         ],
         "xaxis": "x2",
         "y": [
          21,
          21,
          21,
          21,
          21,
          21,
          21,
          21,
          21,
          21
         ],
         "yaxis": "y2"
        },
        {
         "marker": {
          "color": "SkyBlue",
          "size": 10
         },
         "mode": "markers",
         "showlegend": false,
         "type": "scatter",
         "x": [
          -0.7578930258750916,
          -0.28147271275520325,
          -0.5892993807792664,
          0.8122434616088867,
          -0.42219114303588867,
          0.4088451862335205,
          0.3602602183818817,
          -0.4957110285758972,
          0.2167825698852539,
          -0.7443742752075195,
          -0.6793424487113953,
          -0.8335978984832764,
          -0.09382665157318115,
          -0.2943754494190216,
          -0.44838374853134155,
          -0.17411339282989502,
          -0.31862449645996094,
          0.36167803406715393,
          0.22345322370529175,
          0.026094287633895874,
          -0.47206252813339233,
          0.4623829126358032,
          -0.3150840699672699,
          -0.1440594643354416,
          -0.38459134101867676,
          0.20045526325702667,
          0.5553723573684692,
          0.10951115190982819,
          -0.4200706481933594,
          0.04556724429130554,
          -0.30273744463920593,
          0.1002083420753479,
          0.27303552627563477,
          -0.35103344917297363,
          -0.14923246204853058,
          -0.44594961404800415,
          -0.06595213711261749,
          -0.6135460138320923,
          -0.7081678509712219,
          -0.5480369925498962,
          -0.5690906047821045,
          -0.9646095037460327,
          0.4301873445510864,
          -0.007876187562942505,
          -0.26933252811431885,
          -0.6342415809631348,
          -0.5913422107696533,
          -0.1659042239189148,
          -0.8019696474075317,
          0.3935500979423523
         ],
         "xaxis": "x2",
         "y": [
          24,
          24,
          24,
          24,
          24,
          24,
          24,
          24,
          24,
          24
         ],
         "yaxis": "y2"
        },
        {
         "marker": {
          "color": "red",
          "size": 10
         },
         "mode": "markers",
         "showlegend": false,
         "type": "scatter",
         "x": [
          -0.20156937837600708
         ],
         "xaxis": "x2",
         "y": [
          24,
          24,
          24,
          24,
          24,
          24,
          24,
          24,
          24,
          24
         ],
         "yaxis": "y2"
        },
        {
         "marker": {
          "color": "SkyBlue",
          "size": 10
         },
         "mode": "markers",
         "showlegend": false,
         "type": "scatter",
         "x": [
          0.4920644462108612,
          -0.02750784158706665,
          -0.5564082860946655,
          0.32823216915130615,
          0.511944055557251,
          -0.8431455492973328,
          0.11184218525886536,
          0.7680712938308716,
          0.4348483681678772,
          0.17173586785793304,
          0.26430732011795044,
          -0.7388209104537964,
          0.1042746976017952,
          0.52981036901474,
          0.1577722132205963,
          0.20918786525726318,
          0.3353300094604492,
          0.4396909773349762,
          0.5058542490005493,
          -0.9594129920005798,
          -0.05752582848072052,
          -0.9451198577880859,
          -0.6966138482093811,
          -0.8658244609832764,
          -0.5678897500038147,
          -0.8274261951446533,
          0.3148235082626343,
          0.5189677476882935,
          -0.8188285827636719,
          -0.3056934177875519,
          -0.36048853397369385,
          -0.9513604044914246,
          0.7322906255722046,
          0.25501349568367004,
          0.38024985790252686,
          -0.7371494770050049,
          0.12504172325134277,
          -0.6953254342079163,
          -0.05681423842906952,
          -0.8351782560348511,
          -0.21690155565738678,
          0.37322789430618286,
          -0.7610278129577637,
          -0.8404881358146667,
          -0.05385696887969971,
          -0.8857780694961548,
          0.12157462537288666,
          -0.6783327460289001,
          0.07052859663963318,
          -0.92298823595047
         ],
         "xaxis": "x2",
         "y": [
          27,
          27,
          27,
          27,
          27,
          27,
          27,
          27,
          27,
          27
         ],
         "yaxis": "y2"
        },
        {
         "marker": {
          "color": "red",
          "size": 10
         },
         "mode": "markers",
         "showlegend": false,
         "type": "scatter",
         "x": [
          -0.1589844673871994
         ],
         "xaxis": "x2",
         "y": [
          27,
          27,
          27,
          27,
          27,
          27,
          27,
          27,
          27,
          27
         ],
         "yaxis": "y2"
        },
        {
         "marker": {
          "color": "SkyBlue",
          "size": 10
         },
         "mode": "markers",
         "showlegend": false,
         "type": "scatter",
         "x": [
          -0.9079301357269287,
          -0.7734532356262207,
          -0.7807953953742981,
          -0.6617413759231567,
          0.8896252512931824,
          0.897527277469635,
          0.7025712132453918,
          -0.9421626329421997,
          0.9753000140190125,
          -0.7157612442970276,
          -0.6442806720733643,
          0.8812450766563416,
          0.9926127791404724,
          -0.9762422442436218,
          -0.9966979026794434,
          -0.6923516988754272,
          0.8369585275650024,
          -0.7656399607658386,
          0.8635315895080566,
          -0.8474266529083252,
          -0.6424384713172913,
          0.984186589717865,
          0.9750019907951355,
          -0.7700619697570801,
          0.9984353184700012,
          0.7935954332351685,
          -0.8757968544960022,
          0.8445632457733154,
          0.8877848982810974,
          0.8625195622444153,
          -0.6752979159355164,
          0.9863004684448242,
          -0.8306247591972351,
          -0.5809317827224731,
          0.9902441501617432,
          0.9828593730926514,
          0.7459397315979004,
          -0.9508616328239441,
          0.9920274615287781,
          -0.6125469207763672,
          0.86929851770401,
          0.9922558665275574,
          -0.7434287667274475,
          -0.7227049469947815,
          0.9357872009277344,
          -0.8020604848861694,
          -0.9078121185302734,
          -0.9893607497215271,
          0.981664776802063,
          0.9517918229103088
         ],
         "xaxis": "x2",
         "y": [
          30,
          30,
          30,
          30,
          30,
          30,
          30,
          30,
          30,
          30
         ],
         "yaxis": "y2"
        },
        {
         "marker": {
          "color": "red",
          "size": 10
         },
         "mode": "markers",
         "showlegend": false,
         "type": "scatter",
         "x": [
          0.06010435149073601
         ],
         "xaxis": "x2",
         "y": [
          30,
          30,
          30,
          30,
          30,
          30,
          30,
          30,
          30,
          30
         ],
         "yaxis": "y2"
        },
        {
         "marker": {
          "color": "SkyBlue",
          "size": 10
         },
         "mode": "markers",
         "showlegend": false,
         "type": "scatter",
         "x": [
          -0.3120194375514984,
          -0.20637759566307068,
          0.7342535257339478,
          0.8285320401191711,
          -0.19315427541732788,
          0.17270755767822266,
          -0.2817493975162506,
          0.2507019639015198,
          0.028225690126419067,
          -0.28736793994903564,
          0.07644674181938171,
          -0.09543225169181824,
          -0.12750744819641113,
          0.7656822204589844,
          -0.4447427988052368,
          0.5752649903297424,
          -0.0350462943315506,
          0.7225956916809082,
          0.6207703948020935,
          -0.9738276600837708,
          -0.6431865096092224,
          0.42944419384002686,
          0.9917025566101074,
          -0.2496027946472168,
          0.9596426486968994,
          0.014717131853103638,
          0.4336552619934082,
          -0.2096429467201233,
          0.751448392868042,
          0.5014836192131042,
          -0.21199557185173035,
          0.9252653121948242,
          -0.9380443096160889,
          0.9449559450149536,
          -0.47989457845687866,
          0.5817793607711792,
          0.560492217540741,
          -0.2087465077638626,
          0.5307824611663818,
          -0.2316747009754181,
          0.5682939291000366,
          0.9249178171157837,
          0.0726860761642456,
          -0.3136698603630066,
          -0.24556680023670197,
          0.31166332960128784,
          -0.27062511444091797,
          -0.2921680808067322,
          0.9693437218666077,
          -0.2121046781539917
         ],
         "xaxis": "x2",
         "y": [
          33,
          33,
          33,
          33,
          33,
          33,
          33,
          33,
          33,
          33
         ],
         "yaxis": "y2"
        },
        {
         "marker": {
          "color": "red",
          "size": 10
         },
         "mode": "markers",
         "showlegend": false,
         "type": "scatter",
         "x": [
          0.15566612780094147
         ],
         "xaxis": "x2",
         "y": [
          33,
          33,
          33,
          33,
          33,
          33,
          33,
          33,
          33,
          33
         ],
         "yaxis": "y2"
        },
        {
         "marker": {
          "color": "SkyBlue",
          "size": 10
         },
         "mode": "markers",
         "showlegend": false,
         "type": "scatter",
         "x": [
          -0.593941330909729,
          -0.672681450843811,
          -0.8774465322494507,
          -0.8442934155464172,
          -0.5893937349319458,
          -0.2677348554134369,
          -0.9183305501937866,
          -0.5648342967033386,
          -0.4619481563568115,
          -0.5369189977645874,
          -0.236260324716568,
          -0.6778964400291443,
          -0.516239583492279,
          -0.5657058954238892,
          -0.003508329391479492,
          -0.8888968825340271,
          0.05548867583274841,
          -0.34320372343063354,
          0.0006022006273269653,
          -0.7189238667488098,
          -0.6552196145057678,
          -0.6632485389709473,
          0.06920287013053894,
          -0.1272660493850708,
          -0.6582534313201904,
          -0.31098881363868713,
          -0.686416745185852,
          -0.7315352559089661,
          -0.4474250078201294,
          0.4071105718612671,
          -0.8148555159568787,
          -0.9526679515838623,
          0.06394387781620026,
          -0.879375696182251,
          -0.907055139541626,
          -0.8806607127189636,
          -0.45409178733825684,
          -0.728328287601471,
          -0.6732750535011292,
          -0.2864207625389099,
          -0.3353407680988312,
          -0.7864987850189209,
          -0.554901123046875,
          -0.6409001350402832,
          -0.3035343289375305,
          -0.4277470111846924,
          -0.2275991439819336,
          -0.5808477401733398,
          0.5581637024879456,
          -0.24884751439094543
         ],
         "xaxis": "x2",
         "y": [
          36,
          36,
          36,
          36,
          36,
          36,
          36,
          36,
          36,
          36
         ],
         "yaxis": "y2"
        },
        {
         "marker": {
          "color": "red",
          "size": 10
         },
         "mode": "markers",
         "showlegend": false,
         "type": "scatter",
         "x": [
          -0.4817389249801636
         ],
         "xaxis": "x2",
         "y": [
          36,
          36,
          36,
          36,
          36,
          36,
          36,
          36,
          36,
          36
         ],
         "yaxis": "y2"
        },
        {
         "marker": {
          "color": "SkyBlue",
          "size": 10
         },
         "mode": "markers",
         "showlegend": false,
         "type": "scatter",
         "x": [
          0.48144176602363586,
          0.36266013979911804,
          -0.5137081742286682,
          0.9056150913238525,
          0.6434932947158813,
          0.9188042879104614,
          0.36875414848327637,
          -0.19664058089256287,
          0.767594039440155,
          0.39714503288269043,
          0.9395588636398315,
          0.9553348422050476,
          0.5440884828567505,
          0.6938313841819763,
          0.3130389451980591,
          0.6205549836158752,
          0.9249099493026733,
          0.9312598705291748,
          0.9960572123527527,
          0.27850577235221863,
          0.9087088704109192,
          -0.10071343183517456,
          0.5648171901702881,
          0.9642975926399231,
          0.9716313481330872,
          0.7830207347869873,
          0.8238188624382019,
          0.25909581780433655,
          0.5399177074432373,
          0.9833171367645264,
          0.9885025024414062,
          0.9965324997901917,
          0.9683372974395752,
          0.25604456663131714,
          0.2951321601867676,
          0.6999692320823669,
          0.1507214456796646,
          0.9788219332695007,
          0.9602063894271851,
          0.6737375259399414,
          0.9618138074874878,
          0.918621838092804,
          0.969187319278717,
          0.9980137348175049,
          0.07169325649738312,
          0.934623122215271,
          0.8808103203773499,
          0.6205862760543823,
          0.9479221701622009,
          0.9778652191162109
         ],
         "xaxis": "x2",
         "y": [
          39,
          39,
          39,
          39,
          39,
          39,
          39,
          39,
          39,
          39
         ],
         "yaxis": "y2"
        },
        {
         "marker": {
          "color": "red",
          "size": 10
         },
         "mode": "markers",
         "showlegend": false,
         "type": "scatter",
         "x": [
          0.6655871868133545
         ],
         "xaxis": "x2",
         "y": [
          39,
          39,
          39,
          39,
          39,
          39,
          39,
          39,
          39,
          39
         ],
         "yaxis": "y2"
        },
        {
         "marker": {
          "color": "SkyBlue",
          "size": 10
         },
         "mode": "markers",
         "showlegend": false,
         "type": "scatter",
         "x": [
          0.29651039838790894,
          0.49565184116363525,
          -0.568710446357727,
          -0.8108558654785156,
          0.3960435390472412,
          0.9804982542991638,
          0.6772383451461792,
          0.7345939874649048,
          -0.9658850431442261,
          0.2526693344116211,
          -0.7438437938690186,
          -0.11874134838581085,
          -0.27308592200279236,
          -0.8305581212043762,
          -0.2715529799461365,
          -0.17420393228530884,
          -0.11475210636854172,
          -0.5275788307189941,
          -0.39636915922164917,
          -0.44964277744293213,
          -0.6745117902755737,
          -0.14691032469272614,
          -0.02442438155412674,
          -0.07264981418848038,
          -0.688859224319458,
          0.9735748767852783,
          0.6994466185569763,
          -0.19996483623981476,
          -0.05937134847044945,
          -0.4406197667121887,
          -0.291655957698822,
          -0.07550469785928726,
          -0.27054691314697266,
          0.16174417734146118,
          -0.09544996917247772,
          0.0654238760471344,
          -0.18893012404441833,
          -0.0332031175494194,
          -0.6451289057731628,
          -0.09749564528465271,
          -0.5506590008735657,
          0.5537643432617188,
          0.21652071177959442,
          -0.11445175111293793,
          0.493220716714859,
          -0.06914269924163818,
          -0.7739468216896057,
          -0.14772029221057892,
          -0.030085787177085876,
          0.3960871696472168
         ],
         "xaxis": "x2",
         "y": [
          42,
          42,
          42,
          42,
          42,
          42,
          42,
          42,
          42,
          42
         ],
         "yaxis": "y2"
        },
        {
         "marker": {
          "color": "red",
          "size": 10
         },
         "mode": "markers",
         "showlegend": false,
         "type": "scatter",
         "x": [
          -0.09088049829006195
         ],
         "xaxis": "x2",
         "y": [
          42,
          42,
          42,
          42,
          42,
          42,
          42,
          42,
          42,
          42
         ],
         "yaxis": "y2"
        },
        {
         "marker": {
          "color": "SkyBlue",
          "size": 10
         },
         "mode": "markers",
         "showlegend": false,
         "type": "scatter",
         "x": [
          0.4656734764575958,
          -0.9935726523399353,
          0.4056553840637207,
          -0.15832990407943726,
          -0.9981836676597595,
          0.6507428884506226,
          0.20165154337882996,
          0.6147677302360535,
          0.49027881026268005,
          -0.9947882890701294,
          0.15421655774116516,
          0.4343855082988739,
          0.9274816513061523,
          0.9913894534111023,
          -0.9821314811706543,
          0.1994931399822235,
          0.5694118738174438,
          -0.47023236751556396,
          0.7542732954025269,
          0.6523868441581726,
          0.46304750442504883,
          0.4468414783477783,
          0.6874660849571228,
          0.9138081073760986,
          -0.9862627983093262,
          0.47583723068237305,
          -0.9882463216781616,
          -0.9704606533050537,
          0.3329138159751892,
          0.9830105304718018,
          0.004417508840560913,
          0.30752813816070557,
          0.5827423334121704,
          0.31865960359573364,
          0.8590706586837769,
          -0.9858984351158142,
          0.3484008312225342,
          0.6663350462913513,
          -0.696951150894165,
          0.2982731759548187,
          0.6657376885414124,
          0.18862870335578918,
          0.46990132331848145,
          0.9153681397438049,
          0.8268221020698547,
          -0.971272885799408,
          0.422514945268631,
          0.5402252674102783,
          0.6888980269432068,
          -0.988391101360321
         ],
         "xaxis": "x2",
         "y": [
          45,
          45,
          45,
          45,
          45,
          45,
          45,
          45,
          45,
          45
         ],
         "yaxis": "y2"
        },
        {
         "marker": {
          "color": "red",
          "size": 10
         },
         "mode": "markers",
         "showlegend": false,
         "type": "scatter",
         "x": [
          0.17467069625854492
         ],
         "xaxis": "x2",
         "y": [
          45,
          45,
          45,
          45,
          45,
          45,
          45,
          45,
          45,
          45
         ],
         "yaxis": "y2"
        },
        {
         "marker": {
          "color": "SkyBlue",
          "size": 10
         },
         "mode": "markers",
         "showlegend": false,
         "type": "scatter",
         "x": [
          -0.5252311825752258,
          -0.6212859749794006,
          -0.9146342277526855,
          -0.023326031863689423,
          0.5775705575942993,
          0.12917588651180267,
          0.09110958874225616,
          0.7327853441238403,
          -0.16111713647842407,
          0.18598797917366028,
          0.3002829849720001,
          0.08271150290966034,
          -0.02242068201303482,
          0.3411472737789154,
          -0.8689426183700562,
          -0.9489689469337463,
          0.05104426294565201,
          -0.9432934522628784,
          -0.7782026529312134,
          0.09587348997592926,
          0.214351624250412,
          -0.7899112701416016,
          -0.9825094938278198,
          -0.9024968147277832,
          -0.4360544681549072,
          -0.2279902696609497,
          0.014099180698394775,
          -0.6372023224830627,
          -0.9503626823425293,
          0.2980557978153229,
          -0.7500612735748291,
          -0.39494550228118896,
          0.20872795581817627,
          -0.902523398399353,
          0.0026976466178894043,
          -0.9031326770782471,
          -0.9326983690261841,
          -0.2247239053249359,
          -0.8554156422615051,
          -0.5625439286231995,
          -0.9884948134422302,
          0.009297449141740799,
          -0.6837306022644043,
          -0.9891093373298645,
          -0.8366677761077881,
          -0.007799454033374786,
          -0.2651865482330322,
          -0.7177301049232483,
          -0.07383161038160324,
          -0.5798494219779968
         ],
         "xaxis": "x2",
         "y": [
          48,
          48,
          48,
          48,
          48,
          48,
          48,
          48,
          48,
          48
         ],
         "yaxis": "y2"
        },
        {
         "marker": {
          "color": "red",
          "size": 10
         },
         "mode": "markers",
         "showlegend": false,
         "type": "scatter",
         "x": [
          -0.36134952306747437
         ],
         "xaxis": "x2",
         "y": [
          48,
          48,
          48,
          48,
          48,
          48,
          48,
          48,
          48,
          48
         ],
         "yaxis": "y2"
        },
        {
         "marker": {
          "color": "SkyBlue",
          "size": 10
         },
         "mode": "markers",
         "showlegend": false,
         "type": "scatter",
         "x": [
          0.366584837436676,
          -0.04045802354812622,
          0.8093565702438354,
          0.4297613501548767,
          0.3362567722797394,
          0.9329272508621216,
          0.5120460391044617,
          0.21913579106330872,
          0.6583079099655151,
          0.7572618722915649,
          0.846996545791626,
          0.7762954235076904,
          0.14223676919937134,
          0.34630876779556274,
          0.08220115303993225,
          0.38271063566207886,
          0.37783342599868774,
          0.22843413054943085,
          0.45001792907714844,
          0.49164140224456787,
          0.5710527896881104,
          0.9091550707817078,
          0.7888503670692444,
          0.7276996374130249,
          0.310017466545105,
          0.6973521113395691,
          0.9174042344093323,
          0.02414560317993164,
          0.8080581426620483,
          0.7311666011810303,
          0.20801207423210144,
          0.49247094988822937,
          0.9902352094650269,
          0.15976496040821075,
          0.3697877526283264,
          0.33159342408180237,
          0.8781154155731201,
          0.3506641983985901,
          0.5609915852546692,
          0.7609047293663025,
          0.3664068281650543,
          0.1257530152797699,
          0.4746262729167938,
          0.9046207666397095,
          0.4330177903175354,
          -0.13994574546813965,
          0.25409188866615295,
          0.35042062401771545,
          0.9003532528877258,
          0.94153892993927
         ],
         "xaxis": "x2",
         "y": [
          51,
          51,
          51,
          51,
          51,
          51,
          51,
          51,
          51,
          51
         ],
         "yaxis": "y2"
        },
        {
         "marker": {
          "color": "red",
          "size": 10
         },
         "mode": "markers",
         "showlegend": false,
         "type": "scatter",
         "x": [
          0.5060836672782898
         ],
         "xaxis": "x2",
         "y": [
          51,
          51,
          51,
          51,
          51,
          51,
          51,
          51,
          51,
          51
         ],
         "yaxis": "y2"
        },
        {
         "marker": {
          "color": "SkyBlue",
          "size": 10
         },
         "mode": "markers",
         "showlegend": false,
         "type": "scatter",
         "x": [
          -0.5511635541915894,
          -0.8584754467010498,
          -0.9689117670059204,
          -0.46066513657569885,
          0.26596441864967346,
          0.48675161600112915,
          0.5503248572349548,
          -0.5718340873718262,
          0.6258730888366699,
          -0.7741295695304871,
          -0.7930812835693359,
          -0.6811578869819641,
          -0.7439959049224854,
          -0.78749680519104,
          0.713433027267456,
          -0.36880964040756226,
          -0.8372610807418823,
          -0.8706450462341309,
          -0.49135881662368774,
          0.6659278273582458,
          -0.6165956258773804,
          0.7857957482337952,
          -0.4924617409706116,
          -0.807574987411499,
          0.6410452723503113,
          -0.31431835889816284,
          0.6349664926528931,
          0.2673550844192505,
          -0.45351359248161316,
          -0.5280894041061401,
          -0.5094632506370544,
          -0.2771245241165161,
          -0.07330340147018433,
          -0.20419257879257202,
          0.00927773118019104,
          -0.23597583174705505,
          -0.6912688612937927,
          -0.33998119831085205,
          0.513507604598999,
          0.6324850916862488,
          -0.32101091742515564,
          -0.6482177972793579,
          -0.4577195644378662,
          -0.6631930470466614,
          -0.21613681316375732,
          0.23019307851791382,
          -0.7280112504959106,
          -0.809442937374115,
          -0.5359539985656738,
          -0.1330333650112152
         ],
         "xaxis": "x2",
         "y": [
          54,
          54,
          54,
          54,
          54,
          54,
          54,
          54,
          54,
          54
         ],
         "yaxis": "y2"
        },
        {
         "marker": {
          "color": "red",
          "size": 10
         },
         "mode": "markers",
         "showlegend": false,
         "type": "scatter",
         "x": [
          -0.2558533847332001
         ],
         "xaxis": "x2",
         "y": [
          54,
          54,
          54,
          54,
          54,
          54,
          54,
          54,
          54,
          54
         ],
         "yaxis": "y2"
        },
        {
         "marker": {
          "color": "SkyBlue",
          "size": 10
         },
         "mode": "markers",
         "showlegend": false,
         "type": "scatter",
         "x": [
          0.994038462638855,
          -0.10426370799541473,
          0.2873848080635071,
          0.9723859429359436,
          0.9352768063545227,
          0.9704462289810181,
          0.9110420942306519,
          0.9165588021278381,
          -0.6997308731079102,
          -0.15394651889801025,
          -0.01204119622707367,
          0.6950494647026062,
          -0.2216062843799591,
          -0.20186573266983032,
          -0.311624139547348,
          0.18513748049736023,
          0.8300093412399292,
          0.8638488054275513,
          -0.2781093120574951,
          0.9812726974487305,
          -0.7147324085235596,
          0.6708110570907593,
          0.9635201692581177,
          0.8776854872703552,
          0.9887773990631104,
          0.6100610494613647,
          -0.6766481399536133,
          0.7759401798248291,
          0.8636254072189331,
          -0.7501377463340759,
          0.6140003204345703,
          0.21210497617721558,
          0.9244362711906433,
          0.8741195201873779,
          0.7681776285171509,
          0.7000176906585693,
          0.01727113127708435,
          -0.38737085461616516,
          0.7866359353065491,
          0.47405534982681274,
          0.13656698167324066,
          -0.3457299768924713,
          0.8068881034851074,
          -0.8429370522499084,
          0.9022641181945801,
          0.6580567955970764,
          0.32873743772506714,
          -0.031623318791389465,
          0.8766171932220459,
          0.9176263809204102
         ],
         "xaxis": "x2",
         "y": [
          57,
          57,
          57,
          57,
          57,
          57,
          57,
          57,
          57,
          57
         ],
         "yaxis": "y2"
        },
        {
         "marker": {
          "color": "red",
          "size": 10
         },
         "mode": "markers",
         "showlegend": false,
         "type": "scatter",
         "x": [
          0.39116156101226807
         ],
         "xaxis": "x2",
         "y": [
          57,
          57,
          57,
          57,
          57,
          57,
          57,
          57,
          57,
          57
         ],
         "yaxis": "y2"
        },
        {
         "marker": {
          "color": "SkyBlue",
          "size": 10
         },
         "mode": "markers",
         "showlegend": false,
         "type": "scatter",
         "x": [
          -0.8977913856506348,
          -0.7656357288360596,
          0.158935546875,
          -0.10833989083766937,
          0.12281878292560577,
          0.19872406125068665,
          0.247322678565979,
          -0.7134369015693665,
          -0.879710853099823,
          -0.8219623565673828,
          0.17593547701835632,
          -0.8787357211112976,
          -0.5640108585357666,
          0.6928899884223938,
          -0.8474816679954529,
          -0.17450201511383057,
          -0.9686697721481323,
          -0.4153614938259125,
          -0.8789296746253967,
          -0.9060254693031311,
          0.1405879557132721,
          -0.9121085405349731,
          -0.9186943769454956,
          -0.945672869682312,
          -0.4815766215324402,
          -0.7674050331115723,
          -0.9003505110740662,
          -0.9547677040100098,
          -0.5202724933624268,
          -0.985321044921875,
          -0.7401878833770752,
          0.3652024269104004,
          -0.31485241651535034,
          -0.16246573626995087,
          -0.8167310953140259,
          0.22209328413009644,
          -0.23286262154579163,
          -0.15205153822898865,
          0.24938464164733887,
          -0.5472947955131531,
          0.1308971643447876,
          0.22669482231140137,
          -0.5317583084106445,
          0.17342479526996613,
          -0.8520643711090088,
          0.10244619846343994,
          -0.7147282361984253,
          -0.8442778587341309,
          -0.9761274456977844,
          -0.7551625967025757
         ],
         "xaxis": "x2",
         "y": [
          60,
          60,
          60,
          60,
          60,
          60,
          60,
          60,
          60,
          60
         ],
         "yaxis": "y2"
        },
        {
         "marker": {
          "color": "red",
          "size": 10
         },
         "mode": "markers",
         "showlegend": false,
         "type": "scatter",
         "x": [
          -0.43279942870140076
         ],
         "xaxis": "x2",
         "y": [
          60,
          60,
          60,
          60,
          60,
          60,
          60,
          60,
          60,
          60
         ],
         "yaxis": "y2"
        },
        {
         "marker": {
          "color": "SkyBlue",
          "size": 10
         },
         "mode": "markers",
         "showlegend": false,
         "type": "scatter",
         "x": [
          0.9559367895126343,
          -0.5590949058532715,
          0.4913793206214905,
          0.5796048045158386,
          0.9984250664710999,
          0.9494491219520569,
          -0.9906233549118042,
          0.7183509469032288,
          -0.9682916402816772,
          0.975928008556366,
          0.92230224609375,
          0.9520407915115356,
          0.03136099874973297,
          0.7642967700958252,
          -0.7733080387115479,
          0.6721621155738831,
          -0.6793243885040283,
          -0.9258127808570862,
          0.9454867243766785,
          0.9455595016479492,
          -0.9643731713294983,
          0.927379846572876,
          -0.70000159740448,
          -0.8975322842597961,
          0.9257727861404419,
          0.6492997407913208,
          -0.5315178632736206,
          0.5345665216445923,
          0.9217839241027832,
          -0.9497478604316711,
          -0.9415561556816101,
          -0.6423193216323853,
          0.908781111240387,
          -0.9037429690361023,
          0.5363134145736694,
          -0.8269497156143188,
          0.9623321890830994,
          -0.9414080381393433,
          0.9258153438568115,
          0.8685551881790161,
          0.589868426322937,
          0.43672025203704834,
          0.9868525266647339,
          -0.7253316044807434,
          0.9205623865127563,
          0.9542356729507446,
          0.5174466371536255,
          0.9536101222038269,
          -0.5967783331871033,
          0.9278576374053955
         ],
         "xaxis": "x2",
         "y": [
          63,
          63,
          63,
          63,
          63,
          63,
          63,
          63,
          63,
          63
         ],
         "yaxis": "y2"
        },
        {
         "marker": {
          "color": "red",
          "size": 10
         },
         "mode": "markers",
         "showlegend": false,
         "type": "scatter",
         "x": [
          0.2166464626789093
         ],
         "xaxis": "x2",
         "y": [
          63,
          63,
          63,
          63,
          63,
          63,
          63,
          63,
          63,
          63
         ],
         "yaxis": "y2"
        },
        {
         "marker": {
          "color": "SkyBlue",
          "size": 10
         },
         "mode": "markers",
         "showlegend": false,
         "type": "scatter",
         "x": [
          -0.04231584072113037,
          -0.253868043422699,
          -0.23309078812599182,
          -0.9667285084724426,
          0.6809865832328796,
          -0.9974228739738464,
          0.7910141944885254,
          -0.4160102307796478,
          -0.0707131028175354,
          0.8715716600418091,
          -0.43427056074142456,
          -0.3787785768508911,
          -0.39896583557128906,
          0.47891518473625183,
          -0.14395126700401306,
          0.8324113488197327,
          0.7670634984970093,
          -0.3593837320804596,
          0.08627450466156006,
          0.5433715581893921,
          0.6044504046440125,
          -0.4623711109161377,
          0.3487890958786011,
          0.7329762578010559,
          -0.3980063796043396,
          -0.1528167873620987,
          0.6147425770759583,
          -0.33264249563217163,
          0.720460832118988,
          -0.33626264333724976,
          -0.6671065092086792,
          0.6147868633270264,
          0.7978134751319885,
          0.5591961741447449,
          0.68528151512146,
          -0.8492850065231323,
          -0.2016593962907791,
          -0.21279847621917725,
          0.3738670349121094,
          0.15585097670555115,
          0.2865906357765198,
          0.16589415073394775,
          -0.33731508255004883,
          0.24884076416492462,
          0.8732969760894775,
          0.19384826719760895,
          0.7596220374107361,
          -0.8205857276916504,
          0.1558103859424591,
          0.2483476996421814
         ],
         "xaxis": "x2",
         "y": [
          66,
          66,
          66,
          66,
          66,
          66,
          66,
          66,
          66,
          66
         ],
         "yaxis": "y2"
        },
        {
         "marker": {
          "color": "red",
          "size": 10
         },
         "mode": "markers",
         "showlegend": false,
         "type": "scatter",
         "x": [
          0.09451451152563095
         ],
         "xaxis": "x2",
         "y": [
          66,
          66,
          66,
          66,
          66,
          66,
          66,
          66,
          66,
          66
         ],
         "yaxis": "y2"
        },
        {
         "marker": {
          "color": "SkyBlue",
          "size": 10
         },
         "mode": "markers",
         "showlegend": false,
         "type": "scatter",
         "x": [
          -0.11644244939088821,
          -0.6884866952896118,
          0.28656381368637085,
          0.2415706366300583,
          0.4970777928829193,
          0.7694208025932312,
          -0.060602009296417236,
          0.7968835830688477,
          -0.5844706892967224,
          0.22175127267837524,
          0.28479740023612976,
          -0.22371181845664978,
          -0.21799823641777039,
          0.2347593456506729,
          -0.7095628976821899,
          0.47591468691825867,
          -0.30151116847991943,
          -0.3176763951778412,
          -0.493173748254776,
          -0.35775160789489746,
          0.34161892533302307,
          -0.9583685398101807,
          0.009061217308044434,
          -0.64599609375,
          -0.27796879410743713,
          -0.2270066738128662,
          -0.6892751455307007,
          -0.025021076202392578,
          -0.7056991457939148,
          -0.113237664103508,
          0.3080035150051117,
          -0.6095688343048096,
          -0.2807543873786926,
          -0.2465803325176239,
          0.7352131605148315,
          0.3415493667125702,
          -0.09296852350234985,
          -0.6507337689399719,
          -0.425137996673584,
          0.13872495293617249,
          -0.2861277759075165,
          0.22472812235355377,
          0.6673082709312439,
          -0.9244733452796936,
          -0.652856707572937,
          -0.31586167216300964,
          -0.420714795589447,
          0.13598091900348663,
          -0.7402182221412659,
          -0.5298848748207092
         ],
         "xaxis": "x2",
         "y": [
          69,
          69,
          69,
          69,
          69,
          69,
          69,
          69,
          69,
          69
         ],
         "yaxis": "y2"
        },
        {
         "marker": {
          "color": "red",
          "size": 10
         },
         "mode": "markers",
         "showlegend": false,
         "type": "scatter",
         "x": [
          -0.14357829093933105
         ],
         "xaxis": "x2",
         "y": [
          69,
          69,
          69,
          69,
          69,
          69,
          69,
          69,
          69,
          69
         ],
         "yaxis": "y2"
        },
        {
         "marker": {
          "color": "SkyBlue",
          "size": 10
         },
         "mode": "markers",
         "showlegend": false,
         "type": "scatter",
         "x": [
          -0.5203817486763,
          -0.4246898889541626,
          0.23859789967536926,
          -0.4108234941959381,
          -0.7867230176925659,
          0.484220951795578,
          -0.8767756223678589,
          -0.7281849384307861,
          -0.6180002689361572,
          -0.5194745063781738,
          -0.7349342107772827,
          -0.6150048971176147,
          -0.8637601137161255,
          0.43004727363586426,
          -0.6156589388847351,
          -0.6268988847732544,
          -0.5531281232833862,
          -0.6707419157028198,
          0.1089896559715271,
          -0.8344503045082092,
          -0.7984325885772705,
          -0.5933617353439331,
          -0.5920798182487488,
          -0.5852049589157104,
          -0.6136273741722107,
          -0.802119791507721,
          0.9352806210517883,
          -0.7633486390113831,
          -0.41775423288345337,
          -0.841397762298584,
          0.5536035299301147,
          -0.6227473020553589,
          -0.546029269695282,
          0.04748013615608215,
          0.8592227697372437,
          -0.7143884301185608,
          -0.9489811658859253,
          0.2038523256778717,
          -0.8390617370605469,
          -0.7879332304000854,
          -0.763045072555542,
          0.7112169861793518,
          0.31492477655410767,
          0.5044413805007935,
          -0.9027289152145386,
          0.9775615334510803,
          -0.9317775964736938,
          -0.5639621019363403,
          0.7379589080810547,
          -0.8585436344146729
         ],
         "xaxis": "x2",
         "y": [
          72,
          72,
          72,
          72,
          72,
          72,
          72,
          72,
          72,
          72
         ],
         "yaxis": "y2"
        },
        {
         "marker": {
          "color": "red",
          "size": 10
         },
         "mode": "markers",
         "showlegend": false,
         "type": "scatter",
         "x": [
          -0.3555751442909241
         ],
         "xaxis": "x2",
         "y": [
          72,
          72,
          72,
          72,
          72,
          72,
          72,
          72,
          72,
          72
         ],
         "yaxis": "y2"
        },
        {
         "marker": {
          "color": "SkyBlue",
          "size": 10
         },
         "mode": "markers",
         "showlegend": false,
         "type": "scatter",
         "x": [
          0.9293205142021179,
          0.2494291365146637,
          0.016354814171791077,
          0.9722476005554199,
          0.8361184000968933,
          0.34883251786231995,
          0.037377506494522095,
          0.8366323709487915,
          -0.23036134243011475,
          0.9733002781867981,
          0.09969437122344971,
          0.8109411001205444,
          -0.08821602165699005,
          0.837692379951477,
          -0.23437350988388062,
          0.7383575439453125,
          0.028970208019018173,
          -0.6077232360839844,
          0.18616938591003418,
          -0.620531439781189,
          -0.06634717434644699,
          0.8739069700241089,
          -0.15301965177059174,
          0.8285787105560303,
          0.09304280579090118,
          -0.15698178112506866,
          -0.4243066608905792,
          -0.1788034588098526,
          0.7420463562011719,
          0.48427098989486694,
          0.42172688245773315,
          0.18911463022232056,
          0.0773548036813736,
          0.9395084381103516,
          0.8978689312934875,
          0.9512088298797607,
          0.7360532283782959,
          0.8508284091949463,
          0.9158642888069153,
          0.9173140525817871,
          0.7885245680809021,
          0.2947143614292145,
          0.8159662485122681,
          -0.6030605435371399,
          0.1453321874141693,
          -0.01671718806028366,
          0.8684627413749695,
          0.7752823233604431,
          -0.3613620400428772,
          0.30744221806526184
         ],
         "xaxis": "x2",
         "y": [
          75,
          75,
          75,
          75,
          75,
          75,
          75,
          75,
          75,
          75
         ],
         "yaxis": "y2"
        },
        {
         "marker": {
          "color": "red",
          "size": 10
         },
         "mode": "markers",
         "showlegend": false,
         "type": "scatter",
         "x": [
          0.3614809513092041
         ],
         "xaxis": "x2",
         "y": [
          75,
          75,
          75,
          75,
          75,
          75,
          75,
          75,
          75,
          75
         ],
         "yaxis": "y2"
        },
        {
         "marker": {
          "color": "SkyBlue",
          "size": 10
         },
         "mode": "markers",
         "showlegend": false,
         "type": "scatter",
         "x": [
          -0.28863149881362915,
          -0.26226186752319336,
          -0.6683260202407837,
          -0.13129529356956482,
          0.23479115962982178,
          0.04071149230003357,
          0.9173495769500732,
          -0.21895098686218262,
          0.041884660720825195,
          0.05987890437245369,
          0.9209762811660767,
          -0.5155367255210876,
          -0.17446571588516235,
          -0.3951312303543091,
          0.02448873594403267,
          0.4336360991001129,
          0.8491653800010681,
          0.757940411567688,
          -0.283774197101593,
          0.9688260555267334,
          -0.6899770498275757,
          -0.3575372099876404,
          0.025263488292694092,
          0.6507214307785034,
          -0.2644505202770233,
          0.19539134204387665,
          0.9166306257247925,
          -0.3664337396621704,
          -0.4167713522911072,
          -0.4888780415058136,
          -0.5274564027786255,
          -0.6134083867073059,
          -0.16560795903205872,
          -0.374442458152771,
          0.12357357144355774,
          -0.741342306137085,
          -0.24099549651145935,
          0.8761857151985168,
          -0.31312626600265503,
          -0.19768977165222168,
          0.4167829155921936,
          -0.11073967814445496,
          0.22014856338500977,
          0.946481466293335,
          0.7514472007751465,
          -0.004269242286682129,
          -0.0847846120595932,
          -0.2452845275402069,
          0.8667743802070618,
          -0.07371437549591064
         ],
         "xaxis": "x2",
         "y": [
          78,
          78,
          78,
          78,
          78,
          78,
          78,
          78,
          78,
          78
         ],
         "yaxis": "y2"
        },
        {
         "marker": {
          "color": "red",
          "size": 10
         },
         "mode": "markers",
         "showlegend": false,
         "type": "scatter",
         "x": [
          0.040475331246852875
         ],
         "xaxis": "x2",
         "y": [
          78,
          78,
          78,
          78,
          78,
          78,
          78,
          78,
          78,
          78
         ],
         "yaxis": "y2"
        },
        {
         "marker": {
          "color": "SkyBlue",
          "size": 10
         },
         "mode": "markers",
         "showlegend": false,
         "type": "scatter",
         "x": [
          -0.867841362953186,
          0.5035150051116943,
          0.06130172684788704,
          0.7784336805343628,
          0.5977827310562134,
          0.30873650312423706,
          0.5996093153953552,
          0.37348371744155884,
          -0.6915621161460876,
          -0.057415157556533813,
          -0.5031358599662781,
          -0.5878702402114868,
          0.7491657733917236,
          -0.993493378162384,
          -0.47001913189888,
          -0.04099494218826294,
          -0.5128598809242249,
          0.49091923236846924,
          -0.7262859344482422,
          -0.39492863416671753,
          -0.4254021644592285,
          -0.27910035848617554,
          0.10288754105567932,
          0.5590831637382507,
          -0.2761150598526001,
          0.05129846930503845,
          0.10522376000881195,
          0.8005622625350952,
          0.7095583081245422,
          0.00887712836265564,
          -0.2581046521663666,
          0.2826145887374878,
          0.3176901340484619,
          0.8052604794502258,
          0.8532572984695435,
          0.7374734878540039,
          -0.49819356203079224,
          0.3000972270965576,
          -0.28683263063430786,
          -0.2565653324127197,
          -0.5520633459091187,
          -0.27802422642707825,
          0.3372291326522827,
          0.5565534830093384,
          0.4911002516746521,
          0.02400827407836914,
          -0.8074752688407898,
          0.38285067677497864,
          -0.7856914401054382,
          -0.9069885015487671
         ],
         "xaxis": "x2",
         "y": [
          81,
          81,
          81,
          81,
          81,
          81,
          81,
          81,
          81,
          81
         ],
         "yaxis": "y2"
        },
        {
         "marker": {
          "color": "red",
          "size": 10
         },
         "mode": "markers",
         "showlegend": false,
         "type": "scatter",
         "x": [
          0.008632213808596134
         ],
         "xaxis": "x2",
         "y": [
          81,
          81,
          81,
          81,
          81,
          81,
          81,
          81,
          81,
          81
         ],
         "yaxis": "y2"
        },
        {
         "marker": {
          "color": "SkyBlue",
          "size": 10
         },
         "mode": "markers",
         "showlegend": false,
         "type": "scatter",
         "x": [
          -0.07165881991386414,
          -0.2594090700149536,
          -0.03138653188943863,
          -0.33656951785087585,
          0.936152458190918,
          -0.67769855260849,
          0.3297855257987976,
          0.8838481903076172,
          -0.8789894580841064,
          -0.23353691399097443,
          -0.31712985038757324,
          -0.14067493379116058,
          -0.9973205327987671,
          -0.4601700007915497,
          0.9098145961761475,
          0.9051246047019958,
          -0.18830065429210663,
          0.8684731721878052,
          -0.04988577589392662,
          -0.540440559387207,
          -0.680513858795166,
          -0.09023914486169815,
          0.23003235459327698,
          -0.1827501505613327,
          -0.9779414534568787,
          -0.14362332224845886,
          -0.7030544877052307,
          0.9646130800247192,
          -0.48052436113357544,
          0.13708704710006714,
          -0.5205573439598083,
          -0.48202288150787354,
          -0.8418053388595581,
          -0.799710214138031,
          -0.43008071184158325,
          -0.24675646424293518,
          0.17361539602279663,
          -0.3842277228832245,
          -0.04655441641807556,
          0.9316325783729553,
          -0.20395196974277496,
          -0.5421807169914246,
          0.7113775610923767,
          -0.9390836358070374,
          0.7589075565338135,
          -0.38312479853630066,
          -0.38010433316230774,
          0.9943177700042725,
          0.46513599157333374,
          0.31644439697265625
         ],
         "xaxis": "x2",
         "y": [
          84,
          84,
          84,
          84,
          84,
          84,
          84,
          84,
          84,
          84
         ],
         "yaxis": "y2"
        },
        {
         "marker": {
          "color": "red",
          "size": 10
         },
         "mode": "markers",
         "showlegend": false,
         "type": "scatter",
         "x": [
          -0.08251233398914337
         ],
         "xaxis": "x2",
         "y": [
          84,
          84,
          84,
          84,
          84,
          84,
          84,
          84,
          84,
          84
         ],
         "yaxis": "y2"
        },
        {
         "marker": {
          "color": "SkyBlue",
          "size": 10
         },
         "mode": "markers",
         "showlegend": false,
         "type": "scatter",
         "x": [
          -0.02329130470752716,
          0.9828692674636841,
          0.7308703660964966,
          0.03732672333717346,
          0.9334055185317993,
          0.4445199966430664,
          0.7368258833885193,
          0.9757657647132874,
          -0.5614616274833679,
          0.024344898760318756,
          0.039299845695495605,
          -0.3934488892555237,
          0.9981099963188171,
          0.6937320232391357,
          -0.23485122621059418,
          0.6795272827148438,
          0.06233024224638939,
          -0.21170467138290405,
          0.6881240010261536,
          -0.4855077862739563,
          0.7126105427742004,
          0.8392187356948853,
          -0.11109554022550583,
          0.7469366192817688,
          0.7890902757644653,
          -0.24852852523326874,
          0.9682514667510986,
          0.9967714548110962,
          -0.3619186580181122,
          0.9644119739532471,
          0.722084641456604,
          0.15981847047805786,
          0.971305787563324,
          0.11018766462802887,
          0.9882916808128357,
          0.1115768700838089,
          -0.043850719928741455,
          0.2843485176563263,
          -0.25209400057792664,
          0.3352510333061218,
          0.6891586184501648,
          0.5113093256950378,
          0.8915349245071411,
          0.10164185613393784,
          0.09506221115589142,
          0.9528111815452576,
          0.9842759370803833,
          0.31842201948165894,
          0.23037686944007874,
          0.03175583481788635
         ],
         "xaxis": "x2",
         "y": [
          87,
          87,
          87,
          87,
          87,
          87,
          87,
          87,
          87,
          87
         ],
         "yaxis": "y2"
        },
        {
         "marker": {
          "color": "red",
          "size": 10
         },
         "mode": "markers",
         "showlegend": false,
         "type": "scatter",
         "x": [
          0.3921160399913788
         ],
         "xaxis": "x2",
         "y": [
          87,
          87,
          87,
          87,
          87,
          87,
          87,
          87,
          87,
          87
         ],
         "yaxis": "y2"
        },
        {
         "marker": {
          "color": "SkyBlue",
          "size": 10
         },
         "mode": "markers",
         "showlegend": false,
         "type": "scatter",
         "x": [
          -0.875248372554779,
          -0.941694974899292,
          -0.9938223958015442,
          -0.877571702003479,
          0.6034323573112488,
          -0.9622717499732971,
          -0.9647464752197266,
          0.5930188894271851,
          -0.9512749910354614,
          -0.16382360458374023,
          -0.9248858690261841,
          0.4905088543891907,
          0.552624523639679,
          0.2953728437423706,
          -0.985641598701477,
          0.07914912700653076,
          -0.9260146617889404,
          0.38191667199134827,
          0.44535326957702637,
          0.5026676058769226,
          0.9028803110122681,
          -0.6888435482978821,
          0.3727004826068878,
          0.06877923011779785,
          0.8964636921882629,
          -0.969215452671051,
          -0.9819323420524597,
          0.7464467883110046,
          -0.9749128222465515,
          0.34864184260368347,
          -0.9125762581825256,
          -0.9906590580940247,
          0.21983955800533295,
          0.47345587611198425,
          0.3962176740169525,
          0.24193249642848969,
          -0.9015786647796631,
          -0.9454026222229004,
          0.48828187584877014,
          -0.9632463455200195,
          0.4079369306564331,
          0.37097662687301636,
          -0.9866929650306702,
          -0.11491739749908447,
          -0.9927941560745239,
          0.17125056684017181,
          -0.9820057153701782,
          0.3641199767589569,
          -0.9851915836334229,
          -0.9383469223976135
         ],
         "xaxis": "x2",
         "y": [
          90,
          90,
          90,
          90,
          90,
          90,
          90,
          90,
          90,
          90
         ],
         "yaxis": "y2"
        },
        {
         "marker": {
          "color": "red",
          "size": 10
         },
         "mode": "markers",
         "showlegend": false,
         "type": "scatter",
         "x": [
          -0.24962688982486725
         ],
         "xaxis": "x2",
         "y": [
          90,
          90,
          90,
          90,
          90,
          90,
          90,
          90,
          90,
          90
         ],
         "yaxis": "y2"
        },
        {
         "marker": {
          "color": "SkyBlue",
          "size": 10
         },
         "mode": "markers",
         "showlegend": false,
         "type": "scatter",
         "x": [
          -0.4915738105773926,
          0.2990260720252991,
          0.4462873041629791,
          0.6639816164970398,
          0.5102541446685791,
          0.9415537714958191,
          -0.302679181098938,
          0.5741150379180908,
          0.39180058240890503,
          0.5902324914932251,
          -0.9566328525543213,
          0.7911836504936218,
          -0.6338919997215271,
          0.45428186655044556,
          -0.9403842091560364,
          0.7090814709663391,
          0.5860530138015747,
          0.337531715631485,
          0.3443352282047272,
          0.5195591449737549,
          0.5227864980697632,
          0.19660578668117523,
          0.9874249696731567,
          0.5222806334495544,
          0.2230091094970703,
          -0.5863571166992188,
          0.5942975282669067,
          -0.8338194489479065,
          0.5989507436752319,
          -0.8206582069396973,
          0.42919057607650757,
          -0.6362718939781189,
          0.24909855425357819,
          0.040603578090667725,
          0.35870927572250366,
          0.8909419775009155,
          0.24451342225074768,
          -0.10467368364334106,
          -0.7271462082862854,
          0.4293897747993469,
          -0.16981524229049683,
          -0.5691032409667969,
          -0.5341958403587341,
          -0.7297216653823853,
          -0.6216633319854736,
          0.3484109342098236,
          0.5491712689399719,
          0.3916396498680115,
          -0.8479411602020264,
          0.2892798185348511
         ],
         "xaxis": "x2",
         "y": [
          93,
          93,
          93,
          93,
          93,
          93,
          93,
          93,
          93,
          93
         ],
         "yaxis": "y2"
        },
        {
         "marker": {
          "color": "red",
          "size": 10
         },
         "mode": "markers",
         "showlegend": false,
         "type": "scatter",
         "x": [
          0.11038102954626083
         ],
         "xaxis": "x2",
         "y": [
          93,
          93,
          93,
          93,
          93,
          93,
          93,
          93,
          93,
          93
         ],
         "yaxis": "y2"
        }
       ],
       "layout": {
        "font": {
         "family": "Courier New, monospace",
         "size": 14
        },
        "template": {
         "data": {
          "bar": [
           {
            "error_x": {
             "color": "#2a3f5f"
            },
            "error_y": {
             "color": "#2a3f5f"
            },
            "marker": {
             "line": {
              "color": "#E5ECF6",
              "width": 0.5
             }
            },
            "type": "bar"
           }
          ],
          "barpolar": [
           {
            "marker": {
             "line": {
              "color": "#E5ECF6",
              "width": 0.5
             }
            },
            "type": "barpolar"
           }
          ],
          "carpet": [
           {
            "aaxis": {
             "endlinecolor": "#2a3f5f",
             "gridcolor": "white",
             "linecolor": "white",
             "minorgridcolor": "white",
             "startlinecolor": "#2a3f5f"
            },
            "baxis": {
             "endlinecolor": "#2a3f5f",
             "gridcolor": "white",
             "linecolor": "white",
             "minorgridcolor": "white",
             "startlinecolor": "#2a3f5f"
            },
            "type": "carpet"
           }
          ],
          "choropleth": [
           {
            "colorbar": {
             "outlinewidth": 0,
             "ticks": ""
            },
            "type": "choropleth"
           }
          ],
          "contour": [
           {
            "colorbar": {
             "outlinewidth": 0,
             "ticks": ""
            },
            "colorscale": [
             [
              0,
              "#0d0887"
             ],
             [
              0.1111111111111111,
              "#46039f"
             ],
             [
              0.2222222222222222,
              "#7201a8"
             ],
             [
              0.3333333333333333,
              "#9c179e"
             ],
             [
              0.4444444444444444,
              "#bd3786"
             ],
             [
              0.5555555555555556,
              "#d8576b"
             ],
             [
              0.6666666666666666,
              "#ed7953"
             ],
             [
              0.7777777777777778,
              "#fb9f3a"
             ],
             [
              0.8888888888888888,
              "#fdca26"
             ],
             [
              1,
              "#f0f921"
             ]
            ],
            "type": "contour"
           }
          ],
          "contourcarpet": [
           {
            "colorbar": {
             "outlinewidth": 0,
             "ticks": ""
            },
            "type": "contourcarpet"
           }
          ],
          "heatmap": [
           {
            "colorbar": {
             "outlinewidth": 0,
             "ticks": ""
            },
            "colorscale": [
             [
              0,
              "#0d0887"
             ],
             [
              0.1111111111111111,
              "#46039f"
             ],
             [
              0.2222222222222222,
              "#7201a8"
             ],
             [
              0.3333333333333333,
              "#9c179e"
             ],
             [
              0.4444444444444444,
              "#bd3786"
             ],
             [
              0.5555555555555556,
              "#d8576b"
             ],
             [
              0.6666666666666666,
              "#ed7953"
             ],
             [
              0.7777777777777778,
              "#fb9f3a"
             ],
             [
              0.8888888888888888,
              "#fdca26"
             ],
             [
              1,
              "#f0f921"
             ]
            ],
            "type": "heatmap"
           }
          ],
          "heatmapgl": [
           {
            "colorbar": {
             "outlinewidth": 0,
             "ticks": ""
            },
            "colorscale": [
             [
              0,
              "#0d0887"
             ],
             [
              0.1111111111111111,
              "#46039f"
             ],
             [
              0.2222222222222222,
              "#7201a8"
             ],
             [
              0.3333333333333333,
              "#9c179e"
             ],
             [
              0.4444444444444444,
              "#bd3786"
             ],
             [
              0.5555555555555556,
              "#d8576b"
             ],
             [
              0.6666666666666666,
              "#ed7953"
             ],
             [
              0.7777777777777778,
              "#fb9f3a"
             ],
             [
              0.8888888888888888,
              "#fdca26"
             ],
             [
              1,
              "#f0f921"
             ]
            ],
            "type": "heatmapgl"
           }
          ],
          "histogram": [
           {
            "marker": {
             "colorbar": {
              "outlinewidth": 0,
              "ticks": ""
             }
            },
            "type": "histogram"
           }
          ],
          "histogram2d": [
           {
            "colorbar": {
             "outlinewidth": 0,
             "ticks": ""
            },
            "colorscale": [
             [
              0,
              "#0d0887"
             ],
             [
              0.1111111111111111,
              "#46039f"
             ],
             [
              0.2222222222222222,
              "#7201a8"
             ],
             [
              0.3333333333333333,
              "#9c179e"
             ],
             [
              0.4444444444444444,
              "#bd3786"
             ],
             [
              0.5555555555555556,
              "#d8576b"
             ],
             [
              0.6666666666666666,
              "#ed7953"
             ],
             [
              0.7777777777777778,
              "#fb9f3a"
             ],
             [
              0.8888888888888888,
              "#fdca26"
             ],
             [
              1,
              "#f0f921"
             ]
            ],
            "type": "histogram2d"
           }
          ],
          "histogram2dcontour": [
           {
            "colorbar": {
             "outlinewidth": 0,
             "ticks": ""
            },
            "colorscale": [
             [
              0,
              "#0d0887"
             ],
             [
              0.1111111111111111,
              "#46039f"
             ],
             [
              0.2222222222222222,
              "#7201a8"
             ],
             [
              0.3333333333333333,
              "#9c179e"
             ],
             [
              0.4444444444444444,
              "#bd3786"
             ],
             [
              0.5555555555555556,
              "#d8576b"
             ],
             [
              0.6666666666666666,
              "#ed7953"
             ],
             [
              0.7777777777777778,
              "#fb9f3a"
             ],
             [
              0.8888888888888888,
              "#fdca26"
             ],
             [
              1,
              "#f0f921"
             ]
            ],
            "type": "histogram2dcontour"
           }
          ],
          "mesh3d": [
           {
            "colorbar": {
             "outlinewidth": 0,
             "ticks": ""
            },
            "type": "mesh3d"
           }
          ],
          "parcoords": [
           {
            "line": {
             "colorbar": {
              "outlinewidth": 0,
              "ticks": ""
             }
            },
            "type": "parcoords"
           }
          ],
          "pie": [
           {
            "automargin": true,
            "type": "pie"
           }
          ],
          "scatter": [
           {
            "marker": {
             "colorbar": {
              "outlinewidth": 0,
              "ticks": ""
             }
            },
            "type": "scatter"
           }
          ],
          "scatter3d": [
           {
            "line": {
             "colorbar": {
              "outlinewidth": 0,
              "ticks": ""
             }
            },
            "marker": {
             "colorbar": {
              "outlinewidth": 0,
              "ticks": ""
             }
            },
            "type": "scatter3d"
           }
          ],
          "scattercarpet": [
           {
            "marker": {
             "colorbar": {
              "outlinewidth": 0,
              "ticks": ""
             }
            },
            "type": "scattercarpet"
           }
          ],
          "scattergeo": [
           {
            "marker": {
             "colorbar": {
              "outlinewidth": 0,
              "ticks": ""
             }
            },
            "type": "scattergeo"
           }
          ],
          "scattergl": [
           {
            "marker": {
             "colorbar": {
              "outlinewidth": 0,
              "ticks": ""
             }
            },
            "type": "scattergl"
           }
          ],
          "scattermapbox": [
           {
            "marker": {
             "colorbar": {
              "outlinewidth": 0,
              "ticks": ""
             }
            },
            "type": "scattermapbox"
           }
          ],
          "scatterpolar": [
           {
            "marker": {
             "colorbar": {
              "outlinewidth": 0,
              "ticks": ""
             }
            },
            "type": "scatterpolar"
           }
          ],
          "scatterpolargl": [
           {
            "marker": {
             "colorbar": {
              "outlinewidth": 0,
              "ticks": ""
             }
            },
            "type": "scatterpolargl"
           }
          ],
          "scatterternary": [
           {
            "marker": {
             "colorbar": {
              "outlinewidth": 0,
              "ticks": ""
             }
            },
            "type": "scatterternary"
           }
          ],
          "surface": [
           {
            "colorbar": {
             "outlinewidth": 0,
             "ticks": ""
            },
            "colorscale": [
             [
              0,
              "#0d0887"
             ],
             [
              0.1111111111111111,
              "#46039f"
             ],
             [
              0.2222222222222222,
              "#7201a8"
             ],
             [
              0.3333333333333333,
              "#9c179e"
             ],
             [
              0.4444444444444444,
              "#bd3786"
             ],
             [
              0.5555555555555556,
              "#d8576b"
             ],
             [
              0.6666666666666666,
              "#ed7953"
             ],
             [
              0.7777777777777778,
              "#fb9f3a"
             ],
             [
              0.8888888888888888,
              "#fdca26"
             ],
             [
              1,
              "#f0f921"
             ]
            ],
            "type": "surface"
           }
          ],
          "table": [
           {
            "cells": {
             "fill": {
              "color": "#EBF0F8"
             },
             "line": {
              "color": "white"
             }
            },
            "header": {
             "fill": {
              "color": "#C8D4E3"
             },
             "line": {
              "color": "white"
             }
            },
            "type": "table"
           }
          ]
         },
         "layout": {
          "annotationdefaults": {
           "arrowcolor": "#2a3f5f",
           "arrowhead": 0,
           "arrowwidth": 1
          },
          "autotypenumbers": "strict",
          "coloraxis": {
           "colorbar": {
            "outlinewidth": 0,
            "ticks": ""
           }
          },
          "colorscale": {
           "diverging": [
            [
             0,
             "#8e0152"
            ],
            [
             0.1,
             "#c51b7d"
            ],
            [
             0.2,
             "#de77ae"
            ],
            [
             0.3,
             "#f1b6da"
            ],
            [
             0.4,
             "#fde0ef"
            ],
            [
             0.5,
             "#f7f7f7"
            ],
            [
             0.6,
             "#e6f5d0"
            ],
            [
             0.7,
             "#b8e186"
            ],
            [
             0.8,
             "#7fbc41"
            ],
            [
             0.9,
             "#4d9221"
            ],
            [
             1,
             "#276419"
            ]
           ],
           "sequential": [
            [
             0,
             "#0d0887"
            ],
            [
             0.1111111111111111,
             "#46039f"
            ],
            [
             0.2222222222222222,
             "#7201a8"
            ],
            [
             0.3333333333333333,
             "#9c179e"
            ],
            [
             0.4444444444444444,
             "#bd3786"
            ],
            [
             0.5555555555555556,
             "#d8576b"
            ],
            [
             0.6666666666666666,
             "#ed7953"
            ],
            [
             0.7777777777777778,
             "#fb9f3a"
            ],
            [
             0.8888888888888888,
             "#fdca26"
            ],
            [
             1,
             "#f0f921"
            ]
           ],
           "sequentialminus": [
            [
             0,
             "#0d0887"
            ],
            [
             0.1111111111111111,
             "#46039f"
            ],
            [
             0.2222222222222222,
             "#7201a8"
            ],
            [
             0.3333333333333333,
             "#9c179e"
            ],
            [
             0.4444444444444444,
             "#bd3786"
            ],
            [
             0.5555555555555556,
             "#d8576b"
            ],
            [
             0.6666666666666666,
             "#ed7953"
            ],
            [
             0.7777777777777778,
             "#fb9f3a"
            ],
            [
             0.8888888888888888,
             "#fdca26"
            ],
            [
             1,
             "#f0f921"
            ]
           ]
          },
          "colorway": [
           "#636efa",
           "#EF553B",
           "#00cc96",
           "#ab63fa",
           "#FFA15A",
           "#19d3f3",
           "#FF6692",
           "#B6E880",
           "#FF97FF",
           "#FECB52"
          ],
          "font": {
           "color": "#2a3f5f"
          },
          "geo": {
           "bgcolor": "white",
           "lakecolor": "white",
           "landcolor": "#E5ECF6",
           "showlakes": true,
           "showland": true,
           "subunitcolor": "white"
          },
          "hoverlabel": {
           "align": "left"
          },
          "hovermode": "closest",
          "mapbox": {
           "style": "light"
          },
          "paper_bgcolor": "white",
          "plot_bgcolor": "#E5ECF6",
          "polar": {
           "angularaxis": {
            "gridcolor": "white",
            "linecolor": "white",
            "ticks": ""
           },
           "bgcolor": "#E5ECF6",
           "radialaxis": {
            "gridcolor": "white",
            "linecolor": "white",
            "ticks": ""
           }
          },
          "scene": {
           "xaxis": {
            "backgroundcolor": "#E5ECF6",
            "gridcolor": "white",
            "gridwidth": 2,
            "linecolor": "white",
            "showbackground": true,
            "ticks": "",
            "zerolinecolor": "white"
           },
           "yaxis": {
            "backgroundcolor": "#E5ECF6",
            "gridcolor": "white",
            "gridwidth": 2,
            "linecolor": "white",
            "showbackground": true,
            "ticks": "",
            "zerolinecolor": "white"
           },
           "zaxis": {
            "backgroundcolor": "#E5ECF6",
            "gridcolor": "white",
            "gridwidth": 2,
            "linecolor": "white",
            "showbackground": true,
            "ticks": "",
            "zerolinecolor": "white"
           }
          },
          "shapedefaults": {
           "line": {
            "color": "#2a3f5f"
           }
          },
          "ternary": {
           "aaxis": {
            "gridcolor": "white",
            "linecolor": "white",
            "ticks": ""
           },
           "baxis": {
            "gridcolor": "white",
            "linecolor": "white",
            "ticks": ""
           },
           "bgcolor": "#E5ECF6",
           "caxis": {
            "gridcolor": "white",
            "linecolor": "white",
            "ticks": ""
           }
          },
          "title": {
           "x": 0.05
          },
          "xaxis": {
           "automargin": true,
           "gridcolor": "white",
           "linecolor": "white",
           "ticks": "",
           "title": {
            "standoff": 15
           },
           "zerolinecolor": "white",
           "zerolinewidth": 2
          },
          "yaxis": {
           "automargin": true,
           "gridcolor": "white",
           "linecolor": "white",
           "ticks": "",
           "title": {
            "standoff": 15
           },
           "zerolinecolor": "white",
           "zerolinewidth": 2
          }
         }
        },
        "title": {
         "text": "Opinion distribution"
        },
        "xaxis": {
         "anchor": "y",
         "domain": [
          0,
          0.45
         ],
         "title": {
          "text": "$x$"
         }
        },
        "xaxis2": {
         "anchor": "y2",
         "domain": [
          0.55,
          1
         ],
         "title": {
          "text": "$x$"
         }
        },
        "yaxis": {
         "anchor": "x",
         "domain": [
          0,
          1
         ],
         "showticklabels": false,
         "title": {
          "text": "Num"
         },
         "visible": false
        },
        "yaxis2": {
         "anchor": "x2",
         "domain": [
          0,
          1
         ],
         "showticklabels": false,
         "visible": false
        }
       }
      },
      "text/html": [
       "<div>                            <div id=\"30b242cd-a9c6-49c1-92ba-0a3363c9d1e7\" class=\"plotly-graph-div\" style=\"height:525px; width:100%;\"></div>            <script type=\"text/javascript\">                require([\"plotly\"], function(Plotly) {                    window.PLOTLYENV=window.PLOTLYENV || {};                                    if (document.getElementById(\"30b242cd-a9c6-49c1-92ba-0a3363c9d1e7\")) {                    Plotly.newPlot(                        \"30b242cd-a9c6-49c1-92ba-0a3363c9d1e7\",                        [{\"marker\": {\"color\": \"SkyBlue\", \"size\": 10}, \"mode\": \"markers\", \"showlegend\": false, \"type\": \"scatter\", \"x\": [-0.30480968952178955, -0.33339351415634155, -0.4743678867816925, 0.4771025776863098, -0.7491427063941956, -0.8540530800819397, -0.8769408464431763, -0.7681673765182495, -0.17368027567863464, -0.5788540840148926], \"xaxis\": \"x\", \"y\": [0.0, 0.0, 0.0, 0.0, 0.0, 0.0, 0.0, 0.0, 0.0, 0.0], \"yaxis\": \"y\"}, {\"marker\": {\"color\": \"red\", \"size\": 10}, \"mode\": \"markers\", \"showlegend\": false, \"type\": \"scatter\", \"x\": [-0.46363067626953125], \"xaxis\": \"x\", \"y\": [0.0, 0.0, 0.0, 0.0, 0.0, 0.0, 0.0, 0.0, 0.0, 0.0], \"yaxis\": \"y\"}, {\"marker\": {\"color\": \"SkyBlue\", \"size\": 10}, \"mode\": \"markers\", \"showlegend\": false, \"type\": \"scatter\", \"x\": [0.9983092546463013, 0.16473864018917084, 0.7274765372276306, 0.012891381978988647, 0.19592753052711487, 0.9843616485595703, 0.4559243321418762, -0.9616414308547974, 0.5375083684921265, 0.2807117700576782], \"xaxis\": \"x\", \"y\": [3.0, 3.0, 3.0, 3.0, 3.0, 3.0, 3.0, 3.0, 3.0, 3.0], \"yaxis\": \"y\"}, {\"marker\": {\"color\": \"red\", \"size\": 10}, \"mode\": \"markers\", \"showlegend\": false, \"type\": \"scatter\", \"x\": [0.33962076902389526], \"xaxis\": \"x\", \"y\": [3.0, 3.0, 3.0, 3.0, 3.0, 3.0, 3.0, 3.0, 3.0, 3.0], \"yaxis\": \"y\"}, {\"marker\": {\"color\": \"SkyBlue\", \"size\": 10}, \"mode\": \"markers\", \"showlegend\": false, \"type\": \"scatter\", \"x\": [-0.21151719987392426, -0.29421567916870117, -0.25412997603416443, -0.5571163892745972, -0.42823299765586853, 0.024236559867858887, -0.7993438243865967, 0.627499520778656, -0.5885860919952393, -0.2868649363517761], \"xaxis\": \"x\", \"y\": [6.0, 6.0, 6.0, 6.0, 6.0, 6.0, 6.0, 6.0, 6.0, 6.0], \"yaxis\": \"y\"}, {\"marker\": {\"color\": \"red\", \"size\": 10}, \"mode\": \"markers\", \"showlegend\": false, \"type\": \"scatter\", \"x\": [-0.2768271267414093], \"xaxis\": \"x\", \"y\": [6.0, 6.0, 6.0, 6.0, 6.0, 6.0, 6.0, 6.0, 6.0, 6.0], \"yaxis\": \"y\"}, {\"marker\": {\"color\": \"SkyBlue\", \"size\": 10}, \"mode\": \"markers\", \"showlegend\": false, \"type\": \"scatter\", \"x\": [0.2712976038455963, 0.49265971779823303, 0.503682553768158, 0.9658635854721069, 0.3637201488018036, 0.9517225623130798, 0.7652753591537476, 0.6131890416145325, -0.1357090175151825, 0.2371569573879242], \"xaxis\": \"x\", \"y\": [9.0, 9.0, 9.0, 9.0, 9.0, 9.0, 9.0, 9.0, 9.0, 9.0], \"yaxis\": \"y\"}, {\"marker\": {\"color\": \"red\", \"size\": 10}, \"mode\": \"markers\", \"showlegend\": false, \"type\": \"scatter\", \"x\": [0.5028858780860901], \"xaxis\": \"x\", \"y\": [9.0, 9.0, 9.0, 9.0, 9.0, 9.0, 9.0, 9.0, 9.0, 9.0], \"yaxis\": \"y\"}, {\"marker\": {\"color\": \"SkyBlue\", \"size\": 10}, \"mode\": \"markers\", \"showlegend\": false, \"type\": \"scatter\", \"x\": [-0.9286433458328247, 0.8996888995170593, -0.9090396165847778, 0.805377721786499, -0.6174895167350769, 0.7827240824699402, 0.15094836056232452, 0.6647750735282898, 0.7652974724769592, 0.821283757686615], \"xaxis\": \"x\", \"y\": [12.0, 12.0, 12.0, 12.0, 12.0, 12.0, 12.0, 12.0, 12.0, 12.0], \"yaxis\": \"y\"}, {\"marker\": {\"color\": \"red\", \"size\": 10}, \"mode\": \"markers\", \"showlegend\": false, \"type\": \"scatter\", \"x\": [0.24349229037761688], \"xaxis\": \"x\", \"y\": [12.0, 12.0, 12.0, 12.0, 12.0, 12.0, 12.0, 12.0, 12.0, 12.0], \"yaxis\": \"y\"}, {\"marker\": {\"color\": \"SkyBlue\", \"size\": 10}, \"mode\": \"markers\", \"showlegend\": false, \"type\": \"scatter\", \"x\": [0.9916669130325317, -0.976420521736145, 0.9891642332077026, 0.35230037569999695, -0.920508086681366, -0.9491982460021973, 0.9995113015174866, 0.31521567702293396, -0.05352404713630676, 0.8635378479957581], \"xaxis\": \"x\", \"y\": [15.0, 15.0, 15.0, 15.0, 15.0, 15.0, 15.0, 15.0, 15.0, 15.0], \"yaxis\": \"y\"}, {\"marker\": {\"color\": \"red\", \"size\": 10}, \"mode\": \"markers\", \"showlegend\": false, \"type\": \"scatter\", \"x\": [0.16117453575134277], \"xaxis\": \"x\", \"y\": [15.0, 15.0, 15.0, 15.0, 15.0, 15.0, 15.0, 15.0, 15.0, 15.0], \"yaxis\": \"y\"}, {\"marker\": {\"color\": \"SkyBlue\", \"size\": 10}, \"mode\": \"markers\", \"showlegend\": false, \"type\": \"scatter\", \"x\": [-0.17980940639972687, -0.3976064920425415, -0.2763004004955292, 0.4752567410469055, -0.1945822536945343, -0.34575188159942627, -0.0885414257645607, -0.03718064725399017, 0.11887308955192566, 0.9941613674163818], \"xaxis\": \"x\", \"y\": [18.0, 18.0, 18.0, 18.0, 18.0, 18.0, 18.0, 18.0, 18.0, 18.0], \"yaxis\": \"y\"}, {\"marker\": {\"color\": \"red\", \"size\": 10}, \"mode\": \"markers\", \"showlegend\": false, \"type\": \"scatter\", \"x\": [0.006851875688880682], \"xaxis\": \"x\", \"y\": [18.0, 18.0, 18.0, 18.0, 18.0, 18.0, 18.0, 18.0, 18.0, 18.0], \"yaxis\": \"y\"}, {\"marker\": {\"color\": \"SkyBlue\", \"size\": 10}, \"mode\": \"markers\", \"showlegend\": false, \"type\": \"scatter\", \"x\": [0.9818930625915527, 0.25617516040802, -0.04422767460346222, 0.24917826056480408, -0.23962533473968506, -0.4729962944984436, 0.02949059009552002, -0.13661661744117737, -0.2257152646780014, 0.3034020960330963], \"xaxis\": \"x\", \"y\": [21.0, 21.0, 21.0, 21.0, 21.0, 21.0, 21.0, 21.0, 21.0, 21.0], \"yaxis\": \"y\"}, {\"marker\": {\"color\": \"red\", \"size\": 10}, \"mode\": \"markers\", \"showlegend\": false, \"type\": \"scatter\", \"x\": [0.07009579241275787], \"xaxis\": \"x\", \"y\": [21.0, 21.0, 21.0, 21.0, 21.0, 21.0, 21.0, 21.0, 21.0, 21.0], \"yaxis\": \"y\"}, {\"marker\": {\"color\": \"SkyBlue\", \"size\": 10}, \"mode\": \"markers\", \"showlegend\": false, \"type\": \"scatter\", \"x\": [-0.9759901762008667, -0.24848973751068115, -0.979638934135437, -0.550420343875885, -0.9999132752418518, 0.20231300592422485, -0.9577626585960388, 0.5925881862640381, -0.807539701461792, -0.3106263279914856], \"xaxis\": \"x\", \"y\": [24.0, 24.0, 24.0, 24.0, 24.0, 24.0, 24.0, 24.0, 24.0, 24.0], \"yaxis\": \"y\"}, {\"marker\": {\"color\": \"red\", \"size\": 10}, \"mode\": \"markers\", \"showlegend\": false, \"type\": \"scatter\", \"x\": [-0.5035480260848999], \"xaxis\": \"x\", \"y\": [24.0, 24.0, 24.0, 24.0, 24.0, 24.0, 24.0, 24.0, 24.0, 24.0], \"yaxis\": \"y\"}, {\"marker\": {\"color\": \"SkyBlue\", \"size\": 10}, \"mode\": \"markers\", \"showlegend\": false, \"type\": \"scatter\", \"x\": [0.7637520432472229, 0.08743825554847717, 0.17283600568771362, 0.7158540487289429, 0.9759671688079834, 0.7865465879440308, 0.9728918075561523, 0.16929851472377777, 0.5620653629302979, 0.2823447585105896], \"xaxis\": \"x\", \"y\": [27.0, 27.0, 27.0, 27.0, 27.0, 27.0, 27.0, 27.0, 27.0, 27.0], \"yaxis\": \"y\"}, {\"marker\": {\"color\": \"red\", \"size\": 10}, \"mode\": \"markers\", \"showlegend\": false, \"type\": \"scatter\", \"x\": [0.5488994717597961], \"xaxis\": \"x\", \"y\": [27.0, 27.0, 27.0, 27.0, 27.0, 27.0, 27.0, 27.0, 27.0, 27.0], \"yaxis\": \"y\"}, {\"marker\": {\"color\": \"SkyBlue\", \"size\": 10}, \"mode\": \"markers\", \"showlegend\": false, \"type\": \"scatter\", \"x\": [-0.249651238322258, 0.613698422908783, 0.11665743589401245, 0.052431464195251465, 0.9347208142280579, -0.6752134561538696, -0.7443692684173584, 0.07911074161529541, 0.15967345237731934, -0.7109000086784363], \"xaxis\": \"x\", \"y\": [30.0, 30.0, 30.0, 30.0, 30.0, 30.0, 30.0, 30.0, 30.0, 30.0], \"yaxis\": \"y\"}, {\"marker\": {\"color\": \"red\", \"size\": 10}, \"mode\": \"markers\", \"showlegend\": false, \"type\": \"scatter\", \"x\": [-0.04238416627049446], \"xaxis\": \"x\", \"y\": [30.0, 30.0, 30.0, 30.0, 30.0, 30.0, 30.0, 30.0, 30.0, 30.0], \"yaxis\": \"y\"}, {\"marker\": {\"color\": \"SkyBlue\", \"size\": 10}, \"mode\": \"markers\", \"showlegend\": false, \"type\": \"scatter\", \"x\": [0.5392134189605713, 0.5235556960105896, -0.9402785301208496, -0.9528421759605408, -0.9852895736694336, -0.31704065203666687, 0.524590015411377, -0.9837212562561035, 0.8353104591369629, -0.9501367211341858], \"xaxis\": \"x\", \"y\": [33.0, 33.0, 33.0, 33.0, 33.0, 33.0, 33.0, 33.0, 33.0, 33.0], \"yaxis\": \"y\"}, {\"marker\": {\"color\": \"red\", \"size\": 10}, \"mode\": \"markers\", \"showlegend\": false, \"type\": \"scatter\", \"x\": [-0.27066391706466675], \"xaxis\": \"x\", \"y\": [33.0, 33.0, 33.0, 33.0, 33.0, 33.0, 33.0, 33.0, 33.0, 33.0], \"yaxis\": \"y\"}, {\"marker\": {\"color\": \"SkyBlue\", \"size\": 10}, \"mode\": \"markers\", \"showlegend\": false, \"type\": \"scatter\", \"x\": [0.47178977727890015, -0.5519179105758667, -0.13638648390769958, -0.8956054449081421, -0.05667892098426819, -0.3490048944950104, -0.08228236436843872, -0.8705199956893921, -0.28028205037117004, -0.7845274806022644], \"xaxis\": \"x\", \"y\": [36.0, 36.0, 36.0, 36.0, 36.0, 36.0, 36.0, 36.0, 36.0, 36.0], \"yaxis\": \"y\"}, {\"marker\": {\"color\": \"red\", \"size\": 10}, \"mode\": \"markers\", \"showlegend\": false, \"type\": \"scatter\", \"x\": [-0.3535415828227997], \"xaxis\": \"x\", \"y\": [36.0, 36.0, 36.0, 36.0, 36.0, 36.0, 36.0, 36.0, 36.0, 36.0], \"yaxis\": \"y\"}, {\"marker\": {\"color\": \"SkyBlue\", \"size\": 10}, \"mode\": \"markers\", \"showlegend\": false, \"type\": \"scatter\", \"x\": [0.014310434460639954, 0.7291942238807678, 0.40713945031166077, -0.3408317267894745, 0.4637768864631653, 0.20600782334804535, 0.17970900237560272, -0.5626494884490967, 0.13197541236877441, -0.6921628713607788], \"xaxis\": \"x\", \"y\": [39.0, 39.0, 39.0, 39.0, 39.0, 39.0, 39.0, 39.0, 39.0, 39.0], \"yaxis\": \"y\"}, {\"marker\": {\"color\": \"red\", \"size\": 10}, \"mode\": \"markers\", \"showlegend\": false, \"type\": \"scatter\", \"x\": [0.053646910935640335], \"xaxis\": \"x\", \"y\": [39.0, 39.0, 39.0, 39.0, 39.0, 39.0, 39.0, 39.0, 39.0, 39.0], \"yaxis\": \"y\"}, {\"marker\": {\"color\": \"SkyBlue\", \"size\": 10}, \"mode\": \"markers\", \"showlegend\": false, \"type\": \"scatter\", \"x\": [0.6819143891334534, -0.964163601398468, 0.36255404353141785, 0.22715848684310913, 0.2927459180355072, -0.9487537741661072, -0.8628286719322205, -0.6183369159698486, 0.7351986169815063, -0.5244516134262085], \"xaxis\": \"x\", \"y\": [42.0, 42.0, 42.0, 42.0, 42.0, 42.0, 42.0, 42.0, 42.0, 42.0], \"yaxis\": \"y\"}, {\"marker\": {\"color\": \"red\", \"size\": 10}, \"mode\": \"markers\", \"showlegend\": false, \"type\": \"scatter\", \"x\": [-0.16189633309841156], \"xaxis\": \"x\", \"y\": [42.0, 42.0, 42.0, 42.0, 42.0, 42.0, 42.0, 42.0, 42.0, 42.0], \"yaxis\": \"y\"}, {\"marker\": {\"color\": \"SkyBlue\", \"size\": 10}, \"mode\": \"markers\", \"showlegend\": false, \"type\": \"scatter\", \"x\": [-0.2485797107219696, 0.9879281520843506, 0.6483075022697449, 0.8023962378501892, 0.9154773950576782, 0.9674142599105835, -0.5325762629508972, 0.7791343927383423, 0.2970040738582611, -0.8237139582633972], \"xaxis\": \"x\", \"y\": [45.0, 45.0, 45.0, 45.0, 45.0, 45.0, 45.0, 45.0, 45.0, 45.0], \"yaxis\": \"y\"}, {\"marker\": {\"color\": \"red\", \"size\": 10}, \"mode\": \"markers\", \"showlegend\": false, \"type\": \"scatter\", \"x\": [0.3792791962623596], \"xaxis\": \"x\", \"y\": [45.0, 45.0, 45.0, 45.0, 45.0, 45.0, 45.0, 45.0, 45.0, 45.0], \"yaxis\": \"y\"}, {\"marker\": {\"color\": \"SkyBlue\", \"size\": 10}, \"mode\": \"markers\", \"showlegend\": false, \"type\": \"scatter\", \"x\": [0.7443758249282837, 0.9756979942321777, -0.023535922169685364, 0.7504685521125793, 0.5202673673629761, -0.2802693843841553, 0.746010422706604, -0.8262034058570862, 0.7360324859619141, -0.17183466255664825], \"xaxis\": \"x\", \"y\": [48.0, 48.0, 48.0, 48.0, 48.0, 48.0, 48.0, 48.0, 48.0, 48.0], \"yaxis\": \"y\"}, {\"marker\": {\"color\": \"red\", \"size\": 10}, \"mode\": \"markers\", \"showlegend\": false, \"type\": \"scatter\", \"x\": [0.3171009421348572], \"xaxis\": \"x\", \"y\": [48.0, 48.0, 48.0, 48.0, 48.0, 48.0, 48.0, 48.0, 48.0, 48.0], \"yaxis\": \"y\"}, {\"marker\": {\"color\": \"SkyBlue\", \"size\": 10}, \"mode\": \"markers\", \"showlegend\": false, \"type\": \"scatter\", \"x\": [-0.18660636246204376, -0.8911457657814026, -0.9008974432945251, -0.3963424563407898, -0.9499748945236206, 0.879301905632019, -0.9181671142578125, -0.9163632988929749, -0.3650273084640503, 0.23295742273330688], \"xaxis\": \"x\", \"y\": [51.0, 51.0, 51.0, 51.0, 51.0, 51.0, 51.0, 51.0, 51.0, 51.0], \"yaxis\": \"y\"}, {\"marker\": {\"color\": \"red\", \"size\": 10}, \"mode\": \"markers\", \"showlegend\": false, \"type\": \"scatter\", \"x\": [-0.4412265419960022], \"xaxis\": \"x\", \"y\": [51.0, 51.0, 51.0, 51.0, 51.0, 51.0, 51.0, 51.0, 51.0, 51.0], \"yaxis\": \"y\"}, {\"marker\": {\"color\": \"SkyBlue\", \"size\": 10}, \"mode\": \"markers\", \"showlegend\": false, \"type\": \"scatter\", \"x\": [-0.9464942812919617, -0.8359289765357971, 0.9726014137268066, -0.9704856872558594, -0.9423824548721313, 0.7778753042221069, -0.68999183177948, -0.8462775945663452, 0.8848366141319275, 0.7775472402572632], \"xaxis\": \"x\", \"y\": [54.0, 54.0, 54.0, 54.0, 54.0, 54.0, 54.0, 54.0, 54.0, 54.0], \"yaxis\": \"y\"}, {\"marker\": {\"color\": \"red\", \"size\": 10}, \"mode\": \"markers\", \"showlegend\": false, \"type\": \"scatter\", \"x\": [-0.1818700134754181], \"xaxis\": \"x\", \"y\": [54.0, 54.0, 54.0, 54.0, 54.0, 54.0, 54.0, 54.0, 54.0, 54.0], \"yaxis\": \"y\"}, {\"marker\": {\"color\": \"SkyBlue\", \"size\": 10}, \"mode\": \"markers\", \"showlegend\": false, \"type\": \"scatter\", \"x\": [-0.5785257816314697, -0.4176790118217468, 0.35560858249664307, 0.9952764511108398, 0.10892781615257263, 0.21522971987724304, -0.4967738389968872, 0.801932156085968, -0.8526368141174316, 0.14641550183296204], \"xaxis\": \"x\", \"y\": [57.0, 57.0, 57.0, 57.0, 57.0, 57.0, 57.0, 57.0, 57.0, 57.0], \"yaxis\": \"y\"}, {\"marker\": {\"color\": \"red\", \"size\": 10}, \"mode\": \"markers\", \"showlegend\": false, \"type\": \"scatter\", \"x\": [0.027777478098869324], \"xaxis\": \"x\", \"y\": [57.0, 57.0, 57.0, 57.0, 57.0, 57.0, 57.0, 57.0, 57.0, 57.0], \"yaxis\": \"y\"}, {\"marker\": {\"color\": \"SkyBlue\", \"size\": 10}, \"mode\": \"markers\", \"showlegend\": false, \"type\": \"scatter\", \"x\": [0.15558908879756927, 0.443484902381897, 0.36987778544425964, 0.5604895353317261, -0.16098491847515106, -0.40537726879119873, 0.4506091773509979, 0.707352876663208, -0.7125765085220337, 0.3733471930027008], \"xaxis\": \"x\", \"y\": [60.0, 60.0, 60.0, 60.0, 60.0, 60.0, 60.0, 60.0, 60.0, 60.0], \"yaxis\": \"y\"}, {\"marker\": {\"color\": \"red\", \"size\": 10}, \"mode\": \"markers\", \"showlegend\": false, \"type\": \"scatter\", \"x\": [0.17818120121955872], \"xaxis\": \"x\", \"y\": [60.0, 60.0, 60.0, 60.0, 60.0, 60.0, 60.0, 60.0, 60.0, 60.0], \"yaxis\": \"y\"}, {\"marker\": {\"color\": \"SkyBlue\", \"size\": 10}, \"mode\": \"markers\", \"showlegend\": false, \"type\": \"scatter\", \"x\": [0.5411627292633057, -0.751434862613678, -0.6782770752906799, -0.32531824707984924, 0.2903251051902771, -0.7118915319442749, 0.6118485927581787, 0.010298037901520729, -0.6681740283966064, 0.14793381094932556], \"xaxis\": \"x\", \"y\": [63.0, 63.0, 63.0, 63.0, 63.0, 63.0, 63.0, 63.0, 63.0, 63.0], \"yaxis\": \"y\"}, {\"marker\": {\"color\": \"red\", \"size\": 10}, \"mode\": \"markers\", \"showlegend\": false, \"type\": \"scatter\", \"x\": [-0.153352752327919], \"xaxis\": \"x\", \"y\": [63.0, 63.0, 63.0, 63.0, 63.0, 63.0, 63.0, 63.0, 63.0, 63.0], \"yaxis\": \"y\"}, {\"marker\": {\"color\": \"SkyBlue\", \"size\": 10}, \"mode\": \"markers\", \"showlegend\": false, \"type\": \"scatter\", \"x\": [-0.9504071474075317, 0.5640807151794434, -0.3640047013759613, -0.9931154847145081, 0.3878767788410187, 0.61226886510849, -0.9320651292800903, -0.6448365449905396, 0.09813490509986877, 0.5395433306694031], \"xaxis\": \"x\", \"y\": [66.0, 66.0, 66.0, 66.0, 66.0, 66.0, 66.0, 66.0, 66.0, 66.0], \"yaxis\": \"y\"}, {\"marker\": {\"color\": \"red\", \"size\": 10}, \"mode\": \"markers\", \"showlegend\": false, \"type\": \"scatter\", \"x\": [-0.16825242340564728], \"xaxis\": \"x\", \"y\": [66.0, 66.0, 66.0, 66.0, 66.0, 66.0, 66.0, 66.0, 66.0, 66.0], \"yaxis\": \"y\"}, {\"marker\": {\"color\": \"SkyBlue\", \"size\": 10}, \"mode\": \"markers\", \"showlegend\": false, \"type\": \"scatter\", \"x\": [-0.1857876479625702, 0.9490336179733276, 0.09345156699419022, 0.36719393730163574, 0.9226321578025818, 0.9133056998252869, 0.011262726038694382, 0.7534565925598145, -0.8732595443725586, -0.3116704225540161], \"xaxis\": \"x\", \"y\": [69.0, 69.0, 69.0, 69.0, 69.0, 69.0, 69.0, 69.0, 69.0, 69.0], \"yaxis\": \"y\"}, {\"marker\": {\"color\": \"red\", \"size\": 10}, \"mode\": \"markers\", \"showlegend\": false, \"type\": \"scatter\", \"x\": [0.26396188139915466], \"xaxis\": \"x\", \"y\": [69.0, 69.0, 69.0, 69.0, 69.0, 69.0, 69.0, 69.0, 69.0, 69.0], \"yaxis\": \"y\"}, {\"marker\": {\"color\": \"SkyBlue\", \"size\": 10}, \"mode\": \"markers\", \"showlegend\": false, \"type\": \"scatter\", \"x\": [0.9962071180343628, 0.9780789613723755, -0.022324837744235992, 0.44551387429237366, 0.08515164256095886, 0.8002423048019409, -0.3165748417377472, 0.887101411819458, -0.5258618593215942, 0.08374307304620743], \"xaxis\": \"x\", \"y\": [72.0, 72.0, 72.0, 72.0, 72.0, 72.0, 72.0, 72.0, 72.0, 72.0], \"yaxis\": \"y\"}, {\"marker\": {\"color\": \"red\", \"size\": 10}, \"mode\": \"markers\", \"showlegend\": false, \"type\": \"scatter\", \"x\": [0.3411277234554291], \"xaxis\": \"x\", \"y\": [72.0, 72.0, 72.0, 72.0, 72.0, 72.0, 72.0, 72.0, 72.0, 72.0], \"yaxis\": \"y\"}, {\"marker\": {\"color\": \"SkyBlue\", \"size\": 10}, \"mode\": \"markers\", \"showlegend\": false, \"type\": \"scatter\", \"x\": [-0.620209276676178, 0.994071900844574, -0.4482372999191284, -0.5873931050300598, 0.3069678843021393, -0.8342651128768921, -0.0984533280134201, 0.97071772813797, -0.80885910987854, 0.9868872165679932], \"xaxis\": \"x\", \"y\": [75.0, 75.0, 75.0, 75.0, 75.0, 75.0, 75.0, 75.0, 75.0, 75.0], \"yaxis\": \"y\"}, {\"marker\": {\"color\": \"red\", \"size\": 10}, \"mode\": \"markers\", \"showlegend\": false, \"type\": \"scatter\", \"x\": [-0.013877260498702526], \"xaxis\": \"x\", \"y\": [75.0, 75.0, 75.0, 75.0, 75.0, 75.0, 75.0, 75.0, 75.0, 75.0], \"yaxis\": \"y\"}, {\"marker\": {\"color\": \"SkyBlue\", \"size\": 10}, \"mode\": \"markers\", \"showlegend\": false, \"type\": \"scatter\", \"x\": [-0.6574815511703491, 0.09234920889139175, 0.807978093624115, 0.34413808584213257, 0.08458025753498077, 0.17690713703632355, -0.9933754205703735, -0.9946938157081604, -0.9946112632751465, 0.6692636609077454], \"xaxis\": \"x\", \"y\": [78.0, 78.0, 78.0, 78.0, 78.0, 78.0, 78.0, 78.0, 78.0, 78.0], \"yaxis\": \"y\"}, {\"marker\": {\"color\": \"red\", \"size\": 10}, \"mode\": \"markers\", \"showlegend\": false, \"type\": \"scatter\", \"x\": [-0.14649458229541779], \"xaxis\": \"x\", \"y\": [78.0, 78.0, 78.0, 78.0, 78.0, 78.0, 78.0, 78.0, 78.0, 78.0], \"yaxis\": \"y\"}, {\"marker\": {\"color\": \"SkyBlue\", \"size\": 10}, \"mode\": \"markers\", \"showlegend\": false, \"type\": \"scatter\", \"x\": [-0.6945606470108032, -0.6404627561569214, 0.9859800934791565, -0.5357125997543335, 0.884854257106781, -0.511263906955719, 0.9175469875335693, 0.9594269394874573, -0.5400841236114502, 0.3590918481349945], \"xaxis\": \"x\", \"y\": [81.0, 81.0, 81.0, 81.0, 81.0, 81.0, 81.0, 81.0, 81.0, 81.0], \"yaxis\": \"y\"}, {\"marker\": {\"color\": \"red\", \"size\": 10}, \"mode\": \"markers\", \"showlegend\": false, \"type\": \"scatter\", \"x\": [0.1184815987944603], \"xaxis\": \"x\", \"y\": [81.0, 81.0, 81.0, 81.0, 81.0, 81.0, 81.0, 81.0, 81.0, 81.0], \"yaxis\": \"y\"}, {\"marker\": {\"color\": \"SkyBlue\", \"size\": 10}, \"mode\": \"markers\", \"showlegend\": false, \"type\": \"scatter\", \"x\": [0.2137545347213745, -0.33571648597717285, -0.682442307472229, 0.6529778242111206, -0.3400954306125641, -0.4307335317134857, -0.6699908971786499, -0.9543553590774536, 0.8500946760177612, -0.8383231163024902], \"xaxis\": \"x\", \"y\": [84.0, 84.0, 84.0, 84.0, 84.0, 84.0, 84.0, 84.0, 84.0, 84.0], \"yaxis\": \"y\"}, {\"marker\": {\"color\": \"red\", \"size\": 10}, \"mode\": \"markers\", \"showlegend\": false, \"type\": \"scatter\", \"x\": [-0.25348299741744995], \"xaxis\": \"x\", \"y\": [84.0, 84.0, 84.0, 84.0, 84.0, 84.0, 84.0, 84.0, 84.0, 84.0], \"yaxis\": \"y\"}, {\"marker\": {\"color\": \"SkyBlue\", \"size\": 10}, \"mode\": \"markers\", \"showlegend\": false, \"type\": \"scatter\", \"x\": [-0.6586763262748718, 0.6084504127502441, -0.2894221544265747, 0.20200574398040771, 0.860041618347168, 0.9734593629837036, -0.32360729575157166, 0.8647568225860596, -0.3350922465324402, 0.960827648639679], \"xaxis\": \"x\", \"y\": [87.0, 87.0, 87.0, 87.0, 87.0, 87.0, 87.0, 87.0, 87.0, 87.0], \"yaxis\": \"y\"}, {\"marker\": {\"color\": \"red\", \"size\": 10}, \"mode\": \"markers\", \"showlegend\": false, \"type\": \"scatter\", \"x\": [0.28627434372901917], \"xaxis\": \"x\", \"y\": [87.0, 87.0, 87.0, 87.0, 87.0, 87.0, 87.0, 87.0, 87.0, 87.0], \"yaxis\": \"y\"}, {\"marker\": {\"color\": \"SkyBlue\", \"size\": 10}, \"mode\": \"markers\", \"showlegend\": false, \"type\": \"scatter\", \"x\": [-0.3189127743244171, -0.06324648857116699, -0.26417726278305054, -0.09758955240249634, -0.18060138821601868, 0.4432160258293152, -0.3413121700286865, 0.011114776134490967, 0.2094181776046753, -0.651731550693512], \"xaxis\": \"x\", \"y\": [90.0, 90.0, 90.0, 90.0, 90.0, 90.0, 90.0, 90.0, 90.0, 90.0], \"yaxis\": \"y\"}, {\"marker\": {\"color\": \"red\", \"size\": 10}, \"mode\": \"markers\", \"showlegend\": false, \"type\": \"scatter\", \"x\": [-0.1253822147846222], \"xaxis\": \"x\", \"y\": [90.0, 90.0, 90.0, 90.0, 90.0, 90.0, 90.0, 90.0, 90.0, 90.0], \"yaxis\": \"y\"}, {\"marker\": {\"color\": \"SkyBlue\", \"size\": 10}, \"mode\": \"markers\", \"showlegend\": false, \"type\": \"scatter\", \"x\": [-0.2932756841182709, 0.21781419217586517, 0.9843918681144714, -0.3537920117378235, 0.45917266607284546, 0.8362100124359131, 0.9490230679512024, 0.9410396218299866, 0.27187037467956543, 0.5301680564880371], \"xaxis\": \"x\", \"y\": [93.0, 93.0, 93.0, 93.0, 93.0, 93.0, 93.0, 93.0, 93.0, 93.0], \"yaxis\": \"y\"}, {\"marker\": {\"color\": \"red\", \"size\": 10}, \"mode\": \"markers\", \"showlegend\": false, \"type\": \"scatter\", \"x\": [0.4542621970176697], \"xaxis\": \"x\", \"y\": [93.0, 93.0, 93.0, 93.0, 93.0, 93.0, 93.0, 93.0, 93.0, 93.0], \"yaxis\": \"y\"}, {\"marker\": {\"color\": \"SkyBlue\", \"size\": 10}, \"mode\": \"markers\", \"showlegend\": false, \"type\": \"scatter\", \"x\": [-0.9022610783576965, -0.7858942747116089, 0.8773133754730225, 0.0715395137667656, -0.9484716653823853, -0.9058339595794678, -0.9692785739898682, -0.033506665378808975, -0.8061668872833252, -0.9062014222145081, -0.9331543445587158, 0.5161030292510986, -0.03260500356554985, -0.9545972943305969, -0.9207759499549866, -0.9397571086883545, -0.9175069332122803, -0.67453932762146, -0.9160925149917603, -0.944878101348877, -0.7809921503067017, 0.512978196144104, -0.9832763671875, -0.9400193691253662, -0.9340367913246155, -0.7899209260940552, 0.43352949619293213, -0.9819211363792419, -0.9032748341560364, -0.09485369175672531, -0.997784435749054, -0.8589321970939636, -0.9018965363502502, -0.8157808780670166, 0.4215371310710907, -0.959663987159729, -0.9534704685211182, -0.9416120648384094, -0.9199349284172058, -0.9648711085319519, -0.13213275372982025, 0.5497503280639648, -0.9554561376571655, -0.8734393119812012, -0.922572910785675, -0.06211051344871521, 0.1223939061164856, -0.41349875926971436, -0.9076181054115295, 0.20796075463294983], \"xaxis\": \"x2\", \"y\": [0.0, 0.0, 0.0, 0.0, 0.0, 0.0, 0.0, 0.0, 0.0, 0.0], \"yaxis\": \"y2\"}, {\"marker\": {\"color\": \"red\", \"size\": 10}, \"mode\": \"markers\", \"showlegend\": false, \"type\": \"scatter\", \"x\": [-0.5753496289253235], \"xaxis\": \"x2\", \"y\": [0.0, 0.0, 0.0, 0.0, 0.0, 0.0, 0.0, 0.0, 0.0, 0.0], \"yaxis\": \"y2\"}, {\"marker\": {\"color\": \"SkyBlue\", \"size\": 10}, \"mode\": \"markers\", \"showlegend\": false, \"type\": \"scatter\", \"x\": [0.5749223828315735, -0.48351770639419556, 0.236822247505188, 0.5018957257270813, 0.6814916133880615, -0.008974000811576843, 0.5809296369552612, 0.6413042545318604, 0.7275286912918091, 0.8967287540435791, 0.10122975707054138, 0.606042742729187, 0.8278272151947021, 0.7360811829566956, 0.7371270656585693, 0.641343355178833, 0.6844655871391296, 0.8500369191169739, -0.46546652913093567, -0.2164640575647354, 0.5667796730995178, 0.8303374648094177, 0.3923790454864502, 0.801102340221405, 0.27201467752456665, 0.6218785643577576, -0.6610990762710571, 0.04433995485305786, 0.6759936213493347, 0.3928664028644562, 0.6508862376213074, 0.9546356201171875, 0.2942585349082947, 0.3689114451408386, -0.022703468799591064, 0.6597394943237305, 0.8852560520172119, 0.5898910760879517, 0.686040461063385, -0.058493077754974365, 0.5028984546661377, 0.13916698098182678, 0.6252230405807495, 0.897268533706665, -0.4375511407852173, 0.5614664554595947, 0.5382130146026611, -0.9836916923522949, 0.5619139075279236, -0.34428608417510986], \"xaxis\": \"x2\", \"y\": [3.0, 3.0, 3.0, 3.0, 3.0, 3.0, 3.0, 3.0, 3.0, 3.0], \"yaxis\": \"y2\"}, {\"marker\": {\"color\": \"red\", \"size\": 10}, \"mode\": \"markers\", \"showlegend\": false, \"type\": \"scatter\", \"x\": [0.39713984727859497], \"xaxis\": \"x2\", \"y\": [3.0, 3.0, 3.0, 3.0, 3.0, 3.0, 3.0, 3.0, 3.0, 3.0], \"yaxis\": \"y2\"}, {\"marker\": {\"color\": \"SkyBlue\", \"size\": 10}, \"mode\": \"markers\", \"showlegend\": false, \"type\": \"scatter\", \"x\": [0.29503726959228516, -0.12084752321243286, -0.361907422542572, -0.39720845222473145, -0.033719196915626526, -0.6046676635742188, -0.24466747045516968, -0.6828987002372742, -0.3903602361679077, 0.45261210203170776, -0.7583123445510864, 0.7890039682388306, -0.8864866495132446, -0.7886120080947876, 0.5208569765090942, 0.7349745035171509, -0.9937736988067627, -0.2298658788204193, -0.5172286629676819, -0.49058282375335693, -0.5502480268478394, -0.5376995801925659, 0.5373599529266357, 0.3628309965133667, -0.7381526231765747, -0.500583827495575, -0.1649051308631897, -0.17891645431518555, -0.41119396686553955, -0.7255867123603821, -0.6677252650260925, -0.4273014962673187, -0.6618391275405884, -0.6028481125831604, -0.20037460327148438, -0.4838789403438568, 0.6961696147918701, 0.9359495639801025, 0.6015263199806213, -0.26355329155921936, -0.7271900773048401, -0.8649919033050537, -0.46336060762405396, -0.4450691342353821, -0.6037793159484863, -0.8140196800231934, 0.5457385182380676, 0.8718425035476685, -0.13546782732009888, -0.5310578346252441], \"xaxis\": \"x2\", \"y\": [6.0, 6.0, 6.0, 6.0, 6.0, 6.0, 6.0, 6.0, 6.0, 6.0], \"yaxis\": \"y2\"}, {\"marker\": {\"color\": \"red\", \"size\": 10}, \"mode\": \"markers\", \"showlegend\": false, \"type\": \"scatter\", \"x\": [-0.23713958263397217], \"xaxis\": \"x2\", \"y\": [6.0, 6.0, 6.0, 6.0, 6.0, 6.0, 6.0, 6.0, 6.0, 6.0], \"yaxis\": \"y2\"}, {\"marker\": {\"color\": \"SkyBlue\", \"size\": 10}, \"mode\": \"markers\", \"showlegend\": false, \"type\": \"scatter\", \"x\": [-0.4017608165740967, 0.12971119582653046, -0.8706041574478149, -0.45747387409210205, -0.06301546096801758, -0.0802091658115387, -0.8762394189834595, 0.18602994084358215, 0.6222082376480103, -0.32782840728759766, 0.19124895334243774, 0.04360203072428703, 0.06018482893705368, 0.5792026519775391, 0.36754822731018066, 0.4130907952785492, 0.10287640243768692, -0.05252528935670853, 0.07073113322257996, -0.22719451785087585, -0.01678614504635334, 0.33289825916290283, 0.6580734252929688, 0.01686582714319229, -0.7834644913673401, -0.7495918273925781, 0.13462978601455688, -0.8383715152740479, 0.24513602256774902, -0.8587369918823242, 0.24238011240959167, 0.06500744074583054, 0.08404363691806793, -0.2025350034236908, 0.6197082996368408, 0.10411062091588974, 0.08810453861951828, 0.160420224070549, 0.7101919054985046, 0.16648249328136444, 0.018843725323677063, 0.09420093894004822, 0.5944308638572693, -0.8528132438659668, 0.6887150406837463, -0.12775960564613342, 0.7081173658370972, -0.414703369140625, 0.02893950045108795, 0.07922962307929993], \"xaxis\": \"x2\", \"y\": [9.0, 9.0, 9.0, 9.0, 9.0, 9.0, 9.0, 9.0, 9.0, 9.0], \"yaxis\": \"y2\"}, {\"marker\": {\"color\": \"red\", \"size\": 10}, \"mode\": \"markers\", \"showlegend\": false, \"type\": \"scatter\", \"x\": [0.008107014000415802], \"xaxis\": \"x2\", \"y\": [9.0, 9.0, 9.0, 9.0, 9.0, 9.0, 9.0, 9.0, 9.0, 9.0], \"yaxis\": \"y2\"}, {\"marker\": {\"color\": \"SkyBlue\", \"size\": 10}, \"mode\": \"markers\", \"showlegend\": false, \"type\": \"scatter\", \"x\": [0.4510197043418884, -0.21742312610149384, -0.15741117298603058, -0.3682595193386078, 0.11106763780117035, -0.08309290558099747, 0.9707035422325134, -0.9449097514152527, -0.40521010756492615, 0.03567226231098175, 0.22151538729667664, -0.4437106251716614, 0.5260302424430847, 0.378093957901001, 0.9901503920555115, 0.15743955969810486, 0.06668850779533386, 0.8473330140113831, -0.4520411789417267, 0.9082856178283691, -0.8162311315536499, 0.13767081499099731, -0.40996482968330383, -0.3875323534011841, -0.23846447467803955, -0.23132824897766113, -0.22657757997512817, 0.19907334446907043, -0.2652403712272644, -0.6538415551185608, -0.04594305157661438, 0.9926645755767822, -0.1739284098148346, 0.8767905235290527, -0.7442347407341003, -0.9109513163566589, 0.11287291347980499, 0.9585965871810913, -0.11145937442779541, -0.5989768505096436, -0.9003322124481201, 0.005440443754196167, 0.875497579574585, 0.8455320596694946, -0.11388210207223892, -0.07440051436424255, 0.15566298365592957, -0.3721172511577606, 0.865922749042511, -0.31163275241851807], \"xaxis\": \"x2\", \"y\": [12.0, 12.0, 12.0, 12.0, 12.0, 12.0, 12.0, 12.0, 12.0, 12.0], \"yaxis\": \"y2\"}, {\"marker\": {\"color\": \"red\", \"size\": 10}, \"mode\": \"markers\", \"showlegend\": false, \"type\": \"scatter\", \"x\": [0.02061253786087036], \"xaxis\": \"x2\", \"y\": [12.0, 12.0, 12.0, 12.0, 12.0, 12.0, 12.0, 12.0, 12.0, 12.0], \"yaxis\": \"y2\"}, {\"marker\": {\"color\": \"SkyBlue\", \"size\": 10}, \"mode\": \"markers\", \"showlegend\": false, \"type\": \"scatter\", \"x\": [0.5993613004684448, 0.23381373286247253, -0.953315794467926, 0.6057977676391602, -0.4390517473220825, -0.392881840467453, 0.00031754374504089355, 0.6576095223426819, -0.5883810520172119, 0.6704496145248413, -0.143900066614151, 0.6178622245788574, 0.859142005443573, -0.3102610111236572, -0.20354439318180084, 0.25310778617858887, 0.10820050537586212, -0.4319836497306824, 0.2471839040517807, 0.26841750741004944, -0.450727254152298, 0.31142520904541016, -0.448119580745697, 0.7129966616630554, -0.15498420596122742, -0.4331481456756592, 0.5522619485855103, 0.8965563178062439, 0.9138696789741516, -0.8830670714378357, 0.7282885313034058, 0.4160909056663513, 0.6015907526016235, 0.3722583055496216, 0.46331900358200073, 0.21724921464920044, 0.47111696004867554, 0.8082542419433594, -0.7834650278091431, 0.9979932904243469, -0.4397638440132141, 0.21301372349262238, 0.28664836287498474, 0.37126225233078003, 0.07480791211128235, 0.7379244565963745, 0.29864928126335144, -0.43233007192611694, 0.8287624716758728, 0.8417860865592957], \"xaxis\": \"x2\", \"y\": [15.0, 15.0, 15.0, 15.0, 15.0, 15.0, 15.0, 15.0, 15.0, 15.0], \"yaxis\": \"y2\"}, {\"marker\": {\"color\": \"red\", \"size\": 10}, \"mode\": \"markers\", \"showlegend\": false, \"type\": \"scatter\", \"x\": [0.1949692666530609], \"xaxis\": \"x2\", \"y\": [15.0, 15.0, 15.0, 15.0, 15.0, 15.0, 15.0, 15.0, 15.0, 15.0], \"yaxis\": \"y2\"}, {\"marker\": {\"color\": \"SkyBlue\", \"size\": 10}, \"mode\": \"markers\", \"showlegend\": false, \"type\": \"scatter\", \"x\": [0.42575615644454956, 0.38717228174209595, -0.9423643946647644, -0.7212299704551697, -0.7264007925987244, 0.7062515020370483, 0.37858638167381287, 0.42519068717956543, 0.09343242645263672, 0.20585180819034576, 0.8031057715415955, -0.0910085141658783, -0.6078333258628845, 0.5454041957855225, 0.02932724356651306, 0.27278703451156616, -0.9850883483886719, -0.2093064785003662, 0.17217805981636047, -0.35706251859664917, -0.24044743180274963, -0.6971049308776855, 0.06785523891448975, 0.2769467234611511, -0.35896289348602295, -0.46518474817276, -0.49932387471199036, -0.049568042159080505, -0.45351898670196533, -0.44812020659446716, -0.4500875174999237, 0.0481073260307312, -0.8788306713104248, -0.36712953448295593, -0.37175652384757996, -0.7073947787284851, 0.21004348993301392, 0.09398294985294342, -0.3810417354106903, 0.6660496592521667, 0.8456742763519287, -0.08676037192344666, -0.5619538426399231, 0.4470636248588562, -0.195112943649292, 0.5008034110069275, 0.28180181980133057, 0.12446119636297226, 0.10465356707572937, 0.5544816255569458], \"xaxis\": \"x2\", \"y\": [18.0, 18.0, 18.0, 18.0, 18.0, 18.0, 18.0, 18.0, 18.0, 18.0], \"yaxis\": \"y2\"}, {\"marker\": {\"color\": \"red\", \"size\": 10}, \"mode\": \"markers\", \"showlegend\": false, \"type\": \"scatter\", \"x\": [-0.06371249258518219], \"xaxis\": \"x2\", \"y\": [18.0, 18.0, 18.0, 18.0, 18.0, 18.0, 18.0, 18.0, 18.0, 18.0], \"yaxis\": \"y2\"}, {\"marker\": {\"color\": \"SkyBlue\", \"size\": 10}, \"mode\": \"markers\", \"showlegend\": false, \"type\": \"scatter\", \"x\": [-0.8107290863990784, -0.8366206884384155, 0.7756871581077576, -0.7235317230224609, -0.5857901573181152, 0.6705907583236694, -0.7138808369636536, -0.8516457676887512, 0.7941949963569641, 0.9551373720169067, 0.5773086547851562, 0.8305094242095947, 0.923233151435852, 0.6308125853538513, 0.9432246088981628, -0.5350127220153809, 0.6691017150878906, -0.957149088382721, 0.6739446520805359, 0.8624545931816101, -0.7826594114303589, 0.7886327505111694, 0.8232358694076538, 0.8719563484191895, -0.9514992833137512, -0.5623370409011841, -0.6266556978225708, 0.8840292692184448, -0.7769242525100708, -0.8746299743652344, 0.8620254397392273, -0.9183310866355896, -0.8168665170669556, 0.6035159230232239, 0.8835088014602661, 0.6240059733390808, 0.657494843006134, -0.8325873613357544, 0.5743070840835571, 0.7405056357383728, -0.6277611255645752, -0.7376792430877686, -0.9043144583702087, -0.7619247436523438, 0.8037527799606323, 0.627338171005249, -0.8042478561401367, 0.801400899887085, -0.5545806288719177, 0.6614190340042114], \"xaxis\": \"x2\", \"y\": [21.0, 21.0, 21.0, 21.0, 21.0, 21.0, 21.0, 21.0, 21.0, 21.0], \"yaxis\": \"y2\"}, {\"marker\": {\"color\": \"red\", \"size\": 10}, \"mode\": \"markers\", \"showlegend\": false, \"type\": \"scatter\", \"x\": [0.0593193918466568], \"xaxis\": \"x2\", \"y\": [21.0, 21.0, 21.0, 21.0, 21.0, 21.0, 21.0, 21.0, 21.0, 21.0], \"yaxis\": \"y2\"}, {\"marker\": {\"color\": \"SkyBlue\", \"size\": 10}, \"mode\": \"markers\", \"showlegend\": false, \"type\": \"scatter\", \"x\": [-0.7578930258750916, -0.28147271275520325, -0.5892993807792664, 0.8122434616088867, -0.42219114303588867, 0.4088451862335205, 0.3602602183818817, -0.4957110285758972, 0.2167825698852539, -0.7443742752075195, -0.6793424487113953, -0.8335978984832764, -0.09382665157318115, -0.2943754494190216, -0.44838374853134155, -0.17411339282989502, -0.31862449645996094, 0.36167803406715393, 0.22345322370529175, 0.026094287633895874, -0.47206252813339233, 0.4623829126358032, -0.3150840699672699, -0.1440594643354416, -0.38459134101867676, 0.20045526325702667, 0.5553723573684692, 0.10951115190982819, -0.4200706481933594, 0.04556724429130554, -0.30273744463920593, 0.1002083420753479, 0.27303552627563477, -0.35103344917297363, -0.14923246204853058, -0.44594961404800415, -0.06595213711261749, -0.6135460138320923, -0.7081678509712219, -0.5480369925498962, -0.5690906047821045, -0.9646095037460327, 0.4301873445510864, -0.007876187562942505, -0.26933252811431885, -0.6342415809631348, -0.5913422107696533, -0.1659042239189148, -0.8019696474075317, 0.3935500979423523], \"xaxis\": \"x2\", \"y\": [24.0, 24.0, 24.0, 24.0, 24.0, 24.0, 24.0, 24.0, 24.0, 24.0], \"yaxis\": \"y2\"}, {\"marker\": {\"color\": \"red\", \"size\": 10}, \"mode\": \"markers\", \"showlegend\": false, \"type\": \"scatter\", \"x\": [-0.20156937837600708], \"xaxis\": \"x2\", \"y\": [24.0, 24.0, 24.0, 24.0, 24.0, 24.0, 24.0, 24.0, 24.0, 24.0], \"yaxis\": \"y2\"}, {\"marker\": {\"color\": \"SkyBlue\", \"size\": 10}, \"mode\": \"markers\", \"showlegend\": false, \"type\": \"scatter\", \"x\": [0.4920644462108612, -0.02750784158706665, -0.5564082860946655, 0.32823216915130615, 0.511944055557251, -0.8431455492973328, 0.11184218525886536, 0.7680712938308716, 0.4348483681678772, 0.17173586785793304, 0.26430732011795044, -0.7388209104537964, 0.1042746976017952, 0.52981036901474, 0.1577722132205963, 0.20918786525726318, 0.3353300094604492, 0.4396909773349762, 0.5058542490005493, -0.9594129920005798, -0.05752582848072052, -0.9451198577880859, -0.6966138482093811, -0.8658244609832764, -0.5678897500038147, -0.8274261951446533, 0.3148235082626343, 0.5189677476882935, -0.8188285827636719, -0.3056934177875519, -0.36048853397369385, -0.9513604044914246, 0.7322906255722046, 0.25501349568367004, 0.38024985790252686, -0.7371494770050049, 0.12504172325134277, -0.6953254342079163, -0.05681423842906952, -0.8351782560348511, -0.21690155565738678, 0.37322789430618286, -0.7610278129577637, -0.8404881358146667, -0.05385696887969971, -0.8857780694961548, 0.12157462537288666, -0.6783327460289001, 0.07052859663963318, -0.92298823595047], \"xaxis\": \"x2\", \"y\": [27.0, 27.0, 27.0, 27.0, 27.0, 27.0, 27.0, 27.0, 27.0, 27.0], \"yaxis\": \"y2\"}, {\"marker\": {\"color\": \"red\", \"size\": 10}, \"mode\": \"markers\", \"showlegend\": false, \"type\": \"scatter\", \"x\": [-0.1589844673871994], \"xaxis\": \"x2\", \"y\": [27.0, 27.0, 27.0, 27.0, 27.0, 27.0, 27.0, 27.0, 27.0, 27.0], \"yaxis\": \"y2\"}, {\"marker\": {\"color\": \"SkyBlue\", \"size\": 10}, \"mode\": \"markers\", \"showlegend\": false, \"type\": \"scatter\", \"x\": [-0.9079301357269287, -0.7734532356262207, -0.7807953953742981, -0.6617413759231567, 0.8896252512931824, 0.897527277469635, 0.7025712132453918, -0.9421626329421997, 0.9753000140190125, -0.7157612442970276, -0.6442806720733643, 0.8812450766563416, 0.9926127791404724, -0.9762422442436218, -0.9966979026794434, -0.6923516988754272, 0.8369585275650024, -0.7656399607658386, 0.8635315895080566, -0.8474266529083252, -0.6424384713172913, 0.984186589717865, 0.9750019907951355, -0.7700619697570801, 0.9984353184700012, 0.7935954332351685, -0.8757968544960022, 0.8445632457733154, 0.8877848982810974, 0.8625195622444153, -0.6752979159355164, 0.9863004684448242, -0.8306247591972351, -0.5809317827224731, 0.9902441501617432, 0.9828593730926514, 0.7459397315979004, -0.9508616328239441, 0.9920274615287781, -0.6125469207763672, 0.86929851770401, 0.9922558665275574, -0.7434287667274475, -0.7227049469947815, 0.9357872009277344, -0.8020604848861694, -0.9078121185302734, -0.9893607497215271, 0.981664776802063, 0.9517918229103088], \"xaxis\": \"x2\", \"y\": [30.0, 30.0, 30.0, 30.0, 30.0, 30.0, 30.0, 30.0, 30.0, 30.0], \"yaxis\": \"y2\"}, {\"marker\": {\"color\": \"red\", \"size\": 10}, \"mode\": \"markers\", \"showlegend\": false, \"type\": \"scatter\", \"x\": [0.06010435149073601], \"xaxis\": \"x2\", \"y\": [30.0, 30.0, 30.0, 30.0, 30.0, 30.0, 30.0, 30.0, 30.0, 30.0], \"yaxis\": \"y2\"}, {\"marker\": {\"color\": \"SkyBlue\", \"size\": 10}, \"mode\": \"markers\", \"showlegend\": false, \"type\": \"scatter\", \"x\": [-0.3120194375514984, -0.20637759566307068, 0.7342535257339478, 0.8285320401191711, -0.19315427541732788, 0.17270755767822266, -0.2817493975162506, 0.2507019639015198, 0.028225690126419067, -0.28736793994903564, 0.07644674181938171, -0.09543225169181824, -0.12750744819641113, 0.7656822204589844, -0.4447427988052368, 0.5752649903297424, -0.0350462943315506, 0.7225956916809082, 0.6207703948020935, -0.9738276600837708, -0.6431865096092224, 0.42944419384002686, 0.9917025566101074, -0.2496027946472168, 0.9596426486968994, 0.014717131853103638, 0.4336552619934082, -0.2096429467201233, 0.751448392868042, 0.5014836192131042, -0.21199557185173035, 0.9252653121948242, -0.9380443096160889, 0.9449559450149536, -0.47989457845687866, 0.5817793607711792, 0.560492217540741, -0.2087465077638626, 0.5307824611663818, -0.2316747009754181, 0.5682939291000366, 0.9249178171157837, 0.0726860761642456, -0.3136698603630066, -0.24556680023670197, 0.31166332960128784, -0.27062511444091797, -0.2921680808067322, 0.9693437218666077, -0.2121046781539917], \"xaxis\": \"x2\", \"y\": [33.0, 33.0, 33.0, 33.0, 33.0, 33.0, 33.0, 33.0, 33.0, 33.0], \"yaxis\": \"y2\"}, {\"marker\": {\"color\": \"red\", \"size\": 10}, \"mode\": \"markers\", \"showlegend\": false, \"type\": \"scatter\", \"x\": [0.15566612780094147], \"xaxis\": \"x2\", \"y\": [33.0, 33.0, 33.0, 33.0, 33.0, 33.0, 33.0, 33.0, 33.0, 33.0], \"yaxis\": \"y2\"}, {\"marker\": {\"color\": \"SkyBlue\", \"size\": 10}, \"mode\": \"markers\", \"showlegend\": false, \"type\": \"scatter\", \"x\": [-0.593941330909729, -0.672681450843811, -0.8774465322494507, -0.8442934155464172, -0.5893937349319458, -0.2677348554134369, -0.9183305501937866, -0.5648342967033386, -0.4619481563568115, -0.5369189977645874, -0.236260324716568, -0.6778964400291443, -0.516239583492279, -0.5657058954238892, -0.003508329391479492, -0.8888968825340271, 0.05548867583274841, -0.34320372343063354, 0.0006022006273269653, -0.7189238667488098, -0.6552196145057678, -0.6632485389709473, 0.06920287013053894, -0.1272660493850708, -0.6582534313201904, -0.31098881363868713, -0.686416745185852, -0.7315352559089661, -0.4474250078201294, 0.4071105718612671, -0.8148555159568787, -0.9526679515838623, 0.06394387781620026, -0.879375696182251, -0.907055139541626, -0.8806607127189636, -0.45409178733825684, -0.728328287601471, -0.6732750535011292, -0.2864207625389099, -0.3353407680988312, -0.7864987850189209, -0.554901123046875, -0.6409001350402832, -0.3035343289375305, -0.4277470111846924, -0.2275991439819336, -0.5808477401733398, 0.5581637024879456, -0.24884751439094543], \"xaxis\": \"x2\", \"y\": [36.0, 36.0, 36.0, 36.0, 36.0, 36.0, 36.0, 36.0, 36.0, 36.0], \"yaxis\": \"y2\"}, {\"marker\": {\"color\": \"red\", \"size\": 10}, \"mode\": \"markers\", \"showlegend\": false, \"type\": \"scatter\", \"x\": [-0.4817389249801636], \"xaxis\": \"x2\", \"y\": [36.0, 36.0, 36.0, 36.0, 36.0, 36.0, 36.0, 36.0, 36.0, 36.0], \"yaxis\": \"y2\"}, {\"marker\": {\"color\": \"SkyBlue\", \"size\": 10}, \"mode\": \"markers\", \"showlegend\": false, \"type\": \"scatter\", \"x\": [0.48144176602363586, 0.36266013979911804, -0.5137081742286682, 0.9056150913238525, 0.6434932947158813, 0.9188042879104614, 0.36875414848327637, -0.19664058089256287, 0.767594039440155, 0.39714503288269043, 0.9395588636398315, 0.9553348422050476, 0.5440884828567505, 0.6938313841819763, 0.3130389451980591, 0.6205549836158752, 0.9249099493026733, 0.9312598705291748, 0.9960572123527527, 0.27850577235221863, 0.9087088704109192, -0.10071343183517456, 0.5648171901702881, 0.9642975926399231, 0.9716313481330872, 0.7830207347869873, 0.8238188624382019, 0.25909581780433655, 0.5399177074432373, 0.9833171367645264, 0.9885025024414062, 0.9965324997901917, 0.9683372974395752, 0.25604456663131714, 0.2951321601867676, 0.6999692320823669, 0.1507214456796646, 0.9788219332695007, 0.9602063894271851, 0.6737375259399414, 0.9618138074874878, 0.918621838092804, 0.969187319278717, 0.9980137348175049, 0.07169325649738312, 0.934623122215271, 0.8808103203773499, 0.6205862760543823, 0.9479221701622009, 0.9778652191162109], \"xaxis\": \"x2\", \"y\": [39.0, 39.0, 39.0, 39.0, 39.0, 39.0, 39.0, 39.0, 39.0, 39.0], \"yaxis\": \"y2\"}, {\"marker\": {\"color\": \"red\", \"size\": 10}, \"mode\": \"markers\", \"showlegend\": false, \"type\": \"scatter\", \"x\": [0.6655871868133545], \"xaxis\": \"x2\", \"y\": [39.0, 39.0, 39.0, 39.0, 39.0, 39.0, 39.0, 39.0, 39.0, 39.0], \"yaxis\": \"y2\"}, {\"marker\": {\"color\": \"SkyBlue\", \"size\": 10}, \"mode\": \"markers\", \"showlegend\": false, \"type\": \"scatter\", \"x\": [0.29651039838790894, 0.49565184116363525, -0.568710446357727, -0.8108558654785156, 0.3960435390472412, 0.9804982542991638, 0.6772383451461792, 0.7345939874649048, -0.9658850431442261, 0.2526693344116211, -0.7438437938690186, -0.11874134838581085, -0.27308592200279236, -0.8305581212043762, -0.2715529799461365, -0.17420393228530884, -0.11475210636854172, -0.5275788307189941, -0.39636915922164917, -0.44964277744293213, -0.6745117902755737, -0.14691032469272614, -0.02442438155412674, -0.07264981418848038, -0.688859224319458, 0.9735748767852783, 0.6994466185569763, -0.19996483623981476, -0.05937134847044945, -0.4406197667121887, -0.291655957698822, -0.07550469785928726, -0.27054691314697266, 0.16174417734146118, -0.09544996917247772, 0.0654238760471344, -0.18893012404441833, -0.0332031175494194, -0.6451289057731628, -0.09749564528465271, -0.5506590008735657, 0.5537643432617188, 0.21652071177959442, -0.11445175111293793, 0.493220716714859, -0.06914269924163818, -0.7739468216896057, -0.14772029221057892, -0.030085787177085876, 0.3960871696472168], \"xaxis\": \"x2\", \"y\": [42.0, 42.0, 42.0, 42.0, 42.0, 42.0, 42.0, 42.0, 42.0, 42.0], \"yaxis\": \"y2\"}, {\"marker\": {\"color\": \"red\", \"size\": 10}, \"mode\": \"markers\", \"showlegend\": false, \"type\": \"scatter\", \"x\": [-0.09088049829006195], \"xaxis\": \"x2\", \"y\": [42.0, 42.0, 42.0, 42.0, 42.0, 42.0, 42.0, 42.0, 42.0, 42.0], \"yaxis\": \"y2\"}, {\"marker\": {\"color\": \"SkyBlue\", \"size\": 10}, \"mode\": \"markers\", \"showlegend\": false, \"type\": \"scatter\", \"x\": [0.4656734764575958, -0.9935726523399353, 0.4056553840637207, -0.15832990407943726, -0.9981836676597595, 0.6507428884506226, 0.20165154337882996, 0.6147677302360535, 0.49027881026268005, -0.9947882890701294, 0.15421655774116516, 0.4343855082988739, 0.9274816513061523, 0.9913894534111023, -0.9821314811706543, 0.1994931399822235, 0.5694118738174438, -0.47023236751556396, 0.7542732954025269, 0.6523868441581726, 0.46304750442504883, 0.4468414783477783, 0.6874660849571228, 0.9138081073760986, -0.9862627983093262, 0.47583723068237305, -0.9882463216781616, -0.9704606533050537, 0.3329138159751892, 0.9830105304718018, 0.004417508840560913, 0.30752813816070557, 0.5827423334121704, 0.31865960359573364, 0.8590706586837769, -0.9858984351158142, 0.3484008312225342, 0.6663350462913513, -0.696951150894165, 0.2982731759548187, 0.6657376885414124, 0.18862870335578918, 0.46990132331848145, 0.9153681397438049, 0.8268221020698547, -0.971272885799408, 0.422514945268631, 0.5402252674102783, 0.6888980269432068, -0.988391101360321], \"xaxis\": \"x2\", \"y\": [45.0, 45.0, 45.0, 45.0, 45.0, 45.0, 45.0, 45.0, 45.0, 45.0], \"yaxis\": \"y2\"}, {\"marker\": {\"color\": \"red\", \"size\": 10}, \"mode\": \"markers\", \"showlegend\": false, \"type\": \"scatter\", \"x\": [0.17467069625854492], \"xaxis\": \"x2\", \"y\": [45.0, 45.0, 45.0, 45.0, 45.0, 45.0, 45.0, 45.0, 45.0, 45.0], \"yaxis\": \"y2\"}, {\"marker\": {\"color\": \"SkyBlue\", \"size\": 10}, \"mode\": \"markers\", \"showlegend\": false, \"type\": \"scatter\", \"x\": [-0.5252311825752258, -0.6212859749794006, -0.9146342277526855, -0.023326031863689423, 0.5775705575942993, 0.12917588651180267, 0.09110958874225616, 0.7327853441238403, -0.16111713647842407, 0.18598797917366028, 0.3002829849720001, 0.08271150290966034, -0.02242068201303482, 0.3411472737789154, -0.8689426183700562, -0.9489689469337463, 0.05104426294565201, -0.9432934522628784, -0.7782026529312134, 0.09587348997592926, 0.214351624250412, -0.7899112701416016, -0.9825094938278198, -0.9024968147277832, -0.4360544681549072, -0.2279902696609497, 0.014099180698394775, -0.6372023224830627, -0.9503626823425293, 0.2980557978153229, -0.7500612735748291, -0.39494550228118896, 0.20872795581817627, -0.902523398399353, 0.0026976466178894043, -0.9031326770782471, -0.9326983690261841, -0.2247239053249359, -0.8554156422615051, -0.5625439286231995, -0.9884948134422302, 0.009297449141740799, -0.6837306022644043, -0.9891093373298645, -0.8366677761077881, -0.007799454033374786, -0.2651865482330322, -0.7177301049232483, -0.07383161038160324, -0.5798494219779968], \"xaxis\": \"x2\", \"y\": [48.0, 48.0, 48.0, 48.0, 48.0, 48.0, 48.0, 48.0, 48.0, 48.0], \"yaxis\": \"y2\"}, {\"marker\": {\"color\": \"red\", \"size\": 10}, \"mode\": \"markers\", \"showlegend\": false, \"type\": \"scatter\", \"x\": [-0.36134952306747437], \"xaxis\": \"x2\", \"y\": [48.0, 48.0, 48.0, 48.0, 48.0, 48.0, 48.0, 48.0, 48.0, 48.0], \"yaxis\": \"y2\"}, {\"marker\": {\"color\": \"SkyBlue\", \"size\": 10}, \"mode\": \"markers\", \"showlegend\": false, \"type\": \"scatter\", \"x\": [0.366584837436676, -0.04045802354812622, 0.8093565702438354, 0.4297613501548767, 0.3362567722797394, 0.9329272508621216, 0.5120460391044617, 0.21913579106330872, 0.6583079099655151, 0.7572618722915649, 0.846996545791626, 0.7762954235076904, 0.14223676919937134, 0.34630876779556274, 0.08220115303993225, 0.38271063566207886, 0.37783342599868774, 0.22843413054943085, 0.45001792907714844, 0.49164140224456787, 0.5710527896881104, 0.9091550707817078, 0.7888503670692444, 0.7276996374130249, 0.310017466545105, 0.6973521113395691, 0.9174042344093323, 0.02414560317993164, 0.8080581426620483, 0.7311666011810303, 0.20801207423210144, 0.49247094988822937, 0.9902352094650269, 0.15976496040821075, 0.3697877526283264, 0.33159342408180237, 0.8781154155731201, 0.3506641983985901, 0.5609915852546692, 0.7609047293663025, 0.3664068281650543, 0.1257530152797699, 0.4746262729167938, 0.9046207666397095, 0.4330177903175354, -0.13994574546813965, 0.25409188866615295, 0.35042062401771545, 0.9003532528877258, 0.94153892993927], \"xaxis\": \"x2\", \"y\": [51.0, 51.0, 51.0, 51.0, 51.0, 51.0, 51.0, 51.0, 51.0, 51.0], \"yaxis\": \"y2\"}, {\"marker\": {\"color\": \"red\", \"size\": 10}, \"mode\": \"markers\", \"showlegend\": false, \"type\": \"scatter\", \"x\": [0.5060836672782898], \"xaxis\": \"x2\", \"y\": [51.0, 51.0, 51.0, 51.0, 51.0, 51.0, 51.0, 51.0, 51.0, 51.0], \"yaxis\": \"y2\"}, {\"marker\": {\"color\": \"SkyBlue\", \"size\": 10}, \"mode\": \"markers\", \"showlegend\": false, \"type\": \"scatter\", \"x\": [-0.5511635541915894, -0.8584754467010498, -0.9689117670059204, -0.46066513657569885, 0.26596441864967346, 0.48675161600112915, 0.5503248572349548, -0.5718340873718262, 0.6258730888366699, -0.7741295695304871, -0.7930812835693359, -0.6811578869819641, -0.7439959049224854, -0.78749680519104, 0.713433027267456, -0.36880964040756226, -0.8372610807418823, -0.8706450462341309, -0.49135881662368774, 0.6659278273582458, -0.6165956258773804, 0.7857957482337952, -0.4924617409706116, -0.807574987411499, 0.6410452723503113, -0.31431835889816284, 0.6349664926528931, 0.2673550844192505, -0.45351359248161316, -0.5280894041061401, -0.5094632506370544, -0.2771245241165161, -0.07330340147018433, -0.20419257879257202, 0.00927773118019104, -0.23597583174705505, -0.6912688612937927, -0.33998119831085205, 0.513507604598999, 0.6324850916862488, -0.32101091742515564, -0.6482177972793579, -0.4577195644378662, -0.6631930470466614, -0.21613681316375732, 0.23019307851791382, -0.7280112504959106, -0.809442937374115, -0.5359539985656738, -0.1330333650112152], \"xaxis\": \"x2\", \"y\": [54.0, 54.0, 54.0, 54.0, 54.0, 54.0, 54.0, 54.0, 54.0, 54.0], \"yaxis\": \"y2\"}, {\"marker\": {\"color\": \"red\", \"size\": 10}, \"mode\": \"markers\", \"showlegend\": false, \"type\": \"scatter\", \"x\": [-0.2558533847332001], \"xaxis\": \"x2\", \"y\": [54.0, 54.0, 54.0, 54.0, 54.0, 54.0, 54.0, 54.0, 54.0, 54.0], \"yaxis\": \"y2\"}, {\"marker\": {\"color\": \"SkyBlue\", \"size\": 10}, \"mode\": \"markers\", \"showlegend\": false, \"type\": \"scatter\", \"x\": [0.994038462638855, -0.10426370799541473, 0.2873848080635071, 0.9723859429359436, 0.9352768063545227, 0.9704462289810181, 0.9110420942306519, 0.9165588021278381, -0.6997308731079102, -0.15394651889801025, -0.01204119622707367, 0.6950494647026062, -0.2216062843799591, -0.20186573266983032, -0.311624139547348, 0.18513748049736023, 0.8300093412399292, 0.8638488054275513, -0.2781093120574951, 0.9812726974487305, -0.7147324085235596, 0.6708110570907593, 0.9635201692581177, 0.8776854872703552, 0.9887773990631104, 0.6100610494613647, -0.6766481399536133, 0.7759401798248291, 0.8636254072189331, -0.7501377463340759, 0.6140003204345703, 0.21210497617721558, 0.9244362711906433, 0.8741195201873779, 0.7681776285171509, 0.7000176906585693, 0.01727113127708435, -0.38737085461616516, 0.7866359353065491, 0.47405534982681274, 0.13656698167324066, -0.3457299768924713, 0.8068881034851074, -0.8429370522499084, 0.9022641181945801, 0.6580567955970764, 0.32873743772506714, -0.031623318791389465, 0.8766171932220459, 0.9176263809204102], \"xaxis\": \"x2\", \"y\": [57.0, 57.0, 57.0, 57.0, 57.0, 57.0, 57.0, 57.0, 57.0, 57.0], \"yaxis\": \"y2\"}, {\"marker\": {\"color\": \"red\", \"size\": 10}, \"mode\": \"markers\", \"showlegend\": false, \"type\": \"scatter\", \"x\": [0.39116156101226807], \"xaxis\": \"x2\", \"y\": [57.0, 57.0, 57.0, 57.0, 57.0, 57.0, 57.0, 57.0, 57.0, 57.0], \"yaxis\": \"y2\"}, {\"marker\": {\"color\": \"SkyBlue\", \"size\": 10}, \"mode\": \"markers\", \"showlegend\": false, \"type\": \"scatter\", \"x\": [-0.8977913856506348, -0.7656357288360596, 0.158935546875, -0.10833989083766937, 0.12281878292560577, 0.19872406125068665, 0.247322678565979, -0.7134369015693665, -0.879710853099823, -0.8219623565673828, 0.17593547701835632, -0.8787357211112976, -0.5640108585357666, 0.6928899884223938, -0.8474816679954529, -0.17450201511383057, -0.9686697721481323, -0.4153614938259125, -0.8789296746253967, -0.9060254693031311, 0.1405879557132721, -0.9121085405349731, -0.9186943769454956, -0.945672869682312, -0.4815766215324402, -0.7674050331115723, -0.9003505110740662, -0.9547677040100098, -0.5202724933624268, -0.985321044921875, -0.7401878833770752, 0.3652024269104004, -0.31485241651535034, -0.16246573626995087, -0.8167310953140259, 0.22209328413009644, -0.23286262154579163, -0.15205153822898865, 0.24938464164733887, -0.5472947955131531, 0.1308971643447876, 0.22669482231140137, -0.5317583084106445, 0.17342479526996613, -0.8520643711090088, 0.10244619846343994, -0.7147282361984253, -0.8442778587341309, -0.9761274456977844, -0.7551625967025757], \"xaxis\": \"x2\", \"y\": [60.0, 60.0, 60.0, 60.0, 60.0, 60.0, 60.0, 60.0, 60.0, 60.0], \"yaxis\": \"y2\"}, {\"marker\": {\"color\": \"red\", \"size\": 10}, \"mode\": \"markers\", \"showlegend\": false, \"type\": \"scatter\", \"x\": [-0.43279942870140076], \"xaxis\": \"x2\", \"y\": [60.0, 60.0, 60.0, 60.0, 60.0, 60.0, 60.0, 60.0, 60.0, 60.0], \"yaxis\": \"y2\"}, {\"marker\": {\"color\": \"SkyBlue\", \"size\": 10}, \"mode\": \"markers\", \"showlegend\": false, \"type\": \"scatter\", \"x\": [0.9559367895126343, -0.5590949058532715, 0.4913793206214905, 0.5796048045158386, 0.9984250664710999, 0.9494491219520569, -0.9906233549118042, 0.7183509469032288, -0.9682916402816772, 0.975928008556366, 0.92230224609375, 0.9520407915115356, 0.03136099874973297, 0.7642967700958252, -0.7733080387115479, 0.6721621155738831, -0.6793243885040283, -0.9258127808570862, 0.9454867243766785, 0.9455595016479492, -0.9643731713294983, 0.927379846572876, -0.70000159740448, -0.8975322842597961, 0.9257727861404419, 0.6492997407913208, -0.5315178632736206, 0.5345665216445923, 0.9217839241027832, -0.9497478604316711, -0.9415561556816101, -0.6423193216323853, 0.908781111240387, -0.9037429690361023, 0.5363134145736694, -0.8269497156143188, 0.9623321890830994, -0.9414080381393433, 0.9258153438568115, 0.8685551881790161, 0.589868426322937, 0.43672025203704834, 0.9868525266647339, -0.7253316044807434, 0.9205623865127563, 0.9542356729507446, 0.5174466371536255, 0.9536101222038269, -0.5967783331871033, 0.9278576374053955], \"xaxis\": \"x2\", \"y\": [63.0, 63.0, 63.0, 63.0, 63.0, 63.0, 63.0, 63.0, 63.0, 63.0], \"yaxis\": \"y2\"}, {\"marker\": {\"color\": \"red\", \"size\": 10}, \"mode\": \"markers\", \"showlegend\": false, \"type\": \"scatter\", \"x\": [0.2166464626789093], \"xaxis\": \"x2\", \"y\": [63.0, 63.0, 63.0, 63.0, 63.0, 63.0, 63.0, 63.0, 63.0, 63.0], \"yaxis\": \"y2\"}, {\"marker\": {\"color\": \"SkyBlue\", \"size\": 10}, \"mode\": \"markers\", \"showlegend\": false, \"type\": \"scatter\", \"x\": [-0.04231584072113037, -0.253868043422699, -0.23309078812599182, -0.9667285084724426, 0.6809865832328796, -0.9974228739738464, 0.7910141944885254, -0.4160102307796478, -0.0707131028175354, 0.8715716600418091, -0.43427056074142456, -0.3787785768508911, -0.39896583557128906, 0.47891518473625183, -0.14395126700401306, 0.8324113488197327, 0.7670634984970093, -0.3593837320804596, 0.08627450466156006, 0.5433715581893921, 0.6044504046440125, -0.4623711109161377, 0.3487890958786011, 0.7329762578010559, -0.3980063796043396, -0.1528167873620987, 0.6147425770759583, -0.33264249563217163, 0.720460832118988, -0.33626264333724976, -0.6671065092086792, 0.6147868633270264, 0.7978134751319885, 0.5591961741447449, 0.68528151512146, -0.8492850065231323, -0.2016593962907791, -0.21279847621917725, 0.3738670349121094, 0.15585097670555115, 0.2865906357765198, 0.16589415073394775, -0.33731508255004883, 0.24884076416492462, 0.8732969760894775, 0.19384826719760895, 0.7596220374107361, -0.8205857276916504, 0.1558103859424591, 0.2483476996421814], \"xaxis\": \"x2\", \"y\": [66.0, 66.0, 66.0, 66.0, 66.0, 66.0, 66.0, 66.0, 66.0, 66.0], \"yaxis\": \"y2\"}, {\"marker\": {\"color\": \"red\", \"size\": 10}, \"mode\": \"markers\", \"showlegend\": false, \"type\": \"scatter\", \"x\": [0.09451451152563095], \"xaxis\": \"x2\", \"y\": [66.0, 66.0, 66.0, 66.0, 66.0, 66.0, 66.0, 66.0, 66.0, 66.0], \"yaxis\": \"y2\"}, {\"marker\": {\"color\": \"SkyBlue\", \"size\": 10}, \"mode\": \"markers\", \"showlegend\": false, \"type\": \"scatter\", \"x\": [-0.11644244939088821, -0.6884866952896118, 0.28656381368637085, 0.2415706366300583, 0.4970777928829193, 0.7694208025932312, -0.060602009296417236, 0.7968835830688477, -0.5844706892967224, 0.22175127267837524, 0.28479740023612976, -0.22371181845664978, -0.21799823641777039, 0.2347593456506729, -0.7095628976821899, 0.47591468691825867, -0.30151116847991943, -0.3176763951778412, -0.493173748254776, -0.35775160789489746, 0.34161892533302307, -0.9583685398101807, 0.009061217308044434, -0.64599609375, -0.27796879410743713, -0.2270066738128662, -0.6892751455307007, -0.025021076202392578, -0.7056991457939148, -0.113237664103508, 0.3080035150051117, -0.6095688343048096, -0.2807543873786926, -0.2465803325176239, 0.7352131605148315, 0.3415493667125702, -0.09296852350234985, -0.6507337689399719, -0.425137996673584, 0.13872495293617249, -0.2861277759075165, 0.22472812235355377, 0.6673082709312439, -0.9244733452796936, -0.652856707572937, -0.31586167216300964, -0.420714795589447, 0.13598091900348663, -0.7402182221412659, -0.5298848748207092], \"xaxis\": \"x2\", \"y\": [69.0, 69.0, 69.0, 69.0, 69.0, 69.0, 69.0, 69.0, 69.0, 69.0], \"yaxis\": \"y2\"}, {\"marker\": {\"color\": \"red\", \"size\": 10}, \"mode\": \"markers\", \"showlegend\": false, \"type\": \"scatter\", \"x\": [-0.14357829093933105], \"xaxis\": \"x2\", \"y\": [69.0, 69.0, 69.0, 69.0, 69.0, 69.0, 69.0, 69.0, 69.0, 69.0], \"yaxis\": \"y2\"}, {\"marker\": {\"color\": \"SkyBlue\", \"size\": 10}, \"mode\": \"markers\", \"showlegend\": false, \"type\": \"scatter\", \"x\": [-0.5203817486763, -0.4246898889541626, 0.23859789967536926, -0.4108234941959381, -0.7867230176925659, 0.484220951795578, -0.8767756223678589, -0.7281849384307861, -0.6180002689361572, -0.5194745063781738, -0.7349342107772827, -0.6150048971176147, -0.8637601137161255, 0.43004727363586426, -0.6156589388847351, -0.6268988847732544, -0.5531281232833862, -0.6707419157028198, 0.1089896559715271, -0.8344503045082092, -0.7984325885772705, -0.5933617353439331, -0.5920798182487488, -0.5852049589157104, -0.6136273741722107, -0.802119791507721, 0.9352806210517883, -0.7633486390113831, -0.41775423288345337, -0.841397762298584, 0.5536035299301147, -0.6227473020553589, -0.546029269695282, 0.04748013615608215, 0.8592227697372437, -0.7143884301185608, -0.9489811658859253, 0.2038523256778717, -0.8390617370605469, -0.7879332304000854, -0.763045072555542, 0.7112169861793518, 0.31492477655410767, 0.5044413805007935, -0.9027289152145386, 0.9775615334510803, -0.9317775964736938, -0.5639621019363403, 0.7379589080810547, -0.8585436344146729], \"xaxis\": \"x2\", \"y\": [72.0, 72.0, 72.0, 72.0, 72.0, 72.0, 72.0, 72.0, 72.0, 72.0], \"yaxis\": \"y2\"}, {\"marker\": {\"color\": \"red\", \"size\": 10}, \"mode\": \"markers\", \"showlegend\": false, \"type\": \"scatter\", \"x\": [-0.3555751442909241], \"xaxis\": \"x2\", \"y\": [72.0, 72.0, 72.0, 72.0, 72.0, 72.0, 72.0, 72.0, 72.0, 72.0], \"yaxis\": \"y2\"}, {\"marker\": {\"color\": \"SkyBlue\", \"size\": 10}, \"mode\": \"markers\", \"showlegend\": false, \"type\": \"scatter\", \"x\": [0.9293205142021179, 0.2494291365146637, 0.016354814171791077, 0.9722476005554199, 0.8361184000968933, 0.34883251786231995, 0.037377506494522095, 0.8366323709487915, -0.23036134243011475, 0.9733002781867981, 0.09969437122344971, 0.8109411001205444, -0.08821602165699005, 0.837692379951477, -0.23437350988388062, 0.7383575439453125, 0.028970208019018173, -0.6077232360839844, 0.18616938591003418, -0.620531439781189, -0.06634717434644699, 0.8739069700241089, -0.15301965177059174, 0.8285787105560303, 0.09304280579090118, -0.15698178112506866, -0.4243066608905792, -0.1788034588098526, 0.7420463562011719, 0.48427098989486694, 0.42172688245773315, 0.18911463022232056, 0.0773548036813736, 0.9395084381103516, 0.8978689312934875, 0.9512088298797607, 0.7360532283782959, 0.8508284091949463, 0.9158642888069153, 0.9173140525817871, 0.7885245680809021, 0.2947143614292145, 0.8159662485122681, -0.6030605435371399, 0.1453321874141693, -0.01671718806028366, 0.8684627413749695, 0.7752823233604431, -0.3613620400428772, 0.30744221806526184], \"xaxis\": \"x2\", \"y\": [75.0, 75.0, 75.0, 75.0, 75.0, 75.0, 75.0, 75.0, 75.0, 75.0], \"yaxis\": \"y2\"}, {\"marker\": {\"color\": \"red\", \"size\": 10}, \"mode\": \"markers\", \"showlegend\": false, \"type\": \"scatter\", \"x\": [0.3614809513092041], \"xaxis\": \"x2\", \"y\": [75.0, 75.0, 75.0, 75.0, 75.0, 75.0, 75.0, 75.0, 75.0, 75.0], \"yaxis\": \"y2\"}, {\"marker\": {\"color\": \"SkyBlue\", \"size\": 10}, \"mode\": \"markers\", \"showlegend\": false, \"type\": \"scatter\", \"x\": [-0.28863149881362915, -0.26226186752319336, -0.6683260202407837, -0.13129529356956482, 0.23479115962982178, 0.04071149230003357, 0.9173495769500732, -0.21895098686218262, 0.041884660720825195, 0.05987890437245369, 0.9209762811660767, -0.5155367255210876, -0.17446571588516235, -0.3951312303543091, 0.02448873594403267, 0.4336360991001129, 0.8491653800010681, 0.757940411567688, -0.283774197101593, 0.9688260555267334, -0.6899770498275757, -0.3575372099876404, 0.025263488292694092, 0.6507214307785034, -0.2644505202770233, 0.19539134204387665, 0.9166306257247925, -0.3664337396621704, -0.4167713522911072, -0.4888780415058136, -0.5274564027786255, -0.6134083867073059, -0.16560795903205872, -0.374442458152771, 0.12357357144355774, -0.741342306137085, -0.24099549651145935, 0.8761857151985168, -0.31312626600265503, -0.19768977165222168, 0.4167829155921936, -0.11073967814445496, 0.22014856338500977, 0.946481466293335, 0.7514472007751465, -0.004269242286682129, -0.0847846120595932, -0.2452845275402069, 0.8667743802070618, -0.07371437549591064], \"xaxis\": \"x2\", \"y\": [78.0, 78.0, 78.0, 78.0, 78.0, 78.0, 78.0, 78.0, 78.0, 78.0], \"yaxis\": \"y2\"}, {\"marker\": {\"color\": \"red\", \"size\": 10}, \"mode\": \"markers\", \"showlegend\": false, \"type\": \"scatter\", \"x\": [0.040475331246852875], \"xaxis\": \"x2\", \"y\": [78.0, 78.0, 78.0, 78.0, 78.0, 78.0, 78.0, 78.0, 78.0, 78.0], \"yaxis\": \"y2\"}, {\"marker\": {\"color\": \"SkyBlue\", \"size\": 10}, \"mode\": \"markers\", \"showlegend\": false, \"type\": \"scatter\", \"x\": [-0.867841362953186, 0.5035150051116943, 0.06130172684788704, 0.7784336805343628, 0.5977827310562134, 0.30873650312423706, 0.5996093153953552, 0.37348371744155884, -0.6915621161460876, -0.057415157556533813, -0.5031358599662781, -0.5878702402114868, 0.7491657733917236, -0.993493378162384, -0.47001913189888, -0.04099494218826294, -0.5128598809242249, 0.49091923236846924, -0.7262859344482422, -0.39492863416671753, -0.4254021644592285, -0.27910035848617554, 0.10288754105567932, 0.5590831637382507, -0.2761150598526001, 0.05129846930503845, 0.10522376000881195, 0.8005622625350952, 0.7095583081245422, 0.00887712836265564, -0.2581046521663666, 0.2826145887374878, 0.3176901340484619, 0.8052604794502258, 0.8532572984695435, 0.7374734878540039, -0.49819356203079224, 0.3000972270965576, -0.28683263063430786, -0.2565653324127197, -0.5520633459091187, -0.27802422642707825, 0.3372291326522827, 0.5565534830093384, 0.4911002516746521, 0.02400827407836914, -0.8074752688407898, 0.38285067677497864, -0.7856914401054382, -0.9069885015487671], \"xaxis\": \"x2\", \"y\": [81.0, 81.0, 81.0, 81.0, 81.0, 81.0, 81.0, 81.0, 81.0, 81.0], \"yaxis\": \"y2\"}, {\"marker\": {\"color\": \"red\", \"size\": 10}, \"mode\": \"markers\", \"showlegend\": false, \"type\": \"scatter\", \"x\": [0.008632213808596134], \"xaxis\": \"x2\", \"y\": [81.0, 81.0, 81.0, 81.0, 81.0, 81.0, 81.0, 81.0, 81.0, 81.0], \"yaxis\": \"y2\"}, {\"marker\": {\"color\": \"SkyBlue\", \"size\": 10}, \"mode\": \"markers\", \"showlegend\": false, \"type\": \"scatter\", \"x\": [-0.07165881991386414, -0.2594090700149536, -0.03138653188943863, -0.33656951785087585, 0.936152458190918, -0.67769855260849, 0.3297855257987976, 0.8838481903076172, -0.8789894580841064, -0.23353691399097443, -0.31712985038757324, -0.14067493379116058, -0.9973205327987671, -0.4601700007915497, 0.9098145961761475, 0.9051246047019958, -0.18830065429210663, 0.8684731721878052, -0.04988577589392662, -0.540440559387207, -0.680513858795166, -0.09023914486169815, 0.23003235459327698, -0.1827501505613327, -0.9779414534568787, -0.14362332224845886, -0.7030544877052307, 0.9646130800247192, -0.48052436113357544, 0.13708704710006714, -0.5205573439598083, -0.48202288150787354, -0.8418053388595581, -0.799710214138031, -0.43008071184158325, -0.24675646424293518, 0.17361539602279663, -0.3842277228832245, -0.04655441641807556, 0.9316325783729553, -0.20395196974277496, -0.5421807169914246, 0.7113775610923767, -0.9390836358070374, 0.7589075565338135, -0.38312479853630066, -0.38010433316230774, 0.9943177700042725, 0.46513599157333374, 0.31644439697265625], \"xaxis\": \"x2\", \"y\": [84.0, 84.0, 84.0, 84.0, 84.0, 84.0, 84.0, 84.0, 84.0, 84.0], \"yaxis\": \"y2\"}, {\"marker\": {\"color\": \"red\", \"size\": 10}, \"mode\": \"markers\", \"showlegend\": false, \"type\": \"scatter\", \"x\": [-0.08251233398914337], \"xaxis\": \"x2\", \"y\": [84.0, 84.0, 84.0, 84.0, 84.0, 84.0, 84.0, 84.0, 84.0, 84.0], \"yaxis\": \"y2\"}, {\"marker\": {\"color\": \"SkyBlue\", \"size\": 10}, \"mode\": \"markers\", \"showlegend\": false, \"type\": \"scatter\", \"x\": [-0.02329130470752716, 0.9828692674636841, 0.7308703660964966, 0.03732672333717346, 0.9334055185317993, 0.4445199966430664, 0.7368258833885193, 0.9757657647132874, -0.5614616274833679, 0.024344898760318756, 0.039299845695495605, -0.3934488892555237, 0.9981099963188171, 0.6937320232391357, -0.23485122621059418, 0.6795272827148438, 0.06233024224638939, -0.21170467138290405, 0.6881240010261536, -0.4855077862739563, 0.7126105427742004, 0.8392187356948853, -0.11109554022550583, 0.7469366192817688, 0.7890902757644653, -0.24852852523326874, 0.9682514667510986, 0.9967714548110962, -0.3619186580181122, 0.9644119739532471, 0.722084641456604, 0.15981847047805786, 0.971305787563324, 0.11018766462802887, 0.9882916808128357, 0.1115768700838089, -0.043850719928741455, 0.2843485176563263, -0.25209400057792664, 0.3352510333061218, 0.6891586184501648, 0.5113093256950378, 0.8915349245071411, 0.10164185613393784, 0.09506221115589142, 0.9528111815452576, 0.9842759370803833, 0.31842201948165894, 0.23037686944007874, 0.03175583481788635], \"xaxis\": \"x2\", \"y\": [87.0, 87.0, 87.0, 87.0, 87.0, 87.0, 87.0, 87.0, 87.0, 87.0], \"yaxis\": \"y2\"}, {\"marker\": {\"color\": \"red\", \"size\": 10}, \"mode\": \"markers\", \"showlegend\": false, \"type\": \"scatter\", \"x\": [0.3921160399913788], \"xaxis\": \"x2\", \"y\": [87.0, 87.0, 87.0, 87.0, 87.0, 87.0, 87.0, 87.0, 87.0, 87.0], \"yaxis\": \"y2\"}, {\"marker\": {\"color\": \"SkyBlue\", \"size\": 10}, \"mode\": \"markers\", \"showlegend\": false, \"type\": \"scatter\", \"x\": [-0.875248372554779, -0.941694974899292, -0.9938223958015442, -0.877571702003479, 0.6034323573112488, -0.9622717499732971, -0.9647464752197266, 0.5930188894271851, -0.9512749910354614, -0.16382360458374023, -0.9248858690261841, 0.4905088543891907, 0.552624523639679, 0.2953728437423706, -0.985641598701477, 0.07914912700653076, -0.9260146617889404, 0.38191667199134827, 0.44535326957702637, 0.5026676058769226, 0.9028803110122681, -0.6888435482978821, 0.3727004826068878, 0.06877923011779785, 0.8964636921882629, -0.969215452671051, -0.9819323420524597, 0.7464467883110046, -0.9749128222465515, 0.34864184260368347, -0.9125762581825256, -0.9906590580940247, 0.21983955800533295, 0.47345587611198425, 0.3962176740169525, 0.24193249642848969, -0.9015786647796631, -0.9454026222229004, 0.48828187584877014, -0.9632463455200195, 0.4079369306564331, 0.37097662687301636, -0.9866929650306702, -0.11491739749908447, -0.9927941560745239, 0.17125056684017181, -0.9820057153701782, 0.3641199767589569, -0.9851915836334229, -0.9383469223976135], \"xaxis\": \"x2\", \"y\": [90.0, 90.0, 90.0, 90.0, 90.0, 90.0, 90.0, 90.0, 90.0, 90.0], \"yaxis\": \"y2\"}, {\"marker\": {\"color\": \"red\", \"size\": 10}, \"mode\": \"markers\", \"showlegend\": false, \"type\": \"scatter\", \"x\": [-0.24962688982486725], \"xaxis\": \"x2\", \"y\": [90.0, 90.0, 90.0, 90.0, 90.0, 90.0, 90.0, 90.0, 90.0, 90.0], \"yaxis\": \"y2\"}, {\"marker\": {\"color\": \"SkyBlue\", \"size\": 10}, \"mode\": \"markers\", \"showlegend\": false, \"type\": \"scatter\", \"x\": [-0.4915738105773926, 0.2990260720252991, 0.4462873041629791, 0.6639816164970398, 0.5102541446685791, 0.9415537714958191, -0.302679181098938, 0.5741150379180908, 0.39180058240890503, 0.5902324914932251, -0.9566328525543213, 0.7911836504936218, -0.6338919997215271, 0.45428186655044556, -0.9403842091560364, 0.7090814709663391, 0.5860530138015747, 0.337531715631485, 0.3443352282047272, 0.5195591449737549, 0.5227864980697632, 0.19660578668117523, 0.9874249696731567, 0.5222806334495544, 0.2230091094970703, -0.5863571166992188, 0.5942975282669067, -0.8338194489479065, 0.5989507436752319, -0.8206582069396973, 0.42919057607650757, -0.6362718939781189, 0.24909855425357819, 0.040603578090667725, 0.35870927572250366, 0.8909419775009155, 0.24451342225074768, -0.10467368364334106, -0.7271462082862854, 0.4293897747993469, -0.16981524229049683, -0.5691032409667969, -0.5341958403587341, -0.7297216653823853, -0.6216633319854736, 0.3484109342098236, 0.5491712689399719, 0.3916396498680115, -0.8479411602020264, 0.2892798185348511], \"xaxis\": \"x2\", \"y\": [93.0, 93.0, 93.0, 93.0, 93.0, 93.0, 93.0, 93.0, 93.0, 93.0], \"yaxis\": \"y2\"}, {\"marker\": {\"color\": \"red\", \"size\": 10}, \"mode\": \"markers\", \"showlegend\": false, \"type\": \"scatter\", \"x\": [0.11038102954626083], \"xaxis\": \"x2\", \"y\": [93.0, 93.0, 93.0, 93.0, 93.0, 93.0, 93.0, 93.0, 93.0, 93.0], \"yaxis\": \"y2\"}],                        {\"font\": {\"family\": \"Courier New, monospace\", \"size\": 14}, \"template\": {\"data\": {\"bar\": [{\"error_x\": {\"color\": \"#2a3f5f\"}, \"error_y\": {\"color\": \"#2a3f5f\"}, \"marker\": {\"line\": {\"color\": \"#E5ECF6\", \"width\": 0.5}}, \"type\": \"bar\"}], \"barpolar\": [{\"marker\": {\"line\": {\"color\": \"#E5ECF6\", \"width\": 0.5}}, \"type\": \"barpolar\"}], \"carpet\": [{\"aaxis\": {\"endlinecolor\": \"#2a3f5f\", \"gridcolor\": \"white\", \"linecolor\": \"white\", \"minorgridcolor\": \"white\", \"startlinecolor\": \"#2a3f5f\"}, \"baxis\": {\"endlinecolor\": \"#2a3f5f\", \"gridcolor\": \"white\", \"linecolor\": \"white\", \"minorgridcolor\": \"white\", \"startlinecolor\": \"#2a3f5f\"}, \"type\": \"carpet\"}], \"choropleth\": [{\"colorbar\": {\"outlinewidth\": 0, \"ticks\": \"\"}, \"type\": \"choropleth\"}], \"contour\": [{\"colorbar\": {\"outlinewidth\": 0, \"ticks\": \"\"}, \"colorscale\": [[0.0, \"#0d0887\"], [0.1111111111111111, \"#46039f\"], [0.2222222222222222, \"#7201a8\"], [0.3333333333333333, \"#9c179e\"], [0.4444444444444444, \"#bd3786\"], [0.5555555555555556, \"#d8576b\"], [0.6666666666666666, \"#ed7953\"], [0.7777777777777778, \"#fb9f3a\"], [0.8888888888888888, \"#fdca26\"], [1.0, \"#f0f921\"]], \"type\": \"contour\"}], \"contourcarpet\": [{\"colorbar\": {\"outlinewidth\": 0, \"ticks\": \"\"}, \"type\": \"contourcarpet\"}], \"heatmap\": [{\"colorbar\": {\"outlinewidth\": 0, \"ticks\": \"\"}, \"colorscale\": [[0.0, \"#0d0887\"], [0.1111111111111111, \"#46039f\"], [0.2222222222222222, \"#7201a8\"], [0.3333333333333333, \"#9c179e\"], [0.4444444444444444, \"#bd3786\"], [0.5555555555555556, \"#d8576b\"], [0.6666666666666666, \"#ed7953\"], [0.7777777777777778, \"#fb9f3a\"], [0.8888888888888888, \"#fdca26\"], [1.0, \"#f0f921\"]], \"type\": \"heatmap\"}], \"heatmapgl\": [{\"colorbar\": {\"outlinewidth\": 0, \"ticks\": \"\"}, \"colorscale\": [[0.0, \"#0d0887\"], [0.1111111111111111, \"#46039f\"], [0.2222222222222222, \"#7201a8\"], [0.3333333333333333, \"#9c179e\"], [0.4444444444444444, \"#bd3786\"], [0.5555555555555556, \"#d8576b\"], [0.6666666666666666, \"#ed7953\"], [0.7777777777777778, \"#fb9f3a\"], [0.8888888888888888, \"#fdca26\"], [1.0, \"#f0f921\"]], \"type\": \"heatmapgl\"}], \"histogram\": [{\"marker\": {\"colorbar\": {\"outlinewidth\": 0, \"ticks\": \"\"}}, \"type\": \"histogram\"}], \"histogram2d\": [{\"colorbar\": {\"outlinewidth\": 0, \"ticks\": \"\"}, \"colorscale\": [[0.0, \"#0d0887\"], [0.1111111111111111, \"#46039f\"], [0.2222222222222222, \"#7201a8\"], [0.3333333333333333, \"#9c179e\"], [0.4444444444444444, \"#bd3786\"], [0.5555555555555556, \"#d8576b\"], [0.6666666666666666, \"#ed7953\"], [0.7777777777777778, \"#fb9f3a\"], [0.8888888888888888, \"#fdca26\"], [1.0, \"#f0f921\"]], \"type\": \"histogram2d\"}], \"histogram2dcontour\": [{\"colorbar\": {\"outlinewidth\": 0, \"ticks\": \"\"}, \"colorscale\": [[0.0, \"#0d0887\"], [0.1111111111111111, \"#46039f\"], [0.2222222222222222, \"#7201a8\"], [0.3333333333333333, \"#9c179e\"], [0.4444444444444444, \"#bd3786\"], [0.5555555555555556, \"#d8576b\"], [0.6666666666666666, \"#ed7953\"], [0.7777777777777778, \"#fb9f3a\"], [0.8888888888888888, \"#fdca26\"], [1.0, \"#f0f921\"]], \"type\": \"histogram2dcontour\"}], \"mesh3d\": [{\"colorbar\": {\"outlinewidth\": 0, \"ticks\": \"\"}, \"type\": \"mesh3d\"}], \"parcoords\": [{\"line\": {\"colorbar\": {\"outlinewidth\": 0, \"ticks\": \"\"}}, \"type\": \"parcoords\"}], \"pie\": [{\"automargin\": true, \"type\": \"pie\"}], \"scatter\": [{\"marker\": {\"colorbar\": {\"outlinewidth\": 0, \"ticks\": \"\"}}, \"type\": \"scatter\"}], \"scatter3d\": [{\"line\": {\"colorbar\": {\"outlinewidth\": 0, \"ticks\": \"\"}}, \"marker\": {\"colorbar\": {\"outlinewidth\": 0, \"ticks\": \"\"}}, \"type\": \"scatter3d\"}], \"scattercarpet\": [{\"marker\": {\"colorbar\": {\"outlinewidth\": 0, \"ticks\": \"\"}}, \"type\": \"scattercarpet\"}], \"scattergeo\": [{\"marker\": {\"colorbar\": {\"outlinewidth\": 0, \"ticks\": \"\"}}, \"type\": \"scattergeo\"}], \"scattergl\": [{\"marker\": {\"colorbar\": {\"outlinewidth\": 0, \"ticks\": \"\"}}, \"type\": \"scattergl\"}], \"scattermapbox\": [{\"marker\": {\"colorbar\": {\"outlinewidth\": 0, \"ticks\": \"\"}}, \"type\": \"scattermapbox\"}], \"scatterpolar\": [{\"marker\": {\"colorbar\": {\"outlinewidth\": 0, \"ticks\": \"\"}}, \"type\": \"scatterpolar\"}], \"scatterpolargl\": [{\"marker\": {\"colorbar\": {\"outlinewidth\": 0, \"ticks\": \"\"}}, \"type\": \"scatterpolargl\"}], \"scatterternary\": [{\"marker\": {\"colorbar\": {\"outlinewidth\": 0, \"ticks\": \"\"}}, \"type\": \"scatterternary\"}], \"surface\": [{\"colorbar\": {\"outlinewidth\": 0, \"ticks\": \"\"}, \"colorscale\": [[0.0, \"#0d0887\"], [0.1111111111111111, \"#46039f\"], [0.2222222222222222, \"#7201a8\"], [0.3333333333333333, \"#9c179e\"], [0.4444444444444444, \"#bd3786\"], [0.5555555555555556, \"#d8576b\"], [0.6666666666666666, \"#ed7953\"], [0.7777777777777778, \"#fb9f3a\"], [0.8888888888888888, \"#fdca26\"], [1.0, \"#f0f921\"]], \"type\": \"surface\"}], \"table\": [{\"cells\": {\"fill\": {\"color\": \"#EBF0F8\"}, \"line\": {\"color\": \"white\"}}, \"header\": {\"fill\": {\"color\": \"#C8D4E3\"}, \"line\": {\"color\": \"white\"}}, \"type\": \"table\"}]}, \"layout\": {\"annotationdefaults\": {\"arrowcolor\": \"#2a3f5f\", \"arrowhead\": 0, \"arrowwidth\": 1}, \"autotypenumbers\": \"strict\", \"coloraxis\": {\"colorbar\": {\"outlinewidth\": 0, \"ticks\": \"\"}}, \"colorscale\": {\"diverging\": [[0, \"#8e0152\"], [0.1, \"#c51b7d\"], [0.2, \"#de77ae\"], [0.3, \"#f1b6da\"], [0.4, \"#fde0ef\"], [0.5, \"#f7f7f7\"], [0.6, \"#e6f5d0\"], [0.7, \"#b8e186\"], [0.8, \"#7fbc41\"], [0.9, \"#4d9221\"], [1, \"#276419\"]], \"sequential\": [[0.0, \"#0d0887\"], [0.1111111111111111, \"#46039f\"], [0.2222222222222222, \"#7201a8\"], [0.3333333333333333, \"#9c179e\"], [0.4444444444444444, \"#bd3786\"], [0.5555555555555556, \"#d8576b\"], [0.6666666666666666, \"#ed7953\"], [0.7777777777777778, \"#fb9f3a\"], [0.8888888888888888, \"#fdca26\"], [1.0, \"#f0f921\"]], \"sequentialminus\": [[0.0, \"#0d0887\"], [0.1111111111111111, \"#46039f\"], [0.2222222222222222, \"#7201a8\"], [0.3333333333333333, \"#9c179e\"], [0.4444444444444444, \"#bd3786\"], [0.5555555555555556, \"#d8576b\"], [0.6666666666666666, \"#ed7953\"], [0.7777777777777778, \"#fb9f3a\"], [0.8888888888888888, \"#fdca26\"], [1.0, \"#f0f921\"]]}, \"colorway\": [\"#636efa\", \"#EF553B\", \"#00cc96\", \"#ab63fa\", \"#FFA15A\", \"#19d3f3\", \"#FF6692\", \"#B6E880\", \"#FF97FF\", \"#FECB52\"], \"font\": {\"color\": \"#2a3f5f\"}, \"geo\": {\"bgcolor\": \"white\", \"lakecolor\": \"white\", \"landcolor\": \"#E5ECF6\", \"showlakes\": true, \"showland\": true, \"subunitcolor\": \"white\"}, \"hoverlabel\": {\"align\": \"left\"}, \"hovermode\": \"closest\", \"mapbox\": {\"style\": \"light\"}, \"paper_bgcolor\": \"white\", \"plot_bgcolor\": \"#E5ECF6\", \"polar\": {\"angularaxis\": {\"gridcolor\": \"white\", \"linecolor\": \"white\", \"ticks\": \"\"}, \"bgcolor\": \"#E5ECF6\", \"radialaxis\": {\"gridcolor\": \"white\", \"linecolor\": \"white\", \"ticks\": \"\"}}, \"scene\": {\"xaxis\": {\"backgroundcolor\": \"#E5ECF6\", \"gridcolor\": \"white\", \"gridwidth\": 2, \"linecolor\": \"white\", \"showbackground\": true, \"ticks\": \"\", \"zerolinecolor\": \"white\"}, \"yaxis\": {\"backgroundcolor\": \"#E5ECF6\", \"gridcolor\": \"white\", \"gridwidth\": 2, \"linecolor\": \"white\", \"showbackground\": true, \"ticks\": \"\", \"zerolinecolor\": \"white\"}, \"zaxis\": {\"backgroundcolor\": \"#E5ECF6\", \"gridcolor\": \"white\", \"gridwidth\": 2, \"linecolor\": \"white\", \"showbackground\": true, \"ticks\": \"\", \"zerolinecolor\": \"white\"}}, \"shapedefaults\": {\"line\": {\"color\": \"#2a3f5f\"}}, \"ternary\": {\"aaxis\": {\"gridcolor\": \"white\", \"linecolor\": \"white\", \"ticks\": \"\"}, \"baxis\": {\"gridcolor\": \"white\", \"linecolor\": \"white\", \"ticks\": \"\"}, \"bgcolor\": \"#E5ECF6\", \"caxis\": {\"gridcolor\": \"white\", \"linecolor\": \"white\", \"ticks\": \"\"}}, \"title\": {\"x\": 0.05}, \"xaxis\": {\"automargin\": true, \"gridcolor\": \"white\", \"linecolor\": \"white\", \"ticks\": \"\", \"title\": {\"standoff\": 15}, \"zerolinecolor\": \"white\", \"zerolinewidth\": 2}, \"yaxis\": {\"automargin\": true, \"gridcolor\": \"white\", \"linecolor\": \"white\", \"ticks\": \"\", \"title\": {\"standoff\": 15}, \"zerolinecolor\": \"white\", \"zerolinewidth\": 2}}}, \"title\": {\"text\": \"Opinion distribution\"}, \"xaxis\": {\"anchor\": \"y\", \"domain\": [0.0, 0.45], \"title\": {\"text\": \"$x$\"}}, \"xaxis2\": {\"anchor\": \"y2\", \"domain\": [0.55, 1.0], \"title\": {\"text\": \"$x$\"}}, \"yaxis\": {\"anchor\": \"x\", \"domain\": [0.0, 1.0], \"showticklabels\": false, \"title\": {\"text\": \"Num\"}, \"visible\": false}, \"yaxis2\": {\"anchor\": \"x2\", \"domain\": [0.0, 1.0], \"showticklabels\": false, \"visible\": false}},                        {\"responsive\": true}                    ).then(function(){\n",
       "                            \n",
       "var gd = document.getElementById('30b242cd-a9c6-49c1-92ba-0a3363c9d1e7');\n",
       "var x = new MutationObserver(function (mutations, observer) {{\n",
       "        var display = window.getComputedStyle(gd).display;\n",
       "        if (!display || display === 'none') {{\n",
       "            console.log([gd, 'removed!']);\n",
       "            Plotly.purge(gd);\n",
       "            observer.disconnect();\n",
       "        }}\n",
       "}});\n",
       "\n",
       "// Listen for the removal of the full notebook cells\n",
       "var notebookContainer = gd.closest('#notebook-container');\n",
       "if (notebookContainer) {{\n",
       "    x.observe(notebookContainer, {childList: true});\n",
       "}}\n",
       "\n",
       "// Listen for the clearing of the current output cell\n",
       "var outputEl = gd.closest('.output');\n",
       "if (outputEl) {{\n",
       "    x.observe(outputEl, {childList: true});\n",
       "}}\n",
       "\n",
       "                        })                };                });            </script>        </div>"
      ]
     },
     "metadata": {},
     "output_type": "display_data"
    }
   ],
   "source": [
    "fig = make_subplots(rows=1, cols=2)\n",
    "samples = torch.cat(sampling([torch.zeros(size=(batch_size, 1)).uniform_() for _ in range(10)], 10, std=4), dim=-1).numpy()\n",
    "for i in range(samples.shape[0]):\n",
    "    fig.add_trace(go.Scatter(x=samples[i].flatten(), y=np.ones(var_dim)*i*3,\n",
    "                         mode='markers', marker=dict(color='SkyBlue', size=10), showlegend=False), row=1, col=1)\n",
    "    fig.add_trace(go.Scatter(x=[np.mean(samples[i].flatten())], y=np.ones(var_dim)*i*3,\n",
    "                         mode='markers', marker=dict(color='red', size=10), showlegend=False), row=1, col=1)\n",
    "    \n",
    "samples = torch.cat(sampling([torch.zeros(size=(batch_size, 1)).uniform_() for _ in range(50)], 50, std=1.6), dim=-1).numpy()\n",
    "for i in range(samples.shape[0]):\n",
    "    fig.add_trace(go.Scatter(x=samples[i].flatten(), y=np.ones(var_dim)*i*3,\n",
    "                         mode='markers', marker=dict(color='SkyBlue', size=10), showlegend=False), row=1, col=2)\n",
    "    fig.add_trace(go.Scatter(x=[np.mean(samples[i].flatten())], y=np.ones(var_dim)*i*3,\n",
    "                         mode='markers', marker=dict(color='red', size=10), showlegend=False), row=1, col=2)\n",
    "fig.update_layout(\n",
    "    title=\"Opinion distribution\",\n",
    "    xaxis_title=\"$x$\",\n",
    "    xaxis2_title=\"$x$\",\n",
    "    yaxis_title=\"Num\",\n",
    "    font=dict(\n",
    "        family=\"Courier New, monospace\",\n",
    "        size=14\n",
    "    )\n",
    ")\n",
    "fig.update_layout(yaxis={'visible': False, 'showticklabels': False}, yaxis2={'visible': False, 'showticklabels': False})\n",
    "fig.show()"
   ]
  },
  {
   "cell_type": "code",
   "execution_count": 5,
   "id": "jewish-wrist",
   "metadata": {},
   "outputs": [
    {
     "data": {
      "application/vnd.plotly.v1+json": {
       "config": {
        "plotlyServerURL": "https://plot.ly"
       },
       "data": [
        {
         "histnorm": "probability",
         "type": "histogram",
         "x": [
          -0.17163464426994324,
          -0.09046417474746704,
          0.0873265266418457,
          0.12370884418487549,
          0.1783408522605896,
          0.7330313324928284,
          0.03526913374662399,
          -0.5364410281181335,
          0.15823332965373993,
          0.2085551619529724,
          -0.5366966128349304,
          0.2075015902519226,
          -0.6970137357711792,
          -0.6959842443466187,
          -0.14032438397407532,
          0.08407734334468842,
          -0.11516949534416199,
          -0.4518701434135437,
          0.08048529922962189,
          -0.21677391231060028,
          -0.11121004819869995,
          0.17735394835472107,
          0.2375633418560028,
          0.043353840708732605,
          -0.27166953682899475,
          0.4665476977825165,
          0.10839458554983139,
          -0.7146584391593933,
          0.14616939425468445,
          -0.46028605103492737,
          0.052593670785427094,
          -0.01843443512916565,
          -0.4684069752693176,
          -0.46069276332855225,
          -0.013152748346328735,
          -0.05528824031352997,
          0.02047431468963623,
          0.289694607257843,
          -0.3029371500015259,
          -0.08250251412391663,
          -0.027866989374160767,
          -0.9281009435653687,
          -0.3615848124027252,
          0.6671578884124756,
          -0.36798790097236633,
          0.3405880928039551,
          -0.40790116786956787,
          0.300799697637558,
          -0.09107284247875214,
          -0.4873918890953064,
          -0.6516982316970825,
          0.05919712781906128,
          0.2183445692062378,
          0.17621532082557678,
          -0.27803152799606323,
          0.35501211881637573,
          0.1668562889099121,
          -0.2452688217163086,
          0.07702299952507019,
          0.13522250950336456,
          -0.29390475153923035,
          -0.21959644556045532,
          0.745882511138916,
          -0.21258904039859772,
          0.5707061886787415,
          -0.6753607988357544,
          0.6201087832450867,
          -0.3402499258518219,
          0.4843025207519531,
          -0.09481474757194519,
          -0.207078754901886,
          -0.4224749803543091,
          -0.28332898020744324,
          0.027147673070430756,
          0.8080782890319824,
          -0.39012616872787476,
          -0.30519935488700867,
          0.14978116750717163,
          -0.966060221195221,
          -0.18272331357002258,
          0.07721453905105591,
          0.2538500726222992,
          -0.20865684747695923,
          -0.9309946298599243,
          0.21302667260169983,
          0.5631916522979736,
          -0.27207231521606445,
          -0.6853166818618774,
          -0.15439637005329132,
          0.06511327624320984,
          -0.6507484316825867,
          0.0649554580450058,
          -0.28939083218574524,
          -0.3008904755115509,
          -0.537422239780426,
          -0.012874074280261993,
          -0.5176259875297546,
          0.29149314761161804,
          0.1338815540075302,
          -0.5413534641265869,
          0.2412617802619934,
          -0.11455141007900238,
          0.20658022165298462,
          -0.3078196942806244,
          0.0016616582870483398,
          0.2630561888217926,
          -0.8065844774246216,
          -0.19280323386192322,
          -0.7278162240982056,
          0.5182188749313354,
          -0.323396235704422,
          -0.15048931539058685,
          0.08150935173034668,
          -0.9796457886695862,
          -0.3651735782623291,
          -0.4714498221874237,
          0.034116655588150024,
          -0.3587541878223419,
          -0.13253697752952576,
          -0.41934922337532043,
          -0.26589328050613403,
          -0.9053897857666016,
          0.5262258648872375,
          -0.25141841173171997,
          -0.960182249546051,
          -0.3654518723487854,
          0.8304372429847717,
          0.62836754322052,
          -0.4033443033695221,
          -0.7351915836334229,
          -0.4177819490432739,
          -0.5246362686157227,
          0.13325853645801544,
          -0.054767459630966187,
          -0.5747877359390259,
          -0.045984357595443726,
          -0.2685428261756897,
          0.1967601180076599,
          -0.47775259613990784,
          -0.3203871548175812,
          -0.47798213362693787,
          -0.46351736783981323,
          -0.3425954580307007,
          -0.20101132988929749,
          -0.01237519085407257,
          -0.5871419310569763,
          -0.41478028893470764,
          -0.3256605267524719,
          0.24077358841896057,
          -0.14378122985363007,
          -0.07980795204639435,
          0.32448261976242065,
          0.007683053612709045,
          0.3431435227394104,
          0.3882662057876587,
          -0.3515017628669739,
          -0.07572531700134277,
          -0.3907474875450134,
          0.26486116647720337,
          -0.009517356753349304,
          0.1665511578321457,
          -0.2591656744480133,
          0.050689682364463806,
          0.30423519015312195,
          0.12369942665100098,
          -0.359303742647171,
          0.1925707310438156,
          -0.06519699096679688,
          -0.6598977446556091,
          -0.7724823951721191,
          0.6876368522644043,
          -0.31773266196250916,
          0.7731369137763977,
          0.45983484387397766,
          -0.6821075081825256,
          0.17213521897792816,
          0.12485768646001816,
          0.045162051916122437,
          -0.8711243867874146,
          -0.7284919619560242,
          -0.39273500442504883,
          -0.021380886435508728,
          0.05051630735397339,
          -0.040315400809049606,
          0.7651635408401489,
          -0.9941928386688232,
          0.16133815050125122,
          -0.14812900125980377,
          -0.3289494812488556,
          -0.4342464506626129,
          -0.03168763220310211,
          0.38819360733032227,
          -0.17377227544784546,
          0.03803202509880066,
          -0.3251788020133972,
          -0.3188365399837494,
          -0.12683522701263428,
          -0.1035519540309906,
          -0.26138386130332947,
          -0.3781639039516449,
          -0.19136331975460052,
          0.350850373506546,
          -0.14773884415626526,
          -0.29479125142097473,
          0.5105546712875366,
          -0.38002267479896545,
          0.5709787011146545,
          -0.11833679676055908,
          -0.281232088804245,
          0.21560066938400269,
          0.010450541973114014,
          -0.3075748085975647,
          -0.02031441032886505,
          -0.31795740127563477,
          -0.5308603048324585,
          -0.7136307954788208,
          0.1437584012746811,
          -0.10141652822494507,
          0.14707452058792114,
          0.2136535793542862,
          0.4339439272880554,
          -0.11422784626483917,
          0.6355876922607422,
          -0.5956078767776489,
          0.08110639452934265,
          -0.21188242733478546,
          -0.3363443613052368,
          0.4938161075115204,
          -0.46598467230796814,
          -0.29847827553749084,
          -0.3479694128036499,
          0.12381261587142944,
          -0.1592768430709839,
          0.20330810546875,
          -0.22286708652973175,
          0.08361859619617462,
          -0.7466989159584045,
          -0.002545461058616638,
          -0.5634372234344482,
          0.07889890670776367,
          0.8846665024757385,
          -0.3335188329219818,
          -0.29262053966522217,
          0.49365684390068054,
          -0.584043562412262,
          -0.34439507126808167,
          -0.872183620929718,
          -0.18913155794143677,
          -0.43566644191741943,
          -0.6844265460968018,
          -0.15917213261127472,
          0.13295292854309082,
          -0.2083420753479004,
          0.47257348895072937,
          0.5424624085426331,
          -0.37217777967453003,
          0.8757538199424744,
          0.08407676219940186,
          -0.7470043897628784,
          0.1144426167011261,
          -0.2806917428970337,
          -0.611042857170105,
          -0.3999234139919281,
          -0.2731737792491913,
          0.20604068040847778,
          0.12082193046808243,
          0.21580547094345093,
          0.1797574907541275,
          -0.8719633221626282,
          -0.37025192379951477,
          0.2144973874092102,
          -0.14100246131420135,
          0.2043493688106537,
          0.47987794876098633,
          -0.05754491686820984,
          0.12948143482208252,
          -0.4873815178871155,
          -0.9232631921768188,
          -0.5712935328483582,
          -0.13972938060760498,
          -0.539535641670227,
          -0.11127328872680664,
          0.6145673990249634,
          0.036088503897190094,
          0.7359310984611511,
          -0.35914483666419983,
          -0.3779270648956299,
          0.13362713158130646,
          -0.7838495969772339,
          0.12242758274078369,
          0.8211660981178284,
          -0.37230661511421204,
          -0.08893981575965881,
          -0.6740767955780029,
          0.5672012567520142,
          -0.030872225761413574,
          -0.9060927629470825,
          -0.46441948413848877,
          -0.3527652323246002,
          -0.6771001815795898,
          -0.07109927386045456,
          -0.25051259994506836,
          -0.7358502745628357,
          -0.09817107021808624,
          -0.0856468677520752,
          0.6732360124588013,
          0.6006929278373718,
          -0.7164393663406372,
          -0.10141651332378387,
          0.3342946171760559,
          -0.19263267517089844,
          -0.3881339430809021,
          0.10068227350711823,
          -0.2858444154262543,
          -0.11201746016740799,
          0.47211408615112305,
          -0.116403728723526,
          -0.6432592868804932,
          0.07639005780220032,
          -0.5002087950706482,
          0.13681188225746155,
          -0.2902016341686249,
          -0.7053263783454895,
          -0.3013887107372284,
          0.6536564230918884,
          0.20247089862823486,
          -0.6309319734573364,
          0.31436416506767273,
          0.13892967998981476,
          -0.7175432443618774,
          -0.4202423691749573,
          -0.3275979161262512,
          0.12504097819328308,
          -0.19231054186820984,
          -0.3221396207809448,
          -0.8948433995246887,
          -0.049047261476516724,
          0.02461056411266327,
          0.04193431884050369,
          -0.7979751825332642,
          0.27539804577827454,
          -0.3748972713947296,
          -0.182328462600708,
          0.19393610954284668,
          -0.2233402132987976,
          -0.02417100965976715,
          -0.3580726385116577,
          0.4473824203014374,
          0.6709425449371338,
          -0.14277133345603943,
          -0.24851998686790466,
          -0.5671940445899963,
          0.21469882130622864,
          -0.14979763329029083,
          0.04560647904872894,
          -0.5534957647323608,
          -0.784866988658905,
          -0.6182478666305542,
          0.1463211327791214,
          -0.6382070183753967,
          -0.14986133575439453,
          -0.26703059673309326,
          -0.46625757217407227,
          -0.16921792924404144,
          -0.5839829444885254,
          0.18903759121894836,
          -0.08109849691390991,
          0.09681934118270874,
          -0.26474636793136597,
          -0.06998416781425476,
          -0.41814592480659485,
          -0.549619734287262,
          -0.20110353827476501,
          -0.33378323912620544,
          0.39324796199798584,
          -0.94218510389328,
          -0.7304636240005493,
          -0.41037631034851074,
          -0.45768097043037415,
          0.15296214818954468,
          0.38647863268852234,
          0.5448800921440125,
          -0.29976943135261536,
          -0.1997385323047638,
          -0.3768404424190521,
          -0.5121124386787415,
          -0.2903752624988556,
          0.5120776891708374,
          0.19503524899482727,
          -0.16708868741989136,
          0.2922111749649048,
          -0.4208697974681854,
          -0.3211806118488312,
          0.42465075850486755,
          0.500543475151062,
          0.11913125962018967,
          0.08909285068511963,
          0.2654936909675598,
          -0.5559341311454773,
          0.46709609031677246,
          0.1394878625869751,
          -0.25180596113204956,
          -0.9464964270591736,
          0.7957562208175659,
          0.07364661246538162,
          -0.6473569869995117,
          -0.38114410638809204,
          0.14975881576538086,
          0.26513347029685974,
          0.05041998624801636,
          0.3570152223110199,
          0.14843639731407166,
          0.16871151328086853,
          -0.6995478868484497,
          0.1921314299106598,
          -0.1155821681022644,
          -0.06744883954524994,
          -0.04468965530395508,
          -0.2676923871040344,
          -0.3245013952255249,
          0.09358621388673782,
          0.20268994569778442,
          0.08143141865730286,
          0.1425863653421402,
          -0.46608543395996094,
          0.004473596811294556,
          0.6751033067703247,
          0.09336745738983154,
          0.04962395876646042,
          -0.2254505306482315,
          -0.820975661277771,
          0.175978422164917,
          0.691926121711731,
          -0.6998652219772339,
          -0.13074055314064026,
          -0.09402292966842651,
          0.013118848204612732,
          0.002145320177078247,
          0.062217891216278076,
          -0.05959869921207428,
          0.27689290046691895,
          -0.35166794061660767,
          0.5900225639343262,
          -0.008723229169845581,
          -0.05548597872257233,
          0.10302455723285675,
          0.22397580742835999,
          0.7112456560134888,
          -0.3993511199951172,
          0.03687974065542221,
          0.36887234449386597,
          -0.9771763682365417,
          -0.06057276949286461,
          -0.39897385239601135,
          -0.6388740539550781,
          -0.2128279209136963,
          0.13257426023483276,
          -0.28406432271003723,
          -0.7150804996490479,
          0.5665039420127869,
          0.3336625099182129,
          0.12278569489717484,
          -0.2928352653980255,
          -0.3140029311180115,
          -0.3609372079372406,
          -0.023108363151550293,
          0.353646844625473,
          -0.681123673915863,
          -0.2301320731639862,
          0.12300136685371399,
          0.030123800039291382,
          0.3860895037651062,
          0.10686898231506348,
          -0.986099898815155,
          -0.08027032017707825,
          0.012026652693748474,
          0.11897499859333038,
          0.8233367800712585,
          -0.24981606006622314,
          -0.5437290072441101,
          -0.8509255647659302,
          -0.27244019508361816,
          -0.46992456912994385,
          -0.41827642917633057,
          -0.3154332637786865,
          -0.15322665870189667,
          -0.1257491260766983,
          -0.5183344483375549,
          0.08239239454269409,
          -0.4137277901172638,
          -0.7138299345970154,
          -0.5508069396018982,
          -0.24866440892219543,
          0.46866676211357117,
          0.7216868996620178,
          0.272063672542572,
          -0.6688911318778992,
          -0.2632656991481781,
          -0.9536870718002319,
          0.12239602953195572,
          -0.0806247740983963,
          0.13538938760757446,
          -0.12141256034374237,
          0.22077912092208862,
          -0.0052254050970077515,
          -0.5006494522094727,
          -0.1959208846092224,
          -0.20701864361763,
          0.8523454666137695,
          0.030336499214172363,
          0.23562699556350708,
          -0.8419829607009888,
          -0.3036048114299774,
          0.1140526831150055,
          0.0027388334274291992,
          0.20059603452682495,
          0.5862374305725098,
          0.5119606256484985,
          -0.32854875922203064,
          -0.16498339176177979,
          -0.30432406067848206,
          -0.44460827112197876,
          -0.5242666602134705,
          -0.6848363876342773,
          -0.38369011878967285,
          0.11180680990219116,
          -0.9228471517562866,
          -0.2527841329574585,
          0.30595728754997253,
          -0.07146075367927551,
          0.39124172925949097,
          0.05946943163871765,
          -0.24646998941898346,
          -0.9025375247001648,
          -0.7132378220558167,
          -0.02678513526916504,
          -0.5891726016998291,
          -0.3174474239349365,
          -0.13407398760318756,
          -0.42664483189582825,
          -0.2262541651725769,
          -0.003925010561943054,
          -0.08744663745164871,
          -0.22232675552368164,
          -0.5082041621208191,
          -0.30068522691726685,
          0.3700196146965027,
          0.35519036650657654,
          -0.3188190758228302,
          -0.5923162698745728,
          0.24847346544265747,
          -0.2961600422859192,
          0.39594030380249023,
          -0.5647311210632324,
          -0.8301540613174438,
          -0.06233592331409454,
          -0.9024041295051575,
          -0.3366328775882721,
          0.28218960762023926,
          -0.6242672801017761,
          0.2776610851287842,
          -0.30700016021728516,
          0.012248590588569641,
          -0.19227589666843414,
          -0.19959378242492676,
          -0.8516013622283936,
          0.4255307912826538,
          0.6132004261016846,
          0.08923201262950897,
          -0.3674790561199188,
          0.0901355966925621,
          -0.5171891450881958,
          -0.33670347929000854,
          0.0019125491380691528,
          0.04451186954975128,
          -0.979502260684967,
          -0.4595441520214081,
          -0.03754450008273125,
          0.08681926131248474,
          0.04118958115577698,
          -0.6457098722457886,
          0.18451353907585144,
          0.15563760697841644,
          -0.465304970741272,
          -0.26992785930633545,
          0.22221240401268005,
          -0.6413609981536865,
          0.10230870544910431,
          -0.7209328413009644,
          -0.04632630944252014,
          -0.3630470335483551,
          -0.3477933704853058,
          -0.2280946969985962,
          0.031624287366867065,
          0.12920548021793365,
          -0.10538028180599213,
          -0.428055077791214,
          -0.03679053485393524,
          0.20606984198093414,
          -0.2187749147415161,
          -0.21581900119781494,
          0.375755250453949,
          -0.0724821388721466,
          -0.3282470107078552,
          -0.21091386675834656,
          0.4551696181297302,
          0.07506077736616135,
          -0.06068062782287598,
          0.27351468801498413,
          -0.7046712636947632,
          -0.6172235012054443,
          -0.6135098934173584,
          -0.5810204744338989,
          -0.7897061705589294,
          -0.1378031075000763,
          -0.0995444804430008,
          -0.22466155886650085,
          -0.19810724258422852,
          -0.17689436674118042,
          -0.8107612133026123,
          0.2236594557762146,
          0.3904375731945038,
          -0.9107315540313721,
          -0.7992812991142273,
          0.1714009940624237,
          0.17388916015625,
          -0.06814070045948029,
          -0.4695630371570587,
          0.1232570931315422,
          -0.34755638241767883,
          -0.3440156877040863,
          -0.324705570936203,
          -0.019834935665130615,
          -0.9430302977561951,
          0.08876923471689224,
          0.09852707386016846,
          -0.6200881004333496,
          -0.3695724904537201,
          -0.05915585160255432,
          -0.5828083157539368,
          -0.2291276454925537,
          -0.0864483043551445,
          -0.4790087342262268,
          -0.34954583644866943,
          -0.2765921354293823,
          -0.17699506878852844,
          0.31741854548454285,
          0.20484572649002075,
          -0.2688245177268982,
          0.24604636430740356,
          -0.28272736072540283,
          -0.5077470541000366,
          0.538062572479248,
          -0.242312490940094,
          0.4194100797176361,
          -0.615533709526062,
          -0.3445926010608673,
          -0.29972970485687256,
          -0.2749188244342804,
          0.18435820937156677,
          -0.2037382274866104,
          -0.05928206443786621,
          -0.45237666368484497,
          -0.37677833437919617,
          -0.6130502223968506,
          -0.0012522637844085693,
          -0.2536614239215851,
          0.09737794101238251,
          0.08513855934143066,
          0.18278682231903076,
          -0.8427732586860657,
          -0.14719390869140625,
          0.18590059876441956,
          0.27059245109558105,
          0.21806246042251587,
          -0.014434963464736938,
          -0.11950273811817169,
          -0.46291083097457886,
          -0.5465807318687439,
          -0.08867034316062927,
          0.7726461887359619,
          0.33837562799453735,
          -0.6329621076583862,
          0.030158407986164093,
          0.38515031337738037,
          -0.09996616840362549,
          -0.3033410608768463,
          -0.24207623302936554,
          -0.30545884370803833,
          0.13806889951229095,
          0.12555687129497528,
          -0.4142671227455139,
          -0.7467732429504395,
          0.11728498339653015,
          -0.6055330634117126,
          0.17105382680892944,
          0.4021657109260559,
          0.46678611636161804,
          -0.17536166310310364,
          0.12254314869642258,
          -0.07395555078983307,
          -0.9180529117584229,
          0.8765297532081604,
          -0.5606204271316528,
          -0.28322073817253113,
          -0.7258080244064331,
          -0.7895278334617615,
          0.4274100661277771,
          -0.06761938333511353,
          0.1469287872314453,
          0.219340980052948,
          -0.28672704100608826,
          -0.7711601257324219,
          0.1878836750984192,
          -0.3541474938392639,
          0.10627299547195435,
          0.3055124282836914,
          -0.1318918764591217,
          -0.30437326431274414,
          0.2036140263080597,
          0.1149396225810051,
          0.23578819632530212,
          -0.49584463238716125,
          -0.1279458850622177,
          -0.09790636599063873,
          0.027641870081424713,
          -0.005722075700759888,
          -0.03343874216079712,
          0.33070850372314453,
          0.2592371702194214,
          -0.9230947494506836,
          0.06169390678405762,
          -0.45274314284324646,
          0.20585058629512787,
          -0.3393777012825012,
          -0.2813015580177307,
          0.34120649099349976,
          -0.3190633952617645,
          -0.3498176038265228,
          0.07466131448745728,
          0.19313445687294006,
          -0.099215567111969,
          -0.1522284746170044,
          -0.021960191428661346,
          -0.07945019006729126,
          -0.05924654006958008,
          0.5908971428871155,
          -0.4553803503513336,
          -0.5647764205932617,
          0.7856014966964722,
          -0.6817980408668518,
          0.2632264494895935,
          -0.6342332363128662,
          -0.8519806265830994,
          -0.37142497301101685,
          -0.9397883415222168,
          -0.33792170882225037,
          0.01168513298034668,
          0.36066728830337524,
          -0.13595882058143616,
          -0.9857804179191589,
          0.07631006091833115,
          -0.0038539469242095947,
          -0.6481033563613892,
          -0.5247943997383118,
          0.07480724155902863,
          -0.7998874187469482,
          -0.5392256379127502,
          -0.4822227358818054,
          -0.4632611572742462,
          0.36808502674102783,
          -0.24409162998199463,
          0.1378556340932846,
          -0.8279971480369568,
          -0.40577155351638794,
          0.105200856924057,
          0.10502638667821884,
          0.02283334732055664,
          0.12760978937149048,
          -0.1271500438451767,
          -0.4926775395870209,
          -0.20440673828125,
          -0.055706024169921875,
          0.4401743710041046,
          -0.35749611258506775,
          0.1904398649930954,
          -0.31952616572380066,
          0.024358101189136505,
          0.37129688262939453,
          -0.24893881380558014,
          0.26532912254333496,
          0.5515502691268921,
          0.05473822355270386,
          0.33026936650276184,
          -0.5311757326126099,
          0.10896598547697067,
          0.29208165407180786,
          0.4448646008968353,
          -0.9957202076911926,
          0.10784609615802765,
          -0.13622519373893738,
          0.0365106537938118,
          0.1714131385087967,
          -0.09693330526351929,
          0.4343614876270294,
          -0.44859281182289124,
          0.00203511118888855,
          -0.23346540331840515,
          0.5372974276542664,
          -0.0900375172495842,
          0.3916754424571991,
          -0.3151138424873352,
          -0.09277212619781494,
          -0.15835770964622498,
          -0.9407254457473755,
          -0.3456893861293793,
          -0.34865331649780273,
          -0.09289146959781647,
          -0.35159748792648315,
          -0.11040021479129791,
          -0.5638819932937622,
          0.11053802073001862,
          -0.31206226348876953,
          -0.10219916701316833,
          0.18452982604503632,
          0.25471341609954834,
          0.38051968812942505,
          0.32780978083610535,
          0.27065902948379517,
          -0.6063451170921326,
          0.13347163796424866,
          -0.0145510733127594,
          -0.12209030985832214,
          0.3577028214931488,
          0.9146813750267029,
          0.6974509358406067,
          -0.6024805307388306,
          0.01589619368314743,
          -0.20343664288520813,
          0.22883331775665283,
          -0.3123820424079895,
          -0.5355182886123657,
          0.18268634378910065,
          0.4841078817844391,
          0.9546058177947998,
          0.05281543731689453,
          -0.04200670123100281,
          -0.372219979763031,
          -0.17662020027637482,
          -0.2083725482225418,
          0.007717594504356384,
          0.2607070803642273,
          -0.17752273380756378,
          -0.23331469297409058,
          -0.09515875577926636,
          0.19209879636764526,
          -0.7922866344451904,
          -0.42884325981140137,
          -0.41964638233184814,
          -0.9179372787475586,
          -0.08765585720539093,
          -0.9461959004402161,
          -0.6931209564208984,
          -0.4349229335784912,
          0.18043480813503265,
          -0.8519920706748962,
          -0.36792251467704773,
          -0.3868953585624695,
          0.6433944702148438,
          0.23024782538414001,
          -0.23626989126205444,
          -0.6189993619918823,
          0.1818435788154602,
          0.2726152241230011,
          -0.08634623885154724,
          0.07937485724687576,
          -0.34305238723754883,
          0.16661220788955688,
          -0.3343847393989563,
          0.23463165760040283,
          -0.3240646719932556,
          -0.2810203433036804,
          -0.8100141286849976,
          -0.4539650082588196,
          -0.1980920433998108,
          0.2928674519062042,
          -0.7900793552398682,
          -0.23680874705314636,
          0.15241003036499023,
          -0.08562988042831421,
          0.36206239461898804,
          -0.11848530173301697,
          0.0773988664150238,
          -0.756410539150238,
          -0.026683513075113297,
          -0.38241785764694214,
          0.09795558452606201,
          -0.13969653844833374,
          0.2672644853591919,
          -0.40620267391204834,
          -0.3751600980758667,
          -0.03608071804046631,
          0.15366052091121674,
          0.6835814714431763,
          -0.09363004565238953,
          0.019509315490722656,
          -0.5783580541610718,
          -0.15397265553474426,
          -0.396237850189209,
          0.10491542518138885,
          -0.39437150955200195,
          0.11087113618850708,
          0.3955237567424774,
          -0.5505626201629639,
          -0.6068088412284851,
          0.1908138394355774,
          0.9759414196014404,
          0.04233163595199585,
          0.04862779378890991,
          -0.7003909945487976,
          -0.5208134651184082,
          -0.39719027280807495,
          0.18686282634735107,
          -0.050695642828941345,
          -0.1945338249206543,
          0.16898810863494873,
          -0.04729980230331421,
          0.7854358553886414,
          0.2309424877166748,
          -0.3664126694202423,
          0.018991999328136444,
          -0.013387009501457214,
          0.1283128559589386,
          0.2593398988246918,
          -0.21195659041404724,
          -0.33715784549713135,
          0.05664661526679993,
          0.29412174224853516,
          -0.5505753755569458,
          -0.19427601993083954,
          -0.28550708293914795,
          -0.6907620429992676,
          0.14603747427463531,
          0.18946510553359985,
          0.2902565598487854,
          -0.6209952235221863,
          0.6411071419715881,
          -0.27783137559890747,
          0.14359554648399353,
          -0.3176080286502838,
          -0.09366051107645035,
          0.18134957551956177,
          -0.3955604135990143,
          -0.45925211906433105,
          -0.0027573853731155396,
          -0.3735257387161255,
          0.23876893520355225,
          -0.5099847316741943,
          -0.08771680295467377,
          -0.5869905352592468,
          0.16826486587524414,
          0.19532519578933716,
          -0.36040541529655457,
          -0.4425569176673889,
          -0.3012576997280121,
          -0.23986242711544037,
          -0.1990751177072525,
          -0.446097731590271,
          -0.571922779083252,
          -0.5771163105964661,
          -0.27293071150779724,
          -0.34719714522361755,
          -0.06792530417442322,
          0.10102613270282745,
          0.27245163917541504,
          0.32657116651535034,
          0.23649665713310242,
          0.21112477779388428,
          0.5643301010131836,
          0.3697349727153778,
          0.014597907662391663,
          -0.39034613966941833,
          -0.8230550289154053,
          0.10822758078575134,
          0.2607837915420532,
          -0.3429851531982422,
          0.26297634840011597,
          -0.32205939292907715,
          0.050909027457237244,
          -0.3581230044364929,
          -0.601500391960144,
          -0.03298190236091614,
          -0.5427023768424988,
          -0.2009253054857254,
          0.2046702653169632,
          -0.49622708559036255,
          -0.5053675174713135,
          0.13754136860370636,
          0.16109207272529602,
          0.16959016025066376
         ]
        }
       ],
       "layout": {
        "template": {
         "data": {
          "bar": [
           {
            "error_x": {
             "color": "#2a3f5f"
            },
            "error_y": {
             "color": "#2a3f5f"
            },
            "marker": {
             "line": {
              "color": "#E5ECF6",
              "width": 0.5
             }
            },
            "type": "bar"
           }
          ],
          "barpolar": [
           {
            "marker": {
             "line": {
              "color": "#E5ECF6",
              "width": 0.5
             }
            },
            "type": "barpolar"
           }
          ],
          "carpet": [
           {
            "aaxis": {
             "endlinecolor": "#2a3f5f",
             "gridcolor": "white",
             "linecolor": "white",
             "minorgridcolor": "white",
             "startlinecolor": "#2a3f5f"
            },
            "baxis": {
             "endlinecolor": "#2a3f5f",
             "gridcolor": "white",
             "linecolor": "white",
             "minorgridcolor": "white",
             "startlinecolor": "#2a3f5f"
            },
            "type": "carpet"
           }
          ],
          "choropleth": [
           {
            "colorbar": {
             "outlinewidth": 0,
             "ticks": ""
            },
            "type": "choropleth"
           }
          ],
          "contour": [
           {
            "colorbar": {
             "outlinewidth": 0,
             "ticks": ""
            },
            "colorscale": [
             [
              0,
              "#0d0887"
             ],
             [
              0.1111111111111111,
              "#46039f"
             ],
             [
              0.2222222222222222,
              "#7201a8"
             ],
             [
              0.3333333333333333,
              "#9c179e"
             ],
             [
              0.4444444444444444,
              "#bd3786"
             ],
             [
              0.5555555555555556,
              "#d8576b"
             ],
             [
              0.6666666666666666,
              "#ed7953"
             ],
             [
              0.7777777777777778,
              "#fb9f3a"
             ],
             [
              0.8888888888888888,
              "#fdca26"
             ],
             [
              1,
              "#f0f921"
             ]
            ],
            "type": "contour"
           }
          ],
          "contourcarpet": [
           {
            "colorbar": {
             "outlinewidth": 0,
             "ticks": ""
            },
            "type": "contourcarpet"
           }
          ],
          "heatmap": [
           {
            "colorbar": {
             "outlinewidth": 0,
             "ticks": ""
            },
            "colorscale": [
             [
              0,
              "#0d0887"
             ],
             [
              0.1111111111111111,
              "#46039f"
             ],
             [
              0.2222222222222222,
              "#7201a8"
             ],
             [
              0.3333333333333333,
              "#9c179e"
             ],
             [
              0.4444444444444444,
              "#bd3786"
             ],
             [
              0.5555555555555556,
              "#d8576b"
             ],
             [
              0.6666666666666666,
              "#ed7953"
             ],
             [
              0.7777777777777778,
              "#fb9f3a"
             ],
             [
              0.8888888888888888,
              "#fdca26"
             ],
             [
              1,
              "#f0f921"
             ]
            ],
            "type": "heatmap"
           }
          ],
          "heatmapgl": [
           {
            "colorbar": {
             "outlinewidth": 0,
             "ticks": ""
            },
            "colorscale": [
             [
              0,
              "#0d0887"
             ],
             [
              0.1111111111111111,
              "#46039f"
             ],
             [
              0.2222222222222222,
              "#7201a8"
             ],
             [
              0.3333333333333333,
              "#9c179e"
             ],
             [
              0.4444444444444444,
              "#bd3786"
             ],
             [
              0.5555555555555556,
              "#d8576b"
             ],
             [
              0.6666666666666666,
              "#ed7953"
             ],
             [
              0.7777777777777778,
              "#fb9f3a"
             ],
             [
              0.8888888888888888,
              "#fdca26"
             ],
             [
              1,
              "#f0f921"
             ]
            ],
            "type": "heatmapgl"
           }
          ],
          "histogram": [
           {
            "marker": {
             "colorbar": {
              "outlinewidth": 0,
              "ticks": ""
             }
            },
            "type": "histogram"
           }
          ],
          "histogram2d": [
           {
            "colorbar": {
             "outlinewidth": 0,
             "ticks": ""
            },
            "colorscale": [
             [
              0,
              "#0d0887"
             ],
             [
              0.1111111111111111,
              "#46039f"
             ],
             [
              0.2222222222222222,
              "#7201a8"
             ],
             [
              0.3333333333333333,
              "#9c179e"
             ],
             [
              0.4444444444444444,
              "#bd3786"
             ],
             [
              0.5555555555555556,
              "#d8576b"
             ],
             [
              0.6666666666666666,
              "#ed7953"
             ],
             [
              0.7777777777777778,
              "#fb9f3a"
             ],
             [
              0.8888888888888888,
              "#fdca26"
             ],
             [
              1,
              "#f0f921"
             ]
            ],
            "type": "histogram2d"
           }
          ],
          "histogram2dcontour": [
           {
            "colorbar": {
             "outlinewidth": 0,
             "ticks": ""
            },
            "colorscale": [
             [
              0,
              "#0d0887"
             ],
             [
              0.1111111111111111,
              "#46039f"
             ],
             [
              0.2222222222222222,
              "#7201a8"
             ],
             [
              0.3333333333333333,
              "#9c179e"
             ],
             [
              0.4444444444444444,
              "#bd3786"
             ],
             [
              0.5555555555555556,
              "#d8576b"
             ],
             [
              0.6666666666666666,
              "#ed7953"
             ],
             [
              0.7777777777777778,
              "#fb9f3a"
             ],
             [
              0.8888888888888888,
              "#fdca26"
             ],
             [
              1,
              "#f0f921"
             ]
            ],
            "type": "histogram2dcontour"
           }
          ],
          "mesh3d": [
           {
            "colorbar": {
             "outlinewidth": 0,
             "ticks": ""
            },
            "type": "mesh3d"
           }
          ],
          "parcoords": [
           {
            "line": {
             "colorbar": {
              "outlinewidth": 0,
              "ticks": ""
             }
            },
            "type": "parcoords"
           }
          ],
          "pie": [
           {
            "automargin": true,
            "type": "pie"
           }
          ],
          "scatter": [
           {
            "marker": {
             "colorbar": {
              "outlinewidth": 0,
              "ticks": ""
             }
            },
            "type": "scatter"
           }
          ],
          "scatter3d": [
           {
            "line": {
             "colorbar": {
              "outlinewidth": 0,
              "ticks": ""
             }
            },
            "marker": {
             "colorbar": {
              "outlinewidth": 0,
              "ticks": ""
             }
            },
            "type": "scatter3d"
           }
          ],
          "scattercarpet": [
           {
            "marker": {
             "colorbar": {
              "outlinewidth": 0,
              "ticks": ""
             }
            },
            "type": "scattercarpet"
           }
          ],
          "scattergeo": [
           {
            "marker": {
             "colorbar": {
              "outlinewidth": 0,
              "ticks": ""
             }
            },
            "type": "scattergeo"
           }
          ],
          "scattergl": [
           {
            "marker": {
             "colorbar": {
              "outlinewidth": 0,
              "ticks": ""
             }
            },
            "type": "scattergl"
           }
          ],
          "scattermapbox": [
           {
            "marker": {
             "colorbar": {
              "outlinewidth": 0,
              "ticks": ""
             }
            },
            "type": "scattermapbox"
           }
          ],
          "scatterpolar": [
           {
            "marker": {
             "colorbar": {
              "outlinewidth": 0,
              "ticks": ""
             }
            },
            "type": "scatterpolar"
           }
          ],
          "scatterpolargl": [
           {
            "marker": {
             "colorbar": {
              "outlinewidth": 0,
              "ticks": ""
             }
            },
            "type": "scatterpolargl"
           }
          ],
          "scatterternary": [
           {
            "marker": {
             "colorbar": {
              "outlinewidth": 0,
              "ticks": ""
             }
            },
            "type": "scatterternary"
           }
          ],
          "surface": [
           {
            "colorbar": {
             "outlinewidth": 0,
             "ticks": ""
            },
            "colorscale": [
             [
              0,
              "#0d0887"
             ],
             [
              0.1111111111111111,
              "#46039f"
             ],
             [
              0.2222222222222222,
              "#7201a8"
             ],
             [
              0.3333333333333333,
              "#9c179e"
             ],
             [
              0.4444444444444444,
              "#bd3786"
             ],
             [
              0.5555555555555556,
              "#d8576b"
             ],
             [
              0.6666666666666666,
              "#ed7953"
             ],
             [
              0.7777777777777778,
              "#fb9f3a"
             ],
             [
              0.8888888888888888,
              "#fdca26"
             ],
             [
              1,
              "#f0f921"
             ]
            ],
            "type": "surface"
           }
          ],
          "table": [
           {
            "cells": {
             "fill": {
              "color": "#EBF0F8"
             },
             "line": {
              "color": "white"
             }
            },
            "header": {
             "fill": {
              "color": "#C8D4E3"
             },
             "line": {
              "color": "white"
             }
            },
            "type": "table"
           }
          ]
         },
         "layout": {
          "annotationdefaults": {
           "arrowcolor": "#2a3f5f",
           "arrowhead": 0,
           "arrowwidth": 1
          },
          "autotypenumbers": "strict",
          "coloraxis": {
           "colorbar": {
            "outlinewidth": 0,
            "ticks": ""
           }
          },
          "colorscale": {
           "diverging": [
            [
             0,
             "#8e0152"
            ],
            [
             0.1,
             "#c51b7d"
            ],
            [
             0.2,
             "#de77ae"
            ],
            [
             0.3,
             "#f1b6da"
            ],
            [
             0.4,
             "#fde0ef"
            ],
            [
             0.5,
             "#f7f7f7"
            ],
            [
             0.6,
             "#e6f5d0"
            ],
            [
             0.7,
             "#b8e186"
            ],
            [
             0.8,
             "#7fbc41"
            ],
            [
             0.9,
             "#4d9221"
            ],
            [
             1,
             "#276419"
            ]
           ],
           "sequential": [
            [
             0,
             "#0d0887"
            ],
            [
             0.1111111111111111,
             "#46039f"
            ],
            [
             0.2222222222222222,
             "#7201a8"
            ],
            [
             0.3333333333333333,
             "#9c179e"
            ],
            [
             0.4444444444444444,
             "#bd3786"
            ],
            [
             0.5555555555555556,
             "#d8576b"
            ],
            [
             0.6666666666666666,
             "#ed7953"
            ],
            [
             0.7777777777777778,
             "#fb9f3a"
            ],
            [
             0.8888888888888888,
             "#fdca26"
            ],
            [
             1,
             "#f0f921"
            ]
           ],
           "sequentialminus": [
            [
             0,
             "#0d0887"
            ],
            [
             0.1111111111111111,
             "#46039f"
            ],
            [
             0.2222222222222222,
             "#7201a8"
            ],
            [
             0.3333333333333333,
             "#9c179e"
            ],
            [
             0.4444444444444444,
             "#bd3786"
            ],
            [
             0.5555555555555556,
             "#d8576b"
            ],
            [
             0.6666666666666666,
             "#ed7953"
            ],
            [
             0.7777777777777778,
             "#fb9f3a"
            ],
            [
             0.8888888888888888,
             "#fdca26"
            ],
            [
             1,
             "#f0f921"
            ]
           ]
          },
          "colorway": [
           "#636efa",
           "#EF553B",
           "#00cc96",
           "#ab63fa",
           "#FFA15A",
           "#19d3f3",
           "#FF6692",
           "#B6E880",
           "#FF97FF",
           "#FECB52"
          ],
          "font": {
           "color": "#2a3f5f"
          },
          "geo": {
           "bgcolor": "white",
           "lakecolor": "white",
           "landcolor": "#E5ECF6",
           "showlakes": true,
           "showland": true,
           "subunitcolor": "white"
          },
          "hoverlabel": {
           "align": "left"
          },
          "hovermode": "closest",
          "mapbox": {
           "style": "light"
          },
          "paper_bgcolor": "white",
          "plot_bgcolor": "#E5ECF6",
          "polar": {
           "angularaxis": {
            "gridcolor": "white",
            "linecolor": "white",
            "ticks": ""
           },
           "bgcolor": "#E5ECF6",
           "radialaxis": {
            "gridcolor": "white",
            "linecolor": "white",
            "ticks": ""
           }
          },
          "scene": {
           "xaxis": {
            "backgroundcolor": "#E5ECF6",
            "gridcolor": "white",
            "gridwidth": 2,
            "linecolor": "white",
            "showbackground": true,
            "ticks": "",
            "zerolinecolor": "white"
           },
           "yaxis": {
            "backgroundcolor": "#E5ECF6",
            "gridcolor": "white",
            "gridwidth": 2,
            "linecolor": "white",
            "showbackground": true,
            "ticks": "",
            "zerolinecolor": "white"
           },
           "zaxis": {
            "backgroundcolor": "#E5ECF6",
            "gridcolor": "white",
            "gridwidth": 2,
            "linecolor": "white",
            "showbackground": true,
            "ticks": "",
            "zerolinecolor": "white"
           }
          },
          "shapedefaults": {
           "line": {
            "color": "#2a3f5f"
           }
          },
          "ternary": {
           "aaxis": {
            "gridcolor": "white",
            "linecolor": "white",
            "ticks": ""
           },
           "baxis": {
            "gridcolor": "white",
            "linecolor": "white",
            "ticks": ""
           },
           "bgcolor": "#E5ECF6",
           "caxis": {
            "gridcolor": "white",
            "linecolor": "white",
            "ticks": ""
           }
          },
          "title": {
           "x": 0.05
          },
          "xaxis": {
           "automargin": true,
           "gridcolor": "white",
           "linecolor": "white",
           "ticks": "",
           "title": {
            "standoff": 15
           },
           "zerolinecolor": "white",
           "zerolinewidth": 2
          },
          "yaxis": {
           "automargin": true,
           "gridcolor": "white",
           "linecolor": "white",
           "ticks": "",
           "title": {
            "standoff": 15
           },
           "zerolinecolor": "white",
           "zerolinewidth": 2
          }
         }
        }
       }
      },
      "text/html": [
       "<div>                            <div id=\"e20078dc-0b5e-48fc-b64f-287a392b5cf9\" class=\"plotly-graph-div\" style=\"height:525px; width:100%;\"></div>            <script type=\"text/javascript\">                require([\"plotly\"], function(Plotly) {                    window.PLOTLYENV=window.PLOTLYENV || {};                                    if (document.getElementById(\"e20078dc-0b5e-48fc-b64f-287a392b5cf9\")) {                    Plotly.newPlot(                        \"e20078dc-0b5e-48fc-b64f-287a392b5cf9\",                        [{\"histnorm\": \"probability\", \"type\": \"histogram\", \"x\": [-0.17163464426994324, -0.09046417474746704, 0.0873265266418457, 0.12370884418487549, 0.1783408522605896, 0.7330313324928284, 0.03526913374662399, -0.5364410281181335, 0.15823332965373993, 0.2085551619529724, -0.5366966128349304, 0.2075015902519226, -0.6970137357711792, -0.6959842443466187, -0.14032438397407532, 0.08407734334468842, -0.11516949534416199, -0.4518701434135437, 0.08048529922962189, -0.21677391231060028, -0.11121004819869995, 0.17735394835472107, 0.2375633418560028, 0.043353840708732605, -0.27166953682899475, 0.4665476977825165, 0.10839458554983139, -0.7146584391593933, 0.14616939425468445, -0.46028605103492737, 0.052593670785427094, -0.01843443512916565, -0.4684069752693176, -0.46069276332855225, -0.013152748346328735, -0.05528824031352997, 0.02047431468963623, 0.289694607257843, -0.3029371500015259, -0.08250251412391663, -0.027866989374160767, -0.9281009435653687, -0.3615848124027252, 0.6671578884124756, -0.36798790097236633, 0.3405880928039551, -0.40790116786956787, 0.300799697637558, -0.09107284247875214, -0.4873918890953064, -0.6516982316970825, 0.05919712781906128, 0.2183445692062378, 0.17621532082557678, -0.27803152799606323, 0.35501211881637573, 0.1668562889099121, -0.2452688217163086, 0.07702299952507019, 0.13522250950336456, -0.29390475153923035, -0.21959644556045532, 0.745882511138916, -0.21258904039859772, 0.5707061886787415, -0.6753607988357544, 0.6201087832450867, -0.3402499258518219, 0.4843025207519531, -0.09481474757194519, -0.207078754901886, -0.4224749803543091, -0.28332898020744324, 0.027147673070430756, 0.8080782890319824, -0.39012616872787476, -0.30519935488700867, 0.14978116750717163, -0.966060221195221, -0.18272331357002258, 0.07721453905105591, 0.2538500726222992, -0.20865684747695923, -0.9309946298599243, 0.21302667260169983, 0.5631916522979736, -0.27207231521606445, -0.6853166818618774, -0.15439637005329132, 0.06511327624320984, -0.6507484316825867, 0.0649554580450058, -0.28939083218574524, -0.3008904755115509, -0.537422239780426, -0.012874074280261993, -0.5176259875297546, 0.29149314761161804, 0.1338815540075302, -0.5413534641265869, 0.2412617802619934, -0.11455141007900238, 0.20658022165298462, -0.3078196942806244, 0.0016616582870483398, 0.2630561888217926, -0.8065844774246216, -0.19280323386192322, -0.7278162240982056, 0.5182188749313354, -0.323396235704422, -0.15048931539058685, 0.08150935173034668, -0.9796457886695862, -0.3651735782623291, -0.4714498221874237, 0.034116655588150024, -0.3587541878223419, -0.13253697752952576, -0.41934922337532043, -0.26589328050613403, -0.9053897857666016, 0.5262258648872375, -0.25141841173171997, -0.960182249546051, -0.3654518723487854, 0.8304372429847717, 0.62836754322052, -0.4033443033695221, -0.7351915836334229, -0.4177819490432739, -0.5246362686157227, 0.13325853645801544, -0.054767459630966187, -0.5747877359390259, -0.045984357595443726, -0.2685428261756897, 0.1967601180076599, -0.47775259613990784, -0.3203871548175812, -0.47798213362693787, -0.46351736783981323, -0.3425954580307007, -0.20101132988929749, -0.01237519085407257, -0.5871419310569763, -0.41478028893470764, -0.3256605267524719, 0.24077358841896057, -0.14378122985363007, -0.07980795204639435, 0.32448261976242065, 0.007683053612709045, 0.3431435227394104, 0.3882662057876587, -0.3515017628669739, -0.07572531700134277, -0.3907474875450134, 0.26486116647720337, -0.009517356753349304, 0.1665511578321457, -0.2591656744480133, 0.050689682364463806, 0.30423519015312195, 0.12369942665100098, -0.359303742647171, 0.1925707310438156, -0.06519699096679688, -0.6598977446556091, -0.7724823951721191, 0.6876368522644043, -0.31773266196250916, 0.7731369137763977, 0.45983484387397766, -0.6821075081825256, 0.17213521897792816, 0.12485768646001816, 0.045162051916122437, -0.8711243867874146, -0.7284919619560242, -0.39273500442504883, -0.021380886435508728, 0.05051630735397339, -0.040315400809049606, 0.7651635408401489, -0.9941928386688232, 0.16133815050125122, -0.14812900125980377, -0.3289494812488556, -0.4342464506626129, -0.03168763220310211, 0.38819360733032227, -0.17377227544784546, 0.03803202509880066, -0.3251788020133972, -0.3188365399837494, -0.12683522701263428, -0.1035519540309906, -0.26138386130332947, -0.3781639039516449, -0.19136331975460052, 0.350850373506546, -0.14773884415626526, -0.29479125142097473, 0.5105546712875366, -0.38002267479896545, 0.5709787011146545, -0.11833679676055908, -0.281232088804245, 0.21560066938400269, 0.010450541973114014, -0.3075748085975647, -0.02031441032886505, -0.31795740127563477, -0.5308603048324585, -0.7136307954788208, 0.1437584012746811, -0.10141652822494507, 0.14707452058792114, 0.2136535793542862, 0.4339439272880554, -0.11422784626483917, 0.6355876922607422, -0.5956078767776489, 0.08110639452934265, -0.21188242733478546, -0.3363443613052368, 0.4938161075115204, -0.46598467230796814, -0.29847827553749084, -0.3479694128036499, 0.12381261587142944, -0.1592768430709839, 0.20330810546875, -0.22286708652973175, 0.08361859619617462, -0.7466989159584045, -0.002545461058616638, -0.5634372234344482, 0.07889890670776367, 0.8846665024757385, -0.3335188329219818, -0.29262053966522217, 0.49365684390068054, -0.584043562412262, -0.34439507126808167, -0.872183620929718, -0.18913155794143677, -0.43566644191741943, -0.6844265460968018, -0.15917213261127472, 0.13295292854309082, -0.2083420753479004, 0.47257348895072937, 0.5424624085426331, -0.37217777967453003, 0.8757538199424744, 0.08407676219940186, -0.7470043897628784, 0.1144426167011261, -0.2806917428970337, -0.611042857170105, -0.3999234139919281, -0.2731737792491913, 0.20604068040847778, 0.12082193046808243, 0.21580547094345093, 0.1797574907541275, -0.8719633221626282, -0.37025192379951477, 0.2144973874092102, -0.14100246131420135, 0.2043493688106537, 0.47987794876098633, -0.05754491686820984, 0.12948143482208252, -0.4873815178871155, -0.9232631921768188, -0.5712935328483582, -0.13972938060760498, -0.539535641670227, -0.11127328872680664, 0.6145673990249634, 0.036088503897190094, 0.7359310984611511, -0.35914483666419983, -0.3779270648956299, 0.13362713158130646, -0.7838495969772339, 0.12242758274078369, 0.8211660981178284, -0.37230661511421204, -0.08893981575965881, -0.6740767955780029, 0.5672012567520142, -0.030872225761413574, -0.9060927629470825, -0.46441948413848877, -0.3527652323246002, -0.6771001815795898, -0.07109927386045456, -0.25051259994506836, -0.7358502745628357, -0.09817107021808624, -0.0856468677520752, 0.6732360124588013, 0.6006929278373718, -0.7164393663406372, -0.10141651332378387, 0.3342946171760559, -0.19263267517089844, -0.3881339430809021, 0.10068227350711823, -0.2858444154262543, -0.11201746016740799, 0.47211408615112305, -0.116403728723526, -0.6432592868804932, 0.07639005780220032, -0.5002087950706482, 0.13681188225746155, -0.2902016341686249, -0.7053263783454895, -0.3013887107372284, 0.6536564230918884, 0.20247089862823486, -0.6309319734573364, 0.31436416506767273, 0.13892967998981476, -0.7175432443618774, -0.4202423691749573, -0.3275979161262512, 0.12504097819328308, -0.19231054186820984, -0.3221396207809448, -0.8948433995246887, -0.049047261476516724, 0.02461056411266327, 0.04193431884050369, -0.7979751825332642, 0.27539804577827454, -0.3748972713947296, -0.182328462600708, 0.19393610954284668, -0.2233402132987976, -0.02417100965976715, -0.3580726385116577, 0.4473824203014374, 0.6709425449371338, -0.14277133345603943, -0.24851998686790466, -0.5671940445899963, 0.21469882130622864, -0.14979763329029083, 0.04560647904872894, -0.5534957647323608, -0.784866988658905, -0.6182478666305542, 0.1463211327791214, -0.6382070183753967, -0.14986133575439453, -0.26703059673309326, -0.46625757217407227, -0.16921792924404144, -0.5839829444885254, 0.18903759121894836, -0.08109849691390991, 0.09681934118270874, -0.26474636793136597, -0.06998416781425476, -0.41814592480659485, -0.549619734287262, -0.20110353827476501, -0.33378323912620544, 0.39324796199798584, -0.94218510389328, -0.7304636240005493, -0.41037631034851074, -0.45768097043037415, 0.15296214818954468, 0.38647863268852234, 0.5448800921440125, -0.29976943135261536, -0.1997385323047638, -0.3768404424190521, -0.5121124386787415, -0.2903752624988556, 0.5120776891708374, 0.19503524899482727, -0.16708868741989136, 0.2922111749649048, -0.4208697974681854, -0.3211806118488312, 0.42465075850486755, 0.500543475151062, 0.11913125962018967, 0.08909285068511963, 0.2654936909675598, -0.5559341311454773, 0.46709609031677246, 0.1394878625869751, -0.25180596113204956, -0.9464964270591736, 0.7957562208175659, 0.07364661246538162, -0.6473569869995117, -0.38114410638809204, 0.14975881576538086, 0.26513347029685974, 0.05041998624801636, 0.3570152223110199, 0.14843639731407166, 0.16871151328086853, -0.6995478868484497, 0.1921314299106598, -0.1155821681022644, -0.06744883954524994, -0.04468965530395508, -0.2676923871040344, -0.3245013952255249, 0.09358621388673782, 0.20268994569778442, 0.08143141865730286, 0.1425863653421402, -0.46608543395996094, 0.004473596811294556, 0.6751033067703247, 0.09336745738983154, 0.04962395876646042, -0.2254505306482315, -0.820975661277771, 0.175978422164917, 0.691926121711731, -0.6998652219772339, -0.13074055314064026, -0.09402292966842651, 0.013118848204612732, 0.002145320177078247, 0.062217891216278076, -0.05959869921207428, 0.27689290046691895, -0.35166794061660767, 0.5900225639343262, -0.008723229169845581, -0.05548597872257233, 0.10302455723285675, 0.22397580742835999, 0.7112456560134888, -0.3993511199951172, 0.03687974065542221, 0.36887234449386597, -0.9771763682365417, -0.06057276949286461, -0.39897385239601135, -0.6388740539550781, -0.2128279209136963, 0.13257426023483276, -0.28406432271003723, -0.7150804996490479, 0.5665039420127869, 0.3336625099182129, 0.12278569489717484, -0.2928352653980255, -0.3140029311180115, -0.3609372079372406, -0.023108363151550293, 0.353646844625473, -0.681123673915863, -0.2301320731639862, 0.12300136685371399, 0.030123800039291382, 0.3860895037651062, 0.10686898231506348, -0.986099898815155, -0.08027032017707825, 0.012026652693748474, 0.11897499859333038, 0.8233367800712585, -0.24981606006622314, -0.5437290072441101, -0.8509255647659302, -0.27244019508361816, -0.46992456912994385, -0.41827642917633057, -0.3154332637786865, -0.15322665870189667, -0.1257491260766983, -0.5183344483375549, 0.08239239454269409, -0.4137277901172638, -0.7138299345970154, -0.5508069396018982, -0.24866440892219543, 0.46866676211357117, 0.7216868996620178, 0.272063672542572, -0.6688911318778992, -0.2632656991481781, -0.9536870718002319, 0.12239602953195572, -0.0806247740983963, 0.13538938760757446, -0.12141256034374237, 0.22077912092208862, -0.0052254050970077515, -0.5006494522094727, -0.1959208846092224, -0.20701864361763, 0.8523454666137695, 0.030336499214172363, 0.23562699556350708, -0.8419829607009888, -0.3036048114299774, 0.1140526831150055, 0.0027388334274291992, 0.20059603452682495, 0.5862374305725098, 0.5119606256484985, -0.32854875922203064, -0.16498339176177979, -0.30432406067848206, -0.44460827112197876, -0.5242666602134705, -0.6848363876342773, -0.38369011878967285, 0.11180680990219116, -0.9228471517562866, -0.2527841329574585, 0.30595728754997253, -0.07146075367927551, 0.39124172925949097, 0.05946943163871765, -0.24646998941898346, -0.9025375247001648, -0.7132378220558167, -0.02678513526916504, -0.5891726016998291, -0.3174474239349365, -0.13407398760318756, -0.42664483189582825, -0.2262541651725769, -0.003925010561943054, -0.08744663745164871, -0.22232675552368164, -0.5082041621208191, -0.30068522691726685, 0.3700196146965027, 0.35519036650657654, -0.3188190758228302, -0.5923162698745728, 0.24847346544265747, -0.2961600422859192, 0.39594030380249023, -0.5647311210632324, -0.8301540613174438, -0.06233592331409454, -0.9024041295051575, -0.3366328775882721, 0.28218960762023926, -0.6242672801017761, 0.2776610851287842, -0.30700016021728516, 0.012248590588569641, -0.19227589666843414, -0.19959378242492676, -0.8516013622283936, 0.4255307912826538, 0.6132004261016846, 0.08923201262950897, -0.3674790561199188, 0.0901355966925621, -0.5171891450881958, -0.33670347929000854, 0.0019125491380691528, 0.04451186954975128, -0.979502260684967, -0.4595441520214081, -0.03754450008273125, 0.08681926131248474, 0.04118958115577698, -0.6457098722457886, 0.18451353907585144, 0.15563760697841644, -0.465304970741272, -0.26992785930633545, 0.22221240401268005, -0.6413609981536865, 0.10230870544910431, -0.7209328413009644, -0.04632630944252014, -0.3630470335483551, -0.3477933704853058, -0.2280946969985962, 0.031624287366867065, 0.12920548021793365, -0.10538028180599213, -0.428055077791214, -0.03679053485393524, 0.20606984198093414, -0.2187749147415161, -0.21581900119781494, 0.375755250453949, -0.0724821388721466, -0.3282470107078552, -0.21091386675834656, 0.4551696181297302, 0.07506077736616135, -0.06068062782287598, 0.27351468801498413, -0.7046712636947632, -0.6172235012054443, -0.6135098934173584, -0.5810204744338989, -0.7897061705589294, -0.1378031075000763, -0.0995444804430008, -0.22466155886650085, -0.19810724258422852, -0.17689436674118042, -0.8107612133026123, 0.2236594557762146, 0.3904375731945038, -0.9107315540313721, -0.7992812991142273, 0.1714009940624237, 0.17388916015625, -0.06814070045948029, -0.4695630371570587, 0.1232570931315422, -0.34755638241767883, -0.3440156877040863, -0.324705570936203, -0.019834935665130615, -0.9430302977561951, 0.08876923471689224, 0.09852707386016846, -0.6200881004333496, -0.3695724904537201, -0.05915585160255432, -0.5828083157539368, -0.2291276454925537, -0.0864483043551445, -0.4790087342262268, -0.34954583644866943, -0.2765921354293823, -0.17699506878852844, 0.31741854548454285, 0.20484572649002075, -0.2688245177268982, 0.24604636430740356, -0.28272736072540283, -0.5077470541000366, 0.538062572479248, -0.242312490940094, 0.4194100797176361, -0.615533709526062, -0.3445926010608673, -0.29972970485687256, -0.2749188244342804, 0.18435820937156677, -0.2037382274866104, -0.05928206443786621, -0.45237666368484497, -0.37677833437919617, -0.6130502223968506, -0.0012522637844085693, -0.2536614239215851, 0.09737794101238251, 0.08513855934143066, 0.18278682231903076, -0.8427732586860657, -0.14719390869140625, 0.18590059876441956, 0.27059245109558105, 0.21806246042251587, -0.014434963464736938, -0.11950273811817169, -0.46291083097457886, -0.5465807318687439, -0.08867034316062927, 0.7726461887359619, 0.33837562799453735, -0.6329621076583862, 0.030158407986164093, 0.38515031337738037, -0.09996616840362549, -0.3033410608768463, -0.24207623302936554, -0.30545884370803833, 0.13806889951229095, 0.12555687129497528, -0.4142671227455139, -0.7467732429504395, 0.11728498339653015, -0.6055330634117126, 0.17105382680892944, 0.4021657109260559, 0.46678611636161804, -0.17536166310310364, 0.12254314869642258, -0.07395555078983307, -0.9180529117584229, 0.8765297532081604, -0.5606204271316528, -0.28322073817253113, -0.7258080244064331, -0.7895278334617615, 0.4274100661277771, -0.06761938333511353, 0.1469287872314453, 0.219340980052948, -0.28672704100608826, -0.7711601257324219, 0.1878836750984192, -0.3541474938392639, 0.10627299547195435, 0.3055124282836914, -0.1318918764591217, -0.30437326431274414, 0.2036140263080597, 0.1149396225810051, 0.23578819632530212, -0.49584463238716125, -0.1279458850622177, -0.09790636599063873, 0.027641870081424713, -0.005722075700759888, -0.03343874216079712, 0.33070850372314453, 0.2592371702194214, -0.9230947494506836, 0.06169390678405762, -0.45274314284324646, 0.20585058629512787, -0.3393777012825012, -0.2813015580177307, 0.34120649099349976, -0.3190633952617645, -0.3498176038265228, 0.07466131448745728, 0.19313445687294006, -0.099215567111969, -0.1522284746170044, -0.021960191428661346, -0.07945019006729126, -0.05924654006958008, 0.5908971428871155, -0.4553803503513336, -0.5647764205932617, 0.7856014966964722, -0.6817980408668518, 0.2632264494895935, -0.6342332363128662, -0.8519806265830994, -0.37142497301101685, -0.9397883415222168, -0.33792170882225037, 0.01168513298034668, 0.36066728830337524, -0.13595882058143616, -0.9857804179191589, 0.07631006091833115, -0.0038539469242095947, -0.6481033563613892, -0.5247943997383118, 0.07480724155902863, -0.7998874187469482, -0.5392256379127502, -0.4822227358818054, -0.4632611572742462, 0.36808502674102783, -0.24409162998199463, 0.1378556340932846, -0.8279971480369568, -0.40577155351638794, 0.105200856924057, 0.10502638667821884, 0.02283334732055664, 0.12760978937149048, -0.1271500438451767, -0.4926775395870209, -0.20440673828125, -0.055706024169921875, 0.4401743710041046, -0.35749611258506775, 0.1904398649930954, -0.31952616572380066, 0.024358101189136505, 0.37129688262939453, -0.24893881380558014, 0.26532912254333496, 0.5515502691268921, 0.05473822355270386, 0.33026936650276184, -0.5311757326126099, 0.10896598547697067, 0.29208165407180786, 0.4448646008968353, -0.9957202076911926, 0.10784609615802765, -0.13622519373893738, 0.0365106537938118, 0.1714131385087967, -0.09693330526351929, 0.4343614876270294, -0.44859281182289124, 0.00203511118888855, -0.23346540331840515, 0.5372974276542664, -0.0900375172495842, 0.3916754424571991, -0.3151138424873352, -0.09277212619781494, -0.15835770964622498, -0.9407254457473755, -0.3456893861293793, -0.34865331649780273, -0.09289146959781647, -0.35159748792648315, -0.11040021479129791, -0.5638819932937622, 0.11053802073001862, -0.31206226348876953, -0.10219916701316833, 0.18452982604503632, 0.25471341609954834, 0.38051968812942505, 0.32780978083610535, 0.27065902948379517, -0.6063451170921326, 0.13347163796424866, -0.0145510733127594, -0.12209030985832214, 0.3577028214931488, 0.9146813750267029, 0.6974509358406067, -0.6024805307388306, 0.01589619368314743, -0.20343664288520813, 0.22883331775665283, -0.3123820424079895, -0.5355182886123657, 0.18268634378910065, 0.4841078817844391, 0.9546058177947998, 0.05281543731689453, -0.04200670123100281, -0.372219979763031, -0.17662020027637482, -0.2083725482225418, 0.007717594504356384, 0.2607070803642273, -0.17752273380756378, -0.23331469297409058, -0.09515875577926636, 0.19209879636764526, -0.7922866344451904, -0.42884325981140137, -0.41964638233184814, -0.9179372787475586, -0.08765585720539093, -0.9461959004402161, -0.6931209564208984, -0.4349229335784912, 0.18043480813503265, -0.8519920706748962, -0.36792251467704773, -0.3868953585624695, 0.6433944702148438, 0.23024782538414001, -0.23626989126205444, -0.6189993619918823, 0.1818435788154602, 0.2726152241230011, -0.08634623885154724, 0.07937485724687576, -0.34305238723754883, 0.16661220788955688, -0.3343847393989563, 0.23463165760040283, -0.3240646719932556, -0.2810203433036804, -0.8100141286849976, -0.4539650082588196, -0.1980920433998108, 0.2928674519062042, -0.7900793552398682, -0.23680874705314636, 0.15241003036499023, -0.08562988042831421, 0.36206239461898804, -0.11848530173301697, 0.0773988664150238, -0.756410539150238, -0.026683513075113297, -0.38241785764694214, 0.09795558452606201, -0.13969653844833374, 0.2672644853591919, -0.40620267391204834, -0.3751600980758667, -0.03608071804046631, 0.15366052091121674, 0.6835814714431763, -0.09363004565238953, 0.019509315490722656, -0.5783580541610718, -0.15397265553474426, -0.396237850189209, 0.10491542518138885, -0.39437150955200195, 0.11087113618850708, 0.3955237567424774, -0.5505626201629639, -0.6068088412284851, 0.1908138394355774, 0.9759414196014404, 0.04233163595199585, 0.04862779378890991, -0.7003909945487976, -0.5208134651184082, -0.39719027280807495, 0.18686282634735107, -0.050695642828941345, -0.1945338249206543, 0.16898810863494873, -0.04729980230331421, 0.7854358553886414, 0.2309424877166748, -0.3664126694202423, 0.018991999328136444, -0.013387009501457214, 0.1283128559589386, 0.2593398988246918, -0.21195659041404724, -0.33715784549713135, 0.05664661526679993, 0.29412174224853516, -0.5505753755569458, -0.19427601993083954, -0.28550708293914795, -0.6907620429992676, 0.14603747427463531, 0.18946510553359985, 0.2902565598487854, -0.6209952235221863, 0.6411071419715881, -0.27783137559890747, 0.14359554648399353, -0.3176080286502838, -0.09366051107645035, 0.18134957551956177, -0.3955604135990143, -0.45925211906433105, -0.0027573853731155396, -0.3735257387161255, 0.23876893520355225, -0.5099847316741943, -0.08771680295467377, -0.5869905352592468, 0.16826486587524414, 0.19532519578933716, -0.36040541529655457, -0.4425569176673889, -0.3012576997280121, -0.23986242711544037, -0.1990751177072525, -0.446097731590271, -0.571922779083252, -0.5771163105964661, -0.27293071150779724, -0.34719714522361755, -0.06792530417442322, 0.10102613270282745, 0.27245163917541504, 0.32657116651535034, 0.23649665713310242, 0.21112477779388428, 0.5643301010131836, 0.3697349727153778, 0.014597907662391663, -0.39034613966941833, -0.8230550289154053, 0.10822758078575134, 0.2607837915420532, -0.3429851531982422, 0.26297634840011597, -0.32205939292907715, 0.050909027457237244, -0.3581230044364929, -0.601500391960144, -0.03298190236091614, -0.5427023768424988, -0.2009253054857254, 0.2046702653169632, -0.49622708559036255, -0.5053675174713135, 0.13754136860370636, 0.16109207272529602, 0.16959016025066376]}],                        {\"template\": {\"data\": {\"bar\": [{\"error_x\": {\"color\": \"#2a3f5f\"}, \"error_y\": {\"color\": \"#2a3f5f\"}, \"marker\": {\"line\": {\"color\": \"#E5ECF6\", \"width\": 0.5}}, \"type\": \"bar\"}], \"barpolar\": [{\"marker\": {\"line\": {\"color\": \"#E5ECF6\", \"width\": 0.5}}, \"type\": \"barpolar\"}], \"carpet\": [{\"aaxis\": {\"endlinecolor\": \"#2a3f5f\", \"gridcolor\": \"white\", \"linecolor\": \"white\", \"minorgridcolor\": \"white\", \"startlinecolor\": \"#2a3f5f\"}, \"baxis\": {\"endlinecolor\": \"#2a3f5f\", \"gridcolor\": \"white\", \"linecolor\": \"white\", \"minorgridcolor\": \"white\", \"startlinecolor\": \"#2a3f5f\"}, \"type\": \"carpet\"}], \"choropleth\": [{\"colorbar\": {\"outlinewidth\": 0, \"ticks\": \"\"}, \"type\": \"choropleth\"}], \"contour\": [{\"colorbar\": {\"outlinewidth\": 0, \"ticks\": \"\"}, \"colorscale\": [[0.0, \"#0d0887\"], [0.1111111111111111, \"#46039f\"], [0.2222222222222222, \"#7201a8\"], [0.3333333333333333, \"#9c179e\"], [0.4444444444444444, \"#bd3786\"], [0.5555555555555556, \"#d8576b\"], [0.6666666666666666, \"#ed7953\"], [0.7777777777777778, \"#fb9f3a\"], [0.8888888888888888, \"#fdca26\"], [1.0, \"#f0f921\"]], \"type\": \"contour\"}], \"contourcarpet\": [{\"colorbar\": {\"outlinewidth\": 0, \"ticks\": \"\"}, \"type\": \"contourcarpet\"}], \"heatmap\": [{\"colorbar\": {\"outlinewidth\": 0, \"ticks\": \"\"}, \"colorscale\": [[0.0, \"#0d0887\"], [0.1111111111111111, \"#46039f\"], [0.2222222222222222, \"#7201a8\"], [0.3333333333333333, \"#9c179e\"], [0.4444444444444444, \"#bd3786\"], [0.5555555555555556, \"#d8576b\"], [0.6666666666666666, \"#ed7953\"], [0.7777777777777778, \"#fb9f3a\"], [0.8888888888888888, \"#fdca26\"], [1.0, \"#f0f921\"]], \"type\": \"heatmap\"}], \"heatmapgl\": [{\"colorbar\": {\"outlinewidth\": 0, \"ticks\": \"\"}, \"colorscale\": [[0.0, \"#0d0887\"], [0.1111111111111111, \"#46039f\"], [0.2222222222222222, \"#7201a8\"], [0.3333333333333333, \"#9c179e\"], [0.4444444444444444, \"#bd3786\"], [0.5555555555555556, \"#d8576b\"], [0.6666666666666666, \"#ed7953\"], [0.7777777777777778, \"#fb9f3a\"], [0.8888888888888888, \"#fdca26\"], [1.0, \"#f0f921\"]], \"type\": \"heatmapgl\"}], \"histogram\": [{\"marker\": {\"colorbar\": {\"outlinewidth\": 0, \"ticks\": \"\"}}, \"type\": \"histogram\"}], \"histogram2d\": [{\"colorbar\": {\"outlinewidth\": 0, \"ticks\": \"\"}, \"colorscale\": [[0.0, \"#0d0887\"], [0.1111111111111111, \"#46039f\"], [0.2222222222222222, \"#7201a8\"], [0.3333333333333333, \"#9c179e\"], [0.4444444444444444, \"#bd3786\"], [0.5555555555555556, \"#d8576b\"], [0.6666666666666666, \"#ed7953\"], [0.7777777777777778, \"#fb9f3a\"], [0.8888888888888888, \"#fdca26\"], [1.0, \"#f0f921\"]], \"type\": \"histogram2d\"}], \"histogram2dcontour\": [{\"colorbar\": {\"outlinewidth\": 0, \"ticks\": \"\"}, \"colorscale\": [[0.0, \"#0d0887\"], [0.1111111111111111, \"#46039f\"], [0.2222222222222222, \"#7201a8\"], [0.3333333333333333, \"#9c179e\"], [0.4444444444444444, \"#bd3786\"], [0.5555555555555556, \"#d8576b\"], [0.6666666666666666, \"#ed7953\"], [0.7777777777777778, \"#fb9f3a\"], [0.8888888888888888, \"#fdca26\"], [1.0, \"#f0f921\"]], \"type\": \"histogram2dcontour\"}], \"mesh3d\": [{\"colorbar\": {\"outlinewidth\": 0, \"ticks\": \"\"}, \"type\": \"mesh3d\"}], \"parcoords\": [{\"line\": {\"colorbar\": {\"outlinewidth\": 0, \"ticks\": \"\"}}, \"type\": \"parcoords\"}], \"pie\": [{\"automargin\": true, \"type\": \"pie\"}], \"scatter\": [{\"marker\": {\"colorbar\": {\"outlinewidth\": 0, \"ticks\": \"\"}}, \"type\": \"scatter\"}], \"scatter3d\": [{\"line\": {\"colorbar\": {\"outlinewidth\": 0, \"ticks\": \"\"}}, \"marker\": {\"colorbar\": {\"outlinewidth\": 0, \"ticks\": \"\"}}, \"type\": \"scatter3d\"}], \"scattercarpet\": [{\"marker\": {\"colorbar\": {\"outlinewidth\": 0, \"ticks\": \"\"}}, \"type\": \"scattercarpet\"}], \"scattergeo\": [{\"marker\": {\"colorbar\": {\"outlinewidth\": 0, \"ticks\": \"\"}}, \"type\": \"scattergeo\"}], \"scattergl\": [{\"marker\": {\"colorbar\": {\"outlinewidth\": 0, \"ticks\": \"\"}}, \"type\": \"scattergl\"}], \"scattermapbox\": [{\"marker\": {\"colorbar\": {\"outlinewidth\": 0, \"ticks\": \"\"}}, \"type\": \"scattermapbox\"}], \"scatterpolar\": [{\"marker\": {\"colorbar\": {\"outlinewidth\": 0, \"ticks\": \"\"}}, \"type\": \"scatterpolar\"}], \"scatterpolargl\": [{\"marker\": {\"colorbar\": {\"outlinewidth\": 0, \"ticks\": \"\"}}, \"type\": \"scatterpolargl\"}], \"scatterternary\": [{\"marker\": {\"colorbar\": {\"outlinewidth\": 0, \"ticks\": \"\"}}, \"type\": \"scatterternary\"}], \"surface\": [{\"colorbar\": {\"outlinewidth\": 0, \"ticks\": \"\"}, \"colorscale\": [[0.0, \"#0d0887\"], [0.1111111111111111, \"#46039f\"], [0.2222222222222222, \"#7201a8\"], [0.3333333333333333, \"#9c179e\"], [0.4444444444444444, \"#bd3786\"], [0.5555555555555556, \"#d8576b\"], [0.6666666666666666, \"#ed7953\"], [0.7777777777777778, \"#fb9f3a\"], [0.8888888888888888, \"#fdca26\"], [1.0, \"#f0f921\"]], \"type\": \"surface\"}], \"table\": [{\"cells\": {\"fill\": {\"color\": \"#EBF0F8\"}, \"line\": {\"color\": \"white\"}}, \"header\": {\"fill\": {\"color\": \"#C8D4E3\"}, \"line\": {\"color\": \"white\"}}, \"type\": \"table\"}]}, \"layout\": {\"annotationdefaults\": {\"arrowcolor\": \"#2a3f5f\", \"arrowhead\": 0, \"arrowwidth\": 1}, \"autotypenumbers\": \"strict\", \"coloraxis\": {\"colorbar\": {\"outlinewidth\": 0, \"ticks\": \"\"}}, \"colorscale\": {\"diverging\": [[0, \"#8e0152\"], [0.1, \"#c51b7d\"], [0.2, \"#de77ae\"], [0.3, \"#f1b6da\"], [0.4, \"#fde0ef\"], [0.5, \"#f7f7f7\"], [0.6, \"#e6f5d0\"], [0.7, \"#b8e186\"], [0.8, \"#7fbc41\"], [0.9, \"#4d9221\"], [1, \"#276419\"]], \"sequential\": [[0.0, \"#0d0887\"], [0.1111111111111111, \"#46039f\"], [0.2222222222222222, \"#7201a8\"], [0.3333333333333333, \"#9c179e\"], [0.4444444444444444, \"#bd3786\"], [0.5555555555555556, \"#d8576b\"], [0.6666666666666666, \"#ed7953\"], [0.7777777777777778, \"#fb9f3a\"], [0.8888888888888888, \"#fdca26\"], [1.0, \"#f0f921\"]], \"sequentialminus\": [[0.0, \"#0d0887\"], [0.1111111111111111, \"#46039f\"], [0.2222222222222222, \"#7201a8\"], [0.3333333333333333, \"#9c179e\"], [0.4444444444444444, \"#bd3786\"], [0.5555555555555556, \"#d8576b\"], [0.6666666666666666, \"#ed7953\"], [0.7777777777777778, \"#fb9f3a\"], [0.8888888888888888, \"#fdca26\"], [1.0, \"#f0f921\"]]}, \"colorway\": [\"#636efa\", \"#EF553B\", \"#00cc96\", \"#ab63fa\", \"#FFA15A\", \"#19d3f3\", \"#FF6692\", \"#B6E880\", \"#FF97FF\", \"#FECB52\"], \"font\": {\"color\": \"#2a3f5f\"}, \"geo\": {\"bgcolor\": \"white\", \"lakecolor\": \"white\", \"landcolor\": \"#E5ECF6\", \"showlakes\": true, \"showland\": true, \"subunitcolor\": \"white\"}, \"hoverlabel\": {\"align\": \"left\"}, \"hovermode\": \"closest\", \"mapbox\": {\"style\": \"light\"}, \"paper_bgcolor\": \"white\", \"plot_bgcolor\": \"#E5ECF6\", \"polar\": {\"angularaxis\": {\"gridcolor\": \"white\", \"linecolor\": \"white\", \"ticks\": \"\"}, \"bgcolor\": \"#E5ECF6\", \"radialaxis\": {\"gridcolor\": \"white\", \"linecolor\": \"white\", \"ticks\": \"\"}}, \"scene\": {\"xaxis\": {\"backgroundcolor\": \"#E5ECF6\", \"gridcolor\": \"white\", \"gridwidth\": 2, \"linecolor\": \"white\", \"showbackground\": true, \"ticks\": \"\", \"zerolinecolor\": \"white\"}, \"yaxis\": {\"backgroundcolor\": \"#E5ECF6\", \"gridcolor\": \"white\", \"gridwidth\": 2, \"linecolor\": \"white\", \"showbackground\": true, \"ticks\": \"\", \"zerolinecolor\": \"white\"}, \"zaxis\": {\"backgroundcolor\": \"#E5ECF6\", \"gridcolor\": \"white\", \"gridwidth\": 2, \"linecolor\": \"white\", \"showbackground\": true, \"ticks\": \"\", \"zerolinecolor\": \"white\"}}, \"shapedefaults\": {\"line\": {\"color\": \"#2a3f5f\"}}, \"ternary\": {\"aaxis\": {\"gridcolor\": \"white\", \"linecolor\": \"white\", \"ticks\": \"\"}, \"baxis\": {\"gridcolor\": \"white\", \"linecolor\": \"white\", \"ticks\": \"\"}, \"bgcolor\": \"#E5ECF6\", \"caxis\": {\"gridcolor\": \"white\", \"linecolor\": \"white\", \"ticks\": \"\"}}, \"title\": {\"x\": 0.05}, \"xaxis\": {\"automargin\": true, \"gridcolor\": \"white\", \"linecolor\": \"white\", \"ticks\": \"\", \"title\": {\"standoff\": 15}, \"zerolinecolor\": \"white\", \"zerolinewidth\": 2}, \"yaxis\": {\"automargin\": true, \"gridcolor\": \"white\", \"linecolor\": \"white\", \"ticks\": \"\", \"title\": {\"standoff\": 15}, \"zerolinecolor\": \"white\", \"zerolinewidth\": 2}}}},                        {\"responsive\": true}                    ).then(function(){\n",
       "                            \n",
       "var gd = document.getElementById('e20078dc-0b5e-48fc-b64f-287a392b5cf9');\n",
       "var x = new MutationObserver(function (mutations, observer) {{\n",
       "        var display = window.getComputedStyle(gd).display;\n",
       "        if (!display || display === 'none') {{\n",
       "            console.log([gd, 'removed!']);\n",
       "            Plotly.purge(gd);\n",
       "            observer.disconnect();\n",
       "        }}\n",
       "}});\n",
       "\n",
       "// Listen for the removal of the full notebook cells\n",
       "var notebookContainer = gd.closest('#notebook-container');\n",
       "if (notebookContainer) {{\n",
       "    x.observe(notebookContainer, {childList: true});\n",
       "}}\n",
       "\n",
       "// Listen for the clearing of the current output cell\n",
       "var outputEl = gd.closest('.output');\n",
       "if (outputEl) {{\n",
       "    x.observe(outputEl, {childList: true});\n",
       "}}\n",
       "\n",
       "                        })                };                });            </script>        </div>"
      ]
     },
     "metadata": {},
     "output_type": "display_data"
    }
   ],
   "source": [
    "batch_size = 1\n",
    "var_dim = 1000\n",
    "samples = [torch.zeros(size=(batch_size, 1)).uniform_() for _ in range(var_dim)]\n",
    "samples = torch.cat(sampling(samples, 1000, mean=0, std=1), dim=-1).numpy()\n",
    "fig = go.Figure(data=[go.Histogram(x=samples.flatten(), histnorm='probability')])\n",
    "fig.show()"
   ]
  },
  {
   "cell_type": "code",
   "execution_count": 6,
   "id": "sticky-alarm",
   "metadata": {},
   "outputs": [
    {
     "ename": "TypeError",
     "evalue": "minimum(): argument 'other' (position 2) must be Tensor, not float",
     "output_type": "error",
     "traceback": [
      "\u001b[0;31m---------------------------------------------------------------------------\u001b[0m",
      "\u001b[0;31mTypeError\u001b[0m                                 Traceback (most recent call last)",
      "\u001b[0;32m/tmp/ipykernel_33724/2758202768.py\u001b[0m in \u001b[0;36m<module>\u001b[0;34m\u001b[0m\n\u001b[1;32m      1\u001b[0m \u001b[0ma\u001b[0m \u001b[0;34m=\u001b[0m \u001b[0mtorch\u001b[0m\u001b[0;34m.\u001b[0m\u001b[0mrandn\u001b[0m\u001b[0;34m(\u001b[0m\u001b[0;36m4\u001b[0m\u001b[0;34m,\u001b[0m \u001b[0;36m4\u001b[0m\u001b[0;34m)\u001b[0m\u001b[0;34m\u001b[0m\u001b[0;34m\u001b[0m\u001b[0m\n\u001b[0;32m----> 2\u001b[0;31m \u001b[0mtorch\u001b[0m\u001b[0;34m.\u001b[0m\u001b[0mminimum\u001b[0m\u001b[0;34m(\u001b[0m\u001b[0ma\u001b[0m\u001b[0;34m,\u001b[0m \u001b[0;36m1.0\u001b[0m\u001b[0;34m)\u001b[0m\u001b[0;34m\u001b[0m\u001b[0;34m\u001b[0m\u001b[0m\n\u001b[0m",
      "\u001b[0;31mTypeError\u001b[0m: minimum(): argument 'other' (position 2) must be Tensor, not float"
     ]
    }
   ],
   "source": [
    "a = torch.randn(4, 4)\n",
    "torch.minimum(a, 1.0)"
   ]
  },
  {
   "cell_type": "code",
   "execution_count": null,
   "id": "dress-shelf",
   "metadata": {},
   "outputs": [],
   "source": [
    "batch_size = 32\n",
    "var_dim = 50\n",
    "sobol = SobolEngine(var_dim, scramble=True)\n",
    "samples = (sobol.draw(batch_size).numpy() -0.5)*2\n",
    "fig = make_subplots(rows=1, cols=1)\n",
    "for i in range(samples.shape[0]):\n",
    "    fig.add_trace(go.Scatter(x=samples[i].flatten(), y=np.ones(var_dim)*i,\n",
    "                         mode='markers', marker=dict(color='SkyBlue', size=10), showlegend=False), row=1, col=1)\n",
    "    fig.add_trace(go.Scatter(x=[np.mean(samples[i].flatten())], y=np.ones(var_dim)*i,\n",
    "                         mode='markers', marker=dict(color='red', size=10), showlegend=False), row=1, col=1)\n",
    "fig.update_layout(\n",
    "    title=\"Opinion distribution\",\n",
    "    xaxis_title=\"X\",\n",
    "    yaxis_title=\"Num\",\n",
    "    font=dict(\n",
    "        family=\"Courier New, monospace\",\n",
    "        size=14\n",
    "    )\n",
    ")\n",
    "fig.update_layout(yaxis={'visible': False, 'showticklabels': False})\n",
    "fig.show()"
   ]
  },
  {
   "cell_type": "code",
   "execution_count": null,
   "id": "attached-choir",
   "metadata": {},
   "outputs": [],
   "source": []
  }
 ],
 "metadata": {
  "kernelspec": {
   "display_name": "Python 3 (ipykernel)",
   "language": "python",
   "name": "python3"
  },
  "language_info": {
   "codemirror_mode": {
    "name": "ipython",
    "version": 3
   },
   "file_extension": ".py",
   "mimetype": "text/x-python",
   "name": "python",
   "nbconvert_exporter": "python",
   "pygments_lexer": "ipython3",
   "version": "3.8.5"
  }
 },
 "nbformat": 4,
 "nbformat_minor": 5
}
