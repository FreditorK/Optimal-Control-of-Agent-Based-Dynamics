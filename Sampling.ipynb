{
 "cells": [
  {
   "cell_type": "code",
   "execution_count": null,
   "id": "agricultural-breast",
   "metadata": {},
   "outputs": [],
   "source": [
    "import torch\n",
    "import plotly.graph_objects as go\n",
    "import numpy as np\n",
    "from operators import div, Δ, D, mdotb, bdotm, mdotm, bdotb, m, p, H, cat\n",
    "from DGM import DGMPIASolver, DeepPDESolver\n",
    "from pdes import HBJ, PDE\n",
    "from scipy.integrate import quad\n",
    "from plotly.subplots import make_subplots\n",
    "from configs import CONFIG_HBJS as MODEL_CONFIG\n",
    "from FBSDEs import FBSDESolver\n",
    "from pdes import FBSDE\n",
    "from sampling import PATH_SPACES\n",
    "import os\n",
    "import torch.distributions as D"
   ]
  },
  {
   "cell_type": "code",
   "execution_count": null,
   "id": "widespread-background",
   "metadata": {},
   "outputs": [],
   "source": [
    "rates = 1\n",
    "exp = torch.poisson(torch.ones(10, 5))\n",
    "exp"
   ]
  },
  {
   "cell_type": "code",
   "execution_count": null,
   "id": "roman-arrangement",
   "metadata": {},
   "outputs": [],
   "source": [
    "batch_size = 32\n",
    "var_dim = 30\n",
    "def sampling(var, domain=(-1, 1)):\n",
    "    rates = 0.4\n",
    "    exp = D.exponential.Exponential(rates)\n",
    "    #means_clusters = torch.clamp(torch.round(exp.sample((var[-1].shape[0], var_dim))), min=0, max=var_dim-1).long()\n",
    "    means_clusters = torch.randint(1, var_dim, size=(var[-1].shape[0], var_dim))\n",
    "    bias = ((torch.rand((var[-1].shape[0], 1)))-0.5)*0.4\n",
    "    means = (torch.rand((var[-1].shape[0], var_dim))-0.5)*1.6 + bias\n",
    "    samples = []\n",
    "    for i in range(len(var)):\n",
    "        m = means.gather(-1, means_clusters[:, None, i])\n",
    "        b = torch.min(torch.abs(m-domain[0]), torch.abs(m-domain[1]))\n",
    "        c = torch.rand((var[-1].shape[0], 1))\n",
    "        samples.append((var[i]-0.5)*torch.min(c, b) + m)\n",
    "        # need gap between\n",
    "    return samples"
   ]
  },
  {
   "cell_type": "code",
   "execution_count": null,
   "id": "powerful-shuttle",
   "metadata": {},
   "outputs": [],
   "source": [
    "samples = [torch.zeros(size=(batch_size, 1)).uniform_() for _ in range(var_dim)]\n",
    "samples = torch.cat(sampling(samples), dim=-1).numpy()"
   ]
  },
  {
   "cell_type": "code",
   "execution_count": null,
   "id": "annoying-implement",
   "metadata": {},
   "outputs": [],
   "source": [
    "fig = make_subplots(rows=1, cols=1)\n",
    "for i in range(samples.shape[0]):\n",
    "    fig.add_trace(go.Scatter(x=samples[i].flatten(), y=np.ones(var_dim)*i,\n",
    "                         mode='markers', marker=dict(color='SkyBlue', size=10), showlegend=False), row=1, col=1)\n",
    "    fig.add_trace(go.Scatter(x=[np.mean(samples[i].flatten())], y=np.ones(var_dim)*i,\n",
    "                         mode='markers', marker=dict(color='red', size=10), showlegend=False), row=1, col=1)\n",
    "fig.update_layout(\n",
    "    title=\"Opinion distribution\",\n",
    "    xaxis_title=\"X\",\n",
    "    yaxis_title=\"Num\",\n",
    "    font=dict(\n",
    "        family=\"Courier New, monospace\",\n",
    "        size=14\n",
    "    )\n",
    ")\n",
    "fig.show()"
   ]
  },
  {
   "cell_type": "code",
   "execution_count": null,
   "id": "common-morris",
   "metadata": {},
   "outputs": [],
   "source": [
    "samples = [(torch.zeros(size=(batch_size, 1)).uniform_()-0.5)*2 for _ in range(var_dim)]\n",
    "samples = torch.cat(samples, dim=-1).numpy()"
   ]
  },
  {
   "cell_type": "code",
   "execution_count": null,
   "id": "incoming-plaza",
   "metadata": {},
   "outputs": [],
   "source": [
    "fig = make_subplots(rows=1, cols=1)\n",
    "for i in range(samples.shape[0]):\n",
    "    fig.add_trace(go.Scatter(x=samples[i].flatten(), y=np.ones(var_dim)*i,\n",
    "                         mode='markers', marker=dict(color='SkyBlue', size=10), showlegend=False), row=1, col=1)\n",
    "    fig.add_trace(go.Scatter(x=[np.mean(samples[i].flatten())], y=np.ones(var_dim)*i,\n",
    "                         mode='markers', marker=dict(color='red', size=10), showlegend=False), row=1, col=1)\n",
    "fig.update_layout(\n",
    "    title=\"Opinion distribution\",\n",
    "    xaxis_title=\"X\",\n",
    "    yaxis_title=\"Num\",\n",
    "    font=dict(\n",
    "        family=\"Courier New, monospace\",\n",
    "        size=14\n",
    "    )\n",
    ")\n",
    "fig.show()"
   ]
  },
  {
   "cell_type": "code",
   "execution_count": null,
   "id": "billion-episode",
   "metadata": {},
   "outputs": [],
   "source": [
    "mix = D.Categorical(torch.rand(5,))\n",
    "comp = D.Independent(D.Normal(\n",
    "            torch.randn(5, var_dim), torch.rand(5, var_dim)), 1)\n",
    "gmm = D.MixtureSameFamily(mix, comp)"
   ]
  },
  {
   "cell_type": "code",
   "execution_count": null,
   "id": "solid-guide",
   "metadata": {},
   "outputs": [],
   "source": [
    "def sampm():\n",
    "    mix = D.Categorical(torch.rand(10,))\n",
    "    comp = D.Independent(D.Normal(torch.randn(10, var_dim)*0.1 + torch.rand(10, var_dim)-0.5, torch.rand(10, var_dim)), 1)\n",
    "    gmm = D.MixtureSameFamily(mix, comp)\n",
    "    return gmm.sample(sample_shape=torch.Size([batch_size]))"
   ]
  },
  {
   "cell_type": "code",
   "execution_count": null,
   "id": "victorian-affair",
   "metadata": {},
   "outputs": [],
   "source": [
    "samples = sampm().numpy()"
   ]
  },
  {
   "cell_type": "code",
   "execution_count": null,
   "id": "confident-exercise",
   "metadata": {},
   "outputs": [],
   "source": [
    "fig = make_subplots(rows=1, cols=1)\n",
    "for i in range(samples.shape[0]):\n",
    "    fig.add_trace(go.Scatter(x=samples[i].flatten(), y=np.ones(var_dim)*i,\n",
    "                         mode='markers', marker=dict(color='SkyBlue', size=10), showlegend=False), row=1, col=1)\n",
    "    fig.add_trace(go.Scatter(x=[np.mean(samples[i].flatten())], y=np.ones(var_dim)*i,\n",
    "                         mode='markers', marker=dict(color='red', size=10), showlegend=False), row=1, col=1)\n",
    "fig.update_layout(\n",
    "    title=\"Opinion distribution\",\n",
    "    xaxis_title=\"X\",\n",
    "    yaxis_title=\"Num\",\n",
    "    font=dict(\n",
    "        family=\"Courier New, monospace\",\n",
    "        size=14\n",
    "    )\n",
    ")\n",
    "fig.show()"
   ]
  },
  {
   "cell_type": "code",
   "execution_count": null,
   "id": "bulgarian-comedy",
   "metadata": {},
   "outputs": [],
   "source": [
    "batch_size = 32\n",
    "var_dim = 5\n",
    "def sampling(var, domain=(-1, 1)):\n",
    "    exp = D.Gamma(2, 6)\n",
    "    means_clusters = torch.clamp(torch.round(exp.sample((var[-1].shape[0], var_dim))), min=0, max=var_dim-1).long()\n",
    "    #means_clusters = torch.randint(1, var_dim, size=(var[-1].shape[0], var_dim))\n",
    "    means = (torch.rand((var[-1].shape[0], var_dim))-0.5)*2\n",
    "    samples = []\n",
    "    for i in range(len(var)):\n",
    "        m = means.gather(-1, means_clusters[:, None, i])\n",
    "        b = torch.min(torch.abs(m-domain[0]), torch.abs(m-domain[1]))\n",
    "        c = torch.rand((var[-1].shape[0], 1))\n",
    "        samples.append((var[i]-0.5)*torch.min(c, b) + m)\n",
    "        # need gap between\n",
    "    return samples"
   ]
  },
  {
   "cell_type": "code",
   "execution_count": null,
   "id": "technical-beast",
   "metadata": {},
   "outputs": [],
   "source": [
    "samples = [torch.zeros(size=(batch_size, 1)).uniform_() for _ in range(var_dim)]\n",
    "samples = torch.cat(sampling(samples), dim=-1).numpy()"
   ]
  },
  {
   "cell_type": "code",
   "execution_count": null,
   "id": "stopped-continuity",
   "metadata": {},
   "outputs": [],
   "source": [
    "fig = make_subplots(rows=1, cols=1)\n",
    "for i in range(samples.shape[0]):\n",
    "    fig.add_trace(go.Scatter(x=samples[i].flatten(), y=np.ones(var_dim)*i,\n",
    "                         mode='markers', marker=dict(color='SkyBlue', size=10), showlegend=False), row=1, col=1)\n",
    "    fig.add_trace(go.Scatter(x=[np.mean(samples[i].flatten())], y=np.ones(var_dim)*i,\n",
    "                         mode='markers', marker=dict(color='red', size=10), showlegend=False), row=1, col=1)\n",
    "fig.update_layout(\n",
    "    title=\"Opinion distribution\",\n",
    "    xaxis_title=\"X\",\n",
    "    yaxis_title=\"Num\",\n",
    "    font=dict(\n",
    "        family=\"Courier New, monospace\",\n",
    "        size=14\n",
    "    )\n",
    ")\n",
    "fig.show()"
   ]
  },
  {
   "cell_type": "code",
   "execution_count": null,
   "id": "horizontal-impact",
   "metadata": {},
   "outputs": [],
   "source": [
    "def plot_opinions(T):\n",
    "    n = 100\n",
    "    N = 5\n",
    "    def sde_sum(X):\n",
    "        return eq.beta*(1-X**2)*(sum(X)/N-X)\n",
    "    c_xs = np.zeros((N, n))\n",
    "    c_xs[:int(2*N/5), 0] = (np.random.randn(int(2*N/5))*0.1 -0.7).clip(-0.8, -0.6)\n",
    "    c_xs[int(2*N/5):int(3*N/5), 0] = (np.random.randn(int(1*N/5))*0.2 +0.75).clip(0.6, 0.9)\n",
    "    c_xs[int(3*N/5):, 0] = (np.random.randn(int(2*N/5))*0.2 -0.25).clip(-0.4, -0.1)\n",
    "    dt = 1/n\n",
    "    ts = [t for t in np.linspace(0, T, n)]\n",
    "    for i in range(n-1):\n",
    "        dW = np.sqrt(dt)*np.random.randn(N, 1)\n",
    "        c = -(1/eq.gamma)*np.expand_dims(solver.D_u(*[c_xs[j, i] for j in range(N)], i*dt), axis=1)\n",
    "        c_xs[:, None, i+1] = c_xs[:, None, i] + sde_sum(c_xs[:, None, i])*dt + np.sqrt(2*eq.sigma)*dW + c*dt\n",
    "     \n",
    "    return c_xs"
   ]
  },
  {
   "cell_type": "code",
   "execution_count": null,
   "id": "cross-orange",
   "metadata": {},
   "outputs": [],
   "source": [
    "samples"
   ]
  },
  {
   "cell_type": "code",
   "execution_count": null,
   "id": "plastic-analyst",
   "metadata": {},
   "outputs": [],
   "source": []
  }
 ],
 "metadata": {
  "kernelspec": {
   "display_name": "Python 3",
   "language": "python",
   "name": "python3"
  },
  "language_info": {
   "codemirror_mode": {
    "name": "ipython",
    "version": 3
   },
   "file_extension": ".py",
   "mimetype": "text/x-python",
   "name": "python",
   "nbconvert_exporter": "python",
   "pygments_lexer": "ipython3",
   "version": "3.8.5"
  }
 },
 "nbformat": 4,
 "nbformat_minor": 5
}
